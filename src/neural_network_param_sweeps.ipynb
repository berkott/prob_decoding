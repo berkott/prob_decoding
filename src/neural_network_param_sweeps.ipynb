{
 "cells": [
  {
   "cell_type": "markdown",
   "metadata": {},
   "source": [
    "# Neural Network Model"
   ]
  },
  {
   "cell_type": "code",
   "execution_count": 40,
   "metadata": {},
   "outputs": [],
   "source": [
    "import numpy as np\n",
    "import torch\n",
    "import plotly.graph_objects as go\n",
    "\n",
    "from models.reduced_rank_model import ReducedRankModel\n",
    "from models.neural_network import NeuralNetworkModel\n",
    "from utils.get_data import get_data, get_test_train_data\n",
    "from utils.evaluation import evaluate_recording\n",
    "from utils.training import train_one_epoch\n",
    "\n",
    "DATA_PATH = 'raw_data/full_data/'\n",
    "\n",
    "TOTAL_RECORDINGS = 5\n",
    "RECORDING_IDS = np.arange(TOTAL_RECORDINGS)\n",
    "RECORDING_IDS = [3, 101, 72, 110, 59]\n",
    "TRAIN_SPLIT = 0.8\n",
    "TRAINING_ITERATIONS = 2001\n",
    "RANK = 16\n",
    "MEAN_SUBTRACTED = True\n",
    "MODEL = \"neural_network\"\n",
    "# MODEL = \"reduced_rank\""
   ]
  },
  {
   "cell_type": "code",
   "execution_count": 41,
   "metadata": {},
   "outputs": [],
   "source": [
    "X_list, Y_list = get_data(DATA_PATH, RECORDING_IDS)\n",
    "X_train, X_test, Y_train_regular, Y_test_regular, Y_train_mean_subtracted, Y_test_mean_subtracted = get_test_train_data(X_list, Y_list, TRAIN_SPLIT)\n",
    "\n",
    "if MEAN_SUBTRACTED:\n",
    "    Y_train = Y_train_mean_subtracted\n",
    "    Y_test = Y_test_mean_subtracted\n",
    "else:\n",
    "    Y_train = Y_train_regular\n",
    "    Y_test = Y_test_regular"
   ]
  },
  {
   "cell_type": "code",
   "execution_count": 42,
   "metadata": {},
   "outputs": [
    {
     "name": "stdout",
     "output_type": "stream",
     "text": [
      "(295, 211, 40)\n"
     ]
    }
   ],
   "source": [
    "print(X_train[0].shape)"
   ]
  },
  {
   "cell_type": "code",
   "execution_count": 43,
   "metadata": {},
   "outputs": [
    {
     "data": {
      "application/vnd.plotly.v1+json": {
       "config": {
        "plotlyServerURL": "https://plot.ly"
       },
       "data": [
        {
         "name": "Original",
         "type": "scatter",
         "y": [
          0,
          0,
          0,
          0,
          0,
          0,
          0.009858272048754058,
          0,
          0,
          0.08732060398260362,
          0.6817867915797813,
          1.9924220459221165,
          2.749199443252846,
          1.580427404611694,
          0.5251815004040375,
          2.560772493919398,
          2.631658239471765,
          1.261175481807498,
          0.6794555683732156,
          0.5139211819669949,
          0.24581508117387277,
          0.21546235412430748,
          0.13154377793210412,
          0.2305857322086666,
          0.19922778386334097,
          0.15157747453927647,
          0.27593427530835346,
          0.17605790773564947,
          0.06053415502663597,
          0.0532791719182444,
          0.014356345020819469,
          0.054694965255841346,
          0.15256513258137153,
          0.38771246828276684,
          0.018617380520072814,
          0.16654115199706326,
          0.005049747786586227,
          0.17344413546853588,
          0.01086624533297851,
          0.14584906161940267
         ]
        },
        {
         "name": "Mean Subtracted",
         "type": "scatter",
         "y": [
          -0.016872581739374563,
          -0.011354706812296562,
          -0.008491488439081351,
          -0.007374370407070444,
          -0.006450573701488257,
          -0.005968904047723909,
          0.0016428698704729298,
          -0.01089692322360382,
          -0.01691206900442338,
          -0.0326449066630633,
          0.1163285265216415,
          0.6795765711999213,
          0.9103214938953654,
          -0.4379341309150935,
          -1.558941433636146,
          0.2788565222543218,
          0.32047201616675336,
          -1.07819319791138,
          -1.6177506073250334,
          -1.7360283823118576,
          -1.9573516187307494,
          -1.7645194599971197,
          -1.658015324017159,
          -1.286482754942732,
          -1.1657434559316304,
          -1.124572039043062,
          -0.8999735294914925,
          -0.8585596078334556,
          -0.935030154851951,
          -0.8653225862257664,
          -0.9405344823486359,
          -0.9071471174137784,
          -0.7938114054617217,
          -0.5906906713978425,
          -0.9731785207635768,
          -0.8027262013200471,
          -0.851507621059992,
          -0.7128720886111616,
          -0.8734343164283792,
          -0.779057007664117
         ]
        }
       ],
       "layout": {
        "template": {
         "data": {
          "bar": [
           {
            "error_x": {
             "color": "#2a3f5f"
            },
            "error_y": {
             "color": "#2a3f5f"
            },
            "marker": {
             "line": {
              "color": "#E5ECF6",
              "width": 0.5
             },
             "pattern": {
              "fillmode": "overlay",
              "size": 10,
              "solidity": 0.2
             }
            },
            "type": "bar"
           }
          ],
          "barpolar": [
           {
            "marker": {
             "line": {
              "color": "#E5ECF6",
              "width": 0.5
             },
             "pattern": {
              "fillmode": "overlay",
              "size": 10,
              "solidity": 0.2
             }
            },
            "type": "barpolar"
           }
          ],
          "carpet": [
           {
            "aaxis": {
             "endlinecolor": "#2a3f5f",
             "gridcolor": "white",
             "linecolor": "white",
             "minorgridcolor": "white",
             "startlinecolor": "#2a3f5f"
            },
            "baxis": {
             "endlinecolor": "#2a3f5f",
             "gridcolor": "white",
             "linecolor": "white",
             "minorgridcolor": "white",
             "startlinecolor": "#2a3f5f"
            },
            "type": "carpet"
           }
          ],
          "choropleth": [
           {
            "colorbar": {
             "outlinewidth": 0,
             "ticks": ""
            },
            "type": "choropleth"
           }
          ],
          "contour": [
           {
            "colorbar": {
             "outlinewidth": 0,
             "ticks": ""
            },
            "colorscale": [
             [
              0,
              "#0d0887"
             ],
             [
              0.1111111111111111,
              "#46039f"
             ],
             [
              0.2222222222222222,
              "#7201a8"
             ],
             [
              0.3333333333333333,
              "#9c179e"
             ],
             [
              0.4444444444444444,
              "#bd3786"
             ],
             [
              0.5555555555555556,
              "#d8576b"
             ],
             [
              0.6666666666666666,
              "#ed7953"
             ],
             [
              0.7777777777777778,
              "#fb9f3a"
             ],
             [
              0.8888888888888888,
              "#fdca26"
             ],
             [
              1,
              "#f0f921"
             ]
            ],
            "type": "contour"
           }
          ],
          "contourcarpet": [
           {
            "colorbar": {
             "outlinewidth": 0,
             "ticks": ""
            },
            "type": "contourcarpet"
           }
          ],
          "heatmap": [
           {
            "colorbar": {
             "outlinewidth": 0,
             "ticks": ""
            },
            "colorscale": [
             [
              0,
              "#0d0887"
             ],
             [
              0.1111111111111111,
              "#46039f"
             ],
             [
              0.2222222222222222,
              "#7201a8"
             ],
             [
              0.3333333333333333,
              "#9c179e"
             ],
             [
              0.4444444444444444,
              "#bd3786"
             ],
             [
              0.5555555555555556,
              "#d8576b"
             ],
             [
              0.6666666666666666,
              "#ed7953"
             ],
             [
              0.7777777777777778,
              "#fb9f3a"
             ],
             [
              0.8888888888888888,
              "#fdca26"
             ],
             [
              1,
              "#f0f921"
             ]
            ],
            "type": "heatmap"
           }
          ],
          "heatmapgl": [
           {
            "colorbar": {
             "outlinewidth": 0,
             "ticks": ""
            },
            "colorscale": [
             [
              0,
              "#0d0887"
             ],
             [
              0.1111111111111111,
              "#46039f"
             ],
             [
              0.2222222222222222,
              "#7201a8"
             ],
             [
              0.3333333333333333,
              "#9c179e"
             ],
             [
              0.4444444444444444,
              "#bd3786"
             ],
             [
              0.5555555555555556,
              "#d8576b"
             ],
             [
              0.6666666666666666,
              "#ed7953"
             ],
             [
              0.7777777777777778,
              "#fb9f3a"
             ],
             [
              0.8888888888888888,
              "#fdca26"
             ],
             [
              1,
              "#f0f921"
             ]
            ],
            "type": "heatmapgl"
           }
          ],
          "histogram": [
           {
            "marker": {
             "pattern": {
              "fillmode": "overlay",
              "size": 10,
              "solidity": 0.2
             }
            },
            "type": "histogram"
           }
          ],
          "histogram2d": [
           {
            "colorbar": {
             "outlinewidth": 0,
             "ticks": ""
            },
            "colorscale": [
             [
              0,
              "#0d0887"
             ],
             [
              0.1111111111111111,
              "#46039f"
             ],
             [
              0.2222222222222222,
              "#7201a8"
             ],
             [
              0.3333333333333333,
              "#9c179e"
             ],
             [
              0.4444444444444444,
              "#bd3786"
             ],
             [
              0.5555555555555556,
              "#d8576b"
             ],
             [
              0.6666666666666666,
              "#ed7953"
             ],
             [
              0.7777777777777778,
              "#fb9f3a"
             ],
             [
              0.8888888888888888,
              "#fdca26"
             ],
             [
              1,
              "#f0f921"
             ]
            ],
            "type": "histogram2d"
           }
          ],
          "histogram2dcontour": [
           {
            "colorbar": {
             "outlinewidth": 0,
             "ticks": ""
            },
            "colorscale": [
             [
              0,
              "#0d0887"
             ],
             [
              0.1111111111111111,
              "#46039f"
             ],
             [
              0.2222222222222222,
              "#7201a8"
             ],
             [
              0.3333333333333333,
              "#9c179e"
             ],
             [
              0.4444444444444444,
              "#bd3786"
             ],
             [
              0.5555555555555556,
              "#d8576b"
             ],
             [
              0.6666666666666666,
              "#ed7953"
             ],
             [
              0.7777777777777778,
              "#fb9f3a"
             ],
             [
              0.8888888888888888,
              "#fdca26"
             ],
             [
              1,
              "#f0f921"
             ]
            ],
            "type": "histogram2dcontour"
           }
          ],
          "mesh3d": [
           {
            "colorbar": {
             "outlinewidth": 0,
             "ticks": ""
            },
            "type": "mesh3d"
           }
          ],
          "parcoords": [
           {
            "line": {
             "colorbar": {
              "outlinewidth": 0,
              "ticks": ""
             }
            },
            "type": "parcoords"
           }
          ],
          "pie": [
           {
            "automargin": true,
            "type": "pie"
           }
          ],
          "scatter": [
           {
            "fillpattern": {
             "fillmode": "overlay",
             "size": 10,
             "solidity": 0.2
            },
            "type": "scatter"
           }
          ],
          "scatter3d": [
           {
            "line": {
             "colorbar": {
              "outlinewidth": 0,
              "ticks": ""
             }
            },
            "marker": {
             "colorbar": {
              "outlinewidth": 0,
              "ticks": ""
             }
            },
            "type": "scatter3d"
           }
          ],
          "scattercarpet": [
           {
            "marker": {
             "colorbar": {
              "outlinewidth": 0,
              "ticks": ""
             }
            },
            "type": "scattercarpet"
           }
          ],
          "scattergeo": [
           {
            "marker": {
             "colorbar": {
              "outlinewidth": 0,
              "ticks": ""
             }
            },
            "type": "scattergeo"
           }
          ],
          "scattergl": [
           {
            "marker": {
             "colorbar": {
              "outlinewidth": 0,
              "ticks": ""
             }
            },
            "type": "scattergl"
           }
          ],
          "scattermapbox": [
           {
            "marker": {
             "colorbar": {
              "outlinewidth": 0,
              "ticks": ""
             }
            },
            "type": "scattermapbox"
           }
          ],
          "scatterpolar": [
           {
            "marker": {
             "colorbar": {
              "outlinewidth": 0,
              "ticks": ""
             }
            },
            "type": "scatterpolar"
           }
          ],
          "scatterpolargl": [
           {
            "marker": {
             "colorbar": {
              "outlinewidth": 0,
              "ticks": ""
             }
            },
            "type": "scatterpolargl"
           }
          ],
          "scatterternary": [
           {
            "marker": {
             "colorbar": {
              "outlinewidth": 0,
              "ticks": ""
             }
            },
            "type": "scatterternary"
           }
          ],
          "surface": [
           {
            "colorbar": {
             "outlinewidth": 0,
             "ticks": ""
            },
            "colorscale": [
             [
              0,
              "#0d0887"
             ],
             [
              0.1111111111111111,
              "#46039f"
             ],
             [
              0.2222222222222222,
              "#7201a8"
             ],
             [
              0.3333333333333333,
              "#9c179e"
             ],
             [
              0.4444444444444444,
              "#bd3786"
             ],
             [
              0.5555555555555556,
              "#d8576b"
             ],
             [
              0.6666666666666666,
              "#ed7953"
             ],
             [
              0.7777777777777778,
              "#fb9f3a"
             ],
             [
              0.8888888888888888,
              "#fdca26"
             ],
             [
              1,
              "#f0f921"
             ]
            ],
            "type": "surface"
           }
          ],
          "table": [
           {
            "cells": {
             "fill": {
              "color": "#EBF0F8"
             },
             "line": {
              "color": "white"
             }
            },
            "header": {
             "fill": {
              "color": "#C8D4E3"
             },
             "line": {
              "color": "white"
             }
            },
            "type": "table"
           }
          ]
         },
         "layout": {
          "annotationdefaults": {
           "arrowcolor": "#2a3f5f",
           "arrowhead": 0,
           "arrowwidth": 1
          },
          "autotypenumbers": "strict",
          "coloraxis": {
           "colorbar": {
            "outlinewidth": 0,
            "ticks": ""
           }
          },
          "colorscale": {
           "diverging": [
            [
             0,
             "#8e0152"
            ],
            [
             0.1,
             "#c51b7d"
            ],
            [
             0.2,
             "#de77ae"
            ],
            [
             0.3,
             "#f1b6da"
            ],
            [
             0.4,
             "#fde0ef"
            ],
            [
             0.5,
             "#f7f7f7"
            ],
            [
             0.6,
             "#e6f5d0"
            ],
            [
             0.7,
             "#b8e186"
            ],
            [
             0.8,
             "#7fbc41"
            ],
            [
             0.9,
             "#4d9221"
            ],
            [
             1,
             "#276419"
            ]
           ],
           "sequential": [
            [
             0,
             "#0d0887"
            ],
            [
             0.1111111111111111,
             "#46039f"
            ],
            [
             0.2222222222222222,
             "#7201a8"
            ],
            [
             0.3333333333333333,
             "#9c179e"
            ],
            [
             0.4444444444444444,
             "#bd3786"
            ],
            [
             0.5555555555555556,
             "#d8576b"
            ],
            [
             0.6666666666666666,
             "#ed7953"
            ],
            [
             0.7777777777777778,
             "#fb9f3a"
            ],
            [
             0.8888888888888888,
             "#fdca26"
            ],
            [
             1,
             "#f0f921"
            ]
           ],
           "sequentialminus": [
            [
             0,
             "#0d0887"
            ],
            [
             0.1111111111111111,
             "#46039f"
            ],
            [
             0.2222222222222222,
             "#7201a8"
            ],
            [
             0.3333333333333333,
             "#9c179e"
            ],
            [
             0.4444444444444444,
             "#bd3786"
            ],
            [
             0.5555555555555556,
             "#d8576b"
            ],
            [
             0.6666666666666666,
             "#ed7953"
            ],
            [
             0.7777777777777778,
             "#fb9f3a"
            ],
            [
             0.8888888888888888,
             "#fdca26"
            ],
            [
             1,
             "#f0f921"
            ]
           ]
          },
          "colorway": [
           "#636efa",
           "#EF553B",
           "#00cc96",
           "#ab63fa",
           "#FFA15A",
           "#19d3f3",
           "#FF6692",
           "#B6E880",
           "#FF97FF",
           "#FECB52"
          ],
          "font": {
           "color": "#2a3f5f"
          },
          "geo": {
           "bgcolor": "white",
           "lakecolor": "white",
           "landcolor": "#E5ECF6",
           "showlakes": true,
           "showland": true,
           "subunitcolor": "white"
          },
          "hoverlabel": {
           "align": "left"
          },
          "hovermode": "closest",
          "mapbox": {
           "style": "light"
          },
          "paper_bgcolor": "white",
          "plot_bgcolor": "#E5ECF6",
          "polar": {
           "angularaxis": {
            "gridcolor": "white",
            "linecolor": "white",
            "ticks": ""
           },
           "bgcolor": "#E5ECF6",
           "radialaxis": {
            "gridcolor": "white",
            "linecolor": "white",
            "ticks": ""
           }
          },
          "scene": {
           "xaxis": {
            "backgroundcolor": "#E5ECF6",
            "gridcolor": "white",
            "gridwidth": 2,
            "linecolor": "white",
            "showbackground": true,
            "ticks": "",
            "zerolinecolor": "white"
           },
           "yaxis": {
            "backgroundcolor": "#E5ECF6",
            "gridcolor": "white",
            "gridwidth": 2,
            "linecolor": "white",
            "showbackground": true,
            "ticks": "",
            "zerolinecolor": "white"
           },
           "zaxis": {
            "backgroundcolor": "#E5ECF6",
            "gridcolor": "white",
            "gridwidth": 2,
            "linecolor": "white",
            "showbackground": true,
            "ticks": "",
            "zerolinecolor": "white"
           }
          },
          "shapedefaults": {
           "line": {
            "color": "#2a3f5f"
           }
          },
          "ternary": {
           "aaxis": {
            "gridcolor": "white",
            "linecolor": "white",
            "ticks": ""
           },
           "baxis": {
            "gridcolor": "white",
            "linecolor": "white",
            "ticks": ""
           },
           "bgcolor": "#E5ECF6",
           "caxis": {
            "gridcolor": "white",
            "linecolor": "white",
            "ticks": ""
           }
          },
          "title": {
           "x": 0.05
          },
          "xaxis": {
           "automargin": true,
           "gridcolor": "white",
           "linecolor": "white",
           "ticks": "",
           "title": {
            "standoff": 15
           },
           "zerolinecolor": "white",
           "zerolinewidth": 2
          },
          "yaxis": {
           "automargin": true,
           "gridcolor": "white",
           "linecolor": "white",
           "ticks": "",
           "title": {
            "standoff": 15
           },
           "zerolinecolor": "white",
           "zerolinewidth": 2
          }
         }
        },
        "title": {
         "text": "Original and Mean Subtracted Wheel Speeds, Recording 0, Trial 0"
        },
        "xaxis": {
         "title": {
          "text": "Time"
         }
        },
        "yaxis": {
         "title": {
          "text": "Value"
         }
        }
       }
      }
     },
     "metadata": {},
     "output_type": "display_data"
    },
    {
     "data": {
      "application/vnd.plotly.v1+json": {
       "config": {
        "plotlyServerURL": "https://plot.ly"
       },
       "data": [
        {
         "name": "Original",
         "type": "scatter",
         "y": [
          0.004349936138950367,
          0,
          0,
          0,
          0,
          0,
          0,
          0.00927997639462838,
          0,
          0.12635488194336902,
          0.6594928540427811,
          0.79192129819708,
          0.49360828268444645,
          1.6467758246864328,
          2.304101838423604,
          1.9407721715279809,
          0.7393664964717923,
          3.7862386102583825,
          4.097355571319033,
          2.7552340952928733,
          0.04052385847515739,
          0.7237409853506844,
          0.5202550343698628,
          1.0620253733758223,
          2.0255830360288294,
          1.7726826127071622,
          0.5672172394178462,
          0.07445307133572449,
          0.3281879454969735,
          1.0407380248819644,
          1.7192794289417481,
          2.704253458727495,
          4.900201588309116,
          6.229498032310698,
          6.209478010795434,
          4.151576171676752,
          0.08735303541424823,
          1.9356529312561785,
          1.0031700229665825,
          0.9349879652204853
         ]
        },
        {
         "name": "Mean Subtracted",
         "type": "scatter",
         "y": [
          -0.012522645600424195,
          -0.011354706812296562,
          -0.008491488439081351,
          -0.007374370407070444,
          -0.006450573701488257,
          -0.005968904047723909,
          -0.008215402178281128,
          -0.0016169468289754397,
          -0.01691206900442338,
          0.006389371297702104,
          0.09403458898464134,
          -0.5209241765251151,
          -1.3452696666730342,
          -0.37158571084035463,
          0.21997890438342038,
          -0.3411438001370952,
          -1.5718197268332192,
          1.4468699305395045,
          1.8001493956207844,
          0.5052845310140208,
          -2.1626428414294647,
          -1.2562408287707427,
          -1.2693040675794003,
          -0.4550431137755764,
          0.660611796233858,
          0.4965330991248238,
          -0.6086905653819997,
          -0.9601644442333805,
          -0.6673763643816134,
          0.12213626673795364,
          0.7643886015722927,
          1.7424113760578752,
          3.953825050266023,
          5.251094892630088,
          5.2176821095117845,
          3.182308818359642,
          -0.76920433343233,
          1.0493367071764812,
          0.11886946120522479,
          0.010081895936965624
         ]
        }
       ],
       "layout": {
        "template": {
         "data": {
          "bar": [
           {
            "error_x": {
             "color": "#2a3f5f"
            },
            "error_y": {
             "color": "#2a3f5f"
            },
            "marker": {
             "line": {
              "color": "#E5ECF6",
              "width": 0.5
             },
             "pattern": {
              "fillmode": "overlay",
              "size": 10,
              "solidity": 0.2
             }
            },
            "type": "bar"
           }
          ],
          "barpolar": [
           {
            "marker": {
             "line": {
              "color": "#E5ECF6",
              "width": 0.5
             },
             "pattern": {
              "fillmode": "overlay",
              "size": 10,
              "solidity": 0.2
             }
            },
            "type": "barpolar"
           }
          ],
          "carpet": [
           {
            "aaxis": {
             "endlinecolor": "#2a3f5f",
             "gridcolor": "white",
             "linecolor": "white",
             "minorgridcolor": "white",
             "startlinecolor": "#2a3f5f"
            },
            "baxis": {
             "endlinecolor": "#2a3f5f",
             "gridcolor": "white",
             "linecolor": "white",
             "minorgridcolor": "white",
             "startlinecolor": "#2a3f5f"
            },
            "type": "carpet"
           }
          ],
          "choropleth": [
           {
            "colorbar": {
             "outlinewidth": 0,
             "ticks": ""
            },
            "type": "choropleth"
           }
          ],
          "contour": [
           {
            "colorbar": {
             "outlinewidth": 0,
             "ticks": ""
            },
            "colorscale": [
             [
              0,
              "#0d0887"
             ],
             [
              0.1111111111111111,
              "#46039f"
             ],
             [
              0.2222222222222222,
              "#7201a8"
             ],
             [
              0.3333333333333333,
              "#9c179e"
             ],
             [
              0.4444444444444444,
              "#bd3786"
             ],
             [
              0.5555555555555556,
              "#d8576b"
             ],
             [
              0.6666666666666666,
              "#ed7953"
             ],
             [
              0.7777777777777778,
              "#fb9f3a"
             ],
             [
              0.8888888888888888,
              "#fdca26"
             ],
             [
              1,
              "#f0f921"
             ]
            ],
            "type": "contour"
           }
          ],
          "contourcarpet": [
           {
            "colorbar": {
             "outlinewidth": 0,
             "ticks": ""
            },
            "type": "contourcarpet"
           }
          ],
          "heatmap": [
           {
            "colorbar": {
             "outlinewidth": 0,
             "ticks": ""
            },
            "colorscale": [
             [
              0,
              "#0d0887"
             ],
             [
              0.1111111111111111,
              "#46039f"
             ],
             [
              0.2222222222222222,
              "#7201a8"
             ],
             [
              0.3333333333333333,
              "#9c179e"
             ],
             [
              0.4444444444444444,
              "#bd3786"
             ],
             [
              0.5555555555555556,
              "#d8576b"
             ],
             [
              0.6666666666666666,
              "#ed7953"
             ],
             [
              0.7777777777777778,
              "#fb9f3a"
             ],
             [
              0.8888888888888888,
              "#fdca26"
             ],
             [
              1,
              "#f0f921"
             ]
            ],
            "type": "heatmap"
           }
          ],
          "heatmapgl": [
           {
            "colorbar": {
             "outlinewidth": 0,
             "ticks": ""
            },
            "colorscale": [
             [
              0,
              "#0d0887"
             ],
             [
              0.1111111111111111,
              "#46039f"
             ],
             [
              0.2222222222222222,
              "#7201a8"
             ],
             [
              0.3333333333333333,
              "#9c179e"
             ],
             [
              0.4444444444444444,
              "#bd3786"
             ],
             [
              0.5555555555555556,
              "#d8576b"
             ],
             [
              0.6666666666666666,
              "#ed7953"
             ],
             [
              0.7777777777777778,
              "#fb9f3a"
             ],
             [
              0.8888888888888888,
              "#fdca26"
             ],
             [
              1,
              "#f0f921"
             ]
            ],
            "type": "heatmapgl"
           }
          ],
          "histogram": [
           {
            "marker": {
             "pattern": {
              "fillmode": "overlay",
              "size": 10,
              "solidity": 0.2
             }
            },
            "type": "histogram"
           }
          ],
          "histogram2d": [
           {
            "colorbar": {
             "outlinewidth": 0,
             "ticks": ""
            },
            "colorscale": [
             [
              0,
              "#0d0887"
             ],
             [
              0.1111111111111111,
              "#46039f"
             ],
             [
              0.2222222222222222,
              "#7201a8"
             ],
             [
              0.3333333333333333,
              "#9c179e"
             ],
             [
              0.4444444444444444,
              "#bd3786"
             ],
             [
              0.5555555555555556,
              "#d8576b"
             ],
             [
              0.6666666666666666,
              "#ed7953"
             ],
             [
              0.7777777777777778,
              "#fb9f3a"
             ],
             [
              0.8888888888888888,
              "#fdca26"
             ],
             [
              1,
              "#f0f921"
             ]
            ],
            "type": "histogram2d"
           }
          ],
          "histogram2dcontour": [
           {
            "colorbar": {
             "outlinewidth": 0,
             "ticks": ""
            },
            "colorscale": [
             [
              0,
              "#0d0887"
             ],
             [
              0.1111111111111111,
              "#46039f"
             ],
             [
              0.2222222222222222,
              "#7201a8"
             ],
             [
              0.3333333333333333,
              "#9c179e"
             ],
             [
              0.4444444444444444,
              "#bd3786"
             ],
             [
              0.5555555555555556,
              "#d8576b"
             ],
             [
              0.6666666666666666,
              "#ed7953"
             ],
             [
              0.7777777777777778,
              "#fb9f3a"
             ],
             [
              0.8888888888888888,
              "#fdca26"
             ],
             [
              1,
              "#f0f921"
             ]
            ],
            "type": "histogram2dcontour"
           }
          ],
          "mesh3d": [
           {
            "colorbar": {
             "outlinewidth": 0,
             "ticks": ""
            },
            "type": "mesh3d"
           }
          ],
          "parcoords": [
           {
            "line": {
             "colorbar": {
              "outlinewidth": 0,
              "ticks": ""
             }
            },
            "type": "parcoords"
           }
          ],
          "pie": [
           {
            "automargin": true,
            "type": "pie"
           }
          ],
          "scatter": [
           {
            "fillpattern": {
             "fillmode": "overlay",
             "size": 10,
             "solidity": 0.2
            },
            "type": "scatter"
           }
          ],
          "scatter3d": [
           {
            "line": {
             "colorbar": {
              "outlinewidth": 0,
              "ticks": ""
             }
            },
            "marker": {
             "colorbar": {
              "outlinewidth": 0,
              "ticks": ""
             }
            },
            "type": "scatter3d"
           }
          ],
          "scattercarpet": [
           {
            "marker": {
             "colorbar": {
              "outlinewidth": 0,
              "ticks": ""
             }
            },
            "type": "scattercarpet"
           }
          ],
          "scattergeo": [
           {
            "marker": {
             "colorbar": {
              "outlinewidth": 0,
              "ticks": ""
             }
            },
            "type": "scattergeo"
           }
          ],
          "scattergl": [
           {
            "marker": {
             "colorbar": {
              "outlinewidth": 0,
              "ticks": ""
             }
            },
            "type": "scattergl"
           }
          ],
          "scattermapbox": [
           {
            "marker": {
             "colorbar": {
              "outlinewidth": 0,
              "ticks": ""
             }
            },
            "type": "scattermapbox"
           }
          ],
          "scatterpolar": [
           {
            "marker": {
             "colorbar": {
              "outlinewidth": 0,
              "ticks": ""
             }
            },
            "type": "scatterpolar"
           }
          ],
          "scatterpolargl": [
           {
            "marker": {
             "colorbar": {
              "outlinewidth": 0,
              "ticks": ""
             }
            },
            "type": "scatterpolargl"
           }
          ],
          "scatterternary": [
           {
            "marker": {
             "colorbar": {
              "outlinewidth": 0,
              "ticks": ""
             }
            },
            "type": "scatterternary"
           }
          ],
          "surface": [
           {
            "colorbar": {
             "outlinewidth": 0,
             "ticks": ""
            },
            "colorscale": [
             [
              0,
              "#0d0887"
             ],
             [
              0.1111111111111111,
              "#46039f"
             ],
             [
              0.2222222222222222,
              "#7201a8"
             ],
             [
              0.3333333333333333,
              "#9c179e"
             ],
             [
              0.4444444444444444,
              "#bd3786"
             ],
             [
              0.5555555555555556,
              "#d8576b"
             ],
             [
              0.6666666666666666,
              "#ed7953"
             ],
             [
              0.7777777777777778,
              "#fb9f3a"
             ],
             [
              0.8888888888888888,
              "#fdca26"
             ],
             [
              1,
              "#f0f921"
             ]
            ],
            "type": "surface"
           }
          ],
          "table": [
           {
            "cells": {
             "fill": {
              "color": "#EBF0F8"
             },
             "line": {
              "color": "white"
             }
            },
            "header": {
             "fill": {
              "color": "#C8D4E3"
             },
             "line": {
              "color": "white"
             }
            },
            "type": "table"
           }
          ]
         },
         "layout": {
          "annotationdefaults": {
           "arrowcolor": "#2a3f5f",
           "arrowhead": 0,
           "arrowwidth": 1
          },
          "autotypenumbers": "strict",
          "coloraxis": {
           "colorbar": {
            "outlinewidth": 0,
            "ticks": ""
           }
          },
          "colorscale": {
           "diverging": [
            [
             0,
             "#8e0152"
            ],
            [
             0.1,
             "#c51b7d"
            ],
            [
             0.2,
             "#de77ae"
            ],
            [
             0.3,
             "#f1b6da"
            ],
            [
             0.4,
             "#fde0ef"
            ],
            [
             0.5,
             "#f7f7f7"
            ],
            [
             0.6,
             "#e6f5d0"
            ],
            [
             0.7,
             "#b8e186"
            ],
            [
             0.8,
             "#7fbc41"
            ],
            [
             0.9,
             "#4d9221"
            ],
            [
             1,
             "#276419"
            ]
           ],
           "sequential": [
            [
             0,
             "#0d0887"
            ],
            [
             0.1111111111111111,
             "#46039f"
            ],
            [
             0.2222222222222222,
             "#7201a8"
            ],
            [
             0.3333333333333333,
             "#9c179e"
            ],
            [
             0.4444444444444444,
             "#bd3786"
            ],
            [
             0.5555555555555556,
             "#d8576b"
            ],
            [
             0.6666666666666666,
             "#ed7953"
            ],
            [
             0.7777777777777778,
             "#fb9f3a"
            ],
            [
             0.8888888888888888,
             "#fdca26"
            ],
            [
             1,
             "#f0f921"
            ]
           ],
           "sequentialminus": [
            [
             0,
             "#0d0887"
            ],
            [
             0.1111111111111111,
             "#46039f"
            ],
            [
             0.2222222222222222,
             "#7201a8"
            ],
            [
             0.3333333333333333,
             "#9c179e"
            ],
            [
             0.4444444444444444,
             "#bd3786"
            ],
            [
             0.5555555555555556,
             "#d8576b"
            ],
            [
             0.6666666666666666,
             "#ed7953"
            ],
            [
             0.7777777777777778,
             "#fb9f3a"
            ],
            [
             0.8888888888888888,
             "#fdca26"
            ],
            [
             1,
             "#f0f921"
            ]
           ]
          },
          "colorway": [
           "#636efa",
           "#EF553B",
           "#00cc96",
           "#ab63fa",
           "#FFA15A",
           "#19d3f3",
           "#FF6692",
           "#B6E880",
           "#FF97FF",
           "#FECB52"
          ],
          "font": {
           "color": "#2a3f5f"
          },
          "geo": {
           "bgcolor": "white",
           "lakecolor": "white",
           "landcolor": "#E5ECF6",
           "showlakes": true,
           "showland": true,
           "subunitcolor": "white"
          },
          "hoverlabel": {
           "align": "left"
          },
          "hovermode": "closest",
          "mapbox": {
           "style": "light"
          },
          "paper_bgcolor": "white",
          "plot_bgcolor": "#E5ECF6",
          "polar": {
           "angularaxis": {
            "gridcolor": "white",
            "linecolor": "white",
            "ticks": ""
           },
           "bgcolor": "#E5ECF6",
           "radialaxis": {
            "gridcolor": "white",
            "linecolor": "white",
            "ticks": ""
           }
          },
          "scene": {
           "xaxis": {
            "backgroundcolor": "#E5ECF6",
            "gridcolor": "white",
            "gridwidth": 2,
            "linecolor": "white",
            "showbackground": true,
            "ticks": "",
            "zerolinecolor": "white"
           },
           "yaxis": {
            "backgroundcolor": "#E5ECF6",
            "gridcolor": "white",
            "gridwidth": 2,
            "linecolor": "white",
            "showbackground": true,
            "ticks": "",
            "zerolinecolor": "white"
           },
           "zaxis": {
            "backgroundcolor": "#E5ECF6",
            "gridcolor": "white",
            "gridwidth": 2,
            "linecolor": "white",
            "showbackground": true,
            "ticks": "",
            "zerolinecolor": "white"
           }
          },
          "shapedefaults": {
           "line": {
            "color": "#2a3f5f"
           }
          },
          "ternary": {
           "aaxis": {
            "gridcolor": "white",
            "linecolor": "white",
            "ticks": ""
           },
           "baxis": {
            "gridcolor": "white",
            "linecolor": "white",
            "ticks": ""
           },
           "bgcolor": "#E5ECF6",
           "caxis": {
            "gridcolor": "white",
            "linecolor": "white",
            "ticks": ""
           }
          },
          "title": {
           "x": 0.05
          },
          "xaxis": {
           "automargin": true,
           "gridcolor": "white",
           "linecolor": "white",
           "ticks": "",
           "title": {
            "standoff": 15
           },
           "zerolinecolor": "white",
           "zerolinewidth": 2
          },
          "yaxis": {
           "automargin": true,
           "gridcolor": "white",
           "linecolor": "white",
           "ticks": "",
           "title": {
            "standoff": 15
           },
           "zerolinecolor": "white",
           "zerolinewidth": 2
          }
         }
        },
        "title": {
         "text": "Original and Mean Subtracted Wheel Speeds, Recording 0, Trial 1"
        },
        "xaxis": {
         "title": {
          "text": "Time"
         }
        },
        "yaxis": {
         "title": {
          "text": "Value"
         }
        }
       }
      }
     },
     "metadata": {},
     "output_type": "display_data"
    },
    {
     "data": {
      "application/vnd.plotly.v1+json": {
       "config": {
        "plotlyServerURL": "https://plot.ly"
       },
       "data": [
        {
         "name": "Original",
         "type": "scatter",
         "y": [
          0,
          0,
          0,
          0,
          0.00787969781525232,
          0,
          0,
          0,
          0.013853720224774248,
          0.12322770385377117,
          0.3254120765568216,
          1.4864073918171559,
          2.8898750448945068,
          3.0572323985243974,
          2.6365503352768798,
          2.4338787420598758,
          2.1541964583458646,
          1.9135291988505874,
          1.9891477617354856,
          3.0016338834981773,
          3.533764321350941,
          3.4071081247207795,
          3.572449369330507,
          4.714159899153286,
          3.128024325520891,
          2.881880474784283,
          2.184643412972855,
          1.1986298082669269,
          1.3297349986208709,
          0.4223124445306496,
          0.6139669685445402,
          0.7080404582863454,
          2.164501419775456,
          3.46480647044745,
          3.0786382319238537,
          0.9376955799809646,
          1.091741366164965,
          0.922689536752116,
          1.9754990067643134,
          1.7684212809548607
         ]
        },
        {
         "name": "Mean Subtracted",
         "type": "scatter",
         "y": [
          -0.016872581739374563,
          -0.011354706812296562,
          -0.008491488439081351,
          -0.007374370407070444,
          0.0014291241137640636,
          -0.005968904047723909,
          -0.008215402178281128,
          -0.01089692322360382,
          -0.0030583487796491324,
          0.0032621932081042526,
          -0.2400461885013182,
          0.17356191709496072,
          1.0509970955370262,
          1.03887086299761,
          0.5524274012366961,
          0.15196277039479966,
          -0.15698976495914696,
          -0.4258394808682906,
          -0.30805841396276334,
          0.7516843192193248,
          1.3305976214463189,
          1.4271263105993524,
          1.782890267381244,
          3.197091412001887,
          1.7630530857259197,
          1.6057309612019448,
          1.008735608173009,
          0.1640122926978218,
          0.33417068874228395,
          -0.4962893136133612,
          -0.34092385882491516,
          -0.25380162438327436,
          1.218124881732363,
          2.4864033307668407,
          2.086842330640204,
          -0.03157177333614569,
          0.2351839973183869,
          0.0363733126724185,
          1.0911984450029557,
          0.843515211671341
         ]
        }
       ],
       "layout": {
        "template": {
         "data": {
          "bar": [
           {
            "error_x": {
             "color": "#2a3f5f"
            },
            "error_y": {
             "color": "#2a3f5f"
            },
            "marker": {
             "line": {
              "color": "#E5ECF6",
              "width": 0.5
             },
             "pattern": {
              "fillmode": "overlay",
              "size": 10,
              "solidity": 0.2
             }
            },
            "type": "bar"
           }
          ],
          "barpolar": [
           {
            "marker": {
             "line": {
              "color": "#E5ECF6",
              "width": 0.5
             },
             "pattern": {
              "fillmode": "overlay",
              "size": 10,
              "solidity": 0.2
             }
            },
            "type": "barpolar"
           }
          ],
          "carpet": [
           {
            "aaxis": {
             "endlinecolor": "#2a3f5f",
             "gridcolor": "white",
             "linecolor": "white",
             "minorgridcolor": "white",
             "startlinecolor": "#2a3f5f"
            },
            "baxis": {
             "endlinecolor": "#2a3f5f",
             "gridcolor": "white",
             "linecolor": "white",
             "minorgridcolor": "white",
             "startlinecolor": "#2a3f5f"
            },
            "type": "carpet"
           }
          ],
          "choropleth": [
           {
            "colorbar": {
             "outlinewidth": 0,
             "ticks": ""
            },
            "type": "choropleth"
           }
          ],
          "contour": [
           {
            "colorbar": {
             "outlinewidth": 0,
             "ticks": ""
            },
            "colorscale": [
             [
              0,
              "#0d0887"
             ],
             [
              0.1111111111111111,
              "#46039f"
             ],
             [
              0.2222222222222222,
              "#7201a8"
             ],
             [
              0.3333333333333333,
              "#9c179e"
             ],
             [
              0.4444444444444444,
              "#bd3786"
             ],
             [
              0.5555555555555556,
              "#d8576b"
             ],
             [
              0.6666666666666666,
              "#ed7953"
             ],
             [
              0.7777777777777778,
              "#fb9f3a"
             ],
             [
              0.8888888888888888,
              "#fdca26"
             ],
             [
              1,
              "#f0f921"
             ]
            ],
            "type": "contour"
           }
          ],
          "contourcarpet": [
           {
            "colorbar": {
             "outlinewidth": 0,
             "ticks": ""
            },
            "type": "contourcarpet"
           }
          ],
          "heatmap": [
           {
            "colorbar": {
             "outlinewidth": 0,
             "ticks": ""
            },
            "colorscale": [
             [
              0,
              "#0d0887"
             ],
             [
              0.1111111111111111,
              "#46039f"
             ],
             [
              0.2222222222222222,
              "#7201a8"
             ],
             [
              0.3333333333333333,
              "#9c179e"
             ],
             [
              0.4444444444444444,
              "#bd3786"
             ],
             [
              0.5555555555555556,
              "#d8576b"
             ],
             [
              0.6666666666666666,
              "#ed7953"
             ],
             [
              0.7777777777777778,
              "#fb9f3a"
             ],
             [
              0.8888888888888888,
              "#fdca26"
             ],
             [
              1,
              "#f0f921"
             ]
            ],
            "type": "heatmap"
           }
          ],
          "heatmapgl": [
           {
            "colorbar": {
             "outlinewidth": 0,
             "ticks": ""
            },
            "colorscale": [
             [
              0,
              "#0d0887"
             ],
             [
              0.1111111111111111,
              "#46039f"
             ],
             [
              0.2222222222222222,
              "#7201a8"
             ],
             [
              0.3333333333333333,
              "#9c179e"
             ],
             [
              0.4444444444444444,
              "#bd3786"
             ],
             [
              0.5555555555555556,
              "#d8576b"
             ],
             [
              0.6666666666666666,
              "#ed7953"
             ],
             [
              0.7777777777777778,
              "#fb9f3a"
             ],
             [
              0.8888888888888888,
              "#fdca26"
             ],
             [
              1,
              "#f0f921"
             ]
            ],
            "type": "heatmapgl"
           }
          ],
          "histogram": [
           {
            "marker": {
             "pattern": {
              "fillmode": "overlay",
              "size": 10,
              "solidity": 0.2
             }
            },
            "type": "histogram"
           }
          ],
          "histogram2d": [
           {
            "colorbar": {
             "outlinewidth": 0,
             "ticks": ""
            },
            "colorscale": [
             [
              0,
              "#0d0887"
             ],
             [
              0.1111111111111111,
              "#46039f"
             ],
             [
              0.2222222222222222,
              "#7201a8"
             ],
             [
              0.3333333333333333,
              "#9c179e"
             ],
             [
              0.4444444444444444,
              "#bd3786"
             ],
             [
              0.5555555555555556,
              "#d8576b"
             ],
             [
              0.6666666666666666,
              "#ed7953"
             ],
             [
              0.7777777777777778,
              "#fb9f3a"
             ],
             [
              0.8888888888888888,
              "#fdca26"
             ],
             [
              1,
              "#f0f921"
             ]
            ],
            "type": "histogram2d"
           }
          ],
          "histogram2dcontour": [
           {
            "colorbar": {
             "outlinewidth": 0,
             "ticks": ""
            },
            "colorscale": [
             [
              0,
              "#0d0887"
             ],
             [
              0.1111111111111111,
              "#46039f"
             ],
             [
              0.2222222222222222,
              "#7201a8"
             ],
             [
              0.3333333333333333,
              "#9c179e"
             ],
             [
              0.4444444444444444,
              "#bd3786"
             ],
             [
              0.5555555555555556,
              "#d8576b"
             ],
             [
              0.6666666666666666,
              "#ed7953"
             ],
             [
              0.7777777777777778,
              "#fb9f3a"
             ],
             [
              0.8888888888888888,
              "#fdca26"
             ],
             [
              1,
              "#f0f921"
             ]
            ],
            "type": "histogram2dcontour"
           }
          ],
          "mesh3d": [
           {
            "colorbar": {
             "outlinewidth": 0,
             "ticks": ""
            },
            "type": "mesh3d"
           }
          ],
          "parcoords": [
           {
            "line": {
             "colorbar": {
              "outlinewidth": 0,
              "ticks": ""
             }
            },
            "type": "parcoords"
           }
          ],
          "pie": [
           {
            "automargin": true,
            "type": "pie"
           }
          ],
          "scatter": [
           {
            "fillpattern": {
             "fillmode": "overlay",
             "size": 10,
             "solidity": 0.2
            },
            "type": "scatter"
           }
          ],
          "scatter3d": [
           {
            "line": {
             "colorbar": {
              "outlinewidth": 0,
              "ticks": ""
             }
            },
            "marker": {
             "colorbar": {
              "outlinewidth": 0,
              "ticks": ""
             }
            },
            "type": "scatter3d"
           }
          ],
          "scattercarpet": [
           {
            "marker": {
             "colorbar": {
              "outlinewidth": 0,
              "ticks": ""
             }
            },
            "type": "scattercarpet"
           }
          ],
          "scattergeo": [
           {
            "marker": {
             "colorbar": {
              "outlinewidth": 0,
              "ticks": ""
             }
            },
            "type": "scattergeo"
           }
          ],
          "scattergl": [
           {
            "marker": {
             "colorbar": {
              "outlinewidth": 0,
              "ticks": ""
             }
            },
            "type": "scattergl"
           }
          ],
          "scattermapbox": [
           {
            "marker": {
             "colorbar": {
              "outlinewidth": 0,
              "ticks": ""
             }
            },
            "type": "scattermapbox"
           }
          ],
          "scatterpolar": [
           {
            "marker": {
             "colorbar": {
              "outlinewidth": 0,
              "ticks": ""
             }
            },
            "type": "scatterpolar"
           }
          ],
          "scatterpolargl": [
           {
            "marker": {
             "colorbar": {
              "outlinewidth": 0,
              "ticks": ""
             }
            },
            "type": "scatterpolargl"
           }
          ],
          "scatterternary": [
           {
            "marker": {
             "colorbar": {
              "outlinewidth": 0,
              "ticks": ""
             }
            },
            "type": "scatterternary"
           }
          ],
          "surface": [
           {
            "colorbar": {
             "outlinewidth": 0,
             "ticks": ""
            },
            "colorscale": [
             [
              0,
              "#0d0887"
             ],
             [
              0.1111111111111111,
              "#46039f"
             ],
             [
              0.2222222222222222,
              "#7201a8"
             ],
             [
              0.3333333333333333,
              "#9c179e"
             ],
             [
              0.4444444444444444,
              "#bd3786"
             ],
             [
              0.5555555555555556,
              "#d8576b"
             ],
             [
              0.6666666666666666,
              "#ed7953"
             ],
             [
              0.7777777777777778,
              "#fb9f3a"
             ],
             [
              0.8888888888888888,
              "#fdca26"
             ],
             [
              1,
              "#f0f921"
             ]
            ],
            "type": "surface"
           }
          ],
          "table": [
           {
            "cells": {
             "fill": {
              "color": "#EBF0F8"
             },
             "line": {
              "color": "white"
             }
            },
            "header": {
             "fill": {
              "color": "#C8D4E3"
             },
             "line": {
              "color": "white"
             }
            },
            "type": "table"
           }
          ]
         },
         "layout": {
          "annotationdefaults": {
           "arrowcolor": "#2a3f5f",
           "arrowhead": 0,
           "arrowwidth": 1
          },
          "autotypenumbers": "strict",
          "coloraxis": {
           "colorbar": {
            "outlinewidth": 0,
            "ticks": ""
           }
          },
          "colorscale": {
           "diverging": [
            [
             0,
             "#8e0152"
            ],
            [
             0.1,
             "#c51b7d"
            ],
            [
             0.2,
             "#de77ae"
            ],
            [
             0.3,
             "#f1b6da"
            ],
            [
             0.4,
             "#fde0ef"
            ],
            [
             0.5,
             "#f7f7f7"
            ],
            [
             0.6,
             "#e6f5d0"
            ],
            [
             0.7,
             "#b8e186"
            ],
            [
             0.8,
             "#7fbc41"
            ],
            [
             0.9,
             "#4d9221"
            ],
            [
             1,
             "#276419"
            ]
           ],
           "sequential": [
            [
             0,
             "#0d0887"
            ],
            [
             0.1111111111111111,
             "#46039f"
            ],
            [
             0.2222222222222222,
             "#7201a8"
            ],
            [
             0.3333333333333333,
             "#9c179e"
            ],
            [
             0.4444444444444444,
             "#bd3786"
            ],
            [
             0.5555555555555556,
             "#d8576b"
            ],
            [
             0.6666666666666666,
             "#ed7953"
            ],
            [
             0.7777777777777778,
             "#fb9f3a"
            ],
            [
             0.8888888888888888,
             "#fdca26"
            ],
            [
             1,
             "#f0f921"
            ]
           ],
           "sequentialminus": [
            [
             0,
             "#0d0887"
            ],
            [
             0.1111111111111111,
             "#46039f"
            ],
            [
             0.2222222222222222,
             "#7201a8"
            ],
            [
             0.3333333333333333,
             "#9c179e"
            ],
            [
             0.4444444444444444,
             "#bd3786"
            ],
            [
             0.5555555555555556,
             "#d8576b"
            ],
            [
             0.6666666666666666,
             "#ed7953"
            ],
            [
             0.7777777777777778,
             "#fb9f3a"
            ],
            [
             0.8888888888888888,
             "#fdca26"
            ],
            [
             1,
             "#f0f921"
            ]
           ]
          },
          "colorway": [
           "#636efa",
           "#EF553B",
           "#00cc96",
           "#ab63fa",
           "#FFA15A",
           "#19d3f3",
           "#FF6692",
           "#B6E880",
           "#FF97FF",
           "#FECB52"
          ],
          "font": {
           "color": "#2a3f5f"
          },
          "geo": {
           "bgcolor": "white",
           "lakecolor": "white",
           "landcolor": "#E5ECF6",
           "showlakes": true,
           "showland": true,
           "subunitcolor": "white"
          },
          "hoverlabel": {
           "align": "left"
          },
          "hovermode": "closest",
          "mapbox": {
           "style": "light"
          },
          "paper_bgcolor": "white",
          "plot_bgcolor": "#E5ECF6",
          "polar": {
           "angularaxis": {
            "gridcolor": "white",
            "linecolor": "white",
            "ticks": ""
           },
           "bgcolor": "#E5ECF6",
           "radialaxis": {
            "gridcolor": "white",
            "linecolor": "white",
            "ticks": ""
           }
          },
          "scene": {
           "xaxis": {
            "backgroundcolor": "#E5ECF6",
            "gridcolor": "white",
            "gridwidth": 2,
            "linecolor": "white",
            "showbackground": true,
            "ticks": "",
            "zerolinecolor": "white"
           },
           "yaxis": {
            "backgroundcolor": "#E5ECF6",
            "gridcolor": "white",
            "gridwidth": 2,
            "linecolor": "white",
            "showbackground": true,
            "ticks": "",
            "zerolinecolor": "white"
           },
           "zaxis": {
            "backgroundcolor": "#E5ECF6",
            "gridcolor": "white",
            "gridwidth": 2,
            "linecolor": "white",
            "showbackground": true,
            "ticks": "",
            "zerolinecolor": "white"
           }
          },
          "shapedefaults": {
           "line": {
            "color": "#2a3f5f"
           }
          },
          "ternary": {
           "aaxis": {
            "gridcolor": "white",
            "linecolor": "white",
            "ticks": ""
           },
           "baxis": {
            "gridcolor": "white",
            "linecolor": "white",
            "ticks": ""
           },
           "bgcolor": "#E5ECF6",
           "caxis": {
            "gridcolor": "white",
            "linecolor": "white",
            "ticks": ""
           }
          },
          "title": {
           "x": 0.05
          },
          "xaxis": {
           "automargin": true,
           "gridcolor": "white",
           "linecolor": "white",
           "ticks": "",
           "title": {
            "standoff": 15
           },
           "zerolinecolor": "white",
           "zerolinewidth": 2
          },
          "yaxis": {
           "automargin": true,
           "gridcolor": "white",
           "linecolor": "white",
           "ticks": "",
           "title": {
            "standoff": 15
           },
           "zerolinecolor": "white",
           "zerolinewidth": 2
          }
         }
        },
        "title": {
         "text": "Original and Mean Subtracted Wheel Speeds, Recording 0, Trial 2"
        },
        "xaxis": {
         "title": {
          "text": "Time"
         }
        },
        "yaxis": {
         "title": {
          "text": "Value"
         }
        }
       }
      }
     },
     "metadata": {},
     "output_type": "display_data"
    }
   ],
   "source": [
    "for t in range(3):\n",
    "    fig = go.Figure()\n",
    "    fig.add_trace(go.Scatter(y=Y_train_regular[0][t], name='Original'))\n",
    "    fig.add_trace(go.Scatter(y=Y_train_mean_subtracted[0][t], name='Mean Subtracted'))\n",
    "    fig.update_layout(title=f'Original and Mean Subtracted Wheel Speeds, Recording 0, Trial {t}', xaxis_title='Time', yaxis_title='Value')\n",
    "    fig.show()"
   ]
  },
  {
   "cell_type": "markdown",
   "metadata": {},
   "source": [
    "# Training"
   ]
  },
  {
   "cell_type": "code",
   "execution_count": 45,
   "metadata": {},
   "outputs": [
    {
     "name": "stdout",
     "output_type": "stream",
     "text": [
      "Iteration 0, Train Loss [1.4316602945327759, 2.4385828971862793, 318970.4375, 1269.7012939453125, 357.39697265625], Test Loss [226.06541442871094, 2957.45556640625, 3820.262451171875, 1063.4532470703125, 165.81626892089844]\n",
      "Iteration 100, Train Loss [2.420283794403076, 3.7620651721954346, 2.711750030517578, 2.9282426834106445, 3.2694172859191895], Test Loss [12.663140296936035, 6.484308242797852, 8.33734130859375, 46.172607421875, 10.527585983276367]\n"
     ]
    },
    {
     "ename": "KeyboardInterrupt",
     "evalue": "",
     "output_type": "error",
     "traceback": [
      "\u001b[0;31m---------------------------------------------------------------------------\u001b[0m",
      "\u001b[0;31mKeyboardInterrupt\u001b[0m                         Traceback (most recent call last)",
      "Cell \u001b[0;32mIn[45], line 25\u001b[0m\n\u001b[1;32m     22\u001b[0m test_loss \u001b[38;5;241m=\u001b[39m []\n\u001b[1;32m     24\u001b[0m \u001b[38;5;28;01mfor\u001b[39;00m training_iteration \u001b[38;5;129;01min\u001b[39;00m \u001b[38;5;28mrange\u001b[39m(TRAINING_ITERATIONS):\n\u001b[0;32m---> 25\u001b[0m     train_loss_iter, test_loss_iter \u001b[38;5;241m=\u001b[39m \u001b[43mtrain_one_epoch\u001b[49m\u001b[43m(\u001b[49m\u001b[43mX_train\u001b[49m\u001b[43m,\u001b[49m\u001b[43m \u001b[49m\u001b[43mY_train\u001b[49m\u001b[43m,\u001b[49m\u001b[43m \u001b[49m\u001b[43mX_test\u001b[49m\u001b[43m,\u001b[49m\u001b[43m \u001b[49m\u001b[43mY_test\u001b[49m\u001b[43m,\u001b[49m\u001b[43m \u001b[49m\u001b[43mmodel\u001b[49m\u001b[43m,\u001b[49m\u001b[43m \u001b[49m\u001b[43moptimizer\u001b[49m\u001b[43m,\u001b[49m\u001b[43m \u001b[49m\u001b[43mloss_fn\u001b[49m\u001b[43m)\u001b[49m\n\u001b[1;32m     27\u001b[0m     \u001b[38;5;28;01mif\u001b[39;00m training_iteration \u001b[38;5;241m%\u001b[39m \u001b[38;5;241m100\u001b[39m \u001b[38;5;241m==\u001b[39m \u001b[38;5;241m0\u001b[39m:\n\u001b[1;32m     28\u001b[0m         \u001b[38;5;28mprint\u001b[39m(\u001b[38;5;124mf\u001b[39m\u001b[38;5;124m'\u001b[39m\u001b[38;5;124mIteration \u001b[39m\u001b[38;5;132;01m{\u001b[39;00mtraining_iteration\u001b[38;5;132;01m}\u001b[39;00m\u001b[38;5;124m, Train Loss \u001b[39m\u001b[38;5;132;01m{\u001b[39;00mtrain_loss_iter\u001b[38;5;132;01m}\u001b[39;00m\u001b[38;5;124m, Test Loss \u001b[39m\u001b[38;5;132;01m{\u001b[39;00mtest_loss_iter\u001b[38;5;132;01m}\u001b[39;00m\u001b[38;5;124m'\u001b[39m)\n",
      "File \u001b[0;32m~/code/general/prob_decoding/src/utils/training.py:23\u001b[0m, in \u001b[0;36mtrain_one_epoch\u001b[0;34m(X_train, Y_train, X_test, Y_test, model, optimizer, loss_fn)\u001b[0m\n\u001b[1;32m     20\u001b[0m test_loss_iter \u001b[38;5;241m=\u001b[39m [\u001b[38;5;241m0\u001b[39m \u001b[38;5;28;01mfor\u001b[39;00m _ \u001b[38;5;129;01min\u001b[39;00m \u001b[38;5;28mrange\u001b[39m(\u001b[38;5;28mlen\u001b[39m(X_train))]\n\u001b[1;32m     22\u001b[0m \u001b[38;5;28;01mfor\u001b[39;00m recording \u001b[38;5;129;01min\u001b[39;00m \u001b[38;5;28mrange\u001b[39m(\u001b[38;5;28mlen\u001b[39m(X_train)):\n\u001b[0;32m---> 23\u001b[0m     train_loss_item \u001b[38;5;241m=\u001b[39m \u001b[43mtrain_step\u001b[49m\u001b[43m(\u001b[49m\u001b[43mrecording\u001b[49m\u001b[43m,\u001b[49m\u001b[43m \u001b[49m\u001b[43mX_train\u001b[49m\u001b[43m[\u001b[49m\u001b[43mrecording\u001b[49m\u001b[43m]\u001b[49m\u001b[43m,\u001b[49m\u001b[43m \u001b[49m\u001b[43mY_train\u001b[49m\u001b[43m[\u001b[49m\u001b[43mrecording\u001b[49m\u001b[43m]\u001b[49m\u001b[43m,\u001b[49m\u001b[43m \u001b[49m\u001b[43mmodel\u001b[49m\u001b[43m,\u001b[49m\u001b[43m \u001b[49m\u001b[43moptimizer\u001b[49m\u001b[43m,\u001b[49m\u001b[43m \u001b[49m\u001b[43mloss_fn\u001b[49m\u001b[43m)\u001b[49m\n\u001b[1;32m     24\u001b[0m     test_loss_item \u001b[38;5;241m=\u001b[39m evaluate_recording(recording, X_test[recording], Y_test[recording], model, loss_fn, plot_num\u001b[38;5;241m=\u001b[39m\u001b[38;5;241m0\u001b[39m)\n\u001b[1;32m     26\u001b[0m     train_loss_iter[recording] \u001b[38;5;241m=\u001b[39m train_loss_item\n",
      "File \u001b[0;32m~/code/general/prob_decoding/src/utils/training.py:10\u001b[0m, in \u001b[0;36mtrain_step\u001b[0;34m(recording, X_train_recording, Y_train_recording, model, optimizer, loss_fn)\u001b[0m\n\u001b[1;32m      7\u001b[0m X_train_recording \u001b[38;5;241m=\u001b[39m torch\u001b[38;5;241m.\u001b[39mfrom_numpy(X_train_recording)\u001b[38;5;241m.\u001b[39mfloat()\n\u001b[1;32m      8\u001b[0m Y_train_recording \u001b[38;5;241m=\u001b[39m torch\u001b[38;5;241m.\u001b[39mfrom_numpy(Y_train_recording)\u001b[38;5;241m.\u001b[39mfloat()\n\u001b[0;32m---> 10\u001b[0m Y_pred \u001b[38;5;241m=\u001b[39m \u001b[43mmodel\u001b[49m\u001b[43m(\u001b[49m\u001b[43mrecording\u001b[49m\u001b[43m,\u001b[49m\u001b[43m \u001b[49m\u001b[43mX_train_recording\u001b[49m\u001b[43m)\u001b[49m\n\u001b[1;32m     12\u001b[0m loss \u001b[38;5;241m=\u001b[39m loss_fn(Y_pred, Y_train_recording)\n\u001b[1;32m     13\u001b[0m loss\u001b[38;5;241m.\u001b[39mbackward()\n",
      "File \u001b[0;32m~/anaconda3/lib/python3.9/site-packages/torch/nn/modules/module.py:1130\u001b[0m, in \u001b[0;36mModule._call_impl\u001b[0;34m(self, *input, **kwargs)\u001b[0m\n\u001b[1;32m   1126\u001b[0m \u001b[38;5;66;03m# If we don't have any hooks, we want to skip the rest of the logic in\u001b[39;00m\n\u001b[1;32m   1127\u001b[0m \u001b[38;5;66;03m# this function, and just call forward.\u001b[39;00m\n\u001b[1;32m   1128\u001b[0m \u001b[38;5;28;01mif\u001b[39;00m \u001b[38;5;129;01mnot\u001b[39;00m (\u001b[38;5;28mself\u001b[39m\u001b[38;5;241m.\u001b[39m_backward_hooks \u001b[38;5;129;01mor\u001b[39;00m \u001b[38;5;28mself\u001b[39m\u001b[38;5;241m.\u001b[39m_forward_hooks \u001b[38;5;129;01mor\u001b[39;00m \u001b[38;5;28mself\u001b[39m\u001b[38;5;241m.\u001b[39m_forward_pre_hooks \u001b[38;5;129;01mor\u001b[39;00m _global_backward_hooks\n\u001b[1;32m   1129\u001b[0m         \u001b[38;5;129;01mor\u001b[39;00m _global_forward_hooks \u001b[38;5;129;01mor\u001b[39;00m _global_forward_pre_hooks):\n\u001b[0;32m-> 1130\u001b[0m     \u001b[38;5;28;01mreturn\u001b[39;00m \u001b[43mforward_call\u001b[49m\u001b[43m(\u001b[49m\u001b[38;5;241;43m*\u001b[39;49m\u001b[38;5;28;43minput\u001b[39;49m\u001b[43m,\u001b[49m\u001b[43m \u001b[49m\u001b[38;5;241;43m*\u001b[39;49m\u001b[38;5;241;43m*\u001b[39;49m\u001b[43mkwargs\u001b[49m\u001b[43m)\u001b[49m\n\u001b[1;32m   1131\u001b[0m \u001b[38;5;66;03m# Do not call functions when jit is used\u001b[39;00m\n\u001b[1;32m   1132\u001b[0m full_backward_hooks, non_full_backward_hooks \u001b[38;5;241m=\u001b[39m [], []\n",
      "File \u001b[0;32m~/code/general/prob_decoding/src/models/neural_network.py:52\u001b[0m, in \u001b[0;36mNeuralNetworkModel.forward\u001b[0;34m(self, recording_index, recording_X)\u001b[0m\n\u001b[1;32m     50\u001b[0m X \u001b[38;5;241m=\u001b[39m torch\u001b[38;5;241m.\u001b[39mflatten(X, \u001b[38;5;241m1\u001b[39m)\n\u001b[1;32m     51\u001b[0m \u001b[38;5;66;03m# print(X.shape)\u001b[39;00m\n\u001b[0;32m---> 52\u001b[0m Y_hat \u001b[38;5;241m=\u001b[39m \u001b[38;5;28;43mself\u001b[39;49m\u001b[38;5;241;43m.\u001b[39;49m\u001b[43mfeed_forward\u001b[49m\u001b[43m(\u001b[49m\u001b[43mX\u001b[49m\u001b[43m)\u001b[49m\n\u001b[1;32m     53\u001b[0m \u001b[38;5;28;01mreturn\u001b[39;00m Y_hat\n",
      "File \u001b[0;32m~/anaconda3/lib/python3.9/site-packages/torch/nn/modules/module.py:1130\u001b[0m, in \u001b[0;36mModule._call_impl\u001b[0;34m(self, *input, **kwargs)\u001b[0m\n\u001b[1;32m   1126\u001b[0m \u001b[38;5;66;03m# If we don't have any hooks, we want to skip the rest of the logic in\u001b[39;00m\n\u001b[1;32m   1127\u001b[0m \u001b[38;5;66;03m# this function, and just call forward.\u001b[39;00m\n\u001b[1;32m   1128\u001b[0m \u001b[38;5;28;01mif\u001b[39;00m \u001b[38;5;129;01mnot\u001b[39;00m (\u001b[38;5;28mself\u001b[39m\u001b[38;5;241m.\u001b[39m_backward_hooks \u001b[38;5;129;01mor\u001b[39;00m \u001b[38;5;28mself\u001b[39m\u001b[38;5;241m.\u001b[39m_forward_hooks \u001b[38;5;129;01mor\u001b[39;00m \u001b[38;5;28mself\u001b[39m\u001b[38;5;241m.\u001b[39m_forward_pre_hooks \u001b[38;5;129;01mor\u001b[39;00m _global_backward_hooks\n\u001b[1;32m   1129\u001b[0m         \u001b[38;5;129;01mor\u001b[39;00m _global_forward_hooks \u001b[38;5;129;01mor\u001b[39;00m _global_forward_pre_hooks):\n\u001b[0;32m-> 1130\u001b[0m     \u001b[38;5;28;01mreturn\u001b[39;00m \u001b[43mforward_call\u001b[49m\u001b[43m(\u001b[49m\u001b[38;5;241;43m*\u001b[39;49m\u001b[38;5;28;43minput\u001b[39;49m\u001b[43m,\u001b[49m\u001b[43m \u001b[49m\u001b[38;5;241;43m*\u001b[39;49m\u001b[38;5;241;43m*\u001b[39;49m\u001b[43mkwargs\u001b[49m\u001b[43m)\u001b[49m\n\u001b[1;32m   1131\u001b[0m \u001b[38;5;66;03m# Do not call functions when jit is used\u001b[39;00m\n\u001b[1;32m   1132\u001b[0m full_backward_hooks, non_full_backward_hooks \u001b[38;5;241m=\u001b[39m [], []\n",
      "File \u001b[0;32m~/anaconda3/lib/python3.9/site-packages/torch/nn/modules/container.py:139\u001b[0m, in \u001b[0;36mSequential.forward\u001b[0;34m(self, input)\u001b[0m\n\u001b[1;32m    137\u001b[0m \u001b[38;5;28;01mdef\u001b[39;00m \u001b[38;5;21mforward\u001b[39m(\u001b[38;5;28mself\u001b[39m, \u001b[38;5;28minput\u001b[39m):\n\u001b[1;32m    138\u001b[0m     \u001b[38;5;28;01mfor\u001b[39;00m module \u001b[38;5;129;01min\u001b[39;00m \u001b[38;5;28mself\u001b[39m:\n\u001b[0;32m--> 139\u001b[0m         \u001b[38;5;28minput\u001b[39m \u001b[38;5;241m=\u001b[39m \u001b[43mmodule\u001b[49m\u001b[43m(\u001b[49m\u001b[38;5;28;43minput\u001b[39;49m\u001b[43m)\u001b[49m\n\u001b[1;32m    140\u001b[0m     \u001b[38;5;28;01mreturn\u001b[39;00m \u001b[38;5;28minput\u001b[39m\n",
      "File \u001b[0;32m~/anaconda3/lib/python3.9/site-packages/torch/nn/modules/module.py:1130\u001b[0m, in \u001b[0;36mModule._call_impl\u001b[0;34m(self, *input, **kwargs)\u001b[0m\n\u001b[1;32m   1126\u001b[0m \u001b[38;5;66;03m# If we don't have any hooks, we want to skip the rest of the logic in\u001b[39;00m\n\u001b[1;32m   1127\u001b[0m \u001b[38;5;66;03m# this function, and just call forward.\u001b[39;00m\n\u001b[1;32m   1128\u001b[0m \u001b[38;5;28;01mif\u001b[39;00m \u001b[38;5;129;01mnot\u001b[39;00m (\u001b[38;5;28mself\u001b[39m\u001b[38;5;241m.\u001b[39m_backward_hooks \u001b[38;5;129;01mor\u001b[39;00m \u001b[38;5;28mself\u001b[39m\u001b[38;5;241m.\u001b[39m_forward_hooks \u001b[38;5;129;01mor\u001b[39;00m \u001b[38;5;28mself\u001b[39m\u001b[38;5;241m.\u001b[39m_forward_pre_hooks \u001b[38;5;129;01mor\u001b[39;00m _global_backward_hooks\n\u001b[1;32m   1129\u001b[0m         \u001b[38;5;129;01mor\u001b[39;00m _global_forward_hooks \u001b[38;5;129;01mor\u001b[39;00m _global_forward_pre_hooks):\n\u001b[0;32m-> 1130\u001b[0m     \u001b[38;5;28;01mreturn\u001b[39;00m \u001b[43mforward_call\u001b[49m\u001b[43m(\u001b[49m\u001b[38;5;241;43m*\u001b[39;49m\u001b[38;5;28;43minput\u001b[39;49m\u001b[43m,\u001b[49m\u001b[43m \u001b[49m\u001b[38;5;241;43m*\u001b[39;49m\u001b[38;5;241;43m*\u001b[39;49m\u001b[43mkwargs\u001b[49m\u001b[43m)\u001b[49m\n\u001b[1;32m   1131\u001b[0m \u001b[38;5;66;03m# Do not call functions when jit is used\u001b[39;00m\n\u001b[1;32m   1132\u001b[0m full_backward_hooks, non_full_backward_hooks \u001b[38;5;241m=\u001b[39m [], []\n",
      "File \u001b[0;32m~/anaconda3/lib/python3.9/site-packages/torch/nn/modules/linear.py:114\u001b[0m, in \u001b[0;36mLinear.forward\u001b[0;34m(self, input)\u001b[0m\n\u001b[1;32m    113\u001b[0m \u001b[38;5;28;01mdef\u001b[39;00m \u001b[38;5;21mforward\u001b[39m(\u001b[38;5;28mself\u001b[39m, \u001b[38;5;28minput\u001b[39m: Tensor) \u001b[38;5;241m-\u001b[39m\u001b[38;5;241m>\u001b[39m Tensor:\n\u001b[0;32m--> 114\u001b[0m     \u001b[38;5;28;01mreturn\u001b[39;00m \u001b[43mF\u001b[49m\u001b[38;5;241;43m.\u001b[39;49m\u001b[43mlinear\u001b[49m\u001b[43m(\u001b[49m\u001b[38;5;28;43minput\u001b[39;49m\u001b[43m,\u001b[49m\u001b[43m \u001b[49m\u001b[38;5;28;43mself\u001b[39;49m\u001b[38;5;241;43m.\u001b[39;49m\u001b[43mweight\u001b[49m\u001b[43m,\u001b[49m\u001b[43m \u001b[49m\u001b[38;5;28;43mself\u001b[39;49m\u001b[38;5;241;43m.\u001b[39;49m\u001b[43mbias\u001b[49m\u001b[43m)\u001b[49m\n",
      "\u001b[0;31mKeyboardInterrupt\u001b[0m: "
     ]
    }
   ],
   "source": [
    "if MODEL == \"reduced_rank\":\n",
    "    model = ReducedRankModel(\n",
    "        n_recordings=TOTAL_RECORDINGS,\n",
    "        n_neurons_per_recording=[X_train[i].shape[1] for i in range(TOTAL_RECORDINGS)], \n",
    "        n_time_bins=40, \n",
    "        rank=RANK\n",
    "    )\n",
    "elif MODEL == \"neural_network\":\n",
    "    model = NeuralNetworkModel(\n",
    "        n_recordings=TOTAL_RECORDINGS,\n",
    "        n_neurons_per_recording=[X_train[i].shape[1] for i in range(TOTAL_RECORDINGS)], \n",
    "        n_time_bins=40, \n",
    "        width=4000,\n",
    "        hidden_layers=4,\n",
    "        rank=RANK\n",
    "    )\n",
    "\n",
    "optimizer = torch.optim.Adam(model.parameters(), lr=0.001)\n",
    "loss_fn = torch.nn.MSELoss()\n",
    "\n",
    "train_loss = []\n",
    "test_loss = []\n",
    "\n",
    "for training_iteration in range(TRAINING_ITERATIONS):\n",
    "    train_loss_iter, test_loss_iter = train_one_epoch(X_train, Y_train, X_test, Y_test, model, optimizer, loss_fn)\n",
    "\n",
    "    if training_iteration % 100 == 0:\n",
    "        print(f'Iteration {training_iteration}, Train Loss {train_loss_iter}, Test Loss {test_loss_iter}')\n",
    "\n",
    "    train_loss.append(train_loss_iter)\n",
    "    test_loss.append(test_loss_iter)"
   ]
  },
  {
   "cell_type": "code",
   "execution_count": null,
   "metadata": {},
   "outputs": [
    {
     "name": "stdout",
     "output_type": "stream",
     "text": [
      "Iteration 0, Train Loss [0.5648131370544434, 0.6291618943214417], Test Loss [0.8256673812866211, 0.791092038154602]\n",
      "Iteration 100, Train Loss [0.322302907705307, 0.2544831335544586], Test Loss [0.713965654373169, 0.7019364237785339]\n",
      "Iteration 200, Train Loss [0.07598769664764404, 0.04456452652812004], Test Loss [0.9142297506332397, 0.9619506001472473]\n",
      "Iteration 300, Train Loss [0.014486381784081459, 0.016259051859378815], Test Loss [0.9953017830848694, 1.0209685564041138]\n",
      "Iteration 400, Train Loss [0.012728437781333923, 0.0118115758523345], Test Loss [1.021017074584961, 1.0464943647384644]\n",
      "Iteration 500, Train Loss [0.008318386040627956, 0.009678296744823456], Test Loss [1.0226885080337524, 1.042962670326233]\n",
      "Iteration 0, Train Loss [0.5687515735626221, 0.7071180939674377], Test Loss [0.977382242679596, 0.9625833630561829]\n",
      "Iteration 100, Train Loss [0.04103058949112892, 0.03797721117734909], Test Loss [0.7219447493553162, 0.8358548283576965]\n",
      "Iteration 200, Train Loss [0.007002207916229963, 0.006430252455174923], Test Loss [0.7508212327957153, 0.8699239492416382]\n",
      "Iteration 300, Train Loss [0.002220755210146308, 0.003708657342940569], Test Loss [0.7517895698547363, 0.8653690814971924]\n",
      "Iteration 400, Train Loss [0.0009602021309547126, 0.0005689551471732557], Test Loss [0.7486321330070496, 0.8588568568229675]\n",
      "Iteration 500, Train Loss [0.0012250876752659678, 0.0023428224958479404], Test Loss [0.7501086592674255, 0.8555601239204407]\n",
      "Iteration 0, Train Loss [0.5671507120132446, 0.8028208613395691], Test Loss [1.3353314399719238, 0.6968938112258911]\n",
      "Iteration 100, Train Loss [0.00848050694912672, 0.005329187493771315], Test Loss [0.7132360339164734, 0.8374605774879456]\n",
      "Iteration 200, Train Loss [0.0021503204479813576, 0.0019337570993229747], Test Loss [0.7165176272392273, 0.8308931589126587]\n",
      "Iteration 300, Train Loss [0.0005695383879356086, 0.0014338400214910507], Test Loss [0.7122079133987427, 0.8172745108604431]\n",
      "Iteration 400, Train Loss [0.00028534437296912074, 0.00015836732927709818], Test Loss [0.7098329663276672, 0.8067390322685242]\n",
      "Iteration 500, Train Loss [0.000634810421615839, 0.0005305223749019206], Test Loss [0.7061745524406433, 0.7920670509338379]\n",
      "Iteration 0, Train Loss [0.5722920894622803, 0.7298455834388733], Test Loss [1.0211621522903442, 0.9183323383331299]\n",
      "Iteration 100, Train Loss [0.0065077836625278, 0.0018126722425222397], Test Loss [0.7040998339653015, 0.7031534314155579]\n",
      "Iteration 200, Train Loss [0.0036966120824217796, 0.0009466412011533976], Test Loss [0.7062668800354004, 0.7071608304977417]\n",
      "Iteration 300, Train Loss [0.0021983280312269926, 0.0010442128404974937], Test Loss [0.7018905878067017, 0.6978486776351929]\n",
      "Iteration 400, Train Loss [0.0008055783109739423, 0.0001461300562368706], Test Loss [0.6968214511871338, 0.6947481632232666]\n",
      "Iteration 500, Train Loss [0.00020439422223716974, 0.00016830918320920318], Test Loss [0.6948758959770203, 0.6872469186782837]\n"
     ]
    }
   ],
   "source": [
    "train_losses = {}\n",
    "test_losses = {}\n",
    "\n",
    "# for width in [100, 200, 300, 400, 500, 600, 700, 800, 900, 1000]:\n",
    "for rank in [2, 4, 8, 16]:\n",
    "    model = NeuralNetworkModel(\n",
    "        n_recordings=TOTAL_RECORDINGS,\n",
    "        n_neurons_per_recording=[X_train[i].shape[1] for i in range(TOTAL_RECORDINGS)], \n",
    "        n_time_bins=40, \n",
    "        width=1000,\n",
    "        hidden_layers=4,\n",
    "        rank=rank\n",
    "    )\n",
    "\n",
    "    optimizer = torch.optim.Adam(model.parameters(), lr=0.001)\n",
    "    loss_fn = torch.nn.MSELoss()\n",
    "\n",
    "    train_losses[rank] = []\n",
    "    test_losses[rank] = []\n",
    "\n",
    "    for training_iteration in range(TRAINING_ITERATIONS):\n",
    "        train_loss_iter, test_loss_iter = train_one_epoch(X_train, Y_train, X_test, Y_test, model, optimizer, loss_fn)\n",
    "\n",
    "        if training_iteration % 100 == 0:\n",
    "            print(f'Iteration {training_iteration}, Train Loss {train_loss_iter}, Test Loss {test_loss_iter}')\n",
    "\n",
    "        train_losses[rank].append(train_loss_iter)\n",
    "        test_losses[rank].append(test_loss_iter)"
   ]
  },
  {
   "cell_type": "code",
   "execution_count": null,
   "metadata": {},
   "outputs": [
    {
     "data": {
      "application/vnd.plotly.v1+json": {
       "config": {
        "plotlyServerURL": "https://plot.ly"
       },
       "data": [
        {
         "name": "Test Recording 0",
         "type": "scatter",
         "y": [
          10.050697326660156,
          7.437307834625244,
          43.54659652709961,
          48.95989227294922,
          25.582658767700195,
          41.80330276489258,
          65.77607727050781,
          3.079683303833008,
          7.4709391593933105,
          3.1530632972717285,
          1.5957276821136475,
          1.8074355125427246,
          1.8103207349777222,
          1.5577375888824463,
          1.3468272686004639,
          1.2451093196868896,
          1.209368109703064,
          1.1992838382720947,
          1.1958445310592651,
          1.1929410696029663,
          1.1897081136703491,
          1.1868185997009277,
          1.184944748878479,
          1.1842360496520996,
          1.184371829032898,
          1.1849136352539062,
          1.185592532157898,
          1.1863763332366943,
          1.1871697902679443,
          1.1880433559417725,
          1.189092993736267,
          1.1904691457748413,
          1.1920123100280762,
          1.193737268447876,
          1.1953380107879639,
          1.1970579624176025,
          1.1988791227340698,
          1.2006281614303589,
          1.2024259567260742,
          1.204548716545105,
          1.206836462020874,
          1.208635926246643,
          1.2104307413101196,
          1.2125087976455688,
          1.2145527601242065,
          1.2168484926223755,
          1.2163645029067993,
          1.218276023864746,
          1.2184617519378662,
          1.2225831747055054,
          1.2319016456604004,
          1.2347965240478516,
          1.2372828722000122,
          1.2426599264144897,
          1.2501121759414673,
          1.2571171522140503,
          1.2678574323654175,
          1.2654746770858765,
          1.281868577003479,
          1.2845451831817627,
          1.289807915687561,
          1.3145525455474854,
          1.3232004642486572,
          1.329062819480896,
          1.351083755493164,
          1.3611980676651,
          1.3795517683029175,
          1.3951634168624878,
          1.4085298776626587,
          1.4533158540725708,
          1.5234856605529785,
          1.4742540121078491,
          1.481701374053955,
          1.5238531827926636,
          1.5381537675857544,
          1.5967230796813965,
          1.611946702003479,
          1.6477327346801758,
          1.6677196025848389,
          1.7289235591888428,
          1.6964170932769775,
          1.7263716459274292,
          1.7325947284698486,
          1.7721028327941895,
          1.82612943649292,
          1.848654866218567,
          1.8905116319656372,
          1.9134567975997925,
          1.960222840309143,
          1.9253448247909546,
          2.0028014183044434,
          1.877119779586792,
          2.0171117782592773,
          1.9854216575622559,
          1.782304048538208,
          1.909562110900879,
          2.0018718242645264,
          1.8100895881652832,
          1.9003554582595825,
          2.067009925842285,
          2.0306992530822754,
          2.0586204528808594,
          2.1794562339782715,
          2.159986734390259,
          2.193812608718872,
          2.252244710922241,
          2.244550943374634,
          2.2903316020965576,
          2.316265106201172,
          2.3373329639434814,
          2.369560718536377,
          2.3929426670074463,
          2.417294502258301,
          2.4568932056427,
          2.4649970531463623,
          2.5091567039489746,
          2.5031778812408447,
          2.587571859359741,
          2.478559970855713,
          2.663470983505249,
          2.2226548194885254,
          2.338423728942871,
          2.8438985347747803,
          2.6869170665740967,
          2.631373882293701,
          2.9295923709869385,
          2.744877576828003,
          2.81430983543396,
          2.898937940597534,
          2.8413126468658447,
          2.8546030521392822,
          2.8731682300567627,
          2.882388114929199,
          2.9472503662109375,
          2.9303855895996094,
          2.964934825897217,
          3.0038764476776123,
          2.990412473678589,
          3.0342812538146973,
          2.9943511486053467,
          3.062710762023926,
          2.9322447776794434,
          3.10209059715271,
          2.91983699798584,
          3.1162614822387695,
          2.9488775730133057,
          2.9934778213500977,
          2.881936550140381,
          3.011305809020996,
          2.9299254417419434,
          3.0162949562072754,
          2.9705214500427246,
          3.0476107597351074,
          2.9984242916107178,
          3.108654499053955,
          2.9670310020446777,
          3.183433771133423,
          2.8573367595672607,
          3.205547332763672,
          2.8207454681396484,
          3.0499491691589355,
          2.9876174926757812,
          2.937722682952881,
          3.098356246948242,
          2.943889856338501,
          3.0990583896636963,
          2.934368371963501,
          3.114696502685547,
          2.9325034618377686,
          3.1240618228912354,
          2.977691888809204,
          3.1465094089508057,
          3.0125622749328613,
          3.1464691162109375,
          3.0465497970581055,
          3.136483907699585,
          3.0958287715911865,
          3.137650489807129,
          3.1312413215637207,
          3.1339569091796875,
          3.1821389198303223,
          3.085657835006714,
          3.25048565864563,
          3.0000410079956055,
          3.335995674133301,
          2.9890575408935547,
          3.1796159744262695,
          3.0762689113616943,
          3.1002697944641113,
          3.1733124256134033,
          3.14581298828125,
          3.1383965015411377,
          3.208803653717041,
          3.1176936626434326,
          3.241467237472534,
          3.1293749809265137,
          3.265277147293091,
          3.1527652740478516,
          3.284416913986206,
          3.187340259552002,
          3.291079044342041,
          3.221205711364746,
          3.299614906311035,
          3.2511441707611084,
          3.305934190750122,
          3.288123607635498,
          3.2972841262817383,
          3.3486833572387695,
          3.245178461074829,
          3.4051101207733154,
          3.1523027420043945,
          3.3299713134765625,
          3.0846993923187256,
          3.192056179046631,
          3.1640429496765137,
          3.2240517139434814,
          3.2384753227233887,
          3.4067752361297607,
          3.2070672512054443,
          3.3783533573150635,
          3.262053966522217,
          3.2878334522247314,
          3.3437249660491943,
          3.3165950775146484,
          3.375028610229492,
          3.362394332885742,
          3.3855321407318115,
          3.403928279876709,
          3.392902135848999,
          3.430603265762329,
          3.406790018081665,
          3.447859048843384,
          3.4266977310180664,
          3.455577850341797,
          3.448883533477783,
          3.4420759677886963,
          3.473764181137085,
          3.4031777381896973,
          3.4978747367858887,
          3.3576314449310303,
          3.4638845920562744,
          3.3880226612091064,
          3.415243625640869,
          3.4651100635528564,
          3.4031364917755127,
          3.4957199096679688,
          3.437661647796631,
          3.5263946056365967,
          3.4342851638793945,
          3.576786518096924,
          3.381058931350708,
          3.621593952178955,
          3.2947514057159424,
          3.5620298385620117,
          3.181023120880127,
          3.3916385173797607,
          3.273667812347412,
          3.382718801498413,
          3.427583932876587,
          3.4522342681884766,
          3.441676378250122,
          3.4847586154937744,
          3.4680116176605225,
          3.492536783218384,
          3.5123324394226074,
          3.4819209575653076,
          3.5559005737304688,
          3.460359573364258,
          3.595120906829834,
          3.4198215007781982,
          3.6122069358825684,
          3.379531145095825,
          3.575120687484741,
          3.4076297283172607,
          3.5167529582977295,
          3.471512794494629,
          3.5091021060943604,
          3.4860126972198486,
          3.5443572998046875,
          3.4598164558410645,
          3.567754030227661,
          3.4083967208862305,
          3.565596580505371,
          3.3323328495025635,
          3.4859719276428223,
          3.3456153869628906,
          3.4223968982696533,
          3.455244779586792,
          3.5050528049468994,
          3.449354648590088,
          3.602145195007324,
          3.409486770629883,
          3.5986175537109375,
          3.424685001373291,
          3.5242507457733154,
          3.467182159423828,
          3.510045289993286,
          3.507477045059204,
          3.5457334518432617,
          3.5025599002838135,
          3.5851447582244873,
          3.481642723083496,
          3.6238222122192383,
          3.468400716781616,
          3.6370737552642822,
          3.4806692600250244,
          3.622920513153076,
          3.5140106678009033,
          3.598719596862793,
          3.5566468238830566,
          3.582982063293457,
          3.5944018363952637,
          3.5620217323303223,
          3.6162831783294678,
          3.5442609786987305,
          3.634023666381836,
          3.5384392738342285,
          3.6349916458129883,
          3.5537197589874268,
          3.6100974082946777,
          3.585947036743164,
          3.5600485801696777,
          3.6360225677490234,
          3.4948229789733887,
          3.690753221511841,
          3.3895797729492188,
          3.6685800552368164,
          3.276024103164673,
          3.4706008434295654,
          3.321192502975464,
          3.368414878845215,
          3.4742207527160645,
          3.5068421363830566,
          3.448132038116455,
          3.571859836578369,
          3.435946464538574,
          3.5720109939575195,
          3.4749550819396973,
          3.5442349910736084,
          3.517712354660034,
          3.5522167682647705,
          3.534384250640869,
          3.5639853477478027,
          3.543741464614868,
          3.5620486736297607,
          3.5602829456329346,
          3.549259901046753,
          3.5835001468658447,
          3.5306475162506104,
          3.6100246906280518,
          3.5208957195281982,
          3.6240782737731934,
          3.52073073387146,
          3.6199443340301514,
          3.5161049365997314,
          3.587695598602295,
          3.5119855403900146,
          3.5522303581237793,
          3.5222513675689697,
          3.5430028438568115,
          3.5531771183013916,
          3.558365821838379,
          3.5663058757781982,
          3.561624050140381,
          3.5795624256134033,
          3.5527594089508057,
          3.601762533187866,
          3.549609422683716,
          3.6089587211608887,
          3.570267677307129,
          3.5712485313415527,
          3.622089147567749,
          3.487635374069214,
          3.6926331520080566,
          3.4051365852355957,
          3.707746744155884,
          3.35292649269104,
          3.6207644939422607,
          3.3796956539154053,
          3.5032286643981934,
          3.4897427558898926,
          3.497828722000122,
          3.513242721557617,
          3.533756732940674,
          3.487260103225708,
          3.575833320617676,
          3.47153639793396,
          3.57702374458313,
          3.4816410541534424,
          3.5629780292510986,
          3.512160301208496,
          3.5594725608825684,
          3.5347557067871094,
          3.5693891048431396,
          3.54323673248291,
          3.5822055339813232,
          3.545644998550415,
          3.5938472747802734,
          3.5472216606140137,
          3.5982909202575684,
          3.5435543060302734,
          3.5935893058776855,
          3.5402395725250244,
          3.567530632019043,
          3.5288922786712646,
          3.54087233543396,
          3.4907708168029785,
          3.5482962131500244,
          3.4728951454162598,
          3.6088945865631104,
          3.47072696685791,
          3.632857322692871,
          3.479114055633545,
          3.617269277572632,
          3.505634307861328,
          3.5769286155700684,
          3.542609453201294,
          3.5623669624328613,
          3.547175168991089,
          3.6083881855010986,
          3.5290069580078125,
          3.6717429161071777,
          3.502159595489502,
          3.7014222145080566,
          3.462878704071045,
          3.691519021987915,
          3.457054376602173,
          3.656299591064453,
          3.50671124458313,
          3.633166551589966,
          3.5567989349365234,
          3.6289682388305664,
          3.5718092918395996,
          3.662893533706665,
          3.579486846923828,
          3.6822948455810547,
          3.5709686279296875,
          3.6912293434143066,
          3.546895742416382,
          3.679614305496216,
          3.512871742248535,
          3.636868476867676,
          3.4916625022888184,
          3.5995357036590576,
          3.5713655948638916,
          3.6102612018585205,
          3.589320182800293,
          3.6147677898406982,
          3.5996413230895996,
          3.6687123775482178,
          3.6218554973602295,
          3.6540000438690186,
          3.655416250228882,
          3.637404441833496,
          3.6830060482025146,
          3.630845546722412,
          3.689053535461426,
          3.633845806121826,
          3.6831774711608887,
          3.64450740814209,
          3.6807940006256104,
          3.664543628692627,
          3.6878395080566406,
          3.6826491355895996,
          3.687451124191284,
          3.6922872066497803,
          3.6787049770355225,
          3.6819369792938232,
          3.656747579574585,
          3.636834144592285,
          3.6686906814575195,
          3.6119186878204346,
          3.7080862522125244,
          3.6006124019622803,
          3.685657501220703,
          3.6205666065216064,
          3.6787590980529785,
          3.661775827407837,
          3.67923641204834,
          3.7055628299713135,
          3.673915147781372,
          3.7439539432525635,
          3.6571245193481445,
          3.771353006362915,
          3.619722366333008,
          3.768486738204956,
          3.555260181427002,
          3.7292916774749756,
          3.531787157058716,
          3.7582192420959473,
          3.659144639968872,
          3.824336290359497,
          3.6316072940826416,
          3.874783515930176,
          3.626140594482422,
          3.842094898223877,
          3.6667959690093994,
          3.80222487449646,
          3.7132015228271484,
          3.793534994125366,
          3.7334554195404053
         ]
        },
        {
         "name": "Train Recording 0",
         "type": "scatter",
         "y": [
          1.404932975769043,
          2.089374303817749,
          14.03194522857666,
          86.66536712646484,
          150.04554748535156,
          65.95349884033203,
          377.44537353515625,
          3.390043258666992,
          6.706068515777588,
          3.75030779838562,
          1.589022159576416,
          1.7793246507644653,
          1.891736626625061,
          1.6740163564682007,
          1.4564299583435059,
          1.3438416719436646,
          1.3021780252456665,
          1.288837194442749,
          1.2821639776229858,
          1.2749857902526855,
          1.2665139436721802,
          1.2578346729278564,
          1.250075340270996,
          1.2437238693237305,
          1.238633632659912,
          1.2343602180480957,
          1.2304953336715698,
          1.226804494857788,
          1.223191738128662,
          1.219573736190796,
          1.215830683708191,
          1.2119039297103882,
          1.2078028917312622,
          1.2033965587615967,
          1.1986875534057617,
          1.1935865879058838,
          1.1880556344985962,
          1.1821507215499878,
          1.1759613752365112,
          1.169386863708496,
          1.1624404191970825,
          1.1552774906158447,
          1.1477839946746826,
          1.140148639678955,
          1.1323673725128174,
          1.1247555017471313,
          1.116761326789856,
          1.1087675094604492,
          1.1012364625930786,
          1.0928152799606323,
          1.0847909450531006,
          1.0767892599105835,
          1.0685721635818481,
          1.0601153373718262,
          1.051912546157837,
          1.044177532196045,
          1.0360668897628784,
          1.0288708209991455,
          1.0211087465286255,
          1.0139360427856445,
          1.0053560733795166,
          0.9966354370117188,
          0.9876893758773804,
          0.9777370095252991,
          0.9677843451499939,
          0.9574508666992188,
          0.9464101195335388,
          0.9351100921630859,
          0.9235889315605164,
          0.9174836277961731,
          0.9212708473205566,
          0.8969249129295349,
          0.8816970586776733,
          0.8683057427406311,
          0.8527454733848572,
          0.839631974697113,
          0.8266000747680664,
          0.8144328594207764,
          0.8032024502754211,
          0.7926020622253418,
          0.7820346355438232,
          0.7720661759376526,
          0.7616643905639648,
          0.7513561248779297,
          0.7412461638450623,
          0.7312557101249695,
          0.7216812372207642,
          0.7125365734100342,
          0.7044602632522583,
          0.7032598853111267,
          0.7015759944915771,
          0.7197291254997253,
          0.671890914440155,
          0.6694302558898926,
          0.6727838516235352,
          0.6512221693992615,
          0.6661065816879272,
          0.6435376405715942,
          0.6273260116577148,
          0.6239140629768372,
          0.6027034521102905,
          0.5976893305778503,
          0.587722897529602,
          0.576339602470398,
          0.5696398019790649,
          0.5620037317276001,
          0.5546645522117615,
          0.5479129552841187,
          0.5414960980415344,
          0.5352341532707214,
          0.529212236404419,
          0.5232973098754883,
          0.5177078247070312,
          0.5121567249298096,
          0.5071031451225281,
          0.5021336078643799,
          0.4974663257598877,
          0.4943822920322418,
          0.4971863925457001,
          0.510042667388916,
          0.5373765826225281,
          0.498282253742218,
          0.5312780737876892,
          0.5184240937232971,
          0.5025964379310608,
          0.48905062675476074,
          0.4698849320411682,
          0.46373626589775085,
          0.4511408507823944,
          0.4463832378387451,
          0.4402981698513031,
          0.4341702461242676,
          0.42921048402786255,
          0.42506498098373413,
          0.4211466312408447,
          0.4172861874103546,
          0.41367825865745544,
          0.41028887033462524,
          0.40713217854499817,
          0.40469396114349365,
          0.4032948613166809,
          0.4048374593257904,
          0.40950527787208557,
          0.42493143677711487,
          0.4298330247402191,
          0.44309332966804504,
          0.41609707474708557,
          0.3900470435619354,
          0.3840414881706238,
          0.379681259393692,
          0.3758409917354584,
          0.3727346360683441,
          0.36902353167533875,
          0.3666873574256897,
          0.3660973012447357,
          0.37036123871803284,
          0.3820060193538666,
          0.4094349443912506,
          0.4048644006252289,
          0.39107853174209595,
          0.35485392808914185,
          0.34876886010169983,
          0.34744077920913696,
          0.3438440263271332,
          0.34047067165374756,
          0.33871349692344666,
          0.3389548063278198,
          0.34023815393447876,
          0.3427448570728302,
          0.3450709581375122,
          0.3495319187641144,
          0.3478396534919739,
          0.3432653248310089,
          0.3320189118385315,
          0.32286757230758667,
          0.3171614408493042,
          0.313793808221817,
          0.31131330132484436,
          0.30908164381980896,
          0.3069097399711609,
          0.3049441874027252,
          0.3057498335838318,
          0.313690721988678,
          0.33409109711647034,
          0.34857356548309326,
          0.3519307076931,
          0.3101617395877838,
          0.29343852400779724,
          0.2960456311702728,
          0.29401037096977234,
          0.2886621654033661,
          0.2852424085140228,
          0.28331679105758667,
          0.2818339765071869,
          0.2810008227825165,
          0.2805529236793518,
          0.28013595938682556,
          0.27977362275123596,
          0.2785606384277344,
          0.27682849764823914,
          0.27363115549087524,
          0.2700868546962738,
          0.2664167881011963,
          0.26353490352630615,
          0.26171281933784485,
          0.2613997459411621,
          0.2637510895729065,
          0.2697465121746063,
          0.28152042627334595,
          0.2899479568004608,
          0.2965697944164276,
          0.2848759889602661,
          0.2710144817829132,
          0.2568325996398926,
          0.25147518515586853,
          0.2465684413909912,
          0.24460385739803314,
          0.2500518262386322,
          0.25843894481658936,
          0.25705990195274353,
          0.2478555589914322,
          0.23663203418254852,
          0.2326858937740326,
          0.23175473511219025,
          0.23017966747283936,
          0.22798669338226318,
          0.2260248363018036,
          0.2243536114692688,
          0.2227979600429535,
          0.22124840319156647,
          0.2197364717721939,
          0.21822726726531982,
          0.21674157679080963,
          0.21536459028720856,
          0.21454010903835297,
          0.2151317596435547,
          0.21871896088123322,
          0.22561176121234894,
          0.2389204502105713,
          0.23490722477436066,
          0.22131609916687012,
          0.20721782743930817,
          0.2043507993221283,
          0.20689702033996582,
          0.2079627364873886,
          0.20612110197544098,
          0.20269419252872467,
          0.1999961882829666,
          0.19962026178836823,
          0.20361371338367462,
          0.21653714776039124,
          0.23666872084140778,
          0.26515069603919983,
          0.2666418254375458,
          0.24423132836818695,
          0.2017814815044403,
          0.1871989667415619,
          0.18551203608512878,
          0.1832578033208847,
          0.18120771646499634,
          0.17971716821193695,
          0.17820145189762115,
          0.17667226493358612,
          0.17521680891513824,
          0.1739719957113266,
          0.17338378727436066,
          0.17411620914936066,
          0.17723731696605682,
          0.18446245789527893,
          0.19301143288612366,
          0.20270051062107086,
          0.1967429518699646,
          0.18332374095916748,
          0.17033539712429047,
          0.16392280161380768,
          0.16264602541923523,
          0.16403944790363312,
          0.1662389636039734,
          0.166791170835495,
          0.1692894697189331,
          0.17482158541679382,
          0.18563838303089142,
          0.19284328818321228,
          0.19143398106098175,
          0.17119993269443512,
          0.15689735114574432,
          0.15231792628765106,
          0.15117676556110382,
          0.15156905353069305,
          0.15484267473220825,
          0.16008852422237396,
          0.16587620973587036,
          0.168694868683815,
          0.16729283332824707,
          0.15888115763664246,
          0.15036627650260925,
          0.14456802606582642,
          0.14131230115890503,
          0.1392054408788681,
          0.13798777759075165,
          0.13783320784568787,
          0.13881908357143402,
          0.14076881110668182,
          0.14269107580184937,
          0.14471349120140076,
          0.143598273396492,
          0.14008916914463043,
          0.1356705129146576,
          0.13260535895824432,
          0.13094931840896606,
          0.13010826706886292,
          0.12956388294696808,
          0.12939055263996124,
          0.12986013293266296,
          0.13104331493377686,
          0.13349799811840057,
          0.1353822648525238,
          0.1378827691078186,
          0.1369471251964569,
          0.1345885545015335,
          0.12935881316661835,
          0.12569385766983032,
          0.12560513615608215,
          0.13196875154972076,
          0.14578641951084137,
          0.16899096965789795,
          0.18377892673015594,
          0.18582765758037567,
          0.14675132930278778,
          0.1233074739575386,
          0.11984771490097046,
          0.11762526631355286,
          0.11465729027986526,
          0.11346805840730667,
          0.1126304492354393,
          0.11142423003911972,
          0.11081782728433609,
          0.11036817729473114,
          0.10980512201786041,
          0.10934887081384659,
          0.10913027077913284,
          0.10849066078662872,
          0.10752692073583603,
          0.10611489415168762,
          0.1046450063586235,
          0.10313116759061813,
          0.10203435271978378,
          0.10165658593177795,
          0.10228672623634338,
          0.10364463925361633,
          0.10554725676774979,
          0.10730228573083878,
          0.10961921513080597,
          0.11198306083679199,
          0.1153303012251854,
          0.11624054610729218,
          0.11539793759584427,
          0.11253799498081207,
          0.10909077525138855,
          0.10599280148744583,
          0.10309106856584549,
          0.10102968662977219,
          0.09960053116083145,
          0.09879066795110703,
          0.09866420924663544,
          0.0987580269575119,
          0.09993425756692886,
          0.10016920417547226,
          0.10068124532699585,
          0.09822572767734528,
          0.0946652963757515,
          0.0912383496761322,
          0.09194861352443695,
          0.09980116784572601,
          0.1158796176314354,
          0.13562534749507904,
          0.14858438074588776,
          0.12594498693943024,
          0.09743648022413254,
          0.08490657806396484,
          0.08371146768331528,
          0.08396117389202118,
          0.08417616784572601,
          0.08494638651609421,
          0.08575724065303802,
          0.08655748516321182,
          0.08699027448892593,
          0.08610600978136063,
          0.08350061625242233,
          0.08081817626953125,
          0.07907440513372421,
          0.07845510542392731,
          0.07818600535392761,
          0.0776338130235672,
          0.07675489038228989,
          0.07607179880142212,
          0.0759587213397026,
          0.07646168023347855,
          0.07748913019895554,
          0.07916967570781708,
          0.08203831315040588,
          0.0870024785399437,
          0.09579223394393921,
          0.10621962696313858,
          0.11782057583332062,
          0.1098761111497879,
          0.09251043945550919,
          0.07873272150754929,
          0.07362537831068039,
          0.07393363118171692,
          0.07624080032110214,
          0.07850780338048935,
          0.07882063835859299,
          0.07735355198383331,
          0.07524827122688293,
          0.07375089824199677,
          0.07300971448421478,
          0.07134973257780075,
          0.06950721889734268,
          0.06947677582502365,
          0.07175727188587189,
          0.07469384372234344,
          0.07791495323181152,
          0.08208314329385757,
          0.08543442189693451,
          0.08767537027597427,
          0.08246030658483505,
          0.075629822909832,
          0.0685030072927475,
          0.06468448042869568,
          0.0634513646364212,
          0.06381423026323318,
          0.06493464857339859,
          0.06630420684814453,
          0.06840579956769943,
          0.07039616256952286,
          0.07365518063306808,
          0.07653824239969254,
          0.08061674237251282,
          0.08359600603580475,
          0.08706825226545334,
          0.0871497318148613,
          0.08520647138357162,
          0.07891753315925598,
          0.07208769023418427,
          0.06535907834768295,
          0.059222955256700516,
          0.05655635893344879,
          0.05694381520152092,
          0.058117255568504333,
          0.05884625390172005,
          0.05863131210207939,
          0.05830719694495201,
          0.05821504071354866,
          0.058740656822919846,
          0.05893423780798912,
          0.05897674709558487,
          0.05823280289769173,
          0.05741221457719803,
          0.056647006422281265,
          0.056433502584695816,
          0.05650167167186737,
          0.05691928789019585,
          0.05788997933268547,
          0.05986282229423523,
          0.06345655769109726,
          0.06799555569887161,
          0.06980590522289276,
          0.06633073091506958,
          0.059534065425395966,
          0.059056803584098816,
          0.06657667458057404,
          0.07840633392333984,
          0.07542762160301208,
          0.06759784370660782,
          0.057994674891233444,
          0.05280965566635132,
          0.04884594306349754,
          0.046709273010492325,
          0.04619135335087776,
          0.04685154929757118,
          0.04845499247312546,
          0.05110010877251625,
          0.05582287907600403,
          0.062881238758564,
          0.0719929188489914,
          0.08113109320402145,
          0.0749758630990982,
          0.06386638432741165,
          0.05546100065112114,
          0.05340522527694702,
          0.053803689777851105,
          0.056015972048044205,
          0.05681563541293144,
          0.056970637291669846,
          0.054775420576334,
          0.05224497616291046,
          0.05010565370321274,
          0.0488450713455677,
          0.0483211874961853,
          0.048214141279459
         ]
        },
        {
         "name": "Test Recording 1",
         "type": "scatter",
         "y": [
          1.5558048486709595,
          1.6093471050262451,
          2.3700056076049805,
          4.127785682678223,
          2.919099807739258,
          4.36696720123291,
          2.5768520832061768,
          1.726047158241272,
          1.8460052013397217,
          1.4733895063400269,
          1.4740804433822632,
          1.481982946395874,
          1.4728517532348633,
          1.4614592790603638,
          1.4548066854476929,
          1.4505932331085205,
          1.4468694925308228,
          1.4439235925674438,
          1.4418878555297852,
          1.4404118061065674,
          1.4392802715301514,
          1.4384660720825195,
          1.4379242658615112,
          1.4375545978546143,
          1.437257170677185,
          1.436972737312317,
          1.4366883039474487,
          1.4364068508148193,
          1.4361228942871094,
          1.4358315467834473,
          1.435531735420227,
          1.4352316856384277,
          1.4349287748336792,
          1.4346179962158203,
          1.4342862367630005,
          1.4339519739151,
          1.4336202144622803,
          1.4332877397537231,
          1.4329519271850586,
          1.43263578414917,
          1.4324361085891724,
          1.432425856590271,
          1.4324851036071777,
          1.4326153993606567,
          1.432602882385254,
          1.433567762374878,
          1.4334110021591187,
          1.4329620599746704,
          1.433659553527832,
          1.4321441650390625,
          1.4309529066085815,
          1.4315664768218994,
          1.431462287902832,
          1.4296813011169434,
          1.4297605752944946,
          1.4286576509475708,
          1.4313997030258179,
          1.4290872812271118,
          1.4308847188949585,
          1.4312430620193481,
          1.4288575649261475,
          1.428788423538208,
          1.4313844442367554,
          1.4309537410736084,
          1.4307094812393188,
          1.4319976568222046,
          1.433590054512024,
          1.4336433410644531,
          1.437552571296692,
          1.4335671663284302,
          1.4307763576507568,
          1.4333311319351196,
          1.4310736656188965,
          1.4314454793930054,
          1.436466932296753,
          1.4436886310577393,
          1.4456961154937744,
          1.4497495889663696,
          1.453826904296875,
          1.4569579362869263,
          1.4594714641571045,
          1.4612241983413696,
          1.4630342721939087,
          1.4684921503067017,
          1.4728896617889404,
          1.4780110120773315,
          1.4811400175094604,
          1.4848415851593018,
          1.4888447523117065,
          1.4921191930770874,
          1.4950405359268188,
          1.4965912103652954,
          1.4996294975280762,
          1.4973955154418945,
          1.490279197692871,
          1.4860265254974365,
          1.4948184490203857,
          1.4893546104431152,
          1.4945518970489502,
          1.5074820518493652,
          1.5159273147583008,
          1.52199125289917,
          1.5269551277160645,
          1.5321588516235352,
          1.5375598669052124,
          1.5408003330230713,
          1.5436545610427856,
          1.547572374343872,
          1.5506411790847778,
          1.5543043613433838,
          1.5577031373977661,
          1.561671495437622,
          1.5649887323379517,
          1.569020390510559,
          1.5716060400009155,
          1.5757575035095215,
          1.57823646068573,
          1.5768171548843384,
          1.588324785232544,
          1.5766874551773071,
          1.5767651796340942,
          1.5630948543548584,
          1.5411866903305054,
          1.5393266677856445,
          1.5561288595199585,
          1.580640435218811,
          1.5936222076416016,
          1.6035444736480713,
          1.6162021160125732,
          1.6235005855560303,
          1.624183177947998,
          1.6274229288101196,
          1.6308104991912842,
          1.6351730823516846,
          1.6384499073028564,
          1.6422712802886963,
          1.6451737880706787,
          1.6500962972640991,
          1.6518892049789429,
          1.6571722030639648,
          1.655288577079773,
          1.6635148525238037,
          1.6584007740020752,
          1.6626757383346558,
          1.6674848794937134,
          1.6654845476150513,
          1.665507435798645,
          1.6748126745224,
          1.6773017644882202,
          1.6837676763534546,
          1.6837100982666016,
          1.688515543937683,
          1.6919100284576416,
          1.6937235593795776,
          1.6946227550506592,
          1.6966137886047363,
          1.6942987442016602,
          1.6993746757507324,
          1.694769263267517,
          1.70075261592865,
          1.700798511505127,
          1.7074867486953735,
          1.7131198644638062,
          1.7135889530181885,
          1.7241756916046143,
          1.716088056564331,
          1.7278401851654053,
          1.715167760848999,
          1.7270652055740356,
          1.7167190313339233,
          1.7266587018966675,
          1.7235653400421143,
          1.7273482084274292,
          1.7285618782043457,
          1.7314926385879517,
          1.7375447750091553,
          1.7394355535507202,
          1.7450649738311768,
          1.7452994585037231,
          1.750157117843628,
          1.7466803789138794,
          1.7514064311981201,
          1.7437334060668945,
          1.756704330444336,
          1.7418111562728882,
          1.7533985376358032,
          1.741906762123108,
          1.749483585357666,
          1.7580209970474243,
          1.7646405696868896,
          1.7666845321655273,
          1.7752853631973267,
          1.7689369916915894,
          1.781305193901062,
          1.7704001665115356,
          1.7865897417068481,
          1.771360993385315,
          1.7877421379089355,
          1.7746626138687134,
          1.7904990911483765,
          1.7803544998168945,
          1.7961230278015137,
          1.785251498222351,
          1.8024410009384155,
          1.7885832786560059,
          1.8055896759033203,
          1.78975510597229,
          1.8019602298736572,
          1.7918879985809326,
          1.7928571701049805,
          1.7869960069656372,
          1.7835923433303833,
          1.7760065793991089,
          1.7786238193511963,
          1.7841459512710571,
          1.792331576347351,
          1.8058090209960938,
          1.7999399900436401,
          1.8141655921936035,
          1.796569585800171,
          1.7961101531982422,
          1.8080195188522339,
          1.8064240217208862,
          1.8185285329818726,
          1.8191932439804077,
          1.8256011009216309,
          1.825168490409851,
          1.8299027681350708,
          1.828947901725769,
          1.8332641124725342,
          1.8318402767181396,
          1.8378251791000366,
          1.8340182304382324,
          1.842864990234375,
          1.8349591493606567,
          1.847634196281433,
          1.8340494632720947,
          1.8501418828964233,
          1.8322707414627075,
          1.8470213413238525,
          1.8316487073898315,
          1.8419727087020874,
          1.8392460346221924,
          1.8434206247329712,
          1.848921298980713,
          1.8476667404174805,
          1.8531615734100342,
          1.8497456312179565,
          1.858581781387329,
          1.8493033647537231,
          1.8597291707992554,
          1.8390998840332031,
          1.8403006792068481,
          1.8185179233551025,
          1.8147327899932861,
          1.8131152391433716,
          1.8251917362213135,
          1.8400825262069702,
          1.8472472429275513,
          1.8575271368026733,
          1.855635166168213,
          1.8605387210845947,
          1.8586241006851196,
          1.8653684854507446,
          1.8595829010009766,
          1.8707839250564575,
          1.8602967262268066,
          1.8734081983566284,
          1.860080599784851,
          1.8729994297027588,
          1.8589212894439697,
          1.8724849224090576,
          1.8593134880065918,
          1.8735926151275635,
          1.8665043115615845,
          1.8781782388687134,
          1.871050238609314,
          1.8796770572662354,
          1.866525411605835,
          1.8679933547973633,
          1.859593391418457,
          1.8585807085037231,
          1.866192102432251,
          1.8537206649780273,
          1.866018533706665,
          1.8527226448059082,
          1.8699884414672852,
          1.8682761192321777,
          1.8779587745666504,
          1.8766157627105713,
          1.874126672744751,
          1.8789368867874146,
          1.8686039447784424,
          1.8695061206817627,
          1.868354320526123,
          1.8739291429519653,
          1.8756866455078125,
          1.887357234954834,
          1.8822203874588013,
          1.8961542844772339,
          1.883527159690857,
          1.8993489742279053,
          1.882891058921814,
          1.9000723361968994,
          1.8853857517242432,
          1.896910309791565,
          1.8925302028656006,
          1.8976353406906128,
          1.8995050191879272,
          1.8993421792984009,
          1.9035476446151733,
          1.8987804651260376,
          1.9052128791809082,
          1.8981959819793701,
          1.9055618047714233,
          1.8969396352767944,
          1.9047973155975342,
          1.8978253602981567,
          1.9030373096466064,
          1.899467945098877,
          1.9013808965682983,
          1.9010316133499146,
          1.9013030529022217,
          1.902655839920044,
          1.8990452289581299,
          1.8947895765304565,
          1.889979600906372,
          1.8725050687789917,
          1.8756263256072998,
          1.8570748567581177,
          1.8810911178588867,
          1.8849544525146484,
          1.8957366943359375,
          1.9039685726165771,
          1.8948941230773926,
          1.9097251892089844,
          1.90080726146698,
          1.9082069396972656,
          1.9074347019195557,
          1.9096837043762207,
          1.911649227142334,
          1.9129196405410767,
          1.9135384559631348,
          1.915396809577942,
          1.9162564277648926,
          1.9173465967178345,
          1.9187029600143433,
          1.9186427593231201,
          1.9204343557357788,
          1.9178977012634277,
          1.9205683469772339,
          1.9159051179885864,
          1.9188474416732788,
          1.9137861728668213,
          1.9136630296707153,
          1.9083597660064697,
          1.9069703817367554,
          1.9045474529266357,
          1.9069417715072632,
          1.908980369567871,
          1.9143050909042358,
          1.9153094291687012,
          1.916745662689209,
          1.9166573286056519,
          1.9163416624069214,
          1.9192602634429932,
          1.9183841943740845,
          1.9225064516067505,
          1.9240902662277222,
          1.92179536819458,
          1.931545615196228,
          1.917496919631958,
          1.9366437196731567,
          1.9096364974975586,
          1.929679036140442,
          1.897766351699829,
          1.909666657447815,
          1.8913278579711914,
          1.9033586978912354,
          1.9022789001464844,
          1.922267198562622,
          1.9214189052581787,
          1.9338210821151733,
          1.9226130247116089,
          1.9345232248306274,
          1.9207918643951416,
          1.9315074682235718,
          1.9212623834609985,
          1.9265594482421875,
          1.9278486967086792,
          1.927979826927185,
          1.933863639831543,
          1.9291943311691284,
          1.9355785846710205,
          1.928796648979187,
          1.934935212135315,
          1.9305211305618286,
          1.9354737997055054,
          1.9324750900268555,
          1.9338330030441284,
          1.9322471618652344,
          1.9294073581695557,
          1.9291796684265137,
          1.9209412336349487,
          1.9223586320877075,
          1.9114699363708496,
          1.9215641021728516,
          1.909466028213501,
          1.9291446208953857,
          1.9184503555297852,
          1.9311397075653076,
          1.9256376028060913,
          1.926941990852356,
          1.9326192140579224,
          1.9233635663986206,
          1.9372872114181519,
          1.921708106994629,
          1.934561848640442,
          1.9259694814682007,
          1.9316895008087158,
          1.9358930587768555,
          1.932110071182251,
          1.9398322105407715,
          1.9285755157470703,
          1.9357872009277344,
          1.9249169826507568,
          1.932250738143921,
          1.9278165102005005,
          1.935370922088623,
          1.9347065687179565,
          1.938275694847107,
          1.9378167390823364,
          1.9376115798950195,
          1.935512900352478,
          1.9385334253311157,
          1.9331529140472412,
          1.940474271774292,
          1.9304767847061157,
          1.9399664402008057,
          1.9216084480285645,
          1.9300057888031006,
          1.9054251909255981,
          1.916851282119751,
          1.9059090614318848,
          1.9272538423538208,
          1.9283037185668945,
          1.9343161582946777,
          1.9348031282424927,
          1.9409452676773071,
          1.9396905899047852,
          1.9396129846572876,
          1.9399231672286987,
          1.9392324686050415,
          1.9418880939483643,
          1.9422856569290161,
          1.9430752992630005,
          1.945401906967163,
          1.944039225578308,
          1.947833776473999,
          1.9439295530319214,
          1.948871374130249,
          1.9430426359176636,
          1.9496581554412842,
          1.9425568580627441,
          1.9492387771606445,
          1.9405924081802368,
          1.9436964988708496,
          1.9369233846664429,
          1.931272029876709,
          1.9362919330596924,
          1.9246739149093628,
          1.9389094114303589,
          1.9240025281906128,
          1.9359210729599,
          1.9275213479995728,
          1.934403419494629,
          1.936095952987671,
          1.9387168884277344,
          1.9460968971252441,
          1.9411687850952148,
          1.9507390260696411,
          1.9404855966567993,
          1.9462741613388062,
          1.943070411682129,
          1.9409257173538208,
          1.9449127912521362,
          1.9349431991577148,
          1.943026065826416,
          1.9370121955871582,
          1.9504023790359497,
          1.9482712745666504,
          1.943692922592163,
          1.9464826583862305,
          1.9378242492675781,
          1.946696162223816,
          1.9393606185913086,
          1.945380687713623,
          1.9442187547683716,
          1.947971224784851,
          1.9457972049713135,
          1.9484068155288696
         ]
        },
        {
         "name": "Train Recording 1",
         "type": "scatter",
         "y": [
          1.6043803691864014,
          1.5147401094436646,
          1.6839756965637207,
          2.4469356536865234,
          1.9436960220336914,
          1.9123427867889404,
          4.220388412475586,
          1.9065117835998535,
          1.785127878189087,
          1.5481146574020386,
          1.510461449623108,
          1.5187240839004517,
          1.5101813077926636,
          1.4971861839294434,
          1.489397406578064,
          1.4857265949249268,
          1.4833543300628662,
          1.481582522392273,
          1.48027765750885,
          1.4791208505630493,
          1.4779517650604248,
          1.4768160581588745,
          1.4757741689682007,
          1.4748146533966064,
          1.4738898277282715,
          1.4729632139205933,
          1.4720195531845093,
          1.4710508584976196,
          1.4700418710708618,
          1.4689702987670898,
          1.467819094657898,
          1.4665862321853638,
          1.4652714729309082,
          1.463854193687439,
          1.4623135328292847,
          1.4606287479400635,
          1.4587671756744385,
          1.456693410873413,
          1.4543687105178833,
          1.451777458190918,
          1.4488805532455444,
          1.4456177949905396,
          1.4419604539871216,
          1.437672734260559,
          1.4329029321670532,
          1.4279651641845703,
          1.4238841533660889,
          1.4177768230438232,
          1.4121204614639282,
          1.4049125909805298,
          1.3967247009277344,
          1.3884698152542114,
          1.380081295967102,
          1.3701761960983276,
          1.360918402671814,
          1.3511459827423096,
          1.3430304527282715,
          1.3350368738174438,
          1.3275954723358154,
          1.3203247785568237,
          1.309731364250183,
          1.297792673110962,
          1.2868499755859375,
          1.2749977111816406,
          1.2628828287124634,
          1.2514358758926392,
          1.2401050329208374,
          1.2280793190002441,
          1.2199465036392212,
          1.2188286781311035,
          1.2148114442825317,
          1.211011290550232,
          1.1982263326644897,
          1.1814327239990234,
          1.1641485691070557,
          1.1486437320709229,
          1.1336528062820435,
          1.1205612421035767,
          1.1090039014816284,
          1.0973800420761108,
          1.0871127843856812,
          1.0766197443008423,
          1.065307378768921,
          1.0527764558792114,
          1.0383965969085693,
          1.0246213674545288,
          1.0102930068969727,
          0.9963599443435669,
          0.9826387166976929,
          0.9697415232658386,
          0.9565906524658203,
          0.9455985426902771,
          0.9349982142448425,
          0.9337273240089417,
          0.9398332834243774,
          0.9324706196784973,
          0.9255502820014954,
          0.9028364419937134,
          0.8851100206375122,
          0.8650925755500793,
          0.8493548631668091,
          0.8354193568229675,
          0.8222379684448242,
          0.809255838394165,
          0.7964703440666199,
          0.7838142514228821,
          0.7717023491859436,
          0.759852409362793,
          0.748296856880188,
          0.736965537071228,
          0.7259764075279236,
          0.7150444984436035,
          0.7046542763710022,
          0.6943254470825195,
          0.6851906180381775,
          0.6759975552558899,
          0.6663066744804382,
          0.6577942967414856,
          0.6509535908699036,
          0.653073787689209,
          0.6672903895378113,
          0.6676080226898193,
          0.6670876741409302,
          0.6637263894081116,
          0.6453486084938049,
          0.6310131549835205,
          0.6125518083572388,
          0.6013773083686829,
          0.5896874070167542,
          0.5809242725372314,
          0.5718820095062256,
          0.5633585453033447,
          0.5550766587257385,
          0.5472158789634705,
          0.5396522879600525,
          0.5325548052787781,
          0.5260506272315979,
          0.5192737579345703,
          0.5135695934295654,
          0.5078721046447754,
          0.5043227672576904,
          0.5009467601776123,
          0.4963172674179077,
          0.49119651317596436,
          0.48560968041419983,
          0.4797704517841339,
          0.47686612606048584,
          0.4748043119907379,
          0.4701438844203949,
          0.4631945788860321,
          0.456564337015152,
          0.4516109824180603,
          0.4476020634174347,
          0.4446154832839966,
          0.44327011704444885,
          0.4436336159706116,
          0.4431571364402771,
          0.4411723017692566,
          0.4330718517303467,
          0.4264730215072632,
          0.41956833004951477,
          0.4146665036678314,
          0.41100558638572693,
          0.40987449884414673,
          0.4091814160346985,
          0.40762171149253845,
          0.40536823868751526,
          0.40262898802757263,
          0.4001671075820923,
          0.397870272397995,
          0.3964402973651886,
          0.39206159114837646,
          0.3872593939304352,
          0.3812640905380249,
          0.3771784007549286,
          0.3736265003681183,
          0.3705536723136902,
          0.3674987256526947,
          0.36494770646095276,
          0.36277666687965393,
          0.3626728951931,
          0.3656589388847351,
          0.3716249167919159,
          0.37840914726257324,
          0.3725053668022156,
          0.362371563911438,
          0.3505457937717438,
          0.3456922769546509,
          0.34367799758911133,
          0.3426269590854645,
          0.34162724018096924,
          0.33869850635528564,
          0.33611032366752625,
          0.33515724539756775,
          0.33495181798934937,
          0.3342944383621216,
          0.33217376470565796,
          0.329725444316864,
          0.32645875215530396,
          0.3233018219470978,
          0.32027941942214966,
          0.31772473454475403,
          0.31569790840148926,
          0.3141838014125824,
          0.3130703270435333,
          0.3126152753829956,
          0.31286919116973877,
          0.31355616450309753,
          0.31508392095565796,
          0.31379780173301697,
          0.31123173236846924,
          0.30468058586120605,
          0.30253520607948303,
          0.3030756115913391,
          0.3010770380496979,
          0.29621821641921997,
          0.29919156432151794,
          0.30872461199760437,
          0.3127765357494354,
          0.29860344529151917,
          0.28901708126068115,
          0.2853846848011017,
          0.2831428050994873,
          0.28103771805763245,
          0.27916064858436584,
          0.2774064540863037,
          0.2756822407245636,
          0.2740640938282013,
          0.27254289388656616,
          0.2710795998573303,
          0.2696358263492584,
          0.26823899149894714,
          0.2670375108718872,
          0.2660694122314453,
          0.2656905949115753,
          0.2659347355365753,
          0.26710963249206543,
          0.26836708188056946,
          0.2674008309841156,
          0.26424118876457214,
          0.2598121166229248,
          0.2568006217479706,
          0.25601986050605774,
          0.25596481561660767,
          0.2557612657546997,
          0.25367239117622375,
          0.2503524720668793,
          0.24794135987758636,
          0.2484768182039261,
          0.2523329257965088,
          0.2605883479118347,
          0.2678796052932739,
          0.2764914929866791,
          0.2692512571811676,
          0.25918063521385193,
          0.2480345070362091,
          0.2416619062423706,
          0.2380644828081131,
          0.23554997146129608,
          0.2334202527999878,
          0.2316986471414566,
          0.2305549532175064,
          0.22940590977668762,
          0.22821950912475586,
          0.22731027007102966,
          0.2267887443304062,
          0.22656217217445374,
          0.22672873735427856,
          0.22686588764190674,
          0.2269582897424698,
          0.22647437453269958,
          0.2250717282295227,
          0.2215629667043686,
          0.2176201343536377,
          0.2155604213476181,
          0.21759161353111267,
          0.22266428172588348,
          0.22857965528964996,
          0.22904178500175476,
          0.2237946093082428,
          0.21689626574516296,
          0.21259742975234985,
          0.2092336267232895,
          0.20806188881397247,
          0.20667923986911774,
          0.205783411860466,
          0.20456814765930176,
          0.2029820829629898,
          0.20267529785633087,
          0.20602956414222717,
          0.21125532686710358,
          0.21506750583648682,
          0.20997153222560883,
          0.20293426513671875,
          0.19707445800304413,
          0.19414369761943817,
          0.19218824803829193,
          0.19082558155059814,
          0.19007831811904907,
          0.19011671841144562,
          0.19067101180553436,
          0.19131015241146088,
          0.19101957976818085,
          0.189680278301239,
          0.1867431253194809,
          0.18371909856796265,
          0.18131835758686066,
          0.17978551983833313,
          0.17873366177082062,
          0.17789947986602783,
          0.17704765498638153,
          0.1764594316482544,
          0.17602825164794922,
          0.17546625435352325,
          0.17459355294704437,
          0.17330408096313477,
          0.17184939980506897,
          0.17042799293994904,
          0.16914072632789612,
          0.16829293966293335,
          0.1680370718240738,
          0.16887421905994415,
          0.17084597051143646,
          0.17403657734394073,
          0.17635492980480194,
          0.1824747920036316,
          0.18569764494895935,
          0.18912377953529358,
          0.1813475489616394,
          0.17496785521507263,
          0.17023758590221405,
          0.16579918563365936,
          0.16241171956062317,
          0.1625412404537201,
          0.162826806306839,
          0.16031242907047272,
          0.15576015412807465,
          0.15367326140403748,
          0.15290847420692444,
          0.1517336219549179,
          0.15025807917118073,
          0.14887157082557678,
          0.14773613214492798,
          0.14684756100177765,
          0.14622271060943604,
          0.14594411849975586,
          0.146018847823143,
          0.14625613391399384,
          0.1464431881904602,
          0.14589327573776245,
          0.14533546566963196,
          0.14476916193962097,
          0.14476588368415833,
          0.1444421261548996,
          0.1444547474384308,
          0.14350156486034393,
          0.14314909279346466,
          0.14213153719902039,
          0.14135117828845978,
          0.14006364345550537,
          0.13949665427207947,
          0.13938161730766296,
          0.1395239531993866,
          0.138173446059227,
          0.1361285001039505,
          0.1339331865310669,
          0.13271364569664001,
          0.13180725276470184,
          0.13113555312156677,
          0.13079693913459778,
          0.1317579597234726,
          0.1351148784160614,
          0.1417963057756424,
          0.14688056707382202,
          0.15298992395401,
          0.14829197525978088,
          0.14412842690944672,
          0.1359243541955948,
          0.13034950196743011,
          0.12573373317718506,
          0.12379788607358932,
          0.12295186519622803,
          0.12246369570493698,
          0.1227935254573822,
          0.12427964806556702,
          0.12489914149045944,
          0.12402702122926712,
          0.12114634364843369,
          0.11924998462200165,
          0.11831425130367279,
          0.11816457659006119,
          0.11807641386985779,
          0.11701340973377228,
          0.11506398767232895,
          0.11302193254232407,
          0.11175411194562912,
          0.11133859306573868,
          0.11131434142589569,
          0.11183587461709976,
          0.11258000135421753,
          0.11388938874006271,
          0.1147388219833374,
          0.11600551754236221,
          0.11570409685373306,
          0.11560530960559845,
          0.11444003880023956,
          0.1139320507645607,
          0.11288031935691833,
          0.111772321164608,
          0.11044056713581085,
          0.1093778982758522,
          0.10797861218452454,
          0.10676448792219162,
          0.10638466477394104,
          0.10746070742607117,
          0.10899705439805984,
          0.10826480388641357,
          0.10422234237194061,
          0.09991239011287689,
          0.09828652441501617,
          0.09872670471668243,
          0.09973838925361633,
          0.1010947972536087,
          0.10199132561683655,
          0.10285450518131256,
          0.1024710088968277,
          0.10145649313926697,
          0.09995207190513611,
          0.09846839308738708,
          0.09764810651540756,
          0.0973445400595665,
          0.09681719541549683,
          0.09547184407711029,
          0.09443645179271698,
          0.09430667757987976,
          0.09487024694681168,
          0.0963338166475296,
          0.09846210479736328,
          0.10298936814069748,
          0.10709704458713531,
          0.11183950304985046,
          0.11043159663677216,
          0.10774938762187958,
          0.10092484951019287,
          0.09437243640422821,
          0.09026395529508591,
          0.08896894752979279,
          0.08868810534477234,
          0.0885191559791565,
          0.08826322853565216,
          0.08743660897016525,
          0.08600141853094101,
          0.08464422076940536,
          0.08342170715332031,
          0.08251876384019852,
          0.08188147097826004,
          0.08167797327041626,
          0.0819164365530014,
          0.08235590159893036,
          0.08253162354230881,
          0.08214638382196426,
          0.08133864402770996,
          0.08087980002164841,
          0.08170440793037415,
          0.08447358012199402,
          0.08842974156141281,
          0.09262745827436447,
          0.09306139498949051,
          0.09104269742965698,
          0.08965431898832321,
          0.09239756315946579,
          0.09514576941728592,
          0.09455366432666779,
          0.08894304931163788,
          0.08371535688638687,
          0.07993582636117935,
          0.07680749148130417,
          0.07457804679870605,
          0.07465597242116928,
          0.07621968537569046,
          0.07679461687803268,
          0.07493531703948975,
          0.07320157438516617,
          0.07252484560012817,
          0.07239797711372375,
          0.07201454788446426,
          0.07244078814983368,
          0.07398052513599396,
          0.07641018182039261,
          0.07825276255607605,
          0.07901613414287567,
          0.07870566099882126,
          0.0809166356921196,
          0.0814538300037384,
          0.07878091931343079,
          0.07448568195104599,
          0.07214795798063278,
          0.07074927538633347,
          0.06993045657873154,
          0.06904575973749161,
          0.06817544251680374
         ]
        },
        {
         "name": "Test Recording 2",
         "type": "scatter",
         "y": [
          14.42041015625,
          10.979236602783203,
          9.8859281539917,
          6.488637447357178,
          2.8375089168548584,
          5.035156726837158,
          11.373974800109863,
          4.400421142578125,
          8.353201866149902,
          6.069825649261475,
          3.1884005069732666,
          2.993778944015503,
          2.8559062480926514,
          2.7083780765533447,
          2.644476890563965,
          2.619410991668701,
          2.6061413288116455,
          2.59006929397583,
          2.572622299194336,
          2.5581326484680176,
          2.5487020015716553,
          2.5439703464508057,
          2.541879415512085,
          2.539919137954712,
          2.5359818935394287,
          2.52962064743042,
          2.5218780040740967,
          2.5136804580688477,
          2.505505323410034,
          2.497107744216919,
          2.4876389503479004,
          2.4773426055908203,
          2.4655261039733887,
          2.4524052143096924,
          2.439023017883301,
          2.426633834838867,
          2.4126932621002197,
          2.3977837562561035,
          2.3849751949310303,
          2.36987566947937,
          2.3637759685516357,
          2.3504416942596436,
          2.3502774238586426,
          2.328897476196289,
          2.3391273021698,
          2.3564164638519287,
          2.679928779602051,
          2.380897283554077,
          2.372314691543579,
          2.3855743408203125,
          2.4157869815826416,
          2.3026204109191895,
          2.290274143218994,
          2.320971965789795,
          2.2694053649902344,
          2.323974132537842,
          2.349015951156616,
          2.6344661712646484,
          2.3123247623443604,
          2.2973885536193848,
          2.337388753890991,
          2.3044843673706055,
          2.2583799362182617,
          2.303361415863037,
          2.285820484161377,
          2.2958192825317383,
          2.2949445247650146,
          2.3034162521362305,
          2.50490140914917,
          2.9575135707855225,
          2.403919219970703,
          2.3781511783599854,
          2.331465482711792,
          2.3334097862243652,
          2.3050408363342285,
          2.2686643600463867,
          2.3509769439697266,
          2.3336470127105713,
          2.3963680267333984,
          2.343456983566284,
          2.409716844558716,
          2.359253406524658,
          2.3940515518188477,
          2.36650013923645,
          2.3959550857543945,
          2.3756320476531982,
          2.3994522094726562,
          2.401045560836792,
          2.429023265838623,
          2.3932907581329346,
          2.4402341842651367,
          2.4061245918273926,
          2.4826724529266357,
          2.844728946685791,
          2.4408748149871826,
          2.54593563079834,
          2.367969512939453,
          2.343585968017578,
          2.360072135925293,
          2.3498449325561523,
          2.349137544631958,
          2.337231159210205,
          2.359794855117798,
          2.365260124206543,
          2.3691062927246094,
          2.381969928741455,
          2.3882975578308105,
          2.3983170986175537,
          2.403866767883301,
          2.414053440093994,
          2.4147064685821533,
          2.4259443283081055,
          2.418858289718628,
          2.42341685295105,
          2.4769093990325928,
          2.399808168411255,
          2.3844943046569824,
          2.3994550704956055,
          2.4357481002807617,
          2.3896944522857666,
          2.493926525115967,
          2.4654698371887207,
          2.5161874294281006,
          2.409331798553467,
          2.425840377807617,
          2.4700469970703125,
          2.440563201904297,
          2.431201457977295,
          2.4616847038269043,
          2.4594533443450928,
          2.4824445247650146,
          2.4793663024902344,
          2.492914915084839,
          2.5037238597869873,
          2.508507013320923,
          2.5255792140960693,
          2.5268259048461914,
          2.546491861343384,
          2.5408990383148193,
          2.555854320526123,
          2.6014509201049805,
          2.5356192588806152,
          2.4655861854553223,
          2.51680588722229,
          2.49180269241333,
          2.5290205478668213,
          2.5112733840942383,
          2.550651788711548,
          2.564283847808838,
          2.5677430629730225,
          2.5559871196746826,
          2.5857441425323486,
          2.551466464996338,
          2.6044116020202637,
          2.5497846603393555,
          2.5920631885528564,
          2.5270745754241943,
          2.5446319580078125,
          2.5768632888793945,
          2.575772762298584,
          2.604680299758911,
          2.5905542373657227,
          2.6208038330078125,
          2.601844072341919,
          2.6287689208984375,
          2.6129846572875977,
          2.636532783508301,
          2.6287431716918945,
          2.636251449584961,
          2.6135094165802,
          2.6159520149230957,
          2.6140785217285156,
          2.6429898738861084,
          2.641296625137329,
          2.6544368267059326,
          2.6569929122924805,
          2.6527535915374756,
          2.6771035194396973,
          2.6466422080993652,
          2.6894497871398926,
          2.6383016109466553,
          2.711021661758423,
          2.618851900100708,
          2.6327145099639893,
          2.641693353652954,
          2.643308639526367,
          2.6677069664001465,
          2.653933525085449,
          2.6709744930267334,
          2.657665729522705,
          2.6681041717529297,
          2.6730875968933105,
          2.6685078144073486,
          2.686311960220337,
          2.6652414798736572,
          2.6899709701538086,
          2.6659457683563232,
          2.69728946685791,
          2.679265260696411,
          2.70624041557312,
          2.6890664100646973,
          2.7118923664093018,
          2.700974702835083,
          2.7152066230773926,
          2.717435598373413,
          2.708970069885254,
          2.7103323936462402,
          2.669414520263672,
          2.6733717918395996,
          2.6913177967071533,
          2.680593967437744,
          2.7464022636413574,
          2.695673704147339,
          2.735058546066284,
          2.6707208156585693,
          2.654665231704712,
          2.7082505226135254,
          2.6750290393829346,
          2.713785409927368,
          2.700432538986206,
          2.71598744392395,
          2.724030017852783,
          2.7175607681274414,
          2.7267491817474365,
          2.7276077270507812,
          2.733847141265869,
          2.7411868572235107,
          2.7437658309936523,
          2.750755548477173,
          2.753239870071411,
          2.7569291591644287,
          2.7614057064056396,
          2.762838363647461,
          2.765395402908325,
          2.765767812728882,
          2.764498233795166,
          2.7676613330841064,
          2.768105983734131,
          2.7559521198272705,
          2.7673733234405518,
          2.7570340633392334,
          2.790771245956421,
          2.762465715408325,
          2.7879176139831543,
          2.7584831714630127,
          2.7603824138641357,
          2.7590293884277344,
          2.7560102939605713,
          2.775099277496338,
          2.75422739982605,
          2.781101942062378,
          2.7471213340759277,
          2.7507269382476807,
          2.7805800437927246,
          2.7405340671539307,
          2.7993509769439697,
          2.7425217628479004,
          2.775393486022949,
          2.776254177093506,
          2.772752046585083,
          2.7882182598114014,
          2.7724900245666504,
          2.786975145339966,
          2.785677194595337,
          2.7879793643951416,
          2.7935636043548584,
          2.782630681991577,
          2.7930338382720947,
          2.781871795654297,
          2.7887463569641113,
          2.7817516326904297,
          2.786140203475952,
          2.7859201431274414,
          2.7997918128967285,
          2.7916722297668457,
          2.820305347442627,
          2.790640115737915,
          2.8450710773468018,
          2.7835404872894287,
          2.79988431930542,
          2.7913777828216553,
          2.7780063152313232,
          2.8200857639312744,
          2.760549306869507,
          2.8514862060546875,
          2.7489802837371826,
          2.7879202365875244,
          2.7695887088775635,
          2.7727413177490234,
          2.785684823989868,
          2.7828733921051025,
          2.7829091548919678,
          2.7997682094573975,
          2.7824020385742188,
          2.8127005100250244,
          2.7873647212982178,
          2.8166756629943848,
          2.798116445541382,
          2.8162851333618164,
          2.805675506591797,
          2.8240549564361572,
          2.803354024887085,
          2.8160452842712402,
          2.7885332107543945,
          2.7979979515075684,
          2.790271520614624,
          2.807544469833374,
          2.7999353408813477,
          2.815943717956543,
          2.7980122566223145,
          2.822087526321411,
          2.7917771339416504,
          2.8274872303009033,
          2.7886078357696533,
          2.8270230293273926,
          2.787646532058716,
          2.824208974838257,
          2.787597417831421,
          2.825500726699829,
          2.7888009548187256,
          2.8337714672088623,
          2.791123390197754,
          2.827101230621338,
          2.792703866958618,
          2.8174784183502197,
          2.7939600944519043,
          2.8330769538879395,
          2.7882080078125,
          2.8586554527282715,
          2.7942020893096924,
          2.797548770904541,
          2.8099074363708496,
          2.779297113418579,
          2.8281030654907227,
          2.7917771339416504,
          2.7976324558258057,
          2.816077470779419,
          2.8040497303009033,
          2.815976619720459,
          2.8135788440704346,
          2.8119864463806152,
          2.8228373527526855,
          2.8132710456848145,
          2.831197738647461,
          2.816066265106201,
          2.8355712890625,
          2.821467399597168,
          2.8299686908721924,
          2.8249852657318115,
          2.827831983566284,
          2.827533483505249,
          2.836503744125366,
          2.828310012817383,
          2.8500161170959473,
          2.820241928100586,
          2.8671343326568604,
          2.8113608360290527,
          2.8656392097473145,
          2.810579299926758,
          2.8433804512023926,
          2.8225293159484863,
          2.8416013717651367,
          2.8365559577941895,
          2.852350950241089,
          2.8447399139404297,
          2.855881929397583,
          2.849900245666504,
          2.8560781478881836,
          2.856788396835327,
          2.8565268516540527,
          2.8663249015808105,
          2.8577141761779785,
          2.8757269382476807,
          2.867650032043457,
          2.8734076023101807,
          2.8865966796875,
          2.8428568840026855,
          2.89654803276062,
          2.8230502605438232,
          2.877690076828003,
          2.8424155712127686,
          2.843698501586914,
          2.858999729156494,
          2.839237689971924,
          2.859123468399048,
          2.8577184677124023,
          2.862246036529541,
          2.8728384971618652,
          2.858445405960083,
          2.8813490867614746,
          2.8592514991760254,
          2.881932258605957,
          2.8618288040161133,
          2.877865791320801,
          2.868887186050415,
          2.879016637802124,
          2.8765413761138916,
          2.880995035171509,
          2.8809585571289062,
          2.8840930461883545,
          2.8797762393951416,
          2.8902976512908936,
          2.870483636856079,
          2.90183424949646,
          2.868248701095581,
          2.9162323474884033,
          2.8652355670928955,
          2.9195919036865234,
          2.8653745651245117,
          2.8865966796875,
          2.8680264949798584,
          2.874387502670288,
          2.8835461139678955,
          2.902223587036133,
          2.8897705078125,
          2.9026706218719482,
          2.8748886585235596,
          2.8845276832580566,
          2.873884439468384,
          2.8821239471435547,
          2.88032865524292,
          2.8914432525634766,
          2.87955904006958,
          2.8933990001678467,
          2.881051540374756,
          2.902392625808716,
          2.8857004642486572,
          2.9068260192871094,
          2.8940203189849854,
          2.9053337574005127,
          2.9015591144561768,
          2.8943593502044678,
          2.8963122367858887,
          2.877631187438965,
          2.8986105918884277,
          2.877775192260742,
          2.901020050048828,
          2.8885297775268555,
          2.895908832550049,
          2.913026809692383,
          2.883434534072876,
          2.926159143447876,
          2.8681235313415527,
          2.9152069091796875,
          2.869008779525757,
          2.8769960403442383,
          2.8791208267211914,
          2.8763301372528076,
          2.8897275924682617,
          2.8843350410461426,
          2.8836426734924316,
          2.8925106525421143,
          2.8887712955474854,
          2.897812604904175,
          2.891756057739258,
          2.9016294479370117,
          2.9018845558166504,
          2.901398181915283,
          2.907583236694336,
          2.8990228176116943,
          2.9069743156433105,
          2.8913400173187256,
          2.9062530994415283,
          2.8927202224731445,
          2.9008007049560547,
          2.899242639541626,
          2.8958730697631836,
          2.9113028049468994,
          2.89030122756958,
          2.924600839614868,
          2.8808774948120117,
          2.908389091491699,
          2.8810875415802,
          2.9054455757141113,
          2.901547431945801,
          2.9144530296325684,
          2.9081521034240723,
          2.9216301441192627,
          2.9059674739837646,
          2.918182373046875,
          2.9015066623687744,
          2.90445876121521,
          2.897987127304077,
          2.9154460430145264,
          2.894014835357666,
          2.9373626708984375,
          2.8831026554107666,
          2.950775146484375,
          2.880634307861328,
          2.9143543243408203,
          2.8891208171844482,
          2.886909008026123,
          2.887824535369873,
          2.9075469970703125,
          2.8986802101135254,
          2.914828300476074,
          2.899571657180786,
          2.9216246604919434,
          2.902265787124634,
          2.9298994541168213,
          2.901632308959961
         ]
        },
        {
         "name": "Train Recording 2",
         "type": "scatter",
         "y": [
          13.784407615661621,
          20.039966583251953,
          12.342545509338379,
          19.737062454223633,
          2.3247623443603516,
          2.693068265914917,
          17.143390655517578,
          4.212159633636475,
          23.173648834228516,
          7.687629222869873,
          2.9013845920562744,
          2.494720220565796,
          2.4050533771514893,
          2.2371487617492676,
          2.1646790504455566,
          2.1372392177581787,
          2.1247966289520264,
          2.1103031635284424,
          2.09134578704834,
          2.072507381439209,
          2.055699586868286,
          2.040174961090088,
          2.025672674179077,
          2.011737108230591,
          1.9975258111953735,
          1.9824728965759277,
          1.9666279554367065,
          1.9499176740646362,
          1.9321691989898682,
          1.9130127429962158,
          1.8922398090362549,
          1.869551420211792,
          1.8449963331222534,
          1.8184704780578613,
          1.789738655090332,
          1.7589139938354492,
          1.7263081073760986,
          1.6922489404678345,
          1.6569976806640625,
          1.6206109523773193,
          1.5825169086456299,
          1.5439684391021729,
          1.507622480392456,
          1.4843723773956299,
          1.543540120124817,
          2.025236129760742,
          1.8614023923873901,
          1.5670180320739746,
          1.607845425605774,
          1.4650028944015503,
          1.4344402551651,
          1.3189395666122437,
          1.2712575197219849,
          1.2453434467315674,
          1.236686110496521,
          1.3083504438400269,
          1.7885369062423706,
          1.5852108001708984,
          1.2644703388214111,
          1.2649983167648315,
          1.1325721740722656,
          1.065947413444519,
          1.0113927125930786,
          0.9517108798027039,
          0.910571813583374,
          0.8795248866081238,
          0.8823553919792175,
          1.1129530668258667,
          2.3433353900909424,
          1.769995093345642,
          1.2551326751708984,
          1.3101046085357666,
          1.1926229000091553,
          1.0403425693511963,
          0.9528471827507019,
          0.9034786820411682,
          0.8487303853034973,
          0.8065568804740906,
          0.7589285969734192,
          0.7265138030052185,
          0.7037612199783325,
          0.6899541020393372,
          0.6930273771286011,
          0.6902579069137573,
          0.6910966038703918,
          0.6116383075714111,
          0.6027763485908508,
          0.6214606165885925,
          0.5792674422264099,
          0.5670634508132935,
          0.5796741247177124,
          0.7211856842041016,
          1.171586036682129,
          1.7532844543457031,
          0.8951238989830017,
          1.0319037437438965,
          0.8023852705955505,
          0.7062278389930725,
          0.6144304275512695,
          0.5650975108146667,
          0.5342006087303162,
          0.5100576281547546,
          0.486766517162323,
          0.4696510434150696,
          0.4575980305671692,
          0.44667577743530273,
          0.4366414546966553,
          0.427429735660553,
          0.4195351004600525,
          0.41345202922821045,
          0.41088852286338806,
          0.4149751365184784,
          0.4520335793495178,
          0.4887453019618988,
          0.6094549298286438,
          0.44045066833496094,
          0.4242280423641205,
          0.4224110245704651,
          0.37988191843032837,
          0.37085139751434326,
          0.43922191858291626,
          0.5778522491455078,
          0.4884450435638428,
          0.4266200661659241,
          0.4195043444633484,
          0.43116411566734314,
          0.37522029876708984,
          0.33265283703804016,
          0.3348768949508667,
          0.33158260583877563,
          0.32145926356315613,
          0.30946508049964905,
          0.3022107481956482,
          0.29922133684158325,
          0.2964378595352173,
          0.297450453042984,
          0.3047031760215759,
          0.323436439037323,
          0.3752190172672272,
          0.44702568650245667,
          0.5524118542671204,
          0.3801101744174957,
          0.30176490545272827,
          0.3185756802558899,
          0.3005784749984741,
          0.27827662229537964,
          0.2709714472293854,
          0.2775743007659912,
          0.2797290086746216,
          0.2668329179286957,
          0.2665887773036957,
          0.28163060545921326,
          0.31708216667175293,
          0.3549669086933136,
          0.38977646827697754,
          0.3232821226119995,
          0.25880861282348633,
          0.23707275092601776,
          0.23661813139915466,
          0.23658864200115204,
          0.2348756045103073,
          0.23516963422298431,
          0.23648515343666077,
          0.24048586189746857,
          0.2491140216588974,
          0.2649931311607361,
          0.28997570276260376,
          0.31212079524993896,
          0.2850463092327118,
          0.24403256177902222,
          0.21283870935440063,
          0.21227756142616272,
          0.21456296741962433,
          0.21234768629074097,
          0.20741137862205505,
          0.20498210191726685,
          0.2075122594833374,
          0.21835948526859283,
          0.24706418812274933,
          0.29230111837387085,
          0.37077388167381287,
          0.3406359851360321,
          0.2660108804702759,
          0.201414555311203,
          0.1944808065891266,
          0.1980101317167282,
          0.20102417469024658,
          0.2105771154165268,
          0.2084883749485016,
          0.20487664639949799,
          0.20274342596530914,
          0.20830175280570984,
          0.21683581173419952,
          0.2194146066904068,
          0.21249741315841675,
          0.19685998558998108,
          0.18473660945892334,
          0.17745156586170197,
          0.17541655898094177,
          0.17442506551742554,
          0.17849893867969513,
          0.18573959171772003,
          0.20417825877666473,
          0.2289419174194336,
          0.26232799887657166,
          0.2618674337863922,
          0.2282867282629013,
          0.18149434030056,
          0.15808050334453583,
          0.16500860452651978,
          0.20673498511314392,
          0.2782381772994995,
          0.341361403465271,
          0.24294458329677582,
          0.17024122178554535,
          0.17345908284187317,
          0.1755760759115219,
          0.1726762056350708,
          0.16346971690654755,
          0.15698063373565674,
          0.1536729633808136,
          0.1483299434185028,
          0.14093244075775146,
          0.13484717905521393,
          0.13188178837299347,
          0.13032998144626617,
          0.1290031224489212,
          0.127921923995018,
          0.1272643506526947,
          0.127506285905838,
          0.12911441922187805,
          0.13290458917617798,
          0.14053204655647278,
          0.1518973410129547,
          0.17004211246967316,
          0.18026116490364075,
          0.19028669595718384,
          0.16745272278785706,
          0.14573867619037628,
          0.14091114699840546,
          0.154710054397583,
          0.16889630258083344,
          0.17802049219608307,
          0.15771079063415527,
          0.13360680639743805,
          0.11995835602283478,
          0.11852610856294632,
          0.1257823258638382,
          0.13552971184253693,
          0.14499755203723907,
          0.13420403003692627,
          0.11581402271986008,
          0.10930496454238892,
          0.1205642968416214,
          0.13322146236896515,
          0.12561272084712982,
          0.10865897685289383,
          0.1032111793756485,
          0.10517367720603943,
          0.10616137087345123,
          0.10233443230390549,
          0.09862259775400162,
          0.09683296829462051,
          0.09779617935419083,
          0.1015147864818573,
          0.10706289112567902,
          0.11510024219751358,
          0.11723189055919647,
          0.11795931309461594,
          0.10721395909786224,
          0.09467235207557678,
          0.08519257605075836,
          0.08285853266716003,
          0.08678743988275528,
          0.09661129117012024,
          0.11246568709611893,
          0.13613763451576233,
          0.1402704417705536,
          0.11930051445960999,
          0.09162277728319168,
          0.08524257689714432,
          0.09726846218109131,
          0.12896613776683807,
          0.18148337304592133,
          0.18821193277835846,
          0.1431262344121933,
          0.08475255966186523,
          0.0822511538863182,
          0.08670832961797714,
          0.08353603631258011,
          0.0781344398856163,
          0.07432730495929718,
          0.07353241741657257,
          0.07389870285987854,
          0.07409227639436722,
          0.07370704412460327,
          0.0746859684586525,
          0.0796702653169632,
          0.0904502272605896,
          0.1054224893450737,
          0.13037331402301788,
          0.12849105894565582,
          0.11968810856342316,
          0.08687213808298111,
          0.06994550675153732,
          0.06579309701919556,
          0.06693195551633835,
          0.07027246803045273,
          0.07562284916639328,
          0.08181093633174896,
          0.08683586120605469,
          0.08911976963281631,
          0.08621921390295029,
          0.08266600221395493,
          0.07716967165470123,
          0.07381613552570343,
          0.07141710072755814,
          0.07213333994150162,
          0.07420626282691956,
          0.07936908304691315,
          0.08447492122650146,
          0.08659938722848892,
          0.08134356886148453,
          0.07054608315229416,
          0.060957565903663635,
          0.058899350464344025,
          0.07084406912326813,
          0.1004716008901596,
          0.13915188610553741,
          0.13162055611610413,
          0.08855044096708298,
          0.08242324739694595,
          0.09005029499530792,
          0.07679196447134018,
          0.058265626430511475,
          0.05194178968667984,
          0.05085223913192749,
          0.048925332725048065,
          0.04736516252160072,
          0.04722936451435089,
          0.048818379640579224,
          0.05180344358086586,
          0.055969201028347015,
          0.062025584280490875,
          0.0678868517279625,
          0.07485313713550568,
          0.07209884375333786,
          0.06678348034620285,
          0.05745742470026016,
          0.051101863384246826,
          0.04772631824016571,
          0.047112129628658295,
          0.04980505630373955,
          0.05616742745041847,
          0.06864719837903976,
          0.07856772840023041,
          0.08716130256652832,
          0.07479867339134216,
          0.06018197536468506,
          0.04841949790716171,
          0.04329576715826988,
          0.04148027300834656,
          0.04094536975026131,
          0.04124141111969948,
          0.04174595698714256,
          0.0420096255838871,
          0.042032863944768906,
          0.04226614534854889,
          0.0440731905400753,
          0.04865330085158348,
          0.05832108482718468,
          0.06843765079975128,
          0.07681484520435333,
          0.07304907590150833,
          0.05740099400281906,
          0.054618097841739655,
          0.06552477180957794,
          0.08508039265871048,
          0.09885735809803009,
          0.08235351741313934,
          0.06017587333917618,
          0.050917886197566986,
          0.04900246486067772,
          0.04268364608287811,
          0.03666270524263382,
          0.03510750085115433,
          0.037208665162324905,
          0.04128506779670715,
          0.04500385746359825,
          0.047297634184360504,
          0.046787064522504807,
          0.04448183625936508,
          0.040597133338451385,
          0.03780558705329895,
          0.03688718006014824,
          0.03828951716423035,
          0.04187266528606415,
          0.04712352901697159,
          0.054228316992521286,
          0.05927072465419769,
          0.06416621804237366,
          0.06020791083574295,
          0.05639829859137535,
          0.05447794124484062,
          0.06241675466299057,
          0.0737348198890686,
          0.09002670645713806,
          0.09268640726804733,
          0.07017689943313599,
          0.056970756500959396,
          0.039298269897699356,
          0.03059031255543232,
          0.034250617027282715,
          0.04606976360082626,
          0.058773305267095566,
          0.06438735872507095,
          0.059522826224565506,
          0.04729129746556282,
          0.0426170751452446,
          0.0419546402990818,
          0.04119279608130455,
          0.038144852966070175,
          0.03447794169187546,
          0.03192473202943802,
          0.03145842254161835,
          0.032403212040662766,
          0.033631984144449234,
          0.035432808101177216,
          0.036181624978780746,
          0.03852386400103569,
          0.03738973289728165,
          0.036097198724746704,
          0.03386593982577324,
          0.03312164172530174,
          0.03183624520897865,
          0.030195510014891624,
          0.028430940583348274,
          0.02995508909225464,
          0.038387805223464966,
          0.05689340829849243,
          0.08632174879312515,
          0.10413552075624466,
          0.11104688793420792,
          0.06900943070650101,
          0.03988182544708252,
          0.0416073352098465,
          0.04020775109529495,
          0.03428880125284195,
          0.026989063248038292,
          0.023487361147999763,
          0.022261405363678932,
          0.02214261330664158,
          0.022769954055547714,
          0.0238780677318573,
          0.025518903508782387,
          0.028148697689175606,
          0.03206085413694382,
          0.036256685853004456,
          0.040934134274721146,
          0.04162396863102913,
          0.03994547575712204,
          0.037645719945430756,
          0.033860813826322556,
          0.030651232227683067,
          0.02742573618888855,
          0.02498306706547737,
          0.02469062991440296,
          0.02969428524374962,
          0.0388730950653553,
          0.04748214781284332,
          0.044008467346429825,
          0.03330954164266586,
          0.026543162763118744,
          0.024418771266937256,
          0.025748858228325844,
          0.03033563867211342,
          0.03750487044453621,
          0.04204089194536209,
          0.04516464099287987,
          0.03639599308371544,
          0.027204863727092743,
          0.020946413278579712,
          0.02009515091776848,
          0.02440233901143074,
          0.036214567720890045,
          0.060738809406757355,
          0.08586243540048599,
          0.11727507412433624,
          0.06799996644258499,
          0.02731282263994217,
          0.020331181585788727,
          0.01891404017806053,
          0.01841047964990139,
          0.01864231750369072,
          0.020386449992656708,
          0.0231296606361866,
          0.025588009506464005,
          0.027689432725310326,
          0.030011776834726334,
          0.03300969675183296,
          0.03651195392012596
         ]
        },
        {
         "name": "Test Recording 3",
         "type": "scatter",
         "y": [
          2.078702449798584,
          2.6758852005004883,
          5.151273250579834,
          7.417679786682129,
          4.811585426330566,
          14.979984283447266,
          3.007058620452881,
          2.1907012462615967,
          2.728369951248169,
          1.7152265310287476,
          1.8871078491210938,
          1.9000017642974854,
          1.7825771570205688,
          1.7146775722503662,
          1.6949154138565063,
          1.6724332571029663,
          1.6440891027450562,
          1.623857855796814,
          1.6132283210754395,
          1.6073096990585327,
          1.6031694412231445,
          1.6000416278839111,
          1.5976144075393677,
          1.5955415964126587,
          1.593589186668396,
          1.591670036315918,
          1.5897886753082275,
          1.5879898071289062,
          1.5862202644348145,
          1.5844398736953735,
          1.582611083984375,
          1.5807591676712036,
          1.5789026021957397,
          1.5770142078399658,
          1.5749526023864746,
          1.5728068351745605,
          1.5705643892288208,
          1.5681917667388916,
          1.564839243888855,
          1.5608655214309692,
          1.5576200485229492,
          1.5548319816589355,
          1.5546529293060303,
          1.554580569267273,
          1.5541284084320068,
          1.5636707544326782,
          1.5702427625656128,
          1.5641090869903564,
          1.5861238241195679,
          1.5897384881973267,
          1.5871272087097168,
          1.6053751707077026,
          1.6090596914291382,
          1.6127175092697144,
          1.6378813982009888,
          1.6330149173736572,
          1.6444536447525024,
          1.659757137298584,
          1.6346547603607178,
          1.7091625928878784,
          1.6602505445480347,
          1.6592509746551514,
          1.730330467224121,
          1.6863946914672852,
          1.6896541118621826,
          1.7444992065429688,
          1.7046512365341187,
          1.7231842279434204,
          1.7430305480957031,
          1.7184157371520996,
          1.6848887205123901,
          1.7616920471191406,
          1.7025657892227173,
          1.7182127237319946,
          1.7713308334350586,
          1.7455693483352661,
          1.8049834966659546,
          1.7478363513946533,
          1.877466082572937,
          1.737317681312561,
          1.969089150428772,
          1.733459234237671,
          1.79562246799469,
          1.8260376453399658,
          1.7815425395965576,
          1.851836919784546,
          1.8477704524993896,
          1.8505581617355347,
          1.8968452215194702,
          1.860622525215149,
          1.939379334449768,
          1.8528556823730469,
          2.0176637172698975,
          1.8174892663955688,
          2.110761880874634,
          1.8002870082855225,
          1.7928135395050049,
          1.9180493354797363,
          1.9083051681518555,
          1.8702188730239868,
          1.9590378999710083,
          1.9521563053131104,
          1.9486000537872314,
          1.987578272819519,
          1.978778600692749,
          2.004424810409546,
          2.005019187927246,
          2.0235564708709717,
          2.0318872928619385,
          2.043165922164917,
          2.056464195251465,
          2.0645201206207275,
          2.08274507522583,
          2.0906708240509033,
          2.113374710083008,
          2.1071419715881348,
          2.157439708709717,
          2.0798075199127197,
          2.2684202194213867,
          2.0528833866119385,
          2.3645262718200684,
          1.8993034362792969,
          1.8179172277450562,
          1.8382405042648315,
          1.915856957435608,
          2.005563259124756,
          1.9744126796722412,
          1.9868714809417725,
          2.0257534980773926,
          2.0345985889434814,
          2.0226328372955322,
          2.034886598587036,
          2.0594723224639893,
          2.0634872913360596,
          2.07344913482666,
          2.087432622909546,
          2.0968687534332275,
          2.100552797317505,
          2.1135852336883545,
          2.1167595386505127,
          2.1220593452453613,
          2.1261441707611084,
          2.1413474082946777,
          2.1346466541290283,
          2.1730730533599854,
          2.132187604904175,
          2.1810975074768066,
          2.1417901515960693,
          2.151834726333618,
          2.1854076385498047,
          2.163606882095337,
          2.177602529525757,
          2.18251633644104,
          2.18392014503479,
          2.1902856826782227,
          2.1925806999206543,
          2.1860814094543457,
          2.207798957824707,
          2.19862961769104,
          2.213423013687134,
          2.2174339294433594,
          2.221421003341675,
          2.217176675796509,
          2.242865562438965,
          2.2072854042053223,
          2.2689085006713867,
          2.1954667568206787,
          2.236288547515869,
          2.1857786178588867,
          2.202051877975464,
          2.2103376388549805,
          2.220810890197754,
          2.2176952362060547,
          2.2353439331054688,
          2.2306554317474365,
          2.2416274547576904,
          2.2454288005828857,
          2.247016668319702,
          2.2510907649993896,
          2.2455828189849854,
          2.2521684169769287,
          2.2406728267669678,
          2.253828763961792,
          2.249476909637451,
          2.263306140899658,
          2.245455503463745,
          2.2729272842407227,
          2.2390553951263428,
          2.293341875076294,
          2.239633083343506,
          2.292522430419922,
          2.2462432384490967,
          2.2755823135375977,
          2.251028299331665,
          2.25915265083313,
          2.257650136947632,
          2.2594592571258545,
          2.2642359733581543,
          2.27062726020813,
          2.270387887954712,
          2.2809438705444336,
          2.2739784717559814,
          2.287820339202881,
          2.2740862369537354,
          2.2920682430267334,
          2.273676872253418,
          2.2944579124450684,
          2.276956558227539,
          2.2785146236419678,
          2.2858128547668457,
          2.2461092472076416,
          2.30932354927063,
          2.2038309574127197,
          2.2247703075408936,
          2.2109804153442383,
          2.1795201301574707,
          2.270864963531494,
          2.188526153564453,
          2.2394533157348633,
          2.194592237472534,
          2.2171857357025146,
          2.2138872146606445,
          2.2208242416381836,
          2.219352960586548,
          2.233490228652954,
          2.2285327911376953,
          2.2439537048339844,
          2.2341842651367188,
          2.250548839569092,
          2.2358367443084717,
          2.2586605548858643,
          2.2375597953796387,
          2.2676024436950684,
          2.236855983734131,
          2.2742247581481934,
          2.2328197956085205,
          2.2743122577667236,
          2.2327353954315186,
          2.2560842037200928,
          2.2435028553009033,
          2.238020420074463,
          2.2647199630737305,
          2.2322421073913574,
          2.266599655151367,
          2.2423431873321533,
          2.2550899982452393,
          2.262568473815918,
          2.2443015575408936,
          2.276674509048462,
          2.2295520305633545,
          2.2680041790008545,
          2.228376865386963,
          2.235100746154785,
          2.2538270950317383,
          2.2035152912139893,
          2.237917184829712,
          2.2206506729125977,
          2.2380459308624268,
          2.25555157661438,
          2.2416605949401855,
          2.25386905670166,
          2.245945453643799,
          2.259097099304199,
          2.2475531101226807,
          2.2650179862976074,
          2.2458667755126953,
          2.2708547115325928,
          2.246695041656494,
          2.2718827724456787,
          2.2524900436401367,
          2.264781951904297,
          2.2700319290161133,
          2.257106304168701,
          2.2964468002319336,
          2.24398136138916,
          2.320159673690796,
          2.219362497329712,
          2.281519651412964,
          2.22318172454834,
          2.2379262447357178,
          2.271343231201172,
          2.2444746494293213,
          2.2640082836151123,
          2.233764171600342,
          2.2418203353881836,
          2.237621545791626,
          2.2377591133117676,
          2.257720470428467,
          2.246992826461792,
          2.2490599155426025,
          2.2568869590759277,
          2.2439465522766113,
          2.2681453227996826,
          2.2367913722991943,
          2.279971122741699,
          2.2316536903381348,
          2.2867441177368164,
          2.2376291751861572,
          2.2879722118377686,
          2.2421135902404785,
          2.282442092895508,
          2.245922565460205,
          2.2737488746643066,
          2.2557523250579834,
          2.274932384490967,
          2.2614147663116455,
          2.280893325805664,
          2.264157772064209,
          2.2805466651916504,
          2.269665002822876,
          2.279785394668579,
          2.2738282680511475,
          2.2821531295776367,
          2.272803783416748,
          2.2824971675872803,
          2.2656500339508057,
          2.2920212745666504,
          2.2580299377441406,
          2.3101961612701416,
          2.2464773654937744,
          2.3264594078063965,
          2.2361154556274414,
          2.3051908016204834,
          2.240875482559204,
          2.2688238620758057,
          2.2594716548919678,
          2.26910138130188,
          2.254610776901245,
          2.263948678970337,
          2.2385051250457764,
          2.2198729515075684,
          2.2638485431671143,
          2.242414712905884,
          2.2390925884246826,
          2.249326467514038,
          2.249070882797241,
          2.253649950027466,
          2.2669057846069336,
          2.2551157474517822,
          2.272167682647705,
          2.258295774459839,
          2.2837400436401367,
          2.2580103874206543,
          2.2954559326171875,
          2.25589919090271,
          2.300523281097412,
          2.2558512687683105,
          2.2980751991271973,
          2.2578792572021484,
          2.294203758239746,
          2.2616536617279053,
          2.2932212352752686,
          2.2649741172790527,
          2.2948153018951416,
          2.2633743286132812,
          2.2942066192626953,
          2.259333372116089,
          2.2870430946350098,
          2.262331485748291,
          2.2815773487091064,
          2.2737185955047607,
          2.2828872203826904,
          2.277311086654663,
          2.2868001461029053,
          2.279486894607544,
          2.2943344116210938,
          2.279398202896118,
          2.3055901527404785,
          2.276628017425537,
          2.3196818828582764,
          2.2694013118743896,
          2.3267509937286377,
          2.2619712352752686,
          2.2981979846954346,
          2.268031597137451,
          2.280506134033203,
          2.280669689178467,
          2.282437801361084,
          2.281724691390991,
          2.2696890830993652,
          2.2955679893493652,
          2.2699873447418213,
          2.295477867126465,
          2.2779712677001953,
          2.287604570388794,
          2.2878143787384033,
          2.284954786300659,
          2.2903740406036377,
          2.287215232849121,
          2.2943830490112305,
          2.2943408489227295,
          2.2922301292419434,
          2.3023369312286377,
          2.287881851196289,
          2.30950665473938,
          2.2878000736236572,
          2.314898729324341,
          2.291078567504883,
          2.3168890476226807,
          2.2942087650299072,
          2.310136556625366,
          2.3031749725341797,
          2.293062925338745,
          2.3152225017547607,
          2.2691807746887207,
          2.321476697921753,
          2.254777193069458,
          2.304305076599121,
          2.271146774291992,
          2.2883493900299072,
          2.288454055786133,
          2.2849817276000977,
          2.291684150695801,
          2.279578685760498,
          2.2890162467956543,
          2.263922929763794,
          2.2855422496795654,
          2.261988639831543,
          2.295180559158325,
          2.2657527923583984,
          2.3046274185180664,
          2.269284725189209,
          2.305882215499878,
          2.274266004562378,
          2.304056406021118,
          2.278531789779663,
          2.3055827617645264,
          2.2856967449188232,
          2.306180953979492,
          2.287252426147461,
          2.3024706840515137,
          2.284581184387207,
          2.300828456878662,
          2.2865638732910156,
          2.3000245094299316,
          2.294145107269287,
          2.3006937503814697,
          2.3021416664123535,
          2.296098470687866,
          2.305077075958252,
          2.2748546600341797,
          2.3020541667938232,
          2.263230800628662,
          2.3101155757904053,
          2.2848575115203857,
          2.3100905418395996,
          2.2784183025360107,
          2.3048973083496094,
          2.287541151046753,
          2.309404134750366,
          2.292725086212158,
          2.310285806655884,
          2.29504132270813,
          2.320812940597534,
          2.2927863597869873,
          2.3292088508605957,
          2.2887253761291504,
          2.3336799144744873,
          2.286684036254883,
          2.32861065864563,
          2.290694236755371,
          2.3249597549438477,
          2.2963027954101562,
          2.32588529586792,
          2.2953267097473145,
          2.3274407386779785,
          2.2917683124542236,
          2.3282060623168945,
          2.2859201431274414,
          2.3150806427001953,
          2.276625871658325,
          2.275193691253662,
          2.2795896530151367,
          2.2835805416107178,
          2.2789950370788574,
          2.289039373397827,
          2.2891149520874023,
          2.289137840270996,
          2.3015172481536865,
          2.285383939743042,
          2.296391725540161,
          2.2878284454345703,
          2.3015410900115967,
          2.288726329803467,
          2.3097047805786133,
          2.2874364852905273,
          2.3089115619659424,
          2.277473211288452,
          2.2880918979644775,
          2.285102605819702,
          2.2961301803588867,
          2.2888739109039307,
          2.2907767295837402,
          2.2970261573791504,
          2.2935421466827393,
          2.3003129959106445,
          2.2896862030029297,
          2.3084795475006104,
          2.284799098968506,
          2.3114283084869385,
          2.281109571456909
         ]
        },
        {
         "name": "Train Recording 3",
         "type": "scatter",
         "y": [
          2.596881151199341,
          2.2949118614196777,
          18.976839065551758,
          11.800414085388184,
          5.770757675170898,
          13.997478485107422,
          2.7113590240478516,
          1.8524694442749023,
          3.209434747695923,
          1.5631440877914429,
          1.6541013717651367,
          1.7074726819992065,
          1.5858697891235352,
          1.5021520853042603,
          1.4826977252960205,
          1.4620245695114136,
          1.4276646375656128,
          1.3988434076309204,
          1.381542444229126,
          1.3706409931182861,
          1.3620445728302002,
          1.3545517921447754,
          1.347780704498291,
          1.3413668870925903,
          1.3350428342819214,
          1.3286365270614624,
          1.3220345973968506,
          1.3151506185531616,
          1.307957649230957,
          1.300412893295288,
          1.2924597263336182,
          1.2839909791946411,
          1.2748626470565796,
          1.2649856805801392,
          1.2542824745178223,
          1.2425291538238525,
          1.2294812202453613,
          1.2150192260742188,
          1.198849081993103,
          1.1800355911254883,
          1.159352421760559,
          1.1373045444488525,
          1.1136125326156616,
          1.0897667407989502,
          1.0659700632095337,
          1.0433077812194824,
          1.0309115648269653,
          1.0137466192245483,
          0.9934432506561279,
          0.9647154808044434,
          0.958803117275238,
          0.9280747175216675,
          0.906499445438385,
          0.8879167437553406,
          0.868608832359314,
          0.8510117530822754,
          0.8358984589576721,
          0.8375831246376038,
          0.8576237559318542,
          0.8406967520713806,
          0.7820800542831421,
          0.8094093203544617,
          0.7915889620780945,
          0.7418574094772339,
          0.7484732866287231,
          0.7406005859375,
          0.7093316316604614,
          0.6884587407112122,
          0.6754922270774841,
          0.6935234069824219,
          0.7161397337913513,
          0.6964752078056335,
          0.6392051577568054,
          0.6353030204772949,
          0.6183630228042603,
          0.6139770746231079,
          0.6132262349128723,
          0.6292725801467896,
          0.7034111618995667,
          0.7569169402122498,
          0.7969370484352112,
          0.6225596070289612,
          0.528210461139679,
          0.5330919027328491,
          0.5213824510574341,
          0.4975523054599762,
          0.48512065410614014,
          0.48097091913223267,
          0.47988060116767883,
          0.4833606481552124,
          0.5070654153823853,
          0.5684008598327637,
          0.7194578647613525,
          0.7983238697052002,
          0.745078980922699,
          0.46474921703338623,
          0.556735634803772,
          0.4637964069843292,
          0.4390721619129181,
          0.44047459959983826,
          0.4170067012310028,
          0.4000302851200104,
          0.3976942300796509,
          0.39144352078437805,
          0.3830774128437042,
          0.3767392039299011,
          0.37202489376068115,
          0.36735066771507263,
          0.362821102142334,
          0.35858145356178284,
          0.35456517338752747,
          0.3506740629673004,
          0.3471059501171112,
          0.3442877531051636,
          0.3444080352783203,
          0.35094499588012695,
          0.3840998411178589,
          0.5088894963264465,
          0.9491032361984253,
          1.5228391885757446,
          0.9310370087623596,
          0.5473365187644958,
          0.4998416602611542,
          0.5063515901565552,
          0.3789914548397064,
          0.3859788775444031,
          0.342475950717926,
          0.3444100022315979,
          0.3250284492969513,
          0.3194446265697479,
          0.31239986419677734,
          0.3081625998020172,
          0.30416202545166016,
          0.300325870513916,
          0.2974645495414734,
          0.29447561502456665,
          0.2916927933692932,
          0.28921645879745483,
          0.28679871559143066,
          0.28491300344467163,
          0.2834036946296692,
          0.284216046333313,
          0.294259637594223,
          0.31387683749198914,
          0.33480972051620483,
          0.3530837297439575,
          0.3161782920360565,
          0.2736973166465759,
          0.27295708656311035,
          0.2750091254711151,
          0.26885876059532166,
          0.2631254196166992,
          0.2593384385108948,
          0.2572825849056244,
          0.2559611201286316,
          0.25493526458740234,
          0.2545744776725769,
          0.2531498968601227,
          0.2525779604911804,
          0.2552471458911896,
          0.2611905336380005,
          0.26784947514533997,
          0.2796998620033264,
          0.3021068572998047,
          0.336421936750412,
          0.36345207691192627,
          0.34661805629730225,
          0.28748956322669983,
          0.24405993521213531,
          0.23413638770580292,
          0.23248323798179626,
          0.23069582879543304,
          0.22969098389148712,
          0.22832420468330383,
          0.22743608057498932,
          0.22834043204784393,
          0.2304542362689972,
          0.23244941234588623,
          0.2331092357635498,
          0.23284152150154114,
          0.23244592547416687,
          0.23331010341644287,
          0.23638327419757843,
          0.23776370286941528,
          0.23663608729839325,
          0.23503267765045166,
          0.23974789679050446,
          0.24762557446956635,
          0.2560228705406189,
          0.2613878846168518,
          0.2615688741207123,
          0.25458553433418274,
          0.24131157994270325,
          0.2271079421043396,
          0.21630340814590454,
          0.20925186574459076,
          0.20477135479450226,
          0.20257990062236786,
          0.20208927989006042,
          0.203330859541893,
          0.20596635341644287,
          0.2092684507369995,
          0.21349802613258362,
          0.21605244278907776,
          0.21843652427196503,
          0.21910415589809418,
          0.21848048269748688,
          0.21258513629436493,
          0.20600661635398865,
          0.2148461788892746,
          0.2593689560890198,
          0.3278379738330841,
          0.3376495838165283,
          0.2557143568992615,
          0.22467002272605896,
          0.2449374943971634,
          0.24976132810115814,
          0.23701021075248718,
          0.211462140083313,
          0.18740803003311157,
          0.17348191142082214,
          0.1676682084798813,
          0.16533330082893372,
          0.16426213085651398,
          0.16355003416538239,
          0.1631150245666504,
          0.16293318569660187,
          0.16271884739398956,
          0.16278450191020966,
          0.16318421065807343,
          0.16472896933555603,
          0.16759689152240753,
          0.173057422041893,
          0.1804194301366806,
          0.18963438272476196,
          0.19601722061634064,
          0.1956537514925003,
          0.18523819744586945,
          0.17389820516109467,
          0.16890624165534973,
          0.17265205085277557,
          0.17932330071926117,
          0.18171504139900208,
          0.17694854736328125,
          0.17206372320652008,
          0.1719231754541397,
          0.17862042784690857,
          0.18966396152973175,
          0.19552229344844818,
          0.19275078177452087,
          0.1769571602344513,
          0.16295701265335083,
          0.16391271352767944,
          0.17082786560058594,
          0.16490980982780457,
          0.1446419656276703,
          0.13704882562160492,
          0.13665027916431427,
          0.1347120851278305,
          0.13233603537082672,
          0.13266433775424957,
          0.13434270024299622,
          0.136135995388031,
          0.1367286741733551,
          0.13767026364803314,
          0.13757379353046417,
          0.1362953633069992,
          0.13278305530548096,
          0.1272394359111786,
          0.1210484579205513,
          0.11772421002388,
          0.12008950114250183,
          0.13062673807144165,
          0.15125849843025208,
          0.18532341718673706,
          0.21318191289901733,
          0.20936566591262817,
          0.15617358684539795,
          0.11944624036550522,
          0.12170587480068207,
          0.1359490305185318,
          0.14803150296211243,
          0.1521255373954773,
          0.1552780270576477,
          0.15112824738025665,
          0.141327366232872,
          0.12679384648799896,
          0.1171109601855278,
          0.1106688380241394,
          0.10692823678255081,
          0.10510848462581635,
          0.10469566285610199,
          0.10619476437568665,
          0.10945873707532883,
          0.1128896102309227,
          0.11555445939302444,
          0.11774202436208725,
          0.11992733180522919,
          0.12182758003473282,
          0.1201183870434761,
          0.11361723393201828,
          0.10526630282402039,
          0.09879221022129059,
          0.09637870639562607,
          0.09747788310050964,
          0.09950925409793854,
          0.10024648904800415,
          0.09986268728971481,
          0.09932777285575867,
          0.10014775395393372,
          0.10237719118595123,
          0.10589123517274857,
          0.10705502331256866,
          0.10670636594295502,
          0.10257768630981445,
          0.09893562644720078,
          0.09776557236909866,
          0.10283300280570984,
          0.1147419661283493,
          0.1325911432504654,
          0.14750701189041138,
          0.1459348052740097,
          0.11963559687137604,
          0.09126446396112442,
          0.0814589411020279,
          0.09296872466802597,
          0.12288760393857956,
          0.16690531373023987,
          0.18253621459007263,
          0.14221620559692383,
          0.09797237068414688,
          0.08920007199048996,
          0.0825316533446312,
          0.07622533291578293,
          0.07453065365552902,
          0.07397869974374771,
          0.07306142896413803,
          0.07179512828588486,
          0.07064669579267502,
          0.07040966302156448,
          0.07137493044137955,
          0.07346532493829727,
          0.07677476853132248,
          0.08081857860088348,
          0.0848483294248581,
          0.0876980572938919,
          0.08851610124111176,
          0.08634583652019501,
          0.08293218910694122,
          0.07853715121746063,
          0.07561802864074707,
          0.07428686320781708,
          0.07546979933977127,
          0.07817981392145157,
          0.08227220177650452,
          0.0838482603430748,
          0.08258112519979477,
          0.07621968537569046,
          0.07000605762004852,
          0.06558819860219955,
          0.06341772526502609,
          0.06264549493789673,
          0.06246154010295868,
          0.0625581294298172,
          0.06283232569694519,
          0.06336518377065659,
          0.0651741698384285,
          0.06949827820062637,
          0.07896705716848373,
          0.09315463155508041,
          0.1075274720788002,
          0.11117539554834366,
          0.09340968728065491,
          0.07048433274030685,
          0.059003956615924835,
          0.06214417517185211,
          0.07490435987710953,
          0.085706926882267,
          0.08764757215976715,
          0.07374124228954315,
          0.06437245011329651,
          0.06178492307662964,
          0.060719024389982224,
          0.05987625941634178,
          0.05883472040295601,
          0.0583164244890213,
          0.058643657714128494,
          0.06024043262004852,
          0.06281494349241257,
          0.06529437750577927,
          0.06566610932350159,
          0.06423385441303253,
          0.061286572366952896,
          0.05897025763988495,
          0.05778271704912186,
          0.057938385754823685,
          0.05931420996785164,
          0.06084176525473595,
          0.06245984882116318,
          0.06310611218214035,
          0.06359107047319412,
          0.06385218352079391,
          0.06740401685237885,
          0.07245083898305893,
          0.07865188270807266,
          0.07909777015447617,
          0.06989993155002594,
          0.05862110108137131,
          0.0537792406976223,
          0.05381340906023979,
          0.05871894955635071,
          0.06883081048727036,
          0.08337873220443726,
          0.09437951445579529,
          0.0933196172118187,
          0.07811936736106873,
          0.061009474098682404,
          0.051812637597322464,
          0.04980875179171562,
          0.05064830183982849,
          0.051492128521203995,
          0.05107462778687477,
          0.04991056025028229,
          0.04901342839002609,
          0.049320317804813385,
          0.05120370537042618,
          0.0540342703461647,
          0.05692660063505173,
          0.0583488792181015,
          0.05894743278622627,
          0.05553014576435089,
          0.050336651504039764,
          0.04465196654200554,
          0.04089992120862007,
          0.03996735438704491,
          0.04210358113050461,
          0.04803082346916199,
          0.05758159980177879,
          0.06992464512586594,
          0.07425317913293839,
          0.06913872063159943,
          0.05550131946802139,
          0.04810991883277893,
          0.04528200998902321,
          0.04310134798288345,
          0.041702110320329666,
          0.040921539068222046,
          0.03943857178092003,
          0.037390679121017456,
          0.035750459879636765,
          0.03474339470267296,
          0.03461025655269623,
          0.03567427769303322,
          0.03793889656662941,
          0.041345540434122086,
          0.045111991465091705,
          0.0489584244787693,
          0.049909818917512894,
          0.047311969101428986,
          0.041559793055057526,
          0.036832086741924286,
          0.035130444914102554,
          0.03555063158273697,
          0.036570288240909576,
          0.036925047636032104,
          0.037951767444610596,
          0.042500488460063934,
          0.05501624569296837,
          0.07387115806341171,
          0.0834776908159256,
          0.07268888503313065,
          0.05113024637103081,
          0.04124162346124649,
          0.03909538686275482,
          0.03700176998972893,
          0.036298152059316635,
          0.04069063812494278,
          0.0450516939163208,
          0.04456597566604614,
          0.03685537353157997,
          0.02964971400797367,
          0.02719769813120365,
          0.02877998724579811,
          0.034797899425029755,
          0.047065213322639465,
          0.06255637854337692,
          0.07451391965150833,
          0.05940154567360878,
          0.03470730036497116,
          0.026301464065909386,
          0.026338446885347366,
          0.027064349502325058,
          0.029041806235909462,
          0.030039295554161072,
          0.029756786301732063,
          0.02965027466416359,
          0.030249204486608505,
          0.030771277844905853,
          0.03125136345624924,
          0.031458139419555664,
          0.03194061294198036
         ]
        },
        {
         "name": "Test Recording 4",
         "type": "scatter",
         "y": [
          1.5249545574188232,
          2.076904058456421,
          1.836511254310608,
          2.649533748626709,
          2.823134422302246,
          10.567740440368652,
          2.3774006366729736,
          2.3828399181365967,
          1.8073807954788208,
          1.5054290294647217,
          1.5060724020004272,
          1.4921073913574219,
          1.4770797491073608,
          1.4686927795410156,
          1.4646024703979492,
          1.4610058069229126,
          1.4575670957565308,
          1.4550310373306274,
          1.4534200429916382,
          1.452471137046814,
          1.4519649744033813,
          1.4517308473587036,
          1.4516661167144775,
          1.4517027139663696,
          1.4517792463302612,
          1.4518567323684692,
          1.4519422054290771,
          1.4520349502563477,
          1.452148675918579,
          1.452289342880249,
          1.4524567127227783,
          1.4526653289794922,
          1.4529175758361816,
          1.4532328844070435,
          1.453608512878418,
          1.4540454149246216,
          1.4545098543167114,
          1.4550271034240723,
          1.4554446935653687,
          1.4560754299163818,
          1.4565346240997314,
          1.4572570323944092,
          1.4570316076278687,
          1.4587470293045044,
          1.4562606811523438,
          1.4623655080795288,
          1.4603378772735596,
          1.4577099084854126,
          1.459328293800354,
          1.4642589092254639,
          1.464240550994873,
          1.4644856452941895,
          1.4671945571899414,
          1.4673867225646973,
          1.4707317352294922,
          1.4675847291946411,
          1.4745967388153076,
          1.4717143774032593,
          1.4674248695373535,
          1.4695498943328857,
          1.4739316701889038,
          1.4745527505874634,
          1.4769567251205444,
          1.4799684286117554,
          1.4816299676895142,
          1.4814773797988892,
          1.4844965934753418,
          1.4835032224655151,
          1.4845473766326904,
          1.4782770872116089,
          1.4650359153747559,
          1.4667315483093262,
          1.4712196588516235,
          1.4768198728561401,
          1.4799373149871826,
          1.483715295791626,
          1.4866383075714111,
          1.4872204065322876,
          1.4875202178955078,
          1.4904841184616089,
          1.4924830198287964,
          1.4955259561538696,
          1.4930983781814575,
          1.4970357418060303,
          1.5012224912643433,
          1.5027021169662476,
          1.5071297883987427,
          1.5079612731933594,
          1.5112786293029785,
          1.5136380195617676,
          1.5174976587295532,
          1.5173166990280151,
          1.5179511308670044,
          1.501465916633606,
          1.5178056955337524,
          1.5223461389541626,
          1.5294873714447021,
          1.5193026065826416,
          1.528340458869934,
          1.5365830659866333,
          1.5397286415100098,
          1.543383002281189,
          1.5433558225631714,
          1.547211766242981,
          1.5515011548995972,
          1.5541901588439941,
          1.5575315952301025,
          1.5592584609985352,
          1.5622299909591675,
          1.5655659437179565,
          1.568328619003296,
          1.5732417106628418,
          1.575731635093689,
          1.5812779664993286,
          1.5821387767791748,
          1.5880863666534424,
          1.5987966060638428,
          1.5955661535263062,
          1.6000159978866577,
          1.5932585000991821,
          1.5828907489776611,
          1.5761337280273438,
          1.5830212831497192,
          1.5886363983154297,
          1.6019337177276611,
          1.6185564994812012,
          1.636459231376648,
          1.6373286247253418,
          1.6361193656921387,
          1.6418763399124146,
          1.6477081775665283,
          1.6522668600082397,
          1.6578072309494019,
          1.665740966796875,
          1.6700999736785889,
          1.6746139526367188,
          1.678044319152832,
          1.685551643371582,
          1.6856236457824707,
          1.6948240995407104,
          1.6866406202316284,
          1.6918096542358398,
          1.7065774202346802,
          1.695935845375061,
          1.6997612714767456,
          1.714970350265503,
          1.7070869207382202,
          1.7152239084243774,
          1.7191011905670166,
          1.7249393463134766,
          1.7342638969421387,
          1.7362879514694214,
          1.7405378818511963,
          1.7464423179626465,
          1.7427449226379395,
          1.7528177499771118,
          1.751685380935669,
          1.758636713027954,
          1.758785367012024,
          1.7648600339889526,
          1.764290452003479,
          1.771200180053711,
          1.7766250371932983,
          1.7772291898727417,
          1.7853425741195679,
          1.7796072959899902,
          1.784379005432129,
          1.780405044555664,
          1.7812412977218628,
          1.789849042892456,
          1.790245771408081,
          1.7979999780654907,
          1.8036644458770752,
          1.8033887147903442,
          1.8155348300933838,
          1.8106052875518799,
          1.8213578462600708,
          1.8197017908096313,
          1.8249565362930298,
          1.8287662267684937,
          1.8265923261642456,
          1.8314430713653564,
          1.828660011291504,
          1.829807162284851,
          1.836422085762024,
          1.8326900005340576,
          1.830832839012146,
          1.8407931327819824,
          1.8404784202575684,
          1.845441460609436,
          1.8492382764816284,
          1.844764232635498,
          1.8531581163406372,
          1.8458524942398071,
          1.856120228767395,
          1.852836012840271,
          1.863155484199524,
          1.8601500988006592,
          1.8696649074554443,
          1.8675167560577393,
          1.875733733177185,
          1.8758069276809692,
          1.8827728033065796,
          1.8815854787826538,
          1.8869932889938354,
          1.8837124109268188,
          1.890723466873169,
          1.8826565742492676,
          1.8927019834518433,
          1.8710201978683472,
          1.8844459056854248,
          1.8475737571716309,
          1.8579816818237305,
          1.8485217094421387,
          1.8794317245483398,
          1.86046302318573,
          1.8658446073532104,
          1.8649532794952393,
          1.864702582359314,
          1.8655414581298828,
          1.8786392211914062,
          1.8769526481628418,
          1.8857454061508179,
          1.887413740158081,
          1.8934969902038574,
          1.8966350555419922,
          1.9003584384918213,
          1.9027432203292847,
          1.9053725004196167,
          1.90675950050354,
          1.9102293252944946,
          1.9104669094085693,
          1.9140037298202515,
          1.913435697555542,
          1.915210247039795,
          1.9128918647766113,
          1.9133877754211426,
          1.9080634117126465,
          1.9157415628433228,
          1.9007433652877808,
          1.9150440692901611,
          1.9000906944274902,
          1.9148240089416504,
          1.9057753086090088,
          1.9235286712646484,
          1.9108994007110596,
          1.926276683807373,
          1.9161890745162964,
          1.9230660200119019,
          1.918446660041809,
          1.9289686679840088,
          1.910243272781372,
          1.9337009191513062,
          1.890175461769104,
          1.9088988304138184,
          1.8864436149597168,
          1.9063315391540527,
          1.909561038017273,
          1.916637659072876,
          1.921432375907898,
          1.9207111597061157,
          1.927617073059082,
          1.9271037578582764,
          1.9319530725479126,
          1.9331713914871216,
          1.9362342357635498,
          1.9360814094543457,
          1.9400497674942017,
          1.9369453191757202,
          1.9420629739761353,
          1.9368445873260498,
          1.9408482313156128,
          1.938732385635376,
          1.9413249492645264,
          1.94386625289917,
          1.9381811618804932,
          1.9429092407226562,
          1.9361580610275269,
          1.9248698949813843,
          1.9451924562454224,
          1.918569803237915,
          1.9409794807434082,
          1.90938401222229,
          1.9264001846313477,
          1.9041786193847656,
          1.927242398262024,
          1.916442632675171,
          1.9391651153564453,
          1.922371745109558,
          1.930153489112854,
          1.9295024871826172,
          1.9352926015853882,
          1.9309639930725098,
          1.937804102897644,
          1.9305408000946045,
          1.937684416770935,
          1.9356952905654907,
          1.941346287727356,
          1.9397603273391724,
          1.9427464008331299,
          1.940685749053955,
          1.9438283443450928,
          1.9423222541809082,
          1.9472424983978271,
          1.9477311372756958,
          1.952139139175415,
          1.952566385269165,
          1.9595786333084106,
          1.9535990953445435,
          1.9625554084777832,
          1.9523825645446777,
          1.9621912240982056,
          1.9507157802581787,
          1.9629263877868652,
          1.9516844749450684,
          1.966304063796997,
          1.954028606414795,
          1.967056393623352,
          1.9546993970870972,
          1.9649111032485962,
          1.951098084449768,
          1.961205244064331,
          1.9496031999588013,
          1.9628163576126099,
          1.9538027048110962,
          1.96763277053833,
          1.9460508823394775,
          1.9609328508377075,
          1.9176241159439087,
          1.9350110292434692,
          1.9308853149414062,
          1.9459149837493896,
          1.9458144903182983,
          1.9491126537322998,
          1.9550458192825317,
          1.9562357664108276,
          1.9607243537902832,
          1.9639179706573486,
          1.9652642011642456,
          1.97025728225708,
          1.9700366258621216,
          1.9726585149765015,
          1.9724476337432861,
          1.9730892181396484,
          1.9738285541534424,
          1.9725425243377686,
          1.9736124277114868,
          1.9735949039459229,
          1.974102258682251,
          1.9761579036712646,
          1.9789340496063232,
          1.978672742843628,
          1.985237956047058,
          1.9776980876922607,
          1.985650658607483,
          1.973391056060791,
          1.979942798614502,
          1.9714659452438354,
          1.980345606803894,
          1.9752130508422852,
          1.9831992387771606,
          1.9781743288040161,
          1.9841678142547607,
          1.981069803237915,
          1.9876025915145874,
          1.984066128730774,
          1.9906889200210571,
          1.9877526760101318,
          1.9913311004638672,
          1.9883462190628052,
          1.9873219728469849,
          1.9843255281448364,
          1.9839051961898804,
          1.9823154211044312,
          1.9891053438186646,
          1.9787068367004395,
          1.9901806116104126,
          1.9673092365264893,
          1.981031060218811,
          1.9730018377304077,
          1.9882158041000366,
          1.9820069074630737,
          1.9901529550552368,
          1.9875295162200928,
          1.9945571422576904,
          1.9931471347808838,
          1.9995794296264648,
          1.9935840368270874,
          2.0034139156341553,
          1.9947748184204102,
          2.005765199661255,
          1.996056318283081,
          2.0077242851257324,
          1.9967089891433716,
          2.009335994720459,
          1.9969689846038818,
          2.0100321769714355,
          1.9957391023635864,
          2.0096843242645264,
          1.9948205947875977,
          2.010944366455078,
          1.993797779083252,
          2.0098159313201904,
          1.9928239583969116,
          2.003843307495117,
          1.9896140098571777,
          1.9923359155654907,
          1.9929736852645874,
          1.9946727752685547,
          1.997784972190857,
          2.0008223056793213,
          1.997388243675232,
          2.006730794906616,
          1.9964697360992432,
          2.011167049407959,
          1.9913487434387207,
          2.0107736587524414,
          1.989842176437378,
          2.0083866119384766,
          1.9932847023010254,
          2.009408712387085,
          1.996922254562378,
          2.014289617538452,
          1.9971294403076172,
          2.0159239768981934,
          1.9956177473068237,
          2.012848138809204,
          1.9981557130813599,
          2.011814832687378,
          2.0039546489715576,
          2.014596700668335,
          2.0089526176452637,
          2.0169079303741455,
          2.0110809803009033,
          2.020538091659546,
          2.0113906860351562,
          2.025467872619629,
          2.0101375579833984,
          2.0252232551574707,
          2.0018744468688965,
          2.011187791824341,
          1.988576054573059,
          1.9968819618225098,
          1.9942206144332886,
          2.0129354000091553,
          2.0013155937194824,
          2.003096342086792,
          2.0067803859710693,
          2.007561445236206,
          2.0146358013153076,
          2.0119082927703857,
          2.0155527591705322,
          2.016193389892578,
          2.017700672149658,
          2.015378952026367,
          2.018972396850586,
          2.0121915340423584,
          2.0183963775634766,
          2.0090320110321045,
          2.019786834716797,
          2.0094950199127197,
          2.0238659381866455,
          2.0121448040008545,
          2.0263302326202393,
          2.01492977142334,
          2.0259337425231934,
          2.01566481590271,
          2.018301248550415,
          2.0118517875671387,
          2.006972312927246,
          2.0156397819519043,
          2.012324810028076,
          2.0194437503814697,
          2.011448621749878,
          2.018721342086792,
          2.010382652282715,
          2.0199670791625977,
          2.016655206680298,
          2.0224034786224365,
          2.019517183303833,
          2.0273120403289795,
          2.0194573402404785,
          2.03257155418396,
          2.0142576694488525,
          2.029588222503662,
          1.9996755123138428,
          2.019122838973999,
          1.9852371215820312,
          2.021169900894165,
          1.989871859550476,
          2.0247185230255127,
          1.994869589805603,
          2.012601375579834,
          2.0028398036956787,
          2.0170233249664307,
          2.008026361465454,
          2.020516872406006,
          2.0147480964660645,
          2.0203917026519775,
          2.017101526260376,
          2.0194709300994873
         ]
        },
        {
         "name": "Train Recording 4",
         "type": "scatter",
         "y": [
          1.7272251844406128,
          1.8619201183319092,
          2.3461649417877197,
          3.728665351867676,
          3.360651731491089,
          11.712167739868164,
          2.9302875995635986,
          2.0994088649749756,
          2.424159049987793,
          1.5001397132873535,
          1.484625220298767,
          1.4664525985717773,
          1.4496761560440063,
          1.4424713850021362,
          1.4393205642700195,
          1.4336416721343994,
          1.4262522459030151,
          1.4199883937835693,
          1.4153951406478882,
          1.4118248224258423,
          1.4087334871292114,
          1.4058445692062378,
          1.4030834436416626,
          1.4004756212234497,
          1.3980249166488647,
          1.395658254623413,
          1.3932863473892212,
          1.3908528089523315,
          1.388335108757019,
          1.3857109546661377,
          1.382959246635437,
          1.3800511360168457,
          1.3769394159317017,
          1.373597264289856,
          1.3700045347213745,
          1.3661302328109741,
          1.361939549446106,
          1.357367753982544,
          1.3523958921432495,
          1.34699547290802,
          1.3411720991134644,
          1.3348469734191895,
          1.3280116319656372,
          1.3205112218856812,
          1.3136959075927734,
          1.3067021369934082,
          1.3017933368682861,
          1.2962905168533325,
          1.286307692527771,
          1.2756783962249756,
          1.2638126611709595,
          1.2526249885559082,
          1.2399897575378418,
          1.2273820638656616,
          1.215100884437561,
          1.2042678594589233,
          1.1955811977386475,
          1.191296100616455,
          1.18343186378479,
          1.1709721088409424,
          1.1566236019134521,
          1.1408379077911377,
          1.126474142074585,
          1.1115752458572388,
          1.097402811050415,
          1.0845167636871338,
          1.0702723264694214,
          1.0608515739440918,
          1.0563148260116577,
          1.0742605924606323,
          1.0584155321121216,
          1.049033761024475,
          1.027542233467102,
          1.0052658319473267,
          0.9853956699371338,
          0.969022810459137,
          0.9535300135612488,
          0.9391389489173889,
          0.9267396330833435,
          0.9152532815933228,
          0.9033521413803101,
          0.8939515948295593,
          0.8805738687515259,
          0.8683668971061707,
          0.8563429713249207,
          0.8443701267242432,
          0.8324229121208191,
          0.8209517002105713,
          0.8097144961357117,
          0.7985473871231079,
          0.7878546714782715,
          0.7778545022010803,
          0.7710429430007935,
          0.7829973101615906,
          0.8102753162384033,
          0.7698578238487244,
          0.7665503621101379,
          0.7378956079483032,
          0.7220192551612854,
          0.708861768245697,
          0.6971893906593323,
          0.6865427494049072,
          0.6756130456924438,
          0.6650041341781616,
          0.654542863368988,
          0.6445462107658386,
          0.6347672939300537,
          0.6251780986785889,
          0.6159419417381287,
          0.6068900227546692,
          0.598015546798706,
          0.5894092917442322,
          0.5810259580612183,
          0.5733352899551392,
          0.5669222474098206,
          0.5618278384208679,
          0.5515832304954529,
          0.5442444086074829,
          0.5371430516242981,
          0.5390188694000244,
          0.5511071681976318,
          0.548267126083374,
          0.5616803169250488,
          0.5516079068183899,
          0.5300484895706177,
          0.5123706459999084,
          0.5034021735191345,
          0.48975053429603577,
          0.48171326518058777,
          0.47250208258628845,
          0.4654926657676697,
          0.45822814106941223,
          0.4516710937023163,
          0.44516465067863464,
          0.4390900433063507,
          0.43330472707748413,
          0.42785322666168213,
          0.4229170083999634,
          0.4183504283428192,
          0.4146556854248047,
          0.41134193539619446,
          0.4130319356918335,
          0.40999191999435425,
          0.39844462275505066,
          0.39639320969581604,
          0.39468318223953247,
          0.3887416422367096,
          0.38313162326812744,
          0.37906739115715027,
          0.37481817603111267,
          0.371118426322937,
          0.36711031198501587,
          0.3639834225177765,
          0.3620019257068634,
          0.35942524671554565,
          0.35569125413894653,
          0.35261020064353943,
          0.3482057750225067,
          0.34593644738197327,
          0.3439614176750183,
          0.34067460894584656,
          0.33645185828208923,
          0.33344751596450806,
          0.33153998851776123,
          0.32973891496658325,
          0.3280719816684723,
          0.32726144790649414,
          0.3274070918560028,
          0.32646116614341736,
          0.32244980335235596,
          0.3175606429576874,
          0.31390097737312317,
          0.31268438696861267,
          0.31258904933929443,
          0.3115769028663635,
          0.3086719214916229,
          0.3042481541633606,
          0.30046290159225464,
          0.29791954159736633,
          0.2965085804462433,
          0.2954915463924408,
          0.2930617928504944,
          0.29224106669425964,
          0.2920054495334625,
          0.2891956567764282,
          0.2862294614315033,
          0.2849360704421997,
          0.2821873128414154,
          0.28034207224845886,
          0.28048643469810486,
          0.28244563937187195,
          0.28328371047973633,
          0.2816753685474396,
          0.27818572521209717,
          0.27479448914527893,
          0.27208420634269714,
          0.2696824073791504,
          0.26720577478408813,
          0.26485100388526917,
          0.26263776421546936,
          0.26068222522735596,
          0.25902649760246277,
          0.2574887275695801,
          0.2566789984703064,
          0.2573002874851227,
          0.2615126073360443,
          0.26757892966270447,
          0.27564048767089844,
          0.2818542420864105,
          0.29520219564437866,
          0.2980622351169586,
          0.2876996695995331,
          0.275042325258255,
          0.27573829889297485,
          0.2725096642971039,
          0.253058522939682,
          0.2426992803812027,
          0.24077391624450684,
          0.23866885900497437,
          0.23813240230083466,
          0.23637394607067108,
          0.23301146924495697,
          0.23034925758838654,
          0.22843195497989655,
          0.22677314281463623,
          0.22524738311767578,
          0.22378534078598022,
          0.22232869267463684,
          0.22087602317333221,
          0.2195316106081009,
          0.21830137073993683,
          0.21717096865177155,
          0.21618609130382538,
          0.21548569202423096,
          0.21547579765319824,
          0.21666982769966125,
          0.21963554620742798,
          0.2251521348953247,
          0.23052343726158142,
          0.2332267463207245,
          0.22945888340473175,
          0.22371798753738403,
          0.2190771996974945,
          0.2176550328731537,
          0.21790054440498352,
          0.2156599909067154,
          0.2112913280725479,
          0.20715075731277466,
          0.2060975283384323,
          0.2099122852087021,
          0.22118161618709564,
          0.24023261666297913,
          0.2535872459411621,
          0.2475121021270752,
          0.21769745647907257,
          0.19615280628204346,
          0.18892180919647217,
          0.18720044195652008,
          0.18652358651161194,
          0.18538378179073334,
          0.18385310471057892,
          0.18203139305114746,
          0.1803855150938034,
          0.1791609674692154,
          0.17798367142677307,
          0.176816925406456,
          0.17577007412910461,
          0.17505306005477905,
          0.17474466562271118,
          0.17449213564395905,
          0.17441622912883759,
          0.17370709776878357,
          0.17240218818187714,
          0.17017367482185364,
          0.1678502857685089,
          0.1666519045829773,
          0.1676243245601654,
          0.171695739030838,
          0.18224817514419556,
          0.19125154614448547,
          0.19526620209217072,
          0.19602710008621216,
          0.1976700723171234,
          0.19280610978603363,
          0.1872369945049286,
          0.18499507009983063,
          0.18339316546916962,
          0.17571799457073212,
          0.1654016375541687,
          0.15914420783519745,
          0.15818141400814056,
          0.16099762916564941,
          0.1644321233034134,
          0.16413259506225586,
          0.15980063378810883,
          0.15486663579940796,
          0.15137140452861786,
          0.1489391326904297,
          0.1467771679162979,
          0.14482541382312775,
          0.14337562024593353,
          0.14268651604652405,
          0.14274321496486664,
          0.14336101710796356,
          0.14267301559448242,
          0.14125984907150269,
          0.14099754393100739,
          0.14219926297664642,
          0.1438584178686142,
          0.14520332217216492,
          0.1455860733985901,
          0.14555148780345917,
          0.14535407721996307,
          0.14542853832244873,
          0.14518654346466064,
          0.14516393840312958,
          0.1445130705833435,
          0.14411647617816925,
          0.1439298540353775,
          0.14465296268463135,
          0.1444282829761505,
          0.14385809004306793,
          0.14301219582557678,
          0.14251916110515594,
          0.146640807390213,
          0.1592150181531906,
          0.1795787215232849,
          0.1827870011329651,
          0.15961146354675293,
          0.13510754704475403,
          0.12862101197242737,
          0.12594428658485413,
          0.12060476094484329,
          0.11827794462442398,
          0.11750215291976929,
          0.11593852937221527,
          0.11449125409126282,
          0.113789401948452,
          0.11367248743772507,
          0.1139405369758606,
          0.11424818634986877,
          0.11442802101373672,
          0.114669069647789,
          0.11473040282726288,
          0.1149938702583313,
          0.11529246717691422,
          0.11591809242963791,
          0.1159975454211235,
          0.11497822403907776,
          0.11307389289140701,
          0.11148346960544586,
          0.11165425926446915,
          0.11384357511997223,
          0.11777152866125107,
          0.12204547971487045,
          0.12524119019508362,
          0.12555281817913055,
          0.12299419194459915,
          0.11847971379756927,
          0.11282770335674286,
          0.10797355324029922,
          0.10449788719415665,
          0.10238301753997803,
          0.10124285519123077,
          0.10036226361989975,
          0.0995316356420517,
          0.09912890195846558,
          0.09940299391746521,
          0.10038793087005615,
          0.10121559351682663,
          0.10084397345781326,
          0.09906202554702759,
          0.09737913310527802,
          0.09793715924024582,
          0.10252555459737778,
          0.11063186824321747,
          0.11652884632349014,
          0.1154952272772789,
          0.10728371888399124,
          0.10093256831169128,
          0.09704312682151794,
          0.09344334155321121,
          0.09053083509206772,
          0.08861299604177475,
          0.08783314377069473,
          0.08825002610683441,
          0.08985300362110138,
          0.09136108309030533,
          0.09175467491149902,
          0.09137630462646484,
          0.09090393036603928,
          0.0903896763920784,
          0.08995877951383591,
          0.08985153585672379,
          0.08983167260885239,
          0.09019367396831512,
          0.09033238142728806,
          0.09078966826200485,
          0.09164928644895554,
          0.09327738732099533,
          0.09594513475894928,
          0.09893385320901871,
          0.10157506912946701,
          0.10368248075246811,
          0.10401085764169693,
          0.10142102092504501,
          0.09522437304258347,
          0.08865353465080261,
          0.08466913551092148,
          0.08215617388486862,
          0.0797954797744751,
          0.07789823412895203,
          0.07716378569602966,
          0.07896482944488525,
          0.08256708830595016,
          0.0875965878367424,
          0.09203023463487625,
          0.09322202205657959,
          0.09136289358139038,
          0.08805377036333084,
          0.08572614192962646,
          0.08563593029975891,
          0.08674876391887665,
          0.08851702511310577,
          0.089202381670475,
          0.08773065358400345,
          0.08320853859186172,
          0.07808515429496765,
          0.07360196858644485,
          0.07059091329574585,
          0.06876587122678757,
          0.06780772656202316,
          0.06705261021852493,
          0.0665287896990776,
          0.0665055438876152,
          0.06808469444513321,
          0.07199088484048843,
          0.07848764955997467,
          0.08766008913516998,
          0.09755861014127731,
          0.10108239203691483,
          0.09537401795387268,
          0.08410491794347763,
          0.07591557502746582,
          0.07289692759513855,
          0.06890805065631866,
          0.06488007307052612,
          0.06309875845909119,
          0.06212761998176575,
          0.061239421367645264,
          0.06077393516898155,
          0.061013273894786835,
          0.06159073859453201,
          0.06251019239425659,
          0.06402650475502014,
          0.06566334515810013,
          0.06705468147993088,
          0.06754669547080994,
          0.06704694032669067,
          0.06630987673997879,
          0.06551302224397659,
          0.06449121236801147,
          0.0636458545923233,
          0.0636105164885521,
          0.06524050235748291,
          0.06929086893796921,
          0.07548767328262329,
          0.07918570935726166,
          0.07478852570056915,
          0.06677991896867752,
          0.06224565580487251,
          0.06140175461769104,
          0.0610869936645031,
          0.05974748730659485,
          0.05797342211008072,
          0.05660048499703407,
          0.05571165680885315,
          0.05418912693858147,
          0.052771300077438354,
          0.0524858757853508,
          0.05388520658016205,
          0.05654876306653023,
          0.061160217970609665,
          0.06769449263811111,
          0.07539105415344238,
          0.08167720586061478,
          0.08224564790725708,
          0.07841117680072784,
          0.07471740245819092,
          0.07484037429094315,
          0.06748095899820328,
          0.05633727088570595,
          0.051000699400901794,
          0.051071181893348694,
          0.05301341041922569,
          0.053562186658382416,
          0.053115494549274445,
          0.053239159286022186,
          0.05367572605609894,
          0.0541059710085392,
          0.05419127643108368
         ]
        }
       ],
       "layout": {
        "template": {
         "data": {
          "bar": [
           {
            "error_x": {
             "color": "#2a3f5f"
            },
            "error_y": {
             "color": "#2a3f5f"
            },
            "marker": {
             "line": {
              "color": "#E5ECF6",
              "width": 0.5
             },
             "pattern": {
              "fillmode": "overlay",
              "size": 10,
              "solidity": 0.2
             }
            },
            "type": "bar"
           }
          ],
          "barpolar": [
           {
            "marker": {
             "line": {
              "color": "#E5ECF6",
              "width": 0.5
             },
             "pattern": {
              "fillmode": "overlay",
              "size": 10,
              "solidity": 0.2
             }
            },
            "type": "barpolar"
           }
          ],
          "carpet": [
           {
            "aaxis": {
             "endlinecolor": "#2a3f5f",
             "gridcolor": "white",
             "linecolor": "white",
             "minorgridcolor": "white",
             "startlinecolor": "#2a3f5f"
            },
            "baxis": {
             "endlinecolor": "#2a3f5f",
             "gridcolor": "white",
             "linecolor": "white",
             "minorgridcolor": "white",
             "startlinecolor": "#2a3f5f"
            },
            "type": "carpet"
           }
          ],
          "choropleth": [
           {
            "colorbar": {
             "outlinewidth": 0,
             "ticks": ""
            },
            "type": "choropleth"
           }
          ],
          "contour": [
           {
            "colorbar": {
             "outlinewidth": 0,
             "ticks": ""
            },
            "colorscale": [
             [
              0,
              "#0d0887"
             ],
             [
              0.1111111111111111,
              "#46039f"
             ],
             [
              0.2222222222222222,
              "#7201a8"
             ],
             [
              0.3333333333333333,
              "#9c179e"
             ],
             [
              0.4444444444444444,
              "#bd3786"
             ],
             [
              0.5555555555555556,
              "#d8576b"
             ],
             [
              0.6666666666666666,
              "#ed7953"
             ],
             [
              0.7777777777777778,
              "#fb9f3a"
             ],
             [
              0.8888888888888888,
              "#fdca26"
             ],
             [
              1,
              "#f0f921"
             ]
            ],
            "type": "contour"
           }
          ],
          "contourcarpet": [
           {
            "colorbar": {
             "outlinewidth": 0,
             "ticks": ""
            },
            "type": "contourcarpet"
           }
          ],
          "heatmap": [
           {
            "colorbar": {
             "outlinewidth": 0,
             "ticks": ""
            },
            "colorscale": [
             [
              0,
              "#0d0887"
             ],
             [
              0.1111111111111111,
              "#46039f"
             ],
             [
              0.2222222222222222,
              "#7201a8"
             ],
             [
              0.3333333333333333,
              "#9c179e"
             ],
             [
              0.4444444444444444,
              "#bd3786"
             ],
             [
              0.5555555555555556,
              "#d8576b"
             ],
             [
              0.6666666666666666,
              "#ed7953"
             ],
             [
              0.7777777777777778,
              "#fb9f3a"
             ],
             [
              0.8888888888888888,
              "#fdca26"
             ],
             [
              1,
              "#f0f921"
             ]
            ],
            "type": "heatmap"
           }
          ],
          "heatmapgl": [
           {
            "colorbar": {
             "outlinewidth": 0,
             "ticks": ""
            },
            "colorscale": [
             [
              0,
              "#0d0887"
             ],
             [
              0.1111111111111111,
              "#46039f"
             ],
             [
              0.2222222222222222,
              "#7201a8"
             ],
             [
              0.3333333333333333,
              "#9c179e"
             ],
             [
              0.4444444444444444,
              "#bd3786"
             ],
             [
              0.5555555555555556,
              "#d8576b"
             ],
             [
              0.6666666666666666,
              "#ed7953"
             ],
             [
              0.7777777777777778,
              "#fb9f3a"
             ],
             [
              0.8888888888888888,
              "#fdca26"
             ],
             [
              1,
              "#f0f921"
             ]
            ],
            "type": "heatmapgl"
           }
          ],
          "histogram": [
           {
            "marker": {
             "pattern": {
              "fillmode": "overlay",
              "size": 10,
              "solidity": 0.2
             }
            },
            "type": "histogram"
           }
          ],
          "histogram2d": [
           {
            "colorbar": {
             "outlinewidth": 0,
             "ticks": ""
            },
            "colorscale": [
             [
              0,
              "#0d0887"
             ],
             [
              0.1111111111111111,
              "#46039f"
             ],
             [
              0.2222222222222222,
              "#7201a8"
             ],
             [
              0.3333333333333333,
              "#9c179e"
             ],
             [
              0.4444444444444444,
              "#bd3786"
             ],
             [
              0.5555555555555556,
              "#d8576b"
             ],
             [
              0.6666666666666666,
              "#ed7953"
             ],
             [
              0.7777777777777778,
              "#fb9f3a"
             ],
             [
              0.8888888888888888,
              "#fdca26"
             ],
             [
              1,
              "#f0f921"
             ]
            ],
            "type": "histogram2d"
           }
          ],
          "histogram2dcontour": [
           {
            "colorbar": {
             "outlinewidth": 0,
             "ticks": ""
            },
            "colorscale": [
             [
              0,
              "#0d0887"
             ],
             [
              0.1111111111111111,
              "#46039f"
             ],
             [
              0.2222222222222222,
              "#7201a8"
             ],
             [
              0.3333333333333333,
              "#9c179e"
             ],
             [
              0.4444444444444444,
              "#bd3786"
             ],
             [
              0.5555555555555556,
              "#d8576b"
             ],
             [
              0.6666666666666666,
              "#ed7953"
             ],
             [
              0.7777777777777778,
              "#fb9f3a"
             ],
             [
              0.8888888888888888,
              "#fdca26"
             ],
             [
              1,
              "#f0f921"
             ]
            ],
            "type": "histogram2dcontour"
           }
          ],
          "mesh3d": [
           {
            "colorbar": {
             "outlinewidth": 0,
             "ticks": ""
            },
            "type": "mesh3d"
           }
          ],
          "parcoords": [
           {
            "line": {
             "colorbar": {
              "outlinewidth": 0,
              "ticks": ""
             }
            },
            "type": "parcoords"
           }
          ],
          "pie": [
           {
            "automargin": true,
            "type": "pie"
           }
          ],
          "scatter": [
           {
            "fillpattern": {
             "fillmode": "overlay",
             "size": 10,
             "solidity": 0.2
            },
            "type": "scatter"
           }
          ],
          "scatter3d": [
           {
            "line": {
             "colorbar": {
              "outlinewidth": 0,
              "ticks": ""
             }
            },
            "marker": {
             "colorbar": {
              "outlinewidth": 0,
              "ticks": ""
             }
            },
            "type": "scatter3d"
           }
          ],
          "scattercarpet": [
           {
            "marker": {
             "colorbar": {
              "outlinewidth": 0,
              "ticks": ""
             }
            },
            "type": "scattercarpet"
           }
          ],
          "scattergeo": [
           {
            "marker": {
             "colorbar": {
              "outlinewidth": 0,
              "ticks": ""
             }
            },
            "type": "scattergeo"
           }
          ],
          "scattergl": [
           {
            "marker": {
             "colorbar": {
              "outlinewidth": 0,
              "ticks": ""
             }
            },
            "type": "scattergl"
           }
          ],
          "scattermapbox": [
           {
            "marker": {
             "colorbar": {
              "outlinewidth": 0,
              "ticks": ""
             }
            },
            "type": "scattermapbox"
           }
          ],
          "scatterpolar": [
           {
            "marker": {
             "colorbar": {
              "outlinewidth": 0,
              "ticks": ""
             }
            },
            "type": "scatterpolar"
           }
          ],
          "scatterpolargl": [
           {
            "marker": {
             "colorbar": {
              "outlinewidth": 0,
              "ticks": ""
             }
            },
            "type": "scatterpolargl"
           }
          ],
          "scatterternary": [
           {
            "marker": {
             "colorbar": {
              "outlinewidth": 0,
              "ticks": ""
             }
            },
            "type": "scatterternary"
           }
          ],
          "surface": [
           {
            "colorbar": {
             "outlinewidth": 0,
             "ticks": ""
            },
            "colorscale": [
             [
              0,
              "#0d0887"
             ],
             [
              0.1111111111111111,
              "#46039f"
             ],
             [
              0.2222222222222222,
              "#7201a8"
             ],
             [
              0.3333333333333333,
              "#9c179e"
             ],
             [
              0.4444444444444444,
              "#bd3786"
             ],
             [
              0.5555555555555556,
              "#d8576b"
             ],
             [
              0.6666666666666666,
              "#ed7953"
             ],
             [
              0.7777777777777778,
              "#fb9f3a"
             ],
             [
              0.8888888888888888,
              "#fdca26"
             ],
             [
              1,
              "#f0f921"
             ]
            ],
            "type": "surface"
           }
          ],
          "table": [
           {
            "cells": {
             "fill": {
              "color": "#EBF0F8"
             },
             "line": {
              "color": "white"
             }
            },
            "header": {
             "fill": {
              "color": "#C8D4E3"
             },
             "line": {
              "color": "white"
             }
            },
            "type": "table"
           }
          ]
         },
         "layout": {
          "annotationdefaults": {
           "arrowcolor": "#2a3f5f",
           "arrowhead": 0,
           "arrowwidth": 1
          },
          "autotypenumbers": "strict",
          "coloraxis": {
           "colorbar": {
            "outlinewidth": 0,
            "ticks": ""
           }
          },
          "colorscale": {
           "diverging": [
            [
             0,
             "#8e0152"
            ],
            [
             0.1,
             "#c51b7d"
            ],
            [
             0.2,
             "#de77ae"
            ],
            [
             0.3,
             "#f1b6da"
            ],
            [
             0.4,
             "#fde0ef"
            ],
            [
             0.5,
             "#f7f7f7"
            ],
            [
             0.6,
             "#e6f5d0"
            ],
            [
             0.7,
             "#b8e186"
            ],
            [
             0.8,
             "#7fbc41"
            ],
            [
             0.9,
             "#4d9221"
            ],
            [
             1,
             "#276419"
            ]
           ],
           "sequential": [
            [
             0,
             "#0d0887"
            ],
            [
             0.1111111111111111,
             "#46039f"
            ],
            [
             0.2222222222222222,
             "#7201a8"
            ],
            [
             0.3333333333333333,
             "#9c179e"
            ],
            [
             0.4444444444444444,
             "#bd3786"
            ],
            [
             0.5555555555555556,
             "#d8576b"
            ],
            [
             0.6666666666666666,
             "#ed7953"
            ],
            [
             0.7777777777777778,
             "#fb9f3a"
            ],
            [
             0.8888888888888888,
             "#fdca26"
            ],
            [
             1,
             "#f0f921"
            ]
           ],
           "sequentialminus": [
            [
             0,
             "#0d0887"
            ],
            [
             0.1111111111111111,
             "#46039f"
            ],
            [
             0.2222222222222222,
             "#7201a8"
            ],
            [
             0.3333333333333333,
             "#9c179e"
            ],
            [
             0.4444444444444444,
             "#bd3786"
            ],
            [
             0.5555555555555556,
             "#d8576b"
            ],
            [
             0.6666666666666666,
             "#ed7953"
            ],
            [
             0.7777777777777778,
             "#fb9f3a"
            ],
            [
             0.8888888888888888,
             "#fdca26"
            ],
            [
             1,
             "#f0f921"
            ]
           ]
          },
          "colorway": [
           "#636efa",
           "#EF553B",
           "#00cc96",
           "#ab63fa",
           "#FFA15A",
           "#19d3f3",
           "#FF6692",
           "#B6E880",
           "#FF97FF",
           "#FECB52"
          ],
          "font": {
           "color": "#2a3f5f"
          },
          "geo": {
           "bgcolor": "white",
           "lakecolor": "white",
           "landcolor": "#E5ECF6",
           "showlakes": true,
           "showland": true,
           "subunitcolor": "white"
          },
          "hoverlabel": {
           "align": "left"
          },
          "hovermode": "closest",
          "mapbox": {
           "style": "light"
          },
          "paper_bgcolor": "white",
          "plot_bgcolor": "#E5ECF6",
          "polar": {
           "angularaxis": {
            "gridcolor": "white",
            "linecolor": "white",
            "ticks": ""
           },
           "bgcolor": "#E5ECF6",
           "radialaxis": {
            "gridcolor": "white",
            "linecolor": "white",
            "ticks": ""
           }
          },
          "scene": {
           "xaxis": {
            "backgroundcolor": "#E5ECF6",
            "gridcolor": "white",
            "gridwidth": 2,
            "linecolor": "white",
            "showbackground": true,
            "ticks": "",
            "zerolinecolor": "white"
           },
           "yaxis": {
            "backgroundcolor": "#E5ECF6",
            "gridcolor": "white",
            "gridwidth": 2,
            "linecolor": "white",
            "showbackground": true,
            "ticks": "",
            "zerolinecolor": "white"
           },
           "zaxis": {
            "backgroundcolor": "#E5ECF6",
            "gridcolor": "white",
            "gridwidth": 2,
            "linecolor": "white",
            "showbackground": true,
            "ticks": "",
            "zerolinecolor": "white"
           }
          },
          "shapedefaults": {
           "line": {
            "color": "#2a3f5f"
           }
          },
          "ternary": {
           "aaxis": {
            "gridcolor": "white",
            "linecolor": "white",
            "ticks": ""
           },
           "baxis": {
            "gridcolor": "white",
            "linecolor": "white",
            "ticks": ""
           },
           "bgcolor": "#E5ECF6",
           "caxis": {
            "gridcolor": "white",
            "linecolor": "white",
            "ticks": ""
           }
          },
          "title": {
           "x": 0.05
          },
          "xaxis": {
           "automargin": true,
           "gridcolor": "white",
           "linecolor": "white",
           "ticks": "",
           "title": {
            "standoff": 15
           },
           "zerolinecolor": "white",
           "zerolinewidth": 2
          },
          "yaxis": {
           "automargin": true,
           "gridcolor": "white",
           "linecolor": "white",
           "ticks": "",
           "title": {
            "standoff": 15
           },
           "zerolinecolor": "white",
           "zerolinewidth": 2
          }
         }
        },
        "title": {
         "text": "Loss Curve Rank 16"
        },
        "xaxis": {
         "title": {
          "text": "Iteration"
         }
        },
        "yaxis": {
         "title": {
          "text": "Loss"
         }
        }
       }
      }
     },
     "metadata": {},
     "output_type": "display_data"
    }
   ],
   "source": [
    "train_loss = np.array(train_loss)\n",
    "test_loss = np.array(test_loss)\n",
    "\n",
    "fig = go.Figure()\n",
    "for recording in range(TOTAL_RECORDINGS):\n",
    "    fig.add_trace(go.Scatter(y=test_loss[:, recording], name=f'Test Recording {recording}'))\n",
    "    fig.add_trace(go.Scatter(y=train_loss[:, recording], name=f'Train Recording {recording}'))\n",
    "fig.update_layout(title=f'Loss Curve Rank {RANK}', xaxis_title='Iteration', yaxis_title='Loss')\n",
    "fig.show()"
   ]
  },
  {
   "cell_type": "markdown",
   "metadata": {},
   "source": [
    "# Evaluation"
   ]
  },
  {
   "cell_type": "code",
   "execution_count": null,
   "metadata": {},
   "outputs": [],
   "source": [
    "# Print all of the model parameters\n",
    "# for param in reduced_rank_model.parameters():\n",
    "#     print(param.data.shape)\n",
    "#     print(param.data)\n",
    "\n",
    "# print(f\"=== U matrices, length: {len(reduced_rank_model.Us)} ===\")\n",
    "# print(reduced_rank_model.Us)\n",
    "# print(f\"=== V matrices, shape: {reduced_rank_model.V.shape} ===\")\n",
    "# print(reduced_rank_model.V)\n",
    "# print(f\"=== bias, shape: {reduced_rank_model.bias.shape} ===\")\n",
    "# print(reduced_rank_model.bias)\n",
    "\n",
    "# print(reduced_rank_model.parameters())"
   ]
  },
  {
   "cell_type": "code",
   "execution_count": null,
   "metadata": {},
   "outputs": [
    {
     "data": {
      "application/vnd.plotly.v1+json": {
       "config": {
        "plotlyServerURL": "https://plot.ly"
       },
       "data": [
        {
         "name": "Actual",
         "type": "scatter",
         "y": [
          -0.016872581094503403,
          -0.011354707181453705,
          -0.008491488173604012,
          -0.0073743704706430435,
          -0.006450573913753033,
          -0.005968904122710228,
          -0.008215402252972126,
          -0.010896923020482063,
          -0.0169120691716671,
          0.07352336496114731,
          0.4645620882511139,
          0.9392221570014954,
          2.578829288482666,
          3.5268688201904297,
          3.2637531757354736,
          2.7719054222106934,
          2.454353094100952,
          2.088475227355957,
          2.01771879196167,
          2.502448320388794,
          2.3877789974212646,
          2.2575647830963135,
          2.584123134613037,
          2.550407886505127,
          1.4491721391677856,
          -0.017530953511595726,
          1.7925376892089844,
          3.4647090435028076,
          2.6448965072631836,
          0.27979063987731934,
          0.43287497758865356,
          1.157081961631775,
          0.9111006855964661,
          0.04464046284556389,
          -0.08927429467439651,
          0.20408666133880615,
          0.645957350730896,
          0.18032030761241913,
          -0.7828279733657837,
          -0.5260794162750244
         ]
        },
        {
         "name": "Predicted",
         "type": "scatter",
         "y": [
          0.028712421655654907,
          -0.03295537829399109,
          -0.042361870408058167,
          0.06691309809684753,
          -0.009015977382659912,
          -0.004437699913978577,
          0.055807098746299744,
          0.013577938079833984,
          0.014943959191441536,
          0.00008608400821685791,
          0.23866918683052063,
          1.0251723527908325,
          2.486086368560791,
          3.5259735584259033,
          3.3111298084259033,
          2.848043918609619,
          2.327969551086426,
          1.8523621559143066,
          2.143777370452881,
          2.6623640060424805,
          2.390193223953247,
          2.4207005500793457,
          2.625296115875244,
          2.7435595989227295,
          1.656925082206726,
          0.4495856761932373,
          1.5871641635894775,
          3.446667432785034,
          2.544830322265625,
          0.2430831640958786,
          0.5957803726196289,
          1.2331011295318604,
          0.3466032147407532,
          0.12013480067253113,
          0.04807976633310318,
          0.3914189636707306,
          0.6334590315818787,
          -0.07977025210857391,
          -1.0961871147155762,
          -0.2644819915294647
         ]
        }
       ],
       "layout": {
        "template": {
         "data": {
          "bar": [
           {
            "error_x": {
             "color": "#2a3f5f"
            },
            "error_y": {
             "color": "#2a3f5f"
            },
            "marker": {
             "line": {
              "color": "#E5ECF6",
              "width": 0.5
             },
             "pattern": {
              "fillmode": "overlay",
              "size": 10,
              "solidity": 0.2
             }
            },
            "type": "bar"
           }
          ],
          "barpolar": [
           {
            "marker": {
             "line": {
              "color": "#E5ECF6",
              "width": 0.5
             },
             "pattern": {
              "fillmode": "overlay",
              "size": 10,
              "solidity": 0.2
             }
            },
            "type": "barpolar"
           }
          ],
          "carpet": [
           {
            "aaxis": {
             "endlinecolor": "#2a3f5f",
             "gridcolor": "white",
             "linecolor": "white",
             "minorgridcolor": "white",
             "startlinecolor": "#2a3f5f"
            },
            "baxis": {
             "endlinecolor": "#2a3f5f",
             "gridcolor": "white",
             "linecolor": "white",
             "minorgridcolor": "white",
             "startlinecolor": "#2a3f5f"
            },
            "type": "carpet"
           }
          ],
          "choropleth": [
           {
            "colorbar": {
             "outlinewidth": 0,
             "ticks": ""
            },
            "type": "choropleth"
           }
          ],
          "contour": [
           {
            "colorbar": {
             "outlinewidth": 0,
             "ticks": ""
            },
            "colorscale": [
             [
              0,
              "#0d0887"
             ],
             [
              0.1111111111111111,
              "#46039f"
             ],
             [
              0.2222222222222222,
              "#7201a8"
             ],
             [
              0.3333333333333333,
              "#9c179e"
             ],
             [
              0.4444444444444444,
              "#bd3786"
             ],
             [
              0.5555555555555556,
              "#d8576b"
             ],
             [
              0.6666666666666666,
              "#ed7953"
             ],
             [
              0.7777777777777778,
              "#fb9f3a"
             ],
             [
              0.8888888888888888,
              "#fdca26"
             ],
             [
              1,
              "#f0f921"
             ]
            ],
            "type": "contour"
           }
          ],
          "contourcarpet": [
           {
            "colorbar": {
             "outlinewidth": 0,
             "ticks": ""
            },
            "type": "contourcarpet"
           }
          ],
          "heatmap": [
           {
            "colorbar": {
             "outlinewidth": 0,
             "ticks": ""
            },
            "colorscale": [
             [
              0,
              "#0d0887"
             ],
             [
              0.1111111111111111,
              "#46039f"
             ],
             [
              0.2222222222222222,
              "#7201a8"
             ],
             [
              0.3333333333333333,
              "#9c179e"
             ],
             [
              0.4444444444444444,
              "#bd3786"
             ],
             [
              0.5555555555555556,
              "#d8576b"
             ],
             [
              0.6666666666666666,
              "#ed7953"
             ],
             [
              0.7777777777777778,
              "#fb9f3a"
             ],
             [
              0.8888888888888888,
              "#fdca26"
             ],
             [
              1,
              "#f0f921"
             ]
            ],
            "type": "heatmap"
           }
          ],
          "heatmapgl": [
           {
            "colorbar": {
             "outlinewidth": 0,
             "ticks": ""
            },
            "colorscale": [
             [
              0,
              "#0d0887"
             ],
             [
              0.1111111111111111,
              "#46039f"
             ],
             [
              0.2222222222222222,
              "#7201a8"
             ],
             [
              0.3333333333333333,
              "#9c179e"
             ],
             [
              0.4444444444444444,
              "#bd3786"
             ],
             [
              0.5555555555555556,
              "#d8576b"
             ],
             [
              0.6666666666666666,
              "#ed7953"
             ],
             [
              0.7777777777777778,
              "#fb9f3a"
             ],
             [
              0.8888888888888888,
              "#fdca26"
             ],
             [
              1,
              "#f0f921"
             ]
            ],
            "type": "heatmapgl"
           }
          ],
          "histogram": [
           {
            "marker": {
             "pattern": {
              "fillmode": "overlay",
              "size": 10,
              "solidity": 0.2
             }
            },
            "type": "histogram"
           }
          ],
          "histogram2d": [
           {
            "colorbar": {
             "outlinewidth": 0,
             "ticks": ""
            },
            "colorscale": [
             [
              0,
              "#0d0887"
             ],
             [
              0.1111111111111111,
              "#46039f"
             ],
             [
              0.2222222222222222,
              "#7201a8"
             ],
             [
              0.3333333333333333,
              "#9c179e"
             ],
             [
              0.4444444444444444,
              "#bd3786"
             ],
             [
              0.5555555555555556,
              "#d8576b"
             ],
             [
              0.6666666666666666,
              "#ed7953"
             ],
             [
              0.7777777777777778,
              "#fb9f3a"
             ],
             [
              0.8888888888888888,
              "#fdca26"
             ],
             [
              1,
              "#f0f921"
             ]
            ],
            "type": "histogram2d"
           }
          ],
          "histogram2dcontour": [
           {
            "colorbar": {
             "outlinewidth": 0,
             "ticks": ""
            },
            "colorscale": [
             [
              0,
              "#0d0887"
             ],
             [
              0.1111111111111111,
              "#46039f"
             ],
             [
              0.2222222222222222,
              "#7201a8"
             ],
             [
              0.3333333333333333,
              "#9c179e"
             ],
             [
              0.4444444444444444,
              "#bd3786"
             ],
             [
              0.5555555555555556,
              "#d8576b"
             ],
             [
              0.6666666666666666,
              "#ed7953"
             ],
             [
              0.7777777777777778,
              "#fb9f3a"
             ],
             [
              0.8888888888888888,
              "#fdca26"
             ],
             [
              1,
              "#f0f921"
             ]
            ],
            "type": "histogram2dcontour"
           }
          ],
          "mesh3d": [
           {
            "colorbar": {
             "outlinewidth": 0,
             "ticks": ""
            },
            "type": "mesh3d"
           }
          ],
          "parcoords": [
           {
            "line": {
             "colorbar": {
              "outlinewidth": 0,
              "ticks": ""
             }
            },
            "type": "parcoords"
           }
          ],
          "pie": [
           {
            "automargin": true,
            "type": "pie"
           }
          ],
          "scatter": [
           {
            "fillpattern": {
             "fillmode": "overlay",
             "size": 10,
             "solidity": 0.2
            },
            "type": "scatter"
           }
          ],
          "scatter3d": [
           {
            "line": {
             "colorbar": {
              "outlinewidth": 0,
              "ticks": ""
             }
            },
            "marker": {
             "colorbar": {
              "outlinewidth": 0,
              "ticks": ""
             }
            },
            "type": "scatter3d"
           }
          ],
          "scattercarpet": [
           {
            "marker": {
             "colorbar": {
              "outlinewidth": 0,
              "ticks": ""
             }
            },
            "type": "scattercarpet"
           }
          ],
          "scattergeo": [
           {
            "marker": {
             "colorbar": {
              "outlinewidth": 0,
              "ticks": ""
             }
            },
            "type": "scattergeo"
           }
          ],
          "scattergl": [
           {
            "marker": {
             "colorbar": {
              "outlinewidth": 0,
              "ticks": ""
             }
            },
            "type": "scattergl"
           }
          ],
          "scattermapbox": [
           {
            "marker": {
             "colorbar": {
              "outlinewidth": 0,
              "ticks": ""
             }
            },
            "type": "scattermapbox"
           }
          ],
          "scatterpolar": [
           {
            "marker": {
             "colorbar": {
              "outlinewidth": 0,
              "ticks": ""
             }
            },
            "type": "scatterpolar"
           }
          ],
          "scatterpolargl": [
           {
            "marker": {
             "colorbar": {
              "outlinewidth": 0,
              "ticks": ""
             }
            },
            "type": "scatterpolargl"
           }
          ],
          "scatterternary": [
           {
            "marker": {
             "colorbar": {
              "outlinewidth": 0,
              "ticks": ""
             }
            },
            "type": "scatterternary"
           }
          ],
          "surface": [
           {
            "colorbar": {
             "outlinewidth": 0,
             "ticks": ""
            },
            "colorscale": [
             [
              0,
              "#0d0887"
             ],
             [
              0.1111111111111111,
              "#46039f"
             ],
             [
              0.2222222222222222,
              "#7201a8"
             ],
             [
              0.3333333333333333,
              "#9c179e"
             ],
             [
              0.4444444444444444,
              "#bd3786"
             ],
             [
              0.5555555555555556,
              "#d8576b"
             ],
             [
              0.6666666666666666,
              "#ed7953"
             ],
             [
              0.7777777777777778,
              "#fb9f3a"
             ],
             [
              0.8888888888888888,
              "#fdca26"
             ],
             [
              1,
              "#f0f921"
             ]
            ],
            "type": "surface"
           }
          ],
          "table": [
           {
            "cells": {
             "fill": {
              "color": "#EBF0F8"
             },
             "line": {
              "color": "white"
             }
            },
            "header": {
             "fill": {
              "color": "#C8D4E3"
             },
             "line": {
              "color": "white"
             }
            },
            "type": "table"
           }
          ]
         },
         "layout": {
          "annotationdefaults": {
           "arrowcolor": "#2a3f5f",
           "arrowhead": 0,
           "arrowwidth": 1
          },
          "autotypenumbers": "strict",
          "coloraxis": {
           "colorbar": {
            "outlinewidth": 0,
            "ticks": ""
           }
          },
          "colorscale": {
           "diverging": [
            [
             0,
             "#8e0152"
            ],
            [
             0.1,
             "#c51b7d"
            ],
            [
             0.2,
             "#de77ae"
            ],
            [
             0.3,
             "#f1b6da"
            ],
            [
             0.4,
             "#fde0ef"
            ],
            [
             0.5,
             "#f7f7f7"
            ],
            [
             0.6,
             "#e6f5d0"
            ],
            [
             0.7,
             "#b8e186"
            ],
            [
             0.8,
             "#7fbc41"
            ],
            [
             0.9,
             "#4d9221"
            ],
            [
             1,
             "#276419"
            ]
           ],
           "sequential": [
            [
             0,
             "#0d0887"
            ],
            [
             0.1111111111111111,
             "#46039f"
            ],
            [
             0.2222222222222222,
             "#7201a8"
            ],
            [
             0.3333333333333333,
             "#9c179e"
            ],
            [
             0.4444444444444444,
             "#bd3786"
            ],
            [
             0.5555555555555556,
             "#d8576b"
            ],
            [
             0.6666666666666666,
             "#ed7953"
            ],
            [
             0.7777777777777778,
             "#fb9f3a"
            ],
            [
             0.8888888888888888,
             "#fdca26"
            ],
            [
             1,
             "#f0f921"
            ]
           ],
           "sequentialminus": [
            [
             0,
             "#0d0887"
            ],
            [
             0.1111111111111111,
             "#46039f"
            ],
            [
             0.2222222222222222,
             "#7201a8"
            ],
            [
             0.3333333333333333,
             "#9c179e"
            ],
            [
             0.4444444444444444,
             "#bd3786"
            ],
            [
             0.5555555555555556,
             "#d8576b"
            ],
            [
             0.6666666666666666,
             "#ed7953"
            ],
            [
             0.7777777777777778,
             "#fb9f3a"
            ],
            [
             0.8888888888888888,
             "#fdca26"
            ],
            [
             1,
             "#f0f921"
            ]
           ]
          },
          "colorway": [
           "#636efa",
           "#EF553B",
           "#00cc96",
           "#ab63fa",
           "#FFA15A",
           "#19d3f3",
           "#FF6692",
           "#B6E880",
           "#FF97FF",
           "#FECB52"
          ],
          "font": {
           "color": "#2a3f5f"
          },
          "geo": {
           "bgcolor": "white",
           "lakecolor": "white",
           "landcolor": "#E5ECF6",
           "showlakes": true,
           "showland": true,
           "subunitcolor": "white"
          },
          "hoverlabel": {
           "align": "left"
          },
          "hovermode": "closest",
          "mapbox": {
           "style": "light"
          },
          "paper_bgcolor": "white",
          "plot_bgcolor": "#E5ECF6",
          "polar": {
           "angularaxis": {
            "gridcolor": "white",
            "linecolor": "white",
            "ticks": ""
           },
           "bgcolor": "#E5ECF6",
           "radialaxis": {
            "gridcolor": "white",
            "linecolor": "white",
            "ticks": ""
           }
          },
          "scene": {
           "xaxis": {
            "backgroundcolor": "#E5ECF6",
            "gridcolor": "white",
            "gridwidth": 2,
            "linecolor": "white",
            "showbackground": true,
            "ticks": "",
            "zerolinecolor": "white"
           },
           "yaxis": {
            "backgroundcolor": "#E5ECF6",
            "gridcolor": "white",
            "gridwidth": 2,
            "linecolor": "white",
            "showbackground": true,
            "ticks": "",
            "zerolinecolor": "white"
           },
           "zaxis": {
            "backgroundcolor": "#E5ECF6",
            "gridcolor": "white",
            "gridwidth": 2,
            "linecolor": "white",
            "showbackground": true,
            "ticks": "",
            "zerolinecolor": "white"
           }
          },
          "shapedefaults": {
           "line": {
            "color": "#2a3f5f"
           }
          },
          "ternary": {
           "aaxis": {
            "gridcolor": "white",
            "linecolor": "white",
            "ticks": ""
           },
           "baxis": {
            "gridcolor": "white",
            "linecolor": "white",
            "ticks": ""
           },
           "bgcolor": "#E5ECF6",
           "caxis": {
            "gridcolor": "white",
            "linecolor": "white",
            "ticks": ""
           }
          },
          "title": {
           "x": 0.05
          },
          "xaxis": {
           "automargin": true,
           "gridcolor": "white",
           "linecolor": "white",
           "ticks": "",
           "title": {
            "standoff": 15
           },
           "zerolinecolor": "white",
           "zerolinewidth": 2
          },
          "yaxis": {
           "automargin": true,
           "gridcolor": "white",
           "linecolor": "white",
           "ticks": "",
           "title": {
            "standoff": 15
           },
           "zerolinecolor": "white",
           "zerolinewidth": 2
          }
         }
        },
        "title": {
         "text": "Actual and Predicted Wheel Speeds, Recording 0, Trial 0"
        },
        "xaxis": {
         "title": {
          "text": "Time"
         }
        },
        "yaxis": {
         "title": {
          "text": "Value"
         }
        }
       }
      }
     },
     "metadata": {},
     "output_type": "display_data"
    },
    {
     "data": {
      "application/vnd.plotly.v1+json": {
       "config": {
        "plotlyServerURL": "https://plot.ly"
       },
       "data": [
        {
         "name": "Actual",
         "type": "scatter",
         "y": [
          -0.016872581094503403,
          -0.011354707181453705,
          -0.003998802043497562,
          -0.0073743704706430435,
          -0.006450573913753033,
          -0.005968904122710228,
          -0.008215402252972126,
          -0.010896923020482063,
          -0.002127416431903839,
          0.0042253779247403145,
          -0.452930212020874,
          -1.0649365186691284,
          -0.9963091611862183,
          -1.068968415260315,
          -1.6633576154708862,
          -1.9459264278411865,
          -0.8588768839836121,
          0.7606228590011597,
          0.8543888926506042,
          0.4938932955265045,
          1.062727451324463,
          1.4786159992218018,
          1.397515058517456,
          1.4510096311569214,
          1.2239017486572266,
          0.2515084147453308,
          -0.804803729057312,
          0.49362239241600037,
          1.9370479583740234,
          1.0755363702774048,
          -0.5471253991127014,
          -0.5123813152313232,
          -0.46841445565223694,
          -0.8183190822601318,
          -0.8365733027458191,
          -0.7975867986679077,
          -0.1297132521867752,
          0.07397641986608505,
          1.2977577447891235,
          1.2482960224151611
         ]
        },
        {
         "name": "Predicted",
         "type": "scatter",
         "y": [
          0.04467847943305969,
          -0.03364899009466171,
          -0.0015374943614006042,
          -0.025738641619682312,
          0.0688178539276123,
          -0.014698430895805359,
          0.0019164681434631348,
          0.013851255178451538,
          -0.03517851233482361,
          0.038444895297288895,
          -0.41736143827438354,
          -1.076409101486206,
          -1.0762578248977661,
          -1.2610493898391724,
          -1.824487328529358,
          -1.7785987854003906,
          -0.9127535223960876,
          0.5978624224662781,
          0.9990032911300659,
          0.43838417530059814,
          1.095070719718933,
          1.7260339260101318,
          1.503404974937439,
          1.6468204259872437,
          1.378455400466919,
          0.16366741061210632,
          -0.26813557744026184,
          0.3164312243461609,
          1.6200649738311768,
          1.2794216871261597,
          -0.38385891914367676,
          -0.7783663868904114,
          -0.7302401065826416,
          -0.792181670665741,
          -0.8447749614715576,
          -0.9488298892974854,
          -0.10762720555067062,
          0.18094342947006226,
          1.1003986597061157,
          1.2036653757095337
         ]
        }
       ],
       "layout": {
        "template": {
         "data": {
          "bar": [
           {
            "error_x": {
             "color": "#2a3f5f"
            },
            "error_y": {
             "color": "#2a3f5f"
            },
            "marker": {
             "line": {
              "color": "#E5ECF6",
              "width": 0.5
             },
             "pattern": {
              "fillmode": "overlay",
              "size": 10,
              "solidity": 0.2
             }
            },
            "type": "bar"
           }
          ],
          "barpolar": [
           {
            "marker": {
             "line": {
              "color": "#E5ECF6",
              "width": 0.5
             },
             "pattern": {
              "fillmode": "overlay",
              "size": 10,
              "solidity": 0.2
             }
            },
            "type": "barpolar"
           }
          ],
          "carpet": [
           {
            "aaxis": {
             "endlinecolor": "#2a3f5f",
             "gridcolor": "white",
             "linecolor": "white",
             "minorgridcolor": "white",
             "startlinecolor": "#2a3f5f"
            },
            "baxis": {
             "endlinecolor": "#2a3f5f",
             "gridcolor": "white",
             "linecolor": "white",
             "minorgridcolor": "white",
             "startlinecolor": "#2a3f5f"
            },
            "type": "carpet"
           }
          ],
          "choropleth": [
           {
            "colorbar": {
             "outlinewidth": 0,
             "ticks": ""
            },
            "type": "choropleth"
           }
          ],
          "contour": [
           {
            "colorbar": {
             "outlinewidth": 0,
             "ticks": ""
            },
            "colorscale": [
             [
              0,
              "#0d0887"
             ],
             [
              0.1111111111111111,
              "#46039f"
             ],
             [
              0.2222222222222222,
              "#7201a8"
             ],
             [
              0.3333333333333333,
              "#9c179e"
             ],
             [
              0.4444444444444444,
              "#bd3786"
             ],
             [
              0.5555555555555556,
              "#d8576b"
             ],
             [
              0.6666666666666666,
              "#ed7953"
             ],
             [
              0.7777777777777778,
              "#fb9f3a"
             ],
             [
              0.8888888888888888,
              "#fdca26"
             ],
             [
              1,
              "#f0f921"
             ]
            ],
            "type": "contour"
           }
          ],
          "contourcarpet": [
           {
            "colorbar": {
             "outlinewidth": 0,
             "ticks": ""
            },
            "type": "contourcarpet"
           }
          ],
          "heatmap": [
           {
            "colorbar": {
             "outlinewidth": 0,
             "ticks": ""
            },
            "colorscale": [
             [
              0,
              "#0d0887"
             ],
             [
              0.1111111111111111,
              "#46039f"
             ],
             [
              0.2222222222222222,
              "#7201a8"
             ],
             [
              0.3333333333333333,
              "#9c179e"
             ],
             [
              0.4444444444444444,
              "#bd3786"
             ],
             [
              0.5555555555555556,
              "#d8576b"
             ],
             [
              0.6666666666666666,
              "#ed7953"
             ],
             [
              0.7777777777777778,
              "#fb9f3a"
             ],
             [
              0.8888888888888888,
              "#fdca26"
             ],
             [
              1,
              "#f0f921"
             ]
            ],
            "type": "heatmap"
           }
          ],
          "heatmapgl": [
           {
            "colorbar": {
             "outlinewidth": 0,
             "ticks": ""
            },
            "colorscale": [
             [
              0,
              "#0d0887"
             ],
             [
              0.1111111111111111,
              "#46039f"
             ],
             [
              0.2222222222222222,
              "#7201a8"
             ],
             [
              0.3333333333333333,
              "#9c179e"
             ],
             [
              0.4444444444444444,
              "#bd3786"
             ],
             [
              0.5555555555555556,
              "#d8576b"
             ],
             [
              0.6666666666666666,
              "#ed7953"
             ],
             [
              0.7777777777777778,
              "#fb9f3a"
             ],
             [
              0.8888888888888888,
              "#fdca26"
             ],
             [
              1,
              "#f0f921"
             ]
            ],
            "type": "heatmapgl"
           }
          ],
          "histogram": [
           {
            "marker": {
             "pattern": {
              "fillmode": "overlay",
              "size": 10,
              "solidity": 0.2
             }
            },
            "type": "histogram"
           }
          ],
          "histogram2d": [
           {
            "colorbar": {
             "outlinewidth": 0,
             "ticks": ""
            },
            "colorscale": [
             [
              0,
              "#0d0887"
             ],
             [
              0.1111111111111111,
              "#46039f"
             ],
             [
              0.2222222222222222,
              "#7201a8"
             ],
             [
              0.3333333333333333,
              "#9c179e"
             ],
             [
              0.4444444444444444,
              "#bd3786"
             ],
             [
              0.5555555555555556,
              "#d8576b"
             ],
             [
              0.6666666666666666,
              "#ed7953"
             ],
             [
              0.7777777777777778,
              "#fb9f3a"
             ],
             [
              0.8888888888888888,
              "#fdca26"
             ],
             [
              1,
              "#f0f921"
             ]
            ],
            "type": "histogram2d"
           }
          ],
          "histogram2dcontour": [
           {
            "colorbar": {
             "outlinewidth": 0,
             "ticks": ""
            },
            "colorscale": [
             [
              0,
              "#0d0887"
             ],
             [
              0.1111111111111111,
              "#46039f"
             ],
             [
              0.2222222222222222,
              "#7201a8"
             ],
             [
              0.3333333333333333,
              "#9c179e"
             ],
             [
              0.4444444444444444,
              "#bd3786"
             ],
             [
              0.5555555555555556,
              "#d8576b"
             ],
             [
              0.6666666666666666,
              "#ed7953"
             ],
             [
              0.7777777777777778,
              "#fb9f3a"
             ],
             [
              0.8888888888888888,
              "#fdca26"
             ],
             [
              1,
              "#f0f921"
             ]
            ],
            "type": "histogram2dcontour"
           }
          ],
          "mesh3d": [
           {
            "colorbar": {
             "outlinewidth": 0,
             "ticks": ""
            },
            "type": "mesh3d"
           }
          ],
          "parcoords": [
           {
            "line": {
             "colorbar": {
              "outlinewidth": 0,
              "ticks": ""
             }
            },
            "type": "parcoords"
           }
          ],
          "pie": [
           {
            "automargin": true,
            "type": "pie"
           }
          ],
          "scatter": [
           {
            "fillpattern": {
             "fillmode": "overlay",
             "size": 10,
             "solidity": 0.2
            },
            "type": "scatter"
           }
          ],
          "scatter3d": [
           {
            "line": {
             "colorbar": {
              "outlinewidth": 0,
              "ticks": ""
             }
            },
            "marker": {
             "colorbar": {
              "outlinewidth": 0,
              "ticks": ""
             }
            },
            "type": "scatter3d"
           }
          ],
          "scattercarpet": [
           {
            "marker": {
             "colorbar": {
              "outlinewidth": 0,
              "ticks": ""
             }
            },
            "type": "scattercarpet"
           }
          ],
          "scattergeo": [
           {
            "marker": {
             "colorbar": {
              "outlinewidth": 0,
              "ticks": ""
             }
            },
            "type": "scattergeo"
           }
          ],
          "scattergl": [
           {
            "marker": {
             "colorbar": {
              "outlinewidth": 0,
              "ticks": ""
             }
            },
            "type": "scattergl"
           }
          ],
          "scattermapbox": [
           {
            "marker": {
             "colorbar": {
              "outlinewidth": 0,
              "ticks": ""
             }
            },
            "type": "scattermapbox"
           }
          ],
          "scatterpolar": [
           {
            "marker": {
             "colorbar": {
              "outlinewidth": 0,
              "ticks": ""
             }
            },
            "type": "scatterpolar"
           }
          ],
          "scatterpolargl": [
           {
            "marker": {
             "colorbar": {
              "outlinewidth": 0,
              "ticks": ""
             }
            },
            "type": "scatterpolargl"
           }
          ],
          "scatterternary": [
           {
            "marker": {
             "colorbar": {
              "outlinewidth": 0,
              "ticks": ""
             }
            },
            "type": "scatterternary"
           }
          ],
          "surface": [
           {
            "colorbar": {
             "outlinewidth": 0,
             "ticks": ""
            },
            "colorscale": [
             [
              0,
              "#0d0887"
             ],
             [
              0.1111111111111111,
              "#46039f"
             ],
             [
              0.2222222222222222,
              "#7201a8"
             ],
             [
              0.3333333333333333,
              "#9c179e"
             ],
             [
              0.4444444444444444,
              "#bd3786"
             ],
             [
              0.5555555555555556,
              "#d8576b"
             ],
             [
              0.6666666666666666,
              "#ed7953"
             ],
             [
              0.7777777777777778,
              "#fb9f3a"
             ],
             [
              0.8888888888888888,
              "#fdca26"
             ],
             [
              1,
              "#f0f921"
             ]
            ],
            "type": "surface"
           }
          ],
          "table": [
           {
            "cells": {
             "fill": {
              "color": "#EBF0F8"
             },
             "line": {
              "color": "white"
             }
            },
            "header": {
             "fill": {
              "color": "#C8D4E3"
             },
             "line": {
              "color": "white"
             }
            },
            "type": "table"
           }
          ]
         },
         "layout": {
          "annotationdefaults": {
           "arrowcolor": "#2a3f5f",
           "arrowhead": 0,
           "arrowwidth": 1
          },
          "autotypenumbers": "strict",
          "coloraxis": {
           "colorbar": {
            "outlinewidth": 0,
            "ticks": ""
           }
          },
          "colorscale": {
           "diverging": [
            [
             0,
             "#8e0152"
            ],
            [
             0.1,
             "#c51b7d"
            ],
            [
             0.2,
             "#de77ae"
            ],
            [
             0.3,
             "#f1b6da"
            ],
            [
             0.4,
             "#fde0ef"
            ],
            [
             0.5,
             "#f7f7f7"
            ],
            [
             0.6,
             "#e6f5d0"
            ],
            [
             0.7,
             "#b8e186"
            ],
            [
             0.8,
             "#7fbc41"
            ],
            [
             0.9,
             "#4d9221"
            ],
            [
             1,
             "#276419"
            ]
           ],
           "sequential": [
            [
             0,
             "#0d0887"
            ],
            [
             0.1111111111111111,
             "#46039f"
            ],
            [
             0.2222222222222222,
             "#7201a8"
            ],
            [
             0.3333333333333333,
             "#9c179e"
            ],
            [
             0.4444444444444444,
             "#bd3786"
            ],
            [
             0.5555555555555556,
             "#d8576b"
            ],
            [
             0.6666666666666666,
             "#ed7953"
            ],
            [
             0.7777777777777778,
             "#fb9f3a"
            ],
            [
             0.8888888888888888,
             "#fdca26"
            ],
            [
             1,
             "#f0f921"
            ]
           ],
           "sequentialminus": [
            [
             0,
             "#0d0887"
            ],
            [
             0.1111111111111111,
             "#46039f"
            ],
            [
             0.2222222222222222,
             "#7201a8"
            ],
            [
             0.3333333333333333,
             "#9c179e"
            ],
            [
             0.4444444444444444,
             "#bd3786"
            ],
            [
             0.5555555555555556,
             "#d8576b"
            ],
            [
             0.6666666666666666,
             "#ed7953"
            ],
            [
             0.7777777777777778,
             "#fb9f3a"
            ],
            [
             0.8888888888888888,
             "#fdca26"
            ],
            [
             1,
             "#f0f921"
            ]
           ]
          },
          "colorway": [
           "#636efa",
           "#EF553B",
           "#00cc96",
           "#ab63fa",
           "#FFA15A",
           "#19d3f3",
           "#FF6692",
           "#B6E880",
           "#FF97FF",
           "#FECB52"
          ],
          "font": {
           "color": "#2a3f5f"
          },
          "geo": {
           "bgcolor": "white",
           "lakecolor": "white",
           "landcolor": "#E5ECF6",
           "showlakes": true,
           "showland": true,
           "subunitcolor": "white"
          },
          "hoverlabel": {
           "align": "left"
          },
          "hovermode": "closest",
          "mapbox": {
           "style": "light"
          },
          "paper_bgcolor": "white",
          "plot_bgcolor": "#E5ECF6",
          "polar": {
           "angularaxis": {
            "gridcolor": "white",
            "linecolor": "white",
            "ticks": ""
           },
           "bgcolor": "#E5ECF6",
           "radialaxis": {
            "gridcolor": "white",
            "linecolor": "white",
            "ticks": ""
           }
          },
          "scene": {
           "xaxis": {
            "backgroundcolor": "#E5ECF6",
            "gridcolor": "white",
            "gridwidth": 2,
            "linecolor": "white",
            "showbackground": true,
            "ticks": "",
            "zerolinecolor": "white"
           },
           "yaxis": {
            "backgroundcolor": "#E5ECF6",
            "gridcolor": "white",
            "gridwidth": 2,
            "linecolor": "white",
            "showbackground": true,
            "ticks": "",
            "zerolinecolor": "white"
           },
           "zaxis": {
            "backgroundcolor": "#E5ECF6",
            "gridcolor": "white",
            "gridwidth": 2,
            "linecolor": "white",
            "showbackground": true,
            "ticks": "",
            "zerolinecolor": "white"
           }
          },
          "shapedefaults": {
           "line": {
            "color": "#2a3f5f"
           }
          },
          "ternary": {
           "aaxis": {
            "gridcolor": "white",
            "linecolor": "white",
            "ticks": ""
           },
           "baxis": {
            "gridcolor": "white",
            "linecolor": "white",
            "ticks": ""
           },
           "bgcolor": "#E5ECF6",
           "caxis": {
            "gridcolor": "white",
            "linecolor": "white",
            "ticks": ""
           }
          },
          "title": {
           "x": 0.05
          },
          "xaxis": {
           "automargin": true,
           "gridcolor": "white",
           "linecolor": "white",
           "ticks": "",
           "title": {
            "standoff": 15
           },
           "zerolinecolor": "white",
           "zerolinewidth": 2
          },
          "yaxis": {
           "automargin": true,
           "gridcolor": "white",
           "linecolor": "white",
           "ticks": "",
           "title": {
            "standoff": 15
           },
           "zerolinecolor": "white",
           "zerolinewidth": 2
          }
         }
        },
        "title": {
         "text": "Actual and Predicted Wheel Speeds, Recording 0, Trial 1"
        },
        "xaxis": {
         "title": {
          "text": "Time"
         }
        },
        "yaxis": {
         "title": {
          "text": "Value"
         }
        }
       }
      }
     },
     "metadata": {},
     "output_type": "display_data"
    },
    {
     "name": "stdout",
     "output_type": "stream",
     "text": [
      "Evaluation, Recording 0, Loss 0.04796317592263222\n"
     ]
    },
    {
     "data": {
      "application/vnd.plotly.v1+json": {
       "config": {
        "plotlyServerURL": "https://plot.ly"
       },
       "data": [
        {
         "name": "Actual",
         "type": "scatter",
         "y": [
          -0.012422636151313782,
          -0.014864618889987469,
          0.0043222722597420216,
          -0.020257167518138885,
          -0.017401177436113358,
          -0.014121455140411854,
          -0.012445456348359585,
          -0.01253078319132328,
          0.01004727091640234,
          -0.10730158537626266,
          -1.0047481060028076,
          -1.8791760206222534,
          -1.8324319124221802,
          -0.7778378129005432,
          -0.6179325580596924,
          -1.0264824628829956,
          -1.4267343282699585,
          -1.373497724533081,
          -1.2418712377548218,
          -0.28342685103416443,
          1.7597025632858276,
          3.0786547660827637,
          3.369394540786743,
          3.354449987411499,
          3.4766080379486084,
          3.8454208374023438,
          3.943202495574951,
          2.3205645084381104,
          1.0469794273376465,
          1.212088942527771,
          -0.3754650950431824,
          -0.6403105854988098,
          -0.25994792580604553,
          -0.513645350933075,
          -0.08518250286579132,
          -0.26056134700775146,
          -0.29194462299346924,
          -0.2613361179828644,
          -0.18128825724124908,
          -0.2703133225440979
         ]
        },
        {
         "name": "Predicted",
         "type": "scatter",
         "y": [
          -0.027086764574050903,
          0.03994806110858917,
          0.03528757393360138,
          0.009838573634624481,
          -0.055357854813337326,
          -0.0012512181419879198,
          -0.01799686998128891,
          0.0037841908633708954,
          -0.025960609316825867,
          -0.061841949820518494,
          -0.9168983697891235,
          -1.9155175685882568,
          -1.700539231300354,
          -0.7981834411621094,
          -0.6268603801727295,
          -0.8575344085693359,
          -1.5401978492736816,
          -1.2505911588668823,
          -1.180767297744751,
          -0.0694439560174942,
          1.8990458250045776,
          3.106598138809204,
          3.6675174236297607,
          3.437483310699463,
          3.5635037422180176,
          3.89168381690979,
          3.8479573726654053,
          2.4211652278900146,
          1.489365577697754,
          0.8941929340362549,
          -0.21516482532024384,
          -0.6563195586204529,
          -0.6664209961891174,
          -0.09659205377101898,
          -0.02920602634549141,
          -0.5641865730285645,
          -0.2810359597206116,
          -0.31876590847969055,
          -0.18292999267578125,
          -0.20631621778011322
         ]
        }
       ],
       "layout": {
        "template": {
         "data": {
          "bar": [
           {
            "error_x": {
             "color": "#2a3f5f"
            },
            "error_y": {
             "color": "#2a3f5f"
            },
            "marker": {
             "line": {
              "color": "#E5ECF6",
              "width": 0.5
             },
             "pattern": {
              "fillmode": "overlay",
              "size": 10,
              "solidity": 0.2
             }
            },
            "type": "bar"
           }
          ],
          "barpolar": [
           {
            "marker": {
             "line": {
              "color": "#E5ECF6",
              "width": 0.5
             },
             "pattern": {
              "fillmode": "overlay",
              "size": 10,
              "solidity": 0.2
             }
            },
            "type": "barpolar"
           }
          ],
          "carpet": [
           {
            "aaxis": {
             "endlinecolor": "#2a3f5f",
             "gridcolor": "white",
             "linecolor": "white",
             "minorgridcolor": "white",
             "startlinecolor": "#2a3f5f"
            },
            "baxis": {
             "endlinecolor": "#2a3f5f",
             "gridcolor": "white",
             "linecolor": "white",
             "minorgridcolor": "white",
             "startlinecolor": "#2a3f5f"
            },
            "type": "carpet"
           }
          ],
          "choropleth": [
           {
            "colorbar": {
             "outlinewidth": 0,
             "ticks": ""
            },
            "type": "choropleth"
           }
          ],
          "contour": [
           {
            "colorbar": {
             "outlinewidth": 0,
             "ticks": ""
            },
            "colorscale": [
             [
              0,
              "#0d0887"
             ],
             [
              0.1111111111111111,
              "#46039f"
             ],
             [
              0.2222222222222222,
              "#7201a8"
             ],
             [
              0.3333333333333333,
              "#9c179e"
             ],
             [
              0.4444444444444444,
              "#bd3786"
             ],
             [
              0.5555555555555556,
              "#d8576b"
             ],
             [
              0.6666666666666666,
              "#ed7953"
             ],
             [
              0.7777777777777778,
              "#fb9f3a"
             ],
             [
              0.8888888888888888,
              "#fdca26"
             ],
             [
              1,
              "#f0f921"
             ]
            ],
            "type": "contour"
           }
          ],
          "contourcarpet": [
           {
            "colorbar": {
             "outlinewidth": 0,
             "ticks": ""
            },
            "type": "contourcarpet"
           }
          ],
          "heatmap": [
           {
            "colorbar": {
             "outlinewidth": 0,
             "ticks": ""
            },
            "colorscale": [
             [
              0,
              "#0d0887"
             ],
             [
              0.1111111111111111,
              "#46039f"
             ],
             [
              0.2222222222222222,
              "#7201a8"
             ],
             [
              0.3333333333333333,
              "#9c179e"
             ],
             [
              0.4444444444444444,
              "#bd3786"
             ],
             [
              0.5555555555555556,
              "#d8576b"
             ],
             [
              0.6666666666666666,
              "#ed7953"
             ],
             [
              0.7777777777777778,
              "#fb9f3a"
             ],
             [
              0.8888888888888888,
              "#fdca26"
             ],
             [
              1,
              "#f0f921"
             ]
            ],
            "type": "heatmap"
           }
          ],
          "heatmapgl": [
           {
            "colorbar": {
             "outlinewidth": 0,
             "ticks": ""
            },
            "colorscale": [
             [
              0,
              "#0d0887"
             ],
             [
              0.1111111111111111,
              "#46039f"
             ],
             [
              0.2222222222222222,
              "#7201a8"
             ],
             [
              0.3333333333333333,
              "#9c179e"
             ],
             [
              0.4444444444444444,
              "#bd3786"
             ],
             [
              0.5555555555555556,
              "#d8576b"
             ],
             [
              0.6666666666666666,
              "#ed7953"
             ],
             [
              0.7777777777777778,
              "#fb9f3a"
             ],
             [
              0.8888888888888888,
              "#fdca26"
             ],
             [
              1,
              "#f0f921"
             ]
            ],
            "type": "heatmapgl"
           }
          ],
          "histogram": [
           {
            "marker": {
             "pattern": {
              "fillmode": "overlay",
              "size": 10,
              "solidity": 0.2
             }
            },
            "type": "histogram"
           }
          ],
          "histogram2d": [
           {
            "colorbar": {
             "outlinewidth": 0,
             "ticks": ""
            },
            "colorscale": [
             [
              0,
              "#0d0887"
             ],
             [
              0.1111111111111111,
              "#46039f"
             ],
             [
              0.2222222222222222,
              "#7201a8"
             ],
             [
              0.3333333333333333,
              "#9c179e"
             ],
             [
              0.4444444444444444,
              "#bd3786"
             ],
             [
              0.5555555555555556,
              "#d8576b"
             ],
             [
              0.6666666666666666,
              "#ed7953"
             ],
             [
              0.7777777777777778,
              "#fb9f3a"
             ],
             [
              0.8888888888888888,
              "#fdca26"
             ],
             [
              1,
              "#f0f921"
             ]
            ],
            "type": "histogram2d"
           }
          ],
          "histogram2dcontour": [
           {
            "colorbar": {
             "outlinewidth": 0,
             "ticks": ""
            },
            "colorscale": [
             [
              0,
              "#0d0887"
             ],
             [
              0.1111111111111111,
              "#46039f"
             ],
             [
              0.2222222222222222,
              "#7201a8"
             ],
             [
              0.3333333333333333,
              "#9c179e"
             ],
             [
              0.4444444444444444,
              "#bd3786"
             ],
             [
              0.5555555555555556,
              "#d8576b"
             ],
             [
              0.6666666666666666,
              "#ed7953"
             ],
             [
              0.7777777777777778,
              "#fb9f3a"
             ],
             [
              0.8888888888888888,
              "#fdca26"
             ],
             [
              1,
              "#f0f921"
             ]
            ],
            "type": "histogram2dcontour"
           }
          ],
          "mesh3d": [
           {
            "colorbar": {
             "outlinewidth": 0,
             "ticks": ""
            },
            "type": "mesh3d"
           }
          ],
          "parcoords": [
           {
            "line": {
             "colorbar": {
              "outlinewidth": 0,
              "ticks": ""
             }
            },
            "type": "parcoords"
           }
          ],
          "pie": [
           {
            "automargin": true,
            "type": "pie"
           }
          ],
          "scatter": [
           {
            "fillpattern": {
             "fillmode": "overlay",
             "size": 10,
             "solidity": 0.2
            },
            "type": "scatter"
           }
          ],
          "scatter3d": [
           {
            "line": {
             "colorbar": {
              "outlinewidth": 0,
              "ticks": ""
             }
            },
            "marker": {
             "colorbar": {
              "outlinewidth": 0,
              "ticks": ""
             }
            },
            "type": "scatter3d"
           }
          ],
          "scattercarpet": [
           {
            "marker": {
             "colorbar": {
              "outlinewidth": 0,
              "ticks": ""
             }
            },
            "type": "scattercarpet"
           }
          ],
          "scattergeo": [
           {
            "marker": {
             "colorbar": {
              "outlinewidth": 0,
              "ticks": ""
             }
            },
            "type": "scattergeo"
           }
          ],
          "scattergl": [
           {
            "marker": {
             "colorbar": {
              "outlinewidth": 0,
              "ticks": ""
             }
            },
            "type": "scattergl"
           }
          ],
          "scattermapbox": [
           {
            "marker": {
             "colorbar": {
              "outlinewidth": 0,
              "ticks": ""
             }
            },
            "type": "scattermapbox"
           }
          ],
          "scatterpolar": [
           {
            "marker": {
             "colorbar": {
              "outlinewidth": 0,
              "ticks": ""
             }
            },
            "type": "scatterpolar"
           }
          ],
          "scatterpolargl": [
           {
            "marker": {
             "colorbar": {
              "outlinewidth": 0,
              "ticks": ""
             }
            },
            "type": "scatterpolargl"
           }
          ],
          "scatterternary": [
           {
            "marker": {
             "colorbar": {
              "outlinewidth": 0,
              "ticks": ""
             }
            },
            "type": "scatterternary"
           }
          ],
          "surface": [
           {
            "colorbar": {
             "outlinewidth": 0,
             "ticks": ""
            },
            "colorscale": [
             [
              0,
              "#0d0887"
             ],
             [
              0.1111111111111111,
              "#46039f"
             ],
             [
              0.2222222222222222,
              "#7201a8"
             ],
             [
              0.3333333333333333,
              "#9c179e"
             ],
             [
              0.4444444444444444,
              "#bd3786"
             ],
             [
              0.5555555555555556,
              "#d8576b"
             ],
             [
              0.6666666666666666,
              "#ed7953"
             ],
             [
              0.7777777777777778,
              "#fb9f3a"
             ],
             [
              0.8888888888888888,
              "#fdca26"
             ],
             [
              1,
              "#f0f921"
             ]
            ],
            "type": "surface"
           }
          ],
          "table": [
           {
            "cells": {
             "fill": {
              "color": "#EBF0F8"
             },
             "line": {
              "color": "white"
             }
            },
            "header": {
             "fill": {
              "color": "#C8D4E3"
             },
             "line": {
              "color": "white"
             }
            },
            "type": "table"
           }
          ]
         },
         "layout": {
          "annotationdefaults": {
           "arrowcolor": "#2a3f5f",
           "arrowhead": 0,
           "arrowwidth": 1
          },
          "autotypenumbers": "strict",
          "coloraxis": {
           "colorbar": {
            "outlinewidth": 0,
            "ticks": ""
           }
          },
          "colorscale": {
           "diverging": [
            [
             0,
             "#8e0152"
            ],
            [
             0.1,
             "#c51b7d"
            ],
            [
             0.2,
             "#de77ae"
            ],
            [
             0.3,
             "#f1b6da"
            ],
            [
             0.4,
             "#fde0ef"
            ],
            [
             0.5,
             "#f7f7f7"
            ],
            [
             0.6,
             "#e6f5d0"
            ],
            [
             0.7,
             "#b8e186"
            ],
            [
             0.8,
             "#7fbc41"
            ],
            [
             0.9,
             "#4d9221"
            ],
            [
             1,
             "#276419"
            ]
           ],
           "sequential": [
            [
             0,
             "#0d0887"
            ],
            [
             0.1111111111111111,
             "#46039f"
            ],
            [
             0.2222222222222222,
             "#7201a8"
            ],
            [
             0.3333333333333333,
             "#9c179e"
            ],
            [
             0.4444444444444444,
             "#bd3786"
            ],
            [
             0.5555555555555556,
             "#d8576b"
            ],
            [
             0.6666666666666666,
             "#ed7953"
            ],
            [
             0.7777777777777778,
             "#fb9f3a"
            ],
            [
             0.8888888888888888,
             "#fdca26"
            ],
            [
             1,
             "#f0f921"
            ]
           ],
           "sequentialminus": [
            [
             0,
             "#0d0887"
            ],
            [
             0.1111111111111111,
             "#46039f"
            ],
            [
             0.2222222222222222,
             "#7201a8"
            ],
            [
             0.3333333333333333,
             "#9c179e"
            ],
            [
             0.4444444444444444,
             "#bd3786"
            ],
            [
             0.5555555555555556,
             "#d8576b"
            ],
            [
             0.6666666666666666,
             "#ed7953"
            ],
            [
             0.7777777777777778,
             "#fb9f3a"
            ],
            [
             0.8888888888888888,
             "#fdca26"
            ],
            [
             1,
             "#f0f921"
            ]
           ]
          },
          "colorway": [
           "#636efa",
           "#EF553B",
           "#00cc96",
           "#ab63fa",
           "#FFA15A",
           "#19d3f3",
           "#FF6692",
           "#B6E880",
           "#FF97FF",
           "#FECB52"
          ],
          "font": {
           "color": "#2a3f5f"
          },
          "geo": {
           "bgcolor": "white",
           "lakecolor": "white",
           "landcolor": "#E5ECF6",
           "showlakes": true,
           "showland": true,
           "subunitcolor": "white"
          },
          "hoverlabel": {
           "align": "left"
          },
          "hovermode": "closest",
          "mapbox": {
           "style": "light"
          },
          "paper_bgcolor": "white",
          "plot_bgcolor": "#E5ECF6",
          "polar": {
           "angularaxis": {
            "gridcolor": "white",
            "linecolor": "white",
            "ticks": ""
           },
           "bgcolor": "#E5ECF6",
           "radialaxis": {
            "gridcolor": "white",
            "linecolor": "white",
            "ticks": ""
           }
          },
          "scene": {
           "xaxis": {
            "backgroundcolor": "#E5ECF6",
            "gridcolor": "white",
            "gridwidth": 2,
            "linecolor": "white",
            "showbackground": true,
            "ticks": "",
            "zerolinecolor": "white"
           },
           "yaxis": {
            "backgroundcolor": "#E5ECF6",
            "gridcolor": "white",
            "gridwidth": 2,
            "linecolor": "white",
            "showbackground": true,
            "ticks": "",
            "zerolinecolor": "white"
           },
           "zaxis": {
            "backgroundcolor": "#E5ECF6",
            "gridcolor": "white",
            "gridwidth": 2,
            "linecolor": "white",
            "showbackground": true,
            "ticks": "",
            "zerolinecolor": "white"
           }
          },
          "shapedefaults": {
           "line": {
            "color": "#2a3f5f"
           }
          },
          "ternary": {
           "aaxis": {
            "gridcolor": "white",
            "linecolor": "white",
            "ticks": ""
           },
           "baxis": {
            "gridcolor": "white",
            "linecolor": "white",
            "ticks": ""
           },
           "bgcolor": "#E5ECF6",
           "caxis": {
            "gridcolor": "white",
            "linecolor": "white",
            "ticks": ""
           }
          },
          "title": {
           "x": 0.05
          },
          "xaxis": {
           "automargin": true,
           "gridcolor": "white",
           "linecolor": "white",
           "ticks": "",
           "title": {
            "standoff": 15
           },
           "zerolinecolor": "white",
           "zerolinewidth": 2
          },
          "yaxis": {
           "automargin": true,
           "gridcolor": "white",
           "linecolor": "white",
           "ticks": "",
           "title": {
            "standoff": 15
           },
           "zerolinecolor": "white",
           "zerolinewidth": 2
          }
         }
        },
        "title": {
         "text": "Actual and Predicted Wheel Speeds, Recording 1, Trial 0"
        },
        "xaxis": {
         "title": {
          "text": "Time"
         }
        },
        "yaxis": {
         "title": {
          "text": "Value"
         }
        }
       }
      }
     },
     "metadata": {},
     "output_type": "display_data"
    },
    {
     "data": {
      "application/vnd.plotly.v1+json": {
       "config": {
        "plotlyServerURL": "https://plot.ly"
       },
       "data": [
        {
         "name": "Actual",
         "type": "scatter",
         "y": [
          -0.03101198561489582,
          -0.009050150401890278,
          -0.002235611667856574,
          -0.020257167518138885,
          -0.017401177436113358,
          -0.014121455140411854,
          -0.012445456348359585,
          0.005406048148870468,
          -0.016838444396853447,
          -0.024805525317788124,
          -0.7423694729804993,
          -1.4395170211791992,
          -1.1720811128616333,
          -1.259214997291565,
          -1.1287107467651367,
          -1.515575647354126,
          -2.235527753829956,
          -2.3620898723602295,
          -2.205073595046997,
          -2.1431310176849365,
          -2.1101324558258057,
          -1.9693933725357056,
          -1.8353914022445679,
          -1.7389317750930786,
          -1.5848771333694458,
          -1.435487151145935,
          -1.2478290796279907,
          -1.0897791385650635,
          -1.007689356803894,
          -0.9323791265487671,
          -0.782627522945404,
          -0.7522603273391724,
          -0.6966248750686646,
          -0.6558602452278137,
          -0.5620665550231934,
          -0.53016197681427,
          -0.47441592812538147,
          -0.39410218596458435,
          -0.3762063980102539,
          -0.36073240637779236
         ]
        },
        {
         "name": "Predicted",
         "type": "scatter",
         "y": [
          0.01050470769405365,
          0.03717653825879097,
          -0.008041352033615112,
          -0.002528298646211624,
          0.00756603479385376,
          -0.018744848668575287,
          0.0182187482714653,
          0.008577369153499603,
          -0.0038816817104816437,
          -0.079623743891716,
          -0.8706823587417603,
          -1.495854377746582,
          -1.2690757513046265,
          -1.1637951135635376,
          -1.1822251081466675,
          -1.5016694068908691,
          -1.921797752380371,
          -2.2029495239257812,
          -2.164113998413086,
          -2.2198264598846436,
          -2.1308882236480713,
          -1.8859723806381226,
          -1.742571473121643,
          -1.7382423877716064,
          -1.365329623222351,
          -1.1294114589691162,
          -1.3116158246994019,
          -1.342444658279419,
          -1.213807463645935,
          -1.1219686269760132,
          -0.8320938348770142,
          -0.6328032612800598,
          -0.613060474395752,
          -0.5385794639587402,
          -0.4026596248149872,
          -0.5687445998191833,
          -0.5473094582557678,
          -0.49519631266593933,
          -0.4163895845413208,
          -0.28755462169647217
         ]
        }
       ],
       "layout": {
        "template": {
         "data": {
          "bar": [
           {
            "error_x": {
             "color": "#2a3f5f"
            },
            "error_y": {
             "color": "#2a3f5f"
            },
            "marker": {
             "line": {
              "color": "#E5ECF6",
              "width": 0.5
             },
             "pattern": {
              "fillmode": "overlay",
              "size": 10,
              "solidity": 0.2
             }
            },
            "type": "bar"
           }
          ],
          "barpolar": [
           {
            "marker": {
             "line": {
              "color": "#E5ECF6",
              "width": 0.5
             },
             "pattern": {
              "fillmode": "overlay",
              "size": 10,
              "solidity": 0.2
             }
            },
            "type": "barpolar"
           }
          ],
          "carpet": [
           {
            "aaxis": {
             "endlinecolor": "#2a3f5f",
             "gridcolor": "white",
             "linecolor": "white",
             "minorgridcolor": "white",
             "startlinecolor": "#2a3f5f"
            },
            "baxis": {
             "endlinecolor": "#2a3f5f",
             "gridcolor": "white",
             "linecolor": "white",
             "minorgridcolor": "white",
             "startlinecolor": "#2a3f5f"
            },
            "type": "carpet"
           }
          ],
          "choropleth": [
           {
            "colorbar": {
             "outlinewidth": 0,
             "ticks": ""
            },
            "type": "choropleth"
           }
          ],
          "contour": [
           {
            "colorbar": {
             "outlinewidth": 0,
             "ticks": ""
            },
            "colorscale": [
             [
              0,
              "#0d0887"
             ],
             [
              0.1111111111111111,
              "#46039f"
             ],
             [
              0.2222222222222222,
              "#7201a8"
             ],
             [
              0.3333333333333333,
              "#9c179e"
             ],
             [
              0.4444444444444444,
              "#bd3786"
             ],
             [
              0.5555555555555556,
              "#d8576b"
             ],
             [
              0.6666666666666666,
              "#ed7953"
             ],
             [
              0.7777777777777778,
              "#fb9f3a"
             ],
             [
              0.8888888888888888,
              "#fdca26"
             ],
             [
              1,
              "#f0f921"
             ]
            ],
            "type": "contour"
           }
          ],
          "contourcarpet": [
           {
            "colorbar": {
             "outlinewidth": 0,
             "ticks": ""
            },
            "type": "contourcarpet"
           }
          ],
          "heatmap": [
           {
            "colorbar": {
             "outlinewidth": 0,
             "ticks": ""
            },
            "colorscale": [
             [
              0,
              "#0d0887"
             ],
             [
              0.1111111111111111,
              "#46039f"
             ],
             [
              0.2222222222222222,
              "#7201a8"
             ],
             [
              0.3333333333333333,
              "#9c179e"
             ],
             [
              0.4444444444444444,
              "#bd3786"
             ],
             [
              0.5555555555555556,
              "#d8576b"
             ],
             [
              0.6666666666666666,
              "#ed7953"
             ],
             [
              0.7777777777777778,
              "#fb9f3a"
             ],
             [
              0.8888888888888888,
              "#fdca26"
             ],
             [
              1,
              "#f0f921"
             ]
            ],
            "type": "heatmap"
           }
          ],
          "heatmapgl": [
           {
            "colorbar": {
             "outlinewidth": 0,
             "ticks": ""
            },
            "colorscale": [
             [
              0,
              "#0d0887"
             ],
             [
              0.1111111111111111,
              "#46039f"
             ],
             [
              0.2222222222222222,
              "#7201a8"
             ],
             [
              0.3333333333333333,
              "#9c179e"
             ],
             [
              0.4444444444444444,
              "#bd3786"
             ],
             [
              0.5555555555555556,
              "#d8576b"
             ],
             [
              0.6666666666666666,
              "#ed7953"
             ],
             [
              0.7777777777777778,
              "#fb9f3a"
             ],
             [
              0.8888888888888888,
              "#fdca26"
             ],
             [
              1,
              "#f0f921"
             ]
            ],
            "type": "heatmapgl"
           }
          ],
          "histogram": [
           {
            "marker": {
             "pattern": {
              "fillmode": "overlay",
              "size": 10,
              "solidity": 0.2
             }
            },
            "type": "histogram"
           }
          ],
          "histogram2d": [
           {
            "colorbar": {
             "outlinewidth": 0,
             "ticks": ""
            },
            "colorscale": [
             [
              0,
              "#0d0887"
             ],
             [
              0.1111111111111111,
              "#46039f"
             ],
             [
              0.2222222222222222,
              "#7201a8"
             ],
             [
              0.3333333333333333,
              "#9c179e"
             ],
             [
              0.4444444444444444,
              "#bd3786"
             ],
             [
              0.5555555555555556,
              "#d8576b"
             ],
             [
              0.6666666666666666,
              "#ed7953"
             ],
             [
              0.7777777777777778,
              "#fb9f3a"
             ],
             [
              0.8888888888888888,
              "#fdca26"
             ],
             [
              1,
              "#f0f921"
             ]
            ],
            "type": "histogram2d"
           }
          ],
          "histogram2dcontour": [
           {
            "colorbar": {
             "outlinewidth": 0,
             "ticks": ""
            },
            "colorscale": [
             [
              0,
              "#0d0887"
             ],
             [
              0.1111111111111111,
              "#46039f"
             ],
             [
              0.2222222222222222,
              "#7201a8"
             ],
             [
              0.3333333333333333,
              "#9c179e"
             ],
             [
              0.4444444444444444,
              "#bd3786"
             ],
             [
              0.5555555555555556,
              "#d8576b"
             ],
             [
              0.6666666666666666,
              "#ed7953"
             ],
             [
              0.7777777777777778,
              "#fb9f3a"
             ],
             [
              0.8888888888888888,
              "#fdca26"
             ],
             [
              1,
              "#f0f921"
             ]
            ],
            "type": "histogram2dcontour"
           }
          ],
          "mesh3d": [
           {
            "colorbar": {
             "outlinewidth": 0,
             "ticks": ""
            },
            "type": "mesh3d"
           }
          ],
          "parcoords": [
           {
            "line": {
             "colorbar": {
              "outlinewidth": 0,
              "ticks": ""
             }
            },
            "type": "parcoords"
           }
          ],
          "pie": [
           {
            "automargin": true,
            "type": "pie"
           }
          ],
          "scatter": [
           {
            "fillpattern": {
             "fillmode": "overlay",
             "size": 10,
             "solidity": 0.2
            },
            "type": "scatter"
           }
          ],
          "scatter3d": [
           {
            "line": {
             "colorbar": {
              "outlinewidth": 0,
              "ticks": ""
             }
            },
            "marker": {
             "colorbar": {
              "outlinewidth": 0,
              "ticks": ""
             }
            },
            "type": "scatter3d"
           }
          ],
          "scattercarpet": [
           {
            "marker": {
             "colorbar": {
              "outlinewidth": 0,
              "ticks": ""
             }
            },
            "type": "scattercarpet"
           }
          ],
          "scattergeo": [
           {
            "marker": {
             "colorbar": {
              "outlinewidth": 0,
              "ticks": ""
             }
            },
            "type": "scattergeo"
           }
          ],
          "scattergl": [
           {
            "marker": {
             "colorbar": {
              "outlinewidth": 0,
              "ticks": ""
             }
            },
            "type": "scattergl"
           }
          ],
          "scattermapbox": [
           {
            "marker": {
             "colorbar": {
              "outlinewidth": 0,
              "ticks": ""
             }
            },
            "type": "scattermapbox"
           }
          ],
          "scatterpolar": [
           {
            "marker": {
             "colorbar": {
              "outlinewidth": 0,
              "ticks": ""
             }
            },
            "type": "scatterpolar"
           }
          ],
          "scatterpolargl": [
           {
            "marker": {
             "colorbar": {
              "outlinewidth": 0,
              "ticks": ""
             }
            },
            "type": "scatterpolargl"
           }
          ],
          "scatterternary": [
           {
            "marker": {
             "colorbar": {
              "outlinewidth": 0,
              "ticks": ""
             }
            },
            "type": "scatterternary"
           }
          ],
          "surface": [
           {
            "colorbar": {
             "outlinewidth": 0,
             "ticks": ""
            },
            "colorscale": [
             [
              0,
              "#0d0887"
             ],
             [
              0.1111111111111111,
              "#46039f"
             ],
             [
              0.2222222222222222,
              "#7201a8"
             ],
             [
              0.3333333333333333,
              "#9c179e"
             ],
             [
              0.4444444444444444,
              "#bd3786"
             ],
             [
              0.5555555555555556,
              "#d8576b"
             ],
             [
              0.6666666666666666,
              "#ed7953"
             ],
             [
              0.7777777777777778,
              "#fb9f3a"
             ],
             [
              0.8888888888888888,
              "#fdca26"
             ],
             [
              1,
              "#f0f921"
             ]
            ],
            "type": "surface"
           }
          ],
          "table": [
           {
            "cells": {
             "fill": {
              "color": "#EBF0F8"
             },
             "line": {
              "color": "white"
             }
            },
            "header": {
             "fill": {
              "color": "#C8D4E3"
             },
             "line": {
              "color": "white"
             }
            },
            "type": "table"
           }
          ]
         },
         "layout": {
          "annotationdefaults": {
           "arrowcolor": "#2a3f5f",
           "arrowhead": 0,
           "arrowwidth": 1
          },
          "autotypenumbers": "strict",
          "coloraxis": {
           "colorbar": {
            "outlinewidth": 0,
            "ticks": ""
           }
          },
          "colorscale": {
           "diverging": [
            [
             0,
             "#8e0152"
            ],
            [
             0.1,
             "#c51b7d"
            ],
            [
             0.2,
             "#de77ae"
            ],
            [
             0.3,
             "#f1b6da"
            ],
            [
             0.4,
             "#fde0ef"
            ],
            [
             0.5,
             "#f7f7f7"
            ],
            [
             0.6,
             "#e6f5d0"
            ],
            [
             0.7,
             "#b8e186"
            ],
            [
             0.8,
             "#7fbc41"
            ],
            [
             0.9,
             "#4d9221"
            ],
            [
             1,
             "#276419"
            ]
           ],
           "sequential": [
            [
             0,
             "#0d0887"
            ],
            [
             0.1111111111111111,
             "#46039f"
            ],
            [
             0.2222222222222222,
             "#7201a8"
            ],
            [
             0.3333333333333333,
             "#9c179e"
            ],
            [
             0.4444444444444444,
             "#bd3786"
            ],
            [
             0.5555555555555556,
             "#d8576b"
            ],
            [
             0.6666666666666666,
             "#ed7953"
            ],
            [
             0.7777777777777778,
             "#fb9f3a"
            ],
            [
             0.8888888888888888,
             "#fdca26"
            ],
            [
             1,
             "#f0f921"
            ]
           ],
           "sequentialminus": [
            [
             0,
             "#0d0887"
            ],
            [
             0.1111111111111111,
             "#46039f"
            ],
            [
             0.2222222222222222,
             "#7201a8"
            ],
            [
             0.3333333333333333,
             "#9c179e"
            ],
            [
             0.4444444444444444,
             "#bd3786"
            ],
            [
             0.5555555555555556,
             "#d8576b"
            ],
            [
             0.6666666666666666,
             "#ed7953"
            ],
            [
             0.7777777777777778,
             "#fb9f3a"
            ],
            [
             0.8888888888888888,
             "#fdca26"
            ],
            [
             1,
             "#f0f921"
            ]
           ]
          },
          "colorway": [
           "#636efa",
           "#EF553B",
           "#00cc96",
           "#ab63fa",
           "#FFA15A",
           "#19d3f3",
           "#FF6692",
           "#B6E880",
           "#FF97FF",
           "#FECB52"
          ],
          "font": {
           "color": "#2a3f5f"
          },
          "geo": {
           "bgcolor": "white",
           "lakecolor": "white",
           "landcolor": "#E5ECF6",
           "showlakes": true,
           "showland": true,
           "subunitcolor": "white"
          },
          "hoverlabel": {
           "align": "left"
          },
          "hovermode": "closest",
          "mapbox": {
           "style": "light"
          },
          "paper_bgcolor": "white",
          "plot_bgcolor": "#E5ECF6",
          "polar": {
           "angularaxis": {
            "gridcolor": "white",
            "linecolor": "white",
            "ticks": ""
           },
           "bgcolor": "#E5ECF6",
           "radialaxis": {
            "gridcolor": "white",
            "linecolor": "white",
            "ticks": ""
           }
          },
          "scene": {
           "xaxis": {
            "backgroundcolor": "#E5ECF6",
            "gridcolor": "white",
            "gridwidth": 2,
            "linecolor": "white",
            "showbackground": true,
            "ticks": "",
            "zerolinecolor": "white"
           },
           "yaxis": {
            "backgroundcolor": "#E5ECF6",
            "gridcolor": "white",
            "gridwidth": 2,
            "linecolor": "white",
            "showbackground": true,
            "ticks": "",
            "zerolinecolor": "white"
           },
           "zaxis": {
            "backgroundcolor": "#E5ECF6",
            "gridcolor": "white",
            "gridwidth": 2,
            "linecolor": "white",
            "showbackground": true,
            "ticks": "",
            "zerolinecolor": "white"
           }
          },
          "shapedefaults": {
           "line": {
            "color": "#2a3f5f"
           }
          },
          "ternary": {
           "aaxis": {
            "gridcolor": "white",
            "linecolor": "white",
            "ticks": ""
           },
           "baxis": {
            "gridcolor": "white",
            "linecolor": "white",
            "ticks": ""
           },
           "bgcolor": "#E5ECF6",
           "caxis": {
            "gridcolor": "white",
            "linecolor": "white",
            "ticks": ""
           }
          },
          "title": {
           "x": 0.05
          },
          "xaxis": {
           "automargin": true,
           "gridcolor": "white",
           "linecolor": "white",
           "ticks": "",
           "title": {
            "standoff": 15
           },
           "zerolinecolor": "white",
           "zerolinewidth": 2
          },
          "yaxis": {
           "automargin": true,
           "gridcolor": "white",
           "linecolor": "white",
           "ticks": "",
           "title": {
            "standoff": 15
           },
           "zerolinecolor": "white",
           "zerolinewidth": 2
          }
         }
        },
        "title": {
         "text": "Actual and Predicted Wheel Speeds, Recording 1, Trial 1"
        },
        "xaxis": {
         "title": {
          "text": "Time"
         }
        },
        "yaxis": {
         "title": {
          "text": "Value"
         }
        }
       }
      }
     },
     "metadata": {},
     "output_type": "display_data"
    },
    {
     "name": "stdout",
     "output_type": "stream",
     "text": [
      "Evaluation, Recording 1, Loss 0.06785038858652115\n"
     ]
    },
    {
     "data": {
      "application/vnd.plotly.v1+json": {
       "config": {
        "plotlyServerURL": "https://plot.ly"
       },
       "data": [
        {
         "name": "Actual",
         "type": "scatter",
         "y": [
          -0.009804736822843552,
          -0.013642816804349422,
          -0.011432936415076256,
          -0.012151564471423626,
          -0.007847216911613941,
          -0.0095939626917243,
          -0.010995253920555115,
          -0.01278135646134615,
          -0.022640101611614227,
          0.05342990159988403,
          1.7435728311538696,
          4.365464210510254,
          4.629770755767822,
          2.6563150882720947,
          1.1212056875228882,
          0.8414022326469421,
          0.6294519305229187,
          0.42263877391815186,
          0.2612246870994568,
          0.1836784929037094,
          0.045785438269376755,
          -0.14441266655921936,
          -0.38939762115478516,
          -0.6724222898483276,
          -0.9111208319664001,
          -1.15138578414917,
          -1.3712276220321655,
          -1.5429261922836304,
          -1.497281789779663,
          -1.5127534866333008,
          -1.4726594686508179,
          -1.4054497480392456,
          -1.3968918323516846,
          -1.3736536502838135,
          -1.3139805793762207,
          -1.2622685432434082,
          -1.1979707479476929,
          -1.1307978630065918,
          -1.130783200263977,
          -1.1005281209945679
         ]
        },
        {
         "name": "Predicted",
         "type": "scatter",
         "y": [
          0.05668260157108307,
          -0.05414547771215439,
          -0.01683003641664982,
          -0.0006009489297866821,
          -0.03516688197851181,
          0.047467298805713654,
          -0.007310017943382263,
          0.051893800497055054,
          -0.008156649768352509,
          0.16077281534671783,
          1.8205045461654663,
          4.300239086151123,
          4.7186689376831055,
          2.7058682441711426,
          1.1603069305419922,
          0.8167967200279236,
          0.8076359033584595,
          0.16943316161632538,
          0.40572845935821533,
          0.20755870640277863,
          -0.20278003811836243,
          -0.07700850069522858,
          -0.3417645990848541,
          -0.598351776599884,
          -1.0047671794891357,
          -1.3010576963424683,
          -1.2412580251693726,
          -1.622470736503601,
          -1.3735370635986328,
          -1.6070849895477295,
          -1.5236163139343262,
          -1.4880132675170898,
          -1.4382535219192505,
          -1.4114761352539062,
          -1.2055171728134155,
          -1.293818473815918,
          -1.299560546875,
          -1.118510127067566,
          -1.069972276687622,
          -1.210037350654602
         ]
        }
       ],
       "layout": {
        "template": {
         "data": {
          "bar": [
           {
            "error_x": {
             "color": "#2a3f5f"
            },
            "error_y": {
             "color": "#2a3f5f"
            },
            "marker": {
             "line": {
              "color": "#E5ECF6",
              "width": 0.5
             },
             "pattern": {
              "fillmode": "overlay",
              "size": 10,
              "solidity": 0.2
             }
            },
            "type": "bar"
           }
          ],
          "barpolar": [
           {
            "marker": {
             "line": {
              "color": "#E5ECF6",
              "width": 0.5
             },
             "pattern": {
              "fillmode": "overlay",
              "size": 10,
              "solidity": 0.2
             }
            },
            "type": "barpolar"
           }
          ],
          "carpet": [
           {
            "aaxis": {
             "endlinecolor": "#2a3f5f",
             "gridcolor": "white",
             "linecolor": "white",
             "minorgridcolor": "white",
             "startlinecolor": "#2a3f5f"
            },
            "baxis": {
             "endlinecolor": "#2a3f5f",
             "gridcolor": "white",
             "linecolor": "white",
             "minorgridcolor": "white",
             "startlinecolor": "#2a3f5f"
            },
            "type": "carpet"
           }
          ],
          "choropleth": [
           {
            "colorbar": {
             "outlinewidth": 0,
             "ticks": ""
            },
            "type": "choropleth"
           }
          ],
          "contour": [
           {
            "colorbar": {
             "outlinewidth": 0,
             "ticks": ""
            },
            "colorscale": [
             [
              0,
              "#0d0887"
             ],
             [
              0.1111111111111111,
              "#46039f"
             ],
             [
              0.2222222222222222,
              "#7201a8"
             ],
             [
              0.3333333333333333,
              "#9c179e"
             ],
             [
              0.4444444444444444,
              "#bd3786"
             ],
             [
              0.5555555555555556,
              "#d8576b"
             ],
             [
              0.6666666666666666,
              "#ed7953"
             ],
             [
              0.7777777777777778,
              "#fb9f3a"
             ],
             [
              0.8888888888888888,
              "#fdca26"
             ],
             [
              1,
              "#f0f921"
             ]
            ],
            "type": "contour"
           }
          ],
          "contourcarpet": [
           {
            "colorbar": {
             "outlinewidth": 0,
             "ticks": ""
            },
            "type": "contourcarpet"
           }
          ],
          "heatmap": [
           {
            "colorbar": {
             "outlinewidth": 0,
             "ticks": ""
            },
            "colorscale": [
             [
              0,
              "#0d0887"
             ],
             [
              0.1111111111111111,
              "#46039f"
             ],
             [
              0.2222222222222222,
              "#7201a8"
             ],
             [
              0.3333333333333333,
              "#9c179e"
             ],
             [
              0.4444444444444444,
              "#bd3786"
             ],
             [
              0.5555555555555556,
              "#d8576b"
             ],
             [
              0.6666666666666666,
              "#ed7953"
             ],
             [
              0.7777777777777778,
              "#fb9f3a"
             ],
             [
              0.8888888888888888,
              "#fdca26"
             ],
             [
              1,
              "#f0f921"
             ]
            ],
            "type": "heatmap"
           }
          ],
          "heatmapgl": [
           {
            "colorbar": {
             "outlinewidth": 0,
             "ticks": ""
            },
            "colorscale": [
             [
              0,
              "#0d0887"
             ],
             [
              0.1111111111111111,
              "#46039f"
             ],
             [
              0.2222222222222222,
              "#7201a8"
             ],
             [
              0.3333333333333333,
              "#9c179e"
             ],
             [
              0.4444444444444444,
              "#bd3786"
             ],
             [
              0.5555555555555556,
              "#d8576b"
             ],
             [
              0.6666666666666666,
              "#ed7953"
             ],
             [
              0.7777777777777778,
              "#fb9f3a"
             ],
             [
              0.8888888888888888,
              "#fdca26"
             ],
             [
              1,
              "#f0f921"
             ]
            ],
            "type": "heatmapgl"
           }
          ],
          "histogram": [
           {
            "marker": {
             "pattern": {
              "fillmode": "overlay",
              "size": 10,
              "solidity": 0.2
             }
            },
            "type": "histogram"
           }
          ],
          "histogram2d": [
           {
            "colorbar": {
             "outlinewidth": 0,
             "ticks": ""
            },
            "colorscale": [
             [
              0,
              "#0d0887"
             ],
             [
              0.1111111111111111,
              "#46039f"
             ],
             [
              0.2222222222222222,
              "#7201a8"
             ],
             [
              0.3333333333333333,
              "#9c179e"
             ],
             [
              0.4444444444444444,
              "#bd3786"
             ],
             [
              0.5555555555555556,
              "#d8576b"
             ],
             [
              0.6666666666666666,
              "#ed7953"
             ],
             [
              0.7777777777777778,
              "#fb9f3a"
             ],
             [
              0.8888888888888888,
              "#fdca26"
             ],
             [
              1,
              "#f0f921"
             ]
            ],
            "type": "histogram2d"
           }
          ],
          "histogram2dcontour": [
           {
            "colorbar": {
             "outlinewidth": 0,
             "ticks": ""
            },
            "colorscale": [
             [
              0,
              "#0d0887"
             ],
             [
              0.1111111111111111,
              "#46039f"
             ],
             [
              0.2222222222222222,
              "#7201a8"
             ],
             [
              0.3333333333333333,
              "#9c179e"
             ],
             [
              0.4444444444444444,
              "#bd3786"
             ],
             [
              0.5555555555555556,
              "#d8576b"
             ],
             [
              0.6666666666666666,
              "#ed7953"
             ],
             [
              0.7777777777777778,
              "#fb9f3a"
             ],
             [
              0.8888888888888888,
              "#fdca26"
             ],
             [
              1,
              "#f0f921"
             ]
            ],
            "type": "histogram2dcontour"
           }
          ],
          "mesh3d": [
           {
            "colorbar": {
             "outlinewidth": 0,
             "ticks": ""
            },
            "type": "mesh3d"
           }
          ],
          "parcoords": [
           {
            "line": {
             "colorbar": {
              "outlinewidth": 0,
              "ticks": ""
             }
            },
            "type": "parcoords"
           }
          ],
          "pie": [
           {
            "automargin": true,
            "type": "pie"
           }
          ],
          "scatter": [
           {
            "fillpattern": {
             "fillmode": "overlay",
             "size": 10,
             "solidity": 0.2
            },
            "type": "scatter"
           }
          ],
          "scatter3d": [
           {
            "line": {
             "colorbar": {
              "outlinewidth": 0,
              "ticks": ""
             }
            },
            "marker": {
             "colorbar": {
              "outlinewidth": 0,
              "ticks": ""
             }
            },
            "type": "scatter3d"
           }
          ],
          "scattercarpet": [
           {
            "marker": {
             "colorbar": {
              "outlinewidth": 0,
              "ticks": ""
             }
            },
            "type": "scattercarpet"
           }
          ],
          "scattergeo": [
           {
            "marker": {
             "colorbar": {
              "outlinewidth": 0,
              "ticks": ""
             }
            },
            "type": "scattergeo"
           }
          ],
          "scattergl": [
           {
            "marker": {
             "colorbar": {
              "outlinewidth": 0,
              "ticks": ""
             }
            },
            "type": "scattergl"
           }
          ],
          "scattermapbox": [
           {
            "marker": {
             "colorbar": {
              "outlinewidth": 0,
              "ticks": ""
             }
            },
            "type": "scattermapbox"
           }
          ],
          "scatterpolar": [
           {
            "marker": {
             "colorbar": {
              "outlinewidth": 0,
              "ticks": ""
             }
            },
            "type": "scatterpolar"
           }
          ],
          "scatterpolargl": [
           {
            "marker": {
             "colorbar": {
              "outlinewidth": 0,
              "ticks": ""
             }
            },
            "type": "scatterpolargl"
           }
          ],
          "scatterternary": [
           {
            "marker": {
             "colorbar": {
              "outlinewidth": 0,
              "ticks": ""
             }
            },
            "type": "scatterternary"
           }
          ],
          "surface": [
           {
            "colorbar": {
             "outlinewidth": 0,
             "ticks": ""
            },
            "colorscale": [
             [
              0,
              "#0d0887"
             ],
             [
              0.1111111111111111,
              "#46039f"
             ],
             [
              0.2222222222222222,
              "#7201a8"
             ],
             [
              0.3333333333333333,
              "#9c179e"
             ],
             [
              0.4444444444444444,
              "#bd3786"
             ],
             [
              0.5555555555555556,
              "#d8576b"
             ],
             [
              0.6666666666666666,
              "#ed7953"
             ],
             [
              0.7777777777777778,
              "#fb9f3a"
             ],
             [
              0.8888888888888888,
              "#fdca26"
             ],
             [
              1,
              "#f0f921"
             ]
            ],
            "type": "surface"
           }
          ],
          "table": [
           {
            "cells": {
             "fill": {
              "color": "#EBF0F8"
             },
             "line": {
              "color": "white"
             }
            },
            "header": {
             "fill": {
              "color": "#C8D4E3"
             },
             "line": {
              "color": "white"
             }
            },
            "type": "table"
           }
          ]
         },
         "layout": {
          "annotationdefaults": {
           "arrowcolor": "#2a3f5f",
           "arrowhead": 0,
           "arrowwidth": 1
          },
          "autotypenumbers": "strict",
          "coloraxis": {
           "colorbar": {
            "outlinewidth": 0,
            "ticks": ""
           }
          },
          "colorscale": {
           "diverging": [
            [
             0,
             "#8e0152"
            ],
            [
             0.1,
             "#c51b7d"
            ],
            [
             0.2,
             "#de77ae"
            ],
            [
             0.3,
             "#f1b6da"
            ],
            [
             0.4,
             "#fde0ef"
            ],
            [
             0.5,
             "#f7f7f7"
            ],
            [
             0.6,
             "#e6f5d0"
            ],
            [
             0.7,
             "#b8e186"
            ],
            [
             0.8,
             "#7fbc41"
            ],
            [
             0.9,
             "#4d9221"
            ],
            [
             1,
             "#276419"
            ]
           ],
           "sequential": [
            [
             0,
             "#0d0887"
            ],
            [
             0.1111111111111111,
             "#46039f"
            ],
            [
             0.2222222222222222,
             "#7201a8"
            ],
            [
             0.3333333333333333,
             "#9c179e"
            ],
            [
             0.4444444444444444,
             "#bd3786"
            ],
            [
             0.5555555555555556,
             "#d8576b"
            ],
            [
             0.6666666666666666,
             "#ed7953"
            ],
            [
             0.7777777777777778,
             "#fb9f3a"
            ],
            [
             0.8888888888888888,
             "#fdca26"
            ],
            [
             1,
             "#f0f921"
            ]
           ],
           "sequentialminus": [
            [
             0,
             "#0d0887"
            ],
            [
             0.1111111111111111,
             "#46039f"
            ],
            [
             0.2222222222222222,
             "#7201a8"
            ],
            [
             0.3333333333333333,
             "#9c179e"
            ],
            [
             0.4444444444444444,
             "#bd3786"
            ],
            [
             0.5555555555555556,
             "#d8576b"
            ],
            [
             0.6666666666666666,
             "#ed7953"
            ],
            [
             0.7777777777777778,
             "#fb9f3a"
            ],
            [
             0.8888888888888888,
             "#fdca26"
            ],
            [
             1,
             "#f0f921"
            ]
           ]
          },
          "colorway": [
           "#636efa",
           "#EF553B",
           "#00cc96",
           "#ab63fa",
           "#FFA15A",
           "#19d3f3",
           "#FF6692",
           "#B6E880",
           "#FF97FF",
           "#FECB52"
          ],
          "font": {
           "color": "#2a3f5f"
          },
          "geo": {
           "bgcolor": "white",
           "lakecolor": "white",
           "landcolor": "#E5ECF6",
           "showlakes": true,
           "showland": true,
           "subunitcolor": "white"
          },
          "hoverlabel": {
           "align": "left"
          },
          "hovermode": "closest",
          "mapbox": {
           "style": "light"
          },
          "paper_bgcolor": "white",
          "plot_bgcolor": "#E5ECF6",
          "polar": {
           "angularaxis": {
            "gridcolor": "white",
            "linecolor": "white",
            "ticks": ""
           },
           "bgcolor": "#E5ECF6",
           "radialaxis": {
            "gridcolor": "white",
            "linecolor": "white",
            "ticks": ""
           }
          },
          "scene": {
           "xaxis": {
            "backgroundcolor": "#E5ECF6",
            "gridcolor": "white",
            "gridwidth": 2,
            "linecolor": "white",
            "showbackground": true,
            "ticks": "",
            "zerolinecolor": "white"
           },
           "yaxis": {
            "backgroundcolor": "#E5ECF6",
            "gridcolor": "white",
            "gridwidth": 2,
            "linecolor": "white",
            "showbackground": true,
            "ticks": "",
            "zerolinecolor": "white"
           },
           "zaxis": {
            "backgroundcolor": "#E5ECF6",
            "gridcolor": "white",
            "gridwidth": 2,
            "linecolor": "white",
            "showbackground": true,
            "ticks": "",
            "zerolinecolor": "white"
           }
          },
          "shapedefaults": {
           "line": {
            "color": "#2a3f5f"
           }
          },
          "ternary": {
           "aaxis": {
            "gridcolor": "white",
            "linecolor": "white",
            "ticks": ""
           },
           "baxis": {
            "gridcolor": "white",
            "linecolor": "white",
            "ticks": ""
           },
           "bgcolor": "#E5ECF6",
           "caxis": {
            "gridcolor": "white",
            "linecolor": "white",
            "ticks": ""
           }
          },
          "title": {
           "x": 0.05
          },
          "xaxis": {
           "automargin": true,
           "gridcolor": "white",
           "linecolor": "white",
           "ticks": "",
           "title": {
            "standoff": 15
           },
           "zerolinecolor": "white",
           "zerolinewidth": 2
          },
          "yaxis": {
           "automargin": true,
           "gridcolor": "white",
           "linecolor": "white",
           "ticks": "",
           "title": {
            "standoff": 15
           },
           "zerolinecolor": "white",
           "zerolinewidth": 2
          }
         }
        },
        "title": {
         "text": "Actual and Predicted Wheel Speeds, Recording 2, Trial 0"
        },
        "xaxis": {
         "title": {
          "text": "Time"
         }
        },
        "yaxis": {
         "title": {
          "text": "Value"
         }
        }
       }
      }
     },
     "metadata": {},
     "output_type": "display_data"
    },
    {
     "data": {
      "application/vnd.plotly.v1+json": {
       "config": {
        "plotlyServerURL": "https://plot.ly"
       },
       "data": [
        {
         "name": "Actual",
         "type": "scatter",
         "y": [
          -0.02016184851527214,
          -0.013642816804349422,
          -0.011432936415076256,
          -0.012151564471423626,
          -0.010329855605959892,
          -0.0095939626917243,
          -0.010995253920555115,
          -0.01278135646134615,
          -0.022640101611614227,
          -0.0060712299309670925,
          -0.484362930059433,
          -1.2241846323013306,
          -1.51790189743042,
          -1.352080225944519,
          -1.5540047883987427,
          -0.745082676410675,
          -0.6144723296165466,
          -1.443045973777771,
          -0.7506827116012573,
          -1.0646154880523682,
          -1.8691645860671997,
          -1.686397671699524,
          -1.7779375314712524,
          -1.2185486555099487,
          -1.0315202474594116,
          -1.3471612930297852,
          -1.4502112865447998,
          -1.0690609216690063,
          -1.3348431587219238,
          -1.4172828197479248,
          0.20257450640201569,
          2.034419059753418,
          1.153113603591919,
          -0.7752819657325745,
          0.07480672001838684,
          -0.02514742687344551,
          -0.25632163882255554,
          1.1925723552703857,
          1.0524927377700806,
          2.08109188079834
         ]
        },
        {
         "name": "Predicted",
         "type": "scatter",
         "y": [
          -0.03585768863558769,
          -0.03250821679830551,
          -0.02643561363220215,
          0.0004524439573287964,
          0.06068553775548935,
          0.027932338416576385,
          0.03895457088947296,
          -0.03297562897205353,
          -0.0265086367726326,
          -0.023816455155611038,
          -0.510516881942749,
          -1.135854959487915,
          -1.586531639099121,
          -1.272521734237671,
          -1.5698320865631104,
          -0.6403378844261169,
          -0.6332152485847473,
          -1.4098578691482544,
          -0.7578586935997009,
          -1.0651166439056396,
          -2.0478334426879883,
          -1.5715776681900024,
          -1.9554834365844727,
          -1.2016313076019287,
          -1.0165648460388184,
          -1.5291199684143066,
          -1.3790841102600098,
          -1.138192892074585,
          -1.4434380531311035,
          -1.441145420074463,
          0.1982683539390564,
          1.924572229385376,
          1.0923309326171875,
          -0.7731651067733765,
          -0.06410452723503113,
          -0.12438929080963135,
          -0.22872492671012878,
          1.0537530183792114,
          1.1364943981170654,
          1.9254090785980225
         ]
        }
       ],
       "layout": {
        "template": {
         "data": {
          "bar": [
           {
            "error_x": {
             "color": "#2a3f5f"
            },
            "error_y": {
             "color": "#2a3f5f"
            },
            "marker": {
             "line": {
              "color": "#E5ECF6",
              "width": 0.5
             },
             "pattern": {
              "fillmode": "overlay",
              "size": 10,
              "solidity": 0.2
             }
            },
            "type": "bar"
           }
          ],
          "barpolar": [
           {
            "marker": {
             "line": {
              "color": "#E5ECF6",
              "width": 0.5
             },
             "pattern": {
              "fillmode": "overlay",
              "size": 10,
              "solidity": 0.2
             }
            },
            "type": "barpolar"
           }
          ],
          "carpet": [
           {
            "aaxis": {
             "endlinecolor": "#2a3f5f",
             "gridcolor": "white",
             "linecolor": "white",
             "minorgridcolor": "white",
             "startlinecolor": "#2a3f5f"
            },
            "baxis": {
             "endlinecolor": "#2a3f5f",
             "gridcolor": "white",
             "linecolor": "white",
             "minorgridcolor": "white",
             "startlinecolor": "#2a3f5f"
            },
            "type": "carpet"
           }
          ],
          "choropleth": [
           {
            "colorbar": {
             "outlinewidth": 0,
             "ticks": ""
            },
            "type": "choropleth"
           }
          ],
          "contour": [
           {
            "colorbar": {
             "outlinewidth": 0,
             "ticks": ""
            },
            "colorscale": [
             [
              0,
              "#0d0887"
             ],
             [
              0.1111111111111111,
              "#46039f"
             ],
             [
              0.2222222222222222,
              "#7201a8"
             ],
             [
              0.3333333333333333,
              "#9c179e"
             ],
             [
              0.4444444444444444,
              "#bd3786"
             ],
             [
              0.5555555555555556,
              "#d8576b"
             ],
             [
              0.6666666666666666,
              "#ed7953"
             ],
             [
              0.7777777777777778,
              "#fb9f3a"
             ],
             [
              0.8888888888888888,
              "#fdca26"
             ],
             [
              1,
              "#f0f921"
             ]
            ],
            "type": "contour"
           }
          ],
          "contourcarpet": [
           {
            "colorbar": {
             "outlinewidth": 0,
             "ticks": ""
            },
            "type": "contourcarpet"
           }
          ],
          "heatmap": [
           {
            "colorbar": {
             "outlinewidth": 0,
             "ticks": ""
            },
            "colorscale": [
             [
              0,
              "#0d0887"
             ],
             [
              0.1111111111111111,
              "#46039f"
             ],
             [
              0.2222222222222222,
              "#7201a8"
             ],
             [
              0.3333333333333333,
              "#9c179e"
             ],
             [
              0.4444444444444444,
              "#bd3786"
             ],
             [
              0.5555555555555556,
              "#d8576b"
             ],
             [
              0.6666666666666666,
              "#ed7953"
             ],
             [
              0.7777777777777778,
              "#fb9f3a"
             ],
             [
              0.8888888888888888,
              "#fdca26"
             ],
             [
              1,
              "#f0f921"
             ]
            ],
            "type": "heatmap"
           }
          ],
          "heatmapgl": [
           {
            "colorbar": {
             "outlinewidth": 0,
             "ticks": ""
            },
            "colorscale": [
             [
              0,
              "#0d0887"
             ],
             [
              0.1111111111111111,
              "#46039f"
             ],
             [
              0.2222222222222222,
              "#7201a8"
             ],
             [
              0.3333333333333333,
              "#9c179e"
             ],
             [
              0.4444444444444444,
              "#bd3786"
             ],
             [
              0.5555555555555556,
              "#d8576b"
             ],
             [
              0.6666666666666666,
              "#ed7953"
             ],
             [
              0.7777777777777778,
              "#fb9f3a"
             ],
             [
              0.8888888888888888,
              "#fdca26"
             ],
             [
              1,
              "#f0f921"
             ]
            ],
            "type": "heatmapgl"
           }
          ],
          "histogram": [
           {
            "marker": {
             "pattern": {
              "fillmode": "overlay",
              "size": 10,
              "solidity": 0.2
             }
            },
            "type": "histogram"
           }
          ],
          "histogram2d": [
           {
            "colorbar": {
             "outlinewidth": 0,
             "ticks": ""
            },
            "colorscale": [
             [
              0,
              "#0d0887"
             ],
             [
              0.1111111111111111,
              "#46039f"
             ],
             [
              0.2222222222222222,
              "#7201a8"
             ],
             [
              0.3333333333333333,
              "#9c179e"
             ],
             [
              0.4444444444444444,
              "#bd3786"
             ],
             [
              0.5555555555555556,
              "#d8576b"
             ],
             [
              0.6666666666666666,
              "#ed7953"
             ],
             [
              0.7777777777777778,
              "#fb9f3a"
             ],
             [
              0.8888888888888888,
              "#fdca26"
             ],
             [
              1,
              "#f0f921"
             ]
            ],
            "type": "histogram2d"
           }
          ],
          "histogram2dcontour": [
           {
            "colorbar": {
             "outlinewidth": 0,
             "ticks": ""
            },
            "colorscale": [
             [
              0,
              "#0d0887"
             ],
             [
              0.1111111111111111,
              "#46039f"
             ],
             [
              0.2222222222222222,
              "#7201a8"
             ],
             [
              0.3333333333333333,
              "#9c179e"
             ],
             [
              0.4444444444444444,
              "#bd3786"
             ],
             [
              0.5555555555555556,
              "#d8576b"
             ],
             [
              0.6666666666666666,
              "#ed7953"
             ],
             [
              0.7777777777777778,
              "#fb9f3a"
             ],
             [
              0.8888888888888888,
              "#fdca26"
             ],
             [
              1,
              "#f0f921"
             ]
            ],
            "type": "histogram2dcontour"
           }
          ],
          "mesh3d": [
           {
            "colorbar": {
             "outlinewidth": 0,
             "ticks": ""
            },
            "type": "mesh3d"
           }
          ],
          "parcoords": [
           {
            "line": {
             "colorbar": {
              "outlinewidth": 0,
              "ticks": ""
             }
            },
            "type": "parcoords"
           }
          ],
          "pie": [
           {
            "automargin": true,
            "type": "pie"
           }
          ],
          "scatter": [
           {
            "fillpattern": {
             "fillmode": "overlay",
             "size": 10,
             "solidity": 0.2
            },
            "type": "scatter"
           }
          ],
          "scatter3d": [
           {
            "line": {
             "colorbar": {
              "outlinewidth": 0,
              "ticks": ""
             }
            },
            "marker": {
             "colorbar": {
              "outlinewidth": 0,
              "ticks": ""
             }
            },
            "type": "scatter3d"
           }
          ],
          "scattercarpet": [
           {
            "marker": {
             "colorbar": {
              "outlinewidth": 0,
              "ticks": ""
             }
            },
            "type": "scattercarpet"
           }
          ],
          "scattergeo": [
           {
            "marker": {
             "colorbar": {
              "outlinewidth": 0,
              "ticks": ""
             }
            },
            "type": "scattergeo"
           }
          ],
          "scattergl": [
           {
            "marker": {
             "colorbar": {
              "outlinewidth": 0,
              "ticks": ""
             }
            },
            "type": "scattergl"
           }
          ],
          "scattermapbox": [
           {
            "marker": {
             "colorbar": {
              "outlinewidth": 0,
              "ticks": ""
             }
            },
            "type": "scattermapbox"
           }
          ],
          "scatterpolar": [
           {
            "marker": {
             "colorbar": {
              "outlinewidth": 0,
              "ticks": ""
             }
            },
            "type": "scatterpolar"
           }
          ],
          "scatterpolargl": [
           {
            "marker": {
             "colorbar": {
              "outlinewidth": 0,
              "ticks": ""
             }
            },
            "type": "scatterpolargl"
           }
          ],
          "scatterternary": [
           {
            "marker": {
             "colorbar": {
              "outlinewidth": 0,
              "ticks": ""
             }
            },
            "type": "scatterternary"
           }
          ],
          "surface": [
           {
            "colorbar": {
             "outlinewidth": 0,
             "ticks": ""
            },
            "colorscale": [
             [
              0,
              "#0d0887"
             ],
             [
              0.1111111111111111,
              "#46039f"
             ],
             [
              0.2222222222222222,
              "#7201a8"
             ],
             [
              0.3333333333333333,
              "#9c179e"
             ],
             [
              0.4444444444444444,
              "#bd3786"
             ],
             [
              0.5555555555555556,
              "#d8576b"
             ],
             [
              0.6666666666666666,
              "#ed7953"
             ],
             [
              0.7777777777777778,
              "#fb9f3a"
             ],
             [
              0.8888888888888888,
              "#fdca26"
             ],
             [
              1,
              "#f0f921"
             ]
            ],
            "type": "surface"
           }
          ],
          "table": [
           {
            "cells": {
             "fill": {
              "color": "#EBF0F8"
             },
             "line": {
              "color": "white"
             }
            },
            "header": {
             "fill": {
              "color": "#C8D4E3"
             },
             "line": {
              "color": "white"
             }
            },
            "type": "table"
           }
          ]
         },
         "layout": {
          "annotationdefaults": {
           "arrowcolor": "#2a3f5f",
           "arrowhead": 0,
           "arrowwidth": 1
          },
          "autotypenumbers": "strict",
          "coloraxis": {
           "colorbar": {
            "outlinewidth": 0,
            "ticks": ""
           }
          },
          "colorscale": {
           "diverging": [
            [
             0,
             "#8e0152"
            ],
            [
             0.1,
             "#c51b7d"
            ],
            [
             0.2,
             "#de77ae"
            ],
            [
             0.3,
             "#f1b6da"
            ],
            [
             0.4,
             "#fde0ef"
            ],
            [
             0.5,
             "#f7f7f7"
            ],
            [
             0.6,
             "#e6f5d0"
            ],
            [
             0.7,
             "#b8e186"
            ],
            [
             0.8,
             "#7fbc41"
            ],
            [
             0.9,
             "#4d9221"
            ],
            [
             1,
             "#276419"
            ]
           ],
           "sequential": [
            [
             0,
             "#0d0887"
            ],
            [
             0.1111111111111111,
             "#46039f"
            ],
            [
             0.2222222222222222,
             "#7201a8"
            ],
            [
             0.3333333333333333,
             "#9c179e"
            ],
            [
             0.4444444444444444,
             "#bd3786"
            ],
            [
             0.5555555555555556,
             "#d8576b"
            ],
            [
             0.6666666666666666,
             "#ed7953"
            ],
            [
             0.7777777777777778,
             "#fb9f3a"
            ],
            [
             0.8888888888888888,
             "#fdca26"
            ],
            [
             1,
             "#f0f921"
            ]
           ],
           "sequentialminus": [
            [
             0,
             "#0d0887"
            ],
            [
             0.1111111111111111,
             "#46039f"
            ],
            [
             0.2222222222222222,
             "#7201a8"
            ],
            [
             0.3333333333333333,
             "#9c179e"
            ],
            [
             0.4444444444444444,
             "#bd3786"
            ],
            [
             0.5555555555555556,
             "#d8576b"
            ],
            [
             0.6666666666666666,
             "#ed7953"
            ],
            [
             0.7777777777777778,
             "#fb9f3a"
            ],
            [
             0.8888888888888888,
             "#fdca26"
            ],
            [
             1,
             "#f0f921"
            ]
           ]
          },
          "colorway": [
           "#636efa",
           "#EF553B",
           "#00cc96",
           "#ab63fa",
           "#FFA15A",
           "#19d3f3",
           "#FF6692",
           "#B6E880",
           "#FF97FF",
           "#FECB52"
          ],
          "font": {
           "color": "#2a3f5f"
          },
          "geo": {
           "bgcolor": "white",
           "lakecolor": "white",
           "landcolor": "#E5ECF6",
           "showlakes": true,
           "showland": true,
           "subunitcolor": "white"
          },
          "hoverlabel": {
           "align": "left"
          },
          "hovermode": "closest",
          "mapbox": {
           "style": "light"
          },
          "paper_bgcolor": "white",
          "plot_bgcolor": "#E5ECF6",
          "polar": {
           "angularaxis": {
            "gridcolor": "white",
            "linecolor": "white",
            "ticks": ""
           },
           "bgcolor": "#E5ECF6",
           "radialaxis": {
            "gridcolor": "white",
            "linecolor": "white",
            "ticks": ""
           }
          },
          "scene": {
           "xaxis": {
            "backgroundcolor": "#E5ECF6",
            "gridcolor": "white",
            "gridwidth": 2,
            "linecolor": "white",
            "showbackground": true,
            "ticks": "",
            "zerolinecolor": "white"
           },
           "yaxis": {
            "backgroundcolor": "#E5ECF6",
            "gridcolor": "white",
            "gridwidth": 2,
            "linecolor": "white",
            "showbackground": true,
            "ticks": "",
            "zerolinecolor": "white"
           },
           "zaxis": {
            "backgroundcolor": "#E5ECF6",
            "gridcolor": "white",
            "gridwidth": 2,
            "linecolor": "white",
            "showbackground": true,
            "ticks": "",
            "zerolinecolor": "white"
           }
          },
          "shapedefaults": {
           "line": {
            "color": "#2a3f5f"
           }
          },
          "ternary": {
           "aaxis": {
            "gridcolor": "white",
            "linecolor": "white",
            "ticks": ""
           },
           "baxis": {
            "gridcolor": "white",
            "linecolor": "white",
            "ticks": ""
           },
           "bgcolor": "#E5ECF6",
           "caxis": {
            "gridcolor": "white",
            "linecolor": "white",
            "ticks": ""
           }
          },
          "title": {
           "x": 0.05
          },
          "xaxis": {
           "automargin": true,
           "gridcolor": "white",
           "linecolor": "white",
           "ticks": "",
           "title": {
            "standoff": 15
           },
           "zerolinecolor": "white",
           "zerolinewidth": 2
          },
          "yaxis": {
           "automargin": true,
           "gridcolor": "white",
           "linecolor": "white",
           "ticks": "",
           "title": {
            "standoff": 15
           },
           "zerolinecolor": "white",
           "zerolinewidth": 2
          }
         }
        },
        "title": {
         "text": "Actual and Predicted Wheel Speeds, Recording 2, Trial 1"
        },
        "xaxis": {
         "title": {
          "text": "Time"
         }
        },
        "yaxis": {
         "title": {
          "text": "Value"
         }
        }
       }
      }
     },
     "metadata": {},
     "output_type": "display_data"
    },
    {
     "name": "stdout",
     "output_type": "stream",
     "text": [
      "Evaluation, Recording 2, Loss 0.017681101337075233\n"
     ]
    },
    {
     "data": {
      "application/vnd.plotly.v1+json": {
       "config": {
        "plotlyServerURL": "https://plot.ly"
       },
       "data": [
        {
         "name": "Actual",
         "type": "scatter",
         "y": [
          -0.03389616310596466,
          0.015445864759385586,
          0.01965874247252941,
          -0.017788242548704147,
          0.0045512160286307335,
          -0.008915293961763382,
          -0.013340792618691921,
          0.02663283236324787,
          0.0861906111240387,
          -0.025091441348195076,
          -0.8896322250366211,
          -2.0447463989257812,
          -1.9442002773284912,
          0.43353989720344543,
          2.332780361175537,
          1.008175015449524,
          -1.084459662437439,
          -1.5943835973739624,
          -1.6485286951065063,
          -1.0305055379867554,
          -0.9173740744590759,
          -1.3564244508743286,
          -1.1557610034942627,
          0.47076040506362915,
          -0.9717981219291687,
          -0.16958706080913544,
          -0.4509158134460449,
          0.6922104954719543,
          1.3258788585662842,
          1.194563865661621,
          0.12000919878482819,
          -0.6038092374801636,
          -0.22686131298542023,
          -0.3967016339302063,
          -0.49912819266319275,
          -0.36342430114746094,
          -0.33998915553092957,
          -0.38309603929519653,
          -0.2557844817638397,
          -0.24045036733150482
         ]
        },
        {
         "name": "Predicted",
         "type": "scatter",
         "y": [
          -0.018800007179379463,
          -0.014328435063362122,
          0.0772523432970047,
          0.016451850533485413,
          -0.029311219230294228,
          -0.0017801746726036072,
          -0.002450656145811081,
          -0.040460679680109024,
          0.0014731250703334808,
          -0.017204850912094116,
          -0.9413297176361084,
          -2.230384349822998,
          -1.7463862895965576,
          0.3967593312263489,
          2.1769802570343018,
          1.0458693504333496,
          -0.9609236717224121,
          -1.7984614372253418,
          -1.6787676811218262,
          -0.884430468082428,
          -0.8571409583091736,
          -1.4652725458145142,
          -0.6991384625434875,
          -0.051776573061943054,
          -0.526722252368927,
          -0.2603724002838135,
          -0.19840651750564575,
          0.6652164459228516,
          1.2198221683502197,
          1.0070886611938477,
          0.22481271624565125,
          -0.41837769746780396,
          -0.3404703736305237,
          -0.28929364681243896,
          -0.38653895258903503,
          -0.46285906434059143,
          -0.4576696753501892,
          -0.41747063398361206,
          -0.23917751014232635,
          -0.2700307369232178
         ]
        }
       ],
       "layout": {
        "template": {
         "data": {
          "bar": [
           {
            "error_x": {
             "color": "#2a3f5f"
            },
            "error_y": {
             "color": "#2a3f5f"
            },
            "marker": {
             "line": {
              "color": "#E5ECF6",
              "width": 0.5
             },
             "pattern": {
              "fillmode": "overlay",
              "size": 10,
              "solidity": 0.2
             }
            },
            "type": "bar"
           }
          ],
          "barpolar": [
           {
            "marker": {
             "line": {
              "color": "#E5ECF6",
              "width": 0.5
             },
             "pattern": {
              "fillmode": "overlay",
              "size": 10,
              "solidity": 0.2
             }
            },
            "type": "barpolar"
           }
          ],
          "carpet": [
           {
            "aaxis": {
             "endlinecolor": "#2a3f5f",
             "gridcolor": "white",
             "linecolor": "white",
             "minorgridcolor": "white",
             "startlinecolor": "#2a3f5f"
            },
            "baxis": {
             "endlinecolor": "#2a3f5f",
             "gridcolor": "white",
             "linecolor": "white",
             "minorgridcolor": "white",
             "startlinecolor": "#2a3f5f"
            },
            "type": "carpet"
           }
          ],
          "choropleth": [
           {
            "colorbar": {
             "outlinewidth": 0,
             "ticks": ""
            },
            "type": "choropleth"
           }
          ],
          "contour": [
           {
            "colorbar": {
             "outlinewidth": 0,
             "ticks": ""
            },
            "colorscale": [
             [
              0,
              "#0d0887"
             ],
             [
              0.1111111111111111,
              "#46039f"
             ],
             [
              0.2222222222222222,
              "#7201a8"
             ],
             [
              0.3333333333333333,
              "#9c179e"
             ],
             [
              0.4444444444444444,
              "#bd3786"
             ],
             [
              0.5555555555555556,
              "#d8576b"
             ],
             [
              0.6666666666666666,
              "#ed7953"
             ],
             [
              0.7777777777777778,
              "#fb9f3a"
             ],
             [
              0.8888888888888888,
              "#fdca26"
             ],
             [
              1,
              "#f0f921"
             ]
            ],
            "type": "contour"
           }
          ],
          "contourcarpet": [
           {
            "colorbar": {
             "outlinewidth": 0,
             "ticks": ""
            },
            "type": "contourcarpet"
           }
          ],
          "heatmap": [
           {
            "colorbar": {
             "outlinewidth": 0,
             "ticks": ""
            },
            "colorscale": [
             [
              0,
              "#0d0887"
             ],
             [
              0.1111111111111111,
              "#46039f"
             ],
             [
              0.2222222222222222,
              "#7201a8"
             ],
             [
              0.3333333333333333,
              "#9c179e"
             ],
             [
              0.4444444444444444,
              "#bd3786"
             ],
             [
              0.5555555555555556,
              "#d8576b"
             ],
             [
              0.6666666666666666,
              "#ed7953"
             ],
             [
              0.7777777777777778,
              "#fb9f3a"
             ],
             [
              0.8888888888888888,
              "#fdca26"
             ],
             [
              1,
              "#f0f921"
             ]
            ],
            "type": "heatmap"
           }
          ],
          "heatmapgl": [
           {
            "colorbar": {
             "outlinewidth": 0,
             "ticks": ""
            },
            "colorscale": [
             [
              0,
              "#0d0887"
             ],
             [
              0.1111111111111111,
              "#46039f"
             ],
             [
              0.2222222222222222,
              "#7201a8"
             ],
             [
              0.3333333333333333,
              "#9c179e"
             ],
             [
              0.4444444444444444,
              "#bd3786"
             ],
             [
              0.5555555555555556,
              "#d8576b"
             ],
             [
              0.6666666666666666,
              "#ed7953"
             ],
             [
              0.7777777777777778,
              "#fb9f3a"
             ],
             [
              0.8888888888888888,
              "#fdca26"
             ],
             [
              1,
              "#f0f921"
             ]
            ],
            "type": "heatmapgl"
           }
          ],
          "histogram": [
           {
            "marker": {
             "pattern": {
              "fillmode": "overlay",
              "size": 10,
              "solidity": 0.2
             }
            },
            "type": "histogram"
           }
          ],
          "histogram2d": [
           {
            "colorbar": {
             "outlinewidth": 0,
             "ticks": ""
            },
            "colorscale": [
             [
              0,
              "#0d0887"
             ],
             [
              0.1111111111111111,
              "#46039f"
             ],
             [
              0.2222222222222222,
              "#7201a8"
             ],
             [
              0.3333333333333333,
              "#9c179e"
             ],
             [
              0.4444444444444444,
              "#bd3786"
             ],
             [
              0.5555555555555556,
              "#d8576b"
             ],
             [
              0.6666666666666666,
              "#ed7953"
             ],
             [
              0.7777777777777778,
              "#fb9f3a"
             ],
             [
              0.8888888888888888,
              "#fdca26"
             ],
             [
              1,
              "#f0f921"
             ]
            ],
            "type": "histogram2d"
           }
          ],
          "histogram2dcontour": [
           {
            "colorbar": {
             "outlinewidth": 0,
             "ticks": ""
            },
            "colorscale": [
             [
              0,
              "#0d0887"
             ],
             [
              0.1111111111111111,
              "#46039f"
             ],
             [
              0.2222222222222222,
              "#7201a8"
             ],
             [
              0.3333333333333333,
              "#9c179e"
             ],
             [
              0.4444444444444444,
              "#bd3786"
             ],
             [
              0.5555555555555556,
              "#d8576b"
             ],
             [
              0.6666666666666666,
              "#ed7953"
             ],
             [
              0.7777777777777778,
              "#fb9f3a"
             ],
             [
              0.8888888888888888,
              "#fdca26"
             ],
             [
              1,
              "#f0f921"
             ]
            ],
            "type": "histogram2dcontour"
           }
          ],
          "mesh3d": [
           {
            "colorbar": {
             "outlinewidth": 0,
             "ticks": ""
            },
            "type": "mesh3d"
           }
          ],
          "parcoords": [
           {
            "line": {
             "colorbar": {
              "outlinewidth": 0,
              "ticks": ""
             }
            },
            "type": "parcoords"
           }
          ],
          "pie": [
           {
            "automargin": true,
            "type": "pie"
           }
          ],
          "scatter": [
           {
            "fillpattern": {
             "fillmode": "overlay",
             "size": 10,
             "solidity": 0.2
            },
            "type": "scatter"
           }
          ],
          "scatter3d": [
           {
            "line": {
             "colorbar": {
              "outlinewidth": 0,
              "ticks": ""
             }
            },
            "marker": {
             "colorbar": {
              "outlinewidth": 0,
              "ticks": ""
             }
            },
            "type": "scatter3d"
           }
          ],
          "scattercarpet": [
           {
            "marker": {
             "colorbar": {
              "outlinewidth": 0,
              "ticks": ""
             }
            },
            "type": "scattercarpet"
           }
          ],
          "scattergeo": [
           {
            "marker": {
             "colorbar": {
              "outlinewidth": 0,
              "ticks": ""
             }
            },
            "type": "scattergeo"
           }
          ],
          "scattergl": [
           {
            "marker": {
             "colorbar": {
              "outlinewidth": 0,
              "ticks": ""
             }
            },
            "type": "scattergl"
           }
          ],
          "scattermapbox": [
           {
            "marker": {
             "colorbar": {
              "outlinewidth": 0,
              "ticks": ""
             }
            },
            "type": "scattermapbox"
           }
          ],
          "scatterpolar": [
           {
            "marker": {
             "colorbar": {
              "outlinewidth": 0,
              "ticks": ""
             }
            },
            "type": "scatterpolar"
           }
          ],
          "scatterpolargl": [
           {
            "marker": {
             "colorbar": {
              "outlinewidth": 0,
              "ticks": ""
             }
            },
            "type": "scatterpolargl"
           }
          ],
          "scatterternary": [
           {
            "marker": {
             "colorbar": {
              "outlinewidth": 0,
              "ticks": ""
             }
            },
            "type": "scatterternary"
           }
          ],
          "surface": [
           {
            "colorbar": {
             "outlinewidth": 0,
             "ticks": ""
            },
            "colorscale": [
             [
              0,
              "#0d0887"
             ],
             [
              0.1111111111111111,
              "#46039f"
             ],
             [
              0.2222222222222222,
              "#7201a8"
             ],
             [
              0.3333333333333333,
              "#9c179e"
             ],
             [
              0.4444444444444444,
              "#bd3786"
             ],
             [
              0.5555555555555556,
              "#d8576b"
             ],
             [
              0.6666666666666666,
              "#ed7953"
             ],
             [
              0.7777777777777778,
              "#fb9f3a"
             ],
             [
              0.8888888888888888,
              "#fdca26"
             ],
             [
              1,
              "#f0f921"
             ]
            ],
            "type": "surface"
           }
          ],
          "table": [
           {
            "cells": {
             "fill": {
              "color": "#EBF0F8"
             },
             "line": {
              "color": "white"
             }
            },
            "header": {
             "fill": {
              "color": "#C8D4E3"
             },
             "line": {
              "color": "white"
             }
            },
            "type": "table"
           }
          ]
         },
         "layout": {
          "annotationdefaults": {
           "arrowcolor": "#2a3f5f",
           "arrowhead": 0,
           "arrowwidth": 1
          },
          "autotypenumbers": "strict",
          "coloraxis": {
           "colorbar": {
            "outlinewidth": 0,
            "ticks": ""
           }
          },
          "colorscale": {
           "diverging": [
            [
             0,
             "#8e0152"
            ],
            [
             0.1,
             "#c51b7d"
            ],
            [
             0.2,
             "#de77ae"
            ],
            [
             0.3,
             "#f1b6da"
            ],
            [
             0.4,
             "#fde0ef"
            ],
            [
             0.5,
             "#f7f7f7"
            ],
            [
             0.6,
             "#e6f5d0"
            ],
            [
             0.7,
             "#b8e186"
            ],
            [
             0.8,
             "#7fbc41"
            ],
            [
             0.9,
             "#4d9221"
            ],
            [
             1,
             "#276419"
            ]
           ],
           "sequential": [
            [
             0,
             "#0d0887"
            ],
            [
             0.1111111111111111,
             "#46039f"
            ],
            [
             0.2222222222222222,
             "#7201a8"
            ],
            [
             0.3333333333333333,
             "#9c179e"
            ],
            [
             0.4444444444444444,
             "#bd3786"
            ],
            [
             0.5555555555555556,
             "#d8576b"
            ],
            [
             0.6666666666666666,
             "#ed7953"
            ],
            [
             0.7777777777777778,
             "#fb9f3a"
            ],
            [
             0.8888888888888888,
             "#fdca26"
            ],
            [
             1,
             "#f0f921"
            ]
           ],
           "sequentialminus": [
            [
             0,
             "#0d0887"
            ],
            [
             0.1111111111111111,
             "#46039f"
            ],
            [
             0.2222222222222222,
             "#7201a8"
            ],
            [
             0.3333333333333333,
             "#9c179e"
            ],
            [
             0.4444444444444444,
             "#bd3786"
            ],
            [
             0.5555555555555556,
             "#d8576b"
            ],
            [
             0.6666666666666666,
             "#ed7953"
            ],
            [
             0.7777777777777778,
             "#fb9f3a"
            ],
            [
             0.8888888888888888,
             "#fdca26"
            ],
            [
             1,
             "#f0f921"
            ]
           ]
          },
          "colorway": [
           "#636efa",
           "#EF553B",
           "#00cc96",
           "#ab63fa",
           "#FFA15A",
           "#19d3f3",
           "#FF6692",
           "#B6E880",
           "#FF97FF",
           "#FECB52"
          ],
          "font": {
           "color": "#2a3f5f"
          },
          "geo": {
           "bgcolor": "white",
           "lakecolor": "white",
           "landcolor": "#E5ECF6",
           "showlakes": true,
           "showland": true,
           "subunitcolor": "white"
          },
          "hoverlabel": {
           "align": "left"
          },
          "hovermode": "closest",
          "mapbox": {
           "style": "light"
          },
          "paper_bgcolor": "white",
          "plot_bgcolor": "#E5ECF6",
          "polar": {
           "angularaxis": {
            "gridcolor": "white",
            "linecolor": "white",
            "ticks": ""
           },
           "bgcolor": "#E5ECF6",
           "radialaxis": {
            "gridcolor": "white",
            "linecolor": "white",
            "ticks": ""
           }
          },
          "scene": {
           "xaxis": {
            "backgroundcolor": "#E5ECF6",
            "gridcolor": "white",
            "gridwidth": 2,
            "linecolor": "white",
            "showbackground": true,
            "ticks": "",
            "zerolinecolor": "white"
           },
           "yaxis": {
            "backgroundcolor": "#E5ECF6",
            "gridcolor": "white",
            "gridwidth": 2,
            "linecolor": "white",
            "showbackground": true,
            "ticks": "",
            "zerolinecolor": "white"
           },
           "zaxis": {
            "backgroundcolor": "#E5ECF6",
            "gridcolor": "white",
            "gridwidth": 2,
            "linecolor": "white",
            "showbackground": true,
            "ticks": "",
            "zerolinecolor": "white"
           }
          },
          "shapedefaults": {
           "line": {
            "color": "#2a3f5f"
           }
          },
          "ternary": {
           "aaxis": {
            "gridcolor": "white",
            "linecolor": "white",
            "ticks": ""
           },
           "baxis": {
            "gridcolor": "white",
            "linecolor": "white",
            "ticks": ""
           },
           "bgcolor": "#E5ECF6",
           "caxis": {
            "gridcolor": "white",
            "linecolor": "white",
            "ticks": ""
           }
          },
          "title": {
           "x": 0.05
          },
          "xaxis": {
           "automargin": true,
           "gridcolor": "white",
           "linecolor": "white",
           "ticks": "",
           "title": {
            "standoff": 15
           },
           "zerolinecolor": "white",
           "zerolinewidth": 2
          },
          "yaxis": {
           "automargin": true,
           "gridcolor": "white",
           "linecolor": "white",
           "ticks": "",
           "title": {
            "standoff": 15
           },
           "zerolinecolor": "white",
           "zerolinewidth": 2
          }
         }
        },
        "title": {
         "text": "Actual and Predicted Wheel Speeds, Recording 3, Trial 0"
        },
        "xaxis": {
         "title": {
          "text": "Time"
         }
        },
        "yaxis": {
         "title": {
          "text": "Value"
         }
        }
       }
      }
     },
     "metadata": {},
     "output_type": "display_data"
    },
    {
     "data": {
      "application/vnd.plotly.v1+json": {
       "config": {
        "plotlyServerURL": "https://plot.ly"
       },
       "data": [
        {
         "name": "Actual",
         "type": "scatter",
         "y": [
          -0.03389616310596466,
          -0.02926291525363922,
          -0.02275513857603073,
          -0.017788242548704147,
          -0.018560390919446945,
          -0.014897800981998444,
          -0.013340792618691921,
          -0.013359218835830688,
          -0.01382478978484869,
          0.035622064024209976,
          0.7992697358131409,
          2.0310401916503906,
          2.588733196258545,
          2.71421480178833,
          2.803881883621216,
          2.4693377017974854,
          2.0618791580200195,
          1.7310612201690674,
          1.5737255811691284,
          1.4152981042861938,
          1.243131160736084,
          1.283190369606018,
          1.4954267740249634,
          1.9470760822296143,
          0.2704985439777374,
          0.12944595515727997,
          -0.5022716522216797,
          0.29870134592056274,
          1.3341714143753052,
          0.9824968576431274,
          -0.05040551722049713,
          -0.6104338765144348,
          -0.2355603277683258,
          -0.3909778296947479,
          -0.3479025661945343,
          -0.3050345778465271,
          -0.3707164227962494,
          -0.38559162616729736,
          -0.3099059462547302,
          -0.27718833088874817
         ]
        },
        {
         "name": "Predicted",
         "type": "scatter",
         "y": [
          -0.07064127922058105,
          0.053832363337278366,
          0.008300993591547012,
          0.03582148253917694,
          -0.007266230881214142,
          -0.025039546191692352,
          0.029721014201641083,
          -0.021492376923561096,
          -0.019739780575037003,
          0.031778860837221146,
          0.8418718576431274,
          2.0011556148529053,
          2.612706184387207,
          2.7560887336730957,
          2.7568259239196777,
          2.549583911895752,
          2.0049068927764893,
          1.6180121898651123,
          1.5942567586898804,
          1.5730890035629272,
          1.1401375532150269,
          1.281394600868225,
          1.8086657524108887,
          1.8431100845336914,
          0.49249106645584106,
          0.018889587372541428,
          -0.23224282264709473,
          0.23688915371894836,
          1.4752038717269897,
          0.8693166971206665,
          -0.05694521963596344,
          -0.5041018724441528,
          -0.24529968202114105,
          -0.36894258856773376,
          -0.3779141306877136,
          -0.33653074502944946,
          -0.37730368971824646,
          -0.3735111355781555,
          -0.3402268886566162,
          -0.21783660352230072
         ]
        }
       ],
       "layout": {
        "template": {
         "data": {
          "bar": [
           {
            "error_x": {
             "color": "#2a3f5f"
            },
            "error_y": {
             "color": "#2a3f5f"
            },
            "marker": {
             "line": {
              "color": "#E5ECF6",
              "width": 0.5
             },
             "pattern": {
              "fillmode": "overlay",
              "size": 10,
              "solidity": 0.2
             }
            },
            "type": "bar"
           }
          ],
          "barpolar": [
           {
            "marker": {
             "line": {
              "color": "#E5ECF6",
              "width": 0.5
             },
             "pattern": {
              "fillmode": "overlay",
              "size": 10,
              "solidity": 0.2
             }
            },
            "type": "barpolar"
           }
          ],
          "carpet": [
           {
            "aaxis": {
             "endlinecolor": "#2a3f5f",
             "gridcolor": "white",
             "linecolor": "white",
             "minorgridcolor": "white",
             "startlinecolor": "#2a3f5f"
            },
            "baxis": {
             "endlinecolor": "#2a3f5f",
             "gridcolor": "white",
             "linecolor": "white",
             "minorgridcolor": "white",
             "startlinecolor": "#2a3f5f"
            },
            "type": "carpet"
           }
          ],
          "choropleth": [
           {
            "colorbar": {
             "outlinewidth": 0,
             "ticks": ""
            },
            "type": "choropleth"
           }
          ],
          "contour": [
           {
            "colorbar": {
             "outlinewidth": 0,
             "ticks": ""
            },
            "colorscale": [
             [
              0,
              "#0d0887"
             ],
             [
              0.1111111111111111,
              "#46039f"
             ],
             [
              0.2222222222222222,
              "#7201a8"
             ],
             [
              0.3333333333333333,
              "#9c179e"
             ],
             [
              0.4444444444444444,
              "#bd3786"
             ],
             [
              0.5555555555555556,
              "#d8576b"
             ],
             [
              0.6666666666666666,
              "#ed7953"
             ],
             [
              0.7777777777777778,
              "#fb9f3a"
             ],
             [
              0.8888888888888888,
              "#fdca26"
             ],
             [
              1,
              "#f0f921"
             ]
            ],
            "type": "contour"
           }
          ],
          "contourcarpet": [
           {
            "colorbar": {
             "outlinewidth": 0,
             "ticks": ""
            },
            "type": "contourcarpet"
           }
          ],
          "heatmap": [
           {
            "colorbar": {
             "outlinewidth": 0,
             "ticks": ""
            },
            "colorscale": [
             [
              0,
              "#0d0887"
             ],
             [
              0.1111111111111111,
              "#46039f"
             ],
             [
              0.2222222222222222,
              "#7201a8"
             ],
             [
              0.3333333333333333,
              "#9c179e"
             ],
             [
              0.4444444444444444,
              "#bd3786"
             ],
             [
              0.5555555555555556,
              "#d8576b"
             ],
             [
              0.6666666666666666,
              "#ed7953"
             ],
             [
              0.7777777777777778,
              "#fb9f3a"
             ],
             [
              0.8888888888888888,
              "#fdca26"
             ],
             [
              1,
              "#f0f921"
             ]
            ],
            "type": "heatmap"
           }
          ],
          "heatmapgl": [
           {
            "colorbar": {
             "outlinewidth": 0,
             "ticks": ""
            },
            "colorscale": [
             [
              0,
              "#0d0887"
             ],
             [
              0.1111111111111111,
              "#46039f"
             ],
             [
              0.2222222222222222,
              "#7201a8"
             ],
             [
              0.3333333333333333,
              "#9c179e"
             ],
             [
              0.4444444444444444,
              "#bd3786"
             ],
             [
              0.5555555555555556,
              "#d8576b"
             ],
             [
              0.6666666666666666,
              "#ed7953"
             ],
             [
              0.7777777777777778,
              "#fb9f3a"
             ],
             [
              0.8888888888888888,
              "#fdca26"
             ],
             [
              1,
              "#f0f921"
             ]
            ],
            "type": "heatmapgl"
           }
          ],
          "histogram": [
           {
            "marker": {
             "pattern": {
              "fillmode": "overlay",
              "size": 10,
              "solidity": 0.2
             }
            },
            "type": "histogram"
           }
          ],
          "histogram2d": [
           {
            "colorbar": {
             "outlinewidth": 0,
             "ticks": ""
            },
            "colorscale": [
             [
              0,
              "#0d0887"
             ],
             [
              0.1111111111111111,
              "#46039f"
             ],
             [
              0.2222222222222222,
              "#7201a8"
             ],
             [
              0.3333333333333333,
              "#9c179e"
             ],
             [
              0.4444444444444444,
              "#bd3786"
             ],
             [
              0.5555555555555556,
              "#d8576b"
             ],
             [
              0.6666666666666666,
              "#ed7953"
             ],
             [
              0.7777777777777778,
              "#fb9f3a"
             ],
             [
              0.8888888888888888,
              "#fdca26"
             ],
             [
              1,
              "#f0f921"
             ]
            ],
            "type": "histogram2d"
           }
          ],
          "histogram2dcontour": [
           {
            "colorbar": {
             "outlinewidth": 0,
             "ticks": ""
            },
            "colorscale": [
             [
              0,
              "#0d0887"
             ],
             [
              0.1111111111111111,
              "#46039f"
             ],
             [
              0.2222222222222222,
              "#7201a8"
             ],
             [
              0.3333333333333333,
              "#9c179e"
             ],
             [
              0.4444444444444444,
              "#bd3786"
             ],
             [
              0.5555555555555556,
              "#d8576b"
             ],
             [
              0.6666666666666666,
              "#ed7953"
             ],
             [
              0.7777777777777778,
              "#fb9f3a"
             ],
             [
              0.8888888888888888,
              "#fdca26"
             ],
             [
              1,
              "#f0f921"
             ]
            ],
            "type": "histogram2dcontour"
           }
          ],
          "mesh3d": [
           {
            "colorbar": {
             "outlinewidth": 0,
             "ticks": ""
            },
            "type": "mesh3d"
           }
          ],
          "parcoords": [
           {
            "line": {
             "colorbar": {
              "outlinewidth": 0,
              "ticks": ""
             }
            },
            "type": "parcoords"
           }
          ],
          "pie": [
           {
            "automargin": true,
            "type": "pie"
           }
          ],
          "scatter": [
           {
            "fillpattern": {
             "fillmode": "overlay",
             "size": 10,
             "solidity": 0.2
            },
            "type": "scatter"
           }
          ],
          "scatter3d": [
           {
            "line": {
             "colorbar": {
              "outlinewidth": 0,
              "ticks": ""
             }
            },
            "marker": {
             "colorbar": {
              "outlinewidth": 0,
              "ticks": ""
             }
            },
            "type": "scatter3d"
           }
          ],
          "scattercarpet": [
           {
            "marker": {
             "colorbar": {
              "outlinewidth": 0,
              "ticks": ""
             }
            },
            "type": "scattercarpet"
           }
          ],
          "scattergeo": [
           {
            "marker": {
             "colorbar": {
              "outlinewidth": 0,
              "ticks": ""
             }
            },
            "type": "scattergeo"
           }
          ],
          "scattergl": [
           {
            "marker": {
             "colorbar": {
              "outlinewidth": 0,
              "ticks": ""
             }
            },
            "type": "scattergl"
           }
          ],
          "scattermapbox": [
           {
            "marker": {
             "colorbar": {
              "outlinewidth": 0,
              "ticks": ""
             }
            },
            "type": "scattermapbox"
           }
          ],
          "scatterpolar": [
           {
            "marker": {
             "colorbar": {
              "outlinewidth": 0,
              "ticks": ""
             }
            },
            "type": "scatterpolar"
           }
          ],
          "scatterpolargl": [
           {
            "marker": {
             "colorbar": {
              "outlinewidth": 0,
              "ticks": ""
             }
            },
            "type": "scatterpolargl"
           }
          ],
          "scatterternary": [
           {
            "marker": {
             "colorbar": {
              "outlinewidth": 0,
              "ticks": ""
             }
            },
            "type": "scatterternary"
           }
          ],
          "surface": [
           {
            "colorbar": {
             "outlinewidth": 0,
             "ticks": ""
            },
            "colorscale": [
             [
              0,
              "#0d0887"
             ],
             [
              0.1111111111111111,
              "#46039f"
             ],
             [
              0.2222222222222222,
              "#7201a8"
             ],
             [
              0.3333333333333333,
              "#9c179e"
             ],
             [
              0.4444444444444444,
              "#bd3786"
             ],
             [
              0.5555555555555556,
              "#d8576b"
             ],
             [
              0.6666666666666666,
              "#ed7953"
             ],
             [
              0.7777777777777778,
              "#fb9f3a"
             ],
             [
              0.8888888888888888,
              "#fdca26"
             ],
             [
              1,
              "#f0f921"
             ]
            ],
            "type": "surface"
           }
          ],
          "table": [
           {
            "cells": {
             "fill": {
              "color": "#EBF0F8"
             },
             "line": {
              "color": "white"
             }
            },
            "header": {
             "fill": {
              "color": "#C8D4E3"
             },
             "line": {
              "color": "white"
             }
            },
            "type": "table"
           }
          ]
         },
         "layout": {
          "annotationdefaults": {
           "arrowcolor": "#2a3f5f",
           "arrowhead": 0,
           "arrowwidth": 1
          },
          "autotypenumbers": "strict",
          "coloraxis": {
           "colorbar": {
            "outlinewidth": 0,
            "ticks": ""
           }
          },
          "colorscale": {
           "diverging": [
            [
             0,
             "#8e0152"
            ],
            [
             0.1,
             "#c51b7d"
            ],
            [
             0.2,
             "#de77ae"
            ],
            [
             0.3,
             "#f1b6da"
            ],
            [
             0.4,
             "#fde0ef"
            ],
            [
             0.5,
             "#f7f7f7"
            ],
            [
             0.6,
             "#e6f5d0"
            ],
            [
             0.7,
             "#b8e186"
            ],
            [
             0.8,
             "#7fbc41"
            ],
            [
             0.9,
             "#4d9221"
            ],
            [
             1,
             "#276419"
            ]
           ],
           "sequential": [
            [
             0,
             "#0d0887"
            ],
            [
             0.1111111111111111,
             "#46039f"
            ],
            [
             0.2222222222222222,
             "#7201a8"
            ],
            [
             0.3333333333333333,
             "#9c179e"
            ],
            [
             0.4444444444444444,
             "#bd3786"
            ],
            [
             0.5555555555555556,
             "#d8576b"
            ],
            [
             0.6666666666666666,
             "#ed7953"
            ],
            [
             0.7777777777777778,
             "#fb9f3a"
            ],
            [
             0.8888888888888888,
             "#fdca26"
            ],
            [
             1,
             "#f0f921"
            ]
           ],
           "sequentialminus": [
            [
             0,
             "#0d0887"
            ],
            [
             0.1111111111111111,
             "#46039f"
            ],
            [
             0.2222222222222222,
             "#7201a8"
            ],
            [
             0.3333333333333333,
             "#9c179e"
            ],
            [
             0.4444444444444444,
             "#bd3786"
            ],
            [
             0.5555555555555556,
             "#d8576b"
            ],
            [
             0.6666666666666666,
             "#ed7953"
            ],
            [
             0.7777777777777778,
             "#fb9f3a"
            ],
            [
             0.8888888888888888,
             "#fdca26"
            ],
            [
             1,
             "#f0f921"
            ]
           ]
          },
          "colorway": [
           "#636efa",
           "#EF553B",
           "#00cc96",
           "#ab63fa",
           "#FFA15A",
           "#19d3f3",
           "#FF6692",
           "#B6E880",
           "#FF97FF",
           "#FECB52"
          ],
          "font": {
           "color": "#2a3f5f"
          },
          "geo": {
           "bgcolor": "white",
           "lakecolor": "white",
           "landcolor": "#E5ECF6",
           "showlakes": true,
           "showland": true,
           "subunitcolor": "white"
          },
          "hoverlabel": {
           "align": "left"
          },
          "hovermode": "closest",
          "mapbox": {
           "style": "light"
          },
          "paper_bgcolor": "white",
          "plot_bgcolor": "#E5ECF6",
          "polar": {
           "angularaxis": {
            "gridcolor": "white",
            "linecolor": "white",
            "ticks": ""
           },
           "bgcolor": "#E5ECF6",
           "radialaxis": {
            "gridcolor": "white",
            "linecolor": "white",
            "ticks": ""
           }
          },
          "scene": {
           "xaxis": {
            "backgroundcolor": "#E5ECF6",
            "gridcolor": "white",
            "gridwidth": 2,
            "linecolor": "white",
            "showbackground": true,
            "ticks": "",
            "zerolinecolor": "white"
           },
           "yaxis": {
            "backgroundcolor": "#E5ECF6",
            "gridcolor": "white",
            "gridwidth": 2,
            "linecolor": "white",
            "showbackground": true,
            "ticks": "",
            "zerolinecolor": "white"
           },
           "zaxis": {
            "backgroundcolor": "#E5ECF6",
            "gridcolor": "white",
            "gridwidth": 2,
            "linecolor": "white",
            "showbackground": true,
            "ticks": "",
            "zerolinecolor": "white"
           }
          },
          "shapedefaults": {
           "line": {
            "color": "#2a3f5f"
           }
          },
          "ternary": {
           "aaxis": {
            "gridcolor": "white",
            "linecolor": "white",
            "ticks": ""
           },
           "baxis": {
            "gridcolor": "white",
            "linecolor": "white",
            "ticks": ""
           },
           "bgcolor": "#E5ECF6",
           "caxis": {
            "gridcolor": "white",
            "linecolor": "white",
            "ticks": ""
           }
          },
          "title": {
           "x": 0.05
          },
          "xaxis": {
           "automargin": true,
           "gridcolor": "white",
           "linecolor": "white",
           "ticks": "",
           "title": {
            "standoff": 15
           },
           "zerolinecolor": "white",
           "zerolinewidth": 2
          },
          "yaxis": {
           "automargin": true,
           "gridcolor": "white",
           "linecolor": "white",
           "ticks": "",
           "title": {
            "standoff": 15
           },
           "zerolinecolor": "white",
           "zerolinewidth": 2
          }
         }
        },
        "title": {
         "text": "Actual and Predicted Wheel Speeds, Recording 3, Trial 1"
        },
        "xaxis": {
         "title": {
          "text": "Time"
         }
        },
        "yaxis": {
         "title": {
          "text": "Value"
         }
        }
       }
      }
     },
     "metadata": {},
     "output_type": "display_data"
    },
    {
     "name": "stdout",
     "output_type": "stream",
     "text": [
      "Evaluation, Recording 3, Loss 0.022932397201657295\n"
     ]
    },
    {
     "data": {
      "application/vnd.plotly.v1+json": {
       "config": {
        "plotlyServerURL": "https://plot.ly"
       },
       "data": [
        {
         "name": "Actual",
         "type": "scatter",
         "y": [
          0.029001561924815178,
          0.036085084080696106,
          0.01588977687060833,
          -0.017788242548704147,
          0.007310554850846529,
          0.012452106922864914,
          0.01734691858291626,
          0.025742802768945694,
          0.0030260595958679914,
          0.04671694338321686,
          0.5637491941452026,
          0.6732057332992554,
          -1.7791420221328735,
          -0.30272558331489563,
          -1.2378143072128296,
          -0.9972118735313416,
          -1.3875744342803955,
          -2.0881686210632324,
          -2.3524234294891357,
          -1.6958914995193481,
          -1.775107741355896,
          -2.0456302165985107,
          -1.8534399271011353,
          -1.5537240505218506,
          -1.0156817436218262,
          -1.1912000179290771,
          -0.956594705581665,
          -0.6308807730674744,
          -0.8083122968673706,
          -0.8907802700996399,
          -0.6602544188499451,
          -0.5620994567871094,
          -0.42315560579299927,
          -0.4164884686470032,
          -0.3888591527938843,
          -0.39336293935775757,
          -0.4264223277568817,
          -0.38559162616729736,
          -0.33584025502204895,
          -0.3029709756374359
         ]
        },
        {
         "name": "Predicted",
         "type": "scatter",
         "y": [
          0.06361950188875198,
          -0.04496583715081215,
          0.03435543179512024,
          -0.0023709451779723167,
          0.023568347096443176,
          0.038888223469257355,
          0.041468486189842224,
          -0.019520297646522522,
          -0.05866047367453575,
          0.06371788680553436,
          0.6006913185119629,
          0.35676640272140503,
          -1.1991385221481323,
          -0.8547751903533936,
          -1.0153950452804565,
          -1.0500274896621704,
          -1.3797746896743774,
          -2.187481641769409,
          -2.2166309356689453,
          -1.6506171226501465,
          -1.588352918624878,
          -1.9068493843078613,
          -1.6937777996063232,
          -1.2974618673324585,
          -0.8546202778816223,
          -1.0357766151428223,
          -0.8528109192848206,
          -0.7182372212409973,
          -0.7863940596580505,
          -0.7274315357208252,
          -0.7309118509292603,
          -0.6854900121688843,
          -0.4619980454444885,
          -0.3684066832065582,
          -0.48288634419441223,
          -0.4356532096862793,
          -0.34034663438796997,
          -0.4727030396461487,
          -0.3918569087982178,
          -0.31655651330947876
         ]
        }
       ],
       "layout": {
        "template": {
         "data": {
          "bar": [
           {
            "error_x": {
             "color": "#2a3f5f"
            },
            "error_y": {
             "color": "#2a3f5f"
            },
            "marker": {
             "line": {
              "color": "#E5ECF6",
              "width": 0.5
             },
             "pattern": {
              "fillmode": "overlay",
              "size": 10,
              "solidity": 0.2
             }
            },
            "type": "bar"
           }
          ],
          "barpolar": [
           {
            "marker": {
             "line": {
              "color": "#E5ECF6",
              "width": 0.5
             },
             "pattern": {
              "fillmode": "overlay",
              "size": 10,
              "solidity": 0.2
             }
            },
            "type": "barpolar"
           }
          ],
          "carpet": [
           {
            "aaxis": {
             "endlinecolor": "#2a3f5f",
             "gridcolor": "white",
             "linecolor": "white",
             "minorgridcolor": "white",
             "startlinecolor": "#2a3f5f"
            },
            "baxis": {
             "endlinecolor": "#2a3f5f",
             "gridcolor": "white",
             "linecolor": "white",
             "minorgridcolor": "white",
             "startlinecolor": "#2a3f5f"
            },
            "type": "carpet"
           }
          ],
          "choropleth": [
           {
            "colorbar": {
             "outlinewidth": 0,
             "ticks": ""
            },
            "type": "choropleth"
           }
          ],
          "contour": [
           {
            "colorbar": {
             "outlinewidth": 0,
             "ticks": ""
            },
            "colorscale": [
             [
              0,
              "#0d0887"
             ],
             [
              0.1111111111111111,
              "#46039f"
             ],
             [
              0.2222222222222222,
              "#7201a8"
             ],
             [
              0.3333333333333333,
              "#9c179e"
             ],
             [
              0.4444444444444444,
              "#bd3786"
             ],
             [
              0.5555555555555556,
              "#d8576b"
             ],
             [
              0.6666666666666666,
              "#ed7953"
             ],
             [
              0.7777777777777778,
              "#fb9f3a"
             ],
             [
              0.8888888888888888,
              "#fdca26"
             ],
             [
              1,
              "#f0f921"
             ]
            ],
            "type": "contour"
           }
          ],
          "contourcarpet": [
           {
            "colorbar": {
             "outlinewidth": 0,
             "ticks": ""
            },
            "type": "contourcarpet"
           }
          ],
          "heatmap": [
           {
            "colorbar": {
             "outlinewidth": 0,
             "ticks": ""
            },
            "colorscale": [
             [
              0,
              "#0d0887"
             ],
             [
              0.1111111111111111,
              "#46039f"
             ],
             [
              0.2222222222222222,
              "#7201a8"
             ],
             [
              0.3333333333333333,
              "#9c179e"
             ],
             [
              0.4444444444444444,
              "#bd3786"
             ],
             [
              0.5555555555555556,
              "#d8576b"
             ],
             [
              0.6666666666666666,
              "#ed7953"
             ],
             [
              0.7777777777777778,
              "#fb9f3a"
             ],
             [
              0.8888888888888888,
              "#fdca26"
             ],
             [
              1,
              "#f0f921"
             ]
            ],
            "type": "heatmap"
           }
          ],
          "heatmapgl": [
           {
            "colorbar": {
             "outlinewidth": 0,
             "ticks": ""
            },
            "colorscale": [
             [
              0,
              "#0d0887"
             ],
             [
              0.1111111111111111,
              "#46039f"
             ],
             [
              0.2222222222222222,
              "#7201a8"
             ],
             [
              0.3333333333333333,
              "#9c179e"
             ],
             [
              0.4444444444444444,
              "#bd3786"
             ],
             [
              0.5555555555555556,
              "#d8576b"
             ],
             [
              0.6666666666666666,
              "#ed7953"
             ],
             [
              0.7777777777777778,
              "#fb9f3a"
             ],
             [
              0.8888888888888888,
              "#fdca26"
             ],
             [
              1,
              "#f0f921"
             ]
            ],
            "type": "heatmapgl"
           }
          ],
          "histogram": [
           {
            "marker": {
             "pattern": {
              "fillmode": "overlay",
              "size": 10,
              "solidity": 0.2
             }
            },
            "type": "histogram"
           }
          ],
          "histogram2d": [
           {
            "colorbar": {
             "outlinewidth": 0,
             "ticks": ""
            },
            "colorscale": [
             [
              0,
              "#0d0887"
             ],
             [
              0.1111111111111111,
              "#46039f"
             ],
             [
              0.2222222222222222,
              "#7201a8"
             ],
             [
              0.3333333333333333,
              "#9c179e"
             ],
             [
              0.4444444444444444,
              "#bd3786"
             ],
             [
              0.5555555555555556,
              "#d8576b"
             ],
             [
              0.6666666666666666,
              "#ed7953"
             ],
             [
              0.7777777777777778,
              "#fb9f3a"
             ],
             [
              0.8888888888888888,
              "#fdca26"
             ],
             [
              1,
              "#f0f921"
             ]
            ],
            "type": "histogram2d"
           }
          ],
          "histogram2dcontour": [
           {
            "colorbar": {
             "outlinewidth": 0,
             "ticks": ""
            },
            "colorscale": [
             [
              0,
              "#0d0887"
             ],
             [
              0.1111111111111111,
              "#46039f"
             ],
             [
              0.2222222222222222,
              "#7201a8"
             ],
             [
              0.3333333333333333,
              "#9c179e"
             ],
             [
              0.4444444444444444,
              "#bd3786"
             ],
             [
              0.5555555555555556,
              "#d8576b"
             ],
             [
              0.6666666666666666,
              "#ed7953"
             ],
             [
              0.7777777777777778,
              "#fb9f3a"
             ],
             [
              0.8888888888888888,
              "#fdca26"
             ],
             [
              1,
              "#f0f921"
             ]
            ],
            "type": "histogram2dcontour"
           }
          ],
          "mesh3d": [
           {
            "colorbar": {
             "outlinewidth": 0,
             "ticks": ""
            },
            "type": "mesh3d"
           }
          ],
          "parcoords": [
           {
            "line": {
             "colorbar": {
              "outlinewidth": 0,
              "ticks": ""
             }
            },
            "type": "parcoords"
           }
          ],
          "pie": [
           {
            "automargin": true,
            "type": "pie"
           }
          ],
          "scatter": [
           {
            "fillpattern": {
             "fillmode": "overlay",
             "size": 10,
             "solidity": 0.2
            },
            "type": "scatter"
           }
          ],
          "scatter3d": [
           {
            "line": {
             "colorbar": {
              "outlinewidth": 0,
              "ticks": ""
             }
            },
            "marker": {
             "colorbar": {
              "outlinewidth": 0,
              "ticks": ""
             }
            },
            "type": "scatter3d"
           }
          ],
          "scattercarpet": [
           {
            "marker": {
             "colorbar": {
              "outlinewidth": 0,
              "ticks": ""
             }
            },
            "type": "scattercarpet"
           }
          ],
          "scattergeo": [
           {
            "marker": {
             "colorbar": {
              "outlinewidth": 0,
              "ticks": ""
             }
            },
            "type": "scattergeo"
           }
          ],
          "scattergl": [
           {
            "marker": {
             "colorbar": {
              "outlinewidth": 0,
              "ticks": ""
             }
            },
            "type": "scattergl"
           }
          ],
          "scattermapbox": [
           {
            "marker": {
             "colorbar": {
              "outlinewidth": 0,
              "ticks": ""
             }
            },
            "type": "scattermapbox"
           }
          ],
          "scatterpolar": [
           {
            "marker": {
             "colorbar": {
              "outlinewidth": 0,
              "ticks": ""
             }
            },
            "type": "scatterpolar"
           }
          ],
          "scatterpolargl": [
           {
            "marker": {
             "colorbar": {
              "outlinewidth": 0,
              "ticks": ""
             }
            },
            "type": "scatterpolargl"
           }
          ],
          "scatterternary": [
           {
            "marker": {
             "colorbar": {
              "outlinewidth": 0,
              "ticks": ""
             }
            },
            "type": "scatterternary"
           }
          ],
          "surface": [
           {
            "colorbar": {
             "outlinewidth": 0,
             "ticks": ""
            },
            "colorscale": [
             [
              0,
              "#0d0887"
             ],
             [
              0.1111111111111111,
              "#46039f"
             ],
             [
              0.2222222222222222,
              "#7201a8"
             ],
             [
              0.3333333333333333,
              "#9c179e"
             ],
             [
              0.4444444444444444,
              "#bd3786"
             ],
             [
              0.5555555555555556,
              "#d8576b"
             ],
             [
              0.6666666666666666,
              "#ed7953"
             ],
             [
              0.7777777777777778,
              "#fb9f3a"
             ],
             [
              0.8888888888888888,
              "#fdca26"
             ],
             [
              1,
              "#f0f921"
             ]
            ],
            "type": "surface"
           }
          ],
          "table": [
           {
            "cells": {
             "fill": {
              "color": "#EBF0F8"
             },
             "line": {
              "color": "white"
             }
            },
            "header": {
             "fill": {
              "color": "#C8D4E3"
             },
             "line": {
              "color": "white"
             }
            },
            "type": "table"
           }
          ]
         },
         "layout": {
          "annotationdefaults": {
           "arrowcolor": "#2a3f5f",
           "arrowhead": 0,
           "arrowwidth": 1
          },
          "autotypenumbers": "strict",
          "coloraxis": {
           "colorbar": {
            "outlinewidth": 0,
            "ticks": ""
           }
          },
          "colorscale": {
           "diverging": [
            [
             0,
             "#8e0152"
            ],
            [
             0.1,
             "#c51b7d"
            ],
            [
             0.2,
             "#de77ae"
            ],
            [
             0.3,
             "#f1b6da"
            ],
            [
             0.4,
             "#fde0ef"
            ],
            [
             0.5,
             "#f7f7f7"
            ],
            [
             0.6,
             "#e6f5d0"
            ],
            [
             0.7,
             "#b8e186"
            ],
            [
             0.8,
             "#7fbc41"
            ],
            [
             0.9,
             "#4d9221"
            ],
            [
             1,
             "#276419"
            ]
           ],
           "sequential": [
            [
             0,
             "#0d0887"
            ],
            [
             0.1111111111111111,
             "#46039f"
            ],
            [
             0.2222222222222222,
             "#7201a8"
            ],
            [
             0.3333333333333333,
             "#9c179e"
            ],
            [
             0.4444444444444444,
             "#bd3786"
            ],
            [
             0.5555555555555556,
             "#d8576b"
            ],
            [
             0.6666666666666666,
             "#ed7953"
            ],
            [
             0.7777777777777778,
             "#fb9f3a"
            ],
            [
             0.8888888888888888,
             "#fdca26"
            ],
            [
             1,
             "#f0f921"
            ]
           ],
           "sequentialminus": [
            [
             0,
             "#0d0887"
            ],
            [
             0.1111111111111111,
             "#46039f"
            ],
            [
             0.2222222222222222,
             "#7201a8"
            ],
            [
             0.3333333333333333,
             "#9c179e"
            ],
            [
             0.4444444444444444,
             "#bd3786"
            ],
            [
             0.5555555555555556,
             "#d8576b"
            ],
            [
             0.6666666666666666,
             "#ed7953"
            ],
            [
             0.7777777777777778,
             "#fb9f3a"
            ],
            [
             0.8888888888888888,
             "#fdca26"
            ],
            [
             1,
             "#f0f921"
            ]
           ]
          },
          "colorway": [
           "#636efa",
           "#EF553B",
           "#00cc96",
           "#ab63fa",
           "#FFA15A",
           "#19d3f3",
           "#FF6692",
           "#B6E880",
           "#FF97FF",
           "#FECB52"
          ],
          "font": {
           "color": "#2a3f5f"
          },
          "geo": {
           "bgcolor": "white",
           "lakecolor": "white",
           "landcolor": "#E5ECF6",
           "showlakes": true,
           "showland": true,
           "subunitcolor": "white"
          },
          "hoverlabel": {
           "align": "left"
          },
          "hovermode": "closest",
          "mapbox": {
           "style": "light"
          },
          "paper_bgcolor": "white",
          "plot_bgcolor": "#E5ECF6",
          "polar": {
           "angularaxis": {
            "gridcolor": "white",
            "linecolor": "white",
            "ticks": ""
           },
           "bgcolor": "#E5ECF6",
           "radialaxis": {
            "gridcolor": "white",
            "linecolor": "white",
            "ticks": ""
           }
          },
          "scene": {
           "xaxis": {
            "backgroundcolor": "#E5ECF6",
            "gridcolor": "white",
            "gridwidth": 2,
            "linecolor": "white",
            "showbackground": true,
            "ticks": "",
            "zerolinecolor": "white"
           },
           "yaxis": {
            "backgroundcolor": "#E5ECF6",
            "gridcolor": "white",
            "gridwidth": 2,
            "linecolor": "white",
            "showbackground": true,
            "ticks": "",
            "zerolinecolor": "white"
           },
           "zaxis": {
            "backgroundcolor": "#E5ECF6",
            "gridcolor": "white",
            "gridwidth": 2,
            "linecolor": "white",
            "showbackground": true,
            "ticks": "",
            "zerolinecolor": "white"
           }
          },
          "shapedefaults": {
           "line": {
            "color": "#2a3f5f"
           }
          },
          "ternary": {
           "aaxis": {
            "gridcolor": "white",
            "linecolor": "white",
            "ticks": ""
           },
           "baxis": {
            "gridcolor": "white",
            "linecolor": "white",
            "ticks": ""
           },
           "bgcolor": "#E5ECF6",
           "caxis": {
            "gridcolor": "white",
            "linecolor": "white",
            "ticks": ""
           }
          },
          "title": {
           "x": 0.05
          },
          "xaxis": {
           "automargin": true,
           "gridcolor": "white",
           "linecolor": "white",
           "ticks": "",
           "title": {
            "standoff": 15
           },
           "zerolinecolor": "white",
           "zerolinewidth": 2
          },
          "yaxis": {
           "automargin": true,
           "gridcolor": "white",
           "linecolor": "white",
           "ticks": "",
           "title": {
            "standoff": 15
           },
           "zerolinecolor": "white",
           "zerolinewidth": 2
          }
         }
        },
        "title": {
         "text": "Actual and Predicted Wheel Speeds, Recording 4, Trial 0"
        },
        "xaxis": {
         "title": {
          "text": "Time"
         }
        },
        "yaxis": {
         "title": {
          "text": "Value"
         }
        }
       }
      }
     },
     "metadata": {},
     "output_type": "display_data"
    },
    {
     "data": {
      "application/vnd.plotly.v1+json": {
       "config": {
        "plotlyServerURL": "https://plot.ly"
       },
       "data": [
        {
         "name": "Actual",
         "type": "scatter",
         "y": [
          -0.03389616310596466,
          -0.02926291525363922,
          -0.02275513857603073,
          -0.017788242548704147,
          -0.018560390919446945,
          -0.014897800981998444,
          -0.013340792618691921,
          -0.013359218835830688,
          -0.01382478978484869,
          0.11257869005203247,
          1.5456622838974,
          1.986553430557251,
          0.4241637885570526,
          -0.13380631804466248,
          -0.22351568937301636,
          -0.5499271750450134,
          -0.6108208894729614,
          -1.3207899332046509,
          -2.4364633560180664,
          -1.6250334978103638,
          -1.1812999248504639,
          -1.0488002300262451,
          -0.2666955888271332,
          -1.2741796970367432,
          -0.20105338096618652,
          0.32856038212776184,
          -1.0601212978363037,
          -0.7123985886573792,
          -0.9995391964912415,
          -0.8132764101028442,
          -0.846474289894104,
          -0.7426537275314331,
          -0.638547420501709,
          -0.655745804309845,
          -0.4619644582271576,
          -0.3685120642185211,
          -0.4264223277568817,
          -0.3348424732685089,
          -0.2818050980567932,
          -0.3029709756374359
         ]
        },
        {
         "name": "Predicted",
         "type": "scatter",
         "y": [
          -0.02769114077091217,
          -0.03178086876869202,
          -0.012829732149839401,
          -0.005080275237560272,
          -0.007120341062545776,
          -0.023879196494817734,
          -0.019594259560108185,
          -0.004425764083862305,
          -0.03479865565896034,
          0.11619359254837036,
          1.3489351272583008,
          2.0714433193206787,
          0.6761347055435181,
          -0.33676767349243164,
          -0.15461701154708862,
          -0.4845860004425049,
          -0.6898892521858215,
          -1.5282398462295532,
          -2.022003412246704,
          -1.873903512954712,
          -1.2061066627502441,
          -0.6581589579582214,
          -0.4436672031879425,
          -0.9904212951660156,
          -0.4697491526603699,
          -0.11434609442949295,
          -0.3294713497161865,
          -0.8944560289382935,
          -1.0454250574111938,
          -0.9262703061103821,
          -0.8993362188339233,
          -0.977867841720581,
          -0.7763405442237854,
          -0.38388878107070923,
          -0.46906524896621704,
          -0.46891263127326965,
          -0.18870097398757935,
          -0.2350609302520752,
          -0.3206106424331665,
          -0.395624041557312
         ]
        }
       ],
       "layout": {
        "template": {
         "data": {
          "bar": [
           {
            "error_x": {
             "color": "#2a3f5f"
            },
            "error_y": {
             "color": "#2a3f5f"
            },
            "marker": {
             "line": {
              "color": "#E5ECF6",
              "width": 0.5
             },
             "pattern": {
              "fillmode": "overlay",
              "size": 10,
              "solidity": 0.2
             }
            },
            "type": "bar"
           }
          ],
          "barpolar": [
           {
            "marker": {
             "line": {
              "color": "#E5ECF6",
              "width": 0.5
             },
             "pattern": {
              "fillmode": "overlay",
              "size": 10,
              "solidity": 0.2
             }
            },
            "type": "barpolar"
           }
          ],
          "carpet": [
           {
            "aaxis": {
             "endlinecolor": "#2a3f5f",
             "gridcolor": "white",
             "linecolor": "white",
             "minorgridcolor": "white",
             "startlinecolor": "#2a3f5f"
            },
            "baxis": {
             "endlinecolor": "#2a3f5f",
             "gridcolor": "white",
             "linecolor": "white",
             "minorgridcolor": "white",
             "startlinecolor": "#2a3f5f"
            },
            "type": "carpet"
           }
          ],
          "choropleth": [
           {
            "colorbar": {
             "outlinewidth": 0,
             "ticks": ""
            },
            "type": "choropleth"
           }
          ],
          "contour": [
           {
            "colorbar": {
             "outlinewidth": 0,
             "ticks": ""
            },
            "colorscale": [
             [
              0,
              "#0d0887"
             ],
             [
              0.1111111111111111,
              "#46039f"
             ],
             [
              0.2222222222222222,
              "#7201a8"
             ],
             [
              0.3333333333333333,
              "#9c179e"
             ],
             [
              0.4444444444444444,
              "#bd3786"
             ],
             [
              0.5555555555555556,
              "#d8576b"
             ],
             [
              0.6666666666666666,
              "#ed7953"
             ],
             [
              0.7777777777777778,
              "#fb9f3a"
             ],
             [
              0.8888888888888888,
              "#fdca26"
             ],
             [
              1,
              "#f0f921"
             ]
            ],
            "type": "contour"
           }
          ],
          "contourcarpet": [
           {
            "colorbar": {
             "outlinewidth": 0,
             "ticks": ""
            },
            "type": "contourcarpet"
           }
          ],
          "heatmap": [
           {
            "colorbar": {
             "outlinewidth": 0,
             "ticks": ""
            },
            "colorscale": [
             [
              0,
              "#0d0887"
             ],
             [
              0.1111111111111111,
              "#46039f"
             ],
             [
              0.2222222222222222,
              "#7201a8"
             ],
             [
              0.3333333333333333,
              "#9c179e"
             ],
             [
              0.4444444444444444,
              "#bd3786"
             ],
             [
              0.5555555555555556,
              "#d8576b"
             ],
             [
              0.6666666666666666,
              "#ed7953"
             ],
             [
              0.7777777777777778,
              "#fb9f3a"
             ],
             [
              0.8888888888888888,
              "#fdca26"
             ],
             [
              1,
              "#f0f921"
             ]
            ],
            "type": "heatmap"
           }
          ],
          "heatmapgl": [
           {
            "colorbar": {
             "outlinewidth": 0,
             "ticks": ""
            },
            "colorscale": [
             [
              0,
              "#0d0887"
             ],
             [
              0.1111111111111111,
              "#46039f"
             ],
             [
              0.2222222222222222,
              "#7201a8"
             ],
             [
              0.3333333333333333,
              "#9c179e"
             ],
             [
              0.4444444444444444,
              "#bd3786"
             ],
             [
              0.5555555555555556,
              "#d8576b"
             ],
             [
              0.6666666666666666,
              "#ed7953"
             ],
             [
              0.7777777777777778,
              "#fb9f3a"
             ],
             [
              0.8888888888888888,
              "#fdca26"
             ],
             [
              1,
              "#f0f921"
             ]
            ],
            "type": "heatmapgl"
           }
          ],
          "histogram": [
           {
            "marker": {
             "pattern": {
              "fillmode": "overlay",
              "size": 10,
              "solidity": 0.2
             }
            },
            "type": "histogram"
           }
          ],
          "histogram2d": [
           {
            "colorbar": {
             "outlinewidth": 0,
             "ticks": ""
            },
            "colorscale": [
             [
              0,
              "#0d0887"
             ],
             [
              0.1111111111111111,
              "#46039f"
             ],
             [
              0.2222222222222222,
              "#7201a8"
             ],
             [
              0.3333333333333333,
              "#9c179e"
             ],
             [
              0.4444444444444444,
              "#bd3786"
             ],
             [
              0.5555555555555556,
              "#d8576b"
             ],
             [
              0.6666666666666666,
              "#ed7953"
             ],
             [
              0.7777777777777778,
              "#fb9f3a"
             ],
             [
              0.8888888888888888,
              "#fdca26"
             ],
             [
              1,
              "#f0f921"
             ]
            ],
            "type": "histogram2d"
           }
          ],
          "histogram2dcontour": [
           {
            "colorbar": {
             "outlinewidth": 0,
             "ticks": ""
            },
            "colorscale": [
             [
              0,
              "#0d0887"
             ],
             [
              0.1111111111111111,
              "#46039f"
             ],
             [
              0.2222222222222222,
              "#7201a8"
             ],
             [
              0.3333333333333333,
              "#9c179e"
             ],
             [
              0.4444444444444444,
              "#bd3786"
             ],
             [
              0.5555555555555556,
              "#d8576b"
             ],
             [
              0.6666666666666666,
              "#ed7953"
             ],
             [
              0.7777777777777778,
              "#fb9f3a"
             ],
             [
              0.8888888888888888,
              "#fdca26"
             ],
             [
              1,
              "#f0f921"
             ]
            ],
            "type": "histogram2dcontour"
           }
          ],
          "mesh3d": [
           {
            "colorbar": {
             "outlinewidth": 0,
             "ticks": ""
            },
            "type": "mesh3d"
           }
          ],
          "parcoords": [
           {
            "line": {
             "colorbar": {
              "outlinewidth": 0,
              "ticks": ""
             }
            },
            "type": "parcoords"
           }
          ],
          "pie": [
           {
            "automargin": true,
            "type": "pie"
           }
          ],
          "scatter": [
           {
            "fillpattern": {
             "fillmode": "overlay",
             "size": 10,
             "solidity": 0.2
            },
            "type": "scatter"
           }
          ],
          "scatter3d": [
           {
            "line": {
             "colorbar": {
              "outlinewidth": 0,
              "ticks": ""
             }
            },
            "marker": {
             "colorbar": {
              "outlinewidth": 0,
              "ticks": ""
             }
            },
            "type": "scatter3d"
           }
          ],
          "scattercarpet": [
           {
            "marker": {
             "colorbar": {
              "outlinewidth": 0,
              "ticks": ""
             }
            },
            "type": "scattercarpet"
           }
          ],
          "scattergeo": [
           {
            "marker": {
             "colorbar": {
              "outlinewidth": 0,
              "ticks": ""
             }
            },
            "type": "scattergeo"
           }
          ],
          "scattergl": [
           {
            "marker": {
             "colorbar": {
              "outlinewidth": 0,
              "ticks": ""
             }
            },
            "type": "scattergl"
           }
          ],
          "scattermapbox": [
           {
            "marker": {
             "colorbar": {
              "outlinewidth": 0,
              "ticks": ""
             }
            },
            "type": "scattermapbox"
           }
          ],
          "scatterpolar": [
           {
            "marker": {
             "colorbar": {
              "outlinewidth": 0,
              "ticks": ""
             }
            },
            "type": "scatterpolar"
           }
          ],
          "scatterpolargl": [
           {
            "marker": {
             "colorbar": {
              "outlinewidth": 0,
              "ticks": ""
             }
            },
            "type": "scatterpolargl"
           }
          ],
          "scatterternary": [
           {
            "marker": {
             "colorbar": {
              "outlinewidth": 0,
              "ticks": ""
             }
            },
            "type": "scatterternary"
           }
          ],
          "surface": [
           {
            "colorbar": {
             "outlinewidth": 0,
             "ticks": ""
            },
            "colorscale": [
             [
              0,
              "#0d0887"
             ],
             [
              0.1111111111111111,
              "#46039f"
             ],
             [
              0.2222222222222222,
              "#7201a8"
             ],
             [
              0.3333333333333333,
              "#9c179e"
             ],
             [
              0.4444444444444444,
              "#bd3786"
             ],
             [
              0.5555555555555556,
              "#d8576b"
             ],
             [
              0.6666666666666666,
              "#ed7953"
             ],
             [
              0.7777777777777778,
              "#fb9f3a"
             ],
             [
              0.8888888888888888,
              "#fdca26"
             ],
             [
              1,
              "#f0f921"
             ]
            ],
            "type": "surface"
           }
          ],
          "table": [
           {
            "cells": {
             "fill": {
              "color": "#EBF0F8"
             },
             "line": {
              "color": "white"
             }
            },
            "header": {
             "fill": {
              "color": "#C8D4E3"
             },
             "line": {
              "color": "white"
             }
            },
            "type": "table"
           }
          ]
         },
         "layout": {
          "annotationdefaults": {
           "arrowcolor": "#2a3f5f",
           "arrowhead": 0,
           "arrowwidth": 1
          },
          "autotypenumbers": "strict",
          "coloraxis": {
           "colorbar": {
            "outlinewidth": 0,
            "ticks": ""
           }
          },
          "colorscale": {
           "diverging": [
            [
             0,
             "#8e0152"
            ],
            [
             0.1,
             "#c51b7d"
            ],
            [
             0.2,
             "#de77ae"
            ],
            [
             0.3,
             "#f1b6da"
            ],
            [
             0.4,
             "#fde0ef"
            ],
            [
             0.5,
             "#f7f7f7"
            ],
            [
             0.6,
             "#e6f5d0"
            ],
            [
             0.7,
             "#b8e186"
            ],
            [
             0.8,
             "#7fbc41"
            ],
            [
             0.9,
             "#4d9221"
            ],
            [
             1,
             "#276419"
            ]
           ],
           "sequential": [
            [
             0,
             "#0d0887"
            ],
            [
             0.1111111111111111,
             "#46039f"
            ],
            [
             0.2222222222222222,
             "#7201a8"
            ],
            [
             0.3333333333333333,
             "#9c179e"
            ],
            [
             0.4444444444444444,
             "#bd3786"
            ],
            [
             0.5555555555555556,
             "#d8576b"
            ],
            [
             0.6666666666666666,
             "#ed7953"
            ],
            [
             0.7777777777777778,
             "#fb9f3a"
            ],
            [
             0.8888888888888888,
             "#fdca26"
            ],
            [
             1,
             "#f0f921"
            ]
           ],
           "sequentialminus": [
            [
             0,
             "#0d0887"
            ],
            [
             0.1111111111111111,
             "#46039f"
            ],
            [
             0.2222222222222222,
             "#7201a8"
            ],
            [
             0.3333333333333333,
             "#9c179e"
            ],
            [
             0.4444444444444444,
             "#bd3786"
            ],
            [
             0.5555555555555556,
             "#d8576b"
            ],
            [
             0.6666666666666666,
             "#ed7953"
            ],
            [
             0.7777777777777778,
             "#fb9f3a"
            ],
            [
             0.8888888888888888,
             "#fdca26"
            ],
            [
             1,
             "#f0f921"
            ]
           ]
          },
          "colorway": [
           "#636efa",
           "#EF553B",
           "#00cc96",
           "#ab63fa",
           "#FFA15A",
           "#19d3f3",
           "#FF6692",
           "#B6E880",
           "#FF97FF",
           "#FECB52"
          ],
          "font": {
           "color": "#2a3f5f"
          },
          "geo": {
           "bgcolor": "white",
           "lakecolor": "white",
           "landcolor": "#E5ECF6",
           "showlakes": true,
           "showland": true,
           "subunitcolor": "white"
          },
          "hoverlabel": {
           "align": "left"
          },
          "hovermode": "closest",
          "mapbox": {
           "style": "light"
          },
          "paper_bgcolor": "white",
          "plot_bgcolor": "#E5ECF6",
          "polar": {
           "angularaxis": {
            "gridcolor": "white",
            "linecolor": "white",
            "ticks": ""
           },
           "bgcolor": "#E5ECF6",
           "radialaxis": {
            "gridcolor": "white",
            "linecolor": "white",
            "ticks": ""
           }
          },
          "scene": {
           "xaxis": {
            "backgroundcolor": "#E5ECF6",
            "gridcolor": "white",
            "gridwidth": 2,
            "linecolor": "white",
            "showbackground": true,
            "ticks": "",
            "zerolinecolor": "white"
           },
           "yaxis": {
            "backgroundcolor": "#E5ECF6",
            "gridcolor": "white",
            "gridwidth": 2,
            "linecolor": "white",
            "showbackground": true,
            "ticks": "",
            "zerolinecolor": "white"
           },
           "zaxis": {
            "backgroundcolor": "#E5ECF6",
            "gridcolor": "white",
            "gridwidth": 2,
            "linecolor": "white",
            "showbackground": true,
            "ticks": "",
            "zerolinecolor": "white"
           }
          },
          "shapedefaults": {
           "line": {
            "color": "#2a3f5f"
           }
          },
          "ternary": {
           "aaxis": {
            "gridcolor": "white",
            "linecolor": "white",
            "ticks": ""
           },
           "baxis": {
            "gridcolor": "white",
            "linecolor": "white",
            "ticks": ""
           },
           "bgcolor": "#E5ECF6",
           "caxis": {
            "gridcolor": "white",
            "linecolor": "white",
            "ticks": ""
           }
          },
          "title": {
           "x": 0.05
          },
          "xaxis": {
           "automargin": true,
           "gridcolor": "white",
           "linecolor": "white",
           "ticks": "",
           "title": {
            "standoff": 15
           },
           "zerolinecolor": "white",
           "zerolinewidth": 2
          },
          "yaxis": {
           "automargin": true,
           "gridcolor": "white",
           "linecolor": "white",
           "ticks": "",
           "title": {
            "standoff": 15
           },
           "zerolinecolor": "white",
           "zerolinewidth": 2
          }
         }
        },
        "title": {
         "text": "Actual and Predicted Wheel Speeds, Recording 4, Trial 1"
        },
        "xaxis": {
         "title": {
          "text": "Time"
         }
        },
        "yaxis": {
         "title": {
          "text": "Value"
         }
        }
       }
      }
     },
     "metadata": {},
     "output_type": "display_data"
    },
    {
     "name": "stdout",
     "output_type": "stream",
     "text": [
      "Evaluation, Recording 4, Loss 0.04650332033634186\n"
     ]
    }
   ],
   "source": [
    "for recording in range(TOTAL_RECORDINGS):\n",
    "    loss_item = evaluate_recording(recording, X_train[recording], Y_train[recording], model, loss_fn, plot_num=2)\n",
    "    print(f'Evaluation, Recording {recording}, Loss {loss_item}')"
   ]
  },
  {
   "cell_type": "code",
   "execution_count": null,
   "metadata": {},
   "outputs": [
    {
     "data": {
      "application/vnd.plotly.v1+json": {
       "config": {
        "plotlyServerURL": "https://plot.ly"
       },
       "data": [
        {
         "name": "Actual",
         "type": "scatter",
         "y": [
          -0.016872581094503403,
          -0.011354707181453705,
          -0.008491488173604012,
          -0.0073743704706430435,
          -0.006450573913753033,
          -0.005968904122710228,
          -0.008215402252972126,
          0.06348560750484467,
          0.10995692759752274,
          0.19630803167819977,
          0.2987181544303894,
          -0.018959317356348038,
          -0.6808319687843323,
          0.7864038348197937,
          2.4960150718688965,
          1.8625233173370361,
          1.324198603630066,
          0.9346913695335388,
          0.3689635097980499,
          -1.8970270156860352,
          0.23456142842769623,
          -0.5161252021789551,
          -0.828814685344696,
          -0.37125396728515625,
          -0.6416487097740173,
          -1.2558774948120117,
          -0.9905039668083191,
          -0.8011736273765564,
          -0.655449390411377,
          -0.4334567189216614,
          -0.6435021162033081,
          -0.8810685276985168,
          -0.9460357427597046,
          -0.9518828392028809,
          -0.9712033271789551,
          -0.9692673683166504,
          -0.8357495665550232,
          -0.8698103427886963,
          -0.8843005895614624,
          -0.9249060750007629
         ]
        },
        {
         "name": "Predicted",
         "type": "scatter",
         "y": [
          0.03984545171260834,
          -0.000009384006261825562,
          -0.06184397637844086,
          -0.0006981790065765381,
          0.024411439895629883,
          -0.010505054146051407,
          0.049706894904375076,
          0.010229647159576416,
          -0.014212526381015778,
          -0.0957283303141594,
          -0.2847404479980469,
          0.15796181559562683,
          0.6425551176071167,
          0.6934724450111389,
          -0.21015900373458862,
          -1.7858437299728394,
          -2.3041629791259766,
          -1.7899980545043945,
          -1.8280055522918701,
          -1.9338816404342651,
          -0.4069376587867737,
          -0.6793898940086365,
          -0.5527046322822571,
          0.05081230401992798,
          0.7372130155563354,
          0.31654730439186096,
          -0.43711966276168823,
          -1.0975966453552246,
          -0.49762529134750366,
          0.5523803234100342,
          0.7001705765724182,
          0.10539467632770538,
          -0.020758535712957382,
          -0.7517420053482056,
          -0.7574329376220703,
          -0.47238749265670776,
          0.004215255379676819,
          0.2618682384490967,
          0.24654613435268402,
          0.07938145101070404
         ]
        }
       ],
       "layout": {
        "template": {
         "data": {
          "bar": [
           {
            "error_x": {
             "color": "#2a3f5f"
            },
            "error_y": {
             "color": "#2a3f5f"
            },
            "marker": {
             "line": {
              "color": "#E5ECF6",
              "width": 0.5
             },
             "pattern": {
              "fillmode": "overlay",
              "size": 10,
              "solidity": 0.2
             }
            },
            "type": "bar"
           }
          ],
          "barpolar": [
           {
            "marker": {
             "line": {
              "color": "#E5ECF6",
              "width": 0.5
             },
             "pattern": {
              "fillmode": "overlay",
              "size": 10,
              "solidity": 0.2
             }
            },
            "type": "barpolar"
           }
          ],
          "carpet": [
           {
            "aaxis": {
             "endlinecolor": "#2a3f5f",
             "gridcolor": "white",
             "linecolor": "white",
             "minorgridcolor": "white",
             "startlinecolor": "#2a3f5f"
            },
            "baxis": {
             "endlinecolor": "#2a3f5f",
             "gridcolor": "white",
             "linecolor": "white",
             "minorgridcolor": "white",
             "startlinecolor": "#2a3f5f"
            },
            "type": "carpet"
           }
          ],
          "choropleth": [
           {
            "colorbar": {
             "outlinewidth": 0,
             "ticks": ""
            },
            "type": "choropleth"
           }
          ],
          "contour": [
           {
            "colorbar": {
             "outlinewidth": 0,
             "ticks": ""
            },
            "colorscale": [
             [
              0,
              "#0d0887"
             ],
             [
              0.1111111111111111,
              "#46039f"
             ],
             [
              0.2222222222222222,
              "#7201a8"
             ],
             [
              0.3333333333333333,
              "#9c179e"
             ],
             [
              0.4444444444444444,
              "#bd3786"
             ],
             [
              0.5555555555555556,
              "#d8576b"
             ],
             [
              0.6666666666666666,
              "#ed7953"
             ],
             [
              0.7777777777777778,
              "#fb9f3a"
             ],
             [
              0.8888888888888888,
              "#fdca26"
             ],
             [
              1,
              "#f0f921"
             ]
            ],
            "type": "contour"
           }
          ],
          "contourcarpet": [
           {
            "colorbar": {
             "outlinewidth": 0,
             "ticks": ""
            },
            "type": "contourcarpet"
           }
          ],
          "heatmap": [
           {
            "colorbar": {
             "outlinewidth": 0,
             "ticks": ""
            },
            "colorscale": [
             [
              0,
              "#0d0887"
             ],
             [
              0.1111111111111111,
              "#46039f"
             ],
             [
              0.2222222222222222,
              "#7201a8"
             ],
             [
              0.3333333333333333,
              "#9c179e"
             ],
             [
              0.4444444444444444,
              "#bd3786"
             ],
             [
              0.5555555555555556,
              "#d8576b"
             ],
             [
              0.6666666666666666,
              "#ed7953"
             ],
             [
              0.7777777777777778,
              "#fb9f3a"
             ],
             [
              0.8888888888888888,
              "#fdca26"
             ],
             [
              1,
              "#f0f921"
             ]
            ],
            "type": "heatmap"
           }
          ],
          "heatmapgl": [
           {
            "colorbar": {
             "outlinewidth": 0,
             "ticks": ""
            },
            "colorscale": [
             [
              0,
              "#0d0887"
             ],
             [
              0.1111111111111111,
              "#46039f"
             ],
             [
              0.2222222222222222,
              "#7201a8"
             ],
             [
              0.3333333333333333,
              "#9c179e"
             ],
             [
              0.4444444444444444,
              "#bd3786"
             ],
             [
              0.5555555555555556,
              "#d8576b"
             ],
             [
              0.6666666666666666,
              "#ed7953"
             ],
             [
              0.7777777777777778,
              "#fb9f3a"
             ],
             [
              0.8888888888888888,
              "#fdca26"
             ],
             [
              1,
              "#f0f921"
             ]
            ],
            "type": "heatmapgl"
           }
          ],
          "histogram": [
           {
            "marker": {
             "pattern": {
              "fillmode": "overlay",
              "size": 10,
              "solidity": 0.2
             }
            },
            "type": "histogram"
           }
          ],
          "histogram2d": [
           {
            "colorbar": {
             "outlinewidth": 0,
             "ticks": ""
            },
            "colorscale": [
             [
              0,
              "#0d0887"
             ],
             [
              0.1111111111111111,
              "#46039f"
             ],
             [
              0.2222222222222222,
              "#7201a8"
             ],
             [
              0.3333333333333333,
              "#9c179e"
             ],
             [
              0.4444444444444444,
              "#bd3786"
             ],
             [
              0.5555555555555556,
              "#d8576b"
             ],
             [
              0.6666666666666666,
              "#ed7953"
             ],
             [
              0.7777777777777778,
              "#fb9f3a"
             ],
             [
              0.8888888888888888,
              "#fdca26"
             ],
             [
              1,
              "#f0f921"
             ]
            ],
            "type": "histogram2d"
           }
          ],
          "histogram2dcontour": [
           {
            "colorbar": {
             "outlinewidth": 0,
             "ticks": ""
            },
            "colorscale": [
             [
              0,
              "#0d0887"
             ],
             [
              0.1111111111111111,
              "#46039f"
             ],
             [
              0.2222222222222222,
              "#7201a8"
             ],
             [
              0.3333333333333333,
              "#9c179e"
             ],
             [
              0.4444444444444444,
              "#bd3786"
             ],
             [
              0.5555555555555556,
              "#d8576b"
             ],
             [
              0.6666666666666666,
              "#ed7953"
             ],
             [
              0.7777777777777778,
              "#fb9f3a"
             ],
             [
              0.8888888888888888,
              "#fdca26"
             ],
             [
              1,
              "#f0f921"
             ]
            ],
            "type": "histogram2dcontour"
           }
          ],
          "mesh3d": [
           {
            "colorbar": {
             "outlinewidth": 0,
             "ticks": ""
            },
            "type": "mesh3d"
           }
          ],
          "parcoords": [
           {
            "line": {
             "colorbar": {
              "outlinewidth": 0,
              "ticks": ""
             }
            },
            "type": "parcoords"
           }
          ],
          "pie": [
           {
            "automargin": true,
            "type": "pie"
           }
          ],
          "scatter": [
           {
            "fillpattern": {
             "fillmode": "overlay",
             "size": 10,
             "solidity": 0.2
            },
            "type": "scatter"
           }
          ],
          "scatter3d": [
           {
            "line": {
             "colorbar": {
              "outlinewidth": 0,
              "ticks": ""
             }
            },
            "marker": {
             "colorbar": {
              "outlinewidth": 0,
              "ticks": ""
             }
            },
            "type": "scatter3d"
           }
          ],
          "scattercarpet": [
           {
            "marker": {
             "colorbar": {
              "outlinewidth": 0,
              "ticks": ""
             }
            },
            "type": "scattercarpet"
           }
          ],
          "scattergeo": [
           {
            "marker": {
             "colorbar": {
              "outlinewidth": 0,
              "ticks": ""
             }
            },
            "type": "scattergeo"
           }
          ],
          "scattergl": [
           {
            "marker": {
             "colorbar": {
              "outlinewidth": 0,
              "ticks": ""
             }
            },
            "type": "scattergl"
           }
          ],
          "scattermapbox": [
           {
            "marker": {
             "colorbar": {
              "outlinewidth": 0,
              "ticks": ""
             }
            },
            "type": "scattermapbox"
           }
          ],
          "scatterpolar": [
           {
            "marker": {
             "colorbar": {
              "outlinewidth": 0,
              "ticks": ""
             }
            },
            "type": "scatterpolar"
           }
          ],
          "scatterpolargl": [
           {
            "marker": {
             "colorbar": {
              "outlinewidth": 0,
              "ticks": ""
             }
            },
            "type": "scatterpolargl"
           }
          ],
          "scatterternary": [
           {
            "marker": {
             "colorbar": {
              "outlinewidth": 0,
              "ticks": ""
             }
            },
            "type": "scatterternary"
           }
          ],
          "surface": [
           {
            "colorbar": {
             "outlinewidth": 0,
             "ticks": ""
            },
            "colorscale": [
             [
              0,
              "#0d0887"
             ],
             [
              0.1111111111111111,
              "#46039f"
             ],
             [
              0.2222222222222222,
              "#7201a8"
             ],
             [
              0.3333333333333333,
              "#9c179e"
             ],
             [
              0.4444444444444444,
              "#bd3786"
             ],
             [
              0.5555555555555556,
              "#d8576b"
             ],
             [
              0.6666666666666666,
              "#ed7953"
             ],
             [
              0.7777777777777778,
              "#fb9f3a"
             ],
             [
              0.8888888888888888,
              "#fdca26"
             ],
             [
              1,
              "#f0f921"
             ]
            ],
            "type": "surface"
           }
          ],
          "table": [
           {
            "cells": {
             "fill": {
              "color": "#EBF0F8"
             },
             "line": {
              "color": "white"
             }
            },
            "header": {
             "fill": {
              "color": "#C8D4E3"
             },
             "line": {
              "color": "white"
             }
            },
            "type": "table"
           }
          ]
         },
         "layout": {
          "annotationdefaults": {
           "arrowcolor": "#2a3f5f",
           "arrowhead": 0,
           "arrowwidth": 1
          },
          "autotypenumbers": "strict",
          "coloraxis": {
           "colorbar": {
            "outlinewidth": 0,
            "ticks": ""
           }
          },
          "colorscale": {
           "diverging": [
            [
             0,
             "#8e0152"
            ],
            [
             0.1,
             "#c51b7d"
            ],
            [
             0.2,
             "#de77ae"
            ],
            [
             0.3,
             "#f1b6da"
            ],
            [
             0.4,
             "#fde0ef"
            ],
            [
             0.5,
             "#f7f7f7"
            ],
            [
             0.6,
             "#e6f5d0"
            ],
            [
             0.7,
             "#b8e186"
            ],
            [
             0.8,
             "#7fbc41"
            ],
            [
             0.9,
             "#4d9221"
            ],
            [
             1,
             "#276419"
            ]
           ],
           "sequential": [
            [
             0,
             "#0d0887"
            ],
            [
             0.1111111111111111,
             "#46039f"
            ],
            [
             0.2222222222222222,
             "#7201a8"
            ],
            [
             0.3333333333333333,
             "#9c179e"
            ],
            [
             0.4444444444444444,
             "#bd3786"
            ],
            [
             0.5555555555555556,
             "#d8576b"
            ],
            [
             0.6666666666666666,
             "#ed7953"
            ],
            [
             0.7777777777777778,
             "#fb9f3a"
            ],
            [
             0.8888888888888888,
             "#fdca26"
            ],
            [
             1,
             "#f0f921"
            ]
           ],
           "sequentialminus": [
            [
             0,
             "#0d0887"
            ],
            [
             0.1111111111111111,
             "#46039f"
            ],
            [
             0.2222222222222222,
             "#7201a8"
            ],
            [
             0.3333333333333333,
             "#9c179e"
            ],
            [
             0.4444444444444444,
             "#bd3786"
            ],
            [
             0.5555555555555556,
             "#d8576b"
            ],
            [
             0.6666666666666666,
             "#ed7953"
            ],
            [
             0.7777777777777778,
             "#fb9f3a"
            ],
            [
             0.8888888888888888,
             "#fdca26"
            ],
            [
             1,
             "#f0f921"
            ]
           ]
          },
          "colorway": [
           "#636efa",
           "#EF553B",
           "#00cc96",
           "#ab63fa",
           "#FFA15A",
           "#19d3f3",
           "#FF6692",
           "#B6E880",
           "#FF97FF",
           "#FECB52"
          ],
          "font": {
           "color": "#2a3f5f"
          },
          "geo": {
           "bgcolor": "white",
           "lakecolor": "white",
           "landcolor": "#E5ECF6",
           "showlakes": true,
           "showland": true,
           "subunitcolor": "white"
          },
          "hoverlabel": {
           "align": "left"
          },
          "hovermode": "closest",
          "mapbox": {
           "style": "light"
          },
          "paper_bgcolor": "white",
          "plot_bgcolor": "#E5ECF6",
          "polar": {
           "angularaxis": {
            "gridcolor": "white",
            "linecolor": "white",
            "ticks": ""
           },
           "bgcolor": "#E5ECF6",
           "radialaxis": {
            "gridcolor": "white",
            "linecolor": "white",
            "ticks": ""
           }
          },
          "scene": {
           "xaxis": {
            "backgroundcolor": "#E5ECF6",
            "gridcolor": "white",
            "gridwidth": 2,
            "linecolor": "white",
            "showbackground": true,
            "ticks": "",
            "zerolinecolor": "white"
           },
           "yaxis": {
            "backgroundcolor": "#E5ECF6",
            "gridcolor": "white",
            "gridwidth": 2,
            "linecolor": "white",
            "showbackground": true,
            "ticks": "",
            "zerolinecolor": "white"
           },
           "zaxis": {
            "backgroundcolor": "#E5ECF6",
            "gridcolor": "white",
            "gridwidth": 2,
            "linecolor": "white",
            "showbackground": true,
            "ticks": "",
            "zerolinecolor": "white"
           }
          },
          "shapedefaults": {
           "line": {
            "color": "#2a3f5f"
           }
          },
          "ternary": {
           "aaxis": {
            "gridcolor": "white",
            "linecolor": "white",
            "ticks": ""
           },
           "baxis": {
            "gridcolor": "white",
            "linecolor": "white",
            "ticks": ""
           },
           "bgcolor": "#E5ECF6",
           "caxis": {
            "gridcolor": "white",
            "linecolor": "white",
            "ticks": ""
           }
          },
          "title": {
           "x": 0.05
          },
          "xaxis": {
           "automargin": true,
           "gridcolor": "white",
           "linecolor": "white",
           "ticks": "",
           "title": {
            "standoff": 15
           },
           "zerolinecolor": "white",
           "zerolinewidth": 2
          },
          "yaxis": {
           "automargin": true,
           "gridcolor": "white",
           "linecolor": "white",
           "ticks": "",
           "title": {
            "standoff": 15
           },
           "zerolinecolor": "white",
           "zerolinewidth": 2
          }
         }
        },
        "title": {
         "text": "Actual and Predicted Wheel Speeds, Recording 0, Trial 0"
        },
        "xaxis": {
         "title": {
          "text": "Time"
         }
        },
        "yaxis": {
         "title": {
          "text": "Value"
         }
        }
       }
      }
     },
     "metadata": {},
     "output_type": "display_data"
    },
    {
     "data": {
      "application/vnd.plotly.v1+json": {
       "config": {
        "plotlyServerURL": "https://plot.ly"
       },
       "data": [
        {
         "name": "Actual",
         "type": "scatter",
         "y": [
          0.0041082133539021015,
          -0.011354707181453705,
          0.006472645327448845,
          -0.0073743704706430435,
          0.011695770546793938,
          -0.005968904122710228,
          0.013692401349544525,
          0.052245236933231354,
          0.07042785733938217,
          0.10402137041091919,
          -0.011226638220250607,
          -0.2703346014022827,
          -0.9414981007575989,
          -1.3172540664672852,
          -0.03804203122854233,
          -0.3408273458480835,
          0.24049755930900574,
          2.6398630142211914,
          1.2726631164550781,
          -1.0751043558120728,
          0.16881020367145538,
          -1.1203678846359253,
          -1.376332402229309,
          -0.8766725063323975,
          -0.7257442474365234,
          -0.7538233399391174,
          -1.0837311744689941,
          -0.7394372820854187,
          -0.8223302364349365,
          -0.6640686392784119,
          -0.8559306263923645,
          -0.782893180847168,
          -0.777535080909729,
          -0.7409231662750244,
          -0.8669440746307373,
          -0.9532122611999512,
          -0.30184271931648254,
          -0.2897900342941284,
          -0.47776341438293457,
          -0.4731174409389496
         ]
        },
        {
         "name": "Predicted",
         "type": "scatter",
         "y": [
          0.07560493052005768,
          -0.028053291141986847,
          0.006721816956996918,
          -0.022557079792022705,
          -0.07283541560173035,
          -0.06883721053600311,
          0.0318237841129303,
          0.054917410016059875,
          0.1020498275756836,
          0.14074891805648804,
          0.9869692325592041,
          1.0543798208236694,
          -0.6954984664916992,
          -2.127413034439087,
          -3.8069934844970703,
          -4.244389533996582,
          -2.33233380317688,
          0.927157998085022,
          0.548362672328949,
          -0.5918177366256714,
          -0.36404648423194885,
          -0.40099531412124634,
          0.43219274282455444,
          1.7742536067962646,
          1.9546117782592773,
          1.0421769618988037,
          1.2355705499649048,
          3.658149480819702,
          3.5070948600769043,
          2.4117965698242188,
          1.6649327278137207,
          0.1747468113899231,
          0.08651646971702576,
          -0.35685181617736816,
          -1.0046632289886475,
          -1.3945541381835938,
          -1.4978069067001343,
          -2.104830265045166,
          -1.8896899223327637,
          -1.4851276874542236
         ]
        }
       ],
       "layout": {
        "template": {
         "data": {
          "bar": [
           {
            "error_x": {
             "color": "#2a3f5f"
            },
            "error_y": {
             "color": "#2a3f5f"
            },
            "marker": {
             "line": {
              "color": "#E5ECF6",
              "width": 0.5
             },
             "pattern": {
              "fillmode": "overlay",
              "size": 10,
              "solidity": 0.2
             }
            },
            "type": "bar"
           }
          ],
          "barpolar": [
           {
            "marker": {
             "line": {
              "color": "#E5ECF6",
              "width": 0.5
             },
             "pattern": {
              "fillmode": "overlay",
              "size": 10,
              "solidity": 0.2
             }
            },
            "type": "barpolar"
           }
          ],
          "carpet": [
           {
            "aaxis": {
             "endlinecolor": "#2a3f5f",
             "gridcolor": "white",
             "linecolor": "white",
             "minorgridcolor": "white",
             "startlinecolor": "#2a3f5f"
            },
            "baxis": {
             "endlinecolor": "#2a3f5f",
             "gridcolor": "white",
             "linecolor": "white",
             "minorgridcolor": "white",
             "startlinecolor": "#2a3f5f"
            },
            "type": "carpet"
           }
          ],
          "choropleth": [
           {
            "colorbar": {
             "outlinewidth": 0,
             "ticks": ""
            },
            "type": "choropleth"
           }
          ],
          "contour": [
           {
            "colorbar": {
             "outlinewidth": 0,
             "ticks": ""
            },
            "colorscale": [
             [
              0,
              "#0d0887"
             ],
             [
              0.1111111111111111,
              "#46039f"
             ],
             [
              0.2222222222222222,
              "#7201a8"
             ],
             [
              0.3333333333333333,
              "#9c179e"
             ],
             [
              0.4444444444444444,
              "#bd3786"
             ],
             [
              0.5555555555555556,
              "#d8576b"
             ],
             [
              0.6666666666666666,
              "#ed7953"
             ],
             [
              0.7777777777777778,
              "#fb9f3a"
             ],
             [
              0.8888888888888888,
              "#fdca26"
             ],
             [
              1,
              "#f0f921"
             ]
            ],
            "type": "contour"
           }
          ],
          "contourcarpet": [
           {
            "colorbar": {
             "outlinewidth": 0,
             "ticks": ""
            },
            "type": "contourcarpet"
           }
          ],
          "heatmap": [
           {
            "colorbar": {
             "outlinewidth": 0,
             "ticks": ""
            },
            "colorscale": [
             [
              0,
              "#0d0887"
             ],
             [
              0.1111111111111111,
              "#46039f"
             ],
             [
              0.2222222222222222,
              "#7201a8"
             ],
             [
              0.3333333333333333,
              "#9c179e"
             ],
             [
              0.4444444444444444,
              "#bd3786"
             ],
             [
              0.5555555555555556,
              "#d8576b"
             ],
             [
              0.6666666666666666,
              "#ed7953"
             ],
             [
              0.7777777777777778,
              "#fb9f3a"
             ],
             [
              0.8888888888888888,
              "#fdca26"
             ],
             [
              1,
              "#f0f921"
             ]
            ],
            "type": "heatmap"
           }
          ],
          "heatmapgl": [
           {
            "colorbar": {
             "outlinewidth": 0,
             "ticks": ""
            },
            "colorscale": [
             [
              0,
              "#0d0887"
             ],
             [
              0.1111111111111111,
              "#46039f"
             ],
             [
              0.2222222222222222,
              "#7201a8"
             ],
             [
              0.3333333333333333,
              "#9c179e"
             ],
             [
              0.4444444444444444,
              "#bd3786"
             ],
             [
              0.5555555555555556,
              "#d8576b"
             ],
             [
              0.6666666666666666,
              "#ed7953"
             ],
             [
              0.7777777777777778,
              "#fb9f3a"
             ],
             [
              0.8888888888888888,
              "#fdca26"
             ],
             [
              1,
              "#f0f921"
             ]
            ],
            "type": "heatmapgl"
           }
          ],
          "histogram": [
           {
            "marker": {
             "pattern": {
              "fillmode": "overlay",
              "size": 10,
              "solidity": 0.2
             }
            },
            "type": "histogram"
           }
          ],
          "histogram2d": [
           {
            "colorbar": {
             "outlinewidth": 0,
             "ticks": ""
            },
            "colorscale": [
             [
              0,
              "#0d0887"
             ],
             [
              0.1111111111111111,
              "#46039f"
             ],
             [
              0.2222222222222222,
              "#7201a8"
             ],
             [
              0.3333333333333333,
              "#9c179e"
             ],
             [
              0.4444444444444444,
              "#bd3786"
             ],
             [
              0.5555555555555556,
              "#d8576b"
             ],
             [
              0.6666666666666666,
              "#ed7953"
             ],
             [
              0.7777777777777778,
              "#fb9f3a"
             ],
             [
              0.8888888888888888,
              "#fdca26"
             ],
             [
              1,
              "#f0f921"
             ]
            ],
            "type": "histogram2d"
           }
          ],
          "histogram2dcontour": [
           {
            "colorbar": {
             "outlinewidth": 0,
             "ticks": ""
            },
            "colorscale": [
             [
              0,
              "#0d0887"
             ],
             [
              0.1111111111111111,
              "#46039f"
             ],
             [
              0.2222222222222222,
              "#7201a8"
             ],
             [
              0.3333333333333333,
              "#9c179e"
             ],
             [
              0.4444444444444444,
              "#bd3786"
             ],
             [
              0.5555555555555556,
              "#d8576b"
             ],
             [
              0.6666666666666666,
              "#ed7953"
             ],
             [
              0.7777777777777778,
              "#fb9f3a"
             ],
             [
              0.8888888888888888,
              "#fdca26"
             ],
             [
              1,
              "#f0f921"
             ]
            ],
            "type": "histogram2dcontour"
           }
          ],
          "mesh3d": [
           {
            "colorbar": {
             "outlinewidth": 0,
             "ticks": ""
            },
            "type": "mesh3d"
           }
          ],
          "parcoords": [
           {
            "line": {
             "colorbar": {
              "outlinewidth": 0,
              "ticks": ""
             }
            },
            "type": "parcoords"
           }
          ],
          "pie": [
           {
            "automargin": true,
            "type": "pie"
           }
          ],
          "scatter": [
           {
            "fillpattern": {
             "fillmode": "overlay",
             "size": 10,
             "solidity": 0.2
            },
            "type": "scatter"
           }
          ],
          "scatter3d": [
           {
            "line": {
             "colorbar": {
              "outlinewidth": 0,
              "ticks": ""
             }
            },
            "marker": {
             "colorbar": {
              "outlinewidth": 0,
              "ticks": ""
             }
            },
            "type": "scatter3d"
           }
          ],
          "scattercarpet": [
           {
            "marker": {
             "colorbar": {
              "outlinewidth": 0,
              "ticks": ""
             }
            },
            "type": "scattercarpet"
           }
          ],
          "scattergeo": [
           {
            "marker": {
             "colorbar": {
              "outlinewidth": 0,
              "ticks": ""
             }
            },
            "type": "scattergeo"
           }
          ],
          "scattergl": [
           {
            "marker": {
             "colorbar": {
              "outlinewidth": 0,
              "ticks": ""
             }
            },
            "type": "scattergl"
           }
          ],
          "scattermapbox": [
           {
            "marker": {
             "colorbar": {
              "outlinewidth": 0,
              "ticks": ""
             }
            },
            "type": "scattermapbox"
           }
          ],
          "scatterpolar": [
           {
            "marker": {
             "colorbar": {
              "outlinewidth": 0,
              "ticks": ""
             }
            },
            "type": "scatterpolar"
           }
          ],
          "scatterpolargl": [
           {
            "marker": {
             "colorbar": {
              "outlinewidth": 0,
              "ticks": ""
             }
            },
            "type": "scatterpolargl"
           }
          ],
          "scatterternary": [
           {
            "marker": {
             "colorbar": {
              "outlinewidth": 0,
              "ticks": ""
             }
            },
            "type": "scatterternary"
           }
          ],
          "surface": [
           {
            "colorbar": {
             "outlinewidth": 0,
             "ticks": ""
            },
            "colorscale": [
             [
              0,
              "#0d0887"
             ],
             [
              0.1111111111111111,
              "#46039f"
             ],
             [
              0.2222222222222222,
              "#7201a8"
             ],
             [
              0.3333333333333333,
              "#9c179e"
             ],
             [
              0.4444444444444444,
              "#bd3786"
             ],
             [
              0.5555555555555556,
              "#d8576b"
             ],
             [
              0.6666666666666666,
              "#ed7953"
             ],
             [
              0.7777777777777778,
              "#fb9f3a"
             ],
             [
              0.8888888888888888,
              "#fdca26"
             ],
             [
              1,
              "#f0f921"
             ]
            ],
            "type": "surface"
           }
          ],
          "table": [
           {
            "cells": {
             "fill": {
              "color": "#EBF0F8"
             },
             "line": {
              "color": "white"
             }
            },
            "header": {
             "fill": {
              "color": "#C8D4E3"
             },
             "line": {
              "color": "white"
             }
            },
            "type": "table"
           }
          ]
         },
         "layout": {
          "annotationdefaults": {
           "arrowcolor": "#2a3f5f",
           "arrowhead": 0,
           "arrowwidth": 1
          },
          "autotypenumbers": "strict",
          "coloraxis": {
           "colorbar": {
            "outlinewidth": 0,
            "ticks": ""
           }
          },
          "colorscale": {
           "diverging": [
            [
             0,
             "#8e0152"
            ],
            [
             0.1,
             "#c51b7d"
            ],
            [
             0.2,
             "#de77ae"
            ],
            [
             0.3,
             "#f1b6da"
            ],
            [
             0.4,
             "#fde0ef"
            ],
            [
             0.5,
             "#f7f7f7"
            ],
            [
             0.6,
             "#e6f5d0"
            ],
            [
             0.7,
             "#b8e186"
            ],
            [
             0.8,
             "#7fbc41"
            ],
            [
             0.9,
             "#4d9221"
            ],
            [
             1,
             "#276419"
            ]
           ],
           "sequential": [
            [
             0,
             "#0d0887"
            ],
            [
             0.1111111111111111,
             "#46039f"
            ],
            [
             0.2222222222222222,
             "#7201a8"
            ],
            [
             0.3333333333333333,
             "#9c179e"
            ],
            [
             0.4444444444444444,
             "#bd3786"
            ],
            [
             0.5555555555555556,
             "#d8576b"
            ],
            [
             0.6666666666666666,
             "#ed7953"
            ],
            [
             0.7777777777777778,
             "#fb9f3a"
            ],
            [
             0.8888888888888888,
             "#fdca26"
            ],
            [
             1,
             "#f0f921"
            ]
           ],
           "sequentialminus": [
            [
             0,
             "#0d0887"
            ],
            [
             0.1111111111111111,
             "#46039f"
            ],
            [
             0.2222222222222222,
             "#7201a8"
            ],
            [
             0.3333333333333333,
             "#9c179e"
            ],
            [
             0.4444444444444444,
             "#bd3786"
            ],
            [
             0.5555555555555556,
             "#d8576b"
            ],
            [
             0.6666666666666666,
             "#ed7953"
            ],
            [
             0.7777777777777778,
             "#fb9f3a"
            ],
            [
             0.8888888888888888,
             "#fdca26"
            ],
            [
             1,
             "#f0f921"
            ]
           ]
          },
          "colorway": [
           "#636efa",
           "#EF553B",
           "#00cc96",
           "#ab63fa",
           "#FFA15A",
           "#19d3f3",
           "#FF6692",
           "#B6E880",
           "#FF97FF",
           "#FECB52"
          ],
          "font": {
           "color": "#2a3f5f"
          },
          "geo": {
           "bgcolor": "white",
           "lakecolor": "white",
           "landcolor": "#E5ECF6",
           "showlakes": true,
           "showland": true,
           "subunitcolor": "white"
          },
          "hoverlabel": {
           "align": "left"
          },
          "hovermode": "closest",
          "mapbox": {
           "style": "light"
          },
          "paper_bgcolor": "white",
          "plot_bgcolor": "#E5ECF6",
          "polar": {
           "angularaxis": {
            "gridcolor": "white",
            "linecolor": "white",
            "ticks": ""
           },
           "bgcolor": "#E5ECF6",
           "radialaxis": {
            "gridcolor": "white",
            "linecolor": "white",
            "ticks": ""
           }
          },
          "scene": {
           "xaxis": {
            "backgroundcolor": "#E5ECF6",
            "gridcolor": "white",
            "gridwidth": 2,
            "linecolor": "white",
            "showbackground": true,
            "ticks": "",
            "zerolinecolor": "white"
           },
           "yaxis": {
            "backgroundcolor": "#E5ECF6",
            "gridcolor": "white",
            "gridwidth": 2,
            "linecolor": "white",
            "showbackground": true,
            "ticks": "",
            "zerolinecolor": "white"
           },
           "zaxis": {
            "backgroundcolor": "#E5ECF6",
            "gridcolor": "white",
            "gridwidth": 2,
            "linecolor": "white",
            "showbackground": true,
            "ticks": "",
            "zerolinecolor": "white"
           }
          },
          "shapedefaults": {
           "line": {
            "color": "#2a3f5f"
           }
          },
          "ternary": {
           "aaxis": {
            "gridcolor": "white",
            "linecolor": "white",
            "ticks": ""
           },
           "baxis": {
            "gridcolor": "white",
            "linecolor": "white",
            "ticks": ""
           },
           "bgcolor": "#E5ECF6",
           "caxis": {
            "gridcolor": "white",
            "linecolor": "white",
            "ticks": ""
           }
          },
          "title": {
           "x": 0.05
          },
          "xaxis": {
           "automargin": true,
           "gridcolor": "white",
           "linecolor": "white",
           "ticks": "",
           "title": {
            "standoff": 15
           },
           "zerolinecolor": "white",
           "zerolinewidth": 2
          },
          "yaxis": {
           "automargin": true,
           "gridcolor": "white",
           "linecolor": "white",
           "ticks": "",
           "title": {
            "standoff": 15
           },
           "zerolinecolor": "white",
           "zerolinewidth": 2
          }
         }
        },
        "title": {
         "text": "Actual and Predicted Wheel Speeds, Recording 0, Trial 1"
        },
        "xaxis": {
         "title": {
          "text": "Time"
         }
        },
        "yaxis": {
         "title": {
          "text": "Value"
         }
        }
       }
      }
     },
     "metadata": {},
     "output_type": "display_data"
    },
    {
     "data": {
      "application/vnd.plotly.v1+json": {
       "config": {
        "plotlyServerURL": "https://plot.ly"
       },
       "data": [
        {
         "name": "Actual",
         "type": "scatter",
         "y": [
          -0.016872581094503403,
          0.0022826259955763817,
          -0.008491488173604012,
          0.0034911767579615116,
          -0.006450573913753033,
          -0.005968904122710228,
          -0.008215402252972126,
          -0.010896923020482063,
          -0.006324997171759605,
          -0.01282578893005848,
          0.16365192830562592,
          -0.31504571437835693,
          -1.64722740650177,
          -0.5390647053718567,
          -0.4916362464427948,
          -1.8225269317626953,
          -1.314224123954773,
          -0.9194348454475403,
          -1.7108818292617798,
          -0.03449186682701111,
          0.10717452317476273,
          -0.8720882534980774,
          -1.6400552988052368,
          -1.213745355606079,
          -1.3094606399536133,
          0.1839287132024765,
          1.3587055206298828,
          1.4083828926086426,
          0.11876527220010757,
          -0.24686212837696075,
          -0.057752303779125214,
          0.9336521625518799,
          1.1215740442276,
          0.5511091947555542,
          2.4570980072021484,
          1.9834727048873901,
          -0.28350570797920227,
          0.2930876612663269,
          -0.3770335018634796,
          -0.5245359539985657
         ]
        },
        {
         "name": "Predicted",
         "type": "scatter",
         "y": [
          0.021454304456710815,
          0.03955848887562752,
          0.014376863837242126,
          0.044899825006723404,
          -0.011497288942337036,
          0.00017948448657989502,
          -0.003745138645172119,
          0.006026014685630798,
          -0.023117825388908386,
          -0.05336318165063858,
          -0.21428345143795013,
          0.14908786118030548,
          1.4414602518081665,
          2.1404471397399902,
          2.0518362522125244,
          1.746951699256897,
          2.296466112136841,
          2.224675178527832,
          2.1596145629882812,
          1.8757179975509644,
          1.1806641817092896,
          0.5106576681137085,
          -0.874793291091919,
          -1.0325415134429932,
          -0.33194950222969055,
          -0.3604336380958557,
          0.049134984612464905,
          0.9793604612350464,
          0.6240898966789246,
          -0.2869580388069153,
          0.009089164435863495,
          0.6568684577941895,
          0.6703341603279114,
          0.7013425230979919,
          0.4060179591178894,
          0.22349023818969727,
          -0.5321300029754639,
          -0.18539512157440186,
          -0.04828757792711258,
          -0.45667654275894165
         ]
        }
       ],
       "layout": {
        "template": {
         "data": {
          "bar": [
           {
            "error_x": {
             "color": "#2a3f5f"
            },
            "error_y": {
             "color": "#2a3f5f"
            },
            "marker": {
             "line": {
              "color": "#E5ECF6",
              "width": 0.5
             },
             "pattern": {
              "fillmode": "overlay",
              "size": 10,
              "solidity": 0.2
             }
            },
            "type": "bar"
           }
          ],
          "barpolar": [
           {
            "marker": {
             "line": {
              "color": "#E5ECF6",
              "width": 0.5
             },
             "pattern": {
              "fillmode": "overlay",
              "size": 10,
              "solidity": 0.2
             }
            },
            "type": "barpolar"
           }
          ],
          "carpet": [
           {
            "aaxis": {
             "endlinecolor": "#2a3f5f",
             "gridcolor": "white",
             "linecolor": "white",
             "minorgridcolor": "white",
             "startlinecolor": "#2a3f5f"
            },
            "baxis": {
             "endlinecolor": "#2a3f5f",
             "gridcolor": "white",
             "linecolor": "white",
             "minorgridcolor": "white",
             "startlinecolor": "#2a3f5f"
            },
            "type": "carpet"
           }
          ],
          "choropleth": [
           {
            "colorbar": {
             "outlinewidth": 0,
             "ticks": ""
            },
            "type": "choropleth"
           }
          ],
          "contour": [
           {
            "colorbar": {
             "outlinewidth": 0,
             "ticks": ""
            },
            "colorscale": [
             [
              0,
              "#0d0887"
             ],
             [
              0.1111111111111111,
              "#46039f"
             ],
             [
              0.2222222222222222,
              "#7201a8"
             ],
             [
              0.3333333333333333,
              "#9c179e"
             ],
             [
              0.4444444444444444,
              "#bd3786"
             ],
             [
              0.5555555555555556,
              "#d8576b"
             ],
             [
              0.6666666666666666,
              "#ed7953"
             ],
             [
              0.7777777777777778,
              "#fb9f3a"
             ],
             [
              0.8888888888888888,
              "#fdca26"
             ],
             [
              1,
              "#f0f921"
             ]
            ],
            "type": "contour"
           }
          ],
          "contourcarpet": [
           {
            "colorbar": {
             "outlinewidth": 0,
             "ticks": ""
            },
            "type": "contourcarpet"
           }
          ],
          "heatmap": [
           {
            "colorbar": {
             "outlinewidth": 0,
             "ticks": ""
            },
            "colorscale": [
             [
              0,
              "#0d0887"
             ],
             [
              0.1111111111111111,
              "#46039f"
             ],
             [
              0.2222222222222222,
              "#7201a8"
             ],
             [
              0.3333333333333333,
              "#9c179e"
             ],
             [
              0.4444444444444444,
              "#bd3786"
             ],
             [
              0.5555555555555556,
              "#d8576b"
             ],
             [
              0.6666666666666666,
              "#ed7953"
             ],
             [
              0.7777777777777778,
              "#fb9f3a"
             ],
             [
              0.8888888888888888,
              "#fdca26"
             ],
             [
              1,
              "#f0f921"
             ]
            ],
            "type": "heatmap"
           }
          ],
          "heatmapgl": [
           {
            "colorbar": {
             "outlinewidth": 0,
             "ticks": ""
            },
            "colorscale": [
             [
              0,
              "#0d0887"
             ],
             [
              0.1111111111111111,
              "#46039f"
             ],
             [
              0.2222222222222222,
              "#7201a8"
             ],
             [
              0.3333333333333333,
              "#9c179e"
             ],
             [
              0.4444444444444444,
              "#bd3786"
             ],
             [
              0.5555555555555556,
              "#d8576b"
             ],
             [
              0.6666666666666666,
              "#ed7953"
             ],
             [
              0.7777777777777778,
              "#fb9f3a"
             ],
             [
              0.8888888888888888,
              "#fdca26"
             ],
             [
              1,
              "#f0f921"
             ]
            ],
            "type": "heatmapgl"
           }
          ],
          "histogram": [
           {
            "marker": {
             "pattern": {
              "fillmode": "overlay",
              "size": 10,
              "solidity": 0.2
             }
            },
            "type": "histogram"
           }
          ],
          "histogram2d": [
           {
            "colorbar": {
             "outlinewidth": 0,
             "ticks": ""
            },
            "colorscale": [
             [
              0,
              "#0d0887"
             ],
             [
              0.1111111111111111,
              "#46039f"
             ],
             [
              0.2222222222222222,
              "#7201a8"
             ],
             [
              0.3333333333333333,
              "#9c179e"
             ],
             [
              0.4444444444444444,
              "#bd3786"
             ],
             [
              0.5555555555555556,
              "#d8576b"
             ],
             [
              0.6666666666666666,
              "#ed7953"
             ],
             [
              0.7777777777777778,
              "#fb9f3a"
             ],
             [
              0.8888888888888888,
              "#fdca26"
             ],
             [
              1,
              "#f0f921"
             ]
            ],
            "type": "histogram2d"
           }
          ],
          "histogram2dcontour": [
           {
            "colorbar": {
             "outlinewidth": 0,
             "ticks": ""
            },
            "colorscale": [
             [
              0,
              "#0d0887"
             ],
             [
              0.1111111111111111,
              "#46039f"
             ],
             [
              0.2222222222222222,
              "#7201a8"
             ],
             [
              0.3333333333333333,
              "#9c179e"
             ],
             [
              0.4444444444444444,
              "#bd3786"
             ],
             [
              0.5555555555555556,
              "#d8576b"
             ],
             [
              0.6666666666666666,
              "#ed7953"
             ],
             [
              0.7777777777777778,
              "#fb9f3a"
             ],
             [
              0.8888888888888888,
              "#fdca26"
             ],
             [
              1,
              "#f0f921"
             ]
            ],
            "type": "histogram2dcontour"
           }
          ],
          "mesh3d": [
           {
            "colorbar": {
             "outlinewidth": 0,
             "ticks": ""
            },
            "type": "mesh3d"
           }
          ],
          "parcoords": [
           {
            "line": {
             "colorbar": {
              "outlinewidth": 0,
              "ticks": ""
             }
            },
            "type": "parcoords"
           }
          ],
          "pie": [
           {
            "automargin": true,
            "type": "pie"
           }
          ],
          "scatter": [
           {
            "fillpattern": {
             "fillmode": "overlay",
             "size": 10,
             "solidity": 0.2
            },
            "type": "scatter"
           }
          ],
          "scatter3d": [
           {
            "line": {
             "colorbar": {
              "outlinewidth": 0,
              "ticks": ""
             }
            },
            "marker": {
             "colorbar": {
              "outlinewidth": 0,
              "ticks": ""
             }
            },
            "type": "scatter3d"
           }
          ],
          "scattercarpet": [
           {
            "marker": {
             "colorbar": {
              "outlinewidth": 0,
              "ticks": ""
             }
            },
            "type": "scattercarpet"
           }
          ],
          "scattergeo": [
           {
            "marker": {
             "colorbar": {
              "outlinewidth": 0,
              "ticks": ""
             }
            },
            "type": "scattergeo"
           }
          ],
          "scattergl": [
           {
            "marker": {
             "colorbar": {
              "outlinewidth": 0,
              "ticks": ""
             }
            },
            "type": "scattergl"
           }
          ],
          "scattermapbox": [
           {
            "marker": {
             "colorbar": {
              "outlinewidth": 0,
              "ticks": ""
             }
            },
            "type": "scattermapbox"
           }
          ],
          "scatterpolar": [
           {
            "marker": {
             "colorbar": {
              "outlinewidth": 0,
              "ticks": ""
             }
            },
            "type": "scatterpolar"
           }
          ],
          "scatterpolargl": [
           {
            "marker": {
             "colorbar": {
              "outlinewidth": 0,
              "ticks": ""
             }
            },
            "type": "scatterpolargl"
           }
          ],
          "scatterternary": [
           {
            "marker": {
             "colorbar": {
              "outlinewidth": 0,
              "ticks": ""
             }
            },
            "type": "scatterternary"
           }
          ],
          "surface": [
           {
            "colorbar": {
             "outlinewidth": 0,
             "ticks": ""
            },
            "colorscale": [
             [
              0,
              "#0d0887"
             ],
             [
              0.1111111111111111,
              "#46039f"
             ],
             [
              0.2222222222222222,
              "#7201a8"
             ],
             [
              0.3333333333333333,
              "#9c179e"
             ],
             [
              0.4444444444444444,
              "#bd3786"
             ],
             [
              0.5555555555555556,
              "#d8576b"
             ],
             [
              0.6666666666666666,
              "#ed7953"
             ],
             [
              0.7777777777777778,
              "#fb9f3a"
             ],
             [
              0.8888888888888888,
              "#fdca26"
             ],
             [
              1,
              "#f0f921"
             ]
            ],
            "type": "surface"
           }
          ],
          "table": [
           {
            "cells": {
             "fill": {
              "color": "#EBF0F8"
             },
             "line": {
              "color": "white"
             }
            },
            "header": {
             "fill": {
              "color": "#C8D4E3"
             },
             "line": {
              "color": "white"
             }
            },
            "type": "table"
           }
          ]
         },
         "layout": {
          "annotationdefaults": {
           "arrowcolor": "#2a3f5f",
           "arrowhead": 0,
           "arrowwidth": 1
          },
          "autotypenumbers": "strict",
          "coloraxis": {
           "colorbar": {
            "outlinewidth": 0,
            "ticks": ""
           }
          },
          "colorscale": {
           "diverging": [
            [
             0,
             "#8e0152"
            ],
            [
             0.1,
             "#c51b7d"
            ],
            [
             0.2,
             "#de77ae"
            ],
            [
             0.3,
             "#f1b6da"
            ],
            [
             0.4,
             "#fde0ef"
            ],
            [
             0.5,
             "#f7f7f7"
            ],
            [
             0.6,
             "#e6f5d0"
            ],
            [
             0.7,
             "#b8e186"
            ],
            [
             0.8,
             "#7fbc41"
            ],
            [
             0.9,
             "#4d9221"
            ],
            [
             1,
             "#276419"
            ]
           ],
           "sequential": [
            [
             0,
             "#0d0887"
            ],
            [
             0.1111111111111111,
             "#46039f"
            ],
            [
             0.2222222222222222,
             "#7201a8"
            ],
            [
             0.3333333333333333,
             "#9c179e"
            ],
            [
             0.4444444444444444,
             "#bd3786"
            ],
            [
             0.5555555555555556,
             "#d8576b"
            ],
            [
             0.6666666666666666,
             "#ed7953"
            ],
            [
             0.7777777777777778,
             "#fb9f3a"
            ],
            [
             0.8888888888888888,
             "#fdca26"
            ],
            [
             1,
             "#f0f921"
            ]
           ],
           "sequentialminus": [
            [
             0,
             "#0d0887"
            ],
            [
             0.1111111111111111,
             "#46039f"
            ],
            [
             0.2222222222222222,
             "#7201a8"
            ],
            [
             0.3333333333333333,
             "#9c179e"
            ],
            [
             0.4444444444444444,
             "#bd3786"
            ],
            [
             0.5555555555555556,
             "#d8576b"
            ],
            [
             0.6666666666666666,
             "#ed7953"
            ],
            [
             0.7777777777777778,
             "#fb9f3a"
            ],
            [
             0.8888888888888888,
             "#fdca26"
            ],
            [
             1,
             "#f0f921"
            ]
           ]
          },
          "colorway": [
           "#636efa",
           "#EF553B",
           "#00cc96",
           "#ab63fa",
           "#FFA15A",
           "#19d3f3",
           "#FF6692",
           "#B6E880",
           "#FF97FF",
           "#FECB52"
          ],
          "font": {
           "color": "#2a3f5f"
          },
          "geo": {
           "bgcolor": "white",
           "lakecolor": "white",
           "landcolor": "#E5ECF6",
           "showlakes": true,
           "showland": true,
           "subunitcolor": "white"
          },
          "hoverlabel": {
           "align": "left"
          },
          "hovermode": "closest",
          "mapbox": {
           "style": "light"
          },
          "paper_bgcolor": "white",
          "plot_bgcolor": "#E5ECF6",
          "polar": {
           "angularaxis": {
            "gridcolor": "white",
            "linecolor": "white",
            "ticks": ""
           },
           "bgcolor": "#E5ECF6",
           "radialaxis": {
            "gridcolor": "white",
            "linecolor": "white",
            "ticks": ""
           }
          },
          "scene": {
           "xaxis": {
            "backgroundcolor": "#E5ECF6",
            "gridcolor": "white",
            "gridwidth": 2,
            "linecolor": "white",
            "showbackground": true,
            "ticks": "",
            "zerolinecolor": "white"
           },
           "yaxis": {
            "backgroundcolor": "#E5ECF6",
            "gridcolor": "white",
            "gridwidth": 2,
            "linecolor": "white",
            "showbackground": true,
            "ticks": "",
            "zerolinecolor": "white"
           },
           "zaxis": {
            "backgroundcolor": "#E5ECF6",
            "gridcolor": "white",
            "gridwidth": 2,
            "linecolor": "white",
            "showbackground": true,
            "ticks": "",
            "zerolinecolor": "white"
           }
          },
          "shapedefaults": {
           "line": {
            "color": "#2a3f5f"
           }
          },
          "ternary": {
           "aaxis": {
            "gridcolor": "white",
            "linecolor": "white",
            "ticks": ""
           },
           "baxis": {
            "gridcolor": "white",
            "linecolor": "white",
            "ticks": ""
           },
           "bgcolor": "#E5ECF6",
           "caxis": {
            "gridcolor": "white",
            "linecolor": "white",
            "ticks": ""
           }
          },
          "title": {
           "x": 0.05
          },
          "xaxis": {
           "automargin": true,
           "gridcolor": "white",
           "linecolor": "white",
           "ticks": "",
           "title": {
            "standoff": 15
           },
           "zerolinecolor": "white",
           "zerolinewidth": 2
          },
          "yaxis": {
           "automargin": true,
           "gridcolor": "white",
           "linecolor": "white",
           "ticks": "",
           "title": {
            "standoff": 15
           },
           "zerolinecolor": "white",
           "zerolinewidth": 2
          }
         }
        },
        "title": {
         "text": "Actual and Predicted Wheel Speeds, Recording 0, Trial 2"
        },
        "xaxis": {
         "title": {
          "text": "Time"
         }
        },
        "yaxis": {
         "title": {
          "text": "Value"
         }
        }
       }
      }
     },
     "metadata": {},
     "output_type": "display_data"
    },
    {
     "name": "stdout",
     "output_type": "stream",
     "text": [
      "Evaluation, Recording 0, Loss 3.797199249267578\n"
     ]
    },
    {
     "data": {
      "application/vnd.plotly.v1+json": {
       "config": {
        "plotlyServerURL": "https://plot.ly"
       },
       "data": [
        {
         "name": "Actual",
         "type": "scatter",
         "y": [
          0.08632893115282059,
          0.13078874349594116,
          -0.020882971584796906,
          -0.020257167518138885,
          -0.017401177436113358,
          -0.014121455140411854,
          -0.012445456348359585,
          -0.01253078319132328,
          -0.016838444396853447,
          0.1394931524991989,
          2.169325113296509,
          2.9666714668273926,
          1.3425356149673462,
          0.8972214460372925,
          0.4765046536922455,
          0.33050110936164856,
          0.6091920733451843,
          -0.1319415420293808,
          -1.5455756187438965,
          -1.3775360584259033,
          -1.2079582214355469,
          -0.8288548588752747,
          -1.1824675798416138,
          0.2713998258113861,
          0.18125969171524048,
          -0.7058037519454956,
          -1.1287899017333984,
          -1.1206289529800415,
          -1.0051417350769043,
          -0.8917518258094788,
          -0.7231412529945374,
          -0.6514182686805725,
          -0.6966248750686646,
          -0.6558602452278137,
          -0.5127864480018616,
          -0.4738565683364868,
          -0.5018306374549866,
          -0.4262550473213196,
          -0.3762063980102539,
          -0.36073240637779236
         ]
        },
        {
         "name": "Predicted",
         "type": "scatter",
         "y": [
          -0.04816059023141861,
          -0.054010093212127686,
          -0.006143743172287941,
          0.014167729765176773,
          -0.01769101247191429,
          0.009561602026224136,
          0.027256853878498077,
          -0.04321166127920151,
          -0.013551434502005577,
          -0.0341455340385437,
          0.009676219895482063,
          0.5028887987136841,
          0.6727235317230225,
          0.07517434656620026,
          0.264318585395813,
          0.2322300672531128,
          0.10385982692241669,
          0.717819094657898,
          1.0545214414596558,
          0.8378716707229614,
          1.000730276107788,
          0.6050155162811279,
          0.6102911233901978,
          0.41424643993377686,
          0.05150509625673294,
          -0.014899913221597672,
          0.18750789761543274,
          0.03350628539919853,
          -0.2002892792224884,
          -0.19938945770263672,
          0.18918757140636444,
          -0.2876078486442566,
          -0.7405188083648682,
          -1.2736618518829346,
          -1.2210173606872559,
          -0.33805781602859497,
          -0.050189197063446045,
          -0.40228718519210815,
          -0.6439022421836853,
          -0.5524230003356934
         ]
        }
       ],
       "layout": {
        "template": {
         "data": {
          "bar": [
           {
            "error_x": {
             "color": "#2a3f5f"
            },
            "error_y": {
             "color": "#2a3f5f"
            },
            "marker": {
             "line": {
              "color": "#E5ECF6",
              "width": 0.5
             },
             "pattern": {
              "fillmode": "overlay",
              "size": 10,
              "solidity": 0.2
             }
            },
            "type": "bar"
           }
          ],
          "barpolar": [
           {
            "marker": {
             "line": {
              "color": "#E5ECF6",
              "width": 0.5
             },
             "pattern": {
              "fillmode": "overlay",
              "size": 10,
              "solidity": 0.2
             }
            },
            "type": "barpolar"
           }
          ],
          "carpet": [
           {
            "aaxis": {
             "endlinecolor": "#2a3f5f",
             "gridcolor": "white",
             "linecolor": "white",
             "minorgridcolor": "white",
             "startlinecolor": "#2a3f5f"
            },
            "baxis": {
             "endlinecolor": "#2a3f5f",
             "gridcolor": "white",
             "linecolor": "white",
             "minorgridcolor": "white",
             "startlinecolor": "#2a3f5f"
            },
            "type": "carpet"
           }
          ],
          "choropleth": [
           {
            "colorbar": {
             "outlinewidth": 0,
             "ticks": ""
            },
            "type": "choropleth"
           }
          ],
          "contour": [
           {
            "colorbar": {
             "outlinewidth": 0,
             "ticks": ""
            },
            "colorscale": [
             [
              0,
              "#0d0887"
             ],
             [
              0.1111111111111111,
              "#46039f"
             ],
             [
              0.2222222222222222,
              "#7201a8"
             ],
             [
              0.3333333333333333,
              "#9c179e"
             ],
             [
              0.4444444444444444,
              "#bd3786"
             ],
             [
              0.5555555555555556,
              "#d8576b"
             ],
             [
              0.6666666666666666,
              "#ed7953"
             ],
             [
              0.7777777777777778,
              "#fb9f3a"
             ],
             [
              0.8888888888888888,
              "#fdca26"
             ],
             [
              1,
              "#f0f921"
             ]
            ],
            "type": "contour"
           }
          ],
          "contourcarpet": [
           {
            "colorbar": {
             "outlinewidth": 0,
             "ticks": ""
            },
            "type": "contourcarpet"
           }
          ],
          "heatmap": [
           {
            "colorbar": {
             "outlinewidth": 0,
             "ticks": ""
            },
            "colorscale": [
             [
              0,
              "#0d0887"
             ],
             [
              0.1111111111111111,
              "#46039f"
             ],
             [
              0.2222222222222222,
              "#7201a8"
             ],
             [
              0.3333333333333333,
              "#9c179e"
             ],
             [
              0.4444444444444444,
              "#bd3786"
             ],
             [
              0.5555555555555556,
              "#d8576b"
             ],
             [
              0.6666666666666666,
              "#ed7953"
             ],
             [
              0.7777777777777778,
              "#fb9f3a"
             ],
             [
              0.8888888888888888,
              "#fdca26"
             ],
             [
              1,
              "#f0f921"
             ]
            ],
            "type": "heatmap"
           }
          ],
          "heatmapgl": [
           {
            "colorbar": {
             "outlinewidth": 0,
             "ticks": ""
            },
            "colorscale": [
             [
              0,
              "#0d0887"
             ],
             [
              0.1111111111111111,
              "#46039f"
             ],
             [
              0.2222222222222222,
              "#7201a8"
             ],
             [
              0.3333333333333333,
              "#9c179e"
             ],
             [
              0.4444444444444444,
              "#bd3786"
             ],
             [
              0.5555555555555556,
              "#d8576b"
             ],
             [
              0.6666666666666666,
              "#ed7953"
             ],
             [
              0.7777777777777778,
              "#fb9f3a"
             ],
             [
              0.8888888888888888,
              "#fdca26"
             ],
             [
              1,
              "#f0f921"
             ]
            ],
            "type": "heatmapgl"
           }
          ],
          "histogram": [
           {
            "marker": {
             "pattern": {
              "fillmode": "overlay",
              "size": 10,
              "solidity": 0.2
             }
            },
            "type": "histogram"
           }
          ],
          "histogram2d": [
           {
            "colorbar": {
             "outlinewidth": 0,
             "ticks": ""
            },
            "colorscale": [
             [
              0,
              "#0d0887"
             ],
             [
              0.1111111111111111,
              "#46039f"
             ],
             [
              0.2222222222222222,
              "#7201a8"
             ],
             [
              0.3333333333333333,
              "#9c179e"
             ],
             [
              0.4444444444444444,
              "#bd3786"
             ],
             [
              0.5555555555555556,
              "#d8576b"
             ],
             [
              0.6666666666666666,
              "#ed7953"
             ],
             [
              0.7777777777777778,
              "#fb9f3a"
             ],
             [
              0.8888888888888888,
              "#fdca26"
             ],
             [
              1,
              "#f0f921"
             ]
            ],
            "type": "histogram2d"
           }
          ],
          "histogram2dcontour": [
           {
            "colorbar": {
             "outlinewidth": 0,
             "ticks": ""
            },
            "colorscale": [
             [
              0,
              "#0d0887"
             ],
             [
              0.1111111111111111,
              "#46039f"
             ],
             [
              0.2222222222222222,
              "#7201a8"
             ],
             [
              0.3333333333333333,
              "#9c179e"
             ],
             [
              0.4444444444444444,
              "#bd3786"
             ],
             [
              0.5555555555555556,
              "#d8576b"
             ],
             [
              0.6666666666666666,
              "#ed7953"
             ],
             [
              0.7777777777777778,
              "#fb9f3a"
             ],
             [
              0.8888888888888888,
              "#fdca26"
             ],
             [
              1,
              "#f0f921"
             ]
            ],
            "type": "histogram2dcontour"
           }
          ],
          "mesh3d": [
           {
            "colorbar": {
             "outlinewidth": 0,
             "ticks": ""
            },
            "type": "mesh3d"
           }
          ],
          "parcoords": [
           {
            "line": {
             "colorbar": {
              "outlinewidth": 0,
              "ticks": ""
             }
            },
            "type": "parcoords"
           }
          ],
          "pie": [
           {
            "automargin": true,
            "type": "pie"
           }
          ],
          "scatter": [
           {
            "fillpattern": {
             "fillmode": "overlay",
             "size": 10,
             "solidity": 0.2
            },
            "type": "scatter"
           }
          ],
          "scatter3d": [
           {
            "line": {
             "colorbar": {
              "outlinewidth": 0,
              "ticks": ""
             }
            },
            "marker": {
             "colorbar": {
              "outlinewidth": 0,
              "ticks": ""
             }
            },
            "type": "scatter3d"
           }
          ],
          "scattercarpet": [
           {
            "marker": {
             "colorbar": {
              "outlinewidth": 0,
              "ticks": ""
             }
            },
            "type": "scattercarpet"
           }
          ],
          "scattergeo": [
           {
            "marker": {
             "colorbar": {
              "outlinewidth": 0,
              "ticks": ""
             }
            },
            "type": "scattergeo"
           }
          ],
          "scattergl": [
           {
            "marker": {
             "colorbar": {
              "outlinewidth": 0,
              "ticks": ""
             }
            },
            "type": "scattergl"
           }
          ],
          "scattermapbox": [
           {
            "marker": {
             "colorbar": {
              "outlinewidth": 0,
              "ticks": ""
             }
            },
            "type": "scattermapbox"
           }
          ],
          "scatterpolar": [
           {
            "marker": {
             "colorbar": {
              "outlinewidth": 0,
              "ticks": ""
             }
            },
            "type": "scatterpolar"
           }
          ],
          "scatterpolargl": [
           {
            "marker": {
             "colorbar": {
              "outlinewidth": 0,
              "ticks": ""
             }
            },
            "type": "scatterpolargl"
           }
          ],
          "scatterternary": [
           {
            "marker": {
             "colorbar": {
              "outlinewidth": 0,
              "ticks": ""
             }
            },
            "type": "scatterternary"
           }
          ],
          "surface": [
           {
            "colorbar": {
             "outlinewidth": 0,
             "ticks": ""
            },
            "colorscale": [
             [
              0,
              "#0d0887"
             ],
             [
              0.1111111111111111,
              "#46039f"
             ],
             [
              0.2222222222222222,
              "#7201a8"
             ],
             [
              0.3333333333333333,
              "#9c179e"
             ],
             [
              0.4444444444444444,
              "#bd3786"
             ],
             [
              0.5555555555555556,
              "#d8576b"
             ],
             [
              0.6666666666666666,
              "#ed7953"
             ],
             [
              0.7777777777777778,
              "#fb9f3a"
             ],
             [
              0.8888888888888888,
              "#fdca26"
             ],
             [
              1,
              "#f0f921"
             ]
            ],
            "type": "surface"
           }
          ],
          "table": [
           {
            "cells": {
             "fill": {
              "color": "#EBF0F8"
             },
             "line": {
              "color": "white"
             }
            },
            "header": {
             "fill": {
              "color": "#C8D4E3"
             },
             "line": {
              "color": "white"
             }
            },
            "type": "table"
           }
          ]
         },
         "layout": {
          "annotationdefaults": {
           "arrowcolor": "#2a3f5f",
           "arrowhead": 0,
           "arrowwidth": 1
          },
          "autotypenumbers": "strict",
          "coloraxis": {
           "colorbar": {
            "outlinewidth": 0,
            "ticks": ""
           }
          },
          "colorscale": {
           "diverging": [
            [
             0,
             "#8e0152"
            ],
            [
             0.1,
             "#c51b7d"
            ],
            [
             0.2,
             "#de77ae"
            ],
            [
             0.3,
             "#f1b6da"
            ],
            [
             0.4,
             "#fde0ef"
            ],
            [
             0.5,
             "#f7f7f7"
            ],
            [
             0.6,
             "#e6f5d0"
            ],
            [
             0.7,
             "#b8e186"
            ],
            [
             0.8,
             "#7fbc41"
            ],
            [
             0.9,
             "#4d9221"
            ],
            [
             1,
             "#276419"
            ]
           ],
           "sequential": [
            [
             0,
             "#0d0887"
            ],
            [
             0.1111111111111111,
             "#46039f"
            ],
            [
             0.2222222222222222,
             "#7201a8"
            ],
            [
             0.3333333333333333,
             "#9c179e"
            ],
            [
             0.4444444444444444,
             "#bd3786"
            ],
            [
             0.5555555555555556,
             "#d8576b"
            ],
            [
             0.6666666666666666,
             "#ed7953"
            ],
            [
             0.7777777777777778,
             "#fb9f3a"
            ],
            [
             0.8888888888888888,
             "#fdca26"
            ],
            [
             1,
             "#f0f921"
            ]
           ],
           "sequentialminus": [
            [
             0,
             "#0d0887"
            ],
            [
             0.1111111111111111,
             "#46039f"
            ],
            [
             0.2222222222222222,
             "#7201a8"
            ],
            [
             0.3333333333333333,
             "#9c179e"
            ],
            [
             0.4444444444444444,
             "#bd3786"
            ],
            [
             0.5555555555555556,
             "#d8576b"
            ],
            [
             0.6666666666666666,
             "#ed7953"
            ],
            [
             0.7777777777777778,
             "#fb9f3a"
            ],
            [
             0.8888888888888888,
             "#fdca26"
            ],
            [
             1,
             "#f0f921"
            ]
           ]
          },
          "colorway": [
           "#636efa",
           "#EF553B",
           "#00cc96",
           "#ab63fa",
           "#FFA15A",
           "#19d3f3",
           "#FF6692",
           "#B6E880",
           "#FF97FF",
           "#FECB52"
          ],
          "font": {
           "color": "#2a3f5f"
          },
          "geo": {
           "bgcolor": "white",
           "lakecolor": "white",
           "landcolor": "#E5ECF6",
           "showlakes": true,
           "showland": true,
           "subunitcolor": "white"
          },
          "hoverlabel": {
           "align": "left"
          },
          "hovermode": "closest",
          "mapbox": {
           "style": "light"
          },
          "paper_bgcolor": "white",
          "plot_bgcolor": "#E5ECF6",
          "polar": {
           "angularaxis": {
            "gridcolor": "white",
            "linecolor": "white",
            "ticks": ""
           },
           "bgcolor": "#E5ECF6",
           "radialaxis": {
            "gridcolor": "white",
            "linecolor": "white",
            "ticks": ""
           }
          },
          "scene": {
           "xaxis": {
            "backgroundcolor": "#E5ECF6",
            "gridcolor": "white",
            "gridwidth": 2,
            "linecolor": "white",
            "showbackground": true,
            "ticks": "",
            "zerolinecolor": "white"
           },
           "yaxis": {
            "backgroundcolor": "#E5ECF6",
            "gridcolor": "white",
            "gridwidth": 2,
            "linecolor": "white",
            "showbackground": true,
            "ticks": "",
            "zerolinecolor": "white"
           },
           "zaxis": {
            "backgroundcolor": "#E5ECF6",
            "gridcolor": "white",
            "gridwidth": 2,
            "linecolor": "white",
            "showbackground": true,
            "ticks": "",
            "zerolinecolor": "white"
           }
          },
          "shapedefaults": {
           "line": {
            "color": "#2a3f5f"
           }
          },
          "ternary": {
           "aaxis": {
            "gridcolor": "white",
            "linecolor": "white",
            "ticks": ""
           },
           "baxis": {
            "gridcolor": "white",
            "linecolor": "white",
            "ticks": ""
           },
           "bgcolor": "#E5ECF6",
           "caxis": {
            "gridcolor": "white",
            "linecolor": "white",
            "ticks": ""
           }
          },
          "title": {
           "x": 0.05
          },
          "xaxis": {
           "automargin": true,
           "gridcolor": "white",
           "linecolor": "white",
           "ticks": "",
           "title": {
            "standoff": 15
           },
           "zerolinecolor": "white",
           "zerolinewidth": 2
          },
          "yaxis": {
           "automargin": true,
           "gridcolor": "white",
           "linecolor": "white",
           "ticks": "",
           "title": {
            "standoff": 15
           },
           "zerolinecolor": "white",
           "zerolinewidth": 2
          }
         }
        },
        "title": {
         "text": "Actual and Predicted Wheel Speeds, Recording 1, Trial 0"
        },
        "xaxis": {
         "title": {
          "text": "Time"
         }
        },
        "yaxis": {
         "title": {
          "text": "Value"
         }
        }
       }
      }
     },
     "metadata": {},
     "output_type": "display_data"
    },
    {
     "data": {
      "application/vnd.plotly.v1+json": {
       "config": {
        "plotlyServerURL": "https://plot.ly"
       },
       "data": [
        {
         "name": "Actual",
         "type": "scatter",
         "y": [
          -0.03101198561489582,
          -0.02621597796678543,
          -0.020882971584796906,
          -0.007262916769832373,
          0.021923217922449112,
          0.028344903141260147,
          -0.012445456348359585,
          -0.01253078319132328,
          -0.016838444396853447,
          0.06794911623001099,
          0.6400057673454285,
          1.4088635444641113,
          1.804062008857727,
          1.921156883239746,
          2.5061960220336914,
          2.422154664993286,
          2.0567126274108887,
          1.9380640983581543,
          1.934058666229248,
          1.4878122806549072,
          1.0426409244537354,
          0.8115086555480957,
          0.31028932332992554,
          -0.14957237243652344,
          0.661343514919281,
          0.5127314329147339,
          -1.0784547328948975,
          -0.11706332862377167,
          0.9099884033203125,
          1.1525912284851074,
          0.35812118649482727,
          0.16790801286697388,
          0.3011404573917389,
          1.7492971420288086,
          3.046462059020996,
          1.1337698698043823,
          2.1924185752868652,
          1.4633344411849976,
          1.7302370071411133,
          0.023980263620615005
         ]
        },
        {
         "name": "Predicted",
         "type": "scatter",
         "y": [
          -0.014554347842931747,
          0.01219465583562851,
          0.016896197572350502,
          0.009073133580386639,
          -0.004378899931907654,
          -0.008608004078269005,
          0.020655497908592224,
          -0.0009064823389053345,
          0.014021297916769981,
          0.0025564655661582947,
          0.16135531663894653,
          0.18671628832817078,
          -0.11008019745349884,
          -0.42960458993911743,
          -0.17128723859786987,
          0.34209775924682617,
          0.044738490134477615,
          -0.3183184862136841,
          -0.13250036537647247,
          0.2101612240076065,
          0.26898205280303955,
          0.12126821279525757,
          -0.13302621245384216,
          -0.17523367702960968,
          -0.11582821607589722,
          -0.009729884564876556,
          -0.4436378479003906,
          -0.3100666403770447,
          -0.21165256202220917,
          -0.2173546701669693,
          -0.2914857566356659,
          -0.5517987608909607,
          -0.6017690896987915,
          -0.5632056593894958,
          -0.45737236738204956,
          -0.2856768071651459,
          -0.30461734533309937,
          -0.3554641902446747,
          -0.27188733220100403,
          -0.2500491738319397
         ]
        }
       ],
       "layout": {
        "template": {
         "data": {
          "bar": [
           {
            "error_x": {
             "color": "#2a3f5f"
            },
            "error_y": {
             "color": "#2a3f5f"
            },
            "marker": {
             "line": {
              "color": "#E5ECF6",
              "width": 0.5
             },
             "pattern": {
              "fillmode": "overlay",
              "size": 10,
              "solidity": 0.2
             }
            },
            "type": "bar"
           }
          ],
          "barpolar": [
           {
            "marker": {
             "line": {
              "color": "#E5ECF6",
              "width": 0.5
             },
             "pattern": {
              "fillmode": "overlay",
              "size": 10,
              "solidity": 0.2
             }
            },
            "type": "barpolar"
           }
          ],
          "carpet": [
           {
            "aaxis": {
             "endlinecolor": "#2a3f5f",
             "gridcolor": "white",
             "linecolor": "white",
             "minorgridcolor": "white",
             "startlinecolor": "#2a3f5f"
            },
            "baxis": {
             "endlinecolor": "#2a3f5f",
             "gridcolor": "white",
             "linecolor": "white",
             "minorgridcolor": "white",
             "startlinecolor": "#2a3f5f"
            },
            "type": "carpet"
           }
          ],
          "choropleth": [
           {
            "colorbar": {
             "outlinewidth": 0,
             "ticks": ""
            },
            "type": "choropleth"
           }
          ],
          "contour": [
           {
            "colorbar": {
             "outlinewidth": 0,
             "ticks": ""
            },
            "colorscale": [
             [
              0,
              "#0d0887"
             ],
             [
              0.1111111111111111,
              "#46039f"
             ],
             [
              0.2222222222222222,
              "#7201a8"
             ],
             [
              0.3333333333333333,
              "#9c179e"
             ],
             [
              0.4444444444444444,
              "#bd3786"
             ],
             [
              0.5555555555555556,
              "#d8576b"
             ],
             [
              0.6666666666666666,
              "#ed7953"
             ],
             [
              0.7777777777777778,
              "#fb9f3a"
             ],
             [
              0.8888888888888888,
              "#fdca26"
             ],
             [
              1,
              "#f0f921"
             ]
            ],
            "type": "contour"
           }
          ],
          "contourcarpet": [
           {
            "colorbar": {
             "outlinewidth": 0,
             "ticks": ""
            },
            "type": "contourcarpet"
           }
          ],
          "heatmap": [
           {
            "colorbar": {
             "outlinewidth": 0,
             "ticks": ""
            },
            "colorscale": [
             [
              0,
              "#0d0887"
             ],
             [
              0.1111111111111111,
              "#46039f"
             ],
             [
              0.2222222222222222,
              "#7201a8"
             ],
             [
              0.3333333333333333,
              "#9c179e"
             ],
             [
              0.4444444444444444,
              "#bd3786"
             ],
             [
              0.5555555555555556,
              "#d8576b"
             ],
             [
              0.6666666666666666,
              "#ed7953"
             ],
             [
              0.7777777777777778,
              "#fb9f3a"
             ],
             [
              0.8888888888888888,
              "#fdca26"
             ],
             [
              1,
              "#f0f921"
             ]
            ],
            "type": "heatmap"
           }
          ],
          "heatmapgl": [
           {
            "colorbar": {
             "outlinewidth": 0,
             "ticks": ""
            },
            "colorscale": [
             [
              0,
              "#0d0887"
             ],
             [
              0.1111111111111111,
              "#46039f"
             ],
             [
              0.2222222222222222,
              "#7201a8"
             ],
             [
              0.3333333333333333,
              "#9c179e"
             ],
             [
              0.4444444444444444,
              "#bd3786"
             ],
             [
              0.5555555555555556,
              "#d8576b"
             ],
             [
              0.6666666666666666,
              "#ed7953"
             ],
             [
              0.7777777777777778,
              "#fb9f3a"
             ],
             [
              0.8888888888888888,
              "#fdca26"
             ],
             [
              1,
              "#f0f921"
             ]
            ],
            "type": "heatmapgl"
           }
          ],
          "histogram": [
           {
            "marker": {
             "pattern": {
              "fillmode": "overlay",
              "size": 10,
              "solidity": 0.2
             }
            },
            "type": "histogram"
           }
          ],
          "histogram2d": [
           {
            "colorbar": {
             "outlinewidth": 0,
             "ticks": ""
            },
            "colorscale": [
             [
              0,
              "#0d0887"
             ],
             [
              0.1111111111111111,
              "#46039f"
             ],
             [
              0.2222222222222222,
              "#7201a8"
             ],
             [
              0.3333333333333333,
              "#9c179e"
             ],
             [
              0.4444444444444444,
              "#bd3786"
             ],
             [
              0.5555555555555556,
              "#d8576b"
             ],
             [
              0.6666666666666666,
              "#ed7953"
             ],
             [
              0.7777777777777778,
              "#fb9f3a"
             ],
             [
              0.8888888888888888,
              "#fdca26"
             ],
             [
              1,
              "#f0f921"
             ]
            ],
            "type": "histogram2d"
           }
          ],
          "histogram2dcontour": [
           {
            "colorbar": {
             "outlinewidth": 0,
             "ticks": ""
            },
            "colorscale": [
             [
              0,
              "#0d0887"
             ],
             [
              0.1111111111111111,
              "#46039f"
             ],
             [
              0.2222222222222222,
              "#7201a8"
             ],
             [
              0.3333333333333333,
              "#9c179e"
             ],
             [
              0.4444444444444444,
              "#bd3786"
             ],
             [
              0.5555555555555556,
              "#d8576b"
             ],
             [
              0.6666666666666666,
              "#ed7953"
             ],
             [
              0.7777777777777778,
              "#fb9f3a"
             ],
             [
              0.8888888888888888,
              "#fdca26"
             ],
             [
              1,
              "#f0f921"
             ]
            ],
            "type": "histogram2dcontour"
           }
          ],
          "mesh3d": [
           {
            "colorbar": {
             "outlinewidth": 0,
             "ticks": ""
            },
            "type": "mesh3d"
           }
          ],
          "parcoords": [
           {
            "line": {
             "colorbar": {
              "outlinewidth": 0,
              "ticks": ""
             }
            },
            "type": "parcoords"
           }
          ],
          "pie": [
           {
            "automargin": true,
            "type": "pie"
           }
          ],
          "scatter": [
           {
            "fillpattern": {
             "fillmode": "overlay",
             "size": 10,
             "solidity": 0.2
            },
            "type": "scatter"
           }
          ],
          "scatter3d": [
           {
            "line": {
             "colorbar": {
              "outlinewidth": 0,
              "ticks": ""
             }
            },
            "marker": {
             "colorbar": {
              "outlinewidth": 0,
              "ticks": ""
             }
            },
            "type": "scatter3d"
           }
          ],
          "scattercarpet": [
           {
            "marker": {
             "colorbar": {
              "outlinewidth": 0,
              "ticks": ""
             }
            },
            "type": "scattercarpet"
           }
          ],
          "scattergeo": [
           {
            "marker": {
             "colorbar": {
              "outlinewidth": 0,
              "ticks": ""
             }
            },
            "type": "scattergeo"
           }
          ],
          "scattergl": [
           {
            "marker": {
             "colorbar": {
              "outlinewidth": 0,
              "ticks": ""
             }
            },
            "type": "scattergl"
           }
          ],
          "scattermapbox": [
           {
            "marker": {
             "colorbar": {
              "outlinewidth": 0,
              "ticks": ""
             }
            },
            "type": "scattermapbox"
           }
          ],
          "scatterpolar": [
           {
            "marker": {
             "colorbar": {
              "outlinewidth": 0,
              "ticks": ""
             }
            },
            "type": "scatterpolar"
           }
          ],
          "scatterpolargl": [
           {
            "marker": {
             "colorbar": {
              "outlinewidth": 0,
              "ticks": ""
             }
            },
            "type": "scatterpolargl"
           }
          ],
          "scatterternary": [
           {
            "marker": {
             "colorbar": {
              "outlinewidth": 0,
              "ticks": ""
             }
            },
            "type": "scatterternary"
           }
          ],
          "surface": [
           {
            "colorbar": {
             "outlinewidth": 0,
             "ticks": ""
            },
            "colorscale": [
             [
              0,
              "#0d0887"
             ],
             [
              0.1111111111111111,
              "#46039f"
             ],
             [
              0.2222222222222222,
              "#7201a8"
             ],
             [
              0.3333333333333333,
              "#9c179e"
             ],
             [
              0.4444444444444444,
              "#bd3786"
             ],
             [
              0.5555555555555556,
              "#d8576b"
             ],
             [
              0.6666666666666666,
              "#ed7953"
             ],
             [
              0.7777777777777778,
              "#fb9f3a"
             ],
             [
              0.8888888888888888,
              "#fdca26"
             ],
             [
              1,
              "#f0f921"
             ]
            ],
            "type": "surface"
           }
          ],
          "table": [
           {
            "cells": {
             "fill": {
              "color": "#EBF0F8"
             },
             "line": {
              "color": "white"
             }
            },
            "header": {
             "fill": {
              "color": "#C8D4E3"
             },
             "line": {
              "color": "white"
             }
            },
            "type": "table"
           }
          ]
         },
         "layout": {
          "annotationdefaults": {
           "arrowcolor": "#2a3f5f",
           "arrowhead": 0,
           "arrowwidth": 1
          },
          "autotypenumbers": "strict",
          "coloraxis": {
           "colorbar": {
            "outlinewidth": 0,
            "ticks": ""
           }
          },
          "colorscale": {
           "diverging": [
            [
             0,
             "#8e0152"
            ],
            [
             0.1,
             "#c51b7d"
            ],
            [
             0.2,
             "#de77ae"
            ],
            [
             0.3,
             "#f1b6da"
            ],
            [
             0.4,
             "#fde0ef"
            ],
            [
             0.5,
             "#f7f7f7"
            ],
            [
             0.6,
             "#e6f5d0"
            ],
            [
             0.7,
             "#b8e186"
            ],
            [
             0.8,
             "#7fbc41"
            ],
            [
             0.9,
             "#4d9221"
            ],
            [
             1,
             "#276419"
            ]
           ],
           "sequential": [
            [
             0,
             "#0d0887"
            ],
            [
             0.1111111111111111,
             "#46039f"
            ],
            [
             0.2222222222222222,
             "#7201a8"
            ],
            [
             0.3333333333333333,
             "#9c179e"
            ],
            [
             0.4444444444444444,
             "#bd3786"
            ],
            [
             0.5555555555555556,
             "#d8576b"
            ],
            [
             0.6666666666666666,
             "#ed7953"
            ],
            [
             0.7777777777777778,
             "#fb9f3a"
            ],
            [
             0.8888888888888888,
             "#fdca26"
            ],
            [
             1,
             "#f0f921"
            ]
           ],
           "sequentialminus": [
            [
             0,
             "#0d0887"
            ],
            [
             0.1111111111111111,
             "#46039f"
            ],
            [
             0.2222222222222222,
             "#7201a8"
            ],
            [
             0.3333333333333333,
             "#9c179e"
            ],
            [
             0.4444444444444444,
             "#bd3786"
            ],
            [
             0.5555555555555556,
             "#d8576b"
            ],
            [
             0.6666666666666666,
             "#ed7953"
            ],
            [
             0.7777777777777778,
             "#fb9f3a"
            ],
            [
             0.8888888888888888,
             "#fdca26"
            ],
            [
             1,
             "#f0f921"
            ]
           ]
          },
          "colorway": [
           "#636efa",
           "#EF553B",
           "#00cc96",
           "#ab63fa",
           "#FFA15A",
           "#19d3f3",
           "#FF6692",
           "#B6E880",
           "#FF97FF",
           "#FECB52"
          ],
          "font": {
           "color": "#2a3f5f"
          },
          "geo": {
           "bgcolor": "white",
           "lakecolor": "white",
           "landcolor": "#E5ECF6",
           "showlakes": true,
           "showland": true,
           "subunitcolor": "white"
          },
          "hoverlabel": {
           "align": "left"
          },
          "hovermode": "closest",
          "mapbox": {
           "style": "light"
          },
          "paper_bgcolor": "white",
          "plot_bgcolor": "#E5ECF6",
          "polar": {
           "angularaxis": {
            "gridcolor": "white",
            "linecolor": "white",
            "ticks": ""
           },
           "bgcolor": "#E5ECF6",
           "radialaxis": {
            "gridcolor": "white",
            "linecolor": "white",
            "ticks": ""
           }
          },
          "scene": {
           "xaxis": {
            "backgroundcolor": "#E5ECF6",
            "gridcolor": "white",
            "gridwidth": 2,
            "linecolor": "white",
            "showbackground": true,
            "ticks": "",
            "zerolinecolor": "white"
           },
           "yaxis": {
            "backgroundcolor": "#E5ECF6",
            "gridcolor": "white",
            "gridwidth": 2,
            "linecolor": "white",
            "showbackground": true,
            "ticks": "",
            "zerolinecolor": "white"
           },
           "zaxis": {
            "backgroundcolor": "#E5ECF6",
            "gridcolor": "white",
            "gridwidth": 2,
            "linecolor": "white",
            "showbackground": true,
            "ticks": "",
            "zerolinecolor": "white"
           }
          },
          "shapedefaults": {
           "line": {
            "color": "#2a3f5f"
           }
          },
          "ternary": {
           "aaxis": {
            "gridcolor": "white",
            "linecolor": "white",
            "ticks": ""
           },
           "baxis": {
            "gridcolor": "white",
            "linecolor": "white",
            "ticks": ""
           },
           "bgcolor": "#E5ECF6",
           "caxis": {
            "gridcolor": "white",
            "linecolor": "white",
            "ticks": ""
           }
          },
          "title": {
           "x": 0.05
          },
          "xaxis": {
           "automargin": true,
           "gridcolor": "white",
           "linecolor": "white",
           "ticks": "",
           "title": {
            "standoff": 15
           },
           "zerolinecolor": "white",
           "zerolinewidth": 2
          },
          "yaxis": {
           "automargin": true,
           "gridcolor": "white",
           "linecolor": "white",
           "ticks": "",
           "title": {
            "standoff": 15
           },
           "zerolinecolor": "white",
           "zerolinewidth": 2
          }
         }
        },
        "title": {
         "text": "Actual and Predicted Wheel Speeds, Recording 1, Trial 1"
        },
        "xaxis": {
         "title": {
          "text": "Time"
         }
        },
        "yaxis": {
         "title": {
          "text": "Value"
         }
        }
       }
      }
     },
     "metadata": {},
     "output_type": "display_data"
    },
    {
     "data": {
      "application/vnd.plotly.v1+json": {
       "config": {
        "plotlyServerURL": "https://plot.ly"
       },
       "data": [
        {
         "name": "Actual",
         "type": "scatter",
         "y": [
          -0.03101198561489582,
          0.032949429005384445,
          0.02755105309188366,
          -0.0029885803814977407,
          -0.017401177436113358,
          -0.014121455140411854,
          -0.012445456348359585,
          -0.01253078319132328,
          -0.016838444396853447,
          -0.09839031100273132,
          -0.7521653175354004,
          -0.5898459553718567,
          -0.14016024768352509,
          -0.7397914528846741,
          -1.522749662399292,
          -1.2596027851104736,
          -2.3682775497436523,
          -1.4446932077407837,
          -0.6978532671928406,
          0.6328031420707703,
          3.759348154067993,
          3.231065034866333,
          1.1866859197616577,
          -1.1670325994491577,
          1.6068198680877686,
          2.5920016765594482,
          2.5789642333984375,
          2.389446258544922,
          1.8299221992492676,
          1.489656925201416,
          1.7092170715332031,
          1.8350926637649536,
          -0.6610462665557861,
          -0.2554621994495392,
          -0.27408367395401,
          1.8687599897384644,
          1.8823002576828003,
          0.5723918080329895,
          0.2319113314151764,
          0.6769515872001648
         ]
        },
        {
         "name": "Predicted",
         "type": "scatter",
         "y": [
          0.06877647340297699,
          0.017274990677833557,
          0.0025887414813041687,
          -0.005434628576040268,
          0.007992923259735107,
          -0.031197920441627502,
          -0.006301030516624451,
          0.08970692753791809,
          -0.02006528154015541,
          -0.08330294489860535,
          -1.5519413948059082,
          -2.753657341003418,
          -1.7041349411010742,
          -0.8677346706390381,
          -0.7399792075157166,
          -0.7891653180122375,
          0.18727591633796692,
          1.1861286163330078,
          1.4555917978286743,
          2.070444107055664,
          2.1379363536834717,
          1.970727801322937,
          1.3673030138015747,
          1.1138876676559448,
          0.46441492438316345,
          0.5393658876419067,
          0.3992635905742645,
          0.7721219062805176,
          0.6870825886726379,
          0.6007243394851685,
          0.7578842639923096,
          0.827162504196167,
          0.5427306890487671,
          0.6056268215179443,
          0.4579715132713318,
          0.20875781774520874,
          0.09382885694503784,
          -0.2249819040298462,
          -0.0650678277015686,
          -0.0785418301820755
         ]
        }
       ],
       "layout": {
        "template": {
         "data": {
          "bar": [
           {
            "error_x": {
             "color": "#2a3f5f"
            },
            "error_y": {
             "color": "#2a3f5f"
            },
            "marker": {
             "line": {
              "color": "#E5ECF6",
              "width": 0.5
             },
             "pattern": {
              "fillmode": "overlay",
              "size": 10,
              "solidity": 0.2
             }
            },
            "type": "bar"
           }
          ],
          "barpolar": [
           {
            "marker": {
             "line": {
              "color": "#E5ECF6",
              "width": 0.5
             },
             "pattern": {
              "fillmode": "overlay",
              "size": 10,
              "solidity": 0.2
             }
            },
            "type": "barpolar"
           }
          ],
          "carpet": [
           {
            "aaxis": {
             "endlinecolor": "#2a3f5f",
             "gridcolor": "white",
             "linecolor": "white",
             "minorgridcolor": "white",
             "startlinecolor": "#2a3f5f"
            },
            "baxis": {
             "endlinecolor": "#2a3f5f",
             "gridcolor": "white",
             "linecolor": "white",
             "minorgridcolor": "white",
             "startlinecolor": "#2a3f5f"
            },
            "type": "carpet"
           }
          ],
          "choropleth": [
           {
            "colorbar": {
             "outlinewidth": 0,
             "ticks": ""
            },
            "type": "choropleth"
           }
          ],
          "contour": [
           {
            "colorbar": {
             "outlinewidth": 0,
             "ticks": ""
            },
            "colorscale": [
             [
              0,
              "#0d0887"
             ],
             [
              0.1111111111111111,
              "#46039f"
             ],
             [
              0.2222222222222222,
              "#7201a8"
             ],
             [
              0.3333333333333333,
              "#9c179e"
             ],
             [
              0.4444444444444444,
              "#bd3786"
             ],
             [
              0.5555555555555556,
              "#d8576b"
             ],
             [
              0.6666666666666666,
              "#ed7953"
             ],
             [
              0.7777777777777778,
              "#fb9f3a"
             ],
             [
              0.8888888888888888,
              "#fdca26"
             ],
             [
              1,
              "#f0f921"
             ]
            ],
            "type": "contour"
           }
          ],
          "contourcarpet": [
           {
            "colorbar": {
             "outlinewidth": 0,
             "ticks": ""
            },
            "type": "contourcarpet"
           }
          ],
          "heatmap": [
           {
            "colorbar": {
             "outlinewidth": 0,
             "ticks": ""
            },
            "colorscale": [
             [
              0,
              "#0d0887"
             ],
             [
              0.1111111111111111,
              "#46039f"
             ],
             [
              0.2222222222222222,
              "#7201a8"
             ],
             [
              0.3333333333333333,
              "#9c179e"
             ],
             [
              0.4444444444444444,
              "#bd3786"
             ],
             [
              0.5555555555555556,
              "#d8576b"
             ],
             [
              0.6666666666666666,
              "#ed7953"
             ],
             [
              0.7777777777777778,
              "#fb9f3a"
             ],
             [
              0.8888888888888888,
              "#fdca26"
             ],
             [
              1,
              "#f0f921"
             ]
            ],
            "type": "heatmap"
           }
          ],
          "heatmapgl": [
           {
            "colorbar": {
             "outlinewidth": 0,
             "ticks": ""
            },
            "colorscale": [
             [
              0,
              "#0d0887"
             ],
             [
              0.1111111111111111,
              "#46039f"
             ],
             [
              0.2222222222222222,
              "#7201a8"
             ],
             [
              0.3333333333333333,
              "#9c179e"
             ],
             [
              0.4444444444444444,
              "#bd3786"
             ],
             [
              0.5555555555555556,
              "#d8576b"
             ],
             [
              0.6666666666666666,
              "#ed7953"
             ],
             [
              0.7777777777777778,
              "#fb9f3a"
             ],
             [
              0.8888888888888888,
              "#fdca26"
             ],
             [
              1,
              "#f0f921"
             ]
            ],
            "type": "heatmapgl"
           }
          ],
          "histogram": [
           {
            "marker": {
             "pattern": {
              "fillmode": "overlay",
              "size": 10,
              "solidity": 0.2
             }
            },
            "type": "histogram"
           }
          ],
          "histogram2d": [
           {
            "colorbar": {
             "outlinewidth": 0,
             "ticks": ""
            },
            "colorscale": [
             [
              0,
              "#0d0887"
             ],
             [
              0.1111111111111111,
              "#46039f"
             ],
             [
              0.2222222222222222,
              "#7201a8"
             ],
             [
              0.3333333333333333,
              "#9c179e"
             ],
             [
              0.4444444444444444,
              "#bd3786"
             ],
             [
              0.5555555555555556,
              "#d8576b"
             ],
             [
              0.6666666666666666,
              "#ed7953"
             ],
             [
              0.7777777777777778,
              "#fb9f3a"
             ],
             [
              0.8888888888888888,
              "#fdca26"
             ],
             [
              1,
              "#f0f921"
             ]
            ],
            "type": "histogram2d"
           }
          ],
          "histogram2dcontour": [
           {
            "colorbar": {
             "outlinewidth": 0,
             "ticks": ""
            },
            "colorscale": [
             [
              0,
              "#0d0887"
             ],
             [
              0.1111111111111111,
              "#46039f"
             ],
             [
              0.2222222222222222,
              "#7201a8"
             ],
             [
              0.3333333333333333,
              "#9c179e"
             ],
             [
              0.4444444444444444,
              "#bd3786"
             ],
             [
              0.5555555555555556,
              "#d8576b"
             ],
             [
              0.6666666666666666,
              "#ed7953"
             ],
             [
              0.7777777777777778,
              "#fb9f3a"
             ],
             [
              0.8888888888888888,
              "#fdca26"
             ],
             [
              1,
              "#f0f921"
             ]
            ],
            "type": "histogram2dcontour"
           }
          ],
          "mesh3d": [
           {
            "colorbar": {
             "outlinewidth": 0,
             "ticks": ""
            },
            "type": "mesh3d"
           }
          ],
          "parcoords": [
           {
            "line": {
             "colorbar": {
              "outlinewidth": 0,
              "ticks": ""
             }
            },
            "type": "parcoords"
           }
          ],
          "pie": [
           {
            "automargin": true,
            "type": "pie"
           }
          ],
          "scatter": [
           {
            "fillpattern": {
             "fillmode": "overlay",
             "size": 10,
             "solidity": 0.2
            },
            "type": "scatter"
           }
          ],
          "scatter3d": [
           {
            "line": {
             "colorbar": {
              "outlinewidth": 0,
              "ticks": ""
             }
            },
            "marker": {
             "colorbar": {
              "outlinewidth": 0,
              "ticks": ""
             }
            },
            "type": "scatter3d"
           }
          ],
          "scattercarpet": [
           {
            "marker": {
             "colorbar": {
              "outlinewidth": 0,
              "ticks": ""
             }
            },
            "type": "scattercarpet"
           }
          ],
          "scattergeo": [
           {
            "marker": {
             "colorbar": {
              "outlinewidth": 0,
              "ticks": ""
             }
            },
            "type": "scattergeo"
           }
          ],
          "scattergl": [
           {
            "marker": {
             "colorbar": {
              "outlinewidth": 0,
              "ticks": ""
             }
            },
            "type": "scattergl"
           }
          ],
          "scattermapbox": [
           {
            "marker": {
             "colorbar": {
              "outlinewidth": 0,
              "ticks": ""
             }
            },
            "type": "scattermapbox"
           }
          ],
          "scatterpolar": [
           {
            "marker": {
             "colorbar": {
              "outlinewidth": 0,
              "ticks": ""
             }
            },
            "type": "scatterpolar"
           }
          ],
          "scatterpolargl": [
           {
            "marker": {
             "colorbar": {
              "outlinewidth": 0,
              "ticks": ""
             }
            },
            "type": "scatterpolargl"
           }
          ],
          "scatterternary": [
           {
            "marker": {
             "colorbar": {
              "outlinewidth": 0,
              "ticks": ""
             }
            },
            "type": "scatterternary"
           }
          ],
          "surface": [
           {
            "colorbar": {
             "outlinewidth": 0,
             "ticks": ""
            },
            "colorscale": [
             [
              0,
              "#0d0887"
             ],
             [
              0.1111111111111111,
              "#46039f"
             ],
             [
              0.2222222222222222,
              "#7201a8"
             ],
             [
              0.3333333333333333,
              "#9c179e"
             ],
             [
              0.4444444444444444,
              "#bd3786"
             ],
             [
              0.5555555555555556,
              "#d8576b"
             ],
             [
              0.6666666666666666,
              "#ed7953"
             ],
             [
              0.7777777777777778,
              "#fb9f3a"
             ],
             [
              0.8888888888888888,
              "#fdca26"
             ],
             [
              1,
              "#f0f921"
             ]
            ],
            "type": "surface"
           }
          ],
          "table": [
           {
            "cells": {
             "fill": {
              "color": "#EBF0F8"
             },
             "line": {
              "color": "white"
             }
            },
            "header": {
             "fill": {
              "color": "#C8D4E3"
             },
             "line": {
              "color": "white"
             }
            },
            "type": "table"
           }
          ]
         },
         "layout": {
          "annotationdefaults": {
           "arrowcolor": "#2a3f5f",
           "arrowhead": 0,
           "arrowwidth": 1
          },
          "autotypenumbers": "strict",
          "coloraxis": {
           "colorbar": {
            "outlinewidth": 0,
            "ticks": ""
           }
          },
          "colorscale": {
           "diverging": [
            [
             0,
             "#8e0152"
            ],
            [
             0.1,
             "#c51b7d"
            ],
            [
             0.2,
             "#de77ae"
            ],
            [
             0.3,
             "#f1b6da"
            ],
            [
             0.4,
             "#fde0ef"
            ],
            [
             0.5,
             "#f7f7f7"
            ],
            [
             0.6,
             "#e6f5d0"
            ],
            [
             0.7,
             "#b8e186"
            ],
            [
             0.8,
             "#7fbc41"
            ],
            [
             0.9,
             "#4d9221"
            ],
            [
             1,
             "#276419"
            ]
           ],
           "sequential": [
            [
             0,
             "#0d0887"
            ],
            [
             0.1111111111111111,
             "#46039f"
            ],
            [
             0.2222222222222222,
             "#7201a8"
            ],
            [
             0.3333333333333333,
             "#9c179e"
            ],
            [
             0.4444444444444444,
             "#bd3786"
            ],
            [
             0.5555555555555556,
             "#d8576b"
            ],
            [
             0.6666666666666666,
             "#ed7953"
            ],
            [
             0.7777777777777778,
             "#fb9f3a"
            ],
            [
             0.8888888888888888,
             "#fdca26"
            ],
            [
             1,
             "#f0f921"
            ]
           ],
           "sequentialminus": [
            [
             0,
             "#0d0887"
            ],
            [
             0.1111111111111111,
             "#46039f"
            ],
            [
             0.2222222222222222,
             "#7201a8"
            ],
            [
             0.3333333333333333,
             "#9c179e"
            ],
            [
             0.4444444444444444,
             "#bd3786"
            ],
            [
             0.5555555555555556,
             "#d8576b"
            ],
            [
             0.6666666666666666,
             "#ed7953"
            ],
            [
             0.7777777777777778,
             "#fb9f3a"
            ],
            [
             0.8888888888888888,
             "#fdca26"
            ],
            [
             1,
             "#f0f921"
            ]
           ]
          },
          "colorway": [
           "#636efa",
           "#EF553B",
           "#00cc96",
           "#ab63fa",
           "#FFA15A",
           "#19d3f3",
           "#FF6692",
           "#B6E880",
           "#FF97FF",
           "#FECB52"
          ],
          "font": {
           "color": "#2a3f5f"
          },
          "geo": {
           "bgcolor": "white",
           "lakecolor": "white",
           "landcolor": "#E5ECF6",
           "showlakes": true,
           "showland": true,
           "subunitcolor": "white"
          },
          "hoverlabel": {
           "align": "left"
          },
          "hovermode": "closest",
          "mapbox": {
           "style": "light"
          },
          "paper_bgcolor": "white",
          "plot_bgcolor": "#E5ECF6",
          "polar": {
           "angularaxis": {
            "gridcolor": "white",
            "linecolor": "white",
            "ticks": ""
           },
           "bgcolor": "#E5ECF6",
           "radialaxis": {
            "gridcolor": "white",
            "linecolor": "white",
            "ticks": ""
           }
          },
          "scene": {
           "xaxis": {
            "backgroundcolor": "#E5ECF6",
            "gridcolor": "white",
            "gridwidth": 2,
            "linecolor": "white",
            "showbackground": true,
            "ticks": "",
            "zerolinecolor": "white"
           },
           "yaxis": {
            "backgroundcolor": "#E5ECF6",
            "gridcolor": "white",
            "gridwidth": 2,
            "linecolor": "white",
            "showbackground": true,
            "ticks": "",
            "zerolinecolor": "white"
           },
           "zaxis": {
            "backgroundcolor": "#E5ECF6",
            "gridcolor": "white",
            "gridwidth": 2,
            "linecolor": "white",
            "showbackground": true,
            "ticks": "",
            "zerolinecolor": "white"
           }
          },
          "shapedefaults": {
           "line": {
            "color": "#2a3f5f"
           }
          },
          "ternary": {
           "aaxis": {
            "gridcolor": "white",
            "linecolor": "white",
            "ticks": ""
           },
           "baxis": {
            "gridcolor": "white",
            "linecolor": "white",
            "ticks": ""
           },
           "bgcolor": "#E5ECF6",
           "caxis": {
            "gridcolor": "white",
            "linecolor": "white",
            "ticks": ""
           }
          },
          "title": {
           "x": 0.05
          },
          "xaxis": {
           "automargin": true,
           "gridcolor": "white",
           "linecolor": "white",
           "ticks": "",
           "title": {
            "standoff": 15
           },
           "zerolinecolor": "white",
           "zerolinewidth": 2
          },
          "yaxis": {
           "automargin": true,
           "gridcolor": "white",
           "linecolor": "white",
           "ticks": "",
           "title": {
            "standoff": 15
           },
           "zerolinecolor": "white",
           "zerolinewidth": 2
          }
         }
        },
        "title": {
         "text": "Actual and Predicted Wheel Speeds, Recording 1, Trial 2"
        },
        "xaxis": {
         "title": {
          "text": "Time"
         }
        },
        "yaxis": {
         "title": {
          "text": "Value"
         }
        }
       }
      }
     },
     "metadata": {},
     "output_type": "display_data"
    },
    {
     "name": "stdout",
     "output_type": "stream",
     "text": [
      "Evaluation, Recording 1, Loss 1.9361345767974854\n"
     ]
    },
    {
     "data": {
      "application/vnd.plotly.v1+json": {
       "config": {
        "plotlyServerURL": "https://plot.ly"
       },
       "data": [
        {
         "name": "Actual",
         "type": "scatter",
         "y": [
          -0.02016184851527214,
          -0.013642816804349422,
          -0.011432936415076256,
          -0.012151564471423626,
          0.03318769484758377,
          0.03262794017791748,
          -0.010995253920555115,
          -0.01278135646134615,
          -0.022640101611614227,
          -0.0019808996003121138,
          -0.11575552076101303,
          -0.5711943507194519,
          -1.1524697542190552,
          -1.1089164018630981,
          -1.3622647523880005,
          -1.6326340436935425,
          -1.796665906906128,
          -1.9278432130813599,
          -1.9297871589660645,
          -1.874131679534912,
          -1.8546663522720337,
          -1.8491551876068115,
          -1.9039145708084106,
          -1.8290053606033325,
          -1.7564117908477783,
          -1.7280265092849731,
          -1.682169795036316,
          -1.648048996925354,
          0.851809024810791,
          3.848665237426758,
          3.653451442718506,
          3.4203286170959473,
          4.357204914093018,
          4.011513710021973,
          3.7955336570739746,
          2.89359712600708,
          1.0612578392028809,
          -0.498893678188324,
          -0.045171719044446945,
          0.3434029221534729
         ]
        },
        {
         "name": "Predicted",
         "type": "scatter",
         "y": [
          0.08511455357074738,
          -0.0006375312805175781,
          0.010400306433439255,
          0.13343939185142517,
          0.00868256390094757,
          -0.06201379746198654,
          -0.019661538302898407,
          0.06278096139431,
          0.03504938632249832,
          -0.049897052347660065,
          -0.34024274349212646,
          -0.6667267680168152,
          -0.23099671304225922,
          1.5115861892700195,
          2.0985617637634277,
          1.5716729164123535,
          1.2375441789627075,
          1.3310096263885498,
          1.4681901931762695,
          1.786512017250061,
          1.8131251335144043,
          0.9462258219718933,
          0.4380647838115692,
          -0.02019098401069641,
          -0.6698468923568726,
          -0.7212482690811157,
          -1.2728192806243896,
          -1.3228347301483154,
          -0.5527262687683105,
          -0.22334781289100647,
          -0.3016442656517029,
          -0.19358253479003906,
          -0.11277557909488678,
          -0.0863037258386612,
          -0.09809127449989319,
          -0.048034925013780594,
          0.3332175016403198,
          0.2556644082069397,
          -0.39171528816223145,
          -0.8723079562187195
         ]
        }
       ],
       "layout": {
        "template": {
         "data": {
          "bar": [
           {
            "error_x": {
             "color": "#2a3f5f"
            },
            "error_y": {
             "color": "#2a3f5f"
            },
            "marker": {
             "line": {
              "color": "#E5ECF6",
              "width": 0.5
             },
             "pattern": {
              "fillmode": "overlay",
              "size": 10,
              "solidity": 0.2
             }
            },
            "type": "bar"
           }
          ],
          "barpolar": [
           {
            "marker": {
             "line": {
              "color": "#E5ECF6",
              "width": 0.5
             },
             "pattern": {
              "fillmode": "overlay",
              "size": 10,
              "solidity": 0.2
             }
            },
            "type": "barpolar"
           }
          ],
          "carpet": [
           {
            "aaxis": {
             "endlinecolor": "#2a3f5f",
             "gridcolor": "white",
             "linecolor": "white",
             "minorgridcolor": "white",
             "startlinecolor": "#2a3f5f"
            },
            "baxis": {
             "endlinecolor": "#2a3f5f",
             "gridcolor": "white",
             "linecolor": "white",
             "minorgridcolor": "white",
             "startlinecolor": "#2a3f5f"
            },
            "type": "carpet"
           }
          ],
          "choropleth": [
           {
            "colorbar": {
             "outlinewidth": 0,
             "ticks": ""
            },
            "type": "choropleth"
           }
          ],
          "contour": [
           {
            "colorbar": {
             "outlinewidth": 0,
             "ticks": ""
            },
            "colorscale": [
             [
              0,
              "#0d0887"
             ],
             [
              0.1111111111111111,
              "#46039f"
             ],
             [
              0.2222222222222222,
              "#7201a8"
             ],
             [
              0.3333333333333333,
              "#9c179e"
             ],
             [
              0.4444444444444444,
              "#bd3786"
             ],
             [
              0.5555555555555556,
              "#d8576b"
             ],
             [
              0.6666666666666666,
              "#ed7953"
             ],
             [
              0.7777777777777778,
              "#fb9f3a"
             ],
             [
              0.8888888888888888,
              "#fdca26"
             ],
             [
              1,
              "#f0f921"
             ]
            ],
            "type": "contour"
           }
          ],
          "contourcarpet": [
           {
            "colorbar": {
             "outlinewidth": 0,
             "ticks": ""
            },
            "type": "contourcarpet"
           }
          ],
          "heatmap": [
           {
            "colorbar": {
             "outlinewidth": 0,
             "ticks": ""
            },
            "colorscale": [
             [
              0,
              "#0d0887"
             ],
             [
              0.1111111111111111,
              "#46039f"
             ],
             [
              0.2222222222222222,
              "#7201a8"
             ],
             [
              0.3333333333333333,
              "#9c179e"
             ],
             [
              0.4444444444444444,
              "#bd3786"
             ],
             [
              0.5555555555555556,
              "#d8576b"
             ],
             [
              0.6666666666666666,
              "#ed7953"
             ],
             [
              0.7777777777777778,
              "#fb9f3a"
             ],
             [
              0.8888888888888888,
              "#fdca26"
             ],
             [
              1,
              "#f0f921"
             ]
            ],
            "type": "heatmap"
           }
          ],
          "heatmapgl": [
           {
            "colorbar": {
             "outlinewidth": 0,
             "ticks": ""
            },
            "colorscale": [
             [
              0,
              "#0d0887"
             ],
             [
              0.1111111111111111,
              "#46039f"
             ],
             [
              0.2222222222222222,
              "#7201a8"
             ],
             [
              0.3333333333333333,
              "#9c179e"
             ],
             [
              0.4444444444444444,
              "#bd3786"
             ],
             [
              0.5555555555555556,
              "#d8576b"
             ],
             [
              0.6666666666666666,
              "#ed7953"
             ],
             [
              0.7777777777777778,
              "#fb9f3a"
             ],
             [
              0.8888888888888888,
              "#fdca26"
             ],
             [
              1,
              "#f0f921"
             ]
            ],
            "type": "heatmapgl"
           }
          ],
          "histogram": [
           {
            "marker": {
             "pattern": {
              "fillmode": "overlay",
              "size": 10,
              "solidity": 0.2
             }
            },
            "type": "histogram"
           }
          ],
          "histogram2d": [
           {
            "colorbar": {
             "outlinewidth": 0,
             "ticks": ""
            },
            "colorscale": [
             [
              0,
              "#0d0887"
             ],
             [
              0.1111111111111111,
              "#46039f"
             ],
             [
              0.2222222222222222,
              "#7201a8"
             ],
             [
              0.3333333333333333,
              "#9c179e"
             ],
             [
              0.4444444444444444,
              "#bd3786"
             ],
             [
              0.5555555555555556,
              "#d8576b"
             ],
             [
              0.6666666666666666,
              "#ed7953"
             ],
             [
              0.7777777777777778,
              "#fb9f3a"
             ],
             [
              0.8888888888888888,
              "#fdca26"
             ],
             [
              1,
              "#f0f921"
             ]
            ],
            "type": "histogram2d"
           }
          ],
          "histogram2dcontour": [
           {
            "colorbar": {
             "outlinewidth": 0,
             "ticks": ""
            },
            "colorscale": [
             [
              0,
              "#0d0887"
             ],
             [
              0.1111111111111111,
              "#46039f"
             ],
             [
              0.2222222222222222,
              "#7201a8"
             ],
             [
              0.3333333333333333,
              "#9c179e"
             ],
             [
              0.4444444444444444,
              "#bd3786"
             ],
             [
              0.5555555555555556,
              "#d8576b"
             ],
             [
              0.6666666666666666,
              "#ed7953"
             ],
             [
              0.7777777777777778,
              "#fb9f3a"
             ],
             [
              0.8888888888888888,
              "#fdca26"
             ],
             [
              1,
              "#f0f921"
             ]
            ],
            "type": "histogram2dcontour"
           }
          ],
          "mesh3d": [
           {
            "colorbar": {
             "outlinewidth": 0,
             "ticks": ""
            },
            "type": "mesh3d"
           }
          ],
          "parcoords": [
           {
            "line": {
             "colorbar": {
              "outlinewidth": 0,
              "ticks": ""
             }
            },
            "type": "parcoords"
           }
          ],
          "pie": [
           {
            "automargin": true,
            "type": "pie"
           }
          ],
          "scatter": [
           {
            "fillpattern": {
             "fillmode": "overlay",
             "size": 10,
             "solidity": 0.2
            },
            "type": "scatter"
           }
          ],
          "scatter3d": [
           {
            "line": {
             "colorbar": {
              "outlinewidth": 0,
              "ticks": ""
             }
            },
            "marker": {
             "colorbar": {
              "outlinewidth": 0,
              "ticks": ""
             }
            },
            "type": "scatter3d"
           }
          ],
          "scattercarpet": [
           {
            "marker": {
             "colorbar": {
              "outlinewidth": 0,
              "ticks": ""
             }
            },
            "type": "scattercarpet"
           }
          ],
          "scattergeo": [
           {
            "marker": {
             "colorbar": {
              "outlinewidth": 0,
              "ticks": ""
             }
            },
            "type": "scattergeo"
           }
          ],
          "scattergl": [
           {
            "marker": {
             "colorbar": {
              "outlinewidth": 0,
              "ticks": ""
             }
            },
            "type": "scattergl"
           }
          ],
          "scattermapbox": [
           {
            "marker": {
             "colorbar": {
              "outlinewidth": 0,
              "ticks": ""
             }
            },
            "type": "scattermapbox"
           }
          ],
          "scatterpolar": [
           {
            "marker": {
             "colorbar": {
              "outlinewidth": 0,
              "ticks": ""
             }
            },
            "type": "scatterpolar"
           }
          ],
          "scatterpolargl": [
           {
            "marker": {
             "colorbar": {
              "outlinewidth": 0,
              "ticks": ""
             }
            },
            "type": "scatterpolargl"
           }
          ],
          "scatterternary": [
           {
            "marker": {
             "colorbar": {
              "outlinewidth": 0,
              "ticks": ""
             }
            },
            "type": "scatterternary"
           }
          ],
          "surface": [
           {
            "colorbar": {
             "outlinewidth": 0,
             "ticks": ""
            },
            "colorscale": [
             [
              0,
              "#0d0887"
             ],
             [
              0.1111111111111111,
              "#46039f"
             ],
             [
              0.2222222222222222,
              "#7201a8"
             ],
             [
              0.3333333333333333,
              "#9c179e"
             ],
             [
              0.4444444444444444,
              "#bd3786"
             ],
             [
              0.5555555555555556,
              "#d8576b"
             ],
             [
              0.6666666666666666,
              "#ed7953"
             ],
             [
              0.7777777777777778,
              "#fb9f3a"
             ],
             [
              0.8888888888888888,
              "#fdca26"
             ],
             [
              1,
              "#f0f921"
             ]
            ],
            "type": "surface"
           }
          ],
          "table": [
           {
            "cells": {
             "fill": {
              "color": "#EBF0F8"
             },
             "line": {
              "color": "white"
             }
            },
            "header": {
             "fill": {
              "color": "#C8D4E3"
             },
             "line": {
              "color": "white"
             }
            },
            "type": "table"
           }
          ]
         },
         "layout": {
          "annotationdefaults": {
           "arrowcolor": "#2a3f5f",
           "arrowhead": 0,
           "arrowwidth": 1
          },
          "autotypenumbers": "strict",
          "coloraxis": {
           "colorbar": {
            "outlinewidth": 0,
            "ticks": ""
           }
          },
          "colorscale": {
           "diverging": [
            [
             0,
             "#8e0152"
            ],
            [
             0.1,
             "#c51b7d"
            ],
            [
             0.2,
             "#de77ae"
            ],
            [
             0.3,
             "#f1b6da"
            ],
            [
             0.4,
             "#fde0ef"
            ],
            [
             0.5,
             "#f7f7f7"
            ],
            [
             0.6,
             "#e6f5d0"
            ],
            [
             0.7,
             "#b8e186"
            ],
            [
             0.8,
             "#7fbc41"
            ],
            [
             0.9,
             "#4d9221"
            ],
            [
             1,
             "#276419"
            ]
           ],
           "sequential": [
            [
             0,
             "#0d0887"
            ],
            [
             0.1111111111111111,
             "#46039f"
            ],
            [
             0.2222222222222222,
             "#7201a8"
            ],
            [
             0.3333333333333333,
             "#9c179e"
            ],
            [
             0.4444444444444444,
             "#bd3786"
            ],
            [
             0.5555555555555556,
             "#d8576b"
            ],
            [
             0.6666666666666666,
             "#ed7953"
            ],
            [
             0.7777777777777778,
             "#fb9f3a"
            ],
            [
             0.8888888888888888,
             "#fdca26"
            ],
            [
             1,
             "#f0f921"
            ]
           ],
           "sequentialminus": [
            [
             0,
             "#0d0887"
            ],
            [
             0.1111111111111111,
             "#46039f"
            ],
            [
             0.2222222222222222,
             "#7201a8"
            ],
            [
             0.3333333333333333,
             "#9c179e"
            ],
            [
             0.4444444444444444,
             "#bd3786"
            ],
            [
             0.5555555555555556,
             "#d8576b"
            ],
            [
             0.6666666666666666,
             "#ed7953"
            ],
            [
             0.7777777777777778,
             "#fb9f3a"
            ],
            [
             0.8888888888888888,
             "#fdca26"
            ],
            [
             1,
             "#f0f921"
            ]
           ]
          },
          "colorway": [
           "#636efa",
           "#EF553B",
           "#00cc96",
           "#ab63fa",
           "#FFA15A",
           "#19d3f3",
           "#FF6692",
           "#B6E880",
           "#FF97FF",
           "#FECB52"
          ],
          "font": {
           "color": "#2a3f5f"
          },
          "geo": {
           "bgcolor": "white",
           "lakecolor": "white",
           "landcolor": "#E5ECF6",
           "showlakes": true,
           "showland": true,
           "subunitcolor": "white"
          },
          "hoverlabel": {
           "align": "left"
          },
          "hovermode": "closest",
          "mapbox": {
           "style": "light"
          },
          "paper_bgcolor": "white",
          "plot_bgcolor": "#E5ECF6",
          "polar": {
           "angularaxis": {
            "gridcolor": "white",
            "linecolor": "white",
            "ticks": ""
           },
           "bgcolor": "#E5ECF6",
           "radialaxis": {
            "gridcolor": "white",
            "linecolor": "white",
            "ticks": ""
           }
          },
          "scene": {
           "xaxis": {
            "backgroundcolor": "#E5ECF6",
            "gridcolor": "white",
            "gridwidth": 2,
            "linecolor": "white",
            "showbackground": true,
            "ticks": "",
            "zerolinecolor": "white"
           },
           "yaxis": {
            "backgroundcolor": "#E5ECF6",
            "gridcolor": "white",
            "gridwidth": 2,
            "linecolor": "white",
            "showbackground": true,
            "ticks": "",
            "zerolinecolor": "white"
           },
           "zaxis": {
            "backgroundcolor": "#E5ECF6",
            "gridcolor": "white",
            "gridwidth": 2,
            "linecolor": "white",
            "showbackground": true,
            "ticks": "",
            "zerolinecolor": "white"
           }
          },
          "shapedefaults": {
           "line": {
            "color": "#2a3f5f"
           }
          },
          "ternary": {
           "aaxis": {
            "gridcolor": "white",
            "linecolor": "white",
            "ticks": ""
           },
           "baxis": {
            "gridcolor": "white",
            "linecolor": "white",
            "ticks": ""
           },
           "bgcolor": "#E5ECF6",
           "caxis": {
            "gridcolor": "white",
            "linecolor": "white",
            "ticks": ""
           }
          },
          "title": {
           "x": 0.05
          },
          "xaxis": {
           "automargin": true,
           "gridcolor": "white",
           "linecolor": "white",
           "ticks": "",
           "title": {
            "standoff": 15
           },
           "zerolinecolor": "white",
           "zerolinewidth": 2
          },
          "yaxis": {
           "automargin": true,
           "gridcolor": "white",
           "linecolor": "white",
           "ticks": "",
           "title": {
            "standoff": 15
           },
           "zerolinecolor": "white",
           "zerolinewidth": 2
          }
         }
        },
        "title": {
         "text": "Actual and Predicted Wheel Speeds, Recording 2, Trial 0"
        },
        "xaxis": {
         "title": {
          "text": "Time"
         }
        },
        "yaxis": {
         "title": {
          "text": "Value"
         }
        }
       }
      }
     },
     "metadata": {},
     "output_type": "display_data"
    },
    {
     "data": {
      "application/vnd.plotly.v1+json": {
       "config": {
        "plotlyServerURL": "https://plot.ly"
       },
       "data": [
        {
         "name": "Actual",
         "type": "scatter",
         "y": [
          -0.02016184851527214,
          -0.013642816804349422,
          -0.011432936415076256,
          -0.012151564471423626,
          -0.010329855605959892,
          0.021849073469638824,
          0.015822000801563263,
          -0.01278135646134615,
          -0.022640101611614227,
          -0.010595601983368397,
          0.48933470249176025,
          1.1050357818603516,
          1.299189567565918,
          1.0102787017822266,
          0.8094383478164673,
          0.664294958114624,
          -0.07086057960987091,
          -1.4157001972198486,
          -1.9744850397109985,
          -1.934929370880127,
          -1.5909849405288696,
          -1.2784053087234497,
          -1.4049890041351318,
          -1.4407531023025513,
          -0.3738059997558594,
          0.1545269638299942,
          0.04994704946875572,
          -0.1090461015701294,
          -0.3042653501033783,
          -0.48857370018959045,
          -0.6245169043540955,
          -0.7614127993583679,
          -0.9457557797431946,
          -1.1290346384048462,
          -1.2599709033966064,
          -1.143101692199707,
          -1.092350721359253,
          -1.0667970180511475,
          -1.067347764968872,
          -1.0581932067871094
         ]
        },
        {
         "name": "Predicted",
         "type": "scatter",
         "y": [
          0.01502913236618042,
          -0.015487268567085266,
          0.029745373874902725,
          -0.008161544799804688,
          -0.0007775202393531799,
          0.04100293293595314,
          -0.09980255365371704,
          0.00033534690737724304,
          -0.03949913755059242,
          0.005495045334100723,
          -0.24823155999183655,
          -0.7124305367469788,
          -0.39236611127853394,
          0.7676953077316284,
          1.0626481771469116,
          1.1684651374816895,
          0.41446399688720703,
          -0.3424310088157654,
          -0.3658730387687683,
          -0.01802058145403862,
          0.71319580078125,
          0.5959442853927612,
          0.3176719546318054,
          0.4992433786392212,
          0.010031990706920624,
          0.2847687602043152,
          0.47212520241737366,
          0.34584084153175354,
          0.33622729778289795,
          0.0621129646897316,
          -0.3521605134010315,
          -0.5030558109283447,
          -0.5930651426315308,
          0.20888082683086395,
          0.2926308214664459,
          0.24727517366409302,
          0.419508159160614,
          0.3620786666870117,
          0.35736072063446045,
          0.355724573135376
         ]
        }
       ],
       "layout": {
        "template": {
         "data": {
          "bar": [
           {
            "error_x": {
             "color": "#2a3f5f"
            },
            "error_y": {
             "color": "#2a3f5f"
            },
            "marker": {
             "line": {
              "color": "#E5ECF6",
              "width": 0.5
             },
             "pattern": {
              "fillmode": "overlay",
              "size": 10,
              "solidity": 0.2
             }
            },
            "type": "bar"
           }
          ],
          "barpolar": [
           {
            "marker": {
             "line": {
              "color": "#E5ECF6",
              "width": 0.5
             },
             "pattern": {
              "fillmode": "overlay",
              "size": 10,
              "solidity": 0.2
             }
            },
            "type": "barpolar"
           }
          ],
          "carpet": [
           {
            "aaxis": {
             "endlinecolor": "#2a3f5f",
             "gridcolor": "white",
             "linecolor": "white",
             "minorgridcolor": "white",
             "startlinecolor": "#2a3f5f"
            },
            "baxis": {
             "endlinecolor": "#2a3f5f",
             "gridcolor": "white",
             "linecolor": "white",
             "minorgridcolor": "white",
             "startlinecolor": "#2a3f5f"
            },
            "type": "carpet"
           }
          ],
          "choropleth": [
           {
            "colorbar": {
             "outlinewidth": 0,
             "ticks": ""
            },
            "type": "choropleth"
           }
          ],
          "contour": [
           {
            "colorbar": {
             "outlinewidth": 0,
             "ticks": ""
            },
            "colorscale": [
             [
              0,
              "#0d0887"
             ],
             [
              0.1111111111111111,
              "#46039f"
             ],
             [
              0.2222222222222222,
              "#7201a8"
             ],
             [
              0.3333333333333333,
              "#9c179e"
             ],
             [
              0.4444444444444444,
              "#bd3786"
             ],
             [
              0.5555555555555556,
              "#d8576b"
             ],
             [
              0.6666666666666666,
              "#ed7953"
             ],
             [
              0.7777777777777778,
              "#fb9f3a"
             ],
             [
              0.8888888888888888,
              "#fdca26"
             ],
             [
              1,
              "#f0f921"
             ]
            ],
            "type": "contour"
           }
          ],
          "contourcarpet": [
           {
            "colorbar": {
             "outlinewidth": 0,
             "ticks": ""
            },
            "type": "contourcarpet"
           }
          ],
          "heatmap": [
           {
            "colorbar": {
             "outlinewidth": 0,
             "ticks": ""
            },
            "colorscale": [
             [
              0,
              "#0d0887"
             ],
             [
              0.1111111111111111,
              "#46039f"
             ],
             [
              0.2222222222222222,
              "#7201a8"
             ],
             [
              0.3333333333333333,
              "#9c179e"
             ],
             [
              0.4444444444444444,
              "#bd3786"
             ],
             [
              0.5555555555555556,
              "#d8576b"
             ],
             [
              0.6666666666666666,
              "#ed7953"
             ],
             [
              0.7777777777777778,
              "#fb9f3a"
             ],
             [
              0.8888888888888888,
              "#fdca26"
             ],
             [
              1,
              "#f0f921"
             ]
            ],
            "type": "heatmap"
           }
          ],
          "heatmapgl": [
           {
            "colorbar": {
             "outlinewidth": 0,
             "ticks": ""
            },
            "colorscale": [
             [
              0,
              "#0d0887"
             ],
             [
              0.1111111111111111,
              "#46039f"
             ],
             [
              0.2222222222222222,
              "#7201a8"
             ],
             [
              0.3333333333333333,
              "#9c179e"
             ],
             [
              0.4444444444444444,
              "#bd3786"
             ],
             [
              0.5555555555555556,
              "#d8576b"
             ],
             [
              0.6666666666666666,
              "#ed7953"
             ],
             [
              0.7777777777777778,
              "#fb9f3a"
             ],
             [
              0.8888888888888888,
              "#fdca26"
             ],
             [
              1,
              "#f0f921"
             ]
            ],
            "type": "heatmapgl"
           }
          ],
          "histogram": [
           {
            "marker": {
             "pattern": {
              "fillmode": "overlay",
              "size": 10,
              "solidity": 0.2
             }
            },
            "type": "histogram"
           }
          ],
          "histogram2d": [
           {
            "colorbar": {
             "outlinewidth": 0,
             "ticks": ""
            },
            "colorscale": [
             [
              0,
              "#0d0887"
             ],
             [
              0.1111111111111111,
              "#46039f"
             ],
             [
              0.2222222222222222,
              "#7201a8"
             ],
             [
              0.3333333333333333,
              "#9c179e"
             ],
             [
              0.4444444444444444,
              "#bd3786"
             ],
             [
              0.5555555555555556,
              "#d8576b"
             ],
             [
              0.6666666666666666,
              "#ed7953"
             ],
             [
              0.7777777777777778,
              "#fb9f3a"
             ],
             [
              0.8888888888888888,
              "#fdca26"
             ],
             [
              1,
              "#f0f921"
             ]
            ],
            "type": "histogram2d"
           }
          ],
          "histogram2dcontour": [
           {
            "colorbar": {
             "outlinewidth": 0,
             "ticks": ""
            },
            "colorscale": [
             [
              0,
              "#0d0887"
             ],
             [
              0.1111111111111111,
              "#46039f"
             ],
             [
              0.2222222222222222,
              "#7201a8"
             ],
             [
              0.3333333333333333,
              "#9c179e"
             ],
             [
              0.4444444444444444,
              "#bd3786"
             ],
             [
              0.5555555555555556,
              "#d8576b"
             ],
             [
              0.6666666666666666,
              "#ed7953"
             ],
             [
              0.7777777777777778,
              "#fb9f3a"
             ],
             [
              0.8888888888888888,
              "#fdca26"
             ],
             [
              1,
              "#f0f921"
             ]
            ],
            "type": "histogram2dcontour"
           }
          ],
          "mesh3d": [
           {
            "colorbar": {
             "outlinewidth": 0,
             "ticks": ""
            },
            "type": "mesh3d"
           }
          ],
          "parcoords": [
           {
            "line": {
             "colorbar": {
              "outlinewidth": 0,
              "ticks": ""
             }
            },
            "type": "parcoords"
           }
          ],
          "pie": [
           {
            "automargin": true,
            "type": "pie"
           }
          ],
          "scatter": [
           {
            "fillpattern": {
             "fillmode": "overlay",
             "size": 10,
             "solidity": 0.2
            },
            "type": "scatter"
           }
          ],
          "scatter3d": [
           {
            "line": {
             "colorbar": {
              "outlinewidth": 0,
              "ticks": ""
             }
            },
            "marker": {
             "colorbar": {
              "outlinewidth": 0,
              "ticks": ""
             }
            },
            "type": "scatter3d"
           }
          ],
          "scattercarpet": [
           {
            "marker": {
             "colorbar": {
              "outlinewidth": 0,
              "ticks": ""
             }
            },
            "type": "scattercarpet"
           }
          ],
          "scattergeo": [
           {
            "marker": {
             "colorbar": {
              "outlinewidth": 0,
              "ticks": ""
             }
            },
            "type": "scattergeo"
           }
          ],
          "scattergl": [
           {
            "marker": {
             "colorbar": {
              "outlinewidth": 0,
              "ticks": ""
             }
            },
            "type": "scattergl"
           }
          ],
          "scattermapbox": [
           {
            "marker": {
             "colorbar": {
              "outlinewidth": 0,
              "ticks": ""
             }
            },
            "type": "scattermapbox"
           }
          ],
          "scatterpolar": [
           {
            "marker": {
             "colorbar": {
              "outlinewidth": 0,
              "ticks": ""
             }
            },
            "type": "scatterpolar"
           }
          ],
          "scatterpolargl": [
           {
            "marker": {
             "colorbar": {
              "outlinewidth": 0,
              "ticks": ""
             }
            },
            "type": "scatterpolargl"
           }
          ],
          "scatterternary": [
           {
            "marker": {
             "colorbar": {
              "outlinewidth": 0,
              "ticks": ""
             }
            },
            "type": "scatterternary"
           }
          ],
          "surface": [
           {
            "colorbar": {
             "outlinewidth": 0,
             "ticks": ""
            },
            "colorscale": [
             [
              0,
              "#0d0887"
             ],
             [
              0.1111111111111111,
              "#46039f"
             ],
             [
              0.2222222222222222,
              "#7201a8"
             ],
             [
              0.3333333333333333,
              "#9c179e"
             ],
             [
              0.4444444444444444,
              "#bd3786"
             ],
             [
              0.5555555555555556,
              "#d8576b"
             ],
             [
              0.6666666666666666,
              "#ed7953"
             ],
             [
              0.7777777777777778,
              "#fb9f3a"
             ],
             [
              0.8888888888888888,
              "#fdca26"
             ],
             [
              1,
              "#f0f921"
             ]
            ],
            "type": "surface"
           }
          ],
          "table": [
           {
            "cells": {
             "fill": {
              "color": "#EBF0F8"
             },
             "line": {
              "color": "white"
             }
            },
            "header": {
             "fill": {
              "color": "#C8D4E3"
             },
             "line": {
              "color": "white"
             }
            },
            "type": "table"
           }
          ]
         },
         "layout": {
          "annotationdefaults": {
           "arrowcolor": "#2a3f5f",
           "arrowhead": 0,
           "arrowwidth": 1
          },
          "autotypenumbers": "strict",
          "coloraxis": {
           "colorbar": {
            "outlinewidth": 0,
            "ticks": ""
           }
          },
          "colorscale": {
           "diverging": [
            [
             0,
             "#8e0152"
            ],
            [
             0.1,
             "#c51b7d"
            ],
            [
             0.2,
             "#de77ae"
            ],
            [
             0.3,
             "#f1b6da"
            ],
            [
             0.4,
             "#fde0ef"
            ],
            [
             0.5,
             "#f7f7f7"
            ],
            [
             0.6,
             "#e6f5d0"
            ],
            [
             0.7,
             "#b8e186"
            ],
            [
             0.8,
             "#7fbc41"
            ],
            [
             0.9,
             "#4d9221"
            ],
            [
             1,
             "#276419"
            ]
           ],
           "sequential": [
            [
             0,
             "#0d0887"
            ],
            [
             0.1111111111111111,
             "#46039f"
            ],
            [
             0.2222222222222222,
             "#7201a8"
            ],
            [
             0.3333333333333333,
             "#9c179e"
            ],
            [
             0.4444444444444444,
             "#bd3786"
            ],
            [
             0.5555555555555556,
             "#d8576b"
            ],
            [
             0.6666666666666666,
             "#ed7953"
            ],
            [
             0.7777777777777778,
             "#fb9f3a"
            ],
            [
             0.8888888888888888,
             "#fdca26"
            ],
            [
             1,
             "#f0f921"
            ]
           ],
           "sequentialminus": [
            [
             0,
             "#0d0887"
            ],
            [
             0.1111111111111111,
             "#46039f"
            ],
            [
             0.2222222222222222,
             "#7201a8"
            ],
            [
             0.3333333333333333,
             "#9c179e"
            ],
            [
             0.4444444444444444,
             "#bd3786"
            ],
            [
             0.5555555555555556,
             "#d8576b"
            ],
            [
             0.6666666666666666,
             "#ed7953"
            ],
            [
             0.7777777777777778,
             "#fb9f3a"
            ],
            [
             0.8888888888888888,
             "#fdca26"
            ],
            [
             1,
             "#f0f921"
            ]
           ]
          },
          "colorway": [
           "#636efa",
           "#EF553B",
           "#00cc96",
           "#ab63fa",
           "#FFA15A",
           "#19d3f3",
           "#FF6692",
           "#B6E880",
           "#FF97FF",
           "#FECB52"
          ],
          "font": {
           "color": "#2a3f5f"
          },
          "geo": {
           "bgcolor": "white",
           "lakecolor": "white",
           "landcolor": "#E5ECF6",
           "showlakes": true,
           "showland": true,
           "subunitcolor": "white"
          },
          "hoverlabel": {
           "align": "left"
          },
          "hovermode": "closest",
          "mapbox": {
           "style": "light"
          },
          "paper_bgcolor": "white",
          "plot_bgcolor": "#E5ECF6",
          "polar": {
           "angularaxis": {
            "gridcolor": "white",
            "linecolor": "white",
            "ticks": ""
           },
           "bgcolor": "#E5ECF6",
           "radialaxis": {
            "gridcolor": "white",
            "linecolor": "white",
            "ticks": ""
           }
          },
          "scene": {
           "xaxis": {
            "backgroundcolor": "#E5ECF6",
            "gridcolor": "white",
            "gridwidth": 2,
            "linecolor": "white",
            "showbackground": true,
            "ticks": "",
            "zerolinecolor": "white"
           },
           "yaxis": {
            "backgroundcolor": "#E5ECF6",
            "gridcolor": "white",
            "gridwidth": 2,
            "linecolor": "white",
            "showbackground": true,
            "ticks": "",
            "zerolinecolor": "white"
           },
           "zaxis": {
            "backgroundcolor": "#E5ECF6",
            "gridcolor": "white",
            "gridwidth": 2,
            "linecolor": "white",
            "showbackground": true,
            "ticks": "",
            "zerolinecolor": "white"
           }
          },
          "shapedefaults": {
           "line": {
            "color": "#2a3f5f"
           }
          },
          "ternary": {
           "aaxis": {
            "gridcolor": "white",
            "linecolor": "white",
            "ticks": ""
           },
           "baxis": {
            "gridcolor": "white",
            "linecolor": "white",
            "ticks": ""
           },
           "bgcolor": "#E5ECF6",
           "caxis": {
            "gridcolor": "white",
            "linecolor": "white",
            "ticks": ""
           }
          },
          "title": {
           "x": 0.05
          },
          "xaxis": {
           "automargin": true,
           "gridcolor": "white",
           "linecolor": "white",
           "ticks": "",
           "title": {
            "standoff": 15
           },
           "zerolinecolor": "white",
           "zerolinewidth": 2
          },
          "yaxis": {
           "automargin": true,
           "gridcolor": "white",
           "linecolor": "white",
           "ticks": "",
           "title": {
            "standoff": 15
           },
           "zerolinecolor": "white",
           "zerolinewidth": 2
          }
         }
        },
        "title": {
         "text": "Actual and Predicted Wheel Speeds, Recording 2, Trial 1"
        },
        "xaxis": {
         "title": {
          "text": "Time"
         }
        },
        "yaxis": {
         "title": {
          "text": "Value"
         }
        }
       }
      }
     },
     "metadata": {},
     "output_type": "display_data"
    },
    {
     "data": {
      "application/vnd.plotly.v1+json": {
       "config": {
        "plotlyServerURL": "https://plot.ly"
       },
       "data": [
        {
         "name": "Actual",
         "type": "scatter",
         "y": [
          -0.02016184851527214,
          -0.013642816804349422,
          -0.011432936415076256,
          -0.004279654007405043,
          -0.010329855605959892,
          -0.0095939626917243,
          -0.010995253920555115,
          -0.007385107222944498,
          -0.022640101611614227,
          0.0064379810355603695,
          0.8096630573272705,
          3.1706295013427734,
          4.799126625061035,
          4.104753494262695,
          3.9127345085144043,
          5.427937984466553,
          6.136295318603516,
          6.072101593017578,
          5.886563777923584,
          3.876408100128174,
          0.0754312202334404,
          -1.3314526081085205,
          -1.2661430835723877,
          -1.7426952123641968,
          -1.5344771146774292,
          -1.743521809577942,
          0.0880047008395195,
          1.8824304342269897,
          2.228466033935547,
          2.8539698123931885,
          3.2772090435028076,
          3.412461280822754,
          3.488516330718994,
          3.2975733280181885,
          3.311741590499878,
          2.4158146381378174,
          0.8167269229888916,
          -0.49114322662353516,
          0.21329644322395325,
          0.6844261288642883
         ]
        },
        {
         "name": "Predicted",
         "type": "scatter",
         "y": [
          0.017553724348545074,
          0.05511077493429184,
          0.02645951509475708,
          0.01794874668121338,
          -0.047691911458969116,
          0.028094582259655,
          0.0035537779331207275,
          -0.017222091555595398,
          -0.03050922602415085,
          -0.13828116655349731,
          -0.677841067314148,
          -0.12655211985111237,
          1.6057783365249634,
          2.1237339973449707,
          2.1079459190368652,
          2.420982599258423,
          2.2718257904052734,
          2.0018811225891113,
          1.6945204734802246,
          1.5011926889419556,
          1.300036072731018,
          0.9760903120040894,
          1.1503818035125732,
          0.30288395285606384,
          -0.7430722713470459,
          -0.1076870933175087,
          1.208458423614502,
          1.394226312637329,
          1.064246416091919,
          0.6953288912773132,
          0.12851160764694214,
          -0.2036253660917282,
          -0.5038491487503052,
          -0.8988568782806396,
          -1.0573759078979492,
          -1.2428871393203735,
          -1.249679684638977,
          -1.7284040451049805,
          -1.7869073152542114,
          -1.1125990152359009
         ]
        }
       ],
       "layout": {
        "template": {
         "data": {
          "bar": [
           {
            "error_x": {
             "color": "#2a3f5f"
            },
            "error_y": {
             "color": "#2a3f5f"
            },
            "marker": {
             "line": {
              "color": "#E5ECF6",
              "width": 0.5
             },
             "pattern": {
              "fillmode": "overlay",
              "size": 10,
              "solidity": 0.2
             }
            },
            "type": "bar"
           }
          ],
          "barpolar": [
           {
            "marker": {
             "line": {
              "color": "#E5ECF6",
              "width": 0.5
             },
             "pattern": {
              "fillmode": "overlay",
              "size": 10,
              "solidity": 0.2
             }
            },
            "type": "barpolar"
           }
          ],
          "carpet": [
           {
            "aaxis": {
             "endlinecolor": "#2a3f5f",
             "gridcolor": "white",
             "linecolor": "white",
             "minorgridcolor": "white",
             "startlinecolor": "#2a3f5f"
            },
            "baxis": {
             "endlinecolor": "#2a3f5f",
             "gridcolor": "white",
             "linecolor": "white",
             "minorgridcolor": "white",
             "startlinecolor": "#2a3f5f"
            },
            "type": "carpet"
           }
          ],
          "choropleth": [
           {
            "colorbar": {
             "outlinewidth": 0,
             "ticks": ""
            },
            "type": "choropleth"
           }
          ],
          "contour": [
           {
            "colorbar": {
             "outlinewidth": 0,
             "ticks": ""
            },
            "colorscale": [
             [
              0,
              "#0d0887"
             ],
             [
              0.1111111111111111,
              "#46039f"
             ],
             [
              0.2222222222222222,
              "#7201a8"
             ],
             [
              0.3333333333333333,
              "#9c179e"
             ],
             [
              0.4444444444444444,
              "#bd3786"
             ],
             [
              0.5555555555555556,
              "#d8576b"
             ],
             [
              0.6666666666666666,
              "#ed7953"
             ],
             [
              0.7777777777777778,
              "#fb9f3a"
             ],
             [
              0.8888888888888888,
              "#fdca26"
             ],
             [
              1,
              "#f0f921"
             ]
            ],
            "type": "contour"
           }
          ],
          "contourcarpet": [
           {
            "colorbar": {
             "outlinewidth": 0,
             "ticks": ""
            },
            "type": "contourcarpet"
           }
          ],
          "heatmap": [
           {
            "colorbar": {
             "outlinewidth": 0,
             "ticks": ""
            },
            "colorscale": [
             [
              0,
              "#0d0887"
             ],
             [
              0.1111111111111111,
              "#46039f"
             ],
             [
              0.2222222222222222,
              "#7201a8"
             ],
             [
              0.3333333333333333,
              "#9c179e"
             ],
             [
              0.4444444444444444,
              "#bd3786"
             ],
             [
              0.5555555555555556,
              "#d8576b"
             ],
             [
              0.6666666666666666,
              "#ed7953"
             ],
             [
              0.7777777777777778,
              "#fb9f3a"
             ],
             [
              0.8888888888888888,
              "#fdca26"
             ],
             [
              1,
              "#f0f921"
             ]
            ],
            "type": "heatmap"
           }
          ],
          "heatmapgl": [
           {
            "colorbar": {
             "outlinewidth": 0,
             "ticks": ""
            },
            "colorscale": [
             [
              0,
              "#0d0887"
             ],
             [
              0.1111111111111111,
              "#46039f"
             ],
             [
              0.2222222222222222,
              "#7201a8"
             ],
             [
              0.3333333333333333,
              "#9c179e"
             ],
             [
              0.4444444444444444,
              "#bd3786"
             ],
             [
              0.5555555555555556,
              "#d8576b"
             ],
             [
              0.6666666666666666,
              "#ed7953"
             ],
             [
              0.7777777777777778,
              "#fb9f3a"
             ],
             [
              0.8888888888888888,
              "#fdca26"
             ],
             [
              1,
              "#f0f921"
             ]
            ],
            "type": "heatmapgl"
           }
          ],
          "histogram": [
           {
            "marker": {
             "pattern": {
              "fillmode": "overlay",
              "size": 10,
              "solidity": 0.2
             }
            },
            "type": "histogram"
           }
          ],
          "histogram2d": [
           {
            "colorbar": {
             "outlinewidth": 0,
             "ticks": ""
            },
            "colorscale": [
             [
              0,
              "#0d0887"
             ],
             [
              0.1111111111111111,
              "#46039f"
             ],
             [
              0.2222222222222222,
              "#7201a8"
             ],
             [
              0.3333333333333333,
              "#9c179e"
             ],
             [
              0.4444444444444444,
              "#bd3786"
             ],
             [
              0.5555555555555556,
              "#d8576b"
             ],
             [
              0.6666666666666666,
              "#ed7953"
             ],
             [
              0.7777777777777778,
              "#fb9f3a"
             ],
             [
              0.8888888888888888,
              "#fdca26"
             ],
             [
              1,
              "#f0f921"
             ]
            ],
            "type": "histogram2d"
           }
          ],
          "histogram2dcontour": [
           {
            "colorbar": {
             "outlinewidth": 0,
             "ticks": ""
            },
            "colorscale": [
             [
              0,
              "#0d0887"
             ],
             [
              0.1111111111111111,
              "#46039f"
             ],
             [
              0.2222222222222222,
              "#7201a8"
             ],
             [
              0.3333333333333333,
              "#9c179e"
             ],
             [
              0.4444444444444444,
              "#bd3786"
             ],
             [
              0.5555555555555556,
              "#d8576b"
             ],
             [
              0.6666666666666666,
              "#ed7953"
             ],
             [
              0.7777777777777778,
              "#fb9f3a"
             ],
             [
              0.8888888888888888,
              "#fdca26"
             ],
             [
              1,
              "#f0f921"
             ]
            ],
            "type": "histogram2dcontour"
           }
          ],
          "mesh3d": [
           {
            "colorbar": {
             "outlinewidth": 0,
             "ticks": ""
            },
            "type": "mesh3d"
           }
          ],
          "parcoords": [
           {
            "line": {
             "colorbar": {
              "outlinewidth": 0,
              "ticks": ""
             }
            },
            "type": "parcoords"
           }
          ],
          "pie": [
           {
            "automargin": true,
            "type": "pie"
           }
          ],
          "scatter": [
           {
            "fillpattern": {
             "fillmode": "overlay",
             "size": 10,
             "solidity": 0.2
            },
            "type": "scatter"
           }
          ],
          "scatter3d": [
           {
            "line": {
             "colorbar": {
              "outlinewidth": 0,
              "ticks": ""
             }
            },
            "marker": {
             "colorbar": {
              "outlinewidth": 0,
              "ticks": ""
             }
            },
            "type": "scatter3d"
           }
          ],
          "scattercarpet": [
           {
            "marker": {
             "colorbar": {
              "outlinewidth": 0,
              "ticks": ""
             }
            },
            "type": "scattercarpet"
           }
          ],
          "scattergeo": [
           {
            "marker": {
             "colorbar": {
              "outlinewidth": 0,
              "ticks": ""
             }
            },
            "type": "scattergeo"
           }
          ],
          "scattergl": [
           {
            "marker": {
             "colorbar": {
              "outlinewidth": 0,
              "ticks": ""
             }
            },
            "type": "scattergl"
           }
          ],
          "scattermapbox": [
           {
            "marker": {
             "colorbar": {
              "outlinewidth": 0,
              "ticks": ""
             }
            },
            "type": "scattermapbox"
           }
          ],
          "scatterpolar": [
           {
            "marker": {
             "colorbar": {
              "outlinewidth": 0,
              "ticks": ""
             }
            },
            "type": "scatterpolar"
           }
          ],
          "scatterpolargl": [
           {
            "marker": {
             "colorbar": {
              "outlinewidth": 0,
              "ticks": ""
             }
            },
            "type": "scatterpolargl"
           }
          ],
          "scatterternary": [
           {
            "marker": {
             "colorbar": {
              "outlinewidth": 0,
              "ticks": ""
             }
            },
            "type": "scatterternary"
           }
          ],
          "surface": [
           {
            "colorbar": {
             "outlinewidth": 0,
             "ticks": ""
            },
            "colorscale": [
             [
              0,
              "#0d0887"
             ],
             [
              0.1111111111111111,
              "#46039f"
             ],
             [
              0.2222222222222222,
              "#7201a8"
             ],
             [
              0.3333333333333333,
              "#9c179e"
             ],
             [
              0.4444444444444444,
              "#bd3786"
             ],
             [
              0.5555555555555556,
              "#d8576b"
             ],
             [
              0.6666666666666666,
              "#ed7953"
             ],
             [
              0.7777777777777778,
              "#fb9f3a"
             ],
             [
              0.8888888888888888,
              "#fdca26"
             ],
             [
              1,
              "#f0f921"
             ]
            ],
            "type": "surface"
           }
          ],
          "table": [
           {
            "cells": {
             "fill": {
              "color": "#EBF0F8"
             },
             "line": {
              "color": "white"
             }
            },
            "header": {
             "fill": {
              "color": "#C8D4E3"
             },
             "line": {
              "color": "white"
             }
            },
            "type": "table"
           }
          ]
         },
         "layout": {
          "annotationdefaults": {
           "arrowcolor": "#2a3f5f",
           "arrowhead": 0,
           "arrowwidth": 1
          },
          "autotypenumbers": "strict",
          "coloraxis": {
           "colorbar": {
            "outlinewidth": 0,
            "ticks": ""
           }
          },
          "colorscale": {
           "diverging": [
            [
             0,
             "#8e0152"
            ],
            [
             0.1,
             "#c51b7d"
            ],
            [
             0.2,
             "#de77ae"
            ],
            [
             0.3,
             "#f1b6da"
            ],
            [
             0.4,
             "#fde0ef"
            ],
            [
             0.5,
             "#f7f7f7"
            ],
            [
             0.6,
             "#e6f5d0"
            ],
            [
             0.7,
             "#b8e186"
            ],
            [
             0.8,
             "#7fbc41"
            ],
            [
             0.9,
             "#4d9221"
            ],
            [
             1,
             "#276419"
            ]
           ],
           "sequential": [
            [
             0,
             "#0d0887"
            ],
            [
             0.1111111111111111,
             "#46039f"
            ],
            [
             0.2222222222222222,
             "#7201a8"
            ],
            [
             0.3333333333333333,
             "#9c179e"
            ],
            [
             0.4444444444444444,
             "#bd3786"
            ],
            [
             0.5555555555555556,
             "#d8576b"
            ],
            [
             0.6666666666666666,
             "#ed7953"
            ],
            [
             0.7777777777777778,
             "#fb9f3a"
            ],
            [
             0.8888888888888888,
             "#fdca26"
            ],
            [
             1,
             "#f0f921"
            ]
           ],
           "sequentialminus": [
            [
             0,
             "#0d0887"
            ],
            [
             0.1111111111111111,
             "#46039f"
            ],
            [
             0.2222222222222222,
             "#7201a8"
            ],
            [
             0.3333333333333333,
             "#9c179e"
            ],
            [
             0.4444444444444444,
             "#bd3786"
            ],
            [
             0.5555555555555556,
             "#d8576b"
            ],
            [
             0.6666666666666666,
             "#ed7953"
            ],
            [
             0.7777777777777778,
             "#fb9f3a"
            ],
            [
             0.8888888888888888,
             "#fdca26"
            ],
            [
             1,
             "#f0f921"
            ]
           ]
          },
          "colorway": [
           "#636efa",
           "#EF553B",
           "#00cc96",
           "#ab63fa",
           "#FFA15A",
           "#19d3f3",
           "#FF6692",
           "#B6E880",
           "#FF97FF",
           "#FECB52"
          ],
          "font": {
           "color": "#2a3f5f"
          },
          "geo": {
           "bgcolor": "white",
           "lakecolor": "white",
           "landcolor": "#E5ECF6",
           "showlakes": true,
           "showland": true,
           "subunitcolor": "white"
          },
          "hoverlabel": {
           "align": "left"
          },
          "hovermode": "closest",
          "mapbox": {
           "style": "light"
          },
          "paper_bgcolor": "white",
          "plot_bgcolor": "#E5ECF6",
          "polar": {
           "angularaxis": {
            "gridcolor": "white",
            "linecolor": "white",
            "ticks": ""
           },
           "bgcolor": "#E5ECF6",
           "radialaxis": {
            "gridcolor": "white",
            "linecolor": "white",
            "ticks": ""
           }
          },
          "scene": {
           "xaxis": {
            "backgroundcolor": "#E5ECF6",
            "gridcolor": "white",
            "gridwidth": 2,
            "linecolor": "white",
            "showbackground": true,
            "ticks": "",
            "zerolinecolor": "white"
           },
           "yaxis": {
            "backgroundcolor": "#E5ECF6",
            "gridcolor": "white",
            "gridwidth": 2,
            "linecolor": "white",
            "showbackground": true,
            "ticks": "",
            "zerolinecolor": "white"
           },
           "zaxis": {
            "backgroundcolor": "#E5ECF6",
            "gridcolor": "white",
            "gridwidth": 2,
            "linecolor": "white",
            "showbackground": true,
            "ticks": "",
            "zerolinecolor": "white"
           }
          },
          "shapedefaults": {
           "line": {
            "color": "#2a3f5f"
           }
          },
          "ternary": {
           "aaxis": {
            "gridcolor": "white",
            "linecolor": "white",
            "ticks": ""
           },
           "baxis": {
            "gridcolor": "white",
            "linecolor": "white",
            "ticks": ""
           },
           "bgcolor": "#E5ECF6",
           "caxis": {
            "gridcolor": "white",
            "linecolor": "white",
            "ticks": ""
           }
          },
          "title": {
           "x": 0.05
          },
          "xaxis": {
           "automargin": true,
           "gridcolor": "white",
           "linecolor": "white",
           "ticks": "",
           "title": {
            "standoff": 15
           },
           "zerolinecolor": "white",
           "zerolinewidth": 2
          },
          "yaxis": {
           "automargin": true,
           "gridcolor": "white",
           "linecolor": "white",
           "ticks": "",
           "title": {
            "standoff": 15
           },
           "zerolinecolor": "white",
           "zerolinewidth": 2
          }
         }
        },
        "title": {
         "text": "Actual and Predicted Wheel Speeds, Recording 2, Trial 2"
        },
        "xaxis": {
         "title": {
          "text": "Time"
         }
        },
        "yaxis": {
         "title": {
          "text": "Value"
         }
        }
       }
      }
     },
     "metadata": {},
     "output_type": "display_data"
    },
    {
     "name": "stdout",
     "output_type": "stream",
     "text": [
      "Evaluation, Recording 2, Loss 2.9157681465148926\n"
     ]
    },
    {
     "data": {
      "application/vnd.plotly.v1+json": {
       "config": {
        "plotlyServerURL": "https://plot.ly"
       },
       "data": [
        {
         "name": "Actual",
         "type": "scatter",
         "y": [
          -0.03389616310596466,
          -0.02926291525363922,
          -0.02275513857603073,
          -0.017788242548704147,
          -0.018560390919446945,
          -0.014897800981998444,
          -0.0065145730040967464,
          -0.013359218835830688,
          -0.01382478978484869,
          -0.033015113323926926,
          -0.2097916454076767,
          -0.9782955646514893,
          -1.8996014595031738,
          1.2012883424758911,
          2.301717758178711,
          -0.824211597442627,
          -0.5987086296081543,
          -0.6551246643066406,
          -2.58449649810791,
          -1.0164778232574463,
          -1.155308723449707,
          -1.7886821031570435,
          -1.9050709009170532,
          -1.8198020458221436,
          -1.5097812414169312,
          -1.3883122205734253,
          -1.338552474975586,
          -1.1520835161209106,
          -1.0348669290542603,
          -0.9316070079803467,
          -0.8196165561676025,
          -0.8068332076072693,
          -0.6965339183807373,
          -0.655745804309845,
          -0.5185860991477966,
          -0.45918214321136475,
          -0.4068670868873596,
          -0.37611567974090576,
          -0.33584025502204895,
          -0.19342322647571564
         ]
        },
        {
         "name": "Predicted",
         "type": "scatter",
         "y": [
          0.06475019454956055,
          0.004756424576044083,
          -0.012479729950428009,
          -0.009245740249752998,
          -0.04595322161912918,
          -0.006928993389010429,
          -0.0037567317485809326,
          -0.05710843950510025,
          -0.06913580745458603,
          -0.04527103155851364,
          -0.9879081845283508,
          -2.1048989295959473,
          -1.5714977979660034,
          -0.12737342715263367,
          0.05369406193494797,
          -0.0801653265953064,
          -0.14514878392219543,
          -0.5827381610870361,
          -1.2202154397964478,
          -1.2522627115249634,
          -0.737796425819397,
          0.3000034987926483,
          0.5145007371902466,
          1.0299568176269531,
          1.0202057361602783,
          0.2964167296886444,
          0.4767013192176819,
          0.28006574511528015,
          0.08642485737800598,
          0.2763288617134094,
          0.28753894567489624,
          0.5120227932929993,
          0.4793413281440735,
          -0.04211749881505966,
          -0.9070414900779724,
          -0.9669357538223267,
          -0.9141958951950073,
          -0.8942690491676331,
          -0.9060248136520386,
          -0.7389658689498901
         ]
        }
       ],
       "layout": {
        "template": {
         "data": {
          "bar": [
           {
            "error_x": {
             "color": "#2a3f5f"
            },
            "error_y": {
             "color": "#2a3f5f"
            },
            "marker": {
             "line": {
              "color": "#E5ECF6",
              "width": 0.5
             },
             "pattern": {
              "fillmode": "overlay",
              "size": 10,
              "solidity": 0.2
             }
            },
            "type": "bar"
           }
          ],
          "barpolar": [
           {
            "marker": {
             "line": {
              "color": "#E5ECF6",
              "width": 0.5
             },
             "pattern": {
              "fillmode": "overlay",
              "size": 10,
              "solidity": 0.2
             }
            },
            "type": "barpolar"
           }
          ],
          "carpet": [
           {
            "aaxis": {
             "endlinecolor": "#2a3f5f",
             "gridcolor": "white",
             "linecolor": "white",
             "minorgridcolor": "white",
             "startlinecolor": "#2a3f5f"
            },
            "baxis": {
             "endlinecolor": "#2a3f5f",
             "gridcolor": "white",
             "linecolor": "white",
             "minorgridcolor": "white",
             "startlinecolor": "#2a3f5f"
            },
            "type": "carpet"
           }
          ],
          "choropleth": [
           {
            "colorbar": {
             "outlinewidth": 0,
             "ticks": ""
            },
            "type": "choropleth"
           }
          ],
          "contour": [
           {
            "colorbar": {
             "outlinewidth": 0,
             "ticks": ""
            },
            "colorscale": [
             [
              0,
              "#0d0887"
             ],
             [
              0.1111111111111111,
              "#46039f"
             ],
             [
              0.2222222222222222,
              "#7201a8"
             ],
             [
              0.3333333333333333,
              "#9c179e"
             ],
             [
              0.4444444444444444,
              "#bd3786"
             ],
             [
              0.5555555555555556,
              "#d8576b"
             ],
             [
              0.6666666666666666,
              "#ed7953"
             ],
             [
              0.7777777777777778,
              "#fb9f3a"
             ],
             [
              0.8888888888888888,
              "#fdca26"
             ],
             [
              1,
              "#f0f921"
             ]
            ],
            "type": "contour"
           }
          ],
          "contourcarpet": [
           {
            "colorbar": {
             "outlinewidth": 0,
             "ticks": ""
            },
            "type": "contourcarpet"
           }
          ],
          "heatmap": [
           {
            "colorbar": {
             "outlinewidth": 0,
             "ticks": ""
            },
            "colorscale": [
             [
              0,
              "#0d0887"
             ],
             [
              0.1111111111111111,
              "#46039f"
             ],
             [
              0.2222222222222222,
              "#7201a8"
             ],
             [
              0.3333333333333333,
              "#9c179e"
             ],
             [
              0.4444444444444444,
              "#bd3786"
             ],
             [
              0.5555555555555556,
              "#d8576b"
             ],
             [
              0.6666666666666666,
              "#ed7953"
             ],
             [
              0.7777777777777778,
              "#fb9f3a"
             ],
             [
              0.8888888888888888,
              "#fdca26"
             ],
             [
              1,
              "#f0f921"
             ]
            ],
            "type": "heatmap"
           }
          ],
          "heatmapgl": [
           {
            "colorbar": {
             "outlinewidth": 0,
             "ticks": ""
            },
            "colorscale": [
             [
              0,
              "#0d0887"
             ],
             [
              0.1111111111111111,
              "#46039f"
             ],
             [
              0.2222222222222222,
              "#7201a8"
             ],
             [
              0.3333333333333333,
              "#9c179e"
             ],
             [
              0.4444444444444444,
              "#bd3786"
             ],
             [
              0.5555555555555556,
              "#d8576b"
             ],
             [
              0.6666666666666666,
              "#ed7953"
             ],
             [
              0.7777777777777778,
              "#fb9f3a"
             ],
             [
              0.8888888888888888,
              "#fdca26"
             ],
             [
              1,
              "#f0f921"
             ]
            ],
            "type": "heatmapgl"
           }
          ],
          "histogram": [
           {
            "marker": {
             "pattern": {
              "fillmode": "overlay",
              "size": 10,
              "solidity": 0.2
             }
            },
            "type": "histogram"
           }
          ],
          "histogram2d": [
           {
            "colorbar": {
             "outlinewidth": 0,
             "ticks": ""
            },
            "colorscale": [
             [
              0,
              "#0d0887"
             ],
             [
              0.1111111111111111,
              "#46039f"
             ],
             [
              0.2222222222222222,
              "#7201a8"
             ],
             [
              0.3333333333333333,
              "#9c179e"
             ],
             [
              0.4444444444444444,
              "#bd3786"
             ],
             [
              0.5555555555555556,
              "#d8576b"
             ],
             [
              0.6666666666666666,
              "#ed7953"
             ],
             [
              0.7777777777777778,
              "#fb9f3a"
             ],
             [
              0.8888888888888888,
              "#fdca26"
             ],
             [
              1,
              "#f0f921"
             ]
            ],
            "type": "histogram2d"
           }
          ],
          "histogram2dcontour": [
           {
            "colorbar": {
             "outlinewidth": 0,
             "ticks": ""
            },
            "colorscale": [
             [
              0,
              "#0d0887"
             ],
             [
              0.1111111111111111,
              "#46039f"
             ],
             [
              0.2222222222222222,
              "#7201a8"
             ],
             [
              0.3333333333333333,
              "#9c179e"
             ],
             [
              0.4444444444444444,
              "#bd3786"
             ],
             [
              0.5555555555555556,
              "#d8576b"
             ],
             [
              0.6666666666666666,
              "#ed7953"
             ],
             [
              0.7777777777777778,
              "#fb9f3a"
             ],
             [
              0.8888888888888888,
              "#fdca26"
             ],
             [
              1,
              "#f0f921"
             ]
            ],
            "type": "histogram2dcontour"
           }
          ],
          "mesh3d": [
           {
            "colorbar": {
             "outlinewidth": 0,
             "ticks": ""
            },
            "type": "mesh3d"
           }
          ],
          "parcoords": [
           {
            "line": {
             "colorbar": {
              "outlinewidth": 0,
              "ticks": ""
             }
            },
            "type": "parcoords"
           }
          ],
          "pie": [
           {
            "automargin": true,
            "type": "pie"
           }
          ],
          "scatter": [
           {
            "fillpattern": {
             "fillmode": "overlay",
             "size": 10,
             "solidity": 0.2
            },
            "type": "scatter"
           }
          ],
          "scatter3d": [
           {
            "line": {
             "colorbar": {
              "outlinewidth": 0,
              "ticks": ""
             }
            },
            "marker": {
             "colorbar": {
              "outlinewidth": 0,
              "ticks": ""
             }
            },
            "type": "scatter3d"
           }
          ],
          "scattercarpet": [
           {
            "marker": {
             "colorbar": {
              "outlinewidth": 0,
              "ticks": ""
             }
            },
            "type": "scattercarpet"
           }
          ],
          "scattergeo": [
           {
            "marker": {
             "colorbar": {
              "outlinewidth": 0,
              "ticks": ""
             }
            },
            "type": "scattergeo"
           }
          ],
          "scattergl": [
           {
            "marker": {
             "colorbar": {
              "outlinewidth": 0,
              "ticks": ""
             }
            },
            "type": "scattergl"
           }
          ],
          "scattermapbox": [
           {
            "marker": {
             "colorbar": {
              "outlinewidth": 0,
              "ticks": ""
             }
            },
            "type": "scattermapbox"
           }
          ],
          "scatterpolar": [
           {
            "marker": {
             "colorbar": {
              "outlinewidth": 0,
              "ticks": ""
             }
            },
            "type": "scatterpolar"
           }
          ],
          "scatterpolargl": [
           {
            "marker": {
             "colorbar": {
              "outlinewidth": 0,
              "ticks": ""
             }
            },
            "type": "scatterpolargl"
           }
          ],
          "scatterternary": [
           {
            "marker": {
             "colorbar": {
              "outlinewidth": 0,
              "ticks": ""
             }
            },
            "type": "scatterternary"
           }
          ],
          "surface": [
           {
            "colorbar": {
             "outlinewidth": 0,
             "ticks": ""
            },
            "colorscale": [
             [
              0,
              "#0d0887"
             ],
             [
              0.1111111111111111,
              "#46039f"
             ],
             [
              0.2222222222222222,
              "#7201a8"
             ],
             [
              0.3333333333333333,
              "#9c179e"
             ],
             [
              0.4444444444444444,
              "#bd3786"
             ],
             [
              0.5555555555555556,
              "#d8576b"
             ],
             [
              0.6666666666666666,
              "#ed7953"
             ],
             [
              0.7777777777777778,
              "#fb9f3a"
             ],
             [
              0.8888888888888888,
              "#fdca26"
             ],
             [
              1,
              "#f0f921"
             ]
            ],
            "type": "surface"
           }
          ],
          "table": [
           {
            "cells": {
             "fill": {
              "color": "#EBF0F8"
             },
             "line": {
              "color": "white"
             }
            },
            "header": {
             "fill": {
              "color": "#C8D4E3"
             },
             "line": {
              "color": "white"
             }
            },
            "type": "table"
           }
          ]
         },
         "layout": {
          "annotationdefaults": {
           "arrowcolor": "#2a3f5f",
           "arrowhead": 0,
           "arrowwidth": 1
          },
          "autotypenumbers": "strict",
          "coloraxis": {
           "colorbar": {
            "outlinewidth": 0,
            "ticks": ""
           }
          },
          "colorscale": {
           "diverging": [
            [
             0,
             "#8e0152"
            ],
            [
             0.1,
             "#c51b7d"
            ],
            [
             0.2,
             "#de77ae"
            ],
            [
             0.3,
             "#f1b6da"
            ],
            [
             0.4,
             "#fde0ef"
            ],
            [
             0.5,
             "#f7f7f7"
            ],
            [
             0.6,
             "#e6f5d0"
            ],
            [
             0.7,
             "#b8e186"
            ],
            [
             0.8,
             "#7fbc41"
            ],
            [
             0.9,
             "#4d9221"
            ],
            [
             1,
             "#276419"
            ]
           ],
           "sequential": [
            [
             0,
             "#0d0887"
            ],
            [
             0.1111111111111111,
             "#46039f"
            ],
            [
             0.2222222222222222,
             "#7201a8"
            ],
            [
             0.3333333333333333,
             "#9c179e"
            ],
            [
             0.4444444444444444,
             "#bd3786"
            ],
            [
             0.5555555555555556,
             "#d8576b"
            ],
            [
             0.6666666666666666,
             "#ed7953"
            ],
            [
             0.7777777777777778,
             "#fb9f3a"
            ],
            [
             0.8888888888888888,
             "#fdca26"
            ],
            [
             1,
             "#f0f921"
            ]
           ],
           "sequentialminus": [
            [
             0,
             "#0d0887"
            ],
            [
             0.1111111111111111,
             "#46039f"
            ],
            [
             0.2222222222222222,
             "#7201a8"
            ],
            [
             0.3333333333333333,
             "#9c179e"
            ],
            [
             0.4444444444444444,
             "#bd3786"
            ],
            [
             0.5555555555555556,
             "#d8576b"
            ],
            [
             0.6666666666666666,
             "#ed7953"
            ],
            [
             0.7777777777777778,
             "#fb9f3a"
            ],
            [
             0.8888888888888888,
             "#fdca26"
            ],
            [
             1,
             "#f0f921"
            ]
           ]
          },
          "colorway": [
           "#636efa",
           "#EF553B",
           "#00cc96",
           "#ab63fa",
           "#FFA15A",
           "#19d3f3",
           "#FF6692",
           "#B6E880",
           "#FF97FF",
           "#FECB52"
          ],
          "font": {
           "color": "#2a3f5f"
          },
          "geo": {
           "bgcolor": "white",
           "lakecolor": "white",
           "landcolor": "#E5ECF6",
           "showlakes": true,
           "showland": true,
           "subunitcolor": "white"
          },
          "hoverlabel": {
           "align": "left"
          },
          "hovermode": "closest",
          "mapbox": {
           "style": "light"
          },
          "paper_bgcolor": "white",
          "plot_bgcolor": "#E5ECF6",
          "polar": {
           "angularaxis": {
            "gridcolor": "white",
            "linecolor": "white",
            "ticks": ""
           },
           "bgcolor": "#E5ECF6",
           "radialaxis": {
            "gridcolor": "white",
            "linecolor": "white",
            "ticks": ""
           }
          },
          "scene": {
           "xaxis": {
            "backgroundcolor": "#E5ECF6",
            "gridcolor": "white",
            "gridwidth": 2,
            "linecolor": "white",
            "showbackground": true,
            "ticks": "",
            "zerolinecolor": "white"
           },
           "yaxis": {
            "backgroundcolor": "#E5ECF6",
            "gridcolor": "white",
            "gridwidth": 2,
            "linecolor": "white",
            "showbackground": true,
            "ticks": "",
            "zerolinecolor": "white"
           },
           "zaxis": {
            "backgroundcolor": "#E5ECF6",
            "gridcolor": "white",
            "gridwidth": 2,
            "linecolor": "white",
            "showbackground": true,
            "ticks": "",
            "zerolinecolor": "white"
           }
          },
          "shapedefaults": {
           "line": {
            "color": "#2a3f5f"
           }
          },
          "ternary": {
           "aaxis": {
            "gridcolor": "white",
            "linecolor": "white",
            "ticks": ""
           },
           "baxis": {
            "gridcolor": "white",
            "linecolor": "white",
            "ticks": ""
           },
           "bgcolor": "#E5ECF6",
           "caxis": {
            "gridcolor": "white",
            "linecolor": "white",
            "ticks": ""
           }
          },
          "title": {
           "x": 0.05
          },
          "xaxis": {
           "automargin": true,
           "gridcolor": "white",
           "linecolor": "white",
           "ticks": "",
           "title": {
            "standoff": 15
           },
           "zerolinecolor": "white",
           "zerolinewidth": 2
          },
          "yaxis": {
           "automargin": true,
           "gridcolor": "white",
           "linecolor": "white",
           "ticks": "",
           "title": {
            "standoff": 15
           },
           "zerolinecolor": "white",
           "zerolinewidth": 2
          }
         }
        },
        "title": {
         "text": "Actual and Predicted Wheel Speeds, Recording 3, Trial 0"
        },
        "xaxis": {
         "title": {
          "text": "Time"
         }
        },
        "yaxis": {
         "title": {
          "text": "Value"
         }
        }
       }
      }
     },
     "metadata": {},
     "output_type": "display_data"
    },
    {
     "data": {
      "application/vnd.plotly.v1+json": {
       "config": {
        "plotlyServerURL": "https://plot.ly"
       },
       "data": [
        {
         "name": "Actual",
         "type": "scatter",
         "y": [
          -0.03389616310596466,
          -0.02926291525363922,
          -0.014149602502584457,
          -0.002326937858015299,
          -0.018560390919446945,
          -0.014897800981998444,
          -0.013340792618691921,
          -0.013359218835830688,
          -0.01382478978484869,
          -0.017002906650304794,
          -0.0039018471725285053,
          0.36642464995384216,
          -0.07598911970853806,
          -1.6662015914916992,
          -1.6042425632476807,
          -1.80925452709198,
          -1.9766665697097778,
          -2.120577335357666,
          -1.3703117370605469,
          0.37178611755371094,
          3.0380685329437256,
          4.047535419464111,
          4.105825901031494,
          1.0956289768218994,
          0.6095623970031738,
          -0.19872981309890747,
          -0.3418785333633423,
          -0.6779987812042236,
          -0.3763011395931244,
          -0.5118216276168823,
          0.2393326312303543,
          0.15019293129444122,
          0.4491809606552124,
          0.16332291066646576,
          -0.5067940354347229,
          -0.23514676094055176,
          -0.3075578212738037,
          -0.3190601170063019,
          -0.33584025502204895,
          -0.26254498958587646
         ]
        },
        {
         "name": "Predicted",
         "type": "scatter",
         "y": [
          0.002953801304101944,
          0.008379844948649406,
          0.0001213960349559784,
          0.012067137286067009,
          0.021710440516471863,
          -0.005885113030672073,
          -0.03400826081633568,
          0.030221451073884964,
          -0.017081432044506073,
          -0.019258029758930206,
          -0.12345373630523682,
          0.046115435659885406,
          0.6935734152793884,
          0.7955113053321838,
          0.48802950978279114,
          0.3302636742591858,
          0.2873571217060089,
          0.49415621161460876,
          0.09780913591384888,
          -0.8091880083084106,
          -0.878105103969574,
          -0.5977733135223389,
          -0.31721386313438416,
          -0.1970733404159546,
          -0.37722158432006836,
          -0.8728021383285522,
          -0.6397963762283325,
          -0.775343656539917,
          -0.6969481706619263,
          -0.25480008125305176,
          0.038964927196502686,
          0.0116841159760952,
          -0.24954113364219666,
          -0.15586404502391815,
          -0.10660262405872345,
          -0.06042318046092987,
          0.045254889875650406,
          0.06311199069023132,
          -0.15543442964553833,
          -0.04810493439435959
         ]
        }
       ],
       "layout": {
        "template": {
         "data": {
          "bar": [
           {
            "error_x": {
             "color": "#2a3f5f"
            },
            "error_y": {
             "color": "#2a3f5f"
            },
            "marker": {
             "line": {
              "color": "#E5ECF6",
              "width": 0.5
             },
             "pattern": {
              "fillmode": "overlay",
              "size": 10,
              "solidity": 0.2
             }
            },
            "type": "bar"
           }
          ],
          "barpolar": [
           {
            "marker": {
             "line": {
              "color": "#E5ECF6",
              "width": 0.5
             },
             "pattern": {
              "fillmode": "overlay",
              "size": 10,
              "solidity": 0.2
             }
            },
            "type": "barpolar"
           }
          ],
          "carpet": [
           {
            "aaxis": {
             "endlinecolor": "#2a3f5f",
             "gridcolor": "white",
             "linecolor": "white",
             "minorgridcolor": "white",
             "startlinecolor": "#2a3f5f"
            },
            "baxis": {
             "endlinecolor": "#2a3f5f",
             "gridcolor": "white",
             "linecolor": "white",
             "minorgridcolor": "white",
             "startlinecolor": "#2a3f5f"
            },
            "type": "carpet"
           }
          ],
          "choropleth": [
           {
            "colorbar": {
             "outlinewidth": 0,
             "ticks": ""
            },
            "type": "choropleth"
           }
          ],
          "contour": [
           {
            "colorbar": {
             "outlinewidth": 0,
             "ticks": ""
            },
            "colorscale": [
             [
              0,
              "#0d0887"
             ],
             [
              0.1111111111111111,
              "#46039f"
             ],
             [
              0.2222222222222222,
              "#7201a8"
             ],
             [
              0.3333333333333333,
              "#9c179e"
             ],
             [
              0.4444444444444444,
              "#bd3786"
             ],
             [
              0.5555555555555556,
              "#d8576b"
             ],
             [
              0.6666666666666666,
              "#ed7953"
             ],
             [
              0.7777777777777778,
              "#fb9f3a"
             ],
             [
              0.8888888888888888,
              "#fdca26"
             ],
             [
              1,
              "#f0f921"
             ]
            ],
            "type": "contour"
           }
          ],
          "contourcarpet": [
           {
            "colorbar": {
             "outlinewidth": 0,
             "ticks": ""
            },
            "type": "contourcarpet"
           }
          ],
          "heatmap": [
           {
            "colorbar": {
             "outlinewidth": 0,
             "ticks": ""
            },
            "colorscale": [
             [
              0,
              "#0d0887"
             ],
             [
              0.1111111111111111,
              "#46039f"
             ],
             [
              0.2222222222222222,
              "#7201a8"
             ],
             [
              0.3333333333333333,
              "#9c179e"
             ],
             [
              0.4444444444444444,
              "#bd3786"
             ],
             [
              0.5555555555555556,
              "#d8576b"
             ],
             [
              0.6666666666666666,
              "#ed7953"
             ],
             [
              0.7777777777777778,
              "#fb9f3a"
             ],
             [
              0.8888888888888888,
              "#fdca26"
             ],
             [
              1,
              "#f0f921"
             ]
            ],
            "type": "heatmap"
           }
          ],
          "heatmapgl": [
           {
            "colorbar": {
             "outlinewidth": 0,
             "ticks": ""
            },
            "colorscale": [
             [
              0,
              "#0d0887"
             ],
             [
              0.1111111111111111,
              "#46039f"
             ],
             [
              0.2222222222222222,
              "#7201a8"
             ],
             [
              0.3333333333333333,
              "#9c179e"
             ],
             [
              0.4444444444444444,
              "#bd3786"
             ],
             [
              0.5555555555555556,
              "#d8576b"
             ],
             [
              0.6666666666666666,
              "#ed7953"
             ],
             [
              0.7777777777777778,
              "#fb9f3a"
             ],
             [
              0.8888888888888888,
              "#fdca26"
             ],
             [
              1,
              "#f0f921"
             ]
            ],
            "type": "heatmapgl"
           }
          ],
          "histogram": [
           {
            "marker": {
             "pattern": {
              "fillmode": "overlay",
              "size": 10,
              "solidity": 0.2
             }
            },
            "type": "histogram"
           }
          ],
          "histogram2d": [
           {
            "colorbar": {
             "outlinewidth": 0,
             "ticks": ""
            },
            "colorscale": [
             [
              0,
              "#0d0887"
             ],
             [
              0.1111111111111111,
              "#46039f"
             ],
             [
              0.2222222222222222,
              "#7201a8"
             ],
             [
              0.3333333333333333,
              "#9c179e"
             ],
             [
              0.4444444444444444,
              "#bd3786"
             ],
             [
              0.5555555555555556,
              "#d8576b"
             ],
             [
              0.6666666666666666,
              "#ed7953"
             ],
             [
              0.7777777777777778,
              "#fb9f3a"
             ],
             [
              0.8888888888888888,
              "#fdca26"
             ],
             [
              1,
              "#f0f921"
             ]
            ],
            "type": "histogram2d"
           }
          ],
          "histogram2dcontour": [
           {
            "colorbar": {
             "outlinewidth": 0,
             "ticks": ""
            },
            "colorscale": [
             [
              0,
              "#0d0887"
             ],
             [
              0.1111111111111111,
              "#46039f"
             ],
             [
              0.2222222222222222,
              "#7201a8"
             ],
             [
              0.3333333333333333,
              "#9c179e"
             ],
             [
              0.4444444444444444,
              "#bd3786"
             ],
             [
              0.5555555555555556,
              "#d8576b"
             ],
             [
              0.6666666666666666,
              "#ed7953"
             ],
             [
              0.7777777777777778,
              "#fb9f3a"
             ],
             [
              0.8888888888888888,
              "#fdca26"
             ],
             [
              1,
              "#f0f921"
             ]
            ],
            "type": "histogram2dcontour"
           }
          ],
          "mesh3d": [
           {
            "colorbar": {
             "outlinewidth": 0,
             "ticks": ""
            },
            "type": "mesh3d"
           }
          ],
          "parcoords": [
           {
            "line": {
             "colorbar": {
              "outlinewidth": 0,
              "ticks": ""
             }
            },
            "type": "parcoords"
           }
          ],
          "pie": [
           {
            "automargin": true,
            "type": "pie"
           }
          ],
          "scatter": [
           {
            "fillpattern": {
             "fillmode": "overlay",
             "size": 10,
             "solidity": 0.2
            },
            "type": "scatter"
           }
          ],
          "scatter3d": [
           {
            "line": {
             "colorbar": {
              "outlinewidth": 0,
              "ticks": ""
             }
            },
            "marker": {
             "colorbar": {
              "outlinewidth": 0,
              "ticks": ""
             }
            },
            "type": "scatter3d"
           }
          ],
          "scattercarpet": [
           {
            "marker": {
             "colorbar": {
              "outlinewidth": 0,
              "ticks": ""
             }
            },
            "type": "scattercarpet"
           }
          ],
          "scattergeo": [
           {
            "marker": {
             "colorbar": {
              "outlinewidth": 0,
              "ticks": ""
             }
            },
            "type": "scattergeo"
           }
          ],
          "scattergl": [
           {
            "marker": {
             "colorbar": {
              "outlinewidth": 0,
              "ticks": ""
             }
            },
            "type": "scattergl"
           }
          ],
          "scattermapbox": [
           {
            "marker": {
             "colorbar": {
              "outlinewidth": 0,
              "ticks": ""
             }
            },
            "type": "scattermapbox"
           }
          ],
          "scatterpolar": [
           {
            "marker": {
             "colorbar": {
              "outlinewidth": 0,
              "ticks": ""
             }
            },
            "type": "scatterpolar"
           }
          ],
          "scatterpolargl": [
           {
            "marker": {
             "colorbar": {
              "outlinewidth": 0,
              "ticks": ""
             }
            },
            "type": "scatterpolargl"
           }
          ],
          "scatterternary": [
           {
            "marker": {
             "colorbar": {
              "outlinewidth": 0,
              "ticks": ""
             }
            },
            "type": "scatterternary"
           }
          ],
          "surface": [
           {
            "colorbar": {
             "outlinewidth": 0,
             "ticks": ""
            },
            "colorscale": [
             [
              0,
              "#0d0887"
             ],
             [
              0.1111111111111111,
              "#46039f"
             ],
             [
              0.2222222222222222,
              "#7201a8"
             ],
             [
              0.3333333333333333,
              "#9c179e"
             ],
             [
              0.4444444444444444,
              "#bd3786"
             ],
             [
              0.5555555555555556,
              "#d8576b"
             ],
             [
              0.6666666666666666,
              "#ed7953"
             ],
             [
              0.7777777777777778,
              "#fb9f3a"
             ],
             [
              0.8888888888888888,
              "#fdca26"
             ],
             [
              1,
              "#f0f921"
             ]
            ],
            "type": "surface"
           }
          ],
          "table": [
           {
            "cells": {
             "fill": {
              "color": "#EBF0F8"
             },
             "line": {
              "color": "white"
             }
            },
            "header": {
             "fill": {
              "color": "#C8D4E3"
             },
             "line": {
              "color": "white"
             }
            },
            "type": "table"
           }
          ]
         },
         "layout": {
          "annotationdefaults": {
           "arrowcolor": "#2a3f5f",
           "arrowhead": 0,
           "arrowwidth": 1
          },
          "autotypenumbers": "strict",
          "coloraxis": {
           "colorbar": {
            "outlinewidth": 0,
            "ticks": ""
           }
          },
          "colorscale": {
           "diverging": [
            [
             0,
             "#8e0152"
            ],
            [
             0.1,
             "#c51b7d"
            ],
            [
             0.2,
             "#de77ae"
            ],
            [
             0.3,
             "#f1b6da"
            ],
            [
             0.4,
             "#fde0ef"
            ],
            [
             0.5,
             "#f7f7f7"
            ],
            [
             0.6,
             "#e6f5d0"
            ],
            [
             0.7,
             "#b8e186"
            ],
            [
             0.8,
             "#7fbc41"
            ],
            [
             0.9,
             "#4d9221"
            ],
            [
             1,
             "#276419"
            ]
           ],
           "sequential": [
            [
             0,
             "#0d0887"
            ],
            [
             0.1111111111111111,
             "#46039f"
            ],
            [
             0.2222222222222222,
             "#7201a8"
            ],
            [
             0.3333333333333333,
             "#9c179e"
            ],
            [
             0.4444444444444444,
             "#bd3786"
            ],
            [
             0.5555555555555556,
             "#d8576b"
            ],
            [
             0.6666666666666666,
             "#ed7953"
            ],
            [
             0.7777777777777778,
             "#fb9f3a"
            ],
            [
             0.8888888888888888,
             "#fdca26"
            ],
            [
             1,
             "#f0f921"
            ]
           ],
           "sequentialminus": [
            [
             0,
             "#0d0887"
            ],
            [
             0.1111111111111111,
             "#46039f"
            ],
            [
             0.2222222222222222,
             "#7201a8"
            ],
            [
             0.3333333333333333,
             "#9c179e"
            ],
            [
             0.4444444444444444,
             "#bd3786"
            ],
            [
             0.5555555555555556,
             "#d8576b"
            ],
            [
             0.6666666666666666,
             "#ed7953"
            ],
            [
             0.7777777777777778,
             "#fb9f3a"
            ],
            [
             0.8888888888888888,
             "#fdca26"
            ],
            [
             1,
             "#f0f921"
            ]
           ]
          },
          "colorway": [
           "#636efa",
           "#EF553B",
           "#00cc96",
           "#ab63fa",
           "#FFA15A",
           "#19d3f3",
           "#FF6692",
           "#B6E880",
           "#FF97FF",
           "#FECB52"
          ],
          "font": {
           "color": "#2a3f5f"
          },
          "geo": {
           "bgcolor": "white",
           "lakecolor": "white",
           "landcolor": "#E5ECF6",
           "showlakes": true,
           "showland": true,
           "subunitcolor": "white"
          },
          "hoverlabel": {
           "align": "left"
          },
          "hovermode": "closest",
          "mapbox": {
           "style": "light"
          },
          "paper_bgcolor": "white",
          "plot_bgcolor": "#E5ECF6",
          "polar": {
           "angularaxis": {
            "gridcolor": "white",
            "linecolor": "white",
            "ticks": ""
           },
           "bgcolor": "#E5ECF6",
           "radialaxis": {
            "gridcolor": "white",
            "linecolor": "white",
            "ticks": ""
           }
          },
          "scene": {
           "xaxis": {
            "backgroundcolor": "#E5ECF6",
            "gridcolor": "white",
            "gridwidth": 2,
            "linecolor": "white",
            "showbackground": true,
            "ticks": "",
            "zerolinecolor": "white"
           },
           "yaxis": {
            "backgroundcolor": "#E5ECF6",
            "gridcolor": "white",
            "gridwidth": 2,
            "linecolor": "white",
            "showbackground": true,
            "ticks": "",
            "zerolinecolor": "white"
           },
           "zaxis": {
            "backgroundcolor": "#E5ECF6",
            "gridcolor": "white",
            "gridwidth": 2,
            "linecolor": "white",
            "showbackground": true,
            "ticks": "",
            "zerolinecolor": "white"
           }
          },
          "shapedefaults": {
           "line": {
            "color": "#2a3f5f"
           }
          },
          "ternary": {
           "aaxis": {
            "gridcolor": "white",
            "linecolor": "white",
            "ticks": ""
           },
           "baxis": {
            "gridcolor": "white",
            "linecolor": "white",
            "ticks": ""
           },
           "bgcolor": "#E5ECF6",
           "caxis": {
            "gridcolor": "white",
            "linecolor": "white",
            "ticks": ""
           }
          },
          "title": {
           "x": 0.05
          },
          "xaxis": {
           "automargin": true,
           "gridcolor": "white",
           "linecolor": "white",
           "ticks": "",
           "title": {
            "standoff": 15
           },
           "zerolinecolor": "white",
           "zerolinewidth": 2
          },
          "yaxis": {
           "automargin": true,
           "gridcolor": "white",
           "linecolor": "white",
           "ticks": "",
           "title": {
            "standoff": 15
           },
           "zerolinecolor": "white",
           "zerolinewidth": 2
          }
         }
        },
        "title": {
         "text": "Actual and Predicted Wheel Speeds, Recording 3, Trial 1"
        },
        "xaxis": {
         "title": {
          "text": "Time"
         }
        },
        "yaxis": {
         "title": {
          "text": "Value"
         }
        }
       }
      }
     },
     "metadata": {},
     "output_type": "display_data"
    },
    {
     "data": {
      "application/vnd.plotly.v1+json": {
       "config": {
        "plotlyServerURL": "https://plot.ly"
       },
       "data": [
        {
         "name": "Actual",
         "type": "scatter",
         "y": [
          -0.007138763088732958,
          -0.02926291525363922,
          -0.02275513857603073,
          -0.016529330983757973,
          -0.018560390919446945,
          -0.008774831891059875,
          -0.013340792618691921,
          -0.008259293623268604,
          -0.01382478978484869,
          -0.01612742431461811,
          0.35667768120765686,
          0.7712246179580688,
          0.1769898235797882,
          0.3462695777416229,
          0.9978517889976501,
          1.3010940551757812,
          1.0112184286117554,
          0.8770613074302673,
          0.8190870881080627,
          0.7831661105155945,
          0.3988680839538574,
          0.22948527336120605,
          0.3503672182559967,
          0.4250134527683258,
          0.9467057585716248,
          -0.024091804400086403,
          0.7148770093917847,
          -0.9243934154510498,
          -0.14993321895599365,
          -0.15757012367248535,
          0.45630404353141785,
          0.6971563100814819,
          -0.24254807829856873,
          -0.5019586682319641,
          -0.39312946796417236,
          -0.07615324854850769,
          -0.18011315166950226,
          -0.28029900789260864,
          -0.2341701239347458,
          -0.2554173469543457
         ]
        },
        {
         "name": "Predicted",
         "type": "scatter",
         "y": [
          -0.10330593585968018,
          0.09646955877542496,
          0.06057003140449524,
          0.008314777165651321,
          0.020757317543029785,
          -0.035371795296669006,
          -0.021863281726837158,
          -0.053089439868927,
          0.08022856712341309,
          -0.08843505382537842,
          -0.16650809347629547,
          0.3389703035354614,
          1.5044338703155518,
          0.9270463585853577,
          -0.318706750869751,
          0.40820395946502686,
          1.5451343059539795,
          -0.7755653858184814,
          -3.4887285232543945,
          -1.858173131942749,
          -0.7828020453453064,
          -0.3262634575366974,
          -0.3265148997306824,
          0.37712401151657104,
          -0.5978090763092041,
          -1.117269515991211,
          -0.5295414924621582,
          -0.7554387450218201,
          0.042618513107299805,
          0.12028147280216217,
          0.762179970741272,
          1.214294672012329,
          1.3732542991638184,
          1.9692014455795288,
          1.9234445095062256,
          1.9588372707366943,
          1.3145400285720825,
          0.92718905210495,
          1.178789496421814,
          1.6908555030822754
         ]
        }
       ],
       "layout": {
        "template": {
         "data": {
          "bar": [
           {
            "error_x": {
             "color": "#2a3f5f"
            },
            "error_y": {
             "color": "#2a3f5f"
            },
            "marker": {
             "line": {
              "color": "#E5ECF6",
              "width": 0.5
             },
             "pattern": {
              "fillmode": "overlay",
              "size": 10,
              "solidity": 0.2
             }
            },
            "type": "bar"
           }
          ],
          "barpolar": [
           {
            "marker": {
             "line": {
              "color": "#E5ECF6",
              "width": 0.5
             },
             "pattern": {
              "fillmode": "overlay",
              "size": 10,
              "solidity": 0.2
             }
            },
            "type": "barpolar"
           }
          ],
          "carpet": [
           {
            "aaxis": {
             "endlinecolor": "#2a3f5f",
             "gridcolor": "white",
             "linecolor": "white",
             "minorgridcolor": "white",
             "startlinecolor": "#2a3f5f"
            },
            "baxis": {
             "endlinecolor": "#2a3f5f",
             "gridcolor": "white",
             "linecolor": "white",
             "minorgridcolor": "white",
             "startlinecolor": "#2a3f5f"
            },
            "type": "carpet"
           }
          ],
          "choropleth": [
           {
            "colorbar": {
             "outlinewidth": 0,
             "ticks": ""
            },
            "type": "choropleth"
           }
          ],
          "contour": [
           {
            "colorbar": {
             "outlinewidth": 0,
             "ticks": ""
            },
            "colorscale": [
             [
              0,
              "#0d0887"
             ],
             [
              0.1111111111111111,
              "#46039f"
             ],
             [
              0.2222222222222222,
              "#7201a8"
             ],
             [
              0.3333333333333333,
              "#9c179e"
             ],
             [
              0.4444444444444444,
              "#bd3786"
             ],
             [
              0.5555555555555556,
              "#d8576b"
             ],
             [
              0.6666666666666666,
              "#ed7953"
             ],
             [
              0.7777777777777778,
              "#fb9f3a"
             ],
             [
              0.8888888888888888,
              "#fdca26"
             ],
             [
              1,
              "#f0f921"
             ]
            ],
            "type": "contour"
           }
          ],
          "contourcarpet": [
           {
            "colorbar": {
             "outlinewidth": 0,
             "ticks": ""
            },
            "type": "contourcarpet"
           }
          ],
          "heatmap": [
           {
            "colorbar": {
             "outlinewidth": 0,
             "ticks": ""
            },
            "colorscale": [
             [
              0,
              "#0d0887"
             ],
             [
              0.1111111111111111,
              "#46039f"
             ],
             [
              0.2222222222222222,
              "#7201a8"
             ],
             [
              0.3333333333333333,
              "#9c179e"
             ],
             [
              0.4444444444444444,
              "#bd3786"
             ],
             [
              0.5555555555555556,
              "#d8576b"
             ],
             [
              0.6666666666666666,
              "#ed7953"
             ],
             [
              0.7777777777777778,
              "#fb9f3a"
             ],
             [
              0.8888888888888888,
              "#fdca26"
             ],
             [
              1,
              "#f0f921"
             ]
            ],
            "type": "heatmap"
           }
          ],
          "heatmapgl": [
           {
            "colorbar": {
             "outlinewidth": 0,
             "ticks": ""
            },
            "colorscale": [
             [
              0,
              "#0d0887"
             ],
             [
              0.1111111111111111,
              "#46039f"
             ],
             [
              0.2222222222222222,
              "#7201a8"
             ],
             [
              0.3333333333333333,
              "#9c179e"
             ],
             [
              0.4444444444444444,
              "#bd3786"
             ],
             [
              0.5555555555555556,
              "#d8576b"
             ],
             [
              0.6666666666666666,
              "#ed7953"
             ],
             [
              0.7777777777777778,
              "#fb9f3a"
             ],
             [
              0.8888888888888888,
              "#fdca26"
             ],
             [
              1,
              "#f0f921"
             ]
            ],
            "type": "heatmapgl"
           }
          ],
          "histogram": [
           {
            "marker": {
             "pattern": {
              "fillmode": "overlay",
              "size": 10,
              "solidity": 0.2
             }
            },
            "type": "histogram"
           }
          ],
          "histogram2d": [
           {
            "colorbar": {
             "outlinewidth": 0,
             "ticks": ""
            },
            "colorscale": [
             [
              0,
              "#0d0887"
             ],
             [
              0.1111111111111111,
              "#46039f"
             ],
             [
              0.2222222222222222,
              "#7201a8"
             ],
             [
              0.3333333333333333,
              "#9c179e"
             ],
             [
              0.4444444444444444,
              "#bd3786"
             ],
             [
              0.5555555555555556,
              "#d8576b"
             ],
             [
              0.6666666666666666,
              "#ed7953"
             ],
             [
              0.7777777777777778,
              "#fb9f3a"
             ],
             [
              0.8888888888888888,
              "#fdca26"
             ],
             [
              1,
              "#f0f921"
             ]
            ],
            "type": "histogram2d"
           }
          ],
          "histogram2dcontour": [
           {
            "colorbar": {
             "outlinewidth": 0,
             "ticks": ""
            },
            "colorscale": [
             [
              0,
              "#0d0887"
             ],
             [
              0.1111111111111111,
              "#46039f"
             ],
             [
              0.2222222222222222,
              "#7201a8"
             ],
             [
              0.3333333333333333,
              "#9c179e"
             ],
             [
              0.4444444444444444,
              "#bd3786"
             ],
             [
              0.5555555555555556,
              "#d8576b"
             ],
             [
              0.6666666666666666,
              "#ed7953"
             ],
             [
              0.7777777777777778,
              "#fb9f3a"
             ],
             [
              0.8888888888888888,
              "#fdca26"
             ],
             [
              1,
              "#f0f921"
             ]
            ],
            "type": "histogram2dcontour"
           }
          ],
          "mesh3d": [
           {
            "colorbar": {
             "outlinewidth": 0,
             "ticks": ""
            },
            "type": "mesh3d"
           }
          ],
          "parcoords": [
           {
            "line": {
             "colorbar": {
              "outlinewidth": 0,
              "ticks": ""
             }
            },
            "type": "parcoords"
           }
          ],
          "pie": [
           {
            "automargin": true,
            "type": "pie"
           }
          ],
          "scatter": [
           {
            "fillpattern": {
             "fillmode": "overlay",
             "size": 10,
             "solidity": 0.2
            },
            "type": "scatter"
           }
          ],
          "scatter3d": [
           {
            "line": {
             "colorbar": {
              "outlinewidth": 0,
              "ticks": ""
             }
            },
            "marker": {
             "colorbar": {
              "outlinewidth": 0,
              "ticks": ""
             }
            },
            "type": "scatter3d"
           }
          ],
          "scattercarpet": [
           {
            "marker": {
             "colorbar": {
              "outlinewidth": 0,
              "ticks": ""
             }
            },
            "type": "scattercarpet"
           }
          ],
          "scattergeo": [
           {
            "marker": {
             "colorbar": {
              "outlinewidth": 0,
              "ticks": ""
             }
            },
            "type": "scattergeo"
           }
          ],
          "scattergl": [
           {
            "marker": {
             "colorbar": {
              "outlinewidth": 0,
              "ticks": ""
             }
            },
            "type": "scattergl"
           }
          ],
          "scattermapbox": [
           {
            "marker": {
             "colorbar": {
              "outlinewidth": 0,
              "ticks": ""
             }
            },
            "type": "scattermapbox"
           }
          ],
          "scatterpolar": [
           {
            "marker": {
             "colorbar": {
              "outlinewidth": 0,
              "ticks": ""
             }
            },
            "type": "scatterpolar"
           }
          ],
          "scatterpolargl": [
           {
            "marker": {
             "colorbar": {
              "outlinewidth": 0,
              "ticks": ""
             }
            },
            "type": "scatterpolargl"
           }
          ],
          "scatterternary": [
           {
            "marker": {
             "colorbar": {
              "outlinewidth": 0,
              "ticks": ""
             }
            },
            "type": "scatterternary"
           }
          ],
          "surface": [
           {
            "colorbar": {
             "outlinewidth": 0,
             "ticks": ""
            },
            "colorscale": [
             [
              0,
              "#0d0887"
             ],
             [
              0.1111111111111111,
              "#46039f"
             ],
             [
              0.2222222222222222,
              "#7201a8"
             ],
             [
              0.3333333333333333,
              "#9c179e"
             ],
             [
              0.4444444444444444,
              "#bd3786"
             ],
             [
              0.5555555555555556,
              "#d8576b"
             ],
             [
              0.6666666666666666,
              "#ed7953"
             ],
             [
              0.7777777777777778,
              "#fb9f3a"
             ],
             [
              0.8888888888888888,
              "#fdca26"
             ],
             [
              1,
              "#f0f921"
             ]
            ],
            "type": "surface"
           }
          ],
          "table": [
           {
            "cells": {
             "fill": {
              "color": "#EBF0F8"
             },
             "line": {
              "color": "white"
             }
            },
            "header": {
             "fill": {
              "color": "#C8D4E3"
             },
             "line": {
              "color": "white"
             }
            },
            "type": "table"
           }
          ]
         },
         "layout": {
          "annotationdefaults": {
           "arrowcolor": "#2a3f5f",
           "arrowhead": 0,
           "arrowwidth": 1
          },
          "autotypenumbers": "strict",
          "coloraxis": {
           "colorbar": {
            "outlinewidth": 0,
            "ticks": ""
           }
          },
          "colorscale": {
           "diverging": [
            [
             0,
             "#8e0152"
            ],
            [
             0.1,
             "#c51b7d"
            ],
            [
             0.2,
             "#de77ae"
            ],
            [
             0.3,
             "#f1b6da"
            ],
            [
             0.4,
             "#fde0ef"
            ],
            [
             0.5,
             "#f7f7f7"
            ],
            [
             0.6,
             "#e6f5d0"
            ],
            [
             0.7,
             "#b8e186"
            ],
            [
             0.8,
             "#7fbc41"
            ],
            [
             0.9,
             "#4d9221"
            ],
            [
             1,
             "#276419"
            ]
           ],
           "sequential": [
            [
             0,
             "#0d0887"
            ],
            [
             0.1111111111111111,
             "#46039f"
            ],
            [
             0.2222222222222222,
             "#7201a8"
            ],
            [
             0.3333333333333333,
             "#9c179e"
            ],
            [
             0.4444444444444444,
             "#bd3786"
            ],
            [
             0.5555555555555556,
             "#d8576b"
            ],
            [
             0.6666666666666666,
             "#ed7953"
            ],
            [
             0.7777777777777778,
             "#fb9f3a"
            ],
            [
             0.8888888888888888,
             "#fdca26"
            ],
            [
             1,
             "#f0f921"
            ]
           ],
           "sequentialminus": [
            [
             0,
             "#0d0887"
            ],
            [
             0.1111111111111111,
             "#46039f"
            ],
            [
             0.2222222222222222,
             "#7201a8"
            ],
            [
             0.3333333333333333,
             "#9c179e"
            ],
            [
             0.4444444444444444,
             "#bd3786"
            ],
            [
             0.5555555555555556,
             "#d8576b"
            ],
            [
             0.6666666666666666,
             "#ed7953"
            ],
            [
             0.7777777777777778,
             "#fb9f3a"
            ],
            [
             0.8888888888888888,
             "#fdca26"
            ],
            [
             1,
             "#f0f921"
            ]
           ]
          },
          "colorway": [
           "#636efa",
           "#EF553B",
           "#00cc96",
           "#ab63fa",
           "#FFA15A",
           "#19d3f3",
           "#FF6692",
           "#B6E880",
           "#FF97FF",
           "#FECB52"
          ],
          "font": {
           "color": "#2a3f5f"
          },
          "geo": {
           "bgcolor": "white",
           "lakecolor": "white",
           "landcolor": "#E5ECF6",
           "showlakes": true,
           "showland": true,
           "subunitcolor": "white"
          },
          "hoverlabel": {
           "align": "left"
          },
          "hovermode": "closest",
          "mapbox": {
           "style": "light"
          },
          "paper_bgcolor": "white",
          "plot_bgcolor": "#E5ECF6",
          "polar": {
           "angularaxis": {
            "gridcolor": "white",
            "linecolor": "white",
            "ticks": ""
           },
           "bgcolor": "#E5ECF6",
           "radialaxis": {
            "gridcolor": "white",
            "linecolor": "white",
            "ticks": ""
           }
          },
          "scene": {
           "xaxis": {
            "backgroundcolor": "#E5ECF6",
            "gridcolor": "white",
            "gridwidth": 2,
            "linecolor": "white",
            "showbackground": true,
            "ticks": "",
            "zerolinecolor": "white"
           },
           "yaxis": {
            "backgroundcolor": "#E5ECF6",
            "gridcolor": "white",
            "gridwidth": 2,
            "linecolor": "white",
            "showbackground": true,
            "ticks": "",
            "zerolinecolor": "white"
           },
           "zaxis": {
            "backgroundcolor": "#E5ECF6",
            "gridcolor": "white",
            "gridwidth": 2,
            "linecolor": "white",
            "showbackground": true,
            "ticks": "",
            "zerolinecolor": "white"
           }
          },
          "shapedefaults": {
           "line": {
            "color": "#2a3f5f"
           }
          },
          "ternary": {
           "aaxis": {
            "gridcolor": "white",
            "linecolor": "white",
            "ticks": ""
           },
           "baxis": {
            "gridcolor": "white",
            "linecolor": "white",
            "ticks": ""
           },
           "bgcolor": "#E5ECF6",
           "caxis": {
            "gridcolor": "white",
            "linecolor": "white",
            "ticks": ""
           }
          },
          "title": {
           "x": 0.05
          },
          "xaxis": {
           "automargin": true,
           "gridcolor": "white",
           "linecolor": "white",
           "ticks": "",
           "title": {
            "standoff": 15
           },
           "zerolinecolor": "white",
           "zerolinewidth": 2
          },
          "yaxis": {
           "automargin": true,
           "gridcolor": "white",
           "linecolor": "white",
           "ticks": "",
           "title": {
            "standoff": 15
           },
           "zerolinecolor": "white",
           "zerolinewidth": 2
          }
         }
        },
        "title": {
         "text": "Actual and Predicted Wheel Speeds, Recording 3, Trial 2"
        },
        "xaxis": {
         "title": {
          "text": "Time"
         }
        },
        "yaxis": {
         "title": {
          "text": "Value"
         }
        }
       }
      }
     },
     "metadata": {},
     "output_type": "display_data"
    },
    {
     "name": "stdout",
     "output_type": "stream",
     "text": [
      "Evaluation, Recording 3, Loss 2.2847325801849365\n"
     ]
    },
    {
     "data": {
      "application/vnd.plotly.v1+json": {
       "config": {
        "plotlyServerURL": "https://plot.ly"
       },
       "data": [
        {
         "name": "Actual",
         "type": "scatter",
         "y": [
          -0.03389616310596466,
          -0.02926291525363922,
          0.02185138873755932,
          -0.015296729281544685,
          0.042739707976579666,
          -0.014897800981998444,
          -0.013340792618691921,
          -0.0016720221610739827,
          -0.01382478978484869,
          -0.03885294497013092,
          0.22531674802303314,
          -0.14728927612304688,
          -1.4122236967086792,
          -1.7070236206054688,
          -1.6173100471496582,
          -1.4222795963287354,
          -1.2105209827423096,
          -1.220436930656433,
          -0.20195575058460236,
          0.343769371509552,
          -0.9475093483924866,
          -2.017786979675293,
          -1.5579700469970703,
          -1.2339251041412354,
          -1.3773317337036133,
          -1.4840784072875977,
          -1.2545669078826904,
          -1.0979089736938477,
          -1.0251998901367188,
          -0.8964119553565979,
          -0.7807120084762573,
          -0.8302753567695618,
          -0.7011539936065674,
          -0.5746386051177979,
          -0.43056774139404297,
          -0.45918214321136475,
          -0.4264223277568817,
          -0.38559162616729736,
          -0.32335272431373596,
          -0.3029709756374359
         ]
        },
        {
         "name": "Predicted",
         "type": "scatter",
         "y": [
          0.024595338851213455,
          -0.07519076019525528,
          0.031621772795915604,
          -0.03972095996141434,
          0.036534637212753296,
          0.030366167426109314,
          0.003958418965339661,
          -0.06766515970230103,
          0.004730630666017532,
          0.018399730324745178,
          -0.09311095625162125,
          -0.7382653951644897,
          -1.3332128524780273,
          -1.0081214904785156,
          -1.1277693510055542,
          -0.7018591165542603,
          0.24495865404605865,
          -0.5638100504875183,
          -0.537405788898468,
          0.2195795476436615,
          0.8982374668121338,
          1.6003332138061523,
          1.2899713516235352,
          1.124635100364685,
          -0.26587119698524475,
          -0.6777430772781372,
          -0.9322795271873474,
          -0.3435381054878235,
          0.1295531690120697,
          -0.02658085711300373,
          0.3580136299133301,
          -0.10003069043159485,
          0.0707593560218811,
          0.05134165287017822,
          0.2772647738456726,
          0.5307261347770691,
          0.9414103031158447,
          0.5344887971878052,
          0.25763189792633057,
          0.32917845249176025
         ]
        }
       ],
       "layout": {
        "template": {
         "data": {
          "bar": [
           {
            "error_x": {
             "color": "#2a3f5f"
            },
            "error_y": {
             "color": "#2a3f5f"
            },
            "marker": {
             "line": {
              "color": "#E5ECF6",
              "width": 0.5
             },
             "pattern": {
              "fillmode": "overlay",
              "size": 10,
              "solidity": 0.2
             }
            },
            "type": "bar"
           }
          ],
          "barpolar": [
           {
            "marker": {
             "line": {
              "color": "#E5ECF6",
              "width": 0.5
             },
             "pattern": {
              "fillmode": "overlay",
              "size": 10,
              "solidity": 0.2
             }
            },
            "type": "barpolar"
           }
          ],
          "carpet": [
           {
            "aaxis": {
             "endlinecolor": "#2a3f5f",
             "gridcolor": "white",
             "linecolor": "white",
             "minorgridcolor": "white",
             "startlinecolor": "#2a3f5f"
            },
            "baxis": {
             "endlinecolor": "#2a3f5f",
             "gridcolor": "white",
             "linecolor": "white",
             "minorgridcolor": "white",
             "startlinecolor": "#2a3f5f"
            },
            "type": "carpet"
           }
          ],
          "choropleth": [
           {
            "colorbar": {
             "outlinewidth": 0,
             "ticks": ""
            },
            "type": "choropleth"
           }
          ],
          "contour": [
           {
            "colorbar": {
             "outlinewidth": 0,
             "ticks": ""
            },
            "colorscale": [
             [
              0,
              "#0d0887"
             ],
             [
              0.1111111111111111,
              "#46039f"
             ],
             [
              0.2222222222222222,
              "#7201a8"
             ],
             [
              0.3333333333333333,
              "#9c179e"
             ],
             [
              0.4444444444444444,
              "#bd3786"
             ],
             [
              0.5555555555555556,
              "#d8576b"
             ],
             [
              0.6666666666666666,
              "#ed7953"
             ],
             [
              0.7777777777777778,
              "#fb9f3a"
             ],
             [
              0.8888888888888888,
              "#fdca26"
             ],
             [
              1,
              "#f0f921"
             ]
            ],
            "type": "contour"
           }
          ],
          "contourcarpet": [
           {
            "colorbar": {
             "outlinewidth": 0,
             "ticks": ""
            },
            "type": "contourcarpet"
           }
          ],
          "heatmap": [
           {
            "colorbar": {
             "outlinewidth": 0,
             "ticks": ""
            },
            "colorscale": [
             [
              0,
              "#0d0887"
             ],
             [
              0.1111111111111111,
              "#46039f"
             ],
             [
              0.2222222222222222,
              "#7201a8"
             ],
             [
              0.3333333333333333,
              "#9c179e"
             ],
             [
              0.4444444444444444,
              "#bd3786"
             ],
             [
              0.5555555555555556,
              "#d8576b"
             ],
             [
              0.6666666666666666,
              "#ed7953"
             ],
             [
              0.7777777777777778,
              "#fb9f3a"
             ],
             [
              0.8888888888888888,
              "#fdca26"
             ],
             [
              1,
              "#f0f921"
             ]
            ],
            "type": "heatmap"
           }
          ],
          "heatmapgl": [
           {
            "colorbar": {
             "outlinewidth": 0,
             "ticks": ""
            },
            "colorscale": [
             [
              0,
              "#0d0887"
             ],
             [
              0.1111111111111111,
              "#46039f"
             ],
             [
              0.2222222222222222,
              "#7201a8"
             ],
             [
              0.3333333333333333,
              "#9c179e"
             ],
             [
              0.4444444444444444,
              "#bd3786"
             ],
             [
              0.5555555555555556,
              "#d8576b"
             ],
             [
              0.6666666666666666,
              "#ed7953"
             ],
             [
              0.7777777777777778,
              "#fb9f3a"
             ],
             [
              0.8888888888888888,
              "#fdca26"
             ],
             [
              1,
              "#f0f921"
             ]
            ],
            "type": "heatmapgl"
           }
          ],
          "histogram": [
           {
            "marker": {
             "pattern": {
              "fillmode": "overlay",
              "size": 10,
              "solidity": 0.2
             }
            },
            "type": "histogram"
           }
          ],
          "histogram2d": [
           {
            "colorbar": {
             "outlinewidth": 0,
             "ticks": ""
            },
            "colorscale": [
             [
              0,
              "#0d0887"
             ],
             [
              0.1111111111111111,
              "#46039f"
             ],
             [
              0.2222222222222222,
              "#7201a8"
             ],
             [
              0.3333333333333333,
              "#9c179e"
             ],
             [
              0.4444444444444444,
              "#bd3786"
             ],
             [
              0.5555555555555556,
              "#d8576b"
             ],
             [
              0.6666666666666666,
              "#ed7953"
             ],
             [
              0.7777777777777778,
              "#fb9f3a"
             ],
             [
              0.8888888888888888,
              "#fdca26"
             ],
             [
              1,
              "#f0f921"
             ]
            ],
            "type": "histogram2d"
           }
          ],
          "histogram2dcontour": [
           {
            "colorbar": {
             "outlinewidth": 0,
             "ticks": ""
            },
            "colorscale": [
             [
              0,
              "#0d0887"
             ],
             [
              0.1111111111111111,
              "#46039f"
             ],
             [
              0.2222222222222222,
              "#7201a8"
             ],
             [
              0.3333333333333333,
              "#9c179e"
             ],
             [
              0.4444444444444444,
              "#bd3786"
             ],
             [
              0.5555555555555556,
              "#d8576b"
             ],
             [
              0.6666666666666666,
              "#ed7953"
             ],
             [
              0.7777777777777778,
              "#fb9f3a"
             ],
             [
              0.8888888888888888,
              "#fdca26"
             ],
             [
              1,
              "#f0f921"
             ]
            ],
            "type": "histogram2dcontour"
           }
          ],
          "mesh3d": [
           {
            "colorbar": {
             "outlinewidth": 0,
             "ticks": ""
            },
            "type": "mesh3d"
           }
          ],
          "parcoords": [
           {
            "line": {
             "colorbar": {
              "outlinewidth": 0,
              "ticks": ""
             }
            },
            "type": "parcoords"
           }
          ],
          "pie": [
           {
            "automargin": true,
            "type": "pie"
           }
          ],
          "scatter": [
           {
            "fillpattern": {
             "fillmode": "overlay",
             "size": 10,
             "solidity": 0.2
            },
            "type": "scatter"
           }
          ],
          "scatter3d": [
           {
            "line": {
             "colorbar": {
              "outlinewidth": 0,
              "ticks": ""
             }
            },
            "marker": {
             "colorbar": {
              "outlinewidth": 0,
              "ticks": ""
             }
            },
            "type": "scatter3d"
           }
          ],
          "scattercarpet": [
           {
            "marker": {
             "colorbar": {
              "outlinewidth": 0,
              "ticks": ""
             }
            },
            "type": "scattercarpet"
           }
          ],
          "scattergeo": [
           {
            "marker": {
             "colorbar": {
              "outlinewidth": 0,
              "ticks": ""
             }
            },
            "type": "scattergeo"
           }
          ],
          "scattergl": [
           {
            "marker": {
             "colorbar": {
              "outlinewidth": 0,
              "ticks": ""
             }
            },
            "type": "scattergl"
           }
          ],
          "scattermapbox": [
           {
            "marker": {
             "colorbar": {
              "outlinewidth": 0,
              "ticks": ""
             }
            },
            "type": "scattermapbox"
           }
          ],
          "scatterpolar": [
           {
            "marker": {
             "colorbar": {
              "outlinewidth": 0,
              "ticks": ""
             }
            },
            "type": "scatterpolar"
           }
          ],
          "scatterpolargl": [
           {
            "marker": {
             "colorbar": {
              "outlinewidth": 0,
              "ticks": ""
             }
            },
            "type": "scatterpolargl"
           }
          ],
          "scatterternary": [
           {
            "marker": {
             "colorbar": {
              "outlinewidth": 0,
              "ticks": ""
             }
            },
            "type": "scatterternary"
           }
          ],
          "surface": [
           {
            "colorbar": {
             "outlinewidth": 0,
             "ticks": ""
            },
            "colorscale": [
             [
              0,
              "#0d0887"
             ],
             [
              0.1111111111111111,
              "#46039f"
             ],
             [
              0.2222222222222222,
              "#7201a8"
             ],
             [
              0.3333333333333333,
              "#9c179e"
             ],
             [
              0.4444444444444444,
              "#bd3786"
             ],
             [
              0.5555555555555556,
              "#d8576b"
             ],
             [
              0.6666666666666666,
              "#ed7953"
             ],
             [
              0.7777777777777778,
              "#fb9f3a"
             ],
             [
              0.8888888888888888,
              "#fdca26"
             ],
             [
              1,
              "#f0f921"
             ]
            ],
            "type": "surface"
           }
          ],
          "table": [
           {
            "cells": {
             "fill": {
              "color": "#EBF0F8"
             },
             "line": {
              "color": "white"
             }
            },
            "header": {
             "fill": {
              "color": "#C8D4E3"
             },
             "line": {
              "color": "white"
             }
            },
            "type": "table"
           }
          ]
         },
         "layout": {
          "annotationdefaults": {
           "arrowcolor": "#2a3f5f",
           "arrowhead": 0,
           "arrowwidth": 1
          },
          "autotypenumbers": "strict",
          "coloraxis": {
           "colorbar": {
            "outlinewidth": 0,
            "ticks": ""
           }
          },
          "colorscale": {
           "diverging": [
            [
             0,
             "#8e0152"
            ],
            [
             0.1,
             "#c51b7d"
            ],
            [
             0.2,
             "#de77ae"
            ],
            [
             0.3,
             "#f1b6da"
            ],
            [
             0.4,
             "#fde0ef"
            ],
            [
             0.5,
             "#f7f7f7"
            ],
            [
             0.6,
             "#e6f5d0"
            ],
            [
             0.7,
             "#b8e186"
            ],
            [
             0.8,
             "#7fbc41"
            ],
            [
             0.9,
             "#4d9221"
            ],
            [
             1,
             "#276419"
            ]
           ],
           "sequential": [
            [
             0,
             "#0d0887"
            ],
            [
             0.1111111111111111,
             "#46039f"
            ],
            [
             0.2222222222222222,
             "#7201a8"
            ],
            [
             0.3333333333333333,
             "#9c179e"
            ],
            [
             0.4444444444444444,
             "#bd3786"
            ],
            [
             0.5555555555555556,
             "#d8576b"
            ],
            [
             0.6666666666666666,
             "#ed7953"
            ],
            [
             0.7777777777777778,
             "#fb9f3a"
            ],
            [
             0.8888888888888888,
             "#fdca26"
            ],
            [
             1,
             "#f0f921"
            ]
           ],
           "sequentialminus": [
            [
             0,
             "#0d0887"
            ],
            [
             0.1111111111111111,
             "#46039f"
            ],
            [
             0.2222222222222222,
             "#7201a8"
            ],
            [
             0.3333333333333333,
             "#9c179e"
            ],
            [
             0.4444444444444444,
             "#bd3786"
            ],
            [
             0.5555555555555556,
             "#d8576b"
            ],
            [
             0.6666666666666666,
             "#ed7953"
            ],
            [
             0.7777777777777778,
             "#fb9f3a"
            ],
            [
             0.8888888888888888,
             "#fdca26"
            ],
            [
             1,
             "#f0f921"
            ]
           ]
          },
          "colorway": [
           "#636efa",
           "#EF553B",
           "#00cc96",
           "#ab63fa",
           "#FFA15A",
           "#19d3f3",
           "#FF6692",
           "#B6E880",
           "#FF97FF",
           "#FECB52"
          ],
          "font": {
           "color": "#2a3f5f"
          },
          "geo": {
           "bgcolor": "white",
           "lakecolor": "white",
           "landcolor": "#E5ECF6",
           "showlakes": true,
           "showland": true,
           "subunitcolor": "white"
          },
          "hoverlabel": {
           "align": "left"
          },
          "hovermode": "closest",
          "mapbox": {
           "style": "light"
          },
          "paper_bgcolor": "white",
          "plot_bgcolor": "#E5ECF6",
          "polar": {
           "angularaxis": {
            "gridcolor": "white",
            "linecolor": "white",
            "ticks": ""
           },
           "bgcolor": "#E5ECF6",
           "radialaxis": {
            "gridcolor": "white",
            "linecolor": "white",
            "ticks": ""
           }
          },
          "scene": {
           "xaxis": {
            "backgroundcolor": "#E5ECF6",
            "gridcolor": "white",
            "gridwidth": 2,
            "linecolor": "white",
            "showbackground": true,
            "ticks": "",
            "zerolinecolor": "white"
           },
           "yaxis": {
            "backgroundcolor": "#E5ECF6",
            "gridcolor": "white",
            "gridwidth": 2,
            "linecolor": "white",
            "showbackground": true,
            "ticks": "",
            "zerolinecolor": "white"
           },
           "zaxis": {
            "backgroundcolor": "#E5ECF6",
            "gridcolor": "white",
            "gridwidth": 2,
            "linecolor": "white",
            "showbackground": true,
            "ticks": "",
            "zerolinecolor": "white"
           }
          },
          "shapedefaults": {
           "line": {
            "color": "#2a3f5f"
           }
          },
          "ternary": {
           "aaxis": {
            "gridcolor": "white",
            "linecolor": "white",
            "ticks": ""
           },
           "baxis": {
            "gridcolor": "white",
            "linecolor": "white",
            "ticks": ""
           },
           "bgcolor": "#E5ECF6",
           "caxis": {
            "gridcolor": "white",
            "linecolor": "white",
            "ticks": ""
           }
          },
          "title": {
           "x": 0.05
          },
          "xaxis": {
           "automargin": true,
           "gridcolor": "white",
           "linecolor": "white",
           "ticks": "",
           "title": {
            "standoff": 15
           },
           "zerolinecolor": "white",
           "zerolinewidth": 2
          },
          "yaxis": {
           "automargin": true,
           "gridcolor": "white",
           "linecolor": "white",
           "ticks": "",
           "title": {
            "standoff": 15
           },
           "zerolinecolor": "white",
           "zerolinewidth": 2
          }
         }
        },
        "title": {
         "text": "Actual and Predicted Wheel Speeds, Recording 4, Trial 0"
        },
        "xaxis": {
         "title": {
          "text": "Time"
         }
        },
        "yaxis": {
         "title": {
          "text": "Value"
         }
        }
       }
      }
     },
     "metadata": {},
     "output_type": "display_data"
    },
    {
     "data": {
      "application/vnd.plotly.v1+json": {
       "config": {
        "plotlyServerURL": "https://plot.ly"
       },
       "data": [
        {
         "name": "Actual",
         "type": "scatter",
         "y": [
          -0.007186049595475197,
          -0.0016430504620075226,
          0.049031488597393036,
          0.03906809166073799,
          0.0015920016448944807,
          -0.014897800981998444,
          -0.013340792618691921,
          0.00007620551332365721,
          -0.01382478978484869,
          -0.08420311659574509,
          -0.8435786962509155,
          -1.727528691291809,
          -1.9733089208602905,
          -1.939542293548584,
          -1.6084725856781006,
          -1.4664255380630493,
          -1.6942962408065796,
          -1.0455118417739868,
          -0.9369902014732361,
          -1.6301788091659546,
          -1.6252899169921875,
          -0.5784508585929871,
          -0.8973486423492432,
          -1.2504956722259521,
          -0.6137268543243408,
          -0.8187161087989807,
          0.7591173648834229,
          2.7121405601501465,
          2.2161240577697754,
          1.885846734046936,
          2.569772720336914,
          2.1017372608184814,
          1.8608176708221436,
          1.747450351715088,
          1.3123798370361328,
          1.1384276151657104,
          1.4016640186309814,
          0.550206184387207,
          0.11897522956132889,
          0.4304901361465454
         ]
        },
        {
         "name": "Predicted",
         "type": "scatter",
         "y": [
          0.01733662374317646,
          0.002464212477207184,
          -0.0034720059484243393,
          -0.017523596063256264,
          0.012587390840053558,
          0.011854313313961029,
          -0.004417408257722855,
          0.007959157228469849,
          0.013388831168413162,
          0.014875702559947968,
          -0.23572863638401031,
          -0.6147168874740601,
          -0.4407094120979309,
          0.02495153620839119,
          0.3256642818450928,
          0.02560766413807869,
          -0.11712723225355148,
          0.20733335614204407,
          0.32924535870552063,
          0.07090535759925842,
          0.045371249318122864,
          0.23222118616104126,
          0.5157504677772522,
          0.6077272891998291,
          0.625491738319397,
          0.2944645881652832,
          -0.019410260021686554,
          0.1179484874010086,
          0.26671266555786133,
          0.22511175274848938,
          0.26842236518859863,
          0.3387448191642761,
          0.453778475522995,
          0.36011919379234314,
          0.41908884048461914,
          0.371421754360199,
          0.18714796006679535,
          0.08949641138315201,
          0.06213280186057091,
          0.003135204315185547
         ]
        }
       ],
       "layout": {
        "template": {
         "data": {
          "bar": [
           {
            "error_x": {
             "color": "#2a3f5f"
            },
            "error_y": {
             "color": "#2a3f5f"
            },
            "marker": {
             "line": {
              "color": "#E5ECF6",
              "width": 0.5
             },
             "pattern": {
              "fillmode": "overlay",
              "size": 10,
              "solidity": 0.2
             }
            },
            "type": "bar"
           }
          ],
          "barpolar": [
           {
            "marker": {
             "line": {
              "color": "#E5ECF6",
              "width": 0.5
             },
             "pattern": {
              "fillmode": "overlay",
              "size": 10,
              "solidity": 0.2
             }
            },
            "type": "barpolar"
           }
          ],
          "carpet": [
           {
            "aaxis": {
             "endlinecolor": "#2a3f5f",
             "gridcolor": "white",
             "linecolor": "white",
             "minorgridcolor": "white",
             "startlinecolor": "#2a3f5f"
            },
            "baxis": {
             "endlinecolor": "#2a3f5f",
             "gridcolor": "white",
             "linecolor": "white",
             "minorgridcolor": "white",
             "startlinecolor": "#2a3f5f"
            },
            "type": "carpet"
           }
          ],
          "choropleth": [
           {
            "colorbar": {
             "outlinewidth": 0,
             "ticks": ""
            },
            "type": "choropleth"
           }
          ],
          "contour": [
           {
            "colorbar": {
             "outlinewidth": 0,
             "ticks": ""
            },
            "colorscale": [
             [
              0,
              "#0d0887"
             ],
             [
              0.1111111111111111,
              "#46039f"
             ],
             [
              0.2222222222222222,
              "#7201a8"
             ],
             [
              0.3333333333333333,
              "#9c179e"
             ],
             [
              0.4444444444444444,
              "#bd3786"
             ],
             [
              0.5555555555555556,
              "#d8576b"
             ],
             [
              0.6666666666666666,
              "#ed7953"
             ],
             [
              0.7777777777777778,
              "#fb9f3a"
             ],
             [
              0.8888888888888888,
              "#fdca26"
             ],
             [
              1,
              "#f0f921"
             ]
            ],
            "type": "contour"
           }
          ],
          "contourcarpet": [
           {
            "colorbar": {
             "outlinewidth": 0,
             "ticks": ""
            },
            "type": "contourcarpet"
           }
          ],
          "heatmap": [
           {
            "colorbar": {
             "outlinewidth": 0,
             "ticks": ""
            },
            "colorscale": [
             [
              0,
              "#0d0887"
             ],
             [
              0.1111111111111111,
              "#46039f"
             ],
             [
              0.2222222222222222,
              "#7201a8"
             ],
             [
              0.3333333333333333,
              "#9c179e"
             ],
             [
              0.4444444444444444,
              "#bd3786"
             ],
             [
              0.5555555555555556,
              "#d8576b"
             ],
             [
              0.6666666666666666,
              "#ed7953"
             ],
             [
              0.7777777777777778,
              "#fb9f3a"
             ],
             [
              0.8888888888888888,
              "#fdca26"
             ],
             [
              1,
              "#f0f921"
             ]
            ],
            "type": "heatmap"
           }
          ],
          "heatmapgl": [
           {
            "colorbar": {
             "outlinewidth": 0,
             "ticks": ""
            },
            "colorscale": [
             [
              0,
              "#0d0887"
             ],
             [
              0.1111111111111111,
              "#46039f"
             ],
             [
              0.2222222222222222,
              "#7201a8"
             ],
             [
              0.3333333333333333,
              "#9c179e"
             ],
             [
              0.4444444444444444,
              "#bd3786"
             ],
             [
              0.5555555555555556,
              "#d8576b"
             ],
             [
              0.6666666666666666,
              "#ed7953"
             ],
             [
              0.7777777777777778,
              "#fb9f3a"
             ],
             [
              0.8888888888888888,
              "#fdca26"
             ],
             [
              1,
              "#f0f921"
             ]
            ],
            "type": "heatmapgl"
           }
          ],
          "histogram": [
           {
            "marker": {
             "pattern": {
              "fillmode": "overlay",
              "size": 10,
              "solidity": 0.2
             }
            },
            "type": "histogram"
           }
          ],
          "histogram2d": [
           {
            "colorbar": {
             "outlinewidth": 0,
             "ticks": ""
            },
            "colorscale": [
             [
              0,
              "#0d0887"
             ],
             [
              0.1111111111111111,
              "#46039f"
             ],
             [
              0.2222222222222222,
              "#7201a8"
             ],
             [
              0.3333333333333333,
              "#9c179e"
             ],
             [
              0.4444444444444444,
              "#bd3786"
             ],
             [
              0.5555555555555556,
              "#d8576b"
             ],
             [
              0.6666666666666666,
              "#ed7953"
             ],
             [
              0.7777777777777778,
              "#fb9f3a"
             ],
             [
              0.8888888888888888,
              "#fdca26"
             ],
             [
              1,
              "#f0f921"
             ]
            ],
            "type": "histogram2d"
           }
          ],
          "histogram2dcontour": [
           {
            "colorbar": {
             "outlinewidth": 0,
             "ticks": ""
            },
            "colorscale": [
             [
              0,
              "#0d0887"
             ],
             [
              0.1111111111111111,
              "#46039f"
             ],
             [
              0.2222222222222222,
              "#7201a8"
             ],
             [
              0.3333333333333333,
              "#9c179e"
             ],
             [
              0.4444444444444444,
              "#bd3786"
             ],
             [
              0.5555555555555556,
              "#d8576b"
             ],
             [
              0.6666666666666666,
              "#ed7953"
             ],
             [
              0.7777777777777778,
              "#fb9f3a"
             ],
             [
              0.8888888888888888,
              "#fdca26"
             ],
             [
              1,
              "#f0f921"
             ]
            ],
            "type": "histogram2dcontour"
           }
          ],
          "mesh3d": [
           {
            "colorbar": {
             "outlinewidth": 0,
             "ticks": ""
            },
            "type": "mesh3d"
           }
          ],
          "parcoords": [
           {
            "line": {
             "colorbar": {
              "outlinewidth": 0,
              "ticks": ""
             }
            },
            "type": "parcoords"
           }
          ],
          "pie": [
           {
            "automargin": true,
            "type": "pie"
           }
          ],
          "scatter": [
           {
            "fillpattern": {
             "fillmode": "overlay",
             "size": 10,
             "solidity": 0.2
            },
            "type": "scatter"
           }
          ],
          "scatter3d": [
           {
            "line": {
             "colorbar": {
              "outlinewidth": 0,
              "ticks": ""
             }
            },
            "marker": {
             "colorbar": {
              "outlinewidth": 0,
              "ticks": ""
             }
            },
            "type": "scatter3d"
           }
          ],
          "scattercarpet": [
           {
            "marker": {
             "colorbar": {
              "outlinewidth": 0,
              "ticks": ""
             }
            },
            "type": "scattercarpet"
           }
          ],
          "scattergeo": [
           {
            "marker": {
             "colorbar": {
              "outlinewidth": 0,
              "ticks": ""
             }
            },
            "type": "scattergeo"
           }
          ],
          "scattergl": [
           {
            "marker": {
             "colorbar": {
              "outlinewidth": 0,
              "ticks": ""
             }
            },
            "type": "scattergl"
           }
          ],
          "scattermapbox": [
           {
            "marker": {
             "colorbar": {
              "outlinewidth": 0,
              "ticks": ""
             }
            },
            "type": "scattermapbox"
           }
          ],
          "scatterpolar": [
           {
            "marker": {
             "colorbar": {
              "outlinewidth": 0,
              "ticks": ""
             }
            },
            "type": "scatterpolar"
           }
          ],
          "scatterpolargl": [
           {
            "marker": {
             "colorbar": {
              "outlinewidth": 0,
              "ticks": ""
             }
            },
            "type": "scatterpolargl"
           }
          ],
          "scatterternary": [
           {
            "marker": {
             "colorbar": {
              "outlinewidth": 0,
              "ticks": ""
             }
            },
            "type": "scatterternary"
           }
          ],
          "surface": [
           {
            "colorbar": {
             "outlinewidth": 0,
             "ticks": ""
            },
            "colorscale": [
             [
              0,
              "#0d0887"
             ],
             [
              0.1111111111111111,
              "#46039f"
             ],
             [
              0.2222222222222222,
              "#7201a8"
             ],
             [
              0.3333333333333333,
              "#9c179e"
             ],
             [
              0.4444444444444444,
              "#bd3786"
             ],
             [
              0.5555555555555556,
              "#d8576b"
             ],
             [
              0.6666666666666666,
              "#ed7953"
             ],
             [
              0.7777777777777778,
              "#fb9f3a"
             ],
             [
              0.8888888888888888,
              "#fdca26"
             ],
             [
              1,
              "#f0f921"
             ]
            ],
            "type": "surface"
           }
          ],
          "table": [
           {
            "cells": {
             "fill": {
              "color": "#EBF0F8"
             },
             "line": {
              "color": "white"
             }
            },
            "header": {
             "fill": {
              "color": "#C8D4E3"
             },
             "line": {
              "color": "white"
             }
            },
            "type": "table"
           }
          ]
         },
         "layout": {
          "annotationdefaults": {
           "arrowcolor": "#2a3f5f",
           "arrowhead": 0,
           "arrowwidth": 1
          },
          "autotypenumbers": "strict",
          "coloraxis": {
           "colorbar": {
            "outlinewidth": 0,
            "ticks": ""
           }
          },
          "colorscale": {
           "diverging": [
            [
             0,
             "#8e0152"
            ],
            [
             0.1,
             "#c51b7d"
            ],
            [
             0.2,
             "#de77ae"
            ],
            [
             0.3,
             "#f1b6da"
            ],
            [
             0.4,
             "#fde0ef"
            ],
            [
             0.5,
             "#f7f7f7"
            ],
            [
             0.6,
             "#e6f5d0"
            ],
            [
             0.7,
             "#b8e186"
            ],
            [
             0.8,
             "#7fbc41"
            ],
            [
             0.9,
             "#4d9221"
            ],
            [
             1,
             "#276419"
            ]
           ],
           "sequential": [
            [
             0,
             "#0d0887"
            ],
            [
             0.1111111111111111,
             "#46039f"
            ],
            [
             0.2222222222222222,
             "#7201a8"
            ],
            [
             0.3333333333333333,
             "#9c179e"
            ],
            [
             0.4444444444444444,
             "#bd3786"
            ],
            [
             0.5555555555555556,
             "#d8576b"
            ],
            [
             0.6666666666666666,
             "#ed7953"
            ],
            [
             0.7777777777777778,
             "#fb9f3a"
            ],
            [
             0.8888888888888888,
             "#fdca26"
            ],
            [
             1,
             "#f0f921"
            ]
           ],
           "sequentialminus": [
            [
             0,
             "#0d0887"
            ],
            [
             0.1111111111111111,
             "#46039f"
            ],
            [
             0.2222222222222222,
             "#7201a8"
            ],
            [
             0.3333333333333333,
             "#9c179e"
            ],
            [
             0.4444444444444444,
             "#bd3786"
            ],
            [
             0.5555555555555556,
             "#d8576b"
            ],
            [
             0.6666666666666666,
             "#ed7953"
            ],
            [
             0.7777777777777778,
             "#fb9f3a"
            ],
            [
             0.8888888888888888,
             "#fdca26"
            ],
            [
             1,
             "#f0f921"
            ]
           ]
          },
          "colorway": [
           "#636efa",
           "#EF553B",
           "#00cc96",
           "#ab63fa",
           "#FFA15A",
           "#19d3f3",
           "#FF6692",
           "#B6E880",
           "#FF97FF",
           "#FECB52"
          ],
          "font": {
           "color": "#2a3f5f"
          },
          "geo": {
           "bgcolor": "white",
           "lakecolor": "white",
           "landcolor": "#E5ECF6",
           "showlakes": true,
           "showland": true,
           "subunitcolor": "white"
          },
          "hoverlabel": {
           "align": "left"
          },
          "hovermode": "closest",
          "mapbox": {
           "style": "light"
          },
          "paper_bgcolor": "white",
          "plot_bgcolor": "#E5ECF6",
          "polar": {
           "angularaxis": {
            "gridcolor": "white",
            "linecolor": "white",
            "ticks": ""
           },
           "bgcolor": "#E5ECF6",
           "radialaxis": {
            "gridcolor": "white",
            "linecolor": "white",
            "ticks": ""
           }
          },
          "scene": {
           "xaxis": {
            "backgroundcolor": "#E5ECF6",
            "gridcolor": "white",
            "gridwidth": 2,
            "linecolor": "white",
            "showbackground": true,
            "ticks": "",
            "zerolinecolor": "white"
           },
           "yaxis": {
            "backgroundcolor": "#E5ECF6",
            "gridcolor": "white",
            "gridwidth": 2,
            "linecolor": "white",
            "showbackground": true,
            "ticks": "",
            "zerolinecolor": "white"
           },
           "zaxis": {
            "backgroundcolor": "#E5ECF6",
            "gridcolor": "white",
            "gridwidth": 2,
            "linecolor": "white",
            "showbackground": true,
            "ticks": "",
            "zerolinecolor": "white"
           }
          },
          "shapedefaults": {
           "line": {
            "color": "#2a3f5f"
           }
          },
          "ternary": {
           "aaxis": {
            "gridcolor": "white",
            "linecolor": "white",
            "ticks": ""
           },
           "baxis": {
            "gridcolor": "white",
            "linecolor": "white",
            "ticks": ""
           },
           "bgcolor": "#E5ECF6",
           "caxis": {
            "gridcolor": "white",
            "linecolor": "white",
            "ticks": ""
           }
          },
          "title": {
           "x": 0.05
          },
          "xaxis": {
           "automargin": true,
           "gridcolor": "white",
           "linecolor": "white",
           "ticks": "",
           "title": {
            "standoff": 15
           },
           "zerolinecolor": "white",
           "zerolinewidth": 2
          },
          "yaxis": {
           "automargin": true,
           "gridcolor": "white",
           "linecolor": "white",
           "ticks": "",
           "title": {
            "standoff": 15
           },
           "zerolinecolor": "white",
           "zerolinewidth": 2
          }
         }
        },
        "title": {
         "text": "Actual and Predicted Wheel Speeds, Recording 4, Trial 1"
        },
        "xaxis": {
         "title": {
          "text": "Time"
         }
        },
        "yaxis": {
         "title": {
          "text": "Value"
         }
        }
       }
      }
     },
     "metadata": {},
     "output_type": "display_data"
    },
    {
     "data": {
      "application/vnd.plotly.v1+json": {
       "config": {
        "plotlyServerURL": "https://plot.ly"
       },
       "data": [
        {
         "name": "Actual",
         "type": "scatter",
         "y": [
          0.031163033097982407,
          -0.02926291525363922,
          0.04186928644776344,
          0.056023672223091125,
          0.056312743574380875,
          0.04572273790836334,
          0.04875423386693001,
          -0.01100811455398798,
          0.029986940324306488,
          0.16368544101715088,
          1.4921032190322876,
          1.2720768451690674,
          -0.5196288824081421,
          -1.4889084100723267,
          -1.771999478340149,
          -2.0988523960113525,
          -1.2963367700576782,
          0.6291366219520569,
          -0.1292104572057724,
          -1.8725852966308594,
          -1.7705090045928955,
          -1.443191409111023,
          -0.709209680557251,
          -1.2452349662780762,
          -0.2824542224407196,
          -0.16930082440376282,
          -0.3064802289009094,
          -0.6380351781845093,
          -0.8902414441108704,
          -0.933322548866272,
          -0.6645764708518982,
          -0.6867722868919373,
          -0.6662909388542175,
          -0.5859687924385071,
          -0.5065290927886963,
          -0.4033125936985016,
          -0.3523765504360199,
          -0.3570179343223572,
          -0.33584025502204895,
          -0.20776329934597015
         ]
        },
        {
         "name": "Predicted",
         "type": "scatter",
         "y": [
          0.0035588517785072327,
          -0.000863218680024147,
          0.039877891540527344,
          -0.019349969923496246,
          0.03593544661998749,
          0.062720887362957,
          -0.03147341310977936,
          0.02408810332417488,
          0.006091669201850891,
          0.016285255551338196,
          0.30874311923980713,
          0.1554676592350006,
          -0.015959657728672028,
          0.6531105041503906,
          1.7466533184051514,
          1.862480640411377,
          1.255796194076538,
          -0.43523406982421875,
          -0.980832576751709,
          -0.37362608313560486,
          -1.0142909288406372,
          -1.033413052558899,
          -1.0089532136917114,
          -0.8575292825698853,
          -0.8306928277015686,
          -0.9406816959381104,
          -0.7533537149429321,
          -0.602445125579834,
          -0.17767992615699768,
          -0.16787905991077423,
          -0.396847665309906,
          -0.016350969672203064,
          -0.38385242223739624,
          -0.6008189916610718,
          -0.8497321009635925,
          -0.48436328768730164,
          -0.09269391000270844,
          -0.2507140338420868,
          -0.3919890522956848,
          -0.4361226558685303
         ]
        }
       ],
       "layout": {
        "template": {
         "data": {
          "bar": [
           {
            "error_x": {
             "color": "#2a3f5f"
            },
            "error_y": {
             "color": "#2a3f5f"
            },
            "marker": {
             "line": {
              "color": "#E5ECF6",
              "width": 0.5
             },
             "pattern": {
              "fillmode": "overlay",
              "size": 10,
              "solidity": 0.2
             }
            },
            "type": "bar"
           }
          ],
          "barpolar": [
           {
            "marker": {
             "line": {
              "color": "#E5ECF6",
              "width": 0.5
             },
             "pattern": {
              "fillmode": "overlay",
              "size": 10,
              "solidity": 0.2
             }
            },
            "type": "barpolar"
           }
          ],
          "carpet": [
           {
            "aaxis": {
             "endlinecolor": "#2a3f5f",
             "gridcolor": "white",
             "linecolor": "white",
             "minorgridcolor": "white",
             "startlinecolor": "#2a3f5f"
            },
            "baxis": {
             "endlinecolor": "#2a3f5f",
             "gridcolor": "white",
             "linecolor": "white",
             "minorgridcolor": "white",
             "startlinecolor": "#2a3f5f"
            },
            "type": "carpet"
           }
          ],
          "choropleth": [
           {
            "colorbar": {
             "outlinewidth": 0,
             "ticks": ""
            },
            "type": "choropleth"
           }
          ],
          "contour": [
           {
            "colorbar": {
             "outlinewidth": 0,
             "ticks": ""
            },
            "colorscale": [
             [
              0,
              "#0d0887"
             ],
             [
              0.1111111111111111,
              "#46039f"
             ],
             [
              0.2222222222222222,
              "#7201a8"
             ],
             [
              0.3333333333333333,
              "#9c179e"
             ],
             [
              0.4444444444444444,
              "#bd3786"
             ],
             [
              0.5555555555555556,
              "#d8576b"
             ],
             [
              0.6666666666666666,
              "#ed7953"
             ],
             [
              0.7777777777777778,
              "#fb9f3a"
             ],
             [
              0.8888888888888888,
              "#fdca26"
             ],
             [
              1,
              "#f0f921"
             ]
            ],
            "type": "contour"
           }
          ],
          "contourcarpet": [
           {
            "colorbar": {
             "outlinewidth": 0,
             "ticks": ""
            },
            "type": "contourcarpet"
           }
          ],
          "heatmap": [
           {
            "colorbar": {
             "outlinewidth": 0,
             "ticks": ""
            },
            "colorscale": [
             [
              0,
              "#0d0887"
             ],
             [
              0.1111111111111111,
              "#46039f"
             ],
             [
              0.2222222222222222,
              "#7201a8"
             ],
             [
              0.3333333333333333,
              "#9c179e"
             ],
             [
              0.4444444444444444,
              "#bd3786"
             ],
             [
              0.5555555555555556,
              "#d8576b"
             ],
             [
              0.6666666666666666,
              "#ed7953"
             ],
             [
              0.7777777777777778,
              "#fb9f3a"
             ],
             [
              0.8888888888888888,
              "#fdca26"
             ],
             [
              1,
              "#f0f921"
             ]
            ],
            "type": "heatmap"
           }
          ],
          "heatmapgl": [
           {
            "colorbar": {
             "outlinewidth": 0,
             "ticks": ""
            },
            "colorscale": [
             [
              0,
              "#0d0887"
             ],
             [
              0.1111111111111111,
              "#46039f"
             ],
             [
              0.2222222222222222,
              "#7201a8"
             ],
             [
              0.3333333333333333,
              "#9c179e"
             ],
             [
              0.4444444444444444,
              "#bd3786"
             ],
             [
              0.5555555555555556,
              "#d8576b"
             ],
             [
              0.6666666666666666,
              "#ed7953"
             ],
             [
              0.7777777777777778,
              "#fb9f3a"
             ],
             [
              0.8888888888888888,
              "#fdca26"
             ],
             [
              1,
              "#f0f921"
             ]
            ],
            "type": "heatmapgl"
           }
          ],
          "histogram": [
           {
            "marker": {
             "pattern": {
              "fillmode": "overlay",
              "size": 10,
              "solidity": 0.2
             }
            },
            "type": "histogram"
           }
          ],
          "histogram2d": [
           {
            "colorbar": {
             "outlinewidth": 0,
             "ticks": ""
            },
            "colorscale": [
             [
              0,
              "#0d0887"
             ],
             [
              0.1111111111111111,
              "#46039f"
             ],
             [
              0.2222222222222222,
              "#7201a8"
             ],
             [
              0.3333333333333333,
              "#9c179e"
             ],
             [
              0.4444444444444444,
              "#bd3786"
             ],
             [
              0.5555555555555556,
              "#d8576b"
             ],
             [
              0.6666666666666666,
              "#ed7953"
             ],
             [
              0.7777777777777778,
              "#fb9f3a"
             ],
             [
              0.8888888888888888,
              "#fdca26"
             ],
             [
              1,
              "#f0f921"
             ]
            ],
            "type": "histogram2d"
           }
          ],
          "histogram2dcontour": [
           {
            "colorbar": {
             "outlinewidth": 0,
             "ticks": ""
            },
            "colorscale": [
             [
              0,
              "#0d0887"
             ],
             [
              0.1111111111111111,
              "#46039f"
             ],
             [
              0.2222222222222222,
              "#7201a8"
             ],
             [
              0.3333333333333333,
              "#9c179e"
             ],
             [
              0.4444444444444444,
              "#bd3786"
             ],
             [
              0.5555555555555556,
              "#d8576b"
             ],
             [
              0.6666666666666666,
              "#ed7953"
             ],
             [
              0.7777777777777778,
              "#fb9f3a"
             ],
             [
              0.8888888888888888,
              "#fdca26"
             ],
             [
              1,
              "#f0f921"
             ]
            ],
            "type": "histogram2dcontour"
           }
          ],
          "mesh3d": [
           {
            "colorbar": {
             "outlinewidth": 0,
             "ticks": ""
            },
            "type": "mesh3d"
           }
          ],
          "parcoords": [
           {
            "line": {
             "colorbar": {
              "outlinewidth": 0,
              "ticks": ""
             }
            },
            "type": "parcoords"
           }
          ],
          "pie": [
           {
            "automargin": true,
            "type": "pie"
           }
          ],
          "scatter": [
           {
            "fillpattern": {
             "fillmode": "overlay",
             "size": 10,
             "solidity": 0.2
            },
            "type": "scatter"
           }
          ],
          "scatter3d": [
           {
            "line": {
             "colorbar": {
              "outlinewidth": 0,
              "ticks": ""
             }
            },
            "marker": {
             "colorbar": {
              "outlinewidth": 0,
              "ticks": ""
             }
            },
            "type": "scatter3d"
           }
          ],
          "scattercarpet": [
           {
            "marker": {
             "colorbar": {
              "outlinewidth": 0,
              "ticks": ""
             }
            },
            "type": "scattercarpet"
           }
          ],
          "scattergeo": [
           {
            "marker": {
             "colorbar": {
              "outlinewidth": 0,
              "ticks": ""
             }
            },
            "type": "scattergeo"
           }
          ],
          "scattergl": [
           {
            "marker": {
             "colorbar": {
              "outlinewidth": 0,
              "ticks": ""
             }
            },
            "type": "scattergl"
           }
          ],
          "scattermapbox": [
           {
            "marker": {
             "colorbar": {
              "outlinewidth": 0,
              "ticks": ""
             }
            },
            "type": "scattermapbox"
           }
          ],
          "scatterpolar": [
           {
            "marker": {
             "colorbar": {
              "outlinewidth": 0,
              "ticks": ""
             }
            },
            "type": "scatterpolar"
           }
          ],
          "scatterpolargl": [
           {
            "marker": {
             "colorbar": {
              "outlinewidth": 0,
              "ticks": ""
             }
            },
            "type": "scatterpolargl"
           }
          ],
          "scatterternary": [
           {
            "marker": {
             "colorbar": {
              "outlinewidth": 0,
              "ticks": ""
             }
            },
            "type": "scatterternary"
           }
          ],
          "surface": [
           {
            "colorbar": {
             "outlinewidth": 0,
             "ticks": ""
            },
            "colorscale": [
             [
              0,
              "#0d0887"
             ],
             [
              0.1111111111111111,
              "#46039f"
             ],
             [
              0.2222222222222222,
              "#7201a8"
             ],
             [
              0.3333333333333333,
              "#9c179e"
             ],
             [
              0.4444444444444444,
              "#bd3786"
             ],
             [
              0.5555555555555556,
              "#d8576b"
             ],
             [
              0.6666666666666666,
              "#ed7953"
             ],
             [
              0.7777777777777778,
              "#fb9f3a"
             ],
             [
              0.8888888888888888,
              "#fdca26"
             ],
             [
              1,
              "#f0f921"
             ]
            ],
            "type": "surface"
           }
          ],
          "table": [
           {
            "cells": {
             "fill": {
              "color": "#EBF0F8"
             },
             "line": {
              "color": "white"
             }
            },
            "header": {
             "fill": {
              "color": "#C8D4E3"
             },
             "line": {
              "color": "white"
             }
            },
            "type": "table"
           }
          ]
         },
         "layout": {
          "annotationdefaults": {
           "arrowcolor": "#2a3f5f",
           "arrowhead": 0,
           "arrowwidth": 1
          },
          "autotypenumbers": "strict",
          "coloraxis": {
           "colorbar": {
            "outlinewidth": 0,
            "ticks": ""
           }
          },
          "colorscale": {
           "diverging": [
            [
             0,
             "#8e0152"
            ],
            [
             0.1,
             "#c51b7d"
            ],
            [
             0.2,
             "#de77ae"
            ],
            [
             0.3,
             "#f1b6da"
            ],
            [
             0.4,
             "#fde0ef"
            ],
            [
             0.5,
             "#f7f7f7"
            ],
            [
             0.6,
             "#e6f5d0"
            ],
            [
             0.7,
             "#b8e186"
            ],
            [
             0.8,
             "#7fbc41"
            ],
            [
             0.9,
             "#4d9221"
            ],
            [
             1,
             "#276419"
            ]
           ],
           "sequential": [
            [
             0,
             "#0d0887"
            ],
            [
             0.1111111111111111,
             "#46039f"
            ],
            [
             0.2222222222222222,
             "#7201a8"
            ],
            [
             0.3333333333333333,
             "#9c179e"
            ],
            [
             0.4444444444444444,
             "#bd3786"
            ],
            [
             0.5555555555555556,
             "#d8576b"
            ],
            [
             0.6666666666666666,
             "#ed7953"
            ],
            [
             0.7777777777777778,
             "#fb9f3a"
            ],
            [
             0.8888888888888888,
             "#fdca26"
            ],
            [
             1,
             "#f0f921"
            ]
           ],
           "sequentialminus": [
            [
             0,
             "#0d0887"
            ],
            [
             0.1111111111111111,
             "#46039f"
            ],
            [
             0.2222222222222222,
             "#7201a8"
            ],
            [
             0.3333333333333333,
             "#9c179e"
            ],
            [
             0.4444444444444444,
             "#bd3786"
            ],
            [
             0.5555555555555556,
             "#d8576b"
            ],
            [
             0.6666666666666666,
             "#ed7953"
            ],
            [
             0.7777777777777778,
             "#fb9f3a"
            ],
            [
             0.8888888888888888,
             "#fdca26"
            ],
            [
             1,
             "#f0f921"
            ]
           ]
          },
          "colorway": [
           "#636efa",
           "#EF553B",
           "#00cc96",
           "#ab63fa",
           "#FFA15A",
           "#19d3f3",
           "#FF6692",
           "#B6E880",
           "#FF97FF",
           "#FECB52"
          ],
          "font": {
           "color": "#2a3f5f"
          },
          "geo": {
           "bgcolor": "white",
           "lakecolor": "white",
           "landcolor": "#E5ECF6",
           "showlakes": true,
           "showland": true,
           "subunitcolor": "white"
          },
          "hoverlabel": {
           "align": "left"
          },
          "hovermode": "closest",
          "mapbox": {
           "style": "light"
          },
          "paper_bgcolor": "white",
          "plot_bgcolor": "#E5ECF6",
          "polar": {
           "angularaxis": {
            "gridcolor": "white",
            "linecolor": "white",
            "ticks": ""
           },
           "bgcolor": "#E5ECF6",
           "radialaxis": {
            "gridcolor": "white",
            "linecolor": "white",
            "ticks": ""
           }
          },
          "scene": {
           "xaxis": {
            "backgroundcolor": "#E5ECF6",
            "gridcolor": "white",
            "gridwidth": 2,
            "linecolor": "white",
            "showbackground": true,
            "ticks": "",
            "zerolinecolor": "white"
           },
           "yaxis": {
            "backgroundcolor": "#E5ECF6",
            "gridcolor": "white",
            "gridwidth": 2,
            "linecolor": "white",
            "showbackground": true,
            "ticks": "",
            "zerolinecolor": "white"
           },
           "zaxis": {
            "backgroundcolor": "#E5ECF6",
            "gridcolor": "white",
            "gridwidth": 2,
            "linecolor": "white",
            "showbackground": true,
            "ticks": "",
            "zerolinecolor": "white"
           }
          },
          "shapedefaults": {
           "line": {
            "color": "#2a3f5f"
           }
          },
          "ternary": {
           "aaxis": {
            "gridcolor": "white",
            "linecolor": "white",
            "ticks": ""
           },
           "baxis": {
            "gridcolor": "white",
            "linecolor": "white",
            "ticks": ""
           },
           "bgcolor": "#E5ECF6",
           "caxis": {
            "gridcolor": "white",
            "linecolor": "white",
            "ticks": ""
           }
          },
          "title": {
           "x": 0.05
          },
          "xaxis": {
           "automargin": true,
           "gridcolor": "white",
           "linecolor": "white",
           "ticks": "",
           "title": {
            "standoff": 15
           },
           "zerolinecolor": "white",
           "zerolinewidth": 2
          },
          "yaxis": {
           "automargin": true,
           "gridcolor": "white",
           "linecolor": "white",
           "ticks": "",
           "title": {
            "standoff": 15
           },
           "zerolinecolor": "white",
           "zerolinewidth": 2
          }
         }
        },
        "title": {
         "text": "Actual and Predicted Wheel Speeds, Recording 4, Trial 2"
        },
        "xaxis": {
         "title": {
          "text": "Time"
         }
        },
        "yaxis": {
         "title": {
          "text": "Value"
         }
        }
       }
      }
     },
     "metadata": {},
     "output_type": "display_data"
    },
    {
     "name": "stdout",
     "output_type": "stream",
     "text": [
      "Evaluation, Recording 4, Loss 2.0194709300994873\n"
     ]
    }
   ],
   "source": [
    "for recording in range(TOTAL_RECORDINGS):\n",
    "    loss_item = evaluate_recording(recording, X_test[recording], Y_test[recording], model, loss_fn, plot_num=3)\n",
    "    print(f'Evaluation, Recording {recording}, Loss {loss_item}')"
   ]
  }
 ],
 "metadata": {
  "kernelspec": {
   "display_name": "base",
   "language": "python",
   "name": "python3"
  },
  "language_info": {
   "codemirror_mode": {
    "name": "ipython",
    "version": 3
   },
   "file_extension": ".py",
   "mimetype": "text/x-python",
   "name": "python",
   "nbconvert_exporter": "python",
   "pygments_lexer": "ipython3",
   "version": "3.9.16"
  }
 },
 "nbformat": 4,
 "nbformat_minor": 2
}
