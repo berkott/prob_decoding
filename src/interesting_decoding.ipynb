{
 "cells": [
  {
   "cell_type": "markdown",
   "metadata": {},
   "source": [
    "# Neural Network Model"
   ]
  },
  {
   "cell_type": "code",
   "execution_count": 10,
   "metadata": {},
   "outputs": [],
   "source": [
    "import numpy as np\n",
    "import torch\n",
    "import plotly.graph_objects as go\n",
    "\n",
    "from sklearn.linear_model import ARDRegression\n",
    "from sklearn.multioutput import RegressorChain\n",
    "from sklearn.metrics import mean_squared_error\n",
    "\n",
    "from models.reduced_rank_model import ReducedRankModel\n",
    "from models.neural_network import NeuralNetworkModel\n",
    "from models.zero_predictor import ZeroPredictor\n",
    "from models.mean_predictor import MeanPredictor\n",
    "from models.yizi_decoders import time_bin_wise_metrics, continuous_decoder, sliding_window_over_time, sliding_window_decoder\n",
    "\n",
    "from utils.get_data import get_data, get_test_train_data, smooth_x, smooth_y\n",
    "from utils.evaluation import evaluate_recording\n",
    "from utils.training import train_one_epoch\n",
    "\n",
    "\n",
    "DATA_PATH = 'raw_data/full_data/'\n",
    "\n",
    "# RECORDING_IDS = [0, 1, 2, 4, 7, 8, 11, 12, 13, 21]\n",
    "RECORDING_IDS = np.arange(112)\n",
    "TOTAL_RECORDINGS = len(RECORDING_IDS) # In total there are 112 recordings\n",
    "PLOT_RECORDINGS = 3\n",
    "TIME_BINS = 40\n",
    "TRAIN_SPLIT = 0.8\n",
    "TRAINING_ITERATIONS = 20\n",
    "RANK = 10\n",
    "MEAN_SUBTRACTED = False\n",
    "SMOOTHED = True\n",
    "SMOOTHED_X = True\n",
    "MODEL = \"neural_network\"\n",
    "RANDOM_SEED = 39"
   ]
  },
  {
   "cell_type": "code",
   "execution_count": 11,
   "metadata": {},
   "outputs": [],
   "source": [
    "# This code loads yizi's data\n",
    "# neural_data = np.load(f\"raw_data/yizi_data/neural_data.npy\", allow_pickle=True).item()\n",
    "# behavior_data = np.load(f\"raw_data/yizi_data/behavior_data.npy\", allow_pickle=True).item()\n",
    "\n",
    "# # Probably recording: dab512bd-a02d-4c1f-8dbc-9155a163efc0\n",
    "# X_list = [neural_data[\"po\"]]\n",
    "# Y_list = [behavior_data[\"wheel_speed\"]]\n",
    "\n",
    "# print(X_list[0].shape)"
   ]
  },
  {
   "cell_type": "code",
   "execution_count": 12,
   "metadata": {},
   "outputs": [],
   "source": [
    "X_list, Y_list = get_data(DATA_PATH, RECORDING_IDS)\n",
    "\n",
    "if SMOOTHED_X:\n",
    "    X_list = smooth_x(X_list)\n",
    "\n",
    "if SMOOTHED:\n",
    "    Y_list = smooth_y(Y_list)\n",
    "\n",
    "X_train, X_test, Y_train_regular, Y_test_regular, Y_train_mean_subtracted, Y_test_mean_subtracted = get_test_train_data(X_list, Y_list, TRAIN_SPLIT, random_seed=RANDOM_SEED)\n",
    "\n",
    "Y_train = Y_train_regular\n",
    "Y_test = Y_test_regular"
   ]
  },
  {
   "cell_type": "code",
   "execution_count": 13,
   "metadata": {},
   "outputs": [
    {
     "data": {
      "application/vnd.plotly.v1+json": {
       "config": {
        "plotlyServerURL": "https://plot.ly"
       },
       "data": [
        {
         "name": "Original",
         "type": "scatter",
         "y": [
          0.005813926633804217,
          0.005837483752306039,
          0.0060227617987242445,
          0.006641151055472743,
          0.008089610231788372,
          0.010885572031436669,
          0.015628442180827606,
          0.022935177605012857,
          0.03332379178233763,
          0.047063403898385356,
          0.06400798181735266,
          0.08349298125706234,
          0.1043267327945248,
          0.12492950477582454,
          0.1435814329050653,
          0.1587184027121567,
          0.1691796994569459,
          0.17433979784008935,
          0.17410453298210107,
          0.16881477045783846,
          0.15912193445342024,
          0.145885079104152,
          0.1301027098246739,
          0.11285824780798195,
          0.09524771536807405,
          0.07827896100888823,
          0.06276173363312881,
          0.049224772651019884,
          0.03789087494799491,
          0.028716184083197985,
          0.021475393844571717,
          0.01585876335354842,
          0.01155852249866856,
          0.008301596084754968,
          0.005864491640267881,
          0.004080908243746856,
          0.0028193202160778507,
          0.0019695635141893527,
          0.0014509783104941726,
          0.0012062611382310262
         ]
        },
        {
         "name": "Mean Subtracted",
         "type": "scatter",
         "y": [
          -0.0005324558359171439,
          -0.0015346496821256397,
          -0.003650558930440596,
          -0.007073161693367078,
          -0.012004676140757087,
          -0.018530880543904876,
          -0.02648012489195897,
          -0.03528704037972265,
          -0.043943389889170056,
          -0.05107599575066131,
          -0.055185376952638227,
          -0.05497937912194656,
          -0.049725829531914026,
          -0.03948147639985386,
          -0.025132544501807547,
          -0.00822772352713938,
          0.009326671167172229,
          0.025608380461580232,
          0.038964432383482406,
          0.04819936714211864,
          0.05266664213511307,
          0.05228377961944228,
          0.047488191991657436,
          0.03913796056268798,
          0.028358465596391852,
          0.016352736344154094,
          0.0042136817792279985,
          -0.007216714781244263,
          -0.017410873164882754,
          -0.02613740984783994,
          -0.03338249077014681,
          -0.03925658917907761,
          -0.04391072545709712,
          -0.04750450699821402,
          -0.0501926738852105,
          -0.05211508801056014,
          -0.05341260388405704,
          -0.054229571982125455,
          -0.05469145748130628,
          -0.054895975972262
         ]
        }
       ],
       "layout": {
        "template": {
         "data": {
          "bar": [
           {
            "error_x": {
             "color": "#2a3f5f"
            },
            "error_y": {
             "color": "#2a3f5f"
            },
            "marker": {
             "line": {
              "color": "#E5ECF6",
              "width": 0.5
             },
             "pattern": {
              "fillmode": "overlay",
              "size": 10,
              "solidity": 0.2
             }
            },
            "type": "bar"
           }
          ],
          "barpolar": [
           {
            "marker": {
             "line": {
              "color": "#E5ECF6",
              "width": 0.5
             },
             "pattern": {
              "fillmode": "overlay",
              "size": 10,
              "solidity": 0.2
             }
            },
            "type": "barpolar"
           }
          ],
          "carpet": [
           {
            "aaxis": {
             "endlinecolor": "#2a3f5f",
             "gridcolor": "white",
             "linecolor": "white",
             "minorgridcolor": "white",
             "startlinecolor": "#2a3f5f"
            },
            "baxis": {
             "endlinecolor": "#2a3f5f",
             "gridcolor": "white",
             "linecolor": "white",
             "minorgridcolor": "white",
             "startlinecolor": "#2a3f5f"
            },
            "type": "carpet"
           }
          ],
          "choropleth": [
           {
            "colorbar": {
             "outlinewidth": 0,
             "ticks": ""
            },
            "type": "choropleth"
           }
          ],
          "contour": [
           {
            "colorbar": {
             "outlinewidth": 0,
             "ticks": ""
            },
            "colorscale": [
             [
              0,
              "#0d0887"
             ],
             [
              0.1111111111111111,
              "#46039f"
             ],
             [
              0.2222222222222222,
              "#7201a8"
             ],
             [
              0.3333333333333333,
              "#9c179e"
             ],
             [
              0.4444444444444444,
              "#bd3786"
             ],
             [
              0.5555555555555556,
              "#d8576b"
             ],
             [
              0.6666666666666666,
              "#ed7953"
             ],
             [
              0.7777777777777778,
              "#fb9f3a"
             ],
             [
              0.8888888888888888,
              "#fdca26"
             ],
             [
              1,
              "#f0f921"
             ]
            ],
            "type": "contour"
           }
          ],
          "contourcarpet": [
           {
            "colorbar": {
             "outlinewidth": 0,
             "ticks": ""
            },
            "type": "contourcarpet"
           }
          ],
          "heatmap": [
           {
            "colorbar": {
             "outlinewidth": 0,
             "ticks": ""
            },
            "colorscale": [
             [
              0,
              "#0d0887"
             ],
             [
              0.1111111111111111,
              "#46039f"
             ],
             [
              0.2222222222222222,
              "#7201a8"
             ],
             [
              0.3333333333333333,
              "#9c179e"
             ],
             [
              0.4444444444444444,
              "#bd3786"
             ],
             [
              0.5555555555555556,
              "#d8576b"
             ],
             [
              0.6666666666666666,
              "#ed7953"
             ],
             [
              0.7777777777777778,
              "#fb9f3a"
             ],
             [
              0.8888888888888888,
              "#fdca26"
             ],
             [
              1,
              "#f0f921"
             ]
            ],
            "type": "heatmap"
           }
          ],
          "heatmapgl": [
           {
            "colorbar": {
             "outlinewidth": 0,
             "ticks": ""
            },
            "colorscale": [
             [
              0,
              "#0d0887"
             ],
             [
              0.1111111111111111,
              "#46039f"
             ],
             [
              0.2222222222222222,
              "#7201a8"
             ],
             [
              0.3333333333333333,
              "#9c179e"
             ],
             [
              0.4444444444444444,
              "#bd3786"
             ],
             [
              0.5555555555555556,
              "#d8576b"
             ],
             [
              0.6666666666666666,
              "#ed7953"
             ],
             [
              0.7777777777777778,
              "#fb9f3a"
             ],
             [
              0.8888888888888888,
              "#fdca26"
             ],
             [
              1,
              "#f0f921"
             ]
            ],
            "type": "heatmapgl"
           }
          ],
          "histogram": [
           {
            "marker": {
             "pattern": {
              "fillmode": "overlay",
              "size": 10,
              "solidity": 0.2
             }
            },
            "type": "histogram"
           }
          ],
          "histogram2d": [
           {
            "colorbar": {
             "outlinewidth": 0,
             "ticks": ""
            },
            "colorscale": [
             [
              0,
              "#0d0887"
             ],
             [
              0.1111111111111111,
              "#46039f"
             ],
             [
              0.2222222222222222,
              "#7201a8"
             ],
             [
              0.3333333333333333,
              "#9c179e"
             ],
             [
              0.4444444444444444,
              "#bd3786"
             ],
             [
              0.5555555555555556,
              "#d8576b"
             ],
             [
              0.6666666666666666,
              "#ed7953"
             ],
             [
              0.7777777777777778,
              "#fb9f3a"
             ],
             [
              0.8888888888888888,
              "#fdca26"
             ],
             [
              1,
              "#f0f921"
             ]
            ],
            "type": "histogram2d"
           }
          ],
          "histogram2dcontour": [
           {
            "colorbar": {
             "outlinewidth": 0,
             "ticks": ""
            },
            "colorscale": [
             [
              0,
              "#0d0887"
             ],
             [
              0.1111111111111111,
              "#46039f"
             ],
             [
              0.2222222222222222,
              "#7201a8"
             ],
             [
              0.3333333333333333,
              "#9c179e"
             ],
             [
              0.4444444444444444,
              "#bd3786"
             ],
             [
              0.5555555555555556,
              "#d8576b"
             ],
             [
              0.6666666666666666,
              "#ed7953"
             ],
             [
              0.7777777777777778,
              "#fb9f3a"
             ],
             [
              0.8888888888888888,
              "#fdca26"
             ],
             [
              1,
              "#f0f921"
             ]
            ],
            "type": "histogram2dcontour"
           }
          ],
          "mesh3d": [
           {
            "colorbar": {
             "outlinewidth": 0,
             "ticks": ""
            },
            "type": "mesh3d"
           }
          ],
          "parcoords": [
           {
            "line": {
             "colorbar": {
              "outlinewidth": 0,
              "ticks": ""
             }
            },
            "type": "parcoords"
           }
          ],
          "pie": [
           {
            "automargin": true,
            "type": "pie"
           }
          ],
          "scatter": [
           {
            "fillpattern": {
             "fillmode": "overlay",
             "size": 10,
             "solidity": 0.2
            },
            "type": "scatter"
           }
          ],
          "scatter3d": [
           {
            "line": {
             "colorbar": {
              "outlinewidth": 0,
              "ticks": ""
             }
            },
            "marker": {
             "colorbar": {
              "outlinewidth": 0,
              "ticks": ""
             }
            },
            "type": "scatter3d"
           }
          ],
          "scattercarpet": [
           {
            "marker": {
             "colorbar": {
              "outlinewidth": 0,
              "ticks": ""
             }
            },
            "type": "scattercarpet"
           }
          ],
          "scattergeo": [
           {
            "marker": {
             "colorbar": {
              "outlinewidth": 0,
              "ticks": ""
             }
            },
            "type": "scattergeo"
           }
          ],
          "scattergl": [
           {
            "marker": {
             "colorbar": {
              "outlinewidth": 0,
              "ticks": ""
             }
            },
            "type": "scattergl"
           }
          ],
          "scattermapbox": [
           {
            "marker": {
             "colorbar": {
              "outlinewidth": 0,
              "ticks": ""
             }
            },
            "type": "scattermapbox"
           }
          ],
          "scatterpolar": [
           {
            "marker": {
             "colorbar": {
              "outlinewidth": 0,
              "ticks": ""
             }
            },
            "type": "scatterpolar"
           }
          ],
          "scatterpolargl": [
           {
            "marker": {
             "colorbar": {
              "outlinewidth": 0,
              "ticks": ""
             }
            },
            "type": "scatterpolargl"
           }
          ],
          "scatterternary": [
           {
            "marker": {
             "colorbar": {
              "outlinewidth": 0,
              "ticks": ""
             }
            },
            "type": "scatterternary"
           }
          ],
          "surface": [
           {
            "colorbar": {
             "outlinewidth": 0,
             "ticks": ""
            },
            "colorscale": [
             [
              0,
              "#0d0887"
             ],
             [
              0.1111111111111111,
              "#46039f"
             ],
             [
              0.2222222222222222,
              "#7201a8"
             ],
             [
              0.3333333333333333,
              "#9c179e"
             ],
             [
              0.4444444444444444,
              "#bd3786"
             ],
             [
              0.5555555555555556,
              "#d8576b"
             ],
             [
              0.6666666666666666,
              "#ed7953"
             ],
             [
              0.7777777777777778,
              "#fb9f3a"
             ],
             [
              0.8888888888888888,
              "#fdca26"
             ],
             [
              1,
              "#f0f921"
             ]
            ],
            "type": "surface"
           }
          ],
          "table": [
           {
            "cells": {
             "fill": {
              "color": "#EBF0F8"
             },
             "line": {
              "color": "white"
             }
            },
            "header": {
             "fill": {
              "color": "#C8D4E3"
             },
             "line": {
              "color": "white"
             }
            },
            "type": "table"
           }
          ]
         },
         "layout": {
          "annotationdefaults": {
           "arrowcolor": "#2a3f5f",
           "arrowhead": 0,
           "arrowwidth": 1
          },
          "autotypenumbers": "strict",
          "coloraxis": {
           "colorbar": {
            "outlinewidth": 0,
            "ticks": ""
           }
          },
          "colorscale": {
           "diverging": [
            [
             0,
             "#8e0152"
            ],
            [
             0.1,
             "#c51b7d"
            ],
            [
             0.2,
             "#de77ae"
            ],
            [
             0.3,
             "#f1b6da"
            ],
            [
             0.4,
             "#fde0ef"
            ],
            [
             0.5,
             "#f7f7f7"
            ],
            [
             0.6,
             "#e6f5d0"
            ],
            [
             0.7,
             "#b8e186"
            ],
            [
             0.8,
             "#7fbc41"
            ],
            [
             0.9,
             "#4d9221"
            ],
            [
             1,
             "#276419"
            ]
           ],
           "sequential": [
            [
             0,
             "#0d0887"
            ],
            [
             0.1111111111111111,
             "#46039f"
            ],
            [
             0.2222222222222222,
             "#7201a8"
            ],
            [
             0.3333333333333333,
             "#9c179e"
            ],
            [
             0.4444444444444444,
             "#bd3786"
            ],
            [
             0.5555555555555556,
             "#d8576b"
            ],
            [
             0.6666666666666666,
             "#ed7953"
            ],
            [
             0.7777777777777778,
             "#fb9f3a"
            ],
            [
             0.8888888888888888,
             "#fdca26"
            ],
            [
             1,
             "#f0f921"
            ]
           ],
           "sequentialminus": [
            [
             0,
             "#0d0887"
            ],
            [
             0.1111111111111111,
             "#46039f"
            ],
            [
             0.2222222222222222,
             "#7201a8"
            ],
            [
             0.3333333333333333,
             "#9c179e"
            ],
            [
             0.4444444444444444,
             "#bd3786"
            ],
            [
             0.5555555555555556,
             "#d8576b"
            ],
            [
             0.6666666666666666,
             "#ed7953"
            ],
            [
             0.7777777777777778,
             "#fb9f3a"
            ],
            [
             0.8888888888888888,
             "#fdca26"
            ],
            [
             1,
             "#f0f921"
            ]
           ]
          },
          "colorway": [
           "#636efa",
           "#EF553B",
           "#00cc96",
           "#ab63fa",
           "#FFA15A",
           "#19d3f3",
           "#FF6692",
           "#B6E880",
           "#FF97FF",
           "#FECB52"
          ],
          "font": {
           "color": "#2a3f5f"
          },
          "geo": {
           "bgcolor": "white",
           "lakecolor": "white",
           "landcolor": "#E5ECF6",
           "showlakes": true,
           "showland": true,
           "subunitcolor": "white"
          },
          "hoverlabel": {
           "align": "left"
          },
          "hovermode": "closest",
          "mapbox": {
           "style": "light"
          },
          "paper_bgcolor": "white",
          "plot_bgcolor": "#E5ECF6",
          "polar": {
           "angularaxis": {
            "gridcolor": "white",
            "linecolor": "white",
            "ticks": ""
           },
           "bgcolor": "#E5ECF6",
           "radialaxis": {
            "gridcolor": "white",
            "linecolor": "white",
            "ticks": ""
           }
          },
          "scene": {
           "xaxis": {
            "backgroundcolor": "#E5ECF6",
            "gridcolor": "white",
            "gridwidth": 2,
            "linecolor": "white",
            "showbackground": true,
            "ticks": "",
            "zerolinecolor": "white"
           },
           "yaxis": {
            "backgroundcolor": "#E5ECF6",
            "gridcolor": "white",
            "gridwidth": 2,
            "linecolor": "white",
            "showbackground": true,
            "ticks": "",
            "zerolinecolor": "white"
           },
           "zaxis": {
            "backgroundcolor": "#E5ECF6",
            "gridcolor": "white",
            "gridwidth": 2,
            "linecolor": "white",
            "showbackground": true,
            "ticks": "",
            "zerolinecolor": "white"
           }
          },
          "shapedefaults": {
           "line": {
            "color": "#2a3f5f"
           }
          },
          "ternary": {
           "aaxis": {
            "gridcolor": "white",
            "linecolor": "white",
            "ticks": ""
           },
           "baxis": {
            "gridcolor": "white",
            "linecolor": "white",
            "ticks": ""
           },
           "bgcolor": "#E5ECF6",
           "caxis": {
            "gridcolor": "white",
            "linecolor": "white",
            "ticks": ""
           }
          },
          "title": {
           "x": 0.05
          },
          "xaxis": {
           "automargin": true,
           "gridcolor": "white",
           "linecolor": "white",
           "ticks": "",
           "title": {
            "standoff": 15
           },
           "zerolinecolor": "white",
           "zerolinewidth": 2
          },
          "yaxis": {
           "automargin": true,
           "gridcolor": "white",
           "linecolor": "white",
           "ticks": "",
           "title": {
            "standoff": 15
           },
           "zerolinecolor": "white",
           "zerolinewidth": 2
          }
         }
        },
        "title": {
         "text": "Original, Smoothed, and Mean Subtracted Wheel Speeds, Recording 0, Trial 0"
        },
        "xaxis": {
         "title": {
          "text": "Time"
         }
        },
        "yaxis": {
         "title": {
          "text": "Value"
         }
        }
       }
      }
     },
     "metadata": {},
     "output_type": "display_data"
    },
    {
     "data": {
      "application/vnd.plotly.v1+json": {
       "config": {
        "plotlyServerURL": "https://plot.ly"
       },
       "data": [
        {
         "name": "Original",
         "type": "scatter",
         "y": [
          0.004863828159020509,
          0.005201144854429743,
          0.0059365740313827116,
          0.007207556714546008,
          0.009269490927139211,
          0.012532978995567606,
          0.017581069566754065,
          0.02516849773014975,
          0.036142649850889684,
          0.051281922766680595,
          0.07103791517356949,
          0.09522904772356094,
          0.12277197943325768,
          0.1515721355624229,
          0.1786853801295787,
          0.20077573940401647,
          0.21479633494404407,
          0.21869751344945226,
          0.2119420456617044,
          0.19563807963219002,
          0.17225211104307003,
          0.14499886496832032,
          0.11712086902317652,
          0.09127744918149473,
          0.0691967190225437,
          0.05162387964802164,
          0.03850131992114087,
          0.029261799117519752,
          0.023116324496112887,
          0.01926766414398008,
          0.01702374554881187,
          0.01583341343952077,
          0.01527382798665081,
          0.015038560145506061,
          0.01491666295531878,
          0.0147790992520832,
          0.014579241030240997,
          0.01433742503479019,
          0.014113673477561268,
          0.013979705052808922
         ]
        },
        {
         "name": "Mean Subtracted",
         "type": "scatter",
         "y": [
          -0.0014825543107008518,
          -0.002170988580001936,
          -0.003736746697782129,
          -0.006506756034293813,
          -0.010824795445406248,
          -0.01688347357977394,
          -0.02452749750603251,
          -0.03305372025458575,
          -0.041124531820618,
          -0.04685747688236607,
          -0.048155443596421404,
          -0.04324331265544795,
          -0.03128058289318114,
          -0.01283884561325549,
          0.009971402722705858,
          0.033829613164720385,
          0.05494330665427041,
          0.06996609607094315,
          0.07680194506308574,
          0.0750226763164702,
          0.06579681872476287,
          0.0513975654836106,
          0.03450635119016006,
          0.017557161936200757,
          0.0023074692508615047,
          -0.010302345016712497,
          -0.020046731932759944,
          -0.027179688314744394,
          -0.032185423616764776,
          -0.035585929787057845,
          -0.03783413906590666,
          -0.03928193909310526,
          -0.04019541996911487,
          -0.04076754293746293,
          -0.0411405025701596,
          -0.0414168970022238,
          -0.04165268306989389,
          -0.041861710461524614,
          -0.04202876231423918,
          -0.0421225320576841
         ]
        }
       ],
       "layout": {
        "template": {
         "data": {
          "bar": [
           {
            "error_x": {
             "color": "#2a3f5f"
            },
            "error_y": {
             "color": "#2a3f5f"
            },
            "marker": {
             "line": {
              "color": "#E5ECF6",
              "width": 0.5
             },
             "pattern": {
              "fillmode": "overlay",
              "size": 10,
              "solidity": 0.2
             }
            },
            "type": "bar"
           }
          ],
          "barpolar": [
           {
            "marker": {
             "line": {
              "color": "#E5ECF6",
              "width": 0.5
             },
             "pattern": {
              "fillmode": "overlay",
              "size": 10,
              "solidity": 0.2
             }
            },
            "type": "barpolar"
           }
          ],
          "carpet": [
           {
            "aaxis": {
             "endlinecolor": "#2a3f5f",
             "gridcolor": "white",
             "linecolor": "white",
             "minorgridcolor": "white",
             "startlinecolor": "#2a3f5f"
            },
            "baxis": {
             "endlinecolor": "#2a3f5f",
             "gridcolor": "white",
             "linecolor": "white",
             "minorgridcolor": "white",
             "startlinecolor": "#2a3f5f"
            },
            "type": "carpet"
           }
          ],
          "choropleth": [
           {
            "colorbar": {
             "outlinewidth": 0,
             "ticks": ""
            },
            "type": "choropleth"
           }
          ],
          "contour": [
           {
            "colorbar": {
             "outlinewidth": 0,
             "ticks": ""
            },
            "colorscale": [
             [
              0,
              "#0d0887"
             ],
             [
              0.1111111111111111,
              "#46039f"
             ],
             [
              0.2222222222222222,
              "#7201a8"
             ],
             [
              0.3333333333333333,
              "#9c179e"
             ],
             [
              0.4444444444444444,
              "#bd3786"
             ],
             [
              0.5555555555555556,
              "#d8576b"
             ],
             [
              0.6666666666666666,
              "#ed7953"
             ],
             [
              0.7777777777777778,
              "#fb9f3a"
             ],
             [
              0.8888888888888888,
              "#fdca26"
             ],
             [
              1,
              "#f0f921"
             ]
            ],
            "type": "contour"
           }
          ],
          "contourcarpet": [
           {
            "colorbar": {
             "outlinewidth": 0,
             "ticks": ""
            },
            "type": "contourcarpet"
           }
          ],
          "heatmap": [
           {
            "colorbar": {
             "outlinewidth": 0,
             "ticks": ""
            },
            "colorscale": [
             [
              0,
              "#0d0887"
             ],
             [
              0.1111111111111111,
              "#46039f"
             ],
             [
              0.2222222222222222,
              "#7201a8"
             ],
             [
              0.3333333333333333,
              "#9c179e"
             ],
             [
              0.4444444444444444,
              "#bd3786"
             ],
             [
              0.5555555555555556,
              "#d8576b"
             ],
             [
              0.6666666666666666,
              "#ed7953"
             ],
             [
              0.7777777777777778,
              "#fb9f3a"
             ],
             [
              0.8888888888888888,
              "#fdca26"
             ],
             [
              1,
              "#f0f921"
             ]
            ],
            "type": "heatmap"
           }
          ],
          "heatmapgl": [
           {
            "colorbar": {
             "outlinewidth": 0,
             "ticks": ""
            },
            "colorscale": [
             [
              0,
              "#0d0887"
             ],
             [
              0.1111111111111111,
              "#46039f"
             ],
             [
              0.2222222222222222,
              "#7201a8"
             ],
             [
              0.3333333333333333,
              "#9c179e"
             ],
             [
              0.4444444444444444,
              "#bd3786"
             ],
             [
              0.5555555555555556,
              "#d8576b"
             ],
             [
              0.6666666666666666,
              "#ed7953"
             ],
             [
              0.7777777777777778,
              "#fb9f3a"
             ],
             [
              0.8888888888888888,
              "#fdca26"
             ],
             [
              1,
              "#f0f921"
             ]
            ],
            "type": "heatmapgl"
           }
          ],
          "histogram": [
           {
            "marker": {
             "pattern": {
              "fillmode": "overlay",
              "size": 10,
              "solidity": 0.2
             }
            },
            "type": "histogram"
           }
          ],
          "histogram2d": [
           {
            "colorbar": {
             "outlinewidth": 0,
             "ticks": ""
            },
            "colorscale": [
             [
              0,
              "#0d0887"
             ],
             [
              0.1111111111111111,
              "#46039f"
             ],
             [
              0.2222222222222222,
              "#7201a8"
             ],
             [
              0.3333333333333333,
              "#9c179e"
             ],
             [
              0.4444444444444444,
              "#bd3786"
             ],
             [
              0.5555555555555556,
              "#d8576b"
             ],
             [
              0.6666666666666666,
              "#ed7953"
             ],
             [
              0.7777777777777778,
              "#fb9f3a"
             ],
             [
              0.8888888888888888,
              "#fdca26"
             ],
             [
              1,
              "#f0f921"
             ]
            ],
            "type": "histogram2d"
           }
          ],
          "histogram2dcontour": [
           {
            "colorbar": {
             "outlinewidth": 0,
             "ticks": ""
            },
            "colorscale": [
             [
              0,
              "#0d0887"
             ],
             [
              0.1111111111111111,
              "#46039f"
             ],
             [
              0.2222222222222222,
              "#7201a8"
             ],
             [
              0.3333333333333333,
              "#9c179e"
             ],
             [
              0.4444444444444444,
              "#bd3786"
             ],
             [
              0.5555555555555556,
              "#d8576b"
             ],
             [
              0.6666666666666666,
              "#ed7953"
             ],
             [
              0.7777777777777778,
              "#fb9f3a"
             ],
             [
              0.8888888888888888,
              "#fdca26"
             ],
             [
              1,
              "#f0f921"
             ]
            ],
            "type": "histogram2dcontour"
           }
          ],
          "mesh3d": [
           {
            "colorbar": {
             "outlinewidth": 0,
             "ticks": ""
            },
            "type": "mesh3d"
           }
          ],
          "parcoords": [
           {
            "line": {
             "colorbar": {
              "outlinewidth": 0,
              "ticks": ""
             }
            },
            "type": "parcoords"
           }
          ],
          "pie": [
           {
            "automargin": true,
            "type": "pie"
           }
          ],
          "scatter": [
           {
            "fillpattern": {
             "fillmode": "overlay",
             "size": 10,
             "solidity": 0.2
            },
            "type": "scatter"
           }
          ],
          "scatter3d": [
           {
            "line": {
             "colorbar": {
              "outlinewidth": 0,
              "ticks": ""
             }
            },
            "marker": {
             "colorbar": {
              "outlinewidth": 0,
              "ticks": ""
             }
            },
            "type": "scatter3d"
           }
          ],
          "scattercarpet": [
           {
            "marker": {
             "colorbar": {
              "outlinewidth": 0,
              "ticks": ""
             }
            },
            "type": "scattercarpet"
           }
          ],
          "scattergeo": [
           {
            "marker": {
             "colorbar": {
              "outlinewidth": 0,
              "ticks": ""
             }
            },
            "type": "scattergeo"
           }
          ],
          "scattergl": [
           {
            "marker": {
             "colorbar": {
              "outlinewidth": 0,
              "ticks": ""
             }
            },
            "type": "scattergl"
           }
          ],
          "scattermapbox": [
           {
            "marker": {
             "colorbar": {
              "outlinewidth": 0,
              "ticks": ""
             }
            },
            "type": "scattermapbox"
           }
          ],
          "scatterpolar": [
           {
            "marker": {
             "colorbar": {
              "outlinewidth": 0,
              "ticks": ""
             }
            },
            "type": "scatterpolar"
           }
          ],
          "scatterpolargl": [
           {
            "marker": {
             "colorbar": {
              "outlinewidth": 0,
              "ticks": ""
             }
            },
            "type": "scatterpolargl"
           }
          ],
          "scatterternary": [
           {
            "marker": {
             "colorbar": {
              "outlinewidth": 0,
              "ticks": ""
             }
            },
            "type": "scatterternary"
           }
          ],
          "surface": [
           {
            "colorbar": {
             "outlinewidth": 0,
             "ticks": ""
            },
            "colorscale": [
             [
              0,
              "#0d0887"
             ],
             [
              0.1111111111111111,
              "#46039f"
             ],
             [
              0.2222222222222222,
              "#7201a8"
             ],
             [
              0.3333333333333333,
              "#9c179e"
             ],
             [
              0.4444444444444444,
              "#bd3786"
             ],
             [
              0.5555555555555556,
              "#d8576b"
             ],
             [
              0.6666666666666666,
              "#ed7953"
             ],
             [
              0.7777777777777778,
              "#fb9f3a"
             ],
             [
              0.8888888888888888,
              "#fdca26"
             ],
             [
              1,
              "#f0f921"
             ]
            ],
            "type": "surface"
           }
          ],
          "table": [
           {
            "cells": {
             "fill": {
              "color": "#EBF0F8"
             },
             "line": {
              "color": "white"
             }
            },
            "header": {
             "fill": {
              "color": "#C8D4E3"
             },
             "line": {
              "color": "white"
             }
            },
            "type": "table"
           }
          ]
         },
         "layout": {
          "annotationdefaults": {
           "arrowcolor": "#2a3f5f",
           "arrowhead": 0,
           "arrowwidth": 1
          },
          "autotypenumbers": "strict",
          "coloraxis": {
           "colorbar": {
            "outlinewidth": 0,
            "ticks": ""
           }
          },
          "colorscale": {
           "diverging": [
            [
             0,
             "#8e0152"
            ],
            [
             0.1,
             "#c51b7d"
            ],
            [
             0.2,
             "#de77ae"
            ],
            [
             0.3,
             "#f1b6da"
            ],
            [
             0.4,
             "#fde0ef"
            ],
            [
             0.5,
             "#f7f7f7"
            ],
            [
             0.6,
             "#e6f5d0"
            ],
            [
             0.7,
             "#b8e186"
            ],
            [
             0.8,
             "#7fbc41"
            ],
            [
             0.9,
             "#4d9221"
            ],
            [
             1,
             "#276419"
            ]
           ],
           "sequential": [
            [
             0,
             "#0d0887"
            ],
            [
             0.1111111111111111,
             "#46039f"
            ],
            [
             0.2222222222222222,
             "#7201a8"
            ],
            [
             0.3333333333333333,
             "#9c179e"
            ],
            [
             0.4444444444444444,
             "#bd3786"
            ],
            [
             0.5555555555555556,
             "#d8576b"
            ],
            [
             0.6666666666666666,
             "#ed7953"
            ],
            [
             0.7777777777777778,
             "#fb9f3a"
            ],
            [
             0.8888888888888888,
             "#fdca26"
            ],
            [
             1,
             "#f0f921"
            ]
           ],
           "sequentialminus": [
            [
             0,
             "#0d0887"
            ],
            [
             0.1111111111111111,
             "#46039f"
            ],
            [
             0.2222222222222222,
             "#7201a8"
            ],
            [
             0.3333333333333333,
             "#9c179e"
            ],
            [
             0.4444444444444444,
             "#bd3786"
            ],
            [
             0.5555555555555556,
             "#d8576b"
            ],
            [
             0.6666666666666666,
             "#ed7953"
            ],
            [
             0.7777777777777778,
             "#fb9f3a"
            ],
            [
             0.8888888888888888,
             "#fdca26"
            ],
            [
             1,
             "#f0f921"
            ]
           ]
          },
          "colorway": [
           "#636efa",
           "#EF553B",
           "#00cc96",
           "#ab63fa",
           "#FFA15A",
           "#19d3f3",
           "#FF6692",
           "#B6E880",
           "#FF97FF",
           "#FECB52"
          ],
          "font": {
           "color": "#2a3f5f"
          },
          "geo": {
           "bgcolor": "white",
           "lakecolor": "white",
           "landcolor": "#E5ECF6",
           "showlakes": true,
           "showland": true,
           "subunitcolor": "white"
          },
          "hoverlabel": {
           "align": "left"
          },
          "hovermode": "closest",
          "mapbox": {
           "style": "light"
          },
          "paper_bgcolor": "white",
          "plot_bgcolor": "#E5ECF6",
          "polar": {
           "angularaxis": {
            "gridcolor": "white",
            "linecolor": "white",
            "ticks": ""
           },
           "bgcolor": "#E5ECF6",
           "radialaxis": {
            "gridcolor": "white",
            "linecolor": "white",
            "ticks": ""
           }
          },
          "scene": {
           "xaxis": {
            "backgroundcolor": "#E5ECF6",
            "gridcolor": "white",
            "gridwidth": 2,
            "linecolor": "white",
            "showbackground": true,
            "ticks": "",
            "zerolinecolor": "white"
           },
           "yaxis": {
            "backgroundcolor": "#E5ECF6",
            "gridcolor": "white",
            "gridwidth": 2,
            "linecolor": "white",
            "showbackground": true,
            "ticks": "",
            "zerolinecolor": "white"
           },
           "zaxis": {
            "backgroundcolor": "#E5ECF6",
            "gridcolor": "white",
            "gridwidth": 2,
            "linecolor": "white",
            "showbackground": true,
            "ticks": "",
            "zerolinecolor": "white"
           }
          },
          "shapedefaults": {
           "line": {
            "color": "#2a3f5f"
           }
          },
          "ternary": {
           "aaxis": {
            "gridcolor": "white",
            "linecolor": "white",
            "ticks": ""
           },
           "baxis": {
            "gridcolor": "white",
            "linecolor": "white",
            "ticks": ""
           },
           "bgcolor": "#E5ECF6",
           "caxis": {
            "gridcolor": "white",
            "linecolor": "white",
            "ticks": ""
           }
          },
          "title": {
           "x": 0.05
          },
          "xaxis": {
           "automargin": true,
           "gridcolor": "white",
           "linecolor": "white",
           "ticks": "",
           "title": {
            "standoff": 15
           },
           "zerolinecolor": "white",
           "zerolinewidth": 2
          },
          "yaxis": {
           "automargin": true,
           "gridcolor": "white",
           "linecolor": "white",
           "ticks": "",
           "title": {
            "standoff": 15
           },
           "zerolinecolor": "white",
           "zerolinewidth": 2
          }
         }
        },
        "title": {
         "text": "Original, Smoothed, and Mean Subtracted Wheel Speeds, Recording 0, Trial 1"
        },
        "xaxis": {
         "title": {
          "text": "Time"
         }
        },
        "yaxis": {
         "title": {
          "text": "Value"
         }
        }
       }
      }
     },
     "metadata": {},
     "output_type": "display_data"
    },
    {
     "data": {
      "application/vnd.plotly.v1+json": {
       "config": {
        "plotlyServerURL": "https://plot.ly"
       },
       "data": [
        {
         "name": "Original",
         "type": "scatter",
         "y": [
          0.003605054651041615,
          0.004629770080306714,
          0.006790089931657453,
          0.010274397848501152,
          0.015279124326835569,
          0.021908119161050895,
          0.030072048094508256,
          0.03940426393940649,
          0.04922966008096536,
          0.05862150796463222,
          0.06654514098729136,
          0.07206687607650845,
          0.07456826694855798,
          0.07389597633919189,
          0.07039236459285282,
          0.06479389004209392,
          0.05803064104918882,
          0.05099812484621529,
          0.04437451594860469,
          0.0385335471461791,
          0.033558318016749314,
          0.02932957012704658,
          0.025640216341013822,
          0.022293182279120367,
          0.01916320564058552,
          0.016214637311978284,
          0.013489916942835746,
          0.01108069880167791,
          0.009097198564459013,
          0.007632466154472787,
          0.006743663956064134,
          0.006433261618719087,
          0.006639998531806982,
          0.007250223373460886,
          0.008116271024470217,
          0.009078625254932107,
          0.009993327651332845,
          0.010752325223638847,
          0.01128657005547973,
          0.011559860697448193
         ]
        },
        {
         "name": "Mean Subtracted",
         "type": "scatter",
         "y": [
          -0.002741327818679746,
          -0.002742363354124965,
          -0.002883230797507388,
          -0.0034399149003386687,
          -0.00481516204570989,
          -0.007508333414290649,
          -0.012036518978278319,
          -0.01881795404532901,
          -0.028037521590542326,
          -0.03951789168441445,
          -0.05264821778269953,
          -0.06640548430250044,
          -0.07948429537788085,
          -0.09051500483648652,
          -0.09832161281402003,
          -0.10215223619720216,
          -0.10182238724058484,
          -0.09773329253229382,
          -0.09076558465001397,
          -0.08208185616954072,
          -0.07289697430155785,
          -0.06427172935766313,
          -0.05697430149200264,
          -0.05142710496617361,
          -0.047726044131096684,
          -0.04571158735275585,
          -0.04505813491106507,
          -0.045360788630586235,
          -0.04620454954841865,
          -0.04722112777656514,
          -0.048114220658654394,
          -0.04868209091390695,
          -0.0488292494239587,
          -0.0485558797095081,
          -0.04794089450100816,
          -0.047117370999374894,
          -0.046238596448802044,
          -0.045446810272675955,
          -0.04485586573632072,
          -0.04454237641304483
         ]
        }
       ],
       "layout": {
        "template": {
         "data": {
          "bar": [
           {
            "error_x": {
             "color": "#2a3f5f"
            },
            "error_y": {
             "color": "#2a3f5f"
            },
            "marker": {
             "line": {
              "color": "#E5ECF6",
              "width": 0.5
             },
             "pattern": {
              "fillmode": "overlay",
              "size": 10,
              "solidity": 0.2
             }
            },
            "type": "bar"
           }
          ],
          "barpolar": [
           {
            "marker": {
             "line": {
              "color": "#E5ECF6",
              "width": 0.5
             },
             "pattern": {
              "fillmode": "overlay",
              "size": 10,
              "solidity": 0.2
             }
            },
            "type": "barpolar"
           }
          ],
          "carpet": [
           {
            "aaxis": {
             "endlinecolor": "#2a3f5f",
             "gridcolor": "white",
             "linecolor": "white",
             "minorgridcolor": "white",
             "startlinecolor": "#2a3f5f"
            },
            "baxis": {
             "endlinecolor": "#2a3f5f",
             "gridcolor": "white",
             "linecolor": "white",
             "minorgridcolor": "white",
             "startlinecolor": "#2a3f5f"
            },
            "type": "carpet"
           }
          ],
          "choropleth": [
           {
            "colorbar": {
             "outlinewidth": 0,
             "ticks": ""
            },
            "type": "choropleth"
           }
          ],
          "contour": [
           {
            "colorbar": {
             "outlinewidth": 0,
             "ticks": ""
            },
            "colorscale": [
             [
              0,
              "#0d0887"
             ],
             [
              0.1111111111111111,
              "#46039f"
             ],
             [
              0.2222222222222222,
              "#7201a8"
             ],
             [
              0.3333333333333333,
              "#9c179e"
             ],
             [
              0.4444444444444444,
              "#bd3786"
             ],
             [
              0.5555555555555556,
              "#d8576b"
             ],
             [
              0.6666666666666666,
              "#ed7953"
             ],
             [
              0.7777777777777778,
              "#fb9f3a"
             ],
             [
              0.8888888888888888,
              "#fdca26"
             ],
             [
              1,
              "#f0f921"
             ]
            ],
            "type": "contour"
           }
          ],
          "contourcarpet": [
           {
            "colorbar": {
             "outlinewidth": 0,
             "ticks": ""
            },
            "type": "contourcarpet"
           }
          ],
          "heatmap": [
           {
            "colorbar": {
             "outlinewidth": 0,
             "ticks": ""
            },
            "colorscale": [
             [
              0,
              "#0d0887"
             ],
             [
              0.1111111111111111,
              "#46039f"
             ],
             [
              0.2222222222222222,
              "#7201a8"
             ],
             [
              0.3333333333333333,
              "#9c179e"
             ],
             [
              0.4444444444444444,
              "#bd3786"
             ],
             [
              0.5555555555555556,
              "#d8576b"
             ],
             [
              0.6666666666666666,
              "#ed7953"
             ],
             [
              0.7777777777777778,
              "#fb9f3a"
             ],
             [
              0.8888888888888888,
              "#fdca26"
             ],
             [
              1,
              "#f0f921"
             ]
            ],
            "type": "heatmap"
           }
          ],
          "heatmapgl": [
           {
            "colorbar": {
             "outlinewidth": 0,
             "ticks": ""
            },
            "colorscale": [
             [
              0,
              "#0d0887"
             ],
             [
              0.1111111111111111,
              "#46039f"
             ],
             [
              0.2222222222222222,
              "#7201a8"
             ],
             [
              0.3333333333333333,
              "#9c179e"
             ],
             [
              0.4444444444444444,
              "#bd3786"
             ],
             [
              0.5555555555555556,
              "#d8576b"
             ],
             [
              0.6666666666666666,
              "#ed7953"
             ],
             [
              0.7777777777777778,
              "#fb9f3a"
             ],
             [
              0.8888888888888888,
              "#fdca26"
             ],
             [
              1,
              "#f0f921"
             ]
            ],
            "type": "heatmapgl"
           }
          ],
          "histogram": [
           {
            "marker": {
             "pattern": {
              "fillmode": "overlay",
              "size": 10,
              "solidity": 0.2
             }
            },
            "type": "histogram"
           }
          ],
          "histogram2d": [
           {
            "colorbar": {
             "outlinewidth": 0,
             "ticks": ""
            },
            "colorscale": [
             [
              0,
              "#0d0887"
             ],
             [
              0.1111111111111111,
              "#46039f"
             ],
             [
              0.2222222222222222,
              "#7201a8"
             ],
             [
              0.3333333333333333,
              "#9c179e"
             ],
             [
              0.4444444444444444,
              "#bd3786"
             ],
             [
              0.5555555555555556,
              "#d8576b"
             ],
             [
              0.6666666666666666,
              "#ed7953"
             ],
             [
              0.7777777777777778,
              "#fb9f3a"
             ],
             [
              0.8888888888888888,
              "#fdca26"
             ],
             [
              1,
              "#f0f921"
             ]
            ],
            "type": "histogram2d"
           }
          ],
          "histogram2dcontour": [
           {
            "colorbar": {
             "outlinewidth": 0,
             "ticks": ""
            },
            "colorscale": [
             [
              0,
              "#0d0887"
             ],
             [
              0.1111111111111111,
              "#46039f"
             ],
             [
              0.2222222222222222,
              "#7201a8"
             ],
             [
              0.3333333333333333,
              "#9c179e"
             ],
             [
              0.4444444444444444,
              "#bd3786"
             ],
             [
              0.5555555555555556,
              "#d8576b"
             ],
             [
              0.6666666666666666,
              "#ed7953"
             ],
             [
              0.7777777777777778,
              "#fb9f3a"
             ],
             [
              0.8888888888888888,
              "#fdca26"
             ],
             [
              1,
              "#f0f921"
             ]
            ],
            "type": "histogram2dcontour"
           }
          ],
          "mesh3d": [
           {
            "colorbar": {
             "outlinewidth": 0,
             "ticks": ""
            },
            "type": "mesh3d"
           }
          ],
          "parcoords": [
           {
            "line": {
             "colorbar": {
              "outlinewidth": 0,
              "ticks": ""
             }
            },
            "type": "parcoords"
           }
          ],
          "pie": [
           {
            "automargin": true,
            "type": "pie"
           }
          ],
          "scatter": [
           {
            "fillpattern": {
             "fillmode": "overlay",
             "size": 10,
             "solidity": 0.2
            },
            "type": "scatter"
           }
          ],
          "scatter3d": [
           {
            "line": {
             "colorbar": {
              "outlinewidth": 0,
              "ticks": ""
             }
            },
            "marker": {
             "colorbar": {
              "outlinewidth": 0,
              "ticks": ""
             }
            },
            "type": "scatter3d"
           }
          ],
          "scattercarpet": [
           {
            "marker": {
             "colorbar": {
              "outlinewidth": 0,
              "ticks": ""
             }
            },
            "type": "scattercarpet"
           }
          ],
          "scattergeo": [
           {
            "marker": {
             "colorbar": {
              "outlinewidth": 0,
              "ticks": ""
             }
            },
            "type": "scattergeo"
           }
          ],
          "scattergl": [
           {
            "marker": {
             "colorbar": {
              "outlinewidth": 0,
              "ticks": ""
             }
            },
            "type": "scattergl"
           }
          ],
          "scattermapbox": [
           {
            "marker": {
             "colorbar": {
              "outlinewidth": 0,
              "ticks": ""
             }
            },
            "type": "scattermapbox"
           }
          ],
          "scatterpolar": [
           {
            "marker": {
             "colorbar": {
              "outlinewidth": 0,
              "ticks": ""
             }
            },
            "type": "scatterpolar"
           }
          ],
          "scatterpolargl": [
           {
            "marker": {
             "colorbar": {
              "outlinewidth": 0,
              "ticks": ""
             }
            },
            "type": "scatterpolargl"
           }
          ],
          "scatterternary": [
           {
            "marker": {
             "colorbar": {
              "outlinewidth": 0,
              "ticks": ""
             }
            },
            "type": "scatterternary"
           }
          ],
          "surface": [
           {
            "colorbar": {
             "outlinewidth": 0,
             "ticks": ""
            },
            "colorscale": [
             [
              0,
              "#0d0887"
             ],
             [
              0.1111111111111111,
              "#46039f"
             ],
             [
              0.2222222222222222,
              "#7201a8"
             ],
             [
              0.3333333333333333,
              "#9c179e"
             ],
             [
              0.4444444444444444,
              "#bd3786"
             ],
             [
              0.5555555555555556,
              "#d8576b"
             ],
             [
              0.6666666666666666,
              "#ed7953"
             ],
             [
              0.7777777777777778,
              "#fb9f3a"
             ],
             [
              0.8888888888888888,
              "#fdca26"
             ],
             [
              1,
              "#f0f921"
             ]
            ],
            "type": "surface"
           }
          ],
          "table": [
           {
            "cells": {
             "fill": {
              "color": "#EBF0F8"
             },
             "line": {
              "color": "white"
             }
            },
            "header": {
             "fill": {
              "color": "#C8D4E3"
             },
             "line": {
              "color": "white"
             }
            },
            "type": "table"
           }
          ]
         },
         "layout": {
          "annotationdefaults": {
           "arrowcolor": "#2a3f5f",
           "arrowhead": 0,
           "arrowwidth": 1
          },
          "autotypenumbers": "strict",
          "coloraxis": {
           "colorbar": {
            "outlinewidth": 0,
            "ticks": ""
           }
          },
          "colorscale": {
           "diverging": [
            [
             0,
             "#8e0152"
            ],
            [
             0.1,
             "#c51b7d"
            ],
            [
             0.2,
             "#de77ae"
            ],
            [
             0.3,
             "#f1b6da"
            ],
            [
             0.4,
             "#fde0ef"
            ],
            [
             0.5,
             "#f7f7f7"
            ],
            [
             0.6,
             "#e6f5d0"
            ],
            [
             0.7,
             "#b8e186"
            ],
            [
             0.8,
             "#7fbc41"
            ],
            [
             0.9,
             "#4d9221"
            ],
            [
             1,
             "#276419"
            ]
           ],
           "sequential": [
            [
             0,
             "#0d0887"
            ],
            [
             0.1111111111111111,
             "#46039f"
            ],
            [
             0.2222222222222222,
             "#7201a8"
            ],
            [
             0.3333333333333333,
             "#9c179e"
            ],
            [
             0.4444444444444444,
             "#bd3786"
            ],
            [
             0.5555555555555556,
             "#d8576b"
            ],
            [
             0.6666666666666666,
             "#ed7953"
            ],
            [
             0.7777777777777778,
             "#fb9f3a"
            ],
            [
             0.8888888888888888,
             "#fdca26"
            ],
            [
             1,
             "#f0f921"
            ]
           ],
           "sequentialminus": [
            [
             0,
             "#0d0887"
            ],
            [
             0.1111111111111111,
             "#46039f"
            ],
            [
             0.2222222222222222,
             "#7201a8"
            ],
            [
             0.3333333333333333,
             "#9c179e"
            ],
            [
             0.4444444444444444,
             "#bd3786"
            ],
            [
             0.5555555555555556,
             "#d8576b"
            ],
            [
             0.6666666666666666,
             "#ed7953"
            ],
            [
             0.7777777777777778,
             "#fb9f3a"
            ],
            [
             0.8888888888888888,
             "#fdca26"
            ],
            [
             1,
             "#f0f921"
            ]
           ]
          },
          "colorway": [
           "#636efa",
           "#EF553B",
           "#00cc96",
           "#ab63fa",
           "#FFA15A",
           "#19d3f3",
           "#FF6692",
           "#B6E880",
           "#FF97FF",
           "#FECB52"
          ],
          "font": {
           "color": "#2a3f5f"
          },
          "geo": {
           "bgcolor": "white",
           "lakecolor": "white",
           "landcolor": "#E5ECF6",
           "showlakes": true,
           "showland": true,
           "subunitcolor": "white"
          },
          "hoverlabel": {
           "align": "left"
          },
          "hovermode": "closest",
          "mapbox": {
           "style": "light"
          },
          "paper_bgcolor": "white",
          "plot_bgcolor": "#E5ECF6",
          "polar": {
           "angularaxis": {
            "gridcolor": "white",
            "linecolor": "white",
            "ticks": ""
           },
           "bgcolor": "#E5ECF6",
           "radialaxis": {
            "gridcolor": "white",
            "linecolor": "white",
            "ticks": ""
           }
          },
          "scene": {
           "xaxis": {
            "backgroundcolor": "#E5ECF6",
            "gridcolor": "white",
            "gridwidth": 2,
            "linecolor": "white",
            "showbackground": true,
            "ticks": "",
            "zerolinecolor": "white"
           },
           "yaxis": {
            "backgroundcolor": "#E5ECF6",
            "gridcolor": "white",
            "gridwidth": 2,
            "linecolor": "white",
            "showbackground": true,
            "ticks": "",
            "zerolinecolor": "white"
           },
           "zaxis": {
            "backgroundcolor": "#E5ECF6",
            "gridcolor": "white",
            "gridwidth": 2,
            "linecolor": "white",
            "showbackground": true,
            "ticks": "",
            "zerolinecolor": "white"
           }
          },
          "shapedefaults": {
           "line": {
            "color": "#2a3f5f"
           }
          },
          "ternary": {
           "aaxis": {
            "gridcolor": "white",
            "linecolor": "white",
            "ticks": ""
           },
           "baxis": {
            "gridcolor": "white",
            "linecolor": "white",
            "ticks": ""
           },
           "bgcolor": "#E5ECF6",
           "caxis": {
            "gridcolor": "white",
            "linecolor": "white",
            "ticks": ""
           }
          },
          "title": {
           "x": 0.05
          },
          "xaxis": {
           "automargin": true,
           "gridcolor": "white",
           "linecolor": "white",
           "ticks": "",
           "title": {
            "standoff": 15
           },
           "zerolinecolor": "white",
           "zerolinewidth": 2
          },
          "yaxis": {
           "automargin": true,
           "gridcolor": "white",
           "linecolor": "white",
           "ticks": "",
           "title": {
            "standoff": 15
           },
           "zerolinecolor": "white",
           "zerolinewidth": 2
          }
         }
        },
        "title": {
         "text": "Original, Smoothed, and Mean Subtracted Wheel Speeds, Recording 0, Trial 2"
        },
        "xaxis": {
         "title": {
          "text": "Time"
         }
        },
        "yaxis": {
         "title": {
          "text": "Value"
         }
        }
       }
      }
     },
     "metadata": {},
     "output_type": "display_data"
    }
   ],
   "source": [
    "for t in range(3):\n",
    "    fig = go.Figure()\n",
    "    fig.add_trace(go.Scatter(y=Y_train_regular[0][t], name='Original'))\n",
    "    # fig.add_trace(go.Scatter(y=Y_train_smoothed[0][t], name='Smoothed'))\n",
    "    fig.add_trace(go.Scatter(y=Y_train_mean_subtracted[0][t], name='Mean Subtracted'))\n",
    "    # fig.add_trace(go.Scatter(y=Y_train_mean_subtracted_smoothed[0][t], name='Mean Subtracted Smoothed'))\n",
    "    fig.update_layout(title=f'Original, Smoothed, and Mean Subtracted Wheel Speeds, Recording 0, Trial {t}', xaxis_title='Time', yaxis_title='Value')\n",
    "    fig.show()"
   ]
  },
  {
   "cell_type": "markdown",
   "metadata": {},
   "source": [
    "# Training"
   ]
  },
  {
   "cell_type": "markdown",
   "metadata": {},
   "source": [
    "## Continuous Decoder model"
   ]
  },
  {
   "cell_type": "code",
   "execution_count": 14,
   "metadata": {},
   "outputs": [
    {
     "name": "stdout",
     "output_type": "stream",
     "text": [
      "time-dependent:\n",
      "Chosen alpha: 10\n",
      "r2: 0.37469026154955454 corr: 0.613661821834778 mse: 0.004923691485981752\n",
      "time-dependent:\n",
      "Chosen alpha: 10\n",
      "r2: 0.6874958854025703 corr: 0.8302528594835916 mse: 0.004831400075319194\n",
      "time-dependent:\n",
      "Chosen alpha: 1000\n",
      "r2: 0.43352008602205916 corr: 0.6607186325498811 mse: 0.009061546373849094\n",
      "time-dependent:\n",
      "Chosen alpha: 100\n",
      "r2: 0.5274701572073083 corr: 0.7357956725568784 mse: 0.009589157698551534\n",
      "time-dependent:\n",
      "Chosen alpha: 1000\n",
      "r2: 0.3765411921762172 corr: 0.6192024331769077 mse: 0.011012472719409652\n",
      "time-dependent:\n",
      "Chosen alpha: 10\n",
      "r2: 0.4051722061901888 corr: 0.6374605154803972 mse: 0.008254861966284893\n",
      "time-dependent:\n",
      "Chosen alpha: 100\n",
      "r2: 0.4324168678382778 corr: 0.6620101226271273 mse: 0.0030833903182076673\n",
      "time-dependent:\n",
      "Chosen alpha: 10\n",
      "r2: 0.518705939437358 corr: 0.7214000280949533 mse: 0.010229705684500713\n",
      "time-dependent:\n",
      "Chosen alpha: 10\n",
      "r2: 0.5310814786777189 corr: 0.7292841015809571 mse: 0.007823511640387209\n",
      "time-dependent:\n",
      "Chosen alpha: 1\n",
      "r2: 0.5748289345494119 corr: 0.7587678154208344 mse: 0.011517656856741713\n",
      "time-dependent:\n",
      "Chosen alpha: 10\n",
      "r2: 0.5651678823528348 corr: 0.751953653243575 mse: 0.011779369595724367\n",
      "time-dependent:\n",
      "Chosen alpha: 10\n",
      "r2: 0.5644253510896082 corr: 0.7513030295319001 mse: 0.00794631046924059\n",
      "time-dependent:\n",
      "Chosen alpha: 10\n",
      "r2: 0.638063601374476 corr: 0.8044078942837585 mse: 0.0100160142768233\n",
      "time-dependent:\n",
      "Chosen alpha: 100\n",
      "r2: 0.454744152640991 corr: 0.6767088031762787 mse: 0.012565649440582598\n",
      "time-dependent:\n",
      "Chosen alpha: 10\n",
      "r2: 0.4655485931949074 corr: 0.6849053503843644 mse: 0.010227879907499036\n",
      "time-dependent:\n",
      "Chosen alpha: 10\n",
      "r2: 0.49003507033944216 corr: 0.722918065805197 mse: 0.015432680310283435\n",
      "time-dependent:\n",
      "Chosen alpha: 100\n",
      "r2: 0.49049772959750226 corr: 0.7029411574419444 mse: 0.008170774091107117\n",
      "time-dependent:\n",
      "Chosen alpha: 10\n",
      "r2: 0.6162043176623764 corr: 0.7850224715368399 mse: 0.009817944065100491\n",
      "time-dependent:\n",
      "Chosen alpha: 100\n",
      "r2: 0.354341427917661 corr: 0.5996753546132826 mse: 0.009546619534392222\n",
      "time-dependent:\n",
      "Chosen alpha: 10\n",
      "r2: 0.5253325705403672 corr: 0.7251746105315706 mse: 0.0032958734690134313\n",
      "time-dependent:\n",
      "Chosen alpha: 10\n",
      "r2: 0.6678563813823515 corr: 0.817703623571933 mse: 0.005086702413569935\n",
      "time-dependent:\n",
      "Chosen alpha: 10\n",
      "r2: 0.5034046203531177 corr: 0.710368897111999 mse: 0.014752856633566708\n",
      "time-dependent:\n",
      "Chosen alpha: 10\n",
      "r2: 0.6665587182005082 corr: 0.8175149537608228 mse: 0.007031325535640283\n",
      "time-dependent:\n",
      "Chosen alpha: 10\n",
      "r2: 0.6215709319818905 corr: 0.789199347805248 mse: 0.006735795537758092\n",
      "time-dependent:\n",
      "Chosen alpha: 10\n",
      "r2: 0.6418483666628271 corr: 0.8016622391515336 mse: 0.01012460852651693\n",
      "time-dependent:\n",
      "Chosen alpha: 100\n",
      "r2: 0.43145844493204755 corr: 0.6568580829205364 mse: 0.005461272057306569\n",
      "time-dependent:\n",
      "Chosen alpha: 10\n",
      "r2: 0.7052645982765311 corr: 0.8398885615871438 mse: 0.011683684656177418\n",
      "time-dependent:\n",
      "Chosen alpha: 10\n",
      "r2: 0.6273055936806649 corr: 0.7942771235693807 mse: 0.009924663115491061\n",
      "time-dependent:\n",
      "Chosen alpha: 1\n",
      "r2: 0.5629017899909519 corr: 0.7503460153246686 mse: 0.004842563321352466\n",
      "time-dependent:\n"
     ]
    }
   ],
   "source": [
    "Y_pred_continuous_decoder = []\n",
    "test_loss_continuous_decoder = []\n",
    "\n",
    "for recording_session in range(TOTAL_RECORDINGS):\n",
    "    y_pred, evaluation = continuous_decoder(X_train[recording_session], Y_train[recording_session], X_test[recording_session], Y_test[recording_session], time_independent=False)\n",
    "    Y_pred_continuous_decoder.append(y_pred)\n",
    "    test_loss_continuous_decoder.append(evaluation[2])\n",
    "\n",
    "test_loss_continuous_decoder = np.array(test_loss_continuous_decoder)"
   ]
  },
  {
   "cell_type": "markdown",
   "metadata": {},
   "source": [
    "## Mean Predictor"
   ]
  },
  {
   "cell_type": "code",
   "execution_count": null,
   "metadata": {},
   "outputs": [
    {
     "name": "stdout",
     "output_type": "stream",
     "text": [
      "Performance of mean predictor on training data: 0, Loss 0.004946375985719935\n",
      "Performance of mean predictor on training data: 1, Loss 0.006960836492010732\n",
      "Performance of mean predictor on training data: 2, Loss 0.008347617841664982\n",
      "Performance of mean predictor on training data: 3, Loss 0.010550672449753287\n",
      "Performance of mean predictor on training data: 4, Loss 0.014227278827092\n",
      "Performance of mean predictor on training data: 5, Loss 0.007083147684356542\n",
      "Performance of mean predictor on training data: 6, Loss 0.004660368844305392\n",
      "Performance of mean predictor on training data: 7, Loss 0.012584671640805345\n",
      "Performance of mean predictor on training data: 8, Loss 0.009245093873122747\n",
      "Performance of mean predictor on training data: 9, Loss 0.012998579483699035\n",
      "Performance of mean predictor on training data: 10, Loss 0.012998579483699035\n",
      "Performance of mean predictor on training data: 11, Loss 0.00954133256053246\n",
      "Performance of mean predictor on training data: 12, Loss 0.011747041777461362\n",
      "Performance of mean predictor on training data: 13, Loss 0.012684427826897144\n",
      "Performance of mean predictor on training data: 14, Loss 0.01457727841629599\n",
      "Performance of mean predictor on training data: 15, Loss 0.01170242776934644\n",
      "Performance of mean predictor on training data: 16, Loss 0.00838001795005811\n",
      "Performance of mean predictor on training data: 17, Loss 0.011804769060659293\n",
      "Performance of mean predictor on training data: 18, Loss 0.009907525023634331\n",
      "Performance of mean predictor on training data: 19, Loss 0.003729648920597783\n",
      "Performance of mean predictor on training data: 20, Loss 0.008300056262149039\n",
      "Performance of mean predictor on training data: 21, Loss 0.016007473280805463\n",
      "Performance of mean predictor on training data: 22, Loss 0.006906513777140516\n",
      "Performance of mean predictor on training data: 23, Loss 0.008804174641358128\n",
      "Performance of mean predictor on training data: 24, Loss 0.010448645118954998\n",
      "Performance of mean predictor on training data: 25, Loss 0.005450190644414408\n",
      "Performance of mean predictor on training data: 26, Loss 0.016092828502558002\n",
      "Performance of mean predictor on training data: 27, Loss 0.010782762174773357\n",
      "Performance of mean predictor on training data: 28, Loss 0.005093959379884781\n",
      "Performance of mean predictor on training data: 29, Loss 0.0031508483578624688\n",
      "Performance of mean predictor on training data: 30, Loss 0.008427373346028492\n",
      "Performance of mean predictor on training data: 31, Loss 0.004289674361324627\n",
      "Performance of mean predictor on training data: 32, Loss 0.009095162357424785\n",
      "Performance of mean predictor on training data: 33, Loss 0.018181028992008044\n",
      "Performance of mean predictor on training data: 34, Loss 0.007526441742248565\n",
      "Performance of mean predictor on training data: 35, Loss 0.01665174996341029\n",
      "Performance of mean predictor on training data: 36, Loss 0.014696007502700427\n",
      "Performance of mean predictor on training data: 37, Loss 0.013460032589281126\n",
      "Performance of mean predictor on training data: 38, Loss 0.008856339967967312\n",
      "Performance of mean predictor on training data: 39, Loss 0.01689289716311292\n",
      "Performance of mean predictor on training data: 40, Loss 0.012524053269543456\n",
      "Performance of mean predictor on training data: 41, Loss 0.009907525023634331\n",
      "Performance of mean predictor on training data: 42, Loss 0.007193072515907473\n",
      "Performance of mean predictor on training data: 43, Loss 0.008484577171214527\n",
      "Performance of mean predictor on training data: 44, Loss 0.012524053269543456\n",
      "Performance of mean predictor on training data: 45, Loss 0.014574392441601584\n",
      "Performance of mean predictor on training data: 46, Loss 0.00495313043575344\n",
      "Performance of mean predictor on training data: 47, Loss 0.00495313043575344\n",
      "Performance of mean predictor on training data: 48, Loss 0.004431860321846643\n",
      "Performance of mean predictor on training data: 49, Loss 0.013625814795247002\n",
      "Performance of mean predictor on training data: 50, Loss 0.008425002719845363\n",
      "Performance of mean predictor on training data: 51, Loss 0.010222342318259818\n",
      "Performance of mean predictor on training data: 52, Loss 0.018464638576976066\n",
      "Performance of mean predictor on training data: 53, Loss 0.011515670083098109\n",
      "Performance of mean predictor on training data: 54, Loss 0.009713777354153718\n",
      "Performance of mean predictor on training data: 55, Loss 0.006892861120856599\n",
      "Performance of mean predictor on training data: 56, Loss 0.016005712478065752\n",
      "Performance of mean predictor on training data: 57, Loss 0.016005712478065752\n",
      "Performance of mean predictor on training data: 58, Loss 0.010188732043052148\n",
      "Performance of mean predictor on training data: 59, Loss 0.017167215745006948\n",
      "Performance of mean predictor on training data: 60, Loss 0.008640606550215167\n",
      "Performance of mean predictor on training data: 61, Loss 0.006127389563242707\n",
      "Performance of mean predictor on training data: 62, Loss 0.013919344047539417\n",
      "Performance of mean predictor on training data: 63, Loss 0.007819789692855062\n",
      "Performance of mean predictor on training data: 64, Loss 0.0066571142802036316\n",
      "Performance of mean predictor on training data: 65, Loss 0.008991694844381087\n",
      "Performance of mean predictor on training data: 66, Loss 0.013156568470109896\n",
      "Performance of mean predictor on training data: 67, Loss 0.005495990202678457\n",
      "Performance of mean predictor on training data: 68, Loss 0.014200943730527571\n",
      "Performance of mean predictor on training data: 69, Loss 0.011615908339082623\n",
      "Performance of mean predictor on training data: 70, Loss 0.004990880211883373\n",
      "Performance of mean predictor on training data: 71, Loss 0.015414049868425572\n",
      "Performance of mean predictor on training data: 72, Loss 0.018885368332985396\n",
      "Performance of mean predictor on training data: 73, Loss 0.011392881890860795\n",
      "Performance of mean predictor on training data: 74, Loss 0.012951038878212274\n",
      "Performance of mean predictor on training data: 75, Loss 0.011652659034103856\n",
      "Performance of mean predictor on training data: 76, Loss 0.008349765061338508\n",
      "Performance of mean predictor on training data: 77, Loss 0.0149420643216073\n",
      "Performance of mean predictor on training data: 78, Loss 0.01312461877825012\n",
      "Performance of mean predictor on training data: 79, Loss 0.006960836492010732\n",
      "Performance of mean predictor on training data: 80, Loss 0.008277171391769918\n",
      "Performance of mean predictor on training data: 81, Loss 0.015038173998099898\n",
      "Performance of mean predictor on training data: 82, Loss 0.011009120603690624\n",
      "Performance of mean predictor on training data: 83, Loss 0.015093902515465368\n",
      "Performance of mean predictor on training data: 84, Loss 0.007407438448856107\n",
      "Performance of mean predictor on training data: 85, Loss 0.013672366271180614\n",
      "Performance of mean predictor on training data: 86, Loss 0.0072250548749449185\n",
      "Performance of mean predictor on training data: 87, Loss 0.004289674361324627\n",
      "Performance of mean predictor on training data: 88, Loss 0.01163193975152397\n",
      "Performance of mean predictor on training data: 89, Loss 0.017705359977404616\n",
      "Performance of mean predictor on training data: 90, Loss 0.002704945017287242\n",
      "Performance of mean predictor on training data: 91, Loss 0.012173565753588717\n",
      "Performance of mean predictor on training data: 92, Loss 0.007861206985293185\n",
      "Performance of mean predictor on training data: 93, Loss 0.014452075552533987\n",
      "Performance of mean predictor on training data: 94, Loss 0.008057845758083937\n",
      "Performance of mean predictor on training data: 95, Loss 0.00468719695260939\n",
      "Performance of mean predictor on training data: 96, Loss 0.01074097646904532\n",
      "Performance of mean predictor on training data: 97, Loss 0.0070740939270569625\n",
      "Performance of mean predictor on training data: 98, Loss 0.0072250548749449185\n",
      "Performance of mean predictor on training data: 99, Loss 0.008317677354136627\n",
      "Performance of mean predictor on training data: 100, Loss 0.01434279221131667\n",
      "Performance of mean predictor on training data: 101, Loss 0.018991227638338316\n",
      "Performance of mean predictor on training data: 102, Loss 0.0067800978576493184\n",
      "Performance of mean predictor on training data: 103, Loss 0.014452075552533987\n",
      "Performance of mean predictor on training data: 104, Loss 0.005586704962113622\n",
      "Performance of mean predictor on training data: 105, Loss 0.003729648920597783\n",
      "Performance of mean predictor on training data: 106, Loss 0.009879819399983428\n",
      "Performance of mean predictor on training data: 107, Loss 0.013754245550602237\n",
      "Performance of mean predictor on training data: 108, Loss 0.00998550967450592\n",
      "Performance of mean predictor on training data: 109, Loss 0.016711252459239656\n",
      "Performance of mean predictor on training data: 110, Loss 0.017167215745006948\n",
      "Performance of mean predictor on training data: 111, Loss 0.014552964644531043\n"
     ]
    }
   ],
   "source": [
    "mean_predictor = MeanPredictor(Y_train)\n",
    "test_loss_mean_predictor = []\n",
    "\n",
    "for recording in range(TOTAL_RECORDINGS):\n",
    "    loss_item = evaluate_recording(recording, X_train[recording], Y_train[recording], mean_predictor, loss_fn, plot_num=0)\n",
    "    print(f'Performance of mean predictor on training data: {recording}, Loss {loss_item}')\n",
    "    test_loss_mean_predictor.append(loss_item)\n",
    "\n",
    "test_loss_mean_predictor = np.array(test_loss_mean_predictor)"
   ]
  },
  {
   "cell_type": "code",
   "execution_count": null,
   "metadata": {},
   "outputs": [
    {
     "name": "stdout",
     "output_type": "stream",
     "text": [
      "(89,)\n",
      "[  0   1   6   9  10  11  12  13  14  15  16  17  18  19  20  21  23  24\n",
      "  25  26  27  28  29  30  31  33  34  35  37  38  39  40  41  43  44  45\n",
      "  46  47  48  49  50  52  53  54  55  56  57  58  59  60  61  62  63  64\n",
      "  68  69  70  71  72  73  74  75  76  78  79  80  82  83  87  88  89  90\n",
      "  91  92  93  95  96 100 101 102 103 104 105 106 107 108 109 110 111]\n"
     ]
    }
   ],
   "source": [
    "interesting_recordings = np.argwhere(test_loss_continuous_decoder < test_loss_mean_predictor).squeeze()\n",
    "print(interesting_recordings.shape)\n",
    "print(interesting_recordings)\n",
    "\n",
    "test_loss_continuous_decoder_interesting = test_loss_continuous_decoder[interesting_recordings]\n",
    "test_loss_mean_predictor_interesting = test_loss_mean_predictor[interesting_recordings]\n",
    "\n",
    "# 42: [  2   8  13  14  15  17  25  26  32  36  39  45  52  57  62  69  73  74\n",
    "#   78  88  89  91  93  95 100 101 106 107 110 111]\n",
    "# 41: [  4   9  10  11  12  21  23  26  30  32  36  37  40  44  49  50  51  53\n",
    "#   54  55  56  57  58  65  67  70  71  75  76  77  83  88  89  93 101 106\n",
    "#  111]\n",
    "# 40: [  4  17  19  20  26  35  36  39  41  53  55  56  57  61  68  73  74  97\n",
    "#  100 105 111]\n",
    "# 39: [ 11  12  14  23  25  26  27  29  30  36  55  57  58  59  61  64  67  82\n",
    "#   89  90  96 100 106 107 110]\n",
    "# 38: [  3  14  17  20  23  26  42  45  49  53  58  60  66  68  71  76  83  88\n",
    "#   90  93 100 103 108 111]\n",
    "\n",
    "# 38: [  0   1   6   9  10  11  12  13  14  15  16  17  18  19  20  21  23  24\n",
    "#   25  26  27  28  29  30  31  33  34  35  37  38  39  40  41  43  44  45\n",
    "#   46  47  48  49  50  52  53  54  55  56  57  58  59  60  61  62  63  64\n",
    "#   68  69  70  71  72  73  74  75  76  78  79  80  82  83  87  88  89  90\n",
    "#   91  92  93  95  96 100 101 102 103 104 105 106 107 108 109 110 111]\n"
   ]
  },
  {
   "cell_type": "code",
   "execution_count": null,
   "metadata": {},
   "outputs": [
    {
     "data": {
      "application/vnd.plotly.v1+json": {
       "config": {
        "plotlyServerURL": "https://plot.ly"
       },
       "data": [
        {
         "name": "Mean Predictor",
         "type": "bar",
         "x": [
          0,
          1,
          2,
          3,
          4,
          5,
          6,
          7,
          8,
          9,
          10,
          11,
          12,
          13,
          14,
          15,
          16,
          17,
          18,
          19,
          20,
          21,
          22,
          23,
          24,
          25,
          26,
          27,
          28,
          29,
          30,
          31,
          32,
          33,
          34,
          35,
          36,
          37,
          38,
          39,
          40,
          41,
          42,
          43,
          44,
          45,
          46,
          47,
          48,
          49,
          50,
          51,
          52,
          53,
          54,
          55,
          56,
          57,
          58,
          59,
          60,
          61,
          62,
          63,
          64,
          65,
          66,
          67,
          68,
          69,
          70,
          71,
          72,
          73,
          74,
          75,
          76,
          77,
          78,
          79,
          80,
          81,
          82,
          83,
          84,
          85,
          86,
          87,
          88,
          89,
          90,
          91,
          92,
          93,
          94,
          95,
          96,
          97,
          98,
          99,
          100,
          101,
          102,
          103,
          104,
          105,
          106,
          107,
          108,
          109,
          110,
          111
         ],
         "y": [
          0.004946375985719935,
          0.006960836492010732,
          0.004660368844305392,
          0.012998579483699035,
          0.012998579483699035,
          0.00954133256053246,
          0.011747041777461362,
          0.012684427826897144,
          0.01457727841629599,
          0.01170242776934644,
          0.00838001795005811,
          0.011804769060659293,
          0.009907525023634331,
          0.003729648920597783,
          0.008300056262149039,
          0.016007473280805463,
          0.008804174641358128,
          0.010448645118954998,
          0.005450190644414408,
          0.016092828502558002,
          0.010782762174773357,
          0.005093959379884781,
          0.0031508483578624688,
          0.008427373346028492,
          0.004289674361324627,
          0.018181028992008044,
          0.007526441742248565,
          0.01665174996341029,
          0.013460032589281126,
          0.008856339967967312,
          0.01689289716311292,
          0.012524053269543456,
          0.009907525023634331,
          0.008484577171214527,
          0.012524053269543456,
          0.014574392441601584,
          0.00495313043575344,
          0.00495313043575344,
          0.004431860321846643,
          0.013625814795247002,
          0.008425002719845363,
          0.018464638576976066,
          0.011515670083098109,
          0.009713777354153718,
          0.006892861120856599,
          0.016005712478065752,
          0.016005712478065752,
          0.010188732043052148,
          0.017167215745006948,
          0.008640606550215167,
          0.006127389563242707,
          0.013919344047539417,
          0.007819789692855062,
          0.0066571142802036316,
          0.014200943730527571,
          0.011615908339082623,
          0.004990880211883373,
          0.015414049868425572,
          0.018885368332985396,
          0.011392881890860795,
          0.012951038878212274,
          0.011652659034103856,
          0.008349765061338508,
          0.01312461877825012,
          0.006960836492010732,
          0.008277171391769918,
          0.011009120603690624,
          0.015093902515465368,
          0.004289674361324627,
          0.01163193975152397,
          0.017705359977404616,
          0.002704945017287242,
          0.012173565753588717,
          0.007861206985293185,
          0.014452075552533987,
          0.00468719695260939,
          0.01074097646904532,
          0.01434279221131667,
          0.018991227638338316,
          0.0067800978576493184,
          0.014452075552533987,
          0.005586704962113622,
          0.003729648920597783,
          0.009879819399983428,
          0.013754245550602237,
          0.00998550967450592,
          0.016711252459239656,
          0.017167215745006948,
          0.014552964644531043
         ]
        },
        {
         "name": "Continuous Decoder",
         "type": "bar",
         "x": [
          0,
          1,
          2,
          3,
          4,
          5,
          6,
          7,
          8,
          9,
          10,
          11,
          12,
          13,
          14,
          15,
          16,
          17,
          18,
          19,
          20,
          21,
          22,
          23,
          24,
          25,
          26,
          27,
          28,
          29,
          30,
          31,
          32,
          33,
          34,
          35,
          36,
          37,
          38,
          39,
          40,
          41,
          42,
          43,
          44,
          45,
          46,
          47,
          48,
          49,
          50,
          51,
          52,
          53,
          54,
          55,
          56,
          57,
          58,
          59,
          60,
          61,
          62,
          63,
          64,
          65,
          66,
          67,
          68,
          69,
          70,
          71,
          72,
          73,
          74,
          75,
          76,
          77,
          78,
          79,
          80,
          81,
          82,
          83,
          84,
          85,
          86,
          87,
          88,
          89,
          90,
          91,
          92,
          93,
          94,
          95,
          96,
          97,
          98,
          99,
          100,
          101,
          102,
          103,
          104,
          105,
          106,
          107,
          108,
          109,
          110,
          111
         ],
         "y": [
          0.003953048127700081,
          0.005644324562419074,
          0.0034308516476092184,
          0.009448021316829766,
          0.009797525697117471,
          0.00805526662823042,
          0.009619007415225365,
          0.012429958667809778,
          0.008715772784728949,
          0.010068120401626461,
          0.005940367491295672,
          0.00889128344931186,
          0.007571245429151741,
          0.002428990830316204,
          0.005956623022556632,
          0.012886937660109433,
          0.006737153707214165,
          0.010073247840108795,
          0.0032368464440481956,
          0.011113186909095085,
          0.00732208894388471,
          0.004226130335751826,
          0.0027072648597815264,
          0.007252669487962629,
          0.003188941895777971,
          0.016530366761965013,
          0.00590699787224227,
          0.014887493694854455,
          0.009987141731511833,
          0.007277205449089859,
          0.014789959382714202,
          0.008326454989088806,
          0.006889897296012889,
          0.008473430310842217,
          0.007733541547508115,
          0.009995736544597124,
          0.003694421541176035,
          0.0033755350863940666,
          0.0035338615651192384,
          0.008458648104267026,
          0.006378178045193011,
          0.013646828791428504,
          0.008671274954955328,
          0.008110433034166413,
          0.004462061731260683,
          0.01232157141346205,
          0.009485497730072965,
          0.009002332308360067,
          0.012752705538584482,
          0.008629579393423998,
          0.003805947456567788,
          0.010676750208370901,
          0.0075175004579849675,
          0.0037546794413125554,
          0.009529709334987363,
          0.009240998670497916,
          0.003608124454986924,
          0.011612971116751275,
          0.015203911242583077,
          0.010803395936144685,
          0.010857064041002687,
          0.010067436751141886,
          0.006172648310790695,
          0.010083406347738508,
          0.0062944075943936985,
          0.006521733839607249,
          0.008288318640510195,
          0.014354281045934579,
          0.0025816839102596875,
          0.00902950669609149,
          0.01413945132195754,
          0.002400506319023938,
          0.008597885693398408,
          0.005193241741739488,
          0.011080330152151787,
          0.004672454070767253,
          0.009607552881989553,
          0.010596686725681365,
          0.015344456327561337,
          0.005608211210519306,
          0.013615037381424853,
          0.0045976232962794215,
          0.0027063814947373252,
          0.007658564940096418,
          0.008447885039620004,
          0.005851997646255213,
          0.01241610596705584,
          0.010377712003570789,
          0.01167463958134387
         ]
        }
       ],
       "layout": {
        "template": {
         "data": {
          "bar": [
           {
            "error_x": {
             "color": "#2a3f5f"
            },
            "error_y": {
             "color": "#2a3f5f"
            },
            "marker": {
             "line": {
              "color": "#E5ECF6",
              "width": 0.5
             },
             "pattern": {
              "fillmode": "overlay",
              "size": 10,
              "solidity": 0.2
             }
            },
            "type": "bar"
           }
          ],
          "barpolar": [
           {
            "marker": {
             "line": {
              "color": "#E5ECF6",
              "width": 0.5
             },
             "pattern": {
              "fillmode": "overlay",
              "size": 10,
              "solidity": 0.2
             }
            },
            "type": "barpolar"
           }
          ],
          "carpet": [
           {
            "aaxis": {
             "endlinecolor": "#2a3f5f",
             "gridcolor": "white",
             "linecolor": "white",
             "minorgridcolor": "white",
             "startlinecolor": "#2a3f5f"
            },
            "baxis": {
             "endlinecolor": "#2a3f5f",
             "gridcolor": "white",
             "linecolor": "white",
             "minorgridcolor": "white",
             "startlinecolor": "#2a3f5f"
            },
            "type": "carpet"
           }
          ],
          "choropleth": [
           {
            "colorbar": {
             "outlinewidth": 0,
             "ticks": ""
            },
            "type": "choropleth"
           }
          ],
          "contour": [
           {
            "colorbar": {
             "outlinewidth": 0,
             "ticks": ""
            },
            "colorscale": [
             [
              0,
              "#0d0887"
             ],
             [
              0.1111111111111111,
              "#46039f"
             ],
             [
              0.2222222222222222,
              "#7201a8"
             ],
             [
              0.3333333333333333,
              "#9c179e"
             ],
             [
              0.4444444444444444,
              "#bd3786"
             ],
             [
              0.5555555555555556,
              "#d8576b"
             ],
             [
              0.6666666666666666,
              "#ed7953"
             ],
             [
              0.7777777777777778,
              "#fb9f3a"
             ],
             [
              0.8888888888888888,
              "#fdca26"
             ],
             [
              1,
              "#f0f921"
             ]
            ],
            "type": "contour"
           }
          ],
          "contourcarpet": [
           {
            "colorbar": {
             "outlinewidth": 0,
             "ticks": ""
            },
            "type": "contourcarpet"
           }
          ],
          "heatmap": [
           {
            "colorbar": {
             "outlinewidth": 0,
             "ticks": ""
            },
            "colorscale": [
             [
              0,
              "#0d0887"
             ],
             [
              0.1111111111111111,
              "#46039f"
             ],
             [
              0.2222222222222222,
              "#7201a8"
             ],
             [
              0.3333333333333333,
              "#9c179e"
             ],
             [
              0.4444444444444444,
              "#bd3786"
             ],
             [
              0.5555555555555556,
              "#d8576b"
             ],
             [
              0.6666666666666666,
              "#ed7953"
             ],
             [
              0.7777777777777778,
              "#fb9f3a"
             ],
             [
              0.8888888888888888,
              "#fdca26"
             ],
             [
              1,
              "#f0f921"
             ]
            ],
            "type": "heatmap"
           }
          ],
          "heatmapgl": [
           {
            "colorbar": {
             "outlinewidth": 0,
             "ticks": ""
            },
            "colorscale": [
             [
              0,
              "#0d0887"
             ],
             [
              0.1111111111111111,
              "#46039f"
             ],
             [
              0.2222222222222222,
              "#7201a8"
             ],
             [
              0.3333333333333333,
              "#9c179e"
             ],
             [
              0.4444444444444444,
              "#bd3786"
             ],
             [
              0.5555555555555556,
              "#d8576b"
             ],
             [
              0.6666666666666666,
              "#ed7953"
             ],
             [
              0.7777777777777778,
              "#fb9f3a"
             ],
             [
              0.8888888888888888,
              "#fdca26"
             ],
             [
              1,
              "#f0f921"
             ]
            ],
            "type": "heatmapgl"
           }
          ],
          "histogram": [
           {
            "marker": {
             "pattern": {
              "fillmode": "overlay",
              "size": 10,
              "solidity": 0.2
             }
            },
            "type": "histogram"
           }
          ],
          "histogram2d": [
           {
            "colorbar": {
             "outlinewidth": 0,
             "ticks": ""
            },
            "colorscale": [
             [
              0,
              "#0d0887"
             ],
             [
              0.1111111111111111,
              "#46039f"
             ],
             [
              0.2222222222222222,
              "#7201a8"
             ],
             [
              0.3333333333333333,
              "#9c179e"
             ],
             [
              0.4444444444444444,
              "#bd3786"
             ],
             [
              0.5555555555555556,
              "#d8576b"
             ],
             [
              0.6666666666666666,
              "#ed7953"
             ],
             [
              0.7777777777777778,
              "#fb9f3a"
             ],
             [
              0.8888888888888888,
              "#fdca26"
             ],
             [
              1,
              "#f0f921"
             ]
            ],
            "type": "histogram2d"
           }
          ],
          "histogram2dcontour": [
           {
            "colorbar": {
             "outlinewidth": 0,
             "ticks": ""
            },
            "colorscale": [
             [
              0,
              "#0d0887"
             ],
             [
              0.1111111111111111,
              "#46039f"
             ],
             [
              0.2222222222222222,
              "#7201a8"
             ],
             [
              0.3333333333333333,
              "#9c179e"
             ],
             [
              0.4444444444444444,
              "#bd3786"
             ],
             [
              0.5555555555555556,
              "#d8576b"
             ],
             [
              0.6666666666666666,
              "#ed7953"
             ],
             [
              0.7777777777777778,
              "#fb9f3a"
             ],
             [
              0.8888888888888888,
              "#fdca26"
             ],
             [
              1,
              "#f0f921"
             ]
            ],
            "type": "histogram2dcontour"
           }
          ],
          "mesh3d": [
           {
            "colorbar": {
             "outlinewidth": 0,
             "ticks": ""
            },
            "type": "mesh3d"
           }
          ],
          "parcoords": [
           {
            "line": {
             "colorbar": {
              "outlinewidth": 0,
              "ticks": ""
             }
            },
            "type": "parcoords"
           }
          ],
          "pie": [
           {
            "automargin": true,
            "type": "pie"
           }
          ],
          "scatter": [
           {
            "fillpattern": {
             "fillmode": "overlay",
             "size": 10,
             "solidity": 0.2
            },
            "type": "scatter"
           }
          ],
          "scatter3d": [
           {
            "line": {
             "colorbar": {
              "outlinewidth": 0,
              "ticks": ""
             }
            },
            "marker": {
             "colorbar": {
              "outlinewidth": 0,
              "ticks": ""
             }
            },
            "type": "scatter3d"
           }
          ],
          "scattercarpet": [
           {
            "marker": {
             "colorbar": {
              "outlinewidth": 0,
              "ticks": ""
             }
            },
            "type": "scattercarpet"
           }
          ],
          "scattergeo": [
           {
            "marker": {
             "colorbar": {
              "outlinewidth": 0,
              "ticks": ""
             }
            },
            "type": "scattergeo"
           }
          ],
          "scattergl": [
           {
            "marker": {
             "colorbar": {
              "outlinewidth": 0,
              "ticks": ""
             }
            },
            "type": "scattergl"
           }
          ],
          "scattermapbox": [
           {
            "marker": {
             "colorbar": {
              "outlinewidth": 0,
              "ticks": ""
             }
            },
            "type": "scattermapbox"
           }
          ],
          "scatterpolar": [
           {
            "marker": {
             "colorbar": {
              "outlinewidth": 0,
              "ticks": ""
             }
            },
            "type": "scatterpolar"
           }
          ],
          "scatterpolargl": [
           {
            "marker": {
             "colorbar": {
              "outlinewidth": 0,
              "ticks": ""
             }
            },
            "type": "scatterpolargl"
           }
          ],
          "scatterternary": [
           {
            "marker": {
             "colorbar": {
              "outlinewidth": 0,
              "ticks": ""
             }
            },
            "type": "scatterternary"
           }
          ],
          "surface": [
           {
            "colorbar": {
             "outlinewidth": 0,
             "ticks": ""
            },
            "colorscale": [
             [
              0,
              "#0d0887"
             ],
             [
              0.1111111111111111,
              "#46039f"
             ],
             [
              0.2222222222222222,
              "#7201a8"
             ],
             [
              0.3333333333333333,
              "#9c179e"
             ],
             [
              0.4444444444444444,
              "#bd3786"
             ],
             [
              0.5555555555555556,
              "#d8576b"
             ],
             [
              0.6666666666666666,
              "#ed7953"
             ],
             [
              0.7777777777777778,
              "#fb9f3a"
             ],
             [
              0.8888888888888888,
              "#fdca26"
             ],
             [
              1,
              "#f0f921"
             ]
            ],
            "type": "surface"
           }
          ],
          "table": [
           {
            "cells": {
             "fill": {
              "color": "#EBF0F8"
             },
             "line": {
              "color": "white"
             }
            },
            "header": {
             "fill": {
              "color": "#C8D4E3"
             },
             "line": {
              "color": "white"
             }
            },
            "type": "table"
           }
          ]
         },
         "layout": {
          "annotationdefaults": {
           "arrowcolor": "#2a3f5f",
           "arrowhead": 0,
           "arrowwidth": 1
          },
          "autotypenumbers": "strict",
          "coloraxis": {
           "colorbar": {
            "outlinewidth": 0,
            "ticks": ""
           }
          },
          "colorscale": {
           "diverging": [
            [
             0,
             "#8e0152"
            ],
            [
             0.1,
             "#c51b7d"
            ],
            [
             0.2,
             "#de77ae"
            ],
            [
             0.3,
             "#f1b6da"
            ],
            [
             0.4,
             "#fde0ef"
            ],
            [
             0.5,
             "#f7f7f7"
            ],
            [
             0.6,
             "#e6f5d0"
            ],
            [
             0.7,
             "#b8e186"
            ],
            [
             0.8,
             "#7fbc41"
            ],
            [
             0.9,
             "#4d9221"
            ],
            [
             1,
             "#276419"
            ]
           ],
           "sequential": [
            [
             0,
             "#0d0887"
            ],
            [
             0.1111111111111111,
             "#46039f"
            ],
            [
             0.2222222222222222,
             "#7201a8"
            ],
            [
             0.3333333333333333,
             "#9c179e"
            ],
            [
             0.4444444444444444,
             "#bd3786"
            ],
            [
             0.5555555555555556,
             "#d8576b"
            ],
            [
             0.6666666666666666,
             "#ed7953"
            ],
            [
             0.7777777777777778,
             "#fb9f3a"
            ],
            [
             0.8888888888888888,
             "#fdca26"
            ],
            [
             1,
             "#f0f921"
            ]
           ],
           "sequentialminus": [
            [
             0,
             "#0d0887"
            ],
            [
             0.1111111111111111,
             "#46039f"
            ],
            [
             0.2222222222222222,
             "#7201a8"
            ],
            [
             0.3333333333333333,
             "#9c179e"
            ],
            [
             0.4444444444444444,
             "#bd3786"
            ],
            [
             0.5555555555555556,
             "#d8576b"
            ],
            [
             0.6666666666666666,
             "#ed7953"
            ],
            [
             0.7777777777777778,
             "#fb9f3a"
            ],
            [
             0.8888888888888888,
             "#fdca26"
            ],
            [
             1,
             "#f0f921"
            ]
           ]
          },
          "colorway": [
           "#636efa",
           "#EF553B",
           "#00cc96",
           "#ab63fa",
           "#FFA15A",
           "#19d3f3",
           "#FF6692",
           "#B6E880",
           "#FF97FF",
           "#FECB52"
          ],
          "font": {
           "color": "#2a3f5f"
          },
          "geo": {
           "bgcolor": "white",
           "lakecolor": "white",
           "landcolor": "#E5ECF6",
           "showlakes": true,
           "showland": true,
           "subunitcolor": "white"
          },
          "hoverlabel": {
           "align": "left"
          },
          "hovermode": "closest",
          "mapbox": {
           "style": "light"
          },
          "paper_bgcolor": "white",
          "plot_bgcolor": "#E5ECF6",
          "polar": {
           "angularaxis": {
            "gridcolor": "white",
            "linecolor": "white",
            "ticks": ""
           },
           "bgcolor": "#E5ECF6",
           "radialaxis": {
            "gridcolor": "white",
            "linecolor": "white",
            "ticks": ""
           }
          },
          "scene": {
           "xaxis": {
            "backgroundcolor": "#E5ECF6",
            "gridcolor": "white",
            "gridwidth": 2,
            "linecolor": "white",
            "showbackground": true,
            "ticks": "",
            "zerolinecolor": "white"
           },
           "yaxis": {
            "backgroundcolor": "#E5ECF6",
            "gridcolor": "white",
            "gridwidth": 2,
            "linecolor": "white",
            "showbackground": true,
            "ticks": "",
            "zerolinecolor": "white"
           },
           "zaxis": {
            "backgroundcolor": "#E5ECF6",
            "gridcolor": "white",
            "gridwidth": 2,
            "linecolor": "white",
            "showbackground": true,
            "ticks": "",
            "zerolinecolor": "white"
           }
          },
          "shapedefaults": {
           "line": {
            "color": "#2a3f5f"
           }
          },
          "ternary": {
           "aaxis": {
            "gridcolor": "white",
            "linecolor": "white",
            "ticks": ""
           },
           "baxis": {
            "gridcolor": "white",
            "linecolor": "white",
            "ticks": ""
           },
           "bgcolor": "#E5ECF6",
           "caxis": {
            "gridcolor": "white",
            "linecolor": "white",
            "ticks": ""
           }
          },
          "title": {
           "x": 0.05
          },
          "xaxis": {
           "automargin": true,
           "gridcolor": "white",
           "linecolor": "white",
           "ticks": "",
           "title": {
            "standoff": 15
           },
           "zerolinecolor": "white",
           "zerolinewidth": 2
          },
          "yaxis": {
           "automargin": true,
           "gridcolor": "white",
           "linecolor": "white",
           "ticks": "",
           "title": {
            "standoff": 15
           },
           "zerolinecolor": "white",
           "zerolinewidth": 2
          }
         }
        },
        "title": {
         "text": "Loss Curve Rank 10"
        },
        "xaxis": {
         "title": {
          "text": "Recording Session"
         }
        },
        "yaxis": {
         "title": {
          "text": "Test MSE"
         }
        }
       }
      }
     },
     "metadata": {},
     "output_type": "display_data"
    }
   ],
   "source": [
    "fig = go.Figure()\n",
    "# fig.add_trace(go.Bar(x=np.arange(TOTAL_RECORDINGS), y=test_loss_zero_predictor, name='Zero Predictor'))\n",
    "fig.add_trace(go.Bar(x=np.arange(TOTAL_RECORDINGS), y=test_loss_mean_predictor_interesting, name='Mean Predictor'))\n",
    "fig.add_trace(go.Bar(x=np.arange(TOTAL_RECORDINGS), y=test_loss_continuous_decoder_interesting, name='Continuous Decoder'))\n",
    "fig.update_layout(title=f'Loss Curve Rank {RANK}', xaxis_title='Recording Session', yaxis_title='Test MSE')\n",
    "fig.show()"
   ]
  },
  {
   "cell_type": "markdown",
   "metadata": {},
   "source": [
    "# Analysis"
   ]
  },
  {
   "cell_type": "code",
   "execution_count": null,
   "metadata": {},
   "outputs": [
    {
     "name": "stdout",
     "output_type": "stream",
     "text": [
      "4 occurance sessions [ 36  57 100 111]\n",
      "3 occurance sessions [ 14  17  23  53  55  58  88  89  93 106]\n",
      "2 occurance sessions [  4  11  12  20  25  30  32  39  45  49  56  61  67  68  71  73  74  76\n",
      "  83  90 101 107 110]\n",
      "1 occurance sessions [  2   3   8   9  10  13  15  19  21  27  29  35  37  40  41  42  44  50\n",
      "  51  52  54  59  60  62  64  65  66  69  70  75  77  78  82  91  95  96\n",
      "  97 103 105 108]\n"
     ]
    }
   ],
   "source": [
    "interesting_decoding_sessions = []\n",
    "\n",
    "interesting_decoding_sessions.append([2,8,13,14,15,17,25,26,32,36,39,45,52,57,62,69,73,74,78,88,89,91,93,95,100,101,106,107,110,111])\n",
    "interesting_decoding_sessions.append([4,9,10,11,12,21,23,26,30,32,36,37,40,44,49,50,51,53,54,55,56,57,58,65,67,70,71,75,76,77,83,88,89,93,101,106,111])\n",
    "interesting_decoding_sessions.append([4,17,19,20,26,35,36,39,41,53,55,56,57,61,68,73,74,97,100,105,111])\n",
    "interesting_decoding_sessions.append([11,12,14,23,25,26,27,29,30,36,55,57,58,59,61,64,67,82,89,90,96,100,106,107,110])\n",
    "interesting_decoding_sessions.append([3,14,17,20,23,26,42,45,49,53,58,60,66,68,71,76,83,88,90,93,100,103,108,111])\n",
    "\n",
    "# flatten interesting_decoding_sessions\n",
    "interesting_decoding_sessions = [item for sublist in interesting_decoding_sessions for item in sublist]\n",
    "interesting_decoding_sessions = np.array(interesting_decoding_sessions)\n",
    "\n",
    "# print elements of interesting_decoding_sessions that occur 5 times\n",
    "values, occurances = np.unique(interesting_decoding_sessions, return_counts=True)\n",
    "\n",
    "print(f\"4 occurance sessions {values[np.argwhere(occurances==4).flatten()]}\")\n",
    "print(f\"3 occurance sessions {values[np.argwhere(occurances==3).flatten()]}\")\n",
    "print(f\"2 occurance sessions {values[np.argwhere(occurances==2).flatten()]}\")\n",
    "print(f\"1 occurance sessions {values[np.argwhere(occurances==1).flatten()]}\")"
   ]
  }
 ],
 "metadata": {
  "kernelspec": {
   "display_name": "base",
   "language": "python",
   "name": "python3"
  },
  "language_info": {
   "codemirror_mode": {
    "name": "ipython",
    "version": 3
   },
   "file_extension": ".py",
   "mimetype": "text/x-python",
   "name": "python",
   "nbconvert_exporter": "python",
   "pygments_lexer": "ipython3",
   "version": "3.9.16"
  }
 },
 "nbformat": 4,
 "nbformat_minor": 2
}
