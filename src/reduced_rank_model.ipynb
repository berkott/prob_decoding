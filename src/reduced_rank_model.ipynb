{
 "cells": [
  {
   "cell_type": "markdown",
   "metadata": {},
   "source": [
    "# Reduced Rank Model"
   ]
  },
  {
   "cell_type": "code",
   "execution_count": 1,
   "metadata": {},
   "outputs": [],
   "source": [
    "import numpy as np\n",
    "import pandas as pd\n",
    "import matplotlib.pyplot as plt\n",
    "import os\n",
    "from models.reduced_rank_model import ReducedRankModel"
   ]
  },
  {
   "cell_type": "code",
   "execution_count": 2,
   "metadata": {},
   "outputs": [],
   "source": [
    "DATA_PATH = 'raw_data/full_data/'\n",
    "TOTAL_SESSIONS = 3\n",
    "\n",
    "files = os.listdir(DATA_PATH)\n",
    "X_files = [f for f in files if f.endswith('.npy') and f.startswith('X')]\n",
    "X_files.sort()\n",
    "Y_files = [f for f in files if f.endswith('.npy') and f.startswith('Y')]\n",
    "Y_files.sort()\n",
    "\n",
    "X_data = []\n",
    "for f in X_files[:TOTAL_SESSIONS]:\n",
    "    X_data.append(np.load(DATA_PATH + f))\n",
    "\n",
    "Y_data = []\n",
    "for f in Y_files[:TOTAL_SESSIONS]:\n",
    "    Y_data.append(np.load(DATA_PATH + f))"
   ]
  },
  {
   "cell_type": "code",
   "execution_count": null,
   "metadata": {},
   "outputs": [],
   "source": []
  },
  {
   "cell_type": "markdown",
   "metadata": {},
   "source": [
    "# Training"
   ]
  },
  {
   "cell_type": "code",
   "execution_count": null,
   "metadata": {},
   "outputs": [],
   "source": [
    "# ReducedRankModel"
   ]
  }
 ],
 "metadata": {
  "kernelspec": {
   "display_name": "base",
   "language": "python",
   "name": "python3"
  },
  "language_info": {
   "codemirror_mode": {
    "name": "ipython",
    "version": 3
   },
   "file_extension": ".py",
   "mimetype": "text/x-python",
   "name": "python",
   "nbconvert_exporter": "python",
   "pygments_lexer": "ipython3",
   "version": "3.9.16"
  }
 },
 "nbformat": 4,
 "nbformat_minor": 2
}
