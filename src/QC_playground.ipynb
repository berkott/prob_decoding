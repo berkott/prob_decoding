{
 "cells": [
  {
   "cell_type": "markdown",
   "metadata": {},
   "source": [
    "## Processing raw data; creating train and test sets"
   ]
  },
  {
   "cell_type": "code",
   "execution_count": 136,
   "metadata": {},
   "outputs": [],
   "source": [
    "import numpy as np\n",
    "import plotly.graph_objs as go\n",
    "from sklearn.metrics import mean_squared_error, r2_score\n",
    "from sklearn import linear_model"
   ]
  },
  {
   "cell_type": "code",
   "execution_count": 76,
   "metadata": {},
   "outputs": [],
   "source": [
    "with open('./raw_data/full_data/names_and_shapes.txt') as file:\n",
    "    lines = []\n",
    "    for line in file:\n",
    "        sep = line.find(',')\n",
    "        name = line[:sep]\n",
    "        lines.append(name)"
   ]
  },
  {
   "cell_type": "code",
   "execution_count": 77,
   "metadata": {},
   "outputs": [],
   "source": [
    "X_list = []\n",
    "Y_list = []\n",
    "\n",
    "for i in range(len(lines) // 2):\n",
    "    X_file = './raw_data/full_data/' + lines[i]\n",
    "    X_i = np.load(X_file)\n",
    "    X_list.append(X_i)\n",
    "    Y_file = './raw_data/full_data/' + lines[i + len(lines) // 2]\n",
    "    Y_i = np.load(Y_file)\n",
    "    Y_list.append(Y_i)"
   ]
  },
  {
   "cell_type": "code",
   "execution_count": 78,
   "metadata": {},
   "outputs": [],
   "source": [
    "num_sessions = len(X_list)\n",
    "time_bins = X_list[0].shape[2]"
   ]
  },
  {
   "cell_type": "code",
   "execution_count": 79,
   "metadata": {},
   "outputs": [],
   "source": [
    "train_split = 0.8\n",
    "X_train = [X[:int(train_split * X.shape[0])] for X in X_list]\n",
    "X_test = [X[int(train_split * X.shape[0]):] for X in X_list]\n",
    "Y_train = [Y[:int(train_split * Y.shape[0])] for Y in Y_list]\n",
    "Y_test = [Y[int(train_split * Y.shape[0]):] for Y in Y_list]"
   ]
  },
  {
   "cell_type": "markdown",
   "metadata": {},
   "source": [
    "## Encoding with Poisson regression"
   ]
  },
  {
   "cell_type": "code",
   "execution_count": 80,
   "metadata": {},
   "outputs": [],
   "source": [
    "def create_avg_and_max_matrices(X):\n",
    "    avg_matrix = np.empty((0, time_bins))\n",
    "    max_matrix = np.empty((0, time_bins))\n",
    "    \n",
    "    for session in X:\n",
    "        avg_spikes = np.mean(session, axis=1)\n",
    "        max_spikes = np.max(session, axis=1)\n",
    "        avg_matrix = np.vstack((avg_matrix, avg_spikes))\n",
    "        max_matrix = np.vstack((max_matrix, max_spikes))\n",
    "        \n",
    "    return avg_matrix, max_matrix"
   ]
  },
  {
   "cell_type": "code",
   "execution_count": 81,
   "metadata": {},
   "outputs": [],
   "source": [
    "train_avg_spikes, train_max_spikes = create_avg_and_max_matrices(X_train)\n",
    "test_avg_spikes, test_max_spikes = create_avg_and_max_matrices(X_test)"
   ]
  },
  {
   "cell_type": "code",
   "execution_count": 89,
   "metadata": {},
   "outputs": [],
   "source": [
    "def create_wheel_speed_matrix(Y):\n",
    "    wheel_speed_matrix = np.empty((0, time_bins))\n",
    "\n",
    "    for session in Y:\n",
    "        wheel_speed_matrix = np.vstack((wheel_speed_matrix, session))\n",
    "    \n",
    "    return wheel_speed_matrix"
   ]
  },
  {
   "cell_type": "code",
   "execution_count": 90,
   "metadata": {},
   "outputs": [],
   "source": [
    "train_wheel_speeds = create_wheel_speed_matrix(Y_train)\n",
    "test_wheel_speeds = create_wheel_speed_matrix(Y_test)"
   ]
  },
  {
   "cell_type": "code",
   "execution_count": 117,
   "metadata": {},
   "outputs": [],
   "source": [
    "def train_and_predict(train_spikes, test_spikes, train_speeds, test_speeds):\n",
    "    encoders = [linear_model.PoissonRegressor() for _ in range(time_bins)]\n",
    "    spikes_pred = np.zeros(test_spikes.shape)\n",
    "\n",
    "    for t in range(time_bins):\n",
    "        train_speeds_dim = np.expand_dims(train_speeds[:,t], axis=1)\n",
    "        test_speeds_dim = np.expand_dims(test_speeds[:,t], axis=1)\n",
    "        encoders[t].fit(train_speeds_dim, train_spikes[:,t])\n",
    "        spikes_pred[:,t] = encoders[t].predict(test_speeds_dim)\n",
    "        \n",
    "    return encoders, spikes_pred"
   ]
  },
  {
   "cell_type": "code",
   "execution_count": 118,
   "metadata": {},
   "outputs": [],
   "source": [
    "avg_encoders, avg_spikes_pred = train_and_predict(train_avg_spikes, test_avg_spikes, train_wheel_speeds, test_wheel_speeds) \n",
    "max_encoders, max_spikes_pred = train_and_predict(train_max_spikes, test_max_spikes, train_wheel_speeds, test_wheel_speeds)"
   ]
  },
  {
   "cell_type": "code",
   "execution_count": 137,
   "metadata": {},
   "outputs": [
    {
     "name": "stdout",
     "output_type": "stream",
     "text": [
      "MSE for average spikes: 0.03327826055121139\n",
      "MSE for maximum spikes: 4.692961438400262\n",
      "R-squared for average spikes: -0.0008471324065031149\n",
      "R-squared for maximum spikes: 0.0001365736782785204\n"
     ]
    }
   ],
   "source": [
    "print(f'MSE for average spikes: {mean_squared_error(test_avg_spikes, avg_spikes_pred)}')\n",
    "print(f'MSE for maximum spikes: {mean_squared_error(test_max_spikes, max_spikes_pred)}')\n",
    "print(f'R-squared for average spikes: {r2_score(test_avg_spikes, avg_spikes_pred)}')\n",
    "print(f'R-squared for maximum spikes: {r2_score(test_max_spikes, max_spikes_pred)}')"
   ]
  },
  {
   "cell_type": "markdown",
   "metadata": {},
   "source": [
    "## Decoding with Reduced Rank Model"
   ]
  },
  {
   "cell_type": "code",
   "execution_count": null,
   "metadata": {},
   "outputs": [],
   "source": []
  },
  {
   "cell_type": "code",
   "execution_count": null,
   "metadata": {},
   "outputs": [],
   "source": []
  },
  {
   "cell_type": "markdown",
   "metadata": {},
   "source": [
    "## Berkan's code"
   ]
  },
  {
   "cell_type": "markdown",
   "metadata": {},
   "source": [
    "## Enoding"
   ]
  },
  {
   "cell_type": "code",
   "execution_count": 7,
   "metadata": {},
   "outputs": [
    {
     "name": "stdout",
     "output_type": "stream",
     "text": [
      "MSE: 0.5898138303392012\n",
      "beta: [0.20400896724781722, 0.23406932708166714, 0.04268874337952797, 0.11370658818387654, 0.01518584730689122, 0.03337051584140189, 0.07119438513146414, 0.03782546099862029, -0.060297463670699596, -0.015584820072791628, 0.008825355385077088, -0.032948056524980895, 0.01842511827139427, 0.015278192592384731, 0.0741797876242447, 0.04905218565816887, 0.007159493198042481, 0.020717698251592084, 0.006296493683754506, 0.004720416375770121, -0.03156617941050992, 0.008444348620928957, -0.018550062457030565, 0.012196418376286449]\n"
     ]
    },
    {
     "name": "stderr",
     "output_type": "stream",
     "text": [
      "/var/folders/6r/0dn6z6js5_g4k14sy80crq5c0000gn/T/ipykernel_38086/2225685690.py:11: DeprecationWarning:\n",
      "\n",
      "Conversion of an array with ndim > 0 to a scalar is deprecated, and will error in future. Ensure you extract a single element from your array before performing this operation. (Deprecated NumPy 1.25.)\n",
      "\n"
     ]
    },
    {
     "data": {
      "application/vnd.plotly.v1+json": {
       "config": {
        "plotlyServerURL": "https://plot.ly"
       },
       "data": [
        {
         "type": "bar",
         "x": [
          0,
          1,
          2,
          3,
          4,
          5,
          6,
          7,
          8,
          9,
          10,
          11,
          12,
          13,
          14,
          15,
          16,
          17,
          18,
          19,
          20,
          21,
          22,
          23
         ],
         "y": [
          0.20400896724781722,
          0.23406932708166714,
          0.04268874337952797,
          0.11370658818387654,
          0.01518584730689122,
          0.03337051584140189,
          0.07119438513146414,
          0.03782546099862029,
          -0.060297463670699596,
          -0.015584820072791628,
          0.008825355385077088,
          -0.032948056524980895,
          0.01842511827139427,
          0.015278192592384731,
          0.0741797876242447,
          0.04905218565816887,
          0.007159493198042481,
          0.020717698251592084,
          0.006296493683754506,
          0.004720416375770121,
          -0.03156617941050992,
          0.008444348620928957,
          -0.018550062457030565,
          0.012196418376286449
         ]
        }
       ],
       "layout": {
        "template": {
         "data": {
          "bar": [
           {
            "error_x": {
             "color": "#2a3f5f"
            },
            "error_y": {
             "color": "#2a3f5f"
            },
            "marker": {
             "line": {
              "color": "#E5ECF6",
              "width": 0.5
             },
             "pattern": {
              "fillmode": "overlay",
              "size": 10,
              "solidity": 0.2
             }
            },
            "type": "bar"
           }
          ],
          "barpolar": [
           {
            "marker": {
             "line": {
              "color": "#E5ECF6",
              "width": 0.5
             },
             "pattern": {
              "fillmode": "overlay",
              "size": 10,
              "solidity": 0.2
             }
            },
            "type": "barpolar"
           }
          ],
          "carpet": [
           {
            "aaxis": {
             "endlinecolor": "#2a3f5f",
             "gridcolor": "white",
             "linecolor": "white",
             "minorgridcolor": "white",
             "startlinecolor": "#2a3f5f"
            },
            "baxis": {
             "endlinecolor": "#2a3f5f",
             "gridcolor": "white",
             "linecolor": "white",
             "minorgridcolor": "white",
             "startlinecolor": "#2a3f5f"
            },
            "type": "carpet"
           }
          ],
          "choropleth": [
           {
            "colorbar": {
             "outlinewidth": 0,
             "ticks": ""
            },
            "type": "choropleth"
           }
          ],
          "contour": [
           {
            "colorbar": {
             "outlinewidth": 0,
             "ticks": ""
            },
            "colorscale": [
             [
              0,
              "#0d0887"
             ],
             [
              0.1111111111111111,
              "#46039f"
             ],
             [
              0.2222222222222222,
              "#7201a8"
             ],
             [
              0.3333333333333333,
              "#9c179e"
             ],
             [
              0.4444444444444444,
              "#bd3786"
             ],
             [
              0.5555555555555556,
              "#d8576b"
             ],
             [
              0.6666666666666666,
              "#ed7953"
             ],
             [
              0.7777777777777778,
              "#fb9f3a"
             ],
             [
              0.8888888888888888,
              "#fdca26"
             ],
             [
              1,
              "#f0f921"
             ]
            ],
            "type": "contour"
           }
          ],
          "contourcarpet": [
           {
            "colorbar": {
             "outlinewidth": 0,
             "ticks": ""
            },
            "type": "contourcarpet"
           }
          ],
          "heatmap": [
           {
            "colorbar": {
             "outlinewidth": 0,
             "ticks": ""
            },
            "colorscale": [
             [
              0,
              "#0d0887"
             ],
             [
              0.1111111111111111,
              "#46039f"
             ],
             [
              0.2222222222222222,
              "#7201a8"
             ],
             [
              0.3333333333333333,
              "#9c179e"
             ],
             [
              0.4444444444444444,
              "#bd3786"
             ],
             [
              0.5555555555555556,
              "#d8576b"
             ],
             [
              0.6666666666666666,
              "#ed7953"
             ],
             [
              0.7777777777777778,
              "#fb9f3a"
             ],
             [
              0.8888888888888888,
              "#fdca26"
             ],
             [
              1,
              "#f0f921"
             ]
            ],
            "type": "heatmap"
           }
          ],
          "heatmapgl": [
           {
            "colorbar": {
             "outlinewidth": 0,
             "ticks": ""
            },
            "colorscale": [
             [
              0,
              "#0d0887"
             ],
             [
              0.1111111111111111,
              "#46039f"
             ],
             [
              0.2222222222222222,
              "#7201a8"
             ],
             [
              0.3333333333333333,
              "#9c179e"
             ],
             [
              0.4444444444444444,
              "#bd3786"
             ],
             [
              0.5555555555555556,
              "#d8576b"
             ],
             [
              0.6666666666666666,
              "#ed7953"
             ],
             [
              0.7777777777777778,
              "#fb9f3a"
             ],
             [
              0.8888888888888888,
              "#fdca26"
             ],
             [
              1,
              "#f0f921"
             ]
            ],
            "type": "heatmapgl"
           }
          ],
          "histogram": [
           {
            "marker": {
             "pattern": {
              "fillmode": "overlay",
              "size": 10,
              "solidity": 0.2
             }
            },
            "type": "histogram"
           }
          ],
          "histogram2d": [
           {
            "colorbar": {
             "outlinewidth": 0,
             "ticks": ""
            },
            "colorscale": [
             [
              0,
              "#0d0887"
             ],
             [
              0.1111111111111111,
              "#46039f"
             ],
             [
              0.2222222222222222,
              "#7201a8"
             ],
             [
              0.3333333333333333,
              "#9c179e"
             ],
             [
              0.4444444444444444,
              "#bd3786"
             ],
             [
              0.5555555555555556,
              "#d8576b"
             ],
             [
              0.6666666666666666,
              "#ed7953"
             ],
             [
              0.7777777777777778,
              "#fb9f3a"
             ],
             [
              0.8888888888888888,
              "#fdca26"
             ],
             [
              1,
              "#f0f921"
             ]
            ],
            "type": "histogram2d"
           }
          ],
          "histogram2dcontour": [
           {
            "colorbar": {
             "outlinewidth": 0,
             "ticks": ""
            },
            "colorscale": [
             [
              0,
              "#0d0887"
             ],
             [
              0.1111111111111111,
              "#46039f"
             ],
             [
              0.2222222222222222,
              "#7201a8"
             ],
             [
              0.3333333333333333,
              "#9c179e"
             ],
             [
              0.4444444444444444,
              "#bd3786"
             ],
             [
              0.5555555555555556,
              "#d8576b"
             ],
             [
              0.6666666666666666,
              "#ed7953"
             ],
             [
              0.7777777777777778,
              "#fb9f3a"
             ],
             [
              0.8888888888888888,
              "#fdca26"
             ],
             [
              1,
              "#f0f921"
             ]
            ],
            "type": "histogram2dcontour"
           }
          ],
          "mesh3d": [
           {
            "colorbar": {
             "outlinewidth": 0,
             "ticks": ""
            },
            "type": "mesh3d"
           }
          ],
          "parcoords": [
           {
            "line": {
             "colorbar": {
              "outlinewidth": 0,
              "ticks": ""
             }
            },
            "type": "parcoords"
           }
          ],
          "pie": [
           {
            "automargin": true,
            "type": "pie"
           }
          ],
          "scatter": [
           {
            "fillpattern": {
             "fillmode": "overlay",
             "size": 10,
             "solidity": 0.2
            },
            "type": "scatter"
           }
          ],
          "scatter3d": [
           {
            "line": {
             "colorbar": {
              "outlinewidth": 0,
              "ticks": ""
             }
            },
            "marker": {
             "colorbar": {
              "outlinewidth": 0,
              "ticks": ""
             }
            },
            "type": "scatter3d"
           }
          ],
          "scattercarpet": [
           {
            "marker": {
             "colorbar": {
              "outlinewidth": 0,
              "ticks": ""
             }
            },
            "type": "scattercarpet"
           }
          ],
          "scattergeo": [
           {
            "marker": {
             "colorbar": {
              "outlinewidth": 0,
              "ticks": ""
             }
            },
            "type": "scattergeo"
           }
          ],
          "scattergl": [
           {
            "marker": {
             "colorbar": {
              "outlinewidth": 0,
              "ticks": ""
             }
            },
            "type": "scattergl"
           }
          ],
          "scattermapbox": [
           {
            "marker": {
             "colorbar": {
              "outlinewidth": 0,
              "ticks": ""
             }
            },
            "type": "scattermapbox"
           }
          ],
          "scatterpolar": [
           {
            "marker": {
             "colorbar": {
              "outlinewidth": 0,
              "ticks": ""
             }
            },
            "type": "scatterpolar"
           }
          ],
          "scatterpolargl": [
           {
            "marker": {
             "colorbar": {
              "outlinewidth": 0,
              "ticks": ""
             }
            },
            "type": "scatterpolargl"
           }
          ],
          "scatterternary": [
           {
            "marker": {
             "colorbar": {
              "outlinewidth": 0,
              "ticks": ""
             }
            },
            "type": "scatterternary"
           }
          ],
          "surface": [
           {
            "colorbar": {
             "outlinewidth": 0,
             "ticks": ""
            },
            "colorscale": [
             [
              0,
              "#0d0887"
             ],
             [
              0.1111111111111111,
              "#46039f"
             ],
             [
              0.2222222222222222,
              "#7201a8"
             ],
             [
              0.3333333333333333,
              "#9c179e"
             ],
             [
              0.4444444444444444,
              "#bd3786"
             ],
             [
              0.5555555555555556,
              "#d8576b"
             ],
             [
              0.6666666666666666,
              "#ed7953"
             ],
             [
              0.7777777777777778,
              "#fb9f3a"
             ],
             [
              0.8888888888888888,
              "#fdca26"
             ],
             [
              1,
              "#f0f921"
             ]
            ],
            "type": "surface"
           }
          ],
          "table": [
           {
            "cells": {
             "fill": {
              "color": "#EBF0F8"
             },
             "line": {
              "color": "white"
             }
            },
            "header": {
             "fill": {
              "color": "#C8D4E3"
             },
             "line": {
              "color": "white"
             }
            },
            "type": "table"
           }
          ]
         },
         "layout": {
          "annotationdefaults": {
           "arrowcolor": "#2a3f5f",
           "arrowhead": 0,
           "arrowwidth": 1
          },
          "autotypenumbers": "strict",
          "coloraxis": {
           "colorbar": {
            "outlinewidth": 0,
            "ticks": ""
           }
          },
          "colorscale": {
           "diverging": [
            [
             0,
             "#8e0152"
            ],
            [
             0.1,
             "#c51b7d"
            ],
            [
             0.2,
             "#de77ae"
            ],
            [
             0.3,
             "#f1b6da"
            ],
            [
             0.4,
             "#fde0ef"
            ],
            [
             0.5,
             "#f7f7f7"
            ],
            [
             0.6,
             "#e6f5d0"
            ],
            [
             0.7,
             "#b8e186"
            ],
            [
             0.8,
             "#7fbc41"
            ],
            [
             0.9,
             "#4d9221"
            ],
            [
             1,
             "#276419"
            ]
           ],
           "sequential": [
            [
             0,
             "#0d0887"
            ],
            [
             0.1111111111111111,
             "#46039f"
            ],
            [
             0.2222222222222222,
             "#7201a8"
            ],
            [
             0.3333333333333333,
             "#9c179e"
            ],
            [
             0.4444444444444444,
             "#bd3786"
            ],
            [
             0.5555555555555556,
             "#d8576b"
            ],
            [
             0.6666666666666666,
             "#ed7953"
            ],
            [
             0.7777777777777778,
             "#fb9f3a"
            ],
            [
             0.8888888888888888,
             "#fdca26"
            ],
            [
             1,
             "#f0f921"
            ]
           ],
           "sequentialminus": [
            [
             0,
             "#0d0887"
            ],
            [
             0.1111111111111111,
             "#46039f"
            ],
            [
             0.2222222222222222,
             "#7201a8"
            ],
            [
             0.3333333333333333,
             "#9c179e"
            ],
            [
             0.4444444444444444,
             "#bd3786"
            ],
            [
             0.5555555555555556,
             "#d8576b"
            ],
            [
             0.6666666666666666,
             "#ed7953"
            ],
            [
             0.7777777777777778,
             "#fb9f3a"
            ],
            [
             0.8888888888888888,
             "#fdca26"
            ],
            [
             1,
             "#f0f921"
            ]
           ]
          },
          "colorway": [
           "#636efa",
           "#EF553B",
           "#00cc96",
           "#ab63fa",
           "#FFA15A",
           "#19d3f3",
           "#FF6692",
           "#B6E880",
           "#FF97FF",
           "#FECB52"
          ],
          "font": {
           "color": "#2a3f5f"
          },
          "geo": {
           "bgcolor": "white",
           "lakecolor": "white",
           "landcolor": "#E5ECF6",
           "showlakes": true,
           "showland": true,
           "subunitcolor": "white"
          },
          "hoverlabel": {
           "align": "left"
          },
          "hovermode": "closest",
          "mapbox": {
           "style": "light"
          },
          "paper_bgcolor": "white",
          "plot_bgcolor": "#E5ECF6",
          "polar": {
           "angularaxis": {
            "gridcolor": "white",
            "linecolor": "white",
            "ticks": ""
           },
           "bgcolor": "#E5ECF6",
           "radialaxis": {
            "gridcolor": "white",
            "linecolor": "white",
            "ticks": ""
           }
          },
          "scene": {
           "xaxis": {
            "backgroundcolor": "#E5ECF6",
            "gridcolor": "white",
            "gridwidth": 2,
            "linecolor": "white",
            "showbackground": true,
            "ticks": "",
            "zerolinecolor": "white"
           },
           "yaxis": {
            "backgroundcolor": "#E5ECF6",
            "gridcolor": "white",
            "gridwidth": 2,
            "linecolor": "white",
            "showbackground": true,
            "ticks": "",
            "zerolinecolor": "white"
           },
           "zaxis": {
            "backgroundcolor": "#E5ECF6",
            "gridcolor": "white",
            "gridwidth": 2,
            "linecolor": "white",
            "showbackground": true,
            "ticks": "",
            "zerolinecolor": "white"
           }
          },
          "shapedefaults": {
           "line": {
            "color": "#2a3f5f"
           }
          },
          "ternary": {
           "aaxis": {
            "gridcolor": "white",
            "linecolor": "white",
            "ticks": ""
           },
           "baxis": {
            "gridcolor": "white",
            "linecolor": "white",
            "ticks": ""
           },
           "bgcolor": "#E5ECF6",
           "caxis": {
            "gridcolor": "white",
            "linecolor": "white",
            "ticks": ""
           }
          },
          "title": {
           "x": 0.05
          },
          "xaxis": {
           "automargin": true,
           "gridcolor": "white",
           "linecolor": "white",
           "ticks": "",
           "title": {
            "standoff": 15
           },
           "zerolinecolor": "white",
           "zerolinewidth": 2
          },
          "yaxis": {
           "automargin": true,
           "gridcolor": "white",
           "linecolor": "white",
           "ticks": "",
           "title": {
            "standoff": 15
           },
           "zerolinecolor": "white",
           "zerolinewidth": 2
          }
         }
        },
        "title": {
         "text": "Beta for each neuron"
        },
        "xaxis": {
         "title": {
          "text": "Neuron"
         }
        },
        "yaxis": {
         "title": {
          "text": "Value"
         }
        }
       }
      },
      "text/html": [
       "<div>                            <div id=\"1e3dabd4-c7cc-43dd-8d04-e3a35667ab8a\" class=\"plotly-graph-div\" style=\"height:525px; width:100%;\"></div>            <script type=\"text/javascript\">                require([\"plotly\"], function(Plotly) {                    window.PLOTLYENV=window.PLOTLYENV || {};                                    if (document.getElementById(\"1e3dabd4-c7cc-43dd-8d04-e3a35667ab8a\")) {                    Plotly.newPlot(                        \"1e3dabd4-c7cc-43dd-8d04-e3a35667ab8a\",                        [{\"x\":[0,1,2,3,4,5,6,7,8,9,10,11,12,13,14,15,16,17,18,19,20,21,22,23],\"y\":[0.20400896724781722,0.23406932708166714,0.04268874337952797,0.11370658818387654,0.01518584730689122,0.03337051584140189,0.07119438513146414,0.03782546099862029,-0.060297463670699596,-0.015584820072791628,0.008825355385077088,-0.032948056524980895,0.01842511827139427,0.015278192592384731,0.0741797876242447,0.04905218565816887,0.007159493198042481,0.020717698251592084,0.006296493683754506,0.004720416375770121,-0.03156617941050992,0.008444348620928957,-0.018550062457030565,0.012196418376286449],\"type\":\"bar\"}],                        {\"template\":{\"data\":{\"histogram2dcontour\":[{\"type\":\"histogram2dcontour\",\"colorbar\":{\"outlinewidth\":0,\"ticks\":\"\"},\"colorscale\":[[0.0,\"#0d0887\"],[0.1111111111111111,\"#46039f\"],[0.2222222222222222,\"#7201a8\"],[0.3333333333333333,\"#9c179e\"],[0.4444444444444444,\"#bd3786\"],[0.5555555555555556,\"#d8576b\"],[0.6666666666666666,\"#ed7953\"],[0.7777777777777778,\"#fb9f3a\"],[0.8888888888888888,\"#fdca26\"],[1.0,\"#f0f921\"]]}],\"choropleth\":[{\"type\":\"choropleth\",\"colorbar\":{\"outlinewidth\":0,\"ticks\":\"\"}}],\"histogram2d\":[{\"type\":\"histogram2d\",\"colorbar\":{\"outlinewidth\":0,\"ticks\":\"\"},\"colorscale\":[[0.0,\"#0d0887\"],[0.1111111111111111,\"#46039f\"],[0.2222222222222222,\"#7201a8\"],[0.3333333333333333,\"#9c179e\"],[0.4444444444444444,\"#bd3786\"],[0.5555555555555556,\"#d8576b\"],[0.6666666666666666,\"#ed7953\"],[0.7777777777777778,\"#fb9f3a\"],[0.8888888888888888,\"#fdca26\"],[1.0,\"#f0f921\"]]}],\"heatmap\":[{\"type\":\"heatmap\",\"colorbar\":{\"outlinewidth\":0,\"ticks\":\"\"},\"colorscale\":[[0.0,\"#0d0887\"],[0.1111111111111111,\"#46039f\"],[0.2222222222222222,\"#7201a8\"],[0.3333333333333333,\"#9c179e\"],[0.4444444444444444,\"#bd3786\"],[0.5555555555555556,\"#d8576b\"],[0.6666666666666666,\"#ed7953\"],[0.7777777777777778,\"#fb9f3a\"],[0.8888888888888888,\"#fdca26\"],[1.0,\"#f0f921\"]]}],\"heatmapgl\":[{\"type\":\"heatmapgl\",\"colorbar\":{\"outlinewidth\":0,\"ticks\":\"\"},\"colorscale\":[[0.0,\"#0d0887\"],[0.1111111111111111,\"#46039f\"],[0.2222222222222222,\"#7201a8\"],[0.3333333333333333,\"#9c179e\"],[0.4444444444444444,\"#bd3786\"],[0.5555555555555556,\"#d8576b\"],[0.6666666666666666,\"#ed7953\"],[0.7777777777777778,\"#fb9f3a\"],[0.8888888888888888,\"#fdca26\"],[1.0,\"#f0f921\"]]}],\"contourcarpet\":[{\"type\":\"contourcarpet\",\"colorbar\":{\"outlinewidth\":0,\"ticks\":\"\"}}],\"contour\":[{\"type\":\"contour\",\"colorbar\":{\"outlinewidth\":0,\"ticks\":\"\"},\"colorscale\":[[0.0,\"#0d0887\"],[0.1111111111111111,\"#46039f\"],[0.2222222222222222,\"#7201a8\"],[0.3333333333333333,\"#9c179e\"],[0.4444444444444444,\"#bd3786\"],[0.5555555555555556,\"#d8576b\"],[0.6666666666666666,\"#ed7953\"],[0.7777777777777778,\"#fb9f3a\"],[0.8888888888888888,\"#fdca26\"],[1.0,\"#f0f921\"]]}],\"surface\":[{\"type\":\"surface\",\"colorbar\":{\"outlinewidth\":0,\"ticks\":\"\"},\"colorscale\":[[0.0,\"#0d0887\"],[0.1111111111111111,\"#46039f\"],[0.2222222222222222,\"#7201a8\"],[0.3333333333333333,\"#9c179e\"],[0.4444444444444444,\"#bd3786\"],[0.5555555555555556,\"#d8576b\"],[0.6666666666666666,\"#ed7953\"],[0.7777777777777778,\"#fb9f3a\"],[0.8888888888888888,\"#fdca26\"],[1.0,\"#f0f921\"]]}],\"mesh3d\":[{\"type\":\"mesh3d\",\"colorbar\":{\"outlinewidth\":0,\"ticks\":\"\"}}],\"scatter\":[{\"fillpattern\":{\"fillmode\":\"overlay\",\"size\":10,\"solidity\":0.2},\"type\":\"scatter\"}],\"parcoords\":[{\"type\":\"parcoords\",\"line\":{\"colorbar\":{\"outlinewidth\":0,\"ticks\":\"\"}}}],\"scatterpolargl\":[{\"type\":\"scatterpolargl\",\"marker\":{\"colorbar\":{\"outlinewidth\":0,\"ticks\":\"\"}}}],\"bar\":[{\"error_x\":{\"color\":\"#2a3f5f\"},\"error_y\":{\"color\":\"#2a3f5f\"},\"marker\":{\"line\":{\"color\":\"#E5ECF6\",\"width\":0.5},\"pattern\":{\"fillmode\":\"overlay\",\"size\":10,\"solidity\":0.2}},\"type\":\"bar\"}],\"scattergeo\":[{\"type\":\"scattergeo\",\"marker\":{\"colorbar\":{\"outlinewidth\":0,\"ticks\":\"\"}}}],\"scatterpolar\":[{\"type\":\"scatterpolar\",\"marker\":{\"colorbar\":{\"outlinewidth\":0,\"ticks\":\"\"}}}],\"histogram\":[{\"marker\":{\"pattern\":{\"fillmode\":\"overlay\",\"size\":10,\"solidity\":0.2}},\"type\":\"histogram\"}],\"scattergl\":[{\"type\":\"scattergl\",\"marker\":{\"colorbar\":{\"outlinewidth\":0,\"ticks\":\"\"}}}],\"scatter3d\":[{\"type\":\"scatter3d\",\"line\":{\"colorbar\":{\"outlinewidth\":0,\"ticks\":\"\"}},\"marker\":{\"colorbar\":{\"outlinewidth\":0,\"ticks\":\"\"}}}],\"scattermapbox\":[{\"type\":\"scattermapbox\",\"marker\":{\"colorbar\":{\"outlinewidth\":0,\"ticks\":\"\"}}}],\"scatterternary\":[{\"type\":\"scatterternary\",\"marker\":{\"colorbar\":{\"outlinewidth\":0,\"ticks\":\"\"}}}],\"scattercarpet\":[{\"type\":\"scattercarpet\",\"marker\":{\"colorbar\":{\"outlinewidth\":0,\"ticks\":\"\"}}}],\"carpet\":[{\"aaxis\":{\"endlinecolor\":\"#2a3f5f\",\"gridcolor\":\"white\",\"linecolor\":\"white\",\"minorgridcolor\":\"white\",\"startlinecolor\":\"#2a3f5f\"},\"baxis\":{\"endlinecolor\":\"#2a3f5f\",\"gridcolor\":\"white\",\"linecolor\":\"white\",\"minorgridcolor\":\"white\",\"startlinecolor\":\"#2a3f5f\"},\"type\":\"carpet\"}],\"table\":[{\"cells\":{\"fill\":{\"color\":\"#EBF0F8\"},\"line\":{\"color\":\"white\"}},\"header\":{\"fill\":{\"color\":\"#C8D4E3\"},\"line\":{\"color\":\"white\"}},\"type\":\"table\"}],\"barpolar\":[{\"marker\":{\"line\":{\"color\":\"#E5ECF6\",\"width\":0.5},\"pattern\":{\"fillmode\":\"overlay\",\"size\":10,\"solidity\":0.2}},\"type\":\"barpolar\"}],\"pie\":[{\"automargin\":true,\"type\":\"pie\"}]},\"layout\":{\"autotypenumbers\":\"strict\",\"colorway\":[\"#636efa\",\"#EF553B\",\"#00cc96\",\"#ab63fa\",\"#FFA15A\",\"#19d3f3\",\"#FF6692\",\"#B6E880\",\"#FF97FF\",\"#FECB52\"],\"font\":{\"color\":\"#2a3f5f\"},\"hovermode\":\"closest\",\"hoverlabel\":{\"align\":\"left\"},\"paper_bgcolor\":\"white\",\"plot_bgcolor\":\"#E5ECF6\",\"polar\":{\"bgcolor\":\"#E5ECF6\",\"angularaxis\":{\"gridcolor\":\"white\",\"linecolor\":\"white\",\"ticks\":\"\"},\"radialaxis\":{\"gridcolor\":\"white\",\"linecolor\":\"white\",\"ticks\":\"\"}},\"ternary\":{\"bgcolor\":\"#E5ECF6\",\"aaxis\":{\"gridcolor\":\"white\",\"linecolor\":\"white\",\"ticks\":\"\"},\"baxis\":{\"gridcolor\":\"white\",\"linecolor\":\"white\",\"ticks\":\"\"},\"caxis\":{\"gridcolor\":\"white\",\"linecolor\":\"white\",\"ticks\":\"\"}},\"coloraxis\":{\"colorbar\":{\"outlinewidth\":0,\"ticks\":\"\"}},\"colorscale\":{\"sequential\":[[0.0,\"#0d0887\"],[0.1111111111111111,\"#46039f\"],[0.2222222222222222,\"#7201a8\"],[0.3333333333333333,\"#9c179e\"],[0.4444444444444444,\"#bd3786\"],[0.5555555555555556,\"#d8576b\"],[0.6666666666666666,\"#ed7953\"],[0.7777777777777778,\"#fb9f3a\"],[0.8888888888888888,\"#fdca26\"],[1.0,\"#f0f921\"]],\"sequentialminus\":[[0.0,\"#0d0887\"],[0.1111111111111111,\"#46039f\"],[0.2222222222222222,\"#7201a8\"],[0.3333333333333333,\"#9c179e\"],[0.4444444444444444,\"#bd3786\"],[0.5555555555555556,\"#d8576b\"],[0.6666666666666666,\"#ed7953\"],[0.7777777777777778,\"#fb9f3a\"],[0.8888888888888888,\"#fdca26\"],[1.0,\"#f0f921\"]],\"diverging\":[[0,\"#8e0152\"],[0.1,\"#c51b7d\"],[0.2,\"#de77ae\"],[0.3,\"#f1b6da\"],[0.4,\"#fde0ef\"],[0.5,\"#f7f7f7\"],[0.6,\"#e6f5d0\"],[0.7,\"#b8e186\"],[0.8,\"#7fbc41\"],[0.9,\"#4d9221\"],[1,\"#276419\"]]},\"xaxis\":{\"gridcolor\":\"white\",\"linecolor\":\"white\",\"ticks\":\"\",\"title\":{\"standoff\":15},\"zerolinecolor\":\"white\",\"automargin\":true,\"zerolinewidth\":2},\"yaxis\":{\"gridcolor\":\"white\",\"linecolor\":\"white\",\"ticks\":\"\",\"title\":{\"standoff\":15},\"zerolinecolor\":\"white\",\"automargin\":true,\"zerolinewidth\":2},\"scene\":{\"xaxis\":{\"backgroundcolor\":\"#E5ECF6\",\"gridcolor\":\"white\",\"linecolor\":\"white\",\"showbackground\":true,\"ticks\":\"\",\"zerolinecolor\":\"white\",\"gridwidth\":2},\"yaxis\":{\"backgroundcolor\":\"#E5ECF6\",\"gridcolor\":\"white\",\"linecolor\":\"white\",\"showbackground\":true,\"ticks\":\"\",\"zerolinecolor\":\"white\",\"gridwidth\":2},\"zaxis\":{\"backgroundcolor\":\"#E5ECF6\",\"gridcolor\":\"white\",\"linecolor\":\"white\",\"showbackground\":true,\"ticks\":\"\",\"zerolinecolor\":\"white\",\"gridwidth\":2}},\"shapedefaults\":{\"line\":{\"color\":\"#2a3f5f\"}},\"annotationdefaults\":{\"arrowcolor\":\"#2a3f5f\",\"arrowhead\":0,\"arrowwidth\":1},\"geo\":{\"bgcolor\":\"white\",\"landcolor\":\"#E5ECF6\",\"subunitcolor\":\"white\",\"showland\":true,\"showlakes\":true,\"lakecolor\":\"white\"},\"title\":{\"x\":0.05},\"mapbox\":{\"style\":\"light\"}}},\"xaxis\":{\"title\":{\"text\":\"Neuron\"}},\"yaxis\":{\"title\":{\"text\":\"Value\"}},\"title\":{\"text\":\"Beta for each neuron\"}},                        {\"responsive\": true}                    ).then(function(){\n",
       "                            \n",
       "var gd = document.getElementById('1e3dabd4-c7cc-43dd-8d04-e3a35667ab8a');\n",
       "var x = new MutationObserver(function (mutations, observer) {{\n",
       "        var display = window.getComputedStyle(gd).display;\n",
       "        if (!display || display === 'none') {{\n",
       "            console.log([gd, 'removed!']);\n",
       "            Plotly.purge(gd);\n",
       "            observer.disconnect();\n",
       "        }}\n",
       "}});\n",
       "\n",
       "// Listen for the removal of the full notebook cells\n",
       "var notebookContainer = gd.closest('#notebook-container');\n",
       "if (notebookContainer) {{\n",
       "    x.observe(notebookContainer, {childList: true});\n",
       "}}\n",
       "\n",
       "// Listen for the clearing of the current output cell\n",
       "var outputEl = gd.closest('.output');\n",
       "if (outputEl) {{\n",
       "    x.observe(outputEl, {childList: true});\n",
       "}}\n",
       "\n",
       "                        })                };                });            </script>        </div>"
      ]
     },
     "metadata": {},
     "output_type": "display_data"
    }
   ],
   "source": [
    "clfs = [linear_model.PoissonRegressor() for _ in range(D)]\n",
    "X_test_hat = np.zeros((X_test.shape[0], D))\n",
    "\n",
    "# add a dimension to Y_train and Y_test\n",
    "Y_train_dim = Y_train[:, np.newaxis]\n",
    "Y_test_dim = Y_test[:, np.newaxis]\n",
    "for d in range(D):\n",
    "    clfs[d].fit(Y_train_dim, X_train[:, d])\n",
    "    X_test_hat[:, d] = clfs[d].predict(Y_test_dim)\n",
    "\n",
    "betas = [float(clfs[d].coef_) for d in range(D)]\n",
    "\n",
    "print(f'MSE: {mean_squared_error(X_test, X_test_hat)}')\n",
    "print(f\"beta: {betas}\")\n",
    "# Plot the betas using plotly\n",
    "fig = go.Figure()\n",
    "fig.add_trace(go.Bar(x=np.arange(D), y=betas))\n",
    "fig.update_layout(\n",
    "    xaxis_title=\"Neuron\",\n",
    "    yaxis_title=\"Value\",\n",
    "    title=\"Beta for each neuron\"\n",
    ")\n",
    "fig.show()"
   ]
  },
  {
   "cell_type": "code",
   "execution_count": 8,
   "metadata": {},
   "outputs": [
    {
     "data": {
      "application/vnd.plotly.v1+json": {
       "config": {
        "plotlyServerURL": "https://plot.ly"
       },
       "data": [
        {
         "colorscale": [
          [
           0,
           "#440154"
          ],
          [
           0.1111111111111111,
           "#482878"
          ],
          [
           0.2222222222222222,
           "#3e4989"
          ],
          [
           0.3333333333333333,
           "#31688e"
          ],
          [
           0.4444444444444444,
           "#26828e"
          ],
          [
           0.5555555555555556,
           "#1f9e89"
          ],
          [
           0.6666666666666666,
           "#35b779"
          ],
          [
           0.7777777777777778,
           "#6ece58"
          ],
          [
           0.8888888888888888,
           "#b5de2b"
          ],
          [
           1,
           "#fde725"
          ]
         ],
         "type": "heatmap",
         "z": [
          [
           0.3066173012137974,
           0.30761926833463743,
           0.3066173012137974,
           0.3066173012137974,
           0.3066173012137974,
           0.3092260507695153,
           0.31094206365029725,
           0.31187482320682863,
           0.30850978620598274,
           0.32691662180638525,
           0.38689622969692505,
           0.42238098583395084,
           0.42595514762926384,
           0.41367169641983365,
           0.4016595957916343,
           0.39283099890946965,
           0.38195662686900966,
           0.371419934120019,
           0.36107063177348814,
           0.3509012747801612,
           0.34216514525577585,
           0.3341307303755731,
           0.3263085987301181,
           0.31671708998754955,
           0.329239343717561,
           0.3185359248241715,
           0.32589134291654476,
           0.34727077261809874,
           0.3733957555486577,
           0.36872383435376616,
           0.3412545390357593,
           0.3113743070367704,
           0.3347506207091889,
           0.3612622470488661,
           0.3603094827403376,
           0.35371422850872036,
           0.3393824183234454,
           0.32265886224871543,
           0.31272124715789873,
           0.31108804111612437,
           0.3066173012137974,
           0.3066173012137974,
           0.3066173012137974,
           0.3066173012137974,
           0.3066173012137974,
           0.3066173012137974,
           0.30683940410094623,
           0.3066173012137974,
           0.3066173012137974,
           0.31347814737127194,
           0.32028226145435856,
           0.3146356520318345,
           0.3107657276496243,
           0.32294739834493646,
           0.39827240982474443,
           0.44269656903146565,
           0.3912190405422953,
           0.3296730913127886,
           0.31664643098848494,
           0.3144552364770326,
           0.3208857546728238,
           0.31870667248716805,
           0.31439805534623255,
           0.31057827439547464,
           0.3138758025627222,
           0.31620852052359955,
           0.35033952054225986,
           0.424376674028462,
           0.5168583153500977,
           0.4796676092166344,
           0.37423138439699566,
           0.31291170522775413,
           0.307982533315456,
           0.32309198011468865,
           0.32468219276029814,
           0.3155221562875096,
           0.31251739822542673,
           0.3106210655664953,
           0.3115184327126148,
           0.31643313728037376,
           0.3066173012137974,
           0.3066173012137974,
           0.3066173012137974,
           0.3066173012137974,
           0.3066877655713499,
           0.3066173012137974,
           0.3066173012137974,
           0.3075427698932656,
           0.3066173012137974,
           0.30829414078431705,
           0.3144500436788934,
           0.31987175675935114,
           0.3170463729367966,
           0.43662844379667637,
           0.7269140814704136,
           0.8661845376905832,
           0.8406840455818417,
           0.7524346784323857,
           0.6166491220964118,
           0.5821048192296085,
           0.543549034274022,
           0.422942471130931,
           0.3455539134523647,
           0.31720544577850013,
           0.31307614154386465,
           0.30836567214458704,
           0.31102052789292767,
           0.34870272362268484,
           0.3844343940195713,
           0.3957804207916565,
           0.3573398221500954,
           0.33114409668599526,
           0.31687959263276394,
           0.31574760894185644,
           0.30992270306977676,
           0.33856987793041704,
           0.35828822153579687,
           0.3657871839247819,
           0.3631544752999644,
           0.34820981633785514,
           0.3066173012137974,
           0.30684276107025793,
           0.3066173012137974,
           0.3066173012137974,
           0.3066173012137974,
           0.3066173012137974,
           0.3066173012137974,
           0.3072667221284502,
           0.3066173012137974,
           0.31205871326307527,
           0.3277443664438374,
           0.323122890185063,
           0.3161090545214394,
           0.3109673598052853,
           0.3328173155792442,
           0.33057057917073984,
           0.37181421340082627,
           0.44119713719943826,
           0.45149672888019926,
           0.7320644007490451,
           0.5131789428088103,
           0.727411639360422,
           0.8110840571375402,
           0.7365256718655422,
           0.7251408514826188,
           0.7095503603419374,
           0.6573908457188443,
           0.6427771487515177,
           0.5730005588553799,
           0.5322175331612877,
           0.4978966861405555,
           0.43349649185532424,
           0.46071941054550797,
           0.6137595232613287,
           0.6268471882576618,
           0.6012767550918459,
           0.5572167704397288,
           0.48706251018848695,
           0.36346194142882665,
           0.3605651964167761
          ],
          [
           1.6751281755534555,
           1.6814102713504178,
           1.6751281755534555,
           1.6751281755534555,
           1.6751281755534555,
           1.6914907077039518,
           1.7022649460562753,
           1.7081250932631131,
           1.6869961383269507,
           1.8029787778725117,
           2.1873976297074944,
           2.419095534337634,
           2.4425966313685454,
           2.361952608482715,
           2.283430545971146,
           2.225938430052992,
           2.155385812359349,
           2.087305747439504,
           2.0207129052245136,
           1.955551300066832,
           1.8997947942587199,
           1.8487015602865813,
           1.7991318913145269,
           1.7385884421325675,
           1.8176840441539737,
           1.750048774478983,
           1.7964925764824575,
           1.9323552482180237,
           2.1000505678329904,
           2.0699309693078662,
           1.8939950136922898,
           1.7049802330808654,
           1.8526372407081049,
           2.021943329251594,
           2.0158262701975764,
           1.9735482099148391,
           1.8820783783244877,
           1.7760627157734739,
           1.713445064828881,
           1.7031818920718897,
           1.6751281755534555,
           1.6751281755534555,
           1.6751281755534555,
           1.6751281755534555,
           1.6751281755534555,
           1.6751281755534555,
           1.6765204473050783,
           1.6751281755534555,
           1.6751281755534555,
           1.718204156331971,
           1.761061379268487,
           1.7254853653182582,
           1.7011573898705543,
           1.7778850947831841,
           2.261350834547548,
           2.5530597861065774,
           2.2154617182281022,
           1.820431818924964,
           1.7381434207473443,
           1.7243502127780457,
           1.76486913870234,
           1.7511251378222703,
           1.723990456141701,
           1.6999801084006534,
           1.7207051349066407,
           1.7353857188668826,
           1.9519598103671356,
           2.432214136042925,
           3.0495641036350913,
           2.799161682372411,
           2.105443694281512,
           1.7146424307867052,
           1.6836886017956778,
           1.7787983559830247,
           1.7888470177000702,
           1.7310645340006614,
           1.7121636326519913,
           1.7002488448631605,
           1.7058857321084766,
           1.736800152502999,
           1.6751281755534555,
           1.6751281755534555,
           1.6751281755534555,
           1.6751281755534555,
           1.6755698715727463,
           1.6751281755534555,
           1.6751281755534555,
           1.6809305378579134,
           1.6751281755534555,
           1.685643261478113,
           1.724317541749649,
           1.7584718909387802,
           1.7406625103500164,
           2.512948730484657,
           4.509966532978797,
           5.514649229313924,
           5.328783091281328,
           4.692098925337436,
           3.7342300190068918,
           3.495223864229034,
           3.2309265408785794,
           2.4227855211448457,
           1.9213982845505682,
           1.741664582809535,
           1.7156762903671838,
           1.6860920064074967,
           1.7027578051671688,
           1.9415000417780188,
           2.17143576815693,
           2.245124198478482,
           1.9967753893656062,
           1.8297545464084957,
           1.7396119646177959,
           1.7324837773140744,
           1.695863681742503,
           1.876909314304252,
           2.0028570076669707,
           2.0510272757439463,
           2.0340990994527837,
           1.9383515881440574,
           1.6751281755534555,
           1.6765414919059947,
           1.6751281755534555,
           1.6751281755534555,
           1.6751281755534555,
           1.6751281755534555,
           1.6751281755534555,
           1.6791995460918538,
           1.6751281755534555,
           1.709280704385638,
           1.8082175099183568,
           1.778993609491108,
           1.734759419032016,
           1.7024238373295095,
           1.8403662530903555,
           1.8261190618302943,
           2.089848206796903,
           2.5431407764330127,
           2.611373762531559,
           4.546647926372171,
           3.0246693990846656,
           4.513508552903802,
           5.114077920664574,
           4.578452568347302,
           4.497346152708936,
           4.3865827539742055,
           4.018655240555022,
           3.9163268741259722,
           3.4325753522859843,
           3.153765246079658,
           2.9215525235232285,
           2.4922781866945085,
           2.6726675186362945,
           3.714160101308355,
           3.805171848724476,
           3.627620778410265,
           3.324311800657897,
           2.8487302144023676,
           2.036075160323977,
           2.0174678020591723
          ],
          [
           0.11327398966798498,
           0.11335134508677093,
           0.11327398966798498,
           0.11327398966798498,
           0.11327398966798498,
           0.11347497948243086,
           0.11360645894487152,
           0.11367768565611351,
           0.11341992917879337,
           0.11480366994368181,
           0.11892247238806618,
           0.12112628386397664,
           0.1213400427838896,
           0.12059935628133302,
           0.1198580168311873,
           0.11930189171041833,
           0.11860315020430078,
           0.1179109361443117,
           0.11721574744038085,
           0.11651712458648325,
           0.11590406028640168,
           0.11532921430989491,
           0.1147589581039959,
           0.11404476343674552,
           0.11497387151356228,
           0.11418149771190957,
           0.11472823647305475,
           0.1162638337076059,
           0.11804191137893053,
           0.11773132263468004,
           0.11583944800653849,
           0.11363948657823908,
           0.11537395303105737,
           0.11722876102474707,
           0.11716399987965422,
           0.11671195619410024,
           0.1157061817892752,
           0.11448917615478792,
           0.11374217403375035,
           0.11361761711254376,
           0.11327398966798498,
           0.11327398966798498,
           0.11327398966798498,
           0.11327398966798498,
           0.11327398966798498,
           0.11327398966798498,
           0.11329115402399094,
           0.11327398966798498,
           0.11327398966798498,
           0.11379972487523043,
           0.11431220207041942,
           0.11388752349844132,
           0.11359297471816082,
           0.11451059182162149,
           0.11964580723675815,
           0.1223228119293542,
           0.11919928747959613,
           0.11500554986165741,
           0.11403943899896787,
           0.11387385550406255,
           0.11435723942899258,
           0.11419430225760012,
           0.11386952225877778,
           0.11357863373081059,
           0.11382991653599905,
           0.1140064197256614,
           0.1164780683540212,
           0.12124581500365127,
           0.12635216474897193,
           0.12439315907417019,
           0.11809713952513673,
           0.11375666585859281,
           0.11337934122411573,
           0.11452131725029957,
           0.11463903338682158,
           0.113954593744226,
           0.11372665557274933,
           0.11358190804383625,
           0.11365049113347937,
           0.11402336076561047,
           0.11327398966798498,
           0.11327398966798498,
           0.11327398966798498,
           0.11327398966798498,
           0.11327943629572132,
           0.11327398966798498,
           0.11327398966798498,
           0.11334544616620579,
           0.11327398966798498,
           0.11340333541746574,
           0.11387346201416808,
           0.11428152865485021,
           0.11406956384092186,
           0.12197004604017105,
           0.1356984657045204,
           0.14076819261985132,
           0.1398907426501946,
           0.13668180005656907,
           0.13110677211205982,
           0.12953471243020495,
           0.1276904415143465,
           0.12115995892548498,
           0.11614332296056849,
           0.11408153733791832,
           0.11376917209639624,
           0.1134088407216208,
           0.11361245707829307,
           0.11636398621052728,
           0.11876373179971311,
           0.11948876929999191,
           0.11696127393672699,
           0.11511273852691382,
           0.1140570050967984,
           0.11397162704378352,
           0.1135284257932543,
           0.11564816044439251,
           0.1170261614015844,
           0.11753449815982003,
           0.11735697982930404,
           0.11632954840597444,
           0.11327398966798498,
           0.1132914133789019,
           0.11327398966798498,
           0.11327398966798498,
           0.11327398966798498,
           0.11327398966798498,
           0.11327398966798498,
           0.11332415001688417,
           0.11327398966798498,
           0.11369170785248432,
           0.11486443374476706,
           0.11452360974234439,
           0.11399891476302403,
           0.1136083928190071,
           0.11523420526439415,
           0.11507099253720143,
           0.11793711645208685,
           0.12223600097826368,
           0.12282767013934255,
           0.1358990869658782,
           0.12616341999239583,
           0.13571789611998183,
           0.13884543439962407,
           0.13607196750348718,
           0.13562913265360302,
           0.13501370309022873,
           0.13287376165856976,
           0.1322501830886117,
           0.1291081365925495,
           0.12712877174954815,
           0.12536782593524592,
           0.12178645326538862,
           0.12334848541702735,
           0.1309779783561152,
           0.13155753464338105,
           0.13041603050677864,
           0.12835572292380626,
           0.12479202003795653,
           0.11737776404247437,
           0.11718139449136022
          ],
          [
           0.6205199103318952,
           0.6216492775836688,
           0.6205199103318952,
           0.6205199103318952,
           0.6205199103318952,
           0.6234569688600243,
           0.6253829632697019,
           0.6264278871019261,
           0.6226516588882853,
           0.6430915996346709,
           0.7063955455496121,
           0.741803524907736,
           0.7452956058792384,
           0.7332390481675322,
           0.7212945845402926,
           0.7124145902646678,
           0.7013545668847446,
           0.6905042284916332,
           0.6797133976865317,
           0.6689759933037328,
           0.6596413793450767,
           0.6509629810156017,
           0.6424246836021137,
           0.6318303525700607,
           0.6456342596874399,
           0.6338501499671737,
           0.6419666941939687,
           0.6651094137864554,
           0.6925491417344993,
           0.6877060651903417,
           0.658662351241973,
           0.6258673561510095,
           0.6516358227294787,
           0.6799144222671857,
           0.678914405534127,
           0.6719597012228664,
           0.6566459219422632,
           0.6384098168944753,
           0.6273748969182651,
           0.6255465860033611,
           0.6205199103318952,
           0.6205199103318952,
           0.6205199103318952,
           0.6205199103318952,
           0.6205199103318952,
           0.6205199103318952,
           0.6207703943571696,
           0.6205199103318952,
           0.6205199103318952,
           0.6282207838477619,
           0.6357846405665962,
           0.6295126268034943,
           0.6251852670124182,
           0.6387279483092643,
           0.7178979952209299,
           0.761482720972926,
           0.7107837468640742,
           0.6461081978988078,
           0.6317517830166729,
           0.6293114110451002,
           0.6364520693418059,
           0.6340395010550138,
           0.629247626807962,
           0.6249750523696402,
           0.6286648280314933,
           0.6312646735503058,
           0.6683788723915368,
           0.7437549875510917,
           0.8301395761579838,
           0.7962973836016514,
           0.6934125497744116,
           0.6275878318790007,
           0.6220583294210643,
           0.6388873125994532,
           0.6406380356136715,
           0.6305005954765573,
           0.6271469271642466,
           0.6250230443763157,
           0.6260288041891147,
           0.6315145631507715,
           0.6205199103318952,
           0.6205199103318952,
           0.6205199103318952,
           0.6205199103318952,
           0.6205993875843441,
           0.6205199103318952,
           0.6205199103318952,
           0.6215631098320579,
           0.6205199103318952,
           0.6224090425627755,
           0.6293056188100885,
           0.635330327845184,
           0.632196397762991,
           0.7556473422674808,
           1.0039282957169533,
           1.1069629569135386,
           1.0886790644759752,
           1.0234229405173398,
           0.9159717447336252,
           0.8870078827270843,
           0.8537663805020735,
           0.7423529792157086,
           0.6632746845990566,
           0.6323731697411025,
           0.627771627988676,
           0.622489528717291,
           0.6254709162328083,
           0.6666366058491896,
           0.7038867692710616,
           0.7153909173480879,
           0.6757899298604836,
           0.647713453554867,
           0.6320110185934661,
           0.6307516561573052,
           0.6242394366946189,
           0.655769216768129,
           0.6767890163414058,
           0.6846479203429162,
           0.6818970404864331,
           0.6661112284766123,
           0.6205199103318952,
           0.6207741796767962,
           0.6205199103318952,
           0.6205199103318952,
           0.6205199103318952,
           0.6205199103318952,
           0.6205199103318952,
           0.6212520910482294,
           0.6205199103318952,
           0.6266337266036476,
           0.6439986375488725,
           0.6389213789221175,
           0.6311539909916609,
           0.6254113195744335,
           0.6495355454191227,
           0.6470879705215937,
           0.6909126790247474,
           0.7600441113569688,
           0.7698828132275879,
           1.0078866157425694,
           0.8268406257066022,
           1.004311238445722,
           1.0671450886335703,
           1.0113054098204406,
           1.0025625943849927,
           0.9904908934170665,
           0.9492238530881097,
           0.9374044389946922,
           0.8792486386590794,
           0.8437998597274634,
           0.8130249772041251,
           0.7526214748765229,
           0.7786088069934006,
           0.9135769457058309,
           0.9243841118113331,
           0.9031738183404437,
           0.8656661501215366,
           0.8031165328206081,
           0.6822187617035828,
           0.679182916150535
          ],
          [
           0.24930782004885058,
           0.24936837178364105,
           0.24930782004885058,
           0.24930782004885058,
           0.24930782004885058,
           0.24946509419876234,
           0.24956787955047977,
           0.24962352972428603,
           0.24942203529852472,
           0.25050030409045315,
           0.25366111275521613,
           0.2553234376004575,
           0.2554836350035274,
           0.25492776269464085,
           0.25436919353431314,
           0.25394871301007776,
           0.2534186077234227,
           0.25289146682211117,
           0.2523600501469252,
           0.25182395873775243,
           0.25135181245495547,
           0.25090763580813125,
           0.2504655940453668,
           0.24990997578968216,
           0.2506323528773038,
           0.25001652338147723,
           0.2504417396253824,
           0.25162908340204027,
           0.2529913608664874,
           0.2527543603421527,
           0.2513019582148717,
           0.2495936871797517,
           0.25094225600286624,
           0.25237001662469244,
           0.252320412126465,
           0.2519736714161028,
           0.25119907461762064,
           0.2502559757371685,
           0.2496738957936205,
           0.24957659902808843,
           0.24930782004885058,
           0.24930782004885058,
           0.24930782004885058,
           0.24930782004885058,
           0.24930782004885058,
           0.24930782004885058,
           0.24932125814294895,
           0.24930782004885058,
           0.24930782004885058,
           0.24971882804463766,
           0.25011829545668335,
           0.24978734775776054,
           0.24955734165284887,
           0.25027262715118337,
           0.25420889263317314,
           0.25621782177214425,
           0.25387099709357047,
           0.2506569162285265,
           0.24990582515806845,
           0.24977668323249114,
           0.2501533461270355,
           0.2500264968706509,
           0.24977330202265205,
           0.24954613331400374,
           0.24974239403113976,
           0.2498800824051734,
           0.251793927710113,
           0.2554130402810817,
           0.2591888866627294,
           0.25775214979248046,
           0.25303346164615576,
           0.24968521152223835,
           0.24939027984329962,
           0.2502809657850932,
           0.2503724527877467,
           0.24983966772607735,
           0.24966177740129467,
           0.24954869246567404,
           0.24960228501145024,
           0.2498932907156874,
           0.24930782004885058,
           0.24930782004885058,
           0.24930782004885058,
           0.24930782004885058,
           0.2493120843938034,
           0.24930782004885058,
           0.24930782004885058,
           0.24936375520563422,
           0.24930782004885058,
           0.24940905345370679,
           0.24977637619769688,
           0.25009441854190184,
           0.24992930714217404,
           0.255954723479244,
           0.26585288680963687,
           0.269344482560906,
           0.26874603552104415,
           0.2665366132258576,
           0.2626172326358876,
           0.2614926843074979,
           0.26016214816880606,
           0.2553486867907187,
           0.2515362695704251,
           0.24993863924225243,
           0.24969497608781735,
           0.24941336056972396,
           0.2495725668214358,
           0.25170617076474516,
           0.2535406118119584,
           0.25409014985399436,
           0.25216501770948135,
           0.25073999787030526,
           0.2499195182244644,
           0.24985295185520126,
           0.24950688562416465,
           0.2511542573795273,
           0.2522147744147977,
           0.2526039611749459,
           0.2524681751469152,
           0.2516796688168596,
           0.24930782004885058,
           0.24932146118365867,
           0.24930782004885058,
           0.24930782004885058,
           0.24930782004885058,
           0.24930782004885058,
           0.24930782004885058,
           0.2493470872520736,
           0.24930782004885058,
           0.24963448276604522,
           0.2505474614028109,
           0.25028274804969797,
           0.24987423065555425,
           0.24956939080337992,
           0.2508340861860101,
           0.25070764659584077,
           0.2529114401041077,
           0.2561531222066609,
           0.2565935038471481,
           0.2659926401967428,
           0.2590510885254181,
           0.2658664279162386,
           0.26802993903201405,
           0.26611296272818025,
           0.2658045582438956,
           0.2653748740466926,
           0.26387089903665223,
           0.26342970782038894,
           0.2611860246908417,
           0.259754478074658,
           0.2584687794767653,
           0.2558176031303568,
           0.2569800190492629,
           0.26252542981068766,
           0.2629380746283701,
           0.2621241974111165,
           0.26064352960146486,
           0.2580458504794278,
           0.2524840800924962,
           0.2523337374518678
          ],
          [
           0.14965836620022815,
           0.14973825368206745,
           0.14965836620022815,
           0.14965836620022815,
           0.14965836620022815,
           0.1498659102798243,
           0.15000163386222712,
           0.15007514543195022,
           0.1498090727742262,
           0.1512359191329034,
           0.15546105024669574,
           0.15770859805997015,
           0.1579261220577795,
           0.1571720310403023,
           0.1564162622751238,
           0.1558486429595485,
           0.1551346400614723,
           0.1544264012293814,
           0.15371420484866002,
           0.15299756082848162,
           0.15236790941293815,
           0.1517768496422535,
           0.1511898733639151,
           0.15045383933339343,
           0.15141116268766366,
           0.15059483249921235,
           0.15115823291665567,
           0.1527375047752378,
           0.15456047800799624,
           0.15424248152765463,
           0.15230150668793624,
           0.150035722228834,
           0.1518228732787676,
           0.15372754526122037,
           0.15366115448044526,
           0.15319751225196282,
           0.15216452204168596,
           0.1509119595937447,
           0.1501416938392857,
           0.1500131506335457,
           0.14965836620022815,
           0.14965836620022815,
           0.14965836620022815,
           0.14965836620022815,
           0.14965836620022815,
           0.14965836620022815,
           0.1496760934222273,
           0.14965836620022815,
           0.14965836620022815,
           0.1502010761420152,
           0.15072957348391267,
           0.15029165618603502,
           0.14998771594698346,
           0.15093402599512742,
           0.1561997346291539,
           0.15892512800848058,
           0.1557438550223856,
           0.15144377321008295,
           0.15044834830809714,
           0.1502775561977873,
           0.15077599396828748,
           0.15060803398287603,
           0.1502730859178018,
           0.14997291331966217,
           0.15023222598130853,
           0.1504142946996693,
           0.15295746949192493,
           0.1578302448989775,
           0.16300293227657664,
           0.16102397275965272,
           0.1546170042431799,
           0.15015664746040683,
           0.14976716327952658,
           0.15094507698717483,
           0.15106635147900982,
           0.1503608409174999,
           0.1501256804061087,
           0.1499762930695826,
           0.15004707973194564,
           0.15043176668985853,
           0.14965836620022815,
           0.14965836620022815,
           0.14965836620022815,
           0.14965836620022815,
           0.14966399150123205,
           0.14965836620022815,
           0.14965836620022815,
           0.14973216209228069,
           0.14965836620022815,
           0.14979193911725125,
           0.15027715026568747,
           0.1506979557829893,
           0.15047941493905517,
           0.15856673619443373,
           0.17235448361149588,
           0.1773678992980715,
           0.1765030538470794,
           0.17333004769104376,
           0.1677784057757073,
           0.16620369687913614,
           0.1643509885976213,
           0.15774287181972374,
           0.15261373188600327,
           0.150491762264543,
           0.15016955188753503,
           0.1497976236029825,
           0.15000782479566777,
           0.1528403470300091,
           0.15529881003569965,
           0.15603944730484537,
           0.15345327537242487,
           0.15155410149618567,
           0.1504664637902556,
           0.1503784098007811,
           0.14992108596106923,
           0.1521048710103149,
           0.15351982078738674,
           0.15404086788279756,
           0.15385896692675838,
           0.1528049865248728,
           0.14965836620022815,
           0.14967636127759604,
           0.14965836620022815,
           0.14965836620022815,
           0.14965836620022815,
           0.14965836620022815,
           0.14965836620022815,
           0.14971016979698257,
           0.14965836620022815,
           0.1500896162571395,
           0.15129848948201408,
           0.1509474390370101,
           0.15040655434236852,
           0.15000362990532262,
           0.1516790989673744,
           0.15151113540843614,
           0.15445320409548793,
           0.15883695354519883,
           0.15943764555588688,
           0.17255364452676672,
           0.16281255810891615,
           0.17237377540024723,
           0.17547121400214402,
           0.17272521517023623,
           0.1722856403033786,
           0.17167422060789164,
           0.16954346241605117,
           0.16892115444518305,
           0.16577568424361286,
           0.16378559179756738,
           0.16200941100861102,
           0.1583801259768225,
           0.15996588063426842,
           0.1676495505976075,
           0.16822916593879317,
           0.16708701068169984,
           0.16501998281413457,
           0.16142744467517572,
           0.15388026736951457,
           0.1536789875931043
          ],
          [
           0.4553305966707215,
           0.45584929966501747,
           0.4553305966707215,
           0.4553305966707215,
           0.4553305966707215,
           0.45667881497242274,
           0.4575616285399636,
           0.45804016246599694,
           0.45630938469169324,
           0.465631623219654,
           0.49382461297018554,
           0.5091809975484632,
           0.5106804965492509,
           0.5054921938274254,
           0.5003205800737325,
           0.49645501925237984,
           0.49161518102874546,
           0.4868392923897128,
           0.4820616867174523,
           0.4772795041292596,
           0.4730987235668588,
           0.46919196256334195,
           0.4653292208920145,
           0.4605095349960176,
           0.4667834774269839,
           0.4614307199493139,
           0.46512148499541894,
           0.47555040636818796,
           0.4877415158390226,
           0.4856031117623272,
           0.472658959521449,
           0.4577834985243716,
           0.46949554973231056,
           0.48215094778106155,
           0.48170681213989963,
           0.4786112371286364,
           0.4717524403562054,
           0.4635062577418897,
           0.45847359789330455,
           0.4576365810309926,
           0.4553305966707215,
           0.4553305966707215,
           0.4553305966707215,
           0.4553305966707215,
           0.4553305966707215,
           0.4553305966707215,
           0.4554456710112555,
           0.4553305966707215,
           0.4553305966707215,
           0.458860543761695,
           0.4623119699760638,
           0.45945111382612397,
           0.45747105782810366,
           0.46365086239500125,
           0.4988441196311249,
           0.5175972260206216,
           0.4957431414007289,
           0.46699798921737595,
           0.46047367893012003,
           0.45935915722276094,
           0.46261578199698117,
           0.4615170224890446,
           0.4593300052142942,
           0.4573747403130913,
           0.4590635911211701,
           0.46025134403246376,
           0.47701272175238835,
           0.5100192798168302,
           0.5463437553563364,
           0.5322899648116565,
           0.4881221556088265,
           0.4585710220665519,
           0.45603708467124504,
           0.46372329031708615,
           0.46451851518136095,
           0.4599024610856101,
           0.45836928114429226,
           0.45739673067032677,
           0.4578574334737335,
           0.4603654109599446,
           0.4553305966707215,
           0.4553305966707215,
           0.4553305966707215,
           0.4553305966707215,
           0.45536711102924415,
           0.4553305966707215,
           0.4553305966707215,
           0.4558097364124459,
           0.4553305966707215,
           0.4561980511497083,
           0.459356509979762,
           0.46210509967451263,
           0.4606765617111366,
           0.5151101736073633,
           0.6153943128594788,
           0.6542144785926328,
           0.6474276801943056,
           0.622849538006485,
           0.581059822879259,
           0.5694866445890376,
           0.5560286056226221,
           0.5094171078165471,
           0.47472861849538783,
           0.46075720995930125,
           0.4586551043986598,
           0.4562349870192148,
           0.4576019190461911,
           0.4762338000756924,
           0.4927257702432822,
           0.497752644262245,
           0.4803175657158619,
           0.46772411617161136,
           0.46059197756763587,
           0.46001711442978754,
           0.45703759573167413,
           0.4713579784806297,
           0.48076205366414326,
           0.4842499229922612,
           0.48303076304618453,
           0.4759987683232759,
           0.4553305966707215,
           0.4554474098838329,
           0.4553305966707215,
           0.4553305966707215,
           0.4553305966707215,
           0.4553305966707215,
           0.4553305966707215,
           0.45566691749650257,
           0.4553305966707215,
           0.4581343936482127,
           0.4660427168408639,
           0.4637387719115396,
           0.4602008154493754,
           0.4575746185539862,
           0.4685475127860372,
           0.46744126308567524,
           0.4870195820618932,
           0.516984750909041,
           0.5211648909026861,
           0.6169124190718152,
           0.5449833326489488,
           0.615541277806499,
           0.6393795816003761,
           0.6182218115625169,
           0.6148700161542505,
           0.6102239833551968,
           0.5941790742369015,
           0.5895358431788725,
           0.5663623781988151,
           0.5519556134987085,
           0.5392638377286505,
           0.5138177152862492,
           0.5248555942491591,
           0.5801081659335328,
           0.5843954228591769,
           0.5759632452288662,
           0.5608684443340021,
           0.5351394750052525,
           0.4831734412081769,
           0.48182608928515347
          ],
          [
           0.19567332095431605,
           0.19579171943494691,
           0.19567332095431605,
           0.19567332095431605,
           0.19567332095431605,
           0.1959809323772214,
           0.19618212582510802,
           0.19629110779591738,
           0.1958966850197345,
           0.19801291446295136,
           0.20429498414622085,
           0.2076460543041224,
           0.2079707202695966,
           0.20684545564229054,
           0.20571841038460809,
           0.20487242198135533,
           0.2038088454288298,
           0.20275450040703516,
           0.20169491460360886,
           0.20062937307454243,
           0.1996937260481145,
           0.19881589481616505,
           0.1979445798437012,
           0.19685263986577498,
           0.19827301156177785,
           0.1970617545345377,
           0.19789762517641918,
           0.2002428735313359,
           0.2029540491473229,
           0.20248080722626452,
           0.19959508322612984,
           0.1962326614378195,
           0.19888423192457802,
           0.20171475608214745,
           0.20161601394073564,
           0.2009266037911423,
           0.19939160742828316,
           0.19753219853927778,
           0.1963897729235246,
           0.19619919913508954,
           0.19567332095431605,
           0.19567332095431605,
           0.19567332095431605,
           0.19567332095431605,
           0.19567332095431605,
           0.19567332095431605,
           0.19569959313019708,
           0.19567332095431605,
           0.19567332095431605,
           0.196477818464288,
           0.19726162067761738,
           0.19661212953118573,
           0.19616149311606312,
           0.19756493798336813,
           0.20539564587661482,
           0.20946255466240382,
           0.20471628938500952,
           0.19832141665019706,
           0.19684449635520107,
           0.19659122151741926,
           0.19733048337513523,
           0.19708133571495315,
           0.1965845928661812,
           0.19613954914000462,
           0.1965240058748547,
           0.19679399375511664,
           0.20056978295500136,
           0.20782761122332707,
           0.21556493478792238,
           0.21260087070049405,
           0.2030381850269627,
           0.1964119440687373,
           0.19583456743019717,
           0.19758133434220934,
           0.19776127985393183,
           0.1967147231499329,
           0.19636603076357645,
           0.19614455938397568,
           0.19624949914642872,
           0.19681990508967742,
           0.19567332095431605,
           0.19567332095431605,
           0.19567332095431605,
           0.19567332095431605,
           0.19568165774277047,
           0.19567332095431605,
           0.19567332095431605,
           0.1957826910028369,
           0.19567332095431605,
           0.1958712895042428,
           0.1965906195893113,
           0.19721471886339037,
           0.19689057050248363,
           0.2089272170020401,
           0.22963580207345385,
           0.2372217083467491,
           0.2359110254002793,
           0.231109667766892,
           0.22273729067995152,
           0.22036916060864584,
           0.21758679512971132,
           0.20769720572115072,
           0.20005895109204802,
           0.1969088828663148,
           0.19643107719164835,
           0.19587971500903617,
           0.19619130369903542,
           0.20039570887287217,
           0.20405333478279547,
           0.2051567538401881,
           0.20130687490201768,
           0.19848519160554895,
           0.196871362821627,
           0.19674077694390116,
           0.19606272057693672,
           0.19930300994826078,
           0.2014058291541562,
           0.20218083352456495,
           0.20191023459636823,
           0.2003431575727047,
           0.19567332095431605,
           0.1956999901015801,
           0.19567332095431605,
           0.19567332095431605,
           0.19567332095431605,
           0.19567332095431605,
           0.19567332095431605,
           0.1957500963163799,
           0.19567332095431605,
           0.19631256184427245,
           0.19810577697883874,
           0.1975848389367522,
           0.1967825147683773,
           0.1961850848938597,
           0.1986707612161011,
           0.19842140943151074,
           0.20279438971755964,
           0.20933083158329707,
           0.21022839328483142,
           0.22993660075049502,
           0.21527958460343935,
           0.22966493700925283,
           0.23434838219511803,
           0.2301957661828579,
           0.22953183675844038,
           0.228608730727024,
           0.2253952037101218,
           0.2244576767499197,
           0.21972600905625428,
           0.21673852332421248,
           0.21407624524221297,
           0.2086485371750045,
           0.21101806210050575,
           0.2225433996198456,
           0.22341571517810385,
           0.22169716731297154,
           0.2185909986364984,
           0.213204793881052,
           0.20194191928728591,
           0.2016425363370041
          ],
          [
           0.6955639847072802,
           0.6948935975517617,
           0.6955639847072802,
           0.6955639847072802,
           0.6955639847072802,
           0.6938244305188632,
           0.6926904999605001,
           0.692077533882357,
           0.6943001479633932,
           0.6825092095102713,
           0.6493605205775778,
           0.6327352402819498,
           0.6311613664193532,
           0.63664368963268,
           0.6422127910446613,
           0.6464453865193304,
           0.6518313649114972,
           0.6572430457798589,
           0.6627556741128485,
           0.6683755698304066,
           0.6733746102691687,
           0.6781203112230253,
           0.6828848436243289,
           0.688933157023047,
           0.6810825315896154,
           0.6877681270017845,
           0.6831431475940088,
           0.670433241909214,
           0.6562132165671176,
           0.6586598023617789,
           0.6739051903595206,
           0.6924061540003134,
           0.677748918421321,
           0.6626517558348304,
           0.6631691730304394,
           0.6668001340395087,
           0.6750017976089953,
           0.685158854421653,
           0.6915233555278489,
           0.6925944132523812,
           0.6955639847072802,
           0.6955639847072802,
           0.6955639847072802,
           0.6955639847072802,
           0.6955639847072802,
           0.6955639847072802,
           0.6954151374960315,
           0.6955639847072802,
           0.6955639847072802,
           0.6910294343049251,
           0.6866576163009654,
           0.6902770760193369,
           0.6928066475257976,
           0.6849778679395888,
           0.6438222908924227,
           0.6240106629608443,
           0.6472315017397943,
           0.6808175568531578,
           0.6889785915098298,
           0.6903941069454008,
           0.6862756721324521,
           0.6876591995323499,
           0.6904312170289875,
           0.6929302113786958,
           0.690770559939876,
           0.6892604658514854,
           0.66869214909031,
           0.631854325962488,
           0.5960886801136858,
           0.6093913790642413,
           0.6557797956763318,
           0.6913989248873259,
           0.6946512458624697,
           0.6848872566839362,
           0.6838941034980365,
           0.6897032840614357,
           0.6916566435518491,
           0.6929019961467938,
           0.6923114563730138,
           0.6891158213385121,
           0.6955639847072802,
           0.6955639847072802,
           0.6955639847072802,
           0.6955639847072802,
           0.6955167463193975,
           0.6955639847072802,
           0.6955639847072802,
           0.6949446806367702,
           0.6955639847072802,
           0.6944436523076684,
           0.690397476667747,
           0.6869179533945887,
           0.6887215976540092,
           0.6265614248435747,
           0.5389327819254046,
           0.511722118809046,
           0.5162616815885178,
           0.5334643224162743,
           0.5657845395426387,
           0.5755075946264672,
           0.5872834161685002,
           0.6324868514416454,
           0.6714160430576995,
           0.6886194976828695,
           0.6912915737594144,
           0.694396036325734,
           0.6926388452007644,
           0.6696183362793241,
           0.6505868167673561,
           0.6450177833711939,
           0.6647933465078705,
           0.6799222777060132,
           0.6888287159083828,
           0.6895576923616458,
           0.69336310635317,
           0.6754801903673809,
           0.6642727508853274,
           0.6602183156131913,
           0.6616293673899183,
           0.6698983536285719,
           0.6955639847072802,
           0.6954128888189697,
           0.6955639847072802,
           0.6955639847072802,
           0.6955639847072802,
           0.6955639847072802,
           0.6955639847072802,
           0.6951291530177576,
           0.6955639847072802,
           0.6919569701645109,
           0.6819992846846473,
           0.6848678917608985,
           0.6893245606456538,
           0.6926738450934784,
           0.6789101706441449,
           0.6802707163693893,
           0.6570369751819426,
           0.624636723981571,
           0.6203908821282661,
           0.5378093457489695,
           0.5973486841387257,
           0.5388238005162581,
           0.5217601428726035,
           0.5368444561734999,
           0.5393219644970315,
           0.5427976624036196,
           0.555186254534231,
           0.5588874415164997,
           0.5781952589440221,
           0.5909517244029656,
           0.6027101848980944,
           0.6278959934288574,
           0.6166941132565509,
           0.5665705373364098,
           0.5630482527464319,
           0.570021896472149,
           0.5829884615111218,
           0.6066420283872834,
           0.6614638924081233,
           0.663030128860484
          ],
          [
           0.22882183261443767,
           0.22876481040268937,
           0.22882183261443767,
           0.22882183261443767,
           0.22882183261443767,
           0.22867378405502883,
           0.22857713016679362,
           0.22852483334784426,
           0.22871429834590482,
           0.22770399854837942,
           0.22479256856236424,
           0.2232906973160466,
           0.22314700875327714,
           0.223646380732845,
           0.22415040285390486,
           0.22453130340195648,
           0.2250133346824313,
           0.22549470071695038,
           0.22598203356132393,
           0.22647576480866874,
           0.22691237087173274,
           0.22732463246180484,
           0.22773638335538093,
           0.2282560211993379,
           0.22758087880570355,
           0.22815619201989298,
           0.2277586450323281,
           0.2266557699695342,
           0.22540332500861807,
           0.22562023476186208,
           0.22695856941666273,
           0.22855287470963842,
           0.2272924466711042,
           0.22597287472290856,
           0.22601846674680043,
           0.2263376677195217,
           0.22705396753113122,
           0.2279321527129301,
           0.228477522586705,
           0.2285689345443169,
           0.22882183261443767,
           0.22882183261443767,
           0.22882183261443767,
           0.22882183261443767,
           0.22882183261443767,
           0.22882183261443767,
           0.22880917539574308,
           0.22882183261443767,
           0.22882183261443767,
           0.22843533233593566,
           0.22806091769679385,
           0.22837102365884204,
           0.22858703573528433,
           0.2279165892676457,
           0.22429546400168052,
           0.22249081107560706,
           0.22460184386269438,
           0.22755799090815845,
           0.22825991185603742,
           0.2283810304224256,
           0.22802812305859813,
           0.22814685182623967,
           0.22838420326831413,
           0.22859757244518153,
           0.22841321061765996,
           0.22828404513562617,
           0.22650348588703503,
           0.22321030596486555,
           0.219873803630789,
           0.22113169441708175,
           0.22536483621361056,
           0.22846689595353056,
           0.22874418626139606,
           0.2279087962511358,
           0.2278233300064871,
           0.22832194319635626,
           0.22848890408590647,
           0.22859516655917356,
           0.22854479511377118,
           0.22827166199810417,
           0.22882183261443767,
           0.22882183261443767,
           0.22882183261443767,
           0.22882183261443767,
           0.22881781591694916,
           0.22882183261443767,
           0.22882183261443767,
           0.22876915689522984,
           0.22882183261443767,
           0.2287265157960637,
           0.2283813185328901,
           0.22808326310979898,
           0.22823790239145852,
           0.22272552323392092,
           0.21421941488478774,
           0.21136995078454146,
           0.21185301221347577,
           0.21365547549505645,
           0.21692854881631451,
           0.21788601304086497,
           0.21902969115081028,
           0.22326803800735204,
           0.22674160088294218,
           0.22822915665664184,
           0.2284577268063445,
           0.22872246214804456,
           0.22857272442900395,
           0.22658453108327728,
           0.22490221394241666,
           0.22440303750203888,
           0.2261614090505034,
           0.2274806098941647,
           0.22824707695171464,
           0.22830948489831834,
           0.22863447588412844,
           0.22709554876974572,
           0.2261156200428304,
           0.22575809831956314,
           0.22588270967316557,
           0.22660901738991465,
           0.22882183261443767,
           0.2288089841641449,
           0.22882183261443767,
           0.22882183261443767,
           0.22882183261443767,
           0.22882183261443767,
           0.22882183261443767,
           0.22878485107414656,
           0.22882183261443767,
           0.2285145430941382,
           0.22766001488631815,
           0.22790713067274349,
           0.22828953172834313,
           0.22857570966648127,
           0.22739304013630438,
           0.22751073521619483,
           0.22547642478161653,
           0.22254848479953748,
           0.22215650728340008,
           0.21410390708354254,
           0.21999383567792968,
           0.21420821761973483,
           0.21243391153984398,
           0.21400455757871545,
           0.2142593876426004,
           0.214615429810138,
           0.21587089676260618,
           0.21624194341382585,
           0.21814855907639782,
           0.2193824846013888,
           0.22050250033833751,
           0.22284804332001087,
           0.2218135970540549,
           0.21700640016456046,
           0.21665689848631248,
           0.2173473048076008,
           0.21861454826627383,
           0.22087339980656498,
           0.22586810662286255,
           0.2260062175139596
          ],
          [
           0.4037714787094979,
           0.403828468546285,
           0.4037714787094979,
           0.4037714787094979,
           0.4037714787094979,
           0.40391948933546246,
           0.40401619946262946,
           0.40406855341939296,
           0.40387897051174965,
           0.40489275133055397,
           0.4078540404245787,
           0.4094052316847547,
           0.40955449541772626,
           0.409036393892593,
           0.4085153019159734,
           0.40812271726955746,
           0.40762739247970825,
           0.4071344070514778,
           0.40663698704215573,
           0.406134746630214,
           0.40569204258452296,
           0.40527524596129216,
           0.4048601456927949,
           0.40433795568597486,
           0.4050167769485387,
           0.4044381305959119,
           0.4048377364259183,
           0.40595206555745716,
           0.40722786160792807,
           0.4070061137134029,
           0.40564527684741664,
           0.4040404790874003,
           0.40530774319034846,
           0.4066463199624816,
           0.4065998672366686,
           0.4062750508698566,
           0.4055487546708501,
           0.40466319592278954,
           0.4041159320404424,
           0.40402440279963053,
           0.4037714787094979,
           0.4037714787094979,
           0.4037714787094979,
           0.4037714787094979,
           0.4037714787094979,
           0.4037714787094979,
           0.4037841268210351,
           0.4037714787094979,
           0.4037714787094979,
           0.4041581957699885,
           0.40453379892083347,
           0.40422263997327507,
           0.40400628518492004,
           0.4046788435140193,
           0.4083656679168614,
           0.41023807211289653,
           0.40805012744659425,
           0.4050398448326529,
           0.40433405294441827,
           0.40421261025389077,
           0.40456674366278794,
           0.4044475066488151,
           0.404209430273125,
           0.4039957399494524,
           0.4041803609017855,
           0.40430984703125933,
           0.4061065986449792,
           0.4094887237046311,
           0.41299599274084703,
           0.4116639901698128,
           0.40726724380771473,
           0.4041265760292742,
           0.40384908645731465,
           0.4046866792933863,
           0.40477264206689356,
           0.4042718429972537,
           0.40410453281266295,
           0.4039981477150646,
           0.40404856762970615,
           0.4043222669374383,
           0.4037714787094979,
           0.4037714787094979,
           0.4037714787094979,
           0.4037714787094979,
           0.40377549239818217,
           0.4037714787094979,
           0.4037714787094979,
           0.40382412373819404,
           0.4037714787094979,
           0.4038667539008114,
           0.40421232149268693,
           0.4045113554810947,
           0.40435613214565624,
           0.4099932045490282,
           0.4191341927498024,
           0.4223245555359462,
           0.4217789743405707,
           0.4197603069548907,
           0.4161619866267383,
           0.41512541203409686,
           0.4138965495852654,
           0.40942876019014585,
           0.4058650386907018,
           0.4043649065170755,
           0.404135760774936,
           0.4038708071570816,
           0.4040206092902698,
           0.40602433628422024,
           0.407741430229773,
           0.40825480115611423,
           0.40645432151011873,
           0.4051178612777595,
           0.40434692811063533,
           0.4042843350418901,
           0.40395881265250166,
           0.40550670336099875,
           0.4065009287894869,
           0.4068653486069013,
           0.40673823041529483,
           0.4059994912986638,
           0.4037714787094979,
           0.4037843179234413,
           0.4037714787094979,
           0.4037714787094979,
           0.4037714787094979,
           0.4037714787094979,
           0.4037714787094979,
           0.4038084367176503,
           0.4037714787094979,
           0.40407885712542924,
           0.4049370465485446,
           0.4046883540657889,
           0.40430434448480296,
           0.4040176212670514,
           0.40520620028572335,
           0.40508748363454444,
           0.4071530940286748,
           0.41017786550840196,
           0.4105875397716615,
           0.41926222501406574,
           0.4128683740320576,
           0.4191465993963552,
           0.42112546746303353,
           0.4193724335198163,
           0.4190899109436142,
           0.41869605767824636,
           0.41731538924900446,
           0.41690974521021285,
           0.4148424186742211,
           0.41351950533322285,
           0.41232876709824684,
           0.40986554381786233,
           0.410946861050216,
           0.41607743534299846,
           0.41645738799386767,
           0.4157077510164745,
           0.41434144920296123,
           0.41193653322962276,
           0.40675312155663973,
           0.40661234627277815
          ],
          [
           0.5061330438224217,
           0.5058664322421009,
           0.5061330438224217,
           0.5061330438224217,
           0.5061330438224217,
           0.5054409852120868,
           0.5049894421744565,
           0.5047452130507804,
           0.5056303212080793,
           0.5009200244335702,
           0.4874760007226119,
           0.48061617543034385,
           0.4799625600563597,
           0.4822361365867962,
           0.4845366268946703,
           0.4862789858608556,
           0.4884886737936624,
           0.4907005813732672,
           0.4929452720213318,
           0.4952249405610489,
           0.4972454678563254,
           0.4991573137875848,
           0.5010706509614957,
           0.5034908274709009,
           0.5003475941280011,
           0.5030254032158157,
           0.5011742071554742,
           0.49605744390909473,
           0.4902802992139413,
           0.49127828411467495,
           0.4974595193288163,
           0.5048761600659015,
           0.49900791437859937,
           0.49290303596167073,
           0.49311330284248067,
           0.494586756772578,
           0.49790168053933676,
           0.5019817114161357,
           0.5045243227406508,
           0.5049511640365424,
           0.5061330438224217,
           0.5061330438224217,
           0.5061330438224217,
           0.5061330438224217,
           0.5061330438224217,
           0.5061330438224217,
           0.5060738576651453,
           0.5061330438224217,
           0.5061330438224217,
           0.5043273826797752,
           0.5025814261823758,
           0.504027273869207,
           0.5050357087569712,
           0.501909251214825,
           0.48519979365131727,
           0.4769835836369815,
           0.48660202184761797,
           0.5002412176456666,
           0.5035089711086077,
           0.5040739661715155,
           0.5024286514151034,
           0.5029818689079216,
           0.5040887713820899,
           0.5050849257044441,
           0.504224136804689,
           0.5036215216268773,
           0.4953530993855273,
           0.4802504307798394,
           0.465200183447761,
           0.4708446055724009,
           0.49010332697854325,
           0.5044747148142832,
           0.5057700207696915,
           0.5018729706034029,
           0.501475170749327,
           0.5037982937913538,
           0.5045774574317728,
           0.5050736875938179,
           0.5048384282878167,
           0.5035637686594593,
           0.5061330438224217,
           0.5061330438224217,
           0.5061330438224217,
           0.5061330438224217,
           0.5061142610316791,
           0.5061330438224217,
           0.5061330438224217,
           0.5058867519839674,
           0.5061330438224217,
           0.505687424520628,
           0.5040753105501053,
           0.5026855369541595,
           0.5034063369970561,
           0.478047996465832,
           0.4402703272462792,
           0.4279811321330488,
           0.4300515801888999,
           0.4378236102151043,
           0.4521244476717104,
           0.456353650476182,
           0.4614325808614158,
           0.4805130708716303,
           0.4964546615621017,
           0.5033655571159693,
           0.5044319128828701,
           0.5056684777412844,
           0.5049688647263307,
           0.4957278840729207,
           0.4879788150283347,
           0.485691889207101,
           0.4937728480376297,
           0.4998816608226739,
           0.5034491182896959,
           0.5037401795509686,
           0.5052573215100684,
           0.4980944704186475,
           0.49356152396983416,
           0.49191313951421944,
           0.49248734088683765,
           0.4958411477163781,
           0.5061330438224217,
           0.5060729634790143,
           0.5061330438224217,
           0.5061330438224217,
           0.5061330438224217,
           0.5061330438224217,
           0.5061330438224217,
           0.5059601254509171,
           0.5061330438224217,
           0.5046971643104806,
           0.5007154881321643,
           0.5018652166347864,
           0.5036471113312155,
           0.5049828075344611,
           0.4994749255475708,
           0.5000216242488982,
           0.49061650610790425,
           0.477245016431219,
           0.47546968419957286,
           0.43976859796226375,
           0.46573724450707044,
           0.4402216766788112,
           0.4325483454327864,
           0.43933729636492697,
           0.4404440264591494,
           0.441992779484017,
           0.447476821474833,
           0.44910442504877035,
           0.4575169648139726,
           0.46300527153546567,
           0.468016794383007,
           0.4786041182177727,
           0.4739194451279312,
           0.4524675488765868,
           0.4509283229085754,
           0.4539715762106104,
           0.459585558626046,
           0.4696826559581084,
           0.4924200326780504,
           0.49305680568700105
          ],
          [
           0.04796379889864877,
           0.04797793360423481,
           0.04796379889864877,
           0.04796379889864877,
           0.04796379889864877,
           0.048000513218623544,
           0.04802451025767555,
           0.0480375036443848,
           0.047990460991612645,
           0.048242297310977886,
           0.04898185376208372,
           0.04937159054487446,
           0.04940917793910515,
           0.04927877421695302,
           0.04914779891413425,
           0.04904924358950358,
           0.04892504320626065,
           0.04880159230225712,
           0.04867719560439686,
           0.048551761225088044,
           0.04844133585174075,
           0.048337492387563706,
           0.04823418695832855,
           0.048104393792874116,
           0.04827315403436708,
           0.04812927868673181,
           0.04822861327113701,
           0.04850617850679783,
           0.04882498223448107,
           0.048769492383225435,
           0.04842967854408398,
           0.048030535831508264,
           0.0483455847884915,
           0.04867952809408127,
           0.048667919174178516,
           0.048586785190034405,
           0.04840562305760687,
           0.04818521261993281,
           0.04804926381358511,
           0.048026546069330114,
           0.04796379889864877,
           0.04796379889864877,
           0.04796379889864877,
           0.04796379889864877,
           0.04796379889864877,
           0.04796379889864877,
           0.04796693571506546,
           0.04796379889864877,
           0.04796379889864877,
           0.048059755646542454,
           0.04815305033957675,
           0.04807575600713207,
           0.0480220499040603,
           0.04818910266631553,
           0.04911022230536372,
           0.049581505737098304,
           0.04903103176946274,
           0.04827889429956668,
           0.04810342443123446,
           0.04807326562213547,
           0.04816123786040489,
           0.048131608176809886,
           0.0480724760451464,
           0.04801943304236021,
           0.048065258545283825,
           0.048097412401955114,
           0.04854473626490511,
           0.04939261355730444,
           0.050279945454109125,
           0.04994198202636143,
           0.048834840613351596,
           0.04805190603664367,
           0.04798304782426866,
           0.048191050730191747,
           0.048212424747543565,
           0.048087974119498236,
           0.04804643419684642,
           0.04802003053689778,
           0.04803254328561551,
           0.04810049708854833,
           0.04796379889864877,
           0.04796379889864877,
           0.04796379889864877,
           0.04796379889864877,
           0.04796479430876135,
           0.04796379889864877,
           0.04796379889864877,
           0.047976855921945324,
           0.04796379889864877,
           0.04798743041434671,
           0.04807319392356065,
           0.04814747304753112,
           0.04810890858991751,
           0.049519739366332055,
           0.0518527184528757,
           0.05268014832099504,
           0.05253816644945371,
           0.05201456475942084,
           0.05108800702645104,
           0.050822701370650716,
           0.05050911291278233,
           0.04937751447226086,
           0.04848447134239037,
           0.04811108810908078,
           0.04805418608360497,
           0.0479884358954356,
           0.048025604633373895,
           0.04852420888586094,
           0.048953623102903604,
           0.049082390717357975,
           0.048631555435521744,
           0.04829831072591079,
           0.048106622399299116,
           0.04809107640593622,
           0.048010269903832926,
           0.048395144877487986,
           0.048643198447188805,
           0.04873428459861269,
           0.048702501526315584,
           0.048518010069438365,
           0.04796379889864877,
           0.04796698311056242,
           0.04796379889864877,
           0.04796379889864877,
           0.04796379889864877,
           0.04796379889864877,
           0.04796379889864877,
           0.04797296503245927,
           0.04796379889864877,
           0.048040061069594436,
           0.04825331647743236,
           0.04819146710298209,
           0.048096045787600294,
           0.048024863101839836,
           0.04832030110175299,
           0.04829074997384886,
           0.048806268836992475,
           0.04956631526402871,
           0.049669726333884015,
           0.051885792557227826,
           0.05024751385265931,
           0.05185592293550055,
           0.05236836080595758,
           0.05191427111556719,
           0.05184128185395469,
           0.05173961976507947,
           0.05138406023125522,
           0.051279838676502834,
           0.05075039580866945,
           0.05041309923120257,
           0.0501105046438851,
           0.04948755362265335,
           0.049760519609484286,
           0.05106633962405222,
           0.051163745189509884,
           0.05097165929141578,
           0.05062252827317795,
           0.05001103660127454,
           0.04870622416587946,
           0.04867103764667201
          ],
          [
           0.17493866552744475,
           0.17498141293387734,
           0.17493866552744475,
           0.17493866552744475,
           0.17493866552744475,
           0.17504969570616954,
           0.17512225888424598,
           0.17516154620680202,
           0.17501929755079063,
           0.17578052914548703,
           0.17801209784381058,
           0.17918578704081145,
           0.17929889733371648,
           0.1789064154200111,
           0.17851203459633627,
           0.17821515548632794,
           0.17784088037668422,
           0.1774687029602889,
           0.1770935114933665,
           0.1767150244329252,
           0.1763816874676023,
           0.17606810064118558,
           0.17575602438531382,
           0.17536376922022018,
           0.17587375375506625,
           0.17543898923799375,
           0.17573918354215826,
           0.17657744128751304,
           0.17753923081429926,
           0.17737190241219034,
           0.17634649041781603,
           0.1751404782754477,
           0.176092542230423,
           0.17710054799431252,
           0.17706552640091128,
           0.17682072291356637,
           0.17627385482260502,
           0.17560803750950535,
           0.17519710315894954,
           0.17512841456553238,
           0.17493866552744475,
           0.17493866552744475,
           0.17493866552744475,
           0.17493866552744475,
           0.17493866552744475,
           0.17493866552744475,
           0.1749481523463122,
           0.17493866552744475,
           0.17493866552744475,
           0.17522882403323176,
           0.17551083803880774,
           0.17527719704279424,
           0.1751148194564572,
           0.1756197930903206,
           0.17839885423663668,
           0.17981728878154007,
           0.1781602847057902,
           0.17589109517283738,
           0.17536083897883165,
           0.17526966817960055,
           0.17553558306652242,
           0.17544603028963532,
           0.17526728113832943,
           0.1751069067201317,
           0.17524546095441235,
           0.17534266525021083,
           0.17669382230668654,
           0.17924905259155582,
           0.18191517752467617,
           0.18090066967025684,
           0.17756895513598686,
           0.17520509173396726,
           0.17499687927312016,
           0.17562568000866213,
           0.17569026818615344,
           0.17531413353792993,
           0.17518854792916003,
           0.17510871340090128,
           0.17514654808229463,
           0.17535198997997808,
           0.17493866552744475,
           0.17493866552744475,
           0.17493866552744475,
           0.17493866552744475,
           0.17494167600373206,
           0.17493866552744475,
           0.17493866552744475,
           0.174978153789087,
           0.17493866552744475,
           0.17501013280519503,
           0.17526945142146136,
           0.17549398145692668,
           0.17537741667213183,
           0.17963152042632885,
           0.18662120189397666,
           0.18908720589381162,
           0.18866452774232653,
           0.18710408087952077,
           0.1843361371251262,
           0.18354200516409203,
           0.18260243584905111,
           0.17920361466262602,
           0.1765119143984347,
           0.17538400490394435,
           0.1752119852348015,
           0.1750131734838449,
           0.17512556795228715,
           0.17663186534638184,
           0.17792701962368138,
           0.1783150162450117,
           0.17695581565214016,
           0.17594974984610465,
           0.17537050593997924,
           0.17532351178448313,
           0.17507919909686606,
           0.17624221400684528,
           0.1769909445747318,
           0.17726571726710585,
           0.17716984965235594,
           0.17661315482882461,
           0.17493866552744475,
           0.17494829568589165,
           0.17493866552744475,
           0.17493866552744475,
           0.17493866552744475,
           0.17493866552744475,
           0.17493866552744475,
           0.17496638679200946,
           0.17493866552744475,
           0.1751692787259344,
           0.1758138215187793,
           0.1756269382540288,
           0.17533853406544256,
           0.17512332578192003,
           0.17601617524591556,
           0.1759269102083658,
           0.17748280461541963,
           0.17977160562624542,
           0.18008255226668488,
           0.18671990153872642,
           0.1818178740935197,
           0.18663076517190483,
           0.188158762289492,
           0.1868048785590358,
           0.18658707032758431,
           0.1862836118191429,
           0.18522147387824364,
           0.1849099025835881,
           0.1833254523062036,
           0.18231456201524132,
           0.1814066915451383,
           0.17953470299617583,
           0.18035546732542418,
           0.18427130715845358,
           0.18456271266872595,
           0.18398796365084072,
           0.18294236404163947,
           0.18110805464890656,
           0.17718107884152035,
           0.17707493429618026
          ],
          [
           0.20269662081839246,
           0.20293721694999198,
           0.20269662081839246,
           0.20269662081839246,
           0.20269662081839246,
           0.20332200467983158,
           0.20373154809705046,
           0.20395355720041136,
           0.20315063322580923,
           0.20747680358108622,
           0.2205821556432234,
           0.22773381406061202,
           0.2284326385958087,
           0.2260150565990551,
           0.2236062864100496,
           0.22180651452724115,
           0.21955395631758695,
           0.2173320728771344,
           0.21511030494442837,
           0.21288733306890195,
           0.21094468442890918,
           0.209130012599603,
           0.2073364103601802,
           0.20509934233140692,
           0.208011598094005,
           0.20552683682105624,
           0.20723996916697068,
           0.21208380065715682,
           0.21775174393224353,
           0.21675711393256678,
           0.210740384646435,
           0.20383448035452734,
           0.2092710047532861,
           0.21515180629072211,
           0.2149453115240872,
           0.21350628856517703,
           0.21031927108159262,
           0.20649016312390278,
           0.20415465188259638,
           0.2037663206112262,
           0.20269662081839246,
           0.20269662081839246,
           0.20269662081839246,
           0.20269662081839246,
           0.20269662081839246,
           0.20269662081839246,
           0.2027499961162957,
           0.20269662081839246,
           0.20269662081839246,
           0.204334184221167,
           0.2059358321972223,
           0.20460820487504733,
           0.20368953018101169,
           0.20655728571546178,
           0.2229187900515092,
           0.23165721221899668,
           0.22147513425402782,
           0.20811119991282004,
           0.2050827033241443,
           0.20456553664017524,
           0.20607684143307498,
           0.20556688909289805,
           0.20455201006542914,
           0.20364484656849255,
           0.20442839520295217,
           0.20497953002869823,
           0.21276334813196232,
           0.22812447540196873,
           0.24507793304237285,
           0.2385129243884334,
           0.21792880905571982,
           0.20419985344588,
           0.20302432231676001,
           0.20659090564014976,
           0.20696005123454161,
           0.20481763701504735,
           0.20410625284083578,
           0.20365504829819925,
           0.20386878149886561,
           0.2050324619026575,
           0.20269662081839246,
           0.20269662081839246,
           0.20269662081839246,
           0.20269662081839246,
           0.20271355732835086,
           0.20269662081839246,
           0.20269662081839246,
           0.20291886545503907,
           0.20269662081839246,
           0.20309898892218164,
           0.20456430831404956,
           0.20583981905228324,
           0.20517685179390122,
           0.23049754109497927,
           0.27743364102673546,
           0.295692165571491,
           0.2924967329054133,
           0.2809364473225999,
           0.26132501716978157,
           0.2559041338210538,
           0.24960619409077064,
           0.22784384486050746,
           0.21170194892388,
           0.20521427738075973,
           0.20423886516412426,
           0.20311612230987325,
           0.20375023993710395,
           0.21240136727027503,
           0.2200707650348315,
           0.2224106122806105,
           0.21429945205342407,
           0.2084483684129015,
           0.20513760001254644,
           0.20487083932098346,
           0.20348844159434018,
           0.21013603872214504,
           0.21450608560819687,
           0.21612780379410945,
           0.21556088785913974,
           0.21229214807343008,
           0.20269662081839246,
           0.2027508026674395,
           0.20269662081839246,
           0.20269662081839246,
           0.20269662081839246,
           0.20269662081839246,
           0.20269662081839246,
           0.20285261916699815,
           0.20269662081839246,
           0.2039972755822842,
           0.20766766392313793,
           0.20659809198615378,
           0.20495608280699015,
           0.2037375745033532,
           0.208830729490329,
           0.20831702630175078,
           0.21741593237593843,
           0.23137160354422667,
           0.23332116271624226,
           0.27814677329314996,
           0.24444212027053427,
           0.27750267476982765,
           0.2887092626755104,
           0.2787619211484544,
           0.27718736913082165,
           0.2750054268453139,
           0.26747555522497235,
           0.26529806836944936,
           0.25444151347181354,
           0.24770141430475837,
           0.24176976343883821,
           0.22989498193559701,
           0.23504300074103918,
           0.2608790884100519,
           0.26288825881962546,
           0.2589372139788082,
           0.2518703586394024,
           0.23984344729297685,
           0.21562723087504737,
           0.21500076701080598
          ],
          [
           0.5854565402707262,
           0.5859159733902315,
           0.5854565402707262,
           0.5854565402707262,
           0.5854565402707262,
           0.5866503659296421,
           0.5874314893089936,
           0.5878547055980062,
           0.5863233505045278,
           0.5945503395648501,
           0.6191255349880805,
           0.6323272555208153,
           0.6336096742119874,
           0.6291674640460585,
           0.6247254083585121,
           0.6213958305031112,
           0.6172156734652625,
           0.613078184430113,
           0.6089265580107603,
           0.604758119109591,
           0.6011032454681366,
           0.5976788326493803,
           0.5942842745430226,
           0.5900364420177775,
           0.5955632927638171,
           0.590849393573519,
           0.5941014694732558,
           0.6032477396267527,
           0.6138607701083532,
           0.6120051925520079,
           0.6007182173622673,
           0.5876277286410343,
           0.5979452543863474,
           0.6090042407395678,
           0.6086176710766601,
           0.6059202377098231,
           0.5999241778139004,
           0.5926792215729788,
           0.5882379180205314,
           0.5874977865193844,
           0.5854565402707262,
           0.5854565402707262,
           0.5854565402707262,
           0.5854565402707262,
           0.5854565402707262,
           0.5854565402707262,
           0.5855584796243907,
           0.5854565402707262,
           0.5854565402707262,
           0.5885799325348917,
           0.591626630026407,
           0.5891017539574445,
           0.587351372914551,
           0.5928066123305933,
           0.6234546155533875,
           0.6395099953713168,
           0.6207817809496928,
           0.595751850868391,
           0.5900047885916545,
           0.5890205157997908,
           0.5918944764047531,
           0.5909255302395411,
           0.5889947606885186,
           0.5872661676412058,
           0.5887593665691284,
           0.5898084961420604,
           0.6045251939308485,
           0.6330443254233683,
           0.6637747178572575,
           0.6519629656734364,
           0.6141908007376887,
           0.5883240379536157,
           0.5860822609507347,
           0.5928704137092932,
           0.5935707194674394,
           0.5895004189637589,
           0.5881456989552155,
           0.5872856214419508,
           0.5876931159764383,
           0.589909205907843,
           0.5854565402707262,
           0.5854565402707262,
           0.5854565402707262,
           0.5854565402707262,
           0.5854888876206837,
           0.5854565402707262,
           0.5854565402707262,
           0.5858809365836227,
           0.5854565402707262,
           0.5862247831922234,
           0.5890181770440814,
           0.5914442179580229,
           0.5901838816628284,
           0.6373912536354428,
           0.7204981157800825,
           0.7515138846061631,
           0.7461336940480027,
           0.7265006982454933,
           0.6925554125315923,
           0.6830218813142368,
           0.6718595430619543,
           0.6325292622780769,
           0.6025293033188964,
           0.5902550664126827,
           0.5883983595402004,
           0.5862574845833595,
           0.5874671276126066,
           0.6038448927935335,
           0.6181760140648104,
           0.6225144281456934,
           0.6074077733771291,
           0.5963899242347929,
           0.5901092187026952,
           0.5896016703308892,
           0.586967875779181,
           0.5995785120623158,
           0.6077949971475877,
           0.6108296644019853,
           0.6097696932456937,
           0.6036395508462155,
           0.5854565402707262,
           0.5855600199545414,
           0.5854565402707262,
           0.5854565402707262,
           0.5854565402707262,
           0.5854565402707262,
           0.5854565402707262,
           0.5857544497605877,
           0.5854565402707262,
           0.5879380276209895,
           0.5949119491349547,
           0.5928840509630332,
           0.5897638819417134,
           0.587442979518528,
           0.5971130992535908,
           0.5961414079079861,
           0.6132346031409374,
           0.6389885168679638,
           0.6425438007462255,
           0.7217222462116366,
           0.6626354927923803,
           0.7206166625230055,
           0.7397308254107232,
           0.7227773272331082,
           0.7200751291164809,
           0.7163219345337326,
           0.7032914188231643,
           0.6995001888966551,
           0.6804379379692788,
           0.6684648262072952,
           0.65783624440967,
           0.6362889411066298,
           0.6456754441101387,
           0.6917737174209094,
           0.6952921514718959,
           0.6883643978437448,
           0.675883365872428,
           0.654365649584685,
           0.6098937845141197,
           0.6087214991761933
          ],
          [
           0.2759382566483716,
           0.2759698516210376,
           0.2759382566483716,
           0.2759382566483716,
           0.2759382566483716,
           0.27602031149307554,
           0.2760739230540304,
           0.27610294462278856,
           0.27599784903643115,
           0.27655973192875405,
           0.2781994939060263,
           0.2790575413638961,
           0.279140074777929,
           0.27885357300310454,
           0.2785653484547736,
           0.27834815758947273,
           0.2780740711868717,
           0.2778012168334839,
           0.27752584484160453,
           0.2772477397538661,
           0.27700254784637207,
           0.27677165861949465,
           0.2765416645552852,
           0.276252272189098,
           0.2766284542574338,
           0.27630779356657953,
           0.27652924701604603,
           0.2771465678463774,
           0.27785294623908524,
           0.2777301996510351,
           0.2769766436656488,
           0.2760873821593996,
           0.27678966243945213,
           0.2775310121365339,
           0.27750529274815094,
           0.2773254368131282,
           0.2769231769307851,
           0.27643252528536816,
           0.27612920758290294,
           0.27607847048805156,
           0.2759382566483716,
           0.2759382566483716,
           0.2759382566483716,
           0.2759382566483716,
           0.2759382566483716,
           0.2759382566483716,
           0.27594526879128123,
           0.2759382566483716,
           0.2759382566483716,
           0.27615263476126045,
           0.2763608147715652,
           0.2761883558923882,
           0.2760684271546715,
           0.27644119672927947,
           0.27848257060518955,
           0.2795179770007419,
           0.2783079941694131,
           0.27664123568435256,
           0.27625010906410996,
           0.27618279653482075,
           0.27637907282617513,
           0.27631299005803356,
           0.27618103390278853,
           0.27606258146106233,
           0.27616492091510475,
           0.27623669265966705,
           0.2772321514773605,
           0.27910370787580624,
           0.2810414357987793,
           0.2803058861294862,
           0.2778747445883927,
           0.2761351076884739,
           0.27598128191381416,
           0.2764455390685027,
           0.2764931758562034,
           0.27621562818290685,
           0.2761228888057384,
           0.27606391619529863,
           0.27609186590744295,
           0.2762435765537707,
           0.2759382566483716,
           0.2759382566483716,
           0.2759382566483716,
           0.2759382566483716,
           0.27594048185134895,
           0.2759382566483716,
           0.2759382566483716,
           0.27596744290377234,
           0.2759382566483716,
           0.27599107641940923,
           0.2761826364774363,
           0.27634837640297377,
           0.2762623465819141,
           0.2793826203526571,
           0.28442527387022776,
           0.286180342373009,
           0.28588038750737554,
           0.2847699074017859,
           0.2827879466612489,
           0.28221640050714397,
           0.2815384816095887,
           0.27907055151791965,
           0.27709836785477193,
           0.27626720979014513,
           0.2761401988924348,
           0.2759933234586999,
           0.2760763675980016,
           0.27718659364007436,
           0.27813717918250785,
           0.2784212351826047,
           0.27742470514325923,
           0.2766844619291611,
           0.2762572452105949,
           0.2762225521834236,
           0.276042110788925,
           0.27689988260798,
           0.27745051184592895,
           0.2776522738200094,
           0.2775818983802134,
           0.2771728338600464,
           0.2759382566483716,
           0.27594537473858866,
           0.2759382566483716,
           0.2759382566483716,
           0.2759382566483716,
           0.2759382566483716,
           0.2759382566483716,
           0.27595874613895904,
           0.2759382566483716,
           0.2761086562319051,
           0.27658427627003856,
           0.2764464671719399,
           0.27623364278915813,
           0.2760747112176815,
           0.27673340565625976,
           0.27666763090249813,
           0.27781156071624935,
           0.2794846977139487,
           0.2797111275484867,
           0.2844957548735621,
           0.2809709824551451,
           0.2844321038334924,
           0.28552099980002416,
           0.28455642074973636,
           0.2844008960523328,
           0.28418405234896715,
           0.2834235936708897,
           0.2832000786925691,
           0.28206031693320754,
           0.2813304038269029,
           0.2806730409222853,
           0.2793120466509851,
           0.27990969183200376,
           0.28274133687637837,
           0.2829507757445895,
           0.2825375234974877,
           0.28178396042928433,
           0.2804564245702667,
           0.2775901426597718,
           0.2775122020457567
          ],
          [
           0.09998408451570179,
           0.10001721617972223,
           0.09998408451570179,
           0.09998408451570179,
           0.09998408451570179,
           0.10007014517830075,
           0.10012640016571224,
           0.1001568613336041,
           0.10004658131486151,
           0.10063710654782598,
           0.10237348695111044,
           0.10328985370947984,
           0.10337827860325581,
           0.10307153783288805,
           0.10276355421540471,
           0.10253187229740564,
           0.10223998697528641,
           0.10194995436609738,
           0.10165779205884366,
           0.10136328667038964,
           0.10110409902638746,
           0.10086042733464765,
           0.1006180827783032,
           0.1003136920986085,
           0.10070948819559787,
           0.10037204419396523,
           0.10060500928154083,
           0.10125628716738869,
           0.10200489911254128,
           0.10187455452624024,
           0.1010767415755597,
           0.10014052614870023,
           0.10087941404917329,
           0.10166326936943963,
           0.10163600883898041,
           0.10144550936590187,
           0.10102029058238024,
           0.10050321626734032,
           0.10018443228034529,
           0.10013117277210119,
           0.09998408451570179,
           0.09998408451570179,
           0.09998408451570179,
           0.09998408451570179,
           0.09998408451570179,
           0.09998408451570179,
           0.09999143708945026,
           0.09998408451570179,
           0.09998408451570179,
           0.10020903040450967,
           0.10042778937850187,
           0.10024654456959986,
           0.10012063232812121,
           0.10051233961785117,
           0.10267521303799497,
           0.10378378933821919,
           0.10248906664607456,
           0.10072295396281725,
           0.10031141913766548,
           0.10024070555447728,
           0.10044699013457258,
           0.10037750676135836,
           0.10023885430159206,
           0.1001144976270315,
           0.10022193222918187,
           0.10029732224772032,
           0.10134679567493937,
           0.10333930962129545,
           0.10542910354087841,
           0.1046326056426735,
           0.10202805818254906,
           0.10019062691484082,
           0.10002920417964896,
           0.10051690845888053,
           0.10056703896460788,
           0.10027519198789234,
           0.10017779835244289,
           0.10011589832803189,
           0.10014523234904305,
           0.100304555133782,
           0.09998408451570179,
           0.09998408451570179,
           0.09998408451570179,
           0.09998408451570179,
           0.09998641771119753,
           0.09998408451570179,
           0.09998408451570179,
           0.10001469005620872,
           0.09998408451570179,
           0.10003947732709195,
           0.10024053744887308,
           0.100414710166621,
           0.10032427847804475,
           0.10363842447550237,
           0.10914445352181744,
           0.11110474882145104,
           0.11076810018141754,
           0.10952758549955557,
           0.10733620316732409,
           0.10670964059749774,
           0.10596957510660941,
           0.10330378927928434,
           0.10120533681880248,
           0.10032938909904875,
           0.10019597246942002,
           0.10004183427297336,
           0.1001289657360922,
           0.1012986096423306,
           0.10230714489282922,
           0.10260978745463599,
           0.10155062328936745,
           0.10076850334833437,
           0.1003189177606367,
           0.10028246596411909,
           0.10009301683653042,
           0.10099570253572533,
           0.1015779613342985,
           0.10179186168861704,
           0.10171721888688708,
           0.10128405902017545,
           0.09998408451570179,
           0.09999154818308141,
           0.09998408451570179,
           0.09998408451570179,
           0.09998408451570179,
           0.09998408451570179,
           0.09998408451570179,
           0.10000556973922174,
           0.09998408451570179,
           0.10016285697811861,
           0.10066295391394686,
           0.10051788499097383,
           0.10029411786740214,
           0.1001272273456911,
           0.10082009376533456,
           0.10075076615691554,
           0.10196093964318685,
           0.10374803703283005,
           0.10399145231233296,
           0.10922273638160859,
           0.1053526411457392,
           0.10915203791695001,
           0.11036562814027757,
           0.10929014705175079,
           0.10911738576344102,
           0.10887680801796455,
           0.1080358591230584,
           0.10778949728229595,
           0.1065389496931715,
           0.10574309795131795,
           0.10502968906330458,
           0.10356268546019891,
           0.10420521905517686,
           0.10728501685113268,
           0.10751514558102364,
           0.10706137904989198,
           0.1062371683686346,
           0.10479529617649509,
           0.10172596122263883,
           0.10164333168146089
          ],
          [
           0.2896293462252192,
           0.28965851123497965,
           0.2896293462252192,
           0.2896293462252192,
           0.2896293462252192,
           0.28970508941387363,
           0.2897545757092541,
           0.2897813636630069,
           0.28968435503851625,
           0.29020295012069613,
           0.2917156588102723,
           0.2925067937432277,
           0.2925828755389976,
           0.29231875790641365,
           0.2920530190917005,
           0.2918527503966803,
           0.29159999222566274,
           0.29134834040115637,
           0.2910943363655049,
           0.2908377804776327,
           0.2906115617338726,
           0.2903985168501712,
           0.2901862766465436,
           0.28991919302254265,
           0.2902663693167599,
           0.28997043696935115,
           0.29017481704532005,
           0.29074444026419904,
           0.29139605238893734,
           0.29128283682271755,
           0.2905876606318858,
           0.28976699899071223,
           0.2904151300093948,
           0.29109910297502806,
           0.29107537782861187,
           0.29090946023813913,
           0.2905383274385964,
           0.29008555468744096,
           0.28980560502903063,
           0.28975877317714777,
           0.2896293462252192,
           0.2896293462252192,
           0.2896293462252192,
           0.2896293462252192,
           0.2896293462252192,
           0.2896293462252192,
           0.2896358191004005,
           0.2896293462252192,
           0.2896293462252192,
           0.28982722866336896,
           0.29001937220122387,
           0.2898601993734961,
           0.28974950275787587,
           0.2900935575259123,
           0.2919766930012104,
           0.292931202613198,
           0.291815714198864,
           0.2902781642230227,
           0.28991719652206355,
           0.28985506810372463,
           0.2900362229734186,
           0.2899752330536126,
           0.2898534411972328,
           0.2897441069180065,
           0.289838568877856,
           0.28990481353490644,
           0.2908233991536212,
           0.2925493517635805,
           0.2943348586582428,
           0.29365726644472223,
           0.29141615751049343,
           0.28981105093512877,
           0.2896690623271245,
           0.2900975650408255,
           0.290141528205389,
           0.2898853714326164,
           0.28979977266578677,
           0.289745338939351,
           0.2897711376495768,
           0.28991116719651006,
           0.2896293462252192,
           0.2896293462252192,
           0.2896293462252192,
           0.2896293462252192,
           0.2896314003014652,
           0.2896293462252192,
           0.2896293462252192,
           0.2896562877858412,
           0.2896293462252192,
           0.2896781034124282,
           0.2898549203710714,
           0.29000789247223874,
           0.28992849136475457,
           0.29280644569165737,
           0.2974493243362266,
           0.29906291804917,
           0.29878722703281496,
           0.29776627168339376,
           0.2959428985235247,
           0.2954167991732839,
           0.29479261881462115,
           0.2925187870765222,
           0.2906999699784263,
           0.28993297993571276,
           0.2898157501988707,
           0.2896801775978262,
           0.28975683212451964,
           0.290781368161371,
           0.2916581920871469,
           0.2919201363372184,
           0.291001037146639,
           0.29031805361001933,
           0.2899237829673674,
           0.2898917621701207,
           0.28972521145223645,
           0.29051683365315306,
           0.29102484367008025,
           0.2912109586434227,
           0.2911460427964725,
           0.2907686734264778,
           0.2896293462252192,
           0.2896359168996951,
           0.2896293462252192,
           0.2896293462252192,
           0.2896293462252192,
           0.2896293462252192,
           0.2896293462252192,
           0.28964825991913784,
           0.2896293462252192,
           0.28978663564406626,
           0.29022560065373937,
           0.29009842158010085,
           0.28990199857481913,
           0.28975530321718945,
           0.2903632182104422,
           0.2903025219468218,
           0.29135788104120974,
           0.2929005300896755,
           0.29310921500792153,
           0.2975141470017428,
           0.2942699659340108,
           0.2974556060628507,
           0.29845686487489814,
           0.2975699409654498,
           0.29742690316140225,
           0.2972274538422148,
           0.2965278512076385,
           0.29632218011246664,
           0.2952731043538698,
           0.29460099900971176,
           0.2939955181213786,
           0.2927413956996579,
           0.29329220139229534,
           0.295899999744392,
           0.2960927566950692,
           0.2957124036854056,
           0.29501865946249717,
           0.2937959606716909,
           0.2911536476030732,
           0.29108175141590453
          ],
          [
           0.07076965247510214,
           0.07077499495243546,
           0.07076965247510214,
           0.07076965247510214,
           0.07076965247510214,
           0.0707835269132831,
           0.07079259119237058,
           0.0707974977121944,
           0.07077972893518046,
           0.07087470114446254,
           0.07115148671850427,
           0.07129610029512669,
           0.07131000231717684,
           0.07126173762279024,
           0.07121316565695852,
           0.07117655306484909,
           0.07113033550738412,
           0.07108431028548373,
           0.07103784476992005,
           0.07099090213497442,
           0.07094950175898074,
           0.07091050495963125,
           0.0708716483316381,
           0.07082274093975939,
           0.07088631241673461,
           0.07083212542087586,
           0.07086955012212641,
           0.07097382088511263,
           0.07109303721265164,
           0.07107232854278821,
           0.07094512713838377,
           0.07079486667244266,
           0.07091354617263196,
           0.07103871682967332,
           0.0710343762362434,
           0.07100401859259536,
           0.07093609739527525,
           0.07085320581293116,
           0.0708019376975213,
           0.07079336001407943,
           0.07076965247510214,
           0.07076965247510214,
           0.07076965247510214,
           0.07076965247510214,
           0.07076965247510214,
           0.07076965247510214,
           0.07077083819485,
           0.07076965247510214,
           0.07076965247510214,
           0.0708058981474989,
           0.0708410867115616,
           0.0708119367147344,
           0.07079166201057249,
           0.07085467121732758,
           0.07119921266472538,
           0.07137363872144106,
           0.07116978151638627,
           0.0708884718484978,
           0.07082237530532234,
           0.0708109969368247,
           0.07084417243068679,
           0.07083300372312001,
           0.07081069897251731,
           0.07079067368277475,
           0.07080797512087868,
           0.07082010749988409,
           0.07098827044353039,
           0.0713038768074532,
           0.07162988314853386,
           0.07150622358256481,
           0.07109671450276214,
           0.07080293514267914,
           0.07077692767948603,
           0.07085540503190643,
           0.0708634549441757,
           0.07081654684763353,
           0.07080086946558585,
           0.07079089934609345,
           0.07079562471438483,
           0.07082127110488984,
           0.07076965247510214,
           0.07076965247510214,
           0.07076965247510214,
           0.07076965247510214,
           0.07077002874736923,
           0.07076965247510214,
           0.07076965247510214,
           0.07077458766341212,
           0.07076965247510214,
           0.07077858379261398,
           0.07081096987993499,
           0.07083898451399177,
           0.07082444380814282,
           0.07135084886748376,
           0.07219735540055974,
           0.07249077541774492,
           0.07244067118082483,
           0.07225502129928574,
           0.07192306326319992,
           0.07182718807236883,
           0.07171338336112987,
           0.07129829183324496,
           0.070965682344442,
           0.0708252658256495,
           0.07080379583275435,
           0.0707789637325278,
           0.07079300448498858,
           0.07098057885073572,
           0.07114097840756008,
           0.07118887308572197,
           0.07102077479086545,
           0.07089577470347215,
           0.07082358152914965,
           0.07081771726232197,
           0.07078721266271529,
           0.07093216314189654,
           0.07102513055081275,
           0.07105917999870617,
           0.07104730436321627,
           0.07097825568332812,
           0.07076965247510214,
           0.07077085610995303,
           0.07076965247510214,
           0.07076965247510214,
           0.07076965247510214,
           0.07076965247510214,
           0.07076965247510214,
           0.0707731171209044,
           0.07076965247510214,
           0.07079846332239519,
           0.07087884825048561,
           0.07085556187216836,
           0.07081959196808245,
           0.07079272444526175,
           0.07090404302891576,
           0.07089293123303353,
           0.0710860553780678,
           0.0713680358721629,
           0.07140615276318317,
           0.07220915058890336,
           0.07161804341112216,
           0.07219849845712802,
           0.07238061573573006,
           0.07221930239172981,
           0.07219327547441645,
           0.07215697878214034,
           0.07202961368358886,
           0.07199215624284185,
           0.07180099401544852,
           0.07167843386841001,
           0.07156796292536044,
           0.0713389649570065,
           0.07143957015487233,
           0.07191524708231632,
           0.07195036527814075,
           0.07188106364537022,
           0.07175460355411131,
           0.07153154088001643,
           0.07104869561265982,
           0.07103554231366346
          ],
          [
           0.292527483951604,
           0.2923798527993435,
           0.292527483951604,
           0.292527483951604,
           0.292527483951604,
           0.29214426274227573,
           0.2918942129984981,
           0.2917589630024256,
           0.2922491080267439,
           0.2896402786085903,
           0.2821885209656985,
           0.2783829471584914,
           0.2780202274836384,
           0.2792818451331625,
           0.28055814346907704,
           0.281524624668376,
           0.2827501230061994,
           0.28397661953364634,
           0.28522105715058094,
           0.28648464299287174,
           0.2876043868034476,
           0.2886637254353174,
           0.2897237199944678,
           0.2910642620066441,
           0.28932316431978006,
           0.2908064833398252,
           0.28978108558960863,
           0.2869460261575272,
           0.2837435921343414,
           0.2842969158479571,
           0.287722999503078,
           0.2918314796062957,
           0.2885809505482104,
           0.2851976440315582,
           0.28531420245009353,
           0.2861309319932913,
           0.28796800825579894,
           0.2902283905328203,
           0.2916366352863721,
           0.29187301538848603,
           0.292527483951604,
           0.292527483951604,
           0.292527483951604,
           0.292527483951604,
           0.292527483951604,
           0.292527483951604,
           0.2924947110109983,
           0.292527483951604,
           0.292527483951604,
           0.29152756917919825,
           0.29056057405280483,
           0.29136136441567484,
           0.2919198343474706,
           0.29018825351810174,
           0.2809260171976059,
           0.2763668007239492,
           0.28170379576899124,
           0.2892642323211629,
           0.2910743107921593,
           0.2913872235860672,
           0.2904759533031931,
           0.29078237102987525,
           0.29139542299934296,
           0.29194708943134495,
           0.2914703905321744,
           0.291136646134173,
           0.28655567224054973,
           0.2781799820531836,
           0.2698223655617829,
           0.2729581031926589,
           0.28364546654849043,
           0.2916091624083245,
           0.292326465955003,
           0.2901681569406126,
           0.28994780341520765,
           0.29123454902041973,
           0.29166606116167687,
           0.2919408660635735,
           0.29181058436246693,
           0.29110466011743713,
           0.292527483951604,
           0.292527483951604,
           0.292527483951604,
           0.292527483951604,
           0.2925170834410249,
           0.292527483951604,
           0.292527483951604,
           0.2923911045893976,
           0.292527483951604,
           0.2922807288066146,
           0.29138796812946804,
           0.29061823957751515,
           0.2910174670753848,
           0.27695763332247575,
           0.2559533007798254,
           0.24910451451146987,
           0.25025894967106765,
           0.2545903882351836,
           0.26255202308219044,
           0.26490448815178763,
           0.267728400966159,
           0.27832573131760796,
           0.2871661574137643,
           0.2909948810771842,
           0.29158545860038354,
           0.2922702371036976,
           0.291882817658402,
           0.2867633840995814,
           0.2824673747590317,
           0.28119898019716394,
           0.28567979831509577,
           0.28906503588522775,
           0.29104116147589215,
           0.2912023633888365,
           0.2920425569309358,
           0.28807483342125195,
           0.28556266042315687,
           0.284648881151152,
           0.28496720331308517,
           0.28682615538383854,
           0.292527483951604,
           0.292494215875256,
           0.292527483951604,
           0.292527483951604,
           0.292527483951604,
           0.292527483951604,
           0.292527483951604,
           0.29243173402478884,
           0.292527483951604,
           0.2917323540921413,
           0.2895269715672861,
           0.2901638618498808,
           0.2911508187370234,
           0.2918905388823042,
           0.28883969508608787,
           0.289142577098839,
           0.28393000428147475,
           0.27651192154640525,
           0.2755263725139366,
           0.25567384482458994,
           0.27012079622241325,
           0.25592620370235,
           0.25165077977631534,
           0.25543360538440724,
           0.25605004561612676,
           0.25691258022945757,
           0.25996574789890625,
           0.26087159177675096,
           0.2655514130859023,
           0.2686025605289667,
           0.27138732151205136,
           0.27726630255832585,
           0.27466565435372403,
           0.2627429050615113,
           0.261886519812872,
           0.26357958868434866,
           0.26670159818955397,
           0.2723127159140724,
           0.28492989021543424,
           0.28528288427008147
          ],
          [
           0.12282573438004397,
           0.1228423219884066,
           0.12282573438004397,
           0.12282573438004397,
           0.12282573438004397,
           0.12286881452363929,
           0.12289696271670997,
           0.12291220059912324,
           0.12285702113580912,
           0.12315207632058586,
           0.12401376046154668,
           0.12446502249879295,
           0.12450844139383374,
           0.1243577294101167,
           0.1242061392125617,
           0.12409192740409344,
           0.12394781938159405,
           0.1238043844579966,
           0.12365965168590255,
           0.12351350858101323,
           0.12338468303943513,
           0.12326339093293978,
           0.12314258713058318,
           0.12299061013615933,
           0.12318817108542675,
           0.1230197654711016,
           0.1231360653622768,
           0.12346034967507208,
           0.12383157579106585,
           0.12376705607045102,
           0.12337107399673136,
           0.12290402943420516,
           0.12327284815451756,
           0.12366236732739089,
           0.12364885074376682,
           0.12355433542600039,
           0.12334298538912371,
           0.123085268311077,
           0.12292599031158495,
           0.12289935034483206,
           0.12282573438004397,
           0.12282573438004397,
           0.12282573438004397,
           0.12282573438004397,
           0.12282573438004397,
           0.12282573438004397,
           0.12282941578062082,
           0.12282573438004397,
           0.12282573438004397,
           0.12293829125818208,
           0.123047608899194,
           0.12295704777100797,
           0.12289407710672229,
           0.12308982231553194,
           0.12416260783579032,
           0.12470727631483715,
           0.124070808853078,
           0.12319488440270786,
           0.12298947425922639,
           0.12295412862539053,
           0.12305719711199982,
           0.12302249430174929,
           0.12295320309267035,
           0.12289100784933975,
           0.12294474244380246,
           0.12298242921684834,
           0.12350531778278201,
           0.12448930933488159,
           0.12550933965308783,
           0.12512199328345164,
           0.12384303426897839,
           0.12292908827195748,
           0.1228483230656846,
           0.12309210280260005,
           0.12311712086441566,
           0.12297136824519152,
           0.12292267253306438,
           0.12289170864503239,
           0.12290638364458185,
           0.1229860439873321,
           0.12282573438004397,
           0.12282573438004397,
           0.12282573438004397,
           0.12282573438004397,
           0.12282690261789628,
           0.12282573438004397,
           0.12282573438004397,
           0.12284105738095602,
           0.12282573438004397,
           0.12285346536533914,
           0.12295404458151703,
           0.12304107695814534,
           0.1229959003140095,
           0.12463605226887722,
           0.12729363422773043,
           0.12822058451002816,
           0.12806208903077332,
           0.12747557377333404,
           0.12642979462958012,
           0.1261284628711985,
           0.12577119103070605,
           0.12447186668295768,
           0.1234350251064333,
           0.1229984540521611,
           0.12293176151301455,
           0.12285464510784824,
           0.12289824622251011,
           0.1234813800711535,
           0.12398099778622915,
           0.12413035414200108,
           0.12360650013884947,
           0.12321758897002702,
           0.12299322152178424,
           0.12297500402606287,
           0.12288025989908076,
           0.12333074808267824,
           0.12362006190319223,
           0.12372609829735529,
           0.12368911077840648,
           0.12347415033108054,
           0.12282573438004397,
           0.12282947140347197,
           0.12282573438004397,
           0.12282573438004397,
           0.12282573438004397,
           0.12282573438004397,
           0.12282573438004397,
           0.12283649148440018,
           0.12282573438004397,
           0.1229151995345456,
           0.12316496746596392,
           0.12309259021995704,
           0.12298082771831356,
           0.12289737654116353,
           0.12324329741101464,
           0.12320874840450839,
           0.12380982160150675,
           0.1246897643331693,
           0.12480892196312517,
           0.12733083946756676,
           0.12547223046931602,
           0.1272972395299692,
           0.12787222866963072,
           0.1273628648606752,
           0.12728076614444797,
           0.12716631166615294,
           0.1267650501616135,
           0.12664714758461829,
           0.12604619118987223,
           0.12566156235032083,
           0.1253153171777829,
           0.12459891916737542,
           0.12491342972639707,
           0.12640521682499659,
           0.12651566173525877,
           0.12629775253939116,
           0.12590054366534706,
           0.12520125320701858,
           0.12369344367243058,
           0.12365248183831251
          ],
          [
           0.20790248445966625,
           0.2078408193419168,
           0.20790248445966625,
           0.20790248445966625,
           0.20790248445966625,
           0.20774238743813997,
           0.20763787831885372,
           0.20758133475084942,
           0.20778619689659208,
           0.20669416715023628,
           0.2035523776789423,
           0.2019346929184425,
           0.20178003238616068,
           0.20231761753663247,
           0.20286044030210854,
           0.20327081747090014,
           0.2037903414273344,
           0.20430935975349368,
           0.20483502639404755,
           0.2053678147337623,
           0.20583914311657328,
           0.20628434938372542,
           0.20672915750425885,
           0.2072907326447226,
           0.20656115034783146,
           0.20718282787142464,
           0.20675321081232007,
           0.20556211438314975,
           0.2042108204430938,
           0.20444474770757315,
           0.2058890258316365,
           0.20761165289775452,
           0.20624958602752086,
           0.20482514512747224,
           0.20487433409999892,
           0.2052187710564214,
           0.20599203772079425,
           0.2069406978066491,
           0.2075301842531454,
           0.2076290170104094,
           0.20790248445966625,
           0.20790248445966625,
           0.20790248445966625,
           0.20790248445966625,
           0.20790248445966625,
           0.20790248445966625,
           0.20788879640276667,
           0.20790248445966625,
           0.20790248445966625,
           0.20748457154573546,
           0.20707985479279722,
           0.2074150492575046,
           0.2076485885436394,
           0.20692387932357287,
           0.20301671161656892,
           0.2010739688517217,
           0.2033468313665646,
           0.20653642410088066,
           0.20729493821450093,
           0.20742586704133134,
           0.20704441203798776,
           0.20717273257048854,
           0.20742929705634933,
           0.20765998127609042,
           0.20746065596284408,
           0.20732102516704262,
           0.20539773527242747,
           0.20184816059927643,
           0.19826203874281587,
           0.19961283091176596,
           0.20416931650803824,
           0.20751869544064455,
           0.20781851664618275,
           0.2069154579595277,
           0.20682310420428965,
           0.2073619922666268,
           0.20754248928959465,
           0.207657379922479,
           0.2076029172160973,
           0.20730763950590428,
           0.20790248445966625,
           0.20790248445966625,
           0.20790248445966625,
           0.20790248445966625,
           0.2078981406158401,
           0.20790248445966625,
           0.20790248445966625,
           0.20784551963493308,
           0.20790248445966625,
           0.20779940832406146,
           0.20742617850368003,
           0.20710400511902802,
           0.2072711474647072,
           0.20132647183400543,
           0.1922082947235545,
           0.1891690324995449,
           0.18968372411664558,
           0.19160617832528148,
           0.1951050230656337,
           0.19613043880482023,
           0.19735640795966414,
           0.20191030210103558,
           0.20565477160150394,
           0.2072616940352129,
           0.20750878244724721,
           0.20779502486778018,
           0.20763311471936255,
           0.20548521479489365,
           0.2036705588528901,
           0.20313261069809002,
           0.20502856596680044,
           0.20645283137030018,
           0.20728106449376998,
           0.2073485249351374,
           0.20769988360904784,
           0.2060369401575465,
           0.20497915853012053,
           0.20459344950456612,
           0.20472787213344154,
           0.20551164628534727,
           0.20790248445966625,
           0.20788858959785345,
           0.20790248445966625,
           0.20790248445966625,
           0.20790248445966625,
           0.20790248445966625,
           0.20790248445966625,
           0.20786249144694602,
           0.20790248445966625,
           0.2075702091697273,
           0.2066466462617143,
           0.2069136580933794,
           0.2073269559917385,
           0.2076363424346737,
           0.20635823852583435,
           0.2064853743422704,
           0.2042896504276137,
           0.20113600946148502,
           0.20071441284425184,
           0.19208494280290567,
           0.1983908724268193,
           0.19219633649968923,
           0.19030295565701635,
           0.19197885661442027,
           0.192250984973896,
           0.19263129900918896,
           0.19397330984098599,
           0.19437021884978276,
           0.19641176777798644,
           0.19773483211666446,
           0.1989369845071189,
           0.20145829887232222,
           0.20034570723834916,
           0.19518836743925183,
           0.1948142502499477,
           0.19555339256614876,
           0.196911253152103,
           0.19933534041696888,
           0.2047121185819298,
           0.20486111828760553
          ],
          [
           0.19738786264797387,
           0.1974263656007566,
           0.19738786264797387,
           0.19738786264797387,
           0.19738786264797387,
           0.19748786453932524,
           0.19755321332596365,
           0.1975885923369272,
           0.19746048701180685,
           0.19814578773017583,
           0.2001513265161951,
           0.20120409837228695,
           0.20130548205937074,
           0.2009536350062224,
           0.20059992878017988,
           0.20033356440853842,
           0.19999763160117837,
           0.19966344015090062,
           0.1993263991548457,
           0.19898625170139173,
           0.19868655905757385,
           0.19840451882755358,
           0.1981237365939083,
           0.19777067284670094,
           0.19822967223748564,
           0.19783838973597134,
           0.19810858163889652,
           0.19886256891107754,
           0.1997267804883443,
           0.19957649631042612,
           0.19865490784649525,
           0.19756962044712195,
           0.19842650525031463,
           0.1993327214900098,
           0.19930125389237582,
           0.19908125801803728,
           0.19858958571390042,
           0.19799055423085485,
           0.19762061069571574,
           0.1975587567444687,
           0.19738786264797387,
           0.19738786264797387,
           0.19738786264797387,
           0.19738786264797387,
           0.19738786264797387,
           0.19738786264797387,
           0.19739640767030187,
           0.19738786264797387,
           0.19738786264797387,
           0.1976491736331208,
           0.19790306621570508,
           0.19769272891288728,
           0.19754651379383276,
           0.19800113461837465,
           0.20049839221808805,
           0.20176996485769758,
           0.2002843237283851,
           0.19824527524240504,
           0.1977680347756809,
           0.19768595004925793,
           0.19792533982953872,
           0.19784472814931223,
           0.19768380078459905,
           0.19753938796352877,
           0.1976641538668822,
           0.19775167292613288,
           0.19896719294315696,
           0.20126080651550607,
           0.2036469417167596,
           0.20273981187733617,
           0.1997534740743487,
           0.19762780407516892,
           0.19744029579670705,
           0.19800643297387566,
           0.19806456139656684,
           0.19772598507004943,
           0.19761290699384743,
           0.19754101497918095,
           0.19757508641809085,
           0.19776006804445054,
           0.19738786264797387,
           0.19738786264797387,
           0.19738786264797387,
           0.19738786264797387,
           0.19739057427170134,
           0.19738786264797387,
           0.19738786264797387,
           0.1974234301281251,
           0.19738786264797387,
           0.19745223276770235,
           0.19768575488295226,
           0.1978878928251029,
           0.19778295941267357,
           0.20160354604884778,
           0.20784163769053005,
           0.21003116093421195,
           0.20965628314605553,
           0.20827083499049306,
           0.2058075529043042,
           0.20509945580151,
           0.20426087904917678,
           0.201220078588549,
           0.19880365552757004,
           0.19778889061531432,
           0.19763401133270217,
           0.1974549713698963,
           0.1975561932689192,
           0.1989114966997947,
           0.20007495900785863,
           0.20042317095520684,
           0.19920266847628365,
           0.19829804770262588,
           0.19777673782361063,
           0.19773442864678578,
           0.19751443529680457,
           0.1985611290204292,
           0.19923423645538096,
           0.1994811124500269,
           0.1993949867079118,
           0.19889467609511974,
           0.19738786264797387,
           0.19739653677923963,
           0.19738786264797387,
           0.19738786264797387,
           0.19738786264797387,
           0.19738786264797387,
           0.19738786264797387,
           0.19741283164316484,
           0.19738786264797387,
           0.1975955554348067,
           0.19817574559594386,
           0.19800756541762954,
           0.19774795356329744,
           0.1975541741095661,
           0.19835780731357283,
           0.19827749897122893,
           0.19967610510781775,
           0.20172904325563648,
           0.20200753852224454,
           0.20792938308596845,
           0.20355998144690748,
           0.20785013999082658,
           0.2092074916140225,
           0.20800492137723084,
           0.20781129206193694,
           0.20754144448305556,
           0.20659624890298176,
           0.206318774713291,
           0.20490625675042068,
           0.20400377421319393,
           0.20319240305882555,
           0.20151679931791622,
           0.20225189138272276,
           0.2057497696011314,
           0.20600946873777412,
           0.2054971758359096,
           0.20456436924290555,
           0.2029253299829368,
           0.1994050752956056,
           0.19930970719654928
          ]
         ]
        }
       ],
       "layout": {
        "shapes": [
         {
          "line": {
           "color": "Red",
           "width": 1
          },
          "type": "line",
          "x0": 40,
          "x1": 40,
          "y0": -0.5,
          "y1": 23.5
         },
         {
          "line": {
           "color": "Red",
           "width": 1
          },
          "type": "line",
          "x0": 80,
          "x1": 80,
          "y0": -0.5,
          "y1": 23.5
         },
         {
          "line": {
           "color": "Red",
           "width": 1
          },
          "type": "line",
          "x0": 120,
          "x1": 120,
          "y0": -0.5,
          "y1": 23.5
         }
        ],
        "template": {
         "data": {
          "bar": [
           {
            "error_x": {
             "color": "#2a3f5f"
            },
            "error_y": {
             "color": "#2a3f5f"
            },
            "marker": {
             "line": {
              "color": "#E5ECF6",
              "width": 0.5
             },
             "pattern": {
              "fillmode": "overlay",
              "size": 10,
              "solidity": 0.2
             }
            },
            "type": "bar"
           }
          ],
          "barpolar": [
           {
            "marker": {
             "line": {
              "color": "#E5ECF6",
              "width": 0.5
             },
             "pattern": {
              "fillmode": "overlay",
              "size": 10,
              "solidity": 0.2
             }
            },
            "type": "barpolar"
           }
          ],
          "carpet": [
           {
            "aaxis": {
             "endlinecolor": "#2a3f5f",
             "gridcolor": "white",
             "linecolor": "white",
             "minorgridcolor": "white",
             "startlinecolor": "#2a3f5f"
            },
            "baxis": {
             "endlinecolor": "#2a3f5f",
             "gridcolor": "white",
             "linecolor": "white",
             "minorgridcolor": "white",
             "startlinecolor": "#2a3f5f"
            },
            "type": "carpet"
           }
          ],
          "choropleth": [
           {
            "colorbar": {
             "outlinewidth": 0,
             "ticks": ""
            },
            "type": "choropleth"
           }
          ],
          "contour": [
           {
            "colorbar": {
             "outlinewidth": 0,
             "ticks": ""
            },
            "colorscale": [
             [
              0,
              "#0d0887"
             ],
             [
              0.1111111111111111,
              "#46039f"
             ],
             [
              0.2222222222222222,
              "#7201a8"
             ],
             [
              0.3333333333333333,
              "#9c179e"
             ],
             [
              0.4444444444444444,
              "#bd3786"
             ],
             [
              0.5555555555555556,
              "#d8576b"
             ],
             [
              0.6666666666666666,
              "#ed7953"
             ],
             [
              0.7777777777777778,
              "#fb9f3a"
             ],
             [
              0.8888888888888888,
              "#fdca26"
             ],
             [
              1,
              "#f0f921"
             ]
            ],
            "type": "contour"
           }
          ],
          "contourcarpet": [
           {
            "colorbar": {
             "outlinewidth": 0,
             "ticks": ""
            },
            "type": "contourcarpet"
           }
          ],
          "heatmap": [
           {
            "colorbar": {
             "outlinewidth": 0,
             "ticks": ""
            },
            "colorscale": [
             [
              0,
              "#0d0887"
             ],
             [
              0.1111111111111111,
              "#46039f"
             ],
             [
              0.2222222222222222,
              "#7201a8"
             ],
             [
              0.3333333333333333,
              "#9c179e"
             ],
             [
              0.4444444444444444,
              "#bd3786"
             ],
             [
              0.5555555555555556,
              "#d8576b"
             ],
             [
              0.6666666666666666,
              "#ed7953"
             ],
             [
              0.7777777777777778,
              "#fb9f3a"
             ],
             [
              0.8888888888888888,
              "#fdca26"
             ],
             [
              1,
              "#f0f921"
             ]
            ],
            "type": "heatmap"
           }
          ],
          "heatmapgl": [
           {
            "colorbar": {
             "outlinewidth": 0,
             "ticks": ""
            },
            "colorscale": [
             [
              0,
              "#0d0887"
             ],
             [
              0.1111111111111111,
              "#46039f"
             ],
             [
              0.2222222222222222,
              "#7201a8"
             ],
             [
              0.3333333333333333,
              "#9c179e"
             ],
             [
              0.4444444444444444,
              "#bd3786"
             ],
             [
              0.5555555555555556,
              "#d8576b"
             ],
             [
              0.6666666666666666,
              "#ed7953"
             ],
             [
              0.7777777777777778,
              "#fb9f3a"
             ],
             [
              0.8888888888888888,
              "#fdca26"
             ],
             [
              1,
              "#f0f921"
             ]
            ],
            "type": "heatmapgl"
           }
          ],
          "histogram": [
           {
            "marker": {
             "pattern": {
              "fillmode": "overlay",
              "size": 10,
              "solidity": 0.2
             }
            },
            "type": "histogram"
           }
          ],
          "histogram2d": [
           {
            "colorbar": {
             "outlinewidth": 0,
             "ticks": ""
            },
            "colorscale": [
             [
              0,
              "#0d0887"
             ],
             [
              0.1111111111111111,
              "#46039f"
             ],
             [
              0.2222222222222222,
              "#7201a8"
             ],
             [
              0.3333333333333333,
              "#9c179e"
             ],
             [
              0.4444444444444444,
              "#bd3786"
             ],
             [
              0.5555555555555556,
              "#d8576b"
             ],
             [
              0.6666666666666666,
              "#ed7953"
             ],
             [
              0.7777777777777778,
              "#fb9f3a"
             ],
             [
              0.8888888888888888,
              "#fdca26"
             ],
             [
              1,
              "#f0f921"
             ]
            ],
            "type": "histogram2d"
           }
          ],
          "histogram2dcontour": [
           {
            "colorbar": {
             "outlinewidth": 0,
             "ticks": ""
            },
            "colorscale": [
             [
              0,
              "#0d0887"
             ],
             [
              0.1111111111111111,
              "#46039f"
             ],
             [
              0.2222222222222222,
              "#7201a8"
             ],
             [
              0.3333333333333333,
              "#9c179e"
             ],
             [
              0.4444444444444444,
              "#bd3786"
             ],
             [
              0.5555555555555556,
              "#d8576b"
             ],
             [
              0.6666666666666666,
              "#ed7953"
             ],
             [
              0.7777777777777778,
              "#fb9f3a"
             ],
             [
              0.8888888888888888,
              "#fdca26"
             ],
             [
              1,
              "#f0f921"
             ]
            ],
            "type": "histogram2dcontour"
           }
          ],
          "mesh3d": [
           {
            "colorbar": {
             "outlinewidth": 0,
             "ticks": ""
            },
            "type": "mesh3d"
           }
          ],
          "parcoords": [
           {
            "line": {
             "colorbar": {
              "outlinewidth": 0,
              "ticks": ""
             }
            },
            "type": "parcoords"
           }
          ],
          "pie": [
           {
            "automargin": true,
            "type": "pie"
           }
          ],
          "scatter": [
           {
            "fillpattern": {
             "fillmode": "overlay",
             "size": 10,
             "solidity": 0.2
            },
            "type": "scatter"
           }
          ],
          "scatter3d": [
           {
            "line": {
             "colorbar": {
              "outlinewidth": 0,
              "ticks": ""
             }
            },
            "marker": {
             "colorbar": {
              "outlinewidth": 0,
              "ticks": ""
             }
            },
            "type": "scatter3d"
           }
          ],
          "scattercarpet": [
           {
            "marker": {
             "colorbar": {
              "outlinewidth": 0,
              "ticks": ""
             }
            },
            "type": "scattercarpet"
           }
          ],
          "scattergeo": [
           {
            "marker": {
             "colorbar": {
              "outlinewidth": 0,
              "ticks": ""
             }
            },
            "type": "scattergeo"
           }
          ],
          "scattergl": [
           {
            "marker": {
             "colorbar": {
              "outlinewidth": 0,
              "ticks": ""
             }
            },
            "type": "scattergl"
           }
          ],
          "scattermapbox": [
           {
            "marker": {
             "colorbar": {
              "outlinewidth": 0,
              "ticks": ""
             }
            },
            "type": "scattermapbox"
           }
          ],
          "scatterpolar": [
           {
            "marker": {
             "colorbar": {
              "outlinewidth": 0,
              "ticks": ""
             }
            },
            "type": "scatterpolar"
           }
          ],
          "scatterpolargl": [
           {
            "marker": {
             "colorbar": {
              "outlinewidth": 0,
              "ticks": ""
             }
            },
            "type": "scatterpolargl"
           }
          ],
          "scatterternary": [
           {
            "marker": {
             "colorbar": {
              "outlinewidth": 0,
              "ticks": ""
             }
            },
            "type": "scatterternary"
           }
          ],
          "surface": [
           {
            "colorbar": {
             "outlinewidth": 0,
             "ticks": ""
            },
            "colorscale": [
             [
              0,
              "#0d0887"
             ],
             [
              0.1111111111111111,
              "#46039f"
             ],
             [
              0.2222222222222222,
              "#7201a8"
             ],
             [
              0.3333333333333333,
              "#9c179e"
             ],
             [
              0.4444444444444444,
              "#bd3786"
             ],
             [
              0.5555555555555556,
              "#d8576b"
             ],
             [
              0.6666666666666666,
              "#ed7953"
             ],
             [
              0.7777777777777778,
              "#fb9f3a"
             ],
             [
              0.8888888888888888,
              "#fdca26"
             ],
             [
              1,
              "#f0f921"
             ]
            ],
            "type": "surface"
           }
          ],
          "table": [
           {
            "cells": {
             "fill": {
              "color": "#EBF0F8"
             },
             "line": {
              "color": "white"
             }
            },
            "header": {
             "fill": {
              "color": "#C8D4E3"
             },
             "line": {
              "color": "white"
             }
            },
            "type": "table"
           }
          ]
         },
         "layout": {
          "annotationdefaults": {
           "arrowcolor": "#2a3f5f",
           "arrowhead": 0,
           "arrowwidth": 1
          },
          "autotypenumbers": "strict",
          "coloraxis": {
           "colorbar": {
            "outlinewidth": 0,
            "ticks": ""
           }
          },
          "colorscale": {
           "diverging": [
            [
             0,
             "#8e0152"
            ],
            [
             0.1,
             "#c51b7d"
            ],
            [
             0.2,
             "#de77ae"
            ],
            [
             0.3,
             "#f1b6da"
            ],
            [
             0.4,
             "#fde0ef"
            ],
            [
             0.5,
             "#f7f7f7"
            ],
            [
             0.6,
             "#e6f5d0"
            ],
            [
             0.7,
             "#b8e186"
            ],
            [
             0.8,
             "#7fbc41"
            ],
            [
             0.9,
             "#4d9221"
            ],
            [
             1,
             "#276419"
            ]
           ],
           "sequential": [
            [
             0,
             "#0d0887"
            ],
            [
             0.1111111111111111,
             "#46039f"
            ],
            [
             0.2222222222222222,
             "#7201a8"
            ],
            [
             0.3333333333333333,
             "#9c179e"
            ],
            [
             0.4444444444444444,
             "#bd3786"
            ],
            [
             0.5555555555555556,
             "#d8576b"
            ],
            [
             0.6666666666666666,
             "#ed7953"
            ],
            [
             0.7777777777777778,
             "#fb9f3a"
            ],
            [
             0.8888888888888888,
             "#fdca26"
            ],
            [
             1,
             "#f0f921"
            ]
           ],
           "sequentialminus": [
            [
             0,
             "#0d0887"
            ],
            [
             0.1111111111111111,
             "#46039f"
            ],
            [
             0.2222222222222222,
             "#7201a8"
            ],
            [
             0.3333333333333333,
             "#9c179e"
            ],
            [
             0.4444444444444444,
             "#bd3786"
            ],
            [
             0.5555555555555556,
             "#d8576b"
            ],
            [
             0.6666666666666666,
             "#ed7953"
            ],
            [
             0.7777777777777778,
             "#fb9f3a"
            ],
            [
             0.8888888888888888,
             "#fdca26"
            ],
            [
             1,
             "#f0f921"
            ]
           ]
          },
          "colorway": [
           "#636efa",
           "#EF553B",
           "#00cc96",
           "#ab63fa",
           "#FFA15A",
           "#19d3f3",
           "#FF6692",
           "#B6E880",
           "#FF97FF",
           "#FECB52"
          ],
          "font": {
           "color": "#2a3f5f"
          },
          "geo": {
           "bgcolor": "white",
           "lakecolor": "white",
           "landcolor": "#E5ECF6",
           "showlakes": true,
           "showland": true,
           "subunitcolor": "white"
          },
          "hoverlabel": {
           "align": "left"
          },
          "hovermode": "closest",
          "mapbox": {
           "style": "light"
          },
          "paper_bgcolor": "white",
          "plot_bgcolor": "#E5ECF6",
          "polar": {
           "angularaxis": {
            "gridcolor": "white",
            "linecolor": "white",
            "ticks": ""
           },
           "bgcolor": "#E5ECF6",
           "radialaxis": {
            "gridcolor": "white",
            "linecolor": "white",
            "ticks": ""
           }
          },
          "scene": {
           "xaxis": {
            "backgroundcolor": "#E5ECF6",
            "gridcolor": "white",
            "gridwidth": 2,
            "linecolor": "white",
            "showbackground": true,
            "ticks": "",
            "zerolinecolor": "white"
           },
           "yaxis": {
            "backgroundcolor": "#E5ECF6",
            "gridcolor": "white",
            "gridwidth": 2,
            "linecolor": "white",
            "showbackground": true,
            "ticks": "",
            "zerolinecolor": "white"
           },
           "zaxis": {
            "backgroundcolor": "#E5ECF6",
            "gridcolor": "white",
            "gridwidth": 2,
            "linecolor": "white",
            "showbackground": true,
            "ticks": "",
            "zerolinecolor": "white"
           }
          },
          "shapedefaults": {
           "line": {
            "color": "#2a3f5f"
           }
          },
          "ternary": {
           "aaxis": {
            "gridcolor": "white",
            "linecolor": "white",
            "ticks": ""
           },
           "baxis": {
            "gridcolor": "white",
            "linecolor": "white",
            "ticks": ""
           },
           "bgcolor": "#E5ECF6",
           "caxis": {
            "gridcolor": "white",
            "linecolor": "white",
            "ticks": ""
           }
          },
          "title": {
           "x": 0.05
          },
          "xaxis": {
           "automargin": true,
           "gridcolor": "white",
           "linecolor": "white",
           "ticks": "",
           "title": {
            "standoff": 15
           },
           "zerolinecolor": "white",
           "zerolinewidth": 2
          },
          "yaxis": {
           "automargin": true,
           "gridcolor": "white",
           "linecolor": "white",
           "ticks": "",
           "title": {
            "standoff": 15
           },
           "zerolinecolor": "white",
           "zerolinewidth": 2
          }
         }
        },
        "title": {
         "text": "Predicted number of spikes"
        },
        "xaxis": {
         "title": {
          "text": "Time bin"
         }
        },
        "yaxis": {
         "title": {
          "text": "Neuron"
         }
        }
       }
      },
      "text/html": [
       "<div>                            <div id=\"2025832e-b96a-4709-b20f-905ad4767809\" class=\"plotly-graph-div\" style=\"height:525px; width:100%;\"></div>            <script type=\"text/javascript\">                require([\"plotly\"], function(Plotly) {                    window.PLOTLYENV=window.PLOTLYENV || {};                                    if (document.getElementById(\"2025832e-b96a-4709-b20f-905ad4767809\")) {                    Plotly.newPlot(                        \"2025832e-b96a-4709-b20f-905ad4767809\",                        [{\"colorscale\":[[0.0,\"#440154\"],[0.1111111111111111,\"#482878\"],[0.2222222222222222,\"#3e4989\"],[0.3333333333333333,\"#31688e\"],[0.4444444444444444,\"#26828e\"],[0.5555555555555556,\"#1f9e89\"],[0.6666666666666666,\"#35b779\"],[0.7777777777777778,\"#6ece58\"],[0.8888888888888888,\"#b5de2b\"],[1.0,\"#fde725\"]],\"z\":[[0.3066173012137974,0.30761926833463743,0.3066173012137974,0.3066173012137974,0.3066173012137974,0.3092260507695153,0.31094206365029725,0.31187482320682863,0.30850978620598274,0.32691662180638525,0.38689622969692505,0.42238098583395084,0.42595514762926384,0.41367169641983365,0.4016595957916343,0.39283099890946965,0.38195662686900966,0.371419934120019,0.36107063177348814,0.3509012747801612,0.34216514525577585,0.3341307303755731,0.3263085987301181,0.31671708998754955,0.329239343717561,0.3185359248241715,0.32589134291654476,0.34727077261809874,0.3733957555486577,0.36872383435376616,0.3412545390357593,0.3113743070367704,0.3347506207091889,0.3612622470488661,0.3603094827403376,0.35371422850872036,0.3393824183234454,0.32265886224871543,0.31272124715789873,0.31108804111612437,0.3066173012137974,0.3066173012137974,0.3066173012137974,0.3066173012137974,0.3066173012137974,0.3066173012137974,0.30683940410094623,0.3066173012137974,0.3066173012137974,0.31347814737127194,0.32028226145435856,0.3146356520318345,0.3107657276496243,0.32294739834493646,0.39827240982474443,0.44269656903146565,0.3912190405422953,0.3296730913127886,0.31664643098848494,0.3144552364770326,0.3208857546728238,0.31870667248716805,0.31439805534623255,0.31057827439547464,0.3138758025627222,0.31620852052359955,0.35033952054225986,0.424376674028462,0.5168583153500977,0.4796676092166344,0.37423138439699566,0.31291170522775413,0.307982533315456,0.32309198011468865,0.32468219276029814,0.3155221562875096,0.31251739822542673,0.3106210655664953,0.3115184327126148,0.31643313728037376,0.3066173012137974,0.3066173012137974,0.3066173012137974,0.3066173012137974,0.3066877655713499,0.3066173012137974,0.3066173012137974,0.3075427698932656,0.3066173012137974,0.30829414078431705,0.3144500436788934,0.31987175675935114,0.3170463729367966,0.43662844379667637,0.7269140814704136,0.8661845376905832,0.8406840455818417,0.7524346784323857,0.6166491220964118,0.5821048192296085,0.543549034274022,0.422942471130931,0.3455539134523647,0.31720544577850013,0.31307614154386465,0.30836567214458704,0.31102052789292767,0.34870272362268484,0.3844343940195713,0.3957804207916565,0.3573398221500954,0.33114409668599526,0.31687959263276394,0.31574760894185644,0.30992270306977676,0.33856987793041704,0.35828822153579687,0.3657871839247819,0.3631544752999644,0.34820981633785514,0.3066173012137974,0.30684276107025793,0.3066173012137974,0.3066173012137974,0.3066173012137974,0.3066173012137974,0.3066173012137974,0.3072667221284502,0.3066173012137974,0.31205871326307527,0.3277443664438374,0.323122890185063,0.3161090545214394,0.3109673598052853,0.3328173155792442,0.33057057917073984,0.37181421340082627,0.44119713719943826,0.45149672888019926,0.7320644007490451,0.5131789428088103,0.727411639360422,0.8110840571375402,0.7365256718655422,0.7251408514826188,0.7095503603419374,0.6573908457188443,0.6427771487515177,0.5730005588553799,0.5322175331612877,0.4978966861405555,0.43349649185532424,0.46071941054550797,0.6137595232613287,0.6268471882576618,0.6012767550918459,0.5572167704397288,0.48706251018848695,0.36346194142882665,0.3605651964167761],[1.6751281755534555,1.6814102713504178,1.6751281755534555,1.6751281755534555,1.6751281755534555,1.6914907077039518,1.7022649460562753,1.7081250932631131,1.6869961383269507,1.8029787778725117,2.1873976297074944,2.419095534337634,2.4425966313685454,2.361952608482715,2.283430545971146,2.225938430052992,2.155385812359349,2.087305747439504,2.0207129052245136,1.955551300066832,1.8997947942587199,1.8487015602865813,1.7991318913145269,1.7385884421325675,1.8176840441539737,1.750048774478983,1.7964925764824575,1.9323552482180237,2.1000505678329904,2.0699309693078662,1.8939950136922898,1.7049802330808654,1.8526372407081049,2.021943329251594,2.0158262701975764,1.9735482099148391,1.8820783783244877,1.7760627157734739,1.713445064828881,1.7031818920718897,1.6751281755534555,1.6751281755534555,1.6751281755534555,1.6751281755534555,1.6751281755534555,1.6751281755534555,1.6765204473050783,1.6751281755534555,1.6751281755534555,1.718204156331971,1.761061379268487,1.7254853653182582,1.7011573898705543,1.7778850947831841,2.261350834547548,2.5530597861065774,2.2154617182281022,1.820431818924964,1.7381434207473443,1.7243502127780457,1.76486913870234,1.7511251378222703,1.723990456141701,1.6999801084006534,1.7207051349066407,1.7353857188668826,1.9519598103671356,2.432214136042925,3.0495641036350913,2.799161682372411,2.105443694281512,1.7146424307867052,1.6836886017956778,1.7787983559830247,1.7888470177000702,1.7310645340006614,1.7121636326519913,1.7002488448631605,1.7058857321084766,1.736800152502999,1.6751281755534555,1.6751281755534555,1.6751281755534555,1.6751281755534555,1.6755698715727463,1.6751281755534555,1.6751281755534555,1.6809305378579134,1.6751281755534555,1.685643261478113,1.724317541749649,1.7584718909387802,1.7406625103500164,2.512948730484657,4.509966532978797,5.514649229313924,5.328783091281328,4.692098925337436,3.7342300190068918,3.495223864229034,3.2309265408785794,2.4227855211448457,1.9213982845505682,1.741664582809535,1.7156762903671838,1.6860920064074967,1.7027578051671688,1.9415000417780188,2.17143576815693,2.245124198478482,1.9967753893656062,1.8297545464084957,1.7396119646177959,1.7324837773140744,1.695863681742503,1.876909314304252,2.0028570076669707,2.0510272757439463,2.0340990994527837,1.9383515881440574,1.6751281755534555,1.6765414919059947,1.6751281755534555,1.6751281755534555,1.6751281755534555,1.6751281755534555,1.6751281755534555,1.6791995460918538,1.6751281755534555,1.709280704385638,1.8082175099183568,1.778993609491108,1.734759419032016,1.7024238373295095,1.8403662530903555,1.8261190618302943,2.089848206796903,2.5431407764330127,2.611373762531559,4.546647926372171,3.0246693990846656,4.513508552903802,5.114077920664574,4.578452568347302,4.497346152708936,4.3865827539742055,4.018655240555022,3.9163268741259722,3.4325753522859843,3.153765246079658,2.9215525235232285,2.4922781866945085,2.6726675186362945,3.714160101308355,3.805171848724476,3.627620778410265,3.324311800657897,2.8487302144023676,2.036075160323977,2.0174678020591723],[0.11327398966798498,0.11335134508677093,0.11327398966798498,0.11327398966798498,0.11327398966798498,0.11347497948243086,0.11360645894487152,0.11367768565611351,0.11341992917879337,0.11480366994368181,0.11892247238806618,0.12112628386397664,0.1213400427838896,0.12059935628133302,0.1198580168311873,0.11930189171041833,0.11860315020430078,0.1179109361443117,0.11721574744038085,0.11651712458648325,0.11590406028640168,0.11532921430989491,0.1147589581039959,0.11404476343674552,0.11497387151356228,0.11418149771190957,0.11472823647305475,0.1162638337076059,0.11804191137893053,0.11773132263468004,0.11583944800653849,0.11363948657823908,0.11537395303105737,0.11722876102474707,0.11716399987965422,0.11671195619410024,0.1157061817892752,0.11448917615478792,0.11374217403375035,0.11361761711254376,0.11327398966798498,0.11327398966798498,0.11327398966798498,0.11327398966798498,0.11327398966798498,0.11327398966798498,0.11329115402399094,0.11327398966798498,0.11327398966798498,0.11379972487523043,0.11431220207041942,0.11388752349844132,0.11359297471816082,0.11451059182162149,0.11964580723675815,0.1223228119293542,0.11919928747959613,0.11500554986165741,0.11403943899896787,0.11387385550406255,0.11435723942899258,0.11419430225760012,0.11386952225877778,0.11357863373081059,0.11382991653599905,0.1140064197256614,0.1164780683540212,0.12124581500365127,0.12635216474897193,0.12439315907417019,0.11809713952513673,0.11375666585859281,0.11337934122411573,0.11452131725029957,0.11463903338682158,0.113954593744226,0.11372665557274933,0.11358190804383625,0.11365049113347937,0.11402336076561047,0.11327398966798498,0.11327398966798498,0.11327398966798498,0.11327398966798498,0.11327943629572132,0.11327398966798498,0.11327398966798498,0.11334544616620579,0.11327398966798498,0.11340333541746574,0.11387346201416808,0.11428152865485021,0.11406956384092186,0.12197004604017105,0.1356984657045204,0.14076819261985132,0.1398907426501946,0.13668180005656907,0.13110677211205982,0.12953471243020495,0.1276904415143465,0.12115995892548498,0.11614332296056849,0.11408153733791832,0.11376917209639624,0.1134088407216208,0.11361245707829307,0.11636398621052728,0.11876373179971311,0.11948876929999191,0.11696127393672699,0.11511273852691382,0.1140570050967984,0.11397162704378352,0.1135284257932543,0.11564816044439251,0.1170261614015844,0.11753449815982003,0.11735697982930404,0.11632954840597444,0.11327398966798498,0.1132914133789019,0.11327398966798498,0.11327398966798498,0.11327398966798498,0.11327398966798498,0.11327398966798498,0.11332415001688417,0.11327398966798498,0.11369170785248432,0.11486443374476706,0.11452360974234439,0.11399891476302403,0.1136083928190071,0.11523420526439415,0.11507099253720143,0.11793711645208685,0.12223600097826368,0.12282767013934255,0.1358990869658782,0.12616341999239583,0.13571789611998183,0.13884543439962407,0.13607196750348718,0.13562913265360302,0.13501370309022873,0.13287376165856976,0.1322501830886117,0.1291081365925495,0.12712877174954815,0.12536782593524592,0.12178645326538862,0.12334848541702735,0.1309779783561152,0.13155753464338105,0.13041603050677864,0.12835572292380626,0.12479202003795653,0.11737776404247437,0.11718139449136022],[0.6205199103318952,0.6216492775836688,0.6205199103318952,0.6205199103318952,0.6205199103318952,0.6234569688600243,0.6253829632697019,0.6264278871019261,0.6226516588882853,0.6430915996346709,0.7063955455496121,0.741803524907736,0.7452956058792384,0.7332390481675322,0.7212945845402926,0.7124145902646678,0.7013545668847446,0.6905042284916332,0.6797133976865317,0.6689759933037328,0.6596413793450767,0.6509629810156017,0.6424246836021137,0.6318303525700607,0.6456342596874399,0.6338501499671737,0.6419666941939687,0.6651094137864554,0.6925491417344993,0.6877060651903417,0.658662351241973,0.6258673561510095,0.6516358227294787,0.6799144222671857,0.678914405534127,0.6719597012228664,0.6566459219422632,0.6384098168944753,0.6273748969182651,0.6255465860033611,0.6205199103318952,0.6205199103318952,0.6205199103318952,0.6205199103318952,0.6205199103318952,0.6205199103318952,0.6207703943571696,0.6205199103318952,0.6205199103318952,0.6282207838477619,0.6357846405665962,0.6295126268034943,0.6251852670124182,0.6387279483092643,0.7178979952209299,0.761482720972926,0.7107837468640742,0.6461081978988078,0.6317517830166729,0.6293114110451002,0.6364520693418059,0.6340395010550138,0.629247626807962,0.6249750523696402,0.6286648280314933,0.6312646735503058,0.6683788723915368,0.7437549875510917,0.8301395761579838,0.7962973836016514,0.6934125497744116,0.6275878318790007,0.6220583294210643,0.6388873125994532,0.6406380356136715,0.6305005954765573,0.6271469271642466,0.6250230443763157,0.6260288041891147,0.6315145631507715,0.6205199103318952,0.6205199103318952,0.6205199103318952,0.6205199103318952,0.6205993875843441,0.6205199103318952,0.6205199103318952,0.6215631098320579,0.6205199103318952,0.6224090425627755,0.6293056188100885,0.635330327845184,0.632196397762991,0.7556473422674808,1.0039282957169533,1.1069629569135386,1.0886790644759752,1.0234229405173398,0.9159717447336252,0.8870078827270843,0.8537663805020735,0.7423529792157086,0.6632746845990566,0.6323731697411025,0.627771627988676,0.622489528717291,0.6254709162328083,0.6666366058491896,0.7038867692710616,0.7153909173480879,0.6757899298604836,0.647713453554867,0.6320110185934661,0.6307516561573052,0.6242394366946189,0.655769216768129,0.6767890163414058,0.6846479203429162,0.6818970404864331,0.6661112284766123,0.6205199103318952,0.6207741796767962,0.6205199103318952,0.6205199103318952,0.6205199103318952,0.6205199103318952,0.6205199103318952,0.6212520910482294,0.6205199103318952,0.6266337266036476,0.6439986375488725,0.6389213789221175,0.6311539909916609,0.6254113195744335,0.6495355454191227,0.6470879705215937,0.6909126790247474,0.7600441113569688,0.7698828132275879,1.0078866157425694,0.8268406257066022,1.004311238445722,1.0671450886335703,1.0113054098204406,1.0025625943849927,0.9904908934170665,0.9492238530881097,0.9374044389946922,0.8792486386590794,0.8437998597274634,0.8130249772041251,0.7526214748765229,0.7786088069934006,0.9135769457058309,0.9243841118113331,0.9031738183404437,0.8656661501215366,0.8031165328206081,0.6822187617035828,0.679182916150535],[0.24930782004885058,0.24936837178364105,0.24930782004885058,0.24930782004885058,0.24930782004885058,0.24946509419876234,0.24956787955047977,0.24962352972428603,0.24942203529852472,0.25050030409045315,0.25366111275521613,0.2553234376004575,0.2554836350035274,0.25492776269464085,0.25436919353431314,0.25394871301007776,0.2534186077234227,0.25289146682211117,0.2523600501469252,0.25182395873775243,0.25135181245495547,0.25090763580813125,0.2504655940453668,0.24990997578968216,0.2506323528773038,0.25001652338147723,0.2504417396253824,0.25162908340204027,0.2529913608664874,0.2527543603421527,0.2513019582148717,0.2495936871797517,0.25094225600286624,0.25237001662469244,0.252320412126465,0.2519736714161028,0.25119907461762064,0.2502559757371685,0.2496738957936205,0.24957659902808843,0.24930782004885058,0.24930782004885058,0.24930782004885058,0.24930782004885058,0.24930782004885058,0.24930782004885058,0.24932125814294895,0.24930782004885058,0.24930782004885058,0.24971882804463766,0.25011829545668335,0.24978734775776054,0.24955734165284887,0.25027262715118337,0.25420889263317314,0.25621782177214425,0.25387099709357047,0.2506569162285265,0.24990582515806845,0.24977668323249114,0.2501533461270355,0.2500264968706509,0.24977330202265205,0.24954613331400374,0.24974239403113976,0.2498800824051734,0.251793927710113,0.2554130402810817,0.2591888866627294,0.25775214979248046,0.25303346164615576,0.24968521152223835,0.24939027984329962,0.2502809657850932,0.2503724527877467,0.24983966772607735,0.24966177740129467,0.24954869246567404,0.24960228501145024,0.2498932907156874,0.24930782004885058,0.24930782004885058,0.24930782004885058,0.24930782004885058,0.2493120843938034,0.24930782004885058,0.24930782004885058,0.24936375520563422,0.24930782004885058,0.24940905345370679,0.24977637619769688,0.25009441854190184,0.24992930714217404,0.255954723479244,0.26585288680963687,0.269344482560906,0.26874603552104415,0.2665366132258576,0.2626172326358876,0.2614926843074979,0.26016214816880606,0.2553486867907187,0.2515362695704251,0.24993863924225243,0.24969497608781735,0.24941336056972396,0.2495725668214358,0.25170617076474516,0.2535406118119584,0.25409014985399436,0.25216501770948135,0.25073999787030526,0.2499195182244644,0.24985295185520126,0.24950688562416465,0.2511542573795273,0.2522147744147977,0.2526039611749459,0.2524681751469152,0.2516796688168596,0.24930782004885058,0.24932146118365867,0.24930782004885058,0.24930782004885058,0.24930782004885058,0.24930782004885058,0.24930782004885058,0.2493470872520736,0.24930782004885058,0.24963448276604522,0.2505474614028109,0.25028274804969797,0.24987423065555425,0.24956939080337992,0.2508340861860101,0.25070764659584077,0.2529114401041077,0.2561531222066609,0.2565935038471481,0.2659926401967428,0.2590510885254181,0.2658664279162386,0.26802993903201405,0.26611296272818025,0.2658045582438956,0.2653748740466926,0.26387089903665223,0.26342970782038894,0.2611860246908417,0.259754478074658,0.2584687794767653,0.2558176031303568,0.2569800190492629,0.26252542981068766,0.2629380746283701,0.2621241974111165,0.26064352960146486,0.2580458504794278,0.2524840800924962,0.2523337374518678],[0.14965836620022815,0.14973825368206745,0.14965836620022815,0.14965836620022815,0.14965836620022815,0.1498659102798243,0.15000163386222712,0.15007514543195022,0.1498090727742262,0.1512359191329034,0.15546105024669574,0.15770859805997015,0.1579261220577795,0.1571720310403023,0.1564162622751238,0.1558486429595485,0.1551346400614723,0.1544264012293814,0.15371420484866002,0.15299756082848162,0.15236790941293815,0.1517768496422535,0.1511898733639151,0.15045383933339343,0.15141116268766366,0.15059483249921235,0.15115823291665567,0.1527375047752378,0.15456047800799624,0.15424248152765463,0.15230150668793624,0.150035722228834,0.1518228732787676,0.15372754526122037,0.15366115448044526,0.15319751225196282,0.15216452204168596,0.1509119595937447,0.1501416938392857,0.1500131506335457,0.14965836620022815,0.14965836620022815,0.14965836620022815,0.14965836620022815,0.14965836620022815,0.14965836620022815,0.1496760934222273,0.14965836620022815,0.14965836620022815,0.1502010761420152,0.15072957348391267,0.15029165618603502,0.14998771594698346,0.15093402599512742,0.1561997346291539,0.15892512800848058,0.1557438550223856,0.15144377321008295,0.15044834830809714,0.1502775561977873,0.15077599396828748,0.15060803398287603,0.1502730859178018,0.14997291331966217,0.15023222598130853,0.1504142946996693,0.15295746949192493,0.1578302448989775,0.16300293227657664,0.16102397275965272,0.1546170042431799,0.15015664746040683,0.14976716327952658,0.15094507698717483,0.15106635147900982,0.1503608409174999,0.1501256804061087,0.1499762930695826,0.15004707973194564,0.15043176668985853,0.14965836620022815,0.14965836620022815,0.14965836620022815,0.14965836620022815,0.14966399150123205,0.14965836620022815,0.14965836620022815,0.14973216209228069,0.14965836620022815,0.14979193911725125,0.15027715026568747,0.1506979557829893,0.15047941493905517,0.15856673619443373,0.17235448361149588,0.1773678992980715,0.1765030538470794,0.17333004769104376,0.1677784057757073,0.16620369687913614,0.1643509885976213,0.15774287181972374,0.15261373188600327,0.150491762264543,0.15016955188753503,0.1497976236029825,0.15000782479566777,0.1528403470300091,0.15529881003569965,0.15603944730484537,0.15345327537242487,0.15155410149618567,0.1504664637902556,0.1503784098007811,0.14992108596106923,0.1521048710103149,0.15351982078738674,0.15404086788279756,0.15385896692675838,0.1528049865248728,0.14965836620022815,0.14967636127759604,0.14965836620022815,0.14965836620022815,0.14965836620022815,0.14965836620022815,0.14965836620022815,0.14971016979698257,0.14965836620022815,0.1500896162571395,0.15129848948201408,0.1509474390370101,0.15040655434236852,0.15000362990532262,0.1516790989673744,0.15151113540843614,0.15445320409548793,0.15883695354519883,0.15943764555588688,0.17255364452676672,0.16281255810891615,0.17237377540024723,0.17547121400214402,0.17272521517023623,0.1722856403033786,0.17167422060789164,0.16954346241605117,0.16892115444518305,0.16577568424361286,0.16378559179756738,0.16200941100861102,0.1583801259768225,0.15996588063426842,0.1676495505976075,0.16822916593879317,0.16708701068169984,0.16501998281413457,0.16142744467517572,0.15388026736951457,0.1536789875931043],[0.4553305966707215,0.45584929966501747,0.4553305966707215,0.4553305966707215,0.4553305966707215,0.45667881497242274,0.4575616285399636,0.45804016246599694,0.45630938469169324,0.465631623219654,0.49382461297018554,0.5091809975484632,0.5106804965492509,0.5054921938274254,0.5003205800737325,0.49645501925237984,0.49161518102874546,0.4868392923897128,0.4820616867174523,0.4772795041292596,0.4730987235668588,0.46919196256334195,0.4653292208920145,0.4605095349960176,0.4667834774269839,0.4614307199493139,0.46512148499541894,0.47555040636818796,0.4877415158390226,0.4856031117623272,0.472658959521449,0.4577834985243716,0.46949554973231056,0.48215094778106155,0.48170681213989963,0.4786112371286364,0.4717524403562054,0.4635062577418897,0.45847359789330455,0.4576365810309926,0.4553305966707215,0.4553305966707215,0.4553305966707215,0.4553305966707215,0.4553305966707215,0.4553305966707215,0.4554456710112555,0.4553305966707215,0.4553305966707215,0.458860543761695,0.4623119699760638,0.45945111382612397,0.45747105782810366,0.46365086239500125,0.4988441196311249,0.5175972260206216,0.4957431414007289,0.46699798921737595,0.46047367893012003,0.45935915722276094,0.46261578199698117,0.4615170224890446,0.4593300052142942,0.4573747403130913,0.4590635911211701,0.46025134403246376,0.47701272175238835,0.5100192798168302,0.5463437553563364,0.5322899648116565,0.4881221556088265,0.4585710220665519,0.45603708467124504,0.46372329031708615,0.46451851518136095,0.4599024610856101,0.45836928114429226,0.45739673067032677,0.4578574334737335,0.4603654109599446,0.4553305966707215,0.4553305966707215,0.4553305966707215,0.4553305966707215,0.45536711102924415,0.4553305966707215,0.4553305966707215,0.4558097364124459,0.4553305966707215,0.4561980511497083,0.459356509979762,0.46210509967451263,0.4606765617111366,0.5151101736073633,0.6153943128594788,0.6542144785926328,0.6474276801943056,0.622849538006485,0.581059822879259,0.5694866445890376,0.5560286056226221,0.5094171078165471,0.47472861849538783,0.46075720995930125,0.4586551043986598,0.4562349870192148,0.4576019190461911,0.4762338000756924,0.4927257702432822,0.497752644262245,0.4803175657158619,0.46772411617161136,0.46059197756763587,0.46001711442978754,0.45703759573167413,0.4713579784806297,0.48076205366414326,0.4842499229922612,0.48303076304618453,0.4759987683232759,0.4553305966707215,0.4554474098838329,0.4553305966707215,0.4553305966707215,0.4553305966707215,0.4553305966707215,0.4553305966707215,0.45566691749650257,0.4553305966707215,0.4581343936482127,0.4660427168408639,0.4637387719115396,0.4602008154493754,0.4575746185539862,0.4685475127860372,0.46744126308567524,0.4870195820618932,0.516984750909041,0.5211648909026861,0.6169124190718152,0.5449833326489488,0.615541277806499,0.6393795816003761,0.6182218115625169,0.6148700161542505,0.6102239833551968,0.5941790742369015,0.5895358431788725,0.5663623781988151,0.5519556134987085,0.5392638377286505,0.5138177152862492,0.5248555942491591,0.5801081659335328,0.5843954228591769,0.5759632452288662,0.5608684443340021,0.5351394750052525,0.4831734412081769,0.48182608928515347],[0.19567332095431605,0.19579171943494691,0.19567332095431605,0.19567332095431605,0.19567332095431605,0.1959809323772214,0.19618212582510802,0.19629110779591738,0.1958966850197345,0.19801291446295136,0.20429498414622085,0.2076460543041224,0.2079707202695966,0.20684545564229054,0.20571841038460809,0.20487242198135533,0.2038088454288298,0.20275450040703516,0.20169491460360886,0.20062937307454243,0.1996937260481145,0.19881589481616505,0.1979445798437012,0.19685263986577498,0.19827301156177785,0.1970617545345377,0.19789762517641918,0.2002428735313359,0.2029540491473229,0.20248080722626452,0.19959508322612984,0.1962326614378195,0.19888423192457802,0.20171475608214745,0.20161601394073564,0.2009266037911423,0.19939160742828316,0.19753219853927778,0.1963897729235246,0.19619919913508954,0.19567332095431605,0.19567332095431605,0.19567332095431605,0.19567332095431605,0.19567332095431605,0.19567332095431605,0.19569959313019708,0.19567332095431605,0.19567332095431605,0.196477818464288,0.19726162067761738,0.19661212953118573,0.19616149311606312,0.19756493798336813,0.20539564587661482,0.20946255466240382,0.20471628938500952,0.19832141665019706,0.19684449635520107,0.19659122151741926,0.19733048337513523,0.19708133571495315,0.1965845928661812,0.19613954914000462,0.1965240058748547,0.19679399375511664,0.20056978295500136,0.20782761122332707,0.21556493478792238,0.21260087070049405,0.2030381850269627,0.1964119440687373,0.19583456743019717,0.19758133434220934,0.19776127985393183,0.1967147231499329,0.19636603076357645,0.19614455938397568,0.19624949914642872,0.19681990508967742,0.19567332095431605,0.19567332095431605,0.19567332095431605,0.19567332095431605,0.19568165774277047,0.19567332095431605,0.19567332095431605,0.1957826910028369,0.19567332095431605,0.1958712895042428,0.1965906195893113,0.19721471886339037,0.19689057050248363,0.2089272170020401,0.22963580207345385,0.2372217083467491,0.2359110254002793,0.231109667766892,0.22273729067995152,0.22036916060864584,0.21758679512971132,0.20769720572115072,0.20005895109204802,0.1969088828663148,0.19643107719164835,0.19587971500903617,0.19619130369903542,0.20039570887287217,0.20405333478279547,0.2051567538401881,0.20130687490201768,0.19848519160554895,0.196871362821627,0.19674077694390116,0.19606272057693672,0.19930300994826078,0.2014058291541562,0.20218083352456495,0.20191023459636823,0.2003431575727047,0.19567332095431605,0.1956999901015801,0.19567332095431605,0.19567332095431605,0.19567332095431605,0.19567332095431605,0.19567332095431605,0.1957500963163799,0.19567332095431605,0.19631256184427245,0.19810577697883874,0.1975848389367522,0.1967825147683773,0.1961850848938597,0.1986707612161011,0.19842140943151074,0.20279438971755964,0.20933083158329707,0.21022839328483142,0.22993660075049502,0.21527958460343935,0.22966493700925283,0.23434838219511803,0.2301957661828579,0.22953183675844038,0.228608730727024,0.2253952037101218,0.2244576767499197,0.21972600905625428,0.21673852332421248,0.21407624524221297,0.2086485371750045,0.21101806210050575,0.2225433996198456,0.22341571517810385,0.22169716731297154,0.2185909986364984,0.213204793881052,0.20194191928728591,0.2016425363370041],[0.6955639847072802,0.6948935975517617,0.6955639847072802,0.6955639847072802,0.6955639847072802,0.6938244305188632,0.6926904999605001,0.692077533882357,0.6943001479633932,0.6825092095102713,0.6493605205775778,0.6327352402819498,0.6311613664193532,0.63664368963268,0.6422127910446613,0.6464453865193304,0.6518313649114972,0.6572430457798589,0.6627556741128485,0.6683755698304066,0.6733746102691687,0.6781203112230253,0.6828848436243289,0.688933157023047,0.6810825315896154,0.6877681270017845,0.6831431475940088,0.670433241909214,0.6562132165671176,0.6586598023617789,0.6739051903595206,0.6924061540003134,0.677748918421321,0.6626517558348304,0.6631691730304394,0.6668001340395087,0.6750017976089953,0.685158854421653,0.6915233555278489,0.6925944132523812,0.6955639847072802,0.6955639847072802,0.6955639847072802,0.6955639847072802,0.6955639847072802,0.6955639847072802,0.6954151374960315,0.6955639847072802,0.6955639847072802,0.6910294343049251,0.6866576163009654,0.6902770760193369,0.6928066475257976,0.6849778679395888,0.6438222908924227,0.6240106629608443,0.6472315017397943,0.6808175568531578,0.6889785915098298,0.6903941069454008,0.6862756721324521,0.6876591995323499,0.6904312170289875,0.6929302113786958,0.690770559939876,0.6892604658514854,0.66869214909031,0.631854325962488,0.5960886801136858,0.6093913790642413,0.6557797956763318,0.6913989248873259,0.6946512458624697,0.6848872566839362,0.6838941034980365,0.6897032840614357,0.6916566435518491,0.6929019961467938,0.6923114563730138,0.6891158213385121,0.6955639847072802,0.6955639847072802,0.6955639847072802,0.6955639847072802,0.6955167463193975,0.6955639847072802,0.6955639847072802,0.6949446806367702,0.6955639847072802,0.6944436523076684,0.690397476667747,0.6869179533945887,0.6887215976540092,0.6265614248435747,0.5389327819254046,0.511722118809046,0.5162616815885178,0.5334643224162743,0.5657845395426387,0.5755075946264672,0.5872834161685002,0.6324868514416454,0.6714160430576995,0.6886194976828695,0.6912915737594144,0.694396036325734,0.6926388452007644,0.6696183362793241,0.6505868167673561,0.6450177833711939,0.6647933465078705,0.6799222777060132,0.6888287159083828,0.6895576923616458,0.69336310635317,0.6754801903673809,0.6642727508853274,0.6602183156131913,0.6616293673899183,0.6698983536285719,0.6955639847072802,0.6954128888189697,0.6955639847072802,0.6955639847072802,0.6955639847072802,0.6955639847072802,0.6955639847072802,0.6951291530177576,0.6955639847072802,0.6919569701645109,0.6819992846846473,0.6848678917608985,0.6893245606456538,0.6926738450934784,0.6789101706441449,0.6802707163693893,0.6570369751819426,0.624636723981571,0.6203908821282661,0.5378093457489695,0.5973486841387257,0.5388238005162581,0.5217601428726035,0.5368444561734999,0.5393219644970315,0.5427976624036196,0.555186254534231,0.5588874415164997,0.5781952589440221,0.5909517244029656,0.6027101848980944,0.6278959934288574,0.6166941132565509,0.5665705373364098,0.5630482527464319,0.570021896472149,0.5829884615111218,0.6066420283872834,0.6614638924081233,0.663030128860484],[0.22882183261443767,0.22876481040268937,0.22882183261443767,0.22882183261443767,0.22882183261443767,0.22867378405502883,0.22857713016679362,0.22852483334784426,0.22871429834590482,0.22770399854837942,0.22479256856236424,0.2232906973160466,0.22314700875327714,0.223646380732845,0.22415040285390486,0.22453130340195648,0.2250133346824313,0.22549470071695038,0.22598203356132393,0.22647576480866874,0.22691237087173274,0.22732463246180484,0.22773638335538093,0.2282560211993379,0.22758087880570355,0.22815619201989298,0.2277586450323281,0.2266557699695342,0.22540332500861807,0.22562023476186208,0.22695856941666273,0.22855287470963842,0.2272924466711042,0.22597287472290856,0.22601846674680043,0.2263376677195217,0.22705396753113122,0.2279321527129301,0.228477522586705,0.2285689345443169,0.22882183261443767,0.22882183261443767,0.22882183261443767,0.22882183261443767,0.22882183261443767,0.22882183261443767,0.22880917539574308,0.22882183261443767,0.22882183261443767,0.22843533233593566,0.22806091769679385,0.22837102365884204,0.22858703573528433,0.2279165892676457,0.22429546400168052,0.22249081107560706,0.22460184386269438,0.22755799090815845,0.22825991185603742,0.2283810304224256,0.22802812305859813,0.22814685182623967,0.22838420326831413,0.22859757244518153,0.22841321061765996,0.22828404513562617,0.22650348588703503,0.22321030596486555,0.219873803630789,0.22113169441708175,0.22536483621361056,0.22846689595353056,0.22874418626139606,0.2279087962511358,0.2278233300064871,0.22832194319635626,0.22848890408590647,0.22859516655917356,0.22854479511377118,0.22827166199810417,0.22882183261443767,0.22882183261443767,0.22882183261443767,0.22882183261443767,0.22881781591694916,0.22882183261443767,0.22882183261443767,0.22876915689522984,0.22882183261443767,0.2287265157960637,0.2283813185328901,0.22808326310979898,0.22823790239145852,0.22272552323392092,0.21421941488478774,0.21136995078454146,0.21185301221347577,0.21365547549505645,0.21692854881631451,0.21788601304086497,0.21902969115081028,0.22326803800735204,0.22674160088294218,0.22822915665664184,0.2284577268063445,0.22872246214804456,0.22857272442900395,0.22658453108327728,0.22490221394241666,0.22440303750203888,0.2261614090505034,0.2274806098941647,0.22824707695171464,0.22830948489831834,0.22863447588412844,0.22709554876974572,0.2261156200428304,0.22575809831956314,0.22588270967316557,0.22660901738991465,0.22882183261443767,0.2288089841641449,0.22882183261443767,0.22882183261443767,0.22882183261443767,0.22882183261443767,0.22882183261443767,0.22878485107414656,0.22882183261443767,0.2285145430941382,0.22766001488631815,0.22790713067274349,0.22828953172834313,0.22857570966648127,0.22739304013630438,0.22751073521619483,0.22547642478161653,0.22254848479953748,0.22215650728340008,0.21410390708354254,0.21999383567792968,0.21420821761973483,0.21243391153984398,0.21400455757871545,0.2142593876426004,0.214615429810138,0.21587089676260618,0.21624194341382585,0.21814855907639782,0.2193824846013888,0.22050250033833751,0.22284804332001087,0.2218135970540549,0.21700640016456046,0.21665689848631248,0.2173473048076008,0.21861454826627383,0.22087339980656498,0.22586810662286255,0.2260062175139596],[0.4037714787094979,0.403828468546285,0.4037714787094979,0.4037714787094979,0.4037714787094979,0.40391948933546246,0.40401619946262946,0.40406855341939296,0.40387897051174965,0.40489275133055397,0.4078540404245787,0.4094052316847547,0.40955449541772626,0.409036393892593,0.4085153019159734,0.40812271726955746,0.40762739247970825,0.4071344070514778,0.40663698704215573,0.406134746630214,0.40569204258452296,0.40527524596129216,0.4048601456927949,0.40433795568597486,0.4050167769485387,0.4044381305959119,0.4048377364259183,0.40595206555745716,0.40722786160792807,0.4070061137134029,0.40564527684741664,0.4040404790874003,0.40530774319034846,0.4066463199624816,0.4065998672366686,0.4062750508698566,0.4055487546708501,0.40466319592278954,0.4041159320404424,0.40402440279963053,0.4037714787094979,0.4037714787094979,0.4037714787094979,0.4037714787094979,0.4037714787094979,0.4037714787094979,0.4037841268210351,0.4037714787094979,0.4037714787094979,0.4041581957699885,0.40453379892083347,0.40422263997327507,0.40400628518492004,0.4046788435140193,0.4083656679168614,0.41023807211289653,0.40805012744659425,0.4050398448326529,0.40433405294441827,0.40421261025389077,0.40456674366278794,0.4044475066488151,0.404209430273125,0.4039957399494524,0.4041803609017855,0.40430984703125933,0.4061065986449792,0.4094887237046311,0.41299599274084703,0.4116639901698128,0.40726724380771473,0.4041265760292742,0.40384908645731465,0.4046866792933863,0.40477264206689356,0.4042718429972537,0.40410453281266295,0.4039981477150646,0.40404856762970615,0.4043222669374383,0.4037714787094979,0.4037714787094979,0.4037714787094979,0.4037714787094979,0.40377549239818217,0.4037714787094979,0.4037714787094979,0.40382412373819404,0.4037714787094979,0.4038667539008114,0.40421232149268693,0.4045113554810947,0.40435613214565624,0.4099932045490282,0.4191341927498024,0.4223245555359462,0.4217789743405707,0.4197603069548907,0.4161619866267383,0.41512541203409686,0.4138965495852654,0.40942876019014585,0.4058650386907018,0.4043649065170755,0.404135760774936,0.4038708071570816,0.4040206092902698,0.40602433628422024,0.407741430229773,0.40825480115611423,0.40645432151011873,0.4051178612777595,0.40434692811063533,0.4042843350418901,0.40395881265250166,0.40550670336099875,0.4065009287894869,0.4068653486069013,0.40673823041529483,0.4059994912986638,0.4037714787094979,0.4037843179234413,0.4037714787094979,0.4037714787094979,0.4037714787094979,0.4037714787094979,0.4037714787094979,0.4038084367176503,0.4037714787094979,0.40407885712542924,0.4049370465485446,0.4046883540657889,0.40430434448480296,0.4040176212670514,0.40520620028572335,0.40508748363454444,0.4071530940286748,0.41017786550840196,0.4105875397716615,0.41926222501406574,0.4128683740320576,0.4191465993963552,0.42112546746303353,0.4193724335198163,0.4190899109436142,0.41869605767824636,0.41731538924900446,0.41690974521021285,0.4148424186742211,0.41351950533322285,0.41232876709824684,0.40986554381786233,0.410946861050216,0.41607743534299846,0.41645738799386767,0.4157077510164745,0.41434144920296123,0.41193653322962276,0.40675312155663973,0.40661234627277815],[0.5061330438224217,0.5058664322421009,0.5061330438224217,0.5061330438224217,0.5061330438224217,0.5054409852120868,0.5049894421744565,0.5047452130507804,0.5056303212080793,0.5009200244335702,0.4874760007226119,0.48061617543034385,0.4799625600563597,0.4822361365867962,0.4845366268946703,0.4862789858608556,0.4884886737936624,0.4907005813732672,0.4929452720213318,0.4952249405610489,0.4972454678563254,0.4991573137875848,0.5010706509614957,0.5034908274709009,0.5003475941280011,0.5030254032158157,0.5011742071554742,0.49605744390909473,0.4902802992139413,0.49127828411467495,0.4974595193288163,0.5048761600659015,0.49900791437859937,0.49290303596167073,0.49311330284248067,0.494586756772578,0.49790168053933676,0.5019817114161357,0.5045243227406508,0.5049511640365424,0.5061330438224217,0.5061330438224217,0.5061330438224217,0.5061330438224217,0.5061330438224217,0.5061330438224217,0.5060738576651453,0.5061330438224217,0.5061330438224217,0.5043273826797752,0.5025814261823758,0.504027273869207,0.5050357087569712,0.501909251214825,0.48519979365131727,0.4769835836369815,0.48660202184761797,0.5002412176456666,0.5035089711086077,0.5040739661715155,0.5024286514151034,0.5029818689079216,0.5040887713820899,0.5050849257044441,0.504224136804689,0.5036215216268773,0.4953530993855273,0.4802504307798394,0.465200183447761,0.4708446055724009,0.49010332697854325,0.5044747148142832,0.5057700207696915,0.5018729706034029,0.501475170749327,0.5037982937913538,0.5045774574317728,0.5050736875938179,0.5048384282878167,0.5035637686594593,0.5061330438224217,0.5061330438224217,0.5061330438224217,0.5061330438224217,0.5061142610316791,0.5061330438224217,0.5061330438224217,0.5058867519839674,0.5061330438224217,0.505687424520628,0.5040753105501053,0.5026855369541595,0.5034063369970561,0.478047996465832,0.4402703272462792,0.4279811321330488,0.4300515801888999,0.4378236102151043,0.4521244476717104,0.456353650476182,0.4614325808614158,0.4805130708716303,0.4964546615621017,0.5033655571159693,0.5044319128828701,0.5056684777412844,0.5049688647263307,0.4957278840729207,0.4879788150283347,0.485691889207101,0.4937728480376297,0.4998816608226739,0.5034491182896959,0.5037401795509686,0.5052573215100684,0.4980944704186475,0.49356152396983416,0.49191313951421944,0.49248734088683765,0.4958411477163781,0.5061330438224217,0.5060729634790143,0.5061330438224217,0.5061330438224217,0.5061330438224217,0.5061330438224217,0.5061330438224217,0.5059601254509171,0.5061330438224217,0.5046971643104806,0.5007154881321643,0.5018652166347864,0.5036471113312155,0.5049828075344611,0.4994749255475708,0.5000216242488982,0.49061650610790425,0.477245016431219,0.47546968419957286,0.43976859796226375,0.46573724450707044,0.4402216766788112,0.4325483454327864,0.43933729636492697,0.4404440264591494,0.441992779484017,0.447476821474833,0.44910442504877035,0.4575169648139726,0.46300527153546567,0.468016794383007,0.4786041182177727,0.4739194451279312,0.4524675488765868,0.4509283229085754,0.4539715762106104,0.459585558626046,0.4696826559581084,0.4924200326780504,0.49305680568700105],[0.04796379889864877,0.04797793360423481,0.04796379889864877,0.04796379889864877,0.04796379889864877,0.048000513218623544,0.04802451025767555,0.0480375036443848,0.047990460991612645,0.048242297310977886,0.04898185376208372,0.04937159054487446,0.04940917793910515,0.04927877421695302,0.04914779891413425,0.04904924358950358,0.04892504320626065,0.04880159230225712,0.04867719560439686,0.048551761225088044,0.04844133585174075,0.048337492387563706,0.04823418695832855,0.048104393792874116,0.04827315403436708,0.04812927868673181,0.04822861327113701,0.04850617850679783,0.04882498223448107,0.048769492383225435,0.04842967854408398,0.048030535831508264,0.0483455847884915,0.04867952809408127,0.048667919174178516,0.048586785190034405,0.04840562305760687,0.04818521261993281,0.04804926381358511,0.048026546069330114,0.04796379889864877,0.04796379889864877,0.04796379889864877,0.04796379889864877,0.04796379889864877,0.04796379889864877,0.04796693571506546,0.04796379889864877,0.04796379889864877,0.048059755646542454,0.04815305033957675,0.04807575600713207,0.0480220499040603,0.04818910266631553,0.04911022230536372,0.049581505737098304,0.04903103176946274,0.04827889429956668,0.04810342443123446,0.04807326562213547,0.04816123786040489,0.048131608176809886,0.0480724760451464,0.04801943304236021,0.048065258545283825,0.048097412401955114,0.04854473626490511,0.04939261355730444,0.050279945454109125,0.04994198202636143,0.048834840613351596,0.04805190603664367,0.04798304782426866,0.048191050730191747,0.048212424747543565,0.048087974119498236,0.04804643419684642,0.04802003053689778,0.04803254328561551,0.04810049708854833,0.04796379889864877,0.04796379889864877,0.04796379889864877,0.04796379889864877,0.04796479430876135,0.04796379889864877,0.04796379889864877,0.047976855921945324,0.04796379889864877,0.04798743041434671,0.04807319392356065,0.04814747304753112,0.04810890858991751,0.049519739366332055,0.0518527184528757,0.05268014832099504,0.05253816644945371,0.05201456475942084,0.05108800702645104,0.050822701370650716,0.05050911291278233,0.04937751447226086,0.04848447134239037,0.04811108810908078,0.04805418608360497,0.0479884358954356,0.048025604633373895,0.04852420888586094,0.048953623102903604,0.049082390717357975,0.048631555435521744,0.04829831072591079,0.048106622399299116,0.04809107640593622,0.048010269903832926,0.048395144877487986,0.048643198447188805,0.04873428459861269,0.048702501526315584,0.048518010069438365,0.04796379889864877,0.04796698311056242,0.04796379889864877,0.04796379889864877,0.04796379889864877,0.04796379889864877,0.04796379889864877,0.04797296503245927,0.04796379889864877,0.048040061069594436,0.04825331647743236,0.04819146710298209,0.048096045787600294,0.048024863101839836,0.04832030110175299,0.04829074997384886,0.048806268836992475,0.04956631526402871,0.049669726333884015,0.051885792557227826,0.05024751385265931,0.05185592293550055,0.05236836080595758,0.05191427111556719,0.05184128185395469,0.05173961976507947,0.05138406023125522,0.051279838676502834,0.05075039580866945,0.05041309923120257,0.0501105046438851,0.04948755362265335,0.049760519609484286,0.05106633962405222,0.051163745189509884,0.05097165929141578,0.05062252827317795,0.05001103660127454,0.04870622416587946,0.04867103764667201],[0.17493866552744475,0.17498141293387734,0.17493866552744475,0.17493866552744475,0.17493866552744475,0.17504969570616954,0.17512225888424598,0.17516154620680202,0.17501929755079063,0.17578052914548703,0.17801209784381058,0.17918578704081145,0.17929889733371648,0.1789064154200111,0.17851203459633627,0.17821515548632794,0.17784088037668422,0.1774687029602889,0.1770935114933665,0.1767150244329252,0.1763816874676023,0.17606810064118558,0.17575602438531382,0.17536376922022018,0.17587375375506625,0.17543898923799375,0.17573918354215826,0.17657744128751304,0.17753923081429926,0.17737190241219034,0.17634649041781603,0.1751404782754477,0.176092542230423,0.17710054799431252,0.17706552640091128,0.17682072291356637,0.17627385482260502,0.17560803750950535,0.17519710315894954,0.17512841456553238,0.17493866552744475,0.17493866552744475,0.17493866552744475,0.17493866552744475,0.17493866552744475,0.17493866552744475,0.1749481523463122,0.17493866552744475,0.17493866552744475,0.17522882403323176,0.17551083803880774,0.17527719704279424,0.1751148194564572,0.1756197930903206,0.17839885423663668,0.17981728878154007,0.1781602847057902,0.17589109517283738,0.17536083897883165,0.17526966817960055,0.17553558306652242,0.17544603028963532,0.17526728113832943,0.1751069067201317,0.17524546095441235,0.17534266525021083,0.17669382230668654,0.17924905259155582,0.18191517752467617,0.18090066967025684,0.17756895513598686,0.17520509173396726,0.17499687927312016,0.17562568000866213,0.17569026818615344,0.17531413353792993,0.17518854792916003,0.17510871340090128,0.17514654808229463,0.17535198997997808,0.17493866552744475,0.17493866552744475,0.17493866552744475,0.17493866552744475,0.17494167600373206,0.17493866552744475,0.17493866552744475,0.174978153789087,0.17493866552744475,0.17501013280519503,0.17526945142146136,0.17549398145692668,0.17537741667213183,0.17963152042632885,0.18662120189397666,0.18908720589381162,0.18866452774232653,0.18710408087952077,0.1843361371251262,0.18354200516409203,0.18260243584905111,0.17920361466262602,0.1765119143984347,0.17538400490394435,0.1752119852348015,0.1750131734838449,0.17512556795228715,0.17663186534638184,0.17792701962368138,0.1783150162450117,0.17695581565214016,0.17594974984610465,0.17537050593997924,0.17532351178448313,0.17507919909686606,0.17624221400684528,0.1769909445747318,0.17726571726710585,0.17716984965235594,0.17661315482882461,0.17493866552744475,0.17494829568589165,0.17493866552744475,0.17493866552744475,0.17493866552744475,0.17493866552744475,0.17493866552744475,0.17496638679200946,0.17493866552744475,0.1751692787259344,0.1758138215187793,0.1756269382540288,0.17533853406544256,0.17512332578192003,0.17601617524591556,0.1759269102083658,0.17748280461541963,0.17977160562624542,0.18008255226668488,0.18671990153872642,0.1818178740935197,0.18663076517190483,0.188158762289492,0.1868048785590358,0.18658707032758431,0.1862836118191429,0.18522147387824364,0.1849099025835881,0.1833254523062036,0.18231456201524132,0.1814066915451383,0.17953470299617583,0.18035546732542418,0.18427130715845358,0.18456271266872595,0.18398796365084072,0.18294236404163947,0.18110805464890656,0.17718107884152035,0.17707493429618026],[0.20269662081839246,0.20293721694999198,0.20269662081839246,0.20269662081839246,0.20269662081839246,0.20332200467983158,0.20373154809705046,0.20395355720041136,0.20315063322580923,0.20747680358108622,0.2205821556432234,0.22773381406061202,0.2284326385958087,0.2260150565990551,0.2236062864100496,0.22180651452724115,0.21955395631758695,0.2173320728771344,0.21511030494442837,0.21288733306890195,0.21094468442890918,0.209130012599603,0.2073364103601802,0.20509934233140692,0.208011598094005,0.20552683682105624,0.20723996916697068,0.21208380065715682,0.21775174393224353,0.21675711393256678,0.210740384646435,0.20383448035452734,0.2092710047532861,0.21515180629072211,0.2149453115240872,0.21350628856517703,0.21031927108159262,0.20649016312390278,0.20415465188259638,0.2037663206112262,0.20269662081839246,0.20269662081839246,0.20269662081839246,0.20269662081839246,0.20269662081839246,0.20269662081839246,0.2027499961162957,0.20269662081839246,0.20269662081839246,0.204334184221167,0.2059358321972223,0.20460820487504733,0.20368953018101169,0.20655728571546178,0.2229187900515092,0.23165721221899668,0.22147513425402782,0.20811119991282004,0.2050827033241443,0.20456553664017524,0.20607684143307498,0.20556688909289805,0.20455201006542914,0.20364484656849255,0.20442839520295217,0.20497953002869823,0.21276334813196232,0.22812447540196873,0.24507793304237285,0.2385129243884334,0.21792880905571982,0.20419985344588,0.20302432231676001,0.20659090564014976,0.20696005123454161,0.20481763701504735,0.20410625284083578,0.20365504829819925,0.20386878149886561,0.2050324619026575,0.20269662081839246,0.20269662081839246,0.20269662081839246,0.20269662081839246,0.20271355732835086,0.20269662081839246,0.20269662081839246,0.20291886545503907,0.20269662081839246,0.20309898892218164,0.20456430831404956,0.20583981905228324,0.20517685179390122,0.23049754109497927,0.27743364102673546,0.295692165571491,0.2924967329054133,0.2809364473225999,0.26132501716978157,0.2559041338210538,0.24960619409077064,0.22784384486050746,0.21170194892388,0.20521427738075973,0.20423886516412426,0.20311612230987325,0.20375023993710395,0.21240136727027503,0.2200707650348315,0.2224106122806105,0.21429945205342407,0.2084483684129015,0.20513760001254644,0.20487083932098346,0.20348844159434018,0.21013603872214504,0.21450608560819687,0.21612780379410945,0.21556088785913974,0.21229214807343008,0.20269662081839246,0.2027508026674395,0.20269662081839246,0.20269662081839246,0.20269662081839246,0.20269662081839246,0.20269662081839246,0.20285261916699815,0.20269662081839246,0.2039972755822842,0.20766766392313793,0.20659809198615378,0.20495608280699015,0.2037375745033532,0.208830729490329,0.20831702630175078,0.21741593237593843,0.23137160354422667,0.23332116271624226,0.27814677329314996,0.24444212027053427,0.27750267476982765,0.2887092626755104,0.2787619211484544,0.27718736913082165,0.2750054268453139,0.26747555522497235,0.26529806836944936,0.25444151347181354,0.24770141430475837,0.24176976343883821,0.22989498193559701,0.23504300074103918,0.2608790884100519,0.26288825881962546,0.2589372139788082,0.2518703586394024,0.23984344729297685,0.21562723087504737,0.21500076701080598],[0.5854565402707262,0.5859159733902315,0.5854565402707262,0.5854565402707262,0.5854565402707262,0.5866503659296421,0.5874314893089936,0.5878547055980062,0.5863233505045278,0.5945503395648501,0.6191255349880805,0.6323272555208153,0.6336096742119874,0.6291674640460585,0.6247254083585121,0.6213958305031112,0.6172156734652625,0.613078184430113,0.6089265580107603,0.604758119109591,0.6011032454681366,0.5976788326493803,0.5942842745430226,0.5900364420177775,0.5955632927638171,0.590849393573519,0.5941014694732558,0.6032477396267527,0.6138607701083532,0.6120051925520079,0.6007182173622673,0.5876277286410343,0.5979452543863474,0.6090042407395678,0.6086176710766601,0.6059202377098231,0.5999241778139004,0.5926792215729788,0.5882379180205314,0.5874977865193844,0.5854565402707262,0.5854565402707262,0.5854565402707262,0.5854565402707262,0.5854565402707262,0.5854565402707262,0.5855584796243907,0.5854565402707262,0.5854565402707262,0.5885799325348917,0.591626630026407,0.5891017539574445,0.587351372914551,0.5928066123305933,0.6234546155533875,0.6395099953713168,0.6207817809496928,0.595751850868391,0.5900047885916545,0.5890205157997908,0.5918944764047531,0.5909255302395411,0.5889947606885186,0.5872661676412058,0.5887593665691284,0.5898084961420604,0.6045251939308485,0.6330443254233683,0.6637747178572575,0.6519629656734364,0.6141908007376887,0.5883240379536157,0.5860822609507347,0.5928704137092932,0.5935707194674394,0.5895004189637589,0.5881456989552155,0.5872856214419508,0.5876931159764383,0.589909205907843,0.5854565402707262,0.5854565402707262,0.5854565402707262,0.5854565402707262,0.5854888876206837,0.5854565402707262,0.5854565402707262,0.5858809365836227,0.5854565402707262,0.5862247831922234,0.5890181770440814,0.5914442179580229,0.5901838816628284,0.6373912536354428,0.7204981157800825,0.7515138846061631,0.7461336940480027,0.7265006982454933,0.6925554125315923,0.6830218813142368,0.6718595430619543,0.6325292622780769,0.6025293033188964,0.5902550664126827,0.5883983595402004,0.5862574845833595,0.5874671276126066,0.6038448927935335,0.6181760140648104,0.6225144281456934,0.6074077733771291,0.5963899242347929,0.5901092187026952,0.5896016703308892,0.586967875779181,0.5995785120623158,0.6077949971475877,0.6108296644019853,0.6097696932456937,0.6036395508462155,0.5854565402707262,0.5855600199545414,0.5854565402707262,0.5854565402707262,0.5854565402707262,0.5854565402707262,0.5854565402707262,0.5857544497605877,0.5854565402707262,0.5879380276209895,0.5949119491349547,0.5928840509630332,0.5897638819417134,0.587442979518528,0.5971130992535908,0.5961414079079861,0.6132346031409374,0.6389885168679638,0.6425438007462255,0.7217222462116366,0.6626354927923803,0.7206166625230055,0.7397308254107232,0.7227773272331082,0.7200751291164809,0.7163219345337326,0.7032914188231643,0.6995001888966551,0.6804379379692788,0.6684648262072952,0.65783624440967,0.6362889411066298,0.6456754441101387,0.6917737174209094,0.6952921514718959,0.6883643978437448,0.675883365872428,0.654365649584685,0.6098937845141197,0.6087214991761933],[0.2759382566483716,0.2759698516210376,0.2759382566483716,0.2759382566483716,0.2759382566483716,0.27602031149307554,0.2760739230540304,0.27610294462278856,0.27599784903643115,0.27655973192875405,0.2781994939060263,0.2790575413638961,0.279140074777929,0.27885357300310454,0.2785653484547736,0.27834815758947273,0.2780740711868717,0.2778012168334839,0.27752584484160453,0.2772477397538661,0.27700254784637207,0.27677165861949465,0.2765416645552852,0.276252272189098,0.2766284542574338,0.27630779356657953,0.27652924701604603,0.2771465678463774,0.27785294623908524,0.2777301996510351,0.2769766436656488,0.2760873821593996,0.27678966243945213,0.2775310121365339,0.27750529274815094,0.2773254368131282,0.2769231769307851,0.27643252528536816,0.27612920758290294,0.27607847048805156,0.2759382566483716,0.2759382566483716,0.2759382566483716,0.2759382566483716,0.2759382566483716,0.2759382566483716,0.27594526879128123,0.2759382566483716,0.2759382566483716,0.27615263476126045,0.2763608147715652,0.2761883558923882,0.2760684271546715,0.27644119672927947,0.27848257060518955,0.2795179770007419,0.2783079941694131,0.27664123568435256,0.27625010906410996,0.27618279653482075,0.27637907282617513,0.27631299005803356,0.27618103390278853,0.27606258146106233,0.27616492091510475,0.27623669265966705,0.2772321514773605,0.27910370787580624,0.2810414357987793,0.2803058861294862,0.2778747445883927,0.2761351076884739,0.27598128191381416,0.2764455390685027,0.2764931758562034,0.27621562818290685,0.2761228888057384,0.27606391619529863,0.27609186590744295,0.2762435765537707,0.2759382566483716,0.2759382566483716,0.2759382566483716,0.2759382566483716,0.27594048185134895,0.2759382566483716,0.2759382566483716,0.27596744290377234,0.2759382566483716,0.27599107641940923,0.2761826364774363,0.27634837640297377,0.2762623465819141,0.2793826203526571,0.28442527387022776,0.286180342373009,0.28588038750737554,0.2847699074017859,0.2827879466612489,0.28221640050714397,0.2815384816095887,0.27907055151791965,0.27709836785477193,0.27626720979014513,0.2761401988924348,0.2759933234586999,0.2760763675980016,0.27718659364007436,0.27813717918250785,0.2784212351826047,0.27742470514325923,0.2766844619291611,0.2762572452105949,0.2762225521834236,0.276042110788925,0.27689988260798,0.27745051184592895,0.2776522738200094,0.2775818983802134,0.2771728338600464,0.2759382566483716,0.27594537473858866,0.2759382566483716,0.2759382566483716,0.2759382566483716,0.2759382566483716,0.2759382566483716,0.27595874613895904,0.2759382566483716,0.2761086562319051,0.27658427627003856,0.2764464671719399,0.27623364278915813,0.2760747112176815,0.27673340565625976,0.27666763090249813,0.27781156071624935,0.2794846977139487,0.2797111275484867,0.2844957548735621,0.2809709824551451,0.2844321038334924,0.28552099980002416,0.28455642074973636,0.2844008960523328,0.28418405234896715,0.2834235936708897,0.2832000786925691,0.28206031693320754,0.2813304038269029,0.2806730409222853,0.2793120466509851,0.27990969183200376,0.28274133687637837,0.2829507757445895,0.2825375234974877,0.28178396042928433,0.2804564245702667,0.2775901426597718,0.2775122020457567],[0.09998408451570179,0.10001721617972223,0.09998408451570179,0.09998408451570179,0.09998408451570179,0.10007014517830075,0.10012640016571224,0.1001568613336041,0.10004658131486151,0.10063710654782598,0.10237348695111044,0.10328985370947984,0.10337827860325581,0.10307153783288805,0.10276355421540471,0.10253187229740564,0.10223998697528641,0.10194995436609738,0.10165779205884366,0.10136328667038964,0.10110409902638746,0.10086042733464765,0.1006180827783032,0.1003136920986085,0.10070948819559787,0.10037204419396523,0.10060500928154083,0.10125628716738869,0.10200489911254128,0.10187455452624024,0.1010767415755597,0.10014052614870023,0.10087941404917329,0.10166326936943963,0.10163600883898041,0.10144550936590187,0.10102029058238024,0.10050321626734032,0.10018443228034529,0.10013117277210119,0.09998408451570179,0.09998408451570179,0.09998408451570179,0.09998408451570179,0.09998408451570179,0.09998408451570179,0.09999143708945026,0.09998408451570179,0.09998408451570179,0.10020903040450967,0.10042778937850187,0.10024654456959986,0.10012063232812121,0.10051233961785117,0.10267521303799497,0.10378378933821919,0.10248906664607456,0.10072295396281725,0.10031141913766548,0.10024070555447728,0.10044699013457258,0.10037750676135836,0.10023885430159206,0.1001144976270315,0.10022193222918187,0.10029732224772032,0.10134679567493937,0.10333930962129545,0.10542910354087841,0.1046326056426735,0.10202805818254906,0.10019062691484082,0.10002920417964896,0.10051690845888053,0.10056703896460788,0.10027519198789234,0.10017779835244289,0.10011589832803189,0.10014523234904305,0.100304555133782,0.09998408451570179,0.09998408451570179,0.09998408451570179,0.09998408451570179,0.09998641771119753,0.09998408451570179,0.09998408451570179,0.10001469005620872,0.09998408451570179,0.10003947732709195,0.10024053744887308,0.100414710166621,0.10032427847804475,0.10363842447550237,0.10914445352181744,0.11110474882145104,0.11076810018141754,0.10952758549955557,0.10733620316732409,0.10670964059749774,0.10596957510660941,0.10330378927928434,0.10120533681880248,0.10032938909904875,0.10019597246942002,0.10004183427297336,0.1001289657360922,0.1012986096423306,0.10230714489282922,0.10260978745463599,0.10155062328936745,0.10076850334833437,0.1003189177606367,0.10028246596411909,0.10009301683653042,0.10099570253572533,0.1015779613342985,0.10179186168861704,0.10171721888688708,0.10128405902017545,0.09998408451570179,0.09999154818308141,0.09998408451570179,0.09998408451570179,0.09998408451570179,0.09998408451570179,0.09998408451570179,0.10000556973922174,0.09998408451570179,0.10016285697811861,0.10066295391394686,0.10051788499097383,0.10029411786740214,0.1001272273456911,0.10082009376533456,0.10075076615691554,0.10196093964318685,0.10374803703283005,0.10399145231233296,0.10922273638160859,0.1053526411457392,0.10915203791695001,0.11036562814027757,0.10929014705175079,0.10911738576344102,0.10887680801796455,0.1080358591230584,0.10778949728229595,0.1065389496931715,0.10574309795131795,0.10502968906330458,0.10356268546019891,0.10420521905517686,0.10728501685113268,0.10751514558102364,0.10706137904989198,0.1062371683686346,0.10479529617649509,0.10172596122263883,0.10164333168146089],[0.2896293462252192,0.28965851123497965,0.2896293462252192,0.2896293462252192,0.2896293462252192,0.28970508941387363,0.2897545757092541,0.2897813636630069,0.28968435503851625,0.29020295012069613,0.2917156588102723,0.2925067937432277,0.2925828755389976,0.29231875790641365,0.2920530190917005,0.2918527503966803,0.29159999222566274,0.29134834040115637,0.2910943363655049,0.2908377804776327,0.2906115617338726,0.2903985168501712,0.2901862766465436,0.28991919302254265,0.2902663693167599,0.28997043696935115,0.29017481704532005,0.29074444026419904,0.29139605238893734,0.29128283682271755,0.2905876606318858,0.28976699899071223,0.2904151300093948,0.29109910297502806,0.29107537782861187,0.29090946023813913,0.2905383274385964,0.29008555468744096,0.28980560502903063,0.28975877317714777,0.2896293462252192,0.2896293462252192,0.2896293462252192,0.2896293462252192,0.2896293462252192,0.2896293462252192,0.2896358191004005,0.2896293462252192,0.2896293462252192,0.28982722866336896,0.29001937220122387,0.2898601993734961,0.28974950275787587,0.2900935575259123,0.2919766930012104,0.292931202613198,0.291815714198864,0.2902781642230227,0.28991719652206355,0.28985506810372463,0.2900362229734186,0.2899752330536126,0.2898534411972328,0.2897441069180065,0.289838568877856,0.28990481353490644,0.2908233991536212,0.2925493517635805,0.2943348586582428,0.29365726644472223,0.29141615751049343,0.28981105093512877,0.2896690623271245,0.2900975650408255,0.290141528205389,0.2898853714326164,0.28979977266578677,0.289745338939351,0.2897711376495768,0.28991116719651006,0.2896293462252192,0.2896293462252192,0.2896293462252192,0.2896293462252192,0.2896314003014652,0.2896293462252192,0.2896293462252192,0.2896562877858412,0.2896293462252192,0.2896781034124282,0.2898549203710714,0.29000789247223874,0.28992849136475457,0.29280644569165737,0.2974493243362266,0.29906291804917,0.29878722703281496,0.29776627168339376,0.2959428985235247,0.2954167991732839,0.29479261881462115,0.2925187870765222,0.2906999699784263,0.28993297993571276,0.2898157501988707,0.2896801775978262,0.28975683212451964,0.290781368161371,0.2916581920871469,0.2919201363372184,0.291001037146639,0.29031805361001933,0.2899237829673674,0.2898917621701207,0.28972521145223645,0.29051683365315306,0.29102484367008025,0.2912109586434227,0.2911460427964725,0.2907686734264778,0.2896293462252192,0.2896359168996951,0.2896293462252192,0.2896293462252192,0.2896293462252192,0.2896293462252192,0.2896293462252192,0.28964825991913784,0.2896293462252192,0.28978663564406626,0.29022560065373937,0.29009842158010085,0.28990199857481913,0.28975530321718945,0.2903632182104422,0.2903025219468218,0.29135788104120974,0.2929005300896755,0.29310921500792153,0.2975141470017428,0.2942699659340108,0.2974556060628507,0.29845686487489814,0.2975699409654498,0.29742690316140225,0.2972274538422148,0.2965278512076385,0.29632218011246664,0.2952731043538698,0.29460099900971176,0.2939955181213786,0.2927413956996579,0.29329220139229534,0.295899999744392,0.2960927566950692,0.2957124036854056,0.29501865946249717,0.2937959606716909,0.2911536476030732,0.29108175141590453],[0.07076965247510214,0.07077499495243546,0.07076965247510214,0.07076965247510214,0.07076965247510214,0.0707835269132831,0.07079259119237058,0.0707974977121944,0.07077972893518046,0.07087470114446254,0.07115148671850427,0.07129610029512669,0.07131000231717684,0.07126173762279024,0.07121316565695852,0.07117655306484909,0.07113033550738412,0.07108431028548373,0.07103784476992005,0.07099090213497442,0.07094950175898074,0.07091050495963125,0.0708716483316381,0.07082274093975939,0.07088631241673461,0.07083212542087586,0.07086955012212641,0.07097382088511263,0.07109303721265164,0.07107232854278821,0.07094512713838377,0.07079486667244266,0.07091354617263196,0.07103871682967332,0.0710343762362434,0.07100401859259536,0.07093609739527525,0.07085320581293116,0.0708019376975213,0.07079336001407943,0.07076965247510214,0.07076965247510214,0.07076965247510214,0.07076965247510214,0.07076965247510214,0.07076965247510214,0.07077083819485,0.07076965247510214,0.07076965247510214,0.0708058981474989,0.0708410867115616,0.0708119367147344,0.07079166201057249,0.07085467121732758,0.07119921266472538,0.07137363872144106,0.07116978151638627,0.0708884718484978,0.07082237530532234,0.0708109969368247,0.07084417243068679,0.07083300372312001,0.07081069897251731,0.07079067368277475,0.07080797512087868,0.07082010749988409,0.07098827044353039,0.0713038768074532,0.07162988314853386,0.07150622358256481,0.07109671450276214,0.07080293514267914,0.07077692767948603,0.07085540503190643,0.0708634549441757,0.07081654684763353,0.07080086946558585,0.07079089934609345,0.07079562471438483,0.07082127110488984,0.07076965247510214,0.07076965247510214,0.07076965247510214,0.07076965247510214,0.07077002874736923,0.07076965247510214,0.07076965247510214,0.07077458766341212,0.07076965247510214,0.07077858379261398,0.07081096987993499,0.07083898451399177,0.07082444380814282,0.07135084886748376,0.07219735540055974,0.07249077541774492,0.07244067118082483,0.07225502129928574,0.07192306326319992,0.07182718807236883,0.07171338336112987,0.07129829183324496,0.070965682344442,0.0708252658256495,0.07080379583275435,0.0707789637325278,0.07079300448498858,0.07098057885073572,0.07114097840756008,0.07118887308572197,0.07102077479086545,0.07089577470347215,0.07082358152914965,0.07081771726232197,0.07078721266271529,0.07093216314189654,0.07102513055081275,0.07105917999870617,0.07104730436321627,0.07097825568332812,0.07076965247510214,0.07077085610995303,0.07076965247510214,0.07076965247510214,0.07076965247510214,0.07076965247510214,0.07076965247510214,0.0707731171209044,0.07076965247510214,0.07079846332239519,0.07087884825048561,0.07085556187216836,0.07081959196808245,0.07079272444526175,0.07090404302891576,0.07089293123303353,0.0710860553780678,0.0713680358721629,0.07140615276318317,0.07220915058890336,0.07161804341112216,0.07219849845712802,0.07238061573573006,0.07221930239172981,0.07219327547441645,0.07215697878214034,0.07202961368358886,0.07199215624284185,0.07180099401544852,0.07167843386841001,0.07156796292536044,0.0713389649570065,0.07143957015487233,0.07191524708231632,0.07195036527814075,0.07188106364537022,0.07175460355411131,0.07153154088001643,0.07104869561265982,0.07103554231366346],[0.292527483951604,0.2923798527993435,0.292527483951604,0.292527483951604,0.292527483951604,0.29214426274227573,0.2918942129984981,0.2917589630024256,0.2922491080267439,0.2896402786085903,0.2821885209656985,0.2783829471584914,0.2780202274836384,0.2792818451331625,0.28055814346907704,0.281524624668376,0.2827501230061994,0.28397661953364634,0.28522105715058094,0.28648464299287174,0.2876043868034476,0.2886637254353174,0.2897237199944678,0.2910642620066441,0.28932316431978006,0.2908064833398252,0.28978108558960863,0.2869460261575272,0.2837435921343414,0.2842969158479571,0.287722999503078,0.2918314796062957,0.2885809505482104,0.2851976440315582,0.28531420245009353,0.2861309319932913,0.28796800825579894,0.2902283905328203,0.2916366352863721,0.29187301538848603,0.292527483951604,0.292527483951604,0.292527483951604,0.292527483951604,0.292527483951604,0.292527483951604,0.2924947110109983,0.292527483951604,0.292527483951604,0.29152756917919825,0.29056057405280483,0.29136136441567484,0.2919198343474706,0.29018825351810174,0.2809260171976059,0.2763668007239492,0.28170379576899124,0.2892642323211629,0.2910743107921593,0.2913872235860672,0.2904759533031931,0.29078237102987525,0.29139542299934296,0.29194708943134495,0.2914703905321744,0.291136646134173,0.28655567224054973,0.2781799820531836,0.2698223655617829,0.2729581031926589,0.28364546654849043,0.2916091624083245,0.292326465955003,0.2901681569406126,0.28994780341520765,0.29123454902041973,0.29166606116167687,0.2919408660635735,0.29181058436246693,0.29110466011743713,0.292527483951604,0.292527483951604,0.292527483951604,0.292527483951604,0.2925170834410249,0.292527483951604,0.292527483951604,0.2923911045893976,0.292527483951604,0.2922807288066146,0.29138796812946804,0.29061823957751515,0.2910174670753848,0.27695763332247575,0.2559533007798254,0.24910451451146987,0.25025894967106765,0.2545903882351836,0.26255202308219044,0.26490448815178763,0.267728400966159,0.27832573131760796,0.2871661574137643,0.2909948810771842,0.29158545860038354,0.2922702371036976,0.291882817658402,0.2867633840995814,0.2824673747590317,0.28119898019716394,0.28567979831509577,0.28906503588522775,0.29104116147589215,0.2912023633888365,0.2920425569309358,0.28807483342125195,0.28556266042315687,0.284648881151152,0.28496720331308517,0.28682615538383854,0.292527483951604,0.292494215875256,0.292527483951604,0.292527483951604,0.292527483951604,0.292527483951604,0.292527483951604,0.29243173402478884,0.292527483951604,0.2917323540921413,0.2895269715672861,0.2901638618498808,0.2911508187370234,0.2918905388823042,0.28883969508608787,0.289142577098839,0.28393000428147475,0.27651192154640525,0.2755263725139366,0.25567384482458994,0.27012079622241325,0.25592620370235,0.25165077977631534,0.25543360538440724,0.25605004561612676,0.25691258022945757,0.25996574789890625,0.26087159177675096,0.2655514130859023,0.2686025605289667,0.27138732151205136,0.27726630255832585,0.27466565435372403,0.2627429050615113,0.261886519812872,0.26357958868434866,0.26670159818955397,0.2723127159140724,0.28492989021543424,0.28528288427008147],[0.12282573438004397,0.1228423219884066,0.12282573438004397,0.12282573438004397,0.12282573438004397,0.12286881452363929,0.12289696271670997,0.12291220059912324,0.12285702113580912,0.12315207632058586,0.12401376046154668,0.12446502249879295,0.12450844139383374,0.1243577294101167,0.1242061392125617,0.12409192740409344,0.12394781938159405,0.1238043844579966,0.12365965168590255,0.12351350858101323,0.12338468303943513,0.12326339093293978,0.12314258713058318,0.12299061013615933,0.12318817108542675,0.1230197654711016,0.1231360653622768,0.12346034967507208,0.12383157579106585,0.12376705607045102,0.12337107399673136,0.12290402943420516,0.12327284815451756,0.12366236732739089,0.12364885074376682,0.12355433542600039,0.12334298538912371,0.123085268311077,0.12292599031158495,0.12289935034483206,0.12282573438004397,0.12282573438004397,0.12282573438004397,0.12282573438004397,0.12282573438004397,0.12282573438004397,0.12282941578062082,0.12282573438004397,0.12282573438004397,0.12293829125818208,0.123047608899194,0.12295704777100797,0.12289407710672229,0.12308982231553194,0.12416260783579032,0.12470727631483715,0.124070808853078,0.12319488440270786,0.12298947425922639,0.12295412862539053,0.12305719711199982,0.12302249430174929,0.12295320309267035,0.12289100784933975,0.12294474244380246,0.12298242921684834,0.12350531778278201,0.12448930933488159,0.12550933965308783,0.12512199328345164,0.12384303426897839,0.12292908827195748,0.1228483230656846,0.12309210280260005,0.12311712086441566,0.12297136824519152,0.12292267253306438,0.12289170864503239,0.12290638364458185,0.1229860439873321,0.12282573438004397,0.12282573438004397,0.12282573438004397,0.12282573438004397,0.12282690261789628,0.12282573438004397,0.12282573438004397,0.12284105738095602,0.12282573438004397,0.12285346536533914,0.12295404458151703,0.12304107695814534,0.1229959003140095,0.12463605226887722,0.12729363422773043,0.12822058451002816,0.12806208903077332,0.12747557377333404,0.12642979462958012,0.1261284628711985,0.12577119103070605,0.12447186668295768,0.1234350251064333,0.1229984540521611,0.12293176151301455,0.12285464510784824,0.12289824622251011,0.1234813800711535,0.12398099778622915,0.12413035414200108,0.12360650013884947,0.12321758897002702,0.12299322152178424,0.12297500402606287,0.12288025989908076,0.12333074808267824,0.12362006190319223,0.12372609829735529,0.12368911077840648,0.12347415033108054,0.12282573438004397,0.12282947140347197,0.12282573438004397,0.12282573438004397,0.12282573438004397,0.12282573438004397,0.12282573438004397,0.12283649148440018,0.12282573438004397,0.1229151995345456,0.12316496746596392,0.12309259021995704,0.12298082771831356,0.12289737654116353,0.12324329741101464,0.12320874840450839,0.12380982160150675,0.1246897643331693,0.12480892196312517,0.12733083946756676,0.12547223046931602,0.1272972395299692,0.12787222866963072,0.1273628648606752,0.12728076614444797,0.12716631166615294,0.1267650501616135,0.12664714758461829,0.12604619118987223,0.12566156235032083,0.1253153171777829,0.12459891916737542,0.12491342972639707,0.12640521682499659,0.12651566173525877,0.12629775253939116,0.12590054366534706,0.12520125320701858,0.12369344367243058,0.12365248183831251],[0.20790248445966625,0.2078408193419168,0.20790248445966625,0.20790248445966625,0.20790248445966625,0.20774238743813997,0.20763787831885372,0.20758133475084942,0.20778619689659208,0.20669416715023628,0.2035523776789423,0.2019346929184425,0.20178003238616068,0.20231761753663247,0.20286044030210854,0.20327081747090014,0.2037903414273344,0.20430935975349368,0.20483502639404755,0.2053678147337623,0.20583914311657328,0.20628434938372542,0.20672915750425885,0.2072907326447226,0.20656115034783146,0.20718282787142464,0.20675321081232007,0.20556211438314975,0.2042108204430938,0.20444474770757315,0.2058890258316365,0.20761165289775452,0.20624958602752086,0.20482514512747224,0.20487433409999892,0.2052187710564214,0.20599203772079425,0.2069406978066491,0.2075301842531454,0.2076290170104094,0.20790248445966625,0.20790248445966625,0.20790248445966625,0.20790248445966625,0.20790248445966625,0.20790248445966625,0.20788879640276667,0.20790248445966625,0.20790248445966625,0.20748457154573546,0.20707985479279722,0.2074150492575046,0.2076485885436394,0.20692387932357287,0.20301671161656892,0.2010739688517217,0.2033468313665646,0.20653642410088066,0.20729493821450093,0.20742586704133134,0.20704441203798776,0.20717273257048854,0.20742929705634933,0.20765998127609042,0.20746065596284408,0.20732102516704262,0.20539773527242747,0.20184816059927643,0.19826203874281587,0.19961283091176596,0.20416931650803824,0.20751869544064455,0.20781851664618275,0.2069154579595277,0.20682310420428965,0.2073619922666268,0.20754248928959465,0.207657379922479,0.2076029172160973,0.20730763950590428,0.20790248445966625,0.20790248445966625,0.20790248445966625,0.20790248445966625,0.2078981406158401,0.20790248445966625,0.20790248445966625,0.20784551963493308,0.20790248445966625,0.20779940832406146,0.20742617850368003,0.20710400511902802,0.2072711474647072,0.20132647183400543,0.1922082947235545,0.1891690324995449,0.18968372411664558,0.19160617832528148,0.1951050230656337,0.19613043880482023,0.19735640795966414,0.20191030210103558,0.20565477160150394,0.2072616940352129,0.20750878244724721,0.20779502486778018,0.20763311471936255,0.20548521479489365,0.2036705588528901,0.20313261069809002,0.20502856596680044,0.20645283137030018,0.20728106449376998,0.2073485249351374,0.20769988360904784,0.2060369401575465,0.20497915853012053,0.20459344950456612,0.20472787213344154,0.20551164628534727,0.20790248445966625,0.20788858959785345,0.20790248445966625,0.20790248445966625,0.20790248445966625,0.20790248445966625,0.20790248445966625,0.20786249144694602,0.20790248445966625,0.2075702091697273,0.2066466462617143,0.2069136580933794,0.2073269559917385,0.2076363424346737,0.20635823852583435,0.2064853743422704,0.2042896504276137,0.20113600946148502,0.20071441284425184,0.19208494280290567,0.1983908724268193,0.19219633649968923,0.19030295565701635,0.19197885661442027,0.192250984973896,0.19263129900918896,0.19397330984098599,0.19437021884978276,0.19641176777798644,0.19773483211666446,0.1989369845071189,0.20145829887232222,0.20034570723834916,0.19518836743925183,0.1948142502499477,0.19555339256614876,0.196911253152103,0.19933534041696888,0.2047121185819298,0.20486111828760553],[0.19738786264797387,0.1974263656007566,0.19738786264797387,0.19738786264797387,0.19738786264797387,0.19748786453932524,0.19755321332596365,0.1975885923369272,0.19746048701180685,0.19814578773017583,0.2001513265161951,0.20120409837228695,0.20130548205937074,0.2009536350062224,0.20059992878017988,0.20033356440853842,0.19999763160117837,0.19966344015090062,0.1993263991548457,0.19898625170139173,0.19868655905757385,0.19840451882755358,0.1981237365939083,0.19777067284670094,0.19822967223748564,0.19783838973597134,0.19810858163889652,0.19886256891107754,0.1997267804883443,0.19957649631042612,0.19865490784649525,0.19756962044712195,0.19842650525031463,0.1993327214900098,0.19930125389237582,0.19908125801803728,0.19858958571390042,0.19799055423085485,0.19762061069571574,0.1975587567444687,0.19738786264797387,0.19738786264797387,0.19738786264797387,0.19738786264797387,0.19738786264797387,0.19738786264797387,0.19739640767030187,0.19738786264797387,0.19738786264797387,0.1976491736331208,0.19790306621570508,0.19769272891288728,0.19754651379383276,0.19800113461837465,0.20049839221808805,0.20176996485769758,0.2002843237283851,0.19824527524240504,0.1977680347756809,0.19768595004925793,0.19792533982953872,0.19784472814931223,0.19768380078459905,0.19753938796352877,0.1976641538668822,0.19775167292613288,0.19896719294315696,0.20126080651550607,0.2036469417167596,0.20273981187733617,0.1997534740743487,0.19762780407516892,0.19744029579670705,0.19800643297387566,0.19806456139656684,0.19772598507004943,0.19761290699384743,0.19754101497918095,0.19757508641809085,0.19776006804445054,0.19738786264797387,0.19738786264797387,0.19738786264797387,0.19738786264797387,0.19739057427170134,0.19738786264797387,0.19738786264797387,0.1974234301281251,0.19738786264797387,0.19745223276770235,0.19768575488295226,0.1978878928251029,0.19778295941267357,0.20160354604884778,0.20784163769053005,0.21003116093421195,0.20965628314605553,0.20827083499049306,0.2058075529043042,0.20509945580151,0.20426087904917678,0.201220078588549,0.19880365552757004,0.19778889061531432,0.19763401133270217,0.1974549713698963,0.1975561932689192,0.1989114966997947,0.20007495900785863,0.20042317095520684,0.19920266847628365,0.19829804770262588,0.19777673782361063,0.19773442864678578,0.19751443529680457,0.1985611290204292,0.19923423645538096,0.1994811124500269,0.1993949867079118,0.19889467609511974,0.19738786264797387,0.19739653677923963,0.19738786264797387,0.19738786264797387,0.19738786264797387,0.19738786264797387,0.19738786264797387,0.19741283164316484,0.19738786264797387,0.1975955554348067,0.19817574559594386,0.19800756541762954,0.19774795356329744,0.1975541741095661,0.19835780731357283,0.19827749897122893,0.19967610510781775,0.20172904325563648,0.20200753852224454,0.20792938308596845,0.20355998144690748,0.20785013999082658,0.2092074916140225,0.20800492137723084,0.20781129206193694,0.20754144448305556,0.20659624890298176,0.206318774713291,0.20490625675042068,0.20400377421319393,0.20319240305882555,0.20151679931791622,0.20225189138272276,0.2057497696011314,0.20600946873777412,0.2054971758359096,0.20456436924290555,0.2029253299829368,0.1994050752956056,0.19930970719654928]],\"type\":\"heatmap\"}],                        {\"template\":{\"data\":{\"histogram2dcontour\":[{\"type\":\"histogram2dcontour\",\"colorbar\":{\"outlinewidth\":0,\"ticks\":\"\"},\"colorscale\":[[0.0,\"#0d0887\"],[0.1111111111111111,\"#46039f\"],[0.2222222222222222,\"#7201a8\"],[0.3333333333333333,\"#9c179e\"],[0.4444444444444444,\"#bd3786\"],[0.5555555555555556,\"#d8576b\"],[0.6666666666666666,\"#ed7953\"],[0.7777777777777778,\"#fb9f3a\"],[0.8888888888888888,\"#fdca26\"],[1.0,\"#f0f921\"]]}],\"choropleth\":[{\"type\":\"choropleth\",\"colorbar\":{\"outlinewidth\":0,\"ticks\":\"\"}}],\"histogram2d\":[{\"type\":\"histogram2d\",\"colorbar\":{\"outlinewidth\":0,\"ticks\":\"\"},\"colorscale\":[[0.0,\"#0d0887\"],[0.1111111111111111,\"#46039f\"],[0.2222222222222222,\"#7201a8\"],[0.3333333333333333,\"#9c179e\"],[0.4444444444444444,\"#bd3786\"],[0.5555555555555556,\"#d8576b\"],[0.6666666666666666,\"#ed7953\"],[0.7777777777777778,\"#fb9f3a\"],[0.8888888888888888,\"#fdca26\"],[1.0,\"#f0f921\"]]}],\"heatmap\":[{\"type\":\"heatmap\",\"colorbar\":{\"outlinewidth\":0,\"ticks\":\"\"},\"colorscale\":[[0.0,\"#0d0887\"],[0.1111111111111111,\"#46039f\"],[0.2222222222222222,\"#7201a8\"],[0.3333333333333333,\"#9c179e\"],[0.4444444444444444,\"#bd3786\"],[0.5555555555555556,\"#d8576b\"],[0.6666666666666666,\"#ed7953\"],[0.7777777777777778,\"#fb9f3a\"],[0.8888888888888888,\"#fdca26\"],[1.0,\"#f0f921\"]]}],\"heatmapgl\":[{\"type\":\"heatmapgl\",\"colorbar\":{\"outlinewidth\":0,\"ticks\":\"\"},\"colorscale\":[[0.0,\"#0d0887\"],[0.1111111111111111,\"#46039f\"],[0.2222222222222222,\"#7201a8\"],[0.3333333333333333,\"#9c179e\"],[0.4444444444444444,\"#bd3786\"],[0.5555555555555556,\"#d8576b\"],[0.6666666666666666,\"#ed7953\"],[0.7777777777777778,\"#fb9f3a\"],[0.8888888888888888,\"#fdca26\"],[1.0,\"#f0f921\"]]}],\"contourcarpet\":[{\"type\":\"contourcarpet\",\"colorbar\":{\"outlinewidth\":0,\"ticks\":\"\"}}],\"contour\":[{\"type\":\"contour\",\"colorbar\":{\"outlinewidth\":0,\"ticks\":\"\"},\"colorscale\":[[0.0,\"#0d0887\"],[0.1111111111111111,\"#46039f\"],[0.2222222222222222,\"#7201a8\"],[0.3333333333333333,\"#9c179e\"],[0.4444444444444444,\"#bd3786\"],[0.5555555555555556,\"#d8576b\"],[0.6666666666666666,\"#ed7953\"],[0.7777777777777778,\"#fb9f3a\"],[0.8888888888888888,\"#fdca26\"],[1.0,\"#f0f921\"]]}],\"surface\":[{\"type\":\"surface\",\"colorbar\":{\"outlinewidth\":0,\"ticks\":\"\"},\"colorscale\":[[0.0,\"#0d0887\"],[0.1111111111111111,\"#46039f\"],[0.2222222222222222,\"#7201a8\"],[0.3333333333333333,\"#9c179e\"],[0.4444444444444444,\"#bd3786\"],[0.5555555555555556,\"#d8576b\"],[0.6666666666666666,\"#ed7953\"],[0.7777777777777778,\"#fb9f3a\"],[0.8888888888888888,\"#fdca26\"],[1.0,\"#f0f921\"]]}],\"mesh3d\":[{\"type\":\"mesh3d\",\"colorbar\":{\"outlinewidth\":0,\"ticks\":\"\"}}],\"scatter\":[{\"fillpattern\":{\"fillmode\":\"overlay\",\"size\":10,\"solidity\":0.2},\"type\":\"scatter\"}],\"parcoords\":[{\"type\":\"parcoords\",\"line\":{\"colorbar\":{\"outlinewidth\":0,\"ticks\":\"\"}}}],\"scatterpolargl\":[{\"type\":\"scatterpolargl\",\"marker\":{\"colorbar\":{\"outlinewidth\":0,\"ticks\":\"\"}}}],\"bar\":[{\"error_x\":{\"color\":\"#2a3f5f\"},\"error_y\":{\"color\":\"#2a3f5f\"},\"marker\":{\"line\":{\"color\":\"#E5ECF6\",\"width\":0.5},\"pattern\":{\"fillmode\":\"overlay\",\"size\":10,\"solidity\":0.2}},\"type\":\"bar\"}],\"scattergeo\":[{\"type\":\"scattergeo\",\"marker\":{\"colorbar\":{\"outlinewidth\":0,\"ticks\":\"\"}}}],\"scatterpolar\":[{\"type\":\"scatterpolar\",\"marker\":{\"colorbar\":{\"outlinewidth\":0,\"ticks\":\"\"}}}],\"histogram\":[{\"marker\":{\"pattern\":{\"fillmode\":\"overlay\",\"size\":10,\"solidity\":0.2}},\"type\":\"histogram\"}],\"scattergl\":[{\"type\":\"scattergl\",\"marker\":{\"colorbar\":{\"outlinewidth\":0,\"ticks\":\"\"}}}],\"scatter3d\":[{\"type\":\"scatter3d\",\"line\":{\"colorbar\":{\"outlinewidth\":0,\"ticks\":\"\"}},\"marker\":{\"colorbar\":{\"outlinewidth\":0,\"ticks\":\"\"}}}],\"scattermapbox\":[{\"type\":\"scattermapbox\",\"marker\":{\"colorbar\":{\"outlinewidth\":0,\"ticks\":\"\"}}}],\"scatterternary\":[{\"type\":\"scatterternary\",\"marker\":{\"colorbar\":{\"outlinewidth\":0,\"ticks\":\"\"}}}],\"scattercarpet\":[{\"type\":\"scattercarpet\",\"marker\":{\"colorbar\":{\"outlinewidth\":0,\"ticks\":\"\"}}}],\"carpet\":[{\"aaxis\":{\"endlinecolor\":\"#2a3f5f\",\"gridcolor\":\"white\",\"linecolor\":\"white\",\"minorgridcolor\":\"white\",\"startlinecolor\":\"#2a3f5f\"},\"baxis\":{\"endlinecolor\":\"#2a3f5f\",\"gridcolor\":\"white\",\"linecolor\":\"white\",\"minorgridcolor\":\"white\",\"startlinecolor\":\"#2a3f5f\"},\"type\":\"carpet\"}],\"table\":[{\"cells\":{\"fill\":{\"color\":\"#EBF0F8\"},\"line\":{\"color\":\"white\"}},\"header\":{\"fill\":{\"color\":\"#C8D4E3\"},\"line\":{\"color\":\"white\"}},\"type\":\"table\"}],\"barpolar\":[{\"marker\":{\"line\":{\"color\":\"#E5ECF6\",\"width\":0.5},\"pattern\":{\"fillmode\":\"overlay\",\"size\":10,\"solidity\":0.2}},\"type\":\"barpolar\"}],\"pie\":[{\"automargin\":true,\"type\":\"pie\"}]},\"layout\":{\"autotypenumbers\":\"strict\",\"colorway\":[\"#636efa\",\"#EF553B\",\"#00cc96\",\"#ab63fa\",\"#FFA15A\",\"#19d3f3\",\"#FF6692\",\"#B6E880\",\"#FF97FF\",\"#FECB52\"],\"font\":{\"color\":\"#2a3f5f\"},\"hovermode\":\"closest\",\"hoverlabel\":{\"align\":\"left\"},\"paper_bgcolor\":\"white\",\"plot_bgcolor\":\"#E5ECF6\",\"polar\":{\"bgcolor\":\"#E5ECF6\",\"angularaxis\":{\"gridcolor\":\"white\",\"linecolor\":\"white\",\"ticks\":\"\"},\"radialaxis\":{\"gridcolor\":\"white\",\"linecolor\":\"white\",\"ticks\":\"\"}},\"ternary\":{\"bgcolor\":\"#E5ECF6\",\"aaxis\":{\"gridcolor\":\"white\",\"linecolor\":\"white\",\"ticks\":\"\"},\"baxis\":{\"gridcolor\":\"white\",\"linecolor\":\"white\",\"ticks\":\"\"},\"caxis\":{\"gridcolor\":\"white\",\"linecolor\":\"white\",\"ticks\":\"\"}},\"coloraxis\":{\"colorbar\":{\"outlinewidth\":0,\"ticks\":\"\"}},\"colorscale\":{\"sequential\":[[0.0,\"#0d0887\"],[0.1111111111111111,\"#46039f\"],[0.2222222222222222,\"#7201a8\"],[0.3333333333333333,\"#9c179e\"],[0.4444444444444444,\"#bd3786\"],[0.5555555555555556,\"#d8576b\"],[0.6666666666666666,\"#ed7953\"],[0.7777777777777778,\"#fb9f3a\"],[0.8888888888888888,\"#fdca26\"],[1.0,\"#f0f921\"]],\"sequentialminus\":[[0.0,\"#0d0887\"],[0.1111111111111111,\"#46039f\"],[0.2222222222222222,\"#7201a8\"],[0.3333333333333333,\"#9c179e\"],[0.4444444444444444,\"#bd3786\"],[0.5555555555555556,\"#d8576b\"],[0.6666666666666666,\"#ed7953\"],[0.7777777777777778,\"#fb9f3a\"],[0.8888888888888888,\"#fdca26\"],[1.0,\"#f0f921\"]],\"diverging\":[[0,\"#8e0152\"],[0.1,\"#c51b7d\"],[0.2,\"#de77ae\"],[0.3,\"#f1b6da\"],[0.4,\"#fde0ef\"],[0.5,\"#f7f7f7\"],[0.6,\"#e6f5d0\"],[0.7,\"#b8e186\"],[0.8,\"#7fbc41\"],[0.9,\"#4d9221\"],[1,\"#276419\"]]},\"xaxis\":{\"gridcolor\":\"white\",\"linecolor\":\"white\",\"ticks\":\"\",\"title\":{\"standoff\":15},\"zerolinecolor\":\"white\",\"automargin\":true,\"zerolinewidth\":2},\"yaxis\":{\"gridcolor\":\"white\",\"linecolor\":\"white\",\"ticks\":\"\",\"title\":{\"standoff\":15},\"zerolinecolor\":\"white\",\"automargin\":true,\"zerolinewidth\":2},\"scene\":{\"xaxis\":{\"backgroundcolor\":\"#E5ECF6\",\"gridcolor\":\"white\",\"linecolor\":\"white\",\"showbackground\":true,\"ticks\":\"\",\"zerolinecolor\":\"white\",\"gridwidth\":2},\"yaxis\":{\"backgroundcolor\":\"#E5ECF6\",\"gridcolor\":\"white\",\"linecolor\":\"white\",\"showbackground\":true,\"ticks\":\"\",\"zerolinecolor\":\"white\",\"gridwidth\":2},\"zaxis\":{\"backgroundcolor\":\"#E5ECF6\",\"gridcolor\":\"white\",\"linecolor\":\"white\",\"showbackground\":true,\"ticks\":\"\",\"zerolinecolor\":\"white\",\"gridwidth\":2}},\"shapedefaults\":{\"line\":{\"color\":\"#2a3f5f\"}},\"annotationdefaults\":{\"arrowcolor\":\"#2a3f5f\",\"arrowhead\":0,\"arrowwidth\":1},\"geo\":{\"bgcolor\":\"white\",\"landcolor\":\"#E5ECF6\",\"subunitcolor\":\"white\",\"showland\":true,\"showlakes\":true,\"lakecolor\":\"white\"},\"title\":{\"x\":0.05},\"mapbox\":{\"style\":\"light\"}}},\"xaxis\":{\"title\":{\"text\":\"Time bin\"}},\"yaxis\":{\"title\":{\"text\":\"Neuron\"}},\"title\":{\"text\":\"Predicted number of spikes\"},\"shapes\":[{\"line\":{\"color\":\"Red\",\"width\":1},\"type\":\"line\",\"x0\":40,\"x1\":40,\"y0\":-0.5,\"y1\":23.5},{\"line\":{\"color\":\"Red\",\"width\":1},\"type\":\"line\",\"x0\":80,\"x1\":80,\"y0\":-0.5,\"y1\":23.5},{\"line\":{\"color\":\"Red\",\"width\":1},\"type\":\"line\",\"x0\":120,\"x1\":120,\"y0\":-0.5,\"y1\":23.5}]},                        {\"responsive\": true}                    ).then(function(){\n",
       "                            \n",
       "var gd = document.getElementById('2025832e-b96a-4709-b20f-905ad4767809');\n",
       "var x = new MutationObserver(function (mutations, observer) {{\n",
       "        var display = window.getComputedStyle(gd).display;\n",
       "        if (!display || display === 'none') {{\n",
       "            console.log([gd, 'removed!']);\n",
       "            Plotly.purge(gd);\n",
       "            observer.disconnect();\n",
       "        }}\n",
       "}});\n",
       "\n",
       "// Listen for the removal of the full notebook cells\n",
       "var notebookContainer = gd.closest('#notebook-container');\n",
       "if (notebookContainer) {{\n",
       "    x.observe(notebookContainer, {childList: true});\n",
       "}}\n",
       "\n",
       "// Listen for the clearing of the current output cell\n",
       "var outputEl = gd.closest('.output');\n",
       "if (outputEl) {{\n",
       "    x.observe(outputEl, {childList: true});\n",
       "}}\n",
       "\n",
       "                        })                };                });            </script>        </div>"
      ]
     },
     "metadata": {},
     "output_type": "display_data"
    },
    {
     "data": {
      "application/vnd.plotly.v1+json": {
       "config": {
        "plotlyServerURL": "https://plot.ly"
       },
       "data": [
        {
         "colorscale": [
          [
           0,
           "#440154"
          ],
          [
           0.1111111111111111,
           "#482878"
          ],
          [
           0.2222222222222222,
           "#3e4989"
          ],
          [
           0.3333333333333333,
           "#31688e"
          ],
          [
           0.4444444444444444,
           "#26828e"
          ],
          [
           0.5555555555555556,
           "#1f9e89"
          ],
          [
           0.6666666666666666,
           "#35b779"
          ],
          [
           0.7777777777777778,
           "#6ece58"
          ],
          [
           0.8888888888888888,
           "#b5de2b"
          ],
          [
           1,
           "#fde725"
          ]
         ],
         "type": "heatmap",
         "z": [
          [
           0,
           0,
           1,
           0,
           0,
           0,
           0,
           0,
           1,
           0,
           0,
           0,
           1,
           1,
           0,
           0,
           0,
           0,
           0,
           1,
           0,
           0,
           0,
           0,
           0,
           0,
           0,
           1,
           0,
           1,
           0,
           0,
           0,
           0,
           0,
           0,
           0,
           0,
           1,
           1,
           0,
           1,
           0,
           0,
           0,
           0,
           0,
           0,
           0,
           0,
           0,
           0,
           1,
           1,
           0,
           0,
           0,
           0,
           0,
           0,
           0,
           0,
           0,
           0,
           0,
           0,
           0,
           0,
           0,
           0,
           0,
           3,
           0,
           0,
           0,
           0,
           0,
           0,
           0,
           0,
           0,
           0,
           0,
           0,
           0,
           0,
           0,
           0,
           0,
           0,
           0,
           2,
           0,
           1,
           0,
           2,
           1,
           1,
           0,
           0,
           1,
           0,
           0,
           0,
           0,
           0,
           2,
           0,
           0,
           1,
           1,
           0,
           0,
           1,
           0,
           1,
           0,
           0,
           1,
           0,
           0,
           0,
           0,
           0,
           0,
           0,
           0,
           0,
           0,
           0,
           0,
           1,
           0,
           1,
           0,
           0,
           0,
           0,
           0,
           2,
           3,
           1,
           1,
           1,
           2,
           1,
           0,
           0,
           0,
           0,
           1,
           1,
           0,
           2,
           1,
           2,
           1,
           2,
           3,
           0
          ],
          [
           1,
           0,
           1,
           2,
           2,
           3,
           1,
           1,
           2,
           1,
           1,
           4,
           3,
           3,
           4,
           6,
           5,
           4,
           4,
           5,
           6,
           4,
           7,
           5,
           4,
           5,
           4,
           3,
           2,
           5,
           3,
           4,
           4,
           3,
           3,
           2,
           1,
           4,
           1,
           3,
           3,
           2,
           3,
           2,
           3,
           1,
           3,
           0,
           0,
           2,
           4,
           1,
           3,
           5,
           6,
           6,
           7,
           8,
           5,
           6,
           5,
           5,
           5,
           7,
           6,
           6,
           6,
           7,
           6,
           4,
           5,
           5,
           5,
           4,
           5,
           3,
           4,
           2,
           4,
           3,
           2,
           2,
           0,
           3,
           1,
           3,
           1,
           0,
           1,
           2,
           1,
           5,
           6,
           6,
           6,
           6,
           5,
           5,
           5,
           5,
           5,
           3,
           4,
           5,
           5,
           6,
           4,
           6,
           4,
           5,
           5,
           7,
           3,
           5,
           5,
           4,
           2,
           3,
           4,
           0,
           3,
           1,
           0,
           1,
           3,
           0,
           3,
           4,
           2,
           2,
           2,
           2,
           5,
           4,
           6,
           7,
           5,
           7,
           2,
           6,
           5,
           5,
           5,
           4,
           4,
           6,
           4,
           4,
           5,
           7,
           5,
           5,
           2,
           6,
           5,
           7,
           7,
           4,
           5,
           4
          ],
          [
           0,
           0,
           0,
           0,
           0,
           0,
           0,
           0,
           0,
           0,
           0,
           0,
           0,
           1,
           0,
           0,
           0,
           0,
           0,
           0,
           0,
           0,
           0,
           0,
           0,
           0,
           0,
           0,
           0,
           0,
           0,
           0,
           0,
           0,
           0,
           0,
           0,
           0,
           0,
           0,
           0,
           0,
           0,
           0,
           0,
           0,
           0,
           0,
           0,
           0,
           0,
           0,
           0,
           1,
           0,
           0,
           0,
           0,
           0,
           1,
           0,
           1,
           0,
           0,
           0,
           0,
           0,
           0,
           0,
           0,
           1,
           0,
           1,
           0,
           0,
           0,
           0,
           0,
           0,
           0,
           0,
           0,
           0,
           0,
           0,
           0,
           0,
           0,
           0,
           0,
           0,
           0,
           1,
           0,
           0,
           0,
           0,
           1,
           0,
           0,
           0,
           0,
           0,
           0,
           0,
           0,
           1,
           0,
           0,
           0,
           0,
           0,
           0,
           0,
           0,
           0,
           0,
           0,
           0,
           0,
           0,
           0,
           0,
           0,
           0,
           0,
           0,
           0,
           0,
           0,
           0,
           0,
           0,
           0,
           0,
           0,
           0,
           0,
           0,
           0,
           0,
           0,
           0,
           0,
           0,
           1,
           0,
           0,
           0,
           0,
           0,
           1,
           0,
           0,
           0,
           0,
           0,
           0,
           0,
           0
          ],
          [
           0,
           1,
           0,
           0,
           0,
           1,
           0,
           0,
           0,
           0,
           0,
           0,
           1,
           1,
           1,
           2,
           1,
           1,
           0,
           1,
           7,
           1,
           3,
           0,
           1,
           5,
           3,
           2,
           1,
           2,
           0,
           1,
           1,
           0,
           2,
           0,
           2,
           1,
           0,
           0,
           0,
           0,
           0,
           0,
           0,
           0,
           0,
           0,
           1,
           0,
           0,
           0,
           1,
           0,
           1,
           0,
           0,
           0,
           0,
           6,
           0,
           0,
           4,
           2,
           1,
           6,
           0,
           1,
           1,
           2,
           1,
           1,
           2,
           2,
           1,
           1,
           0,
           2,
           3,
           1,
           1,
           0,
           0,
           0,
           0,
           0,
           0,
           0,
           1,
           0,
           1,
           1,
           0,
           0,
           1,
           0,
           0,
           0,
           9,
           2,
           2,
           0,
           1,
           3,
           1,
           5,
           3,
           3,
           1,
           2,
           2,
           0,
           1,
           0,
           0,
           1,
           0,
           2,
           1,
           1,
           0,
           3,
           0,
           0,
           0,
           0,
           0,
           0,
           0,
           0,
           1,
           1,
           0,
           1,
           0,
           0,
           0,
           1,
           0,
           0,
           0,
           0,
           0,
           4,
           0,
           0,
           2,
           1,
           2,
           1,
           3,
           0,
           1,
           2,
           0,
           1,
           1,
           0,
           2,
           1
          ],
          [
           0,
           0,
           0,
           0,
           0,
           0,
           0,
           0,
           0,
           0,
           1,
           0,
           1,
           0,
           0,
           0,
           0,
           0,
           1,
           1,
           0,
           1,
           0,
           1,
           0,
           0,
           0,
           0,
           0,
           0,
           0,
           0,
           0,
           0,
           0,
           0,
           0,
           0,
           0,
           0,
           0,
           1,
           0,
           0,
           0,
           0,
           0,
           0,
           1,
           0,
           0,
           0,
           0,
           0,
           0,
           0,
           0,
           0,
           0,
           0,
           1,
           0,
           0,
           0,
           0,
           0,
           1,
           0,
           0,
           0,
           0,
           0,
           0,
           1,
           0,
           0,
           2,
           0,
           0,
           0,
           1,
           1,
           0,
           0,
           1,
           1,
           0,
           1,
           0,
           1,
           0,
           0,
           0,
           0,
           0,
           0,
           0,
           0,
           1,
           0,
           0,
           0,
           0,
           0,
           0,
           0,
           1,
           0,
           0,
           0,
           0,
           0,
           0,
           0,
           0,
           0,
           1,
           0,
           0,
           0,
           0,
           0,
           0,
           0,
           1,
           0,
           0,
           1,
           0,
           0,
           0,
           0,
           0,
           0,
           0,
           0,
           0,
           0,
           0,
           0,
           0,
           1,
           0,
           0,
           2,
           0,
           0,
           1,
           0,
           0,
           1,
           0,
           0,
           0,
           0,
           0,
           0,
           0,
           0,
           0
          ],
          [
           0,
           1,
           0,
           1,
           1,
           0,
           0,
           1,
           0,
           0,
           0,
           0,
           0,
           0,
           0,
           0,
           0,
           1,
           0,
           0,
           0,
           0,
           0,
           0,
           0,
           0,
           1,
           0,
           0,
           1,
           0,
           0,
           0,
           0,
           0,
           0,
           0,
           0,
           0,
           0,
           0,
           2,
           0,
           1,
           0,
           0,
           0,
           0,
           0,
           0,
           0,
           0,
           0,
           1,
           0,
           0,
           0,
           0,
           0,
           1,
           0,
           0,
           1,
           1,
           0,
           0,
           0,
           1,
           0,
           0,
           0,
           0,
           0,
           0,
           0,
           0,
           0,
           1,
           0,
           0,
           0,
           0,
           0,
           0,
           0,
           0,
           1,
           0,
           0,
           0,
           1,
           0,
           0,
           1,
           1,
           0,
           1,
           0,
           0,
           0,
           0,
           0,
           0,
           0,
           0,
           0,
           0,
           0,
           0,
           0,
           0,
           0,
           0,
           0,
           0,
           0,
           1,
           0,
           1,
           1,
           0,
           0,
           0,
           0,
           0,
           0,
           0,
           0,
           0,
           0,
           0,
           0,
           0,
           0,
           0,
           0,
           0,
           0,
           0,
           0,
           0,
           0,
           0,
           0,
           0,
           0,
           0,
           1,
           0,
           0,
           0,
           0,
           0,
           0,
           1,
           0,
           0,
           0,
           0,
           0
          ],
          [
           0,
           0,
           0,
           0,
           1,
           1,
           0,
           1,
           0,
           0,
           0,
           0,
           1,
           0,
           0,
           1,
           1,
           1,
           1,
           0,
           1,
           0,
           1,
           0,
           0,
           1,
           0,
           0,
           0,
           0,
           1,
           2,
           1,
           0,
           0,
           2,
           2,
           0,
           0,
           1,
           0,
           1,
           0,
           1,
           0,
           1,
           0,
           0,
           1,
           0,
           1,
           0,
           0,
           0,
           1,
           0,
           1,
           1,
           0,
           0,
           1,
           0,
           0,
           1,
           1,
           0,
           0,
           0,
           1,
           0,
           1,
           1,
           0,
           1,
           1,
           1,
           1,
           0,
           0,
           0,
           0,
           0,
           0,
           0,
           0,
           0,
           0,
           0,
           0,
           0,
           0,
           1,
           1,
           1,
           1,
           2,
           1,
           1,
           0,
           0,
           1,
           0,
           0,
           1,
           1,
           0,
           1,
           2,
           1,
           0,
           1,
           1,
           0,
           0,
           0,
           1,
           0,
           2,
           1,
           1,
           0,
           1,
           0,
           0,
           1,
           0,
           0,
           1,
           0,
           0,
           0,
           0,
           1,
           0,
           0,
           1,
           1,
           1,
           1,
           0,
           2,
           0,
           1,
           0,
           1,
           1,
           0,
           1,
           0,
           1,
           0,
           0,
           0,
           1,
           1,
           1,
           0,
           1,
           0,
           1
          ],
          [
           0,
           0,
           0,
           0,
           2,
           0,
           0,
           1,
           0,
           0,
           1,
           0,
           1,
           0,
           0,
           0,
           0,
           0,
           0,
           0,
           0,
           0,
           0,
           0,
           0,
           0,
           0,
           0,
           0,
           0,
           0,
           0,
           0,
           1,
           0,
           0,
           0,
           0,
           0,
           1,
           0,
           0,
           0,
           0,
           0,
           1,
           1,
           1,
           0,
           1,
           0,
           0,
           0,
           1,
           0,
           0,
           0,
           0,
           0,
           2,
           0,
           0,
           0,
           1,
           1,
           3,
           2,
           0,
           0,
           0,
           0,
           0,
           2,
           3,
           1,
           0,
           0,
           0,
           0,
           0,
           0,
           0,
           0,
           0,
           0,
           0,
           0,
           0,
           2,
           0,
           0,
           2,
           1,
           0,
           0,
           1,
           0,
           2,
           1,
           2,
           0,
           0,
           1,
           3,
           2,
           1,
           1,
           0,
           0,
           0,
           0,
           2,
           1,
           0,
           0,
           0,
           0,
           1,
           0,
           0,
           0,
           0,
           0,
           1,
           0,
           0,
           0,
           0,
           0,
           1,
           0,
           2,
           0,
           0,
           3,
           0,
           0,
           0,
           0,
           0,
           0,
           0,
           0,
           2,
           1,
           2,
           0,
           0,
           0,
           0,
           0,
           0,
           0,
           0,
           0,
           0,
           1,
           0,
           2,
           1
          ],
          [
           2,
           0,
           0,
           5,
           1,
           0,
           0,
           4,
           0,
           2,
           1,
           0,
           1,
           0,
           0,
           1,
           0,
           0,
           0,
           0,
           0,
           0,
           0,
           0,
           0,
           0,
           0,
           0,
           0,
           0,
           0,
           0,
           2,
           1,
           0,
           0,
           1,
           0,
           0,
           0,
           1,
           0,
           0,
           0,
           3,
           0,
           0,
           1,
           3,
           0,
           0,
           0,
           2,
           0,
           1,
           1,
           0,
           0,
           0,
           0,
           0,
           0,
           0,
           1,
           1,
           0,
           0,
           0,
           1,
           1,
           0,
           1,
           0,
           0,
           0,
           0,
           0,
           0,
           0,
           0,
           1,
           0,
           0,
           0,
           0,
           0,
           0,
           0,
           0,
           1,
           0,
           0,
           0,
           0,
           1,
           0,
           0,
           2,
           0,
           0,
           0,
           0,
           0,
           0,
           0,
           0,
           0,
           0,
           0,
           0,
           0,
           0,
           0,
           0,
           0,
           0,
           2,
           2,
           1,
           0,
           0,
           1,
           0,
           0,
           0,
           0,
           0,
           3,
           0,
           2,
           0,
           0,
           0,
           2,
           0,
           0,
           0,
           0,
           0,
           0,
           0,
           0,
           0,
           1,
           1,
           0,
           0,
           0,
           0,
           0,
           0,
           0,
           0,
           2,
           0,
           0,
           1,
           0,
           0,
           0
          ],
          [
           0,
           0,
           0,
           1,
           0,
           0,
           0,
           1,
           0,
           0,
           0,
           0,
           0,
           0,
           0,
           0,
           0,
           0,
           0,
           0,
           0,
           0,
           0,
           0,
           0,
           1,
           0,
           0,
           0,
           0,
           1,
           1,
           0,
           1,
           0,
           0,
           1,
           0,
           0,
           0,
           0,
           0,
           0,
           0,
           2,
           0,
           0,
           0,
           0,
           1,
           1,
           0,
           1,
           0,
           0,
           0,
           0,
           0,
           0,
           0,
           0,
           0,
           0,
           1,
           0,
           0,
           0,
           0,
           1,
           0,
           0,
           0,
           0,
           0,
           1,
           3,
           0,
           0,
           0,
           0,
           0,
           0,
           0,
           0,
           0,
           0,
           1,
           1,
           0,
           0,
           0,
           1,
           0,
           0,
           0,
           0,
           0,
           0,
           0,
           0,
           0,
           0,
           0,
           0,
           0,
           0,
           1,
           0,
           0,
           0,
           0,
           0,
           0,
           0,
           0,
           0,
           0,
           0,
           0,
           0,
           0,
           0,
           0,
           0,
           1,
           0,
           0,
           0,
           0,
           0,
           1,
           3,
           0,
           0,
           0,
           0,
           0,
           0,
           0,
           1,
           0,
           0,
           0,
           0,
           0,
           0,
           0,
           0,
           0,
           1,
           0,
           1,
           0,
           0,
           1,
           1,
           1,
           0,
           0,
           0
          ],
          [
           0,
           0,
           0,
           0,
           0,
           0,
           0,
           0,
           1,
           0,
           0,
           0,
           2,
           0,
           1,
           0,
           0,
           0,
           2,
           1,
           1,
           0,
           3,
           0,
           0,
           0,
           1,
           1,
           1,
           1,
           1,
           0,
           1,
           1,
           0,
           0,
           0,
           1,
           0,
           0,
           1,
           1,
           0,
           0,
           0,
           1,
           0,
           1,
           2,
           1,
           0,
           1,
           0,
           0,
           0,
           0,
           0,
           0,
           1,
           2,
           0,
           0,
           1,
           4,
           0,
           1,
           1,
           0,
           0,
           1,
           0,
           1,
           1,
           0,
           0,
           1,
           0,
           0,
           0,
           1,
           1,
           0,
           1,
           0,
           1,
           0,
           0,
           0,
           0,
           0,
           0,
           0,
           0,
           0,
           1,
           2,
           0,
           0,
           1,
           0,
           0,
           0,
           1,
           0,
           0,
           2,
           1,
           0,
           1,
           0,
           2,
           0,
           0,
           2,
           1,
           1,
           1,
           1,
           2,
           0,
           0,
           1,
           0,
           0,
           0,
           0,
           0,
           0,
           0,
           0,
           0,
           0,
           0,
           0,
           0,
           0,
           0,
           0,
           0,
           0,
           0,
           1,
           2,
           2,
           2,
           0,
           2,
           0,
           0,
           0,
           0,
           0,
           0,
           0,
           1,
           1,
           0,
           0,
           2,
           0
          ],
          [
           0,
           0,
           0,
           0,
           0,
           0,
           0,
           0,
           1,
           0,
           0,
           0,
           1,
           0,
           0,
           0,
           0,
           0,
           1,
           0,
           1,
           0,
           2,
           0,
           0,
           0,
           1,
           0,
           0,
           1,
           0,
           0,
           1,
           0,
           0,
           0,
           0,
           1,
           0,
           0,
           1,
           1,
           0,
           0,
           0,
           0,
           0,
           0,
           2,
           0,
           0,
           1,
           0,
           0,
           0,
           0,
           0,
           0,
           1,
           0,
           0,
           0,
           1,
           0,
           0,
           1,
           0,
           0,
           0,
           0,
           0,
           3,
           0,
           0,
           0,
           1,
           0,
           0,
           1,
           1,
           3,
           1,
           0,
           0,
           0,
           0,
           0,
           0,
           0,
           0,
           0,
           2,
           0,
           0,
           1,
           0,
           0,
           0,
           1,
           0,
           0,
           0,
           0,
           0,
           0,
           1,
           1,
           0,
           3,
           0,
           0,
           0,
           0,
           1,
           1,
           0,
           0,
           0,
           1,
           0,
           0,
           1,
           0,
           0,
           0,
           0,
           0,
           1,
           0,
           0,
           0,
           1,
           0,
           0,
           0,
           0,
           0,
           1,
           0,
           1,
           0,
           1,
           2,
           1,
           2,
           0,
           1,
           1,
           0,
           0,
           0,
           0,
           0,
           0,
           2,
           1,
           0,
           0,
           1,
           0
          ],
          [
           0,
           0,
           0,
           0,
           0,
           0,
           0,
           0,
           0,
           0,
           0,
           0,
           0,
           0,
           0,
           0,
           0,
           0,
           0,
           0,
           0,
           0,
           0,
           0,
           0,
           0,
           0,
           0,
           0,
           0,
           1,
           0,
           0,
           0,
           1,
           0,
           0,
           0,
           0,
           0,
           0,
           0,
           0,
           0,
           0,
           0,
           0,
           0,
           0,
           0,
           0,
           0,
           0,
           0,
           0,
           0,
           1,
           1,
           0,
           0,
           0,
           0,
           1,
           0,
           0,
           0,
           0,
           1,
           0,
           0,
           0,
           0,
           0,
           0,
           0,
           0,
           0,
           1,
           0,
           1,
           0,
           1,
           0,
           0,
           0,
           0,
           0,
           0,
           0,
           0,
           0,
           0,
           2,
           0,
           1,
           1,
           0,
           0,
           1,
           0,
           0,
           1,
           0,
           0,
           0,
           0,
           0,
           0,
           0,
           0,
           0,
           1,
           1,
           0,
           1,
           0,
           1,
           0,
           0,
           0,
           0,
           0,
           0,
           0,
           0,
           0,
           0,
           0,
           0,
           0,
           0,
           0,
           0,
           0,
           0,
           0,
           0,
           1,
           0,
           0,
           0,
           0,
           1,
           0,
           1,
           0,
           0,
           0,
           0,
           0,
           1,
           0,
           0,
           0,
           0,
           0,
           0,
           0,
           0,
           0
          ],
          [
           0,
           0,
           0,
           0,
           0,
           0,
           0,
           0,
           1,
           0,
           0,
           0,
           1,
           0,
           0,
           0,
           1,
           0,
           0,
           0,
           1,
           0,
           0,
           0,
           1,
           0,
           0,
           0,
           1,
           1,
           0,
           0,
           0,
           0,
           0,
           0,
           1,
           0,
           1,
           1,
           0,
           0,
           0,
           0,
           0,
           0,
           0,
           0,
           0,
           0,
           0,
           0,
           0,
           0,
           1,
           1,
           0,
           0,
           1,
           0,
           0,
           0,
           1,
           0,
           1,
           0,
           0,
           0,
           1,
           0,
           1,
           3,
           0,
           0,
           0,
           0,
           0,
           0,
           0,
           1,
           0,
           0,
           0,
           0,
           0,
           0,
           0,
           1,
           0,
           0,
           0,
           0,
           0,
           0,
           1,
           0,
           1,
           1,
           0,
           0,
           0,
           0,
           1,
           0,
           0,
           0,
           0,
           0,
           0,
           2,
           0,
           1,
           0,
           0,
           0,
           0,
           0,
           0,
           1,
           0,
           0,
           0,
           0,
           0,
           0,
           0,
           0,
           0,
           0,
           0,
           0,
           0,
           0,
           0,
           1,
           2,
           0,
           0,
           1,
           0,
           0,
           1,
           0,
           0,
           0,
           0,
           0,
           0,
           0,
           0,
           0,
           0,
           0,
           0,
           1,
           0,
           2,
           1,
           0,
           1
          ],
          [
           0,
           1,
           0,
           0,
           0,
           0,
           0,
           1,
           0,
           0,
           0,
           0,
           0,
           0,
           0,
           1,
           0,
           3,
           1,
           0,
           0,
           1,
           1,
           2,
           1,
           0,
           1,
           1,
           2,
           1,
           0,
           0,
           0,
           1,
           1,
           0,
           0,
           0,
           0,
           0,
           0,
           0,
           0,
           0,
           0,
           0,
           0,
           0,
           0,
           0,
           0,
           0,
           0,
           0,
           1,
           0,
           0,
           1,
           0,
           0,
           0,
           0,
           0,
           0,
           0,
           0,
           0,
           0,
           0,
           0,
           0,
           0,
           0,
           0,
           0,
           1,
           1,
           0,
           0,
           0,
           0,
           0,
           0,
           0,
           0,
           0,
           0,
           0,
           0,
           0,
           0,
           0,
           0,
           0,
           3,
           0,
           0,
           0,
           0,
           1,
           0,
           0,
           1,
           0,
           0,
           1,
           0,
           0,
           0,
           0,
           1,
           0,
           1,
           2,
           0,
           0,
           0,
           0,
           0,
           0,
           0,
           0,
           0,
           0,
           0,
           0,
           0,
           0,
           0,
           0,
           0,
           0,
           0,
           0,
           0,
           0,
           1,
           1,
           0,
           0,
           1,
           0,
           0,
           0,
           0,
           0,
           0,
           0,
           0,
           0,
           0,
           1,
           0,
           0,
           0,
           0,
           0,
           0,
           0,
           0
          ],
          [
           0,
           0,
           0,
           0,
           0,
           0,
           0,
           0,
           0,
           0,
           0,
           0,
           0,
           0,
           0,
           0,
           0,
           0,
           0,
           0,
           0,
           2,
           4,
           1,
           2,
           0,
           1,
           2,
           2,
           1,
           0,
           1,
           3,
           0,
           2,
           3,
           0,
           1,
           0,
           0,
           0,
           0,
           0,
           0,
           0,
           0,
           1,
           0,
           0,
           1,
           1,
           0,
           1,
           0,
           0,
           0,
           0,
           0,
           1,
           0,
           1,
           2,
           0,
           0,
           1,
           1,
           1,
           3,
           1,
           2,
           2,
           3,
           0,
           1,
           4,
           1,
           1,
           2,
           2,
           0,
           0,
           1,
           0,
           0,
           0,
           0,
           1,
           2,
           2,
           1,
           0,
           0,
           0,
           0,
           0,
           0,
           1,
           0,
           1,
           1,
           0,
           0,
           4,
           2,
           1,
           4,
           4,
           0,
           3,
           3,
           4,
           0,
           0,
           1,
           0,
           1,
           0,
           0,
           1,
           0,
           0,
           0,
           0,
           0,
           0,
           0,
           0,
           0,
           1,
           1,
           1,
           0,
           0,
           1,
           1,
           3,
           0,
           0,
           0,
           2,
           0,
           1,
           2,
           0,
           1,
           1,
           1,
           1,
           2,
           0,
           1,
           1,
           1,
           1,
           0,
           1,
           0,
           1,
           2,
           1
          ],
          [
           0,
           0,
           0,
           0,
           0,
           1,
           0,
           0,
           0,
           0,
           0,
           0,
           0,
           0,
           0,
           0,
           0,
           0,
           0,
           0,
           1,
           1,
           2,
           0,
           0,
           1,
           0,
           1,
           0,
           0,
           0,
           0,
           1,
           0,
           2,
           1,
           0,
           1,
           0,
           0,
           0,
           0,
           0,
           0,
           0,
           0,
           0,
           0,
           0,
           0,
           0,
           0,
           0,
           0,
           0,
           0,
           0,
           0,
           0,
           0,
           0,
           0,
           0,
           1,
           0,
           0,
           0,
           0,
           0,
           0,
           0,
           1,
           1,
           0,
           1,
           1,
           0,
           0,
           0,
           1,
           0,
           1,
           0,
           0,
           1,
           0,
           0,
           0,
           0,
           0,
           0,
           0,
           0,
           0,
           0,
           0,
           0,
           0,
           0,
           1,
           4,
           2,
           3,
           1,
           0,
           1,
           0,
           0,
           0,
           2,
           1,
           0,
           1,
           0,
           1,
           1,
           0,
           1,
           0,
           0,
           0,
           0,
           0,
           0,
           0,
           0,
           0,
           0,
           0,
           1,
           0,
           0,
           0,
           0,
           0,
           0,
           1,
           1,
           1,
           1,
           0,
           1,
           1,
           0,
           0,
           3,
           5,
           0,
           1,
           4,
           1,
           0,
           3,
           1,
           0,
           0,
           1,
           1,
           0,
           0
          ],
          [
           1,
           0,
           0,
           0,
           0,
           1,
           0,
           0,
           0,
           0,
           0,
           0,
           0,
           0,
           1,
           0,
           0,
           0,
           0,
           0,
           0,
           0,
           0,
           0,
           0,
           0,
           0,
           0,
           0,
           0,
           0,
           0,
           0,
           0,
           0,
           0,
           0,
           0,
           0,
           0,
           0,
           0,
           0,
           1,
           0,
           0,
           0,
           0,
           0,
           0,
           0,
           0,
           0,
           0,
           0,
           0,
           0,
           0,
           0,
           0,
           0,
           0,
           0,
           0,
           0,
           1,
           0,
           0,
           0,
           0,
           0,
           0,
           0,
           1,
           0,
           0,
           0,
           0,
           0,
           0,
           0,
           1,
           0,
           0,
           0,
           0,
           0,
           0,
           0,
           0,
           0,
           0,
           0,
           0,
           0,
           0,
           0,
           0,
           0,
           0,
           0,
           0,
           1,
           0,
           0,
           0,
           0,
           0,
           0,
           0,
           0,
           0,
           0,
           0,
           0,
           0,
           0,
           0,
           0,
           0,
           0,
           0,
           0,
           0,
           0,
           0,
           0,
           0,
           0,
           0,
           0,
           0,
           0,
           0,
           0,
           0,
           0,
           0,
           0,
           0,
           0,
           0,
           0,
           0,
           1,
           0,
           0,
           2,
           0,
           0,
           1,
           0,
           0,
           0,
           0,
           0,
           0,
           0,
           0,
           0
          ],
          [
           0,
           0,
           1,
           1,
           1,
           1,
           1,
           0,
           0,
           0,
           0,
           0,
           0,
           0,
           0,
           1,
           3,
           0,
           0,
           0,
           0,
           0,
           1,
           1,
           0,
           0,
           0,
           0,
           0,
           0,
           0,
           0,
           1,
           1,
           0,
           0,
           0,
           0,
           1,
           0,
           0,
           2,
           3,
           0,
           1,
           0,
           0,
           0,
           0,
           0,
           0,
           0,
           1,
           0,
           0,
           0,
           0,
           1,
           0,
           0,
           0,
           0,
           0,
           0,
           0,
           0,
           0,
           1,
           0,
           0,
           0,
           0,
           0,
           1,
           0,
           0,
           0,
           0,
           0,
           0,
           0,
           0,
           0,
           0,
           1,
           0,
           0,
           0,
           0,
           0,
           0,
           0,
           1,
           0,
           0,
           0,
           0,
           0,
           0,
           0,
           0,
           0,
           0,
           0,
           0,
           0,
           0,
           0,
           0,
           0,
           0,
           0,
           0,
           0,
           0,
           0,
           0,
           0,
           0,
           0,
           0,
           0,
           0,
           0,
           2,
           0,
           0,
           0,
           0,
           0,
           0,
           0,
           0,
           0,
           0,
           1,
           1,
           0,
           0,
           0,
           0,
           0,
           0,
           0,
           1,
           0,
           0,
           0,
           0,
           0,
           0,
           0,
           0,
           0,
           0,
           0,
           0,
           0,
           0,
           0
          ],
          [
           0,
           0,
           0,
           0,
           0,
           0,
           0,
           0,
           0,
           0,
           0,
           0,
           0,
           0,
           0,
           0,
           0,
           0,
           0,
           0,
           0,
           0,
           0,
           0,
           0,
           0,
           0,
           0,
           0,
           0,
           0,
           0,
           0,
           0,
           0,
           0,
           0,
           0,
           0,
           1,
           0,
           0,
           0,
           0,
           0,
           0,
           0,
           0,
           0,
           0,
           0,
           0,
           0,
           0,
           0,
           0,
           0,
           0,
           0,
           0,
           0,
           0,
           0,
           0,
           0,
           0,
           0,
           0,
           0,
           0,
           0,
           0,
           0,
           0,
           0,
           0,
           0,
           0,
           0,
           0,
           0,
           0,
           0,
           0,
           0,
           0,
           0,
           0,
           0,
           0,
           0,
           0,
           0,
           0,
           0,
           0,
           0,
           0,
           0,
           0,
           0,
           1,
           0,
           0,
           1,
           0,
           0,
           0,
           1,
           0,
           0,
           0,
           0,
           0,
           0,
           0,
           0,
           0,
           0,
           0,
           0,
           0,
           0,
           0,
           0,
           0,
           0,
           0,
           0,
           0,
           0,
           0,
           0,
           0,
           0,
           0,
           0,
           0,
           0,
           0,
           1,
           0,
           0,
           0,
           0,
           0,
           0,
           0,
           0,
           0,
           2,
           0,
           0,
           1,
           0,
           0,
           0,
           0,
           1,
           0
          ],
          [
           0,
           0,
           0,
           0,
           0,
           1,
           0,
           0,
           0,
           0,
           0,
           0,
           0,
           0,
           1,
           0,
           0,
           1,
           1,
           0,
           0,
           0,
           0,
           1,
           0,
           1,
           0,
           0,
           0,
           0,
           0,
           0,
           2,
           0,
           0,
           0,
           0,
           0,
           0,
           0,
           1,
           1,
           1,
           0,
           1,
           0,
           0,
           0,
           0,
           0,
           1,
           3,
           1,
           0,
           1,
           0,
           1,
           0,
           0,
           0,
           0,
           0,
           0,
           0,
           0,
           0,
           0,
           1,
           0,
           0,
           0,
           0,
           0,
           0,
           0,
           0,
           0,
           0,
           0,
           0,
           0,
           0,
           0,
           0,
           2,
           0,
           0,
           0,
           0,
           0,
           0,
           1,
           1,
           1,
           0,
           0,
           1,
           2,
           0,
           0,
           0,
           0,
           0,
           0,
           0,
           0,
           0,
           0,
           0,
           0,
           0,
           0,
           0,
           0,
           0,
           0,
           3,
           0,
           0,
           0,
           2,
           1,
           1,
           0,
           0,
           0,
           1,
           1,
           0,
           0,
           1,
           0,
           1,
           0,
           1,
           0,
           0,
           0,
           0,
           2,
           0,
           0,
           0,
           1,
           0,
           0,
           0,
           0,
           0,
           0,
           0,
           0,
           0,
           0,
           0,
           0,
           0,
           0,
           0,
           0
          ],
          [
           0,
           0,
           0,
           0,
           0,
           0,
           0,
           0,
           0,
           0,
           0,
           0,
           0,
           0,
           0,
           1,
           0,
           0,
           0,
           0,
           0,
           1,
           0,
           0,
           0,
           0,
           0,
           0,
           0,
           0,
           0,
           0,
           0,
           0,
           1,
           0,
           0,
           0,
           0,
           0,
           0,
           0,
           0,
           0,
           0,
           0,
           0,
           0,
           3,
           0,
           0,
           0,
           0,
           0,
           0,
           0,
           0,
           0,
           0,
           0,
           0,
           0,
           0,
           0,
           0,
           0,
           0,
           0,
           0,
           0,
           0,
           0,
           1,
           0,
           1,
           0,
           0,
           0,
           0,
           0,
           0,
           0,
           0,
           0,
           0,
           0,
           0,
           0,
           0,
           0,
           0,
           0,
           0,
           1,
           0,
           0,
           0,
           1,
           0,
           0,
           0,
           0,
           0,
           0,
           0,
           0,
           0,
           0,
           0,
           0,
           0,
           0,
           0,
           0,
           0,
           0,
           0,
           0,
           0,
           0,
           0,
           0,
           3,
           0,
           0,
           0,
           0,
           0,
           0,
           0,
           0,
           0,
           0,
           0,
           1,
           0,
           0,
           0,
           0,
           0,
           0,
           0,
           0,
           0,
           0,
           0,
           0,
           0,
           0,
           0,
           0,
           0,
           1,
           0,
           0,
           0,
           0,
           0,
           0,
           0
          ],
          [
           1,
           0,
           1,
           0,
           0,
           2,
           0,
           0,
           1,
           1,
           0,
           0,
           0,
           0,
           0,
           0,
           0,
           0,
           4,
           0,
           1,
           0,
           0,
           0,
           0,
           0,
           0,
           0,
           0,
           1,
           0,
           1,
           1,
           0,
           2,
           0,
           1,
           1,
           1,
           0,
           0,
           0,
           0,
           0,
           0,
           0,
           0,
           0,
           0,
           0,
           1,
           0,
           1,
           0,
           0,
           1,
           1,
           1,
           1,
           0,
           1,
           1,
           0,
           0,
           0,
           0,
           0,
           0,
           0,
           0,
           0,
           0,
           0,
           1,
           0,
           0,
           0,
           0,
           0,
           0,
           1,
           1,
           2,
           1,
           1,
           1,
           0,
           1,
           1,
           0,
           0,
           0,
           0,
           0,
           0,
           0,
           0,
           0,
           0,
           0,
           0,
           0,
           0,
           0,
           0,
           0,
           0,
           0,
           0,
           0,
           0,
           0,
           1,
           0,
           1,
           1,
           0,
           0,
           1,
           0,
           0,
           0,
           2,
           0,
           0,
           0,
           0,
           0,
           0,
           0,
           0,
           0,
           0,
           0,
           0,
           0,
           1,
           1,
           0,
           1,
           0,
           0,
           0,
           0,
           0,
           0,
           0,
           1,
           0,
           1,
           2,
           1,
           0,
           0,
           0,
           1,
           0,
           2,
           0,
           0
          ],
          [
           0,
           0,
           0,
           0,
           0,
           0,
           0,
           0,
           0,
           0,
           0,
           0,
           0,
           0,
           0,
           0,
           0,
           0,
           1,
           0,
           0,
           3,
           0,
           0,
           0,
           0,
           0,
           0,
           0,
           0,
           0,
           0,
           0,
           0,
           0,
           0,
           0,
           2,
           3,
           0,
           0,
           1,
           0,
           0,
           1,
           0,
           0,
           0,
           0,
           4,
           0,
           0,
           0,
           0,
           0,
           0,
           0,
           3,
           2,
           0,
           0,
           0,
           0,
           0,
           0,
           0,
           0,
           0,
           0,
           0,
           0,
           0,
           0,
           0,
           0,
           0,
           0,
           0,
           0,
           0,
           0,
           2,
           0,
           0,
           0,
           0,
           0,
           0,
           0,
           0,
           0,
           0,
           0,
           0,
           0,
           0,
           1,
           0,
           0,
           0,
           0,
           0,
           0,
           0,
           0,
           4,
           0,
           0,
           0,
           0,
           0,
           0,
           0,
           1,
           0,
           0,
           0,
           0,
           2,
           3,
           0,
           0,
           0,
           0,
           0,
           0,
           0,
           0,
           0,
           0,
           0,
           0,
           0,
           0,
           0,
           0,
           4,
           0,
           0,
           0,
           0,
           0,
           0,
           0,
           0,
           2,
           0,
           0,
           0,
           0,
           1,
           0,
           0,
           0,
           0,
           0,
           0,
           0,
           0,
           0
          ]
         ]
        }
       ],
       "layout": {
        "shapes": [
         {
          "line": {
           "color": "Red",
           "width": 1
          },
          "type": "line",
          "x0": 40,
          "x1": 40,
          "y0": -0.5,
          "y1": 23.5
         },
         {
          "line": {
           "color": "Red",
           "width": 1
          },
          "type": "line",
          "x0": 80,
          "x1": 80,
          "y0": -0.5,
          "y1": 23.5
         },
         {
          "line": {
           "color": "Red",
           "width": 1
          },
          "type": "line",
          "x0": 120,
          "x1": 120,
          "y0": -0.5,
          "y1": 23.5
         }
        ],
        "template": {
         "data": {
          "bar": [
           {
            "error_x": {
             "color": "#2a3f5f"
            },
            "error_y": {
             "color": "#2a3f5f"
            },
            "marker": {
             "line": {
              "color": "#E5ECF6",
              "width": 0.5
             },
             "pattern": {
              "fillmode": "overlay",
              "size": 10,
              "solidity": 0.2
             }
            },
            "type": "bar"
           }
          ],
          "barpolar": [
           {
            "marker": {
             "line": {
              "color": "#E5ECF6",
              "width": 0.5
             },
             "pattern": {
              "fillmode": "overlay",
              "size": 10,
              "solidity": 0.2
             }
            },
            "type": "barpolar"
           }
          ],
          "carpet": [
           {
            "aaxis": {
             "endlinecolor": "#2a3f5f",
             "gridcolor": "white",
             "linecolor": "white",
             "minorgridcolor": "white",
             "startlinecolor": "#2a3f5f"
            },
            "baxis": {
             "endlinecolor": "#2a3f5f",
             "gridcolor": "white",
             "linecolor": "white",
             "minorgridcolor": "white",
             "startlinecolor": "#2a3f5f"
            },
            "type": "carpet"
           }
          ],
          "choropleth": [
           {
            "colorbar": {
             "outlinewidth": 0,
             "ticks": ""
            },
            "type": "choropleth"
           }
          ],
          "contour": [
           {
            "colorbar": {
             "outlinewidth": 0,
             "ticks": ""
            },
            "colorscale": [
             [
              0,
              "#0d0887"
             ],
             [
              0.1111111111111111,
              "#46039f"
             ],
             [
              0.2222222222222222,
              "#7201a8"
             ],
             [
              0.3333333333333333,
              "#9c179e"
             ],
             [
              0.4444444444444444,
              "#bd3786"
             ],
             [
              0.5555555555555556,
              "#d8576b"
             ],
             [
              0.6666666666666666,
              "#ed7953"
             ],
             [
              0.7777777777777778,
              "#fb9f3a"
             ],
             [
              0.8888888888888888,
              "#fdca26"
             ],
             [
              1,
              "#f0f921"
             ]
            ],
            "type": "contour"
           }
          ],
          "contourcarpet": [
           {
            "colorbar": {
             "outlinewidth": 0,
             "ticks": ""
            },
            "type": "contourcarpet"
           }
          ],
          "heatmap": [
           {
            "colorbar": {
             "outlinewidth": 0,
             "ticks": ""
            },
            "colorscale": [
             [
              0,
              "#0d0887"
             ],
             [
              0.1111111111111111,
              "#46039f"
             ],
             [
              0.2222222222222222,
              "#7201a8"
             ],
             [
              0.3333333333333333,
              "#9c179e"
             ],
             [
              0.4444444444444444,
              "#bd3786"
             ],
             [
              0.5555555555555556,
              "#d8576b"
             ],
             [
              0.6666666666666666,
              "#ed7953"
             ],
             [
              0.7777777777777778,
              "#fb9f3a"
             ],
             [
              0.8888888888888888,
              "#fdca26"
             ],
             [
              1,
              "#f0f921"
             ]
            ],
            "type": "heatmap"
           }
          ],
          "heatmapgl": [
           {
            "colorbar": {
             "outlinewidth": 0,
             "ticks": ""
            },
            "colorscale": [
             [
              0,
              "#0d0887"
             ],
             [
              0.1111111111111111,
              "#46039f"
             ],
             [
              0.2222222222222222,
              "#7201a8"
             ],
             [
              0.3333333333333333,
              "#9c179e"
             ],
             [
              0.4444444444444444,
              "#bd3786"
             ],
             [
              0.5555555555555556,
              "#d8576b"
             ],
             [
              0.6666666666666666,
              "#ed7953"
             ],
             [
              0.7777777777777778,
              "#fb9f3a"
             ],
             [
              0.8888888888888888,
              "#fdca26"
             ],
             [
              1,
              "#f0f921"
             ]
            ],
            "type": "heatmapgl"
           }
          ],
          "histogram": [
           {
            "marker": {
             "pattern": {
              "fillmode": "overlay",
              "size": 10,
              "solidity": 0.2
             }
            },
            "type": "histogram"
           }
          ],
          "histogram2d": [
           {
            "colorbar": {
             "outlinewidth": 0,
             "ticks": ""
            },
            "colorscale": [
             [
              0,
              "#0d0887"
             ],
             [
              0.1111111111111111,
              "#46039f"
             ],
             [
              0.2222222222222222,
              "#7201a8"
             ],
             [
              0.3333333333333333,
              "#9c179e"
             ],
             [
              0.4444444444444444,
              "#bd3786"
             ],
             [
              0.5555555555555556,
              "#d8576b"
             ],
             [
              0.6666666666666666,
              "#ed7953"
             ],
             [
              0.7777777777777778,
              "#fb9f3a"
             ],
             [
              0.8888888888888888,
              "#fdca26"
             ],
             [
              1,
              "#f0f921"
             ]
            ],
            "type": "histogram2d"
           }
          ],
          "histogram2dcontour": [
           {
            "colorbar": {
             "outlinewidth": 0,
             "ticks": ""
            },
            "colorscale": [
             [
              0,
              "#0d0887"
             ],
             [
              0.1111111111111111,
              "#46039f"
             ],
             [
              0.2222222222222222,
              "#7201a8"
             ],
             [
              0.3333333333333333,
              "#9c179e"
             ],
             [
              0.4444444444444444,
              "#bd3786"
             ],
             [
              0.5555555555555556,
              "#d8576b"
             ],
             [
              0.6666666666666666,
              "#ed7953"
             ],
             [
              0.7777777777777778,
              "#fb9f3a"
             ],
             [
              0.8888888888888888,
              "#fdca26"
             ],
             [
              1,
              "#f0f921"
             ]
            ],
            "type": "histogram2dcontour"
           }
          ],
          "mesh3d": [
           {
            "colorbar": {
             "outlinewidth": 0,
             "ticks": ""
            },
            "type": "mesh3d"
           }
          ],
          "parcoords": [
           {
            "line": {
             "colorbar": {
              "outlinewidth": 0,
              "ticks": ""
             }
            },
            "type": "parcoords"
           }
          ],
          "pie": [
           {
            "automargin": true,
            "type": "pie"
           }
          ],
          "scatter": [
           {
            "fillpattern": {
             "fillmode": "overlay",
             "size": 10,
             "solidity": 0.2
            },
            "type": "scatter"
           }
          ],
          "scatter3d": [
           {
            "line": {
             "colorbar": {
              "outlinewidth": 0,
              "ticks": ""
             }
            },
            "marker": {
             "colorbar": {
              "outlinewidth": 0,
              "ticks": ""
             }
            },
            "type": "scatter3d"
           }
          ],
          "scattercarpet": [
           {
            "marker": {
             "colorbar": {
              "outlinewidth": 0,
              "ticks": ""
             }
            },
            "type": "scattercarpet"
           }
          ],
          "scattergeo": [
           {
            "marker": {
             "colorbar": {
              "outlinewidth": 0,
              "ticks": ""
             }
            },
            "type": "scattergeo"
           }
          ],
          "scattergl": [
           {
            "marker": {
             "colorbar": {
              "outlinewidth": 0,
              "ticks": ""
             }
            },
            "type": "scattergl"
           }
          ],
          "scattermapbox": [
           {
            "marker": {
             "colorbar": {
              "outlinewidth": 0,
              "ticks": ""
             }
            },
            "type": "scattermapbox"
           }
          ],
          "scatterpolar": [
           {
            "marker": {
             "colorbar": {
              "outlinewidth": 0,
              "ticks": ""
             }
            },
            "type": "scatterpolar"
           }
          ],
          "scatterpolargl": [
           {
            "marker": {
             "colorbar": {
              "outlinewidth": 0,
              "ticks": ""
             }
            },
            "type": "scatterpolargl"
           }
          ],
          "scatterternary": [
           {
            "marker": {
             "colorbar": {
              "outlinewidth": 0,
              "ticks": ""
             }
            },
            "type": "scatterternary"
           }
          ],
          "surface": [
           {
            "colorbar": {
             "outlinewidth": 0,
             "ticks": ""
            },
            "colorscale": [
             [
              0,
              "#0d0887"
             ],
             [
              0.1111111111111111,
              "#46039f"
             ],
             [
              0.2222222222222222,
              "#7201a8"
             ],
             [
              0.3333333333333333,
              "#9c179e"
             ],
             [
              0.4444444444444444,
              "#bd3786"
             ],
             [
              0.5555555555555556,
              "#d8576b"
             ],
             [
              0.6666666666666666,
              "#ed7953"
             ],
             [
              0.7777777777777778,
              "#fb9f3a"
             ],
             [
              0.8888888888888888,
              "#fdca26"
             ],
             [
              1,
              "#f0f921"
             ]
            ],
            "type": "surface"
           }
          ],
          "table": [
           {
            "cells": {
             "fill": {
              "color": "#EBF0F8"
             },
             "line": {
              "color": "white"
             }
            },
            "header": {
             "fill": {
              "color": "#C8D4E3"
             },
             "line": {
              "color": "white"
             }
            },
            "type": "table"
           }
          ]
         },
         "layout": {
          "annotationdefaults": {
           "arrowcolor": "#2a3f5f",
           "arrowhead": 0,
           "arrowwidth": 1
          },
          "autotypenumbers": "strict",
          "coloraxis": {
           "colorbar": {
            "outlinewidth": 0,
            "ticks": ""
           }
          },
          "colorscale": {
           "diverging": [
            [
             0,
             "#8e0152"
            ],
            [
             0.1,
             "#c51b7d"
            ],
            [
             0.2,
             "#de77ae"
            ],
            [
             0.3,
             "#f1b6da"
            ],
            [
             0.4,
             "#fde0ef"
            ],
            [
             0.5,
             "#f7f7f7"
            ],
            [
             0.6,
             "#e6f5d0"
            ],
            [
             0.7,
             "#b8e186"
            ],
            [
             0.8,
             "#7fbc41"
            ],
            [
             0.9,
             "#4d9221"
            ],
            [
             1,
             "#276419"
            ]
           ],
           "sequential": [
            [
             0,
             "#0d0887"
            ],
            [
             0.1111111111111111,
             "#46039f"
            ],
            [
             0.2222222222222222,
             "#7201a8"
            ],
            [
             0.3333333333333333,
             "#9c179e"
            ],
            [
             0.4444444444444444,
             "#bd3786"
            ],
            [
             0.5555555555555556,
             "#d8576b"
            ],
            [
             0.6666666666666666,
             "#ed7953"
            ],
            [
             0.7777777777777778,
             "#fb9f3a"
            ],
            [
             0.8888888888888888,
             "#fdca26"
            ],
            [
             1,
             "#f0f921"
            ]
           ],
           "sequentialminus": [
            [
             0,
             "#0d0887"
            ],
            [
             0.1111111111111111,
             "#46039f"
            ],
            [
             0.2222222222222222,
             "#7201a8"
            ],
            [
             0.3333333333333333,
             "#9c179e"
            ],
            [
             0.4444444444444444,
             "#bd3786"
            ],
            [
             0.5555555555555556,
             "#d8576b"
            ],
            [
             0.6666666666666666,
             "#ed7953"
            ],
            [
             0.7777777777777778,
             "#fb9f3a"
            ],
            [
             0.8888888888888888,
             "#fdca26"
            ],
            [
             1,
             "#f0f921"
            ]
           ]
          },
          "colorway": [
           "#636efa",
           "#EF553B",
           "#00cc96",
           "#ab63fa",
           "#FFA15A",
           "#19d3f3",
           "#FF6692",
           "#B6E880",
           "#FF97FF",
           "#FECB52"
          ],
          "font": {
           "color": "#2a3f5f"
          },
          "geo": {
           "bgcolor": "white",
           "lakecolor": "white",
           "landcolor": "#E5ECF6",
           "showlakes": true,
           "showland": true,
           "subunitcolor": "white"
          },
          "hoverlabel": {
           "align": "left"
          },
          "hovermode": "closest",
          "mapbox": {
           "style": "light"
          },
          "paper_bgcolor": "white",
          "plot_bgcolor": "#E5ECF6",
          "polar": {
           "angularaxis": {
            "gridcolor": "white",
            "linecolor": "white",
            "ticks": ""
           },
           "bgcolor": "#E5ECF6",
           "radialaxis": {
            "gridcolor": "white",
            "linecolor": "white",
            "ticks": ""
           }
          },
          "scene": {
           "xaxis": {
            "backgroundcolor": "#E5ECF6",
            "gridcolor": "white",
            "gridwidth": 2,
            "linecolor": "white",
            "showbackground": true,
            "ticks": "",
            "zerolinecolor": "white"
           },
           "yaxis": {
            "backgroundcolor": "#E5ECF6",
            "gridcolor": "white",
            "gridwidth": 2,
            "linecolor": "white",
            "showbackground": true,
            "ticks": "",
            "zerolinecolor": "white"
           },
           "zaxis": {
            "backgroundcolor": "#E5ECF6",
            "gridcolor": "white",
            "gridwidth": 2,
            "linecolor": "white",
            "showbackground": true,
            "ticks": "",
            "zerolinecolor": "white"
           }
          },
          "shapedefaults": {
           "line": {
            "color": "#2a3f5f"
           }
          },
          "ternary": {
           "aaxis": {
            "gridcolor": "white",
            "linecolor": "white",
            "ticks": ""
           },
           "baxis": {
            "gridcolor": "white",
            "linecolor": "white",
            "ticks": ""
           },
           "bgcolor": "#E5ECF6",
           "caxis": {
            "gridcolor": "white",
            "linecolor": "white",
            "ticks": ""
           }
          },
          "title": {
           "x": 0.05
          },
          "xaxis": {
           "automargin": true,
           "gridcolor": "white",
           "linecolor": "white",
           "ticks": "",
           "title": {
            "standoff": 15
           },
           "zerolinecolor": "white",
           "zerolinewidth": 2
          },
          "yaxis": {
           "automargin": true,
           "gridcolor": "white",
           "linecolor": "white",
           "ticks": "",
           "title": {
            "standoff": 15
           },
           "zerolinecolor": "white",
           "zerolinewidth": 2
          }
         }
        },
        "title": {
         "text": "True number of spikes"
        },
        "xaxis": {
         "title": {
          "text": "Time bin"
         }
        },
        "yaxis": {
         "title": {
          "text": "Neuron"
         }
        }
       }
      },
      "text/html": [
       "<div>                            <div id=\"01f8ab22-ed01-4063-8492-2d409631c0d7\" class=\"plotly-graph-div\" style=\"height:525px; width:100%;\"></div>            <script type=\"text/javascript\">                require([\"plotly\"], function(Plotly) {                    window.PLOTLYENV=window.PLOTLYENV || {};                                    if (document.getElementById(\"01f8ab22-ed01-4063-8492-2d409631c0d7\")) {                    Plotly.newPlot(                        \"01f8ab22-ed01-4063-8492-2d409631c0d7\",                        [{\"colorscale\":[[0.0,\"#440154\"],[0.1111111111111111,\"#482878\"],[0.2222222222222222,\"#3e4989\"],[0.3333333333333333,\"#31688e\"],[0.4444444444444444,\"#26828e\"],[0.5555555555555556,\"#1f9e89\"],[0.6666666666666666,\"#35b779\"],[0.7777777777777778,\"#6ece58\"],[0.8888888888888888,\"#b5de2b\"],[1.0,\"#fde725\"]],\"z\":[[0.0,0.0,1.0,0.0,0.0,0.0,0.0,0.0,1.0,0.0,0.0,0.0,1.0,1.0,0.0,0.0,0.0,0.0,0.0,1.0,0.0,0.0,0.0,0.0,0.0,0.0,0.0,1.0,0.0,1.0,0.0,0.0,0.0,0.0,0.0,0.0,0.0,0.0,1.0,1.0,0.0,1.0,0.0,0.0,0.0,0.0,0.0,0.0,0.0,0.0,0.0,0.0,1.0,1.0,0.0,0.0,0.0,0.0,0.0,0.0,0.0,0.0,0.0,0.0,0.0,0.0,0.0,0.0,0.0,0.0,0.0,3.0,0.0,0.0,0.0,0.0,0.0,0.0,0.0,0.0,0.0,0.0,0.0,0.0,0.0,0.0,0.0,0.0,0.0,0.0,0.0,2.0,0.0,1.0,0.0,2.0,1.0,1.0,0.0,0.0,1.0,0.0,0.0,0.0,0.0,0.0,2.0,0.0,0.0,1.0,1.0,0.0,0.0,1.0,0.0,1.0,0.0,0.0,1.0,0.0,0.0,0.0,0.0,0.0,0.0,0.0,0.0,0.0,0.0,0.0,0.0,1.0,0.0,1.0,0.0,0.0,0.0,0.0,0.0,2.0,3.0,1.0,1.0,1.0,2.0,1.0,0.0,0.0,0.0,0.0,1.0,1.0,0.0,2.0,1.0,2.0,1.0,2.0,3.0,0.0],[1.0,0.0,1.0,2.0,2.0,3.0,1.0,1.0,2.0,1.0,1.0,4.0,3.0,3.0,4.0,6.0,5.0,4.0,4.0,5.0,6.0,4.0,7.0,5.0,4.0,5.0,4.0,3.0,2.0,5.0,3.0,4.0,4.0,3.0,3.0,2.0,1.0,4.0,1.0,3.0,3.0,2.0,3.0,2.0,3.0,1.0,3.0,0.0,0.0,2.0,4.0,1.0,3.0,5.0,6.0,6.0,7.0,8.0,5.0,6.0,5.0,5.0,5.0,7.0,6.0,6.0,6.0,7.0,6.0,4.0,5.0,5.0,5.0,4.0,5.0,3.0,4.0,2.0,4.0,3.0,2.0,2.0,0.0,3.0,1.0,3.0,1.0,0.0,1.0,2.0,1.0,5.0,6.0,6.0,6.0,6.0,5.0,5.0,5.0,5.0,5.0,3.0,4.0,5.0,5.0,6.0,4.0,6.0,4.0,5.0,5.0,7.0,3.0,5.0,5.0,4.0,2.0,3.0,4.0,0.0,3.0,1.0,0.0,1.0,3.0,0.0,3.0,4.0,2.0,2.0,2.0,2.0,5.0,4.0,6.0,7.0,5.0,7.0,2.0,6.0,5.0,5.0,5.0,4.0,4.0,6.0,4.0,4.0,5.0,7.0,5.0,5.0,2.0,6.0,5.0,7.0,7.0,4.0,5.0,4.0],[0.0,0.0,0.0,0.0,0.0,0.0,0.0,0.0,0.0,0.0,0.0,0.0,0.0,1.0,0.0,0.0,0.0,0.0,0.0,0.0,0.0,0.0,0.0,0.0,0.0,0.0,0.0,0.0,0.0,0.0,0.0,0.0,0.0,0.0,0.0,0.0,0.0,0.0,0.0,0.0,0.0,0.0,0.0,0.0,0.0,0.0,0.0,0.0,0.0,0.0,0.0,0.0,0.0,1.0,0.0,0.0,0.0,0.0,0.0,1.0,0.0,1.0,0.0,0.0,0.0,0.0,0.0,0.0,0.0,0.0,1.0,0.0,1.0,0.0,0.0,0.0,0.0,0.0,0.0,0.0,0.0,0.0,0.0,0.0,0.0,0.0,0.0,0.0,0.0,0.0,0.0,0.0,1.0,0.0,0.0,0.0,0.0,1.0,0.0,0.0,0.0,0.0,0.0,0.0,0.0,0.0,1.0,0.0,0.0,0.0,0.0,0.0,0.0,0.0,0.0,0.0,0.0,0.0,0.0,0.0,0.0,0.0,0.0,0.0,0.0,0.0,0.0,0.0,0.0,0.0,0.0,0.0,0.0,0.0,0.0,0.0,0.0,0.0,0.0,0.0,0.0,0.0,0.0,0.0,0.0,1.0,0.0,0.0,0.0,0.0,0.0,1.0,0.0,0.0,0.0,0.0,0.0,0.0,0.0,0.0],[0.0,1.0,0.0,0.0,0.0,1.0,0.0,0.0,0.0,0.0,0.0,0.0,1.0,1.0,1.0,2.0,1.0,1.0,0.0,1.0,7.0,1.0,3.0,0.0,1.0,5.0,3.0,2.0,1.0,2.0,0.0,1.0,1.0,0.0,2.0,0.0,2.0,1.0,0.0,0.0,0.0,0.0,0.0,0.0,0.0,0.0,0.0,0.0,1.0,0.0,0.0,0.0,1.0,0.0,1.0,0.0,0.0,0.0,0.0,6.0,0.0,0.0,4.0,2.0,1.0,6.0,0.0,1.0,1.0,2.0,1.0,1.0,2.0,2.0,1.0,1.0,0.0,2.0,3.0,1.0,1.0,0.0,0.0,0.0,0.0,0.0,0.0,0.0,1.0,0.0,1.0,1.0,0.0,0.0,1.0,0.0,0.0,0.0,9.0,2.0,2.0,0.0,1.0,3.0,1.0,5.0,3.0,3.0,1.0,2.0,2.0,0.0,1.0,0.0,0.0,1.0,0.0,2.0,1.0,1.0,0.0,3.0,0.0,0.0,0.0,0.0,0.0,0.0,0.0,0.0,1.0,1.0,0.0,1.0,0.0,0.0,0.0,1.0,0.0,0.0,0.0,0.0,0.0,4.0,0.0,0.0,2.0,1.0,2.0,1.0,3.0,0.0,1.0,2.0,0.0,1.0,1.0,0.0,2.0,1.0],[0.0,0.0,0.0,0.0,0.0,0.0,0.0,0.0,0.0,0.0,1.0,0.0,1.0,0.0,0.0,0.0,0.0,0.0,1.0,1.0,0.0,1.0,0.0,1.0,0.0,0.0,0.0,0.0,0.0,0.0,0.0,0.0,0.0,0.0,0.0,0.0,0.0,0.0,0.0,0.0,0.0,1.0,0.0,0.0,0.0,0.0,0.0,0.0,1.0,0.0,0.0,0.0,0.0,0.0,0.0,0.0,0.0,0.0,0.0,0.0,1.0,0.0,0.0,0.0,0.0,0.0,1.0,0.0,0.0,0.0,0.0,0.0,0.0,1.0,0.0,0.0,2.0,0.0,0.0,0.0,1.0,1.0,0.0,0.0,1.0,1.0,0.0,1.0,0.0,1.0,0.0,0.0,0.0,0.0,0.0,0.0,0.0,0.0,1.0,0.0,0.0,0.0,0.0,0.0,0.0,0.0,1.0,0.0,0.0,0.0,0.0,0.0,0.0,0.0,0.0,0.0,1.0,0.0,0.0,0.0,0.0,0.0,0.0,0.0,1.0,0.0,0.0,1.0,0.0,0.0,0.0,0.0,0.0,0.0,0.0,0.0,0.0,0.0,0.0,0.0,0.0,1.0,0.0,0.0,2.0,0.0,0.0,1.0,0.0,0.0,1.0,0.0,0.0,0.0,0.0,0.0,0.0,0.0,0.0,0.0],[0.0,1.0,0.0,1.0,1.0,0.0,0.0,1.0,0.0,0.0,0.0,0.0,0.0,0.0,0.0,0.0,0.0,1.0,0.0,0.0,0.0,0.0,0.0,0.0,0.0,0.0,1.0,0.0,0.0,1.0,0.0,0.0,0.0,0.0,0.0,0.0,0.0,0.0,0.0,0.0,0.0,2.0,0.0,1.0,0.0,0.0,0.0,0.0,0.0,0.0,0.0,0.0,0.0,1.0,0.0,0.0,0.0,0.0,0.0,1.0,0.0,0.0,1.0,1.0,0.0,0.0,0.0,1.0,0.0,0.0,0.0,0.0,0.0,0.0,0.0,0.0,0.0,1.0,0.0,0.0,0.0,0.0,0.0,0.0,0.0,0.0,1.0,0.0,0.0,0.0,1.0,0.0,0.0,1.0,1.0,0.0,1.0,0.0,0.0,0.0,0.0,0.0,0.0,0.0,0.0,0.0,0.0,0.0,0.0,0.0,0.0,0.0,0.0,0.0,0.0,0.0,1.0,0.0,1.0,1.0,0.0,0.0,0.0,0.0,0.0,0.0,0.0,0.0,0.0,0.0,0.0,0.0,0.0,0.0,0.0,0.0,0.0,0.0,0.0,0.0,0.0,0.0,0.0,0.0,0.0,0.0,0.0,1.0,0.0,0.0,0.0,0.0,0.0,0.0,1.0,0.0,0.0,0.0,0.0,0.0],[0.0,0.0,0.0,0.0,1.0,1.0,0.0,1.0,0.0,0.0,0.0,0.0,1.0,0.0,0.0,1.0,1.0,1.0,1.0,0.0,1.0,0.0,1.0,0.0,0.0,1.0,0.0,0.0,0.0,0.0,1.0,2.0,1.0,0.0,0.0,2.0,2.0,0.0,0.0,1.0,0.0,1.0,0.0,1.0,0.0,1.0,0.0,0.0,1.0,0.0,1.0,0.0,0.0,0.0,1.0,0.0,1.0,1.0,0.0,0.0,1.0,0.0,0.0,1.0,1.0,0.0,0.0,0.0,1.0,0.0,1.0,1.0,0.0,1.0,1.0,1.0,1.0,0.0,0.0,0.0,0.0,0.0,0.0,0.0,0.0,0.0,0.0,0.0,0.0,0.0,0.0,1.0,1.0,1.0,1.0,2.0,1.0,1.0,0.0,0.0,1.0,0.0,0.0,1.0,1.0,0.0,1.0,2.0,1.0,0.0,1.0,1.0,0.0,0.0,0.0,1.0,0.0,2.0,1.0,1.0,0.0,1.0,0.0,0.0,1.0,0.0,0.0,1.0,0.0,0.0,0.0,0.0,1.0,0.0,0.0,1.0,1.0,1.0,1.0,0.0,2.0,0.0,1.0,0.0,1.0,1.0,0.0,1.0,0.0,1.0,0.0,0.0,0.0,1.0,1.0,1.0,0.0,1.0,0.0,1.0],[0.0,0.0,0.0,0.0,2.0,0.0,0.0,1.0,0.0,0.0,1.0,0.0,1.0,0.0,0.0,0.0,0.0,0.0,0.0,0.0,0.0,0.0,0.0,0.0,0.0,0.0,0.0,0.0,0.0,0.0,0.0,0.0,0.0,1.0,0.0,0.0,0.0,0.0,0.0,1.0,0.0,0.0,0.0,0.0,0.0,1.0,1.0,1.0,0.0,1.0,0.0,0.0,0.0,1.0,0.0,0.0,0.0,0.0,0.0,2.0,0.0,0.0,0.0,1.0,1.0,3.0,2.0,0.0,0.0,0.0,0.0,0.0,2.0,3.0,1.0,0.0,0.0,0.0,0.0,0.0,0.0,0.0,0.0,0.0,0.0,0.0,0.0,0.0,2.0,0.0,0.0,2.0,1.0,0.0,0.0,1.0,0.0,2.0,1.0,2.0,0.0,0.0,1.0,3.0,2.0,1.0,1.0,0.0,0.0,0.0,0.0,2.0,1.0,0.0,0.0,0.0,0.0,1.0,0.0,0.0,0.0,0.0,0.0,1.0,0.0,0.0,0.0,0.0,0.0,1.0,0.0,2.0,0.0,0.0,3.0,0.0,0.0,0.0,0.0,0.0,0.0,0.0,0.0,2.0,1.0,2.0,0.0,0.0,0.0,0.0,0.0,0.0,0.0,0.0,0.0,0.0,1.0,0.0,2.0,1.0],[2.0,0.0,0.0,5.0,1.0,0.0,0.0,4.0,0.0,2.0,1.0,0.0,1.0,0.0,0.0,1.0,0.0,0.0,0.0,0.0,0.0,0.0,0.0,0.0,0.0,0.0,0.0,0.0,0.0,0.0,0.0,0.0,2.0,1.0,0.0,0.0,1.0,0.0,0.0,0.0,1.0,0.0,0.0,0.0,3.0,0.0,0.0,1.0,3.0,0.0,0.0,0.0,2.0,0.0,1.0,1.0,0.0,0.0,0.0,0.0,0.0,0.0,0.0,1.0,1.0,0.0,0.0,0.0,1.0,1.0,0.0,1.0,0.0,0.0,0.0,0.0,0.0,0.0,0.0,0.0,1.0,0.0,0.0,0.0,0.0,0.0,0.0,0.0,0.0,1.0,0.0,0.0,0.0,0.0,1.0,0.0,0.0,2.0,0.0,0.0,0.0,0.0,0.0,0.0,0.0,0.0,0.0,0.0,0.0,0.0,0.0,0.0,0.0,0.0,0.0,0.0,2.0,2.0,1.0,0.0,0.0,1.0,0.0,0.0,0.0,0.0,0.0,3.0,0.0,2.0,0.0,0.0,0.0,2.0,0.0,0.0,0.0,0.0,0.0,0.0,0.0,0.0,0.0,1.0,1.0,0.0,0.0,0.0,0.0,0.0,0.0,0.0,0.0,2.0,0.0,0.0,1.0,0.0,0.0,0.0],[0.0,0.0,0.0,1.0,0.0,0.0,0.0,1.0,0.0,0.0,0.0,0.0,0.0,0.0,0.0,0.0,0.0,0.0,0.0,0.0,0.0,0.0,0.0,0.0,0.0,1.0,0.0,0.0,0.0,0.0,1.0,1.0,0.0,1.0,0.0,0.0,1.0,0.0,0.0,0.0,0.0,0.0,0.0,0.0,2.0,0.0,0.0,0.0,0.0,1.0,1.0,0.0,1.0,0.0,0.0,0.0,0.0,0.0,0.0,0.0,0.0,0.0,0.0,1.0,0.0,0.0,0.0,0.0,1.0,0.0,0.0,0.0,0.0,0.0,1.0,3.0,0.0,0.0,0.0,0.0,0.0,0.0,0.0,0.0,0.0,0.0,1.0,1.0,0.0,0.0,0.0,1.0,0.0,0.0,0.0,0.0,0.0,0.0,0.0,0.0,0.0,0.0,0.0,0.0,0.0,0.0,1.0,0.0,0.0,0.0,0.0,0.0,0.0,0.0,0.0,0.0,0.0,0.0,0.0,0.0,0.0,0.0,0.0,0.0,1.0,0.0,0.0,0.0,0.0,0.0,1.0,3.0,0.0,0.0,0.0,0.0,0.0,0.0,0.0,1.0,0.0,0.0,0.0,0.0,0.0,0.0,0.0,0.0,0.0,1.0,0.0,1.0,0.0,0.0,1.0,1.0,1.0,0.0,0.0,0.0],[0.0,0.0,0.0,0.0,0.0,0.0,0.0,0.0,1.0,0.0,0.0,0.0,2.0,0.0,1.0,0.0,0.0,0.0,2.0,1.0,1.0,0.0,3.0,0.0,0.0,0.0,1.0,1.0,1.0,1.0,1.0,0.0,1.0,1.0,0.0,0.0,0.0,1.0,0.0,0.0,1.0,1.0,0.0,0.0,0.0,1.0,0.0,1.0,2.0,1.0,0.0,1.0,0.0,0.0,0.0,0.0,0.0,0.0,1.0,2.0,0.0,0.0,1.0,4.0,0.0,1.0,1.0,0.0,0.0,1.0,0.0,1.0,1.0,0.0,0.0,1.0,0.0,0.0,0.0,1.0,1.0,0.0,1.0,0.0,1.0,0.0,0.0,0.0,0.0,0.0,0.0,0.0,0.0,0.0,1.0,2.0,0.0,0.0,1.0,0.0,0.0,0.0,1.0,0.0,0.0,2.0,1.0,0.0,1.0,0.0,2.0,0.0,0.0,2.0,1.0,1.0,1.0,1.0,2.0,0.0,0.0,1.0,0.0,0.0,0.0,0.0,0.0,0.0,0.0,0.0,0.0,0.0,0.0,0.0,0.0,0.0,0.0,0.0,0.0,0.0,0.0,1.0,2.0,2.0,2.0,0.0,2.0,0.0,0.0,0.0,0.0,0.0,0.0,0.0,1.0,1.0,0.0,0.0,2.0,0.0],[0.0,0.0,0.0,0.0,0.0,0.0,0.0,0.0,1.0,0.0,0.0,0.0,1.0,0.0,0.0,0.0,0.0,0.0,1.0,0.0,1.0,0.0,2.0,0.0,0.0,0.0,1.0,0.0,0.0,1.0,0.0,0.0,1.0,0.0,0.0,0.0,0.0,1.0,0.0,0.0,1.0,1.0,0.0,0.0,0.0,0.0,0.0,0.0,2.0,0.0,0.0,1.0,0.0,0.0,0.0,0.0,0.0,0.0,1.0,0.0,0.0,0.0,1.0,0.0,0.0,1.0,0.0,0.0,0.0,0.0,0.0,3.0,0.0,0.0,0.0,1.0,0.0,0.0,1.0,1.0,3.0,1.0,0.0,0.0,0.0,0.0,0.0,0.0,0.0,0.0,0.0,2.0,0.0,0.0,1.0,0.0,0.0,0.0,1.0,0.0,0.0,0.0,0.0,0.0,0.0,1.0,1.0,0.0,3.0,0.0,0.0,0.0,0.0,1.0,1.0,0.0,0.0,0.0,1.0,0.0,0.0,1.0,0.0,0.0,0.0,0.0,0.0,1.0,0.0,0.0,0.0,1.0,0.0,0.0,0.0,0.0,0.0,1.0,0.0,1.0,0.0,1.0,2.0,1.0,2.0,0.0,1.0,1.0,0.0,0.0,0.0,0.0,0.0,0.0,2.0,1.0,0.0,0.0,1.0,0.0],[0.0,0.0,0.0,0.0,0.0,0.0,0.0,0.0,0.0,0.0,0.0,0.0,0.0,0.0,0.0,0.0,0.0,0.0,0.0,0.0,0.0,0.0,0.0,0.0,0.0,0.0,0.0,0.0,0.0,0.0,1.0,0.0,0.0,0.0,1.0,0.0,0.0,0.0,0.0,0.0,0.0,0.0,0.0,0.0,0.0,0.0,0.0,0.0,0.0,0.0,0.0,0.0,0.0,0.0,0.0,0.0,1.0,1.0,0.0,0.0,0.0,0.0,1.0,0.0,0.0,0.0,0.0,1.0,0.0,0.0,0.0,0.0,0.0,0.0,0.0,0.0,0.0,1.0,0.0,1.0,0.0,1.0,0.0,0.0,0.0,0.0,0.0,0.0,0.0,0.0,0.0,0.0,2.0,0.0,1.0,1.0,0.0,0.0,1.0,0.0,0.0,1.0,0.0,0.0,0.0,0.0,0.0,0.0,0.0,0.0,0.0,1.0,1.0,0.0,1.0,0.0,1.0,0.0,0.0,0.0,0.0,0.0,0.0,0.0,0.0,0.0,0.0,0.0,0.0,0.0,0.0,0.0,0.0,0.0,0.0,0.0,0.0,1.0,0.0,0.0,0.0,0.0,1.0,0.0,1.0,0.0,0.0,0.0,0.0,0.0,1.0,0.0,0.0,0.0,0.0,0.0,0.0,0.0,0.0,0.0],[0.0,0.0,0.0,0.0,0.0,0.0,0.0,0.0,1.0,0.0,0.0,0.0,1.0,0.0,0.0,0.0,1.0,0.0,0.0,0.0,1.0,0.0,0.0,0.0,1.0,0.0,0.0,0.0,1.0,1.0,0.0,0.0,0.0,0.0,0.0,0.0,1.0,0.0,1.0,1.0,0.0,0.0,0.0,0.0,0.0,0.0,0.0,0.0,0.0,0.0,0.0,0.0,0.0,0.0,1.0,1.0,0.0,0.0,1.0,0.0,0.0,0.0,1.0,0.0,1.0,0.0,0.0,0.0,1.0,0.0,1.0,3.0,0.0,0.0,0.0,0.0,0.0,0.0,0.0,1.0,0.0,0.0,0.0,0.0,0.0,0.0,0.0,1.0,0.0,0.0,0.0,0.0,0.0,0.0,1.0,0.0,1.0,1.0,0.0,0.0,0.0,0.0,1.0,0.0,0.0,0.0,0.0,0.0,0.0,2.0,0.0,1.0,0.0,0.0,0.0,0.0,0.0,0.0,1.0,0.0,0.0,0.0,0.0,0.0,0.0,0.0,0.0,0.0,0.0,0.0,0.0,0.0,0.0,0.0,1.0,2.0,0.0,0.0,1.0,0.0,0.0,1.0,0.0,0.0,0.0,0.0,0.0,0.0,0.0,0.0,0.0,0.0,0.0,0.0,1.0,0.0,2.0,1.0,0.0,1.0],[0.0,1.0,0.0,0.0,0.0,0.0,0.0,1.0,0.0,0.0,0.0,0.0,0.0,0.0,0.0,1.0,0.0,3.0,1.0,0.0,0.0,1.0,1.0,2.0,1.0,0.0,1.0,1.0,2.0,1.0,0.0,0.0,0.0,1.0,1.0,0.0,0.0,0.0,0.0,0.0,0.0,0.0,0.0,0.0,0.0,0.0,0.0,0.0,0.0,0.0,0.0,0.0,0.0,0.0,1.0,0.0,0.0,1.0,0.0,0.0,0.0,0.0,0.0,0.0,0.0,0.0,0.0,0.0,0.0,0.0,0.0,0.0,0.0,0.0,0.0,1.0,1.0,0.0,0.0,0.0,0.0,0.0,0.0,0.0,0.0,0.0,0.0,0.0,0.0,0.0,0.0,0.0,0.0,0.0,3.0,0.0,0.0,0.0,0.0,1.0,0.0,0.0,1.0,0.0,0.0,1.0,0.0,0.0,0.0,0.0,1.0,0.0,1.0,2.0,0.0,0.0,0.0,0.0,0.0,0.0,0.0,0.0,0.0,0.0,0.0,0.0,0.0,0.0,0.0,0.0,0.0,0.0,0.0,0.0,0.0,0.0,1.0,1.0,0.0,0.0,1.0,0.0,0.0,0.0,0.0,0.0,0.0,0.0,0.0,0.0,0.0,1.0,0.0,0.0,0.0,0.0,0.0,0.0,0.0,0.0],[0.0,0.0,0.0,0.0,0.0,0.0,0.0,0.0,0.0,0.0,0.0,0.0,0.0,0.0,0.0,0.0,0.0,0.0,0.0,0.0,0.0,2.0,4.0,1.0,2.0,0.0,1.0,2.0,2.0,1.0,0.0,1.0,3.0,0.0,2.0,3.0,0.0,1.0,0.0,0.0,0.0,0.0,0.0,0.0,0.0,0.0,1.0,0.0,0.0,1.0,1.0,0.0,1.0,0.0,0.0,0.0,0.0,0.0,1.0,0.0,1.0,2.0,0.0,0.0,1.0,1.0,1.0,3.0,1.0,2.0,2.0,3.0,0.0,1.0,4.0,1.0,1.0,2.0,2.0,0.0,0.0,1.0,0.0,0.0,0.0,0.0,1.0,2.0,2.0,1.0,0.0,0.0,0.0,0.0,0.0,0.0,1.0,0.0,1.0,1.0,0.0,0.0,4.0,2.0,1.0,4.0,4.0,0.0,3.0,3.0,4.0,0.0,0.0,1.0,0.0,1.0,0.0,0.0,1.0,0.0,0.0,0.0,0.0,0.0,0.0,0.0,0.0,0.0,1.0,1.0,1.0,0.0,0.0,1.0,1.0,3.0,0.0,0.0,0.0,2.0,0.0,1.0,2.0,0.0,1.0,1.0,1.0,1.0,2.0,0.0,1.0,1.0,1.0,1.0,0.0,1.0,0.0,1.0,2.0,1.0],[0.0,0.0,0.0,0.0,0.0,1.0,0.0,0.0,0.0,0.0,0.0,0.0,0.0,0.0,0.0,0.0,0.0,0.0,0.0,0.0,1.0,1.0,2.0,0.0,0.0,1.0,0.0,1.0,0.0,0.0,0.0,0.0,1.0,0.0,2.0,1.0,0.0,1.0,0.0,0.0,0.0,0.0,0.0,0.0,0.0,0.0,0.0,0.0,0.0,0.0,0.0,0.0,0.0,0.0,0.0,0.0,0.0,0.0,0.0,0.0,0.0,0.0,0.0,1.0,0.0,0.0,0.0,0.0,0.0,0.0,0.0,1.0,1.0,0.0,1.0,1.0,0.0,0.0,0.0,1.0,0.0,1.0,0.0,0.0,1.0,0.0,0.0,0.0,0.0,0.0,0.0,0.0,0.0,0.0,0.0,0.0,0.0,0.0,0.0,1.0,4.0,2.0,3.0,1.0,0.0,1.0,0.0,0.0,0.0,2.0,1.0,0.0,1.0,0.0,1.0,1.0,0.0,1.0,0.0,0.0,0.0,0.0,0.0,0.0,0.0,0.0,0.0,0.0,0.0,1.0,0.0,0.0,0.0,0.0,0.0,0.0,1.0,1.0,1.0,1.0,0.0,1.0,1.0,0.0,0.0,3.0,5.0,0.0,1.0,4.0,1.0,0.0,3.0,1.0,0.0,0.0,1.0,1.0,0.0,0.0],[1.0,0.0,0.0,0.0,0.0,1.0,0.0,0.0,0.0,0.0,0.0,0.0,0.0,0.0,1.0,0.0,0.0,0.0,0.0,0.0,0.0,0.0,0.0,0.0,0.0,0.0,0.0,0.0,0.0,0.0,0.0,0.0,0.0,0.0,0.0,0.0,0.0,0.0,0.0,0.0,0.0,0.0,0.0,1.0,0.0,0.0,0.0,0.0,0.0,0.0,0.0,0.0,0.0,0.0,0.0,0.0,0.0,0.0,0.0,0.0,0.0,0.0,0.0,0.0,0.0,1.0,0.0,0.0,0.0,0.0,0.0,0.0,0.0,1.0,0.0,0.0,0.0,0.0,0.0,0.0,0.0,1.0,0.0,0.0,0.0,0.0,0.0,0.0,0.0,0.0,0.0,0.0,0.0,0.0,0.0,0.0,0.0,0.0,0.0,0.0,0.0,0.0,1.0,0.0,0.0,0.0,0.0,0.0,0.0,0.0,0.0,0.0,0.0,0.0,0.0,0.0,0.0,0.0,0.0,0.0,0.0,0.0,0.0,0.0,0.0,0.0,0.0,0.0,0.0,0.0,0.0,0.0,0.0,0.0,0.0,0.0,0.0,0.0,0.0,0.0,0.0,0.0,0.0,0.0,1.0,0.0,0.0,2.0,0.0,0.0,1.0,0.0,0.0,0.0,0.0,0.0,0.0,0.0,0.0,0.0],[0.0,0.0,1.0,1.0,1.0,1.0,1.0,0.0,0.0,0.0,0.0,0.0,0.0,0.0,0.0,1.0,3.0,0.0,0.0,0.0,0.0,0.0,1.0,1.0,0.0,0.0,0.0,0.0,0.0,0.0,0.0,0.0,1.0,1.0,0.0,0.0,0.0,0.0,1.0,0.0,0.0,2.0,3.0,0.0,1.0,0.0,0.0,0.0,0.0,0.0,0.0,0.0,1.0,0.0,0.0,0.0,0.0,1.0,0.0,0.0,0.0,0.0,0.0,0.0,0.0,0.0,0.0,1.0,0.0,0.0,0.0,0.0,0.0,1.0,0.0,0.0,0.0,0.0,0.0,0.0,0.0,0.0,0.0,0.0,1.0,0.0,0.0,0.0,0.0,0.0,0.0,0.0,1.0,0.0,0.0,0.0,0.0,0.0,0.0,0.0,0.0,0.0,0.0,0.0,0.0,0.0,0.0,0.0,0.0,0.0,0.0,0.0,0.0,0.0,0.0,0.0,0.0,0.0,0.0,0.0,0.0,0.0,0.0,0.0,2.0,0.0,0.0,0.0,0.0,0.0,0.0,0.0,0.0,0.0,0.0,1.0,1.0,0.0,0.0,0.0,0.0,0.0,0.0,0.0,1.0,0.0,0.0,0.0,0.0,0.0,0.0,0.0,0.0,0.0,0.0,0.0,0.0,0.0,0.0,0.0],[0.0,0.0,0.0,0.0,0.0,0.0,0.0,0.0,0.0,0.0,0.0,0.0,0.0,0.0,0.0,0.0,0.0,0.0,0.0,0.0,0.0,0.0,0.0,0.0,0.0,0.0,0.0,0.0,0.0,0.0,0.0,0.0,0.0,0.0,0.0,0.0,0.0,0.0,0.0,1.0,0.0,0.0,0.0,0.0,0.0,0.0,0.0,0.0,0.0,0.0,0.0,0.0,0.0,0.0,0.0,0.0,0.0,0.0,0.0,0.0,0.0,0.0,0.0,0.0,0.0,0.0,0.0,0.0,0.0,0.0,0.0,0.0,0.0,0.0,0.0,0.0,0.0,0.0,0.0,0.0,0.0,0.0,0.0,0.0,0.0,0.0,0.0,0.0,0.0,0.0,0.0,0.0,0.0,0.0,0.0,0.0,0.0,0.0,0.0,0.0,0.0,1.0,0.0,0.0,1.0,0.0,0.0,0.0,1.0,0.0,0.0,0.0,0.0,0.0,0.0,0.0,0.0,0.0,0.0,0.0,0.0,0.0,0.0,0.0,0.0,0.0,0.0,0.0,0.0,0.0,0.0,0.0,0.0,0.0,0.0,0.0,0.0,0.0,0.0,0.0,1.0,0.0,0.0,0.0,0.0,0.0,0.0,0.0,0.0,0.0,2.0,0.0,0.0,1.0,0.0,0.0,0.0,0.0,1.0,0.0],[0.0,0.0,0.0,0.0,0.0,1.0,0.0,0.0,0.0,0.0,0.0,0.0,0.0,0.0,1.0,0.0,0.0,1.0,1.0,0.0,0.0,0.0,0.0,1.0,0.0,1.0,0.0,0.0,0.0,0.0,0.0,0.0,2.0,0.0,0.0,0.0,0.0,0.0,0.0,0.0,1.0,1.0,1.0,0.0,1.0,0.0,0.0,0.0,0.0,0.0,1.0,3.0,1.0,0.0,1.0,0.0,1.0,0.0,0.0,0.0,0.0,0.0,0.0,0.0,0.0,0.0,0.0,1.0,0.0,0.0,0.0,0.0,0.0,0.0,0.0,0.0,0.0,0.0,0.0,0.0,0.0,0.0,0.0,0.0,2.0,0.0,0.0,0.0,0.0,0.0,0.0,1.0,1.0,1.0,0.0,0.0,1.0,2.0,0.0,0.0,0.0,0.0,0.0,0.0,0.0,0.0,0.0,0.0,0.0,0.0,0.0,0.0,0.0,0.0,0.0,0.0,3.0,0.0,0.0,0.0,2.0,1.0,1.0,0.0,0.0,0.0,1.0,1.0,0.0,0.0,1.0,0.0,1.0,0.0,1.0,0.0,0.0,0.0,0.0,2.0,0.0,0.0,0.0,1.0,0.0,0.0,0.0,0.0,0.0,0.0,0.0,0.0,0.0,0.0,0.0,0.0,0.0,0.0,0.0,0.0],[0.0,0.0,0.0,0.0,0.0,0.0,0.0,0.0,0.0,0.0,0.0,0.0,0.0,0.0,0.0,1.0,0.0,0.0,0.0,0.0,0.0,1.0,0.0,0.0,0.0,0.0,0.0,0.0,0.0,0.0,0.0,0.0,0.0,0.0,1.0,0.0,0.0,0.0,0.0,0.0,0.0,0.0,0.0,0.0,0.0,0.0,0.0,0.0,3.0,0.0,0.0,0.0,0.0,0.0,0.0,0.0,0.0,0.0,0.0,0.0,0.0,0.0,0.0,0.0,0.0,0.0,0.0,0.0,0.0,0.0,0.0,0.0,1.0,0.0,1.0,0.0,0.0,0.0,0.0,0.0,0.0,0.0,0.0,0.0,0.0,0.0,0.0,0.0,0.0,0.0,0.0,0.0,0.0,1.0,0.0,0.0,0.0,1.0,0.0,0.0,0.0,0.0,0.0,0.0,0.0,0.0,0.0,0.0,0.0,0.0,0.0,0.0,0.0,0.0,0.0,0.0,0.0,0.0,0.0,0.0,0.0,0.0,3.0,0.0,0.0,0.0,0.0,0.0,0.0,0.0,0.0,0.0,0.0,0.0,1.0,0.0,0.0,0.0,0.0,0.0,0.0,0.0,0.0,0.0,0.0,0.0,0.0,0.0,0.0,0.0,0.0,0.0,1.0,0.0,0.0,0.0,0.0,0.0,0.0,0.0],[1.0,0.0,1.0,0.0,0.0,2.0,0.0,0.0,1.0,1.0,0.0,0.0,0.0,0.0,0.0,0.0,0.0,0.0,4.0,0.0,1.0,0.0,0.0,0.0,0.0,0.0,0.0,0.0,0.0,1.0,0.0,1.0,1.0,0.0,2.0,0.0,1.0,1.0,1.0,0.0,0.0,0.0,0.0,0.0,0.0,0.0,0.0,0.0,0.0,0.0,1.0,0.0,1.0,0.0,0.0,1.0,1.0,1.0,1.0,0.0,1.0,1.0,0.0,0.0,0.0,0.0,0.0,0.0,0.0,0.0,0.0,0.0,0.0,1.0,0.0,0.0,0.0,0.0,0.0,0.0,1.0,1.0,2.0,1.0,1.0,1.0,0.0,1.0,1.0,0.0,0.0,0.0,0.0,0.0,0.0,0.0,0.0,0.0,0.0,0.0,0.0,0.0,0.0,0.0,0.0,0.0,0.0,0.0,0.0,0.0,0.0,0.0,1.0,0.0,1.0,1.0,0.0,0.0,1.0,0.0,0.0,0.0,2.0,0.0,0.0,0.0,0.0,0.0,0.0,0.0,0.0,0.0,0.0,0.0,0.0,0.0,1.0,1.0,0.0,1.0,0.0,0.0,0.0,0.0,0.0,0.0,0.0,1.0,0.0,1.0,2.0,1.0,0.0,0.0,0.0,1.0,0.0,2.0,0.0,0.0],[0.0,0.0,0.0,0.0,0.0,0.0,0.0,0.0,0.0,0.0,0.0,0.0,0.0,0.0,0.0,0.0,0.0,0.0,1.0,0.0,0.0,3.0,0.0,0.0,0.0,0.0,0.0,0.0,0.0,0.0,0.0,0.0,0.0,0.0,0.0,0.0,0.0,2.0,3.0,0.0,0.0,1.0,0.0,0.0,1.0,0.0,0.0,0.0,0.0,4.0,0.0,0.0,0.0,0.0,0.0,0.0,0.0,3.0,2.0,0.0,0.0,0.0,0.0,0.0,0.0,0.0,0.0,0.0,0.0,0.0,0.0,0.0,0.0,0.0,0.0,0.0,0.0,0.0,0.0,0.0,0.0,2.0,0.0,0.0,0.0,0.0,0.0,0.0,0.0,0.0,0.0,0.0,0.0,0.0,0.0,0.0,1.0,0.0,0.0,0.0,0.0,0.0,0.0,0.0,0.0,4.0,0.0,0.0,0.0,0.0,0.0,0.0,0.0,1.0,0.0,0.0,0.0,0.0,2.0,3.0,0.0,0.0,0.0,0.0,0.0,0.0,0.0,0.0,0.0,0.0,0.0,0.0,0.0,0.0,0.0,0.0,4.0,0.0,0.0,0.0,0.0,0.0,0.0,0.0,0.0,2.0,0.0,0.0,0.0,0.0,1.0,0.0,0.0,0.0,0.0,0.0,0.0,0.0,0.0,0.0]],\"type\":\"heatmap\"}],                        {\"template\":{\"data\":{\"histogram2dcontour\":[{\"type\":\"histogram2dcontour\",\"colorbar\":{\"outlinewidth\":0,\"ticks\":\"\"},\"colorscale\":[[0.0,\"#0d0887\"],[0.1111111111111111,\"#46039f\"],[0.2222222222222222,\"#7201a8\"],[0.3333333333333333,\"#9c179e\"],[0.4444444444444444,\"#bd3786\"],[0.5555555555555556,\"#d8576b\"],[0.6666666666666666,\"#ed7953\"],[0.7777777777777778,\"#fb9f3a\"],[0.8888888888888888,\"#fdca26\"],[1.0,\"#f0f921\"]]}],\"choropleth\":[{\"type\":\"choropleth\",\"colorbar\":{\"outlinewidth\":0,\"ticks\":\"\"}}],\"histogram2d\":[{\"type\":\"histogram2d\",\"colorbar\":{\"outlinewidth\":0,\"ticks\":\"\"},\"colorscale\":[[0.0,\"#0d0887\"],[0.1111111111111111,\"#46039f\"],[0.2222222222222222,\"#7201a8\"],[0.3333333333333333,\"#9c179e\"],[0.4444444444444444,\"#bd3786\"],[0.5555555555555556,\"#d8576b\"],[0.6666666666666666,\"#ed7953\"],[0.7777777777777778,\"#fb9f3a\"],[0.8888888888888888,\"#fdca26\"],[1.0,\"#f0f921\"]]}],\"heatmap\":[{\"type\":\"heatmap\",\"colorbar\":{\"outlinewidth\":0,\"ticks\":\"\"},\"colorscale\":[[0.0,\"#0d0887\"],[0.1111111111111111,\"#46039f\"],[0.2222222222222222,\"#7201a8\"],[0.3333333333333333,\"#9c179e\"],[0.4444444444444444,\"#bd3786\"],[0.5555555555555556,\"#d8576b\"],[0.6666666666666666,\"#ed7953\"],[0.7777777777777778,\"#fb9f3a\"],[0.8888888888888888,\"#fdca26\"],[1.0,\"#f0f921\"]]}],\"heatmapgl\":[{\"type\":\"heatmapgl\",\"colorbar\":{\"outlinewidth\":0,\"ticks\":\"\"},\"colorscale\":[[0.0,\"#0d0887\"],[0.1111111111111111,\"#46039f\"],[0.2222222222222222,\"#7201a8\"],[0.3333333333333333,\"#9c179e\"],[0.4444444444444444,\"#bd3786\"],[0.5555555555555556,\"#d8576b\"],[0.6666666666666666,\"#ed7953\"],[0.7777777777777778,\"#fb9f3a\"],[0.8888888888888888,\"#fdca26\"],[1.0,\"#f0f921\"]]}],\"contourcarpet\":[{\"type\":\"contourcarpet\",\"colorbar\":{\"outlinewidth\":0,\"ticks\":\"\"}}],\"contour\":[{\"type\":\"contour\",\"colorbar\":{\"outlinewidth\":0,\"ticks\":\"\"},\"colorscale\":[[0.0,\"#0d0887\"],[0.1111111111111111,\"#46039f\"],[0.2222222222222222,\"#7201a8\"],[0.3333333333333333,\"#9c179e\"],[0.4444444444444444,\"#bd3786\"],[0.5555555555555556,\"#d8576b\"],[0.6666666666666666,\"#ed7953\"],[0.7777777777777778,\"#fb9f3a\"],[0.8888888888888888,\"#fdca26\"],[1.0,\"#f0f921\"]]}],\"surface\":[{\"type\":\"surface\",\"colorbar\":{\"outlinewidth\":0,\"ticks\":\"\"},\"colorscale\":[[0.0,\"#0d0887\"],[0.1111111111111111,\"#46039f\"],[0.2222222222222222,\"#7201a8\"],[0.3333333333333333,\"#9c179e\"],[0.4444444444444444,\"#bd3786\"],[0.5555555555555556,\"#d8576b\"],[0.6666666666666666,\"#ed7953\"],[0.7777777777777778,\"#fb9f3a\"],[0.8888888888888888,\"#fdca26\"],[1.0,\"#f0f921\"]]}],\"mesh3d\":[{\"type\":\"mesh3d\",\"colorbar\":{\"outlinewidth\":0,\"ticks\":\"\"}}],\"scatter\":[{\"fillpattern\":{\"fillmode\":\"overlay\",\"size\":10,\"solidity\":0.2},\"type\":\"scatter\"}],\"parcoords\":[{\"type\":\"parcoords\",\"line\":{\"colorbar\":{\"outlinewidth\":0,\"ticks\":\"\"}}}],\"scatterpolargl\":[{\"type\":\"scatterpolargl\",\"marker\":{\"colorbar\":{\"outlinewidth\":0,\"ticks\":\"\"}}}],\"bar\":[{\"error_x\":{\"color\":\"#2a3f5f\"},\"error_y\":{\"color\":\"#2a3f5f\"},\"marker\":{\"line\":{\"color\":\"#E5ECF6\",\"width\":0.5},\"pattern\":{\"fillmode\":\"overlay\",\"size\":10,\"solidity\":0.2}},\"type\":\"bar\"}],\"scattergeo\":[{\"type\":\"scattergeo\",\"marker\":{\"colorbar\":{\"outlinewidth\":0,\"ticks\":\"\"}}}],\"scatterpolar\":[{\"type\":\"scatterpolar\",\"marker\":{\"colorbar\":{\"outlinewidth\":0,\"ticks\":\"\"}}}],\"histogram\":[{\"marker\":{\"pattern\":{\"fillmode\":\"overlay\",\"size\":10,\"solidity\":0.2}},\"type\":\"histogram\"}],\"scattergl\":[{\"type\":\"scattergl\",\"marker\":{\"colorbar\":{\"outlinewidth\":0,\"ticks\":\"\"}}}],\"scatter3d\":[{\"type\":\"scatter3d\",\"line\":{\"colorbar\":{\"outlinewidth\":0,\"ticks\":\"\"}},\"marker\":{\"colorbar\":{\"outlinewidth\":0,\"ticks\":\"\"}}}],\"scattermapbox\":[{\"type\":\"scattermapbox\",\"marker\":{\"colorbar\":{\"outlinewidth\":0,\"ticks\":\"\"}}}],\"scatterternary\":[{\"type\":\"scatterternary\",\"marker\":{\"colorbar\":{\"outlinewidth\":0,\"ticks\":\"\"}}}],\"scattercarpet\":[{\"type\":\"scattercarpet\",\"marker\":{\"colorbar\":{\"outlinewidth\":0,\"ticks\":\"\"}}}],\"carpet\":[{\"aaxis\":{\"endlinecolor\":\"#2a3f5f\",\"gridcolor\":\"white\",\"linecolor\":\"white\",\"minorgridcolor\":\"white\",\"startlinecolor\":\"#2a3f5f\"},\"baxis\":{\"endlinecolor\":\"#2a3f5f\",\"gridcolor\":\"white\",\"linecolor\":\"white\",\"minorgridcolor\":\"white\",\"startlinecolor\":\"#2a3f5f\"},\"type\":\"carpet\"}],\"table\":[{\"cells\":{\"fill\":{\"color\":\"#EBF0F8\"},\"line\":{\"color\":\"white\"}},\"header\":{\"fill\":{\"color\":\"#C8D4E3\"},\"line\":{\"color\":\"white\"}},\"type\":\"table\"}],\"barpolar\":[{\"marker\":{\"line\":{\"color\":\"#E5ECF6\",\"width\":0.5},\"pattern\":{\"fillmode\":\"overlay\",\"size\":10,\"solidity\":0.2}},\"type\":\"barpolar\"}],\"pie\":[{\"automargin\":true,\"type\":\"pie\"}]},\"layout\":{\"autotypenumbers\":\"strict\",\"colorway\":[\"#636efa\",\"#EF553B\",\"#00cc96\",\"#ab63fa\",\"#FFA15A\",\"#19d3f3\",\"#FF6692\",\"#B6E880\",\"#FF97FF\",\"#FECB52\"],\"font\":{\"color\":\"#2a3f5f\"},\"hovermode\":\"closest\",\"hoverlabel\":{\"align\":\"left\"},\"paper_bgcolor\":\"white\",\"plot_bgcolor\":\"#E5ECF6\",\"polar\":{\"bgcolor\":\"#E5ECF6\",\"angularaxis\":{\"gridcolor\":\"white\",\"linecolor\":\"white\",\"ticks\":\"\"},\"radialaxis\":{\"gridcolor\":\"white\",\"linecolor\":\"white\",\"ticks\":\"\"}},\"ternary\":{\"bgcolor\":\"#E5ECF6\",\"aaxis\":{\"gridcolor\":\"white\",\"linecolor\":\"white\",\"ticks\":\"\"},\"baxis\":{\"gridcolor\":\"white\",\"linecolor\":\"white\",\"ticks\":\"\"},\"caxis\":{\"gridcolor\":\"white\",\"linecolor\":\"white\",\"ticks\":\"\"}},\"coloraxis\":{\"colorbar\":{\"outlinewidth\":0,\"ticks\":\"\"}},\"colorscale\":{\"sequential\":[[0.0,\"#0d0887\"],[0.1111111111111111,\"#46039f\"],[0.2222222222222222,\"#7201a8\"],[0.3333333333333333,\"#9c179e\"],[0.4444444444444444,\"#bd3786\"],[0.5555555555555556,\"#d8576b\"],[0.6666666666666666,\"#ed7953\"],[0.7777777777777778,\"#fb9f3a\"],[0.8888888888888888,\"#fdca26\"],[1.0,\"#f0f921\"]],\"sequentialminus\":[[0.0,\"#0d0887\"],[0.1111111111111111,\"#46039f\"],[0.2222222222222222,\"#7201a8\"],[0.3333333333333333,\"#9c179e\"],[0.4444444444444444,\"#bd3786\"],[0.5555555555555556,\"#d8576b\"],[0.6666666666666666,\"#ed7953\"],[0.7777777777777778,\"#fb9f3a\"],[0.8888888888888888,\"#fdca26\"],[1.0,\"#f0f921\"]],\"diverging\":[[0,\"#8e0152\"],[0.1,\"#c51b7d\"],[0.2,\"#de77ae\"],[0.3,\"#f1b6da\"],[0.4,\"#fde0ef\"],[0.5,\"#f7f7f7\"],[0.6,\"#e6f5d0\"],[0.7,\"#b8e186\"],[0.8,\"#7fbc41\"],[0.9,\"#4d9221\"],[1,\"#276419\"]]},\"xaxis\":{\"gridcolor\":\"white\",\"linecolor\":\"white\",\"ticks\":\"\",\"title\":{\"standoff\":15},\"zerolinecolor\":\"white\",\"automargin\":true,\"zerolinewidth\":2},\"yaxis\":{\"gridcolor\":\"white\",\"linecolor\":\"white\",\"ticks\":\"\",\"title\":{\"standoff\":15},\"zerolinecolor\":\"white\",\"automargin\":true,\"zerolinewidth\":2},\"scene\":{\"xaxis\":{\"backgroundcolor\":\"#E5ECF6\",\"gridcolor\":\"white\",\"linecolor\":\"white\",\"showbackground\":true,\"ticks\":\"\",\"zerolinecolor\":\"white\",\"gridwidth\":2},\"yaxis\":{\"backgroundcolor\":\"#E5ECF6\",\"gridcolor\":\"white\",\"linecolor\":\"white\",\"showbackground\":true,\"ticks\":\"\",\"zerolinecolor\":\"white\",\"gridwidth\":2},\"zaxis\":{\"backgroundcolor\":\"#E5ECF6\",\"gridcolor\":\"white\",\"linecolor\":\"white\",\"showbackground\":true,\"ticks\":\"\",\"zerolinecolor\":\"white\",\"gridwidth\":2}},\"shapedefaults\":{\"line\":{\"color\":\"#2a3f5f\"}},\"annotationdefaults\":{\"arrowcolor\":\"#2a3f5f\",\"arrowhead\":0,\"arrowwidth\":1},\"geo\":{\"bgcolor\":\"white\",\"landcolor\":\"#E5ECF6\",\"subunitcolor\":\"white\",\"showland\":true,\"showlakes\":true,\"lakecolor\":\"white\"},\"title\":{\"x\":0.05},\"mapbox\":{\"style\":\"light\"}}},\"xaxis\":{\"title\":{\"text\":\"Time bin\"}},\"yaxis\":{\"title\":{\"text\":\"Neuron\"}},\"title\":{\"text\":\"True number of spikes\"},\"shapes\":[{\"line\":{\"color\":\"Red\",\"width\":1},\"type\":\"line\",\"x0\":40,\"x1\":40,\"y0\":-0.5,\"y1\":23.5},{\"line\":{\"color\":\"Red\",\"width\":1},\"type\":\"line\",\"x0\":80,\"x1\":80,\"y0\":-0.5,\"y1\":23.5},{\"line\":{\"color\":\"Red\",\"width\":1},\"type\":\"line\",\"x0\":120,\"x1\":120,\"y0\":-0.5,\"y1\":23.5}]},                        {\"responsive\": true}                    ).then(function(){\n",
       "                            \n",
       "var gd = document.getElementById('01f8ab22-ed01-4063-8492-2d409631c0d7');\n",
       "var x = new MutationObserver(function (mutations, observer) {{\n",
       "        var display = window.getComputedStyle(gd).display;\n",
       "        if (!display || display === 'none') {{\n",
       "            console.log([gd, 'removed!']);\n",
       "            Plotly.purge(gd);\n",
       "            observer.disconnect();\n",
       "        }}\n",
       "}});\n",
       "\n",
       "// Listen for the removal of the full notebook cells\n",
       "var notebookContainer = gd.closest('#notebook-container');\n",
       "if (notebookContainer) {{\n",
       "    x.observe(notebookContainer, {childList: true});\n",
       "}}\n",
       "\n",
       "// Listen for the clearing of the current output cell\n",
       "var outputEl = gd.closest('.output');\n",
       "if (outputEl) {{\n",
       "    x.observe(outputEl, {childList: true});\n",
       "}}\n",
       "\n",
       "                        })                };                });            </script>        </div>"
      ]
     },
     "metadata": {},
     "output_type": "display_data"
    }
   ],
   "source": [
    "sessions = 4\n",
    "\n",
    "plot_z = X_test_hat[:40 * sessions].T\n",
    "fig = go.Figure(data=go.Heatmap(\n",
    "                     z=plot_z,\n",
    "                     colorscale='Viridis'))\n",
    "fig.update_layout(\n",
    "    xaxis_title=\"Time bin\",\n",
    "    yaxis_title=\"Neuron\",\n",
    "    title=\"Predicted number of spikes\"\n",
    ")\n",
    "for i in range(sessions - 1):\n",
    "    fig.add_shape(type=\"line\",\n",
    "        x0=40*(i+1), y0=-0.5, x1=40*(i+1), y1=23.5,\n",
    "        line=dict(color=\"Red\",width=1)\n",
    "    )\n",
    "fig.show()\n",
    "\n",
    "plot_z = X_test[:40 * sessions].T\n",
    "fig = go.Figure(data=go.Heatmap(\n",
    "                     z=plot_z,\n",
    "                     colorscale='Viridis'))\n",
    "fig.update_layout(\n",
    "    xaxis_title=\"Time bin\",\n",
    "    yaxis_title=\"Neuron\",\n",
    "    title=\"True number of spikes\"\n",
    ")\n",
    "for i in range(sessions - 1):\n",
    "    fig.add_shape(type=\"line\",\n",
    "        x0=40*(i+1), y0=-0.5, x1=40*(i+1), y1=23.5,\n",
    "        line=dict(color=\"Red\",width=1)\n",
    "    )\n",
    "fig.show()"
   ]
  },
  {
   "cell_type": "markdown",
   "metadata": {},
   "source": [
    "## Decoding"
   ]
  },
  {
   "cell_type": "code",
   "execution_count": 9,
   "metadata": {},
   "outputs": [
    {
     "name": "stdout",
     "output_type": "stream",
     "text": [
      "MSE: 0.8809422762444616\n"
     ]
    },
    {
     "data": {
      "application/vnd.plotly.v1+json": {
       "config": {
        "plotlyServerURL": "https://plot.ly"
       },
       "data": [
        {
         "type": "bar",
         "x": [
          0,
          1,
          2,
          3,
          4,
          5,
          6,
          7,
          8,
          9,
          10,
          11,
          12,
          13,
          14,
          15,
          16,
          17,
          18,
          19,
          20,
          21,
          22,
          23
         ],
         "y": [
          0.2838356135253087,
          0.20189637353789486,
          0.146291438933887,
          0.02474209302581606,
          0.01806938817109088,
          0.0888172673566164,
          0.11115725195956877,
          0.07032806322269929,
          -0.0347396505677564,
          0.008836891713824423,
          0.036545366776276816,
          -0.04161500648970401,
          0.12777432858964943,
          0.026909904697657503,
          0.10276795908657961,
          0.01861959964082121,
          -0.019758067183867845,
          0.10446561856882715,
          0.005267804814115427,
          -0.00398432722492569,
          -0.050074038529607345,
          -0.0032206156735891203,
          -0.05629841318248527,
          -0.006767150228970727
         ]
        }
       ],
       "layout": {
        "template": {
         "data": {
          "bar": [
           {
            "error_x": {
             "color": "#2a3f5f"
            },
            "error_y": {
             "color": "#2a3f5f"
            },
            "marker": {
             "line": {
              "color": "#E5ECF6",
              "width": 0.5
             },
             "pattern": {
              "fillmode": "overlay",
              "size": 10,
              "solidity": 0.2
             }
            },
            "type": "bar"
           }
          ],
          "barpolar": [
           {
            "marker": {
             "line": {
              "color": "#E5ECF6",
              "width": 0.5
             },
             "pattern": {
              "fillmode": "overlay",
              "size": 10,
              "solidity": 0.2
             }
            },
            "type": "barpolar"
           }
          ],
          "carpet": [
           {
            "aaxis": {
             "endlinecolor": "#2a3f5f",
             "gridcolor": "white",
             "linecolor": "white",
             "minorgridcolor": "white",
             "startlinecolor": "#2a3f5f"
            },
            "baxis": {
             "endlinecolor": "#2a3f5f",
             "gridcolor": "white",
             "linecolor": "white",
             "minorgridcolor": "white",
             "startlinecolor": "#2a3f5f"
            },
            "type": "carpet"
           }
          ],
          "choropleth": [
           {
            "colorbar": {
             "outlinewidth": 0,
             "ticks": ""
            },
            "type": "choropleth"
           }
          ],
          "contour": [
           {
            "colorbar": {
             "outlinewidth": 0,
             "ticks": ""
            },
            "colorscale": [
             [
              0,
              "#0d0887"
             ],
             [
              0.1111111111111111,
              "#46039f"
             ],
             [
              0.2222222222222222,
              "#7201a8"
             ],
             [
              0.3333333333333333,
              "#9c179e"
             ],
             [
              0.4444444444444444,
              "#bd3786"
             ],
             [
              0.5555555555555556,
              "#d8576b"
             ],
             [
              0.6666666666666666,
              "#ed7953"
             ],
             [
              0.7777777777777778,
              "#fb9f3a"
             ],
             [
              0.8888888888888888,
              "#fdca26"
             ],
             [
              1,
              "#f0f921"
             ]
            ],
            "type": "contour"
           }
          ],
          "contourcarpet": [
           {
            "colorbar": {
             "outlinewidth": 0,
             "ticks": ""
            },
            "type": "contourcarpet"
           }
          ],
          "heatmap": [
           {
            "colorbar": {
             "outlinewidth": 0,
             "ticks": ""
            },
            "colorscale": [
             [
              0,
              "#0d0887"
             ],
             [
              0.1111111111111111,
              "#46039f"
             ],
             [
              0.2222222222222222,
              "#7201a8"
             ],
             [
              0.3333333333333333,
              "#9c179e"
             ],
             [
              0.4444444444444444,
              "#bd3786"
             ],
             [
              0.5555555555555556,
              "#d8576b"
             ],
             [
              0.6666666666666666,
              "#ed7953"
             ],
             [
              0.7777777777777778,
              "#fb9f3a"
             ],
             [
              0.8888888888888888,
              "#fdca26"
             ],
             [
              1,
              "#f0f921"
             ]
            ],
            "type": "heatmap"
           }
          ],
          "heatmapgl": [
           {
            "colorbar": {
             "outlinewidth": 0,
             "ticks": ""
            },
            "colorscale": [
             [
              0,
              "#0d0887"
             ],
             [
              0.1111111111111111,
              "#46039f"
             ],
             [
              0.2222222222222222,
              "#7201a8"
             ],
             [
              0.3333333333333333,
              "#9c179e"
             ],
             [
              0.4444444444444444,
              "#bd3786"
             ],
             [
              0.5555555555555556,
              "#d8576b"
             ],
             [
              0.6666666666666666,
              "#ed7953"
             ],
             [
              0.7777777777777778,
              "#fb9f3a"
             ],
             [
              0.8888888888888888,
              "#fdca26"
             ],
             [
              1,
              "#f0f921"
             ]
            ],
            "type": "heatmapgl"
           }
          ],
          "histogram": [
           {
            "marker": {
             "pattern": {
              "fillmode": "overlay",
              "size": 10,
              "solidity": 0.2
             }
            },
            "type": "histogram"
           }
          ],
          "histogram2d": [
           {
            "colorbar": {
             "outlinewidth": 0,
             "ticks": ""
            },
            "colorscale": [
             [
              0,
              "#0d0887"
             ],
             [
              0.1111111111111111,
              "#46039f"
             ],
             [
              0.2222222222222222,
              "#7201a8"
             ],
             [
              0.3333333333333333,
              "#9c179e"
             ],
             [
              0.4444444444444444,
              "#bd3786"
             ],
             [
              0.5555555555555556,
              "#d8576b"
             ],
             [
              0.6666666666666666,
              "#ed7953"
             ],
             [
              0.7777777777777778,
              "#fb9f3a"
             ],
             [
              0.8888888888888888,
              "#fdca26"
             ],
             [
              1,
              "#f0f921"
             ]
            ],
            "type": "histogram2d"
           }
          ],
          "histogram2dcontour": [
           {
            "colorbar": {
             "outlinewidth": 0,
             "ticks": ""
            },
            "colorscale": [
             [
              0,
              "#0d0887"
             ],
             [
              0.1111111111111111,
              "#46039f"
             ],
             [
              0.2222222222222222,
              "#7201a8"
             ],
             [
              0.3333333333333333,
              "#9c179e"
             ],
             [
              0.4444444444444444,
              "#bd3786"
             ],
             [
              0.5555555555555556,
              "#d8576b"
             ],
             [
              0.6666666666666666,
              "#ed7953"
             ],
             [
              0.7777777777777778,
              "#fb9f3a"
             ],
             [
              0.8888888888888888,
              "#fdca26"
             ],
             [
              1,
              "#f0f921"
             ]
            ],
            "type": "histogram2dcontour"
           }
          ],
          "mesh3d": [
           {
            "colorbar": {
             "outlinewidth": 0,
             "ticks": ""
            },
            "type": "mesh3d"
           }
          ],
          "parcoords": [
           {
            "line": {
             "colorbar": {
              "outlinewidth": 0,
              "ticks": ""
             }
            },
            "type": "parcoords"
           }
          ],
          "pie": [
           {
            "automargin": true,
            "type": "pie"
           }
          ],
          "scatter": [
           {
            "fillpattern": {
             "fillmode": "overlay",
             "size": 10,
             "solidity": 0.2
            },
            "type": "scatter"
           }
          ],
          "scatter3d": [
           {
            "line": {
             "colorbar": {
              "outlinewidth": 0,
              "ticks": ""
             }
            },
            "marker": {
             "colorbar": {
              "outlinewidth": 0,
              "ticks": ""
             }
            },
            "type": "scatter3d"
           }
          ],
          "scattercarpet": [
           {
            "marker": {
             "colorbar": {
              "outlinewidth": 0,
              "ticks": ""
             }
            },
            "type": "scattercarpet"
           }
          ],
          "scattergeo": [
           {
            "marker": {
             "colorbar": {
              "outlinewidth": 0,
              "ticks": ""
             }
            },
            "type": "scattergeo"
           }
          ],
          "scattergl": [
           {
            "marker": {
             "colorbar": {
              "outlinewidth": 0,
              "ticks": ""
             }
            },
            "type": "scattergl"
           }
          ],
          "scattermapbox": [
           {
            "marker": {
             "colorbar": {
              "outlinewidth": 0,
              "ticks": ""
             }
            },
            "type": "scattermapbox"
           }
          ],
          "scatterpolar": [
           {
            "marker": {
             "colorbar": {
              "outlinewidth": 0,
              "ticks": ""
             }
            },
            "type": "scatterpolar"
           }
          ],
          "scatterpolargl": [
           {
            "marker": {
             "colorbar": {
              "outlinewidth": 0,
              "ticks": ""
             }
            },
            "type": "scatterpolargl"
           }
          ],
          "scatterternary": [
           {
            "marker": {
             "colorbar": {
              "outlinewidth": 0,
              "ticks": ""
             }
            },
            "type": "scatterternary"
           }
          ],
          "surface": [
           {
            "colorbar": {
             "outlinewidth": 0,
             "ticks": ""
            },
            "colorscale": [
             [
              0,
              "#0d0887"
             ],
             [
              0.1111111111111111,
              "#46039f"
             ],
             [
              0.2222222222222222,
              "#7201a8"
             ],
             [
              0.3333333333333333,
              "#9c179e"
             ],
             [
              0.4444444444444444,
              "#bd3786"
             ],
             [
              0.5555555555555556,
              "#d8576b"
             ],
             [
              0.6666666666666666,
              "#ed7953"
             ],
             [
              0.7777777777777778,
              "#fb9f3a"
             ],
             [
              0.8888888888888888,
              "#fdca26"
             ],
             [
              1,
              "#f0f921"
             ]
            ],
            "type": "surface"
           }
          ],
          "table": [
           {
            "cells": {
             "fill": {
              "color": "#EBF0F8"
             },
             "line": {
              "color": "white"
             }
            },
            "header": {
             "fill": {
              "color": "#C8D4E3"
             },
             "line": {
              "color": "white"
             }
            },
            "type": "table"
           }
          ]
         },
         "layout": {
          "annotationdefaults": {
           "arrowcolor": "#2a3f5f",
           "arrowhead": 0,
           "arrowwidth": 1
          },
          "autotypenumbers": "strict",
          "coloraxis": {
           "colorbar": {
            "outlinewidth": 0,
            "ticks": ""
           }
          },
          "colorscale": {
           "diverging": [
            [
             0,
             "#8e0152"
            ],
            [
             0.1,
             "#c51b7d"
            ],
            [
             0.2,
             "#de77ae"
            ],
            [
             0.3,
             "#f1b6da"
            ],
            [
             0.4,
             "#fde0ef"
            ],
            [
             0.5,
             "#f7f7f7"
            ],
            [
             0.6,
             "#e6f5d0"
            ],
            [
             0.7,
             "#b8e186"
            ],
            [
             0.8,
             "#7fbc41"
            ],
            [
             0.9,
             "#4d9221"
            ],
            [
             1,
             "#276419"
            ]
           ],
           "sequential": [
            [
             0,
             "#0d0887"
            ],
            [
             0.1111111111111111,
             "#46039f"
            ],
            [
             0.2222222222222222,
             "#7201a8"
            ],
            [
             0.3333333333333333,
             "#9c179e"
            ],
            [
             0.4444444444444444,
             "#bd3786"
            ],
            [
             0.5555555555555556,
             "#d8576b"
            ],
            [
             0.6666666666666666,
             "#ed7953"
            ],
            [
             0.7777777777777778,
             "#fb9f3a"
            ],
            [
             0.8888888888888888,
             "#fdca26"
            ],
            [
             1,
             "#f0f921"
            ]
           ],
           "sequentialminus": [
            [
             0,
             "#0d0887"
            ],
            [
             0.1111111111111111,
             "#46039f"
            ],
            [
             0.2222222222222222,
             "#7201a8"
            ],
            [
             0.3333333333333333,
             "#9c179e"
            ],
            [
             0.4444444444444444,
             "#bd3786"
            ],
            [
             0.5555555555555556,
             "#d8576b"
            ],
            [
             0.6666666666666666,
             "#ed7953"
            ],
            [
             0.7777777777777778,
             "#fb9f3a"
            ],
            [
             0.8888888888888888,
             "#fdca26"
            ],
            [
             1,
             "#f0f921"
            ]
           ]
          },
          "colorway": [
           "#636efa",
           "#EF553B",
           "#00cc96",
           "#ab63fa",
           "#FFA15A",
           "#19d3f3",
           "#FF6692",
           "#B6E880",
           "#FF97FF",
           "#FECB52"
          ],
          "font": {
           "color": "#2a3f5f"
          },
          "geo": {
           "bgcolor": "white",
           "lakecolor": "white",
           "landcolor": "#E5ECF6",
           "showlakes": true,
           "showland": true,
           "subunitcolor": "white"
          },
          "hoverlabel": {
           "align": "left"
          },
          "hovermode": "closest",
          "mapbox": {
           "style": "light"
          },
          "paper_bgcolor": "white",
          "plot_bgcolor": "#E5ECF6",
          "polar": {
           "angularaxis": {
            "gridcolor": "white",
            "linecolor": "white",
            "ticks": ""
           },
           "bgcolor": "#E5ECF6",
           "radialaxis": {
            "gridcolor": "white",
            "linecolor": "white",
            "ticks": ""
           }
          },
          "scene": {
           "xaxis": {
            "backgroundcolor": "#E5ECF6",
            "gridcolor": "white",
            "gridwidth": 2,
            "linecolor": "white",
            "showbackground": true,
            "ticks": "",
            "zerolinecolor": "white"
           },
           "yaxis": {
            "backgroundcolor": "#E5ECF6",
            "gridcolor": "white",
            "gridwidth": 2,
            "linecolor": "white",
            "showbackground": true,
            "ticks": "",
            "zerolinecolor": "white"
           },
           "zaxis": {
            "backgroundcolor": "#E5ECF6",
            "gridcolor": "white",
            "gridwidth": 2,
            "linecolor": "white",
            "showbackground": true,
            "ticks": "",
            "zerolinecolor": "white"
           }
          },
          "shapedefaults": {
           "line": {
            "color": "#2a3f5f"
           }
          },
          "ternary": {
           "aaxis": {
            "gridcolor": "white",
            "linecolor": "white",
            "ticks": ""
           },
           "baxis": {
            "gridcolor": "white",
            "linecolor": "white",
            "ticks": ""
           },
           "bgcolor": "#E5ECF6",
           "caxis": {
            "gridcolor": "white",
            "linecolor": "white",
            "ticks": ""
           }
          },
          "title": {
           "x": 0.05
          },
          "xaxis": {
           "automargin": true,
           "gridcolor": "white",
           "linecolor": "white",
           "ticks": "",
           "title": {
            "standoff": 15
           },
           "zerolinecolor": "white",
           "zerolinewidth": 2
          },
          "yaxis": {
           "automargin": true,
           "gridcolor": "white",
           "linecolor": "white",
           "ticks": "",
           "title": {
            "standoff": 15
           },
           "zerolinecolor": "white",
           "zerolinewidth": 2
          }
         }
        },
        "title": {
         "text": "Ridge regression beta for each neuron"
        },
        "xaxis": {
         "title": {
          "text": "Neuron"
         }
        },
        "yaxis": {
         "title": {
          "text": "Value"
         }
        }
       }
      },
      "text/html": [
       "<div>                            <div id=\"75d058db-ccdc-406e-8435-45ddb49ba39e\" class=\"plotly-graph-div\" style=\"height:525px; width:100%;\"></div>            <script type=\"text/javascript\">                require([\"plotly\"], function(Plotly) {                    window.PLOTLYENV=window.PLOTLYENV || {};                                    if (document.getElementById(\"75d058db-ccdc-406e-8435-45ddb49ba39e\")) {                    Plotly.newPlot(                        \"75d058db-ccdc-406e-8435-45ddb49ba39e\",                        [{\"x\":[0,1,2,3,4,5,6,7,8,9,10,11,12,13,14,15,16,17,18,19,20,21,22,23],\"y\":[0.2838356135253087,0.20189637353789486,0.146291438933887,0.02474209302581606,0.01806938817109088,0.0888172673566164,0.11115725195956877,0.07032806322269929,-0.0347396505677564,0.008836891713824423,0.036545366776276816,-0.04161500648970401,0.12777432858964943,0.026909904697657503,0.10276795908657961,0.01861959964082121,-0.019758067183867845,0.10446561856882715,0.005267804814115427,-0.00398432722492569,-0.050074038529607345,-0.0032206156735891203,-0.05629841318248527,-0.006767150228970727],\"type\":\"bar\"}],                        {\"template\":{\"data\":{\"histogram2dcontour\":[{\"type\":\"histogram2dcontour\",\"colorbar\":{\"outlinewidth\":0,\"ticks\":\"\"},\"colorscale\":[[0.0,\"#0d0887\"],[0.1111111111111111,\"#46039f\"],[0.2222222222222222,\"#7201a8\"],[0.3333333333333333,\"#9c179e\"],[0.4444444444444444,\"#bd3786\"],[0.5555555555555556,\"#d8576b\"],[0.6666666666666666,\"#ed7953\"],[0.7777777777777778,\"#fb9f3a\"],[0.8888888888888888,\"#fdca26\"],[1.0,\"#f0f921\"]]}],\"choropleth\":[{\"type\":\"choropleth\",\"colorbar\":{\"outlinewidth\":0,\"ticks\":\"\"}}],\"histogram2d\":[{\"type\":\"histogram2d\",\"colorbar\":{\"outlinewidth\":0,\"ticks\":\"\"},\"colorscale\":[[0.0,\"#0d0887\"],[0.1111111111111111,\"#46039f\"],[0.2222222222222222,\"#7201a8\"],[0.3333333333333333,\"#9c179e\"],[0.4444444444444444,\"#bd3786\"],[0.5555555555555556,\"#d8576b\"],[0.6666666666666666,\"#ed7953\"],[0.7777777777777778,\"#fb9f3a\"],[0.8888888888888888,\"#fdca26\"],[1.0,\"#f0f921\"]]}],\"heatmap\":[{\"type\":\"heatmap\",\"colorbar\":{\"outlinewidth\":0,\"ticks\":\"\"},\"colorscale\":[[0.0,\"#0d0887\"],[0.1111111111111111,\"#46039f\"],[0.2222222222222222,\"#7201a8\"],[0.3333333333333333,\"#9c179e\"],[0.4444444444444444,\"#bd3786\"],[0.5555555555555556,\"#d8576b\"],[0.6666666666666666,\"#ed7953\"],[0.7777777777777778,\"#fb9f3a\"],[0.8888888888888888,\"#fdca26\"],[1.0,\"#f0f921\"]]}],\"heatmapgl\":[{\"type\":\"heatmapgl\",\"colorbar\":{\"outlinewidth\":0,\"ticks\":\"\"},\"colorscale\":[[0.0,\"#0d0887\"],[0.1111111111111111,\"#46039f\"],[0.2222222222222222,\"#7201a8\"],[0.3333333333333333,\"#9c179e\"],[0.4444444444444444,\"#bd3786\"],[0.5555555555555556,\"#d8576b\"],[0.6666666666666666,\"#ed7953\"],[0.7777777777777778,\"#fb9f3a\"],[0.8888888888888888,\"#fdca26\"],[1.0,\"#f0f921\"]]}],\"contourcarpet\":[{\"type\":\"contourcarpet\",\"colorbar\":{\"outlinewidth\":0,\"ticks\":\"\"}}],\"contour\":[{\"type\":\"contour\",\"colorbar\":{\"outlinewidth\":0,\"ticks\":\"\"},\"colorscale\":[[0.0,\"#0d0887\"],[0.1111111111111111,\"#46039f\"],[0.2222222222222222,\"#7201a8\"],[0.3333333333333333,\"#9c179e\"],[0.4444444444444444,\"#bd3786\"],[0.5555555555555556,\"#d8576b\"],[0.6666666666666666,\"#ed7953\"],[0.7777777777777778,\"#fb9f3a\"],[0.8888888888888888,\"#fdca26\"],[1.0,\"#f0f921\"]]}],\"surface\":[{\"type\":\"surface\",\"colorbar\":{\"outlinewidth\":0,\"ticks\":\"\"},\"colorscale\":[[0.0,\"#0d0887\"],[0.1111111111111111,\"#46039f\"],[0.2222222222222222,\"#7201a8\"],[0.3333333333333333,\"#9c179e\"],[0.4444444444444444,\"#bd3786\"],[0.5555555555555556,\"#d8576b\"],[0.6666666666666666,\"#ed7953\"],[0.7777777777777778,\"#fb9f3a\"],[0.8888888888888888,\"#fdca26\"],[1.0,\"#f0f921\"]]}],\"mesh3d\":[{\"type\":\"mesh3d\",\"colorbar\":{\"outlinewidth\":0,\"ticks\":\"\"}}],\"scatter\":[{\"fillpattern\":{\"fillmode\":\"overlay\",\"size\":10,\"solidity\":0.2},\"type\":\"scatter\"}],\"parcoords\":[{\"type\":\"parcoords\",\"line\":{\"colorbar\":{\"outlinewidth\":0,\"ticks\":\"\"}}}],\"scatterpolargl\":[{\"type\":\"scatterpolargl\",\"marker\":{\"colorbar\":{\"outlinewidth\":0,\"ticks\":\"\"}}}],\"bar\":[{\"error_x\":{\"color\":\"#2a3f5f\"},\"error_y\":{\"color\":\"#2a3f5f\"},\"marker\":{\"line\":{\"color\":\"#E5ECF6\",\"width\":0.5},\"pattern\":{\"fillmode\":\"overlay\",\"size\":10,\"solidity\":0.2}},\"type\":\"bar\"}],\"scattergeo\":[{\"type\":\"scattergeo\",\"marker\":{\"colorbar\":{\"outlinewidth\":0,\"ticks\":\"\"}}}],\"scatterpolar\":[{\"type\":\"scatterpolar\",\"marker\":{\"colorbar\":{\"outlinewidth\":0,\"ticks\":\"\"}}}],\"histogram\":[{\"marker\":{\"pattern\":{\"fillmode\":\"overlay\",\"size\":10,\"solidity\":0.2}},\"type\":\"histogram\"}],\"scattergl\":[{\"type\":\"scattergl\",\"marker\":{\"colorbar\":{\"outlinewidth\":0,\"ticks\":\"\"}}}],\"scatter3d\":[{\"type\":\"scatter3d\",\"line\":{\"colorbar\":{\"outlinewidth\":0,\"ticks\":\"\"}},\"marker\":{\"colorbar\":{\"outlinewidth\":0,\"ticks\":\"\"}}}],\"scattermapbox\":[{\"type\":\"scattermapbox\",\"marker\":{\"colorbar\":{\"outlinewidth\":0,\"ticks\":\"\"}}}],\"scatterternary\":[{\"type\":\"scatterternary\",\"marker\":{\"colorbar\":{\"outlinewidth\":0,\"ticks\":\"\"}}}],\"scattercarpet\":[{\"type\":\"scattercarpet\",\"marker\":{\"colorbar\":{\"outlinewidth\":0,\"ticks\":\"\"}}}],\"carpet\":[{\"aaxis\":{\"endlinecolor\":\"#2a3f5f\",\"gridcolor\":\"white\",\"linecolor\":\"white\",\"minorgridcolor\":\"white\",\"startlinecolor\":\"#2a3f5f\"},\"baxis\":{\"endlinecolor\":\"#2a3f5f\",\"gridcolor\":\"white\",\"linecolor\":\"white\",\"minorgridcolor\":\"white\",\"startlinecolor\":\"#2a3f5f\"},\"type\":\"carpet\"}],\"table\":[{\"cells\":{\"fill\":{\"color\":\"#EBF0F8\"},\"line\":{\"color\":\"white\"}},\"header\":{\"fill\":{\"color\":\"#C8D4E3\"},\"line\":{\"color\":\"white\"}},\"type\":\"table\"}],\"barpolar\":[{\"marker\":{\"line\":{\"color\":\"#E5ECF6\",\"width\":0.5},\"pattern\":{\"fillmode\":\"overlay\",\"size\":10,\"solidity\":0.2}},\"type\":\"barpolar\"}],\"pie\":[{\"automargin\":true,\"type\":\"pie\"}]},\"layout\":{\"autotypenumbers\":\"strict\",\"colorway\":[\"#636efa\",\"#EF553B\",\"#00cc96\",\"#ab63fa\",\"#FFA15A\",\"#19d3f3\",\"#FF6692\",\"#B6E880\",\"#FF97FF\",\"#FECB52\"],\"font\":{\"color\":\"#2a3f5f\"},\"hovermode\":\"closest\",\"hoverlabel\":{\"align\":\"left\"},\"paper_bgcolor\":\"white\",\"plot_bgcolor\":\"#E5ECF6\",\"polar\":{\"bgcolor\":\"#E5ECF6\",\"angularaxis\":{\"gridcolor\":\"white\",\"linecolor\":\"white\",\"ticks\":\"\"},\"radialaxis\":{\"gridcolor\":\"white\",\"linecolor\":\"white\",\"ticks\":\"\"}},\"ternary\":{\"bgcolor\":\"#E5ECF6\",\"aaxis\":{\"gridcolor\":\"white\",\"linecolor\":\"white\",\"ticks\":\"\"},\"baxis\":{\"gridcolor\":\"white\",\"linecolor\":\"white\",\"ticks\":\"\"},\"caxis\":{\"gridcolor\":\"white\",\"linecolor\":\"white\",\"ticks\":\"\"}},\"coloraxis\":{\"colorbar\":{\"outlinewidth\":0,\"ticks\":\"\"}},\"colorscale\":{\"sequential\":[[0.0,\"#0d0887\"],[0.1111111111111111,\"#46039f\"],[0.2222222222222222,\"#7201a8\"],[0.3333333333333333,\"#9c179e\"],[0.4444444444444444,\"#bd3786\"],[0.5555555555555556,\"#d8576b\"],[0.6666666666666666,\"#ed7953\"],[0.7777777777777778,\"#fb9f3a\"],[0.8888888888888888,\"#fdca26\"],[1.0,\"#f0f921\"]],\"sequentialminus\":[[0.0,\"#0d0887\"],[0.1111111111111111,\"#46039f\"],[0.2222222222222222,\"#7201a8\"],[0.3333333333333333,\"#9c179e\"],[0.4444444444444444,\"#bd3786\"],[0.5555555555555556,\"#d8576b\"],[0.6666666666666666,\"#ed7953\"],[0.7777777777777778,\"#fb9f3a\"],[0.8888888888888888,\"#fdca26\"],[1.0,\"#f0f921\"]],\"diverging\":[[0,\"#8e0152\"],[0.1,\"#c51b7d\"],[0.2,\"#de77ae\"],[0.3,\"#f1b6da\"],[0.4,\"#fde0ef\"],[0.5,\"#f7f7f7\"],[0.6,\"#e6f5d0\"],[0.7,\"#b8e186\"],[0.8,\"#7fbc41\"],[0.9,\"#4d9221\"],[1,\"#276419\"]]},\"xaxis\":{\"gridcolor\":\"white\",\"linecolor\":\"white\",\"ticks\":\"\",\"title\":{\"standoff\":15},\"zerolinecolor\":\"white\",\"automargin\":true,\"zerolinewidth\":2},\"yaxis\":{\"gridcolor\":\"white\",\"linecolor\":\"white\",\"ticks\":\"\",\"title\":{\"standoff\":15},\"zerolinecolor\":\"white\",\"automargin\":true,\"zerolinewidth\":2},\"scene\":{\"xaxis\":{\"backgroundcolor\":\"#E5ECF6\",\"gridcolor\":\"white\",\"linecolor\":\"white\",\"showbackground\":true,\"ticks\":\"\",\"zerolinecolor\":\"white\",\"gridwidth\":2},\"yaxis\":{\"backgroundcolor\":\"#E5ECF6\",\"gridcolor\":\"white\",\"linecolor\":\"white\",\"showbackground\":true,\"ticks\":\"\",\"zerolinecolor\":\"white\",\"gridwidth\":2},\"zaxis\":{\"backgroundcolor\":\"#E5ECF6\",\"gridcolor\":\"white\",\"linecolor\":\"white\",\"showbackground\":true,\"ticks\":\"\",\"zerolinecolor\":\"white\",\"gridwidth\":2}},\"shapedefaults\":{\"line\":{\"color\":\"#2a3f5f\"}},\"annotationdefaults\":{\"arrowcolor\":\"#2a3f5f\",\"arrowhead\":0,\"arrowwidth\":1},\"geo\":{\"bgcolor\":\"white\",\"landcolor\":\"#E5ECF6\",\"subunitcolor\":\"white\",\"showland\":true,\"showlakes\":true,\"lakecolor\":\"white\"},\"title\":{\"x\":0.05},\"mapbox\":{\"style\":\"light\"}}},\"xaxis\":{\"title\":{\"text\":\"Neuron\"}},\"yaxis\":{\"title\":{\"text\":\"Value\"}},\"title\":{\"text\":\"Ridge regression beta for each neuron\"}},                        {\"responsive\": true}                    ).then(function(){\n",
       "                            \n",
       "var gd = document.getElementById('75d058db-ccdc-406e-8435-45ddb49ba39e');\n",
       "var x = new MutationObserver(function (mutations, observer) {{\n",
       "        var display = window.getComputedStyle(gd).display;\n",
       "        if (!display || display === 'none') {{\n",
       "            console.log([gd, 'removed!']);\n",
       "            Plotly.purge(gd);\n",
       "            observer.disconnect();\n",
       "        }}\n",
       "}});\n",
       "\n",
       "// Listen for the removal of the full notebook cells\n",
       "var notebookContainer = gd.closest('#notebook-container');\n",
       "if (notebookContainer) {{\n",
       "    x.observe(notebookContainer, {childList: true});\n",
       "}}\n",
       "\n",
       "// Listen for the clearing of the current output cell\n",
       "var outputEl = gd.closest('.output');\n",
       "if (outputEl) {{\n",
       "    x.observe(outputEl, {childList: true});\n",
       "}}\n",
       "\n",
       "                        })                };                });            </script>        </div>"
      ]
     },
     "metadata": {},
     "output_type": "display_data"
    }
   ],
   "source": [
    "clf = linear_model.Ridge(alpha=.2)\n",
    "clf.fit(X_train, Y_train)\n",
    "Y_test_hat = clf.predict(X_test)\n",
    "\n",
    "print(f'MSE: {mean_squared_error(Y_test, Y_test_hat)}')\n",
    "\n",
    "# Plot the betas using plotly\n",
    "fig = go.Figure()\n",
    "fig.add_trace(go.Bar(x=np.arange(D), y=clf.coef_))\n",
    "fig.update_layout(\n",
    "    xaxis_title=\"Neuron\",\n",
    "    yaxis_title=\"Value\",\n",
    "    title=\"Ridge regression beta for each neuron\"\n",
    ")\n",
    "fig.show()"
   ]
  },
  {
   "cell_type": "code",
   "execution_count": 10,
   "metadata": {},
   "outputs": [
    {
     "name": "stdout",
     "output_type": "stream",
     "text": [
      "MSE: 1.1366456825008449\n"
     ]
    },
    {
     "data": {
      "application/vnd.plotly.v1+json": {
       "config": {
        "plotlyServerURL": "https://plot.ly"
       },
       "data": [
        {
         "mode": "lines",
         "name": "Loss curve",
         "type": "scatter",
         "x": [
          0,
          1,
          2,
          3,
          4,
          5,
          6,
          7,
          8,
          9,
          10,
          11,
          12,
          13,
          14,
          15,
          16,
          17,
          18,
          19,
          20,
          21,
          22,
          23,
          24,
          25,
          26,
          27,
          28,
          29,
          30,
          31,
          32,
          33,
          34,
          35,
          36,
          37,
          38,
          39,
          40,
          41,
          42,
          43,
          44,
          45,
          46,
          47,
          48,
          49,
          50,
          51,
          52,
          53,
          54,
          55,
          56,
          57,
          58,
          59,
          60,
          61,
          62,
          63,
          64,
          65,
          66,
          67,
          68,
          69,
          70,
          71,
          72,
          73,
          74,
          75,
          76,
          77,
          78,
          79,
          80,
          81,
          82,
          83,
          84,
          85,
          86,
          87,
          88,
          89,
          90,
          91,
          92,
          93,
          94,
          95,
          96,
          97,
          98,
          99,
          100,
          101,
          102,
          103,
          104,
          105,
          106,
          107,
          108,
          109,
          110,
          111,
          112,
          113,
          114,
          115,
          116,
          117,
          118,
          119,
          120,
          121,
          122,
          123,
          124,
          125,
          126,
          127,
          128,
          129,
          130,
          131,
          132,
          133,
          134,
          135,
          136,
          137,
          138,
          139,
          140,
          141,
          142,
          143,
          144,
          145,
          146,
          147,
          148,
          149,
          150,
          151,
          152,
          153,
          154,
          155,
          156,
          157,
          158,
          159,
          160,
          161,
          162,
          163,
          164,
          165,
          166,
          167,
          168,
          169,
          170,
          171,
          172,
          173,
          174,
          175,
          176,
          177,
          178,
          179,
          180,
          181,
          182,
          183,
          184,
          185,
          186,
          187,
          188,
          189,
          190,
          191,
          192,
          193,
          194,
          195,
          196,
          197,
          198,
          199,
          200,
          201,
          202,
          203,
          204,
          205,
          206,
          207,
          208,
          209,
          210,
          211,
          212,
          213,
          214,
          215,
          216,
          217,
          218,
          219,
          220,
          221,
          222,
          223,
          224,
          225,
          226,
          227,
          228,
          229,
          230,
          231,
          232,
          233,
          234,
          235,
          236,
          237,
          238,
          239,
          240,
          241,
          242,
          243,
          244,
          245,
          246,
          247,
          248,
          249,
          250,
          251,
          252,
          253,
          254,
          255,
          256,
          257,
          258,
          259,
          260,
          261,
          262,
          263,
          264,
          265,
          266,
          267,
          268,
          269,
          270,
          271,
          272,
          273,
          274,
          275,
          276,
          277,
          278,
          279,
          280,
          281,
          282,
          283,
          284,
          285,
          286,
          287,
          288,
          289,
          290,
          291,
          292,
          293,
          294,
          295,
          296,
          297,
          298,
          299,
          300,
          301,
          302,
          303,
          304,
          305,
          306,
          307,
          308,
          309,
          310,
          311,
          312,
          313,
          314,
          315,
          316,
          317,
          318,
          319,
          320,
          321,
          322,
          323,
          324,
          325,
          326,
          327,
          328,
          329,
          330,
          331,
          332,
          333,
          334,
          335,
          336,
          337,
          338,
          339,
          340,
          341,
          342,
          343,
          344,
          345,
          346,
          347,
          348,
          349,
          350,
          351,
          352,
          353,
          354,
          355,
          356,
          357,
          358,
          359,
          360,
          361,
          362,
          363,
          364,
          365,
          366,
          367,
          368,
          369,
          370,
          371,
          372,
          373,
          374,
          375,
          376,
          377,
          378,
          379,
          380,
          381,
          382,
          383,
          384,
          385,
          386,
          387,
          388,
          389,
          390,
          391,
          392,
          393,
          394,
          395,
          396,
          397,
          398,
          399,
          400,
          401,
          402,
          403,
          404,
          405,
          406,
          407,
          408,
          409,
          410,
          411,
          412,
          413,
          414,
          415,
          416,
          417,
          418,
          419,
          420,
          421,
          422,
          423,
          424,
          425,
          426,
          427,
          428,
          429,
          430,
          431,
          432,
          433,
          434,
          435,
          436,
          437,
          438,
          439,
          440,
          441,
          442,
          443,
          444,
          445,
          446,
          447,
          448,
          449,
          450,
          451,
          452,
          453,
          454,
          455,
          456,
          457,
          458,
          459,
          460,
          461,
          462,
          463,
          464,
          465,
          466,
          467,
          468,
          469,
          470,
          471,
          472,
          473,
          474,
          475,
          476,
          477,
          478,
          479,
          480,
          481,
          482,
          483,
          484,
          485,
          486,
          487,
          488,
          489,
          490,
          491,
          492,
          493,
          494,
          495,
          496,
          497,
          498,
          499,
          500,
          501,
          502,
          503,
          504,
          505,
          506,
          507,
          508,
          509,
          510,
          511,
          512,
          513,
          514,
          515,
          516,
          517,
          518,
          519,
          520,
          521,
          522,
          523,
          524,
          525,
          526,
          527,
          528,
          529,
          530,
          531,
          532,
          533,
          534,
          535,
          536,
          537,
          538,
          539,
          540,
          541,
          542,
          543,
          544,
          545,
          546,
          547,
          548,
          549,
          550,
          551,
          552,
          553,
          554,
          555,
          556,
          557,
          558,
          559,
          560,
          561,
          562,
          563,
          564,
          565,
          566,
          567,
          568,
          569,
          570,
          571,
          572,
          573,
          574,
          575,
          576,
          577,
          578,
          579,
          580,
          581,
          582,
          583,
          584,
          585,
          586,
          587,
          588,
          589,
          590,
          591,
          592,
          593,
          594,
          595,
          596,
          597,
          598,
          599,
          600,
          601,
          602,
          603,
          604,
          605,
          606,
          607,
          608,
          609,
          610,
          611,
          612,
          613,
          614,
          615,
          616,
          617,
          618,
          619,
          620,
          621,
          622,
          623,
          624,
          625,
          626,
          627,
          628,
          629,
          630,
          631,
          632,
          633,
          634,
          635,
          636,
          637,
          638,
          639,
          640,
          641,
          642,
          643,
          644,
          645,
          646,
          647,
          648,
          649,
          650,
          651,
          652,
          653,
          654,
          655,
          656,
          657,
          658,
          659,
          660,
          661,
          662,
          663,
          664,
          665,
          666,
          667,
          668,
          669,
          670,
          671,
          672,
          673,
          674,
          675,
          676,
          677,
          678,
          679,
          680,
          681,
          682,
          683,
          684,
          685,
          686,
          687,
          688,
          689,
          690,
          691,
          692,
          693,
          694,
          695,
          696,
          697,
          698,
          699,
          700,
          701,
          702,
          703,
          704,
          705,
          706,
          707,
          708,
          709,
          710,
          711,
          712,
          713,
          714,
          715,
          716,
          717,
          718,
          719,
          720,
          721,
          722,
          723,
          724,
          725,
          726,
          727,
          728,
          729,
          730,
          731,
          732,
          733,
          734,
          735,
          736,
          737,
          738,
          739,
          740,
          741,
          742,
          743,
          744,
          745,
          746,
          747,
          748,
          749,
          750,
          751,
          752,
          753,
          754,
          755,
          756,
          757,
          758,
          759,
          760,
          761,
          762,
          763,
          764,
          765,
          766,
          767,
          768,
          769,
          770,
          771,
          772,
          773,
          774,
          775,
          776,
          777,
          778,
          779,
          780,
          781,
          782,
          783,
          784,
          785,
          786,
          787,
          788,
          789,
          790,
          791,
          792,
          793,
          794,
          795,
          796,
          797,
          798,
          799,
          800,
          801,
          802,
          803,
          804,
          805,
          806,
          807,
          808,
          809,
          810,
          811,
          812,
          813,
          814,
          815,
          816,
          817,
          818,
          819,
          820,
          821,
          822,
          823,
          824,
          825,
          826,
          827,
          828,
          829,
          830,
          831,
          832,
          833,
          834,
          835,
          836,
          837,
          838,
          839,
          840,
          841,
          842,
          843,
          844,
          845,
          846,
          847,
          848,
          849,
          850,
          851,
          852,
          853,
          854,
          855,
          856,
          857,
          858,
          859,
          860,
          861,
          862,
          863,
          864,
          865,
          866,
          867,
          868,
          869,
          870,
          871,
          872,
          873,
          874,
          875,
          876,
          877,
          878,
          879,
          880,
          881,
          882,
          883,
          884,
          885,
          886,
          887,
          888,
          889,
          890,
          891,
          892,
          893,
          894,
          895,
          896,
          897,
          898
         ],
         "y": [
          0.5298686991449417,
          0.49328455081397543,
          0.4777274234363949,
          0.4721638439881513,
          0.4592197413393545,
          0.4554563928442425,
          0.4433398770049028,
          0.4334533451898394,
          0.43133016211041286,
          0.415843536652373,
          0.3948649755048438,
          0.38261871870412034,
          0.3680740703894404,
          0.3475517205046385,
          0.3284882320560237,
          0.3115714463698326,
          0.2945638683101295,
          0.2764145727944495,
          0.25640013507491327,
          0.24882477381997858,
          0.23059343271123395,
          0.20964326068060837,
          0.19649780992488497,
          0.1890019224531143,
          0.17836534840631676,
          0.1691089301441102,
          0.15559431363800574,
          0.14666899820480725,
          0.13529968530098826,
          0.12579305094920126,
          0.12305049172470299,
          0.12177112512470593,
          0.11058485707246045,
          0.10013969917080022,
          0.09666235421851029,
          0.09048094867707465,
          0.08986557105131404,
          0.08802239455341242,
          0.08418599791465951,
          0.07810042334552736,
          0.07674589942222676,
          0.07282418297147587,
          0.07401995850170962,
          0.07284910384860442,
          0.0689166680137612,
          0.06683656891373065,
          0.06455346711804953,
          0.06221183446042302,
          0.06042643997730275,
          0.05976276020585567,
          0.059627471206545817,
          0.06176041414609529,
          0.06176692845491243,
          0.06334300113950504,
          0.06067664909098926,
          0.05789497520591995,
          0.057453375713759816,
          0.05790921904592706,
          0.0554394219788035,
          0.05435497224211255,
          0.052807560556081726,
          0.05235634812731397,
          0.05321672939242557,
          0.053118909367378904,
          0.052964635313782225,
          0.05246324787167175,
          0.0510484369509425,
          0.05062571776658742,
          0.04904394668619221,
          0.04905665993848534,
          0.0475011887977881,
          0.04815450008746973,
          0.047290224857589866,
          0.0473398569949608,
          0.04870888747681395,
          0.04906496755260376,
          0.047332373935217116,
          0.04662750986328993,
          0.045879158906122056,
          0.04655615258738713,
          0.04676911139815103,
          0.045997867956195884,
          0.04497214643906707,
          0.045252739193389194,
          0.04590464939958928,
          0.0472326058156716,
          0.04797847462479259,
          0.04669791257177428,
          0.047393293060540735,
          0.04757185432285195,
          0.04611414260578635,
          0.04511338466769974,
          0.04493895260771355,
          0.0443868673109018,
          0.04730642953524435,
          0.04663810185290139,
          0.045400670977488955,
          0.0460213523626023,
          0.045660453845577216,
          0.04525203295981677,
          0.04440830845692261,
          0.04474857128981592,
          0.04462444601955955,
          0.043182928207579,
          0.04433372776537442,
          0.04559587463765114,
          0.046185133280309,
          0.04503006475588795,
          0.043717775936568094,
          0.04277305017393776,
          0.0432757645367228,
          0.04393984035595532,
          0.04473967915962461,
          0.043834766705854525,
          0.04240988977777651,
          0.04232393505182518,
          0.04345789847881113,
          0.04387846762047233,
          0.04313522046614308,
          0.04244114216956479,
          0.041750037605745714,
          0.0418146902773975,
          0.0433759554185729,
          0.042889529594972386,
          0.04234023010001966,
          0.04250724457672917,
          0.043663456509304054,
          0.04205621501098177,
          0.042826067185555504,
          0.04386056056299171,
          0.043000592198073555,
          0.04387265300083874,
          0.04332335435743734,
          0.04317174399200179,
          0.0428766186768793,
          0.04152693310082145,
          0.041632001389106416,
          0.0409715226888297,
          0.0414366861365248,
          0.041282280738919375,
          0.041173211255305445,
          0.04080447218004437,
          0.04160835372183854,
          0.041509784670519446,
          0.04077154341870345,
          0.041032852459884986,
          0.04079369164283328,
          0.041870319111901776,
          0.04239934206746957,
          0.04218405270541325,
          0.04260759530777864,
          0.041697732895917695,
          0.04085080090358882,
          0.04040250172306982,
          0.03940247588652383,
          0.03952415992422567,
          0.04021356505342916,
          0.04080907952279178,
          0.04082269896578783,
          0.04052905882739632,
          0.04072512452581252,
          0.03972942526126914,
          0.039915529973803376,
          0.03950180636872857,
          0.04010619033294254,
          0.04009523020795454,
          0.0401687131317518,
          0.039654961697991105,
          0.039517896451579104,
          0.03894314960707174,
          0.03972031929273967,
          0.040007848691972804,
          0.039362695858339486,
          0.03976798801638487,
          0.04092409041657598,
          0.039672220562050074,
          0.03992890684668254,
          0.04028361567359088,
          0.03984508988110085,
          0.039205689702452244,
          0.039490565966095306,
          0.038582477104022336,
          0.03857544561641985,
          0.03831604767205346,
          0.03820836936517472,
          0.03757253269115161,
          0.039003369460209596,
          0.03919528214759796,
          0.03891031716408502,
          0.03946762655886099,
          0.03917092368047762,
          0.04005071449404412,
          0.03942202442065822,
          0.038197183916574166,
          0.03764014454964702,
          0.037688897254506776,
          0.03842416070438522,
          0.03770761956640689,
          0.03796907228079726,
          0.038250329152572524,
          0.03852793070233269,
          0.03827477387085633,
          0.03861936295415822,
          0.03851900044368543,
          0.03855835227922893,
          0.03898748283168021,
          0.03926333330143104,
          0.03841026089759576,
          0.03922816906886186,
          0.038557966077222366,
          0.03860750214261126,
          0.03784229452350271,
          0.037723621570250575,
          0.03760816137600856,
          0.038095307217211896,
          0.03742544541380638,
          0.03855527082724705,
          0.0387073536020925,
          0.03807997395874557,
          0.036858285167954634,
          0.037857915038232486,
          0.037770375014960965,
          0.036962432087451876,
          0.03705841240804099,
          0.037218104158037446,
          0.03658679909162991,
          0.03691487092836963,
          0.03715780336567936,
          0.03743608571116889,
          0.03720865955451852,
          0.03706221890732235,
          0.03844792127029821,
          0.03900069779937343,
          0.038457711906904765,
          0.03826021117319413,
          0.037345151049684513,
          0.03773856140528607,
          0.03719610134172437,
          0.036700691817933694,
          0.03726550982784903,
          0.0367884447724164,
          0.036769616539810986,
          0.03672531934374832,
          0.03745477207448011,
          0.03695456253686539,
          0.03676953596055872,
          0.03620953094312343,
          0.035931919850126635,
          0.036131415170507775,
          0.03699959697968943,
          0.03740806997533678,
          0.03754860764680654,
          0.03641093990852566,
          0.03625327148827569,
          0.0362114442850697,
          0.03545679576994692,
          0.035157753693242214,
          0.03575245571283035,
          0.037183569053529104,
          0.03660091363377543,
          0.037642084328800264,
          0.037014372626012954,
          0.03688993169988882,
          0.036401259687822915,
          0.036270649250333624,
          0.03656027292751405,
          0.0370064114012825,
          0.036875692554387905,
          0.036660186220011264,
          0.036423001539584776,
          0.036699682970381634,
          0.036599746224285565,
          0.036727340617215755,
          0.036627284405888715,
          0.0367904356549835,
          0.036352233944604184,
          0.03646682682999868,
          0.036359946686306224,
          0.036588285019483566,
          0.03629759979655935,
          0.03597309481433976,
          0.0353340562791373,
          0.03551458117951073,
          0.03534089325913492,
          0.03548797641466135,
          0.03528026512531259,
          0.03582845801055827,
          0.03604613041579109,
          0.03677184761155047,
          0.03761127702274349,
          0.036842605500302286,
          0.03648622549408943,
          0.036287144467414045,
          0.036264074900889405,
          0.036074875378139,
          0.03604784581893784,
          0.03619869160486756,
          0.0358083748833896,
          0.035886373047249724,
          0.035399204109414474,
          0.03507326750205766,
          0.03537753621935153,
          0.03560163358032664,
          0.03543112760874276,
          0.03539508358263007,
          0.035189233320790485,
          0.03562308618076524,
          0.0357883583269596,
          0.03626642113030621,
          0.035860086336888926,
          0.03525112931689035,
          0.035170556514880026,
          0.035437524998597716,
          0.035276217346232715,
          0.03558968371235648,
          0.035653941664297285,
          0.0354017642571159,
          0.035089536625565486,
          0.03548311918614302,
          0.035674149221220995,
          0.03609546639199382,
          0.035531249341572486,
          0.035355879648844325,
          0.03588324965920116,
          0.03610550849173449,
          0.03548862519843488,
          0.03504722535794324,
          0.03583400485744511,
          0.038449991387535014,
          0.03743370666365037,
          0.036707090561520134,
          0.03611815104017008,
          0.0360141806109641,
          0.035668003247193214,
          0.03526208720541511,
          0.03517174914470515,
          0.034395074004461304,
          0.034274380817021395,
          0.03460616750253975,
          0.03472440831007757,
          0.03443389705527345,
          0.034530287074404614,
          0.0345065371776033,
          0.03441423592293076,
          0.03445717087291403,
          0.034317713096566116,
          0.034120473807511285,
          0.03451142957033223,
          0.03420372286181605,
          0.03474826303704313,
          0.034662314676560474,
          0.03468741058185019,
          0.03510538905387426,
          0.035371561525307835,
          0.035407779662696606,
          0.03480335140542558,
          0.03474511868780867,
          0.03493370203541587,
          0.034546028426380576,
          0.03450219776423562,
          0.034750302638320955,
          0.034610720699687396,
          0.03460517594479963,
          0.03489869347890772,
          0.0355557533094783,
          0.03498262478652391,
          0.034992123467328086,
          0.034704800068448824,
          0.0349758054712619,
          0.035487251061509746,
          0.03529294952020926,
          0.03496005573365688,
          0.034403089411702434,
          0.03450995649246923,
          0.03411808646967087,
          0.034389781373228394,
          0.03430833921500061,
          0.03408366093366968,
          0.03442415855269106,
          0.03442235366824391,
          0.0344468847492731,
          0.03453158584301347,
          0.03480464122971068,
          0.03508606194272587,
          0.03465962324907995,
          0.034367470692987345,
          0.03443872524192069,
          0.03440800343995784,
          0.0351223894427556,
          0.035791759765808576,
          0.036184513000373515,
          0.03639943018298511,
          0.035970134337242714,
          0.03527882096920588,
          0.03492082506697768,
          0.03466348316064424,
          0.03401900713628365,
          0.033917601602392766,
          0.033793458217036956,
          0.03360300254858332,
          0.03400080068221198,
          0.034088461312111615,
          0.034452124680196726,
          0.03454126502895348,
          0.03404911738256537,
          0.034218634853318934,
          0.034414174823612705,
          0.03430515107895288,
          0.03392584552869408,
          0.0336341380166096,
          0.03352695726583921,
          0.033520419778209014,
          0.03369054485443945,
          0.03422036099998174,
          0.03433959875443106,
          0.03525921942166353,
          0.03463420851488345,
          0.03428780369275085,
          0.034294597978615324,
          0.03480554229781134,
          0.034527197483429306,
          0.034376194630537926,
          0.034107618264095155,
          0.03402346593079794,
          0.03436185043263779,
          0.03461534224154509,
          0.03470236016190259,
          0.03534624277529798,
          0.03491176458367731,
          0.03463572693987349,
          0.03404429139508528,
          0.03404359171849581,
          0.03396127097798056,
          0.033754168079350944,
          0.03351650855906875,
          0.033532195617887776,
          0.03354015193984387,
          0.033541921168906016,
          0.03336084866201136,
          0.033980097423035975,
          0.034446844473639736,
          0.0345538256915087,
          0.03418149279017493,
          0.03445104195701744,
          0.034363201932846636,
          0.034043793863987044,
          0.03400025616732641,
          0.033859298410585256,
          0.034210805338968635,
          0.03385720992634702,
          0.034209348740038587,
          0.03431669897954181,
          0.03414942433816182,
          0.03399862260228009,
          0.03432552438102626,
          0.03421291929919105,
          0.0344092020810433,
          0.03462211373676275,
          0.03450758449249637,
          0.033735582949104746,
          0.03343449193280509,
          0.03371986915147583,
          0.033745317873156204,
          0.03367691550142347,
          0.033921295337711474,
          0.0344482504372531,
          0.03453973687901319,
          0.03425773710912164,
          0.03422136680743368,
          0.03449655292111957,
          0.033933658633353236,
          0.03357545410177506,
          0.03387411579204336,
          0.03417798120509987,
          0.03375507596379192,
          0.033411061210789995,
          0.03356718829081455,
          0.033495980453078104,
          0.033810537279692895,
          0.03353002103831294,
          0.033611018137241405,
          0.033680136764274435,
          0.03361091906982604,
          0.03380369938960359,
          0.03345278711347096,
          0.03327035190473796,
          0.03289029568029882,
          0.03319766041724434,
          0.033833470769365596,
          0.034240090894954424,
          0.03415841489708354,
          0.03385689444911535,
          0.033555885269483623,
          0.033756298653442894,
          0.03410631877560856,
          0.0340387893868889,
          0.033638174482410785,
          0.03374985154790358,
          0.03389425833525169,
          0.03372673230892374,
          0.03369113853753262,
          0.03351274620776862,
          0.03360764642656076,
          0.03330565949462594,
          0.033429700348507466,
          0.03344651296052103,
          0.033591638649955555,
          0.033319670929614825,
          0.03340091074892129,
          0.03324113008314638,
          0.03346946201260905,
          0.033949737093105656,
          0.03410221736113411,
          0.03415142885655691,
          0.0344997641806632,
          0.034354177429317574,
          0.03395651099098102,
          0.03402838509884058,
          0.0338127563563254,
          0.03353169369605693,
          0.03357116413456538,
          0.033430065525594285,
          0.0333722843798598,
          0.033453805710358296,
          0.03340096126286654,
          0.03365217032423184,
          0.03346405518970158,
          0.03367310313110073,
          0.033463130468473844,
          0.03361417322760712,
          0.03408494999914649,
          0.0338489695725995,
          0.03374416283877202,
          0.0338686324850773,
          0.03456153513049201,
          0.03603401540794103,
          0.03442595399832412,
          0.03366963572825311,
          0.03305712873491286,
          0.03287234068581211,
          0.03274303156265757,
          0.03271431732250181,
          0.033100772856055505,
          0.03260848435390765,
          0.03265537772074542,
          0.03285417193302344,
          0.03293307595941841,
          0.03356181181400085,
          0.03392657155430868,
          0.03362053232696705,
          0.0333353573379959,
          0.0332405021053986,
          0.03329320783774723,
          0.03304018594266825,
          0.03329989138876293,
          0.03308729215562844,
          0.033177562420640475,
          0.0333573991165547,
          0.033217268808414156,
          0.03341284414554129,
          0.033567721134533005,
          0.033393362948188995,
          0.033826648313382904,
          0.03405150431078008,
          0.03398969536191948,
          0.034027063055994,
          0.0340363162002844,
          0.03380760941252919,
          0.03362736722885693,
          0.033543125477054125,
          0.034053038461938495,
          0.033286921961600484,
          0.032938769114890076,
          0.03285863456349139,
          0.03264924391197957,
          0.032613582340120864,
          0.032770244613640725,
          0.03289710590296908,
          0.033019825694552606,
          0.033298439175878956,
          0.033229997406007995,
          0.0332987776850657,
          0.033007869789412024,
          0.03300751911981226,
          0.03310765592278156,
          0.03343727689943646,
          0.033245521397361186,
          0.03307150864327089,
          0.03327747292044929,
          0.03290018807195847,
          0.03331907823325706,
          0.033097274678672184,
          0.03307295144218598,
          0.033769818623074495,
          0.03376055080979586,
          0.03432323006473976,
          0.033696539280579904,
          0.033461935445284995,
          0.033290935794997124,
          0.03341614456181703,
          0.03348503303495259,
          0.033834946427391835,
          0.03438526912272203,
          0.03409455014737165,
          0.033541700652072876,
          0.03316032605890741,
          0.03325310789712554,
          0.03266832831542322,
          0.03262921915554873,
          0.03276954111414572,
          0.03253218452379622,
          0.03253865515910638,
          0.03259245448112185,
          0.032703943551321564,
          0.03255522072648035,
          0.03238812212504134,
          0.032493537676084025,
          0.0322946838140313,
          0.032446447069909845,
          0.032458229179318836,
          0.03279603579280774,
          0.032882531914388856,
          0.03297029589297412,
          0.033266546295503054,
          0.03349835710889037,
          0.03378509193124511,
          0.03381913312535668,
          0.03388877956837033,
          0.033869962607277856,
          0.03400470865670632,
          0.033762423097029294,
          0.033467421606174046,
          0.033235577153822554,
          0.03314635292965251,
          0.0329869528524993,
          0.03291838582722181,
          0.03318867358616302,
          0.03287413455831933,
          0.03251597633197123,
          0.032213205547397254,
          0.03220626479944716,
          0.03248628785204518,
          0.03246033947181359,
          0.032521004539990316,
          0.032586001887611404,
          0.032707307708687676,
          0.03303737605735201,
          0.033580494121065584,
          0.033651167351953594,
          0.033430151178672526,
          0.03349226332904639,
          0.03320017343865343,
          0.03335736545806082,
          0.03323962135536544,
          0.033154874967376895,
          0.03321896679452846,
          0.03310465129813748,
          0.03264778823662295,
          0.03257070769277162,
          0.032582003118047154,
          0.03266914530854255,
          0.03266464889644893,
          0.03263285415716123,
          0.0326063937358307,
          0.03267786277388342,
          0.03251004435883362,
          0.03256831264690766,
          0.0322194798791884,
          0.032241311027057636,
          0.03266829300310215,
          0.03262352598196117,
          0.032910931713749376,
          0.03315269171981045,
          0.032854083540126845,
          0.032892051843640815,
          0.03315413411706763,
          0.033099340607661544,
          0.03325325668849026,
          0.03304463454719744,
          0.03302221974049436,
          0.03275630186899165,
          0.03296745044336288,
          0.03297156011647173,
          0.03289878395672728,
          0.03305744524472765,
          0.03320645394637462,
          0.033524009687679324,
          0.033055701107905906,
          0.0331379869296304,
          0.03302837495631896,
          0.03297558280888839,
          0.03336168438904962,
          0.033218885306452686,
          0.033831645616343775,
          0.033730758552771696,
          0.033850062685351394,
          0.0334499008307578,
          0.033197004908614415,
          0.033210532130801204,
          0.032694918031406575,
          0.03230784570675556,
          0.0322221852284468,
          0.032346508186680355,
          0.0326038233631289,
          0.03252551014278483,
          0.03225544009156195,
          0.031985234481762014,
          0.03202360927632739,
          0.03224645226720821,
          0.03210725914426358,
          0.03239712097280661,
          0.03268791603093876,
          0.03322255140690517,
          0.03313322086409452,
          0.03310049439789176,
          0.0328814787526789,
          0.0325173536303686,
          0.03228309249834224,
          0.03229609459564099,
          0.03228978443295249,
          0.03222822658700077,
          0.03213444642875506,
          0.03248821290368009,
          0.0329026604505846,
          0.03312601796309916,
          0.033159498790164894,
          0.03297237122900961,
          0.03293496021611228,
          0.03318702903361597,
          0.03288935701527337,
          0.03260608562292607,
          0.0327062629105017,
          0.03253103489940801,
          0.03219033696733109,
          0.032454183335889474,
          0.03232950982665334,
          0.03242160241590608,
          0.032371773818848426,
          0.03235015590812841,
          0.03218834633658309,
          0.032224309221141806,
          0.03224227984821828,
          0.032805487617650626,
          0.03345109245656865,
          0.03325511029945251,
          0.033062144886120866,
          0.033277955822146744,
          0.032855239934045655,
          0.03304103169347237,
          0.03318489812339472,
          0.03328561256684013,
          0.03330970385014155,
          0.03301905839767096,
          0.03262683963450593,
          0.03247437330258663,
          0.03235207999063784,
          0.03257017127954674,
          0.032546995037038576,
          0.03270415264420153,
          0.032589099589127736,
          0.032316462878704884,
          0.032368656482511624,
          0.032303623940199304,
          0.03245928326280516,
          0.03244094898931633,
          0.03248876322270695,
          0.032341403369784305,
          0.03244846292295038,
          0.03262409209182542,
          0.03291539625960522,
          0.032940162644554176,
          0.03304175389944105,
          0.03255045759070889,
          0.032183742107343705,
          0.0320097037271967,
          0.031973866326383826,
          0.03218571507250504,
          0.03216085328754041,
          0.0320228759803527,
          0.03217795764787328,
          0.032388158762461976,
          0.032714831707894174,
          0.032687959871423734,
          0.03303208369775281,
          0.03336146937325844,
          0.03309086384266243,
          0.03296208498438757,
          0.03306374954577637,
          0.03310327269581889,
          0.03312720464340482,
          0.03303330774898434,
          0.032687900544760486,
          0.03250452613754219,
          0.03236232682392711,
          0.03224400721904146,
          0.03207316322761517,
          0.03205158142936208,
          0.03180067323252685,
          0.031745818732210836,
          0.03207534294309054,
          0.03247832106169545,
          0.03201202034092546,
          0.032129486981312516,
          0.03237989389546313,
          0.03272795736141351,
          0.032778293400572714,
          0.032874674472076634,
          0.03293481497153985,
          0.033021873823002534,
          0.0327365908271429,
          0.03290058878260221,
          0.03309353448980293,
          0.033091063399350015,
          0.03297391167538459,
          0.032743729581667956,
          0.03266426319630831,
          0.03243439000181838,
          0.032091026141485866,
          0.03206895532298962,
          0.03209008371488774,
          0.032085383871540356,
          0.03212207785533646,
          0.03229155146319966,
          0.032620695041375616,
          0.03251318772350028,
          0.032685294528533,
          0.03281855159194054,
          0.032936781603618806,
          0.03236123246132413,
          0.03225773308699235,
          0.03235026396899195,
          0.03248162415830285,
          0.032561490513036515,
          0.03259116566821217,
          0.03253827369394715,
          0.03221922266714277,
          0.03209266761984429,
          0.032124983186722,
          0.03195684259080129,
          0.0321954024436751,
          0.03203588251266562,
          0.03212292115295271,
          0.032150324605828395,
          0.03219597304167564,
          0.03226550208208285,
          0.032655182276758905,
          0.03254241967229677,
          0.03241316862744299,
          0.0322867835290811,
          0.03222773650617727,
          0.032376882982684305,
          0.03288875334698234,
          0.03290409265192105,
          0.032887951605889504,
          0.033203584730163674,
          0.033567146958944985,
          0.03304044439997138,
          0.032799334591979,
          0.032398176762831375,
          0.032251394209432745,
          0.03213925676110552,
          0.031957376671952226,
          0.031927421613892955,
          0.032214916115507475,
          0.03204914842738998,
          0.03213062254330904,
          0.03229621650233542,
          0.03217411344018998,
          0.032304649356666645,
          0.032650337004439846,
          0.03258935590898134,
          0.03249931796723307,
          0.0325567581628579,
          0.03231490783881331,
          0.032422279975660516,
          0.03217342352326641,
          0.03270110236598694,
          0.032674809692033874,
          0.03305532924113516,
          0.03312865167065782,
          0.032781837807161616,
          0.03249307784406182,
          0.03240461186533786,
          0.032005153569540784,
          0.03212136466648498,
          0.03211712242054092,
          0.03211788934921536,
          0.03234813306777928,
          0.032176373152893775,
          0.03213073094067158,
          0.032077759804657414,
          0.03217833376764029,
          0.03425830541036189,
          0.033461149566813966,
          0.03266704008680346,
          0.03245767083660279,
          0.032459218684470166,
          0.03216388759694254,
          0.031876457534164154
         ]
        }
       ],
       "layout": {
        "template": {
         "data": {
          "bar": [
           {
            "error_x": {
             "color": "#2a3f5f"
            },
            "error_y": {
             "color": "#2a3f5f"
            },
            "marker": {
             "line": {
              "color": "#E5ECF6",
              "width": 0.5
             },
             "pattern": {
              "fillmode": "overlay",
              "size": 10,
              "solidity": 0.2
             }
            },
            "type": "bar"
           }
          ],
          "barpolar": [
           {
            "marker": {
             "line": {
              "color": "#E5ECF6",
              "width": 0.5
             },
             "pattern": {
              "fillmode": "overlay",
              "size": 10,
              "solidity": 0.2
             }
            },
            "type": "barpolar"
           }
          ],
          "carpet": [
           {
            "aaxis": {
             "endlinecolor": "#2a3f5f",
             "gridcolor": "white",
             "linecolor": "white",
             "minorgridcolor": "white",
             "startlinecolor": "#2a3f5f"
            },
            "baxis": {
             "endlinecolor": "#2a3f5f",
             "gridcolor": "white",
             "linecolor": "white",
             "minorgridcolor": "white",
             "startlinecolor": "#2a3f5f"
            },
            "type": "carpet"
           }
          ],
          "choropleth": [
           {
            "colorbar": {
             "outlinewidth": 0,
             "ticks": ""
            },
            "type": "choropleth"
           }
          ],
          "contour": [
           {
            "colorbar": {
             "outlinewidth": 0,
             "ticks": ""
            },
            "colorscale": [
             [
              0,
              "#0d0887"
             ],
             [
              0.1111111111111111,
              "#46039f"
             ],
             [
              0.2222222222222222,
              "#7201a8"
             ],
             [
              0.3333333333333333,
              "#9c179e"
             ],
             [
              0.4444444444444444,
              "#bd3786"
             ],
             [
              0.5555555555555556,
              "#d8576b"
             ],
             [
              0.6666666666666666,
              "#ed7953"
             ],
             [
              0.7777777777777778,
              "#fb9f3a"
             ],
             [
              0.8888888888888888,
              "#fdca26"
             ],
             [
              1,
              "#f0f921"
             ]
            ],
            "type": "contour"
           }
          ],
          "contourcarpet": [
           {
            "colorbar": {
             "outlinewidth": 0,
             "ticks": ""
            },
            "type": "contourcarpet"
           }
          ],
          "heatmap": [
           {
            "colorbar": {
             "outlinewidth": 0,
             "ticks": ""
            },
            "colorscale": [
             [
              0,
              "#0d0887"
             ],
             [
              0.1111111111111111,
              "#46039f"
             ],
             [
              0.2222222222222222,
              "#7201a8"
             ],
             [
              0.3333333333333333,
              "#9c179e"
             ],
             [
              0.4444444444444444,
              "#bd3786"
             ],
             [
              0.5555555555555556,
              "#d8576b"
             ],
             [
              0.6666666666666666,
              "#ed7953"
             ],
             [
              0.7777777777777778,
              "#fb9f3a"
             ],
             [
              0.8888888888888888,
              "#fdca26"
             ],
             [
              1,
              "#f0f921"
             ]
            ],
            "type": "heatmap"
           }
          ],
          "heatmapgl": [
           {
            "colorbar": {
             "outlinewidth": 0,
             "ticks": ""
            },
            "colorscale": [
             [
              0,
              "#0d0887"
             ],
             [
              0.1111111111111111,
              "#46039f"
             ],
             [
              0.2222222222222222,
              "#7201a8"
             ],
             [
              0.3333333333333333,
              "#9c179e"
             ],
             [
              0.4444444444444444,
              "#bd3786"
             ],
             [
              0.5555555555555556,
              "#d8576b"
             ],
             [
              0.6666666666666666,
              "#ed7953"
             ],
             [
              0.7777777777777778,
              "#fb9f3a"
             ],
             [
              0.8888888888888888,
              "#fdca26"
             ],
             [
              1,
              "#f0f921"
             ]
            ],
            "type": "heatmapgl"
           }
          ],
          "histogram": [
           {
            "marker": {
             "pattern": {
              "fillmode": "overlay",
              "size": 10,
              "solidity": 0.2
             }
            },
            "type": "histogram"
           }
          ],
          "histogram2d": [
           {
            "colorbar": {
             "outlinewidth": 0,
             "ticks": ""
            },
            "colorscale": [
             [
              0,
              "#0d0887"
             ],
             [
              0.1111111111111111,
              "#46039f"
             ],
             [
              0.2222222222222222,
              "#7201a8"
             ],
             [
              0.3333333333333333,
              "#9c179e"
             ],
             [
              0.4444444444444444,
              "#bd3786"
             ],
             [
              0.5555555555555556,
              "#d8576b"
             ],
             [
              0.6666666666666666,
              "#ed7953"
             ],
             [
              0.7777777777777778,
              "#fb9f3a"
             ],
             [
              0.8888888888888888,
              "#fdca26"
             ],
             [
              1,
              "#f0f921"
             ]
            ],
            "type": "histogram2d"
           }
          ],
          "histogram2dcontour": [
           {
            "colorbar": {
             "outlinewidth": 0,
             "ticks": ""
            },
            "colorscale": [
             [
              0,
              "#0d0887"
             ],
             [
              0.1111111111111111,
              "#46039f"
             ],
             [
              0.2222222222222222,
              "#7201a8"
             ],
             [
              0.3333333333333333,
              "#9c179e"
             ],
             [
              0.4444444444444444,
              "#bd3786"
             ],
             [
              0.5555555555555556,
              "#d8576b"
             ],
             [
              0.6666666666666666,
              "#ed7953"
             ],
             [
              0.7777777777777778,
              "#fb9f3a"
             ],
             [
              0.8888888888888888,
              "#fdca26"
             ],
             [
              1,
              "#f0f921"
             ]
            ],
            "type": "histogram2dcontour"
           }
          ],
          "mesh3d": [
           {
            "colorbar": {
             "outlinewidth": 0,
             "ticks": ""
            },
            "type": "mesh3d"
           }
          ],
          "parcoords": [
           {
            "line": {
             "colorbar": {
              "outlinewidth": 0,
              "ticks": ""
             }
            },
            "type": "parcoords"
           }
          ],
          "pie": [
           {
            "automargin": true,
            "type": "pie"
           }
          ],
          "scatter": [
           {
            "fillpattern": {
             "fillmode": "overlay",
             "size": 10,
             "solidity": 0.2
            },
            "type": "scatter"
           }
          ],
          "scatter3d": [
           {
            "line": {
             "colorbar": {
              "outlinewidth": 0,
              "ticks": ""
             }
            },
            "marker": {
             "colorbar": {
              "outlinewidth": 0,
              "ticks": ""
             }
            },
            "type": "scatter3d"
           }
          ],
          "scattercarpet": [
           {
            "marker": {
             "colorbar": {
              "outlinewidth": 0,
              "ticks": ""
             }
            },
            "type": "scattercarpet"
           }
          ],
          "scattergeo": [
           {
            "marker": {
             "colorbar": {
              "outlinewidth": 0,
              "ticks": ""
             }
            },
            "type": "scattergeo"
           }
          ],
          "scattergl": [
           {
            "marker": {
             "colorbar": {
              "outlinewidth": 0,
              "ticks": ""
             }
            },
            "type": "scattergl"
           }
          ],
          "scattermapbox": [
           {
            "marker": {
             "colorbar": {
              "outlinewidth": 0,
              "ticks": ""
             }
            },
            "type": "scattermapbox"
           }
          ],
          "scatterpolar": [
           {
            "marker": {
             "colorbar": {
              "outlinewidth": 0,
              "ticks": ""
             }
            },
            "type": "scatterpolar"
           }
          ],
          "scatterpolargl": [
           {
            "marker": {
             "colorbar": {
              "outlinewidth": 0,
              "ticks": ""
             }
            },
            "type": "scatterpolargl"
           }
          ],
          "scatterternary": [
           {
            "marker": {
             "colorbar": {
              "outlinewidth": 0,
              "ticks": ""
             }
            },
            "type": "scatterternary"
           }
          ],
          "surface": [
           {
            "colorbar": {
             "outlinewidth": 0,
             "ticks": ""
            },
            "colorscale": [
             [
              0,
              "#0d0887"
             ],
             [
              0.1111111111111111,
              "#46039f"
             ],
             [
              0.2222222222222222,
              "#7201a8"
             ],
             [
              0.3333333333333333,
              "#9c179e"
             ],
             [
              0.4444444444444444,
              "#bd3786"
             ],
             [
              0.5555555555555556,
              "#d8576b"
             ],
             [
              0.6666666666666666,
              "#ed7953"
             ],
             [
              0.7777777777777778,
              "#fb9f3a"
             ],
             [
              0.8888888888888888,
              "#fdca26"
             ],
             [
              1,
              "#f0f921"
             ]
            ],
            "type": "surface"
           }
          ],
          "table": [
           {
            "cells": {
             "fill": {
              "color": "#EBF0F8"
             },
             "line": {
              "color": "white"
             }
            },
            "header": {
             "fill": {
              "color": "#C8D4E3"
             },
             "line": {
              "color": "white"
             }
            },
            "type": "table"
           }
          ]
         },
         "layout": {
          "annotationdefaults": {
           "arrowcolor": "#2a3f5f",
           "arrowhead": 0,
           "arrowwidth": 1
          },
          "autotypenumbers": "strict",
          "coloraxis": {
           "colorbar": {
            "outlinewidth": 0,
            "ticks": ""
           }
          },
          "colorscale": {
           "diverging": [
            [
             0,
             "#8e0152"
            ],
            [
             0.1,
             "#c51b7d"
            ],
            [
             0.2,
             "#de77ae"
            ],
            [
             0.3,
             "#f1b6da"
            ],
            [
             0.4,
             "#fde0ef"
            ],
            [
             0.5,
             "#f7f7f7"
            ],
            [
             0.6,
             "#e6f5d0"
            ],
            [
             0.7,
             "#b8e186"
            ],
            [
             0.8,
             "#7fbc41"
            ],
            [
             0.9,
             "#4d9221"
            ],
            [
             1,
             "#276419"
            ]
           ],
           "sequential": [
            [
             0,
             "#0d0887"
            ],
            [
             0.1111111111111111,
             "#46039f"
            ],
            [
             0.2222222222222222,
             "#7201a8"
            ],
            [
             0.3333333333333333,
             "#9c179e"
            ],
            [
             0.4444444444444444,
             "#bd3786"
            ],
            [
             0.5555555555555556,
             "#d8576b"
            ],
            [
             0.6666666666666666,
             "#ed7953"
            ],
            [
             0.7777777777777778,
             "#fb9f3a"
            ],
            [
             0.8888888888888888,
             "#fdca26"
            ],
            [
             1,
             "#f0f921"
            ]
           ],
           "sequentialminus": [
            [
             0,
             "#0d0887"
            ],
            [
             0.1111111111111111,
             "#46039f"
            ],
            [
             0.2222222222222222,
             "#7201a8"
            ],
            [
             0.3333333333333333,
             "#9c179e"
            ],
            [
             0.4444444444444444,
             "#bd3786"
            ],
            [
             0.5555555555555556,
             "#d8576b"
            ],
            [
             0.6666666666666666,
             "#ed7953"
            ],
            [
             0.7777777777777778,
             "#fb9f3a"
            ],
            [
             0.8888888888888888,
             "#fdca26"
            ],
            [
             1,
             "#f0f921"
            ]
           ]
          },
          "colorway": [
           "#636efa",
           "#EF553B",
           "#00cc96",
           "#ab63fa",
           "#FFA15A",
           "#19d3f3",
           "#FF6692",
           "#B6E880",
           "#FF97FF",
           "#FECB52"
          ],
          "font": {
           "color": "#2a3f5f"
          },
          "geo": {
           "bgcolor": "white",
           "lakecolor": "white",
           "landcolor": "#E5ECF6",
           "showlakes": true,
           "showland": true,
           "subunitcolor": "white"
          },
          "hoverlabel": {
           "align": "left"
          },
          "hovermode": "closest",
          "mapbox": {
           "style": "light"
          },
          "paper_bgcolor": "white",
          "plot_bgcolor": "#E5ECF6",
          "polar": {
           "angularaxis": {
            "gridcolor": "white",
            "linecolor": "white",
            "ticks": ""
           },
           "bgcolor": "#E5ECF6",
           "radialaxis": {
            "gridcolor": "white",
            "linecolor": "white",
            "ticks": ""
           }
          },
          "scene": {
           "xaxis": {
            "backgroundcolor": "#E5ECF6",
            "gridcolor": "white",
            "gridwidth": 2,
            "linecolor": "white",
            "showbackground": true,
            "ticks": "",
            "zerolinecolor": "white"
           },
           "yaxis": {
            "backgroundcolor": "#E5ECF6",
            "gridcolor": "white",
            "gridwidth": 2,
            "linecolor": "white",
            "showbackground": true,
            "ticks": "",
            "zerolinecolor": "white"
           },
           "zaxis": {
            "backgroundcolor": "#E5ECF6",
            "gridcolor": "white",
            "gridwidth": 2,
            "linecolor": "white",
            "showbackground": true,
            "ticks": "",
            "zerolinecolor": "white"
           }
          },
          "shapedefaults": {
           "line": {
            "color": "#2a3f5f"
           }
          },
          "ternary": {
           "aaxis": {
            "gridcolor": "white",
            "linecolor": "white",
            "ticks": ""
           },
           "baxis": {
            "gridcolor": "white",
            "linecolor": "white",
            "ticks": ""
           },
           "bgcolor": "#E5ECF6",
           "caxis": {
            "gridcolor": "white",
            "linecolor": "white",
            "ticks": ""
           }
          },
          "title": {
           "x": 0.05
          },
          "xaxis": {
           "automargin": true,
           "gridcolor": "white",
           "linecolor": "white",
           "ticks": "",
           "title": {
            "standoff": 15
           },
           "zerolinecolor": "white",
           "zerolinewidth": 2
          },
          "yaxis": {
           "automargin": true,
           "gridcolor": "white",
           "linecolor": "white",
           "ticks": "",
           "title": {
            "standoff": 15
           },
           "zerolinecolor": "white",
           "zerolinewidth": 2
          }
         }
        },
        "title": {
         "text": "Loss curve"
        },
        "xaxis": {
         "title": {
          "text": "Epoch"
         }
        },
        "yaxis": {
         "title": {
          "text": "Loss"
         }
        }
       }
      },
      "text/html": [
       "<div>                            <div id=\"5d245ce5-36d7-46d6-884a-4d4c563bdc88\" class=\"plotly-graph-div\" style=\"height:525px; width:100%;\"></div>            <script type=\"text/javascript\">                require([\"plotly\"], function(Plotly) {                    window.PLOTLYENV=window.PLOTLYENV || {};                                    if (document.getElementById(\"5d245ce5-36d7-46d6-884a-4d4c563bdc88\")) {                    Plotly.newPlot(                        \"5d245ce5-36d7-46d6-884a-4d4c563bdc88\",                        [{\"mode\":\"lines\",\"name\":\"Loss curve\",\"x\":[0,1,2,3,4,5,6,7,8,9,10,11,12,13,14,15,16,17,18,19,20,21,22,23,24,25,26,27,28,29,30,31,32,33,34,35,36,37,38,39,40,41,42,43,44,45,46,47,48,49,50,51,52,53,54,55,56,57,58,59,60,61,62,63,64,65,66,67,68,69,70,71,72,73,74,75,76,77,78,79,80,81,82,83,84,85,86,87,88,89,90,91,92,93,94,95,96,97,98,99,100,101,102,103,104,105,106,107,108,109,110,111,112,113,114,115,116,117,118,119,120,121,122,123,124,125,126,127,128,129,130,131,132,133,134,135,136,137,138,139,140,141,142,143,144,145,146,147,148,149,150,151,152,153,154,155,156,157,158,159,160,161,162,163,164,165,166,167,168,169,170,171,172,173,174,175,176,177,178,179,180,181,182,183,184,185,186,187,188,189,190,191,192,193,194,195,196,197,198,199,200,201,202,203,204,205,206,207,208,209,210,211,212,213,214,215,216,217,218,219,220,221,222,223,224,225,226,227,228,229,230,231,232,233,234,235,236,237,238,239,240,241,242,243,244,245,246,247,248,249,250,251,252,253,254,255,256,257,258,259,260,261,262,263,264,265,266,267,268,269,270,271,272,273,274,275,276,277,278,279,280,281,282,283,284,285,286,287,288,289,290,291,292,293,294,295,296,297,298,299,300,301,302,303,304,305,306,307,308,309,310,311,312,313,314,315,316,317,318,319,320,321,322,323,324,325,326,327,328,329,330,331,332,333,334,335,336,337,338,339,340,341,342,343,344,345,346,347,348,349,350,351,352,353,354,355,356,357,358,359,360,361,362,363,364,365,366,367,368,369,370,371,372,373,374,375,376,377,378,379,380,381,382,383,384,385,386,387,388,389,390,391,392,393,394,395,396,397,398,399,400,401,402,403,404,405,406,407,408,409,410,411,412,413,414,415,416,417,418,419,420,421,422,423,424,425,426,427,428,429,430,431,432,433,434,435,436,437,438,439,440,441,442,443,444,445,446,447,448,449,450,451,452,453,454,455,456,457,458,459,460,461,462,463,464,465,466,467,468,469,470,471,472,473,474,475,476,477,478,479,480,481,482,483,484,485,486,487,488,489,490,491,492,493,494,495,496,497,498,499,500,501,502,503,504,505,506,507,508,509,510,511,512,513,514,515,516,517,518,519,520,521,522,523,524,525,526,527,528,529,530,531,532,533,534,535,536,537,538,539,540,541,542,543,544,545,546,547,548,549,550,551,552,553,554,555,556,557,558,559,560,561,562,563,564,565,566,567,568,569,570,571,572,573,574,575,576,577,578,579,580,581,582,583,584,585,586,587,588,589,590,591,592,593,594,595,596,597,598,599,600,601,602,603,604,605,606,607,608,609,610,611,612,613,614,615,616,617,618,619,620,621,622,623,624,625,626,627,628,629,630,631,632,633,634,635,636,637,638,639,640,641,642,643,644,645,646,647,648,649,650,651,652,653,654,655,656,657,658,659,660,661,662,663,664,665,666,667,668,669,670,671,672,673,674,675,676,677,678,679,680,681,682,683,684,685,686,687,688,689,690,691,692,693,694,695,696,697,698,699,700,701,702,703,704,705,706,707,708,709,710,711,712,713,714,715,716,717,718,719,720,721,722,723,724,725,726,727,728,729,730,731,732,733,734,735,736,737,738,739,740,741,742,743,744,745,746,747,748,749,750,751,752,753,754,755,756,757,758,759,760,761,762,763,764,765,766,767,768,769,770,771,772,773,774,775,776,777,778,779,780,781,782,783,784,785,786,787,788,789,790,791,792,793,794,795,796,797,798,799,800,801,802,803,804,805,806,807,808,809,810,811,812,813,814,815,816,817,818,819,820,821,822,823,824,825,826,827,828,829,830,831,832,833,834,835,836,837,838,839,840,841,842,843,844,845,846,847,848,849,850,851,852,853,854,855,856,857,858,859,860,861,862,863,864,865,866,867,868,869,870,871,872,873,874,875,876,877,878,879,880,881,882,883,884,885,886,887,888,889,890,891,892,893,894,895,896,897,898],\"y\":[0.5298686991449417,0.49328455081397543,0.4777274234363949,0.4721638439881513,0.4592197413393545,0.4554563928442425,0.4433398770049028,0.4334533451898394,0.43133016211041286,0.415843536652373,0.3948649755048438,0.38261871870412034,0.3680740703894404,0.3475517205046385,0.3284882320560237,0.3115714463698326,0.2945638683101295,0.2764145727944495,0.25640013507491327,0.24882477381997858,0.23059343271123395,0.20964326068060837,0.19649780992488497,0.1890019224531143,0.17836534840631676,0.1691089301441102,0.15559431363800574,0.14666899820480725,0.13529968530098826,0.12579305094920126,0.12305049172470299,0.12177112512470593,0.11058485707246045,0.10013969917080022,0.09666235421851029,0.09048094867707465,0.08986557105131404,0.08802239455341242,0.08418599791465951,0.07810042334552736,0.07674589942222676,0.07282418297147587,0.07401995850170962,0.07284910384860442,0.0689166680137612,0.06683656891373065,0.06455346711804953,0.06221183446042302,0.06042643997730275,0.05976276020585567,0.059627471206545817,0.06176041414609529,0.06176692845491243,0.06334300113950504,0.06067664909098926,0.05789497520591995,0.057453375713759816,0.05790921904592706,0.0554394219788035,0.05435497224211255,0.052807560556081726,0.05235634812731397,0.05321672939242557,0.053118909367378904,0.052964635313782225,0.05246324787167175,0.0510484369509425,0.05062571776658742,0.04904394668619221,0.04905665993848534,0.0475011887977881,0.04815450008746973,0.047290224857589866,0.0473398569949608,0.04870888747681395,0.04906496755260376,0.047332373935217116,0.04662750986328993,0.045879158906122056,0.04655615258738713,0.04676911139815103,0.045997867956195884,0.04497214643906707,0.045252739193389194,0.04590464939958928,0.0472326058156716,0.04797847462479259,0.04669791257177428,0.047393293060540735,0.04757185432285195,0.04611414260578635,0.04511338466769974,0.04493895260771355,0.0443868673109018,0.04730642953524435,0.04663810185290139,0.045400670977488955,0.0460213523626023,0.045660453845577216,0.04525203295981677,0.04440830845692261,0.04474857128981592,0.04462444601955955,0.043182928207579,0.04433372776537442,0.04559587463765114,0.046185133280309,0.04503006475588795,0.043717775936568094,0.04277305017393776,0.0432757645367228,0.04393984035595532,0.04473967915962461,0.043834766705854525,0.04240988977777651,0.04232393505182518,0.04345789847881113,0.04387846762047233,0.04313522046614308,0.04244114216956479,0.041750037605745714,0.0418146902773975,0.0433759554185729,0.042889529594972386,0.04234023010001966,0.04250724457672917,0.043663456509304054,0.04205621501098177,0.042826067185555504,0.04386056056299171,0.043000592198073555,0.04387265300083874,0.04332335435743734,0.04317174399200179,0.0428766186768793,0.04152693310082145,0.041632001389106416,0.0409715226888297,0.0414366861365248,0.041282280738919375,0.041173211255305445,0.04080447218004437,0.04160835372183854,0.041509784670519446,0.04077154341870345,0.041032852459884986,0.04079369164283328,0.041870319111901776,0.04239934206746957,0.04218405270541325,0.04260759530777864,0.041697732895917695,0.04085080090358882,0.04040250172306982,0.03940247588652383,0.03952415992422567,0.04021356505342916,0.04080907952279178,0.04082269896578783,0.04052905882739632,0.04072512452581252,0.03972942526126914,0.039915529973803376,0.03950180636872857,0.04010619033294254,0.04009523020795454,0.0401687131317518,0.039654961697991105,0.039517896451579104,0.03894314960707174,0.03972031929273967,0.040007848691972804,0.039362695858339486,0.03976798801638487,0.04092409041657598,0.039672220562050074,0.03992890684668254,0.04028361567359088,0.03984508988110085,0.039205689702452244,0.039490565966095306,0.038582477104022336,0.03857544561641985,0.03831604767205346,0.03820836936517472,0.03757253269115161,0.039003369460209596,0.03919528214759796,0.03891031716408502,0.03946762655886099,0.03917092368047762,0.04005071449404412,0.03942202442065822,0.038197183916574166,0.03764014454964702,0.037688897254506776,0.03842416070438522,0.03770761956640689,0.03796907228079726,0.038250329152572524,0.03852793070233269,0.03827477387085633,0.03861936295415822,0.03851900044368543,0.03855835227922893,0.03898748283168021,0.03926333330143104,0.03841026089759576,0.03922816906886186,0.038557966077222366,0.03860750214261126,0.03784229452350271,0.037723621570250575,0.03760816137600856,0.038095307217211896,0.03742544541380638,0.03855527082724705,0.0387073536020925,0.03807997395874557,0.036858285167954634,0.037857915038232486,0.037770375014960965,0.036962432087451876,0.03705841240804099,0.037218104158037446,0.03658679909162991,0.03691487092836963,0.03715780336567936,0.03743608571116889,0.03720865955451852,0.03706221890732235,0.03844792127029821,0.03900069779937343,0.038457711906904765,0.03826021117319413,0.037345151049684513,0.03773856140528607,0.03719610134172437,0.036700691817933694,0.03726550982784903,0.0367884447724164,0.036769616539810986,0.03672531934374832,0.03745477207448011,0.03695456253686539,0.03676953596055872,0.03620953094312343,0.035931919850126635,0.036131415170507775,0.03699959697968943,0.03740806997533678,0.03754860764680654,0.03641093990852566,0.03625327148827569,0.0362114442850697,0.03545679576994692,0.035157753693242214,0.03575245571283035,0.037183569053529104,0.03660091363377543,0.037642084328800264,0.037014372626012954,0.03688993169988882,0.036401259687822915,0.036270649250333624,0.03656027292751405,0.0370064114012825,0.036875692554387905,0.036660186220011264,0.036423001539584776,0.036699682970381634,0.036599746224285565,0.036727340617215755,0.036627284405888715,0.0367904356549835,0.036352233944604184,0.03646682682999868,0.036359946686306224,0.036588285019483566,0.03629759979655935,0.03597309481433976,0.0353340562791373,0.03551458117951073,0.03534089325913492,0.03548797641466135,0.03528026512531259,0.03582845801055827,0.03604613041579109,0.03677184761155047,0.03761127702274349,0.036842605500302286,0.03648622549408943,0.036287144467414045,0.036264074900889405,0.036074875378139,0.03604784581893784,0.03619869160486756,0.0358083748833896,0.035886373047249724,0.035399204109414474,0.03507326750205766,0.03537753621935153,0.03560163358032664,0.03543112760874276,0.03539508358263007,0.035189233320790485,0.03562308618076524,0.0357883583269596,0.03626642113030621,0.035860086336888926,0.03525112931689035,0.035170556514880026,0.035437524998597716,0.035276217346232715,0.03558968371235648,0.035653941664297285,0.0354017642571159,0.035089536625565486,0.03548311918614302,0.035674149221220995,0.03609546639199382,0.035531249341572486,0.035355879648844325,0.03588324965920116,0.03610550849173449,0.03548862519843488,0.03504722535794324,0.03583400485744511,0.038449991387535014,0.03743370666365037,0.036707090561520134,0.03611815104017008,0.0360141806109641,0.035668003247193214,0.03526208720541511,0.03517174914470515,0.034395074004461304,0.034274380817021395,0.03460616750253975,0.03472440831007757,0.03443389705527345,0.034530287074404614,0.0345065371776033,0.03441423592293076,0.03445717087291403,0.034317713096566116,0.034120473807511285,0.03451142957033223,0.03420372286181605,0.03474826303704313,0.034662314676560474,0.03468741058185019,0.03510538905387426,0.035371561525307835,0.035407779662696606,0.03480335140542558,0.03474511868780867,0.03493370203541587,0.034546028426380576,0.03450219776423562,0.034750302638320955,0.034610720699687396,0.03460517594479963,0.03489869347890772,0.0355557533094783,0.03498262478652391,0.034992123467328086,0.034704800068448824,0.0349758054712619,0.035487251061509746,0.03529294952020926,0.03496005573365688,0.034403089411702434,0.03450995649246923,0.03411808646967087,0.034389781373228394,0.03430833921500061,0.03408366093366968,0.03442415855269106,0.03442235366824391,0.0344468847492731,0.03453158584301347,0.03480464122971068,0.03508606194272587,0.03465962324907995,0.034367470692987345,0.03443872524192069,0.03440800343995784,0.0351223894427556,0.035791759765808576,0.036184513000373515,0.03639943018298511,0.035970134337242714,0.03527882096920588,0.03492082506697768,0.03466348316064424,0.03401900713628365,0.033917601602392766,0.033793458217036956,0.03360300254858332,0.03400080068221198,0.034088461312111615,0.034452124680196726,0.03454126502895348,0.03404911738256537,0.034218634853318934,0.034414174823612705,0.03430515107895288,0.03392584552869408,0.0336341380166096,0.03352695726583921,0.033520419778209014,0.03369054485443945,0.03422036099998174,0.03433959875443106,0.03525921942166353,0.03463420851488345,0.03428780369275085,0.034294597978615324,0.03480554229781134,0.034527197483429306,0.034376194630537926,0.034107618264095155,0.03402346593079794,0.03436185043263779,0.03461534224154509,0.03470236016190259,0.03534624277529798,0.03491176458367731,0.03463572693987349,0.03404429139508528,0.03404359171849581,0.03396127097798056,0.033754168079350944,0.03351650855906875,0.033532195617887776,0.03354015193984387,0.033541921168906016,0.03336084866201136,0.033980097423035975,0.034446844473639736,0.0345538256915087,0.03418149279017493,0.03445104195701744,0.034363201932846636,0.034043793863987044,0.03400025616732641,0.033859298410585256,0.034210805338968635,0.03385720992634702,0.034209348740038587,0.03431669897954181,0.03414942433816182,0.03399862260228009,0.03432552438102626,0.03421291929919105,0.0344092020810433,0.03462211373676275,0.03450758449249637,0.033735582949104746,0.03343449193280509,0.03371986915147583,0.033745317873156204,0.03367691550142347,0.033921295337711474,0.0344482504372531,0.03453973687901319,0.03425773710912164,0.03422136680743368,0.03449655292111957,0.033933658633353236,0.03357545410177506,0.03387411579204336,0.03417798120509987,0.03375507596379192,0.033411061210789995,0.03356718829081455,0.033495980453078104,0.033810537279692895,0.03353002103831294,0.033611018137241405,0.033680136764274435,0.03361091906982604,0.03380369938960359,0.03345278711347096,0.03327035190473796,0.03289029568029882,0.03319766041724434,0.033833470769365596,0.034240090894954424,0.03415841489708354,0.03385689444911535,0.033555885269483623,0.033756298653442894,0.03410631877560856,0.0340387893868889,0.033638174482410785,0.03374985154790358,0.03389425833525169,0.03372673230892374,0.03369113853753262,0.03351274620776862,0.03360764642656076,0.03330565949462594,0.033429700348507466,0.03344651296052103,0.033591638649955555,0.033319670929614825,0.03340091074892129,0.03324113008314638,0.03346946201260905,0.033949737093105656,0.03410221736113411,0.03415142885655691,0.0344997641806632,0.034354177429317574,0.03395651099098102,0.03402838509884058,0.0338127563563254,0.03353169369605693,0.03357116413456538,0.033430065525594285,0.0333722843798598,0.033453805710358296,0.03340096126286654,0.03365217032423184,0.03346405518970158,0.03367310313110073,0.033463130468473844,0.03361417322760712,0.03408494999914649,0.0338489695725995,0.03374416283877202,0.0338686324850773,0.03456153513049201,0.03603401540794103,0.03442595399832412,0.03366963572825311,0.03305712873491286,0.03287234068581211,0.03274303156265757,0.03271431732250181,0.033100772856055505,0.03260848435390765,0.03265537772074542,0.03285417193302344,0.03293307595941841,0.03356181181400085,0.03392657155430868,0.03362053232696705,0.0333353573379959,0.0332405021053986,0.03329320783774723,0.03304018594266825,0.03329989138876293,0.03308729215562844,0.033177562420640475,0.0333573991165547,0.033217268808414156,0.03341284414554129,0.033567721134533005,0.033393362948188995,0.033826648313382904,0.03405150431078008,0.03398969536191948,0.034027063055994,0.0340363162002844,0.03380760941252919,0.03362736722885693,0.033543125477054125,0.034053038461938495,0.033286921961600484,0.032938769114890076,0.03285863456349139,0.03264924391197957,0.032613582340120864,0.032770244613640725,0.03289710590296908,0.033019825694552606,0.033298439175878956,0.033229997406007995,0.0332987776850657,0.033007869789412024,0.03300751911981226,0.03310765592278156,0.03343727689943646,0.033245521397361186,0.03307150864327089,0.03327747292044929,0.03290018807195847,0.03331907823325706,0.033097274678672184,0.03307295144218598,0.033769818623074495,0.03376055080979586,0.03432323006473976,0.033696539280579904,0.033461935445284995,0.033290935794997124,0.03341614456181703,0.03348503303495259,0.033834946427391835,0.03438526912272203,0.03409455014737165,0.033541700652072876,0.03316032605890741,0.03325310789712554,0.03266832831542322,0.03262921915554873,0.03276954111414572,0.03253218452379622,0.03253865515910638,0.03259245448112185,0.032703943551321564,0.03255522072648035,0.03238812212504134,0.032493537676084025,0.0322946838140313,0.032446447069909845,0.032458229179318836,0.03279603579280774,0.032882531914388856,0.03297029589297412,0.033266546295503054,0.03349835710889037,0.03378509193124511,0.03381913312535668,0.03388877956837033,0.033869962607277856,0.03400470865670632,0.033762423097029294,0.033467421606174046,0.033235577153822554,0.03314635292965251,0.0329869528524993,0.03291838582722181,0.03318867358616302,0.03287413455831933,0.03251597633197123,0.032213205547397254,0.03220626479944716,0.03248628785204518,0.03246033947181359,0.032521004539990316,0.032586001887611404,0.032707307708687676,0.03303737605735201,0.033580494121065584,0.033651167351953594,0.033430151178672526,0.03349226332904639,0.03320017343865343,0.03335736545806082,0.03323962135536544,0.033154874967376895,0.03321896679452846,0.03310465129813748,0.03264778823662295,0.03257070769277162,0.032582003118047154,0.03266914530854255,0.03266464889644893,0.03263285415716123,0.0326063937358307,0.03267786277388342,0.03251004435883362,0.03256831264690766,0.0322194798791884,0.032241311027057636,0.03266829300310215,0.03262352598196117,0.032910931713749376,0.03315269171981045,0.032854083540126845,0.032892051843640815,0.03315413411706763,0.033099340607661544,0.03325325668849026,0.03304463454719744,0.03302221974049436,0.03275630186899165,0.03296745044336288,0.03297156011647173,0.03289878395672728,0.03305744524472765,0.03320645394637462,0.033524009687679324,0.033055701107905906,0.0331379869296304,0.03302837495631896,0.03297558280888839,0.03336168438904962,0.033218885306452686,0.033831645616343775,0.033730758552771696,0.033850062685351394,0.0334499008307578,0.033197004908614415,0.033210532130801204,0.032694918031406575,0.03230784570675556,0.0322221852284468,0.032346508186680355,0.0326038233631289,0.03252551014278483,0.03225544009156195,0.031985234481762014,0.03202360927632739,0.03224645226720821,0.03210725914426358,0.03239712097280661,0.03268791603093876,0.03322255140690517,0.03313322086409452,0.03310049439789176,0.0328814787526789,0.0325173536303686,0.03228309249834224,0.03229609459564099,0.03228978443295249,0.03222822658700077,0.03213444642875506,0.03248821290368009,0.0329026604505846,0.03312601796309916,0.033159498790164894,0.03297237122900961,0.03293496021611228,0.03318702903361597,0.03288935701527337,0.03260608562292607,0.0327062629105017,0.03253103489940801,0.03219033696733109,0.032454183335889474,0.03232950982665334,0.03242160241590608,0.032371773818848426,0.03235015590812841,0.03218834633658309,0.032224309221141806,0.03224227984821828,0.032805487617650626,0.03345109245656865,0.03325511029945251,0.033062144886120866,0.033277955822146744,0.032855239934045655,0.03304103169347237,0.03318489812339472,0.03328561256684013,0.03330970385014155,0.03301905839767096,0.03262683963450593,0.03247437330258663,0.03235207999063784,0.03257017127954674,0.032546995037038576,0.03270415264420153,0.032589099589127736,0.032316462878704884,0.032368656482511624,0.032303623940199304,0.03245928326280516,0.03244094898931633,0.03248876322270695,0.032341403369784305,0.03244846292295038,0.03262409209182542,0.03291539625960522,0.032940162644554176,0.03304175389944105,0.03255045759070889,0.032183742107343705,0.0320097037271967,0.031973866326383826,0.03218571507250504,0.03216085328754041,0.0320228759803527,0.03217795764787328,0.032388158762461976,0.032714831707894174,0.032687959871423734,0.03303208369775281,0.03336146937325844,0.03309086384266243,0.03296208498438757,0.03306374954577637,0.03310327269581889,0.03312720464340482,0.03303330774898434,0.032687900544760486,0.03250452613754219,0.03236232682392711,0.03224400721904146,0.03207316322761517,0.03205158142936208,0.03180067323252685,0.031745818732210836,0.03207534294309054,0.03247832106169545,0.03201202034092546,0.032129486981312516,0.03237989389546313,0.03272795736141351,0.032778293400572714,0.032874674472076634,0.03293481497153985,0.033021873823002534,0.0327365908271429,0.03290058878260221,0.03309353448980293,0.033091063399350015,0.03297391167538459,0.032743729581667956,0.03266426319630831,0.03243439000181838,0.032091026141485866,0.03206895532298962,0.03209008371488774,0.032085383871540356,0.03212207785533646,0.03229155146319966,0.032620695041375616,0.03251318772350028,0.032685294528533,0.03281855159194054,0.032936781603618806,0.03236123246132413,0.03225773308699235,0.03235026396899195,0.03248162415830285,0.032561490513036515,0.03259116566821217,0.03253827369394715,0.03221922266714277,0.03209266761984429,0.032124983186722,0.03195684259080129,0.0321954024436751,0.03203588251266562,0.03212292115295271,0.032150324605828395,0.03219597304167564,0.03226550208208285,0.032655182276758905,0.03254241967229677,0.03241316862744299,0.0322867835290811,0.03222773650617727,0.032376882982684305,0.03288875334698234,0.03290409265192105,0.032887951605889504,0.033203584730163674,0.033567146958944985,0.03304044439997138,0.032799334591979,0.032398176762831375,0.032251394209432745,0.03213925676110552,0.031957376671952226,0.031927421613892955,0.032214916115507475,0.03204914842738998,0.03213062254330904,0.03229621650233542,0.03217411344018998,0.032304649356666645,0.032650337004439846,0.03258935590898134,0.03249931796723307,0.0325567581628579,0.03231490783881331,0.032422279975660516,0.03217342352326641,0.03270110236598694,0.032674809692033874,0.03305532924113516,0.03312865167065782,0.032781837807161616,0.03249307784406182,0.03240461186533786,0.032005153569540784,0.03212136466648498,0.03211712242054092,0.03211788934921536,0.03234813306777928,0.032176373152893775,0.03213073094067158,0.032077759804657414,0.03217833376764029,0.03425830541036189,0.033461149566813966,0.03266704008680346,0.03245767083660279,0.032459218684470166,0.03216388759694254,0.031876457534164154],\"type\":\"scatter\"}],                        {\"template\":{\"data\":{\"histogram2dcontour\":[{\"type\":\"histogram2dcontour\",\"colorbar\":{\"outlinewidth\":0,\"ticks\":\"\"},\"colorscale\":[[0.0,\"#0d0887\"],[0.1111111111111111,\"#46039f\"],[0.2222222222222222,\"#7201a8\"],[0.3333333333333333,\"#9c179e\"],[0.4444444444444444,\"#bd3786\"],[0.5555555555555556,\"#d8576b\"],[0.6666666666666666,\"#ed7953\"],[0.7777777777777778,\"#fb9f3a\"],[0.8888888888888888,\"#fdca26\"],[1.0,\"#f0f921\"]]}],\"choropleth\":[{\"type\":\"choropleth\",\"colorbar\":{\"outlinewidth\":0,\"ticks\":\"\"}}],\"histogram2d\":[{\"type\":\"histogram2d\",\"colorbar\":{\"outlinewidth\":0,\"ticks\":\"\"},\"colorscale\":[[0.0,\"#0d0887\"],[0.1111111111111111,\"#46039f\"],[0.2222222222222222,\"#7201a8\"],[0.3333333333333333,\"#9c179e\"],[0.4444444444444444,\"#bd3786\"],[0.5555555555555556,\"#d8576b\"],[0.6666666666666666,\"#ed7953\"],[0.7777777777777778,\"#fb9f3a\"],[0.8888888888888888,\"#fdca26\"],[1.0,\"#f0f921\"]]}],\"heatmap\":[{\"type\":\"heatmap\",\"colorbar\":{\"outlinewidth\":0,\"ticks\":\"\"},\"colorscale\":[[0.0,\"#0d0887\"],[0.1111111111111111,\"#46039f\"],[0.2222222222222222,\"#7201a8\"],[0.3333333333333333,\"#9c179e\"],[0.4444444444444444,\"#bd3786\"],[0.5555555555555556,\"#d8576b\"],[0.6666666666666666,\"#ed7953\"],[0.7777777777777778,\"#fb9f3a\"],[0.8888888888888888,\"#fdca26\"],[1.0,\"#f0f921\"]]}],\"heatmapgl\":[{\"type\":\"heatmapgl\",\"colorbar\":{\"outlinewidth\":0,\"ticks\":\"\"},\"colorscale\":[[0.0,\"#0d0887\"],[0.1111111111111111,\"#46039f\"],[0.2222222222222222,\"#7201a8\"],[0.3333333333333333,\"#9c179e\"],[0.4444444444444444,\"#bd3786\"],[0.5555555555555556,\"#d8576b\"],[0.6666666666666666,\"#ed7953\"],[0.7777777777777778,\"#fb9f3a\"],[0.8888888888888888,\"#fdca26\"],[1.0,\"#f0f921\"]]}],\"contourcarpet\":[{\"type\":\"contourcarpet\",\"colorbar\":{\"outlinewidth\":0,\"ticks\":\"\"}}],\"contour\":[{\"type\":\"contour\",\"colorbar\":{\"outlinewidth\":0,\"ticks\":\"\"},\"colorscale\":[[0.0,\"#0d0887\"],[0.1111111111111111,\"#46039f\"],[0.2222222222222222,\"#7201a8\"],[0.3333333333333333,\"#9c179e\"],[0.4444444444444444,\"#bd3786\"],[0.5555555555555556,\"#d8576b\"],[0.6666666666666666,\"#ed7953\"],[0.7777777777777778,\"#fb9f3a\"],[0.8888888888888888,\"#fdca26\"],[1.0,\"#f0f921\"]]}],\"surface\":[{\"type\":\"surface\",\"colorbar\":{\"outlinewidth\":0,\"ticks\":\"\"},\"colorscale\":[[0.0,\"#0d0887\"],[0.1111111111111111,\"#46039f\"],[0.2222222222222222,\"#7201a8\"],[0.3333333333333333,\"#9c179e\"],[0.4444444444444444,\"#bd3786\"],[0.5555555555555556,\"#d8576b\"],[0.6666666666666666,\"#ed7953\"],[0.7777777777777778,\"#fb9f3a\"],[0.8888888888888888,\"#fdca26\"],[1.0,\"#f0f921\"]]}],\"mesh3d\":[{\"type\":\"mesh3d\",\"colorbar\":{\"outlinewidth\":0,\"ticks\":\"\"}}],\"scatter\":[{\"fillpattern\":{\"fillmode\":\"overlay\",\"size\":10,\"solidity\":0.2},\"type\":\"scatter\"}],\"parcoords\":[{\"type\":\"parcoords\",\"line\":{\"colorbar\":{\"outlinewidth\":0,\"ticks\":\"\"}}}],\"scatterpolargl\":[{\"type\":\"scatterpolargl\",\"marker\":{\"colorbar\":{\"outlinewidth\":0,\"ticks\":\"\"}}}],\"bar\":[{\"error_x\":{\"color\":\"#2a3f5f\"},\"error_y\":{\"color\":\"#2a3f5f\"},\"marker\":{\"line\":{\"color\":\"#E5ECF6\",\"width\":0.5},\"pattern\":{\"fillmode\":\"overlay\",\"size\":10,\"solidity\":0.2}},\"type\":\"bar\"}],\"scattergeo\":[{\"type\":\"scattergeo\",\"marker\":{\"colorbar\":{\"outlinewidth\":0,\"ticks\":\"\"}}}],\"scatterpolar\":[{\"type\":\"scatterpolar\",\"marker\":{\"colorbar\":{\"outlinewidth\":0,\"ticks\":\"\"}}}],\"histogram\":[{\"marker\":{\"pattern\":{\"fillmode\":\"overlay\",\"size\":10,\"solidity\":0.2}},\"type\":\"histogram\"}],\"scattergl\":[{\"type\":\"scattergl\",\"marker\":{\"colorbar\":{\"outlinewidth\":0,\"ticks\":\"\"}}}],\"scatter3d\":[{\"type\":\"scatter3d\",\"line\":{\"colorbar\":{\"outlinewidth\":0,\"ticks\":\"\"}},\"marker\":{\"colorbar\":{\"outlinewidth\":0,\"ticks\":\"\"}}}],\"scattermapbox\":[{\"type\":\"scattermapbox\",\"marker\":{\"colorbar\":{\"outlinewidth\":0,\"ticks\":\"\"}}}],\"scatterternary\":[{\"type\":\"scatterternary\",\"marker\":{\"colorbar\":{\"outlinewidth\":0,\"ticks\":\"\"}}}],\"scattercarpet\":[{\"type\":\"scattercarpet\",\"marker\":{\"colorbar\":{\"outlinewidth\":0,\"ticks\":\"\"}}}],\"carpet\":[{\"aaxis\":{\"endlinecolor\":\"#2a3f5f\",\"gridcolor\":\"white\",\"linecolor\":\"white\",\"minorgridcolor\":\"white\",\"startlinecolor\":\"#2a3f5f\"},\"baxis\":{\"endlinecolor\":\"#2a3f5f\",\"gridcolor\":\"white\",\"linecolor\":\"white\",\"minorgridcolor\":\"white\",\"startlinecolor\":\"#2a3f5f\"},\"type\":\"carpet\"}],\"table\":[{\"cells\":{\"fill\":{\"color\":\"#EBF0F8\"},\"line\":{\"color\":\"white\"}},\"header\":{\"fill\":{\"color\":\"#C8D4E3\"},\"line\":{\"color\":\"white\"}},\"type\":\"table\"}],\"barpolar\":[{\"marker\":{\"line\":{\"color\":\"#E5ECF6\",\"width\":0.5},\"pattern\":{\"fillmode\":\"overlay\",\"size\":10,\"solidity\":0.2}},\"type\":\"barpolar\"}],\"pie\":[{\"automargin\":true,\"type\":\"pie\"}]},\"layout\":{\"autotypenumbers\":\"strict\",\"colorway\":[\"#636efa\",\"#EF553B\",\"#00cc96\",\"#ab63fa\",\"#FFA15A\",\"#19d3f3\",\"#FF6692\",\"#B6E880\",\"#FF97FF\",\"#FECB52\"],\"font\":{\"color\":\"#2a3f5f\"},\"hovermode\":\"closest\",\"hoverlabel\":{\"align\":\"left\"},\"paper_bgcolor\":\"white\",\"plot_bgcolor\":\"#E5ECF6\",\"polar\":{\"bgcolor\":\"#E5ECF6\",\"angularaxis\":{\"gridcolor\":\"white\",\"linecolor\":\"white\",\"ticks\":\"\"},\"radialaxis\":{\"gridcolor\":\"white\",\"linecolor\":\"white\",\"ticks\":\"\"}},\"ternary\":{\"bgcolor\":\"#E5ECF6\",\"aaxis\":{\"gridcolor\":\"white\",\"linecolor\":\"white\",\"ticks\":\"\"},\"baxis\":{\"gridcolor\":\"white\",\"linecolor\":\"white\",\"ticks\":\"\"},\"caxis\":{\"gridcolor\":\"white\",\"linecolor\":\"white\",\"ticks\":\"\"}},\"coloraxis\":{\"colorbar\":{\"outlinewidth\":0,\"ticks\":\"\"}},\"colorscale\":{\"sequential\":[[0.0,\"#0d0887\"],[0.1111111111111111,\"#46039f\"],[0.2222222222222222,\"#7201a8\"],[0.3333333333333333,\"#9c179e\"],[0.4444444444444444,\"#bd3786\"],[0.5555555555555556,\"#d8576b\"],[0.6666666666666666,\"#ed7953\"],[0.7777777777777778,\"#fb9f3a\"],[0.8888888888888888,\"#fdca26\"],[1.0,\"#f0f921\"]],\"sequentialminus\":[[0.0,\"#0d0887\"],[0.1111111111111111,\"#46039f\"],[0.2222222222222222,\"#7201a8\"],[0.3333333333333333,\"#9c179e\"],[0.4444444444444444,\"#bd3786\"],[0.5555555555555556,\"#d8576b\"],[0.6666666666666666,\"#ed7953\"],[0.7777777777777778,\"#fb9f3a\"],[0.8888888888888888,\"#fdca26\"],[1.0,\"#f0f921\"]],\"diverging\":[[0,\"#8e0152\"],[0.1,\"#c51b7d\"],[0.2,\"#de77ae\"],[0.3,\"#f1b6da\"],[0.4,\"#fde0ef\"],[0.5,\"#f7f7f7\"],[0.6,\"#e6f5d0\"],[0.7,\"#b8e186\"],[0.8,\"#7fbc41\"],[0.9,\"#4d9221\"],[1,\"#276419\"]]},\"xaxis\":{\"gridcolor\":\"white\",\"linecolor\":\"white\",\"ticks\":\"\",\"title\":{\"standoff\":15},\"zerolinecolor\":\"white\",\"automargin\":true,\"zerolinewidth\":2},\"yaxis\":{\"gridcolor\":\"white\",\"linecolor\":\"white\",\"ticks\":\"\",\"title\":{\"standoff\":15},\"zerolinecolor\":\"white\",\"automargin\":true,\"zerolinewidth\":2},\"scene\":{\"xaxis\":{\"backgroundcolor\":\"#E5ECF6\",\"gridcolor\":\"white\",\"linecolor\":\"white\",\"showbackground\":true,\"ticks\":\"\",\"zerolinecolor\":\"white\",\"gridwidth\":2},\"yaxis\":{\"backgroundcolor\":\"#E5ECF6\",\"gridcolor\":\"white\",\"linecolor\":\"white\",\"showbackground\":true,\"ticks\":\"\",\"zerolinecolor\":\"white\",\"gridwidth\":2},\"zaxis\":{\"backgroundcolor\":\"#E5ECF6\",\"gridcolor\":\"white\",\"linecolor\":\"white\",\"showbackground\":true,\"ticks\":\"\",\"zerolinecolor\":\"white\",\"gridwidth\":2}},\"shapedefaults\":{\"line\":{\"color\":\"#2a3f5f\"}},\"annotationdefaults\":{\"arrowcolor\":\"#2a3f5f\",\"arrowhead\":0,\"arrowwidth\":1},\"geo\":{\"bgcolor\":\"white\",\"landcolor\":\"#E5ECF6\",\"subunitcolor\":\"white\",\"showland\":true,\"showlakes\":true,\"lakecolor\":\"white\"},\"title\":{\"x\":0.05},\"mapbox\":{\"style\":\"light\"}}},\"xaxis\":{\"title\":{\"text\":\"Epoch\"}},\"yaxis\":{\"title\":{\"text\":\"Loss\"}},\"title\":{\"text\":\"Loss curve\"}},                        {\"responsive\": true}                    ).then(function(){\n",
       "                            \n",
       "var gd = document.getElementById('5d245ce5-36d7-46d6-884a-4d4c563bdc88');\n",
       "var x = new MutationObserver(function (mutations, observer) {{\n",
       "        var display = window.getComputedStyle(gd).display;\n",
       "        if (!display || display === 'none') {{\n",
       "            console.log([gd, 'removed!']);\n",
       "            Plotly.purge(gd);\n",
       "            observer.disconnect();\n",
       "        }}\n",
       "}});\n",
       "\n",
       "// Listen for the removal of the full notebook cells\n",
       "var notebookContainer = gd.closest('#notebook-container');\n",
       "if (notebookContainer) {{\n",
       "    x.observe(notebookContainer, {childList: true});\n",
       "}}\n",
       "\n",
       "// Listen for the clearing of the current output cell\n",
       "var outputEl = gd.closest('.output');\n",
       "if (outputEl) {{\n",
       "    x.observe(outputEl, {childList: true});\n",
       "}}\n",
       "\n",
       "                        })                };                });            </script>        </div>"
      ]
     },
     "metadata": {},
     "output_type": "display_data"
    }
   ],
   "source": [
    "# Try a small neural network using sklearn\n",
    "from sklearn.neural_network import MLPRegressor\n",
    "\n",
    "clf = MLPRegressor(hidden_layer_sizes=(400, 400, 400), max_iter=1000, n_iter_no_change=100, tol=1e-4)\n",
    "clf.fit(X_train, Y_train)\n",
    "Y_test_hat = clf.predict(X_test)\n",
    "\n",
    "print(f'MSE: {mean_squared_error(Y_test, Y_test_hat)}')\n",
    "\n",
    "data = []\n",
    "data.append(go.Scatter(x=np.arange(len(clf.loss_curve_)), y=clf.loss_curve_, mode='lines', name='Loss curve'))\n",
    "\n",
    "fig = go.Figure(data=data)\n",
    "fig.update_layout(\n",
    "    xaxis_title=\"Epoch\",\n",
    "    yaxis_title=\"Loss\",\n",
    "    title=\"Loss curve\"\n",
    ")\n",
    "fig.show()"
   ]
  },
  {
   "cell_type": "code",
   "execution_count": 11,
   "metadata": {},
   "outputs": [
    {
     "name": "stdout",
     "output_type": "stream",
     "text": [
      "Epoch 0, loss: 1.0610132217407227\n",
      "Epoch 10, loss: 0.47626158595085144\n",
      "Epoch 20, loss: 0.5589691996574402\n",
      "Epoch 30, loss: 0.3065098822116852\n",
      "Epoch 40, loss: 0.3074653148651123\n",
      "Epoch 50, loss: 0.16831016540527344\n",
      "Epoch 60, loss: 0.14898696541786194\n",
      "Epoch 70, loss: 0.0732480064034462\n",
      "Epoch 80, loss: 0.11618396639823914\n",
      "Epoch 90, loss: 0.050241075456142426\n",
      "Epoch 100, loss: 0.07659020274877548\n",
      "Epoch 110, loss: 0.0759902223944664\n",
      "Epoch 120, loss: 0.14594632387161255\n",
      "Epoch 130, loss: 0.3374762237071991\n",
      "Epoch 140, loss: 0.0831337720155716\n",
      "Epoch 150, loss: 0.1356569230556488\n",
      "Epoch 160, loss: 0.09581134468317032\n",
      "Epoch 170, loss: 0.4756656289100647\n",
      "Epoch 180, loss: 0.06765664368867874\n",
      "Epoch 190, loss: 0.08835096657276154\n",
      "Epoch 200, loss: 0.09339697659015656\n",
      "Epoch 210, loss: 0.11122559756040573\n",
      "Epoch 220, loss: 0.08027961105108261\n",
      "Epoch 230, loss: 0.06544233113527298\n",
      "Epoch 240, loss: 0.17370367050170898\n",
      "Epoch 250, loss: 0.15004049241542816\n",
      "Epoch 260, loss: 0.04537535086274147\n",
      "Epoch 270, loss: 0.09917384386062622\n",
      "Epoch 280, loss: 0.06042017787694931\n",
      "Epoch 290, loss: 0.02725195698440075\n",
      "Epoch 300, loss: 0.12078114598989487\n",
      "Epoch 310, loss: 0.07038502395153046\n",
      "Epoch 320, loss: 0.10737533867359161\n",
      "Epoch 330, loss: 0.02888515032827854\n",
      "Epoch 340, loss: 0.06792590022087097\n",
      "Epoch 350, loss: 0.07718852162361145\n",
      "Epoch 360, loss: 0.06888623535633087\n",
      "Epoch 370, loss: 0.10509698837995529\n",
      "Epoch 380, loss: 0.14097778499126434\n",
      "Epoch 390, loss: 0.051106203347444534\n",
      "Epoch 400, loss: 0.025349311530590057\n",
      "Epoch 410, loss: 0.07125913351774216\n",
      "Epoch 420, loss: 0.1397312730550766\n",
      "Epoch 430, loss: 0.0785033330321312\n",
      "Epoch 440, loss: 0.37349629402160645\n",
      "Epoch 450, loss: 0.08453671634197235\n",
      "Epoch 460, loss: 0.14260776340961456\n",
      "Epoch 470, loss: 0.12792395055294037\n",
      "Epoch 480, loss: 0.07403513789176941\n",
      "Epoch 490, loss: 0.03697514906525612\n",
      "Epoch 500, loss: 0.04873434081673622\n",
      "Epoch 510, loss: 0.022857727482914925\n",
      "Epoch 520, loss: 0.033500347286462784\n",
      "Epoch 530, loss: 0.047099970281124115\n",
      "Epoch 540, loss: 0.035972099751234055\n",
      "Epoch 550, loss: 0.06723377853631973\n",
      "Epoch 560, loss: 0.07873781770467758\n",
      "Epoch 570, loss: 0.04891090467572212\n",
      "Epoch 580, loss: 0.1287783682346344\n",
      "Epoch 590, loss: 0.06466899067163467\n",
      "Epoch 600, loss: 0.019130202010273933\n",
      "Epoch 610, loss: 0.06380754709243774\n",
      "Epoch 620, loss: 0.0283157117664814\n",
      "Epoch 630, loss: 0.0843597948551178\n",
      "Epoch 640, loss: 0.013744057156145573\n",
      "Epoch 650, loss: 0.01786111854016781\n",
      "Epoch 660, loss: 0.046124525368213654\n",
      "Epoch 670, loss: 0.02975858934223652\n",
      "Epoch 680, loss: 0.07094928622245789\n",
      "Epoch 690, loss: 0.0967072993516922\n",
      "Epoch 700, loss: 0.08707927912473679\n",
      "Epoch 710, loss: 0.020707830786705017\n",
      "Epoch 720, loss: 0.11165165901184082\n",
      "Epoch 730, loss: 0.008816925808787346\n",
      "Epoch 740, loss: 0.027261648327112198\n",
      "Epoch 750, loss: 0.2106015980243683\n",
      "Epoch 760, loss: 0.07441776245832443\n",
      "Epoch 770, loss: 0.03570783883333206\n",
      "Epoch 780, loss: 0.07519514858722687\n",
      "Epoch 790, loss: 0.1140662208199501\n",
      "Epoch 800, loss: 0.06095714867115021\n",
      "Epoch 810, loss: 0.11614104360342026\n",
      "Epoch 820, loss: 0.029066164046525955\n",
      "Epoch 830, loss: 0.06020049750804901\n",
      "Epoch 840, loss: 0.07136653363704681\n",
      "Epoch 850, loss: 0.1085255816578865\n",
      "Epoch 860, loss: 0.040500689297914505\n",
      "Epoch 870, loss: 0.028593234717845917\n",
      "Epoch 880, loss: 0.10550383478403091\n",
      "Epoch 890, loss: 0.04496117681264877\n",
      "Epoch 900, loss: 0.14560145139694214\n",
      "Epoch 910, loss: 0.04036024957895279\n",
      "Epoch 920, loss: 0.036946021020412445\n",
      "Epoch 930, loss: 0.039494555443525314\n",
      "Epoch 940, loss: 0.02506878785789013\n",
      "Epoch 950, loss: 0.043254658579826355\n",
      "Epoch 960, loss: 0.020891137421131134\n",
      "Epoch 970, loss: 0.08601866662502289\n",
      "Epoch 980, loss: 0.04819389805197716\n",
      "Epoch 990, loss: 0.1962306946516037\n"
     ]
    }
   ],
   "source": [
    "# Train a neural network using pytorch\n",
    "import torch\n",
    "import torch.nn as nn\n",
    "import torch.nn.functional as F\n",
    "import torch.optim as optim\n",
    "\n",
    "class Net(nn.Module):\n",
    "    def __init__(self, hidden_size):\n",
    "        super(Net, self).__init__()\n",
    "        self.fc1 = nn.Linear(D, hidden_size)\n",
    "        self.fc2 = nn.Linear(hidden_size, hidden_size)\n",
    "        self.fc3 = nn.Linear(hidden_size, 1)\n",
    "\n",
    "    def forward(self, x):\n",
    "        x = F.relu(self.fc1(x))\n",
    "        x = F.relu(self.fc2(x))\n",
    "        return self.fc3(x)\n",
    "    \n",
    "net = Net(400)\n",
    "\n",
    "criterion = nn.MSELoss()\n",
    "optimizer = optim.Adam(net.parameters(), lr=0.001)\n",
    "\n",
    "X_train_torch = torch.from_numpy(X_train).float()\n",
    "Y_train_torch = torch.from_numpy(Y_train).float()\n",
    "X_test_torch = torch.from_numpy(X_test).float()\n",
    "Y_test_torch = torch.from_numpy(Y_test).float()\n",
    "\n",
    "epochs = 1000\n",
    "batch_size = 100\n",
    "\n",
    "loss_train = []\n",
    "loss_test = []\n",
    "\n",
    "for epoch in range(epochs):\n",
    "    permutation = torch.randperm(X_train_torch.shape[0])\n",
    "    for i in range(0, X_train_torch.shape[0], batch_size):\n",
    "        indices = permutation[i:i+batch_size]\n",
    "        batch_x, batch_y = X_train_torch[indices], Y_train_torch[indices]\n",
    "\n",
    "        optimizer.zero_grad()\n",
    "\n",
    "        outputs = net(batch_x)\n",
    "        loss = criterion(outputs, batch_y.unsqueeze(-1))\n",
    "        loss.backward()\n",
    "        optimizer.step()\n",
    "        \n",
    "    if epoch % 10 == 0:\n",
    "        print(f'Epoch {epoch}, loss: {loss.item()}')\n",
    "\n",
    "    outputs = net(X_train_torch)\n",
    "    loss_train.append(criterion(outputs, Y_train_torch.unsqueeze(-1)))\n",
    "    outputs = net(X_test_torch)\n",
    "    loss_test.append(criterion(outputs, Y_test_torch.unsqueeze(-1)))"
   ]
  },
  {
   "cell_type": "code",
   "execution_count": 12,
   "metadata": {},
   "outputs": [
    {
     "ename": "RuntimeError",
     "evalue": "Can't call numpy() on Tensor that requires grad. Use tensor.detach().numpy() instead.",
     "output_type": "error",
     "traceback": [
      "\u001b[0;31m---------------------------------------------------------------------------\u001b[0m",
      "\u001b[0;31mRuntimeError\u001b[0m                              Traceback (most recent call last)",
      "Cell \u001b[0;32mIn[12], line 2\u001b[0m\n\u001b[1;32m      1\u001b[0m data \u001b[38;5;241m=\u001b[39m []\n\u001b[0;32m----> 2\u001b[0m data\u001b[38;5;241m.\u001b[39mappend(\u001b[43mgo\u001b[49m\u001b[38;5;241;43m.\u001b[39;49m\u001b[43mScatter\u001b[49m\u001b[43m(\u001b[49m\u001b[43mx\u001b[49m\u001b[38;5;241;43m=\u001b[39;49m\u001b[43mnp\u001b[49m\u001b[38;5;241;43m.\u001b[39;49m\u001b[43marange\u001b[49m\u001b[43m(\u001b[49m\u001b[38;5;28;43mlen\u001b[39;49m\u001b[43m(\u001b[49m\u001b[43mloss_train\u001b[49m\u001b[43m)\u001b[49m\u001b[43m)\u001b[49m\u001b[43m,\u001b[49m\u001b[43m \u001b[49m\u001b[43my\u001b[49m\u001b[38;5;241;43m=\u001b[39;49m\u001b[43mloss_train\u001b[49m\u001b[43m,\u001b[49m\u001b[43m \u001b[49m\u001b[43mmode\u001b[49m\u001b[38;5;241;43m=\u001b[39;49m\u001b[38;5;124;43m'\u001b[39;49m\u001b[38;5;124;43mlines\u001b[39;49m\u001b[38;5;124;43m'\u001b[39;49m\u001b[43m,\u001b[49m\u001b[43m \u001b[49m\u001b[43mname\u001b[49m\u001b[38;5;241;43m=\u001b[39;49m\u001b[38;5;124;43m'\u001b[39;49m\u001b[38;5;124;43mTrain loss\u001b[39;49m\u001b[38;5;124;43m'\u001b[39;49m\u001b[43m)\u001b[49m)\n\u001b[1;32m      3\u001b[0m data\u001b[38;5;241m.\u001b[39mappend(go\u001b[38;5;241m.\u001b[39mScatter(x\u001b[38;5;241m=\u001b[39mnp\u001b[38;5;241m.\u001b[39marange(\u001b[38;5;28mlen\u001b[39m(loss_test)), y\u001b[38;5;241m=\u001b[39mloss_test, mode\u001b[38;5;241m=\u001b[39m\u001b[38;5;124m'\u001b[39m\u001b[38;5;124mlines\u001b[39m\u001b[38;5;124m'\u001b[39m, name\u001b[38;5;241m=\u001b[39m\u001b[38;5;124m'\u001b[39m\u001b[38;5;124mTest loss\u001b[39m\u001b[38;5;124m'\u001b[39m))\n\u001b[1;32m      5\u001b[0m fig \u001b[38;5;241m=\u001b[39m go\u001b[38;5;241m.\u001b[39mFigure(data\u001b[38;5;241m=\u001b[39mdata)\n",
      "File \u001b[0;32m~/miniconda3/envs/brainlab/lib/python3.10/site-packages/plotly/graph_objs/_scatter.py:3522\u001b[0m, in \u001b[0;36mScatter.__init__\u001b[0;34m(self, arg, alignmentgroup, cliponaxis, connectgaps, customdata, customdatasrc, dx, dy, error_x, error_y, fill, fillcolor, fillpattern, groupnorm, hoverinfo, hoverinfosrc, hoverlabel, hoveron, hovertemplate, hovertemplatesrc, hovertext, hovertextsrc, ids, idssrc, legend, legendgroup, legendgrouptitle, legendrank, legendwidth, line, marker, meta, metasrc, mode, name, offsetgroup, opacity, orientation, selected, selectedpoints, showlegend, stackgaps, stackgroup, stream, text, textfont, textposition, textpositionsrc, textsrc, texttemplate, texttemplatesrc, uid, uirevision, unselected, visible, x, x0, xaxis, xcalendar, xhoverformat, xperiod, xperiod0, xperiodalignment, xsrc, y, y0, yaxis, ycalendar, yhoverformat, yperiod, yperiod0, yperiodalignment, ysrc, **kwargs)\u001b[0m\n\u001b[1;32m   3520\u001b[0m _v \u001b[38;5;241m=\u001b[39m y \u001b[38;5;28;01mif\u001b[39;00m y \u001b[38;5;129;01mis\u001b[39;00m \u001b[38;5;129;01mnot\u001b[39;00m \u001b[38;5;28;01mNone\u001b[39;00m \u001b[38;5;28;01melse\u001b[39;00m _v\n\u001b[1;32m   3521\u001b[0m \u001b[38;5;28;01mif\u001b[39;00m _v \u001b[38;5;129;01mis\u001b[39;00m \u001b[38;5;129;01mnot\u001b[39;00m \u001b[38;5;28;01mNone\u001b[39;00m:\n\u001b[0;32m-> 3522\u001b[0m     \u001b[38;5;28;43mself\u001b[39;49m\u001b[43m[\u001b[49m\u001b[38;5;124;43m\"\u001b[39;49m\u001b[38;5;124;43my\u001b[39;49m\u001b[38;5;124;43m\"\u001b[39;49m\u001b[43m]\u001b[49m \u001b[38;5;241m=\u001b[39m _v\n\u001b[1;32m   3523\u001b[0m _v \u001b[38;5;241m=\u001b[39m arg\u001b[38;5;241m.\u001b[39mpop(\u001b[38;5;124m\"\u001b[39m\u001b[38;5;124my0\u001b[39m\u001b[38;5;124m\"\u001b[39m, \u001b[38;5;28;01mNone\u001b[39;00m)\n\u001b[1;32m   3524\u001b[0m _v \u001b[38;5;241m=\u001b[39m y0 \u001b[38;5;28;01mif\u001b[39;00m y0 \u001b[38;5;129;01mis\u001b[39;00m \u001b[38;5;129;01mnot\u001b[39;00m \u001b[38;5;28;01mNone\u001b[39;00m \u001b[38;5;28;01melse\u001b[39;00m _v\n",
      "File \u001b[0;32m~/miniconda3/envs/brainlab/lib/python3.10/site-packages/plotly/basedatatypes.py:4874\u001b[0m, in \u001b[0;36mBasePlotlyType.__setitem__\u001b[0;34m(self, prop, value)\u001b[0m\n\u001b[1;32m   4870\u001b[0m         \u001b[38;5;28mself\u001b[39m\u001b[38;5;241m.\u001b[39m_set_array_prop(prop, value)\n\u001b[1;32m   4872\u001b[0m     \u001b[38;5;66;03m# ### Handle simple property ###\u001b[39;00m\n\u001b[1;32m   4873\u001b[0m     \u001b[38;5;28;01melse\u001b[39;00m:\n\u001b[0;32m-> 4874\u001b[0m         \u001b[38;5;28;43mself\u001b[39;49m\u001b[38;5;241;43m.\u001b[39;49m\u001b[43m_set_prop\u001b[49m\u001b[43m(\u001b[49m\u001b[43mprop\u001b[49m\u001b[43m,\u001b[49m\u001b[43m \u001b[49m\u001b[43mvalue\u001b[49m\u001b[43m)\u001b[49m\n\u001b[1;32m   4875\u001b[0m \u001b[38;5;28;01melse\u001b[39;00m:\n\u001b[1;32m   4876\u001b[0m     \u001b[38;5;66;03m# Make sure properties dict is initialized\u001b[39;00m\n\u001b[1;32m   4877\u001b[0m     \u001b[38;5;28mself\u001b[39m\u001b[38;5;241m.\u001b[39m_init_props()\n",
      "File \u001b[0;32m~/miniconda3/envs/brainlab/lib/python3.10/site-packages/plotly/basedatatypes.py:5213\u001b[0m, in \u001b[0;36mBasePlotlyType._set_prop\u001b[0;34m(self, prop, val)\u001b[0m\n\u001b[1;32m   5210\u001b[0m validator \u001b[38;5;241m=\u001b[39m \u001b[38;5;28mself\u001b[39m\u001b[38;5;241m.\u001b[39m_get_validator(prop)\n\u001b[1;32m   5212\u001b[0m \u001b[38;5;28;01mtry\u001b[39;00m:\n\u001b[0;32m-> 5213\u001b[0m     val \u001b[38;5;241m=\u001b[39m \u001b[43mvalidator\u001b[49m\u001b[38;5;241;43m.\u001b[39;49m\u001b[43mvalidate_coerce\u001b[49m\u001b[43m(\u001b[49m\u001b[43mval\u001b[49m\u001b[43m)\u001b[49m\n\u001b[1;32m   5214\u001b[0m \u001b[38;5;28;01mexcept\u001b[39;00m \u001b[38;5;167;01mValueError\u001b[39;00m \u001b[38;5;28;01mas\u001b[39;00m err:\n\u001b[1;32m   5215\u001b[0m     \u001b[38;5;28;01mif\u001b[39;00m \u001b[38;5;28mself\u001b[39m\u001b[38;5;241m.\u001b[39m_skip_invalid:\n",
      "File \u001b[0;32m~/miniconda3/envs/brainlab/lib/python3.10/site-packages/_plotly_utils/basevalidators.py:410\u001b[0m, in \u001b[0;36mDataArrayValidator.validate_coerce\u001b[0;34m(self, v)\u001b[0m\n\u001b[1;32m    408\u001b[0m     v \u001b[38;5;241m=\u001b[39m copy_to_readonly_numpy_array(v)\n\u001b[1;32m    409\u001b[0m \u001b[38;5;28;01melif\u001b[39;00m is_simple_array(v):\n\u001b[0;32m--> 410\u001b[0m     v \u001b[38;5;241m=\u001b[39m \u001b[43mto_scalar_or_list\u001b[49m\u001b[43m(\u001b[49m\u001b[43mv\u001b[49m\u001b[43m)\u001b[49m\n\u001b[1;32m    411\u001b[0m \u001b[38;5;28;01melse\u001b[39;00m:\n\u001b[1;32m    412\u001b[0m     \u001b[38;5;28mself\u001b[39m\u001b[38;5;241m.\u001b[39mraise_invalid_val(v)\n",
      "File \u001b[0;32m~/miniconda3/envs/brainlab/lib/python3.10/site-packages/_plotly_utils/basevalidators.py:40\u001b[0m, in \u001b[0;36mto_scalar_or_list\u001b[0;34m(v)\u001b[0m\n\u001b[1;32m     38\u001b[0m     \u001b[38;5;28;01mreturn\u001b[39;00m v\u001b[38;5;241m.\u001b[39mitem()\n\u001b[1;32m     39\u001b[0m \u001b[38;5;28;01mif\u001b[39;00m \u001b[38;5;28misinstance\u001b[39m(v, (\u001b[38;5;28mlist\u001b[39m, \u001b[38;5;28mtuple\u001b[39m)):\n\u001b[0;32m---> 40\u001b[0m     \u001b[38;5;28;01mreturn\u001b[39;00m [to_scalar_or_list(e) \u001b[38;5;28;01mfor\u001b[39;00m e \u001b[38;5;129;01min\u001b[39;00m v]\n\u001b[1;32m     41\u001b[0m \u001b[38;5;28;01melif\u001b[39;00m np \u001b[38;5;129;01mand\u001b[39;00m \u001b[38;5;28misinstance\u001b[39m(v, np\u001b[38;5;241m.\u001b[39mndarray):\n\u001b[1;32m     42\u001b[0m     \u001b[38;5;28;01mif\u001b[39;00m v\u001b[38;5;241m.\u001b[39mndim \u001b[38;5;241m==\u001b[39m \u001b[38;5;241m0\u001b[39m:\n",
      "File \u001b[0;32m~/miniconda3/envs/brainlab/lib/python3.10/site-packages/_plotly_utils/basevalidators.py:40\u001b[0m, in \u001b[0;36m<listcomp>\u001b[0;34m(.0)\u001b[0m\n\u001b[1;32m     38\u001b[0m     \u001b[38;5;28;01mreturn\u001b[39;00m v\u001b[38;5;241m.\u001b[39mitem()\n\u001b[1;32m     39\u001b[0m \u001b[38;5;28;01mif\u001b[39;00m \u001b[38;5;28misinstance\u001b[39m(v, (\u001b[38;5;28mlist\u001b[39m, \u001b[38;5;28mtuple\u001b[39m)):\n\u001b[0;32m---> 40\u001b[0m     \u001b[38;5;28;01mreturn\u001b[39;00m [\u001b[43mto_scalar_or_list\u001b[49m\u001b[43m(\u001b[49m\u001b[43me\u001b[49m\u001b[43m)\u001b[49m \u001b[38;5;28;01mfor\u001b[39;00m e \u001b[38;5;129;01min\u001b[39;00m v]\n\u001b[1;32m     41\u001b[0m \u001b[38;5;28;01melif\u001b[39;00m np \u001b[38;5;129;01mand\u001b[39;00m \u001b[38;5;28misinstance\u001b[39m(v, np\u001b[38;5;241m.\u001b[39mndarray):\n\u001b[1;32m     42\u001b[0m     \u001b[38;5;28;01mif\u001b[39;00m v\u001b[38;5;241m.\u001b[39mndim \u001b[38;5;241m==\u001b[39m \u001b[38;5;241m0\u001b[39m:\n",
      "File \u001b[0;32m~/miniconda3/envs/brainlab/lib/python3.10/site-packages/_plotly_utils/basevalidators.py:48\u001b[0m, in \u001b[0;36mto_scalar_or_list\u001b[0;34m(v)\u001b[0m\n\u001b[1;32m     46\u001b[0m     \u001b[38;5;28;01mreturn\u001b[39;00m [to_scalar_or_list(e) \u001b[38;5;28;01mfor\u001b[39;00m e \u001b[38;5;129;01min\u001b[39;00m v]\n\u001b[1;32m     47\u001b[0m \u001b[38;5;28;01melif\u001b[39;00m is_numpy_convertable(v):\n\u001b[0;32m---> 48\u001b[0m     \u001b[38;5;28;01mreturn\u001b[39;00m to_scalar_or_list(\u001b[43mnp\u001b[49m\u001b[38;5;241;43m.\u001b[39;49m\u001b[43marray\u001b[49m\u001b[43m(\u001b[49m\u001b[43mv\u001b[49m\u001b[43m)\u001b[49m)\n\u001b[1;32m     49\u001b[0m \u001b[38;5;28;01melse\u001b[39;00m:\n\u001b[1;32m     50\u001b[0m     \u001b[38;5;28;01mreturn\u001b[39;00m v\n",
      "File \u001b[0;32m~/miniconda3/envs/brainlab/lib/python3.10/site-packages/torch/_tensor.py:970\u001b[0m, in \u001b[0;36mTensor.__array__\u001b[0;34m(self, dtype)\u001b[0m\n\u001b[1;32m    968\u001b[0m     \u001b[38;5;28;01mreturn\u001b[39;00m handle_torch_function(Tensor\u001b[38;5;241m.\u001b[39m__array__, (\u001b[38;5;28mself\u001b[39m,), \u001b[38;5;28mself\u001b[39m, dtype\u001b[38;5;241m=\u001b[39mdtype)\n\u001b[1;32m    969\u001b[0m \u001b[38;5;28;01mif\u001b[39;00m dtype \u001b[38;5;129;01mis\u001b[39;00m \u001b[38;5;28;01mNone\u001b[39;00m:\n\u001b[0;32m--> 970\u001b[0m     \u001b[38;5;28;01mreturn\u001b[39;00m \u001b[38;5;28;43mself\u001b[39;49m\u001b[38;5;241;43m.\u001b[39;49m\u001b[43mnumpy\u001b[49m\u001b[43m(\u001b[49m\u001b[43m)\u001b[49m\n\u001b[1;32m    971\u001b[0m \u001b[38;5;28;01melse\u001b[39;00m:\n\u001b[1;32m    972\u001b[0m     \u001b[38;5;28;01mreturn\u001b[39;00m \u001b[38;5;28mself\u001b[39m\u001b[38;5;241m.\u001b[39mnumpy()\u001b[38;5;241m.\u001b[39mastype(dtype, copy\u001b[38;5;241m=\u001b[39m\u001b[38;5;28;01mFalse\u001b[39;00m)\n",
      "\u001b[0;31mRuntimeError\u001b[0m: Can't call numpy() on Tensor that requires grad. Use tensor.detach().numpy() instead."
     ]
    }
   ],
   "source": [
    "data = []\n",
    "data.append(go.Scatter(x=np.arange(len(loss_train)), y=loss_train, mode='lines', name='Train loss'))\n",
    "data.append(go.Scatter(x=np.arange(len(loss_test)), y=loss_test, mode='lines', name='Test loss'))\n",
    "\n",
    "fig = go.Figure(data=data)\n",
    "fig.update_layout(\n",
    "    xaxis_title=\"Epoch\",\n",
    "    yaxis_title=\"Loss\",\n",
    "    title=\"PyTorch Loss curve\"\n",
    ")\n",
    "fig.show()"
   ]
  },
  {
   "cell_type": "code",
   "execution_count": 162,
   "metadata": {},
   "outputs": [
    {
     "data": {
      "application/vnd.plotly.v1+json": {
       "config": {
        "plotlyServerURL": "https://plot.ly"
       },
       "data": [
        {
         "mode": "markers+lines",
         "name": "Session true 1",
         "type": "scatter",
         "x": [
          0,
          1,
          2,
          3,
          4,
          5,
          6,
          7,
          8,
          9,
          10,
          11,
          12,
          13,
          14,
          15,
          16,
          17,
          18,
          19,
          20,
          21,
          22,
          23,
          24,
          25,
          26,
          27,
          28,
          29,
          30,
          31,
          32,
          33,
          34,
          35,
          36,
          37,
          38,
          39
         ],
         "y": [
          0,
          0.015991858000610693,
          0,
          0,
          0,
          0.04152842558576174,
          0.06865487525401545,
          0.08333705007530354,
          0.030161275312515633,
          0.31422523210418246,
          1.139930885287182,
          1.570064919145112,
          1.6113686755607959,
          1.467936754645033,
          1.3234935835985528,
          1.2145500287987665,
          1.0769461204672015,
          0.939825973651076,
          0.8013039974073235,
          0.6612676059069041,
          0.5376876749263858,
          0.42121643843123996,
          0.3051001247622014,
          0.15885831447965307,
          0.3489286849643504,
          0.18692741229958248,
          0.29882817691627667,
          0.6102888895768727,
          0.9658323972250272,
          0.9041149309543279,
          0.5246252404679858,
          0.0754641042453056,
          0.4303018925415922,
          0.8039045970158297,
          0.7909600469188115,
          0.7004051382360388,
          0.4976602572157179,
          0.24996556594446528,
          0.09662229913682784,
          0.07095554966600365
         ]
        },
        {
         "mode": "markers+lines",
         "name": "Session true 2",
         "type": "scatter",
         "x": [
          0,
          1,
          2,
          3,
          4,
          5,
          6,
          7,
          8,
          9,
          10,
          11,
          12,
          13,
          14,
          15,
          16,
          17,
          18,
          19,
          20,
          21,
          22,
          23,
          24,
          25,
          26,
          27,
          28,
          29,
          30,
          31,
          32,
          33,
          34,
          35,
          36,
          37,
          38,
          39
         ],
         "y": [
          0,
          0,
          0,
          0,
          0,
          0,
          0.00354936811446602,
          0,
          0,
          0.10847198764248765,
          0.2137272715015717,
          0.12653813896226865,
          0.06587429504918114,
          0.2543469687875502,
          1.2819819999446893,
          1.8003335855780456,
          1.1943946302552173,
          0.3553821086306621,
          0.15776462212828424,
          0.12372661795183566,
          0.22295471534506384,
          0.18955423474109329,
          0.12283519432542352,
          0.0629166801508628,
          0.11468603868672819,
          0.15098099530087603,
          0.6534141643707279,
          1.59317040455135,
          2.5595364671081184,
          2.1934966641427573,
          0.9767898418698592,
          0.09960672307880315,
          0.021776872341904164,
          0.2565409620591256,
          0.28060747589937285,
          0.14032967147605394,
          0.09342602970252586,
          0.06359199130795203,
          0.07773244781161365,
          0.1544616835183009
         ]
        },
        {
         "mode": "markers+lines",
         "name": "Session pred 1",
         "type": "scatter",
         "x": [
          0,
          1,
          2,
          3,
          4,
          5,
          6,
          7,
          8,
          9,
          10,
          11,
          12,
          13,
          14,
          15,
          16,
          17,
          18,
          19,
          20,
          21,
          22,
          23,
          24,
          25,
          26,
          27,
          28,
          29,
          30,
          31,
          32,
          33,
          34,
          35,
          36,
          37,
          38,
          39
         ],
         "y": [
          0.6636597143080686,
          0.9671929975519555,
          0.7183246744701974,
          0.03764504011925296,
          0.18323881168799816,
          0.8987162085412468,
          0.6010256597270198,
          0.5868345738981811,
          2.5467490806825337,
          0.9820509173431105,
          0.2460098027381229,
          1.4649210265688342,
          2.5951222584522684,
          2.482765259712762,
          0.8250621996051026,
          1.7829293157057606,
          1.583925782796283,
          2.3751086817780673,
          2.2657069816818685,
          3.861546343909781,
          0.861562786777081,
          1.5522993859204783,
          1.8635064347023922,
          2.838399618345274,
          1.0206537580942732,
          2.4954937870541807,
          1.0917776607992433,
          1.5755999531033724,
          1.2570522360054457,
          1.9686200032701622,
          2.097696974928931,
          0.7273864534007117,
          0.7923695809864755,
          0.6966418967915298,
          1.516179847899984,
          1.2538218826187013,
          1.3296399204446752,
          0.6079754983051777,
          1.1909339237678414,
          0.918293808822064
         ]
        },
        {
         "mode": "markers+lines",
         "name": "Session pred 2",
         "type": "scatter",
         "x": [
          0,
          1,
          2,
          3,
          4,
          5,
          6,
          7,
          8,
          9,
          10,
          11,
          12,
          13,
          14,
          15,
          16,
          17,
          18,
          19,
          20,
          21,
          22,
          23,
          24,
          25,
          26,
          27,
          28,
          29,
          30,
          31,
          32,
          33,
          34,
          35,
          36,
          37,
          38,
          39
         ],
         "y": [
          -0.0792920045581284,
          0.4080420084737105,
          0.05229659204415471,
          0.8092077725915561,
          0.3556540435822523,
          0.05129533491332816,
          0.1663545356714554,
          -0.014734775343132833,
          0.46452418376654686,
          0.5530162230983879,
          0.1397710557967416,
          -0.047835128549696515,
          1.0811788240563922,
          2.8834980220192397,
          0.4991808019888673,
          0.74991942975333,
          1.8995637867121904,
          2.48891671256084,
          1.4972055358200287,
          2.7098068517952045,
          1.8271909626855463,
          2.617409923856399,
          1.8335823406596432,
          1.4702213034526062,
          0.9122842025089763,
          0.8718569662237552,
          1.4035770322368477,
          3.0081886138357152,
          1.253258625441531,
          1.221876369314262,
          2.4039314302373342,
          2.119116651661431,
          2.1194423447875272,
          1.9566420254250092,
          0.9406183660298277,
          2.0664186569238705,
          2.659069001805416,
          2.4362973567754445,
          0.7468827925185456,
          1.8920680132622696
         ]
        }
       ],
       "layout": {
        "template": {
         "data": {
          "bar": [
           {
            "error_x": {
             "color": "#2a3f5f"
            },
            "error_y": {
             "color": "#2a3f5f"
            },
            "marker": {
             "line": {
              "color": "#E5ECF6",
              "width": 0.5
             },
             "pattern": {
              "fillmode": "overlay",
              "size": 10,
              "solidity": 0.2
             }
            },
            "type": "bar"
           }
          ],
          "barpolar": [
           {
            "marker": {
             "line": {
              "color": "#E5ECF6",
              "width": 0.5
             },
             "pattern": {
              "fillmode": "overlay",
              "size": 10,
              "solidity": 0.2
             }
            },
            "type": "barpolar"
           }
          ],
          "carpet": [
           {
            "aaxis": {
             "endlinecolor": "#2a3f5f",
             "gridcolor": "white",
             "linecolor": "white",
             "minorgridcolor": "white",
             "startlinecolor": "#2a3f5f"
            },
            "baxis": {
             "endlinecolor": "#2a3f5f",
             "gridcolor": "white",
             "linecolor": "white",
             "minorgridcolor": "white",
             "startlinecolor": "#2a3f5f"
            },
            "type": "carpet"
           }
          ],
          "choropleth": [
           {
            "colorbar": {
             "outlinewidth": 0,
             "ticks": ""
            },
            "type": "choropleth"
           }
          ],
          "contour": [
           {
            "colorbar": {
             "outlinewidth": 0,
             "ticks": ""
            },
            "colorscale": [
             [
              0,
              "#0d0887"
             ],
             [
              0.1111111111111111,
              "#46039f"
             ],
             [
              0.2222222222222222,
              "#7201a8"
             ],
             [
              0.3333333333333333,
              "#9c179e"
             ],
             [
              0.4444444444444444,
              "#bd3786"
             ],
             [
              0.5555555555555556,
              "#d8576b"
             ],
             [
              0.6666666666666666,
              "#ed7953"
             ],
             [
              0.7777777777777778,
              "#fb9f3a"
             ],
             [
              0.8888888888888888,
              "#fdca26"
             ],
             [
              1,
              "#f0f921"
             ]
            ],
            "type": "contour"
           }
          ],
          "contourcarpet": [
           {
            "colorbar": {
             "outlinewidth": 0,
             "ticks": ""
            },
            "type": "contourcarpet"
           }
          ],
          "heatmap": [
           {
            "colorbar": {
             "outlinewidth": 0,
             "ticks": ""
            },
            "colorscale": [
             [
              0,
              "#0d0887"
             ],
             [
              0.1111111111111111,
              "#46039f"
             ],
             [
              0.2222222222222222,
              "#7201a8"
             ],
             [
              0.3333333333333333,
              "#9c179e"
             ],
             [
              0.4444444444444444,
              "#bd3786"
             ],
             [
              0.5555555555555556,
              "#d8576b"
             ],
             [
              0.6666666666666666,
              "#ed7953"
             ],
             [
              0.7777777777777778,
              "#fb9f3a"
             ],
             [
              0.8888888888888888,
              "#fdca26"
             ],
             [
              1,
              "#f0f921"
             ]
            ],
            "type": "heatmap"
           }
          ],
          "heatmapgl": [
           {
            "colorbar": {
             "outlinewidth": 0,
             "ticks": ""
            },
            "colorscale": [
             [
              0,
              "#0d0887"
             ],
             [
              0.1111111111111111,
              "#46039f"
             ],
             [
              0.2222222222222222,
              "#7201a8"
             ],
             [
              0.3333333333333333,
              "#9c179e"
             ],
             [
              0.4444444444444444,
              "#bd3786"
             ],
             [
              0.5555555555555556,
              "#d8576b"
             ],
             [
              0.6666666666666666,
              "#ed7953"
             ],
             [
              0.7777777777777778,
              "#fb9f3a"
             ],
             [
              0.8888888888888888,
              "#fdca26"
             ],
             [
              1,
              "#f0f921"
             ]
            ],
            "type": "heatmapgl"
           }
          ],
          "histogram": [
           {
            "marker": {
             "pattern": {
              "fillmode": "overlay",
              "size": 10,
              "solidity": 0.2
             }
            },
            "type": "histogram"
           }
          ],
          "histogram2d": [
           {
            "colorbar": {
             "outlinewidth": 0,
             "ticks": ""
            },
            "colorscale": [
             [
              0,
              "#0d0887"
             ],
             [
              0.1111111111111111,
              "#46039f"
             ],
             [
              0.2222222222222222,
              "#7201a8"
             ],
             [
              0.3333333333333333,
              "#9c179e"
             ],
             [
              0.4444444444444444,
              "#bd3786"
             ],
             [
              0.5555555555555556,
              "#d8576b"
             ],
             [
              0.6666666666666666,
              "#ed7953"
             ],
             [
              0.7777777777777778,
              "#fb9f3a"
             ],
             [
              0.8888888888888888,
              "#fdca26"
             ],
             [
              1,
              "#f0f921"
             ]
            ],
            "type": "histogram2d"
           }
          ],
          "histogram2dcontour": [
           {
            "colorbar": {
             "outlinewidth": 0,
             "ticks": ""
            },
            "colorscale": [
             [
              0,
              "#0d0887"
             ],
             [
              0.1111111111111111,
              "#46039f"
             ],
             [
              0.2222222222222222,
              "#7201a8"
             ],
             [
              0.3333333333333333,
              "#9c179e"
             ],
             [
              0.4444444444444444,
              "#bd3786"
             ],
             [
              0.5555555555555556,
              "#d8576b"
             ],
             [
              0.6666666666666666,
              "#ed7953"
             ],
             [
              0.7777777777777778,
              "#fb9f3a"
             ],
             [
              0.8888888888888888,
              "#fdca26"
             ],
             [
              1,
              "#f0f921"
             ]
            ],
            "type": "histogram2dcontour"
           }
          ],
          "mesh3d": [
           {
            "colorbar": {
             "outlinewidth": 0,
             "ticks": ""
            },
            "type": "mesh3d"
           }
          ],
          "parcoords": [
           {
            "line": {
             "colorbar": {
              "outlinewidth": 0,
              "ticks": ""
             }
            },
            "type": "parcoords"
           }
          ],
          "pie": [
           {
            "automargin": true,
            "type": "pie"
           }
          ],
          "scatter": [
           {
            "fillpattern": {
             "fillmode": "overlay",
             "size": 10,
             "solidity": 0.2
            },
            "type": "scatter"
           }
          ],
          "scatter3d": [
           {
            "line": {
             "colorbar": {
              "outlinewidth": 0,
              "ticks": ""
             }
            },
            "marker": {
             "colorbar": {
              "outlinewidth": 0,
              "ticks": ""
             }
            },
            "type": "scatter3d"
           }
          ],
          "scattercarpet": [
           {
            "marker": {
             "colorbar": {
              "outlinewidth": 0,
              "ticks": ""
             }
            },
            "type": "scattercarpet"
           }
          ],
          "scattergeo": [
           {
            "marker": {
             "colorbar": {
              "outlinewidth": 0,
              "ticks": ""
             }
            },
            "type": "scattergeo"
           }
          ],
          "scattergl": [
           {
            "marker": {
             "colorbar": {
              "outlinewidth": 0,
              "ticks": ""
             }
            },
            "type": "scattergl"
           }
          ],
          "scattermapbox": [
           {
            "marker": {
             "colorbar": {
              "outlinewidth": 0,
              "ticks": ""
             }
            },
            "type": "scattermapbox"
           }
          ],
          "scatterpolar": [
           {
            "marker": {
             "colorbar": {
              "outlinewidth": 0,
              "ticks": ""
             }
            },
            "type": "scatterpolar"
           }
          ],
          "scatterpolargl": [
           {
            "marker": {
             "colorbar": {
              "outlinewidth": 0,
              "ticks": ""
             }
            },
            "type": "scatterpolargl"
           }
          ],
          "scatterternary": [
           {
            "marker": {
             "colorbar": {
              "outlinewidth": 0,
              "ticks": ""
             }
            },
            "type": "scatterternary"
           }
          ],
          "surface": [
           {
            "colorbar": {
             "outlinewidth": 0,
             "ticks": ""
            },
            "colorscale": [
             [
              0,
              "#0d0887"
             ],
             [
              0.1111111111111111,
              "#46039f"
             ],
             [
              0.2222222222222222,
              "#7201a8"
             ],
             [
              0.3333333333333333,
              "#9c179e"
             ],
             [
              0.4444444444444444,
              "#bd3786"
             ],
             [
              0.5555555555555556,
              "#d8576b"
             ],
             [
              0.6666666666666666,
              "#ed7953"
             ],
             [
              0.7777777777777778,
              "#fb9f3a"
             ],
             [
              0.8888888888888888,
              "#fdca26"
             ],
             [
              1,
              "#f0f921"
             ]
            ],
            "type": "surface"
           }
          ],
          "table": [
           {
            "cells": {
             "fill": {
              "color": "#EBF0F8"
             },
             "line": {
              "color": "white"
             }
            },
            "header": {
             "fill": {
              "color": "#C8D4E3"
             },
             "line": {
              "color": "white"
             }
            },
            "type": "table"
           }
          ]
         },
         "layout": {
          "annotationdefaults": {
           "arrowcolor": "#2a3f5f",
           "arrowhead": 0,
           "arrowwidth": 1
          },
          "autotypenumbers": "strict",
          "coloraxis": {
           "colorbar": {
            "outlinewidth": 0,
            "ticks": ""
           }
          },
          "colorscale": {
           "diverging": [
            [
             0,
             "#8e0152"
            ],
            [
             0.1,
             "#c51b7d"
            ],
            [
             0.2,
             "#de77ae"
            ],
            [
             0.3,
             "#f1b6da"
            ],
            [
             0.4,
             "#fde0ef"
            ],
            [
             0.5,
             "#f7f7f7"
            ],
            [
             0.6,
             "#e6f5d0"
            ],
            [
             0.7,
             "#b8e186"
            ],
            [
             0.8,
             "#7fbc41"
            ],
            [
             0.9,
             "#4d9221"
            ],
            [
             1,
             "#276419"
            ]
           ],
           "sequential": [
            [
             0,
             "#0d0887"
            ],
            [
             0.1111111111111111,
             "#46039f"
            ],
            [
             0.2222222222222222,
             "#7201a8"
            ],
            [
             0.3333333333333333,
             "#9c179e"
            ],
            [
             0.4444444444444444,
             "#bd3786"
            ],
            [
             0.5555555555555556,
             "#d8576b"
            ],
            [
             0.6666666666666666,
             "#ed7953"
            ],
            [
             0.7777777777777778,
             "#fb9f3a"
            ],
            [
             0.8888888888888888,
             "#fdca26"
            ],
            [
             1,
             "#f0f921"
            ]
           ],
           "sequentialminus": [
            [
             0,
             "#0d0887"
            ],
            [
             0.1111111111111111,
             "#46039f"
            ],
            [
             0.2222222222222222,
             "#7201a8"
            ],
            [
             0.3333333333333333,
             "#9c179e"
            ],
            [
             0.4444444444444444,
             "#bd3786"
            ],
            [
             0.5555555555555556,
             "#d8576b"
            ],
            [
             0.6666666666666666,
             "#ed7953"
            ],
            [
             0.7777777777777778,
             "#fb9f3a"
            ],
            [
             0.8888888888888888,
             "#fdca26"
            ],
            [
             1,
             "#f0f921"
            ]
           ]
          },
          "colorway": [
           "#636efa",
           "#EF553B",
           "#00cc96",
           "#ab63fa",
           "#FFA15A",
           "#19d3f3",
           "#FF6692",
           "#B6E880",
           "#FF97FF",
           "#FECB52"
          ],
          "font": {
           "color": "#2a3f5f"
          },
          "geo": {
           "bgcolor": "white",
           "lakecolor": "white",
           "landcolor": "#E5ECF6",
           "showlakes": true,
           "showland": true,
           "subunitcolor": "white"
          },
          "hoverlabel": {
           "align": "left"
          },
          "hovermode": "closest",
          "mapbox": {
           "style": "light"
          },
          "paper_bgcolor": "white",
          "plot_bgcolor": "#E5ECF6",
          "polar": {
           "angularaxis": {
            "gridcolor": "white",
            "linecolor": "white",
            "ticks": ""
           },
           "bgcolor": "#E5ECF6",
           "radialaxis": {
            "gridcolor": "white",
            "linecolor": "white",
            "ticks": ""
           }
          },
          "scene": {
           "xaxis": {
            "backgroundcolor": "#E5ECF6",
            "gridcolor": "white",
            "gridwidth": 2,
            "linecolor": "white",
            "showbackground": true,
            "ticks": "",
            "zerolinecolor": "white"
           },
           "yaxis": {
            "backgroundcolor": "#E5ECF6",
            "gridcolor": "white",
            "gridwidth": 2,
            "linecolor": "white",
            "showbackground": true,
            "ticks": "",
            "zerolinecolor": "white"
           },
           "zaxis": {
            "backgroundcolor": "#E5ECF6",
            "gridcolor": "white",
            "gridwidth": 2,
            "linecolor": "white",
            "showbackground": true,
            "ticks": "",
            "zerolinecolor": "white"
           }
          },
          "shapedefaults": {
           "line": {
            "color": "#2a3f5f"
           }
          },
          "ternary": {
           "aaxis": {
            "gridcolor": "white",
            "linecolor": "white",
            "ticks": ""
           },
           "baxis": {
            "gridcolor": "white",
            "linecolor": "white",
            "ticks": ""
           },
           "bgcolor": "#E5ECF6",
           "caxis": {
            "gridcolor": "white",
            "linecolor": "white",
            "ticks": ""
           }
          },
          "title": {
           "x": 0.05
          },
          "xaxis": {
           "automargin": true,
           "gridcolor": "white",
           "linecolor": "white",
           "ticks": "",
           "title": {
            "standoff": 15
           },
           "zerolinecolor": "white",
           "zerolinewidth": 2
          },
          "yaxis": {
           "automargin": true,
           "gridcolor": "white",
           "linecolor": "white",
           "ticks": "",
           "title": {
            "standoff": 15
           },
           "zerolinecolor": "white",
           "zerolinewidth": 2
          }
         }
        },
        "title": {
         "text": "True and predicted wheel speed of the first 2 sessions on testing data"
        },
        "xaxis": {
         "title": {
          "text": "Time bin"
         }
        },
        "yaxis": {
         "title": {
          "text": "Wheel speed"
         }
        }
       }
      }
     },
     "metadata": {},
     "output_type": "display_data"
    }
   ],
   "source": [
    "plot_x = np.arange(40)\n",
    "plot_ys_true = [Y_test[40*trial : 40*(trial + 1)] for trial in range(2)]\n",
    "plot_ys_pred = [Y_test_hat[40*trial : 40*(trial + 1)] for trial in range(2)] \n",
    "\n",
    "data = []\n",
    "for i, plot_y_true in enumerate(plot_ys_true):\n",
    "    data.append(go.Scatter(x=plot_x, y=plot_y_true, mode='markers+lines', name=f'Session true {i+1}'))\n",
    "\n",
    "for i, plot_y_pred in enumerate(plot_ys_pred):\n",
    "    data.append(go.Scatter(x=plot_x, y=plot_y_pred, mode='markers+lines', name=f'Session pred {i+1}'))\n",
    "\n",
    "fig = go.Figure(data=data)\n",
    "fig.update_layout(\n",
    "    xaxis_title=\"Time bin\",\n",
    "    yaxis_title=\"Wheel speed\",\n",
    "    title=\"True and predicted wheel speed of the first 2 sessions on testing data\"\n",
    ")\n",
    "fig.show()"
   ]
  },
  {
   "cell_type": "code",
   "execution_count": 163,
   "metadata": {},
   "outputs": [
    {
     "data": {
      "application/vnd.plotly.v1+json": {
       "config": {
        "plotlyServerURL": "https://plot.ly"
       },
       "data": [
        {
         "mode": "markers+lines",
         "name": "Session true 1",
         "type": "scatter",
         "x": [
          0,
          1,
          2,
          3,
          4,
          5,
          6,
          7,
          8,
          9,
          10,
          11,
          12,
          13,
          14,
          15,
          16,
          17,
          18,
          19,
          20,
          21,
          22,
          23,
          24,
          25,
          26,
          27,
          28,
          29,
          30,
          31,
          32,
          33,
          34,
          35,
          36,
          37,
          38,
          39
         ],
         "y": [
          0,
          0,
          0.06967881031605996,
          0.038826537565425326,
          0.05698554673277932,
          0.02939650466711162,
          0.044131955779288135,
          0.07533575846209427,
          0.08122489665775097,
          0.25110959251006976,
          1.806720999534271,
          2.9538986960439195,
          3.6073000867864526,
          3.7235420935765693,
          3.54418607997394,
          3.352265905151208,
          3.1106678942527077,
          2.878813326819373,
          2.7273568147465186,
          2.5822296438329126,
          2.429731821959027,
          2.281412004617893,
          2.129794134403394,
          2.112817059730297,
          1.973834059533234,
          1.8257050155584915,
          1.8177986135885253,
          1.8011638855622025,
          1.577449269782192,
          0.9841839895286567,
          0.301610464420639,
          0.04244485157942092,
          0.4458381860989559,
          0.5364690967740904,
          0.043467923515503035,
          0.7902654779430407,
          2.071063017527138,
          3.00765405732315,
          3.064582214800691,
          3.1107128303279654
         ]
        },
        {
         "mode": "markers+lines",
         "name": "Session true 2",
         "type": "scatter",
         "x": [
          0,
          1,
          2,
          3,
          4,
          5,
          6,
          7,
          8,
          9,
          10,
          11,
          12,
          13,
          14,
          15,
          16,
          17,
          18,
          19,
          20,
          21,
          22,
          23,
          24,
          25,
          26,
          27,
          28,
          29,
          30,
          31,
          32,
          33,
          34,
          35,
          36,
          37,
          38,
          39
         ],
         "y": [
          0.5473543044178508,
          0.6811388944727528,
          0.6225965658060985,
          0.2980980760758868,
          0.12771030779682935,
          0.09393575500494732,
          0.04360540538961914,
          0.033692332372481246,
          0.03451363288431769,
          0.030221614773714524,
          0,
          0.15603723130963448,
          0.17710580815934598,
          0.06486557480892101,
          0.067246109810371,
          0.2738054927549351,
          0.6992535982809762,
          1.3627673110144845,
          1.9248052806958338,
          1.7610041353587322,
          1.6584701486561644,
          1.507106583756153,
          1.3955411865645004,
          1.2955502886040906,
          1.181890864314158,
          1.0260109160712394,
          0.8988253003085287,
          0.8028998295872884,
          0.633693256474424,
          0.17719563848256184,
          0.9754356193686023,
          2.070105207978819,
          2.4320148417663683,
          2.229560936051424,
          2.092940151462402,
          1.9754694524323073,
          2.1733787719475894,
          2.6213399028388045,
          2.2813435855427437,
          1.2874792793009007
         ]
        },
        {
         "mode": "markers+lines",
         "name": "Session pred 1",
         "type": "scatter",
         "x": [
          0,
          1,
          2,
          3,
          4,
          5,
          6,
          7,
          8,
          9,
          10,
          11,
          12,
          13,
          14,
          15,
          16,
          17,
          18,
          19,
          20,
          21,
          22,
          23,
          24,
          25,
          26,
          27,
          28,
          29,
          30,
          31,
          32,
          33,
          34,
          35,
          36,
          37,
          38,
          39
         ],
         "y": [
          0.054065069796227605,
          0.006624507779307287,
          0.07026211824501544,
          0.1993749799491615,
          0.05164724677506366,
          0.04506310643827166,
          0.08939400328671471,
          0.04998086799923224,
          0.13024295473321018,
          0.25054531490354726,
          1.8362484777153365,
          2.9776477236085093,
          3.59159291330103,
          3.7953090604733575,
          3.7033909526837223,
          3.2806807710069696,
          3.187056378715872,
          2.8533946320784813,
          2.8390131192619217,
          2.513591558491569,
          2.5196321836490374,
          2.4436694029743395,
          2.236696229685676,
          1.9125845245327895,
          2.058808322095505,
          1.8806995729673428,
          1.6314138804785083,
          2.03280328907237,
          1.7071576937190036,
          0.880463629846989,
          0.31284449353517524,
          0.0020220370271002985,
          0.4251468796185943,
          0.5280694653647922,
          0.03268935703500814,
          0.8278539563486274,
          2.1855936061584136,
          3.0479082575083787,
          3.2880945819825858,
          3.0254317094155794
         ]
        },
        {
         "mode": "markers+lines",
         "name": "Session pred 2",
         "type": "scatter",
         "x": [
          0,
          1,
          2,
          3,
          4,
          5,
          6,
          7,
          8,
          9,
          10,
          11,
          12,
          13,
          14,
          15,
          16,
          17,
          18,
          19,
          20,
          21,
          22,
          23,
          24,
          25,
          26,
          27,
          28,
          29,
          30,
          31,
          32,
          33,
          34,
          35,
          36,
          37,
          38,
          39
         ],
         "y": [
          0.5332454285427031,
          0.6905408784055571,
          0.6740842984456461,
          0.4173838422194124,
          0.14987299458472061,
          0.14017587768454345,
          -0.01833073360351578,
          0.4912516992404367,
          0.6459689104157926,
          0.3348206004494855,
          -0.006633410877073476,
          0.12539185401077935,
          0.10062659749286551,
          0.06799551725716974,
          1.0873844839822695,
          0.4026471862299722,
          0.657510244649851,
          1.3743885338334898,
          1.8213644921060188,
          1.6671725471346261,
          1.6260458310940056,
          1.5376370967996142,
          0.9158379821055311,
          1.2686313563804203,
          1.147077733553306,
          1.02940095907106,
          0.9464720924122729,
          0.8420178853727422,
          0.6304256970454293,
          0.05557617294764633,
          0.9897527347104726,
          2.229778487705179,
          2.3071143319428185,
          2.1882330305678326,
          1.9822342539980522,
          2.0070646540688144,
          2.0646456099523562,
          2.7078814926779384,
          2.234124798205117,
          1.2081370223092032
         ]
        }
       ],
       "layout": {
        "template": {
         "data": {
          "bar": [
           {
            "error_x": {
             "color": "#2a3f5f"
            },
            "error_y": {
             "color": "#2a3f5f"
            },
            "marker": {
             "line": {
              "color": "#E5ECF6",
              "width": 0.5
             },
             "pattern": {
              "fillmode": "overlay",
              "size": 10,
              "solidity": 0.2
             }
            },
            "type": "bar"
           }
          ],
          "barpolar": [
           {
            "marker": {
             "line": {
              "color": "#E5ECF6",
              "width": 0.5
             },
             "pattern": {
              "fillmode": "overlay",
              "size": 10,
              "solidity": 0.2
             }
            },
            "type": "barpolar"
           }
          ],
          "carpet": [
           {
            "aaxis": {
             "endlinecolor": "#2a3f5f",
             "gridcolor": "white",
             "linecolor": "white",
             "minorgridcolor": "white",
             "startlinecolor": "#2a3f5f"
            },
            "baxis": {
             "endlinecolor": "#2a3f5f",
             "gridcolor": "white",
             "linecolor": "white",
             "minorgridcolor": "white",
             "startlinecolor": "#2a3f5f"
            },
            "type": "carpet"
           }
          ],
          "choropleth": [
           {
            "colorbar": {
             "outlinewidth": 0,
             "ticks": ""
            },
            "type": "choropleth"
           }
          ],
          "contour": [
           {
            "colorbar": {
             "outlinewidth": 0,
             "ticks": ""
            },
            "colorscale": [
             [
              0,
              "#0d0887"
             ],
             [
              0.1111111111111111,
              "#46039f"
             ],
             [
              0.2222222222222222,
              "#7201a8"
             ],
             [
              0.3333333333333333,
              "#9c179e"
             ],
             [
              0.4444444444444444,
              "#bd3786"
             ],
             [
              0.5555555555555556,
              "#d8576b"
             ],
             [
              0.6666666666666666,
              "#ed7953"
             ],
             [
              0.7777777777777778,
              "#fb9f3a"
             ],
             [
              0.8888888888888888,
              "#fdca26"
             ],
             [
              1,
              "#f0f921"
             ]
            ],
            "type": "contour"
           }
          ],
          "contourcarpet": [
           {
            "colorbar": {
             "outlinewidth": 0,
             "ticks": ""
            },
            "type": "contourcarpet"
           }
          ],
          "heatmap": [
           {
            "colorbar": {
             "outlinewidth": 0,
             "ticks": ""
            },
            "colorscale": [
             [
              0,
              "#0d0887"
             ],
             [
              0.1111111111111111,
              "#46039f"
             ],
             [
              0.2222222222222222,
              "#7201a8"
             ],
             [
              0.3333333333333333,
              "#9c179e"
             ],
             [
              0.4444444444444444,
              "#bd3786"
             ],
             [
              0.5555555555555556,
              "#d8576b"
             ],
             [
              0.6666666666666666,
              "#ed7953"
             ],
             [
              0.7777777777777778,
              "#fb9f3a"
             ],
             [
              0.8888888888888888,
              "#fdca26"
             ],
             [
              1,
              "#f0f921"
             ]
            ],
            "type": "heatmap"
           }
          ],
          "heatmapgl": [
           {
            "colorbar": {
             "outlinewidth": 0,
             "ticks": ""
            },
            "colorscale": [
             [
              0,
              "#0d0887"
             ],
             [
              0.1111111111111111,
              "#46039f"
             ],
             [
              0.2222222222222222,
              "#7201a8"
             ],
             [
              0.3333333333333333,
              "#9c179e"
             ],
             [
              0.4444444444444444,
              "#bd3786"
             ],
             [
              0.5555555555555556,
              "#d8576b"
             ],
             [
              0.6666666666666666,
              "#ed7953"
             ],
             [
              0.7777777777777778,
              "#fb9f3a"
             ],
             [
              0.8888888888888888,
              "#fdca26"
             ],
             [
              1,
              "#f0f921"
             ]
            ],
            "type": "heatmapgl"
           }
          ],
          "histogram": [
           {
            "marker": {
             "pattern": {
              "fillmode": "overlay",
              "size": 10,
              "solidity": 0.2
             }
            },
            "type": "histogram"
           }
          ],
          "histogram2d": [
           {
            "colorbar": {
             "outlinewidth": 0,
             "ticks": ""
            },
            "colorscale": [
             [
              0,
              "#0d0887"
             ],
             [
              0.1111111111111111,
              "#46039f"
             ],
             [
              0.2222222222222222,
              "#7201a8"
             ],
             [
              0.3333333333333333,
              "#9c179e"
             ],
             [
              0.4444444444444444,
              "#bd3786"
             ],
             [
              0.5555555555555556,
              "#d8576b"
             ],
             [
              0.6666666666666666,
              "#ed7953"
             ],
             [
              0.7777777777777778,
              "#fb9f3a"
             ],
             [
              0.8888888888888888,
              "#fdca26"
             ],
             [
              1,
              "#f0f921"
             ]
            ],
            "type": "histogram2d"
           }
          ],
          "histogram2dcontour": [
           {
            "colorbar": {
             "outlinewidth": 0,
             "ticks": ""
            },
            "colorscale": [
             [
              0,
              "#0d0887"
             ],
             [
              0.1111111111111111,
              "#46039f"
             ],
             [
              0.2222222222222222,
              "#7201a8"
             ],
             [
              0.3333333333333333,
              "#9c179e"
             ],
             [
              0.4444444444444444,
              "#bd3786"
             ],
             [
              0.5555555555555556,
              "#d8576b"
             ],
             [
              0.6666666666666666,
              "#ed7953"
             ],
             [
              0.7777777777777778,
              "#fb9f3a"
             ],
             [
              0.8888888888888888,
              "#fdca26"
             ],
             [
              1,
              "#f0f921"
             ]
            ],
            "type": "histogram2dcontour"
           }
          ],
          "mesh3d": [
           {
            "colorbar": {
             "outlinewidth": 0,
             "ticks": ""
            },
            "type": "mesh3d"
           }
          ],
          "parcoords": [
           {
            "line": {
             "colorbar": {
              "outlinewidth": 0,
              "ticks": ""
             }
            },
            "type": "parcoords"
           }
          ],
          "pie": [
           {
            "automargin": true,
            "type": "pie"
           }
          ],
          "scatter": [
           {
            "fillpattern": {
             "fillmode": "overlay",
             "size": 10,
             "solidity": 0.2
            },
            "type": "scatter"
           }
          ],
          "scatter3d": [
           {
            "line": {
             "colorbar": {
              "outlinewidth": 0,
              "ticks": ""
             }
            },
            "marker": {
             "colorbar": {
              "outlinewidth": 0,
              "ticks": ""
             }
            },
            "type": "scatter3d"
           }
          ],
          "scattercarpet": [
           {
            "marker": {
             "colorbar": {
              "outlinewidth": 0,
              "ticks": ""
             }
            },
            "type": "scattercarpet"
           }
          ],
          "scattergeo": [
           {
            "marker": {
             "colorbar": {
              "outlinewidth": 0,
              "ticks": ""
             }
            },
            "type": "scattergeo"
           }
          ],
          "scattergl": [
           {
            "marker": {
             "colorbar": {
              "outlinewidth": 0,
              "ticks": ""
             }
            },
            "type": "scattergl"
           }
          ],
          "scattermapbox": [
           {
            "marker": {
             "colorbar": {
              "outlinewidth": 0,
              "ticks": ""
             }
            },
            "type": "scattermapbox"
           }
          ],
          "scatterpolar": [
           {
            "marker": {
             "colorbar": {
              "outlinewidth": 0,
              "ticks": ""
             }
            },
            "type": "scatterpolar"
           }
          ],
          "scatterpolargl": [
           {
            "marker": {
             "colorbar": {
              "outlinewidth": 0,
              "ticks": ""
             }
            },
            "type": "scatterpolargl"
           }
          ],
          "scatterternary": [
           {
            "marker": {
             "colorbar": {
              "outlinewidth": 0,
              "ticks": ""
             }
            },
            "type": "scatterternary"
           }
          ],
          "surface": [
           {
            "colorbar": {
             "outlinewidth": 0,
             "ticks": ""
            },
            "colorscale": [
             [
              0,
              "#0d0887"
             ],
             [
              0.1111111111111111,
              "#46039f"
             ],
             [
              0.2222222222222222,
              "#7201a8"
             ],
             [
              0.3333333333333333,
              "#9c179e"
             ],
             [
              0.4444444444444444,
              "#bd3786"
             ],
             [
              0.5555555555555556,
              "#d8576b"
             ],
             [
              0.6666666666666666,
              "#ed7953"
             ],
             [
              0.7777777777777778,
              "#fb9f3a"
             ],
             [
              0.8888888888888888,
              "#fdca26"
             ],
             [
              1,
              "#f0f921"
             ]
            ],
            "type": "surface"
           }
          ],
          "table": [
           {
            "cells": {
             "fill": {
              "color": "#EBF0F8"
             },
             "line": {
              "color": "white"
             }
            },
            "header": {
             "fill": {
              "color": "#C8D4E3"
             },
             "line": {
              "color": "white"
             }
            },
            "type": "table"
           }
          ]
         },
         "layout": {
          "annotationdefaults": {
           "arrowcolor": "#2a3f5f",
           "arrowhead": 0,
           "arrowwidth": 1
          },
          "autotypenumbers": "strict",
          "coloraxis": {
           "colorbar": {
            "outlinewidth": 0,
            "ticks": ""
           }
          },
          "colorscale": {
           "diverging": [
            [
             0,
             "#8e0152"
            ],
            [
             0.1,
             "#c51b7d"
            ],
            [
             0.2,
             "#de77ae"
            ],
            [
             0.3,
             "#f1b6da"
            ],
            [
             0.4,
             "#fde0ef"
            ],
            [
             0.5,
             "#f7f7f7"
            ],
            [
             0.6,
             "#e6f5d0"
            ],
            [
             0.7,
             "#b8e186"
            ],
            [
             0.8,
             "#7fbc41"
            ],
            [
             0.9,
             "#4d9221"
            ],
            [
             1,
             "#276419"
            ]
           ],
           "sequential": [
            [
             0,
             "#0d0887"
            ],
            [
             0.1111111111111111,
             "#46039f"
            ],
            [
             0.2222222222222222,
             "#7201a8"
            ],
            [
             0.3333333333333333,
             "#9c179e"
            ],
            [
             0.4444444444444444,
             "#bd3786"
            ],
            [
             0.5555555555555556,
             "#d8576b"
            ],
            [
             0.6666666666666666,
             "#ed7953"
            ],
            [
             0.7777777777777778,
             "#fb9f3a"
            ],
            [
             0.8888888888888888,
             "#fdca26"
            ],
            [
             1,
             "#f0f921"
            ]
           ],
           "sequentialminus": [
            [
             0,
             "#0d0887"
            ],
            [
             0.1111111111111111,
             "#46039f"
            ],
            [
             0.2222222222222222,
             "#7201a8"
            ],
            [
             0.3333333333333333,
             "#9c179e"
            ],
            [
             0.4444444444444444,
             "#bd3786"
            ],
            [
             0.5555555555555556,
             "#d8576b"
            ],
            [
             0.6666666666666666,
             "#ed7953"
            ],
            [
             0.7777777777777778,
             "#fb9f3a"
            ],
            [
             0.8888888888888888,
             "#fdca26"
            ],
            [
             1,
             "#f0f921"
            ]
           ]
          },
          "colorway": [
           "#636efa",
           "#EF553B",
           "#00cc96",
           "#ab63fa",
           "#FFA15A",
           "#19d3f3",
           "#FF6692",
           "#B6E880",
           "#FF97FF",
           "#FECB52"
          ],
          "font": {
           "color": "#2a3f5f"
          },
          "geo": {
           "bgcolor": "white",
           "lakecolor": "white",
           "landcolor": "#E5ECF6",
           "showlakes": true,
           "showland": true,
           "subunitcolor": "white"
          },
          "hoverlabel": {
           "align": "left"
          },
          "hovermode": "closest",
          "mapbox": {
           "style": "light"
          },
          "paper_bgcolor": "white",
          "plot_bgcolor": "#E5ECF6",
          "polar": {
           "angularaxis": {
            "gridcolor": "white",
            "linecolor": "white",
            "ticks": ""
           },
           "bgcolor": "#E5ECF6",
           "radialaxis": {
            "gridcolor": "white",
            "linecolor": "white",
            "ticks": ""
           }
          },
          "scene": {
           "xaxis": {
            "backgroundcolor": "#E5ECF6",
            "gridcolor": "white",
            "gridwidth": 2,
            "linecolor": "white",
            "showbackground": true,
            "ticks": "",
            "zerolinecolor": "white"
           },
           "yaxis": {
            "backgroundcolor": "#E5ECF6",
            "gridcolor": "white",
            "gridwidth": 2,
            "linecolor": "white",
            "showbackground": true,
            "ticks": "",
            "zerolinecolor": "white"
           },
           "zaxis": {
            "backgroundcolor": "#E5ECF6",
            "gridcolor": "white",
            "gridwidth": 2,
            "linecolor": "white",
            "showbackground": true,
            "ticks": "",
            "zerolinecolor": "white"
           }
          },
          "shapedefaults": {
           "line": {
            "color": "#2a3f5f"
           }
          },
          "ternary": {
           "aaxis": {
            "gridcolor": "white",
            "linecolor": "white",
            "ticks": ""
           },
           "baxis": {
            "gridcolor": "white",
            "linecolor": "white",
            "ticks": ""
           },
           "bgcolor": "#E5ECF6",
           "caxis": {
            "gridcolor": "white",
            "linecolor": "white",
            "ticks": ""
           }
          },
          "title": {
           "x": 0.05
          },
          "xaxis": {
           "automargin": true,
           "gridcolor": "white",
           "linecolor": "white",
           "ticks": "",
           "title": {
            "standoff": 15
           },
           "zerolinecolor": "white",
           "zerolinewidth": 2
          },
          "yaxis": {
           "automargin": true,
           "gridcolor": "white",
           "linecolor": "white",
           "ticks": "",
           "title": {
            "standoff": 15
           },
           "zerolinecolor": "white",
           "zerolinewidth": 2
          }
         }
        },
        "title": {
         "text": "Wheel speed of the first 2 sessions on training data"
        },
        "xaxis": {
         "title": {
          "text": "Time bin"
         }
        },
        "yaxis": {
         "title": {
          "text": "Wheel speed"
         }
        }
       }
      }
     },
     "metadata": {},
     "output_type": "display_data"
    }
   ],
   "source": [
    "Y_train_hat = clf.predict(X_train)\n",
    "\n",
    "plot_x = np.arange(40)\n",
    "plot_ys_true = [Y_train[40*trial : 40*(trial + 1)] for trial in range(2)]\n",
    "plot_ys_pred = [Y_train_hat[40*trial : 40*(trial + 1)] for trial in range(2)] \n",
    "\n",
    "data = []\n",
    "for i, plot_y_true in enumerate(plot_ys_true):\n",
    "    data.append(go.Scatter(x=plot_x, y=plot_y_true, mode='markers+lines', name=f'Session true {i+1}'))\n",
    "\n",
    "for i, plot_y_pred in enumerate(plot_ys_pred):\n",
    "    data.append(go.Scatter(x=plot_x, y=plot_y_pred, mode='markers+lines', name=f'Session pred {i+1}'))\n",
    "\n",
    "fig = go.Figure(data=data)\n",
    "fig.update_layout(\n",
    "    xaxis_title=\"Time bin\",\n",
    "    yaxis_title=\"Wheel speed\",\n",
    "    title=\"Wheel speed of the first 2 sessions on training data\"\n",
    ")\n",
    "fig.show()"
   ]
  }
 ],
 "metadata": {
  "kernelspec": {
   "display_name": "Python 3 (ipykernel)",
   "language": "python",
   "name": "python3"
  },
  "language_info": {
   "codemirror_mode": {
    "name": "ipython",
    "version": 3
   },
   "file_extension": ".py",
   "mimetype": "text/x-python",
   "name": "python",
   "nbconvert_exporter": "python",
   "pygments_lexer": "ipython3",
   "version": "3.10.9"
  }
 },
 "nbformat": 4,
 "nbformat_minor": 2
}
