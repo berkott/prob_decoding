{
 "cells": [
  {
   "cell_type": "markdown",
   "metadata": {},
   "source": [
    "# Neural Network Model"
   ]
  },
  {
   "cell_type": "code",
   "execution_count": 15,
   "metadata": {},
   "outputs": [],
   "source": [
    "import numpy as np\n",
    "import torch\n",
    "import plotly.graph_objects as go\n",
    "\n",
    "from models.reduced_rank_model import ReducedRankModel\n",
    "from models.neural_network import NeuralNetworkModel\n",
    "from models.zero_predictor import ZeroPredictor\n",
    "from models.mean_predictor import MeanPredictor\n",
    "from models.yizi_decoders import time_bin_wise_metrics, continuous_decoder, sliding_window_over_time, sliding_window_decoder\n",
    "\n",
    "from utils.get_data import get_data, get_test_train_data, smooth_y\n",
    "from utils.evaluation import evaluate_recording\n",
    "from utils.training import train_one_epoch\n",
    "\n",
    "\n",
    "DATA_PATH = 'raw_data/full_data/'\n",
    "\n",
    "# RECORDING_IDS = [89, 90]\n",
    "RECORDING_IDS = np.arange(10)\n",
    "TOTAL_RECORDINGS = len(RECORDING_IDS) # In total there are 112 recordings\n",
    "PLOT_RECORDINGS = 3\n",
    "TIME_BINS = 40\n",
    "TRAIN_SPLIT = 0.8\n",
    "TRAINING_ITERATIONS = 20\n",
    "RANK = 10\n",
    "MEAN_SUBTRACTED = False\n",
    "SMOOTHED = True\n",
    "MODEL = \"neural_network\"\n",
    "RANDOM_SEED = 42"
   ]
  },
  {
   "cell_type": "code",
   "execution_count": 16,
   "metadata": {},
   "outputs": [],
   "source": [
    "# This code loads yizi's data\n",
    "# neural_data = np.load(f\"raw_data/yizi_data/neural_data.npy\", allow_pickle=True).item()\n",
    "# behavior_data = np.load(f\"raw_data/yizi_data/behavior_data.npy\", allow_pickle=True).item()\n",
    "\n",
    "# # Probably recording: dab512bd-a02d-4c1f-8dbc-9155a163efc0\n",
    "# X_list = [neural_data[\"po\"]]\n",
    "# Y_list = [behavior_data[\"wheel_speed\"]]\n",
    "\n",
    "# print(X_list[0].shape)"
   ]
  },
  {
   "cell_type": "code",
   "execution_count": 17,
   "metadata": {},
   "outputs": [],
   "source": [
    "X_list, Y_list = get_data(DATA_PATH, RECORDING_IDS)\n",
    "\n",
    "X_train, X_test, Y_train_regular, Y_test_regular, Y_train_mean_subtracted, Y_test_mean_subtracted = get_test_train_data(X_list, Y_list, TRAIN_SPLIT, random_seed=RANDOM_SEED)\n",
    "\n",
    "Y_train_smoothed = smooth_y(Y_train_regular)\n",
    "Y_test_smoothed = smooth_y(Y_test_regular)\n",
    "\n",
    "Y_train_mean_subtracted_smoothed = smooth_y(Y_train_mean_subtracted)\n",
    "Y_test_mean_subtracted_smoothed = smooth_y(Y_test_mean_subtracted)\n",
    "\n",
    "if MEAN_SUBTRACTED:\n",
    "    if SMOOTHED:\n",
    "        Y_train = Y_train_mean_subtracted_smoothed\n",
    "        Y_test = Y_test_mean_subtracted_smoothed\n",
    "    else:\n",
    "        Y_train = Y_train_mean_subtracted\n",
    "        Y_test = Y_test_mean_subtracted\n",
    "else:\n",
    "    if SMOOTHED:\n",
    "        Y_train = Y_train_smoothed\n",
    "        Y_test = Y_test_smoothed\n",
    "    else:\n",
    "        Y_train = Y_train_regular\n",
    "        Y_test = Y_test_regular"
   ]
  },
  {
   "cell_type": "code",
   "execution_count": 18,
   "metadata": {},
   "outputs": [
    {
     "data": {
      "application/vnd.plotly.v1+json": {
       "config": {
        "plotlyServerURL": "https://plot.ly"
       },
       "data": [
        {
         "name": "Original",
         "type": "scatter",
         "y": [
          0,
          0,
          0,
          0.019419396797122387,
          0.0225900192616695,
          0,
          0.05823417683820574,
          0.05600225932630675,
          0.017005732891849805,
          0.29591548533458084,
          1.6024991152864656,
          3.417645305827289,
          3.460330726662956,
          2.7721693933650777,
          1.293636588067552,
          0.14805041285458204,
          0.4655782282542313,
          0.33437733242861567,
          0.10944203298759853,
          0.10654298355087022,
          0.12214094236131422,
          0.407367550605214,
          0.6051739269105898,
          0.6522739619427286,
          0.7958012188059127,
          0.48577477187212564,
          0.22030350819743466,
          0.2277294904605969,
          0.44294592738802097,
          1.8387032582482175,
          3.1301688209182332,
          3.09805852698539,
          3.431111527292164,
          3.5758001426338435,
          3.15634156489805,
          2.8250352763314686,
          2.5502230496742033,
          2.472941695892838,
          2.135789975022137,
          1.8725231778800224
         ]
        },
        {
         "name": "Smoothed",
         "type": "scatter",
         "y": [
          0.006124608076352718,
          0.00824341730958344,
          0.012812037410027977,
          0.020417585866329902,
          0.03172754683915934,
          0.047229570839544904,
          0.0669225421946174,
          0.09002839400561934,
          0.11485821328802373,
          0.13891568302162133,
          0.15928729357109606,
          0.1732513953287265,
          0.1789373627321344,
          0.17582342968483528,
          0.1648837313458763,
          0.14834192973724084,
          0.12912769256779894,
          0.11020881662628675,
          0.09402942949652497,
          0.08220735729842513,
          0.07552888725318709,
          0.07418289688351389,
          0.0780950773493623,
          0.08721624322964662,
          0.1016431907647133,
          0.12152604829236438,
          0.14680443289990866,
          0.17688757500039318,
          0.21043216197048517,
          0.24533158862681415,
          0.27895890213986585,
          0.3086284058444136,
          0.3321314273928522,
          0.34819171782617403,
          0.3567047178170993,
          0.35870862596990605,
          0.3561170508313613,
          0.35128384614777564,
          0.346517224178163,
          0.3436359805050716
         ]
        },
        {
         "name": "Mean Subtracted",
         "type": "scatter",
         "y": [
          -0.04797977478195509,
          -0.033534576048595964,
          -0.02651390042144658,
          -0.0033369372942201776,
          0.004187782865064448,
          -0.015788622644537276,
          0.040097425580548074,
          0.03651063476361743,
          -0.010342566515053959,
          0.16625455948627132,
          0.8976882743293244,
          1.7768028384241872,
          1.3745380930759032,
          0.6851854579579397,
          -0.6234081986760494,
          -1.4108417234511814,
          -0.82425558905871,
          -0.7459214933021114,
          -0.7747873006690358,
          -0.5935938045210775,
          -0.46320429971705557,
          -0.08194131137029254,
          0.1792691286546123,
          0.25433344056547763,
          0.41909507746166386,
          0.11568762259361698,
          -0.15101143717910698,
          -0.1312950623827098,
          0.06865761031169015,
          1.4611463925143569,
          2.7504999081448145,
          2.697095361759878,
          3.0150641169556804,
          3.1446499111389854,
          2.7188815903464776,
          2.402664423407872,
          2.1418741161060533,
          2.069666756860393,
          1.7355070299489284,
          1.4825104769591366
         ]
        },
        {
         "name": "Mean Subtracted Smoothed",
         "type": "scatter",
         "y": [
          -0.00023475685799738462,
          0.0009222880146240315,
          0.00332245420650802,
          0.007095676428001931,
          0.012314260604775506,
          0.018855881471803327,
          0.026266561912507595,
          0.03366807968295489,
          0.03979157529023112,
          0.04316328869151642,
          0.042440996075745835,
          0.036814966980454604,
          0.02634153324194904,
          0.012080522522784033,
          -0.004054465066856475,
          -0.019693268686473725,
          -0.03252396800840686,
          -0.04077767760792398,
          -0.043517251164561156,
          -0.04065641694643883,
          -0.03273680776199343,
          -0.020555137645704217,
          -0.004784004283511935,
          0.014285996568103244,
          0.03678840404711972,
          0.06308874130821573,
          0.09342282667476894,
          0.12749688837417325,
          0.16421160253839795,
          0.20162839754945958,
          0.23721968054612647,
          0.26835346927484177,
          0.2928577234947013,
          0.30950159393132953,
          0.3182471775416643,
          0.3202214348457849,
          0.31744012030526997,
          0.31235869237822944,
          0.30737305568874707,
          0.3043656985923317
         ]
        }
       ],
       "layout": {
        "template": {
         "data": {
          "bar": [
           {
            "error_x": {
             "color": "#2a3f5f"
            },
            "error_y": {
             "color": "#2a3f5f"
            },
            "marker": {
             "line": {
              "color": "#E5ECF6",
              "width": 0.5
             },
             "pattern": {
              "fillmode": "overlay",
              "size": 10,
              "solidity": 0.2
             }
            },
            "type": "bar"
           }
          ],
          "barpolar": [
           {
            "marker": {
             "line": {
              "color": "#E5ECF6",
              "width": 0.5
             },
             "pattern": {
              "fillmode": "overlay",
              "size": 10,
              "solidity": 0.2
             }
            },
            "type": "barpolar"
           }
          ],
          "carpet": [
           {
            "aaxis": {
             "endlinecolor": "#2a3f5f",
             "gridcolor": "white",
             "linecolor": "white",
             "minorgridcolor": "white",
             "startlinecolor": "#2a3f5f"
            },
            "baxis": {
             "endlinecolor": "#2a3f5f",
             "gridcolor": "white",
             "linecolor": "white",
             "minorgridcolor": "white",
             "startlinecolor": "#2a3f5f"
            },
            "type": "carpet"
           }
          ],
          "choropleth": [
           {
            "colorbar": {
             "outlinewidth": 0,
             "ticks": ""
            },
            "type": "choropleth"
           }
          ],
          "contour": [
           {
            "colorbar": {
             "outlinewidth": 0,
             "ticks": ""
            },
            "colorscale": [
             [
              0,
              "#0d0887"
             ],
             [
              0.1111111111111111,
              "#46039f"
             ],
             [
              0.2222222222222222,
              "#7201a8"
             ],
             [
              0.3333333333333333,
              "#9c179e"
             ],
             [
              0.4444444444444444,
              "#bd3786"
             ],
             [
              0.5555555555555556,
              "#d8576b"
             ],
             [
              0.6666666666666666,
              "#ed7953"
             ],
             [
              0.7777777777777778,
              "#fb9f3a"
             ],
             [
              0.8888888888888888,
              "#fdca26"
             ],
             [
              1,
              "#f0f921"
             ]
            ],
            "type": "contour"
           }
          ],
          "contourcarpet": [
           {
            "colorbar": {
             "outlinewidth": 0,
             "ticks": ""
            },
            "type": "contourcarpet"
           }
          ],
          "heatmap": [
           {
            "colorbar": {
             "outlinewidth": 0,
             "ticks": ""
            },
            "colorscale": [
             [
              0,
              "#0d0887"
             ],
             [
              0.1111111111111111,
              "#46039f"
             ],
             [
              0.2222222222222222,
              "#7201a8"
             ],
             [
              0.3333333333333333,
              "#9c179e"
             ],
             [
              0.4444444444444444,
              "#bd3786"
             ],
             [
              0.5555555555555556,
              "#d8576b"
             ],
             [
              0.6666666666666666,
              "#ed7953"
             ],
             [
              0.7777777777777778,
              "#fb9f3a"
             ],
             [
              0.8888888888888888,
              "#fdca26"
             ],
             [
              1,
              "#f0f921"
             ]
            ],
            "type": "heatmap"
           }
          ],
          "heatmapgl": [
           {
            "colorbar": {
             "outlinewidth": 0,
             "ticks": ""
            },
            "colorscale": [
             [
              0,
              "#0d0887"
             ],
             [
              0.1111111111111111,
              "#46039f"
             ],
             [
              0.2222222222222222,
              "#7201a8"
             ],
             [
              0.3333333333333333,
              "#9c179e"
             ],
             [
              0.4444444444444444,
              "#bd3786"
             ],
             [
              0.5555555555555556,
              "#d8576b"
             ],
             [
              0.6666666666666666,
              "#ed7953"
             ],
             [
              0.7777777777777778,
              "#fb9f3a"
             ],
             [
              0.8888888888888888,
              "#fdca26"
             ],
             [
              1,
              "#f0f921"
             ]
            ],
            "type": "heatmapgl"
           }
          ],
          "histogram": [
           {
            "marker": {
             "pattern": {
              "fillmode": "overlay",
              "size": 10,
              "solidity": 0.2
             }
            },
            "type": "histogram"
           }
          ],
          "histogram2d": [
           {
            "colorbar": {
             "outlinewidth": 0,
             "ticks": ""
            },
            "colorscale": [
             [
              0,
              "#0d0887"
             ],
             [
              0.1111111111111111,
              "#46039f"
             ],
             [
              0.2222222222222222,
              "#7201a8"
             ],
             [
              0.3333333333333333,
              "#9c179e"
             ],
             [
              0.4444444444444444,
              "#bd3786"
             ],
             [
              0.5555555555555556,
              "#d8576b"
             ],
             [
              0.6666666666666666,
              "#ed7953"
             ],
             [
              0.7777777777777778,
              "#fb9f3a"
             ],
             [
              0.8888888888888888,
              "#fdca26"
             ],
             [
              1,
              "#f0f921"
             ]
            ],
            "type": "histogram2d"
           }
          ],
          "histogram2dcontour": [
           {
            "colorbar": {
             "outlinewidth": 0,
             "ticks": ""
            },
            "colorscale": [
             [
              0,
              "#0d0887"
             ],
             [
              0.1111111111111111,
              "#46039f"
             ],
             [
              0.2222222222222222,
              "#7201a8"
             ],
             [
              0.3333333333333333,
              "#9c179e"
             ],
             [
              0.4444444444444444,
              "#bd3786"
             ],
             [
              0.5555555555555556,
              "#d8576b"
             ],
             [
              0.6666666666666666,
              "#ed7953"
             ],
             [
              0.7777777777777778,
              "#fb9f3a"
             ],
             [
              0.8888888888888888,
              "#fdca26"
             ],
             [
              1,
              "#f0f921"
             ]
            ],
            "type": "histogram2dcontour"
           }
          ],
          "mesh3d": [
           {
            "colorbar": {
             "outlinewidth": 0,
             "ticks": ""
            },
            "type": "mesh3d"
           }
          ],
          "parcoords": [
           {
            "line": {
             "colorbar": {
              "outlinewidth": 0,
              "ticks": ""
             }
            },
            "type": "parcoords"
           }
          ],
          "pie": [
           {
            "automargin": true,
            "type": "pie"
           }
          ],
          "scatter": [
           {
            "fillpattern": {
             "fillmode": "overlay",
             "size": 10,
             "solidity": 0.2
            },
            "type": "scatter"
           }
          ],
          "scatter3d": [
           {
            "line": {
             "colorbar": {
              "outlinewidth": 0,
              "ticks": ""
             }
            },
            "marker": {
             "colorbar": {
              "outlinewidth": 0,
              "ticks": ""
             }
            },
            "type": "scatter3d"
           }
          ],
          "scattercarpet": [
           {
            "marker": {
             "colorbar": {
              "outlinewidth": 0,
              "ticks": ""
             }
            },
            "type": "scattercarpet"
           }
          ],
          "scattergeo": [
           {
            "marker": {
             "colorbar": {
              "outlinewidth": 0,
              "ticks": ""
             }
            },
            "type": "scattergeo"
           }
          ],
          "scattergl": [
           {
            "marker": {
             "colorbar": {
              "outlinewidth": 0,
              "ticks": ""
             }
            },
            "type": "scattergl"
           }
          ],
          "scattermapbox": [
           {
            "marker": {
             "colorbar": {
              "outlinewidth": 0,
              "ticks": ""
             }
            },
            "type": "scattermapbox"
           }
          ],
          "scatterpolar": [
           {
            "marker": {
             "colorbar": {
              "outlinewidth": 0,
              "ticks": ""
             }
            },
            "type": "scatterpolar"
           }
          ],
          "scatterpolargl": [
           {
            "marker": {
             "colorbar": {
              "outlinewidth": 0,
              "ticks": ""
             }
            },
            "type": "scatterpolargl"
           }
          ],
          "scatterternary": [
           {
            "marker": {
             "colorbar": {
              "outlinewidth": 0,
              "ticks": ""
             }
            },
            "type": "scatterternary"
           }
          ],
          "surface": [
           {
            "colorbar": {
             "outlinewidth": 0,
             "ticks": ""
            },
            "colorscale": [
             [
              0,
              "#0d0887"
             ],
             [
              0.1111111111111111,
              "#46039f"
             ],
             [
              0.2222222222222222,
              "#7201a8"
             ],
             [
              0.3333333333333333,
              "#9c179e"
             ],
             [
              0.4444444444444444,
              "#bd3786"
             ],
             [
              0.5555555555555556,
              "#d8576b"
             ],
             [
              0.6666666666666666,
              "#ed7953"
             ],
             [
              0.7777777777777778,
              "#fb9f3a"
             ],
             [
              0.8888888888888888,
              "#fdca26"
             ],
             [
              1,
              "#f0f921"
             ]
            ],
            "type": "surface"
           }
          ],
          "table": [
           {
            "cells": {
             "fill": {
              "color": "#EBF0F8"
             },
             "line": {
              "color": "white"
             }
            },
            "header": {
             "fill": {
              "color": "#C8D4E3"
             },
             "line": {
              "color": "white"
             }
            },
            "type": "table"
           }
          ]
         },
         "layout": {
          "annotationdefaults": {
           "arrowcolor": "#2a3f5f",
           "arrowhead": 0,
           "arrowwidth": 1
          },
          "autotypenumbers": "strict",
          "coloraxis": {
           "colorbar": {
            "outlinewidth": 0,
            "ticks": ""
           }
          },
          "colorscale": {
           "diverging": [
            [
             0,
             "#8e0152"
            ],
            [
             0.1,
             "#c51b7d"
            ],
            [
             0.2,
             "#de77ae"
            ],
            [
             0.3,
             "#f1b6da"
            ],
            [
             0.4,
             "#fde0ef"
            ],
            [
             0.5,
             "#f7f7f7"
            ],
            [
             0.6,
             "#e6f5d0"
            ],
            [
             0.7,
             "#b8e186"
            ],
            [
             0.8,
             "#7fbc41"
            ],
            [
             0.9,
             "#4d9221"
            ],
            [
             1,
             "#276419"
            ]
           ],
           "sequential": [
            [
             0,
             "#0d0887"
            ],
            [
             0.1111111111111111,
             "#46039f"
            ],
            [
             0.2222222222222222,
             "#7201a8"
            ],
            [
             0.3333333333333333,
             "#9c179e"
            ],
            [
             0.4444444444444444,
             "#bd3786"
            ],
            [
             0.5555555555555556,
             "#d8576b"
            ],
            [
             0.6666666666666666,
             "#ed7953"
            ],
            [
             0.7777777777777778,
             "#fb9f3a"
            ],
            [
             0.8888888888888888,
             "#fdca26"
            ],
            [
             1,
             "#f0f921"
            ]
           ],
           "sequentialminus": [
            [
             0,
             "#0d0887"
            ],
            [
             0.1111111111111111,
             "#46039f"
            ],
            [
             0.2222222222222222,
             "#7201a8"
            ],
            [
             0.3333333333333333,
             "#9c179e"
            ],
            [
             0.4444444444444444,
             "#bd3786"
            ],
            [
             0.5555555555555556,
             "#d8576b"
            ],
            [
             0.6666666666666666,
             "#ed7953"
            ],
            [
             0.7777777777777778,
             "#fb9f3a"
            ],
            [
             0.8888888888888888,
             "#fdca26"
            ],
            [
             1,
             "#f0f921"
            ]
           ]
          },
          "colorway": [
           "#636efa",
           "#EF553B",
           "#00cc96",
           "#ab63fa",
           "#FFA15A",
           "#19d3f3",
           "#FF6692",
           "#B6E880",
           "#FF97FF",
           "#FECB52"
          ],
          "font": {
           "color": "#2a3f5f"
          },
          "geo": {
           "bgcolor": "white",
           "lakecolor": "white",
           "landcolor": "#E5ECF6",
           "showlakes": true,
           "showland": true,
           "subunitcolor": "white"
          },
          "hoverlabel": {
           "align": "left"
          },
          "hovermode": "closest",
          "mapbox": {
           "style": "light"
          },
          "paper_bgcolor": "white",
          "plot_bgcolor": "#E5ECF6",
          "polar": {
           "angularaxis": {
            "gridcolor": "white",
            "linecolor": "white",
            "ticks": ""
           },
           "bgcolor": "#E5ECF6",
           "radialaxis": {
            "gridcolor": "white",
            "linecolor": "white",
            "ticks": ""
           }
          },
          "scene": {
           "xaxis": {
            "backgroundcolor": "#E5ECF6",
            "gridcolor": "white",
            "gridwidth": 2,
            "linecolor": "white",
            "showbackground": true,
            "ticks": "",
            "zerolinecolor": "white"
           },
           "yaxis": {
            "backgroundcolor": "#E5ECF6",
            "gridcolor": "white",
            "gridwidth": 2,
            "linecolor": "white",
            "showbackground": true,
            "ticks": "",
            "zerolinecolor": "white"
           },
           "zaxis": {
            "backgroundcolor": "#E5ECF6",
            "gridcolor": "white",
            "gridwidth": 2,
            "linecolor": "white",
            "showbackground": true,
            "ticks": "",
            "zerolinecolor": "white"
           }
          },
          "shapedefaults": {
           "line": {
            "color": "#2a3f5f"
           }
          },
          "ternary": {
           "aaxis": {
            "gridcolor": "white",
            "linecolor": "white",
            "ticks": ""
           },
           "baxis": {
            "gridcolor": "white",
            "linecolor": "white",
            "ticks": ""
           },
           "bgcolor": "#E5ECF6",
           "caxis": {
            "gridcolor": "white",
            "linecolor": "white",
            "ticks": ""
           }
          },
          "title": {
           "x": 0.05
          },
          "xaxis": {
           "automargin": true,
           "gridcolor": "white",
           "linecolor": "white",
           "ticks": "",
           "title": {
            "standoff": 15
           },
           "zerolinecolor": "white",
           "zerolinewidth": 2
          },
          "yaxis": {
           "automargin": true,
           "gridcolor": "white",
           "linecolor": "white",
           "ticks": "",
           "title": {
            "standoff": 15
           },
           "zerolinecolor": "white",
           "zerolinewidth": 2
          }
         }
        },
        "title": {
         "text": "Original, Smoothed, and Mean Subtracted Wheel Speeds, Recording 0, Trial 0"
        },
        "xaxis": {
         "title": {
          "text": "Time"
         }
        },
        "yaxis": {
         "title": {
          "text": "Value"
         }
        }
       }
      }
     },
     "metadata": {},
     "output_type": "display_data"
    },
    {
     "data": {
      "application/vnd.plotly.v1+json": {
       "config": {
        "plotlyServerURL": "https://plot.ly"
       },
       "data": [
        {
         "name": "Original",
         "type": "scatter",
         "y": [
          0,
          0,
          0,
          0.00434850098698779,
          0,
          0,
          0,
          0,
          0,
          0.04865962025569137,
          0.7608587148521323,
          2.6883289173311837,
          3.12304086443612,
          2.5595805352691032,
          1.9516323495383707,
          0.9867616457714049,
          0.48738011730538283,
          0.4421261611514327,
          0.5817757436724421,
          0.3697256394141913,
          0.06290097233590648,
          0,
          0.11403132501254465,
          0.2727321380881262,
          0.244171168155646,
          0.20351513906605934,
          0.14752508761971905,
          0.08153791597689095,
          0.07247044546945144,
          0.014492877602155688,
          0.04598963061477636,
          0,
          0,
          0,
          0,
          0,
          0,
          0,
          0,
          0
         ]
        },
        {
         "name": "Smoothed",
         "type": "scatter",
         "y": [
          0.0031696952863766235,
          0.004627030684886095,
          0.007853010176821273,
          0.013416875201649055,
          0.022025303749509815,
          0.03432986007435578,
          0.050662704336265234,
          0.0707546556924039,
          0.09354135317734846,
          0.11713497934463378,
          0.13903695317989884,
          0.15658246819926966,
          0.16750824614591062,
          0.17047140613645803,
          0.16535179379522982,
          0.15323870456895858,
          0.13612143404750107,
          0.11639793116407142,
          0.09636491177810108,
          0.07782899743287255,
          0.061911966723030724,
          0.04904828843123297,
          0.03912078895965034,
          0.03166228129279909,
          0.02605917155965373,
          0.021714744133298342,
          0.01815231879837111,
          0.015056258222133021,
          0.012264735990101727,
          0.009736012641130143,
          0.00748914184960618,
          0.005560072649203655,
          0.003974198461129313,
          0.002729702150959881,
          0.0017989674713291169,
          0.0011369058270333263,
          0.0006907243473232536,
          0.00040835947709944135,
          0.0002457338666661441,
          0.00017212411374953432
         ]
        },
        {
         "name": "Mean Subtracted",
         "type": "scatter",
         "y": [
          -0.04797977478195509,
          -0.033534576048595964,
          -0.02651390042144658,
          -0.018407833104354773,
          -0.018402236396605053,
          -0.015788622644537276,
          -0.018136751257657662,
          -0.019491624562689314,
          -0.027348299406903764,
          -0.08100130559261814,
          0.05604787389499111,
          1.0474864499280818,
          1.0372482308490674,
          0.4725965998619652,
          0.03458756279476938,
          -0.5721304905343586,
          -0.8024537000075584,
          -0.6381726645792944,
          -0.30245358998419214,
          -0.3304111486577564,
          -0.5224442697424633,
          -0.48930886197550655,
          -0.31187347324343284,
          -0.12520838328912476,
          -0.13253497318860286,
          -0.16657201021244933,
          -0.22378985775682259,
          -0.2774866368664157,
          -0.30181787160687934,
          -0.3630639881317049,
          -0.33367928215864223,
          -0.4009631652255121,
          -0.4160474103364836,
          -0.43115023149485826,
          -0.4374599745515725,
          -0.4223708529235964,
          -0.40834893356814994,
          -0.40327493903244505,
          -0.4002829450732088,
          -0.3900127009208859
         ]
        },
        {
         "name": "Mean Subtracted Smoothed",
         "type": "scatter",
         "y": [
          -0.003362647466531254,
          -0.0029057984854549885,
          -0.0019268698218794416,
          -0.0003148492617580266,
          0.0020440573200034753,
          0.005201033757815551,
          0.00905488842219296,
          0.013266074836736152,
          0.017226846216060784,
          0.02010756308444708,
          0.0210052197834268,
          0.019170256517447935,
          0.014243366908526657,
          0.006415196544159581,
          -0.0035590026814667215,
          -0.014509841256671683,
          -0.02512081947316663,
          -0.034226258119826755,
          -0.0410450519444284,
          -0.04529108188501194,
          -0.04715085002676455,
          -0.04716110246258855,
          -0.046039810898859446,
          -0.044520042107075115,
          -0.043220232630330965,
          -0.042565422822694536,
          -0.042760461316442046,
          -0.043807881646293206,
          -0.04555635837877917,
          -0.04775872211024124,
          -0.05014166446321768,
          -0.05245619941016198,
          -0.05450952131198524,
          -0.0561834435768078,
          -0.05743442199216887,
          -0.05828219785237033,
          -0.058792529404879244,
          -0.05905671563143908,
          -0.059168842340372126,
          -0.05920420926472332
         ]
        }
       ],
       "layout": {
        "template": {
         "data": {
          "bar": [
           {
            "error_x": {
             "color": "#2a3f5f"
            },
            "error_y": {
             "color": "#2a3f5f"
            },
            "marker": {
             "line": {
              "color": "#E5ECF6",
              "width": 0.5
             },
             "pattern": {
              "fillmode": "overlay",
              "size": 10,
              "solidity": 0.2
             }
            },
            "type": "bar"
           }
          ],
          "barpolar": [
           {
            "marker": {
             "line": {
              "color": "#E5ECF6",
              "width": 0.5
             },
             "pattern": {
              "fillmode": "overlay",
              "size": 10,
              "solidity": 0.2
             }
            },
            "type": "barpolar"
           }
          ],
          "carpet": [
           {
            "aaxis": {
             "endlinecolor": "#2a3f5f",
             "gridcolor": "white",
             "linecolor": "white",
             "minorgridcolor": "white",
             "startlinecolor": "#2a3f5f"
            },
            "baxis": {
             "endlinecolor": "#2a3f5f",
             "gridcolor": "white",
             "linecolor": "white",
             "minorgridcolor": "white",
             "startlinecolor": "#2a3f5f"
            },
            "type": "carpet"
           }
          ],
          "choropleth": [
           {
            "colorbar": {
             "outlinewidth": 0,
             "ticks": ""
            },
            "type": "choropleth"
           }
          ],
          "contour": [
           {
            "colorbar": {
             "outlinewidth": 0,
             "ticks": ""
            },
            "colorscale": [
             [
              0,
              "#0d0887"
             ],
             [
              0.1111111111111111,
              "#46039f"
             ],
             [
              0.2222222222222222,
              "#7201a8"
             ],
             [
              0.3333333333333333,
              "#9c179e"
             ],
             [
              0.4444444444444444,
              "#bd3786"
             ],
             [
              0.5555555555555556,
              "#d8576b"
             ],
             [
              0.6666666666666666,
              "#ed7953"
             ],
             [
              0.7777777777777778,
              "#fb9f3a"
             ],
             [
              0.8888888888888888,
              "#fdca26"
             ],
             [
              1,
              "#f0f921"
             ]
            ],
            "type": "contour"
           }
          ],
          "contourcarpet": [
           {
            "colorbar": {
             "outlinewidth": 0,
             "ticks": ""
            },
            "type": "contourcarpet"
           }
          ],
          "heatmap": [
           {
            "colorbar": {
             "outlinewidth": 0,
             "ticks": ""
            },
            "colorscale": [
             [
              0,
              "#0d0887"
             ],
             [
              0.1111111111111111,
              "#46039f"
             ],
             [
              0.2222222222222222,
              "#7201a8"
             ],
             [
              0.3333333333333333,
              "#9c179e"
             ],
             [
              0.4444444444444444,
              "#bd3786"
             ],
             [
              0.5555555555555556,
              "#d8576b"
             ],
             [
              0.6666666666666666,
              "#ed7953"
             ],
             [
              0.7777777777777778,
              "#fb9f3a"
             ],
             [
              0.8888888888888888,
              "#fdca26"
             ],
             [
              1,
              "#f0f921"
             ]
            ],
            "type": "heatmap"
           }
          ],
          "heatmapgl": [
           {
            "colorbar": {
             "outlinewidth": 0,
             "ticks": ""
            },
            "colorscale": [
             [
              0,
              "#0d0887"
             ],
             [
              0.1111111111111111,
              "#46039f"
             ],
             [
              0.2222222222222222,
              "#7201a8"
             ],
             [
              0.3333333333333333,
              "#9c179e"
             ],
             [
              0.4444444444444444,
              "#bd3786"
             ],
             [
              0.5555555555555556,
              "#d8576b"
             ],
             [
              0.6666666666666666,
              "#ed7953"
             ],
             [
              0.7777777777777778,
              "#fb9f3a"
             ],
             [
              0.8888888888888888,
              "#fdca26"
             ],
             [
              1,
              "#f0f921"
             ]
            ],
            "type": "heatmapgl"
           }
          ],
          "histogram": [
           {
            "marker": {
             "pattern": {
              "fillmode": "overlay",
              "size": 10,
              "solidity": 0.2
             }
            },
            "type": "histogram"
           }
          ],
          "histogram2d": [
           {
            "colorbar": {
             "outlinewidth": 0,
             "ticks": ""
            },
            "colorscale": [
             [
              0,
              "#0d0887"
             ],
             [
              0.1111111111111111,
              "#46039f"
             ],
             [
              0.2222222222222222,
              "#7201a8"
             ],
             [
              0.3333333333333333,
              "#9c179e"
             ],
             [
              0.4444444444444444,
              "#bd3786"
             ],
             [
              0.5555555555555556,
              "#d8576b"
             ],
             [
              0.6666666666666666,
              "#ed7953"
             ],
             [
              0.7777777777777778,
              "#fb9f3a"
             ],
             [
              0.8888888888888888,
              "#fdca26"
             ],
             [
              1,
              "#f0f921"
             ]
            ],
            "type": "histogram2d"
           }
          ],
          "histogram2dcontour": [
           {
            "colorbar": {
             "outlinewidth": 0,
             "ticks": ""
            },
            "colorscale": [
             [
              0,
              "#0d0887"
             ],
             [
              0.1111111111111111,
              "#46039f"
             ],
             [
              0.2222222222222222,
              "#7201a8"
             ],
             [
              0.3333333333333333,
              "#9c179e"
             ],
             [
              0.4444444444444444,
              "#bd3786"
             ],
             [
              0.5555555555555556,
              "#d8576b"
             ],
             [
              0.6666666666666666,
              "#ed7953"
             ],
             [
              0.7777777777777778,
              "#fb9f3a"
             ],
             [
              0.8888888888888888,
              "#fdca26"
             ],
             [
              1,
              "#f0f921"
             ]
            ],
            "type": "histogram2dcontour"
           }
          ],
          "mesh3d": [
           {
            "colorbar": {
             "outlinewidth": 0,
             "ticks": ""
            },
            "type": "mesh3d"
           }
          ],
          "parcoords": [
           {
            "line": {
             "colorbar": {
              "outlinewidth": 0,
              "ticks": ""
             }
            },
            "type": "parcoords"
           }
          ],
          "pie": [
           {
            "automargin": true,
            "type": "pie"
           }
          ],
          "scatter": [
           {
            "fillpattern": {
             "fillmode": "overlay",
             "size": 10,
             "solidity": 0.2
            },
            "type": "scatter"
           }
          ],
          "scatter3d": [
           {
            "line": {
             "colorbar": {
              "outlinewidth": 0,
              "ticks": ""
             }
            },
            "marker": {
             "colorbar": {
              "outlinewidth": 0,
              "ticks": ""
             }
            },
            "type": "scatter3d"
           }
          ],
          "scattercarpet": [
           {
            "marker": {
             "colorbar": {
              "outlinewidth": 0,
              "ticks": ""
             }
            },
            "type": "scattercarpet"
           }
          ],
          "scattergeo": [
           {
            "marker": {
             "colorbar": {
              "outlinewidth": 0,
              "ticks": ""
             }
            },
            "type": "scattergeo"
           }
          ],
          "scattergl": [
           {
            "marker": {
             "colorbar": {
              "outlinewidth": 0,
              "ticks": ""
             }
            },
            "type": "scattergl"
           }
          ],
          "scattermapbox": [
           {
            "marker": {
             "colorbar": {
              "outlinewidth": 0,
              "ticks": ""
             }
            },
            "type": "scattermapbox"
           }
          ],
          "scatterpolar": [
           {
            "marker": {
             "colorbar": {
              "outlinewidth": 0,
              "ticks": ""
             }
            },
            "type": "scatterpolar"
           }
          ],
          "scatterpolargl": [
           {
            "marker": {
             "colorbar": {
              "outlinewidth": 0,
              "ticks": ""
             }
            },
            "type": "scatterpolargl"
           }
          ],
          "scatterternary": [
           {
            "marker": {
             "colorbar": {
              "outlinewidth": 0,
              "ticks": ""
             }
            },
            "type": "scatterternary"
           }
          ],
          "surface": [
           {
            "colorbar": {
             "outlinewidth": 0,
             "ticks": ""
            },
            "colorscale": [
             [
              0,
              "#0d0887"
             ],
             [
              0.1111111111111111,
              "#46039f"
             ],
             [
              0.2222222222222222,
              "#7201a8"
             ],
             [
              0.3333333333333333,
              "#9c179e"
             ],
             [
              0.4444444444444444,
              "#bd3786"
             ],
             [
              0.5555555555555556,
              "#d8576b"
             ],
             [
              0.6666666666666666,
              "#ed7953"
             ],
             [
              0.7777777777777778,
              "#fb9f3a"
             ],
             [
              0.8888888888888888,
              "#fdca26"
             ],
             [
              1,
              "#f0f921"
             ]
            ],
            "type": "surface"
           }
          ],
          "table": [
           {
            "cells": {
             "fill": {
              "color": "#EBF0F8"
             },
             "line": {
              "color": "white"
             }
            },
            "header": {
             "fill": {
              "color": "#C8D4E3"
             },
             "line": {
              "color": "white"
             }
            },
            "type": "table"
           }
          ]
         },
         "layout": {
          "annotationdefaults": {
           "arrowcolor": "#2a3f5f",
           "arrowhead": 0,
           "arrowwidth": 1
          },
          "autotypenumbers": "strict",
          "coloraxis": {
           "colorbar": {
            "outlinewidth": 0,
            "ticks": ""
           }
          },
          "colorscale": {
           "diverging": [
            [
             0,
             "#8e0152"
            ],
            [
             0.1,
             "#c51b7d"
            ],
            [
             0.2,
             "#de77ae"
            ],
            [
             0.3,
             "#f1b6da"
            ],
            [
             0.4,
             "#fde0ef"
            ],
            [
             0.5,
             "#f7f7f7"
            ],
            [
             0.6,
             "#e6f5d0"
            ],
            [
             0.7,
             "#b8e186"
            ],
            [
             0.8,
             "#7fbc41"
            ],
            [
             0.9,
             "#4d9221"
            ],
            [
             1,
             "#276419"
            ]
           ],
           "sequential": [
            [
             0,
             "#0d0887"
            ],
            [
             0.1111111111111111,
             "#46039f"
            ],
            [
             0.2222222222222222,
             "#7201a8"
            ],
            [
             0.3333333333333333,
             "#9c179e"
            ],
            [
             0.4444444444444444,
             "#bd3786"
            ],
            [
             0.5555555555555556,
             "#d8576b"
            ],
            [
             0.6666666666666666,
             "#ed7953"
            ],
            [
             0.7777777777777778,
             "#fb9f3a"
            ],
            [
             0.8888888888888888,
             "#fdca26"
            ],
            [
             1,
             "#f0f921"
            ]
           ],
           "sequentialminus": [
            [
             0,
             "#0d0887"
            ],
            [
             0.1111111111111111,
             "#46039f"
            ],
            [
             0.2222222222222222,
             "#7201a8"
            ],
            [
             0.3333333333333333,
             "#9c179e"
            ],
            [
             0.4444444444444444,
             "#bd3786"
            ],
            [
             0.5555555555555556,
             "#d8576b"
            ],
            [
             0.6666666666666666,
             "#ed7953"
            ],
            [
             0.7777777777777778,
             "#fb9f3a"
            ],
            [
             0.8888888888888888,
             "#fdca26"
            ],
            [
             1,
             "#f0f921"
            ]
           ]
          },
          "colorway": [
           "#636efa",
           "#EF553B",
           "#00cc96",
           "#ab63fa",
           "#FFA15A",
           "#19d3f3",
           "#FF6692",
           "#B6E880",
           "#FF97FF",
           "#FECB52"
          ],
          "font": {
           "color": "#2a3f5f"
          },
          "geo": {
           "bgcolor": "white",
           "lakecolor": "white",
           "landcolor": "#E5ECF6",
           "showlakes": true,
           "showland": true,
           "subunitcolor": "white"
          },
          "hoverlabel": {
           "align": "left"
          },
          "hovermode": "closest",
          "mapbox": {
           "style": "light"
          },
          "paper_bgcolor": "white",
          "plot_bgcolor": "#E5ECF6",
          "polar": {
           "angularaxis": {
            "gridcolor": "white",
            "linecolor": "white",
            "ticks": ""
           },
           "bgcolor": "#E5ECF6",
           "radialaxis": {
            "gridcolor": "white",
            "linecolor": "white",
            "ticks": ""
           }
          },
          "scene": {
           "xaxis": {
            "backgroundcolor": "#E5ECF6",
            "gridcolor": "white",
            "gridwidth": 2,
            "linecolor": "white",
            "showbackground": true,
            "ticks": "",
            "zerolinecolor": "white"
           },
           "yaxis": {
            "backgroundcolor": "#E5ECF6",
            "gridcolor": "white",
            "gridwidth": 2,
            "linecolor": "white",
            "showbackground": true,
            "ticks": "",
            "zerolinecolor": "white"
           },
           "zaxis": {
            "backgroundcolor": "#E5ECF6",
            "gridcolor": "white",
            "gridwidth": 2,
            "linecolor": "white",
            "showbackground": true,
            "ticks": "",
            "zerolinecolor": "white"
           }
          },
          "shapedefaults": {
           "line": {
            "color": "#2a3f5f"
           }
          },
          "ternary": {
           "aaxis": {
            "gridcolor": "white",
            "linecolor": "white",
            "ticks": ""
           },
           "baxis": {
            "gridcolor": "white",
            "linecolor": "white",
            "ticks": ""
           },
           "bgcolor": "#E5ECF6",
           "caxis": {
            "gridcolor": "white",
            "linecolor": "white",
            "ticks": ""
           }
          },
          "title": {
           "x": 0.05
          },
          "xaxis": {
           "automargin": true,
           "gridcolor": "white",
           "linecolor": "white",
           "ticks": "",
           "title": {
            "standoff": 15
           },
           "zerolinecolor": "white",
           "zerolinewidth": 2
          },
          "yaxis": {
           "automargin": true,
           "gridcolor": "white",
           "linecolor": "white",
           "ticks": "",
           "title": {
            "standoff": 15
           },
           "zerolinecolor": "white",
           "zerolinewidth": 2
          }
         }
        },
        "title": {
         "text": "Original, Smoothed, and Mean Subtracted Wheel Speeds, Recording 0, Trial 1"
        },
        "xaxis": {
         "title": {
          "text": "Time"
         }
        },
        "yaxis": {
         "title": {
          "text": "Value"
         }
        }
       }
      }
     },
     "metadata": {},
     "output_type": "display_data"
    },
    {
     "data": {
      "application/vnd.plotly.v1+json": {
       "config": {
        "plotlyServerURL": "https://plot.ly"
       },
       "data": [
        {
         "name": "Original",
         "type": "scatter",
         "y": [
          0.018361966867949643,
          0,
          0,
          0.011861046779849185,
          0,
          0,
          0.04143533635636405,
          0.0790382434479156,
          0.10985857014764891,
          0.18634411847978866,
          1.6396383616616115,
          1.5726563446023838,
          0.19001697411131258,
          0.648758016845929,
          0.5590726222640087,
          0.8873092828407395,
          0.6831327682041752,
          0.7950890599774515,
          0.46233580327410906,
          1.403317934394597,
          2.3465154896403444,
          2.579090540514809,
          2.111286547191268,
          1.7384177930694242,
          1.4183684590681445,
          1.0667709298480457,
          0.5993740255068324,
          0.27849590979628847,
          0.027752676361975898,
          0.040730257909913525,
          0.037438840973718204,
          0,
          0.01361136920098737,
          0,
          0,
          0.1781539382507594,
          0.11201819822631429,
          0.09043699547867949,
          0.3476606987948483,
          0.36460206025526437
         ]
        },
        {
         "name": "Smoothed",
         "type": "scatter",
         "y": [
          0.00443930786467082,
          0.005621333446656071,
          0.00810906492166919,
          0.0121066061440072,
          0.017812971702746434,
          0.02531107772053259,
          0.03448803086747259,
          0.04498387815202478,
          0.05622322652844033,
          0.0675500900877488,
          0.07840548382071877,
          0.08850988713169933,
          0.09796900628033108,
          0.10725029335855117,
          0.11701321379498912,
          0.12783610758299993,
          0.13992005239202052,
          0.1528672448226274,
          0.16561860980516815,
          0.17659043351280065,
          0.18398635485387982,
          0.18620967668719654,
          0.1822557627468996,
          0.17196971824407906,
          0.15610317816197275,
          0.13615825266823298,
          0.11407740915709576,
          0.09187611571584695,
          0.0713218305365369,
          0.05370413768829759,
          0.03974662973417135,
          0.02964885807845505,
          0.023181826754460743,
          0.019827636831785893,
          0.01890085526837562,
          0.019652685245424767,
          0.021339704924596695,
          0.023285777341211164,
          0.024927545382611237,
          0.025856606022608444
         ]
        },
        {
         "name": "Mean Subtracted",
         "type": "scatter",
         "y": [
          -0.029617807914005444,
          -0.033534576048595964,
          -0.02651390042144658,
          -0.01089528731149338,
          -0.018402236396605053,
          -0.015788622644537276,
          0.02329858509870639,
          0.05954661888522629,
          0.08251027074074514,
          0.05668319263147914,
          0.9348275207044703,
          -0.06818612280071812,
          -1.8957756594757402,
          -1.438225918561209,
          -1.3579721644795928,
          -0.671582853465024,
          -0.6067010491087661,
          -0.2852097657532756,
          -0.4218935303825252,
          0.7031811463226493,
          1.7611702475619746,
          2.0897816785393024,
          1.6853817489352907,
          1.3404772716921733,
          1.0416623177238957,
          0.696683780569537,
          0.22805908013029075,
          -0.08052864304701823,
          -0.34653564071435494,
          -0.336826607823947,
          -0.3422300717997004,
          -0.4009631652255121,
          -0.40243604113549625,
          -0.43115023149485826,
          -0.4374599745515725,
          -0.244216914672837,
          -0.2963307353418356,
          -0.31283794355376554,
          -0.052622246278360485,
          -0.025410640665621542
         ]
        },
        {
         "name": "Mean Subtracted Smoothed",
         "type": "scatter",
         "y": [
          -0.0020187129607162724,
          -0.0018532901741674815,
          -0.0016558258728338892,
          -0.001701820239024545,
          -0.0024148606872531927,
          -0.004345699641772454,
          -0.008066635235210054,
          -0.014013299808977009,
          -0.022275848506155257,
          -0.03237997900408179,
          -0.043175558828223104,
          -0.05288722949100934,
          -0.059366634726035976,
          -0.06050682077895589,
          -0.054727277740386236,
          -0.041399482404217584,
          -0.02109983357959547,
          0.004377934897049448,
          0.032262692500664374,
          0.05925175587576824,
          0.0820696580952672,
          0.09802958459750812,
          0.10547414977728649,
          0.10400086038322041,
          0.09443642794096159,
          0.07857750118115865,
          0.058779993709388044,
          0.03750893813214833,
          0.01695788299772719,
          -0.0012167443312657475,
          -0.015995853544093136,
          -0.02695727911351507,
          -0.03417749650410358,
          -0.038084611863431275,
          -0.039331405750862296,
          -0.038682522102569304,
          -0.03693477690451716,
          -0.03484007521910429,
          -0.03304218076706987,
          -0.03201618191572402
         ]
        }
       ],
       "layout": {
        "template": {
         "data": {
          "bar": [
           {
            "error_x": {
             "color": "#2a3f5f"
            },
            "error_y": {
             "color": "#2a3f5f"
            },
            "marker": {
             "line": {
              "color": "#E5ECF6",
              "width": 0.5
             },
             "pattern": {
              "fillmode": "overlay",
              "size": 10,
              "solidity": 0.2
             }
            },
            "type": "bar"
           }
          ],
          "barpolar": [
           {
            "marker": {
             "line": {
              "color": "#E5ECF6",
              "width": 0.5
             },
             "pattern": {
              "fillmode": "overlay",
              "size": 10,
              "solidity": 0.2
             }
            },
            "type": "barpolar"
           }
          ],
          "carpet": [
           {
            "aaxis": {
             "endlinecolor": "#2a3f5f",
             "gridcolor": "white",
             "linecolor": "white",
             "minorgridcolor": "white",
             "startlinecolor": "#2a3f5f"
            },
            "baxis": {
             "endlinecolor": "#2a3f5f",
             "gridcolor": "white",
             "linecolor": "white",
             "minorgridcolor": "white",
             "startlinecolor": "#2a3f5f"
            },
            "type": "carpet"
           }
          ],
          "choropleth": [
           {
            "colorbar": {
             "outlinewidth": 0,
             "ticks": ""
            },
            "type": "choropleth"
           }
          ],
          "contour": [
           {
            "colorbar": {
             "outlinewidth": 0,
             "ticks": ""
            },
            "colorscale": [
             [
              0,
              "#0d0887"
             ],
             [
              0.1111111111111111,
              "#46039f"
             ],
             [
              0.2222222222222222,
              "#7201a8"
             ],
             [
              0.3333333333333333,
              "#9c179e"
             ],
             [
              0.4444444444444444,
              "#bd3786"
             ],
             [
              0.5555555555555556,
              "#d8576b"
             ],
             [
              0.6666666666666666,
              "#ed7953"
             ],
             [
              0.7777777777777778,
              "#fb9f3a"
             ],
             [
              0.8888888888888888,
              "#fdca26"
             ],
             [
              1,
              "#f0f921"
             ]
            ],
            "type": "contour"
           }
          ],
          "contourcarpet": [
           {
            "colorbar": {
             "outlinewidth": 0,
             "ticks": ""
            },
            "type": "contourcarpet"
           }
          ],
          "heatmap": [
           {
            "colorbar": {
             "outlinewidth": 0,
             "ticks": ""
            },
            "colorscale": [
             [
              0,
              "#0d0887"
             ],
             [
              0.1111111111111111,
              "#46039f"
             ],
             [
              0.2222222222222222,
              "#7201a8"
             ],
             [
              0.3333333333333333,
              "#9c179e"
             ],
             [
              0.4444444444444444,
              "#bd3786"
             ],
             [
              0.5555555555555556,
              "#d8576b"
             ],
             [
              0.6666666666666666,
              "#ed7953"
             ],
             [
              0.7777777777777778,
              "#fb9f3a"
             ],
             [
              0.8888888888888888,
              "#fdca26"
             ],
             [
              1,
              "#f0f921"
             ]
            ],
            "type": "heatmap"
           }
          ],
          "heatmapgl": [
           {
            "colorbar": {
             "outlinewidth": 0,
             "ticks": ""
            },
            "colorscale": [
             [
              0,
              "#0d0887"
             ],
             [
              0.1111111111111111,
              "#46039f"
             ],
             [
              0.2222222222222222,
              "#7201a8"
             ],
             [
              0.3333333333333333,
              "#9c179e"
             ],
             [
              0.4444444444444444,
              "#bd3786"
             ],
             [
              0.5555555555555556,
              "#d8576b"
             ],
             [
              0.6666666666666666,
              "#ed7953"
             ],
             [
              0.7777777777777778,
              "#fb9f3a"
             ],
             [
              0.8888888888888888,
              "#fdca26"
             ],
             [
              1,
              "#f0f921"
             ]
            ],
            "type": "heatmapgl"
           }
          ],
          "histogram": [
           {
            "marker": {
             "pattern": {
              "fillmode": "overlay",
              "size": 10,
              "solidity": 0.2
             }
            },
            "type": "histogram"
           }
          ],
          "histogram2d": [
           {
            "colorbar": {
             "outlinewidth": 0,
             "ticks": ""
            },
            "colorscale": [
             [
              0,
              "#0d0887"
             ],
             [
              0.1111111111111111,
              "#46039f"
             ],
             [
              0.2222222222222222,
              "#7201a8"
             ],
             [
              0.3333333333333333,
              "#9c179e"
             ],
             [
              0.4444444444444444,
              "#bd3786"
             ],
             [
              0.5555555555555556,
              "#d8576b"
             ],
             [
              0.6666666666666666,
              "#ed7953"
             ],
             [
              0.7777777777777778,
              "#fb9f3a"
             ],
             [
              0.8888888888888888,
              "#fdca26"
             ],
             [
              1,
              "#f0f921"
             ]
            ],
            "type": "histogram2d"
           }
          ],
          "histogram2dcontour": [
           {
            "colorbar": {
             "outlinewidth": 0,
             "ticks": ""
            },
            "colorscale": [
             [
              0,
              "#0d0887"
             ],
             [
              0.1111111111111111,
              "#46039f"
             ],
             [
              0.2222222222222222,
              "#7201a8"
             ],
             [
              0.3333333333333333,
              "#9c179e"
             ],
             [
              0.4444444444444444,
              "#bd3786"
             ],
             [
              0.5555555555555556,
              "#d8576b"
             ],
             [
              0.6666666666666666,
              "#ed7953"
             ],
             [
              0.7777777777777778,
              "#fb9f3a"
             ],
             [
              0.8888888888888888,
              "#fdca26"
             ],
             [
              1,
              "#f0f921"
             ]
            ],
            "type": "histogram2dcontour"
           }
          ],
          "mesh3d": [
           {
            "colorbar": {
             "outlinewidth": 0,
             "ticks": ""
            },
            "type": "mesh3d"
           }
          ],
          "parcoords": [
           {
            "line": {
             "colorbar": {
              "outlinewidth": 0,
              "ticks": ""
             }
            },
            "type": "parcoords"
           }
          ],
          "pie": [
           {
            "automargin": true,
            "type": "pie"
           }
          ],
          "scatter": [
           {
            "fillpattern": {
             "fillmode": "overlay",
             "size": 10,
             "solidity": 0.2
            },
            "type": "scatter"
           }
          ],
          "scatter3d": [
           {
            "line": {
             "colorbar": {
              "outlinewidth": 0,
              "ticks": ""
             }
            },
            "marker": {
             "colorbar": {
              "outlinewidth": 0,
              "ticks": ""
             }
            },
            "type": "scatter3d"
           }
          ],
          "scattercarpet": [
           {
            "marker": {
             "colorbar": {
              "outlinewidth": 0,
              "ticks": ""
             }
            },
            "type": "scattercarpet"
           }
          ],
          "scattergeo": [
           {
            "marker": {
             "colorbar": {
              "outlinewidth": 0,
              "ticks": ""
             }
            },
            "type": "scattergeo"
           }
          ],
          "scattergl": [
           {
            "marker": {
             "colorbar": {
              "outlinewidth": 0,
              "ticks": ""
             }
            },
            "type": "scattergl"
           }
          ],
          "scattermapbox": [
           {
            "marker": {
             "colorbar": {
              "outlinewidth": 0,
              "ticks": ""
             }
            },
            "type": "scattermapbox"
           }
          ],
          "scatterpolar": [
           {
            "marker": {
             "colorbar": {
              "outlinewidth": 0,
              "ticks": ""
             }
            },
            "type": "scatterpolar"
           }
          ],
          "scatterpolargl": [
           {
            "marker": {
             "colorbar": {
              "outlinewidth": 0,
              "ticks": ""
             }
            },
            "type": "scatterpolargl"
           }
          ],
          "scatterternary": [
           {
            "marker": {
             "colorbar": {
              "outlinewidth": 0,
              "ticks": ""
             }
            },
            "type": "scatterternary"
           }
          ],
          "surface": [
           {
            "colorbar": {
             "outlinewidth": 0,
             "ticks": ""
            },
            "colorscale": [
             [
              0,
              "#0d0887"
             ],
             [
              0.1111111111111111,
              "#46039f"
             ],
             [
              0.2222222222222222,
              "#7201a8"
             ],
             [
              0.3333333333333333,
              "#9c179e"
             ],
             [
              0.4444444444444444,
              "#bd3786"
             ],
             [
              0.5555555555555556,
              "#d8576b"
             ],
             [
              0.6666666666666666,
              "#ed7953"
             ],
             [
              0.7777777777777778,
              "#fb9f3a"
             ],
             [
              0.8888888888888888,
              "#fdca26"
             ],
             [
              1,
              "#f0f921"
             ]
            ],
            "type": "surface"
           }
          ],
          "table": [
           {
            "cells": {
             "fill": {
              "color": "#EBF0F8"
             },
             "line": {
              "color": "white"
             }
            },
            "header": {
             "fill": {
              "color": "#C8D4E3"
             },
             "line": {
              "color": "white"
             }
            },
            "type": "table"
           }
          ]
         },
         "layout": {
          "annotationdefaults": {
           "arrowcolor": "#2a3f5f",
           "arrowhead": 0,
           "arrowwidth": 1
          },
          "autotypenumbers": "strict",
          "coloraxis": {
           "colorbar": {
            "outlinewidth": 0,
            "ticks": ""
           }
          },
          "colorscale": {
           "diverging": [
            [
             0,
             "#8e0152"
            ],
            [
             0.1,
             "#c51b7d"
            ],
            [
             0.2,
             "#de77ae"
            ],
            [
             0.3,
             "#f1b6da"
            ],
            [
             0.4,
             "#fde0ef"
            ],
            [
             0.5,
             "#f7f7f7"
            ],
            [
             0.6,
             "#e6f5d0"
            ],
            [
             0.7,
             "#b8e186"
            ],
            [
             0.8,
             "#7fbc41"
            ],
            [
             0.9,
             "#4d9221"
            ],
            [
             1,
             "#276419"
            ]
           ],
           "sequential": [
            [
             0,
             "#0d0887"
            ],
            [
             0.1111111111111111,
             "#46039f"
            ],
            [
             0.2222222222222222,
             "#7201a8"
            ],
            [
             0.3333333333333333,
             "#9c179e"
            ],
            [
             0.4444444444444444,
             "#bd3786"
            ],
            [
             0.5555555555555556,
             "#d8576b"
            ],
            [
             0.6666666666666666,
             "#ed7953"
            ],
            [
             0.7777777777777778,
             "#fb9f3a"
            ],
            [
             0.8888888888888888,
             "#fdca26"
            ],
            [
             1,
             "#f0f921"
            ]
           ],
           "sequentialminus": [
            [
             0,
             "#0d0887"
            ],
            [
             0.1111111111111111,
             "#46039f"
            ],
            [
             0.2222222222222222,
             "#7201a8"
            ],
            [
             0.3333333333333333,
             "#9c179e"
            ],
            [
             0.4444444444444444,
             "#bd3786"
            ],
            [
             0.5555555555555556,
             "#d8576b"
            ],
            [
             0.6666666666666666,
             "#ed7953"
            ],
            [
             0.7777777777777778,
             "#fb9f3a"
            ],
            [
             0.8888888888888888,
             "#fdca26"
            ],
            [
             1,
             "#f0f921"
            ]
           ]
          },
          "colorway": [
           "#636efa",
           "#EF553B",
           "#00cc96",
           "#ab63fa",
           "#FFA15A",
           "#19d3f3",
           "#FF6692",
           "#B6E880",
           "#FF97FF",
           "#FECB52"
          ],
          "font": {
           "color": "#2a3f5f"
          },
          "geo": {
           "bgcolor": "white",
           "lakecolor": "white",
           "landcolor": "#E5ECF6",
           "showlakes": true,
           "showland": true,
           "subunitcolor": "white"
          },
          "hoverlabel": {
           "align": "left"
          },
          "hovermode": "closest",
          "mapbox": {
           "style": "light"
          },
          "paper_bgcolor": "white",
          "plot_bgcolor": "#E5ECF6",
          "polar": {
           "angularaxis": {
            "gridcolor": "white",
            "linecolor": "white",
            "ticks": ""
           },
           "bgcolor": "#E5ECF6",
           "radialaxis": {
            "gridcolor": "white",
            "linecolor": "white",
            "ticks": ""
           }
          },
          "scene": {
           "xaxis": {
            "backgroundcolor": "#E5ECF6",
            "gridcolor": "white",
            "gridwidth": 2,
            "linecolor": "white",
            "showbackground": true,
            "ticks": "",
            "zerolinecolor": "white"
           },
           "yaxis": {
            "backgroundcolor": "#E5ECF6",
            "gridcolor": "white",
            "gridwidth": 2,
            "linecolor": "white",
            "showbackground": true,
            "ticks": "",
            "zerolinecolor": "white"
           },
           "zaxis": {
            "backgroundcolor": "#E5ECF6",
            "gridcolor": "white",
            "gridwidth": 2,
            "linecolor": "white",
            "showbackground": true,
            "ticks": "",
            "zerolinecolor": "white"
           }
          },
          "shapedefaults": {
           "line": {
            "color": "#2a3f5f"
           }
          },
          "ternary": {
           "aaxis": {
            "gridcolor": "white",
            "linecolor": "white",
            "ticks": ""
           },
           "baxis": {
            "gridcolor": "white",
            "linecolor": "white",
            "ticks": ""
           },
           "bgcolor": "#E5ECF6",
           "caxis": {
            "gridcolor": "white",
            "linecolor": "white",
            "ticks": ""
           }
          },
          "title": {
           "x": 0.05
          },
          "xaxis": {
           "automargin": true,
           "gridcolor": "white",
           "linecolor": "white",
           "ticks": "",
           "title": {
            "standoff": 15
           },
           "zerolinecolor": "white",
           "zerolinewidth": 2
          },
          "yaxis": {
           "automargin": true,
           "gridcolor": "white",
           "linecolor": "white",
           "ticks": "",
           "title": {
            "standoff": 15
           },
           "zerolinecolor": "white",
           "zerolinewidth": 2
          }
         }
        },
        "title": {
         "text": "Original, Smoothed, and Mean Subtracted Wheel Speeds, Recording 0, Trial 2"
        },
        "xaxis": {
         "title": {
          "text": "Time"
         }
        },
        "yaxis": {
         "title": {
          "text": "Value"
         }
        }
       }
      }
     },
     "metadata": {},
     "output_type": "display_data"
    }
   ],
   "source": [
    "for t in range(3):\n",
    "    fig = go.Figure()\n",
    "    fig.add_trace(go.Scatter(y=Y_train_regular[0][t], name='Original'))\n",
    "    fig.add_trace(go.Scatter(y=Y_train_smoothed[0][t], name='Smoothed'))\n",
    "    fig.add_trace(go.Scatter(y=Y_train_mean_subtracted[0][t], name='Mean Subtracted'))\n",
    "    fig.add_trace(go.Scatter(y=Y_train_mean_subtracted_smoothed[0][t], name='Mean Subtracted Smoothed'))\n",
    "    fig.update_layout(title=f'Original, Smoothed, and Mean Subtracted Wheel Speeds, Recording 0, Trial {t}', xaxis_title='Time', yaxis_title='Value')\n",
    "    fig.show()"
   ]
  },
  {
   "cell_type": "markdown",
   "metadata": {},
   "source": [
    "# Training"
   ]
  },
  {
   "cell_type": "code",
   "execution_count": 19,
   "metadata": {},
   "outputs": [],
   "source": [
    "loss_fn = torch.nn.MSELoss()"
   ]
  },
  {
   "cell_type": "markdown",
   "metadata": {},
   "source": [
    "## Reduced Rank"
   ]
  },
  {
   "cell_type": "code",
   "execution_count": 20,
   "metadata": {},
   "outputs": [
    {
     "name": "stdout",
     "output_type": "stream",
     "text": [
      "Iteration 0, Train Loss [2.182859182357788, 2.3864684104919434, 0.7247431874275208, 29.242944717407227, 1.5197280645370483, 11.07209300994873, 14.782331466674805, 9.951565742492676, 3.563952684402466, 16.304889678955078], Test Loss [2.089543581008911, 2.461747169494629, 0.7366320490837097, 30.109355926513672, 1.4513477087020874, 10.822796821594238, 15.424304962158203, 9.456409454345703, 3.6558024883270264, 16.34398078918457]\n",
      "Iteration 100, Train Loss [0.10954174399375916, 0.14291438460350037, 0.1513132005929947, 0.16874992847442627, 0.1665649116039276, 0.14084206521511078, 0.14235085248947144, 0.14369772374629974, 0.1636534035205841, 0.13291007280349731], Test Loss [0.1420314908027649, 0.15821321308612823, 0.14892609417438507, 0.16206631064414978, 0.1691424548625946, 0.141210675239563, 0.13259878754615784, 0.1725798100233078, 0.19688595831394196, 0.1379622220993042]\n"
     ]
    }
   ],
   "source": [
    "reduced_rank_model = ReducedRankModel(\n",
    "    n_recordings=TOTAL_RECORDINGS,\n",
    "    n_neurons_per_recording=[X_train[i].shape[1] for i in range(TOTAL_RECORDINGS)], \n",
    "    n_time_bins=TIME_BINS, \n",
    "    rank=RANK\n",
    ")\n",
    "\n",
    "if RANDOM_SEED != -1:\n",
    "    torch.manual_seed(RANDOM_SEED)\n",
    "\n",
    "# optimizer = torch.optim.Adam(model.parameters(), lr=0.001, weight_decay=0.01) 0.0455 best\n",
    "optimizer = torch.optim.Adam(reduced_rank_model.parameters(), lr=0.001, weight_decay=0.01)\n",
    "loss_fn = torch.nn.MSELoss()\n",
    "\n",
    "train_loss = []\n",
    "test_loss = []\n",
    "\n",
    "for training_iteration in range(200):\n",
    "    train_loss_iter, test_loss_iter = train_one_epoch(X_train, Y_train, X_test, Y_test, reduced_rank_model, optimizer, loss_fn)\n",
    "\n",
    "    if training_iteration % 100 == 0:\n",
    "        print(f'Iteration {training_iteration}, Train Loss {train_loss_iter}, Test Loss {test_loss_iter}')\n",
    "\n",
    "    train_loss.append(train_loss_iter)\n",
    "    test_loss.append(test_loss_iter)"
   ]
  },
  {
   "cell_type": "code",
   "execution_count": 21,
   "metadata": {},
   "outputs": [
    {
     "data": {
      "application/vnd.plotly.v1+json": {
       "config": {
        "plotlyServerURL": "https://plot.ly"
       },
       "data": [
        {
         "name": "0 - Test Recording",
         "type": "scatter",
         "y": [
          2.089543581008911,
          1.9879952669143677,
          1.9033271074295044,
          1.8223391771316528,
          1.7452033758163452,
          1.6718437671661377,
          1.6021037101745605,
          1.5358054637908936,
          1.472774863243103,
          1.4128458499908447,
          1.3558647632598877,
          1.301687240600586,
          1.2501771450042725,
          1.2012053728103638,
          1.1546480655670166,
          1.1103874444961548,
          1.0683107376098633,
          1.0283093452453613,
          0.9902787208557129,
          0.9541187286376953,
          0.9197337031364441,
          0.8870312571525574,
          0.8559231758117676,
          0.8263248801231384,
          0.7981557846069336,
          0.7713385820388794,
          0.7458000779151917,
          0.7214701175689697,
          0.6982823610305786,
          0.6761735081672668,
          0.6550838947296143,
          0.6349567174911499,
          0.6157384514808655,
          0.5973783731460571,
          0.5798287987709045,
          0.5630443692207336,
          0.5469829440116882,
          0.5316044092178345,
          0.5168712139129639,
          0.5027480125427246,
          0.48920154571533203,
          0.4762006998062134,
          0.4637160897254944,
          0.4517204165458679,
          0.44018763303756714,
          0.4290936589241028,
          0.4184158146381378,
          0.4081326425075531,
          0.3982241451740265,
          0.3886714279651642,
          0.37945690751075745,
          0.37056389451026917,
          0.3619767427444458,
          0.35368072986602783,
          0.34566202759742737,
          0.3379075229167938,
          0.33040499687194824,
          0.3231428563594818,
          0.3161100447177887,
          0.30929625034332275,
          0.3026917576789856,
          0.2962873578071594,
          0.29007431864738464,
          0.2840442955493927,
          0.2781895697116852,
          0.2725026607513428,
          0.2669766843318939,
          0.26160478591918945,
          0.2563808262348175,
          0.25129878520965576,
          0.24635297060012817,
          0.2415379285812378,
          0.23684871196746826,
          0.23228031396865845,
          0.22782811522483826,
          0.22348780930042267,
          0.21925519406795502,
          0.21512629091739655,
          0.2110973745584488,
          0.20716479420661926,
          0.20332518219947815,
          0.1995752602815628,
          0.19591201841831207,
          0.1923324465751648,
          0.1888338178396225,
          0.1854134500026703,
          0.1820688396692276,
          0.17879745364189148,
          0.17559714615345,
          0.17246569693088531,
          0.16940094530582428,
          0.16640101373195648,
          0.16346393525600433,
          0.16058798134326935,
          0.15777131915092468,
          0.15501239895820618,
          0.15230967104434967,
          0.14966164529323578,
          0.14706683158874512,
          0.14452388882637024,
          0.1420314908027649,
          0.13958847522735596,
          0.13719359040260315,
          0.13484574854373932,
          0.13254378736019135,
          0.13028670847415924,
          0.12807348370552063,
          0.1259031891822815,
          0.12377482652664185,
          0.12168754637241364,
          0.11964049935340881,
          0.11763282120227814,
          0.11566377431154251,
          0.11373253911733627,
          0.11183838546276093,
          0.10998060554265976,
          0.10815849155187607,
          0.10637134313583374,
          0.10461857169866562,
          0.1028994619846344,
          0.1012134999036789,
          0.09955994784832001,
          0.09793832898139954,
          0.09634798765182495,
          0.09478848427534103,
          0.09325914084911346,
          0.09175948798656464,
          0.09028901159763336,
          0.08884716033935547,
          0.08743347227573395,
          0.08604744076728821,
          0.08468856662511826,
          0.08335643261671066,
          0.08205048739910126,
          0.08077029138803482,
          0.07951544225215912,
          0.07828547060489655,
          0.07707992196083069,
          0.07589838653802872,
          0.0747404396533966,
          0.07360564172267914,
          0.07249361276626587,
          0.07140390574932098,
          0.07033616304397583,
          0.06928994506597519,
          0.06826486438512802,
          0.06726057827472687,
          0.0662766769528389,
          0.06531277298927307,
          0.06436852365732193,
          0.06344353407621384,
          0.06253749132156372,
          0.06164999306201935,
          0.060780707746744156,
          0.05992930382490158,
          0.059095416218042374,
          0.05827872082591057,
          0.0574788898229599,
          0.05669558793306351,
          0.05592851713299751,
          0.055177345871925354,
          0.05444176495075226,
          0.05372144281864166,
          0.053016114979982376,
          0.05232548341155052,
          0.051649242639541626,
          0.05098709464073181,
          0.05033877491950989,
          0.04970400407910347,
          0.04908248409628868,
          0.04847397655248642,
          0.0478782020509243,
          0.047294896095991135,
          0.04672380909323692,
          0.04616471379995346,
          0.045617327094078064,
          0.04508142173290253,
          0.04455675557255745,
          0.04404311627149582,
          0.04354025423526764,
          0.043047964572906494,
          0.04256599023938179,
          0.0420941561460495,
          0.041632216423749924,
          0.04117998853325844,
          0.040737248957157135,
          0.04030381888151169,
          0.039879485964775085,
          0.0394640751183033,
          0.03905738517642021,
          0.0386592373251915,
          0.03826945275068283,
          0.03788783773779869,
          0.03751423954963684,
          0.03714848682284355,
          0.036790408194065094,
          0.03643983602523804,
          0.03609662130475044,
          0.03576060011982918,
          0.0354316271841526
         ]
        },
        {
         "name": "0 - Train Recording",
         "type": "scatter",
         "y": [
          2.182859182357788,
          2.0636913776397705,
          1.9738835096359253,
          1.8879013061523438,
          1.8059381246566772,
          1.7279292345046997,
          1.653719425201416,
          1.583127737045288,
          1.5159746408462524,
          1.4520900249481201,
          1.3913143873214722,
          1.3334990739822388,
          1.2785032987594604,
          1.2261930704116821,
          1.1764414310455322,
          1.1291258335113525,
          1.0841290950775146,
          1.0413388013839722,
          1.000646710395813,
          0.9619482159614563,
          0.9251438975334167,
          0.8901370167732239,
          0.8568356037139893,
          0.8251512050628662,
          0.7949991226196289,
          0.7662984132766724,
          0.738971471786499,
          0.7129451036453247,
          0.6881486773490906,
          0.664515495300293,
          0.6419821381568909,
          0.6204884648323059,
          0.5999773144721985,
          0.5803946852684021,
          0.5616897940635681,
          0.5438141226768494,
          0.5267223715782166,
          0.5103716254234314,
          0.49472135305404663,
          0.4797336161136627,
          0.4653725028038025,
          0.4516045153141022,
          0.43839767575263977,
          0.42572253942489624,
          0.4135509431362152,
          0.40185657143592834,
          0.3906148076057434,
          0.3798023760318756,
          0.36939743161201477,
          0.35937952995300293,
          0.3497292697429657,
          0.3404286205768585,
          0.33146050572395325,
          0.32280871272087097,
          0.3144582509994507,
          0.3063947856426239,
          0.2986049950122833,
          0.2910761535167694,
          0.2837962508201599,
          0.2767540216445923,
          0.26993897557258606,
          0.26334086060523987,
          0.2569502592086792,
          0.2507581114768982,
          0.2447560429573059,
          0.23893585801124573,
          0.23329004645347595,
          0.2278112918138504,
          0.22249282896518707,
          0.21732810139656067,
          0.2123110443353653,
          0.2074357122182846,
          0.20269665122032166,
          0.19808855652809143,
          0.1936064064502716,
          0.18924550712108612,
          0.18500135838985443,
          0.18086965382099152,
          0.17684631049633026,
          0.17292742431163788,
          0.16910941898822784,
          0.16538861393928528,
          0.1617618054151535,
          0.15822575986385345,
          0.15477748215198517,
          0.15141406655311584,
          0.14813277125358582,
          0.14493095874786377,
          0.14180611073970795,
          0.13875587284564972,
          0.13577793538570404,
          0.1328701376914978,
          0.13003042340278625,
          0.12725679576396942,
          0.1245473250746727,
          0.12190022319555283,
          0.11931374669075012,
          0.11678621172904968,
          0.11431605368852615,
          0.11190173774957657,
          0.10954174399375916,
          0.10723471641540527,
          0.10497928410768509,
          0.10277420282363892,
          0.10061816871166229,
          0.09850997477769852,
          0.09644850343465805,
          0.09443259984254837,
          0.09246119111776352,
          0.09053324908018112,
          0.0886477679014206,
          0.08680378645658493,
          0.08500035107135773,
          0.08323657512664795,
          0.08151156455278397,
          0.07982447743415833,
          0.07817447185516357,
          0.07656075060367584,
          0.07498253881931305,
          0.07343906909227371,
          0.07192961871623993,
          0.07045343518257141,
          0.06900985538959503,
          0.0675981417298317,
          0.06621768325567245,
          0.0648677870631218,
          0.06354785710573196,
          0.06225723400712013,
          0.060995303094387054,
          0.05976150184869766,
          0.05855521559715271,
          0.05737590789794922,
          0.05622298642992973,
          0.055095914751291275,
          0.05399414524435997,
          0.05291716009378433,
          0.051864441484212875,
          0.050835467875003815,
          0.04982976242899895,
          0.04884680360555649,
          0.04788615554571152,
          0.04694731533527374,
          0.046029817312955856,
          0.04513322934508324,
          0.04425709322094917,
          0.04340095818042755,
          0.04256441816687584,
          0.04174702614545822,
          0.04094839096069336,
          0.04016808420419693,
          0.039405710995197296,
          0.038660887628793716,
          0.037933219224214554,
          0.037222329527139664,
          0.0365278422832489,
          0.03584940358996391,
          0.035186659544706345,
          0.034539252519607544,
          0.03390683978796005,
          0.03328908234834671,
          0.03268565237522125,
          0.032096222043037415,
          0.031520482152700424,
          0.030958106741309166,
          0.03040880709886551,
          0.029872272163629532,
          0.02934821881353855,
          0.028836362063884735,
          0.028336405754089355,
          0.02784808911383152,
          0.02737114019691944,
          0.026905296370387077,
          0.026450293138623238,
          0.02600589208304882,
          0.02557183802127838,
          0.02514788880944252,
          0.024733809754252434,
          0.024329373612999916,
          0.02393435314297676,
          0.02354852668941021,
          0.02317168191075325,
          0.02280360274016857,
          0.022444091737270355,
          0.02209293656051159,
          0.021749956533312798,
          0.021414943039417267,
          0.02108771540224552,
          0.020768094807863235,
          0.020455902442336082,
          0.020150961354374886,
          0.019853100180625916,
          0.01956215314567089,
          0.019277960062026978,
          0.01900036260485649,
          0.018729202449321747,
          0.018464332446455956,
          0.018205605447292328,
          0.017952870577573776,
          0.017705993726849556,
          0.017464838922023773
         ]
        },
        {
         "name": "1 - Test Recording",
         "type": "scatter",
         "y": [
          2.461747169494629,
          2.3817577362060547,
          2.3032562732696533,
          2.225750684738159,
          2.1504709720611572,
          2.0777370929718018,
          2.0076005458831787,
          1.9400224685668945,
          1.8749295473098755,
          1.812238335609436,
          1.7518644332885742,
          1.6937249898910522,
          1.6377389430999756,
          1.5838277339935303,
          1.5319157838821411,
          1.4819296598434448,
          1.4337983131408691,
          1.3874529600143433,
          1.34282648563385,
          1.2998548746109009,
          1.258474588394165,
          1.2186259031295776,
          1.1802494525909424,
          1.1432888507843018,
          1.1076889038085938,
          1.0733966827392578,
          1.0403605699539185,
          1.008531093597412,
          0.9778605699539185,
          0.9483024477958679,
          0.9198124408721924,
          0.8923476934432983,
          0.8658668398857117,
          0.840330183506012,
          0.8156996369361877,
          0.7919384241104126,
          0.7690114974975586,
          0.7468849420547485,
          0.7255261540412903,
          0.704904317855835,
          0.684989869594574,
          0.6657540798187256,
          0.6471700668334961,
          0.62921142578125,
          0.6118535399436951,
          0.5950725078582764,
          0.5788459181785583,
          0.5631516575813293,
          0.5479692816734314,
          0.5332791209220886,
          0.5190621614456177,
          0.5053003430366516,
          0.49197664856910706,
          0.47907447814941406,
          0.46657824516296387,
          0.4544728994369507,
          0.44274401664733887,
          0.4313783049583435,
          0.420362263917923,
          0.40968334674835205,
          0.3993297815322876,
          0.3892899751663208,
          0.3795526325702667,
          0.370107501745224,
          0.3609444200992584,
          0.35205355286598206,
          0.34342554211616516,
          0.33505138754844666,
          0.32692259550094604,
          0.31903085112571716,
          0.3113679885864258,
          0.3039265275001526,
          0.2966989278793335,
          0.2896781265735626,
          0.2828572988510132,
          0.27622976899147034,
          0.2697892487049103,
          0.26352962851524353,
          0.2574448883533478,
          0.2515294551849365,
          0.24577784538269043,
          0.2401847094297409,
          0.23474492132663727,
          0.22945357859134674,
          0.2243058979511261,
          0.21929749846458435,
          0.2144237756729126,
          0.20968060195446014,
          0.20506377518177032,
          0.20056940615177155,
          0.1961936503648758,
          0.19193287193775177,
          0.18778353929519653,
          0.18374212086200714,
          0.17980539798736572,
          0.17597025632858276,
          0.1722334623336792,
          0.16859221458435059,
          0.16504357755184174,
          0.16158482432365417,
          0.15821321308612823,
          0.15492630004882812,
          0.15172158181667328,
          0.14859668910503387,
          0.14554926753044128,
          0.1425771266222,
          0.13967812061309814,
          0.13685013353824615,
          0.13409124314785004,
          0.13139939308166504,
          0.1287728101015091,
          0.12620969116687775,
          0.12370824813842773,
          0.12126682698726654,
          0.11888375878334045,
          0.11655750125646591,
          0.11428651958703995,
          0.11206939071416855,
          0.10990456491708755,
          0.10779079049825668,
          0.10572666674852371,
          0.10371087491512299,
          0.1017422005534172,
          0.09981942176818848,
          0.0979413166642189,
          0.09610679745674133,
          0.09431469440460205,
          0.09256399422883987,
          0.09085360914468765,
          0.08918257802724838,
          0.0875498577952385,
          0.08595452457666397,
          0.08439566940069199,
          0.08287236094474792,
          0.08138376474380493,
          0.07992898672819138,
          0.07850722223520279,
          0.0771176740527153,
          0.07575953006744385,
          0.07443206012248993,
          0.07313450425863266,
          0.07186615467071533,
          0.07062630355358124,
          0.06941431760787964,
          0.06822948157787323,
          0.06707116961479187,
          0.06593874841928482,
          0.06483160704374313,
          0.06374911963939667,
          0.06269076466560364,
          0.06165596470236778,
          0.06064410135149956,
          0.059654705226421356,
          0.058687224984169006,
          0.05774115025997162,
          0.056815989315509796,
          0.05591128021478653,
          0.055026497691869736,
          0.054161231964826584,
          0.05331502482295036,
          0.052487410604953766,
          0.05167795717716217,
          0.05088629201054573,
          0.05011197552084923,
          0.049354638904333115,
          0.04861384630203247,
          0.04788925126194954,
          0.04718047007918358,
          0.04648715630173683,
          0.04580896347761154,
          0.045145533978939056,
          0.04449653998017311,
          0.043861646205186844,
          0.04324058070778847,
          0.042632974684238434,
          0.04203854873776436,
          0.041457001119852066,
          0.04088805243372917,
          0.0403314009308815,
          0.039786793291568756,
          0.03925394266843796,
          0.038732606917619705,
          0.03822251781821251,
          0.03772341087460518,
          0.03723505884408951,
          0.036757227033376694,
          0.03628966584801674,
          0.03583216667175293,
          0.03538450598716736,
          0.03494646027684212,
          0.0345177985727787,
          0.03409835323691368,
          0.03368789702653885,
          0.03328623250126839,
          0.03289317712187767,
          0.03250852972269058,
          0.03213212639093399,
          0.03176375851035118,
          0.03140327334403992,
          0.03105049766600132
         ]
        },
        {
         "name": "1 - Train Recording",
         "type": "scatter",
         "y": [
          2.3864684104919434,
          2.298154830932617,
          2.222651958465576,
          2.1480228900909424,
          2.0754764080047607,
          2.0053346157073975,
          1.9376585483551025,
          1.8724167346954346,
          1.8095442056655884,
          1.7489640712738037,
          1.6905975341796875,
          1.6343672275543213,
          1.5801968574523926,
          1.5280131101608276,
          1.4777438640594482,
          1.4293204545974731,
          1.382675051689148,
          1.337742805480957,
          1.2944602966308594,
          1.2527666091918945,
          1.212602138519287,
          1.1739091873168945,
          1.1366322040557861,
          1.1007174253463745,
          1.0661126375198364,
          1.0327671766281128,
          1.000632405281067,
          0.9696611762046814,
          0.939808189868927,
          0.9110291600227356,
          0.8832820653915405,
          0.8565261363983154,
          0.8307221531867981,
          0.8058320879936218,
          0.7818200588226318,
          0.7586506605148315,
          0.7362905740737915,
          0.7147077322006226,
          0.6938708424568176,
          0.6737505793571472,
          0.6543183922767639,
          0.6355472207069397,
          0.6174110770225525,
          0.5998849272727966,
          0.5829449892044067,
          0.5665685534477234,
          0.5507336258888245,
          0.5354194641113281,
          0.5206061005592346,
          0.5062746405601501,
          0.4924069046974182,
          0.4789851903915405,
          0.4659932851791382,
          0.4534148573875427,
          0.4412349760532379,
          0.4294390380382538,
          0.4180130958557129,
          0.40694382786750793,
          0.3962184488773346,
          0.38582468032836914,
          0.375750869512558,
          0.3659857511520386,
          0.35651835799217224,
          0.34733864665031433,
          0.33843645453453064,
          0.3298022747039795,
          0.3214268088340759,
          0.3133013844490051,
          0.30541741847991943,
          0.29776665568351746,
          0.2903413772583008,
          0.283133864402771,
          0.27613696455955505,
          0.26934343576431274,
          0.26274651288986206,
          0.25633978843688965,
          0.25011688470840454,
          0.24407170712947845,
          0.23819848895072937,
          0.23249147832393646,
          0.22694532573223114,
          0.22155477106571198,
          0.21631459891796112,
          0.21122005581855774,
          0.206266388297081,
          0.20144911110401154,
          0.19676382839679718,
          0.1922062486410141,
          0.18777236342430115,
          0.18345823884010315,
          0.1792600452899933,
          0.17517419159412384,
          0.17119713127613068,
          0.1673254817724228,
          0.16355592012405396,
          0.15988536179065704,
          0.15631073713302612,
          0.1528290957212448,
          0.14943762123584747,
          0.14613360166549683,
          0.14291438460350037,
          0.13977745175361633,
          0.13672035932540894,
          0.13374079763889313,
          0.13083644211292267,
          0.12800505757331848,
          0.12524455785751343,
          0.12255298346281052,
          0.1199282556772232,
          0.11736845970153809,
          0.1148718073964119,
          0.11243654787540436,
          0.1100609228014946,
          0.10774331539869308,
          0.1054820567369461,
          0.10327570140361786,
          0.1011226698756218,
          0.09902159124612808,
          0.09697099030017853,
          0.09496957063674927,
          0.09301602095365524,
          0.09110904484987259,
          0.0892474427819252,
          0.08742998540401459,
          0.0856555923819542,
          0.08392307907342911,
          0.08223138749599457,
          0.0805794969201088,
          0.07896634936332703,
          0.07739100605249405,
          0.07585248351097107,
          0.07434985786676407,
          0.07288222759962082,
          0.07144873589277267,
          0.07004853338003159,
          0.0686807706952095,
          0.06734465062618256,
          0.06603941321372986,
          0.06476427614688873,
          0.06351849436759949,
          0.062301382422447205,
          0.06111221760511398,
          0.05995035171508789,
          0.0588151179254055,
          0.05770587921142578,
          0.0566219724714756,
          0.0555628165602684,
          0.05452781543135643,
          0.05351640656590462,
          0.052528008818626404,
          0.05156208202242851,
          0.05061807855963707,
          0.04969547688961029,
          0.04879378899931908,
          0.04791250824928284,
          0.04705116152763367,
          0.04620927572250366,
          0.04538640007376671,
          0.04458208009600639,
          0.043795887380838394,
          0.04302739351987839,
          0.04227616637945175,
          0.041541848331689835,
          0.04082399979233742,
          0.04012227803468704,
          0.03943626582622528,
          0.03876562416553497,
          0.03810999169945717,
          0.03746900334954262,
          0.03684234619140625,
          0.0362296886742115,
          0.03563067689538002,
          0.03504503145813942,
          0.03447243943810463,
          0.033912595361471176,
          0.03336520120501518,
          0.03282997012138367,
          0.032306622713804245,
          0.03179490193724632,
          0.03129452466964722,
          0.030805230140686035,
          0.030326789245009422,
          0.02985895238816738,
          0.02940143272280693,
          0.028954055160284042,
          0.028516549617052078,
          0.028088711202144623,
          0.02767031453549862,
          0.02726115845143795,
          0.02686101756989956,
          0.026469703763723373,
          0.026087000966072083,
          0.02571273036301136,
          0.025346698239445686,
          0.02498871460556984,
          0.024638595059514046,
          0.024296192452311516,
          0.023961296305060387,
          0.02363375946879387,
          0.02331341616809368
         ]
        },
        {
         "name": "2 - Test Recording",
         "type": "scatter",
         "y": [
          0.7366320490837097,
          0.7290206551551819,
          0.7215871214866638,
          0.7141820788383484,
          0.7067845463752747,
          0.6993858218193054,
          0.6919820308685303,
          0.684570848941803,
          0.6771512627601624,
          0.6697230935096741,
          0.6622860431671143,
          0.6548405289649963,
          0.6473873853683472,
          0.6399273872375488,
          0.6324612498283386,
          0.6249903440475464,
          0.617516040802002,
          0.6100397706031799,
          0.6025630235671997,
          0.5950875282287598,
          0.5876151323318481,
          0.5801476240158081,
          0.5726871490478516,
          0.5652357935905457,
          0.557795524597168,
          0.5503686666488647,
          0.5429574251174927,
          0.535564124584198,
          0.5281910300254822,
          0.5208404660224915,
          0.5135149955749512,
          0.5062167644500732,
          0.4989481270313263,
          0.4917115867137909,
          0.4845094680786133,
          0.47734397649765015,
          0.47021758556365967,
          0.4631323516368866,
          0.4560905396938324,
          0.44909432530403137,
          0.44214582443237305,
          0.4352470338344574,
          0.4284000098705292,
          0.42160651087760925,
          0.41486856341362,
          0.4081878066062927,
          0.4015659689903259,
          0.3950047194957733,
          0.38850539922714233,
          0.3820696771144867,
          0.37569889426231384,
          0.3693941831588745,
          0.36315691471099854,
          0.35698816180229187,
          0.3508889079093933,
          0.34486013650894165,
          0.3389027714729309,
          0.3330175280570984,
          0.3272051513195038,
          0.32146626710891724,
          0.31580138206481934,
          0.31021109223365784,
          0.30469560623168945,
          0.29925549030303955,
          0.2938908040523529,
          0.2886018455028534,
          0.28338876366615295,
          0.2782514989376068,
          0.27319014072418213,
          0.26820459961891174,
          0.2632947564125061,
          0.25846046209335327,
          0.25370147824287415,
          0.24901753664016724,
          0.2444082796573639,
          0.23987334966659546,
          0.2354123741388321,
          0.23102489113807678,
          0.22671039402484894,
          0.2224683314561844,
          0.21829824149608612,
          0.21419940888881683,
          0.21017128229141235,
          0.20621326565742493,
          0.20232458412647247,
          0.19850465655326843,
          0.19475266337394714,
          0.19106794893741608,
          0.18744973838329315,
          0.1838971972465515,
          0.18040966987609863,
          0.1769862323999405,
          0.1736261248588562,
          0.17032857239246368,
          0.1670927107334137,
          0.16391772031784058,
          0.16080275177955627,
          0.15774695575237274,
          0.15474948287010193,
          0.1518094837665558,
          0.14892609417438507,
          0.14609850943088531,
          0.1433258205652237,
          0.14060720801353455,
          0.13794183731079102,
          0.13532882928848267,
          0.13276731967926025,
          0.13025647401809692,
          0.1277955025434494,
          0.12538349628448486,
          0.12301963567733765,
          0.12070318311452866,
          0.11843322962522507,
          0.1162090003490448,
          0.11402971297502518,
          0.11189453303813934,
          0.10980268567800522,
          0.10775341838598251,
          0.10574590414762497,
          0.10377942025661469,
          0.10185320675373077,
          0.09996649622917175,
          0.09811858832836151,
          0.09630872309207916,
          0.09453617036342621,
          0.09280024468898773,
          0.09110025316476822,
          0.08943549543619156,
          0.08780529350042343,
          0.08620896190404892,
          0.08464585244655609,
          0.08311528712511063,
          0.08161667734384537,
          0.08014936745166779,
          0.07871269434690475,
          0.07730609178543091,
          0.0759289562702179,
          0.07458066940307617,
          0.07326066493988037,
          0.07196836918592453,
          0.07070320099592209,
          0.06946463882923126,
          0.06825210154056549,
          0.06706509739160538,
          0.06590306013822556,
          0.06476549059152603,
          0.06365188956260681,
          0.06256174296140671,
          0.06149457395076752,
          0.06044989079236984,
          0.059427231550216675,
          0.05842612311244011,
          0.057446133345365524,
          0.05648678168654442,
          0.055547673255205154,
          0.05462834984064102,
          0.05372841656208038,
          0.05284744128584862,
          0.05198502168059349,
          0.05114077404141426,
          0.05031430721282959,
          0.049505237489938736,
          0.048713184893131256,
          0.047937795519828796,
          0.0471787229180336,
          0.04643559083342552,
          0.04570809006690979,
          0.04499584436416626,
          0.04429854825139046,
          0.04361588507890701,
          0.04294752702116966,
          0.04229317605495453,
          0.04165252298116684,
          0.041025273501873016,
          0.04041113331913948,
          0.039809826761484146,
          0.039221081882715225,
          0.038644615560770035,
          0.03808016702532768,
          0.037527475506067276,
          0.03698628768324852,
          0.03645634651184082,
          0.03593742102384567,
          0.03542928025126457,
          0.034931670874357224,
          0.03444437310099602,
          0.033967167139053345,
          0.033499836921691895,
          0.033042170107364655,
          0.03259395435452461,
          0.03215498477220535,
          0.031725071370601654,
          0.0313040092587471,
          0.03089161589741707,
          0.030487703159451485,
          0.030092084780335426,
          0.029704593122005463,
          0.029325038194656372,
          0.02895326167345047,
          0.028589099645614624
         ]
        },
        {
         "name": "2 - Train Recording",
         "type": "scatter",
         "y": [
          0.7247431874275208,
          0.7175245881080627,
          0.7108731269836426,
          0.7042526006698608,
          0.6976149082183838,
          0.6909453272819519,
          0.684238612651825,
          0.6774930357933044,
          0.6707082390785217,
          0.6638848781585693,
          0.6570241451263428,
          0.650127112865448,
          0.6431954503059387,
          0.6362308859825134,
          0.6292352080345154,
          0.6222105026245117,
          0.6151590347290039,
          0.6080831289291382,
          0.6009851098060608,
          0.5938675999641418,
          0.5867331027984619,
          0.5795844197273254,
          0.5724242329597473,
          0.5652555823326111,
          0.5580811500549316,
          0.5509039163589478,
          0.5437268614768982,
          0.5365530252456665,
          0.5293852686882019,
          0.5222267508506775,
          0.5150803923606873,
          0.50794917345047,
          0.5008360743522644,
          0.493743896484375,
          0.48667579889297485,
          0.47963449358940125,
          0.47262272238731384,
          0.4656432569026947,
          0.4586988687515259,
          0.4517919421195984,
          0.4449252486228943,
          0.4381010830402374,
          0.4313218891620636,
          0.4245898723602295,
          0.4179074168205261,
          0.4112764000892639,
          0.4046989381313324,
          0.3981770873069763,
          0.39171236753463745,
          0.38530683517456055,
          0.37896186113357544,
          0.37267908453941345,
          0.36646002531051636,
          0.3603059649467468,
          0.35421812534332275,
          0.3481976389884949,
          0.3422456383705139,
          0.33636316657066345,
          0.3305509388446808,
          0.32480984926223755,
          0.31914058327674866,
          0.31354373693466187,
          0.30801984667778015,
          0.3025694787502289,
          0.29719284176826477,
          0.29189038276672363,
          0.2866623103618622,
          0.2815087139606476,
          0.27642977237701416,
          0.2714255154132843,
          0.26649585366249084,
          0.2616407573223114,
          0.25686004757881165,
          0.25215351581573486,
          0.24752093851566315,
          0.24296194314956665,
          0.2384762465953827,
          0.23406346142292023,
          0.22972312569618225,
          0.22545477747917175,
          0.22125793993473053,
          0.21713197231292725,
          0.21307635307312012,
          0.20909051597118378,
          0.2051737904548645,
          0.20132555067539215,
          0.19754508137702942,
          0.19383171200752258,
          0.19018466770648956,
          0.18660323321819305,
          0.18308669328689575,
          0.1796341836452484,
          0.17624501883983612,
          0.1729183793067932,
          0.16965338587760925,
          0.16644929349422455,
          0.16330529749393463,
          0.16022050380706787,
          0.1571941375732422,
          0.15422531962394714,
          0.1513132005929947,
          0.14845697581768036,
          0.1456558257341385,
          0.14290890097618103,
          0.14021530747413635,
          0.1375742256641388,
          0.1349848359823227,
          0.1324463039636612,
          0.12995776534080505,
          0.127518430352211,
          0.12512743473052979,
          0.12278398126363754,
          0.1204872727394104,
          0.11823651194572449,
          0.11603084951639175,
          0.1138695552945137,
          0.11175178736448288,
          0.10967683047056198,
          0.10764385759830475,
          0.10565214604139328,
          0.1037009134888649,
          0.1017894446849823,
          0.0999169871211052,
          0.09808281064033508,
          0.09628619998693466,
          0.09452643245458603,
          0.09280284494161606,
          0.09111472964286804,
          0.08946139365434647,
          0.0878421738743782,
          0.08625642210245132,
          0.0847034677863121,
          0.083182692527771,
          0.08169342577457428,
          0.0802350863814354,
          0.07880702614784241,
          0.07740867137908936,
          0.0760394036769867,
          0.07469864189624786,
          0.0733858272433281,
          0.07210038602352142,
          0.07084177434444427,
          0.06960942596197128,
          0.06840282678604126,
          0.06722142547369003,
          0.06606472283601761,
          0.0649322047829628,
          0.06382336467504501,
          0.06273773312568665,
          0.061674799770116806,
          0.060634125024080276,
          0.05961520969867706,
          0.05861761048436165,
          0.05764089524745941,
          0.05668460950255394,
          0.05574832484126091,
          0.05483163893222809,
          0.053934112191200256,
          0.053055353462696075,
          0.052194975316524506,
          0.051352571696043015,
          0.050527770072221756,
          0.049720171838998795,
          0.04892944544553757,
          0.04815521836280823,
          0.047397125512361526,
          0.046654846519231796,
          0.04592802748084068,
          0.045216333121061325,
          0.04451945796608925,
          0.04383707419037819,
          0.043168868869543076,
          0.04251454398036003,
          0.04187379777431488,
          0.04124634340405464,
          0.04063188284635544,
          0.040030159056186676,
          0.039440885186195374,
          0.03886379674077034,
          0.038298625499010086,
          0.037745121866464615,
          0.03720303252339363,
          0.036672115325927734,
          0.036152128130197525,
          0.0356428436934948,
          0.03514401987195015,
          0.03465544059872627,
          0.034176889806985855,
          0.03370814770460129,
          0.03324899449944496,
          0.03279924765229225,
          0.032358694821596146,
          0.03192713111639023,
          0.03150438144803047,
          0.03109024465084076,
          0.030684543773531914,
          0.030287107452750206,
          0.02989773266017437,
          0.029516268521547318,
          0.029142551124095917
         ]
        },
        {
         "name": "3 - Test Recording",
         "type": "scatter",
         "y": [
          30.109355926513672,
          28.675064086914062,
          27.349102020263672,
          26.078584671020508,
          24.855924606323242,
          23.678627014160156,
          22.545299530029297,
          21.454845428466797,
          20.406259536743164,
          19.398555755615234,
          18.430767059326172,
          17.50192642211914,
          16.611064910888672,
          15.757207870483398,
          14.939384460449219,
          14.156615257263184,
          13.40792465209961,
          12.692337989807129,
          12.00887393951416,
          11.356558799743652,
          10.734415054321289,
          10.141478538513184,
          9.576783180236816,
          9.039375305175781,
          8.528302192687988,
          8.042622566223145,
          7.581409454345703,
          7.143742084503174,
          6.728714466094971,
          6.335434913635254,
          5.963022708892822,
          5.610617637634277,
          5.277369022369385,
          4.962451934814453,
          4.66505241394043,
          4.3843817710876465,
          4.119668006896973,
          3.870157480239868,
          3.6351189613342285,
          3.4138431549072266,
          3.205644369125366,
          3.0098578929901123,
          2.8258399963378906,
          2.652971029281616,
          2.4906561374664307,
          2.338320255279541,
          2.1954123973846436,
          2.0614054203033447,
          1.9357939958572388,
          1.8180958032608032,
          1.7078487873077393,
          1.6046150922775269,
          1.5079766511917114,
          1.4175360202789307,
          1.3329172134399414,
          1.2537612915039062,
          1.1797305345535278,
          1.1105053424835205,
          1.045782446861267,
          0.9852772355079651,
          0.9287198185920715,
          0.8758576512336731,
          0.826451301574707,
          0.7802764773368835,
          0.737122654914856,
          0.69679194688797,
          0.6590979099273682,
          0.6238667964935303,
          0.5909344553947449,
          0.5601488351821899,
          0.5313664078712463,
          0.5044530630111694,
          0.4792832136154175,
          0.4557390809059143,
          0.43371161818504333,
          0.41309854388237,
          0.3938039541244507,
          0.3757378160953522,
          0.3588171899318695,
          0.3429643511772156,
          0.3281061351299286,
          0.31417468190193176,
          0.3011067807674408,
          0.2888433635234833,
          0.2773292660713196,
          0.2665133774280548,
          0.25634750723838806,
          0.24678730964660645,
          0.23779118061065674,
          0.22932027280330658,
          0.2213384509086609,
          0.21381227672100067,
          0.20671044290065765,
          0.20000362396240234,
          0.19366493821144104,
          0.1876690685749054,
          0.1819925457239151,
          0.17661355435848236,
          0.1715119481086731,
          0.16666871309280396,
          0.16206631064414978,
          0.1576884239912033,
          0.15352019667625427,
          0.1495475023984909,
          0.14575722813606262,
          0.14213722944259644,
          0.13867637515068054,
          0.13536427915096283,
          0.1321912556886673,
          0.12914836406707764,
          0.1262272596359253,
          0.1234203428030014,
          0.1207205057144165,
          0.11812116205692291,
          0.11561621725559235,
          0.11320000886917114,
          0.11086729168891907,
          0.1086132600903511,
          0.10643342137336731,
          0.10432364046573639,
          0.10228004306554794,
          0.10029919445514679,
          0.09837765246629715,
          0.09651245176792145,
          0.09470074623823166,
          0.09293992072343826,
          0.09122760593891144,
          0.08956155180931091,
          0.08793959021568298,
          0.08635987341403961,
          0.08482060581445694,
          0.08332007378339767,
          0.08185666799545288,
          0.08042913675308228,
          0.07903587818145752,
          0.07767576724290848,
          0.07634765654802322,
          0.07505033910274506,
          0.07378288358449936,
          0.07254425436258316,
          0.07133357971906662,
          0.0701499804854393,
          0.06899259239435196,
          0.06786075234413147,
          0.06675367057323456,
          0.06567069888114929,
          0.06461113691329956,
          0.06357438117265701,
          0.06255985796451569,
          0.061566997319459915,
          0.060595232993364334,
          0.05964406952261925,
          0.05871298909187317,
          0.05780154466629028,
          0.05690921097993851,
          0.056035615503787994,
          0.05518035218119621,
          0.05434291437268257,
          0.0535229854285717,
          0.05272016301751137,
          0.05193401873111725,
          0.05116426572203636,
          0.05041048303246498,
          0.04967232793569565,
          0.04894952476024628,
          0.048241693526506424,
          0.04754851013422012,
          0.046869706362485886,
          0.04620492085814476,
          0.04555390775203705,
          0.044916365295648575,
          0.04429198428988457,
          0.043680496513843536,
          0.0430816151201725,
          0.04249515384435654,
          0.04192078486084938,
          0.041358258575201035,
          0.0408073328435421,
          0.040267784148454666,
          0.03973935917019844,
          0.039221812039613724,
          0.038714926689863205,
          0.03821850195527077,
          0.0377323143184185,
          0.03725609555840492,
          0.0367896668612957,
          0.03633281961083412,
          0.03588541969656944,
          0.03544717654585838,
          0.0350179523229599,
          0.03459754213690758,
          0.03418577089905739,
          0.03378244861960411,
          0.033387381583452225,
          0.03300042822957039,
          0.03262142091989517,
          0.03225013241171837,
          0.03188646212220192,
          0.0315302237868309,
          0.031181303784251213
         ]
        },
        {
         "name": "3 - Train Recording",
         "type": "scatter",
         "y": [
          29.242944717407227,
          27.809534072875977,
          26.50027084350586,
          25.247865676879883,
          24.0440731048584,
          22.886240005493164,
          21.77289581298828,
          20.702856063842773,
          19.67503547668457,
          18.688383102416992,
          17.741853713989258,
          16.834415435791016,
          15.965031623840332,
          15.132678985595703,
          14.336325645446777,
          13.574944496154785,
          12.847513198852539,
          12.153007507324219,
          11.490402221679688,
          10.858688354492188,
          10.256852149963379,
          9.683891296386719,
          9.138812065124512,
          8.62062931060791,
          8.128364562988281,
          7.66105842590332,
          7.21776008605957,
          6.797531604766846,
          6.399454593658447,
          6.022622585296631,
          5.666145324707031,
          5.329155445098877,
          5.010799407958984,
          4.7102460861206055,
          4.426682472229004,
          4.15932035446167,
          3.9073920249938965,
          3.6701457500457764,
          3.4468576908111572,
          3.2368266582489014,
          3.039374589920044,
          2.853846549987793,
          2.679610252380371,
          2.516057252883911,
          2.3626043796539307,
          2.2186901569366455,
          2.0837762355804443,
          1.957350492477417,
          1.8389201164245605,
          1.728018045425415,
          1.6241962909698486,
          1.5270309448242188,
          1.4361190795898438,
          1.3510770797729492,
          1.2715429067611694,
          1.1971724033355713,
          1.1276408433914185,
          1.0626415014266968,
          1.0018854141235352,
          0.945099949836731,
          0.8920280933380127,
          0.842428982257843,
          0.7960749864578247,
          0.7527531385421753,
          0.7122636437416077,
          0.6744190454483032,
          0.6390433311462402,
          0.6059721112251282,
          0.5750502943992615,
          0.5461348295211792,
          0.5190907716751099,
          0.4937916696071625,
          0.4701198637485504,
          0.44796502590179443,
          0.42722460627555847,
          0.40780290961265564,
          0.389610230922699,
          0.37256285548210144,
          0.35658296942710876,
          0.3415980339050293,
          0.3275400996208191,
          0.3143458962440491,
          0.301956444978714,
          0.2903170585632324,
          0.27937614917755127,
          0.26908645033836365,
          0.2594030797481537,
          0.25028499960899353,
          0.241693377494812,
          0.23359234631061554,
          0.22594846785068512,
          0.21873034536838531,
          0.2119092345237732,
          0.2054579108953476,
          0.19935142993927002,
          0.19356627762317657,
          0.18808066844940186,
          0.1828743815422058,
          0.177928626537323,
          0.17322590947151184,
          0.16874992847442627,
          0.16448548436164856,
          0.16041870415210724,
          0.15653656423091888,
          0.15282680094242096,
          0.1492782086133957,
          0.14588040113449097,
          0.14262361824512482,
          0.1394989788532257,
          0.13649792969226837,
          0.13361293077468872,
          0.13083672523498535,
          0.12816275656223297,
          0.12558485567569733,
          0.1230972409248352,
          0.12069471180438995,
          0.1183723658323288,
          0.1161256656050682,
          0.1139504536986351,
          0.11184263974428177,
          0.10979883372783661,
          0.10781563818454742,
          0.10588991641998291,
          0.10401886701583862,
          0.1021997481584549,
          0.10043014585971832,
          0.09870779514312744,
          0.09703055024147034,
          0.09539640694856644,
          0.09380363672971725,
          0.09225045144557953,
          0.09073525667190552,
          0.08925659954547882,
          0.08781313896179199,
          0.08640354871749878,
          0.08502659946680069,
          0.08368122577667236,
          0.08236635476350784,
          0.08108098804950714,
          0.07982421666383743,
          0.07859513908624649,
          0.07739292085170746,
          0.07621681690216064,
          0.07506611943244934,
          0.07394010573625565,
          0.07283808290958405,
          0.07175945490598679,
          0.07070358842611313,
          0.0696699246764183,
          0.06865794956684113,
          0.06766713410615921,
          0.06669692695140839,
          0.06574689596891403,
          0.06481650471687317,
          0.06390541046857834,
          0.06301309168338776,
          0.062139179557561874,
          0.06128329038619995,
          0.06044498085975647,
          0.05962391942739487,
          0.058819711208343506,
          0.05803200230002403,
          0.05726044252514839,
          0.05650472268462181,
          0.05576442927122116,
          0.055039361119270325,
          0.05432914197444916,
          0.05363340303301811,
          0.05295193940401077,
          0.05228443071246147,
          0.05163058638572693,
          0.05099010467529297,
          0.0503627210855484,
          0.04974818229675293,
          0.04914626479148865,
          0.04855664446949959,
          0.04797908291220665,
          0.04741337522864342,
          0.046859223395586014,
          0.04631643369793892,
          0.04578471556305885,
          0.04526393488049507,
          0.04475381225347519,
          0.044254135340452194,
          0.04376468062400818,
          0.04328524321317673,
          0.04281562194228172,
          0.04235563799738884,
          0.04190504923462868,
          0.04146371781826019,
          0.04103143513202667,
          0.04060797020792961,
          0.04019317030906677,
          0.03978688269853592,
          0.03938890993595123,
          0.038999125361442566,
          0.03861729055643082,
          0.03824325650930405,
          0.037876904010772705,
          0.03751802071928978
         ]
        },
        {
         "name": "4 - Test Recording",
         "type": "scatter",
         "y": [
          1.4513477087020874,
          1.4143753051757812,
          1.3782038688659668,
          1.3430004119873047,
          1.3088250160217285,
          1.275675892829895,
          1.2435280084609985,
          1.2123496532440186,
          1.182108759880066,
          1.1527737379074097,
          1.124314546585083,
          1.0967028141021729,
          1.0699113607406616,
          1.0439136028289795,
          1.0186837911605835,
          0.9941974878311157,
          0.9704301357269287,
          0.9473584294319153,
          0.9249593019485474,
          0.9032101035118103,
          0.8820896148681641,
          0.8615760803222656,
          0.841649055480957,
          0.8222883343696594,
          0.8034744262695312,
          0.7851886749267578,
          0.7674123644828796,
          0.7501279711723328,
          0.7333180904388428,
          0.7169665098190308,
          0.701056957244873,
          0.6855741739273071,
          0.6705030798912048,
          0.6558296084403992,
          0.641539990901947,
          0.6276209950447083,
          0.6140600442886353,
          0.6008448600769043,
          0.587963879108429,
          0.5754058957099915,
          0.5631603002548218,
          0.5512169599533081,
          0.5395659804344177,
          0.5281979441642761,
          0.5171040296554565,
          0.5062755346298218,
          0.4957045018672943,
          0.48538288474082947,
          0.4753032922744751,
          0.46545857191085815,
          0.45584189891815186,
          0.4464466869831085,
          0.4372665584087372,
          0.42829573154449463,
          0.41952818632125854,
          0.41095858812332153,
          0.4025815725326538,
          0.39439207315444946,
          0.3863852024078369,
          0.37855616211891174,
          0.37090057134628296,
          0.3634140193462372,
          0.356092244386673,
          0.34893128275871277,
          0.34192705154418945,
          0.3350760340690613,
          0.3283744752407074,
          0.32181867957115173,
          0.3154054284095764,
          0.30913135409355164,
          0.30299320816993713,
          0.2969878613948822,
          0.2911122441291809,
          0.28536349534988403,
          0.2797386646270752,
          0.2742350697517395,
          0.2688499093055725,
          0.2635805606842041,
          0.25842443108558655,
          0.25337904691696167,
          0.24844196438789368,
          0.24361072480678558,
          0.23888303339481354,
          0.23425666987895966,
          0.22972936928272247,
          0.22529897093772888,
          0.22096343338489532,
          0.2167205512523651,
          0.21256837248802185,
          0.20850495994091034,
          0.2045283317565918,
          0.20063665509223938,
          0.19682806730270386,
          0.1931007355451584,
          0.18945294618606567,
          0.18588297069072723,
          0.18238908052444458,
          0.17896971106529236,
          0.17562320828437805,
          0.17234791815280914,
          0.1691424548625946,
          0.1660052388906479,
          0.1629348248243332,
          0.1599297672510147,
          0.15698863565921783,
          0.15411007404327393,
          0.15129278600215912,
          0.1485353261232376,
          0.14583651721477509,
          0.1431950181722641,
          0.14060963690280914,
          0.1380791813135147,
          0.1356024444103241,
          0.13317829370498657,
          0.1308055818080902,
          0.12848319113254547,
          0.1262100785970688,
          0.1239851713180542,
          0.12180741131305695,
          0.11967581510543823,
          0.11758938431739807,
          0.11554714292287827,
          0.11354812234640121,
          0.1115914136171341,
          0.10967610031366348,
          0.10780128091573715,
          0.10596611350774765,
          0.10416971892118454,
          0.10241123288869858,
          0.10068992525339127,
          0.09900493174791336,
          0.09735548496246338,
          0.09574082493782043,
          0.09416018426418304,
          0.0926128402352333,
          0.09109807759523392,
          0.08961520344018936,
          0.08816348016262054,
          0.08674229681491852,
          0.08535095304250717,
          0.08398883789777756,
          0.08265529572963715,
          0.08134971559047699,
          0.08007148653268814,
          0.07882003486156464,
          0.07759477198123932,
          0.07639513164758682,
          0.07522055506706238,
          0.0740705132484436,
          0.07294445484876633,
          0.07184188812971115,
          0.0707622766494751,
          0.06970513612031937,
          0.06866998225450516,
          0.06765633821487427,
          0.06666373461484909,
          0.0656917467713356,
          0.064739890396595,
          0.06380773335695267,
          0.06289487332105637,
          0.062000878155231476,
          0.061125341802835464,
          0.0602678619325161,
          0.059428054839372635,
          0.058605536818504333,
          0.05779993161559105,
          0.05701088160276413,
          0.056238047778606415,
          0.05548102781176567,
          0.054739534854888916,
          0.0540132001042366,
          0.05330171808600426,
          0.05260476469993591,
          0.0519220232963562,
          0.051253195852041245,
          0.05059797689318657,
          0.049956075847148895,
          0.04932720959186554,
          0.048711102455854416,
          0.04810748249292374,
          0.04751607030630112,
          0.04693662375211716,
          0.046368859708309174,
          0.045812565833330154,
          0.04526747763156891,
          0.04473334923386574,
          0.04420996829867363,
          0.04369707778096199,
          0.043194498866796494,
          0.04270198196172714,
          0.04221931844949722,
          0.04174630716443062,
          0.04128274321556091,
          0.04082842916250229,
          0.04038316011428833,
          0.039946749806404114,
          0.03951903060078621,
          0.0390997976064682,
          0.03868888318538666,
          0.03828611597418785
         ]
        },
        {
         "name": "4 - Train Recording",
         "type": "scatter",
         "y": [
          1.5197280645370483,
          1.4789108037948608,
          1.4388788938522339,
          1.3998982906341553,
          1.3620978593826294,
          1.3254899978637695,
          1.29004967212677,
          1.255740761756897,
          1.222524881362915,
          1.1903645992279053,
          1.1592243909835815,
          1.1290701627731323,
          1.0998700857162476,
          1.0715925693511963,
          1.0442073345184326,
          1.0176843404769897,
          0.9919955730438232,
          0.9671124219894409,
          0.9430078268051147,
          0.9196546673774719,
          0.8970270156860352,
          0.8750991225242615,
          0.8538466095924377,
          0.8332445025444031,
          0.8132699728012085,
          0.7938997149467468,
          0.7751115560531616,
          0.7568843364715576,
          0.7391967177391052,
          0.7220289707183838,
          0.7053614258766174,
          0.6891754865646362,
          0.6734530925750732,
          0.6581770181655884,
          0.6433305740356445,
          0.6288977265357971,
          0.6148630976676941,
          0.6012120246887207,
          0.5879305005073547,
          0.5750049948692322,
          0.5624226927757263,
          0.5501713156700134,
          0.5382391214370728,
          0.5266148447990417,
          0.5152878165245056,
          0.5042480230331421,
          0.49348562955856323,
          0.4829912483692169,
          0.472756028175354,
          0.46277177333831787,
          0.4530303478240967,
          0.443524032831192,
          0.4342455565929413,
          0.42518794536590576,
          0.4163445234298706,
          0.40770888328552246,
          0.399275004863739,
          0.3910370171070099,
          0.38298940658569336,
          0.37512677907943726,
          0.36744406819343567,
          0.3599364161491394,
          0.35259905457496643,
          0.3454274535179138,
          0.3384172320365906,
          0.33156442642211914,
          0.3248647153377533,
          0.31831440329551697,
          0.3119097948074341,
          0.3056471347808838,
          0.2995230257511139,
          0.2935341000556946,
          0.2876770496368408,
          0.2819487750530243,
          0.2763461470603943,
          0.2708662152290344,
          0.26550614833831787,
          0.2602631151676178,
          0.2551344037055969,
          0.2501174509525299,
          0.24520957469940186,
          0.24040839076042175,
          0.23571138083934784,
          0.23111626505851746,
          0.22662068903446198,
          0.2222224920988083,
          0.21791936457157135,
          0.21370932459831238,
          0.20959018170833588,
          0.20555998384952545,
          0.20161676406860352,
          0.1977585256099701,
          0.19398345053195953,
          0.190289705991745,
          0.18667550384998322,
          0.18313899636268616,
          0.17967860400676727,
          0.17629265785217285,
          0.1729794293642044,
          0.16973738372325897,
          0.1665649116039276,
          0.16346058249473572,
          0.1604229062795639,
          0.15745042264461517,
          0.15454167127609253,
          0.15169528126716614,
          0.14890991151332855,
          0.14618422091007233,
          0.14351695775985718,
          0.14090673625469208,
          0.1383524388074875,
          0.13585278391838074,
          0.1334066390991211,
          0.13101281225681305,
          0.12867017090320587,
          0.12637759745121002,
          0.12413404881954193,
          0.12193843722343445,
          0.11978968977928162,
          0.11768684536218643,
          0.11562889814376831,
          0.11361486464738846,
          0.11164379864931107,
          0.10971476137638092,
          0.1078268438577652,
          0.10597915202379227,
          0.10417082160711288,
          0.1024009957909584,
          0.10066883265972137,
          0.09897353500127792,
          0.0973142758011818,
          0.0956902951002121,
          0.09410083293914795,
          0.09254509955644608,
          0.09102240949869156,
          0.08953201770782471,
          0.08807322382926941,
          0.08664534986019135,
          0.0852477103471756,
          0.08387967199087143,
          0.08254056423902512,
          0.0812297835946083,
          0.07994668930768967,
          0.07869069278240204,
          0.07746120542287827,
          0.07625763863325119,
          0.07507942616939545,
          0.07392603904008865,
          0.07279692590236664,
          0.07169155776500702,
          0.07060940563678741,
          0.06954995542764664,
          0.06851274520158768,
          0.06749727576971054,
          0.06650306284427643,
          0.06552965939044952,
          0.06457661837339401,
          0.0636434555053711,
          0.06272978335618973,
          0.0618351586163044,
          0.06095917150378227,
          0.06010141968727112,
          0.059261489659547806,
          0.05843900144100189,
          0.05763358250260353,
          0.05684485659003258,
          0.05607246980071068,
          0.05531605705618858,
          0.054575271904468536,
          0.053849782794713974,
          0.05313925817608833,
          0.05244337022304535,
          0.05176180228590965,
          0.051094237715005875,
          0.050440385937690735,
          0.04979993775486946,
          0.049172621220350266,
          0.04855814576148987,
          0.04795622080564499,
          0.047366589307785034,
          0.04678898677229881,
          0.04622315987944603,
          0.045668840408325195,
          0.045125797390937805,
          0.044593773782253265,
          0.04407254233956337,
          0.043561868369579315,
          0.043061528354883194,
          0.042571309953927994,
          0.04209098219871521,
          0.041620347648859024,
          0.04115920513868332,
          0.040707338601350784,
          0.0402645580470562,
          0.03983066603541374,
          0.039405472576618195,
          0.03898881748318672,
          0.03858047351241112,
          0.038180314004421234,
          0.03778814896941185
         ]
        },
        {
         "name": "5 - Test Recording",
         "type": "scatter",
         "y": [
          10.822796821594238,
          10.237405776977539,
          9.682005882263184,
          9.153779983520508,
          8.652565956115723,
          8.177526473999023,
          7.727548122406006,
          7.301467418670654,
          6.8981475830078125,
          6.516513824462891,
          6.155540943145752,
          5.814257621765137,
          5.491731643676758,
          5.187067985534668,
          4.899404525756836,
          4.627906799316406,
          4.371771812438965,
          4.130220890045166,
          3.9025044441223145,
          3.687899589538574,
          3.4857070446014404,
          3.295257806777954,
          3.115907907485962,
          2.9470396041870117,
          2.788062334060669,
          2.638411045074463,
          2.4975476264953613,
          2.364960193634033,
          2.2401604652404785,
          2.1226866245269775,
          2.012099027633667,
          1.9079837799072266,
          1.8099488019943237,
          1.717624306678772,
          1.6306610107421875,
          1.5487308502197266,
          1.4715250730514526,
          1.39875328540802,
          1.330142855644226,
          1.2654380798339844,
          1.20439875125885,
          1.1468009948730469,
          1.0924339294433594,
          1.0411001443862915,
          0.9926151633262634,
          0.946806788444519,
          0.9035127758979797,
          0.8625822067260742,
          0.8238734006881714,
          0.7872541546821594,
          0.7526007294654846,
          0.7197969555854797,
          0.6887345314025879,
          0.659311830997467,
          0.6314338445663452,
          0.6050114631652832,
          0.579960823059082,
          0.5562040209770203,
          0.5336673259735107,
          0.512282133102417,
          0.4919833242893219,
          0.47271066904067993,
          0.45440664887428284,
          0.43701761960983276,
          0.42049336433410645,
          0.4047861397266388,
          0.38985127210617065,
          0.37564656138420105,
          0.3621322512626648,
          0.34927085041999817,
          0.33702701330184937,
          0.3253675103187561,
          0.3142605423927307,
          0.30367663502693176,
          0.29358747601509094,
          0.28396669030189514,
          0.27478909492492676,
          0.2660309672355652,
          0.25766974687576294,
          0.2496843785047531,
          0.24205483496189117,
          0.23476189374923706,
          0.22778774797916412,
          0.2211153358221054,
          0.2147286981344223,
          0.20861265063285828,
          0.20275260508060455,
          0.1971353143453598,
          0.1917477250099182,
          0.18657787144184113,
          0.18161417543888092,
          0.1768457591533661,
          0.17226257920265198,
          0.16785484552383423,
          0.1636134684085846,
          0.15952986478805542,
          0.15559597313404083,
          0.15180407464504242,
          0.1481470763683319,
          0.14461803436279297,
          0.141210675239563,
          0.1379188448190689,
          0.134737029671669,
          0.13165976107120514,
          0.12868201732635498,
          0.1257990151643753,
          0.12300645560026169,
          0.12029992789030075,
          0.11767556518316269,
          0.11512964218854904,
          0.11265869438648224,
          0.11025940626859665,
          0.10792867839336395,
          0.10566358268260956,
          0.10346142202615738,
          0.1013195812702179,
          0.09923559427261353,
          0.09720726311206818,
          0.09523231536149979,
          0.09330880641937256,
          0.0914347767829895,
          0.08960843831300735,
          0.08782804757356644,
          0.08609195798635483,
          0.08439875394105911,
          0.08274686336517334,
          0.08113501220941544,
          0.07956181466579437,
          0.07802612334489822,
          0.07652674615383148,
          0.075062595307827,
          0.07363253086805344,
          0.07223562896251678,
          0.07087094336748123,
          0.06953751295804977,
          0.06823449581861496,
          0.06696101278066635,
          0.06571629643440247,
          0.06449955701828003,
          0.06331010162830353,
          0.06214718893170357,
          0.061010126024484634,
          0.05989834666252136,
          0.05881112441420555,
          0.05774790793657303,
          0.056708067655563354,
          0.05569109320640564,
          0.05469639226794243,
          0.05372345447540283,
          0.05277176573872566,
          0.05184081569314003,
          0.050930120050907135,
          0.05003921687602997,
          0.04916766285896301,
          0.048314958810806274,
          0.047480762004852295,
          0.04666461423039436,
          0.04586609825491905,
          0.04508483037352562,
          0.044320400804281235,
          0.04357246682047844,
          0.04284059256315231,
          0.04212452471256256,
          0.04142384231090546,
          0.04073821008205414,
          0.04006729647517204,
          0.039410803467035294,
          0.03876836970448494,
          0.0381397008895874,
          0.0375245101749897,
          0.03692248463630676,
          0.036333341151475906,
          0.035756755620241165,
          0.03519251570105553,
          0.03464033082127571,
          0.034099917858839035,
          0.033571019768714905,
          0.03305339813232422,
          0.03254682198166847,
          0.03205099329352379,
          0.031565725803375244,
          0.031090760603547096,
          0.030625905841588974,
          0.030170895159244537,
          0.029725536704063416,
          0.02928962931036949,
          0.02886296436190605,
          0.028445309028029442,
          0.028036512434482574,
          0.027636362239718437,
          0.027244659140706062,
          0.026861246675252914,
          0.026485908776521683,
          0.026118488982319832,
          0.025758812204003334,
          0.025406723842024803,
          0.025062037631869316,
          0.024724595248699188,
          0.024394256994128227,
          0.024070877581834793
         ]
        },
        {
         "name": "5 - Train Recording",
         "type": "scatter",
         "y": [
          11.07209300994873,
          10.46712875366211,
          9.895242691040039,
          9.351364135742188,
          8.83519172668457,
          8.345871925354004,
          7.882278919219971,
          7.443234920501709,
          7.027594089508057,
          6.634261131286621,
          6.262203216552734,
          5.910436630249023,
          5.57801628112793,
          5.264035701751709,
          4.967618465423584,
          4.687918663024902,
          4.424117088317871,
          4.175421237945557,
          3.9410665035247803,
          3.720310926437378,
          3.5124399662017822,
          3.3167662620544434,
          3.13262677192688,
          2.959385395050049,
          2.7964322566986084,
          2.6431829929351807,
          2.4990792274475098,
          2.3635900020599365,
          2.236206293106079,
          2.1164467334747314,
          2.0038537979125977,
          1.897993564605713,
          1.7984554767608643,
          1.704851508140564,
          1.6168156862258911,
          1.5340025424957275,
          1.4560872316360474,
          1.3827636241912842,
          1.3137447834014893,
          1.24876070022583,
          1.1875580549240112,
          1.1299008131027222,
          1.0755656957626343,
          1.0243451595306396,
          0.976044237613678,
          0.9304814338684082,
          0.8874858617782593,
          0.8468987941741943,
          0.8085713982582092,
          0.772364616394043,
          0.7381486296653748,
          0.7058022022247314,
          0.6752119660377502,
          0.6462718844413757,
          0.6188831925392151,
          0.5929532051086426,
          0.5683953166007996,
          0.5451286435127258,
          0.5230774879455566,
          0.5021710395812988,
          0.4823427200317383,
          0.46353062987327576,
          0.4456762373447418,
          0.42872512340545654,
          0.4126259982585907,
          0.39733079075813293,
          0.38279420137405396,
          0.36897391080856323,
          0.3558299243450165,
          0.3433247208595276,
          0.3314228355884552,
          0.3200913071632385,
          0.3092986047267914,
          0.29901522397994995,
          0.2892131805419922,
          0.2798665463924408,
          0.27095040678977966,
          0.2624412477016449,
          0.25431719422340393,
          0.24655741453170776,
          0.23914222419261932,
          0.2320529669523239,
          0.22527213394641876,
          0.21878325939178467,
          0.21257059276103973,
          0.20661932229995728,
          0.20091558992862701,
          0.19544605910778046,
          0.19019845128059387,
          0.18516086041927338,
          0.1803222894668579,
          0.17567220330238342,
          0.171200692653656,
          0.16689841449260712,
          0.16275662183761597,
          0.15876692533493042,
          0.15492156147956848,
          0.1512131690979004,
          0.14763478934764862,
          0.14417974650859833,
          0.14084206521511078,
          0.13761577010154724,
          0.13449551165103912,
          0.13147608935832977,
          0.12855264544487,
          0.12572059035301208,
          0.12297569960355759,
          0.12031392753124237,
          0.11773140728473663,
          0.11522459238767624,
          0.11279015988111496,
          0.11042492836713791,
          0.1081259474158287,
          0.10589040070772171,
          0.1037156730890274,
          0.10159927606582642,
          0.0995388925075531,
          0.09753230959177017,
          0.09557746350765228,
          0.09367246925830841,
          0.09181545674800873,
          0.09000464528799057,
          0.0882384404540062,
          0.08651533722877502,
          0.08483380079269409,
          0.08319250494241714,
          0.08159010857343674,
          0.08002541959285736,
          0.07849722355604172,
          0.07700441032648087,
          0.0755460262298584,
          0.07412093877792358,
          0.07272820919752121,
          0.07136697322130203,
          0.07003635913133621,
          0.0687355175614357,
          0.06746359914541245,
          0.06621991097927094,
          0.06500373035669327,
          0.06381430476903915,
          0.06265096366405487,
          0.06151310354471207,
          0.06040007993578911,
          0.059311266988515854,
          0.05824612081050873,
          0.05720406025648117,
          0.056184545159339905,
          0.05518706142902374,
          0.0542110800743103,
          0.05325612425804138,
          0.052321720868349075,
          0.051407340914011,
          0.05051257461309433,
          0.04963703081011772,
          0.04878021776676178,
          0.04794172942638397,
          0.04712120071053505,
          0.04631819203495979,
          0.045532356947660446,
          0.044763270765542984,
          0.044010601937770844,
          0.043273959308862686,
          0.04255304113030434,
          0.04184747487306595,
          0.04115692898631096,
          0.04048106446862221,
          0.03981959819793701,
          0.03917219862341881,
          0.038538530468940735,
          0.03791835159063339,
          0.037311337888240814,
          0.03671719878911972,
          0.03613564744591713,
          0.035566460341215134,
          0.03500933572649956,
          0.03446401655673981,
          0.033930227160453796,
          0.03340773284435272,
          0.032896339893341064,
          0.032395727932453156,
          0.031905706971883774,
          0.03142603859305382,
          0.030956514179706573,
          0.030496878549456596,
          0.03004692681133747,
          0.02960648015141487,
          0.02917531505227089,
          0.028753239661455154,
          0.028340045362710953,
          0.02793555147945881,
          0.027539556846022606,
          0.027151912450790405,
          0.026772391051054,
          0.026400838047266006,
          0.026037074625492096,
          0.025680948048830032,
          0.02533230371773243,
          0.024990933015942574,
          0.024656733497977257,
          0.02432953007519245
         ]
        },
        {
         "name": "6 - Test Recording",
         "type": "scatter",
         "y": [
          15.424304962158203,
          14.700955390930176,
          14.001374244689941,
          13.327579498291016,
          12.680487632751465,
          12.05992603302002,
          11.465304374694824,
          10.895882606506348,
          10.350884437561035,
          9.829540252685547,
          9.331096649169922,
          8.854816436767578,
          8.399972915649414,
          7.965858459472656,
          7.551767349243164,
          7.157010555267334,
          6.780908107757568,
          6.422788619995117,
          6.081988334655762,
          5.757857322692871,
          5.449751853942871,
          5.157045364379883,
          4.879117488861084,
          4.615362644195557,
          4.365189075469971,
          4.128016471862793,
          3.903278350830078,
          3.690424919128418,
          3.488917827606201,
          3.2982354164123535,
          3.1178722381591797,
          2.947336435317993,
          2.7861528396606445,
          2.6338632106781006,
          2.490022897720337,
          2.354205369949341,
          2.225999116897583,
          2.105008125305176,
          1.9908534288406372,
          1.8831706047058105,
          1.7816113233566284,
          1.685842514038086,
          1.5955454111099243,
          1.510417103767395,
          1.4301682710647583,
          1.3545228242874146,
          1.2832207679748535,
          1.2160122394561768,
          1.1526623964309692,
          1.0929478406906128,
          1.0366578102111816,
          0.9835922122001648,
          0.9335622191429138,
          0.8863903284072876,
          0.841907799243927,
          0.7999563813209534,
          0.7603867053985596,
          0.7230585813522339,
          0.6878394484519958,
          0.6546050906181335,
          0.6232385039329529,
          0.5936293601989746,
          0.5656744241714478,
          0.539276659488678,
          0.5143445730209351,
          0.49079248309135437,
          0.46853959560394287,
          0.4475105404853821,
          0.42763370275497437,
          0.40884238481521606,
          0.3910737633705139,
          0.37426838278770447,
          0.35837075114250183,
          0.3433285355567932,
          0.32909247279167175,
          0.315616250038147,
          0.3028562366962433,
          0.29077133536338806,
          0.27932286262512207,
          0.268474280834198,
          0.2581912577152252,
          0.24844151735305786,
          0.23919439315795898,
          0.23042123019695282,
          0.22209489345550537,
          0.21418966352939606,
          0.20668159425258636,
          0.19954778254032135,
          0.19276690483093262,
          0.1863187551498413,
          0.18018415570259094,
          0.1743451952934265,
          0.16878490149974823,
          0.1634872406721115,
          0.15843725204467773,
          0.15362070500850677,
          0.14902430772781372,
          0.1446353942155838,
          0.1404421627521515,
          0.1364334672689438,
          0.13259878754615784,
          0.1289283186197281,
          0.12541286647319794,
          0.12204363942146301,
          0.1188124418258667,
          0.11571153998374939,
          0.11273378878831863,
          0.10987239331007004,
          0.10712089389562607,
          0.10447341203689575,
          0.10192432999610901,
          0.09946835041046143,
          0.09710060060024261,
          0.0948164239525795,
          0.09261148422956467,
          0.09048181027173996,
          0.08842352777719498,
          0.08643306791782379,
          0.08450711518526077,
          0.08264252543449402,
          0.08083641529083252,
          0.07908599823713303,
          0.07738867402076721,
          0.07574208825826645,
          0.07414393872022629,
          0.07259209454059601,
          0.07108459621667862,
          0.06961958855390549,
          0.06819526106119156,
          0.0668100044131279,
          0.06546224653720856,
          0.06415055692195892,
          0.06287351995706558,
          0.06162989139556885,
          0.06041841208934784,
          0.05923793837428093,
          0.058087367564439774,
          0.056965719908475876,
          0.05587197095155716,
          0.05480523779988289,
          0.05376463755965233,
          0.05274933949112892,
          0.05175855755805969,
          0.050791531801223755,
          0.049847569316625595,
          0.0489259772002697,
          0.048026107251644135,
          0.04714734107255936,
          0.046289071440696716,
          0.04545075073838234,
          0.04463182017207146,
          0.04383176937699318,
          0.04305005818605423,
          0.04228626564145088,
          0.04153987020254135,
          0.04081045836210251,
          0.040097590535879135,
          0.0394008494913578,
          0.03871983662247658,
          0.03805416449904442,
          0.03740342706441879,
          0.03676729276776314,
          0.0361454151570797,
          0.035537391901016235,
          0.03494296222925186,
          0.03436175361275673,
          0.03379347547888756,
          0.03323783352971077,
          0.0326944924890995,
          0.03216321021318436,
          0.031643666326999664,
          0.03113561123609543,
          0.030638759955763817,
          0.030152879655361176,
          0.029677705839276314,
          0.029212992638349533,
          0.028758477419614792,
          0.02831394597887993,
          0.02787921018898487,
          0.027453994378447533,
          0.027038101106882095,
          0.026631316170096397,
          0.026233436539769173,
          0.025844259187579155,
          0.02546357363462448,
          0.025091199204325676,
          0.02472693845629692,
          0.02437063679099083,
          0.024022120982408524,
          0.02368118055164814,
          0.023347655311226845,
          0.02302139811217785,
          0.022702228277921677,
          0.022390000522136688,
          0.022084539756178856,
          0.02178572677075863,
          0.021493375301361084,
          0.021207351237535477,
          0.02092754654586315,
          0.020653830841183662
         ]
        },
        {
         "name": "6 - Train Recording",
         "type": "scatter",
         "y": [
          14.782331466674805,
          14.087182998657227,
          13.417183876037598,
          12.77221393585205,
          12.153018951416016,
          11.559414863586426,
          10.990816116333008,
          10.446502685546875,
          9.925715446472168,
          9.427693367004395,
          8.951701164245605,
          8.497013092041016,
          8.062919616699219,
          7.648723602294922,
          7.253740310668945,
          6.877292156219482,
          6.518716335296631,
          6.177357196807861,
          5.852569580078125,
          5.5437188148498535,
          5.250181198120117,
          4.971347332000732,
          4.706614971160889,
          4.455399990081787,
          4.217127323150635,
          3.9912362098693848,
          3.77718186378479,
          3.574432849884033,
          3.3824708461761475,
          3.2007949352264404,
          3.0289194583892822,
          2.8663723468780518,
          2.712697982788086,
          2.567457914352417,
          2.4302265644073486,
          2.3005974292755127,
          2.1781773567199707,
          2.062589645385742,
          1.9534722566604614,
          1.850479245185852,
          1.753279685974121,
          1.6615573167800903,
          1.5750099420547485,
          1.4933503866195679,
          1.4163044691085815,
          1.3436121940612793,
          1.2750262022018433,
          1.2103118896484375,
          1.1492472887039185,
          1.0916215181350708,
          1.037235975265503,
          0.9859028458595276,
          0.9374442100524902,
          0.8916925191879272,
          0.8484905958175659,
          0.8076885938644409,
          0.7691469788551331,
          0.732733964920044,
          0.6983250975608826,
          0.665804386138916,
          0.6350616812705994,
          0.6059940457344055,
          0.5785044431686401,
          0.5525019764900208,
          0.5279011130332947,
          0.5046213865280151,
          0.48258712887763977,
          0.4617275595664978,
          0.441975861787796,
          0.4232691824436188,
          0.40554848313331604,
          0.3887580931186676,
          0.3728455901145935,
          0.3577617406845093,
          0.34346017241477966,
          0.32989737391471863,
          0.3170320391654968,
          0.3048250675201416,
          0.293239951133728,
          0.2822423279285431,
          0.27179938554763794,
          0.26188021898269653,
          0.25245583057403564,
          0.24349896609783173,
          0.23498335480690002,
          0.22688467800617218,
          0.21917976438999176,
          0.2118467092514038,
          0.20486490428447723,
          0.19821488857269287,
          0.19187811017036438,
          0.18583732843399048,
          0.18007585406303406,
          0.17457826435565948,
          0.1693299412727356,
          0.16431699693202972,
          0.15952639281749725,
          0.15494580566883087,
          0.15056350827217102,
          0.146368607878685,
          0.14235085248947144,
          0.13850033283233643,
          0.13480812311172485,
          0.13126541674137115,
          0.12786418199539185,
          0.12459661811590195,
          0.12145566940307617,
          0.11843448877334595,
          0.11552664637565613,
          0.11272622644901276,
          0.11002762615680695,
          0.10742557793855667,
          0.10491493344306946,
          0.10249122977256775,
          0.1001499816775322,
          0.0978870838880539,
          0.09569873660802841,
          0.09358128160238266,
          0.09153125435113907,
          0.08954557776451111,
          0.08762110769748688,
          0.08575514703989029,
          0.08394498378038406,
          0.08218817412853241,
          0.08048229664564133,
          0.07882525771856308,
          0.07721498608589172,
          0.07564950734376907,
          0.07412697374820709,
          0.07264570891857147,
          0.07120411098003387,
          0.06980060040950775,
          0.06843381375074387,
          0.0671023428440094,
          0.06580489873886108,
          0.06454026699066162,
          0.06330735236406326,
          0.06210500746965408,
          0.06093226745724678,
          0.05978812277317047,
          0.058671653270721436,
          0.05758200213313103,
          0.0565183199942112,
          0.055479805916547775,
          0.05446572229266167,
          0.05347532033920288,
          0.0525079108774662,
          0.05156286805868149,
          0.05063954368233681,
          0.04973728582262993,
          0.04885557293891907,
          0.04799383878707886,
          0.04715155065059662,
          0.04632817208766937,
          0.04552321881055832,
          0.04473622515797615,
          0.04396672919392586,
          0.04321428760886192,
          0.04247845709323883,
          0.041758857667446136,
          0.04105506092309952,
          0.04036669060587883,
          0.03969336301088333,
          0.039034731686115265,
          0.03839043527841568,
          0.037760116159915924,
          0.037143465131521225,
          0.036540161818265915,
          0.03594987839460373,
          0.03537233546376228,
          0.03480721637606621,
          0.03425424546003342,
          0.03371312841773033,
          0.03318360820412636,
          0.03266541659832001,
          0.03215829282999039,
          0.0316619835793972,
          0.031176239252090454,
          0.030700860545039177,
          0.030235566198825836,
          0.029780149459838867,
          0.0293344147503376,
          0.028898103162646294,
          0.028471024706959724,
          0.02805296704173088,
          0.027643736451864243,
          0.027243131771683693,
          0.0268509853631258,
          0.026467105373740196,
          0.026091281324625015,
          0.02572336420416832,
          0.02536318451166153,
          0.025010552257299423,
          0.024665316566824913,
          0.024327320978045464,
          0.02399640530347824,
          0.023672403767704964,
          0.023355158045887947,
          0.023044554516673088,
          0.022740447893738747
         ]
        },
        {
         "name": "7 - Test Recording",
         "type": "scatter",
         "y": [
          9.456409454345703,
          8.92207145690918,
          8.399919509887695,
          7.8996758460998535,
          7.423776626586914,
          6.9724016189575195,
          6.544939994812012,
          6.14053201675415,
          5.75823974609375,
          5.397131443023682,
          5.056295871734619,
          4.734854221343994,
          4.431953430175781,
          4.146764278411865,
          3.8784847259521484,
          3.626336097717285,
          3.389561176300049,
          3.1674270629882812,
          2.959218740463257,
          2.764244794845581,
          2.5818347930908203,
          2.41133975982666,
          2.252131223678589,
          2.1036019325256348,
          1.9651657342910767,
          1.8362573385238647,
          1.716332197189331,
          1.6048671007156372,
          1.5013585090637207,
          1.4053246974945068,
          1.3163025379180908,
          1.233851671218872,
          1.157549262046814,
          1.086992621421814,
          1.0217989683151245,
          0.9616037607192993,
          0.9060611724853516,
          0.8548429012298584,
          0.8076390027999878,
          0.7641562819480896,
          0.7241181135177612,
          0.687264621257782,
          0.6533505916595459,
          0.6221462488174438,
          0.5934363603591919,
          0.5670195817947388,
          0.5427080988883972,
          0.5203261375427246,
          0.4997110068798065,
          0.48071107268333435,
          0.4631858468055725,
          0.4470052719116211,
          0.4320494830608368,
          0.418207585811615,
          0.40537750720977783,
          0.3934657573699951,
          0.3823862373828888,
          0.3720603883266449,
          0.3624163866043091,
          0.35338881611824036,
          0.344917893409729,
          0.33694952726364136,
          0.3294345438480377,
          0.3223285675048828,
          0.315591424703598,
          0.30918702483177185,
          0.30308273434638977,
          0.29724937677383423,
          0.2916608154773712,
          0.2862935960292816,
          0.28112688660621643,
          0.27614203095436096,
          0.2713225483894348,
          0.26665377616882324,
          0.26212260127067566,
          0.2577177584171295,
          0.253429114818573,
          0.2492476850748062,
          0.24516569077968597,
          0.24117624759674072,
          0.23727330565452576,
          0.2334517538547516,
          0.22970691323280334,
          0.22603489458560944,
          0.22243212163448334,
          0.2188955843448639,
          0.21542268991470337,
          0.21201103925704956,
          0.2086586207151413,
          0.20536383986473083,
          0.20212505757808685,
          0.19894081354141235,
          0.19581009447574615,
          0.1927317976951599,
          0.18970483541488647,
          0.18672841787338257,
          0.18380187451839447,
          0.1809244155883789,
          0.178095281124115,
          0.17531396448612213,
          0.1725798100233078,
          0.1698922961950302,
          0.16725072264671326,
          0.16465474665164948,
          0.1621037721633911,
          0.15959717333316803,
          0.157134547829628,
          0.15471535921096802,
          0.15233910083770752,
          0.1500052809715271,
          0.14771334826946259,
          0.14546263217926025,
          0.14325278997421265,
          0.1410832405090332,
          0.13895343244075775,
          0.1368628442287445,
          0.13481095433235168,
          0.13279710710048676,
          0.1308208405971527,
          0.12888167798519135,
          0.1269790530204773,
          0.1251123547554016,
          0.12328103929758072,
          0.12148455530405045,
          0.11972236633300781,
          0.11799394339323044,
          0.11629866808652878,
          0.11463607847690582,
          0.11300557106733322,
          0.11140667647123337,
          0.10983887314796448,
          0.10830159485340118,
          0.10679425299167633,
          0.10531634092330933,
          0.10386741906404495,
          0.10244688391685486,
          0.10105428844690323,
          0.09968908131122589,
          0.09835079312324524,
          0.09703890979290009,
          0.09575299173593521,
          0.09449248015880585,
          0.09325704723596573,
          0.09204605221748352,
          0.09085915237665176,
          0.08969578891992569,
          0.08855559676885605,
          0.08743814378976822,
          0.08634290844202042,
          0.08526954054832458,
          0.08421763777732849,
          0.08318670094013214,
          0.08217637985944748,
          0.08118624985218048,
          0.08021589368581772,
          0.07926497608423233,
          0.07833308726549149,
          0.07741986215114594,
          0.07652488350868225,
          0.07564786076545715,
          0.0747884139418602,
          0.07394611090421677,
          0.07312069088220596,
          0.07231181114912033,
          0.07151917368173599,
          0.07074236869812012,
          0.0699811652302742,
          0.06923523545265198,
          0.06850415468215942,
          0.06778781116008759,
          0.06708576530218124,
          0.06639783084392548,
          0.06572362780570984,
          0.06506289541721344,
          0.06441547721624374,
          0.06378093361854553,
          0.06315910816192627,
          0.06254971772432327,
          0.061952535063028336,
          0.06136734411120415,
          0.06079377979040146,
          0.06023167446255684,
          0.05968077480792999,
          0.05914095416665077,
          0.058611851185560226,
          0.05809336155653,
          0.05758518725633621,
          0.05708717182278633,
          0.056599102914333344,
          0.05612071603536606,
          0.055651891976594925,
          0.05519245192408562,
          0.054742131382226944,
          0.054300833493471146,
          0.05386823043227196,
          0.05344431474804878,
          0.053028885275125504,
          0.05262170359492302,
          0.05222255364060402,
          0.05183140188455582
         ]
        },
        {
         "name": "7 - Train Recording",
         "type": "scatter",
         "y": [
          9.951565742492676,
          9.392501831054688,
          8.847047805786133,
          8.324112892150879,
          7.826268196105957,
          7.353757381439209,
          6.9059906005859375,
          6.482094764709473,
          6.081113338470459,
          5.702089786529541,
          5.344090461730957,
          5.006208419799805,
          4.687568187713623,
          4.38731575012207,
          4.104625701904297,
          3.8386995792388916,
          3.588756799697876,
          3.354041337966919,
          3.1338202953338623,
          2.927382230758667,
          2.734037160873413,
          2.5531156063079834,
          2.3839714527130127,
          2.225980281829834,
          2.0785374641418457,
          1.9410607814788818,
          1.8129894733428955,
          1.6937835216522217,
          1.5829238891601562,
          1.479912519454956,
          1.3842734098434448,
          1.2955492734909058,
          1.2133046388626099,
          1.137123465538025,
          1.0666080713272095,
          1.001381278038025,
          0.9410858154296875,
          0.8853797316551208,
          0.8339423537254333,
          0.7864689826965332,
          0.7426714897155762,
          0.7022792100906372,
          0.665036678314209,
          0.6307047605514526,
          0.5990574359893799,
          0.569884717464447,
          0.5429897904396057,
          0.5181883573532104,
          0.4953090250492096,
          0.4741925299167633,
          0.454690545797348,
          0.43666592240333557,
          0.4199913442134857,
          0.40454933047294617,
          0.3902313709259033,
          0.3769376277923584,
          0.3645763397216797,
          0.3530631363391876,
          0.34232088923454285,
          0.33227893710136414,
          0.32287269830703735,
          0.3140432834625244,
          0.3057371973991394,
          0.29790589213371277,
          0.2905051112174988,
          0.2834949195384979,
          0.27683916687965393,
          0.27050530910491943,
          0.264463871717453,
          0.258688360452652,
          0.2531551122665405,
          0.2478426694869995,
          0.24273203313350677,
          0.23780597746372223,
          0.23304934799671173,
          0.22844837605953217,
          0.2239910513162613,
          0.2196664959192276,
          0.21546506881713867,
          0.21137821674346924,
          0.20739832520484924,
          0.20351864397525787,
          0.19973324239253998,
          0.19603683054447174,
          0.19242456555366516,
          0.18889234960079193,
          0.18543638288974762,
          0.1820533573627472,
          0.17874038219451904,
          0.17549480497837067,
          0.1723141223192215,
          0.16919633746147156,
          0.16613946855068207,
          0.1631418615579605,
          0.1602017730474472,
          0.1573178917169571,
          0.15448889136314392,
          0.15171346068382263,
          0.14899049699306488,
          0.14631888270378113,
          0.14369772374629974,
          0.14112597703933716,
          0.13860277831554413,
          0.1361272633075714,
          0.13369861245155334,
          0.13131599128246307,
          0.1289786696434021,
          0.12668584287166595,
          0.12443681806325912,
          0.1222308799624443,
          0.120067298412323,
          0.11794532835483551,
          0.11586436629295349,
          0.11382372677326202,
          0.1118226945400238,
          0.10986068844795227,
          0.10793695598840714,
          0.10605093091726303,
          0.10420190542936325,
          0.10238935798406601,
          0.10061261057853699,
          0.09887102246284485,
          0.09716401994228363,
          0.09549097716808319,
          0.09385130554437637,
          0.09224439412355423,
          0.0906696617603302,
          0.08912656456232071,
          0.08761444687843323,
          0.08613283187150955,
          0.08468116074800491,
          0.08325882256031036,
          0.08186528831720352,
          0.08050001412630081,
          0.07916250824928284,
          0.07785217463970184,
          0.07656858116388321,
          0.07531113922595978,
          0.07407938688993454,
          0.0728728324174881,
          0.07169093191623688,
          0.07053329795598984,
          0.0693993791937828,
          0.06828882545232773,
          0.06720103323459625,
          0.06613561511039734,
          0.06509210914373398,
          0.06407013535499573,
          0.06306919455528259,
          0.06208889186382294,
          0.061128806322813034,
          0.06018858775496483,
          0.05926772579550743,
          0.058365918695926666,
          0.05748273804783821,
          0.05661782622337341,
          0.055770788341760635,
          0.05494127795100212,
          0.05412892997264862,
          0.0533333495259285,
          0.05255426466464996,
          0.05179132521152496,
          0.05104406923055649,
          0.0503123514354229,
          0.04959578812122345,
          0.048894017934799194,
          0.048206791281700134,
          0.0475337877869606,
          0.04687470570206642,
          0.046229224652051926,
          0.0455971285700798,
          0.04497809335589409,
          0.04437185451388359,
          0.043778132647275925,
          0.04319671168923378,
          0.042627278715372086,
          0.04206959903240204,
          0.04152347519993782,
          0.04098863899707794,
          0.040464792400598526,
          0.03995177522301674,
          0.03944933041930199,
          0.03895723447203636,
          0.03847529739141464,
          0.03800328075885773,
          0.03754102811217308,
          0.03708826005458832,
          0.03664481267333031,
          0.036210495978593826,
          0.035785116255283356,
          0.035368479788303375,
          0.03496044501662254,
          0.034560784697532654,
          0.03416933864355087,
          0.033785901963710785,
          0.03341035544872284,
          0.0330425500869751,
          0.03268231078982353,
          0.03232942894101143,
          0.031983789056539536
         ]
        },
        {
         "name": "8 - Test Recording",
         "type": "scatter",
         "y": [
          3.6558024883270264,
          3.511026382446289,
          3.369248151779175,
          3.2329063415527344,
          3.102489948272705,
          2.9779415130615234,
          2.8590352535247803,
          2.7455081939697266,
          2.6371002197265625,
          2.533566951751709,
          2.4346818923950195,
          2.3402323722839355,
          2.250019073486328,
          2.1638522148132324,
          2.0815513134002686,
          2.0029428005218506,
          1.9278614521026611,
          1.8561466932296753,
          1.7876455783843994,
          1.7222096920013428,
          1.6596965789794922,
          1.5999691486358643,
          1.5428950786590576,
          1.488348126411438,
          1.4362061023712158,
          1.3863521814346313,
          1.338674783706665,
          1.2930667400360107,
          1.2494257688522339,
          1.2076544761657715,
          1.1676591634750366,
          1.1293517351150513,
          1.0926482677459717,
          1.0574685335159302,
          1.0237362384796143,
          0.9913798570632935,
          0.9603311419487,
          0.9305261373519897,
          0.9019031524658203,
          0.8744055032730103,
          0.8479781746864319,
          0.822570264339447,
          0.7981335520744324,
          0.7746221423149109,
          0.7519928216934204,
          0.7302057147026062,
          0.7092218995094299,
          0.6890055537223816,
          0.6695222854614258,
          0.6507399678230286,
          0.6326284408569336,
          0.6151584982872009,
          0.5983030796051025,
          0.5820362567901611,
          0.5663338899612427,
          0.5511722564697266,
          0.5365298390388489,
          0.5223852396011353,
          0.5087187886238098,
          0.49551135301589966,
          0.482744961977005,
          0.4704022705554962,
          0.45846688747406006,
          0.4469228684902191,
          0.4357554614543915,
          0.42495012283325195,
          0.4144930839538574,
          0.4043712317943573,
          0.39457181096076965,
          0.38508284091949463,
          0.37589266896247864,
          0.36699002981185913,
          0.3583643138408661,
          0.35000526905059814,
          0.3419030010700226,
          0.3340481221675873,
          0.3264315724372864,
          0.3190445601940155,
          0.31187883019447327,
          0.304926335811615,
          0.2981792390346527,
          0.29163026809692383,
          0.2852722108364105,
          0.27909842133522034,
          0.27310219407081604,
          0.267277330160141,
          0.2616176903247833,
          0.25611767172813416,
          0.2507716119289398,
          0.24557416141033173,
          0.24052026867866516,
          0.23560495674610138,
          0.23082350194454193,
          0.22617149353027344,
          0.22164447605609894,
          0.21723830699920654,
          0.2129490226507187,
          0.20877274870872498,
          0.2047058641910553,
          0.20074468851089478,
          0.19688595831394196,
          0.193126380443573,
          0.189462810754776,
          0.18589219450950623,
          0.18241174519062042,
          0.17901861667633057,
          0.17571009695529938,
          0.1724836826324463,
          0.16933679580688477,
          0.16626720130443573,
          0.16327248513698578,
          0.16035056114196777,
          0.15749917924404144,
          0.1547163724899292,
          0.15200014412403107,
          0.14934858679771423,
          0.14675995707511902,
          0.1442323923110962,
          0.14176420867443085,
          0.13935376703739166,
          0.13699950277805328,
          0.13469986617565155,
          0.13245338201522827,
          0.13025857508182526,
          0.12811410427093506,
          0.12601862847805023,
          0.12397085130214691,
          0.12196950614452362,
          0.12001346051692963,
          0.11810140311717987,
          0.11623232066631317,
          0.11440505087375641,
          0.11261855065822601,
          0.11087179183959961,
          0.10916375368833542,
          0.10749348253011703,
          0.10585997253656387,
          0.10426241904497147,
          0.10269980877637863,
          0.10117138177156448,
          0.09967625141143799,
          0.09821358323097229,
          0.09678268432617188,
          0.09538275748491287,
          0.09401299804449081,
          0.0926726683974266,
          0.09136112779378891,
          0.09007767587900162,
          0.08882162719964981,
          0.08759236335754395,
          0.0863892212510109,
          0.0852116048336029,
          0.08405891805887222,
          0.08293057233095169,
          0.08182600140571594,
          0.08074472099542618,
          0.07968608289957047,
          0.0786496102809906,
          0.07763484120368958,
          0.07664123922586441,
          0.07566828280687332,
          0.07471562176942825,
          0.07378268241882324,
          0.07286906987428665,
          0.07197432965040207,
          0.07109805941581726,
          0.07023981213569641,
          0.06939920037984848,
          0.06857584416866302,
          0.0677693784236908,
          0.06697940081357956,
          0.06620556116104126,
          0.06544748693704605,
          0.06470486521720886,
          0.06397734582424164,
          0.06326457113027573,
          0.06256625801324844,
          0.06188206747174263,
          0.0612117201089859,
          0.06055483594536781,
          0.059911198914051056,
          0.05928055942058563,
          0.058662544935941696,
          0.05805693566799164,
          0.05746348574757576,
          0.056881923228502274,
          0.056311946362257004,
          0.055753353983163834,
          0.05520593374967575,
          0.054669372737407684,
          0.0541435182094574,
          0.05362808704376221,
          0.0531228743493557,
          0.05262770876288414,
          0.052142370492219925,
          0.05166659504175186,
          0.051200225949287415,
          0.05074305459856987,
          0.05029492452740669,
          0.04985559731721878
         ]
        },
        {
         "name": "8 - Train Recording",
         "type": "scatter",
         "y": [
          3.563952684402466,
          3.42032527923584,
          3.2798094749450684,
          3.1446268558502197,
          3.0153112411499023,
          2.8918235301971436,
          2.7739458084106445,
          2.6614153385162354,
          2.5539748668670654,
          2.4513797760009766,
          2.353405237197876,
          2.2598397731781006,
          2.170485258102417,
          2.085153579711914,
          2.00366473197937,
          1.9258471727371216,
          1.8515366315841675,
          1.7805743217468262,
          1.7128080129623413,
          1.6480908393859863,
          1.5862812995910645,
          1.5272434949874878,
          1.4708465337753296,
          1.4169644117355347,
          1.3654764890670776,
          1.3162671327590942,
          1.269225001335144,
          1.224244236946106,
          1.1812232732772827,
          1.1400648355484009,
          1.1006768941879272,
          1.062971591949463,
          1.0268654823303223,
          0.9922789335250854,
          0.9591363072395325,
          0.9273661375045776,
          0.8969011306762695,
          0.8676767945289612,
          0.8396327495574951,
          0.8127117156982422,
          0.786859393119812,
          0.7620249390602112,
          0.7381599545478821,
          0.7152188420295715,
          0.6931588649749756,
          0.6719390749931335,
          0.6515213847160339,
          0.6318696141242981,
          0.6129493713378906,
          0.594728410243988,
          0.5771761536598206,
          0.5602636933326721,
          0.5439634919166565,
          0.5282497406005859,
          0.5130975842475891,
          0.49848368763923645,
          0.48438581824302673,
          0.4707828760147095,
          0.45765456557273865,
          0.4449818730354309,
          0.43274638056755066,
          0.4209306538105011,
          0.40951797366142273,
          0.39849236607551575,
          0.38783884048461914,
          0.3775426149368286,
          0.3675897419452667,
          0.35796722769737244,
          0.348661869764328,
          0.33966150879859924,
          0.33095449209213257,
          0.32252949476242065,
          0.31437575817108154,
          0.30648288130760193,
          0.29884085059165955,
          0.2914402484893799,
          0.2842719852924347,
          0.27732720971107483,
          0.2705974876880646,
          0.26407477259635925,
          0.2577514350414276,
          0.25161993503570557,
          0.24567313492298126,
          0.23990434408187866,
          0.2343069463968277,
          0.22887465357780457,
          0.22360143065452576,
          0.21848158538341522,
          0.21350963413715363,
          0.2086801826953888,
          0.20398825407028198,
          0.19942887127399445,
          0.19499744474887848,
          0.19068953394889832,
          0.18650080263614655,
          0.18242715299129486,
          0.17846469581127167,
          0.17460964620113373,
          0.17085835337638855,
          0.16720740497112274,
          0.1636534035205841,
          0.16019323468208313,
          0.15682391822338104,
          0.15354236960411072,
          0.15034589171409607,
          0.14723168313503265,
          0.1441972702741623,
          0.14124011993408203,
          0.13835777342319489,
          0.13554799556732178,
          0.1328085958957672,
          0.13013742864131927,
          0.127532497048378,
          0.12499178200960159,
          0.12251338362693787,
          0.12009554356336594,
          0.11773648858070374,
          0.11543451249599457,
          0.1131880059838295,
          0.11099544167518616,
          0.10885527729988098,
          0.10676605254411697,
          0.10472632944583893,
          0.10273478180170059,
          0.10079008340835571,
          0.0988910049200058,
          0.09703626483678818,
          0.09522472321987152,
          0.0934552401304245,
          0.0917266458272934,
          0.09003793448209763,
          0.08838806301355362,
          0.086776003241539,
          0.08520077913999557,
          0.08366144448518753,
          0.08215709775686264,
          0.08068682998418808,
          0.07924981415271759,
          0.07784516364336014,
          0.07647210359573364,
          0.07512985169887543,
          0.07381762564182281,
          0.0725347101688385,
          0.07128038257360458,
          0.07005394250154495,
          0.06885462999343872,
          0.06768188625574112,
          0.06653501838445663,
          0.06541340798139572,
          0.06431647390127182,
          0.06324359029531479,
          0.062194183468818665,
          0.06116773188114166,
          0.06016360595822334,
          0.059181347489356995,
          0.05822046846151352,
          0.05728038772940636,
          0.056360650807619095,
          0.05546078830957413,
          0.054580334573984146,
          0.05371881276369095,
          0.052875816822052,
          0.052050888538360596,
          0.0512436218559742,
          0.05045362934470177,
          0.049680475145578384,
          0.048923783004283905,
          0.04818318411707878,
          0.047458305954933167,
          0.0467488057911396,
          0.04605431854724884,
          0.04537452384829521,
          0.04470905661582947,
          0.04405763000249863,
          0.04341989755630493,
          0.0427955687046051,
          0.04218434542417526,
          0.04158591851592064,
          0.04100000485777855,
          0.04042629897594452,
          0.03986457362771034,
          0.03931456059217453,
          0.038775984197854996,
          0.03824857994914055,
          0.03773213177919388,
          0.0372263640165329,
          0.03673107922077179,
          0.036246009171009064,
          0.0357709601521492,
          0.035305704921483994,
          0.03485003486275673,
          0.034403715282678604,
          0.03396656736731529,
          0.033538393676280975,
          0.03311898559331894,
          0.03270816057920456,
          0.032305750995874405,
          0.031911540776491165,
          0.031525369733572006,
          0.031147079542279243
         ]
        },
        {
         "name": "9 - Test Recording",
         "type": "scatter",
         "y": [
          16.34398078918457,
          15.36469554901123,
          14.420151710510254,
          13.524686813354492,
          12.68005657196045,
          11.884721755981445,
          11.136232376098633,
          10.432001113891602,
          9.769554138183594,
          9.146580696105957,
          8.560935020446777,
          8.010601043701172,
          7.49368143081665,
          7.008378505706787,
          6.552981853485107,
          6.125864028930664,
          5.725472927093506,
          5.350323677062988,
          4.999000549316406,
          4.670154094696045,
          4.362490177154541,
          4.074782371520996,
          3.805859327316284,
          3.5546064376831055,
          3.3199641704559326,
          3.10092830657959,
          2.896545171737671,
          2.70590877532959,
          2.5281643867492676,
          2.362501859664917,
          2.2081565856933594,
          2.064405679702759,
          1.9305685758590698,
          1.8060013055801392,
          1.6900980472564697,
          1.5822893381118774,
          1.482038140296936,
          1.388839840888977,
          1.302220344543457,
          1.221733808517456,
          1.14696204662323,
          1.0775126218795776,
          1.013016700744629,
          0.9531295895576477,
          0.8975279927253723,
          0.8459089994430542,
          0.797989547252655,
          0.7535049319267273,
          0.7122073173522949,
          0.6738654971122742,
          0.6382645964622498,
          0.6052025556564331,
          0.5744924545288086,
          0.5459596514701843,
          0.5194416046142578,
          0.49478721618652344,
          0.4718559682369232,
          0.4505177438259125,
          0.4306515157222748,
          0.41214531660079956,
          0.39489510655403137,
          0.37880462408065796,
          0.3637849688529968,
          0.34975361824035645,
          0.3366347551345825,
          0.32435810565948486,
          0.3128587603569031,
          0.3020769953727722,
          0.29195746779441833,
          0.2824498116970062,
          0.27350687980651855,
          0.2650855779647827,
          0.25714629888534546,
          0.2496526688337326,
          0.24257095158100128,
          0.235870361328125,
          0.22952254116535187,
          0.2235012948513031,
          0.21778273582458496,
          0.21234476566314697,
          0.20716702938079834,
          0.2022310495376587,
          0.19751964509487152,
          0.19301706552505493,
          0.18870875239372253,
          0.1845814734697342,
          0.18062293529510498,
          0.17682191729545593,
          0.17316798865795135,
          0.16965167224407196,
          0.16626407206058502,
          0.1629970818758011,
          0.159843310713768,
          0.15679576992988586,
          0.15384824573993683,
          0.1509946584701538,
          0.14822980761528015,
          0.14554855227470398,
          0.14294637739658356,
          0.14041881263256073,
          0.1379622220993042,
          0.13557283580303192,
          0.13324707746505737,
          0.1309821456670761,
          0.1287750005722046,
          0.12662290036678314,
          0.12452328950166702,
          0.12247401475906372,
          0.12047287076711655,
          0.11851777881383896,
          0.11660707741975784,
          0.11473899334669113,
          0.11291167885065079,
          0.1111239418387413,
          0.1093742847442627,
          0.10766134411096573,
          0.10598401725292206,
          0.10434103012084961,
          0.1027313619852066,
          0.10115409642457962,
          0.09960832446813583,
          0.09809304028749466,
          0.09660746157169342,
          0.09515088051557541,
          0.09372246265411377,
          0.09232158958911896,
          0.09094751626253128,
          0.08959964662790298,
          0.08827739208936691,
          0.08698031306266785,
          0.08570762723684311,
          0.08445906639099121,
          0.08323381841182709,
          0.08203163743019104,
          0.08085214346647263,
          0.0796947106719017,
          0.07855893671512604,
          0.07744452357292175,
          0.07635094225406647,
          0.07527793198823929,
          0.07422514259815216,
          0.07319210469722748,
          0.07217831909656525,
          0.07118365168571472,
          0.07020779699087143,
          0.06925024837255478,
          0.06831085681915283,
          0.06738919764757156,
          0.06648502498865128,
          0.06559792906045914,
          0.06472773104906082,
          0.0638740137219429,
          0.06303656101226807,
          0.06221510469913483,
          0.0614093616604805,
          0.0606190450489521,
          0.05984380096197128,
          0.05908343940973282,
          0.058337654918432236,
          0.057606227695941925,
          0.05688897520303726,
          0.05618540570139885,
          0.05549542233347893,
          0.05481882765889168,
          0.05415523424744606,
          0.053504638373851776,
          0.052866578102111816,
          0.052240945398807526,
          0.05162746459245682,
          0.051025912165641785,
          0.050436120480298996,
          0.049857717007398605,
          0.04929061979055405,
          0.04873459041118622,
          0.048189401626586914,
          0.04765485227108002,
          0.047130800783634186,
          0.04661702737212181,
          0.046113234013319016,
          0.04561934620141983,
          0.04513515159487724,
          0.04466037452220917,
          0.04419492930173874,
          0.04373864829540253,
          0.043291326612234116,
          0.04285278171300888,
          0.04242284223437309,
          0.042001307010650635,
          0.04158801585435867,
          0.04118291661143303,
          0.040785741060972214,
          0.040396418422460556,
          0.04001474007964134,
          0.039640508592128754,
          0.03927364945411682,
          0.0389140360057354,
          0.03856147453188896,
          0.03821592405438423,
          0.03787713497877121,
          0.03754497691988945
         ]
        },
        {
         "name": "9 - Train Recording",
         "type": "scatter",
         "y": [
          16.304889678955078,
          15.357373237609863,
          14.440498352050781,
          13.569149017333984,
          12.74548625946045,
          11.968294143676758,
          11.23537826538086,
          10.544384002685547,
          9.893036842346191,
          9.27921199798584,
          8.700929641723633,
          8.156335830688477,
          7.643681526184082,
          7.161313056945801,
          6.707656383514404,
          6.281207084655762,
          5.880535125732422,
          5.504266262054443,
          5.151092052459717,
          4.819757461547852,
          4.509066104888916,
          4.217870712280273,
          3.945080280303955,
          3.689650058746338,
          3.4505882263183594,
          3.2269465923309326,
          3.017826795578003,
          2.8223702907562256,
          2.639763116836548,
          2.4692344665527344,
          2.3100507259368896,
          2.161518096923828,
          2.0229783058166504,
          1.8938088417053223,
          1.773419976234436,
          1.661255121231079,
          1.5567883253097534,
          1.4595224857330322,
          1.3689887523651123,
          1.2847450971603394,
          1.2063742876052856,
          1.1334847211837769,
          1.0657062530517578,
          1.0026917457580566,
          0.944114625453949,
          0.8896682858467102,
          0.8390647172927856,
          0.7920345067977905,
          0.7483239769935608,
          0.7076970934867859,
          0.6699323058128357,
          0.6348227262496948,
          0.6021752953529358,
          0.5718094706535339,
          0.5435575842857361,
          0.5172629356384277,
          0.4927796721458435,
          0.4699729382991791,
          0.44871675968170166,
          0.42889460921287537,
          0.4103981852531433,
          0.3931269347667694,
          0.3769885003566742,
          0.36189648509025574,
          0.34777146577835083,
          0.33454036712646484,
          0.3221351206302643,
          0.3104930818080902,
          0.29955676198005676,
          0.2892727255821228,
          0.2795920670032501,
          0.2704693675041199,
          0.2618630528450012,
          0.2537350356578827,
          0.24604973196983337,
          0.23877492547035217,
          0.2318805605173111,
          0.22533918917179108,
          0.2191256582736969,
          0.21321655809879303,
          0.20759038627147675,
          0.20222771167755127,
          0.1971103399991989,
          0.19222140312194824,
          0.18754562735557556,
          0.18306884169578552,
          0.17877796292304993,
          0.17466109991073608,
          0.1707070767879486,
          0.16690568625926971,
          0.1632474660873413,
          0.15972357988357544,
          0.15632614493370056,
          0.15304765105247498,
          0.1498813033103943,
          0.14682051539421082,
          0.14385956525802612,
          0.1409929245710373,
          0.13821549713611603,
          0.13552263379096985,
          0.13291007280349731,
          0.13037358224391937,
          0.12790943682193756,
          0.12551438808441162,
          0.12318497896194458,
          0.12091822922229767,
          0.11871114373207092,
          0.11656129360198975,
          0.11446626484394073,
          0.1124236211180687,
          0.11043127626180649,
          0.10848738253116608,
          0.1065899208188057,
          0.10473717004060745,
          0.1029275506734848,
          0.10115942358970642,
          0.09943143278360367,
          0.09774219244718552,
          0.09609042853116989,
          0.09447503089904785,
          0.09289480745792389,
          0.09134865552186966,
          0.08983567357063293,
          0.08835482597351074,
          0.08690516650676727,
          0.08548593521118164,
          0.08409636467695236,
          0.08273553103208542,
          0.08140278607606888,
          0.08009755611419678,
          0.07881888002157211,
          0.07756641507148743,
          0.07633929699659348,
          0.07513699680566788,
          0.07395914942026138,
          0.07280497252941132,
          0.07167403399944305,
          0.07056578993797302,
          0.06947991997003555,
          0.06841573864221573,
          0.06737291812896729,
          0.06635092943906784,
          0.06534943729639053,
          0.06436777859926224,
          0.06340591609477997,
          0.06246323511004448,
          0.06153936684131622,
          0.060634009540081024,
          0.059746719896793365,
          0.05887707322835922,
          0.05802486836910248,
          0.057189665734767914,
          0.05637117102742195,
          0.0555691123008728,
          0.05478304997086525,
          0.054012686014175415,
          0.053257785737514496,
          0.052517928183078766,
          0.05179295316338539,
          0.05108245089650154,
          0.050386298447847366,
          0.049703966826200485,
          0.04903535172343254,
          0.04838015139102936,
          0.04773809388279915,
          0.04710895195603371,
          0.04649241268634796,
          0.04588829725980759,
          0.04529629275202751,
          0.04471614584326744,
          0.04414772614836693,
          0.04359066113829613,
          0.043044786900281906,
          0.04250989109277725,
          0.04198572412133217,
          0.041472066193819046,
          0.04096880927681923,
          0.04047561064362526,
          0.03999229893088341,
          0.03951875492930412,
          0.039054714143276215,
          0.038599893450737,
          0.03815430775284767,
          0.03771760314702988,
          0.03728969022631645,
          0.03687036782503128,
          0.036459460854530334,
          0.03605679050087929,
          0.03566213324666023,
          0.035275451838970184,
          0.034896545112133026,
          0.03452513739466667,
          0.03416123241186142,
          0.033804625272750854,
          0.03345508500933647,
          0.033112600445747375,
          0.032776977866888046,
          0.03244806453585625,
          0.032125748693943024,
          0.031809817999601364
         ]
        }
       ],
       "layout": {
        "template": {
         "data": {
          "bar": [
           {
            "error_x": {
             "color": "#2a3f5f"
            },
            "error_y": {
             "color": "#2a3f5f"
            },
            "marker": {
             "line": {
              "color": "#E5ECF6",
              "width": 0.5
             },
             "pattern": {
              "fillmode": "overlay",
              "size": 10,
              "solidity": 0.2
             }
            },
            "type": "bar"
           }
          ],
          "barpolar": [
           {
            "marker": {
             "line": {
              "color": "#E5ECF6",
              "width": 0.5
             },
             "pattern": {
              "fillmode": "overlay",
              "size": 10,
              "solidity": 0.2
             }
            },
            "type": "barpolar"
           }
          ],
          "carpet": [
           {
            "aaxis": {
             "endlinecolor": "#2a3f5f",
             "gridcolor": "white",
             "linecolor": "white",
             "minorgridcolor": "white",
             "startlinecolor": "#2a3f5f"
            },
            "baxis": {
             "endlinecolor": "#2a3f5f",
             "gridcolor": "white",
             "linecolor": "white",
             "minorgridcolor": "white",
             "startlinecolor": "#2a3f5f"
            },
            "type": "carpet"
           }
          ],
          "choropleth": [
           {
            "colorbar": {
             "outlinewidth": 0,
             "ticks": ""
            },
            "type": "choropleth"
           }
          ],
          "contour": [
           {
            "colorbar": {
             "outlinewidth": 0,
             "ticks": ""
            },
            "colorscale": [
             [
              0,
              "#0d0887"
             ],
             [
              0.1111111111111111,
              "#46039f"
             ],
             [
              0.2222222222222222,
              "#7201a8"
             ],
             [
              0.3333333333333333,
              "#9c179e"
             ],
             [
              0.4444444444444444,
              "#bd3786"
             ],
             [
              0.5555555555555556,
              "#d8576b"
             ],
             [
              0.6666666666666666,
              "#ed7953"
             ],
             [
              0.7777777777777778,
              "#fb9f3a"
             ],
             [
              0.8888888888888888,
              "#fdca26"
             ],
             [
              1,
              "#f0f921"
             ]
            ],
            "type": "contour"
           }
          ],
          "contourcarpet": [
           {
            "colorbar": {
             "outlinewidth": 0,
             "ticks": ""
            },
            "type": "contourcarpet"
           }
          ],
          "heatmap": [
           {
            "colorbar": {
             "outlinewidth": 0,
             "ticks": ""
            },
            "colorscale": [
             [
              0,
              "#0d0887"
             ],
             [
              0.1111111111111111,
              "#46039f"
             ],
             [
              0.2222222222222222,
              "#7201a8"
             ],
             [
              0.3333333333333333,
              "#9c179e"
             ],
             [
              0.4444444444444444,
              "#bd3786"
             ],
             [
              0.5555555555555556,
              "#d8576b"
             ],
             [
              0.6666666666666666,
              "#ed7953"
             ],
             [
              0.7777777777777778,
              "#fb9f3a"
             ],
             [
              0.8888888888888888,
              "#fdca26"
             ],
             [
              1,
              "#f0f921"
             ]
            ],
            "type": "heatmap"
           }
          ],
          "heatmapgl": [
           {
            "colorbar": {
             "outlinewidth": 0,
             "ticks": ""
            },
            "colorscale": [
             [
              0,
              "#0d0887"
             ],
             [
              0.1111111111111111,
              "#46039f"
             ],
             [
              0.2222222222222222,
              "#7201a8"
             ],
             [
              0.3333333333333333,
              "#9c179e"
             ],
             [
              0.4444444444444444,
              "#bd3786"
             ],
             [
              0.5555555555555556,
              "#d8576b"
             ],
             [
              0.6666666666666666,
              "#ed7953"
             ],
             [
              0.7777777777777778,
              "#fb9f3a"
             ],
             [
              0.8888888888888888,
              "#fdca26"
             ],
             [
              1,
              "#f0f921"
             ]
            ],
            "type": "heatmapgl"
           }
          ],
          "histogram": [
           {
            "marker": {
             "pattern": {
              "fillmode": "overlay",
              "size": 10,
              "solidity": 0.2
             }
            },
            "type": "histogram"
           }
          ],
          "histogram2d": [
           {
            "colorbar": {
             "outlinewidth": 0,
             "ticks": ""
            },
            "colorscale": [
             [
              0,
              "#0d0887"
             ],
             [
              0.1111111111111111,
              "#46039f"
             ],
             [
              0.2222222222222222,
              "#7201a8"
             ],
             [
              0.3333333333333333,
              "#9c179e"
             ],
             [
              0.4444444444444444,
              "#bd3786"
             ],
             [
              0.5555555555555556,
              "#d8576b"
             ],
             [
              0.6666666666666666,
              "#ed7953"
             ],
             [
              0.7777777777777778,
              "#fb9f3a"
             ],
             [
              0.8888888888888888,
              "#fdca26"
             ],
             [
              1,
              "#f0f921"
             ]
            ],
            "type": "histogram2d"
           }
          ],
          "histogram2dcontour": [
           {
            "colorbar": {
             "outlinewidth": 0,
             "ticks": ""
            },
            "colorscale": [
             [
              0,
              "#0d0887"
             ],
             [
              0.1111111111111111,
              "#46039f"
             ],
             [
              0.2222222222222222,
              "#7201a8"
             ],
             [
              0.3333333333333333,
              "#9c179e"
             ],
             [
              0.4444444444444444,
              "#bd3786"
             ],
             [
              0.5555555555555556,
              "#d8576b"
             ],
             [
              0.6666666666666666,
              "#ed7953"
             ],
             [
              0.7777777777777778,
              "#fb9f3a"
             ],
             [
              0.8888888888888888,
              "#fdca26"
             ],
             [
              1,
              "#f0f921"
             ]
            ],
            "type": "histogram2dcontour"
           }
          ],
          "mesh3d": [
           {
            "colorbar": {
             "outlinewidth": 0,
             "ticks": ""
            },
            "type": "mesh3d"
           }
          ],
          "parcoords": [
           {
            "line": {
             "colorbar": {
              "outlinewidth": 0,
              "ticks": ""
             }
            },
            "type": "parcoords"
           }
          ],
          "pie": [
           {
            "automargin": true,
            "type": "pie"
           }
          ],
          "scatter": [
           {
            "fillpattern": {
             "fillmode": "overlay",
             "size": 10,
             "solidity": 0.2
            },
            "type": "scatter"
           }
          ],
          "scatter3d": [
           {
            "line": {
             "colorbar": {
              "outlinewidth": 0,
              "ticks": ""
             }
            },
            "marker": {
             "colorbar": {
              "outlinewidth": 0,
              "ticks": ""
             }
            },
            "type": "scatter3d"
           }
          ],
          "scattercarpet": [
           {
            "marker": {
             "colorbar": {
              "outlinewidth": 0,
              "ticks": ""
             }
            },
            "type": "scattercarpet"
           }
          ],
          "scattergeo": [
           {
            "marker": {
             "colorbar": {
              "outlinewidth": 0,
              "ticks": ""
             }
            },
            "type": "scattergeo"
           }
          ],
          "scattergl": [
           {
            "marker": {
             "colorbar": {
              "outlinewidth": 0,
              "ticks": ""
             }
            },
            "type": "scattergl"
           }
          ],
          "scattermapbox": [
           {
            "marker": {
             "colorbar": {
              "outlinewidth": 0,
              "ticks": ""
             }
            },
            "type": "scattermapbox"
           }
          ],
          "scatterpolar": [
           {
            "marker": {
             "colorbar": {
              "outlinewidth": 0,
              "ticks": ""
             }
            },
            "type": "scatterpolar"
           }
          ],
          "scatterpolargl": [
           {
            "marker": {
             "colorbar": {
              "outlinewidth": 0,
              "ticks": ""
             }
            },
            "type": "scatterpolargl"
           }
          ],
          "scatterternary": [
           {
            "marker": {
             "colorbar": {
              "outlinewidth": 0,
              "ticks": ""
             }
            },
            "type": "scatterternary"
           }
          ],
          "surface": [
           {
            "colorbar": {
             "outlinewidth": 0,
             "ticks": ""
            },
            "colorscale": [
             [
              0,
              "#0d0887"
             ],
             [
              0.1111111111111111,
              "#46039f"
             ],
             [
              0.2222222222222222,
              "#7201a8"
             ],
             [
              0.3333333333333333,
              "#9c179e"
             ],
             [
              0.4444444444444444,
              "#bd3786"
             ],
             [
              0.5555555555555556,
              "#d8576b"
             ],
             [
              0.6666666666666666,
              "#ed7953"
             ],
             [
              0.7777777777777778,
              "#fb9f3a"
             ],
             [
              0.8888888888888888,
              "#fdca26"
             ],
             [
              1,
              "#f0f921"
             ]
            ],
            "type": "surface"
           }
          ],
          "table": [
           {
            "cells": {
             "fill": {
              "color": "#EBF0F8"
             },
             "line": {
              "color": "white"
             }
            },
            "header": {
             "fill": {
              "color": "#C8D4E3"
             },
             "line": {
              "color": "white"
             }
            },
            "type": "table"
           }
          ]
         },
         "layout": {
          "annotationdefaults": {
           "arrowcolor": "#2a3f5f",
           "arrowhead": 0,
           "arrowwidth": 1
          },
          "autotypenumbers": "strict",
          "coloraxis": {
           "colorbar": {
            "outlinewidth": 0,
            "ticks": ""
           }
          },
          "colorscale": {
           "diverging": [
            [
             0,
             "#8e0152"
            ],
            [
             0.1,
             "#c51b7d"
            ],
            [
             0.2,
             "#de77ae"
            ],
            [
             0.3,
             "#f1b6da"
            ],
            [
             0.4,
             "#fde0ef"
            ],
            [
             0.5,
             "#f7f7f7"
            ],
            [
             0.6,
             "#e6f5d0"
            ],
            [
             0.7,
             "#b8e186"
            ],
            [
             0.8,
             "#7fbc41"
            ],
            [
             0.9,
             "#4d9221"
            ],
            [
             1,
             "#276419"
            ]
           ],
           "sequential": [
            [
             0,
             "#0d0887"
            ],
            [
             0.1111111111111111,
             "#46039f"
            ],
            [
             0.2222222222222222,
             "#7201a8"
            ],
            [
             0.3333333333333333,
             "#9c179e"
            ],
            [
             0.4444444444444444,
             "#bd3786"
            ],
            [
             0.5555555555555556,
             "#d8576b"
            ],
            [
             0.6666666666666666,
             "#ed7953"
            ],
            [
             0.7777777777777778,
             "#fb9f3a"
            ],
            [
             0.8888888888888888,
             "#fdca26"
            ],
            [
             1,
             "#f0f921"
            ]
           ],
           "sequentialminus": [
            [
             0,
             "#0d0887"
            ],
            [
             0.1111111111111111,
             "#46039f"
            ],
            [
             0.2222222222222222,
             "#7201a8"
            ],
            [
             0.3333333333333333,
             "#9c179e"
            ],
            [
             0.4444444444444444,
             "#bd3786"
            ],
            [
             0.5555555555555556,
             "#d8576b"
            ],
            [
             0.6666666666666666,
             "#ed7953"
            ],
            [
             0.7777777777777778,
             "#fb9f3a"
            ],
            [
             0.8888888888888888,
             "#fdca26"
            ],
            [
             1,
             "#f0f921"
            ]
           ]
          },
          "colorway": [
           "#636efa",
           "#EF553B",
           "#00cc96",
           "#ab63fa",
           "#FFA15A",
           "#19d3f3",
           "#FF6692",
           "#B6E880",
           "#FF97FF",
           "#FECB52"
          ],
          "font": {
           "color": "#2a3f5f"
          },
          "geo": {
           "bgcolor": "white",
           "lakecolor": "white",
           "landcolor": "#E5ECF6",
           "showlakes": true,
           "showland": true,
           "subunitcolor": "white"
          },
          "hoverlabel": {
           "align": "left"
          },
          "hovermode": "closest",
          "mapbox": {
           "style": "light"
          },
          "paper_bgcolor": "white",
          "plot_bgcolor": "#E5ECF6",
          "polar": {
           "angularaxis": {
            "gridcolor": "white",
            "linecolor": "white",
            "ticks": ""
           },
           "bgcolor": "#E5ECF6",
           "radialaxis": {
            "gridcolor": "white",
            "linecolor": "white",
            "ticks": ""
           }
          },
          "scene": {
           "xaxis": {
            "backgroundcolor": "#E5ECF6",
            "gridcolor": "white",
            "gridwidth": 2,
            "linecolor": "white",
            "showbackground": true,
            "ticks": "",
            "zerolinecolor": "white"
           },
           "yaxis": {
            "backgroundcolor": "#E5ECF6",
            "gridcolor": "white",
            "gridwidth": 2,
            "linecolor": "white",
            "showbackground": true,
            "ticks": "",
            "zerolinecolor": "white"
           },
           "zaxis": {
            "backgroundcolor": "#E5ECF6",
            "gridcolor": "white",
            "gridwidth": 2,
            "linecolor": "white",
            "showbackground": true,
            "ticks": "",
            "zerolinecolor": "white"
           }
          },
          "shapedefaults": {
           "line": {
            "color": "#2a3f5f"
           }
          },
          "ternary": {
           "aaxis": {
            "gridcolor": "white",
            "linecolor": "white",
            "ticks": ""
           },
           "baxis": {
            "gridcolor": "white",
            "linecolor": "white",
            "ticks": ""
           },
           "bgcolor": "#E5ECF6",
           "caxis": {
            "gridcolor": "white",
            "linecolor": "white",
            "ticks": ""
           }
          },
          "title": {
           "x": 0.05
          },
          "xaxis": {
           "automargin": true,
           "gridcolor": "white",
           "linecolor": "white",
           "ticks": "",
           "title": {
            "standoff": 15
           },
           "zerolinecolor": "white",
           "zerolinewidth": 2
          },
          "yaxis": {
           "automargin": true,
           "gridcolor": "white",
           "linecolor": "white",
           "ticks": "",
           "title": {
            "standoff": 15
           },
           "zerolinecolor": "white",
           "zerolinewidth": 2
          }
         }
        },
        "title": {
         "text": "Loss Curve Rank 10"
        },
        "xaxis": {
         "title": {
          "text": "Iteration"
         }
        },
        "yaxis": {
         "title": {
          "text": "Loss"
         }
        }
       }
      }
     },
     "metadata": {},
     "output_type": "display_data"
    }
   ],
   "source": [
    "train_loss = np.array(train_loss)\n",
    "test_loss = np.array(test_loss)\n",
    "\n",
    "fig = go.Figure()\n",
    "for recording in range(TOTAL_RECORDINGS):\n",
    "    fig.add_trace(go.Scatter(y=test_loss[:, recording], name=f'{recording} - Test Recording'))\n",
    "    fig.add_trace(go.Scatter(y=train_loss[:, recording], name=f'{recording} - Train Recording'))\n",
    "fig.update_layout(title=f'Loss Curve Rank {RANK}', xaxis_title='Iteration', yaxis_title='Loss')\n",
    "fig.show()\n",
    "\n",
    "test_loss_reduced_rank = test_loss[-1]"
   ]
  },
  {
   "cell_type": "markdown",
   "metadata": {},
   "source": [
    "## Neural Network"
   ]
  },
  {
   "cell_type": "code",
   "execution_count": 22,
   "metadata": {},
   "outputs": [
    {
     "name": "stdout",
     "output_type": "stream",
     "text": [
      "Iteration 0, Train Loss [0.04368145763874054, 0.2794710397720337, 0.04422873258590698, 5.290378093719482, 0.0560423918068409, 1.6672255992889404, 0.9114725589752197, 0.95157790184021, 0.18406349420547485, 6.854626655578613], Test Loss [0.5450387597084045, 0.2752496302127838, 0.04928147792816162, 1.5378141403198242, 0.10560349375009537, 0.6041120290756226, 0.7634207606315613, 0.7432767748832703, 0.3207519054412842, 1.8562495708465576]\n"
     ]
    }
   ],
   "source": [
    "neural_network_model = NeuralNetworkModel(\n",
    "    n_recordings=TOTAL_RECORDINGS,\n",
    "    n_neurons_per_recording=[X_train[i].shape[1] for i in range(TOTAL_RECORDINGS)], \n",
    "    n_time_bins=TIME_BINS, \n",
    "    width=1000,\n",
    "    hidden_layers=3,\n",
    "    rank=RANK\n",
    ")\n",
    "\n",
    "if RANDOM_SEED != -1:\n",
    "    torch.manual_seed(RANDOM_SEED)\n",
    "\n",
    "# optimizer = torch.optim.Adam(model.parameters(), lr=0.001, weight_decay=0.01) 0.0455 best\n",
    "optimizer = torch.optim.Adam(neural_network_model.parameters(), lr=0.001, weight_decay=0.01)\n",
    "\n",
    "train_loss = []\n",
    "test_loss = []\n",
    "\n",
    "for training_iteration in range(TRAINING_ITERATIONS):\n",
    "    train_loss_iter, test_loss_iter = train_one_epoch(X_train, Y_train, X_test, Y_test, neural_network_model, optimizer, loss_fn)\n",
    "\n",
    "    if training_iteration % 100 == 0:\n",
    "        print(f'Iteration {training_iteration}, Train Loss {train_loss_iter}, Test Loss {test_loss_iter}')\n",
    "\n",
    "    train_loss.append(train_loss_iter)\n",
    "    test_loss.append(test_loss_iter)"
   ]
  },
  {
   "cell_type": "code",
   "execution_count": 23,
   "metadata": {},
   "outputs": [
    {
     "data": {
      "application/vnd.plotly.v1+json": {
       "config": {
        "plotlyServerURL": "https://plot.ly"
       },
       "data": [
        {
         "name": "0 - Test Recording",
         "type": "scatter",
         "y": [
          0.5450387597084045,
          0.3625775873661041,
          0.13090229034423828,
          0.3704562187194824,
          0.17142625153064728,
          0.07156196981668472,
          0.05216110125184059,
          0.035301778465509415,
          0.03247623145580292,
          0.029742274433374405,
          0.030946947634220123,
          0.02888024039566517,
          0.028918100520968437,
          0.028348669409751892,
          0.027934979647397995,
          0.02800169587135315,
          0.02773197740316391,
          0.02762853540480137,
          0.027546895667910576,
          0.027429740875959396
         ]
        },
        {
         "name": "0 - Train Recording",
         "type": "scatter",
         "y": [
          0.04368145763874054,
          0.11481595784425735,
          0.11837819963693619,
          0.2935565710067749,
          0.1545049250125885,
          0.04396557807922363,
          0.029237808659672737,
          0.01674032211303711,
          0.011187526397407055,
          0.00950063019990921,
          0.008592579513788223,
          0.007510276976972818,
          0.007020364981144667,
          0.0067292009480297565,
          0.006448472384363413,
          0.006288652773946524,
          0.0061274985782802105,
          0.006009900476783514,
          0.005916572641581297,
          0.005831169430166483
         ]
        },
        {
         "name": "1 - Test Recording",
         "type": "scatter",
         "y": [
          0.2752496302127838,
          0.6873517632484436,
          0.1555885523557663,
          0.583678662776947,
          0.19688521325588226,
          0.09177973121404648,
          0.04812672734260559,
          0.02265869453549385,
          0.02251856029033661,
          0.01950000412762165,
          0.02039775811135769,
          0.018306205049157143,
          0.01827101968228817,
          0.017398467287421227,
          0.017024587839841843,
          0.016857068985700607,
          0.016492895781993866,
          0.016288692131638527,
          0.01609964109957218,
          0.015917200595140457
         ]
        },
        {
         "name": "1 - Train Recording",
         "type": "scatter",
         "y": [
          0.2794710397720337,
          0.33859387040138245,
          0.15852102637290955,
          0.5993300676345825,
          0.17639915645122528,
          0.06093381717801094,
          0.03742583468556404,
          0.015948651358485222,
          0.015328512527048588,
          0.012929296121001244,
          0.013025587424635887,
          0.01170765794813633,
          0.011464543640613556,
          0.011001969687640667,
          0.010654104873538017,
          0.010520489886403084,
          0.010271084494888783,
          0.010112960822880268,
          0.009982358664274216,
          0.009858180768787861
         ]
        },
        {
         "name": "2 - Test Recording",
         "type": "scatter",
         "y": [
          0.04928147792816162,
          0.044902216643095016,
          0.03733694180846214,
          0.04154440760612488,
          0.03489116206765175,
          0.03566049039363861,
          0.03399965539574623,
          0.032467905431985855,
          0.03189992532134056,
          0.031032083556056023,
          0.030716434121131897,
          0.02994193695485592,
          0.029516439884901047,
          0.02890247292816639,
          0.02840770222246647,
          0.02794536016881466,
          0.02747173048555851,
          0.02704804390668869,
          0.0266412403434515,
          0.02625800110399723
         ]
        },
        {
         "name": "2 - Train Recording",
         "type": "scatter",
         "y": [
          0.04422873258590698,
          0.04145386815071106,
          0.03936277702450752,
          0.04100700467824936,
          0.0360269695520401,
          0.03662518039345741,
          0.03541254997253418,
          0.03398488461971283,
          0.03327930346131325,
          0.03243556618690491,
          0.03196989372372627,
          0.031241796910762787,
          0.030726352706551552,
          0.030118003487586975,
          0.029573002830147743,
          0.029077813029289246,
          0.028576254844665527,
          0.028118347749114037,
          0.02768310159444809,
          0.02727094292640686
         ]
        },
        {
         "name": "3 - Test Recording",
         "type": "scatter",
         "y": [
          1.5378141403198242,
          2.575927734375,
          0.23727291822433472,
          0.31881335377693176,
          0.13241878151893616,
          0.04196111112833023,
          0.028799109160900116,
          0.025875117629766464,
          0.022574184462428093,
          0.02138974331319332,
          0.019736822694540024,
          0.019048728048801422,
          0.018164746463298798,
          0.01778496615588665,
          0.01733771525323391,
          0.016958564519882202,
          0.016671087592840195,
          0.016364620998501778,
          0.01611158810555935,
          0.016001669690012932
         ]
        },
        {
         "name": "3 - Train Recording",
         "type": "scatter",
         "y": [
          5.290378093719482,
          23.613452911376953,
          0.4089222252368927,
          0.4479740560054779,
          0.12593714892864227,
          0.04727020859718323,
          0.03351530060172081,
          0.030570078641176224,
          0.027086449787020683,
          0.025907468050718307,
          0.024342667311429977,
          0.02356734126806259,
          0.022706016898155212,
          0.022110342979431152,
          0.021536072716116905,
          0.021005282178521156,
          0.020533032715320587,
          0.020045863464474678,
          0.019542986527085304,
          0.01899268664419651
         ]
        },
        {
         "name": "4 - Test Recording",
         "type": "scatter",
         "y": [
          0.10560349375009537,
          0.061040956526994705,
          0.06682664901018143,
          0.12433435767889023,
          0.06831098347902298,
          0.05109367519617081,
          0.03504804149270058,
          0.02811659500002861,
          0.028925443068146706,
          0.026593344286084175,
          0.028443558141589165,
          0.02609299123287201,
          0.026874354109168053,
          0.0256643146276474,
          0.02562260814011097,
          0.025410939007997513,
          0.025055143982172012,
          0.02491726353764534,
          0.024716375395655632,
          0.024546939879655838
         ]
        },
        {
         "name": "4 - Train Recording",
         "type": "scatter",
         "y": [
          0.0560423918068409,
          0.12840485572814941,
          0.05931611731648445,
          0.1422513872385025,
          0.07181619107723236,
          0.04820523038506508,
          0.03464432433247566,
          0.027836615219712257,
          0.028166335076093674,
          0.026076924055814743,
          0.027436383068561554,
          0.02545887790620327,
          0.025951506569981575,
          0.024957094341516495,
          0.024808267131447792,
          0.02461160160601139,
          0.0242626816034317,
          0.024100739508867264,
          0.02390075847506523,
          0.02372080087661743
         ]
        },
        {
         "name": "5 - Test Recording",
         "type": "scatter",
         "y": [
          0.6041120290756226,
          0.5033875703811646,
          0.6321876645088196,
          0.6365295648574829,
          0.5689377188682556,
          0.33505621552467346,
          0.10987146198749542,
          0.052688393741846085,
          0.041954658925533295,
          0.04200316593050957,
          0.029364265501499176,
          0.029409190639853477,
          0.021624816581606865,
          0.021175429224967957,
          0.0188493262976408,
          0.017790965735912323,
          0.01718764752149582,
          0.01625456102192402,
          0.01563432440161705,
          0.015050697140395641
         ]
        },
        {
         "name": "5 - Train Recording",
         "type": "scatter",
         "y": [
          1.6672255992889404,
          0.9639873504638672,
          1.2780766487121582,
          1.4682353734970093,
          0.6547548770904541,
          0.31427302956581116,
          0.09573788195848465,
          0.04319841414690018,
          0.036034438759088516,
          0.03506641089916229,
          0.025088798254728317,
          0.02314530685544014,
          0.017325635999441147,
          0.016287609934806824,
          0.014779641292989254,
          0.013968529179692268,
          0.013481768779456615,
          0.01285240426659584,
          0.012401120737195015,
          0.012005120515823364
         ]
        },
        {
         "name": "6 - Test Recording",
         "type": "scatter",
         "y": [
          0.7634207606315613,
          1.038673996925354,
          0.3652998208999634,
          0.178559347987175,
          0.140922412276268,
          0.0639442428946495,
          0.03598383814096451,
          0.026465855538845062,
          0.023261597380042076,
          0.021694891154766083,
          0.018980583176016808,
          0.01889319159090519,
          0.016830381006002426,
          0.016791803762316704,
          0.015647560358047485,
          0.015086491592228413,
          0.014682616107165813,
          0.014117876999080181,
          0.013740984722971916,
          0.013379777781665325
         ]
        },
        {
         "name": "6 - Train Recording",
         "type": "scatter",
         "y": [
          0.9114725589752197,
          0.9070796370506287,
          0.5611445307731628,
          0.19594046473503113,
          0.19641613960266113,
          0.08070814609527588,
          0.03667054325342178,
          0.023934077471494675,
          0.020009633153676987,
          0.01848018541932106,
          0.01621386967599392,
          0.015151948668062687,
          0.013262695632874966,
          0.01273885928094387,
          0.011891735717654228,
          0.011389090679585934,
          0.011028424836695194,
          0.010617783293128014,
          0.01031110156327486,
          0.010032898746430874
         ]
        },
        {
         "name": "7 - Test Recording",
         "type": "scatter",
         "y": [
          0.7432767748832703,
          1.1669459342956543,
          0.1182502955198288,
          0.08280257880687714,
          0.07855834066867828,
          0.062424544245004654,
          0.04275278002023697,
          0.037343334406614304,
          0.0360424630343914,
          0.034870848059654236,
          0.03484824672341347,
          0.03344720974564552,
          0.03351254388689995,
          0.032434653490781784,
          0.03229975327849388,
          0.031882114708423615,
          0.03149469196796417,
          0.03124091401696205,
          0.030928900465369225,
          0.03067045658826828
         ]
        },
        {
         "name": "7 - Train Recording",
         "type": "scatter",
         "y": [
          0.95157790184021,
          1.917482614517212,
          0.08977796882390976,
          0.06867841631174088,
          0.0958801805973053,
          0.046756401658058167,
          0.02577538974583149,
          0.02008393593132496,
          0.01926182396709919,
          0.018112795427441597,
          0.018095526844263077,
          0.016962142661213875,
          0.01686817780137062,
          0.016188159584999084,
          0.01599389873445034,
          0.01573196053504944,
          0.015479199588298798,
          0.015303785912692547,
          0.01511617936193943,
          0.014959949068725109
         ]
        },
        {
         "name": "8 - Test Recording",
         "type": "scatter",
         "y": [
          0.3207519054412842,
          0.23836210370063782,
          0.222387433052063,
          0.10823109745979309,
          0.06086314469575882,
          0.0655742958188057,
          0.043451566249132156,
          0.038908567279577255,
          0.037411753088235855,
          0.037585824728012085,
          0.03729298338294029,
          0.03643946349620819,
          0.03598957136273384,
          0.0349697545170784,
          0.034621670842170715,
          0.03402366116642952,
          0.03351673483848572,
          0.03312761336565018,
          0.03272484242916107,
          0.03240232542157173
         ]
        },
        {
         "name": "8 - Train Recording",
         "type": "scatter",
         "y": [
          0.18406349420547485,
          0.24569924175739288,
          0.16360154747962952,
          0.08343560993671417,
          0.041123297065496445,
          0.04755745083093643,
          0.027068980038166046,
          0.022298287600278854,
          0.021026086062192917,
          0.020496850833296776,
          0.020354831591248512,
          0.019622407853603363,
          0.019330160692334175,
          0.01861853152513504,
          0.01831374131143093,
          0.017910197377204895,
          0.01753642037510872,
          0.017243267968297005,
          0.016946811228990555,
          0.016692616045475006
         ]
        },
        {
         "name": "9 - Test Recording",
         "type": "scatter",
         "y": [
          1.8562495708465576,
          0.4497891962528229,
          0.9205726981163025,
          0.16823044419288635,
          0.09025734663009644,
          0.050819285213947296,
          0.039998866617679596,
          0.033513765782117844,
          0.02809319458901882,
          0.024299250915646553,
          0.022292446345090866,
          0.021154941990971565,
          0.020418871194124222,
          0.019519178196787834,
          0.019049305468797684,
          0.01854098215699196,
          0.018198145553469658,
          0.017920292913913727,
          0.01762702874839306,
          0.01744307391345501
         ]
        },
        {
         "name": "9 - Train Recording",
         "type": "scatter",
         "y": [
          6.854626655578613,
          1.5111503601074219,
          2.4164304733276367,
          0.16997049748897552,
          0.10956427454948425,
          0.044581588357686996,
          0.03299377113580704,
          0.026797285303473473,
          0.02257780358195305,
          0.019489483907818794,
          0.01796363852918148,
          0.016878066584467888,
          0.016081685200333595,
          0.015399869531393051,
          0.014877201989293098,
          0.014497058466076851,
          0.014198601245880127,
          0.013940457254648209,
          0.013716231100261211,
          0.01353464089334011
         ]
        }
       ],
       "layout": {
        "template": {
         "data": {
          "bar": [
           {
            "error_x": {
             "color": "#2a3f5f"
            },
            "error_y": {
             "color": "#2a3f5f"
            },
            "marker": {
             "line": {
              "color": "#E5ECF6",
              "width": 0.5
             },
             "pattern": {
              "fillmode": "overlay",
              "size": 10,
              "solidity": 0.2
             }
            },
            "type": "bar"
           }
          ],
          "barpolar": [
           {
            "marker": {
             "line": {
              "color": "#E5ECF6",
              "width": 0.5
             },
             "pattern": {
              "fillmode": "overlay",
              "size": 10,
              "solidity": 0.2
             }
            },
            "type": "barpolar"
           }
          ],
          "carpet": [
           {
            "aaxis": {
             "endlinecolor": "#2a3f5f",
             "gridcolor": "white",
             "linecolor": "white",
             "minorgridcolor": "white",
             "startlinecolor": "#2a3f5f"
            },
            "baxis": {
             "endlinecolor": "#2a3f5f",
             "gridcolor": "white",
             "linecolor": "white",
             "minorgridcolor": "white",
             "startlinecolor": "#2a3f5f"
            },
            "type": "carpet"
           }
          ],
          "choropleth": [
           {
            "colorbar": {
             "outlinewidth": 0,
             "ticks": ""
            },
            "type": "choropleth"
           }
          ],
          "contour": [
           {
            "colorbar": {
             "outlinewidth": 0,
             "ticks": ""
            },
            "colorscale": [
             [
              0,
              "#0d0887"
             ],
             [
              0.1111111111111111,
              "#46039f"
             ],
             [
              0.2222222222222222,
              "#7201a8"
             ],
             [
              0.3333333333333333,
              "#9c179e"
             ],
             [
              0.4444444444444444,
              "#bd3786"
             ],
             [
              0.5555555555555556,
              "#d8576b"
             ],
             [
              0.6666666666666666,
              "#ed7953"
             ],
             [
              0.7777777777777778,
              "#fb9f3a"
             ],
             [
              0.8888888888888888,
              "#fdca26"
             ],
             [
              1,
              "#f0f921"
             ]
            ],
            "type": "contour"
           }
          ],
          "contourcarpet": [
           {
            "colorbar": {
             "outlinewidth": 0,
             "ticks": ""
            },
            "type": "contourcarpet"
           }
          ],
          "heatmap": [
           {
            "colorbar": {
             "outlinewidth": 0,
             "ticks": ""
            },
            "colorscale": [
             [
              0,
              "#0d0887"
             ],
             [
              0.1111111111111111,
              "#46039f"
             ],
             [
              0.2222222222222222,
              "#7201a8"
             ],
             [
              0.3333333333333333,
              "#9c179e"
             ],
             [
              0.4444444444444444,
              "#bd3786"
             ],
             [
              0.5555555555555556,
              "#d8576b"
             ],
             [
              0.6666666666666666,
              "#ed7953"
             ],
             [
              0.7777777777777778,
              "#fb9f3a"
             ],
             [
              0.8888888888888888,
              "#fdca26"
             ],
             [
              1,
              "#f0f921"
             ]
            ],
            "type": "heatmap"
           }
          ],
          "heatmapgl": [
           {
            "colorbar": {
             "outlinewidth": 0,
             "ticks": ""
            },
            "colorscale": [
             [
              0,
              "#0d0887"
             ],
             [
              0.1111111111111111,
              "#46039f"
             ],
             [
              0.2222222222222222,
              "#7201a8"
             ],
             [
              0.3333333333333333,
              "#9c179e"
             ],
             [
              0.4444444444444444,
              "#bd3786"
             ],
             [
              0.5555555555555556,
              "#d8576b"
             ],
             [
              0.6666666666666666,
              "#ed7953"
             ],
             [
              0.7777777777777778,
              "#fb9f3a"
             ],
             [
              0.8888888888888888,
              "#fdca26"
             ],
             [
              1,
              "#f0f921"
             ]
            ],
            "type": "heatmapgl"
           }
          ],
          "histogram": [
           {
            "marker": {
             "pattern": {
              "fillmode": "overlay",
              "size": 10,
              "solidity": 0.2
             }
            },
            "type": "histogram"
           }
          ],
          "histogram2d": [
           {
            "colorbar": {
             "outlinewidth": 0,
             "ticks": ""
            },
            "colorscale": [
             [
              0,
              "#0d0887"
             ],
             [
              0.1111111111111111,
              "#46039f"
             ],
             [
              0.2222222222222222,
              "#7201a8"
             ],
             [
              0.3333333333333333,
              "#9c179e"
             ],
             [
              0.4444444444444444,
              "#bd3786"
             ],
             [
              0.5555555555555556,
              "#d8576b"
             ],
             [
              0.6666666666666666,
              "#ed7953"
             ],
             [
              0.7777777777777778,
              "#fb9f3a"
             ],
             [
              0.8888888888888888,
              "#fdca26"
             ],
             [
              1,
              "#f0f921"
             ]
            ],
            "type": "histogram2d"
           }
          ],
          "histogram2dcontour": [
           {
            "colorbar": {
             "outlinewidth": 0,
             "ticks": ""
            },
            "colorscale": [
             [
              0,
              "#0d0887"
             ],
             [
              0.1111111111111111,
              "#46039f"
             ],
             [
              0.2222222222222222,
              "#7201a8"
             ],
             [
              0.3333333333333333,
              "#9c179e"
             ],
             [
              0.4444444444444444,
              "#bd3786"
             ],
             [
              0.5555555555555556,
              "#d8576b"
             ],
             [
              0.6666666666666666,
              "#ed7953"
             ],
             [
              0.7777777777777778,
              "#fb9f3a"
             ],
             [
              0.8888888888888888,
              "#fdca26"
             ],
             [
              1,
              "#f0f921"
             ]
            ],
            "type": "histogram2dcontour"
           }
          ],
          "mesh3d": [
           {
            "colorbar": {
             "outlinewidth": 0,
             "ticks": ""
            },
            "type": "mesh3d"
           }
          ],
          "parcoords": [
           {
            "line": {
             "colorbar": {
              "outlinewidth": 0,
              "ticks": ""
             }
            },
            "type": "parcoords"
           }
          ],
          "pie": [
           {
            "automargin": true,
            "type": "pie"
           }
          ],
          "scatter": [
           {
            "fillpattern": {
             "fillmode": "overlay",
             "size": 10,
             "solidity": 0.2
            },
            "type": "scatter"
           }
          ],
          "scatter3d": [
           {
            "line": {
             "colorbar": {
              "outlinewidth": 0,
              "ticks": ""
             }
            },
            "marker": {
             "colorbar": {
              "outlinewidth": 0,
              "ticks": ""
             }
            },
            "type": "scatter3d"
           }
          ],
          "scattercarpet": [
           {
            "marker": {
             "colorbar": {
              "outlinewidth": 0,
              "ticks": ""
             }
            },
            "type": "scattercarpet"
           }
          ],
          "scattergeo": [
           {
            "marker": {
             "colorbar": {
              "outlinewidth": 0,
              "ticks": ""
             }
            },
            "type": "scattergeo"
           }
          ],
          "scattergl": [
           {
            "marker": {
             "colorbar": {
              "outlinewidth": 0,
              "ticks": ""
             }
            },
            "type": "scattergl"
           }
          ],
          "scattermapbox": [
           {
            "marker": {
             "colorbar": {
              "outlinewidth": 0,
              "ticks": ""
             }
            },
            "type": "scattermapbox"
           }
          ],
          "scatterpolar": [
           {
            "marker": {
             "colorbar": {
              "outlinewidth": 0,
              "ticks": ""
             }
            },
            "type": "scatterpolar"
           }
          ],
          "scatterpolargl": [
           {
            "marker": {
             "colorbar": {
              "outlinewidth": 0,
              "ticks": ""
             }
            },
            "type": "scatterpolargl"
           }
          ],
          "scatterternary": [
           {
            "marker": {
             "colorbar": {
              "outlinewidth": 0,
              "ticks": ""
             }
            },
            "type": "scatterternary"
           }
          ],
          "surface": [
           {
            "colorbar": {
             "outlinewidth": 0,
             "ticks": ""
            },
            "colorscale": [
             [
              0,
              "#0d0887"
             ],
             [
              0.1111111111111111,
              "#46039f"
             ],
             [
              0.2222222222222222,
              "#7201a8"
             ],
             [
              0.3333333333333333,
              "#9c179e"
             ],
             [
              0.4444444444444444,
              "#bd3786"
             ],
             [
              0.5555555555555556,
              "#d8576b"
             ],
             [
              0.6666666666666666,
              "#ed7953"
             ],
             [
              0.7777777777777778,
              "#fb9f3a"
             ],
             [
              0.8888888888888888,
              "#fdca26"
             ],
             [
              1,
              "#f0f921"
             ]
            ],
            "type": "surface"
           }
          ],
          "table": [
           {
            "cells": {
             "fill": {
              "color": "#EBF0F8"
             },
             "line": {
              "color": "white"
             }
            },
            "header": {
             "fill": {
              "color": "#C8D4E3"
             },
             "line": {
              "color": "white"
             }
            },
            "type": "table"
           }
          ]
         },
         "layout": {
          "annotationdefaults": {
           "arrowcolor": "#2a3f5f",
           "arrowhead": 0,
           "arrowwidth": 1
          },
          "autotypenumbers": "strict",
          "coloraxis": {
           "colorbar": {
            "outlinewidth": 0,
            "ticks": ""
           }
          },
          "colorscale": {
           "diverging": [
            [
             0,
             "#8e0152"
            ],
            [
             0.1,
             "#c51b7d"
            ],
            [
             0.2,
             "#de77ae"
            ],
            [
             0.3,
             "#f1b6da"
            ],
            [
             0.4,
             "#fde0ef"
            ],
            [
             0.5,
             "#f7f7f7"
            ],
            [
             0.6,
             "#e6f5d0"
            ],
            [
             0.7,
             "#b8e186"
            ],
            [
             0.8,
             "#7fbc41"
            ],
            [
             0.9,
             "#4d9221"
            ],
            [
             1,
             "#276419"
            ]
           ],
           "sequential": [
            [
             0,
             "#0d0887"
            ],
            [
             0.1111111111111111,
             "#46039f"
            ],
            [
             0.2222222222222222,
             "#7201a8"
            ],
            [
             0.3333333333333333,
             "#9c179e"
            ],
            [
             0.4444444444444444,
             "#bd3786"
            ],
            [
             0.5555555555555556,
             "#d8576b"
            ],
            [
             0.6666666666666666,
             "#ed7953"
            ],
            [
             0.7777777777777778,
             "#fb9f3a"
            ],
            [
             0.8888888888888888,
             "#fdca26"
            ],
            [
             1,
             "#f0f921"
            ]
           ],
           "sequentialminus": [
            [
             0,
             "#0d0887"
            ],
            [
             0.1111111111111111,
             "#46039f"
            ],
            [
             0.2222222222222222,
             "#7201a8"
            ],
            [
             0.3333333333333333,
             "#9c179e"
            ],
            [
             0.4444444444444444,
             "#bd3786"
            ],
            [
             0.5555555555555556,
             "#d8576b"
            ],
            [
             0.6666666666666666,
             "#ed7953"
            ],
            [
             0.7777777777777778,
             "#fb9f3a"
            ],
            [
             0.8888888888888888,
             "#fdca26"
            ],
            [
             1,
             "#f0f921"
            ]
           ]
          },
          "colorway": [
           "#636efa",
           "#EF553B",
           "#00cc96",
           "#ab63fa",
           "#FFA15A",
           "#19d3f3",
           "#FF6692",
           "#B6E880",
           "#FF97FF",
           "#FECB52"
          ],
          "font": {
           "color": "#2a3f5f"
          },
          "geo": {
           "bgcolor": "white",
           "lakecolor": "white",
           "landcolor": "#E5ECF6",
           "showlakes": true,
           "showland": true,
           "subunitcolor": "white"
          },
          "hoverlabel": {
           "align": "left"
          },
          "hovermode": "closest",
          "mapbox": {
           "style": "light"
          },
          "paper_bgcolor": "white",
          "plot_bgcolor": "#E5ECF6",
          "polar": {
           "angularaxis": {
            "gridcolor": "white",
            "linecolor": "white",
            "ticks": ""
           },
           "bgcolor": "#E5ECF6",
           "radialaxis": {
            "gridcolor": "white",
            "linecolor": "white",
            "ticks": ""
           }
          },
          "scene": {
           "xaxis": {
            "backgroundcolor": "#E5ECF6",
            "gridcolor": "white",
            "gridwidth": 2,
            "linecolor": "white",
            "showbackground": true,
            "ticks": "",
            "zerolinecolor": "white"
           },
           "yaxis": {
            "backgroundcolor": "#E5ECF6",
            "gridcolor": "white",
            "gridwidth": 2,
            "linecolor": "white",
            "showbackground": true,
            "ticks": "",
            "zerolinecolor": "white"
           },
           "zaxis": {
            "backgroundcolor": "#E5ECF6",
            "gridcolor": "white",
            "gridwidth": 2,
            "linecolor": "white",
            "showbackground": true,
            "ticks": "",
            "zerolinecolor": "white"
           }
          },
          "shapedefaults": {
           "line": {
            "color": "#2a3f5f"
           }
          },
          "ternary": {
           "aaxis": {
            "gridcolor": "white",
            "linecolor": "white",
            "ticks": ""
           },
           "baxis": {
            "gridcolor": "white",
            "linecolor": "white",
            "ticks": ""
           },
           "bgcolor": "#E5ECF6",
           "caxis": {
            "gridcolor": "white",
            "linecolor": "white",
            "ticks": ""
           }
          },
          "title": {
           "x": 0.05
          },
          "xaxis": {
           "automargin": true,
           "gridcolor": "white",
           "linecolor": "white",
           "ticks": "",
           "title": {
            "standoff": 15
           },
           "zerolinecolor": "white",
           "zerolinewidth": 2
          },
          "yaxis": {
           "automargin": true,
           "gridcolor": "white",
           "linecolor": "white",
           "ticks": "",
           "title": {
            "standoff": 15
           },
           "zerolinecolor": "white",
           "zerolinewidth": 2
          }
         }
        },
        "title": {
         "text": "Loss Curve Rank 10"
        },
        "xaxis": {
         "title": {
          "text": "Iteration"
         }
        },
        "yaxis": {
         "title": {
          "text": "Loss"
         }
        }
       }
      }
     },
     "metadata": {},
     "output_type": "display_data"
    }
   ],
   "source": [
    "train_loss = np.array(train_loss)\n",
    "test_loss = np.array(test_loss)\n",
    "\n",
    "fig = go.Figure()\n",
    "for recording in range(TOTAL_RECORDINGS):\n",
    "    fig.add_trace(go.Scatter(y=test_loss[:, recording], name=f'{recording} - Test Recording'))\n",
    "    fig.add_trace(go.Scatter(y=train_loss[:, recording], name=f'{recording} - Train Recording'))\n",
    "fig.update_layout(title=f'Loss Curve Rank {RANK}', xaxis_title='Iteration', yaxis_title='Loss')\n",
    "fig.show()\n",
    "\n",
    "test_loss_neural_network = test_loss[-1]"
   ]
  },
  {
   "cell_type": "markdown",
   "metadata": {},
   "source": [
    "## Continuous Decoder model"
   ]
  },
  {
   "cell_type": "code",
   "execution_count": 24,
   "metadata": {},
   "outputs": [
    {
     "name": "stdout",
     "output_type": "stream",
     "text": [
      "time-dependent:\n",
      "Chosen alpha: 1000\n",
      "r2: 0.023703685907214056 corr: 0.602334713989529 mse: 0.02609984434030187\n",
      "time-dependent:\n",
      "Chosen alpha: 1000\n",
      "r2: 0.5288564492666994 corr: 0.7459212248750491 mse: 0.010744662976213168\n",
      "time-dependent:\n",
      "Chosen alpha: 1000\n",
      "r2: 0.40063648594147305 corr: 0.6336715965011659 mse: 0.009499207473756724\n",
      "time-dependent:\n",
      "Chosen alpha: 100\n",
      "r2: 0.4416702067950975 corr: 0.7234400084282193 mse: 0.011385778440282907\n",
      "time-dependent:\n",
      "Chosen alpha: 1000\n",
      "r2: 0.36401567702226034 corr: 0.605232782251363 mse: 0.013783027509796413\n",
      "time-dependent:\n",
      "Chosen alpha: 1000\n",
      "r2: 0.40168433012938387 corr: 0.6432827369865283 mse: 0.008177470147140237\n",
      "time-dependent:\n",
      "Chosen alpha: 1000\n",
      "r2: 0.11144423350470001 corr: 0.6011051910835543 mse: 0.008109921274342824\n",
      "time-dependent:\n",
      "Chosen alpha: 1000\n",
      "r2: 0.39435689914926975 corr: 0.6750948398293547 mse: 0.02306805087832937\n",
      "time-dependent:\n",
      "Chosen alpha: 1000\n",
      "r2: 0.37662918606336293 corr: 0.6877414311746699 mse: 0.017574195474948984\n",
      "time-dependent:\n",
      "Chosen alpha: 1000\n",
      "r2: 0.5656093900945378 corr: 0.7610581827145093 mse: 0.013223941402229383\n"
     ]
    }
   ],
   "source": [
    "Y_pred_continuous_decoder = []\n",
    "test_loss_continuous_decoder = []\n",
    "\n",
    "for recording_session in range(TOTAL_RECORDINGS):\n",
    "    y_pred, evaluation = continuous_decoder(X_train[recording_session], Y_train[recording_session], X_test[recording_session], Y_test[recording_session], time_independent=False)\n",
    "    Y_pred_continuous_decoder.append(y_pred)\n",
    "    test_loss_continuous_decoder.append(evaluation[2])\n",
    "\n",
    "test_loss_continuous_decoder = np.array(test_loss_continuous_decoder)"
   ]
  },
  {
   "cell_type": "markdown",
   "metadata": {},
   "source": [
    "## Zero Predictor"
   ]
  },
  {
   "cell_type": "code",
   "execution_count": 25,
   "metadata": {},
   "outputs": [
    {
     "name": "stdout",
     "output_type": "stream",
     "text": [
      "Performance of zero predictor on training data: 0, Loss 0.013082008808851242\n",
      "Performance of zero predictor on training data: 1, Loss 0.03412018343806267\n",
      "Performance of zero predictor on training data: 2, Loss 0.04327685385942459\n",
      "Performance of zero predictor on training data: 3, Loss 0.06633462011814117\n",
      "Performance of zero predictor on training data: 4, Loss 0.053665388375520706\n",
      "Performance of zero predictor on training data: 5, Loss 0.03388050198554993\n",
      "Performance of zero predictor on training data: 6, Loss 0.03342223912477493\n",
      "Performance of zero predictor on training data: 7, Loss 0.05492505058646202\n",
      "Performance of zero predictor on training data: 8, Loss 0.048733361065387726\n",
      "Performance of zero predictor on training data: 9, Loss 0.07775436341762543\n"
     ]
    }
   ],
   "source": [
    "zero_predictor = ZeroPredictor()\n",
    "test_loss_zero_predictor = []\n",
    "\n",
    "for recording in range(TOTAL_RECORDINGS):\n",
    "    loss_item = evaluate_recording(recording, X_train[recording], Y_train[recording], zero_predictor, loss_fn, plot_num=0)\n",
    "    print(f'Performance of zero predictor on training data: {recording}, Loss {loss_item}')\n",
    "    test_loss_zero_predictor.append(loss_item)\n",
    "\n",
    "test_loss_zero_predictor = np.array(test_loss_zero_predictor)"
   ]
  },
  {
   "cell_type": "markdown",
   "metadata": {},
   "source": [
    "## Mean Predictor"
   ]
  },
  {
   "cell_type": "code",
   "execution_count": 26,
   "metadata": {},
   "outputs": [
    {
     "name": "stdout",
     "output_type": "stream",
     "text": [
      "Performance of zero predictor on training data: 0, Loss 0.004947812346117907\n",
      "Performance of zero predictor on training data: 1, Loss 0.006720211784004756\n",
      "Performance of zero predictor on training data: 2, Loss 0.008976126785998384\n",
      "Performance of zero predictor on training data: 3, Loss 0.016920646140708224\n",
      "Performance of zero predictor on training data: 4, Loss 0.014816321109973253\n",
      "Performance of zero predictor on training data: 5, Loss 0.008239859915209913\n",
      "Performance of zero predictor on training data: 6, Loss 0.008040015532512797\n",
      "Performance of zero predictor on training data: 7, Loss 0.012619350564626373\n",
      "Performance of zero predictor on training data: 8, Loss 0.009247272415757964\n",
      "Performance of zero predictor on training data: 9, Loss 0.012588139701469358\n"
     ]
    },
    {
     "name": "stderr",
     "output_type": "stream",
     "text": [
      "/home/berk/anaconda3/lib/python3.9/site-packages/torch/nn/modules/loss.py:530: UserWarning:\n",
      "\n",
      "Using a target size (torch.Size([620, 40])) that is different to the input size (torch.Size([40])). This will likely lead to incorrect results due to broadcasting. Please ensure they have the same size.\n",
      "\n",
      "/home/berk/anaconda3/lib/python3.9/site-packages/torch/nn/modules/loss.py:530: UserWarning:\n",
      "\n",
      "Using a target size (torch.Size([446, 40])) that is different to the input size (torch.Size([40])). This will likely lead to incorrect results due to broadcasting. Please ensure they have the same size.\n",
      "\n",
      "/home/berk/anaconda3/lib/python3.9/site-packages/torch/nn/modules/loss.py:530: UserWarning:\n",
      "\n",
      "Using a target size (torch.Size([372, 40])) that is different to the input size (torch.Size([40])). This will likely lead to incorrect results due to broadcasting. Please ensure they have the same size.\n",
      "\n",
      "/home/berk/anaconda3/lib/python3.9/site-packages/torch/nn/modules/loss.py:530: UserWarning:\n",
      "\n",
      "Using a target size (torch.Size([295, 40])) that is different to the input size (torch.Size([40])). This will likely lead to incorrect results due to broadcasting. Please ensure they have the same size.\n",
      "\n",
      "/home/berk/anaconda3/lib/python3.9/site-packages/torch/nn/modules/loss.py:530: UserWarning:\n",
      "\n",
      "Using a target size (torch.Size([363, 40])) that is different to the input size (torch.Size([40])). This will likely lead to incorrect results due to broadcasting. Please ensure they have the same size.\n",
      "\n",
      "/home/berk/anaconda3/lib/python3.9/site-packages/torch/nn/modules/loss.py:530: UserWarning:\n",
      "\n",
      "Using a target size (torch.Size([484, 40])) that is different to the input size (torch.Size([40])). This will likely lead to incorrect results due to broadcasting. Please ensure they have the same size.\n",
      "\n",
      "/home/berk/anaconda3/lib/python3.9/site-packages/torch/nn/modules/loss.py:530: UserWarning:\n",
      "\n",
      "Using a target size (torch.Size([333, 40])) that is different to the input size (torch.Size([40])). This will likely lead to incorrect results due to broadcasting. Please ensure they have the same size.\n",
      "\n",
      "/home/berk/anaconda3/lib/python3.9/site-packages/torch/nn/modules/loss.py:530: UserWarning:\n",
      "\n",
      "Using a target size (torch.Size([640, 40])) that is different to the input size (torch.Size([40])). This will likely lead to incorrect results due to broadcasting. Please ensure they have the same size.\n",
      "\n",
      "/home/berk/anaconda3/lib/python3.9/site-packages/torch/nn/modules/loss.py:530: UserWarning:\n",
      "\n",
      "Using a target size (torch.Size([396, 40])) that is different to the input size (torch.Size([40])). This will likely lead to incorrect results due to broadcasting. Please ensure they have the same size.\n",
      "\n",
      "/home/berk/anaconda3/lib/python3.9/site-packages/torch/nn/modules/loss.py:530: UserWarning:\n",
      "\n",
      "Using a target size (torch.Size([360, 40])) that is different to the input size (torch.Size([40])). This will likely lead to incorrect results due to broadcasting. Please ensure they have the same size.\n",
      "\n"
     ]
    }
   ],
   "source": [
    "mean_predictor = MeanPredictor(Y_train)\n",
    "test_loss_mean_predictor = []\n",
    "\n",
    "for recording in range(TOTAL_RECORDINGS):\n",
    "    loss_item = evaluate_recording(recording, X_train[recording], Y_train[recording], mean_predictor, loss_fn, plot_num=0)\n",
    "    print(f'Performance of zero predictor on training data: {recording}, Loss {loss_item}')\n",
    "    test_loss_mean_predictor.append(loss_item)\n",
    "\n",
    "test_loss_mean_predictor = np.array(test_loss_mean_predictor)"
   ]
  },
  {
   "cell_type": "code",
   "execution_count": 27,
   "metadata": {},
   "outputs": [
    {
     "data": {
      "application/vnd.plotly.v1+json": {
       "config": {
        "plotlyServerURL": "https://plot.ly"
       },
       "data": [
        {
         "name": "Zero Predictor",
         "type": "bar",
         "x": [
          0,
          1,
          2,
          3,
          4,
          5,
          6,
          7,
          8,
          9
         ],
         "y": [
          0.013082008808851242,
          0.03412018343806267,
          0.04327685385942459,
          0.06633462011814117,
          0.053665388375520706,
          0.03388050198554993,
          0.03342223912477493,
          0.05492505058646202,
          0.048733361065387726,
          0.07775436341762543
         ]
        },
        {
         "name": "Mean Predictor",
         "type": "bar",
         "x": [
          0,
          1,
          2,
          3,
          4,
          5,
          6,
          7,
          8,
          9
         ],
         "y": [
          0.004947812346117907,
          0.006720211784004756,
          0.008976126785998384,
          0.016920646140708224,
          0.014816321109973253,
          0.008239859915209913,
          0.008040015532512797,
          0.012619350564626373,
          0.009247272415757964,
          0.012588139701469358
         ]
        },
        {
         "name": "Reduced Rank",
         "type": "bar",
         "x": [
          0,
          1,
          2,
          3,
          4,
          5,
          6,
          7,
          8,
          9
         ],
         "y": [
          0.0354316271841526,
          0.03105049766600132,
          0.028589099645614624,
          0.031181303784251213,
          0.03828611597418785,
          0.024070877581834793,
          0.020653830841183662,
          0.05183140188455582,
          0.04985559731721878,
          0.03754497691988945
         ]
        },
        {
         "name": "Neural Network",
         "type": "bar",
         "x": [
          0,
          1,
          2,
          3,
          4,
          5,
          6,
          7,
          8,
          9
         ],
         "y": [
          0.027429740875959396,
          0.015917200595140457,
          0.02625800110399723,
          0.016001669690012932,
          0.024546939879655838,
          0.015050697140395641,
          0.013379777781665325,
          0.03067045658826828,
          0.03240232542157173,
          0.01744307391345501
         ]
        },
        {
         "name": "Continuous Decoder",
         "type": "bar",
         "x": [
          0,
          1,
          2,
          3,
          4,
          5,
          6,
          7,
          8,
          9
         ],
         "y": [
          0.02609984434030187,
          0.010744662976213168,
          0.009499207473756724,
          0.011385778440282907,
          0.013783027509796413,
          0.008177470147140237,
          0.008109921274342824,
          0.02306805087832937,
          0.017574195474948984,
          0.013223941402229383
         ]
        }
       ],
       "layout": {
        "template": {
         "data": {
          "bar": [
           {
            "error_x": {
             "color": "#2a3f5f"
            },
            "error_y": {
             "color": "#2a3f5f"
            },
            "marker": {
             "line": {
              "color": "#E5ECF6",
              "width": 0.5
             },
             "pattern": {
              "fillmode": "overlay",
              "size": 10,
              "solidity": 0.2
             }
            },
            "type": "bar"
           }
          ],
          "barpolar": [
           {
            "marker": {
             "line": {
              "color": "#E5ECF6",
              "width": 0.5
             },
             "pattern": {
              "fillmode": "overlay",
              "size": 10,
              "solidity": 0.2
             }
            },
            "type": "barpolar"
           }
          ],
          "carpet": [
           {
            "aaxis": {
             "endlinecolor": "#2a3f5f",
             "gridcolor": "white",
             "linecolor": "white",
             "minorgridcolor": "white",
             "startlinecolor": "#2a3f5f"
            },
            "baxis": {
             "endlinecolor": "#2a3f5f",
             "gridcolor": "white",
             "linecolor": "white",
             "minorgridcolor": "white",
             "startlinecolor": "#2a3f5f"
            },
            "type": "carpet"
           }
          ],
          "choropleth": [
           {
            "colorbar": {
             "outlinewidth": 0,
             "ticks": ""
            },
            "type": "choropleth"
           }
          ],
          "contour": [
           {
            "colorbar": {
             "outlinewidth": 0,
             "ticks": ""
            },
            "colorscale": [
             [
              0,
              "#0d0887"
             ],
             [
              0.1111111111111111,
              "#46039f"
             ],
             [
              0.2222222222222222,
              "#7201a8"
             ],
             [
              0.3333333333333333,
              "#9c179e"
             ],
             [
              0.4444444444444444,
              "#bd3786"
             ],
             [
              0.5555555555555556,
              "#d8576b"
             ],
             [
              0.6666666666666666,
              "#ed7953"
             ],
             [
              0.7777777777777778,
              "#fb9f3a"
             ],
             [
              0.8888888888888888,
              "#fdca26"
             ],
             [
              1,
              "#f0f921"
             ]
            ],
            "type": "contour"
           }
          ],
          "contourcarpet": [
           {
            "colorbar": {
             "outlinewidth": 0,
             "ticks": ""
            },
            "type": "contourcarpet"
           }
          ],
          "heatmap": [
           {
            "colorbar": {
             "outlinewidth": 0,
             "ticks": ""
            },
            "colorscale": [
             [
              0,
              "#0d0887"
             ],
             [
              0.1111111111111111,
              "#46039f"
             ],
             [
              0.2222222222222222,
              "#7201a8"
             ],
             [
              0.3333333333333333,
              "#9c179e"
             ],
             [
              0.4444444444444444,
              "#bd3786"
             ],
             [
              0.5555555555555556,
              "#d8576b"
             ],
             [
              0.6666666666666666,
              "#ed7953"
             ],
             [
              0.7777777777777778,
              "#fb9f3a"
             ],
             [
              0.8888888888888888,
              "#fdca26"
             ],
             [
              1,
              "#f0f921"
             ]
            ],
            "type": "heatmap"
           }
          ],
          "heatmapgl": [
           {
            "colorbar": {
             "outlinewidth": 0,
             "ticks": ""
            },
            "colorscale": [
             [
              0,
              "#0d0887"
             ],
             [
              0.1111111111111111,
              "#46039f"
             ],
             [
              0.2222222222222222,
              "#7201a8"
             ],
             [
              0.3333333333333333,
              "#9c179e"
             ],
             [
              0.4444444444444444,
              "#bd3786"
             ],
             [
              0.5555555555555556,
              "#d8576b"
             ],
             [
              0.6666666666666666,
              "#ed7953"
             ],
             [
              0.7777777777777778,
              "#fb9f3a"
             ],
             [
              0.8888888888888888,
              "#fdca26"
             ],
             [
              1,
              "#f0f921"
             ]
            ],
            "type": "heatmapgl"
           }
          ],
          "histogram": [
           {
            "marker": {
             "pattern": {
              "fillmode": "overlay",
              "size": 10,
              "solidity": 0.2
             }
            },
            "type": "histogram"
           }
          ],
          "histogram2d": [
           {
            "colorbar": {
             "outlinewidth": 0,
             "ticks": ""
            },
            "colorscale": [
             [
              0,
              "#0d0887"
             ],
             [
              0.1111111111111111,
              "#46039f"
             ],
             [
              0.2222222222222222,
              "#7201a8"
             ],
             [
              0.3333333333333333,
              "#9c179e"
             ],
             [
              0.4444444444444444,
              "#bd3786"
             ],
             [
              0.5555555555555556,
              "#d8576b"
             ],
             [
              0.6666666666666666,
              "#ed7953"
             ],
             [
              0.7777777777777778,
              "#fb9f3a"
             ],
             [
              0.8888888888888888,
              "#fdca26"
             ],
             [
              1,
              "#f0f921"
             ]
            ],
            "type": "histogram2d"
           }
          ],
          "histogram2dcontour": [
           {
            "colorbar": {
             "outlinewidth": 0,
             "ticks": ""
            },
            "colorscale": [
             [
              0,
              "#0d0887"
             ],
             [
              0.1111111111111111,
              "#46039f"
             ],
             [
              0.2222222222222222,
              "#7201a8"
             ],
             [
              0.3333333333333333,
              "#9c179e"
             ],
             [
              0.4444444444444444,
              "#bd3786"
             ],
             [
              0.5555555555555556,
              "#d8576b"
             ],
             [
              0.6666666666666666,
              "#ed7953"
             ],
             [
              0.7777777777777778,
              "#fb9f3a"
             ],
             [
              0.8888888888888888,
              "#fdca26"
             ],
             [
              1,
              "#f0f921"
             ]
            ],
            "type": "histogram2dcontour"
           }
          ],
          "mesh3d": [
           {
            "colorbar": {
             "outlinewidth": 0,
             "ticks": ""
            },
            "type": "mesh3d"
           }
          ],
          "parcoords": [
           {
            "line": {
             "colorbar": {
              "outlinewidth": 0,
              "ticks": ""
             }
            },
            "type": "parcoords"
           }
          ],
          "pie": [
           {
            "automargin": true,
            "type": "pie"
           }
          ],
          "scatter": [
           {
            "fillpattern": {
             "fillmode": "overlay",
             "size": 10,
             "solidity": 0.2
            },
            "type": "scatter"
           }
          ],
          "scatter3d": [
           {
            "line": {
             "colorbar": {
              "outlinewidth": 0,
              "ticks": ""
             }
            },
            "marker": {
             "colorbar": {
              "outlinewidth": 0,
              "ticks": ""
             }
            },
            "type": "scatter3d"
           }
          ],
          "scattercarpet": [
           {
            "marker": {
             "colorbar": {
              "outlinewidth": 0,
              "ticks": ""
             }
            },
            "type": "scattercarpet"
           }
          ],
          "scattergeo": [
           {
            "marker": {
             "colorbar": {
              "outlinewidth": 0,
              "ticks": ""
             }
            },
            "type": "scattergeo"
           }
          ],
          "scattergl": [
           {
            "marker": {
             "colorbar": {
              "outlinewidth": 0,
              "ticks": ""
             }
            },
            "type": "scattergl"
           }
          ],
          "scattermapbox": [
           {
            "marker": {
             "colorbar": {
              "outlinewidth": 0,
              "ticks": ""
             }
            },
            "type": "scattermapbox"
           }
          ],
          "scatterpolar": [
           {
            "marker": {
             "colorbar": {
              "outlinewidth": 0,
              "ticks": ""
             }
            },
            "type": "scatterpolar"
           }
          ],
          "scatterpolargl": [
           {
            "marker": {
             "colorbar": {
              "outlinewidth": 0,
              "ticks": ""
             }
            },
            "type": "scatterpolargl"
           }
          ],
          "scatterternary": [
           {
            "marker": {
             "colorbar": {
              "outlinewidth": 0,
              "ticks": ""
             }
            },
            "type": "scatterternary"
           }
          ],
          "surface": [
           {
            "colorbar": {
             "outlinewidth": 0,
             "ticks": ""
            },
            "colorscale": [
             [
              0,
              "#0d0887"
             ],
             [
              0.1111111111111111,
              "#46039f"
             ],
             [
              0.2222222222222222,
              "#7201a8"
             ],
             [
              0.3333333333333333,
              "#9c179e"
             ],
             [
              0.4444444444444444,
              "#bd3786"
             ],
             [
              0.5555555555555556,
              "#d8576b"
             ],
             [
              0.6666666666666666,
              "#ed7953"
             ],
             [
              0.7777777777777778,
              "#fb9f3a"
             ],
             [
              0.8888888888888888,
              "#fdca26"
             ],
             [
              1,
              "#f0f921"
             ]
            ],
            "type": "surface"
           }
          ],
          "table": [
           {
            "cells": {
             "fill": {
              "color": "#EBF0F8"
             },
             "line": {
              "color": "white"
             }
            },
            "header": {
             "fill": {
              "color": "#C8D4E3"
             },
             "line": {
              "color": "white"
             }
            },
            "type": "table"
           }
          ]
         },
         "layout": {
          "annotationdefaults": {
           "arrowcolor": "#2a3f5f",
           "arrowhead": 0,
           "arrowwidth": 1
          },
          "autotypenumbers": "strict",
          "coloraxis": {
           "colorbar": {
            "outlinewidth": 0,
            "ticks": ""
           }
          },
          "colorscale": {
           "diverging": [
            [
             0,
             "#8e0152"
            ],
            [
             0.1,
             "#c51b7d"
            ],
            [
             0.2,
             "#de77ae"
            ],
            [
             0.3,
             "#f1b6da"
            ],
            [
             0.4,
             "#fde0ef"
            ],
            [
             0.5,
             "#f7f7f7"
            ],
            [
             0.6,
             "#e6f5d0"
            ],
            [
             0.7,
             "#b8e186"
            ],
            [
             0.8,
             "#7fbc41"
            ],
            [
             0.9,
             "#4d9221"
            ],
            [
             1,
             "#276419"
            ]
           ],
           "sequential": [
            [
             0,
             "#0d0887"
            ],
            [
             0.1111111111111111,
             "#46039f"
            ],
            [
             0.2222222222222222,
             "#7201a8"
            ],
            [
             0.3333333333333333,
             "#9c179e"
            ],
            [
             0.4444444444444444,
             "#bd3786"
            ],
            [
             0.5555555555555556,
             "#d8576b"
            ],
            [
             0.6666666666666666,
             "#ed7953"
            ],
            [
             0.7777777777777778,
             "#fb9f3a"
            ],
            [
             0.8888888888888888,
             "#fdca26"
            ],
            [
             1,
             "#f0f921"
            ]
           ],
           "sequentialminus": [
            [
             0,
             "#0d0887"
            ],
            [
             0.1111111111111111,
             "#46039f"
            ],
            [
             0.2222222222222222,
             "#7201a8"
            ],
            [
             0.3333333333333333,
             "#9c179e"
            ],
            [
             0.4444444444444444,
             "#bd3786"
            ],
            [
             0.5555555555555556,
             "#d8576b"
            ],
            [
             0.6666666666666666,
             "#ed7953"
            ],
            [
             0.7777777777777778,
             "#fb9f3a"
            ],
            [
             0.8888888888888888,
             "#fdca26"
            ],
            [
             1,
             "#f0f921"
            ]
           ]
          },
          "colorway": [
           "#636efa",
           "#EF553B",
           "#00cc96",
           "#ab63fa",
           "#FFA15A",
           "#19d3f3",
           "#FF6692",
           "#B6E880",
           "#FF97FF",
           "#FECB52"
          ],
          "font": {
           "color": "#2a3f5f"
          },
          "geo": {
           "bgcolor": "white",
           "lakecolor": "white",
           "landcolor": "#E5ECF6",
           "showlakes": true,
           "showland": true,
           "subunitcolor": "white"
          },
          "hoverlabel": {
           "align": "left"
          },
          "hovermode": "closest",
          "mapbox": {
           "style": "light"
          },
          "paper_bgcolor": "white",
          "plot_bgcolor": "#E5ECF6",
          "polar": {
           "angularaxis": {
            "gridcolor": "white",
            "linecolor": "white",
            "ticks": ""
           },
           "bgcolor": "#E5ECF6",
           "radialaxis": {
            "gridcolor": "white",
            "linecolor": "white",
            "ticks": ""
           }
          },
          "scene": {
           "xaxis": {
            "backgroundcolor": "#E5ECF6",
            "gridcolor": "white",
            "gridwidth": 2,
            "linecolor": "white",
            "showbackground": true,
            "ticks": "",
            "zerolinecolor": "white"
           },
           "yaxis": {
            "backgroundcolor": "#E5ECF6",
            "gridcolor": "white",
            "gridwidth": 2,
            "linecolor": "white",
            "showbackground": true,
            "ticks": "",
            "zerolinecolor": "white"
           },
           "zaxis": {
            "backgroundcolor": "#E5ECF6",
            "gridcolor": "white",
            "gridwidth": 2,
            "linecolor": "white",
            "showbackground": true,
            "ticks": "",
            "zerolinecolor": "white"
           }
          },
          "shapedefaults": {
           "line": {
            "color": "#2a3f5f"
           }
          },
          "ternary": {
           "aaxis": {
            "gridcolor": "white",
            "linecolor": "white",
            "ticks": ""
           },
           "baxis": {
            "gridcolor": "white",
            "linecolor": "white",
            "ticks": ""
           },
           "bgcolor": "#E5ECF6",
           "caxis": {
            "gridcolor": "white",
            "linecolor": "white",
            "ticks": ""
           }
          },
          "title": {
           "x": 0.05
          },
          "xaxis": {
           "automargin": true,
           "gridcolor": "white",
           "linecolor": "white",
           "ticks": "",
           "title": {
            "standoff": 15
           },
           "zerolinecolor": "white",
           "zerolinewidth": 2
          },
          "yaxis": {
           "automargin": true,
           "gridcolor": "white",
           "linecolor": "white",
           "ticks": "",
           "title": {
            "standoff": 15
           },
           "zerolinecolor": "white",
           "zerolinewidth": 2
          }
         }
        },
        "title": {
         "text": "Loss Curve Rank 10"
        },
        "xaxis": {
         "title": {
          "text": "Recording Session"
         }
        },
        "yaxis": {
         "title": {
          "text": "Test MSE"
         }
        }
       }
      }
     },
     "metadata": {},
     "output_type": "display_data"
    }
   ],
   "source": [
    "fig = go.Figure()\n",
    "fig.add_trace(go.Bar(x=np.arange(TOTAL_RECORDINGS), y=test_loss_zero_predictor, name='Zero Predictor'))\n",
    "fig.add_trace(go.Bar(x=np.arange(TOTAL_RECORDINGS), y=test_loss_mean_predictor, name='Mean Predictor'))\n",
    "fig.add_trace(go.Bar(x=np.arange(TOTAL_RECORDINGS), y=test_loss_reduced_rank, name='Reduced Rank'))\n",
    "fig.add_trace(go.Bar(x=np.arange(TOTAL_RECORDINGS), y=test_loss_neural_network, name='Neural Network'))\n",
    "fig.add_trace(go.Bar(x=np.arange(TOTAL_RECORDINGS), y=test_loss_continuous_decoder, name='Continuous Decoder'))\n",
    "fig.update_layout(title=f'Loss Curve Rank {RANK}', xaxis_title='Recording Session', yaxis_title='Test MSE')\n",
    "fig.show()"
   ]
  },
  {
   "cell_type": "markdown",
   "metadata": {},
   "source": [
    "# Evaluation"
   ]
  },
  {
   "cell_type": "code",
   "execution_count": 28,
   "metadata": {},
   "outputs": [],
   "source": [
    "# Print all of the model parameters\n",
    "# for param in reduced_rank_model.parameters():\n",
    "#     print(param.data.shape)\n",
    "#     print(param.data)\n",
    "\n",
    "# print(f\"=== U matrices, length: {len(reduced_rank_model.Us)} ===\")\n",
    "# print(reduced_rank_model.Us)\n",
    "# print(f\"=== V matrices, shape: {reduced_rank_model.V.shape} ===\")\n",
    "# print(reduced_rank_model.V)\n",
    "# print(f\"=== bias, shape: {reduced_rank_model.bias.shape} ===\")\n",
    "# print(reduced_rank_model.bias)\n",
    "\n",
    "# print(reduced_rank_model.parameters())"
   ]
  },
  {
   "cell_type": "code",
   "execution_count": 29,
   "metadata": {},
   "outputs": [
    {
     "data": {
      "application/vnd.plotly.v1+json": {
       "config": {
        "plotlyServerURL": "https://plot.ly"
       },
       "data": [
        {
         "name": "Original",
         "type": "scatter",
         "y": [
          0.022402205779649523,
          0.023103310445120748,
          0.025085218554091536,
          0.029467291132785275,
          0.03780114020032739,
          0.051912288187648536,
          0.07363586567014123,
          0.10443794536208692,
          0.14498541830838105,
          0.19468667245005458,
          0.2513309186893345,
          0.31096960446544625,
          0.36817228881369846,
          0.41671347716257895,
          0.45061890141098493,
          0.4653524684305335,
          0.45882389431649306,
          0.4319005125205918,
          0.3882459114772991,
          0.33351288682015207,
          0.2741321371078639,
          0.2160635546673585,
          0.1638438226226136,
          0.12012799488653371,
          0.0857403413204738,
          0.06009228471669225,
          0.04175968475123176,
          0.029028368288741693,
          0.020291410919521555,
          0.014265348196527907,
          0.010027283509933638,
          0.006978162813279247,
          0.004761827460225876,
          0.003158134043371151,
          0.002021565669915279,
          0.0012450735757100586,
          0.0007381544663211612,
          0.00042464746072856034,
          0.00024730345872887687,
          0.00016843860162339257
         ]
        },
        {
         "name": "Prediction",
         "type": "scatter",
         "y": [
          0.007023416894136707,
          0.007904254578642914,
          0.009899360559185787,
          0.013446305675331654,
          0.019117011221017822,
          0.02750314110849219,
          0.039058619322707946,
          0.05391780368073875,
          0.07173731356040453,
          0.09161439479385246,
          0.11212768127003159,
          0.13151679844423694,
          0.14797066580127186,
          0.15995193096033097,
          0.16646935357395126,
          0.16722689331422116,
          0.16261999966077464,
          0.15359905145761127,
          0.1414544215894084,
          0.12758682288266834,
          0.11331300599321643,
          0.09973057700443896,
          0.08764491522734194,
          0.07754731299267015,
          0.06963188664282328,
          0.06383960416047584,
          0.059920397752304136,
          0.05750397015153716,
          0.056170272463776386,
          0.05550802547887561,
          0.0551553989794096,
          0.05482638565986821,
          0.05432289033121397,
          0.05353845961426,
          0.052458917197501856,
          0.05115575288106586,
          0.04977000248862479,
          0.04848591304564723,
          0.04749478268168912,
          0.04695461092518252
         ]
        }
       ],
       "layout": {
        "template": {
         "data": {
          "bar": [
           {
            "error_x": {
             "color": "#2a3f5f"
            },
            "error_y": {
             "color": "#2a3f5f"
            },
            "marker": {
             "line": {
              "color": "#E5ECF6",
              "width": 0.5
             },
             "pattern": {
              "fillmode": "overlay",
              "size": 10,
              "solidity": 0.2
             }
            },
            "type": "bar"
           }
          ],
          "barpolar": [
           {
            "marker": {
             "line": {
              "color": "#E5ECF6",
              "width": 0.5
             },
             "pattern": {
              "fillmode": "overlay",
              "size": 10,
              "solidity": 0.2
             }
            },
            "type": "barpolar"
           }
          ],
          "carpet": [
           {
            "aaxis": {
             "endlinecolor": "#2a3f5f",
             "gridcolor": "white",
             "linecolor": "white",
             "minorgridcolor": "white",
             "startlinecolor": "#2a3f5f"
            },
            "baxis": {
             "endlinecolor": "#2a3f5f",
             "gridcolor": "white",
             "linecolor": "white",
             "minorgridcolor": "white",
             "startlinecolor": "#2a3f5f"
            },
            "type": "carpet"
           }
          ],
          "choropleth": [
           {
            "colorbar": {
             "outlinewidth": 0,
             "ticks": ""
            },
            "type": "choropleth"
           }
          ],
          "contour": [
           {
            "colorbar": {
             "outlinewidth": 0,
             "ticks": ""
            },
            "colorscale": [
             [
              0,
              "#0d0887"
             ],
             [
              0.1111111111111111,
              "#46039f"
             ],
             [
              0.2222222222222222,
              "#7201a8"
             ],
             [
              0.3333333333333333,
              "#9c179e"
             ],
             [
              0.4444444444444444,
              "#bd3786"
             ],
             [
              0.5555555555555556,
              "#d8576b"
             ],
             [
              0.6666666666666666,
              "#ed7953"
             ],
             [
              0.7777777777777778,
              "#fb9f3a"
             ],
             [
              0.8888888888888888,
              "#fdca26"
             ],
             [
              1,
              "#f0f921"
             ]
            ],
            "type": "contour"
           }
          ],
          "contourcarpet": [
           {
            "colorbar": {
             "outlinewidth": 0,
             "ticks": ""
            },
            "type": "contourcarpet"
           }
          ],
          "heatmap": [
           {
            "colorbar": {
             "outlinewidth": 0,
             "ticks": ""
            },
            "colorscale": [
             [
              0,
              "#0d0887"
             ],
             [
              0.1111111111111111,
              "#46039f"
             ],
             [
              0.2222222222222222,
              "#7201a8"
             ],
             [
              0.3333333333333333,
              "#9c179e"
             ],
             [
              0.4444444444444444,
              "#bd3786"
             ],
             [
              0.5555555555555556,
              "#d8576b"
             ],
             [
              0.6666666666666666,
              "#ed7953"
             ],
             [
              0.7777777777777778,
              "#fb9f3a"
             ],
             [
              0.8888888888888888,
              "#fdca26"
             ],
             [
              1,
              "#f0f921"
             ]
            ],
            "type": "heatmap"
           }
          ],
          "heatmapgl": [
           {
            "colorbar": {
             "outlinewidth": 0,
             "ticks": ""
            },
            "colorscale": [
             [
              0,
              "#0d0887"
             ],
             [
              0.1111111111111111,
              "#46039f"
             ],
             [
              0.2222222222222222,
              "#7201a8"
             ],
             [
              0.3333333333333333,
              "#9c179e"
             ],
             [
              0.4444444444444444,
              "#bd3786"
             ],
             [
              0.5555555555555556,
              "#d8576b"
             ],
             [
              0.6666666666666666,
              "#ed7953"
             ],
             [
              0.7777777777777778,
              "#fb9f3a"
             ],
             [
              0.8888888888888888,
              "#fdca26"
             ],
             [
              1,
              "#f0f921"
             ]
            ],
            "type": "heatmapgl"
           }
          ],
          "histogram": [
           {
            "marker": {
             "pattern": {
              "fillmode": "overlay",
              "size": 10,
              "solidity": 0.2
             }
            },
            "type": "histogram"
           }
          ],
          "histogram2d": [
           {
            "colorbar": {
             "outlinewidth": 0,
             "ticks": ""
            },
            "colorscale": [
             [
              0,
              "#0d0887"
             ],
             [
              0.1111111111111111,
              "#46039f"
             ],
             [
              0.2222222222222222,
              "#7201a8"
             ],
             [
              0.3333333333333333,
              "#9c179e"
             ],
             [
              0.4444444444444444,
              "#bd3786"
             ],
             [
              0.5555555555555556,
              "#d8576b"
             ],
             [
              0.6666666666666666,
              "#ed7953"
             ],
             [
              0.7777777777777778,
              "#fb9f3a"
             ],
             [
              0.8888888888888888,
              "#fdca26"
             ],
             [
              1,
              "#f0f921"
             ]
            ],
            "type": "histogram2d"
           }
          ],
          "histogram2dcontour": [
           {
            "colorbar": {
             "outlinewidth": 0,
             "ticks": ""
            },
            "colorscale": [
             [
              0,
              "#0d0887"
             ],
             [
              0.1111111111111111,
              "#46039f"
             ],
             [
              0.2222222222222222,
              "#7201a8"
             ],
             [
              0.3333333333333333,
              "#9c179e"
             ],
             [
              0.4444444444444444,
              "#bd3786"
             ],
             [
              0.5555555555555556,
              "#d8576b"
             ],
             [
              0.6666666666666666,
              "#ed7953"
             ],
             [
              0.7777777777777778,
              "#fb9f3a"
             ],
             [
              0.8888888888888888,
              "#fdca26"
             ],
             [
              1,
              "#f0f921"
             ]
            ],
            "type": "histogram2dcontour"
           }
          ],
          "mesh3d": [
           {
            "colorbar": {
             "outlinewidth": 0,
             "ticks": ""
            },
            "type": "mesh3d"
           }
          ],
          "parcoords": [
           {
            "line": {
             "colorbar": {
              "outlinewidth": 0,
              "ticks": ""
             }
            },
            "type": "parcoords"
           }
          ],
          "pie": [
           {
            "automargin": true,
            "type": "pie"
           }
          ],
          "scatter": [
           {
            "fillpattern": {
             "fillmode": "overlay",
             "size": 10,
             "solidity": 0.2
            },
            "type": "scatter"
           }
          ],
          "scatter3d": [
           {
            "line": {
             "colorbar": {
              "outlinewidth": 0,
              "ticks": ""
             }
            },
            "marker": {
             "colorbar": {
              "outlinewidth": 0,
              "ticks": ""
             }
            },
            "type": "scatter3d"
           }
          ],
          "scattercarpet": [
           {
            "marker": {
             "colorbar": {
              "outlinewidth": 0,
              "ticks": ""
             }
            },
            "type": "scattercarpet"
           }
          ],
          "scattergeo": [
           {
            "marker": {
             "colorbar": {
              "outlinewidth": 0,
              "ticks": ""
             }
            },
            "type": "scattergeo"
           }
          ],
          "scattergl": [
           {
            "marker": {
             "colorbar": {
              "outlinewidth": 0,
              "ticks": ""
             }
            },
            "type": "scattergl"
           }
          ],
          "scattermapbox": [
           {
            "marker": {
             "colorbar": {
              "outlinewidth": 0,
              "ticks": ""
             }
            },
            "type": "scattermapbox"
           }
          ],
          "scatterpolar": [
           {
            "marker": {
             "colorbar": {
              "outlinewidth": 0,
              "ticks": ""
             }
            },
            "type": "scatterpolar"
           }
          ],
          "scatterpolargl": [
           {
            "marker": {
             "colorbar": {
              "outlinewidth": 0,
              "ticks": ""
             }
            },
            "type": "scatterpolargl"
           }
          ],
          "scatterternary": [
           {
            "marker": {
             "colorbar": {
              "outlinewidth": 0,
              "ticks": ""
             }
            },
            "type": "scatterternary"
           }
          ],
          "surface": [
           {
            "colorbar": {
             "outlinewidth": 0,
             "ticks": ""
            },
            "colorscale": [
             [
              0,
              "#0d0887"
             ],
             [
              0.1111111111111111,
              "#46039f"
             ],
             [
              0.2222222222222222,
              "#7201a8"
             ],
             [
              0.3333333333333333,
              "#9c179e"
             ],
             [
              0.4444444444444444,
              "#bd3786"
             ],
             [
              0.5555555555555556,
              "#d8576b"
             ],
             [
              0.6666666666666666,
              "#ed7953"
             ],
             [
              0.7777777777777778,
              "#fb9f3a"
             ],
             [
              0.8888888888888888,
              "#fdca26"
             ],
             [
              1,
              "#f0f921"
             ]
            ],
            "type": "surface"
           }
          ],
          "table": [
           {
            "cells": {
             "fill": {
              "color": "#EBF0F8"
             },
             "line": {
              "color": "white"
             }
            },
            "header": {
             "fill": {
              "color": "#C8D4E3"
             },
             "line": {
              "color": "white"
             }
            },
            "type": "table"
           }
          ]
         },
         "layout": {
          "annotationdefaults": {
           "arrowcolor": "#2a3f5f",
           "arrowhead": 0,
           "arrowwidth": 1
          },
          "autotypenumbers": "strict",
          "coloraxis": {
           "colorbar": {
            "outlinewidth": 0,
            "ticks": ""
           }
          },
          "colorscale": {
           "diverging": [
            [
             0,
             "#8e0152"
            ],
            [
             0.1,
             "#c51b7d"
            ],
            [
             0.2,
             "#de77ae"
            ],
            [
             0.3,
             "#f1b6da"
            ],
            [
             0.4,
             "#fde0ef"
            ],
            [
             0.5,
             "#f7f7f7"
            ],
            [
             0.6,
             "#e6f5d0"
            ],
            [
             0.7,
             "#b8e186"
            ],
            [
             0.8,
             "#7fbc41"
            ],
            [
             0.9,
             "#4d9221"
            ],
            [
             1,
             "#276419"
            ]
           ],
           "sequential": [
            [
             0,
             "#0d0887"
            ],
            [
             0.1111111111111111,
             "#46039f"
            ],
            [
             0.2222222222222222,
             "#7201a8"
            ],
            [
             0.3333333333333333,
             "#9c179e"
            ],
            [
             0.4444444444444444,
             "#bd3786"
            ],
            [
             0.5555555555555556,
             "#d8576b"
            ],
            [
             0.6666666666666666,
             "#ed7953"
            ],
            [
             0.7777777777777778,
             "#fb9f3a"
            ],
            [
             0.8888888888888888,
             "#fdca26"
            ],
            [
             1,
             "#f0f921"
            ]
           ],
           "sequentialminus": [
            [
             0,
             "#0d0887"
            ],
            [
             0.1111111111111111,
             "#46039f"
            ],
            [
             0.2222222222222222,
             "#7201a8"
            ],
            [
             0.3333333333333333,
             "#9c179e"
            ],
            [
             0.4444444444444444,
             "#bd3786"
            ],
            [
             0.5555555555555556,
             "#d8576b"
            ],
            [
             0.6666666666666666,
             "#ed7953"
            ],
            [
             0.7777777777777778,
             "#fb9f3a"
            ],
            [
             0.8888888888888888,
             "#fdca26"
            ],
            [
             1,
             "#f0f921"
            ]
           ]
          },
          "colorway": [
           "#636efa",
           "#EF553B",
           "#00cc96",
           "#ab63fa",
           "#FFA15A",
           "#19d3f3",
           "#FF6692",
           "#B6E880",
           "#FF97FF",
           "#FECB52"
          ],
          "font": {
           "color": "#2a3f5f"
          },
          "geo": {
           "bgcolor": "white",
           "lakecolor": "white",
           "landcolor": "#E5ECF6",
           "showlakes": true,
           "showland": true,
           "subunitcolor": "white"
          },
          "hoverlabel": {
           "align": "left"
          },
          "hovermode": "closest",
          "mapbox": {
           "style": "light"
          },
          "paper_bgcolor": "white",
          "plot_bgcolor": "#E5ECF6",
          "polar": {
           "angularaxis": {
            "gridcolor": "white",
            "linecolor": "white",
            "ticks": ""
           },
           "bgcolor": "#E5ECF6",
           "radialaxis": {
            "gridcolor": "white",
            "linecolor": "white",
            "ticks": ""
           }
          },
          "scene": {
           "xaxis": {
            "backgroundcolor": "#E5ECF6",
            "gridcolor": "white",
            "gridwidth": 2,
            "linecolor": "white",
            "showbackground": true,
            "ticks": "",
            "zerolinecolor": "white"
           },
           "yaxis": {
            "backgroundcolor": "#E5ECF6",
            "gridcolor": "white",
            "gridwidth": 2,
            "linecolor": "white",
            "showbackground": true,
            "ticks": "",
            "zerolinecolor": "white"
           },
           "zaxis": {
            "backgroundcolor": "#E5ECF6",
            "gridcolor": "white",
            "gridwidth": 2,
            "linecolor": "white",
            "showbackground": true,
            "ticks": "",
            "zerolinecolor": "white"
           }
          },
          "shapedefaults": {
           "line": {
            "color": "#2a3f5f"
           }
          },
          "ternary": {
           "aaxis": {
            "gridcolor": "white",
            "linecolor": "white",
            "ticks": ""
           },
           "baxis": {
            "gridcolor": "white",
            "linecolor": "white",
            "ticks": ""
           },
           "bgcolor": "#E5ECF6",
           "caxis": {
            "gridcolor": "white",
            "linecolor": "white",
            "ticks": ""
           }
          },
          "title": {
           "x": 0.05
          },
          "xaxis": {
           "automargin": true,
           "gridcolor": "white",
           "linecolor": "white",
           "ticks": "",
           "title": {
            "standoff": 15
           },
           "zerolinecolor": "white",
           "zerolinewidth": 2
          },
          "yaxis": {
           "automargin": true,
           "gridcolor": "white",
           "linecolor": "white",
           "ticks": "",
           "title": {
            "standoff": 15
           },
           "zerolinecolor": "white",
           "zerolinewidth": 2
          }
         }
        },
        "title": {
         "text": "Original, Smoothed, and Mean Subtracted Wheel Speeds, Recording 0, Trial 0"
        },
        "xaxis": {
         "title": {
          "text": "Time"
         }
        },
        "yaxis": {
         "title": {
          "text": "Value"
         }
        }
       }
      }
     },
     "metadata": {},
     "output_type": "display_data"
    },
    {
     "data": {
      "application/vnd.plotly.v1+json": {
       "config": {
        "plotlyServerURL": "https://plot.ly"
       },
       "data": [
        {
         "name": "Original",
         "type": "scatter",
         "y": [
          0.003506916848408899,
          0.004919779368582654,
          0.007951112999943956,
          0.012975436896810594,
          0.020409295834512713,
          0.030583285367554693,
          0.04359812578226832,
          0.05924252162794173,
          0.07699221129141745,
          0.09616885711419201,
          0.11617459089178354,
          0.1367581685410982,
          0.15819079732113345,
          0.18122850380373362,
          0.20681342498603503,
          0.23556821885222706,
          0.26724860764860964,
          0.3003529929724183,
          0.3320841502323126,
          0.3587532445610365,
          0.37655477976203994,
          0.3824842322579791,
          0.37511794760127753,
          0.35499528622974436,
          0.3244900390571266,
          0.2872347046221291,
          0.24730252576276401,
          0.2084043713572847,
          0.1733262682568783,
          0.143674654241648,
          0.1199509721188415,
          0.10183177236796435,
          0.0885086330110224,
          0.07899905664651292,
          0.07235918781372064,
          0.0678039723494251,
          0.06473128595099147,
          0.06272947906899079,
          0.06152244623167777,
          0.06095382526688481
         ]
        },
        {
         "name": "Prediction",
         "type": "scatter",
         "y": [
          0.007847168781950449,
          0.010291023131626602,
          0.015676095676272393,
          0.024913123352179135,
          0.03913804625675888,
          0.05942134077273076,
          0.0863851188470314,
          0.11979670929339593,
          0.1582757144813595,
          0.19923546703499156,
          0.23913650958351862,
          0.2740516408176311,
          0.30041433258881445,
          0.3157371721431348,
          0.3190893141042389,
          0.31119671339747107,
          0.2941589990747626,
          0.27089496674642466,
          0.24450411736607777,
          0.21772146219488464,
          0.192576866769588,
          0.17028691756069964,
          0.15133925315565552,
          0.13568913735345592,
          0.12298435416376195,
          0.11276021656510643,
          0.10457129556835922,
          0.09805048909223307,
          0.09291987157855737,
          0.0889604709889558,
          0.08596793693211438,
          0.08373109312201793,
          0.08203275548892597,
          0.08066870520013475,
          0.07947951683570025,
          0.07837587999576372,
          0.07734752338616177,
          0.076450668778798,
          0.0757753849235537,
          0.07541062206838195
         ]
        }
       ],
       "layout": {
        "template": {
         "data": {
          "bar": [
           {
            "error_x": {
             "color": "#2a3f5f"
            },
            "error_y": {
             "color": "#2a3f5f"
            },
            "marker": {
             "line": {
              "color": "#E5ECF6",
              "width": 0.5
             },
             "pattern": {
              "fillmode": "overlay",
              "size": 10,
              "solidity": 0.2
             }
            },
            "type": "bar"
           }
          ],
          "barpolar": [
           {
            "marker": {
             "line": {
              "color": "#E5ECF6",
              "width": 0.5
             },
             "pattern": {
              "fillmode": "overlay",
              "size": 10,
              "solidity": 0.2
             }
            },
            "type": "barpolar"
           }
          ],
          "carpet": [
           {
            "aaxis": {
             "endlinecolor": "#2a3f5f",
             "gridcolor": "white",
             "linecolor": "white",
             "minorgridcolor": "white",
             "startlinecolor": "#2a3f5f"
            },
            "baxis": {
             "endlinecolor": "#2a3f5f",
             "gridcolor": "white",
             "linecolor": "white",
             "minorgridcolor": "white",
             "startlinecolor": "#2a3f5f"
            },
            "type": "carpet"
           }
          ],
          "choropleth": [
           {
            "colorbar": {
             "outlinewidth": 0,
             "ticks": ""
            },
            "type": "choropleth"
           }
          ],
          "contour": [
           {
            "colorbar": {
             "outlinewidth": 0,
             "ticks": ""
            },
            "colorscale": [
             [
              0,
              "#0d0887"
             ],
             [
              0.1111111111111111,
              "#46039f"
             ],
             [
              0.2222222222222222,
              "#7201a8"
             ],
             [
              0.3333333333333333,
              "#9c179e"
             ],
             [
              0.4444444444444444,
              "#bd3786"
             ],
             [
              0.5555555555555556,
              "#d8576b"
             ],
             [
              0.6666666666666666,
              "#ed7953"
             ],
             [
              0.7777777777777778,
              "#fb9f3a"
             ],
             [
              0.8888888888888888,
              "#fdca26"
             ],
             [
              1,
              "#f0f921"
             ]
            ],
            "type": "contour"
           }
          ],
          "contourcarpet": [
           {
            "colorbar": {
             "outlinewidth": 0,
             "ticks": ""
            },
            "type": "contourcarpet"
           }
          ],
          "heatmap": [
           {
            "colorbar": {
             "outlinewidth": 0,
             "ticks": ""
            },
            "colorscale": [
             [
              0,
              "#0d0887"
             ],
             [
              0.1111111111111111,
              "#46039f"
             ],
             [
              0.2222222222222222,
              "#7201a8"
             ],
             [
              0.3333333333333333,
              "#9c179e"
             ],
             [
              0.4444444444444444,
              "#bd3786"
             ],
             [
              0.5555555555555556,
              "#d8576b"
             ],
             [
              0.6666666666666666,
              "#ed7953"
             ],
             [
              0.7777777777777778,
              "#fb9f3a"
             ],
             [
              0.8888888888888888,
              "#fdca26"
             ],
             [
              1,
              "#f0f921"
             ]
            ],
            "type": "heatmap"
           }
          ],
          "heatmapgl": [
           {
            "colorbar": {
             "outlinewidth": 0,
             "ticks": ""
            },
            "colorscale": [
             [
              0,
              "#0d0887"
             ],
             [
              0.1111111111111111,
              "#46039f"
             ],
             [
              0.2222222222222222,
              "#7201a8"
             ],
             [
              0.3333333333333333,
              "#9c179e"
             ],
             [
              0.4444444444444444,
              "#bd3786"
             ],
             [
              0.5555555555555556,
              "#d8576b"
             ],
             [
              0.6666666666666666,
              "#ed7953"
             ],
             [
              0.7777777777777778,
              "#fb9f3a"
             ],
             [
              0.8888888888888888,
              "#fdca26"
             ],
             [
              1,
              "#f0f921"
             ]
            ],
            "type": "heatmapgl"
           }
          ],
          "histogram": [
           {
            "marker": {
             "pattern": {
              "fillmode": "overlay",
              "size": 10,
              "solidity": 0.2
             }
            },
            "type": "histogram"
           }
          ],
          "histogram2d": [
           {
            "colorbar": {
             "outlinewidth": 0,
             "ticks": ""
            },
            "colorscale": [
             [
              0,
              "#0d0887"
             ],
             [
              0.1111111111111111,
              "#46039f"
             ],
             [
              0.2222222222222222,
              "#7201a8"
             ],
             [
              0.3333333333333333,
              "#9c179e"
             ],
             [
              0.4444444444444444,
              "#bd3786"
             ],
             [
              0.5555555555555556,
              "#d8576b"
             ],
             [
              0.6666666666666666,
              "#ed7953"
             ],
             [
              0.7777777777777778,
              "#fb9f3a"
             ],
             [
              0.8888888888888888,
              "#fdca26"
             ],
             [
              1,
              "#f0f921"
             ]
            ],
            "type": "histogram2d"
           }
          ],
          "histogram2dcontour": [
           {
            "colorbar": {
             "outlinewidth": 0,
             "ticks": ""
            },
            "colorscale": [
             [
              0,
              "#0d0887"
             ],
             [
              0.1111111111111111,
              "#46039f"
             ],
             [
              0.2222222222222222,
              "#7201a8"
             ],
             [
              0.3333333333333333,
              "#9c179e"
             ],
             [
              0.4444444444444444,
              "#bd3786"
             ],
             [
              0.5555555555555556,
              "#d8576b"
             ],
             [
              0.6666666666666666,
              "#ed7953"
             ],
             [
              0.7777777777777778,
              "#fb9f3a"
             ],
             [
              0.8888888888888888,
              "#fdca26"
             ],
             [
              1,
              "#f0f921"
             ]
            ],
            "type": "histogram2dcontour"
           }
          ],
          "mesh3d": [
           {
            "colorbar": {
             "outlinewidth": 0,
             "ticks": ""
            },
            "type": "mesh3d"
           }
          ],
          "parcoords": [
           {
            "line": {
             "colorbar": {
              "outlinewidth": 0,
              "ticks": ""
             }
            },
            "type": "parcoords"
           }
          ],
          "pie": [
           {
            "automargin": true,
            "type": "pie"
           }
          ],
          "scatter": [
           {
            "fillpattern": {
             "fillmode": "overlay",
             "size": 10,
             "solidity": 0.2
            },
            "type": "scatter"
           }
          ],
          "scatter3d": [
           {
            "line": {
             "colorbar": {
              "outlinewidth": 0,
              "ticks": ""
             }
            },
            "marker": {
             "colorbar": {
              "outlinewidth": 0,
              "ticks": ""
             }
            },
            "type": "scatter3d"
           }
          ],
          "scattercarpet": [
           {
            "marker": {
             "colorbar": {
              "outlinewidth": 0,
              "ticks": ""
             }
            },
            "type": "scattercarpet"
           }
          ],
          "scattergeo": [
           {
            "marker": {
             "colorbar": {
              "outlinewidth": 0,
              "ticks": ""
             }
            },
            "type": "scattergeo"
           }
          ],
          "scattergl": [
           {
            "marker": {
             "colorbar": {
              "outlinewidth": 0,
              "ticks": ""
             }
            },
            "type": "scattergl"
           }
          ],
          "scattermapbox": [
           {
            "marker": {
             "colorbar": {
              "outlinewidth": 0,
              "ticks": ""
             }
            },
            "type": "scattermapbox"
           }
          ],
          "scatterpolar": [
           {
            "marker": {
             "colorbar": {
              "outlinewidth": 0,
              "ticks": ""
             }
            },
            "type": "scatterpolar"
           }
          ],
          "scatterpolargl": [
           {
            "marker": {
             "colorbar": {
              "outlinewidth": 0,
              "ticks": ""
             }
            },
            "type": "scatterpolargl"
           }
          ],
          "scatterternary": [
           {
            "marker": {
             "colorbar": {
              "outlinewidth": 0,
              "ticks": ""
             }
            },
            "type": "scatterternary"
           }
          ],
          "surface": [
           {
            "colorbar": {
             "outlinewidth": 0,
             "ticks": ""
            },
            "colorscale": [
             [
              0,
              "#0d0887"
             ],
             [
              0.1111111111111111,
              "#46039f"
             ],
             [
              0.2222222222222222,
              "#7201a8"
             ],
             [
              0.3333333333333333,
              "#9c179e"
             ],
             [
              0.4444444444444444,
              "#bd3786"
             ],
             [
              0.5555555555555556,
              "#d8576b"
             ],
             [
              0.6666666666666666,
              "#ed7953"
             ],
             [
              0.7777777777777778,
              "#fb9f3a"
             ],
             [
              0.8888888888888888,
              "#fdca26"
             ],
             [
              1,
              "#f0f921"
             ]
            ],
            "type": "surface"
           }
          ],
          "table": [
           {
            "cells": {
             "fill": {
              "color": "#EBF0F8"
             },
             "line": {
              "color": "white"
             }
            },
            "header": {
             "fill": {
              "color": "#C8D4E3"
             },
             "line": {
              "color": "white"
             }
            },
            "type": "table"
           }
          ]
         },
         "layout": {
          "annotationdefaults": {
           "arrowcolor": "#2a3f5f",
           "arrowhead": 0,
           "arrowwidth": 1
          },
          "autotypenumbers": "strict",
          "coloraxis": {
           "colorbar": {
            "outlinewidth": 0,
            "ticks": ""
           }
          },
          "colorscale": {
           "diverging": [
            [
             0,
             "#8e0152"
            ],
            [
             0.1,
             "#c51b7d"
            ],
            [
             0.2,
             "#de77ae"
            ],
            [
             0.3,
             "#f1b6da"
            ],
            [
             0.4,
             "#fde0ef"
            ],
            [
             0.5,
             "#f7f7f7"
            ],
            [
             0.6,
             "#e6f5d0"
            ],
            [
             0.7,
             "#b8e186"
            ],
            [
             0.8,
             "#7fbc41"
            ],
            [
             0.9,
             "#4d9221"
            ],
            [
             1,
             "#276419"
            ]
           ],
           "sequential": [
            [
             0,
             "#0d0887"
            ],
            [
             0.1111111111111111,
             "#46039f"
            ],
            [
             0.2222222222222222,
             "#7201a8"
            ],
            [
             0.3333333333333333,
             "#9c179e"
            ],
            [
             0.4444444444444444,
             "#bd3786"
            ],
            [
             0.5555555555555556,
             "#d8576b"
            ],
            [
             0.6666666666666666,
             "#ed7953"
            ],
            [
             0.7777777777777778,
             "#fb9f3a"
            ],
            [
             0.8888888888888888,
             "#fdca26"
            ],
            [
             1,
             "#f0f921"
            ]
           ],
           "sequentialminus": [
            [
             0,
             "#0d0887"
            ],
            [
             0.1111111111111111,
             "#46039f"
            ],
            [
             0.2222222222222222,
             "#7201a8"
            ],
            [
             0.3333333333333333,
             "#9c179e"
            ],
            [
             0.4444444444444444,
             "#bd3786"
            ],
            [
             0.5555555555555556,
             "#d8576b"
            ],
            [
             0.6666666666666666,
             "#ed7953"
            ],
            [
             0.7777777777777778,
             "#fb9f3a"
            ],
            [
             0.8888888888888888,
             "#fdca26"
            ],
            [
             1,
             "#f0f921"
            ]
           ]
          },
          "colorway": [
           "#636efa",
           "#EF553B",
           "#00cc96",
           "#ab63fa",
           "#FFA15A",
           "#19d3f3",
           "#FF6692",
           "#B6E880",
           "#FF97FF",
           "#FECB52"
          ],
          "font": {
           "color": "#2a3f5f"
          },
          "geo": {
           "bgcolor": "white",
           "lakecolor": "white",
           "landcolor": "#E5ECF6",
           "showlakes": true,
           "showland": true,
           "subunitcolor": "white"
          },
          "hoverlabel": {
           "align": "left"
          },
          "hovermode": "closest",
          "mapbox": {
           "style": "light"
          },
          "paper_bgcolor": "white",
          "plot_bgcolor": "#E5ECF6",
          "polar": {
           "angularaxis": {
            "gridcolor": "white",
            "linecolor": "white",
            "ticks": ""
           },
           "bgcolor": "#E5ECF6",
           "radialaxis": {
            "gridcolor": "white",
            "linecolor": "white",
            "ticks": ""
           }
          },
          "scene": {
           "xaxis": {
            "backgroundcolor": "#E5ECF6",
            "gridcolor": "white",
            "gridwidth": 2,
            "linecolor": "white",
            "showbackground": true,
            "ticks": "",
            "zerolinecolor": "white"
           },
           "yaxis": {
            "backgroundcolor": "#E5ECF6",
            "gridcolor": "white",
            "gridwidth": 2,
            "linecolor": "white",
            "showbackground": true,
            "ticks": "",
            "zerolinecolor": "white"
           },
           "zaxis": {
            "backgroundcolor": "#E5ECF6",
            "gridcolor": "white",
            "gridwidth": 2,
            "linecolor": "white",
            "showbackground": true,
            "ticks": "",
            "zerolinecolor": "white"
           }
          },
          "shapedefaults": {
           "line": {
            "color": "#2a3f5f"
           }
          },
          "ternary": {
           "aaxis": {
            "gridcolor": "white",
            "linecolor": "white",
            "ticks": ""
           },
           "baxis": {
            "gridcolor": "white",
            "linecolor": "white",
            "ticks": ""
           },
           "bgcolor": "#E5ECF6",
           "caxis": {
            "gridcolor": "white",
            "linecolor": "white",
            "ticks": ""
           }
          },
          "title": {
           "x": 0.05
          },
          "xaxis": {
           "automargin": true,
           "gridcolor": "white",
           "linecolor": "white",
           "ticks": "",
           "title": {
            "standoff": 15
           },
           "zerolinecolor": "white",
           "zerolinewidth": 2
          },
          "yaxis": {
           "automargin": true,
           "gridcolor": "white",
           "linecolor": "white",
           "ticks": "",
           "title": {
            "standoff": 15
           },
           "zerolinecolor": "white",
           "zerolinewidth": 2
          }
         }
        },
        "title": {
         "text": "Original, Smoothed, and Mean Subtracted Wheel Speeds, Recording 0, Trial 0"
        },
        "xaxis": {
         "title": {
          "text": "Time"
         }
        },
        "yaxis": {
         "title": {
          "text": "Value"
         }
        }
       }
      }
     },
     "metadata": {},
     "output_type": "display_data"
    },
    {
     "data": {
      "application/vnd.plotly.v1+json": {
       "config": {
        "plotlyServerURL": "https://plot.ly"
       },
       "data": [
        {
         "name": "Original",
         "type": "scatter",
         "y": [
          0.012902092223339923,
          0.01342385193047619,
          0.014671466099631382,
          0.01701148060435276,
          0.020939862212860438,
          0.026947334238373134,
          0.035373975430184425,
          0.04629728453830933,
          0.05945009666886159,
          0.07425164215906882,
          0.09005444196077723,
          0.10642355583012694,
          0.12350790742256845,
          0.14227816971332938,
          0.1644224166616237,
          0.19191475267556254,
          0.22625424480369888,
          0.26763544562180247,
          0.31433836000275117,
          0.362603106744827,
          0.40714855785609694,
          0.4422403955147975,
          0.46296445667257985,
          0.4663556479668678,
          0.45203378165122565,
          0.4221831299692787,
          0.380945010395762,
          0.33348152291371225,
          0.284975720344499,
          0.2397884091269042,
          0.20093571198469234,
          0.16990973436764473,
          0.1467878879231909,
          0.13060088872490222,
          0.11980782842858147,
          0.11277029288561215,
          0.10814758394404902,
          0.10504765961161283,
          0.10303987644388682,
          0.10203632800631522
         ]
        },
        {
         "name": "Prediction",
         "type": "scatter",
         "y": [
          0.006858877624562253,
          0.008724837263232936,
          0.012852876233378833,
          0.01997306417084302,
          0.03101512351808851,
          0.046892015570580224,
          0.06821254863615293,
          0.09497543143670314,
          0.12633933721355758,
          0.16055918060143703,
          0.1951455571821928,
          0.22725137539937398,
          0.2541925878099742,
          0.2739574380470313,
          0.2855586151843612,
          0.2891337146102287,
          0.2857902595409213,
          0.2772660920674088,
          0.265523670837662,
          0.2523876174990899,
          0.23929890089733805,
          0.22720806746844405,
          0.21658968535516035,
          0.20753637340375153,
          0.19988833654031515,
          0.19336032285175328,
          0.1876411549449786,
          0.18245437943780385,
          0.1775858899915481,
          0.172881027937925,
          0.16822614390579033,
          0.16353787275543977,
          0.15876655411972443,
          0.15391257489136492,
          0.14904701006720544,
          0.14432803616491208,
          0.13999863109886151,
          0.136359377467283,
          0.13371753860592395,
          0.13232523004063856
         ]
        }
       ],
       "layout": {
        "template": {
         "data": {
          "bar": [
           {
            "error_x": {
             "color": "#2a3f5f"
            },
            "error_y": {
             "color": "#2a3f5f"
            },
            "marker": {
             "line": {
              "color": "#E5ECF6",
              "width": 0.5
             },
             "pattern": {
              "fillmode": "overlay",
              "size": 10,
              "solidity": 0.2
             }
            },
            "type": "bar"
           }
          ],
          "barpolar": [
           {
            "marker": {
             "line": {
              "color": "#E5ECF6",
              "width": 0.5
             },
             "pattern": {
              "fillmode": "overlay",
              "size": 10,
              "solidity": 0.2
             }
            },
            "type": "barpolar"
           }
          ],
          "carpet": [
           {
            "aaxis": {
             "endlinecolor": "#2a3f5f",
             "gridcolor": "white",
             "linecolor": "white",
             "minorgridcolor": "white",
             "startlinecolor": "#2a3f5f"
            },
            "baxis": {
             "endlinecolor": "#2a3f5f",
             "gridcolor": "white",
             "linecolor": "white",
             "minorgridcolor": "white",
             "startlinecolor": "#2a3f5f"
            },
            "type": "carpet"
           }
          ],
          "choropleth": [
           {
            "colorbar": {
             "outlinewidth": 0,
             "ticks": ""
            },
            "type": "choropleth"
           }
          ],
          "contour": [
           {
            "colorbar": {
             "outlinewidth": 0,
             "ticks": ""
            },
            "colorscale": [
             [
              0,
              "#0d0887"
             ],
             [
              0.1111111111111111,
              "#46039f"
             ],
             [
              0.2222222222222222,
              "#7201a8"
             ],
             [
              0.3333333333333333,
              "#9c179e"
             ],
             [
              0.4444444444444444,
              "#bd3786"
             ],
             [
              0.5555555555555556,
              "#d8576b"
             ],
             [
              0.6666666666666666,
              "#ed7953"
             ],
             [
              0.7777777777777778,
              "#fb9f3a"
             ],
             [
              0.8888888888888888,
              "#fdca26"
             ],
             [
              1,
              "#f0f921"
             ]
            ],
            "type": "contour"
           }
          ],
          "contourcarpet": [
           {
            "colorbar": {
             "outlinewidth": 0,
             "ticks": ""
            },
            "type": "contourcarpet"
           }
          ],
          "heatmap": [
           {
            "colorbar": {
             "outlinewidth": 0,
             "ticks": ""
            },
            "colorscale": [
             [
              0,
              "#0d0887"
             ],
             [
              0.1111111111111111,
              "#46039f"
             ],
             [
              0.2222222222222222,
              "#7201a8"
             ],
             [
              0.3333333333333333,
              "#9c179e"
             ],
             [
              0.4444444444444444,
              "#bd3786"
             ],
             [
              0.5555555555555556,
              "#d8576b"
             ],
             [
              0.6666666666666666,
              "#ed7953"
             ],
             [
              0.7777777777777778,
              "#fb9f3a"
             ],
             [
              0.8888888888888888,
              "#fdca26"
             ],
             [
              1,
              "#f0f921"
             ]
            ],
            "type": "heatmap"
           }
          ],
          "heatmapgl": [
           {
            "colorbar": {
             "outlinewidth": 0,
             "ticks": ""
            },
            "colorscale": [
             [
              0,
              "#0d0887"
             ],
             [
              0.1111111111111111,
              "#46039f"
             ],
             [
              0.2222222222222222,
              "#7201a8"
             ],
             [
              0.3333333333333333,
              "#9c179e"
             ],
             [
              0.4444444444444444,
              "#bd3786"
             ],
             [
              0.5555555555555556,
              "#d8576b"
             ],
             [
              0.6666666666666666,
              "#ed7953"
             ],
             [
              0.7777777777777778,
              "#fb9f3a"
             ],
             [
              0.8888888888888888,
              "#fdca26"
             ],
             [
              1,
              "#f0f921"
             ]
            ],
            "type": "heatmapgl"
           }
          ],
          "histogram": [
           {
            "marker": {
             "pattern": {
              "fillmode": "overlay",
              "size": 10,
              "solidity": 0.2
             }
            },
            "type": "histogram"
           }
          ],
          "histogram2d": [
           {
            "colorbar": {
             "outlinewidth": 0,
             "ticks": ""
            },
            "colorscale": [
             [
              0,
              "#0d0887"
             ],
             [
              0.1111111111111111,
              "#46039f"
             ],
             [
              0.2222222222222222,
              "#7201a8"
             ],
             [
              0.3333333333333333,
              "#9c179e"
             ],
             [
              0.4444444444444444,
              "#bd3786"
             ],
             [
              0.5555555555555556,
              "#d8576b"
             ],
             [
              0.6666666666666666,
              "#ed7953"
             ],
             [
              0.7777777777777778,
              "#fb9f3a"
             ],
             [
              0.8888888888888888,
              "#fdca26"
             ],
             [
              1,
              "#f0f921"
             ]
            ],
            "type": "histogram2d"
           }
          ],
          "histogram2dcontour": [
           {
            "colorbar": {
             "outlinewidth": 0,
             "ticks": ""
            },
            "colorscale": [
             [
              0,
              "#0d0887"
             ],
             [
              0.1111111111111111,
              "#46039f"
             ],
             [
              0.2222222222222222,
              "#7201a8"
             ],
             [
              0.3333333333333333,
              "#9c179e"
             ],
             [
              0.4444444444444444,
              "#bd3786"
             ],
             [
              0.5555555555555556,
              "#d8576b"
             ],
             [
              0.6666666666666666,
              "#ed7953"
             ],
             [
              0.7777777777777778,
              "#fb9f3a"
             ],
             [
              0.8888888888888888,
              "#fdca26"
             ],
             [
              1,
              "#f0f921"
             ]
            ],
            "type": "histogram2dcontour"
           }
          ],
          "mesh3d": [
           {
            "colorbar": {
             "outlinewidth": 0,
             "ticks": ""
            },
            "type": "mesh3d"
           }
          ],
          "parcoords": [
           {
            "line": {
             "colorbar": {
              "outlinewidth": 0,
              "ticks": ""
             }
            },
            "type": "parcoords"
           }
          ],
          "pie": [
           {
            "automargin": true,
            "type": "pie"
           }
          ],
          "scatter": [
           {
            "fillpattern": {
             "fillmode": "overlay",
             "size": 10,
             "solidity": 0.2
            },
            "type": "scatter"
           }
          ],
          "scatter3d": [
           {
            "line": {
             "colorbar": {
              "outlinewidth": 0,
              "ticks": ""
             }
            },
            "marker": {
             "colorbar": {
              "outlinewidth": 0,
              "ticks": ""
             }
            },
            "type": "scatter3d"
           }
          ],
          "scattercarpet": [
           {
            "marker": {
             "colorbar": {
              "outlinewidth": 0,
              "ticks": ""
             }
            },
            "type": "scattercarpet"
           }
          ],
          "scattergeo": [
           {
            "marker": {
             "colorbar": {
              "outlinewidth": 0,
              "ticks": ""
             }
            },
            "type": "scattergeo"
           }
          ],
          "scattergl": [
           {
            "marker": {
             "colorbar": {
              "outlinewidth": 0,
              "ticks": ""
             }
            },
            "type": "scattergl"
           }
          ],
          "scattermapbox": [
           {
            "marker": {
             "colorbar": {
              "outlinewidth": 0,
              "ticks": ""
             }
            },
            "type": "scattermapbox"
           }
          ],
          "scatterpolar": [
           {
            "marker": {
             "colorbar": {
              "outlinewidth": 0,
              "ticks": ""
             }
            },
            "type": "scatterpolar"
           }
          ],
          "scatterpolargl": [
           {
            "marker": {
             "colorbar": {
              "outlinewidth": 0,
              "ticks": ""
             }
            },
            "type": "scatterpolargl"
           }
          ],
          "scatterternary": [
           {
            "marker": {
             "colorbar": {
              "outlinewidth": 0,
              "ticks": ""
             }
            },
            "type": "scatterternary"
           }
          ],
          "surface": [
           {
            "colorbar": {
             "outlinewidth": 0,
             "ticks": ""
            },
            "colorscale": [
             [
              0,
              "#0d0887"
             ],
             [
              0.1111111111111111,
              "#46039f"
             ],
             [
              0.2222222222222222,
              "#7201a8"
             ],
             [
              0.3333333333333333,
              "#9c179e"
             ],
             [
              0.4444444444444444,
              "#bd3786"
             ],
             [
              0.5555555555555556,
              "#d8576b"
             ],
             [
              0.6666666666666666,
              "#ed7953"
             ],
             [
              0.7777777777777778,
              "#fb9f3a"
             ],
             [
              0.8888888888888888,
              "#fdca26"
             ],
             [
              1,
              "#f0f921"
             ]
            ],
            "type": "surface"
           }
          ],
          "table": [
           {
            "cells": {
             "fill": {
              "color": "#EBF0F8"
             },
             "line": {
              "color": "white"
             }
            },
            "header": {
             "fill": {
              "color": "#C8D4E3"
             },
             "line": {
              "color": "white"
             }
            },
            "type": "table"
           }
          ]
         },
         "layout": {
          "annotationdefaults": {
           "arrowcolor": "#2a3f5f",
           "arrowhead": 0,
           "arrowwidth": 1
          },
          "autotypenumbers": "strict",
          "coloraxis": {
           "colorbar": {
            "outlinewidth": 0,
            "ticks": ""
           }
          },
          "colorscale": {
           "diverging": [
            [
             0,
             "#8e0152"
            ],
            [
             0.1,
             "#c51b7d"
            ],
            [
             0.2,
             "#de77ae"
            ],
            [
             0.3,
             "#f1b6da"
            ],
            [
             0.4,
             "#fde0ef"
            ],
            [
             0.5,
             "#f7f7f7"
            ],
            [
             0.6,
             "#e6f5d0"
            ],
            [
             0.7,
             "#b8e186"
            ],
            [
             0.8,
             "#7fbc41"
            ],
            [
             0.9,
             "#4d9221"
            ],
            [
             1,
             "#276419"
            ]
           ],
           "sequential": [
            [
             0,
             "#0d0887"
            ],
            [
             0.1111111111111111,
             "#46039f"
            ],
            [
             0.2222222222222222,
             "#7201a8"
            ],
            [
             0.3333333333333333,
             "#9c179e"
            ],
            [
             0.4444444444444444,
             "#bd3786"
            ],
            [
             0.5555555555555556,
             "#d8576b"
            ],
            [
             0.6666666666666666,
             "#ed7953"
            ],
            [
             0.7777777777777778,
             "#fb9f3a"
            ],
            [
             0.8888888888888888,
             "#fdca26"
            ],
            [
             1,
             "#f0f921"
            ]
           ],
           "sequentialminus": [
            [
             0,
             "#0d0887"
            ],
            [
             0.1111111111111111,
             "#46039f"
            ],
            [
             0.2222222222222222,
             "#7201a8"
            ],
            [
             0.3333333333333333,
             "#9c179e"
            ],
            [
             0.4444444444444444,
             "#bd3786"
            ],
            [
             0.5555555555555556,
             "#d8576b"
            ],
            [
             0.6666666666666666,
             "#ed7953"
            ],
            [
             0.7777777777777778,
             "#fb9f3a"
            ],
            [
             0.8888888888888888,
             "#fdca26"
            ],
            [
             1,
             "#f0f921"
            ]
           ]
          },
          "colorway": [
           "#636efa",
           "#EF553B",
           "#00cc96",
           "#ab63fa",
           "#FFA15A",
           "#19d3f3",
           "#FF6692",
           "#B6E880",
           "#FF97FF",
           "#FECB52"
          ],
          "font": {
           "color": "#2a3f5f"
          },
          "geo": {
           "bgcolor": "white",
           "lakecolor": "white",
           "landcolor": "#E5ECF6",
           "showlakes": true,
           "showland": true,
           "subunitcolor": "white"
          },
          "hoverlabel": {
           "align": "left"
          },
          "hovermode": "closest",
          "mapbox": {
           "style": "light"
          },
          "paper_bgcolor": "white",
          "plot_bgcolor": "#E5ECF6",
          "polar": {
           "angularaxis": {
            "gridcolor": "white",
            "linecolor": "white",
            "ticks": ""
           },
           "bgcolor": "#E5ECF6",
           "radialaxis": {
            "gridcolor": "white",
            "linecolor": "white",
            "ticks": ""
           }
          },
          "scene": {
           "xaxis": {
            "backgroundcolor": "#E5ECF6",
            "gridcolor": "white",
            "gridwidth": 2,
            "linecolor": "white",
            "showbackground": true,
            "ticks": "",
            "zerolinecolor": "white"
           },
           "yaxis": {
            "backgroundcolor": "#E5ECF6",
            "gridcolor": "white",
            "gridwidth": 2,
            "linecolor": "white",
            "showbackground": true,
            "ticks": "",
            "zerolinecolor": "white"
           },
           "zaxis": {
            "backgroundcolor": "#E5ECF6",
            "gridcolor": "white",
            "gridwidth": 2,
            "linecolor": "white",
            "showbackground": true,
            "ticks": "",
            "zerolinecolor": "white"
           }
          },
          "shapedefaults": {
           "line": {
            "color": "#2a3f5f"
           }
          },
          "ternary": {
           "aaxis": {
            "gridcolor": "white",
            "linecolor": "white",
            "ticks": ""
           },
           "baxis": {
            "gridcolor": "white",
            "linecolor": "white",
            "ticks": ""
           },
           "bgcolor": "#E5ECF6",
           "caxis": {
            "gridcolor": "white",
            "linecolor": "white",
            "ticks": ""
           }
          },
          "title": {
           "x": 0.05
          },
          "xaxis": {
           "automargin": true,
           "gridcolor": "white",
           "linecolor": "white",
           "ticks": "",
           "title": {
            "standoff": 15
           },
           "zerolinecolor": "white",
           "zerolinewidth": 2
          },
          "yaxis": {
           "automargin": true,
           "gridcolor": "white",
           "linecolor": "white",
           "ticks": "",
           "title": {
            "standoff": 15
           },
           "zerolinecolor": "white",
           "zerolinewidth": 2
          }
         }
        },
        "title": {
         "text": "Original, Smoothed, and Mean Subtracted Wheel Speeds, Recording 0, Trial 0"
        },
        "xaxis": {
         "title": {
          "text": "Time"
         }
        },
        "yaxis": {
         "title": {
          "text": "Value"
         }
        }
       }
      }
     },
     "metadata": {},
     "output_type": "display_data"
    }
   ],
   "source": [
    "\n",
    "for recording_session in range(PLOT_RECORDINGS):\n",
    "    for t in range(1):\n",
    "        fig = go.Figure()\n",
    "        fig.add_trace(go.Scatter(y=Y_test[recording_session][t], name='Original'))\n",
    "        fig.add_trace(go.Scatter(y=Y_pred_continuous_decoder[recording_session][t], name='Prediction'))\n",
    "        fig.update_layout(title=f'Original, Smoothed, and Mean Subtracted Wheel Speeds, Recording 0, Trial {t}', xaxis_title='Time', yaxis_title='Value')\n",
    "        fig.show()\n"
   ]
  },
  {
   "cell_type": "code",
   "execution_count": 30,
   "metadata": {},
   "outputs": [
    {
     "name": "stdout",
     "output_type": "stream",
     "text": [
      "Performance of zero predictor on training data: 0, Loss 0.013082008808851242\n",
      "Performance of zero predictor on test data: 0, Loss 0.05173294246196747\n",
      "Performance of zero predictor on training data: 1, Loss 0.03412018343806267\n",
      "Performance of zero predictor on test data: 1, Loss 0.04684337601065636\n",
      "Performance of zero predictor on training data: 2, Loss 0.04327685385942459\n",
      "Performance of zero predictor on test data: 2, Loss 0.04240398108959198\n"
     ]
    }
   ],
   "source": [
    "zero_predictor = ZeroPredictor()\n",
    "\n",
    "for recording in range(PLOT_RECORDINGS):\n",
    "    loss_item = evaluate_recording(recording, X_train[recording], Y_train[recording], zero_predictor, loss_fn, plot_num=0)\n",
    "    print(f'Performance of zero predictor on training data: {recording}, Loss {loss_item}')\n",
    "\n",
    "    loss_item = evaluate_recording(recording, X_test[recording], Y_test[recording], zero_predictor, loss_fn, plot_num=0)\n",
    "    print(f'Performance of zero predictor on test data: {recording}, Loss {loss_item}')"
   ]
  },
  {
   "cell_type": "code",
   "execution_count": 31,
   "metadata": {},
   "outputs": [
    {
     "name": "stdout",
     "output_type": "stream",
     "text": [
      "Performance of mean predictor on training data: 0, Loss 0.004947812346117907\n",
      "Performance of mean predictor on test data: 0, Loss 0.026562155120096288\n",
      "Performance of mean predictor on training data: 1, Loss 0.006720211784004756\n",
      "Performance of mean predictor on test data: 1, Loss 0.010936572292060834\n",
      "Performance of mean predictor on training data: 2, Loss 0.008976126785998384\n",
      "Performance of mean predictor on test data: 2, Loss 0.009500123974852177\n"
     ]
    },
    {
     "name": "stderr",
     "output_type": "stream",
     "text": [
      "/home/berk/anaconda3/lib/python3.9/site-packages/torch/nn/modules/loss.py:530: UserWarning:\n",
      "\n",
      "Using a target size (torch.Size([155, 40])) that is different to the input size (torch.Size([40])). This will likely lead to incorrect results due to broadcasting. Please ensure they have the same size.\n",
      "\n",
      "/home/berk/anaconda3/lib/python3.9/site-packages/torch/nn/modules/loss.py:530: UserWarning:\n",
      "\n",
      "Using a target size (torch.Size([112, 40])) that is different to the input size (torch.Size([40])). This will likely lead to incorrect results due to broadcasting. Please ensure they have the same size.\n",
      "\n",
      "/home/berk/anaconda3/lib/python3.9/site-packages/torch/nn/modules/loss.py:530: UserWarning:\n",
      "\n",
      "Using a target size (torch.Size([93, 40])) that is different to the input size (torch.Size([40])). This will likely lead to incorrect results due to broadcasting. Please ensure they have the same size.\n",
      "\n"
     ]
    }
   ],
   "source": [
    "for recording in range(PLOT_RECORDINGS):\n",
    "    loss_item = evaluate_recording(recording, X_train[recording], Y_train[recording], mean_predictor, loss_fn, plot_num=0)\n",
    "    print(f'Performance of mean predictor on training data: {recording}, Loss {loss_item}')\n",
    "\n",
    "    loss_item = evaluate_recording(recording, X_test[recording], Y_test[recording], mean_predictor, loss_fn, plot_num=0)\n",
    "    print(f'Performance of mean predictor on test data: {recording}, Loss {loss_item}')"
   ]
  },
  {
   "cell_type": "code",
   "execution_count": 32,
   "metadata": {},
   "outputs": [
    {
     "data": {
      "application/vnd.plotly.v1+json": {
       "config": {
        "plotlyServerURL": "https://plot.ly"
       },
       "data": [
        {
         "name": "Actual",
         "type": "scatter",
         "y": [
          0.006124608218669891,
          0.008243417367339134,
          0.012812037020921707,
          0.020417585968971252,
          0.03172754868865013,
          0.047229569405317307,
          0.06692254543304443,
          0.09002839028835297,
          0.11485821008682251,
          0.13891568779945374,
          0.15928728878498077,
          0.17325139045715332,
          0.17893736064434052,
          0.17582343518733978,
          0.16488373279571533,
          0.14834192395210266,
          0.12912769615650177,
          0.11020881682634354,
          0.09402942657470703,
          0.08220735937356949,
          0.07552888989448547,
          0.0741828978061676,
          0.07809507846832275,
          0.08721624314785004,
          0.10164318978786469,
          0.12152604758739471,
          0.14680443704128265,
          0.17688757181167603,
          0.21043215692043304,
          0.24533158540725708,
          0.27895891666412354,
          0.3086284101009369,
          0.33213141560554504,
          0.3481917083263397,
          0.3567047119140625,
          0.35870862007141113,
          0.35611703991889954,
          0.35128384828567505,
          0.3465172350406647,
          0.3436359763145447
         ]
        },
        {
         "name": "Predicted",
         "type": "scatter",
         "y": [
          0.017874188721179962,
          0.021941283717751503,
          0.008558303117752075,
          0.013497630134224892,
          0.013758724555373192,
          0.011942910961806774,
          0.05495545268058777,
          0.06841395050287247,
          0.049910370260477066,
          0.04593844339251518,
          0.08384747058153152,
          0.15890847146511078,
          0.12720641493797302,
          0.14257217943668365,
          0.1425880640745163,
          0.12016192823648453,
          0.15096966922283173,
          0.12069264054298401,
          0.12455036491155624,
          0.13009566068649292,
          0.09901651740074158,
          0.10518009960651398,
          0.09854796528816223,
          0.08811921626329422,
          0.09673453122377396,
          0.09435053914785385,
          0.09661103785037994,
          0.06119053438305855,
          0.06936812400817871,
          0.07049502432346344,
          0.03382520377635956,
          0.08027442544698715,
          0.06276202201843262,
          0.07673200964927673,
          0.07414723187685013,
          0.06283077597618103,
          0.06238585710525513,
          0.08114101737737656,
          0.02612079121172428,
          0.03390730172395706
         ]
        }
       ],
       "layout": {
        "template": {
         "data": {
          "bar": [
           {
            "error_x": {
             "color": "#2a3f5f"
            },
            "error_y": {
             "color": "#2a3f5f"
            },
            "marker": {
             "line": {
              "color": "#E5ECF6",
              "width": 0.5
             },
             "pattern": {
              "fillmode": "overlay",
              "size": 10,
              "solidity": 0.2
             }
            },
            "type": "bar"
           }
          ],
          "barpolar": [
           {
            "marker": {
             "line": {
              "color": "#E5ECF6",
              "width": 0.5
             },
             "pattern": {
              "fillmode": "overlay",
              "size": 10,
              "solidity": 0.2
             }
            },
            "type": "barpolar"
           }
          ],
          "carpet": [
           {
            "aaxis": {
             "endlinecolor": "#2a3f5f",
             "gridcolor": "white",
             "linecolor": "white",
             "minorgridcolor": "white",
             "startlinecolor": "#2a3f5f"
            },
            "baxis": {
             "endlinecolor": "#2a3f5f",
             "gridcolor": "white",
             "linecolor": "white",
             "minorgridcolor": "white",
             "startlinecolor": "#2a3f5f"
            },
            "type": "carpet"
           }
          ],
          "choropleth": [
           {
            "colorbar": {
             "outlinewidth": 0,
             "ticks": ""
            },
            "type": "choropleth"
           }
          ],
          "contour": [
           {
            "colorbar": {
             "outlinewidth": 0,
             "ticks": ""
            },
            "colorscale": [
             [
              0,
              "#0d0887"
             ],
             [
              0.1111111111111111,
              "#46039f"
             ],
             [
              0.2222222222222222,
              "#7201a8"
             ],
             [
              0.3333333333333333,
              "#9c179e"
             ],
             [
              0.4444444444444444,
              "#bd3786"
             ],
             [
              0.5555555555555556,
              "#d8576b"
             ],
             [
              0.6666666666666666,
              "#ed7953"
             ],
             [
              0.7777777777777778,
              "#fb9f3a"
             ],
             [
              0.8888888888888888,
              "#fdca26"
             ],
             [
              1,
              "#f0f921"
             ]
            ],
            "type": "contour"
           }
          ],
          "contourcarpet": [
           {
            "colorbar": {
             "outlinewidth": 0,
             "ticks": ""
            },
            "type": "contourcarpet"
           }
          ],
          "heatmap": [
           {
            "colorbar": {
             "outlinewidth": 0,
             "ticks": ""
            },
            "colorscale": [
             [
              0,
              "#0d0887"
             ],
             [
              0.1111111111111111,
              "#46039f"
             ],
             [
              0.2222222222222222,
              "#7201a8"
             ],
             [
              0.3333333333333333,
              "#9c179e"
             ],
             [
              0.4444444444444444,
              "#bd3786"
             ],
             [
              0.5555555555555556,
              "#d8576b"
             ],
             [
              0.6666666666666666,
              "#ed7953"
             ],
             [
              0.7777777777777778,
              "#fb9f3a"
             ],
             [
              0.8888888888888888,
              "#fdca26"
             ],
             [
              1,
              "#f0f921"
             ]
            ],
            "type": "heatmap"
           }
          ],
          "heatmapgl": [
           {
            "colorbar": {
             "outlinewidth": 0,
             "ticks": ""
            },
            "colorscale": [
             [
              0,
              "#0d0887"
             ],
             [
              0.1111111111111111,
              "#46039f"
             ],
             [
              0.2222222222222222,
              "#7201a8"
             ],
             [
              0.3333333333333333,
              "#9c179e"
             ],
             [
              0.4444444444444444,
              "#bd3786"
             ],
             [
              0.5555555555555556,
              "#d8576b"
             ],
             [
              0.6666666666666666,
              "#ed7953"
             ],
             [
              0.7777777777777778,
              "#fb9f3a"
             ],
             [
              0.8888888888888888,
              "#fdca26"
             ],
             [
              1,
              "#f0f921"
             ]
            ],
            "type": "heatmapgl"
           }
          ],
          "histogram": [
           {
            "marker": {
             "pattern": {
              "fillmode": "overlay",
              "size": 10,
              "solidity": 0.2
             }
            },
            "type": "histogram"
           }
          ],
          "histogram2d": [
           {
            "colorbar": {
             "outlinewidth": 0,
             "ticks": ""
            },
            "colorscale": [
             [
              0,
              "#0d0887"
             ],
             [
              0.1111111111111111,
              "#46039f"
             ],
             [
              0.2222222222222222,
              "#7201a8"
             ],
             [
              0.3333333333333333,
              "#9c179e"
             ],
             [
              0.4444444444444444,
              "#bd3786"
             ],
             [
              0.5555555555555556,
              "#d8576b"
             ],
             [
              0.6666666666666666,
              "#ed7953"
             ],
             [
              0.7777777777777778,
              "#fb9f3a"
             ],
             [
              0.8888888888888888,
              "#fdca26"
             ],
             [
              1,
              "#f0f921"
             ]
            ],
            "type": "histogram2d"
           }
          ],
          "histogram2dcontour": [
           {
            "colorbar": {
             "outlinewidth": 0,
             "ticks": ""
            },
            "colorscale": [
             [
              0,
              "#0d0887"
             ],
             [
              0.1111111111111111,
              "#46039f"
             ],
             [
              0.2222222222222222,
              "#7201a8"
             ],
             [
              0.3333333333333333,
              "#9c179e"
             ],
             [
              0.4444444444444444,
              "#bd3786"
             ],
             [
              0.5555555555555556,
              "#d8576b"
             ],
             [
              0.6666666666666666,
              "#ed7953"
             ],
             [
              0.7777777777777778,
              "#fb9f3a"
             ],
             [
              0.8888888888888888,
              "#fdca26"
             ],
             [
              1,
              "#f0f921"
             ]
            ],
            "type": "histogram2dcontour"
           }
          ],
          "mesh3d": [
           {
            "colorbar": {
             "outlinewidth": 0,
             "ticks": ""
            },
            "type": "mesh3d"
           }
          ],
          "parcoords": [
           {
            "line": {
             "colorbar": {
              "outlinewidth": 0,
              "ticks": ""
             }
            },
            "type": "parcoords"
           }
          ],
          "pie": [
           {
            "automargin": true,
            "type": "pie"
           }
          ],
          "scatter": [
           {
            "fillpattern": {
             "fillmode": "overlay",
             "size": 10,
             "solidity": 0.2
            },
            "type": "scatter"
           }
          ],
          "scatter3d": [
           {
            "line": {
             "colorbar": {
              "outlinewidth": 0,
              "ticks": ""
             }
            },
            "marker": {
             "colorbar": {
              "outlinewidth": 0,
              "ticks": ""
             }
            },
            "type": "scatter3d"
           }
          ],
          "scattercarpet": [
           {
            "marker": {
             "colorbar": {
              "outlinewidth": 0,
              "ticks": ""
             }
            },
            "type": "scattercarpet"
           }
          ],
          "scattergeo": [
           {
            "marker": {
             "colorbar": {
              "outlinewidth": 0,
              "ticks": ""
             }
            },
            "type": "scattergeo"
           }
          ],
          "scattergl": [
           {
            "marker": {
             "colorbar": {
              "outlinewidth": 0,
              "ticks": ""
             }
            },
            "type": "scattergl"
           }
          ],
          "scattermapbox": [
           {
            "marker": {
             "colorbar": {
              "outlinewidth": 0,
              "ticks": ""
             }
            },
            "type": "scattermapbox"
           }
          ],
          "scatterpolar": [
           {
            "marker": {
             "colorbar": {
              "outlinewidth": 0,
              "ticks": ""
             }
            },
            "type": "scatterpolar"
           }
          ],
          "scatterpolargl": [
           {
            "marker": {
             "colorbar": {
              "outlinewidth": 0,
              "ticks": ""
             }
            },
            "type": "scatterpolargl"
           }
          ],
          "scatterternary": [
           {
            "marker": {
             "colorbar": {
              "outlinewidth": 0,
              "ticks": ""
             }
            },
            "type": "scatterternary"
           }
          ],
          "surface": [
           {
            "colorbar": {
             "outlinewidth": 0,
             "ticks": ""
            },
            "colorscale": [
             [
              0,
              "#0d0887"
             ],
             [
              0.1111111111111111,
              "#46039f"
             ],
             [
              0.2222222222222222,
              "#7201a8"
             ],
             [
              0.3333333333333333,
              "#9c179e"
             ],
             [
              0.4444444444444444,
              "#bd3786"
             ],
             [
              0.5555555555555556,
              "#d8576b"
             ],
             [
              0.6666666666666666,
              "#ed7953"
             ],
             [
              0.7777777777777778,
              "#fb9f3a"
             ],
             [
              0.8888888888888888,
              "#fdca26"
             ],
             [
              1,
              "#f0f921"
             ]
            ],
            "type": "surface"
           }
          ],
          "table": [
           {
            "cells": {
             "fill": {
              "color": "#EBF0F8"
             },
             "line": {
              "color": "white"
             }
            },
            "header": {
             "fill": {
              "color": "#C8D4E3"
             },
             "line": {
              "color": "white"
             }
            },
            "type": "table"
           }
          ]
         },
         "layout": {
          "annotationdefaults": {
           "arrowcolor": "#2a3f5f",
           "arrowhead": 0,
           "arrowwidth": 1
          },
          "autotypenumbers": "strict",
          "coloraxis": {
           "colorbar": {
            "outlinewidth": 0,
            "ticks": ""
           }
          },
          "colorscale": {
           "diverging": [
            [
             0,
             "#8e0152"
            ],
            [
             0.1,
             "#c51b7d"
            ],
            [
             0.2,
             "#de77ae"
            ],
            [
             0.3,
             "#f1b6da"
            ],
            [
             0.4,
             "#fde0ef"
            ],
            [
             0.5,
             "#f7f7f7"
            ],
            [
             0.6,
             "#e6f5d0"
            ],
            [
             0.7,
             "#b8e186"
            ],
            [
             0.8,
             "#7fbc41"
            ],
            [
             0.9,
             "#4d9221"
            ],
            [
             1,
             "#276419"
            ]
           ],
           "sequential": [
            [
             0,
             "#0d0887"
            ],
            [
             0.1111111111111111,
             "#46039f"
            ],
            [
             0.2222222222222222,
             "#7201a8"
            ],
            [
             0.3333333333333333,
             "#9c179e"
            ],
            [
             0.4444444444444444,
             "#bd3786"
            ],
            [
             0.5555555555555556,
             "#d8576b"
            ],
            [
             0.6666666666666666,
             "#ed7953"
            ],
            [
             0.7777777777777778,
             "#fb9f3a"
            ],
            [
             0.8888888888888888,
             "#fdca26"
            ],
            [
             1,
             "#f0f921"
            ]
           ],
           "sequentialminus": [
            [
             0,
             "#0d0887"
            ],
            [
             0.1111111111111111,
             "#46039f"
            ],
            [
             0.2222222222222222,
             "#7201a8"
            ],
            [
             0.3333333333333333,
             "#9c179e"
            ],
            [
             0.4444444444444444,
             "#bd3786"
            ],
            [
             0.5555555555555556,
             "#d8576b"
            ],
            [
             0.6666666666666666,
             "#ed7953"
            ],
            [
             0.7777777777777778,
             "#fb9f3a"
            ],
            [
             0.8888888888888888,
             "#fdca26"
            ],
            [
             1,
             "#f0f921"
            ]
           ]
          },
          "colorway": [
           "#636efa",
           "#EF553B",
           "#00cc96",
           "#ab63fa",
           "#FFA15A",
           "#19d3f3",
           "#FF6692",
           "#B6E880",
           "#FF97FF",
           "#FECB52"
          ],
          "font": {
           "color": "#2a3f5f"
          },
          "geo": {
           "bgcolor": "white",
           "lakecolor": "white",
           "landcolor": "#E5ECF6",
           "showlakes": true,
           "showland": true,
           "subunitcolor": "white"
          },
          "hoverlabel": {
           "align": "left"
          },
          "hovermode": "closest",
          "mapbox": {
           "style": "light"
          },
          "paper_bgcolor": "white",
          "plot_bgcolor": "#E5ECF6",
          "polar": {
           "angularaxis": {
            "gridcolor": "white",
            "linecolor": "white",
            "ticks": ""
           },
           "bgcolor": "#E5ECF6",
           "radialaxis": {
            "gridcolor": "white",
            "linecolor": "white",
            "ticks": ""
           }
          },
          "scene": {
           "xaxis": {
            "backgroundcolor": "#E5ECF6",
            "gridcolor": "white",
            "gridwidth": 2,
            "linecolor": "white",
            "showbackground": true,
            "ticks": "",
            "zerolinecolor": "white"
           },
           "yaxis": {
            "backgroundcolor": "#E5ECF6",
            "gridcolor": "white",
            "gridwidth": 2,
            "linecolor": "white",
            "showbackground": true,
            "ticks": "",
            "zerolinecolor": "white"
           },
           "zaxis": {
            "backgroundcolor": "#E5ECF6",
            "gridcolor": "white",
            "gridwidth": 2,
            "linecolor": "white",
            "showbackground": true,
            "ticks": "",
            "zerolinecolor": "white"
           }
          },
          "shapedefaults": {
           "line": {
            "color": "#2a3f5f"
           }
          },
          "ternary": {
           "aaxis": {
            "gridcolor": "white",
            "linecolor": "white",
            "ticks": ""
           },
           "baxis": {
            "gridcolor": "white",
            "linecolor": "white",
            "ticks": ""
           },
           "bgcolor": "#E5ECF6",
           "caxis": {
            "gridcolor": "white",
            "linecolor": "white",
            "ticks": ""
           }
          },
          "title": {
           "x": 0.05
          },
          "xaxis": {
           "automargin": true,
           "gridcolor": "white",
           "linecolor": "white",
           "ticks": "",
           "title": {
            "standoff": 15
           },
           "zerolinecolor": "white",
           "zerolinewidth": 2
          },
          "yaxis": {
           "automargin": true,
           "gridcolor": "white",
           "linecolor": "white",
           "ticks": "",
           "title": {
            "standoff": 15
           },
           "zerolinecolor": "white",
           "zerolinewidth": 2
          }
         }
        },
        "title": {
         "text": "Actual and Predicted Wheel Speeds, Recording 0, Trial 0"
        },
        "xaxis": {
         "title": {
          "text": "Time"
         }
        },
        "yaxis": {
         "title": {
          "text": "Value"
         }
        }
       }
      }
     },
     "metadata": {},
     "output_type": "display_data"
    },
    {
     "name": "stdout",
     "output_type": "stream",
     "text": [
      "Training Evaluation, Recording 0, Loss 0.005760076455771923\n"
     ]
    },
    {
     "data": {
      "application/vnd.plotly.v1+json": {
       "config": {
        "plotlyServerURL": "https://plot.ly"
       },
       "data": [
        {
         "name": "Actual",
         "type": "scatter",
         "y": [
          0.006409725174307823,
          0.007664985954761505,
          0.0105329230427742,
          0.015679068863391876,
          0.02397785894572735,
          0.03633875027298927,
          0.05343221500515938,
          0.07537032663822174,
          0.10142721235752106,
          0.12988492846488953,
          0.1581195741891861,
          0.18297269940376282,
          0.20135416090488434,
          0.21091832220554352,
          0.21061009168624878,
          0.2009161114692688,
          0.1837194412946701,
          0.16183045506477356,
          0.13833671808242798,
          0.11597971618175507,
          0.09672075510025024,
          0.08156886696815491,
          0.07064888626337051,
          0.063430055975914,
          0.05900629237294197,
          0.05635611340403557,
          0.054541077464818954,
          0.052824717015028,
          0.050730105489492416,
          0.04804610460996628,
          0.04477738216519356,
          0.041080914437770844,
          0.03720397502183914,
          0.03341398388147354,
          0.029952261596918106,
          0.0269935205578804,
          0.024641603231430054,
          0.022926701232790947,
          0.021823367103934288,
          0.02128772996366024
         ]
        },
        {
         "name": "Predicted",
         "type": "scatter",
         "y": [
          0.022321229800581932,
          0.014468799345195293,
          -0.026986591517925262,
          -0.0031810104846954346,
          -0.022026345133781433,
          0.0429840087890625,
          0.035706039518117905,
          0.10128049552440643,
          0.09486319124698639,
          0.07604613155126572,
          0.11509137600660324,
          0.20751354098320007,
          0.2231055200099945,
          0.21469637751579285,
          0.22965045273303986,
          0.266753613948822,
          0.2025030553340912,
          0.2272263467311859,
          0.200493723154068,
          0.22233067452907562,
          0.176408052444458,
          0.11392296850681305,
          0.12345829606056213,
          0.09689471870660782,
          0.10352849960327148,
          0.14221777021884918,
          0.10436934232711792,
          0.0997411385178566,
          0.13456594944000244,
          0.13116049766540527,
          0.08510502427816391,
          0.06488094478845596,
          0.05247695744037628,
          0.09214901179075241,
          0.11097683012485504,
          0.07342822849750519,
          0.054194625467061996,
          0.09969630837440491,
          0.08451738953590393,
          0.07359931617975235
         ]
        }
       ],
       "layout": {
        "template": {
         "data": {
          "bar": [
           {
            "error_x": {
             "color": "#2a3f5f"
            },
            "error_y": {
             "color": "#2a3f5f"
            },
            "marker": {
             "line": {
              "color": "#E5ECF6",
              "width": 0.5
             },
             "pattern": {
              "fillmode": "overlay",
              "size": 10,
              "solidity": 0.2
             }
            },
            "type": "bar"
           }
          ],
          "barpolar": [
           {
            "marker": {
             "line": {
              "color": "#E5ECF6",
              "width": 0.5
             },
             "pattern": {
              "fillmode": "overlay",
              "size": 10,
              "solidity": 0.2
             }
            },
            "type": "barpolar"
           }
          ],
          "carpet": [
           {
            "aaxis": {
             "endlinecolor": "#2a3f5f",
             "gridcolor": "white",
             "linecolor": "white",
             "minorgridcolor": "white",
             "startlinecolor": "#2a3f5f"
            },
            "baxis": {
             "endlinecolor": "#2a3f5f",
             "gridcolor": "white",
             "linecolor": "white",
             "minorgridcolor": "white",
             "startlinecolor": "#2a3f5f"
            },
            "type": "carpet"
           }
          ],
          "choropleth": [
           {
            "colorbar": {
             "outlinewidth": 0,
             "ticks": ""
            },
            "type": "choropleth"
           }
          ],
          "contour": [
           {
            "colorbar": {
             "outlinewidth": 0,
             "ticks": ""
            },
            "colorscale": [
             [
              0,
              "#0d0887"
             ],
             [
              0.1111111111111111,
              "#46039f"
             ],
             [
              0.2222222222222222,
              "#7201a8"
             ],
             [
              0.3333333333333333,
              "#9c179e"
             ],
             [
              0.4444444444444444,
              "#bd3786"
             ],
             [
              0.5555555555555556,
              "#d8576b"
             ],
             [
              0.6666666666666666,
              "#ed7953"
             ],
             [
              0.7777777777777778,
              "#fb9f3a"
             ],
             [
              0.8888888888888888,
              "#fdca26"
             ],
             [
              1,
              "#f0f921"
             ]
            ],
            "type": "contour"
           }
          ],
          "contourcarpet": [
           {
            "colorbar": {
             "outlinewidth": 0,
             "ticks": ""
            },
            "type": "contourcarpet"
           }
          ],
          "heatmap": [
           {
            "colorbar": {
             "outlinewidth": 0,
             "ticks": ""
            },
            "colorscale": [
             [
              0,
              "#0d0887"
             ],
             [
              0.1111111111111111,
              "#46039f"
             ],
             [
              0.2222222222222222,
              "#7201a8"
             ],
             [
              0.3333333333333333,
              "#9c179e"
             ],
             [
              0.4444444444444444,
              "#bd3786"
             ],
             [
              0.5555555555555556,
              "#d8576b"
             ],
             [
              0.6666666666666666,
              "#ed7953"
             ],
             [
              0.7777777777777778,
              "#fb9f3a"
             ],
             [
              0.8888888888888888,
              "#fdca26"
             ],
             [
              1,
              "#f0f921"
             ]
            ],
            "type": "heatmap"
           }
          ],
          "heatmapgl": [
           {
            "colorbar": {
             "outlinewidth": 0,
             "ticks": ""
            },
            "colorscale": [
             [
              0,
              "#0d0887"
             ],
             [
              0.1111111111111111,
              "#46039f"
             ],
             [
              0.2222222222222222,
              "#7201a8"
             ],
             [
              0.3333333333333333,
              "#9c179e"
             ],
             [
              0.4444444444444444,
              "#bd3786"
             ],
             [
              0.5555555555555556,
              "#d8576b"
             ],
             [
              0.6666666666666666,
              "#ed7953"
             ],
             [
              0.7777777777777778,
              "#fb9f3a"
             ],
             [
              0.8888888888888888,
              "#fdca26"
             ],
             [
              1,
              "#f0f921"
             ]
            ],
            "type": "heatmapgl"
           }
          ],
          "histogram": [
           {
            "marker": {
             "pattern": {
              "fillmode": "overlay",
              "size": 10,
              "solidity": 0.2
             }
            },
            "type": "histogram"
           }
          ],
          "histogram2d": [
           {
            "colorbar": {
             "outlinewidth": 0,
             "ticks": ""
            },
            "colorscale": [
             [
              0,
              "#0d0887"
             ],
             [
              0.1111111111111111,
              "#46039f"
             ],
             [
              0.2222222222222222,
              "#7201a8"
             ],
             [
              0.3333333333333333,
              "#9c179e"
             ],
             [
              0.4444444444444444,
              "#bd3786"
             ],
             [
              0.5555555555555556,
              "#d8576b"
             ],
             [
              0.6666666666666666,
              "#ed7953"
             ],
             [
              0.7777777777777778,
              "#fb9f3a"
             ],
             [
              0.8888888888888888,
              "#fdca26"
             ],
             [
              1,
              "#f0f921"
             ]
            ],
            "type": "histogram2d"
           }
          ],
          "histogram2dcontour": [
           {
            "colorbar": {
             "outlinewidth": 0,
             "ticks": ""
            },
            "colorscale": [
             [
              0,
              "#0d0887"
             ],
             [
              0.1111111111111111,
              "#46039f"
             ],
             [
              0.2222222222222222,
              "#7201a8"
             ],
             [
              0.3333333333333333,
              "#9c179e"
             ],
             [
              0.4444444444444444,
              "#bd3786"
             ],
             [
              0.5555555555555556,
              "#d8576b"
             ],
             [
              0.6666666666666666,
              "#ed7953"
             ],
             [
              0.7777777777777778,
              "#fb9f3a"
             ],
             [
              0.8888888888888888,
              "#fdca26"
             ],
             [
              1,
              "#f0f921"
             ]
            ],
            "type": "histogram2dcontour"
           }
          ],
          "mesh3d": [
           {
            "colorbar": {
             "outlinewidth": 0,
             "ticks": ""
            },
            "type": "mesh3d"
           }
          ],
          "parcoords": [
           {
            "line": {
             "colorbar": {
              "outlinewidth": 0,
              "ticks": ""
             }
            },
            "type": "parcoords"
           }
          ],
          "pie": [
           {
            "automargin": true,
            "type": "pie"
           }
          ],
          "scatter": [
           {
            "fillpattern": {
             "fillmode": "overlay",
             "size": 10,
             "solidity": 0.2
            },
            "type": "scatter"
           }
          ],
          "scatter3d": [
           {
            "line": {
             "colorbar": {
              "outlinewidth": 0,
              "ticks": ""
             }
            },
            "marker": {
             "colorbar": {
              "outlinewidth": 0,
              "ticks": ""
             }
            },
            "type": "scatter3d"
           }
          ],
          "scattercarpet": [
           {
            "marker": {
             "colorbar": {
              "outlinewidth": 0,
              "ticks": ""
             }
            },
            "type": "scattercarpet"
           }
          ],
          "scattergeo": [
           {
            "marker": {
             "colorbar": {
              "outlinewidth": 0,
              "ticks": ""
             }
            },
            "type": "scattergeo"
           }
          ],
          "scattergl": [
           {
            "marker": {
             "colorbar": {
              "outlinewidth": 0,
              "ticks": ""
             }
            },
            "type": "scattergl"
           }
          ],
          "scattermapbox": [
           {
            "marker": {
             "colorbar": {
              "outlinewidth": 0,
              "ticks": ""
             }
            },
            "type": "scattermapbox"
           }
          ],
          "scatterpolar": [
           {
            "marker": {
             "colorbar": {
              "outlinewidth": 0,
              "ticks": ""
             }
            },
            "type": "scatterpolar"
           }
          ],
          "scatterpolargl": [
           {
            "marker": {
             "colorbar": {
              "outlinewidth": 0,
              "ticks": ""
             }
            },
            "type": "scatterpolargl"
           }
          ],
          "scatterternary": [
           {
            "marker": {
             "colorbar": {
              "outlinewidth": 0,
              "ticks": ""
             }
            },
            "type": "scatterternary"
           }
          ],
          "surface": [
           {
            "colorbar": {
             "outlinewidth": 0,
             "ticks": ""
            },
            "colorscale": [
             [
              0,
              "#0d0887"
             ],
             [
              0.1111111111111111,
              "#46039f"
             ],
             [
              0.2222222222222222,
              "#7201a8"
             ],
             [
              0.3333333333333333,
              "#9c179e"
             ],
             [
              0.4444444444444444,
              "#bd3786"
             ],
             [
              0.5555555555555556,
              "#d8576b"
             ],
             [
              0.6666666666666666,
              "#ed7953"
             ],
             [
              0.7777777777777778,
              "#fb9f3a"
             ],
             [
              0.8888888888888888,
              "#fdca26"
             ],
             [
              1,
              "#f0f921"
             ]
            ],
            "type": "surface"
           }
          ],
          "table": [
           {
            "cells": {
             "fill": {
              "color": "#EBF0F8"
             },
             "line": {
              "color": "white"
             }
            },
            "header": {
             "fill": {
              "color": "#C8D4E3"
             },
             "line": {
              "color": "white"
             }
            },
            "type": "table"
           }
          ]
         },
         "layout": {
          "annotationdefaults": {
           "arrowcolor": "#2a3f5f",
           "arrowhead": 0,
           "arrowwidth": 1
          },
          "autotypenumbers": "strict",
          "coloraxis": {
           "colorbar": {
            "outlinewidth": 0,
            "ticks": ""
           }
          },
          "colorscale": {
           "diverging": [
            [
             0,
             "#8e0152"
            ],
            [
             0.1,
             "#c51b7d"
            ],
            [
             0.2,
             "#de77ae"
            ],
            [
             0.3,
             "#f1b6da"
            ],
            [
             0.4,
             "#fde0ef"
            ],
            [
             0.5,
             "#f7f7f7"
            ],
            [
             0.6,
             "#e6f5d0"
            ],
            [
             0.7,
             "#b8e186"
            ],
            [
             0.8,
             "#7fbc41"
            ],
            [
             0.9,
             "#4d9221"
            ],
            [
             1,
             "#276419"
            ]
           ],
           "sequential": [
            [
             0,
             "#0d0887"
            ],
            [
             0.1111111111111111,
             "#46039f"
            ],
            [
             0.2222222222222222,
             "#7201a8"
            ],
            [
             0.3333333333333333,
             "#9c179e"
            ],
            [
             0.4444444444444444,
             "#bd3786"
            ],
            [
             0.5555555555555556,
             "#d8576b"
            ],
            [
             0.6666666666666666,
             "#ed7953"
            ],
            [
             0.7777777777777778,
             "#fb9f3a"
            ],
            [
             0.8888888888888888,
             "#fdca26"
            ],
            [
             1,
             "#f0f921"
            ]
           ],
           "sequentialminus": [
            [
             0,
             "#0d0887"
            ],
            [
             0.1111111111111111,
             "#46039f"
            ],
            [
             0.2222222222222222,
             "#7201a8"
            ],
            [
             0.3333333333333333,
             "#9c179e"
            ],
            [
             0.4444444444444444,
             "#bd3786"
            ],
            [
             0.5555555555555556,
             "#d8576b"
            ],
            [
             0.6666666666666666,
             "#ed7953"
            ],
            [
             0.7777777777777778,
             "#fb9f3a"
            ],
            [
             0.8888888888888888,
             "#fdca26"
            ],
            [
             1,
             "#f0f921"
            ]
           ]
          },
          "colorway": [
           "#636efa",
           "#EF553B",
           "#00cc96",
           "#ab63fa",
           "#FFA15A",
           "#19d3f3",
           "#FF6692",
           "#B6E880",
           "#FF97FF",
           "#FECB52"
          ],
          "font": {
           "color": "#2a3f5f"
          },
          "geo": {
           "bgcolor": "white",
           "lakecolor": "white",
           "landcolor": "#E5ECF6",
           "showlakes": true,
           "showland": true,
           "subunitcolor": "white"
          },
          "hoverlabel": {
           "align": "left"
          },
          "hovermode": "closest",
          "mapbox": {
           "style": "light"
          },
          "paper_bgcolor": "white",
          "plot_bgcolor": "#E5ECF6",
          "polar": {
           "angularaxis": {
            "gridcolor": "white",
            "linecolor": "white",
            "ticks": ""
           },
           "bgcolor": "#E5ECF6",
           "radialaxis": {
            "gridcolor": "white",
            "linecolor": "white",
            "ticks": ""
           }
          },
          "scene": {
           "xaxis": {
            "backgroundcolor": "#E5ECF6",
            "gridcolor": "white",
            "gridwidth": 2,
            "linecolor": "white",
            "showbackground": true,
            "ticks": "",
            "zerolinecolor": "white"
           },
           "yaxis": {
            "backgroundcolor": "#E5ECF6",
            "gridcolor": "white",
            "gridwidth": 2,
            "linecolor": "white",
            "showbackground": true,
            "ticks": "",
            "zerolinecolor": "white"
           },
           "zaxis": {
            "backgroundcolor": "#E5ECF6",
            "gridcolor": "white",
            "gridwidth": 2,
            "linecolor": "white",
            "showbackground": true,
            "ticks": "",
            "zerolinecolor": "white"
           }
          },
          "shapedefaults": {
           "line": {
            "color": "#2a3f5f"
           }
          },
          "ternary": {
           "aaxis": {
            "gridcolor": "white",
            "linecolor": "white",
            "ticks": ""
           },
           "baxis": {
            "gridcolor": "white",
            "linecolor": "white",
            "ticks": ""
           },
           "bgcolor": "#E5ECF6",
           "caxis": {
            "gridcolor": "white",
            "linecolor": "white",
            "ticks": ""
           }
          },
          "title": {
           "x": 0.05
          },
          "xaxis": {
           "automargin": true,
           "gridcolor": "white",
           "linecolor": "white",
           "ticks": "",
           "title": {
            "standoff": 15
           },
           "zerolinecolor": "white",
           "zerolinewidth": 2
          },
          "yaxis": {
           "automargin": true,
           "gridcolor": "white",
           "linecolor": "white",
           "ticks": "",
           "title": {
            "standoff": 15
           },
           "zerolinecolor": "white",
           "zerolinewidth": 2
          }
         }
        },
        "title": {
         "text": "Actual and Predicted Wheel Speeds, Recording 1, Trial 0"
        },
        "xaxis": {
         "title": {
          "text": "Time"
         }
        },
        "yaxis": {
         "title": {
          "text": "Value"
         }
        }
       }
      }
     },
     "metadata": {},
     "output_type": "display_data"
    },
    {
     "name": "stdout",
     "output_type": "stream",
     "text": [
      "Training Evaluation, Recording 1, Loss 0.009752118028700352\n"
     ]
    },
    {
     "data": {
      "application/vnd.plotly.v1+json": {
       "config": {
        "plotlyServerURL": "https://plot.ly"
       },
       "data": [
        {
         "name": "Actual",
         "type": "scatter",
         "y": [
          0.005854807328432798,
          0.008377761580049992,
          0.013873311690986156,
          0.023145712912082672,
          0.03715107962489128,
          0.056702129542827606,
          0.0820932388305664,
          0.1127484142780304,
          0.147009938955307,
          0.18217016756534576,
          0.21480388939380646,
          0.24138133227825165,
          0.258981853723526,
          0.26593735814094543,
          0.26218846440315247,
          0.24929243326187134,
          0.23003682494163513,
          0.20782308280467987,
          0.18598198890686035,
          0.1671532541513443,
          0.1529054194688797,
          0.14362159371376038,
          0.1386573314666748,
          0.1366928517818451,
          0.13616617023944855,
          0.13566072285175323,
          0.1341477781534195,
          0.1310454159975052,
          0.12613540887832642,
          0.11941084265708923,
          0.11094661802053452,
          0.10088428854942322,
          0.08946189284324646,
          0.0770869180560112,
          0.06437870860099792,
          0.05210741609334946,
          0.04110585153102875,
          0.032141875475645065,
          0.025828015059232712,
          0.022572511807084084
         ]
        },
        {
         "name": "Predicted",
         "type": "scatter",
         "y": [
          0.026920046657323837,
          0.026571158319711685,
          0.008838480338454247,
          0.016181306913495064,
          -0.00563242519274354,
          0.022251663729548454,
          0.0410098172724247,
          0.03671351820230484,
          0.03510601818561554,
          0.0178120955824852,
          0.03958344832062721,
          0.09904259443283081,
          0.05827862769365311,
          0.09059656411409378,
          0.08182299882173538,
          0.05087105184793472,
          0.12146100401878357,
          0.06042657792568207,
          0.04781826585531235,
          0.08025306463241577,
          0.053241223096847534,
          0.07488774508237839,
          0.036816373467445374,
          0.06983944773674011,
          0.04136718064546585,
          0.06513206660747528,
          0.04870789870619774,
          0.03446818143129349,
          0.06311830133199692,
          0.05032447353005409,
          0.0115633774548769,
          0.04858255386352539,
          0.05563472956418991,
          0.04358970746397972,
          0.0766519084572792,
          0.056752994656562805,
          0.032098881900310516,
          0.05945201218128204,
          0.02179783023893833,
          0.006366184446960688
         ]
        }
       ],
       "layout": {
        "template": {
         "data": {
          "bar": [
           {
            "error_x": {
             "color": "#2a3f5f"
            },
            "error_y": {
             "color": "#2a3f5f"
            },
            "marker": {
             "line": {
              "color": "#E5ECF6",
              "width": 0.5
             },
             "pattern": {
              "fillmode": "overlay",
              "size": 10,
              "solidity": 0.2
             }
            },
            "type": "bar"
           }
          ],
          "barpolar": [
           {
            "marker": {
             "line": {
              "color": "#E5ECF6",
              "width": 0.5
             },
             "pattern": {
              "fillmode": "overlay",
              "size": 10,
              "solidity": 0.2
             }
            },
            "type": "barpolar"
           }
          ],
          "carpet": [
           {
            "aaxis": {
             "endlinecolor": "#2a3f5f",
             "gridcolor": "white",
             "linecolor": "white",
             "minorgridcolor": "white",
             "startlinecolor": "#2a3f5f"
            },
            "baxis": {
             "endlinecolor": "#2a3f5f",
             "gridcolor": "white",
             "linecolor": "white",
             "minorgridcolor": "white",
             "startlinecolor": "#2a3f5f"
            },
            "type": "carpet"
           }
          ],
          "choropleth": [
           {
            "colorbar": {
             "outlinewidth": 0,
             "ticks": ""
            },
            "type": "choropleth"
           }
          ],
          "contour": [
           {
            "colorbar": {
             "outlinewidth": 0,
             "ticks": ""
            },
            "colorscale": [
             [
              0,
              "#0d0887"
             ],
             [
              0.1111111111111111,
              "#46039f"
             ],
             [
              0.2222222222222222,
              "#7201a8"
             ],
             [
              0.3333333333333333,
              "#9c179e"
             ],
             [
              0.4444444444444444,
              "#bd3786"
             ],
             [
              0.5555555555555556,
              "#d8576b"
             ],
             [
              0.6666666666666666,
              "#ed7953"
             ],
             [
              0.7777777777777778,
              "#fb9f3a"
             ],
             [
              0.8888888888888888,
              "#fdca26"
             ],
             [
              1,
              "#f0f921"
             ]
            ],
            "type": "contour"
           }
          ],
          "contourcarpet": [
           {
            "colorbar": {
             "outlinewidth": 0,
             "ticks": ""
            },
            "type": "contourcarpet"
           }
          ],
          "heatmap": [
           {
            "colorbar": {
             "outlinewidth": 0,
             "ticks": ""
            },
            "colorscale": [
             [
              0,
              "#0d0887"
             ],
             [
              0.1111111111111111,
              "#46039f"
             ],
             [
              0.2222222222222222,
              "#7201a8"
             ],
             [
              0.3333333333333333,
              "#9c179e"
             ],
             [
              0.4444444444444444,
              "#bd3786"
             ],
             [
              0.5555555555555556,
              "#d8576b"
             ],
             [
              0.6666666666666666,
              "#ed7953"
             ],
             [
              0.7777777777777778,
              "#fb9f3a"
             ],
             [
              0.8888888888888888,
              "#fdca26"
             ],
             [
              1,
              "#f0f921"
             ]
            ],
            "type": "heatmap"
           }
          ],
          "heatmapgl": [
           {
            "colorbar": {
             "outlinewidth": 0,
             "ticks": ""
            },
            "colorscale": [
             [
              0,
              "#0d0887"
             ],
             [
              0.1111111111111111,
              "#46039f"
             ],
             [
              0.2222222222222222,
              "#7201a8"
             ],
             [
              0.3333333333333333,
              "#9c179e"
             ],
             [
              0.4444444444444444,
              "#bd3786"
             ],
             [
              0.5555555555555556,
              "#d8576b"
             ],
             [
              0.6666666666666666,
              "#ed7953"
             ],
             [
              0.7777777777777778,
              "#fb9f3a"
             ],
             [
              0.8888888888888888,
              "#fdca26"
             ],
             [
              1,
              "#f0f921"
             ]
            ],
            "type": "heatmapgl"
           }
          ],
          "histogram": [
           {
            "marker": {
             "pattern": {
              "fillmode": "overlay",
              "size": 10,
              "solidity": 0.2
             }
            },
            "type": "histogram"
           }
          ],
          "histogram2d": [
           {
            "colorbar": {
             "outlinewidth": 0,
             "ticks": ""
            },
            "colorscale": [
             [
              0,
              "#0d0887"
             ],
             [
              0.1111111111111111,
              "#46039f"
             ],
             [
              0.2222222222222222,
              "#7201a8"
             ],
             [
              0.3333333333333333,
              "#9c179e"
             ],
             [
              0.4444444444444444,
              "#bd3786"
             ],
             [
              0.5555555555555556,
              "#d8576b"
             ],
             [
              0.6666666666666666,
              "#ed7953"
             ],
             [
              0.7777777777777778,
              "#fb9f3a"
             ],
             [
              0.8888888888888888,
              "#fdca26"
             ],
             [
              1,
              "#f0f921"
             ]
            ],
            "type": "histogram2d"
           }
          ],
          "histogram2dcontour": [
           {
            "colorbar": {
             "outlinewidth": 0,
             "ticks": ""
            },
            "colorscale": [
             [
              0,
              "#0d0887"
             ],
             [
              0.1111111111111111,
              "#46039f"
             ],
             [
              0.2222222222222222,
              "#7201a8"
             ],
             [
              0.3333333333333333,
              "#9c179e"
             ],
             [
              0.4444444444444444,
              "#bd3786"
             ],
             [
              0.5555555555555556,
              "#d8576b"
             ],
             [
              0.6666666666666666,
              "#ed7953"
             ],
             [
              0.7777777777777778,
              "#fb9f3a"
             ],
             [
              0.8888888888888888,
              "#fdca26"
             ],
             [
              1,
              "#f0f921"
             ]
            ],
            "type": "histogram2dcontour"
           }
          ],
          "mesh3d": [
           {
            "colorbar": {
             "outlinewidth": 0,
             "ticks": ""
            },
            "type": "mesh3d"
           }
          ],
          "parcoords": [
           {
            "line": {
             "colorbar": {
              "outlinewidth": 0,
              "ticks": ""
             }
            },
            "type": "parcoords"
           }
          ],
          "pie": [
           {
            "automargin": true,
            "type": "pie"
           }
          ],
          "scatter": [
           {
            "fillpattern": {
             "fillmode": "overlay",
             "size": 10,
             "solidity": 0.2
            },
            "type": "scatter"
           }
          ],
          "scatter3d": [
           {
            "line": {
             "colorbar": {
              "outlinewidth": 0,
              "ticks": ""
             }
            },
            "marker": {
             "colorbar": {
              "outlinewidth": 0,
              "ticks": ""
             }
            },
            "type": "scatter3d"
           }
          ],
          "scattercarpet": [
           {
            "marker": {
             "colorbar": {
              "outlinewidth": 0,
              "ticks": ""
             }
            },
            "type": "scattercarpet"
           }
          ],
          "scattergeo": [
           {
            "marker": {
             "colorbar": {
              "outlinewidth": 0,
              "ticks": ""
             }
            },
            "type": "scattergeo"
           }
          ],
          "scattergl": [
           {
            "marker": {
             "colorbar": {
              "outlinewidth": 0,
              "ticks": ""
             }
            },
            "type": "scattergl"
           }
          ],
          "scattermapbox": [
           {
            "marker": {
             "colorbar": {
              "outlinewidth": 0,
              "ticks": ""
             }
            },
            "type": "scattermapbox"
           }
          ],
          "scatterpolar": [
           {
            "marker": {
             "colorbar": {
              "outlinewidth": 0,
              "ticks": ""
             }
            },
            "type": "scatterpolar"
           }
          ],
          "scatterpolargl": [
           {
            "marker": {
             "colorbar": {
              "outlinewidth": 0,
              "ticks": ""
             }
            },
            "type": "scatterpolargl"
           }
          ],
          "scatterternary": [
           {
            "marker": {
             "colorbar": {
              "outlinewidth": 0,
              "ticks": ""
             }
            },
            "type": "scatterternary"
           }
          ],
          "surface": [
           {
            "colorbar": {
             "outlinewidth": 0,
             "ticks": ""
            },
            "colorscale": [
             [
              0,
              "#0d0887"
             ],
             [
              0.1111111111111111,
              "#46039f"
             ],
             [
              0.2222222222222222,
              "#7201a8"
             ],
             [
              0.3333333333333333,
              "#9c179e"
             ],
             [
              0.4444444444444444,
              "#bd3786"
             ],
             [
              0.5555555555555556,
              "#d8576b"
             ],
             [
              0.6666666666666666,
              "#ed7953"
             ],
             [
              0.7777777777777778,
              "#fb9f3a"
             ],
             [
              0.8888888888888888,
              "#fdca26"
             ],
             [
              1,
              "#f0f921"
             ]
            ],
            "type": "surface"
           }
          ],
          "table": [
           {
            "cells": {
             "fill": {
              "color": "#EBF0F8"
             },
             "line": {
              "color": "white"
             }
            },
            "header": {
             "fill": {
              "color": "#C8D4E3"
             },
             "line": {
              "color": "white"
             }
            },
            "type": "table"
           }
          ]
         },
         "layout": {
          "annotationdefaults": {
           "arrowcolor": "#2a3f5f",
           "arrowhead": 0,
           "arrowwidth": 1
          },
          "autotypenumbers": "strict",
          "coloraxis": {
           "colorbar": {
            "outlinewidth": 0,
            "ticks": ""
           }
          },
          "colorscale": {
           "diverging": [
            [
             0,
             "#8e0152"
            ],
            [
             0.1,
             "#c51b7d"
            ],
            [
             0.2,
             "#de77ae"
            ],
            [
             0.3,
             "#f1b6da"
            ],
            [
             0.4,
             "#fde0ef"
            ],
            [
             0.5,
             "#f7f7f7"
            ],
            [
             0.6,
             "#e6f5d0"
            ],
            [
             0.7,
             "#b8e186"
            ],
            [
             0.8,
             "#7fbc41"
            ],
            [
             0.9,
             "#4d9221"
            ],
            [
             1,
             "#276419"
            ]
           ],
           "sequential": [
            [
             0,
             "#0d0887"
            ],
            [
             0.1111111111111111,
             "#46039f"
            ],
            [
             0.2222222222222222,
             "#7201a8"
            ],
            [
             0.3333333333333333,
             "#9c179e"
            ],
            [
             0.4444444444444444,
             "#bd3786"
            ],
            [
             0.5555555555555556,
             "#d8576b"
            ],
            [
             0.6666666666666666,
             "#ed7953"
            ],
            [
             0.7777777777777778,
             "#fb9f3a"
            ],
            [
             0.8888888888888888,
             "#fdca26"
            ],
            [
             1,
             "#f0f921"
            ]
           ],
           "sequentialminus": [
            [
             0,
             "#0d0887"
            ],
            [
             0.1111111111111111,
             "#46039f"
            ],
            [
             0.2222222222222222,
             "#7201a8"
            ],
            [
             0.3333333333333333,
             "#9c179e"
            ],
            [
             0.4444444444444444,
             "#bd3786"
            ],
            [
             0.5555555555555556,
             "#d8576b"
            ],
            [
             0.6666666666666666,
             "#ed7953"
            ],
            [
             0.7777777777777778,
             "#fb9f3a"
            ],
            [
             0.8888888888888888,
             "#fdca26"
            ],
            [
             1,
             "#f0f921"
            ]
           ]
          },
          "colorway": [
           "#636efa",
           "#EF553B",
           "#00cc96",
           "#ab63fa",
           "#FFA15A",
           "#19d3f3",
           "#FF6692",
           "#B6E880",
           "#FF97FF",
           "#FECB52"
          ],
          "font": {
           "color": "#2a3f5f"
          },
          "geo": {
           "bgcolor": "white",
           "lakecolor": "white",
           "landcolor": "#E5ECF6",
           "showlakes": true,
           "showland": true,
           "subunitcolor": "white"
          },
          "hoverlabel": {
           "align": "left"
          },
          "hovermode": "closest",
          "mapbox": {
           "style": "light"
          },
          "paper_bgcolor": "white",
          "plot_bgcolor": "#E5ECF6",
          "polar": {
           "angularaxis": {
            "gridcolor": "white",
            "linecolor": "white",
            "ticks": ""
           },
           "bgcolor": "#E5ECF6",
           "radialaxis": {
            "gridcolor": "white",
            "linecolor": "white",
            "ticks": ""
           }
          },
          "scene": {
           "xaxis": {
            "backgroundcolor": "#E5ECF6",
            "gridcolor": "white",
            "gridwidth": 2,
            "linecolor": "white",
            "showbackground": true,
            "ticks": "",
            "zerolinecolor": "white"
           },
           "yaxis": {
            "backgroundcolor": "#E5ECF6",
            "gridcolor": "white",
            "gridwidth": 2,
            "linecolor": "white",
            "showbackground": true,
            "ticks": "",
            "zerolinecolor": "white"
           },
           "zaxis": {
            "backgroundcolor": "#E5ECF6",
            "gridcolor": "white",
            "gridwidth": 2,
            "linecolor": "white",
            "showbackground": true,
            "ticks": "",
            "zerolinecolor": "white"
           }
          },
          "shapedefaults": {
           "line": {
            "color": "#2a3f5f"
           }
          },
          "ternary": {
           "aaxis": {
            "gridcolor": "white",
            "linecolor": "white",
            "ticks": ""
           },
           "baxis": {
            "gridcolor": "white",
            "linecolor": "white",
            "ticks": ""
           },
           "bgcolor": "#E5ECF6",
           "caxis": {
            "gridcolor": "white",
            "linecolor": "white",
            "ticks": ""
           }
          },
          "title": {
           "x": 0.05
          },
          "xaxis": {
           "automargin": true,
           "gridcolor": "white",
           "linecolor": "white",
           "ticks": "",
           "title": {
            "standoff": 15
           },
           "zerolinecolor": "white",
           "zerolinewidth": 2
          },
          "yaxis": {
           "automargin": true,
           "gridcolor": "white",
           "linecolor": "white",
           "ticks": "",
           "title": {
            "standoff": 15
           },
           "zerolinecolor": "white",
           "zerolinewidth": 2
          }
         }
        },
        "title": {
         "text": "Actual and Predicted Wheel Speeds, Recording 2, Trial 0"
        },
        "xaxis": {
         "title": {
          "text": "Time"
         }
        },
        "yaxis": {
         "title": {
          "text": "Value"
         }
        }
       }
      }
     },
     "metadata": {},
     "output_type": "display_data"
    },
    {
     "name": "stdout",
     "output_type": "stream",
     "text": [
      "Training Evaluation, Recording 2, Loss 0.026937242597341537\n"
     ]
    }
   ],
   "source": [
    "for recording in range(PLOT_RECORDINGS):\n",
    "    loss_item = evaluate_recording(recording, X_train[recording], Y_train[recording], neural_network_model, loss_fn, plot_num=1)\n",
    "    print(f'Training Evaluation, Recording {recording}, Loss {loss_item}')"
   ]
  },
  {
   "cell_type": "code",
   "execution_count": 33,
   "metadata": {},
   "outputs": [
    {
     "data": {
      "application/vnd.plotly.v1+json": {
       "config": {
        "plotlyServerURL": "https://plot.ly"
       },
       "data": [
        {
         "name": "Actual",
         "type": "scatter",
         "y": [
          0.0224022064357996,
          0.02310330979526043,
          0.025085218250751495,
          0.02946729026734829,
          0.03780113905668259,
          0.05191228911280632,
          0.07363586872816086,
          0.1044379472732544,
          0.14498542249202728,
          0.1946866661310196,
          0.2513309121131897,
          0.31096959114074707,
          0.368172287940979,
          0.4167134761810303,
          0.4506188929080963,
          0.46535247564315796,
          0.45882388949394226,
          0.4319005012512207,
          0.38824591040611267,
          0.3335128724575043,
          0.2741321325302124,
          0.21606355905532837,
          0.16384382545948029,
          0.12012799829244614,
          0.0857403427362442,
          0.06009228527545929,
          0.041759684681892395,
          0.02902836911380291,
          0.020291410386562347,
          0.014265348203480244,
          0.010027283802628517,
          0.006978163029998541,
          0.004761827643960714,
          0.0031581339426338673,
          0.002021565567702055,
          0.0012450736248865724,
          0.0007381544564850628,
          0.00042464747093617916,
          0.0002473034546710551,
          0.00016843860794324428
         ]
        },
        {
         "name": "Predicted",
         "type": "scatter",
         "y": [
          0.001404929906129837,
          -0.008730856701731682,
          -0.017841937020421028,
          0.007944280281662941,
          0.029685193672776222,
          0.030421186238527298,
          0.03358175978064537,
          0.07489649951457977,
          0.058356717228889465,
          0.06217801943421364,
          0.09576742351055145,
          0.1384129673242569,
          0.12323622405529022,
          0.1084684506058693,
          0.14244498312473297,
          0.15574347972869873,
          0.1709902584552765,
          0.12338234484195709,
          0.14576168358325958,
          0.1305459439754486,
          0.10532452911138535,
          0.12614533305168152,
          0.10580174624919891,
          0.08297853171825409,
          0.07665905356407166,
          0.0872647613286972,
          0.05848667025566101,
          0.05702999606728554,
          0.0778408870100975,
          0.06456901133060455,
          0.03835601732134819,
          0.056629545986652374,
          0.05153918266296387,
          0.05202663317322731,
          0.03994143009185791,
          0.06411285698413849,
          0.04000157117843628,
          0.06133873760700226,
          0.038522012531757355,
          0.016085876151919365
         ]
        }
       ],
       "layout": {
        "template": {
         "data": {
          "bar": [
           {
            "error_x": {
             "color": "#2a3f5f"
            },
            "error_y": {
             "color": "#2a3f5f"
            },
            "marker": {
             "line": {
              "color": "#E5ECF6",
              "width": 0.5
             },
             "pattern": {
              "fillmode": "overlay",
              "size": 10,
              "solidity": 0.2
             }
            },
            "type": "bar"
           }
          ],
          "barpolar": [
           {
            "marker": {
             "line": {
              "color": "#E5ECF6",
              "width": 0.5
             },
             "pattern": {
              "fillmode": "overlay",
              "size": 10,
              "solidity": 0.2
             }
            },
            "type": "barpolar"
           }
          ],
          "carpet": [
           {
            "aaxis": {
             "endlinecolor": "#2a3f5f",
             "gridcolor": "white",
             "linecolor": "white",
             "minorgridcolor": "white",
             "startlinecolor": "#2a3f5f"
            },
            "baxis": {
             "endlinecolor": "#2a3f5f",
             "gridcolor": "white",
             "linecolor": "white",
             "minorgridcolor": "white",
             "startlinecolor": "#2a3f5f"
            },
            "type": "carpet"
           }
          ],
          "choropleth": [
           {
            "colorbar": {
             "outlinewidth": 0,
             "ticks": ""
            },
            "type": "choropleth"
           }
          ],
          "contour": [
           {
            "colorbar": {
             "outlinewidth": 0,
             "ticks": ""
            },
            "colorscale": [
             [
              0,
              "#0d0887"
             ],
             [
              0.1111111111111111,
              "#46039f"
             ],
             [
              0.2222222222222222,
              "#7201a8"
             ],
             [
              0.3333333333333333,
              "#9c179e"
             ],
             [
              0.4444444444444444,
              "#bd3786"
             ],
             [
              0.5555555555555556,
              "#d8576b"
             ],
             [
              0.6666666666666666,
              "#ed7953"
             ],
             [
              0.7777777777777778,
              "#fb9f3a"
             ],
             [
              0.8888888888888888,
              "#fdca26"
             ],
             [
              1,
              "#f0f921"
             ]
            ],
            "type": "contour"
           }
          ],
          "contourcarpet": [
           {
            "colorbar": {
             "outlinewidth": 0,
             "ticks": ""
            },
            "type": "contourcarpet"
           }
          ],
          "heatmap": [
           {
            "colorbar": {
             "outlinewidth": 0,
             "ticks": ""
            },
            "colorscale": [
             [
              0,
              "#0d0887"
             ],
             [
              0.1111111111111111,
              "#46039f"
             ],
             [
              0.2222222222222222,
              "#7201a8"
             ],
             [
              0.3333333333333333,
              "#9c179e"
             ],
             [
              0.4444444444444444,
              "#bd3786"
             ],
             [
              0.5555555555555556,
              "#d8576b"
             ],
             [
              0.6666666666666666,
              "#ed7953"
             ],
             [
              0.7777777777777778,
              "#fb9f3a"
             ],
             [
              0.8888888888888888,
              "#fdca26"
             ],
             [
              1,
              "#f0f921"
             ]
            ],
            "type": "heatmap"
           }
          ],
          "heatmapgl": [
           {
            "colorbar": {
             "outlinewidth": 0,
             "ticks": ""
            },
            "colorscale": [
             [
              0,
              "#0d0887"
             ],
             [
              0.1111111111111111,
              "#46039f"
             ],
             [
              0.2222222222222222,
              "#7201a8"
             ],
             [
              0.3333333333333333,
              "#9c179e"
             ],
             [
              0.4444444444444444,
              "#bd3786"
             ],
             [
              0.5555555555555556,
              "#d8576b"
             ],
             [
              0.6666666666666666,
              "#ed7953"
             ],
             [
              0.7777777777777778,
              "#fb9f3a"
             ],
             [
              0.8888888888888888,
              "#fdca26"
             ],
             [
              1,
              "#f0f921"
             ]
            ],
            "type": "heatmapgl"
           }
          ],
          "histogram": [
           {
            "marker": {
             "pattern": {
              "fillmode": "overlay",
              "size": 10,
              "solidity": 0.2
             }
            },
            "type": "histogram"
           }
          ],
          "histogram2d": [
           {
            "colorbar": {
             "outlinewidth": 0,
             "ticks": ""
            },
            "colorscale": [
             [
              0,
              "#0d0887"
             ],
             [
              0.1111111111111111,
              "#46039f"
             ],
             [
              0.2222222222222222,
              "#7201a8"
             ],
             [
              0.3333333333333333,
              "#9c179e"
             ],
             [
              0.4444444444444444,
              "#bd3786"
             ],
             [
              0.5555555555555556,
              "#d8576b"
             ],
             [
              0.6666666666666666,
              "#ed7953"
             ],
             [
              0.7777777777777778,
              "#fb9f3a"
             ],
             [
              0.8888888888888888,
              "#fdca26"
             ],
             [
              1,
              "#f0f921"
             ]
            ],
            "type": "histogram2d"
           }
          ],
          "histogram2dcontour": [
           {
            "colorbar": {
             "outlinewidth": 0,
             "ticks": ""
            },
            "colorscale": [
             [
              0,
              "#0d0887"
             ],
             [
              0.1111111111111111,
              "#46039f"
             ],
             [
              0.2222222222222222,
              "#7201a8"
             ],
             [
              0.3333333333333333,
              "#9c179e"
             ],
             [
              0.4444444444444444,
              "#bd3786"
             ],
             [
              0.5555555555555556,
              "#d8576b"
             ],
             [
              0.6666666666666666,
              "#ed7953"
             ],
             [
              0.7777777777777778,
              "#fb9f3a"
             ],
             [
              0.8888888888888888,
              "#fdca26"
             ],
             [
              1,
              "#f0f921"
             ]
            ],
            "type": "histogram2dcontour"
           }
          ],
          "mesh3d": [
           {
            "colorbar": {
             "outlinewidth": 0,
             "ticks": ""
            },
            "type": "mesh3d"
           }
          ],
          "parcoords": [
           {
            "line": {
             "colorbar": {
              "outlinewidth": 0,
              "ticks": ""
             }
            },
            "type": "parcoords"
           }
          ],
          "pie": [
           {
            "automargin": true,
            "type": "pie"
           }
          ],
          "scatter": [
           {
            "fillpattern": {
             "fillmode": "overlay",
             "size": 10,
             "solidity": 0.2
            },
            "type": "scatter"
           }
          ],
          "scatter3d": [
           {
            "line": {
             "colorbar": {
              "outlinewidth": 0,
              "ticks": ""
             }
            },
            "marker": {
             "colorbar": {
              "outlinewidth": 0,
              "ticks": ""
             }
            },
            "type": "scatter3d"
           }
          ],
          "scattercarpet": [
           {
            "marker": {
             "colorbar": {
              "outlinewidth": 0,
              "ticks": ""
             }
            },
            "type": "scattercarpet"
           }
          ],
          "scattergeo": [
           {
            "marker": {
             "colorbar": {
              "outlinewidth": 0,
              "ticks": ""
             }
            },
            "type": "scattergeo"
           }
          ],
          "scattergl": [
           {
            "marker": {
             "colorbar": {
              "outlinewidth": 0,
              "ticks": ""
             }
            },
            "type": "scattergl"
           }
          ],
          "scattermapbox": [
           {
            "marker": {
             "colorbar": {
              "outlinewidth": 0,
              "ticks": ""
             }
            },
            "type": "scattermapbox"
           }
          ],
          "scatterpolar": [
           {
            "marker": {
             "colorbar": {
              "outlinewidth": 0,
              "ticks": ""
             }
            },
            "type": "scatterpolar"
           }
          ],
          "scatterpolargl": [
           {
            "marker": {
             "colorbar": {
              "outlinewidth": 0,
              "ticks": ""
             }
            },
            "type": "scatterpolargl"
           }
          ],
          "scatterternary": [
           {
            "marker": {
             "colorbar": {
              "outlinewidth": 0,
              "ticks": ""
             }
            },
            "type": "scatterternary"
           }
          ],
          "surface": [
           {
            "colorbar": {
             "outlinewidth": 0,
             "ticks": ""
            },
            "colorscale": [
             [
              0,
              "#0d0887"
             ],
             [
              0.1111111111111111,
              "#46039f"
             ],
             [
              0.2222222222222222,
              "#7201a8"
             ],
             [
              0.3333333333333333,
              "#9c179e"
             ],
             [
              0.4444444444444444,
              "#bd3786"
             ],
             [
              0.5555555555555556,
              "#d8576b"
             ],
             [
              0.6666666666666666,
              "#ed7953"
             ],
             [
              0.7777777777777778,
              "#fb9f3a"
             ],
             [
              0.8888888888888888,
              "#fdca26"
             ],
             [
              1,
              "#f0f921"
             ]
            ],
            "type": "surface"
           }
          ],
          "table": [
           {
            "cells": {
             "fill": {
              "color": "#EBF0F8"
             },
             "line": {
              "color": "white"
             }
            },
            "header": {
             "fill": {
              "color": "#C8D4E3"
             },
             "line": {
              "color": "white"
             }
            },
            "type": "table"
           }
          ]
         },
         "layout": {
          "annotationdefaults": {
           "arrowcolor": "#2a3f5f",
           "arrowhead": 0,
           "arrowwidth": 1
          },
          "autotypenumbers": "strict",
          "coloraxis": {
           "colorbar": {
            "outlinewidth": 0,
            "ticks": ""
           }
          },
          "colorscale": {
           "diverging": [
            [
             0,
             "#8e0152"
            ],
            [
             0.1,
             "#c51b7d"
            ],
            [
             0.2,
             "#de77ae"
            ],
            [
             0.3,
             "#f1b6da"
            ],
            [
             0.4,
             "#fde0ef"
            ],
            [
             0.5,
             "#f7f7f7"
            ],
            [
             0.6,
             "#e6f5d0"
            ],
            [
             0.7,
             "#b8e186"
            ],
            [
             0.8,
             "#7fbc41"
            ],
            [
             0.9,
             "#4d9221"
            ],
            [
             1,
             "#276419"
            ]
           ],
           "sequential": [
            [
             0,
             "#0d0887"
            ],
            [
             0.1111111111111111,
             "#46039f"
            ],
            [
             0.2222222222222222,
             "#7201a8"
            ],
            [
             0.3333333333333333,
             "#9c179e"
            ],
            [
             0.4444444444444444,
             "#bd3786"
            ],
            [
             0.5555555555555556,
             "#d8576b"
            ],
            [
             0.6666666666666666,
             "#ed7953"
            ],
            [
             0.7777777777777778,
             "#fb9f3a"
            ],
            [
             0.8888888888888888,
             "#fdca26"
            ],
            [
             1,
             "#f0f921"
            ]
           ],
           "sequentialminus": [
            [
             0,
             "#0d0887"
            ],
            [
             0.1111111111111111,
             "#46039f"
            ],
            [
             0.2222222222222222,
             "#7201a8"
            ],
            [
             0.3333333333333333,
             "#9c179e"
            ],
            [
             0.4444444444444444,
             "#bd3786"
            ],
            [
             0.5555555555555556,
             "#d8576b"
            ],
            [
             0.6666666666666666,
             "#ed7953"
            ],
            [
             0.7777777777777778,
             "#fb9f3a"
            ],
            [
             0.8888888888888888,
             "#fdca26"
            ],
            [
             1,
             "#f0f921"
            ]
           ]
          },
          "colorway": [
           "#636efa",
           "#EF553B",
           "#00cc96",
           "#ab63fa",
           "#FFA15A",
           "#19d3f3",
           "#FF6692",
           "#B6E880",
           "#FF97FF",
           "#FECB52"
          ],
          "font": {
           "color": "#2a3f5f"
          },
          "geo": {
           "bgcolor": "white",
           "lakecolor": "white",
           "landcolor": "#E5ECF6",
           "showlakes": true,
           "showland": true,
           "subunitcolor": "white"
          },
          "hoverlabel": {
           "align": "left"
          },
          "hovermode": "closest",
          "mapbox": {
           "style": "light"
          },
          "paper_bgcolor": "white",
          "plot_bgcolor": "#E5ECF6",
          "polar": {
           "angularaxis": {
            "gridcolor": "white",
            "linecolor": "white",
            "ticks": ""
           },
           "bgcolor": "#E5ECF6",
           "radialaxis": {
            "gridcolor": "white",
            "linecolor": "white",
            "ticks": ""
           }
          },
          "scene": {
           "xaxis": {
            "backgroundcolor": "#E5ECF6",
            "gridcolor": "white",
            "gridwidth": 2,
            "linecolor": "white",
            "showbackground": true,
            "ticks": "",
            "zerolinecolor": "white"
           },
           "yaxis": {
            "backgroundcolor": "#E5ECF6",
            "gridcolor": "white",
            "gridwidth": 2,
            "linecolor": "white",
            "showbackground": true,
            "ticks": "",
            "zerolinecolor": "white"
           },
           "zaxis": {
            "backgroundcolor": "#E5ECF6",
            "gridcolor": "white",
            "gridwidth": 2,
            "linecolor": "white",
            "showbackground": true,
            "ticks": "",
            "zerolinecolor": "white"
           }
          },
          "shapedefaults": {
           "line": {
            "color": "#2a3f5f"
           }
          },
          "ternary": {
           "aaxis": {
            "gridcolor": "white",
            "linecolor": "white",
            "ticks": ""
           },
           "baxis": {
            "gridcolor": "white",
            "linecolor": "white",
            "ticks": ""
           },
           "bgcolor": "#E5ECF6",
           "caxis": {
            "gridcolor": "white",
            "linecolor": "white",
            "ticks": ""
           }
          },
          "title": {
           "x": 0.05
          },
          "xaxis": {
           "automargin": true,
           "gridcolor": "white",
           "linecolor": "white",
           "ticks": "",
           "title": {
            "standoff": 15
           },
           "zerolinecolor": "white",
           "zerolinewidth": 2
          },
          "yaxis": {
           "automargin": true,
           "gridcolor": "white",
           "linecolor": "white",
           "ticks": "",
           "title": {
            "standoff": 15
           },
           "zerolinecolor": "white",
           "zerolinewidth": 2
          }
         }
        },
        "title": {
         "text": "Actual and Predicted Wheel Speeds, Recording 0, Trial 0"
        },
        "xaxis": {
         "title": {
          "text": "Time"
         }
        },
        "yaxis": {
         "title": {
          "text": "Value"
         }
        }
       }
      }
     },
     "metadata": {},
     "output_type": "display_data"
    },
    {
     "name": "stdout",
     "output_type": "stream",
     "text": [
      "Testing Evaluation, Recording 0, Loss 0.02735517919063568\n"
     ]
    },
    {
     "data": {
      "application/vnd.plotly.v1+json": {
       "config": {
        "plotlyServerURL": "https://plot.ly"
       },
       "data": [
        {
         "name": "Actual",
         "type": "scatter",
         "y": [
          0.003506916807964444,
          0.004919779486954212,
          0.007951113395392895,
          0.012975436635315418,
          0.020409295335412025,
          0.03058328479528427,
          0.043598126620054245,
          0.05924252048134804,
          0.0769922137260437,
          0.09616886079311371,
          0.1161745935678482,
          0.13675816357135773,
          0.1581908017396927,
          0.18122850358486176,
          0.20681342482566833,
          0.23556822538375854,
          0.26724860072135925,
          0.3003529906272888,
          0.33208414912223816,
          0.3587532341480255,
          0.37655478715896606,
          0.38248422741889954,
          0.3751179575920105,
          0.3549952805042267,
          0.3244900405406952,
          0.28723469376564026,
          0.24730253219604492,
          0.20840437710285187,
          0.1733262687921524,
          0.14367465674877167,
          0.11995097249746323,
          0.10183177143335342,
          0.08850863575935364,
          0.07899905741214752,
          0.07235918939113617,
          0.06780397146940231,
          0.06473128497600555,
          0.06272947788238525,
          0.06152244657278061,
          0.06095382571220398
         ]
        },
        {
         "name": "Predicted",
         "type": "scatter",
         "y": [
          -0.009810376912355423,
          0.03289525955915451,
          -0.006939917802810669,
          0.021058600395917892,
          0.02628464624285698,
          0.09646067023277283,
          0.04574430361390114,
          0.10229897499084473,
          0.07005365192890167,
          0.1482662856578827,
          0.15377174317836761,
          0.21411433815956116,
          0.20905277132987976,
          0.23620063066482544,
          0.22051414847373962,
          0.26031601428985596,
          0.20669957995414734,
          0.2292335331439972,
          0.22907055914402008,
          0.22994352877140045,
          0.18272683024406433,
          0.14760202169418335,
          0.15195627510547638,
          0.14605090022087097,
          0.1428571492433548,
          0.20911914110183716,
          0.14623196423053741,
          0.1343168020248413,
          0.10502532124519348,
          0.1214526891708374,
          0.09803555905818939,
          0.131984144449234,
          0.10062678158283234,
          0.10963396728038788,
          0.11287286877632141,
          0.08311735838651657,
          0.08123870193958282,
          0.09231182932853699,
          0.15664175152778625,
          0.08133304119110107
         ]
        }
       ],
       "layout": {
        "template": {
         "data": {
          "bar": [
           {
            "error_x": {
             "color": "#2a3f5f"
            },
            "error_y": {
             "color": "#2a3f5f"
            },
            "marker": {
             "line": {
              "color": "#E5ECF6",
              "width": 0.5
             },
             "pattern": {
              "fillmode": "overlay",
              "size": 10,
              "solidity": 0.2
             }
            },
            "type": "bar"
           }
          ],
          "barpolar": [
           {
            "marker": {
             "line": {
              "color": "#E5ECF6",
              "width": 0.5
             },
             "pattern": {
              "fillmode": "overlay",
              "size": 10,
              "solidity": 0.2
             }
            },
            "type": "barpolar"
           }
          ],
          "carpet": [
           {
            "aaxis": {
             "endlinecolor": "#2a3f5f",
             "gridcolor": "white",
             "linecolor": "white",
             "minorgridcolor": "white",
             "startlinecolor": "#2a3f5f"
            },
            "baxis": {
             "endlinecolor": "#2a3f5f",
             "gridcolor": "white",
             "linecolor": "white",
             "minorgridcolor": "white",
             "startlinecolor": "#2a3f5f"
            },
            "type": "carpet"
           }
          ],
          "choropleth": [
           {
            "colorbar": {
             "outlinewidth": 0,
             "ticks": ""
            },
            "type": "choropleth"
           }
          ],
          "contour": [
           {
            "colorbar": {
             "outlinewidth": 0,
             "ticks": ""
            },
            "colorscale": [
             [
              0,
              "#0d0887"
             ],
             [
              0.1111111111111111,
              "#46039f"
             ],
             [
              0.2222222222222222,
              "#7201a8"
             ],
             [
              0.3333333333333333,
              "#9c179e"
             ],
             [
              0.4444444444444444,
              "#bd3786"
             ],
             [
              0.5555555555555556,
              "#d8576b"
             ],
             [
              0.6666666666666666,
              "#ed7953"
             ],
             [
              0.7777777777777778,
              "#fb9f3a"
             ],
             [
              0.8888888888888888,
              "#fdca26"
             ],
             [
              1,
              "#f0f921"
             ]
            ],
            "type": "contour"
           }
          ],
          "contourcarpet": [
           {
            "colorbar": {
             "outlinewidth": 0,
             "ticks": ""
            },
            "type": "contourcarpet"
           }
          ],
          "heatmap": [
           {
            "colorbar": {
             "outlinewidth": 0,
             "ticks": ""
            },
            "colorscale": [
             [
              0,
              "#0d0887"
             ],
             [
              0.1111111111111111,
              "#46039f"
             ],
             [
              0.2222222222222222,
              "#7201a8"
             ],
             [
              0.3333333333333333,
              "#9c179e"
             ],
             [
              0.4444444444444444,
              "#bd3786"
             ],
             [
              0.5555555555555556,
              "#d8576b"
             ],
             [
              0.6666666666666666,
              "#ed7953"
             ],
             [
              0.7777777777777778,
              "#fb9f3a"
             ],
             [
              0.8888888888888888,
              "#fdca26"
             ],
             [
              1,
              "#f0f921"
             ]
            ],
            "type": "heatmap"
           }
          ],
          "heatmapgl": [
           {
            "colorbar": {
             "outlinewidth": 0,
             "ticks": ""
            },
            "colorscale": [
             [
              0,
              "#0d0887"
             ],
             [
              0.1111111111111111,
              "#46039f"
             ],
             [
              0.2222222222222222,
              "#7201a8"
             ],
             [
              0.3333333333333333,
              "#9c179e"
             ],
             [
              0.4444444444444444,
              "#bd3786"
             ],
             [
              0.5555555555555556,
              "#d8576b"
             ],
             [
              0.6666666666666666,
              "#ed7953"
             ],
             [
              0.7777777777777778,
              "#fb9f3a"
             ],
             [
              0.8888888888888888,
              "#fdca26"
             ],
             [
              1,
              "#f0f921"
             ]
            ],
            "type": "heatmapgl"
           }
          ],
          "histogram": [
           {
            "marker": {
             "pattern": {
              "fillmode": "overlay",
              "size": 10,
              "solidity": 0.2
             }
            },
            "type": "histogram"
           }
          ],
          "histogram2d": [
           {
            "colorbar": {
             "outlinewidth": 0,
             "ticks": ""
            },
            "colorscale": [
             [
              0,
              "#0d0887"
             ],
             [
              0.1111111111111111,
              "#46039f"
             ],
             [
              0.2222222222222222,
              "#7201a8"
             ],
             [
              0.3333333333333333,
              "#9c179e"
             ],
             [
              0.4444444444444444,
              "#bd3786"
             ],
             [
              0.5555555555555556,
              "#d8576b"
             ],
             [
              0.6666666666666666,
              "#ed7953"
             ],
             [
              0.7777777777777778,
              "#fb9f3a"
             ],
             [
              0.8888888888888888,
              "#fdca26"
             ],
             [
              1,
              "#f0f921"
             ]
            ],
            "type": "histogram2d"
           }
          ],
          "histogram2dcontour": [
           {
            "colorbar": {
             "outlinewidth": 0,
             "ticks": ""
            },
            "colorscale": [
             [
              0,
              "#0d0887"
             ],
             [
              0.1111111111111111,
              "#46039f"
             ],
             [
              0.2222222222222222,
              "#7201a8"
             ],
             [
              0.3333333333333333,
              "#9c179e"
             ],
             [
              0.4444444444444444,
              "#bd3786"
             ],
             [
              0.5555555555555556,
              "#d8576b"
             ],
             [
              0.6666666666666666,
              "#ed7953"
             ],
             [
              0.7777777777777778,
              "#fb9f3a"
             ],
             [
              0.8888888888888888,
              "#fdca26"
             ],
             [
              1,
              "#f0f921"
             ]
            ],
            "type": "histogram2dcontour"
           }
          ],
          "mesh3d": [
           {
            "colorbar": {
             "outlinewidth": 0,
             "ticks": ""
            },
            "type": "mesh3d"
           }
          ],
          "parcoords": [
           {
            "line": {
             "colorbar": {
              "outlinewidth": 0,
              "ticks": ""
             }
            },
            "type": "parcoords"
           }
          ],
          "pie": [
           {
            "automargin": true,
            "type": "pie"
           }
          ],
          "scatter": [
           {
            "fillpattern": {
             "fillmode": "overlay",
             "size": 10,
             "solidity": 0.2
            },
            "type": "scatter"
           }
          ],
          "scatter3d": [
           {
            "line": {
             "colorbar": {
              "outlinewidth": 0,
              "ticks": ""
             }
            },
            "marker": {
             "colorbar": {
              "outlinewidth": 0,
              "ticks": ""
             }
            },
            "type": "scatter3d"
           }
          ],
          "scattercarpet": [
           {
            "marker": {
             "colorbar": {
              "outlinewidth": 0,
              "ticks": ""
             }
            },
            "type": "scattercarpet"
           }
          ],
          "scattergeo": [
           {
            "marker": {
             "colorbar": {
              "outlinewidth": 0,
              "ticks": ""
             }
            },
            "type": "scattergeo"
           }
          ],
          "scattergl": [
           {
            "marker": {
             "colorbar": {
              "outlinewidth": 0,
              "ticks": ""
             }
            },
            "type": "scattergl"
           }
          ],
          "scattermapbox": [
           {
            "marker": {
             "colorbar": {
              "outlinewidth": 0,
              "ticks": ""
             }
            },
            "type": "scattermapbox"
           }
          ],
          "scatterpolar": [
           {
            "marker": {
             "colorbar": {
              "outlinewidth": 0,
              "ticks": ""
             }
            },
            "type": "scatterpolar"
           }
          ],
          "scatterpolargl": [
           {
            "marker": {
             "colorbar": {
              "outlinewidth": 0,
              "ticks": ""
             }
            },
            "type": "scatterpolargl"
           }
          ],
          "scatterternary": [
           {
            "marker": {
             "colorbar": {
              "outlinewidth": 0,
              "ticks": ""
             }
            },
            "type": "scatterternary"
           }
          ],
          "surface": [
           {
            "colorbar": {
             "outlinewidth": 0,
             "ticks": ""
            },
            "colorscale": [
             [
              0,
              "#0d0887"
             ],
             [
              0.1111111111111111,
              "#46039f"
             ],
             [
              0.2222222222222222,
              "#7201a8"
             ],
             [
              0.3333333333333333,
              "#9c179e"
             ],
             [
              0.4444444444444444,
              "#bd3786"
             ],
             [
              0.5555555555555556,
              "#d8576b"
             ],
             [
              0.6666666666666666,
              "#ed7953"
             ],
             [
              0.7777777777777778,
              "#fb9f3a"
             ],
             [
              0.8888888888888888,
              "#fdca26"
             ],
             [
              1,
              "#f0f921"
             ]
            ],
            "type": "surface"
           }
          ],
          "table": [
           {
            "cells": {
             "fill": {
              "color": "#EBF0F8"
             },
             "line": {
              "color": "white"
             }
            },
            "header": {
             "fill": {
              "color": "#C8D4E3"
             },
             "line": {
              "color": "white"
             }
            },
            "type": "table"
           }
          ]
         },
         "layout": {
          "annotationdefaults": {
           "arrowcolor": "#2a3f5f",
           "arrowhead": 0,
           "arrowwidth": 1
          },
          "autotypenumbers": "strict",
          "coloraxis": {
           "colorbar": {
            "outlinewidth": 0,
            "ticks": ""
           }
          },
          "colorscale": {
           "diverging": [
            [
             0,
             "#8e0152"
            ],
            [
             0.1,
             "#c51b7d"
            ],
            [
             0.2,
             "#de77ae"
            ],
            [
             0.3,
             "#f1b6da"
            ],
            [
             0.4,
             "#fde0ef"
            ],
            [
             0.5,
             "#f7f7f7"
            ],
            [
             0.6,
             "#e6f5d0"
            ],
            [
             0.7,
             "#b8e186"
            ],
            [
             0.8,
             "#7fbc41"
            ],
            [
             0.9,
             "#4d9221"
            ],
            [
             1,
             "#276419"
            ]
           ],
           "sequential": [
            [
             0,
             "#0d0887"
            ],
            [
             0.1111111111111111,
             "#46039f"
            ],
            [
             0.2222222222222222,
             "#7201a8"
            ],
            [
             0.3333333333333333,
             "#9c179e"
            ],
            [
             0.4444444444444444,
             "#bd3786"
            ],
            [
             0.5555555555555556,
             "#d8576b"
            ],
            [
             0.6666666666666666,
             "#ed7953"
            ],
            [
             0.7777777777777778,
             "#fb9f3a"
            ],
            [
             0.8888888888888888,
             "#fdca26"
            ],
            [
             1,
             "#f0f921"
            ]
           ],
           "sequentialminus": [
            [
             0,
             "#0d0887"
            ],
            [
             0.1111111111111111,
             "#46039f"
            ],
            [
             0.2222222222222222,
             "#7201a8"
            ],
            [
             0.3333333333333333,
             "#9c179e"
            ],
            [
             0.4444444444444444,
             "#bd3786"
            ],
            [
             0.5555555555555556,
             "#d8576b"
            ],
            [
             0.6666666666666666,
             "#ed7953"
            ],
            [
             0.7777777777777778,
             "#fb9f3a"
            ],
            [
             0.8888888888888888,
             "#fdca26"
            ],
            [
             1,
             "#f0f921"
            ]
           ]
          },
          "colorway": [
           "#636efa",
           "#EF553B",
           "#00cc96",
           "#ab63fa",
           "#FFA15A",
           "#19d3f3",
           "#FF6692",
           "#B6E880",
           "#FF97FF",
           "#FECB52"
          ],
          "font": {
           "color": "#2a3f5f"
          },
          "geo": {
           "bgcolor": "white",
           "lakecolor": "white",
           "landcolor": "#E5ECF6",
           "showlakes": true,
           "showland": true,
           "subunitcolor": "white"
          },
          "hoverlabel": {
           "align": "left"
          },
          "hovermode": "closest",
          "mapbox": {
           "style": "light"
          },
          "paper_bgcolor": "white",
          "plot_bgcolor": "#E5ECF6",
          "polar": {
           "angularaxis": {
            "gridcolor": "white",
            "linecolor": "white",
            "ticks": ""
           },
           "bgcolor": "#E5ECF6",
           "radialaxis": {
            "gridcolor": "white",
            "linecolor": "white",
            "ticks": ""
           }
          },
          "scene": {
           "xaxis": {
            "backgroundcolor": "#E5ECF6",
            "gridcolor": "white",
            "gridwidth": 2,
            "linecolor": "white",
            "showbackground": true,
            "ticks": "",
            "zerolinecolor": "white"
           },
           "yaxis": {
            "backgroundcolor": "#E5ECF6",
            "gridcolor": "white",
            "gridwidth": 2,
            "linecolor": "white",
            "showbackground": true,
            "ticks": "",
            "zerolinecolor": "white"
           },
           "zaxis": {
            "backgroundcolor": "#E5ECF6",
            "gridcolor": "white",
            "gridwidth": 2,
            "linecolor": "white",
            "showbackground": true,
            "ticks": "",
            "zerolinecolor": "white"
           }
          },
          "shapedefaults": {
           "line": {
            "color": "#2a3f5f"
           }
          },
          "ternary": {
           "aaxis": {
            "gridcolor": "white",
            "linecolor": "white",
            "ticks": ""
           },
           "baxis": {
            "gridcolor": "white",
            "linecolor": "white",
            "ticks": ""
           },
           "bgcolor": "#E5ECF6",
           "caxis": {
            "gridcolor": "white",
            "linecolor": "white",
            "ticks": ""
           }
          },
          "title": {
           "x": 0.05
          },
          "xaxis": {
           "automargin": true,
           "gridcolor": "white",
           "linecolor": "white",
           "ticks": "",
           "title": {
            "standoff": 15
           },
           "zerolinecolor": "white",
           "zerolinewidth": 2
          },
          "yaxis": {
           "automargin": true,
           "gridcolor": "white",
           "linecolor": "white",
           "ticks": "",
           "title": {
            "standoff": 15
           },
           "zerolinecolor": "white",
           "zerolinewidth": 2
          }
         }
        },
        "title": {
         "text": "Actual and Predicted Wheel Speeds, Recording 1, Trial 0"
        },
        "xaxis": {
         "title": {
          "text": "Time"
         }
        },
        "yaxis": {
         "title": {
          "text": "Value"
         }
        }
       }
      }
     },
     "metadata": {},
     "output_type": "display_data"
    },
    {
     "name": "stdout",
     "output_type": "stream",
     "text": [
      "Testing Evaluation, Recording 1, Loss 0.015846578404307365\n"
     ]
    },
    {
     "data": {
      "application/vnd.plotly.v1+json": {
       "config": {
        "plotlyServerURL": "https://plot.ly"
       },
       "data": [
        {
         "name": "Actual",
         "type": "scatter",
         "y": [
          0.012902092188596725,
          0.013423851691186428,
          0.014671466313302517,
          0.017011480405926704,
          0.020939862355589867,
          0.02694733440876007,
          0.03537397459149361,
          0.046297285705804825,
          0.059450097382068634,
          0.07425164431333542,
          0.09005444496870041,
          0.10642355680465698,
          0.12350790947675705,
          0.14227816462516785,
          0.1644224226474762,
          0.19191475212574005,
          0.22625423967838287,
          0.26763543486595154,
          0.314338356256485,
          0.362603098154068,
          0.4071485698223114,
          0.4422403872013092,
          0.4629644453525543,
          0.46635565161705017,
          0.45203378796577454,
          0.4221831262111664,
          0.38094499707221985,
          0.3334815204143524,
          0.28497570753097534,
          0.23978841304779053,
          0.2009357064962387,
          0.16990973055362701,
          0.1467878818511963,
          0.13060088455677032,
          0.11980783194303513,
          0.11277028918266296,
          0.10814758390188217,
          0.10504765808582306,
          0.10303987562656403,
          0.10203632712364197
         ]
        },
        {
         "name": "Predicted",
         "type": "scatter",
         "y": [
          0.02692004106938839,
          0.026571154594421387,
          0.008838480338454247,
          0.016181306913495064,
          -0.005632425658404827,
          0.022251665592193604,
          0.0410098135471344,
          0.03671351075172424,
          0.03510601818561554,
          0.0178120955824852,
          0.03958345204591751,
          0.09904260188341141,
          0.05827862024307251,
          0.09059655666351318,
          0.08182299882173538,
          0.05087105929851532,
          0.12146100401878357,
          0.060426585376262665,
          0.04781826213002205,
          0.08025306463241577,
          0.05324121192097664,
          0.07488775253295898,
          0.036816373467445374,
          0.06983944028615952,
          0.041367173194885254,
          0.06513206660747528,
          0.04870789498090744,
          0.034468188881874084,
          0.06311830133199692,
          0.05032447725534439,
          0.0115633774548769,
          0.04858256131410599,
          0.05563472956418991,
          0.04358970746397972,
          0.0766519159078598,
          0.05675299093127251,
          0.032098881900310516,
          0.05945201218128204,
          0.021797828376293182,
          0.006366183515638113
         ]
        }
       ],
       "layout": {
        "template": {
         "data": {
          "bar": [
           {
            "error_x": {
             "color": "#2a3f5f"
            },
            "error_y": {
             "color": "#2a3f5f"
            },
            "marker": {
             "line": {
              "color": "#E5ECF6",
              "width": 0.5
             },
             "pattern": {
              "fillmode": "overlay",
              "size": 10,
              "solidity": 0.2
             }
            },
            "type": "bar"
           }
          ],
          "barpolar": [
           {
            "marker": {
             "line": {
              "color": "#E5ECF6",
              "width": 0.5
             },
             "pattern": {
              "fillmode": "overlay",
              "size": 10,
              "solidity": 0.2
             }
            },
            "type": "barpolar"
           }
          ],
          "carpet": [
           {
            "aaxis": {
             "endlinecolor": "#2a3f5f",
             "gridcolor": "white",
             "linecolor": "white",
             "minorgridcolor": "white",
             "startlinecolor": "#2a3f5f"
            },
            "baxis": {
             "endlinecolor": "#2a3f5f",
             "gridcolor": "white",
             "linecolor": "white",
             "minorgridcolor": "white",
             "startlinecolor": "#2a3f5f"
            },
            "type": "carpet"
           }
          ],
          "choropleth": [
           {
            "colorbar": {
             "outlinewidth": 0,
             "ticks": ""
            },
            "type": "choropleth"
           }
          ],
          "contour": [
           {
            "colorbar": {
             "outlinewidth": 0,
             "ticks": ""
            },
            "colorscale": [
             [
              0,
              "#0d0887"
             ],
             [
              0.1111111111111111,
              "#46039f"
             ],
             [
              0.2222222222222222,
              "#7201a8"
             ],
             [
              0.3333333333333333,
              "#9c179e"
             ],
             [
              0.4444444444444444,
              "#bd3786"
             ],
             [
              0.5555555555555556,
              "#d8576b"
             ],
             [
              0.6666666666666666,
              "#ed7953"
             ],
             [
              0.7777777777777778,
              "#fb9f3a"
             ],
             [
              0.8888888888888888,
              "#fdca26"
             ],
             [
              1,
              "#f0f921"
             ]
            ],
            "type": "contour"
           }
          ],
          "contourcarpet": [
           {
            "colorbar": {
             "outlinewidth": 0,
             "ticks": ""
            },
            "type": "contourcarpet"
           }
          ],
          "heatmap": [
           {
            "colorbar": {
             "outlinewidth": 0,
             "ticks": ""
            },
            "colorscale": [
             [
              0,
              "#0d0887"
             ],
             [
              0.1111111111111111,
              "#46039f"
             ],
             [
              0.2222222222222222,
              "#7201a8"
             ],
             [
              0.3333333333333333,
              "#9c179e"
             ],
             [
              0.4444444444444444,
              "#bd3786"
             ],
             [
              0.5555555555555556,
              "#d8576b"
             ],
             [
              0.6666666666666666,
              "#ed7953"
             ],
             [
              0.7777777777777778,
              "#fb9f3a"
             ],
             [
              0.8888888888888888,
              "#fdca26"
             ],
             [
              1,
              "#f0f921"
             ]
            ],
            "type": "heatmap"
           }
          ],
          "heatmapgl": [
           {
            "colorbar": {
             "outlinewidth": 0,
             "ticks": ""
            },
            "colorscale": [
             [
              0,
              "#0d0887"
             ],
             [
              0.1111111111111111,
              "#46039f"
             ],
             [
              0.2222222222222222,
              "#7201a8"
             ],
             [
              0.3333333333333333,
              "#9c179e"
             ],
             [
              0.4444444444444444,
              "#bd3786"
             ],
             [
              0.5555555555555556,
              "#d8576b"
             ],
             [
              0.6666666666666666,
              "#ed7953"
             ],
             [
              0.7777777777777778,
              "#fb9f3a"
             ],
             [
              0.8888888888888888,
              "#fdca26"
             ],
             [
              1,
              "#f0f921"
             ]
            ],
            "type": "heatmapgl"
           }
          ],
          "histogram": [
           {
            "marker": {
             "pattern": {
              "fillmode": "overlay",
              "size": 10,
              "solidity": 0.2
             }
            },
            "type": "histogram"
           }
          ],
          "histogram2d": [
           {
            "colorbar": {
             "outlinewidth": 0,
             "ticks": ""
            },
            "colorscale": [
             [
              0,
              "#0d0887"
             ],
             [
              0.1111111111111111,
              "#46039f"
             ],
             [
              0.2222222222222222,
              "#7201a8"
             ],
             [
              0.3333333333333333,
              "#9c179e"
             ],
             [
              0.4444444444444444,
              "#bd3786"
             ],
             [
              0.5555555555555556,
              "#d8576b"
             ],
             [
              0.6666666666666666,
              "#ed7953"
             ],
             [
              0.7777777777777778,
              "#fb9f3a"
             ],
             [
              0.8888888888888888,
              "#fdca26"
             ],
             [
              1,
              "#f0f921"
             ]
            ],
            "type": "histogram2d"
           }
          ],
          "histogram2dcontour": [
           {
            "colorbar": {
             "outlinewidth": 0,
             "ticks": ""
            },
            "colorscale": [
             [
              0,
              "#0d0887"
             ],
             [
              0.1111111111111111,
              "#46039f"
             ],
             [
              0.2222222222222222,
              "#7201a8"
             ],
             [
              0.3333333333333333,
              "#9c179e"
             ],
             [
              0.4444444444444444,
              "#bd3786"
             ],
             [
              0.5555555555555556,
              "#d8576b"
             ],
             [
              0.6666666666666666,
              "#ed7953"
             ],
             [
              0.7777777777777778,
              "#fb9f3a"
             ],
             [
              0.8888888888888888,
              "#fdca26"
             ],
             [
              1,
              "#f0f921"
             ]
            ],
            "type": "histogram2dcontour"
           }
          ],
          "mesh3d": [
           {
            "colorbar": {
             "outlinewidth": 0,
             "ticks": ""
            },
            "type": "mesh3d"
           }
          ],
          "parcoords": [
           {
            "line": {
             "colorbar": {
              "outlinewidth": 0,
              "ticks": ""
             }
            },
            "type": "parcoords"
           }
          ],
          "pie": [
           {
            "automargin": true,
            "type": "pie"
           }
          ],
          "scatter": [
           {
            "fillpattern": {
             "fillmode": "overlay",
             "size": 10,
             "solidity": 0.2
            },
            "type": "scatter"
           }
          ],
          "scatter3d": [
           {
            "line": {
             "colorbar": {
              "outlinewidth": 0,
              "ticks": ""
             }
            },
            "marker": {
             "colorbar": {
              "outlinewidth": 0,
              "ticks": ""
             }
            },
            "type": "scatter3d"
           }
          ],
          "scattercarpet": [
           {
            "marker": {
             "colorbar": {
              "outlinewidth": 0,
              "ticks": ""
             }
            },
            "type": "scattercarpet"
           }
          ],
          "scattergeo": [
           {
            "marker": {
             "colorbar": {
              "outlinewidth": 0,
              "ticks": ""
             }
            },
            "type": "scattergeo"
           }
          ],
          "scattergl": [
           {
            "marker": {
             "colorbar": {
              "outlinewidth": 0,
              "ticks": ""
             }
            },
            "type": "scattergl"
           }
          ],
          "scattermapbox": [
           {
            "marker": {
             "colorbar": {
              "outlinewidth": 0,
              "ticks": ""
             }
            },
            "type": "scattermapbox"
           }
          ],
          "scatterpolar": [
           {
            "marker": {
             "colorbar": {
              "outlinewidth": 0,
              "ticks": ""
             }
            },
            "type": "scatterpolar"
           }
          ],
          "scatterpolargl": [
           {
            "marker": {
             "colorbar": {
              "outlinewidth": 0,
              "ticks": ""
             }
            },
            "type": "scatterpolargl"
           }
          ],
          "scatterternary": [
           {
            "marker": {
             "colorbar": {
              "outlinewidth": 0,
              "ticks": ""
             }
            },
            "type": "scatterternary"
           }
          ],
          "surface": [
           {
            "colorbar": {
             "outlinewidth": 0,
             "ticks": ""
            },
            "colorscale": [
             [
              0,
              "#0d0887"
             ],
             [
              0.1111111111111111,
              "#46039f"
             ],
             [
              0.2222222222222222,
              "#7201a8"
             ],
             [
              0.3333333333333333,
              "#9c179e"
             ],
             [
              0.4444444444444444,
              "#bd3786"
             ],
             [
              0.5555555555555556,
              "#d8576b"
             ],
             [
              0.6666666666666666,
              "#ed7953"
             ],
             [
              0.7777777777777778,
              "#fb9f3a"
             ],
             [
              0.8888888888888888,
              "#fdca26"
             ],
             [
              1,
              "#f0f921"
             ]
            ],
            "type": "surface"
           }
          ],
          "table": [
           {
            "cells": {
             "fill": {
              "color": "#EBF0F8"
             },
             "line": {
              "color": "white"
             }
            },
            "header": {
             "fill": {
              "color": "#C8D4E3"
             },
             "line": {
              "color": "white"
             }
            },
            "type": "table"
           }
          ]
         },
         "layout": {
          "annotationdefaults": {
           "arrowcolor": "#2a3f5f",
           "arrowhead": 0,
           "arrowwidth": 1
          },
          "autotypenumbers": "strict",
          "coloraxis": {
           "colorbar": {
            "outlinewidth": 0,
            "ticks": ""
           }
          },
          "colorscale": {
           "diverging": [
            [
             0,
             "#8e0152"
            ],
            [
             0.1,
             "#c51b7d"
            ],
            [
             0.2,
             "#de77ae"
            ],
            [
             0.3,
             "#f1b6da"
            ],
            [
             0.4,
             "#fde0ef"
            ],
            [
             0.5,
             "#f7f7f7"
            ],
            [
             0.6,
             "#e6f5d0"
            ],
            [
             0.7,
             "#b8e186"
            ],
            [
             0.8,
             "#7fbc41"
            ],
            [
             0.9,
             "#4d9221"
            ],
            [
             1,
             "#276419"
            ]
           ],
           "sequential": [
            [
             0,
             "#0d0887"
            ],
            [
             0.1111111111111111,
             "#46039f"
            ],
            [
             0.2222222222222222,
             "#7201a8"
            ],
            [
             0.3333333333333333,
             "#9c179e"
            ],
            [
             0.4444444444444444,
             "#bd3786"
            ],
            [
             0.5555555555555556,
             "#d8576b"
            ],
            [
             0.6666666666666666,
             "#ed7953"
            ],
            [
             0.7777777777777778,
             "#fb9f3a"
            ],
            [
             0.8888888888888888,
             "#fdca26"
            ],
            [
             1,
             "#f0f921"
            ]
           ],
           "sequentialminus": [
            [
             0,
             "#0d0887"
            ],
            [
             0.1111111111111111,
             "#46039f"
            ],
            [
             0.2222222222222222,
             "#7201a8"
            ],
            [
             0.3333333333333333,
             "#9c179e"
            ],
            [
             0.4444444444444444,
             "#bd3786"
            ],
            [
             0.5555555555555556,
             "#d8576b"
            ],
            [
             0.6666666666666666,
             "#ed7953"
            ],
            [
             0.7777777777777778,
             "#fb9f3a"
            ],
            [
             0.8888888888888888,
             "#fdca26"
            ],
            [
             1,
             "#f0f921"
            ]
           ]
          },
          "colorway": [
           "#636efa",
           "#EF553B",
           "#00cc96",
           "#ab63fa",
           "#FFA15A",
           "#19d3f3",
           "#FF6692",
           "#B6E880",
           "#FF97FF",
           "#FECB52"
          ],
          "font": {
           "color": "#2a3f5f"
          },
          "geo": {
           "bgcolor": "white",
           "lakecolor": "white",
           "landcolor": "#E5ECF6",
           "showlakes": true,
           "showland": true,
           "subunitcolor": "white"
          },
          "hoverlabel": {
           "align": "left"
          },
          "hovermode": "closest",
          "mapbox": {
           "style": "light"
          },
          "paper_bgcolor": "white",
          "plot_bgcolor": "#E5ECF6",
          "polar": {
           "angularaxis": {
            "gridcolor": "white",
            "linecolor": "white",
            "ticks": ""
           },
           "bgcolor": "#E5ECF6",
           "radialaxis": {
            "gridcolor": "white",
            "linecolor": "white",
            "ticks": ""
           }
          },
          "scene": {
           "xaxis": {
            "backgroundcolor": "#E5ECF6",
            "gridcolor": "white",
            "gridwidth": 2,
            "linecolor": "white",
            "showbackground": true,
            "ticks": "",
            "zerolinecolor": "white"
           },
           "yaxis": {
            "backgroundcolor": "#E5ECF6",
            "gridcolor": "white",
            "gridwidth": 2,
            "linecolor": "white",
            "showbackground": true,
            "ticks": "",
            "zerolinecolor": "white"
           },
           "zaxis": {
            "backgroundcolor": "#E5ECF6",
            "gridcolor": "white",
            "gridwidth": 2,
            "linecolor": "white",
            "showbackground": true,
            "ticks": "",
            "zerolinecolor": "white"
           }
          },
          "shapedefaults": {
           "line": {
            "color": "#2a3f5f"
           }
          },
          "ternary": {
           "aaxis": {
            "gridcolor": "white",
            "linecolor": "white",
            "ticks": ""
           },
           "baxis": {
            "gridcolor": "white",
            "linecolor": "white",
            "ticks": ""
           },
           "bgcolor": "#E5ECF6",
           "caxis": {
            "gridcolor": "white",
            "linecolor": "white",
            "ticks": ""
           }
          },
          "title": {
           "x": 0.05
          },
          "xaxis": {
           "automargin": true,
           "gridcolor": "white",
           "linecolor": "white",
           "ticks": "",
           "title": {
            "standoff": 15
           },
           "zerolinecolor": "white",
           "zerolinewidth": 2
          },
          "yaxis": {
           "automargin": true,
           "gridcolor": "white",
           "linecolor": "white",
           "ticks": "",
           "title": {
            "standoff": 15
           },
           "zerolinecolor": "white",
           "zerolinewidth": 2
          }
         }
        },
        "title": {
         "text": "Actual and Predicted Wheel Speeds, Recording 2, Trial 0"
        },
        "xaxis": {
         "title": {
          "text": "Time"
         }
        },
        "yaxis": {
         "title": {
          "text": "Value"
         }
        }
       }
      }
     },
     "metadata": {},
     "output_type": "display_data"
    },
    {
     "name": "stdout",
     "output_type": "stream",
     "text": [
      "Testing Evaluation, Recording 2, Loss 0.026000484824180603\n"
     ]
    }
   ],
   "source": [
    "for recording in range(PLOT_RECORDINGS):\n",
    "    loss_item = evaluate_recording(recording, X_test[recording], Y_test[recording], neural_network_model, loss_fn, plot_num=1)\n",
    "    print(f'Testing Evaluation, Recording {recording}, Loss {loss_item}')"
   ]
  }
 ],
 "metadata": {
  "kernelspec": {
   "display_name": "base",
   "language": "python",
   "name": "python3"
  },
  "language_info": {
   "codemirror_mode": {
    "name": "ipython",
    "version": 3
   },
   "file_extension": ".py",
   "mimetype": "text/x-python",
   "name": "python",
   "nbconvert_exporter": "python",
   "pygments_lexer": "ipython3",
   "version": "3.9.16"
  }
 },
 "nbformat": 4,
 "nbformat_minor": 2
}
