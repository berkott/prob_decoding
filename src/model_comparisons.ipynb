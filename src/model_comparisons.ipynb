{
 "cells": [
  {
   "cell_type": "markdown",
   "metadata": {},
   "source": [
    "# Neural Network Model"
   ]
  },
  {
   "cell_type": "code",
   "execution_count": 1,
   "metadata": {},
   "outputs": [],
   "source": [
    "import numpy as np\n",
    "import torch\n",
    "import plotly.graph_objects as go\n",
    "\n",
    "from sklearn.linear_model import ARDRegression\n",
    "from sklearn.multioutput import RegressorChain\n",
    "from sklearn.metrics import mean_squared_error\n",
    "\n",
    "from models.reduced_rank_model import ReducedRankModel\n",
    "from models.neural_network import NeuralNetworkModel\n",
    "from models.zero_predictor import ZeroPredictor\n",
    "from models.mean_predictor import MeanPredictor\n",
    "from models.yizi_decoders import time_bin_wise_metrics, continuous_decoder, sliding_window_over_time, sliding_window_decoder\n",
    "\n",
    "from utils.get_data import get_data, get_test_train_data, smooth_x, smooth_y\n",
    "from utils.evaluation import evaluate_recording\n",
    "from utils.training import train_one_epoch\n",
    "\n",
    "\n",
    "DATA_PATH = 'raw_data/full_data/'\n",
    "\n",
    "RECORDING_IDS = [36, 57, 100, 111] #+ [14, 17, 23, 53, 55, 58, 88, 89, 93, 106]\n",
    "# RECORDING_IDS = np.arange(10)\n",
    "TOTAL_RECORDINGS = len(RECORDING_IDS) # In total there are 112 recordings\n",
    "PLOT_RECORDINGS = 3\n",
    "TIME_BINS = 40\n",
    "TRAIN_SPLIT = 0.8\n",
    "TRAINING_ITERATIONS = 20\n",
    "RANK = 10\n",
    "MEAN_SUBTRACTED = False\n",
    "SMOOTHED = True\n",
    "SMOOTHED_X = True\n",
    "MODEL = \"neural_network\"\n",
    "RANDOM_SEED = 41"
   ]
  },
  {
   "cell_type": "code",
   "execution_count": 2,
   "metadata": {},
   "outputs": [],
   "source": [
    "# This code loads yizi's data\n",
    "# neural_data = np.load(f\"raw_data/yizi_data/neural_data.npy\", allow_pickle=True).item()\n",
    "# behavior_data = np.load(f\"raw_data/yizi_data/behavior_data.npy\", allow_pickle=True).item()\n",
    "\n",
    "# # Probably recording: dab512bd-a02d-4c1f-8dbc-9155a163efc0\n",
    "# X_list = [neural_data[\"po\"]]\n",
    "# Y_list = [behavior_data[\"wheel_speed\"]]\n",
    "\n",
    "# print(X_list[0].shape)"
   ]
  },
  {
   "cell_type": "code",
   "execution_count": 3,
   "metadata": {},
   "outputs": [],
   "source": [
    "# X_list, Y_list = get_data(DATA_PATH, RECORDING_IDS)\n",
    "\n",
    "\n",
    "\n",
    "# X_train, X_test, Y_train_regular, Y_test_regular, Y_train_mean_subtracted, Y_test_mean_subtracted = get_test_train_data(X_list, Y_list, TRAIN_SPLIT, random_seed=RANDOM_SEED)\n",
    "\n",
    "# if SMOOTHED_X:\n",
    "#     X_train = smooth_x(X_train)\n",
    "#     X_test = smooth_x(X_test)\n",
    "\n",
    "# Y_train_smoothed = smooth_y(Y_train_regular)\n",
    "# Y_test_smoothed = smooth_y(Y_test_regular)\n",
    "\n",
    "# Y_train_mean_subtracted_smoothed = smooth_y(Y_train_mean_subtracted)\n",
    "# Y_test_mean_subtracted_smoothed = smooth_y(Y_test_mean_subtracted)\n",
    "\n",
    "# if MEAN_SUBTRACTED:\n",
    "#     if SMOOTHED:\n",
    "#         Y_train = Y_train_mean_subtracted_smoothed\n",
    "#         Y_test = Y_test_mean_subtracted_smoothed\n",
    "#     else:\n",
    "#         Y_train = Y_train_mean_subtracted\n",
    "#         Y_test = Y_test_mean_subtracted\n",
    "# else:\n",
    "#     if SMOOTHED:\n",
    "#         Y_train = Y_train_smoothed\n",
    "#         Y_test = Y_test_smoothed\n",
    "#     else:\n",
    "#         Y_train = Y_train_regular\n",
    "#         Y_test = Y_test_regular"
   ]
  },
  {
   "cell_type": "code",
   "execution_count": 4,
   "metadata": {},
   "outputs": [],
   "source": [
    "X_list, Y_list = get_data(DATA_PATH, RECORDING_IDS)\n",
    "\n",
    "if SMOOTHED_X:\n",
    "    X_list = smooth_x(X_list)\n",
    "\n",
    "if SMOOTHED:\n",
    "    Y_list = smooth_y(Y_list)\n",
    "\n",
    "X_train, X_test, Y_train_regular, Y_test_regular, Y_train_mean_subtracted, Y_test_mean_subtracted = get_test_train_data(X_list, Y_list, TRAIN_SPLIT, random_seed=RANDOM_SEED)\n",
    "\n",
    "Y_train = Y_train_regular\n",
    "Y_test = Y_test_regular\n",
    "# if SMOOTHED_X:\n",
    "#     X_train = smooth_x(X_train)\n",
    "#     X_test = smooth_x(X_test)\n",
    "\n",
    "# Y_train_smoothed = smooth_y(Y_train_regular)\n",
    "# Y_test_smoothed = smooth_y(Y_test_regular)\n",
    "\n",
    "# Y_train_mean_subtracted_smoothed = smooth_y(Y_train_mean_subtracted)\n",
    "# Y_test_mean_subtracted_smoothed = smooth_y(Y_test_mean_subtracted)\n",
    "\n",
    "# if MEAN_SUBTRACTED:\n",
    "#     if SMOOTHED:\n",
    "#         Y_train = Y_train_mean_subtracted_smoothed\n",
    "#         Y_test = Y_test_mean_subtracted_smoothed\n",
    "#     else:\n",
    "#         Y_train = Y_train_mean_subtracted\n",
    "#         Y_test = Y_test_mean_subtracted\n",
    "# else:\n",
    "#     if SMOOTHED:\n",
    "#         Y_train = Y_train_smoothed\n",
    "#         Y_test = Y_test_smoothed\n",
    "#     else:\n",
    "#         Y_train = Y_train_regular\n",
    "#         Y_test = Y_test_regular"
   ]
  },
  {
   "cell_type": "code",
   "execution_count": 5,
   "metadata": {},
   "outputs": [
    {
     "data": {
      "application/vnd.plotly.v1+json": {
       "config": {
        "plotlyServerURL": "https://plot.ly"
       },
       "data": [
        {
         "name": "Original",
         "type": "scatter",
         "y": [
          0.003279858820171869,
          0.004756061804172318,
          0.008032367438151163,
          0.013730619633475391,
          0.022715502183514893,
          0.03598564730837966,
          0.05450494249936807,
          0.07898765414268327,
          0.10966705828509313,
          0.14607435631730936,
          0.18690231010498284,
          0.2300012049283991,
          0.2725257305055169,
          0.311243893113781,
          0.34298484378752475,
          0.3651433152980706,
          0.37613663170119555,
          0.37569377622813227,
          0.3648885224988886,
          0.3458804250457093,
          0.3214244794929151,
          0.2942807024294237,
          0.26669321291631004,
          0.24007969128213658,
          0.21499656893712604,
          0.19134727071536375,
          0.16872390107016721,
          0.1467473439460641,
          0.12529245353738153,
          0.10455584227111857,
          0.08498145811625447,
          0.06710412984459588,
          0.051394063103172065,
          0.038151640285045425,
          0.027460701933338032,
          0.019204970259715657,
          0.013133713945928861,
          0.008942526330794023,
          0.006341583347458817,
          0.005102735800563971
         ]
        },
        {
         "name": "Mean Subtracted",
         "type": "scatter",
         "y": [
          -0.007848770570578072,
          -0.00822306754182775,
          -0.009065199070021134,
          -0.01053002827427491,
          -0.01275955767135448,
          -0.015784816416531705,
          -0.019416082628504687,
          -0.02315707718475772,
          -0.026200918304382814,
          -0.027561003307475962,
          -0.026316407785103274,
          -0.021928812918142138,
          -0.01453432392234466,
          -0.005077694290638424,
          0.004808926529730251,
          0.013172926673198915,
          0.01825476580504548,
          0.01897378959837459,
          0.015216733071169386,
          0.007819958523649917,
          -0.0017394023649830448,
          -0.011823785344020621,
          -0.021111070279301758,
          -0.02890426896390641,
          -0.035191288086633576,
          -0.04047185824563895,
          -0.045450066573634096,
          -0.05072033375881729,
          -0.05656361944053723,
          -0.06289141917326575,
          -0.06932157478413369,
          -0.07534283101860714,
          -0.08048150230303944,
          -0.08441849027158424,
          -0.08705078686043007,
          -0.08848950632406934,
          -0.0890048090870999,
          -0.08894624585767069,
          -0.08866411056278545,
          -0.08844405387399945
         ]
        }
       ],
       "layout": {
        "template": {
         "data": {
          "bar": [
           {
            "error_x": {
             "color": "#2a3f5f"
            },
            "error_y": {
             "color": "#2a3f5f"
            },
            "marker": {
             "line": {
              "color": "#E5ECF6",
              "width": 0.5
             },
             "pattern": {
              "fillmode": "overlay",
              "size": 10,
              "solidity": 0.2
             }
            },
            "type": "bar"
           }
          ],
          "barpolar": [
           {
            "marker": {
             "line": {
              "color": "#E5ECF6",
              "width": 0.5
             },
             "pattern": {
              "fillmode": "overlay",
              "size": 10,
              "solidity": 0.2
             }
            },
            "type": "barpolar"
           }
          ],
          "carpet": [
           {
            "aaxis": {
             "endlinecolor": "#2a3f5f",
             "gridcolor": "white",
             "linecolor": "white",
             "minorgridcolor": "white",
             "startlinecolor": "#2a3f5f"
            },
            "baxis": {
             "endlinecolor": "#2a3f5f",
             "gridcolor": "white",
             "linecolor": "white",
             "minorgridcolor": "white",
             "startlinecolor": "#2a3f5f"
            },
            "type": "carpet"
           }
          ],
          "choropleth": [
           {
            "colorbar": {
             "outlinewidth": 0,
             "ticks": ""
            },
            "type": "choropleth"
           }
          ],
          "contour": [
           {
            "colorbar": {
             "outlinewidth": 0,
             "ticks": ""
            },
            "colorscale": [
             [
              0,
              "#0d0887"
             ],
             [
              0.1111111111111111,
              "#46039f"
             ],
             [
              0.2222222222222222,
              "#7201a8"
             ],
             [
              0.3333333333333333,
              "#9c179e"
             ],
             [
              0.4444444444444444,
              "#bd3786"
             ],
             [
              0.5555555555555556,
              "#d8576b"
             ],
             [
              0.6666666666666666,
              "#ed7953"
             ],
             [
              0.7777777777777778,
              "#fb9f3a"
             ],
             [
              0.8888888888888888,
              "#fdca26"
             ],
             [
              1,
              "#f0f921"
             ]
            ],
            "type": "contour"
           }
          ],
          "contourcarpet": [
           {
            "colorbar": {
             "outlinewidth": 0,
             "ticks": ""
            },
            "type": "contourcarpet"
           }
          ],
          "heatmap": [
           {
            "colorbar": {
             "outlinewidth": 0,
             "ticks": ""
            },
            "colorscale": [
             [
              0,
              "#0d0887"
             ],
             [
              0.1111111111111111,
              "#46039f"
             ],
             [
              0.2222222222222222,
              "#7201a8"
             ],
             [
              0.3333333333333333,
              "#9c179e"
             ],
             [
              0.4444444444444444,
              "#bd3786"
             ],
             [
              0.5555555555555556,
              "#d8576b"
             ],
             [
              0.6666666666666666,
              "#ed7953"
             ],
             [
              0.7777777777777778,
              "#fb9f3a"
             ],
             [
              0.8888888888888888,
              "#fdca26"
             ],
             [
              1,
              "#f0f921"
             ]
            ],
            "type": "heatmap"
           }
          ],
          "heatmapgl": [
           {
            "colorbar": {
             "outlinewidth": 0,
             "ticks": ""
            },
            "colorscale": [
             [
              0,
              "#0d0887"
             ],
             [
              0.1111111111111111,
              "#46039f"
             ],
             [
              0.2222222222222222,
              "#7201a8"
             ],
             [
              0.3333333333333333,
              "#9c179e"
             ],
             [
              0.4444444444444444,
              "#bd3786"
             ],
             [
              0.5555555555555556,
              "#d8576b"
             ],
             [
              0.6666666666666666,
              "#ed7953"
             ],
             [
              0.7777777777777778,
              "#fb9f3a"
             ],
             [
              0.8888888888888888,
              "#fdca26"
             ],
             [
              1,
              "#f0f921"
             ]
            ],
            "type": "heatmapgl"
           }
          ],
          "histogram": [
           {
            "marker": {
             "pattern": {
              "fillmode": "overlay",
              "size": 10,
              "solidity": 0.2
             }
            },
            "type": "histogram"
           }
          ],
          "histogram2d": [
           {
            "colorbar": {
             "outlinewidth": 0,
             "ticks": ""
            },
            "colorscale": [
             [
              0,
              "#0d0887"
             ],
             [
              0.1111111111111111,
              "#46039f"
             ],
             [
              0.2222222222222222,
              "#7201a8"
             ],
             [
              0.3333333333333333,
              "#9c179e"
             ],
             [
              0.4444444444444444,
              "#bd3786"
             ],
             [
              0.5555555555555556,
              "#d8576b"
             ],
             [
              0.6666666666666666,
              "#ed7953"
             ],
             [
              0.7777777777777778,
              "#fb9f3a"
             ],
             [
              0.8888888888888888,
              "#fdca26"
             ],
             [
              1,
              "#f0f921"
             ]
            ],
            "type": "histogram2d"
           }
          ],
          "histogram2dcontour": [
           {
            "colorbar": {
             "outlinewidth": 0,
             "ticks": ""
            },
            "colorscale": [
             [
              0,
              "#0d0887"
             ],
             [
              0.1111111111111111,
              "#46039f"
             ],
             [
              0.2222222222222222,
              "#7201a8"
             ],
             [
              0.3333333333333333,
              "#9c179e"
             ],
             [
              0.4444444444444444,
              "#bd3786"
             ],
             [
              0.5555555555555556,
              "#d8576b"
             ],
             [
              0.6666666666666666,
              "#ed7953"
             ],
             [
              0.7777777777777778,
              "#fb9f3a"
             ],
             [
              0.8888888888888888,
              "#fdca26"
             ],
             [
              1,
              "#f0f921"
             ]
            ],
            "type": "histogram2dcontour"
           }
          ],
          "mesh3d": [
           {
            "colorbar": {
             "outlinewidth": 0,
             "ticks": ""
            },
            "type": "mesh3d"
           }
          ],
          "parcoords": [
           {
            "line": {
             "colorbar": {
              "outlinewidth": 0,
              "ticks": ""
             }
            },
            "type": "parcoords"
           }
          ],
          "pie": [
           {
            "automargin": true,
            "type": "pie"
           }
          ],
          "scatter": [
           {
            "fillpattern": {
             "fillmode": "overlay",
             "size": 10,
             "solidity": 0.2
            },
            "type": "scatter"
           }
          ],
          "scatter3d": [
           {
            "line": {
             "colorbar": {
              "outlinewidth": 0,
              "ticks": ""
             }
            },
            "marker": {
             "colorbar": {
              "outlinewidth": 0,
              "ticks": ""
             }
            },
            "type": "scatter3d"
           }
          ],
          "scattercarpet": [
           {
            "marker": {
             "colorbar": {
              "outlinewidth": 0,
              "ticks": ""
             }
            },
            "type": "scattercarpet"
           }
          ],
          "scattergeo": [
           {
            "marker": {
             "colorbar": {
              "outlinewidth": 0,
              "ticks": ""
             }
            },
            "type": "scattergeo"
           }
          ],
          "scattergl": [
           {
            "marker": {
             "colorbar": {
              "outlinewidth": 0,
              "ticks": ""
             }
            },
            "type": "scattergl"
           }
          ],
          "scattermapbox": [
           {
            "marker": {
             "colorbar": {
              "outlinewidth": 0,
              "ticks": ""
             }
            },
            "type": "scattermapbox"
           }
          ],
          "scatterpolar": [
           {
            "marker": {
             "colorbar": {
              "outlinewidth": 0,
              "ticks": ""
             }
            },
            "type": "scatterpolar"
           }
          ],
          "scatterpolargl": [
           {
            "marker": {
             "colorbar": {
              "outlinewidth": 0,
              "ticks": ""
             }
            },
            "type": "scatterpolargl"
           }
          ],
          "scatterternary": [
           {
            "marker": {
             "colorbar": {
              "outlinewidth": 0,
              "ticks": ""
             }
            },
            "type": "scatterternary"
           }
          ],
          "surface": [
           {
            "colorbar": {
             "outlinewidth": 0,
             "ticks": ""
            },
            "colorscale": [
             [
              0,
              "#0d0887"
             ],
             [
              0.1111111111111111,
              "#46039f"
             ],
             [
              0.2222222222222222,
              "#7201a8"
             ],
             [
              0.3333333333333333,
              "#9c179e"
             ],
             [
              0.4444444444444444,
              "#bd3786"
             ],
             [
              0.5555555555555556,
              "#d8576b"
             ],
             [
              0.6666666666666666,
              "#ed7953"
             ],
             [
              0.7777777777777778,
              "#fb9f3a"
             ],
             [
              0.8888888888888888,
              "#fdca26"
             ],
             [
              1,
              "#f0f921"
             ]
            ],
            "type": "surface"
           }
          ],
          "table": [
           {
            "cells": {
             "fill": {
              "color": "#EBF0F8"
             },
             "line": {
              "color": "white"
             }
            },
            "header": {
             "fill": {
              "color": "#C8D4E3"
             },
             "line": {
              "color": "white"
             }
            },
            "type": "table"
           }
          ]
         },
         "layout": {
          "annotationdefaults": {
           "arrowcolor": "#2a3f5f",
           "arrowhead": 0,
           "arrowwidth": 1
          },
          "autotypenumbers": "strict",
          "coloraxis": {
           "colorbar": {
            "outlinewidth": 0,
            "ticks": ""
           }
          },
          "colorscale": {
           "diverging": [
            [
             0,
             "#8e0152"
            ],
            [
             0.1,
             "#c51b7d"
            ],
            [
             0.2,
             "#de77ae"
            ],
            [
             0.3,
             "#f1b6da"
            ],
            [
             0.4,
             "#fde0ef"
            ],
            [
             0.5,
             "#f7f7f7"
            ],
            [
             0.6,
             "#e6f5d0"
            ],
            [
             0.7,
             "#b8e186"
            ],
            [
             0.8,
             "#7fbc41"
            ],
            [
             0.9,
             "#4d9221"
            ],
            [
             1,
             "#276419"
            ]
           ],
           "sequential": [
            [
             0,
             "#0d0887"
            ],
            [
             0.1111111111111111,
             "#46039f"
            ],
            [
             0.2222222222222222,
             "#7201a8"
            ],
            [
             0.3333333333333333,
             "#9c179e"
            ],
            [
             0.4444444444444444,
             "#bd3786"
            ],
            [
             0.5555555555555556,
             "#d8576b"
            ],
            [
             0.6666666666666666,
             "#ed7953"
            ],
            [
             0.7777777777777778,
             "#fb9f3a"
            ],
            [
             0.8888888888888888,
             "#fdca26"
            ],
            [
             1,
             "#f0f921"
            ]
           ],
           "sequentialminus": [
            [
             0,
             "#0d0887"
            ],
            [
             0.1111111111111111,
             "#46039f"
            ],
            [
             0.2222222222222222,
             "#7201a8"
            ],
            [
             0.3333333333333333,
             "#9c179e"
            ],
            [
             0.4444444444444444,
             "#bd3786"
            ],
            [
             0.5555555555555556,
             "#d8576b"
            ],
            [
             0.6666666666666666,
             "#ed7953"
            ],
            [
             0.7777777777777778,
             "#fb9f3a"
            ],
            [
             0.8888888888888888,
             "#fdca26"
            ],
            [
             1,
             "#f0f921"
            ]
           ]
          },
          "colorway": [
           "#636efa",
           "#EF553B",
           "#00cc96",
           "#ab63fa",
           "#FFA15A",
           "#19d3f3",
           "#FF6692",
           "#B6E880",
           "#FF97FF",
           "#FECB52"
          ],
          "font": {
           "color": "#2a3f5f"
          },
          "geo": {
           "bgcolor": "white",
           "lakecolor": "white",
           "landcolor": "#E5ECF6",
           "showlakes": true,
           "showland": true,
           "subunitcolor": "white"
          },
          "hoverlabel": {
           "align": "left"
          },
          "hovermode": "closest",
          "mapbox": {
           "style": "light"
          },
          "paper_bgcolor": "white",
          "plot_bgcolor": "#E5ECF6",
          "polar": {
           "angularaxis": {
            "gridcolor": "white",
            "linecolor": "white",
            "ticks": ""
           },
           "bgcolor": "#E5ECF6",
           "radialaxis": {
            "gridcolor": "white",
            "linecolor": "white",
            "ticks": ""
           }
          },
          "scene": {
           "xaxis": {
            "backgroundcolor": "#E5ECF6",
            "gridcolor": "white",
            "gridwidth": 2,
            "linecolor": "white",
            "showbackground": true,
            "ticks": "",
            "zerolinecolor": "white"
           },
           "yaxis": {
            "backgroundcolor": "#E5ECF6",
            "gridcolor": "white",
            "gridwidth": 2,
            "linecolor": "white",
            "showbackground": true,
            "ticks": "",
            "zerolinecolor": "white"
           },
           "zaxis": {
            "backgroundcolor": "#E5ECF6",
            "gridcolor": "white",
            "gridwidth": 2,
            "linecolor": "white",
            "showbackground": true,
            "ticks": "",
            "zerolinecolor": "white"
           }
          },
          "shapedefaults": {
           "line": {
            "color": "#2a3f5f"
           }
          },
          "ternary": {
           "aaxis": {
            "gridcolor": "white",
            "linecolor": "white",
            "ticks": ""
           },
           "baxis": {
            "gridcolor": "white",
            "linecolor": "white",
            "ticks": ""
           },
           "bgcolor": "#E5ECF6",
           "caxis": {
            "gridcolor": "white",
            "linecolor": "white",
            "ticks": ""
           }
          },
          "title": {
           "x": 0.05
          },
          "xaxis": {
           "automargin": true,
           "gridcolor": "white",
           "linecolor": "white",
           "ticks": "",
           "title": {
            "standoff": 15
           },
           "zerolinecolor": "white",
           "zerolinewidth": 2
          },
          "yaxis": {
           "automargin": true,
           "gridcolor": "white",
           "linecolor": "white",
           "ticks": "",
           "title": {
            "standoff": 15
           },
           "zerolinecolor": "white",
           "zerolinewidth": 2
          }
         }
        },
        "title": {
         "text": "Original, Smoothed, and Mean Subtracted Wheel Speeds, Recording 0, Trial 0"
        },
        "xaxis": {
         "title": {
          "text": "Time"
         }
        },
        "yaxis": {
         "title": {
          "text": "Value"
         }
        }
       }
      }
     },
     "metadata": {},
     "output_type": "display_data"
    },
    {
     "data": {
      "application/vnd.plotly.v1+json": {
       "config": {
        "plotlyServerURL": "https://plot.ly"
       },
       "data": [
        {
         "name": "Original",
         "type": "scatter",
         "y": [
          0.025681211410579774,
          0.02566740006433355,
          0.025700096243287934,
          0.0259012908286739,
          0.02644643675722306,
          0.027577656200426282,
          0.02960481556386163,
          0.032888559423805426,
          0.03779302285717927,
          0.044604108900172856,
          0.053426859045620334,
          0.06409437392296069,
          0.07611507352819145,
          0.08869357013824893,
          0.1008180702553998,
          0.11140877832158011,
          0.11947404684571981,
          0.12427269090583598,
          0.12544794076702964,
          0.12311871266188543,
          0.11790223485438019,
          0.11083872859975338,
          0.10321096282895495,
          0.09627539995342256,
          0.09097103147922478,
          0.08769198939189458,
          0.08621522594351018,
          0.0858017103809706,
          0.08545587289508297,
          0.08423963873161669,
          0.08154548048679335,
          0.07723680837579783,
          0.0716345750717463,
          0.06535771166969971,
          0.05912351829352759,
          0.05354466661220126,
          0.049019158679237285,
          0.04570872515202599,
          0.0435944093210402,
          0.04257711509181354
         ]
        },
        {
         "name": "Mean Subtracted",
         "type": "scatter",
         "y": [
          0.014552582019829834,
          0.012688270718333481,
          0.008602529735115636,
          0.001640642920923599,
          -0.009028623097646314,
          -0.02419280752448508,
          -0.044316209564011125,
          -0.06925617190363556,
          -0.09807495373229667,
          -0.12903125072461247,
          -0.15979185884446578,
          -0.18783564392358054,
          -0.21094498089967012,
          -0.2276280172661705,
          -0.2373578470023947,
          -0.24056161030329157,
          -0.23840781905043024,
          -0.2324472957239217,
          -0.22422384866068956,
          -0.21494175386017397,
          -0.20526164700351796,
          -0.19526575917369096,
          -0.18459332036665685,
          -0.17270856029262044,
          -0.15921682554453484,
          -0.1441271395691081,
          -0.12795874170029115,
          -0.11166596732391078,
          -0.09640020008283579,
          -0.08320762271276763,
          -0.07275755241359481,
          -0.06521015248740519,
          -0.060240990334465214,
          -0.05721241888692995,
          -0.05538797050024051,
          -0.05414980997158373,
          -0.05311936435379147,
          -0.05218004703643873,
          -0.05141128458920407,
          -0.05096967458274988
         ]
        }
       ],
       "layout": {
        "template": {
         "data": {
          "bar": [
           {
            "error_x": {
             "color": "#2a3f5f"
            },
            "error_y": {
             "color": "#2a3f5f"
            },
            "marker": {
             "line": {
              "color": "#E5ECF6",
              "width": 0.5
             },
             "pattern": {
              "fillmode": "overlay",
              "size": 10,
              "solidity": 0.2
             }
            },
            "type": "bar"
           }
          ],
          "barpolar": [
           {
            "marker": {
             "line": {
              "color": "#E5ECF6",
              "width": 0.5
             },
             "pattern": {
              "fillmode": "overlay",
              "size": 10,
              "solidity": 0.2
             }
            },
            "type": "barpolar"
           }
          ],
          "carpet": [
           {
            "aaxis": {
             "endlinecolor": "#2a3f5f",
             "gridcolor": "white",
             "linecolor": "white",
             "minorgridcolor": "white",
             "startlinecolor": "#2a3f5f"
            },
            "baxis": {
             "endlinecolor": "#2a3f5f",
             "gridcolor": "white",
             "linecolor": "white",
             "minorgridcolor": "white",
             "startlinecolor": "#2a3f5f"
            },
            "type": "carpet"
           }
          ],
          "choropleth": [
           {
            "colorbar": {
             "outlinewidth": 0,
             "ticks": ""
            },
            "type": "choropleth"
           }
          ],
          "contour": [
           {
            "colorbar": {
             "outlinewidth": 0,
             "ticks": ""
            },
            "colorscale": [
             [
              0,
              "#0d0887"
             ],
             [
              0.1111111111111111,
              "#46039f"
             ],
             [
              0.2222222222222222,
              "#7201a8"
             ],
             [
              0.3333333333333333,
              "#9c179e"
             ],
             [
              0.4444444444444444,
              "#bd3786"
             ],
             [
              0.5555555555555556,
              "#d8576b"
             ],
             [
              0.6666666666666666,
              "#ed7953"
             ],
             [
              0.7777777777777778,
              "#fb9f3a"
             ],
             [
              0.8888888888888888,
              "#fdca26"
             ],
             [
              1,
              "#f0f921"
             ]
            ],
            "type": "contour"
           }
          ],
          "contourcarpet": [
           {
            "colorbar": {
             "outlinewidth": 0,
             "ticks": ""
            },
            "type": "contourcarpet"
           }
          ],
          "heatmap": [
           {
            "colorbar": {
             "outlinewidth": 0,
             "ticks": ""
            },
            "colorscale": [
             [
              0,
              "#0d0887"
             ],
             [
              0.1111111111111111,
              "#46039f"
             ],
             [
              0.2222222222222222,
              "#7201a8"
             ],
             [
              0.3333333333333333,
              "#9c179e"
             ],
             [
              0.4444444444444444,
              "#bd3786"
             ],
             [
              0.5555555555555556,
              "#d8576b"
             ],
             [
              0.6666666666666666,
              "#ed7953"
             ],
             [
              0.7777777777777778,
              "#fb9f3a"
             ],
             [
              0.8888888888888888,
              "#fdca26"
             ],
             [
              1,
              "#f0f921"
             ]
            ],
            "type": "heatmap"
           }
          ],
          "heatmapgl": [
           {
            "colorbar": {
             "outlinewidth": 0,
             "ticks": ""
            },
            "colorscale": [
             [
              0,
              "#0d0887"
             ],
             [
              0.1111111111111111,
              "#46039f"
             ],
             [
              0.2222222222222222,
              "#7201a8"
             ],
             [
              0.3333333333333333,
              "#9c179e"
             ],
             [
              0.4444444444444444,
              "#bd3786"
             ],
             [
              0.5555555555555556,
              "#d8576b"
             ],
             [
              0.6666666666666666,
              "#ed7953"
             ],
             [
              0.7777777777777778,
              "#fb9f3a"
             ],
             [
              0.8888888888888888,
              "#fdca26"
             ],
             [
              1,
              "#f0f921"
             ]
            ],
            "type": "heatmapgl"
           }
          ],
          "histogram": [
           {
            "marker": {
             "pattern": {
              "fillmode": "overlay",
              "size": 10,
              "solidity": 0.2
             }
            },
            "type": "histogram"
           }
          ],
          "histogram2d": [
           {
            "colorbar": {
             "outlinewidth": 0,
             "ticks": ""
            },
            "colorscale": [
             [
              0,
              "#0d0887"
             ],
             [
              0.1111111111111111,
              "#46039f"
             ],
             [
              0.2222222222222222,
              "#7201a8"
             ],
             [
              0.3333333333333333,
              "#9c179e"
             ],
             [
              0.4444444444444444,
              "#bd3786"
             ],
             [
              0.5555555555555556,
              "#d8576b"
             ],
             [
              0.6666666666666666,
              "#ed7953"
             ],
             [
              0.7777777777777778,
              "#fb9f3a"
             ],
             [
              0.8888888888888888,
              "#fdca26"
             ],
             [
              1,
              "#f0f921"
             ]
            ],
            "type": "histogram2d"
           }
          ],
          "histogram2dcontour": [
           {
            "colorbar": {
             "outlinewidth": 0,
             "ticks": ""
            },
            "colorscale": [
             [
              0,
              "#0d0887"
             ],
             [
              0.1111111111111111,
              "#46039f"
             ],
             [
              0.2222222222222222,
              "#7201a8"
             ],
             [
              0.3333333333333333,
              "#9c179e"
             ],
             [
              0.4444444444444444,
              "#bd3786"
             ],
             [
              0.5555555555555556,
              "#d8576b"
             ],
             [
              0.6666666666666666,
              "#ed7953"
             ],
             [
              0.7777777777777778,
              "#fb9f3a"
             ],
             [
              0.8888888888888888,
              "#fdca26"
             ],
             [
              1,
              "#f0f921"
             ]
            ],
            "type": "histogram2dcontour"
           }
          ],
          "mesh3d": [
           {
            "colorbar": {
             "outlinewidth": 0,
             "ticks": ""
            },
            "type": "mesh3d"
           }
          ],
          "parcoords": [
           {
            "line": {
             "colorbar": {
              "outlinewidth": 0,
              "ticks": ""
             }
            },
            "type": "parcoords"
           }
          ],
          "pie": [
           {
            "automargin": true,
            "type": "pie"
           }
          ],
          "scatter": [
           {
            "fillpattern": {
             "fillmode": "overlay",
             "size": 10,
             "solidity": 0.2
            },
            "type": "scatter"
           }
          ],
          "scatter3d": [
           {
            "line": {
             "colorbar": {
              "outlinewidth": 0,
              "ticks": ""
             }
            },
            "marker": {
             "colorbar": {
              "outlinewidth": 0,
              "ticks": ""
             }
            },
            "type": "scatter3d"
           }
          ],
          "scattercarpet": [
           {
            "marker": {
             "colorbar": {
              "outlinewidth": 0,
              "ticks": ""
             }
            },
            "type": "scattercarpet"
           }
          ],
          "scattergeo": [
           {
            "marker": {
             "colorbar": {
              "outlinewidth": 0,
              "ticks": ""
             }
            },
            "type": "scattergeo"
           }
          ],
          "scattergl": [
           {
            "marker": {
             "colorbar": {
              "outlinewidth": 0,
              "ticks": ""
             }
            },
            "type": "scattergl"
           }
          ],
          "scattermapbox": [
           {
            "marker": {
             "colorbar": {
              "outlinewidth": 0,
              "ticks": ""
             }
            },
            "type": "scattermapbox"
           }
          ],
          "scatterpolar": [
           {
            "marker": {
             "colorbar": {
              "outlinewidth": 0,
              "ticks": ""
             }
            },
            "type": "scatterpolar"
           }
          ],
          "scatterpolargl": [
           {
            "marker": {
             "colorbar": {
              "outlinewidth": 0,
              "ticks": ""
             }
            },
            "type": "scatterpolargl"
           }
          ],
          "scatterternary": [
           {
            "marker": {
             "colorbar": {
              "outlinewidth": 0,
              "ticks": ""
             }
            },
            "type": "scatterternary"
           }
          ],
          "surface": [
           {
            "colorbar": {
             "outlinewidth": 0,
             "ticks": ""
            },
            "colorscale": [
             [
              0,
              "#0d0887"
             ],
             [
              0.1111111111111111,
              "#46039f"
             ],
             [
              0.2222222222222222,
              "#7201a8"
             ],
             [
              0.3333333333333333,
              "#9c179e"
             ],
             [
              0.4444444444444444,
              "#bd3786"
             ],
             [
              0.5555555555555556,
              "#d8576b"
             ],
             [
              0.6666666666666666,
              "#ed7953"
             ],
             [
              0.7777777777777778,
              "#fb9f3a"
             ],
             [
              0.8888888888888888,
              "#fdca26"
             ],
             [
              1,
              "#f0f921"
             ]
            ],
            "type": "surface"
           }
          ],
          "table": [
           {
            "cells": {
             "fill": {
              "color": "#EBF0F8"
             },
             "line": {
              "color": "white"
             }
            },
            "header": {
             "fill": {
              "color": "#C8D4E3"
             },
             "line": {
              "color": "white"
             }
            },
            "type": "table"
           }
          ]
         },
         "layout": {
          "annotationdefaults": {
           "arrowcolor": "#2a3f5f",
           "arrowhead": 0,
           "arrowwidth": 1
          },
          "autotypenumbers": "strict",
          "coloraxis": {
           "colorbar": {
            "outlinewidth": 0,
            "ticks": ""
           }
          },
          "colorscale": {
           "diverging": [
            [
             0,
             "#8e0152"
            ],
            [
             0.1,
             "#c51b7d"
            ],
            [
             0.2,
             "#de77ae"
            ],
            [
             0.3,
             "#f1b6da"
            ],
            [
             0.4,
             "#fde0ef"
            ],
            [
             0.5,
             "#f7f7f7"
            ],
            [
             0.6,
             "#e6f5d0"
            ],
            [
             0.7,
             "#b8e186"
            ],
            [
             0.8,
             "#7fbc41"
            ],
            [
             0.9,
             "#4d9221"
            ],
            [
             1,
             "#276419"
            ]
           ],
           "sequential": [
            [
             0,
             "#0d0887"
            ],
            [
             0.1111111111111111,
             "#46039f"
            ],
            [
             0.2222222222222222,
             "#7201a8"
            ],
            [
             0.3333333333333333,
             "#9c179e"
            ],
            [
             0.4444444444444444,
             "#bd3786"
            ],
            [
             0.5555555555555556,
             "#d8576b"
            ],
            [
             0.6666666666666666,
             "#ed7953"
            ],
            [
             0.7777777777777778,
             "#fb9f3a"
            ],
            [
             0.8888888888888888,
             "#fdca26"
            ],
            [
             1,
             "#f0f921"
            ]
           ],
           "sequentialminus": [
            [
             0,
             "#0d0887"
            ],
            [
             0.1111111111111111,
             "#46039f"
            ],
            [
             0.2222222222222222,
             "#7201a8"
            ],
            [
             0.3333333333333333,
             "#9c179e"
            ],
            [
             0.4444444444444444,
             "#bd3786"
            ],
            [
             0.5555555555555556,
             "#d8576b"
            ],
            [
             0.6666666666666666,
             "#ed7953"
            ],
            [
             0.7777777777777778,
             "#fb9f3a"
            ],
            [
             0.8888888888888888,
             "#fdca26"
            ],
            [
             1,
             "#f0f921"
            ]
           ]
          },
          "colorway": [
           "#636efa",
           "#EF553B",
           "#00cc96",
           "#ab63fa",
           "#FFA15A",
           "#19d3f3",
           "#FF6692",
           "#B6E880",
           "#FF97FF",
           "#FECB52"
          ],
          "font": {
           "color": "#2a3f5f"
          },
          "geo": {
           "bgcolor": "white",
           "lakecolor": "white",
           "landcolor": "#E5ECF6",
           "showlakes": true,
           "showland": true,
           "subunitcolor": "white"
          },
          "hoverlabel": {
           "align": "left"
          },
          "hovermode": "closest",
          "mapbox": {
           "style": "light"
          },
          "paper_bgcolor": "white",
          "plot_bgcolor": "#E5ECF6",
          "polar": {
           "angularaxis": {
            "gridcolor": "white",
            "linecolor": "white",
            "ticks": ""
           },
           "bgcolor": "#E5ECF6",
           "radialaxis": {
            "gridcolor": "white",
            "linecolor": "white",
            "ticks": ""
           }
          },
          "scene": {
           "xaxis": {
            "backgroundcolor": "#E5ECF6",
            "gridcolor": "white",
            "gridwidth": 2,
            "linecolor": "white",
            "showbackground": true,
            "ticks": "",
            "zerolinecolor": "white"
           },
           "yaxis": {
            "backgroundcolor": "#E5ECF6",
            "gridcolor": "white",
            "gridwidth": 2,
            "linecolor": "white",
            "showbackground": true,
            "ticks": "",
            "zerolinecolor": "white"
           },
           "zaxis": {
            "backgroundcolor": "#E5ECF6",
            "gridcolor": "white",
            "gridwidth": 2,
            "linecolor": "white",
            "showbackground": true,
            "ticks": "",
            "zerolinecolor": "white"
           }
          },
          "shapedefaults": {
           "line": {
            "color": "#2a3f5f"
           }
          },
          "ternary": {
           "aaxis": {
            "gridcolor": "white",
            "linecolor": "white",
            "ticks": ""
           },
           "baxis": {
            "gridcolor": "white",
            "linecolor": "white",
            "ticks": ""
           },
           "bgcolor": "#E5ECF6",
           "caxis": {
            "gridcolor": "white",
            "linecolor": "white",
            "ticks": ""
           }
          },
          "title": {
           "x": 0.05
          },
          "xaxis": {
           "automargin": true,
           "gridcolor": "white",
           "linecolor": "white",
           "ticks": "",
           "title": {
            "standoff": 15
           },
           "zerolinecolor": "white",
           "zerolinewidth": 2
          },
          "yaxis": {
           "automargin": true,
           "gridcolor": "white",
           "linecolor": "white",
           "ticks": "",
           "title": {
            "standoff": 15
           },
           "zerolinecolor": "white",
           "zerolinewidth": 2
          }
         }
        },
        "title": {
         "text": "Original, Smoothed, and Mean Subtracted Wheel Speeds, Recording 0, Trial 1"
        },
        "xaxis": {
         "title": {
          "text": "Time"
         }
        },
        "yaxis": {
         "title": {
          "text": "Value"
         }
        }
       }
      }
     },
     "metadata": {},
     "output_type": "display_data"
    },
    {
     "data": {
      "application/vnd.plotly.v1+json": {
       "config": {
        "plotlyServerURL": "https://plot.ly"
       },
       "data": [
        {
         "name": "Original",
         "type": "scatter",
         "y": [
          0.0054236720918328886,
          0.007758847321875544,
          0.0128564069108985,
          0.02149103463280877,
          0.034617903034758674,
          0.05312074077122241,
          0.07750420586155028,
          0.10756178033318745,
          0.14216013683398898,
          0.17922848241363562,
          0.21596258041060984,
          0.24927445312982477,
          0.27639126208555065,
          0.29541736503493804,
          0.3057107001739527,
          0.3079530966256296,
          0.3038807899087653,
          0.2957558697412027,
          0.2857420249911226,
          0.275392146189544,
          0.26539263866531165,
          0.25562448524497766,
          0.24546821622915563,
          0.23420249050204198,
          0.2213335277838344,
          0.20674617652237096,
          0.19067273629112919,
          0.17356012367236942,
          0.1559374915067298,
          0.13833102303311068,
          0.12124228010278097,
          0.1051756716454673,
          0.09062699013556615,
          0.07802986488882403,
          0.06768093573933165,
          0.05967606214000757,
          0.05389623281540298,
          0.05005279801141238,
          0.04777289258391691,
          0.046725751895690296
         ]
        },
        {
         "name": "Mean Subtracted",
         "type": "scatter",
         "y": [
          -0.005704957298917052,
          -0.005220282024124524,
          -0.004241159597273798,
          -0.002769613274941532,
          -0.0008571568201106994,
          0.0013502770463110492,
          0.0035831807336775268,
          0.005417049005746452,
          0.00629216024451304,
          0.005593122788850297,
          0.002743862520523721,
          -0.002655564716716463,
          -0.01066879234231094,
          -0.020904222369481362,
          -0.03246521708384181,
          -0.04401729199924209,
          -0.05400107598738474,
          -0.060964116888554964,
          -0.06392976443659659,
          -0.0626683203325154,
          -0.057771243192586474,
          -0.05048000252846668,
          -0.04233606696645617,
          -0.03478146974400101,
          -0.02885432923992523,
          -0.02507295243863175,
          -0.023501231352672125,
          -0.023907554032511963,
          -0.025918581471188945,
          -0.029116238411273643,
          -0.03306075279760719,
          -0.03727128921773572,
          -0.04124857527064536,
          -0.044540265667805626,
          -0.04683055305443645,
          -0.04801841444377742,
          -0.04824229021762578,
          -0.047835974177052334,
          -0.04723280132632736,
          -0.04682103777887313
         ]
        }
       ],
       "layout": {
        "template": {
         "data": {
          "bar": [
           {
            "error_x": {
             "color": "#2a3f5f"
            },
            "error_y": {
             "color": "#2a3f5f"
            },
            "marker": {
             "line": {
              "color": "#E5ECF6",
              "width": 0.5
             },
             "pattern": {
              "fillmode": "overlay",
              "size": 10,
              "solidity": 0.2
             }
            },
            "type": "bar"
           }
          ],
          "barpolar": [
           {
            "marker": {
             "line": {
              "color": "#E5ECF6",
              "width": 0.5
             },
             "pattern": {
              "fillmode": "overlay",
              "size": 10,
              "solidity": 0.2
             }
            },
            "type": "barpolar"
           }
          ],
          "carpet": [
           {
            "aaxis": {
             "endlinecolor": "#2a3f5f",
             "gridcolor": "white",
             "linecolor": "white",
             "minorgridcolor": "white",
             "startlinecolor": "#2a3f5f"
            },
            "baxis": {
             "endlinecolor": "#2a3f5f",
             "gridcolor": "white",
             "linecolor": "white",
             "minorgridcolor": "white",
             "startlinecolor": "#2a3f5f"
            },
            "type": "carpet"
           }
          ],
          "choropleth": [
           {
            "colorbar": {
             "outlinewidth": 0,
             "ticks": ""
            },
            "type": "choropleth"
           }
          ],
          "contour": [
           {
            "colorbar": {
             "outlinewidth": 0,
             "ticks": ""
            },
            "colorscale": [
             [
              0,
              "#0d0887"
             ],
             [
              0.1111111111111111,
              "#46039f"
             ],
             [
              0.2222222222222222,
              "#7201a8"
             ],
             [
              0.3333333333333333,
              "#9c179e"
             ],
             [
              0.4444444444444444,
              "#bd3786"
             ],
             [
              0.5555555555555556,
              "#d8576b"
             ],
             [
              0.6666666666666666,
              "#ed7953"
             ],
             [
              0.7777777777777778,
              "#fb9f3a"
             ],
             [
              0.8888888888888888,
              "#fdca26"
             ],
             [
              1,
              "#f0f921"
             ]
            ],
            "type": "contour"
           }
          ],
          "contourcarpet": [
           {
            "colorbar": {
             "outlinewidth": 0,
             "ticks": ""
            },
            "type": "contourcarpet"
           }
          ],
          "heatmap": [
           {
            "colorbar": {
             "outlinewidth": 0,
             "ticks": ""
            },
            "colorscale": [
             [
              0,
              "#0d0887"
             ],
             [
              0.1111111111111111,
              "#46039f"
             ],
             [
              0.2222222222222222,
              "#7201a8"
             ],
             [
              0.3333333333333333,
              "#9c179e"
             ],
             [
              0.4444444444444444,
              "#bd3786"
             ],
             [
              0.5555555555555556,
              "#d8576b"
             ],
             [
              0.6666666666666666,
              "#ed7953"
             ],
             [
              0.7777777777777778,
              "#fb9f3a"
             ],
             [
              0.8888888888888888,
              "#fdca26"
             ],
             [
              1,
              "#f0f921"
             ]
            ],
            "type": "heatmap"
           }
          ],
          "heatmapgl": [
           {
            "colorbar": {
             "outlinewidth": 0,
             "ticks": ""
            },
            "colorscale": [
             [
              0,
              "#0d0887"
             ],
             [
              0.1111111111111111,
              "#46039f"
             ],
             [
              0.2222222222222222,
              "#7201a8"
             ],
             [
              0.3333333333333333,
              "#9c179e"
             ],
             [
              0.4444444444444444,
              "#bd3786"
             ],
             [
              0.5555555555555556,
              "#d8576b"
             ],
             [
              0.6666666666666666,
              "#ed7953"
             ],
             [
              0.7777777777777778,
              "#fb9f3a"
             ],
             [
              0.8888888888888888,
              "#fdca26"
             ],
             [
              1,
              "#f0f921"
             ]
            ],
            "type": "heatmapgl"
           }
          ],
          "histogram": [
           {
            "marker": {
             "pattern": {
              "fillmode": "overlay",
              "size": 10,
              "solidity": 0.2
             }
            },
            "type": "histogram"
           }
          ],
          "histogram2d": [
           {
            "colorbar": {
             "outlinewidth": 0,
             "ticks": ""
            },
            "colorscale": [
             [
              0,
              "#0d0887"
             ],
             [
              0.1111111111111111,
              "#46039f"
             ],
             [
              0.2222222222222222,
              "#7201a8"
             ],
             [
              0.3333333333333333,
              "#9c179e"
             ],
             [
              0.4444444444444444,
              "#bd3786"
             ],
             [
              0.5555555555555556,
              "#d8576b"
             ],
             [
              0.6666666666666666,
              "#ed7953"
             ],
             [
              0.7777777777777778,
              "#fb9f3a"
             ],
             [
              0.8888888888888888,
              "#fdca26"
             ],
             [
              1,
              "#f0f921"
             ]
            ],
            "type": "histogram2d"
           }
          ],
          "histogram2dcontour": [
           {
            "colorbar": {
             "outlinewidth": 0,
             "ticks": ""
            },
            "colorscale": [
             [
              0,
              "#0d0887"
             ],
             [
              0.1111111111111111,
              "#46039f"
             ],
             [
              0.2222222222222222,
              "#7201a8"
             ],
             [
              0.3333333333333333,
              "#9c179e"
             ],
             [
              0.4444444444444444,
              "#bd3786"
             ],
             [
              0.5555555555555556,
              "#d8576b"
             ],
             [
              0.6666666666666666,
              "#ed7953"
             ],
             [
              0.7777777777777778,
              "#fb9f3a"
             ],
             [
              0.8888888888888888,
              "#fdca26"
             ],
             [
              1,
              "#f0f921"
             ]
            ],
            "type": "histogram2dcontour"
           }
          ],
          "mesh3d": [
           {
            "colorbar": {
             "outlinewidth": 0,
             "ticks": ""
            },
            "type": "mesh3d"
           }
          ],
          "parcoords": [
           {
            "line": {
             "colorbar": {
              "outlinewidth": 0,
              "ticks": ""
             }
            },
            "type": "parcoords"
           }
          ],
          "pie": [
           {
            "automargin": true,
            "type": "pie"
           }
          ],
          "scatter": [
           {
            "fillpattern": {
             "fillmode": "overlay",
             "size": 10,
             "solidity": 0.2
            },
            "type": "scatter"
           }
          ],
          "scatter3d": [
           {
            "line": {
             "colorbar": {
              "outlinewidth": 0,
              "ticks": ""
             }
            },
            "marker": {
             "colorbar": {
              "outlinewidth": 0,
              "ticks": ""
             }
            },
            "type": "scatter3d"
           }
          ],
          "scattercarpet": [
           {
            "marker": {
             "colorbar": {
              "outlinewidth": 0,
              "ticks": ""
             }
            },
            "type": "scattercarpet"
           }
          ],
          "scattergeo": [
           {
            "marker": {
             "colorbar": {
              "outlinewidth": 0,
              "ticks": ""
             }
            },
            "type": "scattergeo"
           }
          ],
          "scattergl": [
           {
            "marker": {
             "colorbar": {
              "outlinewidth": 0,
              "ticks": ""
             }
            },
            "type": "scattergl"
           }
          ],
          "scattermapbox": [
           {
            "marker": {
             "colorbar": {
              "outlinewidth": 0,
              "ticks": ""
             }
            },
            "type": "scattermapbox"
           }
          ],
          "scatterpolar": [
           {
            "marker": {
             "colorbar": {
              "outlinewidth": 0,
              "ticks": ""
             }
            },
            "type": "scatterpolar"
           }
          ],
          "scatterpolargl": [
           {
            "marker": {
             "colorbar": {
              "outlinewidth": 0,
              "ticks": ""
             }
            },
            "type": "scatterpolargl"
           }
          ],
          "scatterternary": [
           {
            "marker": {
             "colorbar": {
              "outlinewidth": 0,
              "ticks": ""
             }
            },
            "type": "scatterternary"
           }
          ],
          "surface": [
           {
            "colorbar": {
             "outlinewidth": 0,
             "ticks": ""
            },
            "colorscale": [
             [
              0,
              "#0d0887"
             ],
             [
              0.1111111111111111,
              "#46039f"
             ],
             [
              0.2222222222222222,
              "#7201a8"
             ],
             [
              0.3333333333333333,
              "#9c179e"
             ],
             [
              0.4444444444444444,
              "#bd3786"
             ],
             [
              0.5555555555555556,
              "#d8576b"
             ],
             [
              0.6666666666666666,
              "#ed7953"
             ],
             [
              0.7777777777777778,
              "#fb9f3a"
             ],
             [
              0.8888888888888888,
              "#fdca26"
             ],
             [
              1,
              "#f0f921"
             ]
            ],
            "type": "surface"
           }
          ],
          "table": [
           {
            "cells": {
             "fill": {
              "color": "#EBF0F8"
             },
             "line": {
              "color": "white"
             }
            },
            "header": {
             "fill": {
              "color": "#C8D4E3"
             },
             "line": {
              "color": "white"
             }
            },
            "type": "table"
           }
          ]
         },
         "layout": {
          "annotationdefaults": {
           "arrowcolor": "#2a3f5f",
           "arrowhead": 0,
           "arrowwidth": 1
          },
          "autotypenumbers": "strict",
          "coloraxis": {
           "colorbar": {
            "outlinewidth": 0,
            "ticks": ""
           }
          },
          "colorscale": {
           "diverging": [
            [
             0,
             "#8e0152"
            ],
            [
             0.1,
             "#c51b7d"
            ],
            [
             0.2,
             "#de77ae"
            ],
            [
             0.3,
             "#f1b6da"
            ],
            [
             0.4,
             "#fde0ef"
            ],
            [
             0.5,
             "#f7f7f7"
            ],
            [
             0.6,
             "#e6f5d0"
            ],
            [
             0.7,
             "#b8e186"
            ],
            [
             0.8,
             "#7fbc41"
            ],
            [
             0.9,
             "#4d9221"
            ],
            [
             1,
             "#276419"
            ]
           ],
           "sequential": [
            [
             0,
             "#0d0887"
            ],
            [
             0.1111111111111111,
             "#46039f"
            ],
            [
             0.2222222222222222,
             "#7201a8"
            ],
            [
             0.3333333333333333,
             "#9c179e"
            ],
            [
             0.4444444444444444,
             "#bd3786"
            ],
            [
             0.5555555555555556,
             "#d8576b"
            ],
            [
             0.6666666666666666,
             "#ed7953"
            ],
            [
             0.7777777777777778,
             "#fb9f3a"
            ],
            [
             0.8888888888888888,
             "#fdca26"
            ],
            [
             1,
             "#f0f921"
            ]
           ],
           "sequentialminus": [
            [
             0,
             "#0d0887"
            ],
            [
             0.1111111111111111,
             "#46039f"
            ],
            [
             0.2222222222222222,
             "#7201a8"
            ],
            [
             0.3333333333333333,
             "#9c179e"
            ],
            [
             0.4444444444444444,
             "#bd3786"
            ],
            [
             0.5555555555555556,
             "#d8576b"
            ],
            [
             0.6666666666666666,
             "#ed7953"
            ],
            [
             0.7777777777777778,
             "#fb9f3a"
            ],
            [
             0.8888888888888888,
             "#fdca26"
            ],
            [
             1,
             "#f0f921"
            ]
           ]
          },
          "colorway": [
           "#636efa",
           "#EF553B",
           "#00cc96",
           "#ab63fa",
           "#FFA15A",
           "#19d3f3",
           "#FF6692",
           "#B6E880",
           "#FF97FF",
           "#FECB52"
          ],
          "font": {
           "color": "#2a3f5f"
          },
          "geo": {
           "bgcolor": "white",
           "lakecolor": "white",
           "landcolor": "#E5ECF6",
           "showlakes": true,
           "showland": true,
           "subunitcolor": "white"
          },
          "hoverlabel": {
           "align": "left"
          },
          "hovermode": "closest",
          "mapbox": {
           "style": "light"
          },
          "paper_bgcolor": "white",
          "plot_bgcolor": "#E5ECF6",
          "polar": {
           "angularaxis": {
            "gridcolor": "white",
            "linecolor": "white",
            "ticks": ""
           },
           "bgcolor": "#E5ECF6",
           "radialaxis": {
            "gridcolor": "white",
            "linecolor": "white",
            "ticks": ""
           }
          },
          "scene": {
           "xaxis": {
            "backgroundcolor": "#E5ECF6",
            "gridcolor": "white",
            "gridwidth": 2,
            "linecolor": "white",
            "showbackground": true,
            "ticks": "",
            "zerolinecolor": "white"
           },
           "yaxis": {
            "backgroundcolor": "#E5ECF6",
            "gridcolor": "white",
            "gridwidth": 2,
            "linecolor": "white",
            "showbackground": true,
            "ticks": "",
            "zerolinecolor": "white"
           },
           "zaxis": {
            "backgroundcolor": "#E5ECF6",
            "gridcolor": "white",
            "gridwidth": 2,
            "linecolor": "white",
            "showbackground": true,
            "ticks": "",
            "zerolinecolor": "white"
           }
          },
          "shapedefaults": {
           "line": {
            "color": "#2a3f5f"
           }
          },
          "ternary": {
           "aaxis": {
            "gridcolor": "white",
            "linecolor": "white",
            "ticks": ""
           },
           "baxis": {
            "gridcolor": "white",
            "linecolor": "white",
            "ticks": ""
           },
           "bgcolor": "#E5ECF6",
           "caxis": {
            "gridcolor": "white",
            "linecolor": "white",
            "ticks": ""
           }
          },
          "title": {
           "x": 0.05
          },
          "xaxis": {
           "automargin": true,
           "gridcolor": "white",
           "linecolor": "white",
           "ticks": "",
           "title": {
            "standoff": 15
           },
           "zerolinecolor": "white",
           "zerolinewidth": 2
          },
          "yaxis": {
           "automargin": true,
           "gridcolor": "white",
           "linecolor": "white",
           "ticks": "",
           "title": {
            "standoff": 15
           },
           "zerolinecolor": "white",
           "zerolinewidth": 2
          }
         }
        },
        "title": {
         "text": "Original, Smoothed, and Mean Subtracted Wheel Speeds, Recording 0, Trial 2"
        },
        "xaxis": {
         "title": {
          "text": "Time"
         }
        },
        "yaxis": {
         "title": {
          "text": "Value"
         }
        }
       }
      }
     },
     "metadata": {},
     "output_type": "display_data"
    }
   ],
   "source": [
    "for t in range(3):\n",
    "    fig = go.Figure()\n",
    "    fig.add_trace(go.Scatter(y=Y_train_regular[0][t], name='Original'))\n",
    "    # fig.add_trace(go.Scatter(y=Y_train_smoothed[0][t], name='Smoothed'))\n",
    "    fig.add_trace(go.Scatter(y=Y_train_mean_subtracted[0][t], name='Mean Subtracted'))\n",
    "    # fig.add_trace(go.Scatter(y=Y_train_mean_subtracted_smoothed[0][t], name='Mean Subtracted Smoothed'))\n",
    "    fig.update_layout(title=f'Original, Smoothed, and Mean Subtracted Wheel Speeds, Recording 0, Trial {t}', xaxis_title='Time', yaxis_title='Value')\n",
    "    fig.show()"
   ]
  },
  {
   "cell_type": "markdown",
   "metadata": {},
   "source": [
    "# Training"
   ]
  },
  {
   "cell_type": "code",
   "execution_count": 6,
   "metadata": {},
   "outputs": [],
   "source": [
    "loss_fn = torch.nn.MSELoss()"
   ]
  },
  {
   "cell_type": "markdown",
   "metadata": {},
   "source": [
    "## Reduced Rank"
   ]
  },
  {
   "cell_type": "code",
   "execution_count": 31,
   "metadata": {},
   "outputs": [
    {
     "name": "stdout",
     "output_type": "stream",
     "text": [
      "Iteration 0, Train Loss [1.0105645656585693, 1.0185211896896362, 1.0103423595428467, 1.0331549644470215], Test Loss [1.0034688711166382, 1.0143344402313232, 1.011672019958496, 1.043847680091858]\n",
      "Iteration 100, Train Loss [0.5057018399238586, 0.5139608383178711, 0.5050218105316162, 0.5299863815307617], Test Loss [0.5014842748641968, 0.5122342109680176, 0.5062246322631836, 0.5392560362815857]\n",
      "Iteration 200, Train Loss [0.2570652961730957, 0.25589582324028015, 0.2544521391391754, 0.2687816321849823], Test Loss [0.25398266315460205, 0.2556680738925934, 0.2554248571395874, 0.275619775056839]\n",
      "Iteration 300, Train Loss [0.1296914517879486, 0.12568168342113495, 0.12687796354293823, 0.13515403866767883], Test Loss [0.12734614312648773, 0.12635040283203125, 0.1275702565908432, 0.14018060266971588]\n",
      "Iteration 400, Train Loss [0.06627660989761353, 0.06245025619864464, 0.06378761678934097, 0.06892738491296768], Test Loss [0.0643608421087265, 0.06365904211997986, 0.06419983506202698, 0.07276225835084915]\n",
      "Iteration 500, Train Loss [0.036658819764852524, 0.03392285481095314, 0.03453497216105461, 0.03801438584923744], Test Loss [0.034958742558956146, 0.035436201840639114, 0.03471877798438072, 0.04112295061349869]\n",
      "Iteration 600, Train Loss [0.023998167365789413, 0.02239527553319931, 0.022123536095023155, 0.024723099544644356], Test Loss [0.02236710861325264, 0.024045206606388092, 0.022156665101647377, 0.027441950514912605]\n",
      "Iteration 700, Train Loss [0.0191482026129961, 0.018454067409038544, 0.017394445836544037, 0.019547773525118828], Test Loss [0.017499957233667374, 0.02013779804110527, 0.017346881330013275, 0.022091038525104523]\n",
      "Iteration 800, Train Loss [0.017518874257802963, 0.017465736716985703, 0.015800589695572853, 0.017746105790138245], Test Loss [0.015820002183318138, 0.01913752406835556, 0.0157165564596653, 0.020225785672664642]\n",
      "Iteration 900, Train Loss [0.01705842837691307, 0.017402665689587593, 0.015334534458816051, 0.01718878373503685], Test Loss [0.015309641137719154, 0.01905331388115883, 0.015234909020364285, 0.019650232046842575]\n",
      "Iteration 1000, Train Loss [0.016962191089987755, 0.017515188083052635, 0.015220042318105698, 0.01703157089650631], Test Loss [0.015178141184151173, 0.019151050597429276, 0.01511271670460701, 0.019487431272864342]\n"
     ]
    }
   ],
   "source": [
    "reduced_rank_model = ReducedRankModel(\n",
    "    n_recordings=TOTAL_RECORDINGS,\n",
    "    n_neurons_per_recording=[X_train[i].shape[1] for i in range(TOTAL_RECORDINGS)], \n",
    "    n_time_bins=TIME_BINS, \n",
    "    rank=3\n",
    ")\n",
    "\n",
    "if RANDOM_SEED != -1:\n",
    "    torch.manual_seed(RANDOM_SEED)\n",
    "\n",
    "# optimizer = torch.optim.Adam(model.parameters(), lr=0.001, weight_decay=0.01) 0.0455 best\n",
    "optimizer = torch.optim.Adam(reduced_rank_model.parameters(), lr=0.001, weight_decay=0.01)\n",
    "loss_fn = torch.nn.MSELoss()\n",
    "\n",
    "train_loss = []\n",
    "test_loss = []\n",
    "\n",
    "for training_iteration in range(1001):\n",
    "    train_loss_iter, test_loss_iter = train_one_epoch(X_train, Y_train, X_test, Y_test, reduced_rank_model, optimizer, loss_fn)\n",
    "\n",
    "    if training_iteration % 100 == 0:\n",
    "        print(f'Iteration {training_iteration}, Train Loss {train_loss_iter}, Test Loss {test_loss_iter}')\n",
    "\n",
    "    train_loss.append(train_loss_iter)\n",
    "    test_loss.append(test_loss_iter)"
   ]
  },
  {
   "cell_type": "code",
   "execution_count": 32,
   "metadata": {},
   "outputs": [
    {
     "data": {
      "application/vnd.plotly.v1+json": {
       "config": {
        "plotlyServerURL": "https://plot.ly"
       },
       "data": [
        {
         "name": "0 - Test Recording",
         "type": "scatter",
         "y": [
          1.0034688711166382,
          0.9962657690048218,
          0.9891544580459595,
          0.9821016788482666,
          0.9751021862030029,
          0.968155026435852,
          0.9612604975700378,
          0.954418957233429,
          0.9476307034492493,
          0.9408959746360779,
          0.9342146515846252,
          0.9275868535041809,
          0.9210120439529419,
          0.9144900441169739,
          0.9080203175544739,
          0.9016025066375732,
          0.8952360153198242,
          0.8889203667640686,
          0.8826549649238586,
          0.8764394521713257,
          0.8702730536460876,
          0.8641554713249207,
          0.8580861687660217,
          0.8520645499229431,
          0.8460900783538818,
          0.840162456035614,
          0.8342811465263367,
          0.8284456729888916,
          0.8226555585861206,
          0.8169103860855103,
          0.8112096786499023,
          0.8055531978607178,
          0.7999401688575745,
          0.7943704724311829,
          0.7888435125350952,
          0.7833590507507324,
          0.7779164910316467,
          0.7725156545639038,
          0.7671558260917664,
          0.7618369460105896,
          0.7565584182739258,
          0.7513200640678406,
          0.7461212277412415,
          0.7409616708755493,
          0.7358410358428955,
          0.7307590246200562,
          0.7257152199745178,
          0.7207091450691223,
          0.7157405614852905,
          0.7108091711997986,
          0.7059146165847778,
          0.7010564208030701,
          0.6962342858314514,
          0.6914479732513428,
          0.6866970062255859,
          0.6819812655448914,
          0.6773003339767456,
          0.6726537942886353,
          0.6680412888526917,
          0.6634628176689148,
          0.6589177846908569,
          0.654405951499939,
          0.6499271392822266,
          0.6454809308052063,
          0.6410670280456543,
          0.6366850137710571,
          0.6323350071907043,
          0.6280162930488586,
          0.6237287521362305,
          0.6194722056388855,
          0.6152462959289551,
          0.6110507845878601,
          0.6068851947784424,
          0.6027496457099915,
          0.5986436009407043,
          0.594566822052002,
          0.5905191898345947,
          0.586500346660614,
          0.5825100541114807,
          0.5785480737686157,
          0.5746142268180847,
          0.570708155632019,
          0.5668297410011292,
          0.5629786849021912,
          0.559154748916626,
          0.5553577542304993,
          0.5515874028205872,
          0.5478434562683105,
          0.5441257953643799,
          0.5404341816902161,
          0.5367684364318848,
          0.5331282019615173,
          0.5295133590698242,
          0.5259237289428711,
          0.5223590135574341,
          0.5188192129135132,
          0.5153038501739502,
          0.5118128657341003,
          0.5083460807800293,
          0.5049033164978027,
          0.5014842748641968,
          0.4980888068675995,
          0.4947168827056885,
          0.4913681149482727,
          0.48804235458374023,
          0.4847394824028015,
          0.48145928978919983,
          0.47820156812667847,
          0.47496622800827026,
          0.4717530608177185,
          0.4685618579387665,
          0.46539244055747986,
          0.4622446894645691,
          0.45911839604377747,
          0.45601338148117065,
          0.4529295861721039,
          0.44986680150032043,
          0.4468247890472412,
          0.44380342960357666,
          0.44080260396003723,
          0.4378221333026886,
          0.4348618984222412,
          0.4319216310977936,
          0.4290013909339905,
          0.42610082030296326,
          0.42321982979774475,
          0.4203583896160126,
          0.41751617193222046,
          0.4146932065486908,
          0.4118892252445221,
          0.4091041386127472,
          0.4063378572463989,
          0.4035901129245758,
          0.40086087584495544,
          0.3981499969959259,
          0.39545726776123047,
          0.3927827477455139,
          0.3901260793209076,
          0.3874872624874115,
          0.3848661184310913,
          0.3822624981403351,
          0.37967637181282043,
          0.37710753083229065,
          0.3745558261871338,
          0.37202122807502747,
          0.36950355768203735,
          0.3670027554035187,
          0.3645186722278595,
          0.3620510995388031,
          0.35960009694099426,
          0.3571653962135315,
          0.35474687814712524,
          0.35234448313713074,
          0.3499581217765808,
          0.3475877046585083,
          0.3452330231666565,
          0.3428939878940582,
          0.3405705690383911,
          0.33826252818107605,
          0.3359698951244354,
          0.3336925506591797,
          0.33143025636672974,
          0.32918307185173035,
          0.3269508183002472,
          0.32473331689834595,
          0.3225306272506714,
          0.3203425109386444,
          0.3181689977645874,
          0.31600984930992126,
          0.3138650357723236,
          0.3117344379425049,
          0.3096179962158203,
          0.30751559138298035,
          0.30542710423469543,
          0.3033525049686432,
          0.30129167437553406,
          0.2992444336414337,
          0.29721081256866455,
          0.295190691947937,
          0.29318392276763916,
          0.2911904454231262,
          0.2892102301120758,
          0.2872430980205536,
          0.2852889895439148,
          0.28334784507751465,
          0.281419575214386,
          0.27950406074523926,
          0.27760130167007446,
          0.2757110893726349,
          0.27383342385292053,
          0.27196815609931946,
          0.27011531591415405,
          0.2682747542858124,
          0.26644638180732727,
          0.2646300792694092,
          0.2628258764743805,
          0.2610336244106293,
          0.25925326347351074,
          0.25748467445373535,
          0.2557278275489807,
          0.25398266315460205,
          0.2522490322589874,
          0.25052693486213684,
          0.24881623685359955,
          0.24711693823337555,
          0.24542886018753052,
          0.24375198781490326,
          0.242086261510849,
          0.24043162167072296,
          0.2387879341840744,
          0.23715515434741974,
          0.23553326725959778,
          0.23392213881015778,
          0.23232172429561615,
          0.23073194921016693,
          0.22915275394916534,
          0.22758406400680542,
          0.2260258048772812,
          0.22447791695594788,
          0.2229403853416443,
          0.2214130461215973,
          0.2198958843946457,
          0.21838881075382233,
          0.2168918401002884,
          0.21540480852127075,
          0.21392770111560822,
          0.2124604731798172,
          0.21100300550460815,
          0.20955528318881989,
          0.20811721682548523,
          0.2066887766122818,
          0.20526988804340363,
          0.20386047661304474,
          0.20246052742004395,
          0.2010698914527893,
          0.19968858361244202,
          0.1983165293931961,
          0.1969536691904068,
          0.19559994339942932,
          0.1942553073167801,
          0.19291968643665314,
          0.1915930211544037,
          0.19027529656887054,
          0.18896639347076416,
          0.18766626715660095,
          0.18637491762638092,
          0.1850922405719757,
          0.18381819128990173,
          0.1825527399778366,
          0.18129584193229675,
          0.18004736304283142,
          0.178807333111763,
          0.17757566273212433,
          0.17635232210159302,
          0.1751372069120407,
          0.1739303022623062,
          0.17273159325122833,
          0.1715409755706787,
          0.17035841941833496,
          0.1691838800907135,
          0.16801725327968597,
          0.16685859858989716,
          0.1657077670097351,
          0.16456477344036102,
          0.16342952847480774,
          0.16230203211307526,
          0.16118213534355164,
          0.16006991267204285,
          0.15896524488925934,
          0.15786810219287872,
          0.15677841007709503,
          0.15569618344306946,
          0.15462133288383484,
          0.15355384349822998,
          0.15249361097812653,
          0.15144066512584686,
          0.15039491653442383,
          0.14935632050037384,
          0.1483248621225357,
          0.14730045199394226,
          0.1462830901145935,
          0.14527268707752228,
          0.14426924288272858,
          0.14327268302440643,
          0.14228299260139465,
          0.14130011200904846,
          0.14032398164272308,
          0.13935458660125732,
          0.1383918821811676,
          0.13743582367897034,
          0.13648636639118195,
          0.13554346561431885,
          0.13460707664489746,
          0.1336771845817566,
          0.13275372982025146,
          0.1318366974592209,
          0.1309260129928589,
          0.13002166152000427,
          0.12912359833717346,
          0.12823176383972168,
          0.12734614312648773,
          0.12646669149398804,
          0.12559334933757782,
          0.12472610175609589,
          0.12386490404605865,
          0.12300971895456314,
          0.12216053158044815,
          0.12131727486848831,
          0.12047991156578064,
          0.11964842677116394,
          0.11882276087999344,
          0.11800289899110794,
          0.11718879640102386,
          0.11638041585683823,
          0.11557770520448685,
          0.11478065699338913,
          0.1139892190694809,
          0.11320337653160095,
          0.11242306977510452,
          0.11164827644824982,
          0.11087896674871445,
          0.11011506617069244,
          0.1093565970659256,
          0.10860350728034973,
          0.10785573720932007,
          0.1071132943034172,
          0.10637612640857697,
          0.10564418882131577,
          0.1049174815416336,
          0.10419591516256332,
          0.10347949713468552,
          0.10276821255683899,
          0.10206198692321777,
          0.10136082023382187,
          0.1006646603345871,
          0.09997349232435226,
          0.09928726404905319,
          0.09860595315694809,
          0.09792954474687576,
          0.09725798666477203,
          0.09659126400947571,
          0.0959293469786644,
          0.09527216851711273,
          0.0946197509765625,
          0.09397202730178833,
          0.09332899004220963,
          0.0926905944943428,
          0.09205680340528488,
          0.09142763167619705,
          0.09080301225185394,
          0.09018291532993317,
          0.08956731855869293,
          0.08895619213581085,
          0.08834951370954514,
          0.0877472534775734,
          0.08714939653873444,
          0.08655589073896408,
          0.08596670627593994,
          0.08538182824850082,
          0.08480123430490494,
          0.0842248946428299,
          0.08365277200937271,
          0.08308485150337219,
          0.08252109587192535,
          0.08196146786212921,
          0.08140596747398376,
          0.08085456490516663,
          0.08030722290277481,
          0.07976391166448593,
          0.0792246088385582,
          0.07868930697441101,
          0.0781579464673996,
          0.07763052731752396,
          0.0771070197224617,
          0.07658739387989044,
          0.07607162743806839,
          0.07555969059467316,
          0.07505156099796295,
          0.07454722374677658,
          0.07404663413763046,
          0.073549784719944,
          0.0730566456913948,
          0.07256719470024109,
          0.07208140939474106,
          0.07159926742315292,
          0.0711207315325737,
          0.0706457868218422,
          0.07017441093921661,
          0.06970658153295517,
          0.06924227625131607,
          0.06878146529197693,
          0.06832414120435715,
          0.06787025183439255,
          0.06741980463266373,
          0.0669727697968483,
          0.06652911752462387,
          0.06608882546424866,
          0.06565186381340027,
          0.0652182400226593,
          0.06478789448738098,
          0.0643608421087265,
          0.06393703818321228,
          0.06351646780967712,
          0.06309910863637924,
          0.06268493831157684,
          0.06227393448352814,
          0.06186607852578163,
          0.06146135553717613,
          0.06105973571538925,
          0.0606612004339695,
          0.06026572361588478,
          0.0598733015358448,
          0.05948390066623688,
          0.059097498655319214,
          0.05871408060193062,
          0.0583336316049099,
          0.05795612931251526,
          0.057581547647714615,
          0.05720986798405647,
          0.05684107542037964,
          0.05647515505552292,
          0.05611206591129303,
          0.05575181543827057,
          0.05539437383413315,
          0.055039722472429276,
          0.05468783155083656,
          0.05433869734406471,
          0.05399230122566223,
          0.05364862456917763,
          0.053307633846998215,
          0.052969325333833694,
          0.052633676677942276,
          0.05230066180229187,
          0.05197027325630188,
          0.05164250358939171,
          0.05131731554865837,
          0.050994694232940674,
          0.05067462846636772,
          0.05035709962248802,
          0.050042085349559784,
          0.049729570746421814,
          0.04941954091191292,
          0.0491119846701622,
          0.048806868493556976,
          0.04850419610738754,
          0.048203930258750916,
          0.047906067222356796,
          0.047610584646463394,
          0.04731747508049011,
          0.047026704996824265,
          0.04673827439546585,
          0.04645216464996338,
          0.04616834968328476,
          0.045886825770139694,
          0.045607563108205795,
          0.04533056169748306,
          0.04505578801035881,
          0.044783249497413635,
          0.04451291263103485,
          0.04424476623535156,
          0.043978799134492874,
          0.0437149852514267,
          0.04345332458615303,
          0.04319378733634949,
          0.04293637350201607,
          0.04268105700612068,
          0.042427822947502136,
          0.042176660150289536,
          0.04192754998803139,
          0.041680485010147095,
          0.04143545404076576,
          0.0411924310028553,
          0.040951408445835114,
          0.04071236401796341,
          0.04047530144453049,
          0.04024018719792366,
          0.04000701755285263,
          0.039775777608156204,
          0.03954644873738289,
          0.03931902348995209,
          0.03909348323941231,
          0.038869813084602356,
          0.038648009300231934,
          0.03842805325984955,
          0.038209933787584305,
          0.037993624806404114,
          0.037779130041599274,
          0.037566423416137695,
          0.03735550120472908,
          0.037146348506212234,
          0.036938950419425964,
          0.036733292043209076,
          0.03652936965227127,
          0.03632715716958046,
          0.036126650869846344,
          0.03592783957719803,
          0.03573070839047432,
          0.03553524613380432,
          0.03534144535660744,
          0.03514927625656128,
          0.034958742558956146,
          0.034769829362630844,
          0.03458252549171448,
          0.03439681604504585,
          0.034212689846754074,
          0.03403013199567795,
          0.03384913504123688,
          0.03366968780755997,
          0.03349177911877632,
          0.033315397799015045,
          0.03314053267240524,
          0.03296716511249542,
          0.032795291393995285,
          0.032624900341033936,
          0.03245598077774048,
          0.03228851407766342,
          0.032122500240802765,
          0.031957924365997314,
          0.031794775277376175,
          0.03163303807377815,
          0.03147270530462265,
          0.03131376951932907,
          0.03115621581673622,
          0.031000036746263504,
          0.030845221132040024,
          0.030691754072904587,
          0.030539631843566895,
          0.03038884326815605,
          0.030239375308156013,
          0.030091220512986183,
          0.029944365844130516,
          0.029798805713653564,
          0.029654523357748985,
          0.02951151318848133,
          0.029369769617915154,
          0.02922927588224411,
          0.02909003011882305,
          0.028952013701200485,
          0.028815221041440964,
          0.028679639101028442,
          0.02854526787996292,
          0.028412090614438057,
          0.028280097991228104,
          0.028149288147687912,
          0.02801964059472084,
          0.02789115533232689,
          0.027763819321990013,
          0.027637621387839317,
          0.027512559667229652,
          0.027388621121644974,
          0.027265796437859535,
          0.02714407630264759,
          0.02702345699071884,
          0.026903923600912094,
          0.02678546868264675,
          0.026668092235922813,
          0.02655177004635334,
          0.02643650770187378,
          0.026322290301322937,
          0.026209108531475067,
          0.02609695866703987,
          0.025985829532146454,
          0.025875715538859367,
          0.025766603648662567,
          0.025658491998910904,
          0.025551365688443184,
          0.02544522099196911,
          0.02534005418419838,
          0.025235850363969803,
          0.02513260580599308,
          0.025030309334397316,
          0.024928955361247063,
          0.024828538298606873,
          0.02472904697060585,
          0.024630475789308548,
          0.02453281730413437,
          0.024436065927147865,
          0.024340208619832993,
          0.024245241656899452,
          0.024151163175702095,
          0.02405795454978943,
          0.023965617641806602,
          0.02387414127588272,
          0.023783521726727486,
          0.02369374781847,
          0.02360481396317482,
          0.023516716435551643,
          0.023429444059729576,
          0.02334299311041832,
          0.02325735054910183,
          0.023172520101070404,
          0.023088488727808,
          0.023005250841379166,
          0.02292279526591301,
          0.02284112572669983,
          0.02276022732257843,
          0.022680094465613365,
          0.022600723430514336,
          0.022522104904055595,
          0.022444238886237144,
          0.02236710861325264,
          0.02229071967303753,
          0.022215060889720917,
          0.022140122950077057,
          0.02206590212881565,
          0.02199239283800125,
          0.02191958762705326,
          0.02184748277068138,
          0.021776070818305016,
          0.021705346181988716,
          0.021635303273797035,
          0.021565936505794525,
          0.02149723656475544,
          0.02142920345067978,
          0.021361829712986946,
          0.021295107901096344,
          0.021229034289717674,
          0.02116360329091549,
          0.021098807454109192,
          0.021034643054008484,
          0.020971102640032768,
          0.020908182486891747,
          0.02084587700664997,
          0.020784182474017143,
          0.020723091438412666,
          0.020662598311901093,
          0.020602701231837273,
          0.02054339088499546,
          0.020484667271375656,
          0.020426515489816666,
          0.020368941128253937,
          0.020311933010816574,
          0.020255491137504578,
          0.02019960805773735,
          0.020144272595643997,
          0.020089490339159966,
          0.02003525197505951,
          0.01998155005276203,
          0.01992838643491268,
          0.019875748082995415,
          0.01982363685965538,
          0.01977204531431198,
          0.01972096972167492,
          0.019670406356453896,
          0.019620347768068314,
          0.019570790231227875,
          0.01952173188328743,
          0.019473165273666382,
          0.01942508853971958,
          0.01937749795615673,
          0.019330384209752083,
          0.019283747300505638,
          0.0192375797778368,
          0.019191881641745567,
          0.019146647304296494,
          0.019101867452263832,
          0.01905754581093788,
          0.019013673067092896,
          0.018970247358083725,
          0.018927263095974922,
          0.018884720280766487,
          0.018842611461877823,
          0.018800931051373482,
          0.018759677186608315,
          0.018718846142292023,
          0.018678434193134308,
          0.018638435751199722,
          0.018598850816488266,
          0.01855967380106449,
          0.0185208972543478,
          0.018482521176338196,
          0.018444541841745377,
          0.018406955525279045,
          0.018369756639003754,
          0.01833294704556465,
          0.018296513706445694,
          0.018260464072227478,
          0.01822478696703911,
          0.018189480528235435,
          0.01815454103052616,
          0.018119966611266136,
          0.01808575540781021,
          0.01805189810693264,
          0.018018396571278572,
          0.01798524707555771,
          0.017952442169189453,
          0.017919983714818954,
          0.017887866124510765,
          0.017856087535619736,
          0.017824644222855568,
          0.017793530598282814,
          0.017762744799256325,
          0.0177322868257761,
          0.017702151089906693,
          0.017672330141067505,
          0.017642829567193985,
          0.017613641917705536,
          0.01758476346731186,
          0.017556192353367805,
          0.017527922987937927,
          0.017499957233667374,
          0.017472291365265846,
          0.017444919794797897,
          0.017417842522263527,
          0.017391053959727287,
          0.01736455224454403,
          0.017338335514068604,
          0.01731240190565586,
          0.017286743968725204,
          0.017261365428566933,
          0.017236260697245598,
          0.0172114260494709,
          0.017186859622597694,
          0.017162557691335678,
          0.017138520255684853,
          0.01711474359035492,
          0.01709122397005558,
          0.017067959532141685,
          0.017044950276613235,
          0.017022190615534782,
          0.016999678686261177,
          0.01697741076350212,
          0.016955388709902763,
          0.016933605074882507,
          0.01691206358373165,
          0.0168907567858696,
          0.0168696828186512,
          0.016848841682076454,
          0.016828225925564766,
          0.01680784299969673,
          0.016787679865956306,
          0.01676774211227894,
          0.01674802415072918,
          0.01672852225601673,
          0.016709238290786743,
          0.016690170392394066,
          0.016671309247612953,
          0.016652660444378853,
          0.016634218394756317,
          0.016615981236100197,
          0.016597947105765343,
          0.016580117866396904,
          0.016562482342123985,
          0.016545047983527184,
          0.016527807340025902,
          0.01651075854897499,
          0.0164939034730196,
          0.01647723838686943,
          0.016460757702589035,
          0.016444465145468712,
          0.016428355127573013,
          0.01641242578625679,
          0.01639667898416519,
          0.01638110913336277,
          0.016365714371204376,
          0.01635049469769001,
          0.016335448250174522,
          0.016320569440722466,
          0.016305863857269287,
          0.01629132591187954,
          0.016276953741908073,
          0.01626274362206459,
          0.01624869555234909,
          0.016234809532761574,
          0.01622108183801174,
          0.016207512468099594,
          0.016194097697734833,
          0.016180837526917458,
          0.01616773195564747,
          0.01615477353334427,
          0.016141965985298157,
          0.016129309311509132,
          0.0161167960613966,
          0.016104428097605705,
          0.016092201694846153,
          0.016080118715763092,
          0.016068175435066223,
          0.016056371852755547,
          0.016044706106185913,
          0.016033172607421875,
          0.01602177694439888,
          0.01601051352918148,
          0.015999382361769676,
          0.01598837785422802,
          0.015977507457137108,
          0.015966763719916344,
          0.01595614291727543,
          0.01594565249979496,
          0.015935279428958893,
          0.015925029292702675,
          0.015914903953671455,
          0.015904895961284637,
          0.01589500717818737,
          0.015885233879089355,
          0.015875576063990593,
          0.015866035595536232,
          0.015856606885790825,
          0.01584729179739952,
          0.015838084742426872,
          0.015828989446163177,
          0.015820002183318138,
          0.015811121091246605,
          0.015802349895238876,
          0.015793681144714355,
          0.01578511670231819,
          0.015776654705405235,
          0.015768295153975487,
          0.015760034322738647,
          0.015751875936985016,
          0.015743814408779144,
          0.015735851600766182,
          0.01572798192501068,
          0.01572020910680294,
          0.01571253128349781,
          0.015704946592450142,
          0.015697455033659935,
          0.01569005474448204,
          0.01568274199962616,
          0.01567552052438259,
          0.015668384730815887,
          0.015661340206861496,
          0.01565437950193882,
          0.01564750447869301,
          0.015640713274478912,
          0.015634004026651382,
          0.015627380460500717,
          0.015620836056768894,
          0.015614373609423637,
          0.015607991255819798,
          0.015601687133312225,
          0.01559546310454607,
          0.015589314512908459,
          0.015583240427076817,
          0.015577245503664017,
          0.015571322292089462,
          0.015565472654998302,
          0.015559697523713112,
          0.015553994104266167,
          0.015548363327980042,
          0.015542802400887012,
          0.01553730946034193,
          0.015531887300312519,
          0.015526531264185905,
          0.015521242283284664,
          0.015516023151576519,
          0.015510869212448597,
          0.015505778603255749,
          0.015500753186643124,
          0.015495790168642998,
          0.01549089141190052,
          0.015486055985093117,
          0.015481281094253063,
          0.01547656487673521,
          0.015471911989152431,
          0.015467316843569279,
          0.015462781302630901,
          0.015458302572369576,
          0.015453883446753025,
          0.015449518337845802,
          0.015445210039615631,
          0.015440957620739937,
          0.01543675921857357,
          0.015432615764439106,
          0.015428525395691395,
          0.015424488112330437,
          0.015420502051711082,
          0.015416570007801056,
          0.015412687323987484,
          0.015408857725560665,
          0.015405073761940002,
          0.015401341952383518,
          0.01539765764027834,
          0.015394020825624466,
          0.015390433371067047,
          0.015386893413960934,
          0.015383400022983551,
          0.015379950404167175,
          0.015376548282802105,
          0.015373189933598042,
          0.01536987442523241,
          0.01536660548299551,
          0.015363378450274467,
          0.015360194258391857,
          0.01535705290734768,
          0.015353952534496784,
          0.015350894071161747,
          0.015347875654697418,
          0.015344899147748947,
          0.01534195989370346,
          0.015339061617851257,
          0.015336201526224613,
          0.015333379618823528,
          0.015330597758293152,
          0.015327850356698036,
          0.015325143001973629,
          0.015322470106184483,
          0.01531983446329832,
          0.015317234210669994,
          0.015314667485654354,
          0.01531213615089655,
          0.015309641137719154,
          0.015307178720831871,
          0.015304752625524998,
          0.015302355401217937,
          0.015299992635846138,
          0.0152976643294096,
          0.015295365825295448,
          0.015293098986148834,
          0.015290863811969757,
          0.015288657508790493,
          0.015286484733223915,
          0.015284341759979725,
          0.015282227657735348,
          0.015280141495168209,
          0.015278086997568607,
          0.01527605950832367,
          0.015274059027433395,
          0.015272089280188084,
          0.015270144678652287,
          0.015268227085471153,
          0.015266337431967258,
          0.015264474786818027,
          0.015262637287378311,
          0.015260825864970684,
          0.015259040519595146,
          0.015257282182574272,
          0.015255546197295189,
          0.015253834426403046,
          0.015252146869897842,
          0.015250485390424728,
          0.01524884533137083,
          0.015247232280671597,
          0.01524563878774643,
          0.015244069509208202,
          0.015242522582411766,
          0.015240996144711971,
          0.015239493921399117,
          0.015238013118505478,
          0.01523655280470848,
          0.0152351139113307,
          0.01523369736969471,
          0.015232299454510212,
          0.015230922028422356,
          0.015229566022753716,
          0.015228226780891418,
          0.015226909890770912,
          0.015225612558424473,
          0.015224331058561802,
          0.015223070979118347,
          0.015221827663481236,
          0.015220602974295616,
          0.015219397842884064,
          0.015218210406601429,
          0.015217038802802563,
          0.015215886756777763,
          0.015214751474559307,
          0.015213631093502045,
          0.01521253027021885,
          0.015211443416774273,
          0.01521037332713604,
          0.015209320932626724,
          0.015208281576633453,
          0.015207260847091675,
          0.01520625315606594,
          0.015205261297523975,
          0.015204285271465778,
          0.0152033232152462,
          0.015202376060187817,
          0.015201441943645477,
          0.015200523659586906,
          0.015199616551399231,
          0.015198729000985622,
          0.01519785076379776,
          0.015196987427771091,
          0.015196136198937893,
          0.015195299871265888,
          0.015194474719464779,
          0.015193665400147438,
          0.015192863531410694,
          0.015192077495157719,
          0.015191302634775639,
          0.015190540812909603,
          0.015189789235591888,
          0.015189049765467644,
          0.015188323333859444,
          0.015187607146799564,
          0.01518690399825573,
          0.015186210162937641,
          0.015185528434813023,
          0.015184856951236725,
          0.015184196643531322,
          0.015183545649051666,
          0.015182905830442905,
          0.015182276256382465,
          0.015181655995547771,
          0.015181045979261398,
          0.015180446207523346,
          0.015179854817688465,
          0.015179273672401905,
          0.01517870370298624,
          0.015178141184151173
         ]
        },
        {
         "name": "0 - Train Recording",
         "type": "scatter",
         "y": [
          1.0105645656585693,
          1.0031650066375732,
          0.9959904551506042,
          0.9888847470283508,
          0.9818353652954102,
          0.9748398065567017,
          0.9678977727890015,
          0.9610093832015991,
          0.9541746377944946,
          0.9473941326141357,
          0.9406676292419434,
          0.9339950680732727,
          0.9273760318756104,
          0.9208104610443115,
          0.9142977595329285,
          0.9078376293182373,
          0.9014294147491455,
          0.8950726985931396,
          0.8887669444084167,
          0.8825114369392395,
          0.8763059377670288,
          0.8701497316360474,
          0.8640424609184265,
          0.8579835295677185,
          0.8519724011421204,
          0.8460086584091187,
          0.8400918841362,
          0.8342215418815613,
          0.8283969759941101,
          0.8226181268692017,
          0.8168843388557434,
          0.8111951351165771,
          0.8055501580238342,
          0.7999488711357117,
          0.7943909764289856,
          0.7888759970664978,
          0.7834034562110901,
          0.7779731154441833,
          0.7725843787193298,
          0.7672368884086609,
          0.7619304060935974,
          0.7566643357276917,
          0.7514383792877197,
          0.7462520599365234,
          0.7411051392555237,
          0.735997200012207,
          0.7309278249740601,
          0.7258966565132141,
          0.7209034562110901,
          0.715947687625885,
          0.7110289931297302,
          0.7061470746994019,
          0.7013018131256104,
          0.6964923739433289,
          0.6917189359664917,
          0.6869807243347168,
          0.6822776794433594,
          0.6776094436645508,
          0.6729756593704224,
          0.6683758497238159,
          0.6638099551200867,
          0.659277617931366,
          0.6547783613204956,
          0.6503120064735413,
          0.6458781361579895,
          0.6414767503738403,
          0.637107253074646,
          0.6327694654464722,
          0.628463089466095,
          0.6241877675056458,
          0.6199434399604797,
          0.615729570388794,
          0.6115459203720093,
          0.6073924899101257,
          0.6032687425613403,
          0.5991745591163635,
          0.5951095223426819,
          0.5910735726356506,
          0.5870662927627563,
          0.5830875635147095,
          0.5791369676589966,
          0.5752143859863281,
          0.5713196396827698,
          0.5674524307250977,
          0.5636124014854431,
          0.5597994327545166,
          0.556013286113739,
          0.552253782749176,
          0.5485206246376038,
          0.5448136925697327,
          0.5411325693130493,
          0.5374772548675537,
          0.5338473320007324,
          0.5302427411079407,
          0.5266633033752441,
          0.523108720779419,
          0.5195788145065308,
          0.5160734057426453,
          0.5125921964645386,
          0.5091351270675659,
          0.5057018399238586,
          0.5022923350334167,
          0.49890631437301636,
          0.49554359912872314,
          0.49220407009124756,
          0.48888739943504333,
          0.4855934977531433,
          0.48232218623161316,
          0.47907328605651855,
          0.47584670782089233,
          0.47264212369918823,
          0.4694593548774719,
          0.4662984609603882,
          0.4631589651107788,
          0.46004095673561096,
          0.4569440186023712,
          0.4538683295249939,
          0.4508134424686432,
          0.44777923822402954,
          0.4447656571865082,
          0.4417724907398224,
          0.43879956007003784,
          0.435846745967865,
          0.4329138696193695,
          0.4300008714199066,
          0.4271075427532196,
          0.42423367500305176,
          0.4213792085647583,
          0.4185439348220825,
          0.41572776436805725,
          0.41293051838874817,
          0.4101521074771881,
          0.40739232301712036,
          0.40465110540390015,
          0.40192824602127075,
          0.3992236852645874,
          0.39653727412223816,
          0.3938687741756439,
          0.3912181854248047,
          0.3885853588581085,
          0.3859700560569763,
          0.38337230682373047,
          0.38079187273979187,
          0.37822866439819336,
          0.3756825923919678,
          0.3731534481048584,
          0.37064123153686523,
          0.36814579367637634,
          0.3656668961048126,
          0.36320456862449646,
          0.36075863242149353,
          0.3583289384841919,
          0.35591545701026917,
          0.35351797938346863,
          0.3511364459991455,
          0.34877076745033264,
          0.3464207351207733,
          0.34408634901046753,
          0.34176746010780334,
          0.3394639790058136,
          0.3371756970882416,
          0.33490267395973206,
          0.3326447308063507,
          0.33040177822113037,
          0.3281736969947815,
          0.32596030831336975,
          0.32376164197921753,
          0.3215775191783905,
          0.3194078803062439,
          0.31725263595581055,
          0.3151116371154785,
          0.31298479437828064,
          0.31087204813957214,
          0.3087732493877411,
          0.3066883683204651,
          0.3046172559261322,
          0.30255988240242004,
          0.30051612854003906,
          0.2984858751296997,
          0.2964690029621124,
          0.2944655418395996,
          0.29247531294822693,
          0.2904982268810272,
          0.2885342240333557,
          0.28658318519592285,
          0.28464511036872864,
          0.28271976113319397,
          0.2808072566986084,
          0.27890729904174805,
          0.2770199775695801,
          0.27514511346817017,
          0.27328261733055115,
          0.2714325189590454,
          0.26959460973739624,
          0.26776885986328125,
          0.2659551501274109,
          0.26415351033210754,
          0.2623637616634369,
          0.26058584451675415,
          0.25881972908973694,
          0.2570652961730957,
          0.25532248616218567,
          0.2535911798477173,
          0.25187137722969055,
          0.2501629590988159,
          0.24846583604812622,
          0.24677994847297668,
          0.24510525166988373,
          0.243441641330719,
          0.2417890578508377,
          0.2401474416255951,
          0.238516703248024,
          0.2368968278169632,
          0.2352876216173172,
          0.23368915915489197,
          0.23210126161575317,
          0.23052392899990082,
          0.2289571315050125,
          0.22740067541599274,
          0.22585460543632507,
          0.22431880235671997,
          0.22279320657253265,
          0.22127774357795715,
          0.2197723537683487,
          0.2182770073413849,
          0.21679164469242096,
          0.21531614661216736,
          0.2138504683971405,
          0.2123945951461792,
          0.2109484076499939,
          0.209511861205101,
          0.20808491110801697,
          0.2066674828529358,
          0.2052595317363739,
          0.20386095345020294,
          0.2024717479944229,
          0.20109179615974426,
          0.19972111284732819,
          0.19835959374904633,
          0.1970071941614151,
          0.19566386938095093,
          0.19432951509952545,
          0.19300411641597748,
          0.19168761372566223,
          0.19037993252277374,
          0.18908102810382843,
          0.18779084086418152,
          0.18650935590267181,
          0.18523646891117096,
          0.18397216498851776,
          0.18271633982658386,
          0.18146897852420807,
          0.1802300363779068,
          0.1789994090795517,
          0.17777709662914276,
          0.1765630543231964,
          0.1753571778535843,
          0.1741594672203064,
          0.17296984791755676,
          0.1717882603406906,
          0.17061467468738556,
          0.16944901645183563,
          0.16829128563404083,
          0.1671413779258728,
          0.16599927842617035,
          0.1648649275302887,
          0.16373829543590546,
          0.16261930763721466,
          0.16150790452957153,
          0.16040408611297607,
          0.15930774807929993,
          0.15821892023086548,
          0.15713751316070557,
          0.15606343746185303,
          0.15499672293663025,
          0.15393728017807007,
          0.1528850942850113,
          0.15184010565280914,
          0.15080223977565765,
          0.14977149665355682,
          0.14874781668186188,
          0.14773114025592804,
          0.14672145247459412,
          0.14571869373321533,
          0.1447228044271469,
          0.14373378455638885,
          0.1427515596151352,
          0.14177606999874115,
          0.14080731570720673,
          0.13984523713588715,
          0.13888977468013763,
          0.1379409283399582,
          0.13699863851070404,
          0.1360628455877304,
          0.1351335346698761,
          0.13421067595481873,
          0.1332942098379135,
          0.13238409161567688,
          0.13148027658462524,
          0.1305827498435974,
          0.1296914517879486,
          0.12880636751651764,
          0.12792742252349854,
          0.1270545870065689,
          0.12618784606456757,
          0.12532714009284973,
          0.12447245419025421,
          0.12362374365329742,
          0.12278097122907639,
          0.12194408476352692,
          0.12111306190490723,
          0.12028784304857254,
          0.11946842819452286,
          0.118654765188694,
          0.11784682422876358,
          0.11704454571008682,
          0.11624791473150253,
          0.11545690149068832,
          0.11467146128416061,
          0.11389156430959702,
          0.11311716586351395,
          0.11234825104475021,
          0.11158476024866104,
          0.11082666367292404,
          0.11007393896579742,
          0.1093265563249588,
          0.10858447849750519,
          0.1078476756811142,
          0.10711610317230225,
          0.10638972371816635,
          0.10566852241754532,
          0.10495244711637497,
          0.10424149036407471,
          0.10353559255599976,
          0.10283476114273071,
          0.10213891416788101,
          0.10144805908203125,
          0.10076215118169785,
          0.10008114576339722,
          0.09940505027770996,
          0.0987337976694107,
          0.09806737303733826,
          0.09740573912858963,
          0.09674886614084244,
          0.09609672427177429,
          0.09544927626848221,
          0.09480651468038559,
          0.09416839480400085,
          0.09353489428758621,
          0.09290597587823868,
          0.09228160232305527,
          0.09166177362203598,
          0.09104643762111664,
          0.09043557941913605,
          0.08982913196086884,
          0.08922713249921799,
          0.08862950652837753,
          0.08803623169660568,
          0.08744730055332184,
          0.08686264604330063,
          0.08628229796886444,
          0.08570617437362671,
          0.08513429015874863,
          0.08456658571958542,
          0.08400304615497589,
          0.08344364911317825,
          0.08288836479187012,
          0.08233717828989029,
          0.08179003745317459,
          0.08124694228172302,
          0.0807078555226326,
          0.08017274737358093,
          0.07964159548282623,
          0.07911437749862671,
          0.07859107851982117,
          0.07807163894176483,
          0.0775560736656189,
          0.07704432308673859,
          0.0765363872051239,
          0.07603222876787186,
          0.07553183287382126,
          0.07503517717123032,
          0.07454222440719604,
          0.07405295222997665,
          0.07356735318899155,
          0.07308539003133774,
          0.07260701805353165,
          0.07213225960731506,
          0.0716610699892044,
          0.07119341194629669,
          0.07072928547859192,
          0.0702686533331871,
          0.06981149315834045,
          0.06935778260231018,
          0.06890751421451569,
          0.06846063584089279,
          0.0680171474814415,
          0.06757702678442001,
          0.06714024394750595,
          0.06670676916837692,
          0.06627660989761353,
          0.06584972888231277,
          0.06542608141899109,
          0.06500567495822906,
          0.06458847969770432,
          0.06417448073625565,
          0.06376364082098007,
          0.063355952501297,
          0.06295138597488403,
          0.06254993379116058,
          0.06215155869722366,
          0.06175624951720238,
          0.06136398762464523,
          0.06097475066781044,
          0.06058851256966591,
          0.060205262154340744,
          0.059824977070093155,
          0.05944763496518135,
          0.05907321348786354,
          0.05870170518755913,
          0.058333080261945724,
          0.05796731263399124,
          0.05760440602898598,
          0.05724431946873665,
          0.05688703805208206,
          0.05653254687786102,
          0.05618083477020264,
          0.055831871926784515,
          0.055485643446445465,
          0.055142130702733994,
          0.05480131506919861,
          0.05446317791938782,
          0.05412769690155983,
          0.05379486456513405,
          0.053464654833078384,
          0.05313705652952194,
          0.05281204357743263,
          0.05248959735035896,
          0.05216970667243004,
          0.05185236409306526,
          0.05153752863407135,
          0.051225196570158005,
          0.050915349274873734,
          0.05060797929763794,
          0.050303053110837936,
          0.05000055208802223,
          0.049700479954481125,
          0.049402810633182526,
          0.049107521772384644,
          0.048814598470926285,
          0.048524025827646255,
          0.04823579266667366,
          0.04794988036155701,
          0.047666262835264206,
          0.04738493636250496,
          0.04710587486624718,
          0.04682908207178116,
          0.04655452072620392,
          0.04628218337893486,
          0.04601205140352249,
          0.045744117349386215,
          0.04547835513949394,
          0.04521476477384567,
          0.04495332017540932,
          0.04469400644302368,
          0.04443681240081787,
          0.044181711971759796,
          0.04392870143055916,
          0.043677762150764465,
          0.04342888668179512,
          0.04318205639719963,
          0.0429372563958168,
          0.042694468051195145,
          0.04245367273688316,
          0.042214877903461456,
          0.04197804257273674,
          0.04174318537116051,
          0.04151025786995888,
          0.04127926379442215,
          0.04105018451809883,
          0.04082300886511803,
          0.04059772193431854,
          0.04037431254982948,
          0.04015277326107025,
          0.03993307799100876,
          0.03971521556377411,
          0.039499178528785706,
          0.039284948259592056,
          0.039072517305612564,
          0.038861870765686035,
          0.03865298628807068,
          0.03844587132334709,
          0.038240496069192886,
          0.038036856800317764,
          0.037834931164979935,
          0.0376347154378891,
          0.037436194717884064,
          0.03723936155438423,
          0.03704419359564781,
          0.03685068339109421,
          0.036658819764852524,
          0.03646859526634216,
          0.036279987543821335,
          0.03609299287199974,
          0.035907596349716187,
          0.03572378680109978,
          0.03554154187440872,
          0.03536086902022362,
          0.03518174961209297,
          0.03500416502356529,
          0.03482811525464058,
          0.03465357795357704,
          0.03448054939508438,
          0.034309010952711105,
          0.034138962626457214,
          0.03397038206458092,
          0.033803265541791916,
          0.033637598156929016,
          0.03347337245941162,
          0.03331057354807854,
          0.033149197697639465,
          0.03298923000693321,
          0.032830655574798584,
          0.03267347440123558,
          0.03251766040921211,
          0.03236321359872818,
          0.03221012279391289,
          0.03205838054418564,
          0.03190796822309494,
          0.03175888583064079,
          0.031611118465662,
          0.03146464750170708,
          0.03131948038935661,
          0.03117559105157852,
          0.0310329832136631,
          0.03089164011180401,
          0.030751550570130348,
          0.030612709000706673,
          0.03047509863972664,
          0.030338719487190247,
          0.030203556641936302,
          0.03006960079073906,
          0.029936842620372772,
          0.029805278405547142,
          0.029674887657165527,
          0.029545674100518227,
          0.029417620971798897,
          0.029290717095136642,
          0.029164962470531464,
          0.029040342196822166,
          0.028916846960783005,
          0.028794467449188232,
          0.0286732017993927,
          0.028553031384944916,
          0.02843395620584488,
          0.028315959498286247,
          0.02819904126226902,
          0.028083184733986855,
          0.0279683880507946,
          0.027854638174176216,
          0.0277419313788414,
          0.027630256488919258,
          0.027519602328538895,
          0.02740996889770031,
          0.027301346883177757,
          0.027193715795874596,
          0.027087081223726273,
          0.026981430128216743,
          0.02687675505876541,
          0.02677305042743683,
          0.02667030692100525,
          0.02656850963830948,
          0.026467666029930115,
          0.026367753744125366,
          0.02626877650618553,
          0.026170719414949417,
          0.026073578745126724,
          0.025977343320846558,
          0.02588200941681862,
          0.02578756771981716,
          0.02569401077926159,
          0.025601336732506752,
          0.025509532541036606,
          0.025418590754270554,
          0.025328505784273148,
          0.02523927576839924,
          0.025150883942842484,
          0.02506333217024803,
          0.02497660554945469,
          0.024890704080462456,
          0.024805620312690735,
          0.024721339344978333,
          0.024637866765260696,
          0.024555187672376633,
          0.024473296478390694,
          0.02439219132065773,
          0.024311859160661697,
          0.024232298135757446,
          0.02415350079536438,
          0.024075455963611603,
          0.023998167365789413,
          0.02392161823809147,
          0.02384580858051777,
          0.023770734667778015,
          0.023696383461356163,
          0.023622747510671616,
          0.02354983054101467,
          0.023477619513869286,
          0.02340611070394516,
          0.023335294798016548,
          0.0232651699334383,
          0.023195728659629822,
          0.023126965388655663,
          0.023058872669935226,
          0.022991448640823364,
          0.02292468585073948,
          0.022858576849102974,
          0.02279311791062355,
          0.02272830158472061,
          0.02266412228345871,
          0.022600580006837845,
          0.02253766357898712,
          0.02247536927461624,
          0.022413689643144608,
          0.02235262282192707,
          0.022292161360383034,
          0.0222323015332222,
          0.022173041477799416,
          0.022114364430308342,
          0.022056275978684425,
          0.02199876494705677,
          0.021941833198070526,
          0.021885469555854797,
          0.021829672157764435,
          0.021774431690573692,
          0.02171974815428257,
          0.02166561596095562,
          0.021612027660012245,
          0.021558983251452446,
          0.021506473422050476,
          0.02145449072122574,
          0.021403037011623383,
          0.02135210484266281,
          0.021301690489053726,
          0.02125179022550583,
          0.021202394738793373,
          0.02115350402891636,
          0.021105114370584488,
          0.021057216450572014,
          0.021009810268878937,
          0.02096289023756981,
          0.020916448906064034,
          0.02087048627436161,
          0.020824996754527092,
          0.02077997475862503,
          0.020735418424010277,
          0.020691320300102234,
          0.020647676661610603,
          0.020604489371180534,
          0.02056174725294113,
          0.020519446581602097,
          0.02047758735716343,
          0.02043616585433483,
          0.020395172759890556,
          0.020354608073830605,
          0.020314468070864677,
          0.020274745300412178,
          0.020235437899827957,
          0.020196545869112015,
          0.020158063620328903,
          0.020119981840252876,
          0.020082304254174232,
          0.020045023411512375,
          0.020008131861686707,
          0.019971635192632675,
          0.019935522228479385,
          0.019899792969226837,
          0.019864439964294434,
          0.019829465076327324,
          0.01979486085474491,
          0.019760627299547195,
          0.01972675696015358,
          0.019693249836564064,
          0.019660096615552902,
          0.01962730474770069,
          0.019594859331846237,
          0.01956276223063469,
          0.019531013444066048,
          0.019499603658914566,
          0.019468534737825394,
          0.019437801092863083,
          0.019407397136092186,
          0.019377322867512703,
          0.019347572699189186,
          0.019318148493766785,
          0.0192890465259552,
          0.019260255619883537,
          0.019231781363487244,
          0.019203614443540573,
          0.019175756722688675,
          0.0191482026129961,
          0.019120953977108,
          0.01909400150179863,
          0.019067343324422836,
          0.01904098130762577,
          0.019014908000826836,
          0.018989121541380882,
          0.01896362006664276,
          0.018938401713967323,
          0.01891346089541912,
          0.018888797610998154,
          0.018864404410123825,
          0.01884029060602188,
          0.01881643757224083,
          0.018792854622006416,
          0.018769530579447746,
          0.018746469169855118,
          0.018723666667938232,
          0.018701117485761642,
          0.018678823485970497,
          0.01865677908062935,
          0.018634984269738197,
          0.018613431602716446,
          0.018592122942209244,
          0.01857105642557144,
          0.01855022832751274,
          0.018529636785387993,
          0.0185092780739069,
          0.01848915033042431,
          0.018469253554940224,
          0.018449578434228897,
          0.018430130556225777,
          0.018410904332995415,
          0.01839189976453781,
          0.01837310940027237,
          0.018354538828134537,
          0.018336180597543716,
          0.01831803098320961,
          0.018300091847777367,
          0.018282361328601837,
          0.018264833837747574,
          0.018247509375214577,
          0.018230386078357697,
          0.018213460221886635,
          0.01819673366844654,
          0.01818019710481167,
          0.018163857981562614,
          0.018147708848118782,
          0.018131744116544724,
          0.018115967512130737,
          0.018100380897521973,
          0.018084973096847534,
          0.01806974597275257,
          0.018054701387882233,
          0.018039830029010773,
          0.01802513748407364,
          0.018010618165135384,
          0.017996270209550858,
          0.01798209175467491,
          0.017968082800507545,
          0.017954237759113312,
          0.01794055849313736,
          0.01792704500257969,
          0.017913689836859703,
          0.0179004967212677,
          0.017887461930513382,
          0.0178745798766613,
          0.017861856147646904,
          0.017849285155534744,
          0.01783686690032482,
          0.01782459393143654,
          0.017812473699450493,
          0.017800498753786087,
          0.01778866909444332,
          0.017776982858777046,
          0.01776544190943241,
          0.01775403879582882,
          0.01774277538061142,
          0.017731647938489914,
          0.01772065833210945,
          0.017709802836179733,
          0.01769908145070076,
          0.017688492313027382,
          0.0176780316978693,
          0.017667701467871666,
          0.017657499760389328,
          0.01764742285013199,
          0.017637470737099648,
          0.017627645283937454,
          0.01761793904006481,
          0.01760835200548172,
          0.017598887905478477,
          0.017589539289474487,
          0.017580311745405197,
          0.01757119782269001,
          0.017562199383974075,
          0.017553310841321945,
          0.017544537782669067,
          0.017535874620079994,
          0.017527321353554726,
          0.017518874257802963,
          0.017510535195469856,
          0.017502304166555405,
          0.01749417558312416,
          0.017486153170466423,
          0.017478231340646744,
          0.017470410093665123,
          0.01746268942952156,
          0.017455069348216057,
          0.017447547987103462,
          0.01744012162089348,
          0.017432792112231255,
          0.017425555735826492,
          0.01741841435432434,
          0.01741136610507965,
          0.017404407262802124,
          0.01739753969013691,
          0.017390765249729156,
          0.017384076490998268,
          0.017377475276589394,
          0.017370961606502533,
          0.017364533618092537,
          0.017358187586069107,
          0.017351927235722542,
          0.017345748841762543,
          0.01733965426683426,
          0.017333639785647392,
          0.017327703535556793,
          0.01732184924185276,
          0.017316069453954697,
          0.01731036975979805,
          0.017304744571447372,
          0.017299197614192963,
          0.017293723300099373,
          0.017288319766521454,
          0.017282992601394653,
          0.017277736216783524,
          0.017272552475333214,
          0.017267437651753426,
          0.017262393608689308,
          0.017257416620850563,
          0.01725250855088234,
          0.017247667536139488,
          0.01724289171397686,
          0.017238184809684753,
          0.01723353937268257,
          0.017228959128260612,
          0.017224442213773727,
          0.017219986766576767,
          0.01721559464931488,
          0.01721126399934292,
          0.017206992954015732,
          0.01720278151333332,
          0.017198627814650536,
          0.017194535583257675,
          0.017190495505928993,
          0.017186516895890236,
          0.017182594165205956,
          0.017178723588585854,
          0.017174910753965378,
          0.01717115193605423,
          0.01716744527220726,
          0.017163792625069618,
          0.017160192131996155,
          0.01715664379298687,
          0.017153143882751465,
          0.01714969612658024,
          0.01714629866182804,
          0.017142947763204575,
          0.017139647156000137,
          0.01713639497756958,
          0.017133191227912903,
          0.017130032181739807,
          0.01712692156434059,
          0.017123853787779808,
          0.017120834439992905,
          0.017117857933044434,
          0.017114924266934395,
          0.01711203344166279,
          0.017109189182519913,
          0.01710638403892517,
          0.01710362173616886,
          0.017100902274250984,
          0.01709822192788124,
          0.01709558069705963,
          0.017092982307076454,
          0.01709042116999626,
          0.017087899148464203,
          0.017085416242480278,
          0.017082970589399338,
          0.017080562189221382,
          0.017078187316656113,
          0.017075855284929276,
          0.017073554918169975,
          0.01707129180431366,
          0.01706906408071518,
          0.017066868022084236,
          0.017064707353711128,
          0.017062582075595856,
          0.01706048659980297,
          0.01705842837691307,
          0.017056399956345558,
          0.017054403200745583,
          0.017052439972758293,
          0.01705050840973854,
          0.017048604786396027,
          0.01704673282802105,
          0.01704489067196846,
          0.01704307831823826,
          0.017041293904185295,
          0.01703954115509987,
          0.01703781634569168,
          0.017036117613315582,
          0.01703444868326187,
          0.01703280583024025,
          0.017031189054250717,
          0.017029600217938423,
          0.01702803745865822,
          0.017026500776410103,
          0.017024986445903778,
          0.01702350191771984,
          0.017022041603922844,
          0.01702060177922249,
          0.01701918989419937,
          0.017017802223563194,
          0.017016436904668808,
          0.017015093937516212,
          0.017013777047395706,
          0.017012478783726692,
          0.017011206597089767,
          0.017009953036904335,
          0.017008723691105843,
          0.01700751483440399,
          0.017006326466798782,
          0.017005160450935364,
          0.01700401119887829,
          0.017002886161208153,
          0.01700178161263466,
          0.017000693827867508,
          0.016999626532197,
          0.01699857786297798,
          0.016997549682855606,
          0.016996540129184723,
          0.016995547339320183,
          0.016994575038552284,
          0.01699361763894558,
          0.016992678865790367,
          0.016991756856441498,
          0.01699085161089897,
          0.016989966854453087,
          0.016989095136523247,
          0.0169882420450449,
          0.016987401992082596,
          0.016986580565571785,
          0.01698577217757702,
          0.016984982416033745,
          0.016984207555651665,
          0.01698344573378563,
          0.016982700675725937,
          0.01698196865618229,
          0.016981251537799835,
          0.016980547457933426,
          0.01697986014187336,
          0.01697918400168419,
          0.016978522762656212,
          0.01697787269949913,
          0.016977237537503242,
          0.01697661727666855,
          0.01697600819170475,
          0.016975410282611847,
          0.01697482354938984,
          0.016974251717329025,
          0.016973691061139107,
          0.016973143443465233,
          0.016972607001662254,
          0.016972079873085022,
          0.016971565783023834,
          0.016971061006188393,
          0.016970571130514145,
          0.016970088705420494,
          0.01696961745619774,
          0.01696915738284588,
          0.016968708485364914,
          0.016968267038464546,
          0.016967836767435074,
          0.016967415809631348,
          0.016967006027698517,
          0.01696660742163658,
          0.016966214403510094,
          0.016965830698609352,
          0.016965460032224655,
          0.016965094953775406,
          0.016964739188551903,
          0.016964390873908997,
          0.016964051872491837,
          0.016963722184300423,
          0.016963401809334755,
          0.016963085159659386,
          0.01696278154850006,
          0.016962483525276184,
          0.016962191089987755
         ]
        },
        {
         "name": "1 - Test Recording",
         "type": "scatter",
         "y": [
          1.0143344402313232,
          1.0075111389160156,
          1.000720739364624,
          0.9939672350883484,
          0.987252414226532,
          0.9805775880813599,
          0.9739437103271484,
          0.9673517346382141,
          0.9608021974563599,
          0.9542953968048096,
          0.947831392288208,
          0.9414103031158447,
          0.9350318908691406,
          0.9286961555480957,
          0.922402560710907,
          0.9161514043807983,
          0.9099419116973877,
          0.903774082660675,
          0.8976475596427917,
          0.8915619850158691,
          0.8855171203613281,
          0.8795127272605896,
          0.8735484480857849,
          0.8676239848136902,
          0.8617391586303711,
          0.855893611907959,
          0.8500871062278748,
          0.8443194031715393,
          0.838590145111084,
          0.8328989744186401,
          0.8272458910942078,
          0.8216304183006287,
          0.8160524368286133,
          0.8105115294456482,
          0.8050076365470886,
          0.7995404601097107,
          0.7941096425056458,
          0.7887150645256042,
          0.7833561897277832,
          0.7780331969261169,
          0.7727454900741577,
          0.7674931287765503,
          0.7622756958007812,
          0.7570928931236267,
          0.7519446015357971,
          0.7468305826187134,
          0.7417507171630859,
          0.7367045283317566,
          0.7316919565200806,
          0.726712703704834,
          0.7217665910720825,
          0.7168534994125366,
          0.7119728922843933,
          0.7071248888969421,
          0.7023091316223145,
          0.6975254416465759,
          0.6927734613418579,
          0.6880531311035156,
          0.6833643317222595,
          0.6787065863609314,
          0.674079954624176,
          0.66948401927948,
          0.6649186611175537,
          0.6603837609291077,
          0.6558789610862732,
          0.6514042019844055,
          0.6469591856002808,
          0.6425437927246094,
          0.6381577849388123,
          0.6338010430335999,
          0.6294732093811035,
          0.6251742839813232,
          0.6209039092063904,
          0.6166620254516602,
          0.6124483942985535,
          0.608262836933136,
          0.6041051745414734,
          0.5999752879142761,
          0.5958728194236755,
          0.5917978286743164,
          0.5877498984336853,
          0.5837289690971375,
          0.5797349214553833,
          0.575767457485199,
          0.5718265175819397,
          0.5679118633270264,
          0.5640233159065247,
          0.560160756111145,
          0.5563240051269531,
          0.5525128245353699,
          0.5487270951271057,
          0.5449666976928711,
          0.5412313938140869,
          0.5375210642814636,
          0.5338354706764221,
          0.5301746726036072,
          0.5265382528305054,
          0.5229260921478271,
          0.5193381905555725,
          0.5157743096351624,
          0.5122342109680176,
          0.5087178945541382,
          0.5052250027656555,
          0.5017555952072144,
          0.49830931425094604,
          0.494886189699173,
          0.4914860129356384,
          0.4881086051464081,
          0.4847537875175476,
          0.48142150044441223,
          0.47811159491539,
          0.4748237729072571,
          0.4715580940246582,
          0.4683142602443695,
          0.4650922417640686,
          0.461891770362854,
          0.4587128758430481,
          0.4555552303791046,
          0.45241880416870117,
          0.44930344820022583,
          0.44620898365974426,
          0.4431353509426117,
          0.44008228182792664,
          0.43704986572265625,
          0.4340376555919647,
          0.431045800447464,
          0.4280740022659302,
          0.4251222610473633,
          0.42219024896621704,
          0.4192780554294586,
          0.41638535261154175,
          0.4135121703147888,
          0.4106582999229431,
          0.4078235924243927,
          0.4050079882144928,
          0.40221136808395386,
          0.39943358302116394,
          0.39667442440986633,
          0.39393389225006104,
          0.39121177792549133,
          0.3885081112384796,
          0.38582244515419006,
          0.38315504789352417,
          0.3805055022239685,
          0.37787386775016785,
          0.37525999546051025,
          0.3726637065410614,
          0.3700849115848541,
          0.36752355098724365,
          0.36497941613197327,
          0.3624524772167206,
          0.35994255542755127,
          0.3574495315551758,
          0.3549734055995941,
          0.3525138795375824,
          0.3500710725784302,
          0.3476446568965912,
          0.3452346622943878,
          0.34284093976020813,
          0.34046339988708496,
          0.338101863861084,
          0.3357563018798828,
          0.3334265947341919,
          0.3311126232147217,
          0.3288142681121826,
          0.3265314996242523,
          0.3242641091346741,
          0.3220120966434479,
          0.3197752833366394,
          0.3175536096096039,
          0.31534698605537415,
          0.31315526366233826,
          0.31097832322120667,
          0.30881619453430176,
          0.3066686689853668,
          0.3045356869697571,
          0.302417129278183,
          0.30031293630599976,
          0.2982230484485626,
          0.29614725708961487,
          0.2940855622291565,
          0.29203781485557556,
          0.2900039851665497,
          0.2879839241504669,
          0.2859776020050049,
          0.28398483991622925,
          0.28200557827949524,
          0.28003978729248047,
          0.2780873775482178,
          0.2761482298374176,
          0.2742222249507904,
          0.2723093032836914,
          0.27040937542915344,
          0.26852235198020935,
          0.26664820313453674,
          0.2647867798805237,
          0.2629380524158478,
          0.2611018419265747,
          0.25927820801734924,
          0.25746697187423706,
          0.2556680738925934,
          0.25388142466545105,
          0.2521069645881653,
          0.25034457445144653,
          0.24859420955181122,
          0.24685578048229218,
          0.24512918293476105,
          0.24341441690921783,
          0.24171136319637299,
          0.24001991748809814,
          0.23834004998207092,
          0.23667162656784058,
          0.2350146472454071,
          0.23336900770664215,
          0.23173460364341736,
          0.23011142015457153,
          0.22849935293197632,
          0.22689832746982574,
          0.22530826926231384,
          0.22372913360595703,
          0.22216083109378815,
          0.22060324251651764,
          0.2190563827753067,
          0.2175200879573822,
          0.2159944474697113,
          0.2144792526960373,
          0.2129744589328766,
          0.2114800363779068,
          0.20999589562416077,
          0.2085219919681549,
          0.20705823600292206,
          0.20560452342033386,
          0.2041608691215515,
          0.20272716879844666,
          0.2013033777475357,
          0.1998894214630127,
          0.19848522543907166,
          0.19709070026874542,
          0.19570590555667877,
          0.19433064758777618,
          0.19296488165855408,
          0.19160863757133484,
          0.19026175141334534,
          0.18892422318458557,
          0.18759596347808838,
          0.18627692759037018,
          0.18496708571910858,
          0.18366631865501404,
          0.18237462639808655,
          0.18109188973903656,
          0.17981809377670288,
          0.17855316400527954,
          0.17729707062244415,
          0.17604972422122955,
          0.17481109499931335,
          0.1735810935497284,
          0.17235970497131348,
          0.17114685475826263,
          0.1699424684047699,
          0.16874653100967407,
          0.16755898296833038,
          0.16637974977493286,
          0.16520880162715912,
          0.1640460342168808,
          0.1628914624452591,
          0.16174499690532684,
          0.16060660779476166,
          0.15947622060775757,
          0.1583537757396698,
          0.15723925828933716,
          0.15613259375095367,
          0.15503375232219696,
          0.15394265949726105,
          0.15285928547382355,
          0.15178357064723969,
          0.1507154405117035,
          0.14965489506721497,
          0.14860190451145172,
          0.1475563496351242,
          0.14651821553707123,
          0.145487442612648,
          0.14446404576301575,
          0.1434478908777237,
          0.14243894815444946,
          0.14143723249435425,
          0.1404426246881485,
          0.13945512473583221,
          0.13847467303276062,
          0.13750123977661133,
          0.13653473556041718,
          0.13557517528533936,
          0.1346224993467331,
          0.13367660343647003,
          0.13273753225803375,
          0.1318051815032959,
          0.13087955117225647,
          0.1299605816602707,
          0.12904822826385498,
          0.12814241647720337,
          0.12724317610263824,
          0.12635040283203125,
          0.1254640519618988,
          0.1245841309428215,
          0.12371057271957397,
          0.12284331768751144,
          0.12198236584663391,
          0.1211276426911354,
          0.12027912586927414,
          0.11943678557872772,
          0.11860056966543198,
          0.11777043342590332,
          0.11694633960723877,
          0.11612823605537415,
          0.11531611531972885,
          0.1145099326968193,
          0.11370961368083954,
          0.11291518062353134,
          0.11212655156850815,
          0.11134370416402817,
          0.11056659370660782,
          0.10979519784450531,
          0.10902947187423706,
          0.1082693487405777,
          0.10751483589410782,
          0.10676587373018265,
          0.10602246224880219,
          0.10528452694416046,
          0.10455204546451569,
          0.10382497310638428,
          0.10310326516628265,
          0.10238692909479141,
          0.10167589038610458,
          0.10097014904022217,
          0.100269615650177,
          0.09957433491945267,
          0.0988842025399208,
          0.09819921851158142,
          0.09751933813095093,
          0.09684453904628754,
          0.09617478400468826,
          0.09551005065441132,
          0.09485027939081192,
          0.09419545531272888,
          0.09354554861783981,
          0.09290050715208054,
          0.09226033091545105,
          0.09162496030330658,
          0.09099436551332474,
          0.09036854654550552,
          0.08974744379520416,
          0.08913102746009827,
          0.08851927518844604,
          0.08791215717792511,
          0.08730963617563248,
          0.08671168237924576,
          0.08611828088760376,
          0.0855293795466423,
          0.0849449560046196,
          0.08436498790979385,
          0.08378943055868149,
          0.0832182765007019,
          0.08265149593353271,
          0.08208903670310974,
          0.08153088390827179,
          0.08097700029611588,
          0.0804273784160614,
          0.07988197356462479,
          0.07934075593948364,
          0.07880371809005737,
          0.0782708004117012,
          0.07774200290441513,
          0.07721728831529617,
          0.07669662684202194,
          0.07618000358343124,
          0.0756673589348793,
          0.07515870034694672,
          0.0746539980173111,
          0.07415320724248886,
          0.07365632057189941,
          0.07316328585147858,
          0.07267410308122635,
          0.07218874990940094,
          0.07170718163251877,
          0.07122937589883804,
          0.07075531780719757,
          0.07028496265411377,
          0.06981830298900604,
          0.0693553239107132,
          0.06889597326517105,
          0.06844024360179901,
          0.06798809766769409,
          0.06753954291343689,
          0.06709451973438263,
          0.06665301322937012,
          0.06621500849723816,
          0.06578046828508377,
          0.06534937769174576,
          0.06492169946432114,
          0.0644974485039711,
          0.06407656520605087,
          0.06365904211997986,
          0.06324484944343567,
          0.06283396482467651,
          0.0624263770878315,
          0.06202204152941704,
          0.06162094324827194,
          0.061223071068525314,
          0.06082840636372566,
          0.06043691188097,
          0.060048576444387436,
          0.05966336280107498,
          0.05928126722574234,
          0.05890226736664772,
          0.05852632224559784,
          0.0581534281373024,
          0.057783566415309906,
          0.057416703552007675,
          0.057052820920944214,
          0.05669190362095833,
          0.05633394047617912,
          0.055978890508413315,
          0.05562673509120941,
          0.055277470499277115,
          0.05493106693029404,
          0.05458749830722809,
          0.05424676463007927,
          0.0539088174700737,
          0.053573668003082275,
          0.053241267800331116,
          0.05291162058711052,
          0.0525846928358078,
          0.05226047337055206,
          0.05193892866373062,
          0.051620062440633774,
          0.051303841173648834,
          0.05099025368690491,
          0.0506792776286602,
          0.05037088692188263,
          0.050065070390701294,
          0.049761805683374405,
          0.049461089074611664,
          0.049162883311510086,
          0.04886718466877937,
          0.04857397451996803,
          0.04828321933746338,
          0.04799491539597511,
          0.04770904779434204,
          0.047425586730241776,
          0.04714452475309372,
          0.04686584696173668,
          0.04658952355384827,
          0.046315550804138184,
          0.04604390636086464,
          0.04577456787228584,
          0.0455075278878212,
          0.04524276405572891,
          0.044980261474847794,
          0.04472000151872635,
          0.04446197673678398,
          0.0442061610519886,
          0.043952539563179016,
          0.04370110481977463,
          0.04345183074474335,
          0.04320470616221428,
          0.04295972362160683,
          0.04271684214472771,
          0.04247607663273811,
          0.04223738983273506,
          0.04200077801942825,
          0.0417662188410759,
          0.041533708572387695,
          0.04130321741104126,
          0.04107474163174629,
          0.040848258882761,
          0.04062376171350479,
          0.04040122777223587,
          0.04018065333366394,
          0.03996201232075691,
          0.03974529355764389,
          0.03953048586845398,
          0.039317574352025986,
          0.039106544107198715,
          0.038897380232810974,
          0.03869007155299187,
          0.0384845957159996,
          0.038280948996543884,
          0.038079116493463516,
          0.03787907585501671,
          0.03768082335591316,
          0.037484344094991684,
          0.03728961944580078,
          0.03709664195775986,
          0.03690539672970772,
          0.03671586513519287,
          0.03652803972363472,
          0.036341916769742966,
          0.036157459020614624,
          0.03597467765212059,
          0.035793546587228775,
          0.03561405837535858,
          0.035436201840639114,
          0.03525995835661888,
          0.035085324198007584,
          0.03491227328777313,
          0.034740813076496124,
          0.03457091376185417,
          0.034402571618556976,
          0.034235768020153046,
          0.03407049924135208,
          0.033906757831573486,
          0.03374451398849487,
          0.03358377516269684,
          0.033424511551856995,
          0.03326673060655594,
          0.03311040624976158,
          0.03295553848147392,
          0.03280210122466087,
          0.03265009820461273,
          0.032499510794878006,
          0.0323503315448761,
          0.032202545553445816,
          0.03205614537000656,
          0.03191111609339714,
          0.03176744654774666,
          0.031625133007764816,
          0.03148416057229042,
          0.03134451434016228,
          0.03120618499815464,
          0.03106917440891266,
          0.030933454632759094,
          0.030799031257629395,
          0.03066588006913662,
          0.03053400106728077,
          0.0304033774882555,
          0.030274003744125366,
          0.03014586679637432,
          0.03001895733177662,
          0.029893266037106514,
          0.02976878546178341,
          0.02964550442993641,
          0.02952340990304947,
          0.02940249629318714,
          0.02928275242447853,
          0.029164167121052742,
          0.029046734794974327,
          0.02893044427037239,
          0.028815286234021187,
          0.02870125137269497,
          0.02858833596110344,
          0.028476517647504807,
          0.02836580015718937,
          0.028256170451641083,
          0.0281476229429245,
          0.028040140867233276,
          0.027933718636631966,
          0.02782834880053997,
          0.027724023908376694,
          0.02762073092162609,
          0.027518462389707565,
          0.027417218312621117,
          0.027316978201270103,
          0.027217740193009377,
          0.027119498699903488,
          0.027022236958146095,
          0.02692595310509205,
          0.0268306415528059,
          0.02673628181219101,
          0.026642879471182823,
          0.026550423353910446,
          0.026458896696567535,
          0.02636829949915409,
          0.026278626173734665,
          0.026189861819148064,
          0.026102008298039436,
          0.02601504512131214,
          0.025928977876901627,
          0.025843791663646698,
          0.025759471580386162,
          0.025676028802990913,
          0.025593439117074013,
          0.02551170624792576,
          0.025430817157030106,
          0.025350768119096756,
          0.025271546095609665,
          0.025193151086568832,
          0.025115570053458214,
          0.02503880299627781,
          0.024962833151221275,
          0.02488766238093376,
          0.024813279509544373,
          0.024739675223827362,
          0.02466685324907303,
          0.02459479495882988,
          0.024523500353097916,
          0.02445295825600624,
          0.024383168667554855,
          0.024314114823937416,
          0.02424580231308937,
          0.024178216233849525,
          0.024111350998282433,
          0.024045206606388092,
          0.02397977001965046,
          0.023915037512779236,
          0.023851001635193825,
          0.02378765679895878,
          0.023724999278783798,
          0.02366301789879799,
          0.0236017107963562,
          0.023541074246168137,
          0.02348109520971775,
          0.023421769961714745,
          0.02336309663951397,
          0.02330506406724453,
          0.023247670382261276,
          0.02319090999662876,
          0.023134777322411537,
          0.023079263046383858,
          0.023024361580610275,
          0.02297007292509079,
          0.022916385903954506,
          0.022863300517201424,
          0.022810807451605797,
          0.02275889739394188,
          0.02270757593214512,
          0.022656826302409172,
          0.02260665036737919,
          0.02255704067647457,
          0.022507991641759872,
          0.022459501400589943,
          0.022411560639739037,
          0.022364161908626556,
          0.02231730706989765,
          0.022270988672971725,
          0.02222519740462303,
          0.02217993512749672,
          0.022135194391012192,
          0.022090965881943703,
          0.0220472514629364,
          0.02200404368340969,
          0.021961336955428123,
          0.0219191312789917,
          0.021877411752939224,
          0.021836180239915848,
          0.02179543301463127,
          0.021755168214440346,
          0.021715372800827026,
          0.021676046773791313,
          0.021637188270688057,
          0.02159878984093666,
          0.021560845896601677,
          0.021523354575037956,
          0.0214863121509552,
          0.021449711173772812,
          0.021413547918200493,
          0.021377820521593094,
          0.021342523396015167,
          0.021307652816176414,
          0.021273205056786537,
          0.021239174529910088,
          0.021205557510256767,
          0.021172350272536278,
          0.02113955281674862,
          0.021107153967022896,
          0.021075155586004257,
          0.021043548360466957,
          0.021012332290410995,
          0.020981503650546074,
          0.020951056852936745,
          0.02092099003493786,
          0.020891297608613968,
          0.020861977711319923,
          0.020833024755120277,
          0.02080443501472473,
          0.020776204764842987,
          0.020748335868120193,
          0.020720817148685455,
          0.020693646743893623,
          0.020666826516389847,
          0.02064034342765808,
          0.020614204928278923,
          0.020588399842381477,
          0.020562928169965744,
          0.020537784323096275,
          0.020512966439127922,
          0.020488470792770386,
          0.020464295521378517,
          0.02044043317437172,
          0.02041688747704029,
          0.020393650978803635,
          0.020370719954371452,
          0.020348088815808296,
          0.020325761288404465,
          0.02030372992157936,
          0.020281990990042686,
          0.020260542631149292,
          0.02023938298225403,
          0.020218510180711746,
          0.02019791677594185,
          0.020177600905299187,
          0.02015756256878376,
          0.02013779804110527,
          0.02011829987168312,
          0.02009907178580761,
          0.020080111920833588,
          0.02006140910089016,
          0.020042963325977325,
          0.020024776458740234,
          0.020006844773888588,
          0.01998916082084179,
          0.019971724599599838,
          0.019954534247517586,
          0.019937587901949883,
          0.01992087997496128,
          0.01990441046655178,
          0.019888173788785934,
          0.01987217180430889,
          0.019856400787830353,
          0.01984085515141487,
          0.019825534895062447,
          0.01981043629348278,
          0.019795557484030724,
          0.019780896604061127,
          0.01976645179092884,
          0.019752217456698418,
          0.019738199189305305,
          0.01972438208758831,
          0.019710775464773178,
          0.019697370007634163,
          0.019684167578816414,
          0.019671160727739334,
          0.01965835504233837,
          0.01964574120938778,
          0.01963331736624241,
          0.01962108723819256,
          0.01960904709994793,
          0.019597187638282776,
          0.019585516303777695,
          0.01957402378320694,
          0.01956271193921566,
          0.019551577046513557,
          0.019540617242455482,
          0.019529832527041435,
          0.019519221037626266,
          0.01950877346098423,
          0.019498499110341072,
          0.019488386809825897,
          0.019478440284729004,
          0.019468653947114944,
          0.019459031522274017,
          0.019449559971690178,
          0.01944025233387947,
          0.019431093707680702,
          0.01942208968102932,
          0.019413236528635025,
          0.01940452866256237,
          0.019395973533391953,
          0.019387559965252876,
          0.01937929168343544,
          0.019371164962649345,
          0.01936318166553974,
          0.019355332478880882,
          0.019347621127963066,
          0.019340045750141144,
          0.019332602620124817,
          0.019325293600559235,
          0.01931811310350895,
          0.01931106112897396,
          0.01930413767695427,
          0.019297339022159576,
          0.01929066702723503,
          0.019284116104245186,
          0.01927768625319004,
          0.019271370023489,
          0.019265178591012955,
          0.019259104505181313,
          0.019253140315413475,
          0.01924729533493519,
          0.019241558387875557,
          0.01923593506217003,
          0.019230417907238007,
          0.01922501251101494,
          0.019219711422920227,
          0.019214516505599022,
          0.019209422171115875,
          0.019204435870051384,
          0.019199548289179802,
          0.01919476129114628,
          0.019190073013305664,
          0.01918547786772251,
          0.019180983304977417,
          0.019176581874489784,
          0.019172275438904762,
          0.019168060272932053,
          0.019163936376571655,
          0.01915990561246872,
          0.0191559586673975,
          0.019152101129293442,
          0.0191483274102211,
          0.019144641235470772,
          0.01914104074239731,
          0.01913752406835556,
          0.01913408562541008,
          0.019130729138851166,
          0.01912745274603367,
          0.01912425272166729,
          0.019121132791042328,
          0.019118087366223335,
          0.01911512017250061,
          0.019112223759293556,
          0.01910940185189247,
          0.019106652587652206,
          0.019103974103927612,
          0.01910136640071869,
          0.019098825752735138,
          0.01909635402262211,
          0.0190939512103796,
          0.019091613590717316,
          0.019089343026280403,
          0.019087135791778564,
          0.01908499002456665,
          0.01908290758728981,
          0.019080888479948044,
          0.019078928977251053,
          0.019077027216553688,
          0.019075186923146248,
          0.019073406234383583,
          0.019071679562330246,
          0.019070010632276535,
          0.01906839944422245,
          0.019066840410232544,
          0.019065333530306816,
          0.019063882529735565,
          0.019062483683228493,
          0.0190611369907856,
          0.019059836864471436,
          0.01905858889222145,
          0.019057391211390495,
          0.01905624009668827,
          0.019055137410759926,
          0.019054081290960312,
          0.01905307173728943,
          0.019052106887102127,
          0.019051188603043556,
          0.01905031129717827,
          0.019049478694796562,
          0.01904868707060814,
          0.019047940149903297,
          0.01904723048210144,
          0.019046563655138016,
          0.019045935943722725,
          0.019045349210500717,
          0.019044799730181694,
          0.019044289365410805,
          0.01904381439089775,
          0.01904337666928768,
          0.019042974337935448,
          0.01904260739684105,
          0.019042275846004486,
          0.01904197782278061,
          0.019041715189814568,
          0.019041484221816063,
          0.019041283056139946,
          0.019041115418076515,
          0.01904098130762577,
          0.019040876999497414,
          0.019040800631046295,
          0.019040754064917564,
          0.01904073730111122,
          0.019040750339627266,
          0.0190407894551754,
          0.01904085837304592,
          0.019040951505303383,
          0.019041072577238083,
          0.019041219726204872,
          0.0190413910895586,
          0.01904158852994442,
          0.01904181018471718,
          0.019042056053876877,
          0.019042326137423515,
          0.019042616710066795,
          0.019042933359742165,
          0.019043268635869026,
          0.019043629989027977,
          0.01904400810599327,
          0.019044408574700356,
          0.019044827669858932,
          0.0190452728420496,
          0.01904573105275631,
          0.01904621161520481,
          0.019046708941459656,
          0.019047224894165993,
          0.019047759473323822,
          0.019048312678933144,
          0.01904888078570366,
          0.019049467518925667,
          0.019050071015954018,
          0.019050687551498413,
          0.01905132085084915,
          0.019051970914006233,
          0.01905263587832451,
          0.01905331388115883,
          0.019054008647799492,
          0.01905471459031105,
          0.019055433571338654,
          0.0190561693161726,
          0.019056914374232292,
          0.01905767060816288,
          0.01905844360589981,
          0.019059225916862488,
          0.01906001940369606,
          0.019060824066400528,
          0.01906164176762104,
          0.0190624687820673,
          0.019063305109739304,
          0.019064154475927353,
          0.01906500943005085,
          0.01906587742269039,
          0.01906675286591053,
          0.019067639485001564,
          0.019068531692028046,
          0.019069435074925423,
          0.019070344045758247,
          0.01907126046717167,
          0.019072188064455986,
          0.01907312124967575,
          0.019074061885476112,
          0.01907500810921192,
          0.01907595992088318,
          0.019076921045780182,
          0.019077885895967484,
          0.019078858196735382,
          0.01907983608543873,
          0.019080817699432373,
          0.019081806764006615,
          0.019082801416516304,
          0.019083799794316292,
          0.01908480003476143,
          0.019085805863142014,
          0.019086819142103195,
          0.019087834283709526,
          0.019088851287961006,
          0.019089873880147934,
          0.01909090206027031,
          0.019091930240392685,
          0.01909296214580536,
          0.019093995913863182,
          0.019095035269856453,
          0.019096074625849724,
          0.019097119569778442,
          0.01909816265106201,
          0.01909920759499073,
          0.019100256264209747,
          0.019101306796073914,
          0.01910235732793808,
          0.019103409722447395,
          0.01910446397960186,
          0.019105518236756325,
          0.01910657435655594,
          0.019107630476355553,
          0.019108688458800316,
          0.01910974644124508,
          0.019110804423689842,
          0.019111862406134605,
          0.01911291852593422,
          0.019113976508378983,
          0.019115032628178596,
          0.01911609061062336,
          0.019117148593068123,
          0.019118204712867737,
          0.0191192589700222,
          0.019120315089821815,
          0.01912136748433113,
          0.019122419878840446,
          0.019123470410704613,
          0.01912452094256878,
          0.019125569611787796,
          0.019126614555716515,
          0.019127661362290382,
          0.0191287063062191,
          0.019129745662212372,
          0.019130786880850792,
          0.019131824374198914,
          0.019132861867547035,
          0.01913389377295971,
          0.019134923815727234,
          0.01913595385849476,
          0.019136980175971985,
          0.019138004630804062,
          0.01913902536034584,
          0.01914004422724247,
          0.01914106123149395,
          0.019142072647809982,
          0.019143082201480865,
          0.0191440898925066,
          0.019145095720887184,
          0.01914609596133232,
          0.01914709061384201,
          0.019148088991642,
          0.01914907805621624,
          0.019150065258145332,
          0.019151050597429276
         ]
        },
        {
         "name": "1 - Train Recording",
         "type": "scatter",
         "y": [
          1.0185211896896362,
          1.0116465091705322,
          1.004822015762329,
          0.99803626537323,
          0.9912896752357483,
          0.9845833778381348,
          0.9779182076454163,
          0.9712951183319092,
          0.964714527130127,
          0.958176851272583,
          0.9516823291778564,
          0.9452309608459473,
          0.9388227462768555,
          0.9324572086334229,
          0.9261343479156494,
          0.9198540449142456,
          0.9136157631874084,
          0.9074193835258484,
          0.9012646079063416,
          0.8951510190963745,
          0.8890782594680786,
          0.8830460906028748,
          0.8770545125007629,
          0.8711028099060059,
          0.865190863609314,
          0.8593184351921082,
          0.8534850478172302,
          0.8476907014846802,
          0.8419349789619446,
          0.8362175226211548,
          0.8305381536483765,
          0.8248967528343201,
          0.8192927241325378,
          0.8137261271476746,
          0.808196485042572,
          0.8027036190032959,
          0.7972473502159119,
          0.7918273210525513,
          0.786443293094635,
          0.7810951471328735,
          0.7757825255393982,
          0.7705051898956299,
          0.7652629017829895,
          0.7600553631782532,
          0.7548826932907104,
          0.7497442364692688,
          0.7446399927139282,
          0.7395695447921753,
          0.73453289270401,
          0.729529619216919,
          0.7245596051216125,
          0.7196226716041565,
          0.7147184610366821,
          0.7098467946052551,
          0.7050074934959412,
          0.7002004981040955,
          0.6954253315925598,
          0.6906818151473999,
          0.6859699487686157,
          0.6812893152236938,
          0.6766396760940552,
          0.6720210909843445,
          0.6674331426620483,
          0.6628755927085876,
          0.6583485007286072,
          0.6538513898849487,
          0.6493841409683228,
          0.6449466347694397,
          0.6405385136604309,
          0.6361598372459412,
          0.6318102478981018,
          0.6274895071983337,
          0.6231975555419922,
          0.618934154510498,
          0.614699125289917,
          0.6104922294616699,
          0.6063133478164673,
          0.60216224193573,
          0.5980387926101685,
          0.5939428210258484,
          0.5898739695549011,
          0.585832417011261,
          0.5818175673484802,
          0.5778296589851379,
          0.5738682150840759,
          0.5699331164360046,
          0.5660243034362793,
          0.5621415972709656,
          0.5582846403121948,
          0.5544534921646118,
          0.5506478548049927,
          0.5468676090240479,
          0.543112576007843,
          0.5393826365470886,
          0.5356774926185608,
          0.5319971442222595,
          0.5283414721488953,
          0.5247100591659546,
          0.5211029052734375,
          0.5175198912620544,
          0.5139608383178711,
          0.5104255080223083,
          0.5069139003753662,
          0.503425657749176,
          0.4999607801437378,
          0.4965190291404724,
          0.4931003153324127,
          0.48970457911491394,
          0.48633143305778503,
          0.4829809367656708,
          0.4796528220176697,
          0.4763469994068146,
          0.4730633795261383,
          0.469801664352417,
          0.46656182408332825,
          0.46334367990493774,
          0.46014711260795593,
          0.4569719731807709,
          0.45381805300712585,
          0.4506852626800537,
          0.44757360219955444,
          0.4444827139377594,
          0.4414125978946686,
          0.4383630156517029,
          0.4353339374065399,
          0.43232518434524536,
          0.4293366074562073,
          0.4263681173324585,
          0.4234195053577423,
          0.4204907715320587,
          0.41758161783218384,
          0.4146920144557953,
          0.41182181239128113,
          0.4089709222316742,
          0.40613916516304016,
          0.40332645177841187,
          0.40053263306617737,
          0.3977576196193695,
          0.39500126242637634,
          0.39226341247558594,
          0.38954398036003113,
          0.3868428170681,
          0.3841598331928253,
          0.3814948499202728,
          0.3788478374481201,
          0.37621864676475525,
          0.37360718846321106,
          0.37101325392723083,
          0.3684368133544922,
          0.3658777177333832,
          0.36333581805229187,
          0.3608110845088959,
          0.35830336809158325,
          0.3558124899864197,
          0.35333845019340515,
          0.35088104009628296,
          0.34844017028808594,
          0.3460157811641693,
          0.34360772371292114,
          0.34121590852737427,
          0.3388402462005615,
          0.3364805579185486,
          0.33413684368133545,
          0.3318089246749878,
          0.32949671149253845,
          0.32720011472702026,
          0.3249190151691437,
          0.32265329360961914,
          0.32040292024612427,
          0.31816771626472473,
          0.31594759225845337,
          0.313742458820343,
          0.3115522861480713,
          0.30937686562538147,
          0.3072161376476288,
          0.30507004261016846,
          0.30293846130371094,
          0.3008212745189667,
          0.2987184524536133,
          0.2966298460960388,
          0.29455530643463135,
          0.29249486327171326,
          0.2904484272003174,
          0.2884157598018646,
          0.28639689087867737,
          0.28439173102378845,
          0.28240010142326355,
          0.28042203187942505,
          0.27845731377601624,
          0.2765059471130371,
          0.2745678126811981,
          0.2726428210735321,
          0.2707308828830719,
          0.2688319981098175,
          0.2669459581375122,
          0.26507270336151123,
          0.2632121741771698,
          0.2613643407821655,
          0.2595289945602417,
          0.2577062249183655,
          0.25589582324028015,
          0.25409770011901855,
          0.2523118257522583,
          0.2505381405353546,
          0.24877649545669556,
          0.24702686071395874,
          0.2452891319990158,
          0.24356326460838318,
          0.2418491691350937,
          0.24014674127101898,
          0.23845595121383667,
          0.236776664853096,
          0.235108882188797,
          0.23345248401165009,
          0.2318073809146881,
          0.23017354309558868,
          0.22855089604854584,
          0.2269393354654312,
          0.22533881664276123,
          0.22374922037124634,
          0.22217056155204773,
          0.22060267627239227,
          0.21904554963111877,
          0.21749910712242126,
          0.21596325933933258,
          0.21443793177604675,
          0.21292313933372498,
          0.21141871809959412,
          0.2099246382713318,
          0.20844079554080963,
          0.20696720480918884,
          0.20550374686717987,
          0.20405036211013794,
          0.2026069462299347,
          0.20117349922657013,
          0.19974994659423828,
          0.19833622872829437,
          0.19693224132061005,
          0.19553795456886292,
          0.1941533088684082,
          0.19277824461460114,
          0.19141267240047455,
          0.19005654752254486,
          0.1887098252773285,
          0.18737243115901947,
          0.18604426085948944,
          0.1847253441810608,
          0.18341557681560516,
          0.18211489915847778,
          0.18082325160503387,
          0.17954058945178986,
          0.17826682329177856,
          0.1770019233226776,
          0.1757458597421646,
          0.17449851334095,
          0.17325986921787262,
          0.17202986776828766,
          0.17080844938755035,
          0.16959556937217712,
          0.168391153216362,
          0.1671951413154602,
          0.16600751876831055,
          0.16482819616794586,
          0.16365715861320496,
          0.16249430179595947,
          0.1613396257162094,
          0.1601930409669876,
          0.15905450284481049,
          0.15792396664619446,
          0.15680138766765594,
          0.15568670630455017,
          0.15457987785339355,
          0.15348084270954132,
          0.1523895561695099,
          0.15130600333213806,
          0.1502300500869751,
          0.14916174113750458,
          0.14810097217559814,
          0.1470477432012558,
          0.146001935005188,
          0.14496354758739471,
          0.1439325362443924,
          0.14290882647037506,
          0.14189238846302032,
          0.1408831924200058,
          0.13988114893436432,
          0.1388862431049347,
          0.13789844512939453,
          0.13691766560077667,
          0.13594388961791992,
          0.1349770575761795,
          0.13401715457439423,
          0.13306409120559692,
          0.1321178674697876,
          0.13117840886116028,
          0.13024570047855377,
          0.1293196976184845,
          0.12840032577514648,
          0.12748755514621735,
          0.1265813708305359,
          0.12568168342113495,
          0.12478850036859512,
          0.12390173971652985,
          0.12302136421203613,
          0.12214736640453339,
          0.12127967178821564,
          0.1204182431101799,
          0.11956307291984558,
          0.1187141016125679,
          0.11787126958370209,
          0.11703456193208694,
          0.11620393395423889,
          0.11537934839725494,
          0.11456075310707092,
          0.11374812573194504,
          0.11294142156839371,
          0.11214058846235275,
          0.11134564131498337,
          0.1105564758181572,
          0.10977309197187424,
          0.10899543762207031,
          0.10822349786758423,
          0.10745720565319061,
          0.10669653862714767,
          0.10594145953655243,
          0.1051919236779213,
          0.10444792360067368,
          0.1037093997001648,
          0.10297633707523346,
          0.1022486686706543,
          0.10152637958526611,
          0.10080944001674652,
          0.10009778290987015,
          0.09939143061637878,
          0.09869030863046646,
          0.09799438714981079,
          0.09730365127325058,
          0.09661803394556046,
          0.09593751281499863,
          0.0952620878815651,
          0.09459169209003448,
          0.0939263105392456,
          0.09326589107513428,
          0.09261040389537811,
          0.09195982664823532,
          0.09131413698196411,
          0.0906732901930809,
          0.0900372564792633,
          0.08940600603818893,
          0.0887795016169548,
          0.08815772086381912,
          0.08754061907529831,
          0.08692818880081177,
          0.08632037788629532,
          0.08571716398000717,
          0.08511852473020554,
          0.08452442288398743,
          0.08393481373786926,
          0.08334968239068985,
          0.082769013941288,
          0.08219275623559952,
          0.08162088692188263,
          0.08105339109897614,
          0.08049021661281586,
          0.0799313485622406,
          0.07937674224376678,
          0.078826405107975,
          0.07828027009963989,
          0.07773833721876144,
          0.07720056176185608,
          0.076666921377182,
          0.07613739371299744,
          0.07561193406581879,
          0.07509054243564606,
          0.07457316666841507,
          0.07405979931354523,
          0.07355040311813354,
          0.07304494827985764,
          0.0725434198975563,
          0.07204578071832657,
          0.07155200839042664,
          0.07106208801269531,
          0.07057596743106842,
          0.07009365409612656,
          0.06961511075496674,
          0.06914028525352478,
          0.06866919994354248,
          0.06820178776979446,
          0.06773804873228073,
          0.0672779530286789,
          0.06682147085666656,
          0.06636857986450195,
          0.06591925770044327,
          0.06547347456216812,
          0.06503122299909592,
          0.06459246575832367,
          0.0641571655869484,
          0.06372532248497009,
          0.06329690665006638,
          0.06287188827991486,
          0.06245025619864464,
          0.06203197315335274,
          0.06161702796816826,
          0.06120539829134941,
          0.06079704314470291,
          0.06039196252822876,
          0.05999012291431427,
          0.05959149822592735,
          0.05919608846306801,
          0.05880384519696236,
          0.058414749801158905,
          0.058028802275657654,
          0.05764595791697502,
          0.05726620554924011,
          0.05688951909542084,
          0.0565158873796463,
          0.056145280599594116,
          0.05577767640352249,
          0.055413056164979935,
          0.05505140498280525,
          0.054692696779966354,
          0.05433691293001175,
          0.053984034806489944,
          0.05363403633236885,
          0.053286898881196976,
          0.05294260382652283,
          0.05260113999247551,
          0.05226247012615204,
          0.05192660167813301,
          0.05159348249435425,
          0.05126311257481575,
          0.05093548074364662,
          0.05061053857207298,
          0.05028828606009483,
          0.04996871203184128,
          0.04965178668498993,
          0.0493374839425087,
          0.04902580380439758,
          0.0487167164683342,
          0.04841020330786705,
          0.04810624569654465,
          0.047804828733205795,
          0.0475059449672699,
          0.04720955342054367,
          0.046915650367736816,
          0.04662422090768814,
          0.04633524268865585,
          0.046048689633607864,
          0.045764561742544174,
          0.0454828254878521,
          0.04520347714424133,
          0.04492649808526039,
          0.044651858508586884,
          0.04437955468893051,
          0.044109560549259186,
          0.04384186491370201,
          0.043576452881097794,
          0.04331330582499504,
          0.04305240511894226,
          0.04279373586177826,
          0.04253728687763214,
          0.042283035814762115,
          0.04203096777200699,
          0.04178107529878616,
          0.04153332859277725,
          0.04128772020339966,
          0.04104422777891159,
          0.04080284759402275,
          0.04056354984641075,
          0.040326330810785294,
          0.040091175585985184,
          0.03985806927084923,
          0.039626989513635635,
          0.03939792141318321,
          0.03917085751891136,
          0.03894577547907829,
          0.03872266784310341,
          0.03850151598453522,
          0.038282305002212524,
          0.038065019994974136,
          0.03784964606165886,
          0.037636179476976395,
          0.03742459788918495,
          0.03721487894654274,
          0.03700702637434006,
          0.036801014095544815,
          0.03659682348370552,
          0.03639445826411247,
          0.03619388863444328,
          0.03599511459469795,
          0.03579811006784439,
          0.0356028713285923,
          0.03540938347578049,
          0.03521762415766716,
          0.03502759337425232,
          0.03483927249908447,
          0.034652646631002426,
          0.034467700868844986,
          0.03428443521261215,
          0.034102823585271835,
          0.03392285481095314,
          0.03374452516436577,
          0.03356781229376793,
          0.033392708748579025,
          0.03321920335292816,
          0.03304728493094444,
          0.032876934856176376,
          0.03270814195275307,
          0.03254089877009392,
          0.03237519413232803,
          0.03221101686358452,
          0.03204834833741188,
          0.03188718110322952,
          0.03172750771045685,
          0.031569305807352066,
          0.03141257166862488,
          0.03125729411840439,
          0.031103460118174553,
          0.030951058492064476,
          0.03080008365213871,
          0.030650515109300613,
          0.030502349138259888,
          0.03035556711256504,
          0.030210163444280624,
          0.030066126957535744,
          0.029923446476459503,
          0.029782112687826157,
          0.02964211069047451,
          0.029503436759114265,
          0.02936607599258423,
          0.029230019077658653,
          0.029095254838466644,
          0.028961772099137306,
          0.02882956527173519,
          0.028698619455099106,
          0.028568925336003304,
          0.028440479189157486,
          0.02831326052546501,
          0.02818726934492588,
          0.02806248515844345,
          0.027938906103372574,
          0.027816522866487503,
          0.027695326134562492,
          0.0275752991437912,
          0.027456438168883324,
          0.02733873575925827,
          0.027222175151109695,
          0.02710675820708275,
          0.026992468163371086,
          0.026879291981458664,
          0.026767229661345482,
          0.026656271889805794,
          0.026546401903033257,
          0.026437614113092422,
          0.026329899206757545,
          0.026223253458738327,
          0.026117665693163872,
          0.026013122871518135,
          0.02590962126851082,
          0.025807145982980728,
          0.025705695152282715,
          0.025605257600545883,
          0.025505829602479935,
          0.025407394394278526,
          0.025309951975941658,
          0.025213485583662987,
          0.025117993354797363,
          0.02502346783876419,
          0.024929897859692574,
          0.024837272241711617,
          0.02474559098482132,
          0.02465483918786049,
          0.024565013125538826,
          0.02447611093521118,
          0.024388112127780914,
          0.024301012977957726,
          0.024214815348386765,
          0.02412949688732624,
          0.024045061320066452,
          0.023961493745446205,
          0.0238787904381752,
          0.023796945810317993,
          0.023715950548648834,
          0.023635797202587128,
          0.023556478321552277,
          0.023477992042899132,
          0.0234003197401762,
          0.023323465138673782,
          0.02324741706252098,
          0.02317216619849205,
          0.02309771068394184,
          0.023024041205644608,
          0.022951150313019753,
          0.02287903241813183,
          0.022807680070400238,
          0.022737085819244385,
          0.02266724221408367,
          0.0225981492549181,
          0.02252979204058647,
          0.02246216870844364,
          0.02239527553319931,
          0.022329099476337433,
          0.02226363681256771,
          0.022198880091309547,
          0.022134827449917793,
          0.022071469575166702,
          0.022008802741765976,
          0.02194681577384472,
          0.021885506808757782,
          0.02182486653327942,
          0.02176489122211933,
          0.02170557901263237,
          0.02164691686630249,
          0.021588901057839394,
          0.021531525999307632,
          0.021474789828062057,
          0.021418681368231773,
          0.021363195031881332,
          0.021308332681655884,
          0.021254079416394234,
          0.021200435236096382,
          0.021147390827536583,
          0.021094946190714836,
          0.021043090149760246,
          0.020991820842027664,
          0.020941130816936493,
          0.020891014486551285,
          0.02084146998822689,
          0.020792491734027863,
          0.020744068548083305,
          0.020696202293038368,
          0.020648881793022156,
          0.020602108910679817,
          0.020555872470140457,
          0.020510170608758926,
          0.020464999601244926,
          0.02042035013437271,
          0.02037622220814228,
          0.02033260650932789,
          0.020289501175284386,
          0.020246900618076324,
          0.020204801112413406,
          0.020163193345069885,
          0.02012207917869091,
          0.020081449300050735,
          0.02004130184650421,
          0.02000163123011589,
          0.019962431862950325,
          0.019923701882362366,
          0.019885435700416565,
          0.019847625866532326,
          0.019810272380709648,
          0.019773369655013084,
          0.019736912101507187,
          0.019700894132256508,
          0.019665313884615898,
          0.01963016949594021,
          0.019595453515648842,
          0.01956116035580635,
          0.019527288153767586,
          0.01949383318424225,
          0.019460787996649742,
          0.019428156316280365,
          0.019395926967263222,
          0.019364098086953163,
          0.01933266781270504,
          0.019301624968647957,
          0.01927097514271736,
          0.019240709021687508,
          0.019210824742913246,
          0.01918131671845913,
          0.019152184948325157,
          0.019123420119285583,
          0.019095024093985558,
          0.019066987559199333,
          0.01903931237757206,
          0.01901199109852314,
          0.018985023722052574,
          0.018958400934934616,
          0.018932126462459564,
          0.01890619285404682,
          0.01888059638440609,
          0.01885533519089222,
          0.018830405548214912,
          0.01880580000579357,
          0.018781520426273346,
          0.018757563084363937,
          0.018733924254775047,
          0.018710598349571228,
          0.01868758350610733,
          0.018664875999093056,
          0.018642473965883255,
          0.01862037368118763,
          0.01859857514500618,
          0.01857706718146801,
          0.01855585351586342,
          0.018534930422902107,
          0.018514292314648628,
          0.018493935465812683,
          0.01847386173903942,
          0.018454067409038544,
          0.018434543162584305,
          0.018415294587612152,
          0.01839631423354149,
          0.018377594649791718,
          0.018359141424298286,
          0.018340948969125748,
          0.018323015421628952,
          0.018305333331227303,
          0.01828790456056595,
          0.018270723521709442,
          0.018253792077302933,
          0.018237100914120674,
          0.018220653757452965,
          0.018204446882009506,
          0.0181884728372097,
          0.0181727334856987,
          0.018157226964831352,
          0.01814194582402706,
          0.018126891925930977,
          0.01811205968260765,
          0.018097450956702232,
          0.018083060160279274,
          0.018068883568048477,
          0.01805492490530014,
          0.018041172996163368,
          0.018027635291218758,
          0.018014298751950264,
          0.018001172691583633,
          0.01798824407160282,
          0.017975514754652977,
          0.01796298660337925,
          0.017950648441910744,
          0.017938507720828056,
          0.01792655885219574,
          0.017914796248078346,
          0.017903219908475876,
          0.017891831696033478,
          0.017880622297525406,
          0.01786959357559681,
          0.01785874366760254,
          0.017848070710897446,
          0.01783757098019123,
          0.017827242612838745,
          0.01781708560883999,
          0.017807096242904663,
          0.01779727265238762,
          0.017787614837288857,
          0.017778119072318077,
          0.017768779769539833,
          0.017759602516889572,
          0.017750579863786697,
          0.017741713672876358,
          0.017733002081513405,
          0.01772444136440754,
          0.017716025933623314,
          0.017707761377096176,
          0.01769964024424553,
          0.017691662535071373,
          0.017683831974864006,
          0.017676137387752533,
          0.0176685843616724,
          0.017661165446043015,
          0.01765388436615467,
          0.017646735534071922,
          0.01763971894979477,
          0.01763283461332321,
          0.017626076936721802,
          0.01761944778263569,
          0.017612943425774574,
          0.017606563866138458,
          0.01760030910372734,
          0.017594173550605774,
          0.017588157206773758,
          0.017582256346940994,
          0.01757647655904293,
          0.01757081039249897,
          0.017565257847309113,
          0.01755981519818306,
          0.01755448617041111,
          0.017549265176057816,
          0.017544154077768326,
          0.017539147287607193,
          0.017534246668219566,
          0.017529446631669998,
          0.017524750903248787,
          0.017520159482955933,
          0.01751566492021084,
          0.017511267215013504,
          0.017506970092654228,
          0.017502767965197563,
          0.01749865896999836,
          0.017494644969701767,
          0.017490720376372337,
          0.01748688891530037,
          0.017483146861195564,
          0.017479490488767624,
          0.017475925385951996,
          0.017472444102168083,
          0.017469048500061035,
          0.017465736716985703,
          0.017462508752942085,
          0.017459359019994736,
          0.017456291243433952,
          0.017453303560614586,
          0.017450392246246338,
          0.017447559162974358,
          0.017444800585508347,
          0.017442118376493454,
          0.017439506947994232,
          0.01743697188794613,
          0.017434505745768547,
          0.017432112246751785,
          0.017429787665605545,
          0.017427532002329826,
          0.01742534153163433,
          0.017423221841454506,
          0.017421165481209755,
          0.017419174313545227,
          0.017417246475815773,
          0.017415381968021393,
          0.017413578927516937,
          0.017411835491657257,
          0.01741015538573265,
          0.01740853488445282,
          0.017406966537237167,
          0.01740545965731144,
          0.01740400865674019,
          0.017402617260813713,
          0.017401276156306267,
          0.017399989068508148,
          0.017398757860064507,
          0.017397576943039894,
          0.01739644818007946,
          0.017395369708538055,
          0.01739434152841568,
          0.017393361777067184,
          0.01739243045449257,
          0.017391547560691833,
          0.01739070937037468,
          0.017389919608831406,
          0.017389174550771713,
          0.017388474196195602,
          0.017387814819812775,
          0.01738720014691353,
          0.017386628314852715,
          0.017386099323630333,
          0.017385607585310936,
          0.01738515868782997,
          0.01738475076854229,
          0.017384381964802742,
          0.01738404668867588,
          0.01738375425338745,
          0.017383497208356857,
          0.01738327369093895,
          0.017383089289069176,
          0.017382938414812088,
          0.017382822930812836,
          0.01738273911178112,
          0.01738269068300724,
          0.017382673919200897,
          0.01738268882036209,
          0.01738273724913597,
          0.01738281361758709,
          0.017382923513650894,
          0.01738305762410164,
          0.01738322526216507,
          0.01738341897726059,
          0.017383644357323647,
          0.017383893951773643,
          0.01738417148590088,
          0.017384475097060204,
          0.017384806647896767,
          0.01738516427576542,
          0.017385542392730713,
          0.017385946586728096,
          0.01738637685775757,
          0.017386827617883682,
          0.017387302592396736,
          0.01738780178129673,
          0.017388319596648216,
          0.017388859763741493,
          0.01738942228257656,
          0.01739000715315342,
          0.01739061065018177,
          0.017391234636306763,
          0.017391875386238098,
          0.017392534762620926,
          0.017393216490745544,
          0.017393913120031357,
          0.01739463023841381,
          0.01739536225795746,
          0.0173961129039526,
          0.017396876588463783,
          0.01739765889942646,
          0.01739845611155033,
          0.017399270087480545,
          0.017400097101926804,
          0.017400939017534256,
          0.017401793971657753,
          0.017402665689587593,
          0.01740354858338833,
          0.017404446378350258,
          0.017405353486537933,
          0.017406275495886803,
          0.017407208681106567,
          0.017408154904842377,
          0.01740911230444908,
          0.01741008087992668,
          0.017411058768630028,
          0.01741204783320427,
          0.017413048073649406,
          0.01741405576467514,
          0.01741507649421692,
          0.017416102811694145,
          0.017417142167687416,
          0.017418185248970985,
          0.0174192413687706,
          0.01742030307650566,
          0.01742137223482132,
          0.017422450706362724,
          0.017423532903194427,
          0.017424626275897026,
          0.017425723373889923,
          0.017426829785108566,
          0.017427941784262657,
          0.017429055646061897,
          0.017430178821086884,
          0.017431309446692467,
          0.01743244007229805,
          0.01743357814848423,
          0.017434723675251007,
          0.017435871064662933,
          0.017437024042010307,
          0.01743818260729313,
          0.01743934117257595,
          0.01744050346314907,
          0.017441673204302788,
          0.017442839220166206,
          0.01744401641190052,
          0.017445193603634834,
          0.017446370795369148,
          0.01744755543768406,
          0.01744873821735382,
          0.01744992472231388,
          0.01745111308991909,
          0.01745230332016945,
          0.017453495413064957,
          0.017454687505960464,
          0.017455879598855972,
          0.017457077279686928,
          0.017458273097872734,
          0.01745946891605854,
          0.017460666596889496,
          0.017461862415075302,
          0.017463060095906258,
          0.01746426150202751,
          0.017465459182858467,
          0.017466656863689423,
          0.01746785268187523,
          0.017469050362706184,
          0.01747024618089199,
          0.017471443861722946,
          0.017472635954618454,
          0.01747383177280426,
          0.01747502200305462,
          0.017476214095950127,
          0.017477406188845634,
          0.017478592693805695,
          0.017479779198765755,
          0.017480963841080666,
          0.017482146620750427,
          0.01748332753777504,
          0.017484506592154503,
          0.017485681921243668,
          0.017486855387687683,
          0.0174880288541317,
          0.017489196732640266,
          0.017490364611148834,
          0.017491528764367104,
          0.017492689192295074,
          0.017493845894932747,
          0.01749500259757042,
          0.017496155574917793,
          0.01749730110168457,
          0.017498446628451347,
          0.017499592155218124,
          0.017500730231404305,
          0.017501864582300186,
          0.017502998933196068,
          0.017504123970866203,
          0.01750524900853634,
          0.017506370320916176,
          0.017507486045360565,
          0.017508598044514656,
          0.017509708181023598,
          0.01751081459224224,
          0.017511915415525436,
          0.017513010650873184,
          0.017514102160930634,
          0.017515188083052635
         ]
        },
        {
         "name": "2 - Test Recording",
         "type": "scatter",
         "y": [
          1.011672019958496,
          1.0045379400253296,
          0.9974531531333923,
          0.9904162883758545,
          0.9834280610084534,
          0.9764894843101501,
          0.9696016311645508,
          0.9627652168273926,
          0.9559803009033203,
          0.9492473602294922,
          0.9425665140151978,
          0.9359375238418579,
          0.9293598532676697,
          0.9228333234786987,
          0.9163575768470764,
          0.9099318981170654,
          0.9035560488700867,
          0.8972293138504028,
          0.8909513354301453,
          0.8847214579582214,
          0.8785391449928284,
          0.8724042773246765,
          0.8663160800933838,
          0.8602741956710815,
          0.854278028011322,
          0.8483273983001709,
          0.8424215316772461,
          0.8365603685379028,
          0.8307432532310486,
          0.8249698281288147,
          0.8192396759986877,
          0.8135525584220886,
          0.8079078197479248,
          0.8023053407669067,
          0.7967445254325867,
          0.7912251949310303,
          0.785746693611145,
          0.7803090214729309,
          0.7749115824699402,
          0.769554078578949,
          0.7642361521720886,
          0.7589575052261353,
          0.7537177801132202,
          0.7485163807868958,
          0.7433532476425171,
          0.7382282018661499,
          0.7331405878067017,
          0.7280901670455933,
          0.7230766415596008,
          0.7180997729301453,
          0.7131590247154236,
          0.7082542777061462,
          0.7033851742744446,
          0.6985512971878052,
          0.6937525272369385,
          0.688988447189331,
          0.6842588186264038,
          0.6795632243156433,
          0.6749016046524048,
          0.6702734231948853,
          0.6656785011291504,
          0.6611166000366211,
          0.6565873026847839,
          0.6520904302597046,
          0.6476258039474487,
          0.6431930065155029,
          0.6387916803359985,
          0.6344217658042908,
          0.6300829648971558,
          0.6257750988006592,
          0.6214976906776428,
          0.6172505021095276,
          0.6130334734916687,
          0.6088463068008423,
          0.6046885848045349,
          0.6005602478981018,
          0.5964610576629639,
          0.5923905968666077,
          0.5883487462997437,
          0.5843353867530823,
          0.5803501605987549,
          0.5763928294181824,
          0.5724632740020752,
          0.5685610771179199,
          0.5646862387657166,
          0.5608383417129517,
          0.5570173263549805,
          0.5532229542732239,
          0.549454927444458,
          0.5457130670547485,
          0.5419972538948059,
          0.538307249546051,
          0.5346428155899048,
          0.5310036540031433,
          0.5273898243904114,
          0.5238009691238403,
          0.5202369093894958,
          0.516697347164154,
          0.5131823420524597,
          0.5096914172172546,
          0.5062246322631836,
          0.5027816295623779,
          0.49936240911483765,
          0.4959665834903717,
          0.49259406328201294,
          0.4892447292804718,
          0.4859183132648468,
          0.4826147258281708,
          0.4793337285518646,
          0.4760752320289612,
          0.4728389084339142,
          0.46962475776672363,
          0.4664325416088104,
          0.463262140750885,
          0.4601133167743683,
          0.4569859504699707,
          0.45387986302375793,
          0.45079490542411804,
          0.4477309584617615,
          0.44468778371810913,
          0.44166532158851624,
          0.4386633336544037,
          0.4356817305088043,
          0.4327203631401062,
          0.429779052734375,
          0.42685768008232117,
          0.4239560663700104,
          0.42107412219047546,
          0.41821160912513733,
          0.4153684973716736,
          0.4125446081161499,
          0.40973976254463196,
          0.4069537818431854,
          0.4041866362094879,
          0.40143823623657227,
          0.398708313703537,
          0.39599674940109253,
          0.3933035433292389,
          0.3906283378601074,
          0.3879711925983429,
          0.3853318691253662,
          0.38271039724349976,
          0.38010644912719727,
          0.37752002477645874,
          0.374951034784317,
          0.372399240732193,
          0.3698645532131195,
          0.3673468828201294,
          0.3648461401462555,
          0.36236217617988586,
          0.35989484190940857,
          0.35744404792785645,
          0.35500964522361755,
          0.35259151458740234,
          0.3501896560192108,
          0.3478038012981415,
          0.34543395042419434,
          0.34307992458343506,
          0.34074169397354126,
          0.3384190797805786,
          0.33611199259757996,
          0.33382031321525574,
          0.3315439522266388,
          0.3292827904224396,
          0.3270367681980133,
          0.32480570673942566,
          0.32258960604667664,
          0.3203882575035095,
          0.31820163130760193,
          0.3160295784473419,
          0.3138720691204071,
          0.31172889471054077,
          0.30960002541542053,
          0.3074853718280792,
          0.3053848147392273,
          0.3032982647418976,
          0.3012256622314453,
          0.29916685819625854,
          0.2971218228340149,
          0.29509037733078003,
          0.29307252168655396,
          0.29106810688972473,
          0.2890770435333252,
          0.2870992422103882,
          0.2851346731185913,
          0.28318315744400024,
          0.2812446653842926,
          0.2793191075325012,
          0.27740639448165894,
          0.2755064070224762,
          0.2736190855503082,
          0.27174440026283264,
          0.2698822021484375,
          0.26803240180015564,
          0.2661949396133423,
          0.26436975598335266,
          0.2625567317008972,
          0.2607558071613312,
          0.2589668929576874,
          0.25718992948532104,
          0.2554248571395874,
          0.2536715269088745,
          0.2519299387931824,
          0.25019991397857666,
          0.24848145246505737,
          0.24677450954914093,
          0.2450788915157318,
          0.243394672870636,
          0.24172167479991913,
          0.24005983769893646,
          0.2384091168642044,
          0.236769437789917,
          0.23514072597026825,
          0.2335229367017746,
          0.2319159358739853,
          0.23031970858573914,
          0.22873419523239136,
          0.22715924680233002,
          0.22559486329555511,
          0.22404097020626068,
          0.22249744832515717,
          0.22096432745456696,
          0.2194414585828781,
          0.21792878210544586,
          0.21642626821994781,
          0.214933842420578,
          0.21345141530036926,
          0.2119789868593216,
          0.21051639318466187,
          0.20906367897987366,
          0.20762071013450623,
          0.2061874270439148,
          0.20476379990577698,
          0.2033497393131256,
          0.2019452303647995,
          0.2005501389503479,
          0.19916445016860962,
          0.1977880895137787,
          0.1964210569858551,
          0.19506321847438812,
          0.19371452927589417,
          0.19237495958805084,
          0.19104443490505219,
          0.18972289562225342,
          0.18841029703617096,
          0.18710657954216003,
          0.18581165373325348,
          0.1845255196094513,
          0.18324808776378632,
          0.18197932839393616,
          0.18071913719177246,
          0.17946751415729523,
          0.1782243847846985,
          0.17698968946933746,
          0.17576336860656738,
          0.17454539239406586,
          0.1733357012271881,
          0.17213422060012817,
          0.17094090580940247,
          0.169755756855011,
          0.16857866942882538,
          0.16740958392620087,
          0.16624850034713745,
          0.16509531438350677,
          0.16395002603530884,
          0.16281254589557648,
          0.1616828739643097,
          0.16056090593338013,
          0.1594466120004654,
          0.1583399474620819,
          0.1572408825159073,
          0.15614934265613556,
          0.15506529808044434,
          0.15398870408535004,
          0.1529194712638855,
          0.1518576294183731,
          0.1508030891418457,
          0.1497557908296585,
          0.14871571958065033,
          0.1476828008890152,
          0.14665700495243073,
          0.14563828706741333,
          0.14462661743164062,
          0.14362192153930664,
          0.14262418448925018,
          0.14163334667682648,
          0.14064934849739075,
          0.1396721750497818,
          0.13870178163051605,
          0.13773810863494873,
          0.13678114116191864,
          0.1358308047056198,
          0.13488708436489105,
          0.1339498907327652,
          0.13301929831504822,
          0.13209514319896698,
          0.13117742538452148,
          0.13026614487171173,
          0.12936119735240936,
          0.12846258282661438,
          0.1275702565908432,
          0.12668415904045105,
          0.12580426037311554,
          0.12493054568767548,
          0.12406294792890549,
          0.12320142239332199,
          0.12234596908092499,
          0.1214965283870697,
          0.12065304070711136,
          0.11981552094221115,
          0.11898388713598251,
          0.11815811693668365,
          0.117338165640831,
          0.11652400344610214,
          0.11571560055017471,
          0.11491291970014572,
          0.11411591619253159,
          0.11332456767559052,
          0.11253882944583893,
          0.11175865679979324,
          0.11098402738571167,
          0.11021489650011063,
          0.10945122689008713,
          0.10869300365447998,
          0.1079401820898056,
          0.1071927398443222,
          0.1064506247639656,
          0.10571379959583282,
          0.10498224943876266,
          0.10425592213869095,
          0.10353481024503708,
          0.10281884670257568,
          0.10210803896188736,
          0.10140231996774673,
          0.10070167481899261,
          0.10000606626272202,
          0.09931544959545135,
          0.09862981736660004,
          0.09794913977384567,
          0.09727336466312408,
          0.09660246968269348,
          0.09593641757965088,
          0.09527520090341568,
          0.09461875259876251,
          0.09396705776453018,
          0.09332010895013809,
          0.09267784655094147,
          0.09204023331403732,
          0.09140727669000626,
          0.09077892452478409,
          0.09015515446662903,
          0.0895359218120575,
          0.08892121911048889,
          0.08831100165843964,
          0.08770524710416794,
          0.08710392564535141,
          0.08650701493024826,
          0.0859144777059555,
          0.08532626926898956,
          0.08474239706993103,
          0.08416280895471573,
          0.08358751982450485,
          0.08301642537117004,
          0.08244957029819489,
          0.081886887550354,
          0.08132835477590561,
          0.08077394962310791,
          0.08022366464138031,
          0.07967744767665863,
          0.07913527637720108,
          0.07859713584184647,
          0.0780629813671112,
          0.0775328129529953,
          0.07700658589601517,
          0.07648427784442902,
          0.07596586644649506,
          0.0754513144493103,
          0.07494061440229416,
          0.07443373650312424,
          0.07393065094947815,
          0.0734313353896141,
          0.07293576002120972,
          0.07244390994310379,
          0.07195576280355453,
          0.07147127389907837,
          0.07099044322967529,
          0.07051323354244232,
          0.07003962993621826,
          0.06956959515810013,
          0.06910311430692673,
          0.06864017248153687,
          0.06818073242902756,
          0.06772477179765701,
          0.06727228313684464,
          0.06682322919368744,
          0.06637758761644363,
          0.06593533605337143,
          0.06549645215272903,
          0.06506092846393585,
          0.0646287277340889,
          0.06419983506202698,
          0.0637742131948471,
          0.06335185468196869,
          0.06293274462223053,
          0.06251684576272964,
          0.06210414320230484,
          0.061694614589214325,
          0.06128823757171631,
          0.0608849935233593,
          0.0604848638176918,
          0.06008782237768173,
          0.05969385430216789,
          0.059302929788827896,
          0.05891503766179085,
          0.05853015184402466,
          0.058148257434368134,
          0.05776933208107948,
          0.05739334598183632,
          0.05702029913663864,
          0.05665016174316406,
          0.05628291144967079,
          0.055918529629707336,
          0.055556997656822205,
          0.055198296904563904,
          0.05484240502119064,
          0.05448930710554123,
          0.05413898825645447,
          0.05379142239689827,
          0.05344659090042114,
          0.05310447886586189,
          0.05276506394147873,
          0.05242832750082016,
          0.05209425464272499,
          0.05176283419132233,
          0.05143403634428978,
          0.051107846200466156,
          0.050784241408109665,
          0.05046321451663971,
          0.0501447468996048,
          0.049828801304101944,
          0.049515385180711746,
          0.049204468727111816,
          0.04889604449272156,
          0.04859008267521858,
          0.048286568373441696,
          0.0479854941368103,
          0.04768684133887291,
          0.04739058390259743,
          0.04709670692682266,
          0.04680519923567772,
          0.046516045928001404,
          0.046229224652051926,
          0.045944731682538986,
          0.0456625260412693,
          0.04538261145353317,
          0.04510496184229851,
          0.04482957720756531,
          0.044556424021720886,
          0.04428549110889435,
          0.0440167635679245,
          0.04375023767352104,
          0.04348587617278099,
          0.04322369024157524,
          0.04296364635229111,
          0.0427057221531868,
          0.042449917644262314,
          0.04219621419906616,
          0.04194459319114685,
          0.04169505089521408,
          0.041447557508945465,
          0.041202109307050705,
          0.04095868766307831,
          0.040717270225286484,
          0.040477853268384933,
          0.04024042934179306,
          0.040004976093769073,
          0.03977147117257118,
          0.03953991085290909,
          0.039310272783041,
          0.03908254951238632,
          0.03885672613978386,
          0.03863279148936272,
          0.0384107306599617,
          0.03819052875041962,
          0.03797216713428497,
          0.03775563836097717,
          0.03754093125462532,
          0.03732803463935852,
          0.03711692616343498,
          0.03690759092569351,
          0.03670002892613411,
          0.03649422153830528,
          0.03629015386104584,
          0.03608781471848488,
          0.03588719293475151,
          0.03568827360868454,
          0.035491038113832474,
          0.03529549017548561,
          0.03510160371661186,
          0.03490937128663063,
          0.03471877798438072,
          0.03452982008457184,
          0.03434247896075249,
          0.034156739711761475,
          0.033972594887018204,
          0.03379002958536148,
          0.03360903635621071,
          0.033429600298404694,
          0.03325171396136284,
          0.03307535499334335,
          0.03290052339434624,
          0.0327272042632103,
          0.032555390149354935,
          0.03238506242632866,
          0.03221621364355087,
          0.03204883262515068,
          0.03188290446996689,
          0.0317184254527092,
          0.031555380672216415,
          0.031393758952617645,
          0.03123355098068714,
          0.03107474558055401,
          0.0309173334389925,
          0.030761295929551125,
          0.03060663305222988,
          0.030453331768512726,
          0.030301380902528763,
          0.0301507655531168,
          0.030001478269696236,
          0.029853517189621925,
          0.029706859961152077,
          0.029561500996351242,
          0.029417432844638824,
          0.02927464060485363,
          0.02913312241435051,
          0.02899286150932312,
          0.028853848576545715,
          0.028716083616018295,
          0.02857953868806362,
          0.028444217517971992,
          0.028310108929872513,
          0.028177201747894287,
          0.02804548852145672,
          0.02791495807468891,
          0.02778560109436512,
          0.027657408267259598,
          0.027530372142791748,
          0.027404485270380974,
          0.02727973647415638,
          0.02715611271560192,
          0.02703361213207245,
          0.026912225410342216,
          0.026791933923959732,
          0.026672739535570145,
          0.026554634794592857,
          0.026437602937221527,
          0.026321638375520706,
          0.026206733658909798,
          0.026092881336808205,
          0.025980068370699883,
          0.025868292897939682,
          0.02575754188001156,
          0.025647813454270363,
          0.025539088994264603,
          0.025431370362639427,
          0.025324644520878792,
          0.02521890215575695,
          0.025114139541983604,
          0.025010347366333008,
          0.024907516315579414,
          0.024805640801787376,
          0.024704711511731148,
          0.024604717269539833,
          0.02450565993785858,
          0.02440752275288105,
          0.024310307577252388,
          0.024213995784521103,
          0.024118585512042046,
          0.02402406930923462,
          0.023930445313453674,
          0.02383769303560257,
          0.023745818063616753,
          0.02365480549633503,
          0.023564651608467102,
          0.02347535267472267,
          0.023386893793940544,
          0.02329927124083042,
          0.023212477564811707,
          0.02312651090323925,
          0.023041360080242157,
          0.02295701764523983,
          0.02287347801029682,
          0.022790735587477684,
          0.02270878292620182,
          0.022627610713243484,
          0.022547217085957527,
          0.022467592731118202,
          0.02238873392343521,
          0.02231062948703766,
          0.022233275696635246,
          0.022156665101647377,
          0.022080793976783752,
          0.022005658596754074,
          0.021931244060397148,
          0.021857550367712975,
          0.021784568205475807,
          0.021712295711040497,
          0.021640725433826447,
          0.02156984619796276,
          0.021499663591384888,
          0.021430160850286484,
          0.02136133797466755,
          0.02129318192601204,
          0.021225692704319954,
          0.021158868446946144,
          0.021092694252729416,
          0.021027173846960068,
          0.020962292328476906,
          0.02089805155992508,
          0.02083444409072399,
          0.020771462470293045,
          0.020709101110696793,
          0.020647358149290085,
          0.020586224272847176,
          0.020525695756077766,
          0.020465770736336708,
          0.020406439900398254,
          0.020347697660326958,
          0.02028953842818737,
          0.020231960341334343,
          0.020174959674477577,
          0.02011852338910103,
          0.020062655210494995,
          0.020007342100143433,
          0.01995258778333664,
          0.01989838294684887,
          0.019844720140099525,
          0.019791599363088608,
          0.01973901316523552,
          0.019686955958604813,
          0.019635427743196487,
          0.01958441734313965,
          0.019533922895789146,
          0.019483942538499832,
          0.01943446882069111,
          0.01938549615442753,
          0.019337022677063942,
          0.01928904466331005,
          0.01924155279994011,
          0.019194548949599266,
          0.019148021936416626,
          0.019101973623037338,
          0.019056394696235657,
          0.01901128515601158,
          0.018966637551784515,
          0.01892245002090931,
          0.018878716975450516,
          0.018835434690117836,
          0.01879259943962097,
          0.018750207498669624,
          0.018708253279328346,
          0.01866673119366169,
          0.018625643104314804,
          0.018584979698061943,
          0.018544739112257957,
          0.01850491762161255,
          0.01846550963819027,
          0.01842651329934597,
          0.0183879267424345,
          0.018349742516875267,
          0.01831195503473282,
          0.018274566158652306,
          0.01823756843805313,
          0.018200961872935295,
          0.0181647390127182,
          0.01812889613211155,
          0.01809343323111534,
          0.01805834285914898,
          0.018023625016212463,
          0.017989274114370346,
          0.01795528456568718,
          0.017921658232808113,
          0.0178883895277977,
          0.01785547286272049,
          0.017822906374931335,
          0.017790688201785088,
          0.017758812755346298,
          0.017727280035614967,
          0.017696082592010498,
          0.01766521856188774,
          0.017634686082601547,
          0.017604483291506767,
          0.017574602738022804,
          0.017545044422149658,
          0.01751580461859703,
          0.017486881464719772,
          0.017458269372582436,
          0.017429964616894722,
          0.01740197092294693,
          0.017374275252223015,
          0.017346881330013275,
          0.01731978915631771,
          0.017292987555265427,
          0.01726648025214672,
          0.017240259796380997,
          0.017214326187968254,
          0.017188675701618195,
          0.01716330647468567,
          0.01713821478188038,
          0.017113398760557175,
          0.017088856548070908,
          0.01706458441913128,
          0.01704057678580284,
          0.017016833648085594,
          0.016993355005979538,
          0.016970133408904076,
          0.016947168856859207,
          0.016924459487199783,
          0.016901999711990356,
          0.016879793256521225,
          0.016857830807566643,
          0.01683611236512661,
          0.016814637929201126,
          0.016793398186564445,
          0.016772402450442314,
          0.016751637682318687,
          0.016731105744838715,
          0.016710802912712097,
          0.016690731048583984,
          0.01667088270187378,
          0.016651256009936333,
          0.016631850972771645,
          0.016612665727734566,
          0.016593696549534798,
          0.01657494157552719,
          0.016556398943066597,
          0.016538064926862717,
          0.0165199413895607,
          0.01650202088057995,
          0.016484307125210762,
          0.016466792672872543,
          0.01644947938621044,
          0.01643236167728901,
          0.016415439546108246,
          0.016398712992668152,
          0.01638217829167843,
          0.016365831717848778,
          0.01634967140853405,
          0.016333697363734245,
          0.016317909583449364,
          0.016302304342389107,
          0.016286874189972878,
          0.016271624714136124,
          0.016256552189588547,
          0.016241654753684998,
          0.016226928681135178,
          0.016212372109293938,
          0.016197988763451576,
          0.016183769330382347,
          0.01616971381008625,
          0.016155825927853584,
          0.016142096370458603,
          0.016128530725836754,
          0.01611512154340744,
          0.01610187068581581,
          0.01608877442777157,
          0.01607583276927471,
          0.016063043847680092,
          0.01605040393769741,
          0.016037913039326668,
          0.016025569289922714,
          0.0160133745521307,
          0.016001321375370026,
          0.015989409759640694,
          0.015977641567587852,
          0.015966013073921204,
          0.015954522415995598,
          0.015943167731165886,
          0.01593194715678692,
          0.015920862555503845,
          0.015909910202026367,
          0.015899088233709335,
          0.0158883947879076,
          0.01587783172726631,
          0.01586739532649517,
          0.01585708186030388,
          0.015846893191337585,
          0.01583683118224144,
          0.015826884657144547,
          0.015817061066627502,
          0.01580735482275486,
          0.015797767788171768,
          0.015788298100233078,
          0.01577894203364849,
          0.01576969586312771,
          0.015760567039251328,
          0.01575154811143875,
          0.01574263721704483,
          0.015733836218714714,
          0.015725143253803253,
          0.0157165564596653,
          0.01570807583630085,
          0.01569969765841961,
          0.015691423788666725,
          0.01568324863910675,
          0.015675177797675133,
          0.015667205676436424,
          0.015659330412745476,
          0.015651553869247437,
          0.015643872320652008,
          0.01563628576695919,
          0.015628794208168983,
          0.015621395781636238,
          0.01561408955603838,
          0.01560687180608511,
          0.015599747188389301,
          0.015592710115015507,
          0.015585760585963726,
          0.015578897669911385,
          0.015572122298181057,
          0.01556543167680502,
          0.015558823943138123,
          0.015552300959825516,
          0.015545856207609177,
          0.015539496205747128,
          0.01553321536630392,
          0.015527011826634407,
          0.01552089024335146,
          0.01551484502851963,
          0.01550887618213892,
          0.015502982772886753,
          0.01549716480076313,
          0.015491421334445477,
          0.015485748648643494,
          0.01548015046864748,
          0.015474622137844563,
          0.015469166450202465,
          0.015463778749108315,
          0.01545846275985241,
          0.015453212894499302,
          0.015448031947016716,
          0.015442915260791779,
          0.015437865629792213,
          0.015432882122695446,
          0.015427961014211178,
          0.015423104166984558,
          0.015418311581015587,
          0.015413579531013966,
          0.015408909879624844,
          0.015404301695525646,
          0.015399751253426075,
          0.015395261347293854,
          0.015390830114483833,
          0.015386455692350864,
          0.015382139943540096,
          0.015377878211438656,
          0.015373675152659416,
          0.01536952517926693,
          0.015365430153906345,
          0.015361390076577663,
          0.01535740215331316,
          0.01535346731543541,
          0.015349583700299263,
          0.015345750376582146,
          0.015341970138251781,
          0.015338239260017872,
          0.015334557741880417,
          0.015330924652516842,
          0.015327339991927147,
          0.015323802828788757,
          0.015320315025746822,
          0.015316869132220745,
          0.015313471667468548,
          0.01531012263149023,
          0.015306813642382622,
          0.015303554013371468,
          0.015300332568585873,
          0.015297158621251583,
          0.015294024720788002,
          0.015290934592485428,
          0.015287885442376137,
          0.015284877270460129,
          0.015281911008059978,
          0.015278983861207962,
          0.015276098623871803,
          0.01527325063943863,
          0.01527043990790844,
          0.015267668291926384,
          0.015264935791492462,
          0.01526223961263895,
          0.015259578824043274,
          0.015256956219673157,
          0.015254369005560875,
          0.015251817181706429,
          0.015249302610754967,
          0.015246817842125893,
          0.015244369395077229,
          0.01524195447564125,
          0.015239574946463108,
          0.015237224288284779,
          0.015234909020364285,
          0.015232626348733902,
          0.015230372548103333,
          0.015228151343762875,
          0.015225961804389954,
          0.01522380206733942,
          0.015221672132611275,
          0.015219570137560368,
          0.015217499807476997,
          0.015215457417070866,
          0.015213443897664547,
          0.015211459249258041,
          0.015209498815238476,
          0.015207569114863873,
          0.015205667354166508,
          0.015203788876533508,
          0.015201938338577747,
          0.015200112946331501,
          0.015198317356407642,
          0.015196542255580425,
          0.015194794163107872,
          0.015193070285022259,
          0.01519137155264616,
          0.015189696103334427,
          0.015188045799732208,
          0.015186416916549206,
          0.015184813179075718,
          0.015183228999376297,
          0.01518166996538639,
          0.0151801323518157,
          0.015178618021309376,
          0.015177122317254543,
          0.015175649896264076,
          0.015174200758337975,
          0.015172767452895641,
          0.015171357430517673,
          0.015169967897236347,
          0.015168598853051662,
          0.015167247503995895,
          0.01516591664403677,
          0.015164604410529137,
          0.01516331359744072,
          0.015162037685513496,
          0.01516078319400549,
          0.015159543603658676,
          0.01515832357108593,
          0.015157122164964676,
          0.015155937522649765,
          0.015154770575463772,
          0.015153619460761547,
          0.01515248417854309,
          0.015151366591453552,
          0.015150265768170357,
          0.01514918077737093,
          0.015148110687732697,
          0.015147058293223381,
          0.01514601893723011,
          0.015144996345043182,
          0.015143988654017448,
          0.015142994932830334,
          0.015142015181481838,
          0.015141051262617111,
          0.015140101313591003,
          0.015139163471758366,
          0.015138240531086922,
          0.015137331560254097,
          0.015136434696614742,
          0.015135553665459156,
          0.01513468287885189,
          0.015133826062083244,
          0.015132981352508068,
          0.015132151544094086,
          0.015131330117583275,
          0.015130521729588509,
          0.015129726380109787,
          0.01512894406914711,
          0.015128170140087605,
          0.015127410180866718,
          0.015126662328839302,
          0.015125922858715057,
          0.015125195495784283,
          0.015124477446079254,
          0.01512377243489027,
          0.015123076736927032,
          0.015122391283512115,
          0.015121717005968094,
          0.015121051110327244,
          0.015120396390557289,
          0.01511975098401308,
          0.015119115822017193,
          0.015118489041924477,
          0.015117872506380081,
          0.015117265284061432,
          0.015116664581000805,
          0.015116075985133648,
          0.015115494839847088,
          0.015114923007786274,
          0.015114357694983482,
          0.015113802626729012,
          0.015113255940377712,
          0.01511271670460701
         ]
        },
        {
         "name": "2 - Train Recording",
         "type": "scatter",
         "y": [
          1.0103423595428467,
          1.0031943321228027,
          0.9961059093475342,
          0.9890667796134949,
          0.9820767641067505,
          0.9751365780830383,
          0.9682470560073853,
          0.9614090919494629,
          0.9546228051185608,
          0.9478887915611267,
          0.9412068724632263,
          0.9345769882202148,
          0.9279987215995789,
          0.9214720129966736,
          0.9149960279464722,
          0.9085705280303955,
          0.9021949172019958,
          0.8958687782287598,
          0.88959139585495,
          0.8833625316619873,
          0.877181351184845,
          0.8710475564002991,
          0.8649606108665466,
          0.8589199781417847,
          0.8529253005981445,
          0.8469761610031128,
          0.8410718441009521,
          0.8352121710777283,
          0.8293967843055725,
          0.8236249685287476,
          0.8178965449333191,
          0.8122110962867737,
          0.8065682649612427,
          0.8009673953056335,
          0.7954084277153015,
          0.7898908257484436,
          0.7844142913818359,
          0.7789784669876099,
          0.7735828161239624,
          0.7682271599769592,
          0.7629111409187317,
          0.7576343417167664,
          0.7523965239524841,
          0.7471970319747925,
          0.7420358657836914,
          0.7369126081466675,
          0.7318270206451416,
          0.726778507232666,
          0.7217669486999512,
          0.7167919278144836,
          0.7118532657623291,
          0.7069504261016846,
          0.7020833492279053,
          0.697251558303833,
          0.6924546957015991,
          0.6876927018165588,
          0.6829650402069092,
          0.678271472454071,
          0.6736117601394653,
          0.6689855456352234,
          0.6643926501274109,
          0.659832775592804,
          0.6553055644035339,
          0.6508107781410217,
          0.646348237991333,
          0.64191734790802,
          0.6375181674957275,
          0.6331503987312317,
          0.628813624382019,
          0.6245077252388,
          0.620232343673706,
          0.6159873008728027,
          0.6117722988128662,
          0.6075871586799622,
          0.6034315824508667,
          0.599305272102356,
          0.5952081084251404,
          0.5911397933959961,
          0.587100088596344,
          0.5830886960029602,
          0.5791055560112,
          0.5751503109931946,
          0.5712228417396545,
          0.5673227906227112,
          0.5634499788284302,
          0.5596041679382324,
          0.5557852387428284,
          0.5519929528236389,
          0.5482270121574402,
          0.5444872975349426,
          0.5407735109329224,
          0.5370855927467346,
          0.5334232449531555,
          0.5297862887382507,
          0.5261744856834412,
          0.5225876569747925,
          0.5190256834030151,
          0.5154882669448853,
          0.5119752883911133,
          0.5084865093231201,
          0.5050218105316162,
          0.5015809535980225,
          0.49816378951072693,
          0.4947700798511505,
          0.4913996756076813,
          0.4880524277687073,
          0.4847281277179718,
          0.4814266264438629,
          0.4781477749347687,
          0.4748913645744324,
          0.4716571867465973,
          0.4684451222419739,
          0.4652550220489502,
          0.4620867073535919,
          0.45893996953964233,
          0.4558147192001343,
          0.4527108371257782,
          0.44962793588638306,
          0.446566104888916,
          0.443525105714798,
          0.4405047595500946,
          0.43750494718551636,
          0.43452543020248413,
          0.4315662086009979,
          0.428627073764801,
          0.42570778727531433,
          0.42280837893486023,
          0.41992855072021484,
          0.4170682728290558,
          0.41422733664512634,
          0.4114055335521698,
          0.40860286355018616,
          0.4058191478252411,
          0.4030541777610779,
          0.40030789375305176,
          0.39758017659187317,
          0.3948708772659302,
          0.3921797573566437,
          0.38950681686401367,
          0.3868519365787506,
          0.384214848279953,
          0.3815954923629761,
          0.37899380922317505,
          0.376409649848938,
          0.37384286522865295,
          0.371293306350708,
          0.3687609136104584,
          0.3662455379962921,
          0.3637470006942749,
          0.36126527190208435,
          0.3588002622127533,
          0.35635170340538025,
          0.3539195954799652,
          0.35150375962257385,
          0.3491041660308838,
          0.3467206656932831,
          0.3443530797958374,
          0.34200140833854675,
          0.3396654427051544,
          0.3373451828956604,
          0.3350403904914856,
          0.33275106549263,
          0.3304770588874817,
          0.3282183110713959,
          0.32597461342811584,
          0.3237459361553192,
          0.3215321898460388,
          0.3193332552909851,
          0.31714901328086853,
          0.3149793744087219,
          0.31282421946525574,
          0.3106834888458252,
          0.3085569739341736,
          0.30644476413726807,
          0.30434665083885193,
          0.302262544631958,
          0.30019235610961914,
          0.29813605546951294,
          0.2960934340953827,
          0.294064462184906,
          0.2920490801334381,
          0.29004713892936707,
          0.2880585491657257,
          0.28608325123786926,
          0.28412115573883057,
          0.28217214345932007,
          0.280236154794693,
          0.2783131003379822,
          0.27640295028686523,
          0.27450546622276306,
          0.27262070775032043,
          0.2707485258579254,
          0.268888920545578,
          0.2670416235923767,
          0.2652067244052887,
          0.2633841335773468,
          0.2615736722946167,
          0.259775310754776,
          0.2579890191555023,
          0.2562146484851837,
          0.2544521391391754,
          0.25270143151283264,
          0.25096243619918823,
          0.24923501908779144,
          0.24751920998096466,
          0.24581487476825714,
          0.24412190914154053,
          0.242440328001976,
          0.24076993763446808,
          0.2391107827425003,
          0.23746274411678314,
          0.23582571744918823,
          0.2341996729373932,
          0.23258452117443085,
          0.23098021745681763,
          0.22938667237758636,
          0.22780384123325348,
          0.22623158991336823,
          0.2246699184179306,
          0.22311872243881226,
          0.22157792747020721,
          0.2200474739074707,
          0.21852733194828033,
          0.21701739728450775,
          0.21551761031150818,
          0.21402791142463684,
          0.21254824101924896,
          0.21107856929302216,
          0.2096187174320221,
          0.20816874504089355,
          0.2067285031080246,
          0.20529799163341522,
          0.20387715101242065,
          0.20246586203575134,
          0.2010640949010849,
          0.19967179000377655,
          0.19828888773918152,
          0.19691532850265503,
          0.1955510526895523,
          0.19419598579406738,
          0.19285012781620026,
          0.19151335954666138,
          0.19018563628196716,
          0.18886689841747284,
          0.18755711615085602,
          0.18625618517398834,
          0.1849641054868698,
          0.18368075788021088,
          0.18240618705749512,
          0.1811402440071106,
          0.17988289892673492,
          0.17863409221172333,
          0.17739379405975342,
          0.17616191506385803,
          0.17493847012519836,
          0.17372332513332367,
          0.17251648008823395,
          0.17131786048412323,
          0.17012742161750793,
          0.1689450889825821,
          0.1677708625793457,
          0.1666046679019928,
          0.1654464155435562,
          0.16429610550403595,
          0.16315369307994843,
          0.16201907396316528,
          0.16089226305484772,
          0.15977317094802856,
          0.15866176784038544,
          0.15755794942378998,
          0.15646174550056458,
          0.15537311136722565,
          0.15429195761680603,
          0.15321822464466095,
          0.1521519124507904,
          0.15109291672706604,
          0.15004126727581024,
          0.14899685978889465,
          0.1479596644639969,
          0.14692966639995575,
          0.1459067463874817,
          0.1448909342288971,
          0.143882155418396,
          0.14288033545017242,
          0.14188550412654877,
          0.14089755713939667,
          0.13991646468639374,
          0.1389421671628952,
          0.13797469437122345,
          0.13701391220092773,
          0.13605982065200806,
          0.13511240482330322,
          0.13417157530784607,
          0.1332373023033142,
          0.13230957090854645,
          0.1313883364200592,
          0.1304735392332077,
          0.12956513464450836,
          0.1286630928516388,
          0.1277673989534378,
          0.12687796354293823,
          0.12599477171897888,
          0.12511777877807617,
          0.12424695491790771,
          0.12338224798440933,
          0.12252364307641983,
          0.12167106568813324,
          0.12082453072071075,
          0.1199839636683464,
          0.11914931982755661,
          0.11832059174776077,
          0.11749770492315292,
          0.11668065190315247,
          0.11586939543485641,
          0.11506389081478119,
          0.11426408588886261,
          0.11346998065710068,
          0.11268152296543121,
          0.11189866811037064,
          0.11112138628959656,
          0.11034964770078659,
          0.10958340764045715,
          0.10882262885570526,
          0.10806728899478912,
          0.10731733590364456,
          0.10657277703285217,
          0.10583353787660599,
          0.10509959608316422,
          0.10437090694904327,
          0.10364745557308197,
          0.10292920470237732,
          0.10221612453460693,
          0.10150817781686783,
          0.10080531984567642,
          0.10010755062103271,
          0.09941479563713074,
          0.09872705489397049,
          0.09804427623748779,
          0.09736644476652145,
          0.09669352322816849,
          0.09602546691894531,
          0.09536228328943253,
          0.09470389038324356,
          0.09405028820037842,
          0.09340144693851471,
          0.09275733679533005,
          0.09211789816617966,
          0.09148313105106354,
          0.0908530130982399,
          0.09022746980190277,
          0.08960653096437454,
          0.08899012207984924,
          0.08837823569774628,
          0.08777082711458206,
          0.087167888879776,
          0.08656937628984451,
          0.0859752669930458,
          0.0853855311870575,
          0.08480013906955719,
          0.0842190533876419,
          0.08364226669073105,
          0.08306974917650223,
          0.08250145614147186,
          0.08193736523389816,
          0.08137746900320053,
          0.08082171529531479,
          0.08027008920907974,
          0.079722560942173,
          0.07917910069227219,
          0.0786396935582161,
          0.07810430228710175,
          0.07757291197776794,
          0.0770454853773117,
          0.07652200013399124,
          0.07600243389606476,
          0.07548675686120987,
          0.07497493922710419,
          0.07446696609258652,
          0.07396280765533447,
          0.07346244156360626,
          0.0729658380150795,
          0.07247297465801239,
          0.07198382914066315,
          0.07149837911128998,
          0.0710165947675705,
          0.07053844630718231,
          0.07006392627954483,
          0.06959299743175507,
          0.06912564486265182,
          0.06866183876991272,
          0.06820155680179596,
          0.06774478405714035,
          0.0672914907336235,
          0.06684163957834244,
          0.06639523059129715,
          0.06595223397016525,
          0.06551261991262436,
          0.06507638096809387,
          0.0646434798836708,
          0.06421390175819397,
          0.06378761678934097,
          0.06336461007595062,
          0.06294485926628113,
          0.0625283345580101,
          0.062115032225847244,
          0.06170492246747017,
          0.06129797548055649,
          0.060894180089235306,
          0.060493506491184235,
          0.06009593978524208,
          0.05970146507024765,
          0.05931004509329796,
          0.05892167612910271,
          0.05853632092475891,
          0.05815397575497627,
          0.057774610817432404,
          0.05739820748567581,
          0.057024747133255005,
          0.05665421113371849,
          0.05628658086061478,
          0.055921826511621475,
          0.05555994063615799,
          0.05520090088248253,
          0.05484467372298241,
          0.05449126288294792,
          0.05414063110947609,
          0.05379277095198631,
          0.0534476637840271,
          0.05310528725385666,
          0.0527656190097332,
          0.05242864042520523,
          0.052094340324401855,
          0.05176268517971039,
          0.05143367499113083,
          0.051107294857501984,
          0.05078350380063057,
          0.05046229436993599,
          0.050143659114837646,
          0.04982757195830345,
          0.049514006823301315,
          0.04920295625925064,
          0.048894401639699936,
          0.048588335514068604,
          0.04828472062945366,
          0.0479835569858551,
          0.047684814780950546,
          0.04738848656415939,
          0.04709455370903015,
          0.04680299386382103,
          0.04651378467679024,
          0.04622692987322807,
          0.045942407101392746,
          0.04566019028425217,
          0.04538026452064514,
          0.045102618634700775,
          0.04482724145054817,
          0.04455410689115524,
          0.044283200055360794,
          0.04401450231671333,
          0.04374802112579346,
          0.043483708053827286,
          0.04322157800197601,
          0.042961593717336655,
          0.04270375147461891,
          0.042448028922080994,
          0.042194414883852005,
          0.041942890733480453,
          0.041693445295095444,
          0.04144606366753578,
          0.041200727224349976,
          0.04095742851495743,
          0.04071614518761635,
          0.04047687351703644,
          0.04023958370089531,
          0.04000427573919296,
          0.039770934730768204,
          0.039539530873298645,
          0.039310064166784286,
          0.039082519710063934,
          0.038856878876686096,
          0.03863312676548958,
          0.03841125965118408,
          0.03819125145673752,
          0.03797309845685959,
          0.0377567820250988,
          0.03754229471087456,
          0.03732961043715477,
          0.03711872547864914,
          0.03690962493419647,
          0.03670229762792587,
          0.03649672493338585,
          0.0362929031252861,
          0.03609081357717514,
          0.03589044138789177,
          0.03569178283214569,
          0.03549481928348541,
          0.03529953211545944,
          0.03510591387748718,
          0.03491395711898804,
          0.03472365066409111,
          0.03453497216105461,
          0.03434791788458824,
          0.03416246920824051,
          0.033978622406721115,
          0.03379635885357857,
          0.03361566364765167,
          0.03343653678894043,
          0.03325895220041275,
          0.03308291360735893,
          0.032908398658037186,
          0.03273539990186691,
          0.03256390988826752,
          0.03239390254020691,
          0.032225385308265686,
          0.03205833211541176,
          0.031892742961645126,
          0.0317285992205143,
          0.03156589716672897,
          0.03140461817383766,
          0.031244756653904915,
          0.031086299568414688,
          0.030929233878850937,
          0.030773553997278214,
          0.030619246885180473,
          0.03046630136668682,
          0.03031470626592636,
          0.030164455994963646,
          0.030015533789992332,
          0.029867932200431824,
          0.029721645638346672,
          0.029576657339930534,
          0.029432959854602814,
          0.029290543869137764,
          0.02914939634501934,
          0.029009511694312096,
          0.028870880603790283,
          0.02873349003493786,
          0.028597332537174225,
          0.02846239134669304,
          0.0283286701887846,
          0.028196146711707115,
          0.028064820915460587,
          0.02793467789888382,
          0.027805710211396217,
          0.027677906677126884,
          0.027551259845495224,
          0.027425767853856087,
          0.027301406487822533,
          0.02717817761003971,
          0.027056073769927025,
          0.02693507820367813,
          0.026815185323357582,
          0.02669639140367508,
          0.02657867781817913,
          0.026462046429514885,
          0.02634648233652115,
          0.026231974363327026,
          0.02611852064728737,
          0.02600611001253128,
          0.025894735008478165,
          0.025784382596611977,
          0.025675054639577866,
          0.02556673437356949,
          0.025459416210651398,
          0.025353090837597847,
          0.02524775080382824,
          0.025143392384052277,
          0.025040002539753914,
          0.024937575682997704,
          0.024836096912622452,
          0.024735568091273308,
          0.024635979905724525,
          0.024537324905395508,
          0.02443959191441536,
          0.024342773482203484,
          0.024246860295534134,
          0.02415185607969761,
          0.024057740345597267,
          0.02396451123058796,
          0.023872165009379387,
          0.023780686780810356,
          0.023690074682235718,
          0.023600321263074875,
          0.02351141907274723,
          0.02342335879802704,
          0.023336132988333702,
          0.023249737918376923,
          0.023164168000221252,
          0.023079408332705498,
          0.022995462641119957,
          0.022912317886948586,
          0.022829968482255936,
          0.02274840883910656,
          0.02266762964427471,
          0.022587627172470093,
          0.022508392110466957,
          0.022429920732975006,
          0.022352207452058792,
          0.02227524109184742,
          0.02219902165234089,
          0.022123536095023155,
          0.02204878255724907,
          0.021974753588438034,
          0.02190144546329975,
          0.021828845143318176,
          0.021756958216428757,
          0.02168576419353485,
          0.02161526493728161,
          0.02154546044766903,
          0.02147633209824562,
          0.02140788361430168,
          0.021340103819966316,
          0.021272990852594376,
          0.021206537261605263,
          0.02114073745906353,
          0.02107558399438858,
          0.021011075004935265,
          0.020947201177477837,
          0.020883960649371147,
          0.02082134410738945,
          0.020759347826242447,
          0.02069796621799469,
          0.02063719742000103,
          0.02057703025639057,
          0.020517462864518166,
          0.020458489656448364,
          0.02040010318160057,
          0.020342299714684486,
          0.02028507925570011,
          0.020228426903486252,
          0.020172344520688057,
          0.02011682465672493,
          0.020061859861016273,
          0.020007451996207237,
          0.019953591749072075,
          0.01990027353167534,
          0.01984749548137188,
          0.0197952501475811,
          0.019743535667657852,
          0.01969234086573124,
          0.01964167132973671,
          0.01959151402115822,
          0.019541865214705467,
          0.019492723047733307,
          0.01944408379495144,
          0.019395940005779266,
          0.01934828795492649,
          0.019301122054457664,
          0.019254444167017937,
          0.019208241254091263,
          0.019162513315677643,
          0.01911725476384163,
          0.01907246746122837,
          0.019028136506676674,
          0.018984263762831688,
          0.018940845504403114,
          0.018897876143455505,
          0.018855351954698563,
          0.018813269212841988,
          0.018771620467305183,
          0.01873040944337845,
          0.018689623102545738,
          0.01864926517009735,
          0.01860932633280754,
          0.01856980472803116,
          0.018530696630477905,
          0.018491996452212334,
          0.018453704193234444,
          0.018415814265608788,
          0.018378322944045067,
          0.018341222777962685,
          0.01830451563000679,
          0.018268194049596786,
          0.018232256174087524,
          0.018196700140833855,
          0.01816151849925518,
          0.018126709386706352,
          0.01809227280318737,
          0.01805819943547249,
          0.018024489283561707,
          0.017991136759519577,
          0.0179581418633461,
          0.017925497144460678,
          0.017893202602863312,
          0.017861254513263702,
          0.017829643562436104,
          0.017798377200961113,
          0.017767442390322685,
          0.01773684285581112,
          0.017706573009490967,
          0.01767662726342678,
          0.01764700561761856,
          0.01761770434677601,
          0.017588719725608826,
          0.017560048028826714,
          0.017531687393784523,
          0.017503637820482254,
          0.01747588813304901,
          0.017448443919420242,
          0.0174212958663702,
          0.017394445836544037,
          0.017367888242006302,
          0.017341621220111847,
          0.017315642908215523,
          0.01728994771838188,
          0.017264533787965775,
          0.0172394011169672,
          0.017214544117450714,
          0.017189959064126015,
          0.017165645956993103,
          0.01714160293340683,
          0.017117824405431747,
          0.017094310373067856,
          0.017071055248379707,
          0.017048057168722153,
          0.017025314271450043,
          0.017002828419208527,
          0.01698058843612671,
          0.01695859804749489,
          0.016936851665377617,
          0.016915349289774895,
          0.016894089058041573,
          0.016873065382242203,
          0.016852276399731636,
          0.016831722110509872,
          0.016811398789286613,
          0.01679130271077156,
          0.016771433874964714,
          0.016751790419220924,
          0.016732368618249893,
          0.016713164746761322,
          0.01669418066740036,
          0.01667540892958641,
          0.01665685325860977,
          0.016638506203889847,
          0.016620367765426636,
          0.01660243608057499,
          0.016584711149334908,
          0.016567185521125793,
          0.016549862921237946,
          0.016532737761735916,
          0.016515808179974556,
          0.016499072313308716,
          0.016482530161738396,
          0.016466179862618446,
          0.01645001396536827,
          0.016434036195278168,
          0.01641824282705784,
          0.016402630135416985,
          0.016387201845645905,
          0.016371948644518852,
          0.016356876119971275,
          0.016341974958777428,
          0.016327250748872757,
          0.016312696039676666,
          0.016298312693834305,
          0.016284095123410225,
          0.016270043328404427,
          0.01625615730881691,
          0.016242433339357376,
          0.016228869557380676,
          0.01621546596288681,
          0.01620221883058548,
          0.016189130023121834,
          0.016176193952560425,
          0.016163412481546402,
          0.01615077815949917,
          0.016138296574354172,
          0.016125962138175964,
          0.016113774850964546,
          0.01610173098742962,
          0.016089830547571182,
          0.016078071668744087,
          0.016066454350948334,
          0.016054973006248474,
          0.016043633222579956,
          0.016032423824071884,
          0.016021352261304855,
          0.016010412946343422,
          0.015999604016542435,
          0.015988923609256744,
          0.01597837544977665,
          0.01596795581281185,
          0.015957657247781754,
          0.015947483479976654,
          0.015937434509396553,
          0.015927506610751152,
          0.01591769978404045,
          0.0159080121666193,
          0.015898441895842552,
          0.015888988971710205,
          0.01587964966893196,
          0.01587042585015297,
          0.01586131565272808,
          0.015852313488721848,
          0.015843424946069717,
          0.015834644436836243,
          0.015825970098376274,
          0.01581740565598011,
          0.015808943659067154,
          0.015800589695572853,
          0.01579233631491661,
          0.015784185379743576,
          0.0157761350274086,
          0.015768185257911682,
          0.015760332345962524,
          0.015752581879496574,
          0.015744922682642937,
          0.01573736034333706,
          0.015729892998933792,
          0.015722518786787987,
          0.015715237706899643,
          0.015708046033978462,
          0.015700945630669594,
          0.01569393463432789,
          0.015687011182308197,
          0.01568017527461052,
          0.015673423185944557,
          0.015666760504245758,
          0.015660179778933525,
          0.015653682872653008,
          0.015647267922759056,
          0.01564093492925167,
          0.015634680166840553,
          0.015628507360816002,
          0.015622412785887718,
          0.015616397373378277,
          0.01561045553535223,
          0.0156045937910676,
          0.015598803758621216,
          0.0155930882319808,
          0.015587449073791504,
          0.015581880696117878,
          0.015576383098959923,
          0.015570956282317638,
          0.01556559931486845,
          0.015560312196612358,
          0.015555094927549362,
          0.015549943782389164,
          0.015544861555099487,
          0.01553984172642231,
          0.015534888952970505,
          0.015530000440776348,
          0.01552517618983984,
          0.01552041620016098,
          0.01551571674644947,
          0.015511080622673035,
          0.015506505034863949,
          0.01550198718905449,
          0.01549752987921238,
          0.01549313310533762,
          0.015488791279494762,
          0.015484509989619255,
          0.015480284579098225,
          0.015476112253963947,
          0.015471997670829296,
          0.015467938035726547,
          0.015463932417333126,
          0.015459978953003883,
          0.015456079505383968,
          0.015452231280505657,
          0.01544843427836895,
          0.015444687567651272,
          0.015440992079675198,
          0.015437345951795578,
          0.015433751046657562,
          0.015430201776325703,
          0.015426700003445148,
          0.015423247590661049,
          0.01541984174400568,
          0.015416480600833893,
          0.015413165092468262,
          0.015409896150231361,
          0.015406670980155468,
          0.015403488650918007,
          0.015400351025164127,
          0.015397254377603531,
          0.015394201502203941,
          0.01539119053632021,
          0.01538822241127491,
          0.01538529247045517,
          0.015382403507828712,
          0.015379554592072964,
          0.015376743860542774,
          0.015373973175883293,
          0.015371240675449371,
          0.015368546359241009,
          0.015365887433290482,
          0.015363268554210663,
          0.01536068320274353,
          0.015358135104179382,
          0.015355623327195644,
          0.015353145077824593,
          0.01535070315003395,
          0.015348294749855995,
          0.015345918945968151,
          0.015343577601015568,
          0.015341267921030521,
          0.015338991768658161,
          0.015336746349930763,
          0.015334534458816051,
          0.015332353301346302,
          0.01533020194619894,
          0.015328084118664265,
          0.015325993299484253,
          0.015323934145271778,
          0.015321902930736542,
          0.015319901518523693,
          0.015317928045988083,
          0.015315983444452286,
          0.015314065851271152,
          0.015312176197767258,
          0.015310314483940601,
          0.015308479778468609,
          0.015306669287383556,
          0.015304885804653168,
          0.015303128398954868,
          0.015301398001611233,
          0.015299689956009388,
          0.015298007987439632,
          0.015296350233256817,
          0.015294715762138367,
          0.015293106436729431,
          0.015291520394384861,
          0.01528995856642723,
          0.015288417227566242,
          0.015286898240447044,
          0.015285403467714787,
          0.015283930115401745,
          0.015282479114830494,
          0.015281048603355885,
          0.015279638580977917,
          0.01527825091034174,
          0.015276881866157055,
          0.015275534242391586,
          0.01527420524507761,
          0.01527289766818285,
          0.015271607786417007,
          0.015270340256392956,
          0.015269088558852673,
          0.01526785921305418,
          0.015266645699739456,
          0.015265448950231075,
          0.015264271758496761,
          0.01526311133056879,
          0.015261970460414886,
          0.015260846354067326,
          0.015259737148880959,
          0.01525864563882351,
          0.015257570892572403,
          0.01525651291012764,
          0.01525546982884407,
          0.015254444442689419,
          0.015253433026373386,
          0.015252436511218548,
          0.015251456759870052,
          0.015250490047037601,
          0.015249541029334068,
          0.015248604118824005,
          0.015247682109475136,
          0.01524677500128746,
          0.01524587906897068,
          0.015245000831782818,
          0.015244134701788425,
          0.015243280678987503,
          0.015242441557347775,
          0.015241614542901516,
          0.015240799635648727,
          0.015239999629557133,
          0.015239210799336433,
          0.015238432213664055,
          0.01523766852915287,
          0.015236916020512581,
          0.015236175619065762,
          0.015235445462167263,
          0.015234727412462234,
          0.015234020538628101,
          0.015233323909342289,
          0.015232640318572521,
          0.0152319660410285,
          0.015231303870677948,
          0.015230650082230568,
          0.015230008400976658,
          0.015229376032948494,
          0.015228752978146076,
          0.01522814016789198,
          0.015227537602186203,
          0.015226945281028748,
          0.015226362273097038,
          0.0152257876470685,
          0.015225219540297985,
          0.015224664472043514,
          0.015224117785692215,
          0.015223579481244087,
          0.015223048627376556,
          0.015222528018057346,
          0.015222014859318733,
          0.015221509151160717,
          0.015221010893583298,
          0.015220523811876774,
          0.015220042318105698
         ]
        },
        {
         "name": "3 - Test Recording",
         "type": "scatter",
         "y": [
          1.043847680091858,
          1.0370433330535889,
          1.0302677154541016,
          1.0235271453857422,
          1.0168250799179077,
          1.0101630687713623,
          1.0035425424575806,
          0.9969643950462341,
          0.9904291033744812,
          0.98393714427948,
          0.9774882197380066,
          0.9710825085639954,
          0.9647197723388672,
          0.9583995938301086,
          0.9521216750144958,
          0.9458855986595154,
          0.9396910071372986,
          0.9335373640060425,
          0.9274241328239441,
          0.9213513135910034,
          0.9153181910514832,
          0.9093243479728699,
          0.9033693075180054,
          0.897453248500824,
          0.8915753364562988,
          0.885735273361206,
          0.8799327611923218,
          0.8741677403450012,
          0.8684396743774414,
          0.8627483248710632,
          0.8570935130119324,
          0.8514748811721802,
          0.8458921313285828,
          0.8403450846672058,
          0.834833562374115,
          0.829357385635376,
          0.8239160180091858,
          0.8185094594955444,
          0.8131372928619385,
          0.8077996969223022,
          0.8024960160255432,
          0.7972261905670166,
          0.7919901013374329,
          0.7867872714996338,
          0.7816178798675537,
          0.7764815092086792,
          0.7713778018951416,
          0.7663067579269409,
          0.761268138885498,
          0.7562617063522339,
          0.7512873411178589,
          0.7463445067405701,
          0.7414334416389465,
          0.7365537881851196,
          0.7317051291465759,
          0.7268877029418945,
          0.7221009135246277,
          0.7173448204994202,
          0.7126191258430481,
          0.7079236507415771,
          0.703258216381073,
          0.6986226439476013,
          0.6940167546272278,
          0.6894403100013733,
          0.6848930716514587,
          0.6803750395774841,
          0.6758859157562256,
          0.6714255809783936,
          0.6669937372207642,
          0.6625902652740479,
          0.6582151055335999,
          0.6538679599761963,
          0.6495487093925476,
          0.6452571153640747,
          0.640993058681488,
          0.6367563605308533,
          0.6325468420982361,
          0.6283643245697021,
          0.6242086887359619,
          0.620079755783081,
          0.6159773468971252,
          0.6119013428688049,
          0.6078514456748962,
          0.603827714920044,
          0.5998297333717346,
          0.5958574414253235,
          0.5919108390808105,
          0.5879896283149719,
          0.5840936303138733,
          0.5802226662635803,
          0.5763767957687378,
          0.5725556015968323,
          0.5687590837478638,
          0.5649870038032532,
          0.5612393021583557,
          0.5575159192085266,
          0.5538164377212524,
          0.5501407980918884,
          0.5464890599250793,
          0.5428608059883118,
          0.5392560362815857,
          0.5356746315956116,
          0.5321162939071655,
          0.5285810828208923,
          0.5250687003135681,
          0.5215791463851929,
          0.5181121230125427,
          0.5146675705909729,
          0.5112453103065491,
          0.5078453421592712,
          0.5044674277305603,
          0.5011113882064819,
          0.49777713418006897,
          0.49446454644203186,
          0.4911734461784363,
          0.48790380358695984,
          0.48465532064437866,
          0.48142796754837036,
          0.478221595287323,
          0.4750361442565918,
          0.47187143564224243,
          0.4687272012233734,
          0.4656035006046295,
          0.4625001847743988,
          0.4594170153141022,
          0.456354022026062,
          0.45331093668937683,
          0.45028772950172424,
          0.4472842514514923,
          0.4443003237247467,
          0.44133588671684265,
          0.4383908212184906,
          0.43546491861343384,
          0.43255820870399475,
          0.42967042326927185,
          0.4268015921115875,
          0.4239514172077179,
          0.4211199879646301,
          0.41830700635910034,
          0.41551244258880615,
          0.41273611783981323,
          0.4099779725074768,
          0.4072379469871521,
          0.40451580286026,
          0.40181151032447815,
          0.3991249203681946,
          0.3964560031890869,
          0.39380455017089844,
          0.3911704421043396,
          0.38855358958244324,
          0.38595399260520935,
          0.38337135314941406,
          0.38080570101737976,
          0.3782569169998169,
          0.37572482228279114,
          0.3732093572616577,
          0.37071046233177185,
          0.36822789907455444,
          0.36576172709465027,
          0.3633117079734802,
          0.3608778119087219,
          0.3584599196910858,
          0.35605791211128235,
          0.35367169976234436,
          0.3513012230396271,
          0.34894630312919617,
          0.346606969833374,
          0.34428295493125916,
          0.34197431802749634,
          0.33968082070350647,
          0.33740243315696716,
          0.33513906598091125,
          0.3328905999660492,
          0.3306570053100586,
          0.3284381031990051,
          0.326233834028244,
          0.3240440785884857,
          0.32186877727508545,
          0.31970787048339844,
          0.31756117939949036,
          0.3154287338256836,
          0.31331029534339905,
          0.3112058937549591,
          0.30911535024642944,
          0.30703866481781006,
          0.3049756586551666,
          0.30292630195617676,
          0.3008905053138733,
          0.29886817932128906,
          0.2968592047691345,
          0.2948635518550873,
          0.2928811311721802,
          0.29091179370880127,
          0.2889555096626282,
          0.28701215982437134,
          0.2850817143917084,
          0.28316405415534973,
          0.28125911951065063,
          0.27936679124832153,
          0.27748703956604004,
          0.275619775056839,
          0.27376487851142883,
          0.2719222605228424,
          0.27009186148643494,
          0.26827365159988403,
          0.26646748185157776,
          0.2646733224391937,
          0.26289111375808716,
          0.2611207365989685,
          0.259362131357193,
          0.25761523842811584,
          0.2558799386024475,
          0.2541562020778656,
          0.25244393944740295,
          0.2507430911064148,
          0.24905356764793396,
          0.24737529456615448,
          0.24570822715759277,
          0.24405226111412048,
          0.24240738153457642,
          0.24077342450618744,
          0.23915037512779236,
          0.2375381886959076,
          0.2359367311000824,
          0.23434600234031677,
          0.23276594281196594,
          0.23119640350341797,
          0.22963736951351166,
          0.22808875143527985,
          0.22655050456523895,
          0.2250225841999054,
          0.22350485622882843,
          0.22199733555316925,
          0.22049987316131592,
          0.21901249885559082,
          0.2175350934267044,
          0.2160675972700119,
          0.21460993587970734,
          0.21316209435462952,
          0.21172398328781128,
          0.21029551327228546,
          0.20887668430805206,
          0.20746736228466034,
          0.2060675472021103,
          0.20467716455459595,
          0.20329613983631134,
          0.2019244134426117,
          0.20056195557117462,
          0.19920870661735535,
          0.19786454737186432,
          0.19652949273586273,
          0.19520346820354462,
          0.19388636946678162,
          0.19257821142673492,
          0.1912788599729538,
          0.18998831510543823,
          0.18870653212070465,
          0.1874334216117859,
          0.18616895377635956,
          0.1849130243062973,
          0.18366564810276031,
          0.18242672085762024,
          0.18119622766971588,
          0.17997410893440247,
          0.17876026034355164,
          0.1775546818971634,
          0.17635732889175415,
          0.17516812682151794,
          0.17398701608181,
          0.17281395196914673,
          0.17164890468120575,
          0.1704917997121811,
          0.16934260725975037,
          0.1682012677192688,
          0.16706769168376923,
          0.16594192385673523,
          0.16482384502887726,
          0.16371344029903412,
          0.16261063516139984,
          0.16151538491249084,
          0.16042765974998474,
          0.15934740006923676,
          0.1582745462656021,
          0.15720906853675842,
          0.1561509221792221,
          0.1551000475883484,
          0.15405644476413727,
          0.1530199944972992,
          0.15199071168899536,
          0.1509684920310974,
          0.14995338022708893,
          0.14894524216651917,
          0.14794409275054932,
          0.1469498723745346,
          0.14596250653266907,
          0.1449820101261139,
          0.1440083384513855,
          0.14304137229919434,
          0.1420811265707016,
          0.1411275416612625,
          0.14018060266971588,
          0.13924024999141693,
          0.1383064240217209,
          0.13737908005714417,
          0.13645823299884796,
          0.1355438083410263,
          0.13463574647903442,
          0.13373403251171112,
          0.13283862173557281,
          0.13194946944713593,
          0.13106654584407806,
          0.13018979132175446,
          0.1293191909790039,
          0.12845470011234283,
          0.12759625911712646,
          0.1267438679933548,
          0.12589745223522186,
          0.12505702674388885,
          0.12422247976064682,
          0.12339384108781815,
          0.12257102131843567,
          0.1217539981007576,
          0.12094276398420334,
          0.12013725191354752,
          0.11933743953704834,
          0.11854328960180283,
          0.11775476485490799,
          0.11697182804346085,
          0.11619443446397781,
          0.11542258411645889,
          0.11465618759393692,
          0.1138952448964119,
          0.11313972622156143,
          0.11238960176706314,
          0.11164479702711105,
          0.11090532690286636,
          0.1101711168885231,
          0.10944215208292007,
          0.1087184026837349,
          0.10799984633922577,
          0.10728642344474792,
          0.10657810419797897,
          0.10587489604949951,
          0.10517669469118118,
          0.10448355227708817,
          0.1037953719496727,
          0.10311213880777359,
          0.10243384540081024,
          0.10176041722297668,
          0.10109186172485352,
          0.10042814165353775,
          0.0997692197561264,
          0.0991150438785553,
          0.09846560657024384,
          0.09782089293003082,
          0.09718085080385208,
          0.09654544293880463,
          0.09591465443372726,
          0.09528844803571701,
          0.09466681629419327,
          0.09404969215393066,
          0.0934370830655098,
          0.09282893687486649,
          0.09222520887851715,
          0.09162592142820358,
          0.091031014919281,
          0.09044046700000763,
          0.08985423296689987,
          0.08927230536937714,
          0.08869464695453644,
          0.08812124282121658,
          0.08755204826593399,
          0.08698705583810806,
          0.08642620593309402,
          0.08586949855089188,
          0.08531688898801804,
          0.0847683846950531,
          0.0842239260673523,
          0.08368350565433502,
          0.0831470713019371,
          0.08261462301015854,
          0.08208613097667694,
          0.08156156539916992,
          0.0810408964753151,
          0.08052410185337067,
          0.08001116663217545,
          0.07950203865766525,
          0.07899672538042068,
          0.07849517464637756,
          0.07799737900495529,
          0.07750331610441208,
          0.07701294869184494,
          0.07652626186609268,
          0.07604321837425232,
          0.07556381076574326,
          0.0750880092382431,
          0.07461578398942947,
          0.07414712756872177,
          0.07368198782205582,
          0.0732203796505928,
          0.07276225835084915,
          0.07230758666992188,
          0.07185636460781097,
          0.07140856236219406,
          0.07096415758132935,
          0.07052312791347504,
          0.07008544355630875,
          0.06965109705924988,
          0.06922004371881485,
          0.06879229843616486,
          0.06836780905723572,
          0.06794655323028564,
          0.06752852350473404,
          0.06711369007825851,
          0.06670203804969788,
          0.06629354506731033,
          0.0658881738781929,
          0.06548593938350677,
          0.06508678197860718,
          0.06469070166349411,
          0.06429767608642578,
          0.0639076754450798,
          0.06352069228887558,
          0.06313669681549072,
          0.06275567412376404,
          0.06237759813666344,
          0.06200246512889862,
          0.061630237847566605,
          0.0612608976662159,
          0.060894425958395004,
          0.06053081899881363,
          0.06017003580927849,
          0.05981207266449928,
          0.05945690721273422,
          0.05910450965166092,
          0.058754872530698776,
          0.0584079809486866,
          0.058063801378011703,
          0.057722318917512894,
          0.05738352611660957,
          0.05704739689826965,
          0.05671391636133194,
          0.05638305842876434,
          0.056054819375276566,
          0.05572916194796562,
          0.05540608614683151,
          0.055085569620132446,
          0.054767586290836334,
          0.05445212125778198,
          0.054139163345098495,
          0.05382870137691498,
          0.05352070555090904,
          0.053215157240629196,
          0.05291204899549484,
          0.05261135473847389,
          0.05231307074427605,
          0.05201716721057892,
          0.05172363296151161,
          0.05143244192004204,
          0.05114360153675079,
          0.05085708200931549,
          0.05057285726070404,
          0.050290923565626144,
          0.05001126602292061,
          0.049733858555555344,
          0.049458689987659454,
          0.04918574169278145,
          0.04891500622034073,
          0.0486464649438858,
          0.04838009923696518,
          0.04811590537428856,
          0.047853849828243256,
          0.04759392887353897,
          0.047336120158433914,
          0.04708041995763779,
          0.0468268021941185,
          0.046575263142585754,
          0.04632577672600746,
          0.046078331768512726,
          0.04583291709423065,
          0.045589517802000046,
          0.045348115265369415,
          0.04510870203375816,
          0.0448712594807148,
          0.04463576897978783,
          0.04440222680568695,
          0.04417061060667038,
          0.04394090548157692,
          0.04371310770511627,
          0.043487198650836945,
          0.043263163417577744,
          0.043040987104177475,
          0.042820658534765244,
          0.042602162808179855,
          0.042385492473840714,
          0.04217062145471573,
          0.0419575534760952,
          0.04174626246094704,
          0.04153674095869064,
          0.041328974068164825,
          0.04112295061349869,
          0.040918659418821335,
          0.04071608558297157,
          0.040515217930078506,
          0.04031603783369064,
          0.040118537843227386,
          0.03992271050810814,
          0.03972853347659111,
          0.039536003023386,
          0.03934510797262192,
          0.03915582597255707,
          0.038968153297901154,
          0.03878207504749298,
          0.038597580045461655,
          0.03841466084122658,
          0.03823329880833626,
          0.0380534864962101,
          0.037875209003686905,
          0.03769846260547638,
          0.03752323240041733,
          0.037349503487348557,
          0.03717726096510887,
          0.03700650483369827,
          0.03683721274137497,
          0.03666938841342926,
          0.03650300204753876,
          0.03633805736899376,
          0.03617453947663307,
          0.0360124334692955,
          0.03585173934698105,
          0.03569243475794792,
          0.03553451597690582,
          0.03537796437740326,
          0.03522277995944023,
          0.035068947821855545,
          0.034916460514068604,
          0.03476530313491821,
          0.034615468233823776,
          0.0344669409096241,
          0.034319717437028885,
          0.034173786640167236,
          0.03402913734316826,
          0.033885758370161057,
          0.03374364227056503,
          0.03360278159379959,
          0.033463168889284134,
          0.03332477807998657,
          0.0331876203417778,
          0.03305166959762573,
          0.03291692957282066,
          0.0327833890914917,
          0.03265102952718735,
          0.03251984715461731,
          0.03238983824849129,
          0.03226098790764809,
          0.03213328495621681,
          0.03200672194361687,
          0.031881291419267654,
          0.031756989657878876,
          0.03163379803299904,
          0.031511712819337845,
          0.0313907228410244,
          0.0312708243727684,
          0.03115200623869896,
          0.031034262850880623,
          0.030917581170797348,
          0.030801953747868538,
          0.030687374994158745,
          0.030573828145861626,
          0.03046131320297718,
          0.03034982457756996,
          0.030239347368478775,
          0.030129874125123024,
          0.03002140298485756,
          0.029913919046521187,
          0.02980741485953331,
          0.02970189042389393,
          0.029597323387861252,
          0.029493724927306175,
          0.02939107082784176,
          0.029289359226822853,
          0.02918858639895916,
          0.029088743031024933,
          0.028989819809794426,
          0.028891809284687042,
          0.028794702142477036,
          0.028698496520519257,
          0.02860317751765251,
          0.02850874699652195,
          0.028415190055966377,
          0.028322506695985794,
          0.028230685740709305,
          0.028139719739556313,
          0.02804959937930107,
          0.02796032279729843,
          0.027871880680322647,
          0.02778426557779312,
          0.027697470039129257,
          0.027611492201685905,
          0.02752632088959217,
          0.027441950514912605,
          0.02735837921500206,
          0.02727559208869934,
          0.0271935872733593,
          0.02711234986782074,
          0.02703188732266426,
          0.026952188462018967,
          0.02687324583530426,
          0.026795046404004097,
          0.026717593893408775,
          0.0266408808529377,
          0.026564892381429672,
          0.026489634066820145,
          0.026415089145302773,
          0.026341263204813004,
          0.026268139481544495,
          0.026195719838142395,
          0.02612399309873581,
          0.02605295367538929,
          0.025982597842812538,
          0.025912920013070107,
          0.025843916460871696,
          0.025775572285056114,
          0.025707896798849106,
          0.02564086951315403,
          0.025574490427970886,
          0.025508763268589973,
          0.0254436656832695,
          0.025379208847880363,
          0.02531537227332592,
          0.02525215782225132,
          0.025189559906721115,
          0.025127574801445007,
          0.02506619319319725,
          0.025005416944622993,
          0.024945231154561043,
          0.024885637685656548,
          0.02482663094997406,
          0.024768203496932983,
          0.02471034973859787,
          0.02465306967496872,
          0.024596350267529488,
          0.024540193378925323,
          0.02448459155857563,
          0.02442953921854496,
          0.024375032633543015,
          0.024321068078279495,
          0.024267639964818954,
          0.024214744567871094,
          0.024162376299500465,
          0.024110527709126472,
          0.024059196934103966,
          0.024008380249142647,
          0.02395807020366192,
          0.02390826679766178,
          0.023858964443206787,
          0.02381015196442604,
          0.02376183122396469,
          0.02371400035917759,
          0.02366664819419384,
          0.023619776591658592,
          0.02357337437570095,
          0.023527445271611214,
          0.023481976240873337,
          0.023436974734067917,
          0.02339242585003376,
          0.023348329588770866,
          0.023304680362343788,
          0.023261478170752525,
          0.02321871556341648,
          0.023176392540335655,
          0.023134497925639153,
          0.023093033581972122,
          0.023051992058753967,
          0.023011377081274986,
          0.022971171885728836,
          0.022931382060050964,
          0.022892005741596222,
          0.022853031754493713,
          0.02281446009874344,
          0.0227762870490551,
          0.022738508880138397,
          0.022701121866703033,
          0.02266411855816841,
          0.02262750267982483,
          0.02259126678109169,
          0.022555407136678696,
          0.022519920021295547,
          0.022484807297587395,
          0.022450054064393044,
          0.02241566777229309,
          0.02238164283335209,
          0.02234797179698944,
          0.022314652800559998,
          0.02228168584406376,
          0.022249065339565277,
          0.022216785699129105,
          0.02218484692275524,
          0.022153247147798538,
          0.02212197706103325,
          0.022091038525104523,
          0.02206042967736721,
          0.022030143067240715,
          0.022000178694725037,
          0.021970532834529877,
          0.021941201761364937,
          0.021912183612585068,
          0.02188347466289997,
          0.021855071187019348,
          0.0218269694596529,
          0.021799171343445778,
          0.021771667525172234,
          0.021744461730122566,
          0.02171754650771618,
          0.021690918132662773,
          0.021664578467607498,
          0.021638520061969757,
          0.02161274664103985,
          0.021587248891592026,
          0.02156202681362629,
          0.02153707481920719,
          0.02151239663362503,
          0.02148798480629921,
          0.02146383747458458,
          0.02143995463848114,
          0.021416328847408295,
          0.021392961964011192,
          0.021369850262999535,
          0.021346988156437874,
          0.02132437750697136,
          0.02130201645195484,
          0.021279895678162575,
          0.021258020773530006,
          0.02123638428747654,
          0.021214986220002174,
          0.02119382657110691,
          0.021172896027565002,
          0.0211521964520216,
          0.0211317278444767,
          0.02111148275434971,
          0.021091463044285774,
          0.0210716649889946,
          0.021052086725831032,
          0.021032726392149925,
          0.021013576537370682,
          0.020994646474719048,
          0.020975925028324127,
          0.02095741219818592,
          0.02093910425901413,
          0.020921001210808754,
          0.020903103053569794,
          0.0208854041993618,
          0.020867902785539627,
          0.02085060067474842,
          0.020833492279052734,
          0.02081657573580742,
          0.020799849182367325,
          0.020783310756087303,
          0.020766960456967354,
          0.02075079455971718,
          0.020734811201691628,
          0.020719008520245552,
          0.020703386515378952,
          0.02068793959915638,
          0.020672669634222984,
          0.020657572895288467,
          0.02064264751970768,
          0.02062789537012577,
          0.020613310858607292,
          0.020598890259861946,
          0.02058463729918003,
          0.020570548251271248,
          0.02055661752820015,
          0.020542848855257034,
          0.020529236644506454,
          0.02051578462123871,
          0.02050248347222805,
          0.020489338785409927,
          0.020476343110203743,
          0.020463500171899796,
          0.020450804382562637,
          0.020438257604837418,
          0.02042585238814354,
          0.020413590595126152,
          0.020401477813720703,
          0.020389499142766,
          0.020377663895487785,
          0.020365966483950615,
          0.02035440318286419,
          0.020342973992228508,
          0.02033168263733387,
          0.020320521667599678,
          0.020309489220380783,
          0.020298590883612633,
          0.02028781548142433,
          0.020277168601751328,
          0.020266646519303322,
          0.020256249234080315,
          0.020245974883437157,
          0.02023581974208355,
          0.020225785672664642,
          0.020215872675180435,
          0.02020607329905033,
          0.020196393132209778,
          0.020186826586723328,
          0.02017737179994583,
          0.02016802877187729,
          0.02015879936516285,
          0.020149679854512215,
          0.020140670239925385,
          0.02013176493346691,
          0.020122967660427094,
          0.020114276558160782,
          0.02010568603873253,
          0.02009720355272293,
          0.020088817924261093,
          0.020080536603927612,
          0.020072350278496742,
          0.02006426639854908,
          0.02005627565085888,
          0.020048387348651886,
          0.020040588453412056,
          0.020032890141010284,
          0.020025277510285378,
          0.02001776173710823,
          0.02001033164560795,
          0.020002996549010277,
          0.019995752722024918,
          0.019988590851426125,
          0.019981520250439644,
          0.01997453346848488,
          0.019967634230852127,
          0.019960815086960793,
          0.019954083487391472,
          0.01994743011891842,
          0.019940858706831932,
          0.01993436925113201,
          0.01992795616388321,
          0.019921626895666122,
          0.019915372133255005,
          0.019909191876649857,
          0.019903091713786125,
          0.019897064194083214,
          0.019891109317541122,
          0.0198852326720953,
          0.019879423081874847,
          0.019873687997460365,
          0.019868021830916405,
          0.019862428307533264,
          0.019856901839375496,
          0.01985144428908825,
          0.019846055656671524,
          0.01984073407948017,
          0.019835475832223892,
          0.019830284640192986,
          0.019825156778097153,
          0.019820092245936394,
          0.019815092906355858,
          0.019810153171420097,
          0.01980527676641941,
          0.01980046182870865,
          0.019795704632997513,
          0.0197910089045763,
          0.019786370918154716,
          0.019781790673732758,
          0.019777268171310425,
          0.01977280154824257,
          0.01976839080452919,
          0.019764035940170288,
          0.019759735092520714,
          0.019755490124225616,
          0.019751297309994698,
          0.019747158512473106,
          0.019743066281080246,
          0.01973903179168701,
          0.019735043868422508,
          0.019731109961867332,
          0.019727224484086037,
          0.01972338743507862,
          0.019719598814845085,
          0.01971585676074028,
          0.019712163135409355,
          0.01970851793885231,
          0.019704917445778847,
          0.019701361656188965,
          0.019697850570082664,
          0.019694382324814796,
          0.01969096250832081,
          0.019687583670020103,
          0.01968424767255783,
          0.01968095451593399,
          0.019677702337503433,
          0.01967449113726616,
          0.019671320915222168,
          0.01966819167137146,
          0.019665101543068886,
          0.019662050530314445,
          0.01965904049575329,
          0.019656063988804817,
          0.01965313032269478,
          0.019650232046842575,
          0.019647369161248207,
          0.019644543528556824,
          0.019641757011413574,
          0.019639000296592712,
          0.019636284559965134,
          0.019633598625659943,
          0.019630951806902885,
          0.019628332927823067,
          0.019625753164291382,
          0.019623201340436935,
          0.019620686769485474,
          0.0196182020008564,
          0.019615748897194862,
          0.019613325595855713,
          0.01961093582212925,
          0.019608573988080025,
          0.019606241956353188,
          0.019603939726948738,
          0.019601671025156975,
          0.01959943026304245,
          0.019597213715314865,
          0.019595026969909668,
          0.019592871889472008,
          0.01959073916077614,
          0.019588638097047806,
          0.019586561247706413,
          0.01958451047539711,
          0.019582487642765045,
          0.01958048716187477,
          0.019578514620661736,
          0.01957657001912594,
          0.019574645906686783,
          0.019572747871279716,
          0.01957087405025959,
          0.019569024443626404,
          0.019567197188735008,
          0.019565394148230553,
          0.01956361159682274,
          0.019561855122447014,
          0.01956011727452278,
          0.019558405503630638,
          0.019556712359189987,
          0.019555043429136276,
          0.019553393125534058,
          0.01955176517367363,
          0.019550155848264694,
          0.01954856887459755,
          0.019547002390027046,
          0.019545452669262886,
          0.019543925300240517,
          0.01954241655766964,
          0.019540926441550255,
          0.019539454951882362,
          0.019538002088665962,
          0.019536567851901054,
          0.01953515037894249,
          0.019533753395080566,
          0.019532373175024986,
          0.01953100971877575,
          0.019529661163687706,
          0.019528331235051155,
          0.019527016207575798,
          0.019525719806551933,
          0.01952444016933441,
          0.019523175433278084,
          0.01952192559838295,
          0.01952069252729416,
          0.019519474357366562,
          0.01951827108860016,
          0.0195170808583498,
          0.019515909254550934,
          0.019514746963977814,
          0.019513601437211037,
          0.019512472674250603,
          0.019511353224515915,
          0.01951025053858757,
          0.01950916089117527,
          0.019508084282279015,
          0.019507022574543953,
          0.019505970180034637,
          0.019504934549331665,
          0.019503910094499588,
          0.019502896815538406,
          0.01950189657509327,
          0.019500909373164177,
          0.01949993148446083,
          0.01949896663427353,
          0.01949801668524742,
          0.01949707604944706,
          0.019496144726872444,
          0.019495224580168724,
          0.01949431747198105,
          0.01949341967701912,
          0.019492533057928085,
          0.019491659477353096,
          0.019490791484713554,
          0.019489934667944908,
          0.019489090889692307,
          0.01948825642466545,
          0.019487431272864342
         ]
        },
        {
         "name": "3 - Train Recording",
         "type": "scatter",
         "y": [
          1.0331549644470215,
          1.0263488292694092,
          1.0195717811584473,
          1.0128298997879028,
          1.0061264038085938,
          0.9994632601737976,
          0.9928417205810547,
          0.9862629175186157,
          0.9797270894050598,
          0.9732348918914795,
          0.96678626537323,
          0.9603812098503113,
          0.9540193676948547,
          0.9477006196975708,
          0.9414246678352356,
          0.9351908564567566,
          0.9289990067481995,
          0.9228487014770508,
          0.9167393445968628,
          0.9106705188751221,
          0.9046420454978943,
          0.8986533284187317,
          0.8927040100097656,
          0.886793851852417,
          0.8809223175048828,
          0.8750892877578735,
          0.8692941665649414,
          0.8635368943214417,
          0.8578170537948608,
          0.8521344065666199,
          0.8464885354042053,
          0.8408794403076172,
          0.8353066444396973,
          0.8297699689865112,
          0.82426917552948,
          0.8188039660453796,
          0.8133742213249207,
          0.8079794645309448,
          0.8026196956634521,
          0.7972944974899292,
          0.792003870010376,
          0.7867473363876343,
          0.7815248966217041,
          0.776336133480072,
          0.771181046962738,
          0.7660592794418335,
          0.7609707117080688,
          0.7559148073196411,
          0.7508918046951294,
          0.7459012866020203,
          0.7409430742263794,
          0.7360168695449829,
          0.7311225533485413,
          0.7262599468231201,
          0.7214287519454956,
          0.7166287899017334,
          0.7118600010871887,
          0.7071219682693481,
          0.7024146914482117,
          0.6977378726005554,
          0.6930912733078003,
          0.6884748339653015,
          0.6838881969451904,
          0.6793313026428223,
          0.6748039126396179,
          0.6703058481216431,
          0.6658369898796082,
          0.6613969802856445,
          0.6569858193397522,
          0.6526031494140625,
          0.6482489705085754,
          0.6439229846000671,
          0.6396251320838928,
          0.6353551149368286,
          0.6311126947402954,
          0.626897931098938,
          0.6227104663848877,
          0.618550181388855,
          0.6144168972969055,
          0.610310435295105,
          0.6062307357788086,
          0.6021775007247925,
          0.5981505513191223,
          0.5941497683525085,
          0.5901750326156616,
          0.5862261056900024,
          0.5823028683662415,
          0.5784051418304443,
          0.5745327472686768,
          0.5706856846809387,
          0.5668635368347168,
          0.5630664229393005,
          0.5592939257621765,
          0.5555460453033447,
          0.5518226027488708,
          0.5481234192848206,
          0.5444484353065491,
          0.5407972931861877,
          0.5371700525283813,
          0.5335664749145508,
          0.5299863815307617,
          0.5264297723770142,
          0.5228962302207947,
          0.5193859338760376,
          0.5158984661102295,
          0.5124338269233704,
          0.5089918971061707,
          0.5055724382400513,
          0.5021753907203674,
          0.4988005757331848,
          0.4954477846622467,
          0.4921170175075531,
          0.4888080358505249,
          0.48552072048187256,
          0.4822549521923065,
          0.47901061177253723,
          0.47578758001327515,
          0.47258561849594116,
          0.4694046378135681,
          0.4662446081638336,
          0.4631052613258362,
          0.45998647809028625,
          0.45688825845718384,
          0.4538103938102722,
          0.45075273513793945,
          0.4477151036262512,
          0.4446975290775299,
          0.441699743270874,
          0.4387217164039612,
          0.4357632100582123,
          0.43282419443130493,
          0.4299045205116272,
          0.42700403928756714,
          0.4241226613521576,
          0.4212602972984314,
          0.41841673851013184,
          0.4155919551849365,
          0.41278573870658875,
          0.4099980890750885,
          0.4072287380695343,
          0.40447765588760376,
          0.4017447233200073,
          0.39902979135513306,
          0.3963328003883362,
          0.39365360140800476,
          0.39099207520484924,
          0.38834813237190247,
          0.3857216536998749,
          0.38311249017715454,
          0.38052064180374146,
          0.37794581055641174,
          0.3753879964351654,
          0.3728471100330353,
          0.3703230619430542,
          0.36781564354896545,
          0.36532479524612427,
          0.36285048723220825,
          0.3603924512863159,
          0.35795074701309204,
          0.3555251657962799,
          0.35311561822891235,
          0.3507221043109894,
          0.3483443558216095,
          0.3459824025630951,
          0.34363603591918945,
          0.34130528569221497,
          0.3389899432659149,
          0.33668991923332214,
          0.33440515398979187,
          0.3321355879306793,
          0.3298810124397278,
          0.3276413679122925,
          0.32541656494140625,
          0.3232066035270691,
          0.3210112750530243,
          0.3188304901123047,
          0.3166641592979431,
          0.3145122528076172,
          0.3123745918273926,
          0.3102511465549469,
          0.3081418573856354,
          0.3060465455055237,
          0.30396515130996704,
          0.3018975853919983,
          0.29984375834465027,
          0.2978036105632782,
          0.2957770526409149,
          0.2937639057636261,
          0.29176419973373413,
          0.28977781534194946,
          0.28780460357666016,
          0.2858445942401886,
          0.28389760851860046,
          0.2819635570049286,
          0.2800424098968506,
          0.2781340777873993,
          0.27623847126960754,
          0.2743555009365082,
          0.2724851071834564,
          0.2706271708011627,
          0.2687816321849823,
          0.266948401927948,
          0.26512739062309265,
          0.26331859827041626,
          0.2615218162536621,
          0.2597370743751526,
          0.25796425342559814,
          0.256203293800354,
          0.2544540762901306,
          0.2527165114879608,
          0.25099068880081177,
          0.2492763251066208,
          0.24757346510887146,
          0.24588197469711304,
          0.2442018836736679,
          0.24253299832344055,
          0.24087533354759216,
          0.239228755235672,
          0.23759323358535767,
          0.2359686940908432,
          0.23435503244400024,
          0.23275218904018402,
          0.23116010427474976,
          0.22957874834537506,
          0.2280079871416092,
          0.22644782066345215,
          0.22489811480045319,
          0.2233588546514511,
          0.22182992100715637,
          0.22031129896640778,
          0.21880292892456055,
          0.21730466187000275,
          0.21581651270389557,
          0.21433842182159424,
          0.2128702700138092,
          0.21141204237937927,
          0.2099636197090149,
          0.20852501690387726,
          0.20709611475467682,
          0.2056768834590912,
          0.2042672485113144,
          0.20286712050437927,
          0.20147649943828583,
          0.2000952512025833,
          0.19872340559959412,
          0.1973608434200287,
          0.19600749015808105,
          0.19466330111026764,
          0.19332830607891083,
          0.1920023262500763,
          0.19068536162376404,
          0.1893773376941681,
          0.18807819485664368,
          0.18678788840770721,
          0.18550637364387512,
          0.18423357605934143,
          0.18296942114830017,
          0.18171393871307373,
          0.18046697974205017,
          0.1792285144329071,
          0.17799852788448334,
          0.1767769455909729,
          0.17556367814540863,
          0.17435871064662933,
          0.17316201329231262,
          0.17197346687316895,
          0.1707930713891983,
          0.16962076723575592,
          0.16845650970935822,
          0.16730020940303802,
          0.16615185141563416,
          0.16501139104366302,
          0.16387876868247986,
          0.1627539098262787,
          0.16163679957389832,
          0.16052739322185516,
          0.15942561626434326,
          0.15833143889904022,
          0.15724478662014008,
          0.15616564452648163,
          0.1550939381122589,
          0.15402963757514954,
          0.15297271311283112,
          0.1519230604171753,
          0.15088070929050446,
          0.14984555542469025,
          0.14881755411624908,
          0.14779669046401978,
          0.14678291976451874,
          0.14577616751194,
          0.14477641880512238,
          0.14378362894058228,
          0.14279773831367493,
          0.14181868731975555,
          0.14084647595882416,
          0.13988104462623596,
          0.13892236351966858,
          0.13797034323215485,
          0.13702499866485596,
          0.13608622550964355,
          0.13515403866767883,
          0.13422836363315582,
          0.13330920040607452,
          0.13239642977714539,
          0.1314900815486908,
          0.13059009611606598,
          0.12969641387462616,
          0.12880904972553253,
          0.12792789936065674,
          0.12705296277999878,
          0.12618416547775269,
          0.12532150745391846,
          0.12446492910385132,
          0.12361440062522888,
          0.12276988476514816,
          0.12193132936954498,
          0.12109871953725815,
          0.12027199566364288,
          0.119451142847538,
          0.1186361014842987,
          0.11782684177160263,
          0.11702333390712738,
          0.11622551828622818,
          0.11543339490890503,
          0.11464688926935196,
          0.11386602371931076,
          0.11309068650007248,
          0.1123209148645401,
          0.11155661195516586,
          0.11079778522253036,
          0.11004436761140823,
          0.10929635167121887,
          0.10855370759963989,
          0.10781638324260712,
          0.10708434879779816,
          0.10635756701231003,
          0.10563598573207855,
          0.10491961985826492,
          0.10420840978622437,
          0.10350232571363449,
          0.10280131548643112,
          0.10210538655519485,
          0.10141446441411972,
          0.10072854161262512,
          0.10004758834838867,
          0.09937155246734619,
          0.09870043396949768,
          0.09803415834903717,
          0.09737273305654526,
          0.09671611338853836,
          0.0960642546415329,
          0.09541715681552887,
          0.0947747677564621,
          0.0941370502114296,
          0.09350399672985077,
          0.09287556260824203,
          0.0922517254948616,
          0.09163244813680649,
          0.0910177081823349,
          0.09040746092796326,
          0.08980169892311096,
          0.08920039236545563,
          0.08860349655151367,
          0.08801097422838211,
          0.08742283284664154,
          0.08683899790048599,
          0.08625949919223785,
          0.08568426221609116,
          0.0851132869720459,
          0.0845465138554573,
          0.08398395776748657,
          0.08342554420232773,
          0.08287128806114197,
          0.08232113718986511,
          0.08177506923675537,
          0.08123306930065155,
          0.08069509267807007,
          0.08016112446784973,
          0.07963114231824875,
          0.07910510152578354,
          0.0785830020904541,
          0.07806480675935745,
          0.07755047082901001,
          0.07704000920057297,
          0.07653336971998215,
          0.07603051513433456,
          0.07553144544363022,
          0.07503613084554672,
          0.07454454898834229,
          0.07405665516853333,
          0.07357244938611984,
          0.07309190183877945,
          0.07261496037244797,
          0.07214165478944778,
          0.07167191058397293,
          0.071205735206604,
          0.07074308395385742,
          0.07028395682573318,
          0.06982829421758652,
          0.06937612593173981,
          0.06892738491296768,
          0.06848206371068954,
          0.0680401399731636,
          0.06760159134864807,
          0.06716638803482056,
          0.06673451513051987,
          0.06630594283342361,
          0.0658806636929512,
          0.06545863300561905,
          0.06503986567258835,
          0.06462430953979492,
          0.06421194970607758,
          0.06380274891853333,
          0.06339672207832336,
          0.06299381703138351,
          0.06259402632713318,
          0.062197331339120865,
          0.06180370971560478,
          0.061413127928972244,
          0.06102558225393295,
          0.06064103916287422,
          0.060259487479925156,
          0.059880904853343964,
          0.059505265206098557,
          0.05913254991173744,
          0.05876275151968002,
          0.05839584395289421,
          0.05803179740905762,
          0.05767059698700905,
          0.05731223523616791,
          0.05695667862892151,
          0.05660391226410866,
          0.05625391751527786,
          0.05590667203068733,
          0.05556216463446617,
          0.055220380425453186,
          0.05488128215074539,
          0.05454486235976219,
          0.05421110987663269,
          0.0538799948990345,
          0.05355149880051613,
          0.05322561040520668,
          0.052902307361364365,
          0.05258158594369888,
          0.052263401448726654,
          0.051947761327028275,
          0.05163463205099106,
          0.05132399871945381,
          0.05101585388183594,
          0.05071016401052475,
          0.05040692910552025,
          0.050106119364500046,
          0.049807727336883545,
          0.049511730670928955,
          0.049218107014894485,
          0.04892684891819954,
          0.04863794147968292,
          0.048351362347602844,
          0.04806709289550781,
          0.04778512194752693,
          0.04750543460249901,
          0.04722801223397255,
          0.04695283994078636,
          0.04667989909648895,
          0.04640917107462883,
          0.046140655875205994,
          0.04587431624531746,
          0.04561014473438263,
          0.04534813389182091,
          0.0450882650911808,
          0.04483051970601082,
          0.044574882835149765,
          0.04432133957743645,
          0.04406987503170967,
          0.04382048547267914,
          0.04357314482331276,
          0.04332783445715904,
          0.04308453947305679,
          0.042843256145715714,
          0.04260396212339401,
          0.04236664995551109,
          0.04213130101561546,
          0.04189790040254593,
          0.041666433215141296,
          0.04143688827753067,
          0.041209254413843155,
          0.04098350927233696,
          0.04075964167714119,
          0.04053764417767525,
          0.04031749442219734,
          0.040099188685417175,
          0.039882708340883255,
          0.039668045938014984,
          0.03945517539978027,
          0.039244093000888824,
          0.03903478384017944,
          0.038827233016490936,
          0.038621433079242706,
          0.03841736540198326,
          0.038215022534132004,
          0.03801438584923744,
          0.03781544789671898,
          0.03761819005012512,
          0.03742260858416557,
          0.03722868114709854,
          0.037036407738924026,
          0.03684576228260994,
          0.03665674105286598,
          0.03646933287382126,
          0.03628351911902428,
          0.03609929606318474,
          0.03591664507985115,
          0.035735562443733215,
          0.03555602580308914,
          0.03537803143262863,
          0.03520156815648079,
          0.03502661734819412,
          0.03485317528247833,
          0.034681227058172226,
          0.034510765224695206,
          0.03434176743030548,
          0.03417423740029335,
          0.03400815650820732,
          0.0338435135781765,
          0.03368029743432999,
          0.03351849690079689,
          0.03335810452699661,
          0.03319910913705826,
          0.03304149955511093,
          0.03288526460528374,
          0.03273039311170578,
          0.032576870173215866,
          0.032424699515104294,
          0.032273855060338974,
          0.032124340534210205,
          0.031976133584976196,
          0.03182923048734665,
          0.03168362006545067,
          0.03153929114341736,
          0.031396232545375824,
          0.031254447996616364,
          0.03111390583217144,
          0.030974607914686203,
          0.030836546793580055,
          0.0306997112929821,
          0.030564090237021446,
          0.030429676175117493,
          0.030296456068754196,
          0.03016442246735096,
          0.030033569782972336,
          0.02990388125181198,
          0.029775355011224747,
          0.029647979885339737,
          0.029521746560931206,
          0.029396645724773407,
          0.029272668063640594,
          0.029149798676371574,
          0.029028043150901794,
          0.028907380998134613,
          0.028787802904844284,
          0.028669310733675957,
          0.028551891446113586,
          0.02843553014099598,
          0.028320224955677986,
          0.02820597030222416,
          0.028092747554183006,
          0.02798055298626423,
          0.02786938287317753,
          0.02775922417640686,
          0.027650073170661926,
          0.027541914954781532,
          0.027434753254055977,
          0.02732856385409832,
          0.02722335234284401,
          0.02711910754442215,
          0.027015816420316696,
          0.0269134771078825,
          0.026812076568603516,
          0.026711612939834595,
          0.02661208063364029,
          0.026513459160923958,
          0.026415755972266197,
          0.026318958029150963,
          0.02622305415570736,
          0.026128044351935387,
          0.02603391371667385,
          0.025940660387277603,
          0.0258482713252306,
          0.025756746530532837,
          0.025666072964668274,
          0.025576254352927208,
          0.025487268343567848,
          0.025399118661880493,
          0.025311794131994247,
          0.025225291028618813,
          0.025139596313238144,
          0.02505471371114254,
          0.024970626458525658,
          0.024887336418032646,
          0.024804823100566864,
          0.024723099544644356,
          0.02464214526116848,
          0.024561958387494087,
          0.02448253147304058,
          0.024403858929872513,
          0.024325931444764137,
          0.024248749017715454,
          0.02417229861021042,
          0.02409658208489418,
          0.024021582677960396,
          0.023947302252054214,
          0.02387373335659504,
          0.023800866678357124,
          0.02372869849205017,
          0.02365722879767418,
          0.023586442694067955,
          0.02351633831858635,
          0.023446906358003616,
          0.023378148674964905,
          0.02331005036830902,
          0.023242615163326263,
          0.023175828158855438,
          0.023109693080186844,
          0.023044193163514137,
          0.022979332134127617,
          0.022915104404091835,
          0.022851502522826195,
          0.02278851717710495,
          0.02272614650428295,
          0.0226643867790699,
          0.022603226825594902,
          0.022542666643857956,
          0.022482702508568764,
          0.02242332510650158,
          0.022364532575011253,
          0.02230631373822689,
          0.02224867418408394,
          0.022191597148776054,
          0.022135088220238686,
          0.022079136222600937,
          0.02202373556792736,
          0.021968882530927658,
          0.02191457524895668,
          0.02186080627143383,
          0.02180757187306881,
          0.02175486646592617,
          0.021702688187360764,
          0.021651025861501694,
          0.02159988321363926,
          0.021549247205257416,
          0.02149912156164646,
          0.02144949696958065,
          0.021400365978479385,
          0.021351732313632965,
          0.021303584799170494,
          0.02125592529773712,
          0.0212087444961071,
          0.021162033081054688,
          0.021115800365805626,
          0.021070033311843872,
          0.021024730056524277,
          0.020979881286621094,
          0.02093549072742462,
          0.020891549065709114,
          0.020848054438829422,
          0.020805001258850098,
          0.02076238952577114,
          0.020720211789011955,
          0.020678460597991943,
          0.020637141540646553,
          0.02059624344110489,
          0.020555762574076653,
          0.020515695214271545,
          0.020476045086979866,
          0.02043679729104042,
          0.020397953689098358,
          0.02035951055586338,
          0.02032146416604519,
          0.020283810794353485,
          0.02024654857814312,
          0.020209670066833496,
          0.020173173397779465,
          0.020137052983045578,
          0.020101310685276985,
          0.02006593905389309,
          0.020030934363603592,
          0.019996294751763344,
          0.019962014630436897,
          0.01992809772491455,
          0.01989453099668026,
          0.019861316308379173,
          0.019828449934720993,
          0.01979592815041542,
          0.019763745367527008,
          0.019731903448700905,
          0.019700396806001663,
          0.019669221714138985,
          0.01963837444782257,
          0.019607853144407272,
          0.01957765221595764,
          0.019547773525118828,
          0.019518211483955383,
          0.01948896050453186,
          0.019460022449493408,
          0.01943139359354973,
          0.019403066486120224,
          0.019375041127204895,
          0.019347315654158592,
          0.019319886341691017,
          0.019292747601866722,
          0.019265903159976006,
          0.01923934370279312,
          0.01921307109296322,
          0.0191870778799057,
          0.019161365926265717,
          0.01913592964410782,
          0.019110767170786858,
          0.019085876643657684,
          0.01906125433743,
          0.019036898389458656,
          0.019012803211808205,
          0.018988972529768944,
          0.018965397030115128,
          0.018942078575491905,
          0.018919015303254128,
          0.018896201625466347,
          0.018873635679483414,
          0.01885131746530533,
          0.01882924512028694,
          0.018807409331202507,
          0.018785811960697174,
          0.018764453008770943,
          0.018743330612778664,
          0.01872243545949459,
          0.018701771274209023,
          0.01868133433163166,
          0.018661122769117355,
          0.018641136586666107,
          0.018621370196342468,
          0.01860181987285614,
          0.018582483753561974,
          0.018563363701105118,
          0.018544457852840424,
          0.018525758758187294,
          0.01850726827979088,
          0.018488982692360878,
          0.018470903858542442,
          0.018453022465109825,
          0.018435344099998474,
          0.018417859449982643,
          0.01840057037770748,
          0.01838347688317299,
          0.018366575241088867,
          0.018349863588809967,
          0.01833333633840084,
          0.018316997215151787,
          0.018300840631127357,
          0.018284868448972702,
          0.018269073218107224,
          0.01825345866382122,
          0.018238019198179245,
          0.018222754821181297,
          0.01820766180753708,
          0.01819274015724659,
          0.01817798800766468,
          0.0181634072214365,
          0.018148988485336304,
          0.01813473366200924,
          0.018120644614100456,
          0.018106713891029358,
          0.018092941492795944,
          0.018079327419400215,
          0.01806586980819702,
          0.018052564933896065,
          0.018039414659142494,
          0.018026413396000862,
          0.01801356114447117,
          0.018000859767198563,
          0.017988303676247597,
          0.01797589100897312,
          0.017963619902729988,
          0.017951495945453644,
          0.017939504235982895,
          0.017927659675478935,
          0.01791594736278057,
          0.0179043710231781,
          0.017892934381961823,
          0.017881624400615692,
          0.017870450392365456,
          0.017859401181340218,
          0.017848486080765724,
          0.01783769764006138,
          0.01782703399658203,
          0.017816495150327682,
          0.017806079238653183,
          0.017795786261558533,
          0.017785612493753433,
          0.017775559797883034,
          0.017765622586011887,
          0.01775580458343029,
          0.017746105790138245,
          0.017736515030264854,
          0.017727041617035866,
          0.017717678099870682,
          0.01770842634141445,
          0.017699284479022026,
          0.017690248787403107,
          0.017681322991847992,
          0.017672501504421234,
          0.017663784325122833,
          0.01765517145395279,
          0.017646661028265953,
          0.017638254910707474,
          0.017629943788051605,
          0.017621735110878944,
          0.017613625153899193,
          0.017605610191822052,
          0.01759769394993782,
          0.0175898689776659,
          0.017582139000296593,
          0.017574505880475044,
          0.01756695844233036,
          0.017559505999088287,
          0.017552141100168228,
          0.017544865608215332,
          0.01753767766058445,
          0.01753057911992073,
          0.017523564398288727,
          0.017516635358333588,
          0.017509788274765015,
          0.017503025010228157,
          0.017496345564723015,
          0.01748974435031414,
          0.01748322695493698,
          0.01747678406536579,
          0.017470423132181168,
          0.017464138567447662,
          0.017457930371165276,
          0.017451798543334007,
          0.017445741221308708,
          0.01743975840508938,
          0.017433850094676018,
          0.017428014427423477,
          0.017422247678041458,
          0.01741655170917511,
          0.01741093024611473,
          0.017405372112989426,
          0.01739988476037979,
          0.01739446446299553,
          0.01738911308348179,
          0.01738382689654827,
          0.017378605902194977,
          0.017373448237776756,
          0.01736835390329361,
          0.017363324761390686,
          0.017358355224132538,
          0.017353450879454613,
          0.017348602414131165,
          0.01734381914138794,
          0.01733909174799919,
          0.017334425821900368,
          0.01732981763780117,
          0.0173252634704113,
          0.017320768907666206,
          0.017316332086920738,
          0.0173119455575943,
          0.017307618632912636,
          0.01730334386229515,
          0.017299121245741844,
          0.017294954508543015,
          0.017290839925408363,
          0.017286773771047592,
          0.017282759770751,
          0.017278797924518585,
          0.01727488450706005,
          0.017271017655730247,
          0.01726720482110977,
          0.01726343482732773,
          0.017259716987609863,
          0.01725604198873043,
          0.017252415418624878,
          0.017248835414648056,
          0.017245298251509666,
          0.01724180579185486,
          0.01723835989832878,
          0.017234954982995987,
          0.017231594771146774,
          0.017228279262781143,
          0.017225002869963646,
          0.017221765592694283,
          0.01721857115626335,
          0.017215421423316002,
          0.017212307080626488,
          0.017209231853485107,
          0.01720619946718216,
          0.017203200608491898,
          0.017200244590640068,
          0.017197323963046074,
          0.017194440588355064,
          0.01719159260392189,
          0.01718878373503685,
          0.017186008393764496,
          0.017183270305395126,
          0.017180565744638443,
          0.017177894711494446,
          0.017175260931253433,
          0.017172658815979958,
          0.01717008836567402,
          0.017167553305625916,
          0.01716504991054535,
          0.01716257818043232,
          0.017160138115286827,
          0.01715772971510887,
          0.017155351117253304,
          0.017153006047010422,
          0.01715068705379963,
          0.017148399725556374,
          0.017146140336990356,
          0.017143910750746727,
          0.017141712829470634,
          0.017139537259936333,
          0.01713739149272442,
          0.017135273665189743,
          0.017133181914687157,
          0.017131119966506958,
          0.01712908409535885,
          0.01712707243859768,
          0.0171250868588686,
          0.017123127356171608,
          0.017121192067861557,
          0.017119282856583595,
          0.017117397859692574,
          0.017115535214543343,
          0.0171136986464262,
          0.01711188443005085,
          0.01711009442806244,
          0.01710832491517067,
          0.01710658147931099,
          0.01710485853254795,
          0.017103157937526703,
          0.017101479694247246,
          0.01709982194006443,
          0.017098186537623405,
          0.017096571624279022,
          0.01709497533738613,
          0.01709340140223503,
          0.017091849818825722,
          0.017090313136577606,
          0.01708879880607128,
          0.017087304964661598,
          0.017085827887058258,
          0.01708437129855156,
          0.017082933336496353,
          0.01708151400089264,
          0.017080111429095268,
          0.01707872748374939,
          0.017077360302209854,
          0.01707600988447666,
          0.01707467809319496,
          0.017073363065719604,
          0.01707206480205059,
          0.01707078330218792,
          0.017069516703486443,
          0.017068268731236458,
          0.017067033797502518,
          0.01706581749022007,
          0.017064614221453667,
          0.017063427716493607,
          0.01706225611269474,
          0.01706109568476677,
          0.01705995202064514,
          0.017058825120329857,
          0.017057711258530617,
          0.01705661043524742,
          0.01705552451312542,
          0.017054451629519463,
          0.01705339178442955,
          0.017052344977855682,
          0.01705131307244301,
          0.01705029420554638,
          0.017049286514520645,
          0.017048291862010956,
          0.017047308385372162,
          0.017046339809894562,
          0.017045380547642708,
          0.0170444343239069,
          0.017043501138687134,
          0.017042579129338264,
          0.01704166643321514,
          0.017040766775608063,
          0.01703988015651703,
          0.01703900285065174,
          0.0170381348580122,
          0.017037278041243553,
          0.017036432400345802,
          0.017035597935318947,
          0.017034772783517838,
          0.017033958807587624,
          0.017033152282238007,
          0.017032356932759285,
          0.01703157089650631
         ]
        }
       ],
       "layout": {
        "template": {
         "data": {
          "bar": [
           {
            "error_x": {
             "color": "#2a3f5f"
            },
            "error_y": {
             "color": "#2a3f5f"
            },
            "marker": {
             "line": {
              "color": "#E5ECF6",
              "width": 0.5
             },
             "pattern": {
              "fillmode": "overlay",
              "size": 10,
              "solidity": 0.2
             }
            },
            "type": "bar"
           }
          ],
          "barpolar": [
           {
            "marker": {
             "line": {
              "color": "#E5ECF6",
              "width": 0.5
             },
             "pattern": {
              "fillmode": "overlay",
              "size": 10,
              "solidity": 0.2
             }
            },
            "type": "barpolar"
           }
          ],
          "carpet": [
           {
            "aaxis": {
             "endlinecolor": "#2a3f5f",
             "gridcolor": "white",
             "linecolor": "white",
             "minorgridcolor": "white",
             "startlinecolor": "#2a3f5f"
            },
            "baxis": {
             "endlinecolor": "#2a3f5f",
             "gridcolor": "white",
             "linecolor": "white",
             "minorgridcolor": "white",
             "startlinecolor": "#2a3f5f"
            },
            "type": "carpet"
           }
          ],
          "choropleth": [
           {
            "colorbar": {
             "outlinewidth": 0,
             "ticks": ""
            },
            "type": "choropleth"
           }
          ],
          "contour": [
           {
            "colorbar": {
             "outlinewidth": 0,
             "ticks": ""
            },
            "colorscale": [
             [
              0,
              "#0d0887"
             ],
             [
              0.1111111111111111,
              "#46039f"
             ],
             [
              0.2222222222222222,
              "#7201a8"
             ],
             [
              0.3333333333333333,
              "#9c179e"
             ],
             [
              0.4444444444444444,
              "#bd3786"
             ],
             [
              0.5555555555555556,
              "#d8576b"
             ],
             [
              0.6666666666666666,
              "#ed7953"
             ],
             [
              0.7777777777777778,
              "#fb9f3a"
             ],
             [
              0.8888888888888888,
              "#fdca26"
             ],
             [
              1,
              "#f0f921"
             ]
            ],
            "type": "contour"
           }
          ],
          "contourcarpet": [
           {
            "colorbar": {
             "outlinewidth": 0,
             "ticks": ""
            },
            "type": "contourcarpet"
           }
          ],
          "heatmap": [
           {
            "colorbar": {
             "outlinewidth": 0,
             "ticks": ""
            },
            "colorscale": [
             [
              0,
              "#0d0887"
             ],
             [
              0.1111111111111111,
              "#46039f"
             ],
             [
              0.2222222222222222,
              "#7201a8"
             ],
             [
              0.3333333333333333,
              "#9c179e"
             ],
             [
              0.4444444444444444,
              "#bd3786"
             ],
             [
              0.5555555555555556,
              "#d8576b"
             ],
             [
              0.6666666666666666,
              "#ed7953"
             ],
             [
              0.7777777777777778,
              "#fb9f3a"
             ],
             [
              0.8888888888888888,
              "#fdca26"
             ],
             [
              1,
              "#f0f921"
             ]
            ],
            "type": "heatmap"
           }
          ],
          "heatmapgl": [
           {
            "colorbar": {
             "outlinewidth": 0,
             "ticks": ""
            },
            "colorscale": [
             [
              0,
              "#0d0887"
             ],
             [
              0.1111111111111111,
              "#46039f"
             ],
             [
              0.2222222222222222,
              "#7201a8"
             ],
             [
              0.3333333333333333,
              "#9c179e"
             ],
             [
              0.4444444444444444,
              "#bd3786"
             ],
             [
              0.5555555555555556,
              "#d8576b"
             ],
             [
              0.6666666666666666,
              "#ed7953"
             ],
             [
              0.7777777777777778,
              "#fb9f3a"
             ],
             [
              0.8888888888888888,
              "#fdca26"
             ],
             [
              1,
              "#f0f921"
             ]
            ],
            "type": "heatmapgl"
           }
          ],
          "histogram": [
           {
            "marker": {
             "pattern": {
              "fillmode": "overlay",
              "size": 10,
              "solidity": 0.2
             }
            },
            "type": "histogram"
           }
          ],
          "histogram2d": [
           {
            "colorbar": {
             "outlinewidth": 0,
             "ticks": ""
            },
            "colorscale": [
             [
              0,
              "#0d0887"
             ],
             [
              0.1111111111111111,
              "#46039f"
             ],
             [
              0.2222222222222222,
              "#7201a8"
             ],
             [
              0.3333333333333333,
              "#9c179e"
             ],
             [
              0.4444444444444444,
              "#bd3786"
             ],
             [
              0.5555555555555556,
              "#d8576b"
             ],
             [
              0.6666666666666666,
              "#ed7953"
             ],
             [
              0.7777777777777778,
              "#fb9f3a"
             ],
             [
              0.8888888888888888,
              "#fdca26"
             ],
             [
              1,
              "#f0f921"
             ]
            ],
            "type": "histogram2d"
           }
          ],
          "histogram2dcontour": [
           {
            "colorbar": {
             "outlinewidth": 0,
             "ticks": ""
            },
            "colorscale": [
             [
              0,
              "#0d0887"
             ],
             [
              0.1111111111111111,
              "#46039f"
             ],
             [
              0.2222222222222222,
              "#7201a8"
             ],
             [
              0.3333333333333333,
              "#9c179e"
             ],
             [
              0.4444444444444444,
              "#bd3786"
             ],
             [
              0.5555555555555556,
              "#d8576b"
             ],
             [
              0.6666666666666666,
              "#ed7953"
             ],
             [
              0.7777777777777778,
              "#fb9f3a"
             ],
             [
              0.8888888888888888,
              "#fdca26"
             ],
             [
              1,
              "#f0f921"
             ]
            ],
            "type": "histogram2dcontour"
           }
          ],
          "mesh3d": [
           {
            "colorbar": {
             "outlinewidth": 0,
             "ticks": ""
            },
            "type": "mesh3d"
           }
          ],
          "parcoords": [
           {
            "line": {
             "colorbar": {
              "outlinewidth": 0,
              "ticks": ""
             }
            },
            "type": "parcoords"
           }
          ],
          "pie": [
           {
            "automargin": true,
            "type": "pie"
           }
          ],
          "scatter": [
           {
            "fillpattern": {
             "fillmode": "overlay",
             "size": 10,
             "solidity": 0.2
            },
            "type": "scatter"
           }
          ],
          "scatter3d": [
           {
            "line": {
             "colorbar": {
              "outlinewidth": 0,
              "ticks": ""
             }
            },
            "marker": {
             "colorbar": {
              "outlinewidth": 0,
              "ticks": ""
             }
            },
            "type": "scatter3d"
           }
          ],
          "scattercarpet": [
           {
            "marker": {
             "colorbar": {
              "outlinewidth": 0,
              "ticks": ""
             }
            },
            "type": "scattercarpet"
           }
          ],
          "scattergeo": [
           {
            "marker": {
             "colorbar": {
              "outlinewidth": 0,
              "ticks": ""
             }
            },
            "type": "scattergeo"
           }
          ],
          "scattergl": [
           {
            "marker": {
             "colorbar": {
              "outlinewidth": 0,
              "ticks": ""
             }
            },
            "type": "scattergl"
           }
          ],
          "scattermapbox": [
           {
            "marker": {
             "colorbar": {
              "outlinewidth": 0,
              "ticks": ""
             }
            },
            "type": "scattermapbox"
           }
          ],
          "scatterpolar": [
           {
            "marker": {
             "colorbar": {
              "outlinewidth": 0,
              "ticks": ""
             }
            },
            "type": "scatterpolar"
           }
          ],
          "scatterpolargl": [
           {
            "marker": {
             "colorbar": {
              "outlinewidth": 0,
              "ticks": ""
             }
            },
            "type": "scatterpolargl"
           }
          ],
          "scatterternary": [
           {
            "marker": {
             "colorbar": {
              "outlinewidth": 0,
              "ticks": ""
             }
            },
            "type": "scatterternary"
           }
          ],
          "surface": [
           {
            "colorbar": {
             "outlinewidth": 0,
             "ticks": ""
            },
            "colorscale": [
             [
              0,
              "#0d0887"
             ],
             [
              0.1111111111111111,
              "#46039f"
             ],
             [
              0.2222222222222222,
              "#7201a8"
             ],
             [
              0.3333333333333333,
              "#9c179e"
             ],
             [
              0.4444444444444444,
              "#bd3786"
             ],
             [
              0.5555555555555556,
              "#d8576b"
             ],
             [
              0.6666666666666666,
              "#ed7953"
             ],
             [
              0.7777777777777778,
              "#fb9f3a"
             ],
             [
              0.8888888888888888,
              "#fdca26"
             ],
             [
              1,
              "#f0f921"
             ]
            ],
            "type": "surface"
           }
          ],
          "table": [
           {
            "cells": {
             "fill": {
              "color": "#EBF0F8"
             },
             "line": {
              "color": "white"
             }
            },
            "header": {
             "fill": {
              "color": "#C8D4E3"
             },
             "line": {
              "color": "white"
             }
            },
            "type": "table"
           }
          ]
         },
         "layout": {
          "annotationdefaults": {
           "arrowcolor": "#2a3f5f",
           "arrowhead": 0,
           "arrowwidth": 1
          },
          "autotypenumbers": "strict",
          "coloraxis": {
           "colorbar": {
            "outlinewidth": 0,
            "ticks": ""
           }
          },
          "colorscale": {
           "diverging": [
            [
             0,
             "#8e0152"
            ],
            [
             0.1,
             "#c51b7d"
            ],
            [
             0.2,
             "#de77ae"
            ],
            [
             0.3,
             "#f1b6da"
            ],
            [
             0.4,
             "#fde0ef"
            ],
            [
             0.5,
             "#f7f7f7"
            ],
            [
             0.6,
             "#e6f5d0"
            ],
            [
             0.7,
             "#b8e186"
            ],
            [
             0.8,
             "#7fbc41"
            ],
            [
             0.9,
             "#4d9221"
            ],
            [
             1,
             "#276419"
            ]
           ],
           "sequential": [
            [
             0,
             "#0d0887"
            ],
            [
             0.1111111111111111,
             "#46039f"
            ],
            [
             0.2222222222222222,
             "#7201a8"
            ],
            [
             0.3333333333333333,
             "#9c179e"
            ],
            [
             0.4444444444444444,
             "#bd3786"
            ],
            [
             0.5555555555555556,
             "#d8576b"
            ],
            [
             0.6666666666666666,
             "#ed7953"
            ],
            [
             0.7777777777777778,
             "#fb9f3a"
            ],
            [
             0.8888888888888888,
             "#fdca26"
            ],
            [
             1,
             "#f0f921"
            ]
           ],
           "sequentialminus": [
            [
             0,
             "#0d0887"
            ],
            [
             0.1111111111111111,
             "#46039f"
            ],
            [
             0.2222222222222222,
             "#7201a8"
            ],
            [
             0.3333333333333333,
             "#9c179e"
            ],
            [
             0.4444444444444444,
             "#bd3786"
            ],
            [
             0.5555555555555556,
             "#d8576b"
            ],
            [
             0.6666666666666666,
             "#ed7953"
            ],
            [
             0.7777777777777778,
             "#fb9f3a"
            ],
            [
             0.8888888888888888,
             "#fdca26"
            ],
            [
             1,
             "#f0f921"
            ]
           ]
          },
          "colorway": [
           "#636efa",
           "#EF553B",
           "#00cc96",
           "#ab63fa",
           "#FFA15A",
           "#19d3f3",
           "#FF6692",
           "#B6E880",
           "#FF97FF",
           "#FECB52"
          ],
          "font": {
           "color": "#2a3f5f"
          },
          "geo": {
           "bgcolor": "white",
           "lakecolor": "white",
           "landcolor": "#E5ECF6",
           "showlakes": true,
           "showland": true,
           "subunitcolor": "white"
          },
          "hoverlabel": {
           "align": "left"
          },
          "hovermode": "closest",
          "mapbox": {
           "style": "light"
          },
          "paper_bgcolor": "white",
          "plot_bgcolor": "#E5ECF6",
          "polar": {
           "angularaxis": {
            "gridcolor": "white",
            "linecolor": "white",
            "ticks": ""
           },
           "bgcolor": "#E5ECF6",
           "radialaxis": {
            "gridcolor": "white",
            "linecolor": "white",
            "ticks": ""
           }
          },
          "scene": {
           "xaxis": {
            "backgroundcolor": "#E5ECF6",
            "gridcolor": "white",
            "gridwidth": 2,
            "linecolor": "white",
            "showbackground": true,
            "ticks": "",
            "zerolinecolor": "white"
           },
           "yaxis": {
            "backgroundcolor": "#E5ECF6",
            "gridcolor": "white",
            "gridwidth": 2,
            "linecolor": "white",
            "showbackground": true,
            "ticks": "",
            "zerolinecolor": "white"
           },
           "zaxis": {
            "backgroundcolor": "#E5ECF6",
            "gridcolor": "white",
            "gridwidth": 2,
            "linecolor": "white",
            "showbackground": true,
            "ticks": "",
            "zerolinecolor": "white"
           }
          },
          "shapedefaults": {
           "line": {
            "color": "#2a3f5f"
           }
          },
          "ternary": {
           "aaxis": {
            "gridcolor": "white",
            "linecolor": "white",
            "ticks": ""
           },
           "baxis": {
            "gridcolor": "white",
            "linecolor": "white",
            "ticks": ""
           },
           "bgcolor": "#E5ECF6",
           "caxis": {
            "gridcolor": "white",
            "linecolor": "white",
            "ticks": ""
           }
          },
          "title": {
           "x": 0.05
          },
          "xaxis": {
           "automargin": true,
           "gridcolor": "white",
           "linecolor": "white",
           "ticks": "",
           "title": {
            "standoff": 15
           },
           "zerolinecolor": "white",
           "zerolinewidth": 2
          },
          "yaxis": {
           "automargin": true,
           "gridcolor": "white",
           "linecolor": "white",
           "ticks": "",
           "title": {
            "standoff": 15
           },
           "zerolinecolor": "white",
           "zerolinewidth": 2
          }
         }
        },
        "title": {
         "text": "Loss Curve Rank 10"
        },
        "xaxis": {
         "title": {
          "text": "Iteration"
         }
        },
        "yaxis": {
         "title": {
          "text": "Loss"
         }
        }
       }
      }
     },
     "metadata": {},
     "output_type": "display_data"
    }
   ],
   "source": [
    "train_loss = np.array(train_loss)\n",
    "test_loss = np.array(test_loss)\n",
    "\n",
    "fig = go.Figure()\n",
    "for recording in range(TOTAL_RECORDINGS):\n",
    "    fig.add_trace(go.Scatter(y=test_loss[:, recording], name=f'{recording} - Test Recording'))\n",
    "    fig.add_trace(go.Scatter(y=train_loss[:, recording], name=f'{recording} - Train Recording'))\n",
    "fig.update_layout(title=f'Loss Curve Rank {RANK}', xaxis_title='Iteration', yaxis_title='Loss')\n",
    "fig.show()\n",
    "\n",
    "test_loss_reduced_rank = test_loss[-1]"
   ]
  },
  {
   "cell_type": "markdown",
   "metadata": {},
   "source": [
    "## Neural Network"
   ]
  },
  {
   "cell_type": "code",
   "execution_count": 7,
   "metadata": {},
   "outputs": [
    {
     "name": "stdout",
     "output_type": "stream",
     "text": [
      "Iteration 0, Train Loss [0.061459124088287354, 0.04750856012105942, 0.03511972725391388, 0.028620097786188126], Test Loss [0.030916480347514153, 0.029504599049687386, 0.023675836622714996, 0.021991580724716187]\n",
      "Iteration 10, Train Loss [0.014829352498054504, 0.013867842964828014, 0.014402356930077076, 0.013751332648098469], Test Loss [0.013329054228961468, 0.015683412551879883, 0.014175760559737682, 0.014935337007045746]\n",
      "Iteration 20, Train Loss [0.0142504358664155, 0.013208480551838875, 0.01403845939785242, 0.013187987729907036], Test Loss [0.013041217811405659, 0.014827979728579521, 0.013916726224124432, 0.014403438195586205]\n",
      "Iteration 30, Train Loss [0.013840504921972752, 0.012821287848055363, 0.013790631666779518, 0.012788757681846619], Test Loss [0.012933078221976757, 0.014350904151797295, 0.013785751536488533, 0.01396091841161251]\n",
      "Iteration 40, Train Loss [0.013513792306184769, 0.012511787936091423, 0.013544772751629353, 0.01239020749926567], Test Loss [0.012905958108603954, 0.014031653292477131, 0.013682406395673752, 0.013533728197216988]\n",
      "Iteration 50, Train Loss [0.013979009352624416, 0.013866755180060863, 0.013671541586518288, 0.013008857145905495], Test Loss [0.013244443573057652, 0.014718000777065754, 0.013820973224937916, 0.014659307897090912]\n",
      "Iteration 60, Train Loss [0.013409783132374287, 0.012415425851941109, 0.01347046997398138, 0.012373491190373898], Test Loss [0.012932287529110909, 0.013907188549637794, 0.013675711117684841, 0.0135221928358078]\n",
      "Iteration 70, Train Loss [0.013278831727802753, 0.012239249423146248, 0.013262330554425716, 0.01206347718834877], Test Loss [0.012872626073658466, 0.013748212717473507, 0.013615725561976433, 0.013173302635550499]\n",
      "Iteration 80, Train Loss [0.013433849439024925, 0.012854919768869877, 0.01318766362965107, 0.011965690180659294], Test Loss [0.012781950645148754, 0.01373258326202631, 0.01358736027032137, 0.013010079972445965]\n",
      "Iteration 90, Train Loss [0.01332589890807867, 0.012227751314640045, 0.01313620712608099, 0.011881610378623009], Test Loss [0.01304407324641943, 0.013722487725317478, 0.013570540584623814, 0.013226652517914772]\n",
      "Iteration 100, Train Loss [0.013323802500963211, 0.012015510350465775, 0.013377193361520767, 0.01265393104404211], Test Loss [0.012979337014257908, 0.013591352850198746, 0.013661719858646393, 0.013464086689054966]\n",
      "Iteration 110, Train Loss [0.01312100701034069, 0.012143244966864586, 0.013052454218268394, 0.0116493608802557], Test Loss [0.01281044166535139, 0.013622775673866272, 0.013540692627429962, 0.012930084951221943]\n",
      "Iteration 120, Train Loss [0.013179282657802105, 0.011903230100870132, 0.013123689219355583, 0.012472907081246376], Test Loss [0.012951347045600414, 0.013506362214684486, 0.013544376008212566, 0.013124586082994938]\n",
      "Iteration 130, Train Loss [0.013164008967578411, 0.012260585092008114, 0.013078783638775349, 0.011751098558306694], Test Loss [0.012809598818421364, 0.013863131403923035, 0.013540570624172688, 0.013024432584643364]\n",
      "Iteration 140, Train Loss [0.012935389764606953, 0.011934581212699413, 0.012863313779234886, 0.011437026783823967], Test Loss [0.012940227054059505, 0.013510877266526222, 0.013492003083229065, 0.012817002832889557]\n",
      "Iteration 150, Train Loss [0.013198954984545708, 0.011925009079277515, 0.01288849301636219, 0.011515750549733639], Test Loss [0.01304731797426939, 0.013578970916569233, 0.013543862849473953, 0.013109631836414337]\n"
     ]
    }
   ],
   "source": [
    "neural_network_model = NeuralNetworkModel(\n",
    "    n_recordings=TOTAL_RECORDINGS,\n",
    "    n_neurons_per_recording=[X_train[i].shape[1] for i in range(TOTAL_RECORDINGS)], \n",
    "    n_time_bins=TIME_BINS, \n",
    "    width=2000,\n",
    "    hidden_layers=3,\n",
    "    rank=RANK\n",
    ")\n",
    "\n",
    "if RANDOM_SEED != -1:\n",
    "    torch.manual_seed(RANDOM_SEED)\n",
    "\n",
    "# optimizer = torch.optim.Adam(model.parameters(), lr=0.001, weight_decay=0.01) 0.0455 best\n",
    "# optimizer = torch.optim.Adam(neural_network_model.parameters(), lr=0.001, weight_decay=0.01)\n",
    "# optimizer = torch.optim.Adam(neural_network_model.parameters(), lr=0.00004, weight_decay=0.01) # Really good for rank 10, 4 data\n",
    "optimizer = torch.optim.Adam(neural_network_model.parameters(), lr=0.0001, weight_decay=0.001)\n",
    "# optimizer = torch.optim.Adam(neural_network_model.parameters(), lr=0.001)\n",
    "# nn.BatchNorm1d(100)\n",
    "train_loss = []\n",
    "test_loss = []\n",
    "\n",
    "for training_iteration in range(151):\n",
    "    train_loss_iter, test_loss_iter = train_one_epoch(X_train, Y_train, X_test, Y_test, neural_network_model, optimizer, loss_fn)\n",
    "\n",
    "    if training_iteration % 10 == 0:\n",
    "        print(f'Iteration {training_iteration}, Train Loss {train_loss_iter}, Test Loss {test_loss_iter}')\n",
    "\n",
    "    train_loss.append(train_loss_iter)\n",
    "    test_loss.append(test_loss_iter)"
   ]
  },
  {
   "cell_type": "code",
   "execution_count": 8,
   "metadata": {},
   "outputs": [
    {
     "data": {
      "application/vnd.plotly.v1+json": {
       "config": {
        "plotlyServerURL": "https://plot.ly"
       },
       "data": [
        {
         "name": "0 - Test Recording",
         "type": "scatter",
         "y": [
          0.030916480347514153,
          0.016662657260894775,
          0.01862773858010769,
          0.013950997963547707,
          0.014525535516440868,
          0.013874386437237263,
          0.013653171248733997,
          0.013680310919880867,
          0.013443459756672382,
          0.013332555070519447,
          0.013329054228961468,
          0.01329709216952324,
          0.013236516155302525,
          0.013178314082324505,
          0.013190597295761108,
          0.013177876360714436,
          0.013129680417478085,
          0.013102889992296696,
          0.013082357123494148,
          0.01305741909891367,
          0.013041217811405659,
          0.013031470589339733,
          0.013008015230298042,
          0.01299000158905983,
          0.012980945408344269,
          0.012967999093234539,
          0.012957804836332798,
          0.012950644828379154,
          0.012942621484398842,
          0.012938080355525017,
          0.012933078221976757,
          0.012929663993418217,
          0.012927030213177204,
          0.01292240247130394,
          0.012919476255774498,
          0.012915953993797302,
          0.012914921157062054,
          0.012910488992929459,
          0.012912580743432045,
          0.012911216355860233,
          0.012905958108603954,
          0.012922503985464573,
          0.01289219781756401,
          0.012943201698362827,
          0.012809579260647297,
          0.013096782378852367,
          0.01291666179895401,
          0.013376466929912567,
          0.012903467752039433,
          0.013131169602274895,
          0.013244443573057652,
          0.012889699079096317,
          0.01303175650537014,
          0.013026079162955284,
          0.012799396179616451,
          0.012997793965041637,
          0.012850044295191765,
          0.01287253387272358,
          0.012971891090273857,
          0.012830780819058418,
          0.012932287529110909,
          0.012904761359095573,
          0.012882714159786701,
          0.012912031263113022,
          0.012888261117041111,
          0.012930583208799362,
          0.012871499173343182,
          0.01294137816876173,
          0.012877220287919044,
          0.01293679978698492,
          0.012872626073658466,
          0.012959279119968414,
          0.01284287590533495,
          0.013000833801925182,
          0.012805675156414509,
          0.01308121532201767,
          0.012803818099200726,
          0.013058875687420368,
          0.012826880440115929,
          0.012961243279278278,
          0.012781950645148754,
          0.013234219513833523,
          0.012956489808857441,
          0.013660913333296776,
          0.01297296117991209,
          0.013298763893544674,
          0.012786696664988995,
          0.01300413254648447,
          0.01282651349902153,
          0.012807109393179417,
          0.01304407324641943,
          0.012781660072505474,
          0.012988205999135971,
          0.01282559335231781,
          0.012960261665284634,
          0.012827256694436073,
          0.012985903769731522,
          0.012819120660424232,
          0.012999093160033226,
          0.012813514098525047,
          0.012979337014257908,
          0.012836914509534836,
          0.012875835411250591,
          0.013049738481640816,
          0.012770837172865868,
          0.013349542394280434,
          0.012824051082134247,
          0.01307040173560381,
          0.012880753725767136,
          0.012876853346824646,
          0.01281044166535139,
          0.013033950701355934,
          0.012813273817300797,
          0.012926390394568443,
          0.0129103884100914,
          0.01287831924855709,
          0.012933746911585331,
          0.012889813631772995,
          0.012940028682351112,
          0.012885209172964096,
          0.012951347045600414,
          0.012867173179984093,
          0.012904828414320946,
          0.013007580302655697,
          0.012772226706147194,
          0.01319953240454197,
          0.012928745709359646,
          0.012785766273736954,
          0.01309545524418354,
          0.012932498008012772,
          0.012809598818421364,
          0.012904317118227482,
          0.012878092005848885,
          0.012957730330526829,
          0.012860721908509731,
          0.012902718037366867,
          0.012966328300535679,
          0.012879929505288601,
          0.012944616377353668,
          0.012914598919451237,
          0.012940227054059505,
          0.01290165539830923,
          0.012971228919923306,
          0.012888033874332905,
          0.012987777590751648,
          0.01287398673593998,
          0.013001294806599617,
          0.012835759669542313,
          0.013045492582023144,
          0.012833879329264164,
          0.01304731797426939
         ]
        },
        {
         "name": "0 - Train Recording",
         "type": "scatter",
         "y": [
          0.061459124088287354,
          0.01720185950398445,
          0.022214289754629135,
          0.015979791060090065,
          0.017036836594343185,
          0.0162819754332304,
          0.015270552597939968,
          0.01512684766203165,
          0.014995086006820202,
          0.014901554211974144,
          0.014829352498054504,
          0.014755119569599628,
          0.014717807993292809,
          0.014641565270721912,
          0.01456871721893549,
          0.01451581809669733,
          0.014450726099312305,
          0.014400318264961243,
          0.014346213079988956,
          0.014297823421657085,
          0.0142504358664155,
          0.014203738421201706,
          0.014158627018332481,
          0.01411540899425745,
          0.014072551392018795,
          0.014031663537025452,
          0.013990607112646103,
          0.01395025197416544,
          0.013911806978285313,
          0.013875468634068966,
          0.013840504921972752,
          0.013805661350488663,
          0.013771360740065575,
          0.013737806119024754,
          0.013704603537917137,
          0.013671393506228924,
          0.013638737611472607,
          0.013607233762741089,
          0.013575209304690361,
          0.013544315472245216,
          0.013513792306184769,
          0.013484859839081764,
          0.013495421968400478,
          0.01376860961318016,
          0.015008836053311825,
          0.015208671800792217,
          0.01481606811285019,
          0.013824972324073315,
          0.013827131129801273,
          0.013722224161028862,
          0.013979009352624416,
          0.014197783544659615,
          0.013628591783344746,
          0.01376997772604227,
          0.013648307882249355,
          0.013528767041862011,
          0.013504636473953724,
          0.013489879667758942,
          0.013483897782862186,
          0.01346813514828682,
          0.013409783132374287,
          0.013393186032772064,
          0.013372722081840038,
          0.01334872655570507,
          0.01333455741405487,
          0.01332081388682127,
          0.013312537223100662,
          0.01329268142580986,
          0.013279941864311695,
          0.013266781345009804,
          0.013278831727802753,
          0.01331220380961895,
          0.013437245041131973,
          0.013628103770315647,
          0.014057661406695843,
          0.01417494472116232,
          0.014228331856429577,
          0.013581100851297379,
          0.01333529595285654,
          0.013270914554595947,
          0.013433849439024925,
          0.013855193741619587,
          0.014953467063605785,
          0.01464286632835865,
          0.014372776262462139,
          0.013410414569079876,
          0.013294716365635395,
          0.013267572969198227,
          0.013242819346487522,
          0.013310088776051998,
          0.01332589890807867,
          0.0132854413241148,
          0.013195641338825226,
          0.013172841630876064,
          0.013154090382158756,
          0.013162030838429928,
          0.013160011731088161,
          0.01319707091897726,
          0.013219927437603474,
          0.013315313495695591,
          0.013323802500963211,
          0.013348466716706753,
          0.013139547780156136,
          0.013075238093733788,
          0.013512511737644672,
          0.013978325761854649,
          0.013967941515147686,
          0.013199693523347378,
          0.013129140250384808,
          0.013091686181724072,
          0.01312100701034069,
          0.013151846826076508,
          0.013095483183860779,
          0.013031614013016224,
          0.013016041368246078,
          0.013002976775169373,
          0.012987240217626095,
          0.012979601509869099,
          0.012980778701603413,
          0.013041184283792973,
          0.013179282657802105,
          0.013515923172235489,
          0.013414748944342136,
          0.013147876597940922,
          0.013239904306828976,
          0.013390906155109406,
          0.013157383538782597,
          0.013757365755736828,
          0.013206278905272484,
          0.013220936059951782,
          0.013164008967578411,
          0.013067520223557949,
          0.01306484080851078,
          0.013071135617792606,
          0.013028642162680626,
          0.013008598238229752,
          0.01302082184702158,
          0.012990755960345268,
          0.012957659550011158,
          0.012946820817887783,
          0.012935389764606953,
          0.01294343639165163,
          0.012953943572938442,
          0.012989083305001259,
          0.013039535842835903,
          0.013192644342780113,
          0.013391247019171715,
          0.013812873512506485,
          0.013729754835367203,
          0.01365017332136631,
          0.013198954984545708
         ]
        },
        {
         "name": "1 - Test Recording",
         "type": "scatter",
         "y": [
          0.029504599049687386,
          0.020846594125032425,
          0.019533995538949966,
          0.01719612441956997,
          0.01713327318429947,
          0.016637032851576805,
          0.016578109934926033,
          0.016228046268224716,
          0.015966154634952545,
          0.015803802758455276,
          0.015683412551879883,
          0.015566620975732803,
          0.015438240021467209,
          0.015338738448917866,
          0.015267657116055489,
          0.015172666870057583,
          0.015089601278305054,
          0.015025600790977478,
          0.014961166307330132,
          0.014890707097947598,
          0.014827979728579521,
          0.014769330620765686,
          0.01471020933240652,
          0.014657880179584026,
          0.014608928002417088,
          0.01455916091799736,
          0.014512976631522179,
          0.01446923241019249,
          0.014428140595555305,
          0.014388768002390862,
          0.014350904151797295,
          0.014314982108771801,
          0.01427781768143177,
          0.014242669567465782,
          0.014211796224117279,
          0.014179437421262264,
          0.014148620888590813,
          0.014119737781584263,
          0.014088328927755356,
          0.014062464237213135,
          0.014031653292477131,
          0.014006777666509151,
          0.013982642441987991,
          0.013957105576992035,
          0.01408421155065298,
          0.014235478825867176,
          0.014791381545364857,
          0.014278694987297058,
          0.015660570934414864,
          0.014452142640948296,
          0.014718000777065754,
          0.014343085698783398,
          0.014165273867547512,
          0.014170732349157333,
          0.014123835600912571,
          0.014177655801177025,
          0.01405694242566824,
          0.013999742455780506,
          0.013982445932924747,
          0.013937368988990784,
          0.013907188549637794,
          0.013876243494451046,
          0.013874624855816364,
          0.013850568793714046,
          0.013822571374475956,
          0.013817569240927696,
          0.013801254332065582,
          0.013783667236566544,
          0.013773700222373009,
          0.01376147847622633,
          0.013748212717473507,
          0.01373456884175539,
          0.013743279501795769,
          0.01372637040913105,
          0.013803503476083279,
          0.013796135783195496,
          0.01393225695937872,
          0.013808135874569416,
          0.013797616586089134,
          0.013740119524300098,
          0.01373258326202631,
          0.013782480731606483,
          0.013875550590455532,
          0.013869129121303558,
          0.013870807364583015,
          0.0139691811054945,
          0.013963267207145691,
          0.013951217755675316,
          0.013755373656749725,
          0.013713196851313114,
          0.013722487725317478,
          0.013680484145879745,
          0.013673140667378902,
          0.013647651299834251,
          0.013648527674376965,
          0.013616859912872314,
          0.013625123538076878,
          0.013601504266262054,
          0.01359748374670744,
          0.013603671453893185,
          0.013591352850198746,
          0.013674073852598667,
          0.013716728426516056,
          0.013880446553230286,
          0.01402832381427288,
          0.013785437680780888,
          0.013736139982938766,
          0.013683914206922054,
          0.013662426732480526,
          0.013731429353356361,
          0.013622775673866272,
          0.013603388331830502,
          0.013581768609583378,
          0.013556286692619324,
          0.01355014555156231,
          0.013541175052523613,
          0.013530164957046509,
          0.013521263375878334,
          0.013518265448510647,
          0.013512035831809044,
          0.013506362214684486,
          0.01358909159898758,
          0.013885159976780415,
          0.014522704295814037,
          0.015143371187150478,
          0.013770363293588161,
          0.01442272774875164,
          0.013865853659808636,
          0.013830827549099922,
          0.0137568274512887,
          0.013863131403923035,
          0.013669868931174278,
          0.013656350784003735,
          0.013603061437606812,
          0.01359332725405693,
          0.013549979776144028,
          0.01353994756937027,
          0.013539277948439121,
          0.01352663803845644,
          0.013513481244444847,
          0.013510877266526222,
          0.01350695826113224,
          0.013496192172169685,
          0.013499556109309196,
          0.013486616313457489,
          0.01351731363683939,
          0.013515410013496876,
          0.013654768466949463,
          0.013715377077460289,
          0.013845904730260372,
          0.013578970916569233
         ]
        },
        {
         "name": "1 - Train Recording",
         "type": "scatter",
         "y": [
          0.04750856012105942,
          0.017269525676965714,
          0.018881505355238914,
          0.015447374433279037,
          0.015785368159413338,
          0.014921033754944801,
          0.014548743143677711,
          0.014278816990554333,
          0.014128433540463448,
          0.014027267694473267,
          0.013867842964828014,
          0.013761961832642555,
          0.013681589625775814,
          0.013604668900370598,
          0.013542033731937408,
          0.013474068604409695,
          0.013411673717200756,
          0.013358301483094692,
          0.013307351619005203,
          0.013258864171802998,
          0.013208480551838875,
          0.013160867616534233,
          0.013117027468979359,
          0.013075549155473709,
          0.013034353032708168,
          0.012995096854865551,
          0.012958223931491375,
          0.012922439724206924,
          0.012888586148619652,
          0.01285488624125719,
          0.012821287848055363,
          0.012787817046046257,
          0.012755399569869041,
          0.012723666615784168,
          0.012692327611148357,
          0.012661165557801723,
          0.012629903852939606,
          0.012599495239555836,
          0.012569212354719639,
          0.012539628893136978,
          0.012511787936091423,
          0.012492017820477486,
          0.012517810799181461,
          0.012579566799104214,
          0.012558255344629288,
          0.012584598734974861,
          0.013026116415858269,
          0.013067488558590412,
          0.015923207625746727,
          0.012773493304848671,
          0.013866755180060863,
          0.012940655462443829,
          0.012675611302256584,
          0.012621354311704636,
          0.012594121508300304,
          0.012769795022904873,
          0.012568478472530842,
          0.012574881315231323,
          0.012494225986301899,
          0.012439575977623463,
          0.012415425851941109,
          0.012408184818923473,
          0.012374193407595158,
          0.012359598651528358,
          0.012346642091870308,
          0.012317009270191193,
          0.012299955822527409,
          0.01227968093007803,
          0.01226840540766716,
          0.012250795029103756,
          0.012239249423146248,
          0.012219427153468132,
          0.012207956984639168,
          0.012185433879494667,
          0.012179112993180752,
          0.012221669778227806,
          0.0122842350974679,
          0.01227731816470623,
          0.01218811422586441,
          0.0123172951862216,
          0.012854919768869877,
          0.013220823369920254,
          0.013718763366341591,
          0.012906579300761223,
          0.012752991169691086,
          0.01262216828763485,
          0.012715158984065056,
          0.012346631847321987,
          0.012209204956889153,
          0.012237892486155033,
          0.012227751314640045,
          0.012221748009324074,
          0.012167432345449924,
          0.012157327495515347,
          0.01213063020259142,
          0.012133128009736538,
          0.012113338336348534,
          0.012113848701119423,
          0.012075675651431084,
          0.012050626799464226,
          0.012015510350465775,
          0.012095281854271889,
          0.012603131122887135,
          0.01325970608741045,
          0.013737993314862251,
          0.012347673997282982,
          0.01211640890687704,
          0.01210374291986227,
          0.012159302830696106,
          0.012213836424052715,
          0.012143244966864586,
          0.012044009752571583,
          0.012021783739328384,
          0.011995797976851463,
          0.011979930102825165,
          0.011971194297075272,
          0.01195695623755455,
          0.011953181587159634,
          0.011940731666982174,
          0.011928549967706203,
          0.011903230100870132,
          0.011991281993687153,
          0.01334706973284483,
          0.015314443036913872,
          0.014880278147757053,
          0.012462714686989784,
          0.013282200321555138,
          0.012282829731702805,
          0.01237977109849453,
          0.012284137308597565,
          0.012260585092008114,
          0.01217683870345354,
          0.012206602841615677,
          0.01206430234014988,
          0.012064995244145393,
          0.012015183456242085,
          0.012006090022623539,
          0.011979909613728523,
          0.01196583453565836,
          0.011955861002206802,
          0.011934581212699413,
          0.011922035366296768,
          0.011907980777323246,
          0.011896097101271152,
          0.011886447668075562,
          0.011879672296345234,
          0.011923884972929955,
          0.012001577764749527,
          0.012266445904970169,
          0.012149480171501637,
          0.011925009079277515
         ]
        },
        {
         "name": "2 - Test Recording",
         "type": "scatter",
         "y": [
          0.023675836622714996,
          0.016642972826957703,
          0.015004224143922329,
          0.015343055129051208,
          0.015120445750653744,
          0.014585469849407673,
          0.014518161304295063,
          0.014353129081428051,
          0.014337034896016121,
          0.014258560724556446,
          0.014175760559737682,
          0.01412978209555149,
          0.014093887992203236,
          0.014057179912924767,
          0.014033577404916286,
          0.014014528132975101,
          0.013998718932271004,
          0.01397025678306818,
          0.013947637751698494,
          0.013930777087807655,
          0.013916726224124432,
          0.013903173618018627,
          0.013887706212699413,
          0.01387279387563467,
          0.013860812410712242,
          0.013848683796823025,
          0.013834415003657341,
          0.013819959945976734,
          0.0138074466958642,
          0.013796371407806873,
          0.013785751536488533,
          0.013774696737527847,
          0.01376399677246809,
          0.013753306120634079,
          0.013743081130087376,
          0.013732180930674076,
          0.013721849769353867,
          0.013711297884583473,
          0.013701350428164005,
          0.013691818341612816,
          0.013682406395673752,
          0.013672420755028725,
          0.013669678010046482,
          0.013714965432882309,
          0.014009603299200535,
          0.016202108934521675,
          0.01393232773989439,
          0.013977723196148872,
          0.014085591770708561,
          0.013770249672234058,
          0.013820973224937916,
          0.013743811286985874,
          0.013886746019124985,
          0.013857576064765453,
          0.013768154196441174,
          0.013724513351917267,
          0.013702942989766598,
          0.013700231909751892,
          0.013703130185604095,
          0.013686702586710453,
          0.013675711117684841,
          0.013666684739291668,
          0.01365994568914175,
          0.013653909787535667,
          0.013646177016198635,
          0.013640010729432106,
          0.01363450102508068,
          0.013629866763949394,
          0.013623989187180996,
          0.013619988225400448,
          0.013615725561976433,
          0.01361960917711258,
          0.013628092594444752,
          0.013683325611054897,
          0.013717123307287693,
          0.013914242386817932,
          0.013789372518658638,
          0.013721100054681301,
          0.01359932404011488,
          0.013581757433712482,
          0.01358736027032137,
          0.013669339939951897,
          0.013721076771616936,
          0.01371638011187315,
          0.013592640869319439,
          0.01359704602509737,
          0.013738925568759441,
          0.013640373945236206,
          0.01359890028834343,
          0.0135752959176898,
          0.013570540584623814,
          0.01356395985931158,
          0.01355885248631239,
          0.013556251302361488,
          0.013548623770475388,
          0.013547440990805626,
          0.013544280081987381,
          0.013547001406550407,
          0.013561553321778774,
          0.013575077056884766,
          0.013661719858646393,
          0.013648541644215584,
          0.013861452229321003,
          0.013582580722868443,
          0.01353537943214178,
          0.01359785720705986,
          0.01357433944940567,
          0.013549333438277245,
          0.013540043495595455,
          0.013537628576159477,
          0.013540692627429962,
          0.01351750548928976,
          0.01351547334343195,
          0.013516368344426155,
          0.013507205061614513,
          0.0135036027058959,
          0.013499042019248009,
          0.013495583087205887,
          0.013493590988218784,
          0.013497993350028992,
          0.013544376008212566,
          0.013583914376795292,
          0.014910330064594746,
          0.013844605535268784,
          0.013563539832830429,
          0.013612301088869572,
          0.013572556897997856,
          0.013570626266300678,
          0.013565628789365292,
          0.013576210476458073,
          0.013540570624172688,
          0.013535067439079285,
          0.013530587777495384,
          0.013516845181584358,
          0.01351126842200756,
          0.013509554788470268,
          0.013503814116120338,
          0.01350108440965414,
          0.013502949848771095,
          0.013495390303432941,
          0.013492003083229065,
          0.013490989804267883,
          0.01349128782749176,
          0.013489366509020329,
          0.013508567586541176,
          0.013511345721781254,
          0.013627474196255207,
          0.013626090250909328,
          0.014104452915489674,
          0.013712923973798752,
          0.013543862849473953
         ]
        },
        {
         "name": "2 - Train Recording",
         "type": "scatter",
         "y": [
          0.03511972725391388,
          0.01677430234849453,
          0.016087010502815247,
          0.015471830032765865,
          0.015540428459644318,
          0.014879096299409866,
          0.014856114983558655,
          0.014662889763712883,
          0.01459082867950201,
          0.014510911889374256,
          0.014402356930077076,
          0.014341991394758224,
          0.014298727735877037,
          0.014253652654588223,
          0.014222746714949608,
          0.01418902724981308,
          0.014162504114210606,
          0.014125771820545197,
          0.014094395563006401,
          0.014066572301089764,
          0.01403845939785242,
          0.014011738821864128,
          0.013986599631607533,
          0.0139611279591918,
          0.01393663790076971,
          0.013912847265601158,
          0.013887854292988777,
          0.013862842693924904,
          0.013838107697665691,
          0.013814033940434456,
          0.013790631666779518,
          0.013767060823738575,
          0.013743570074439049,
          0.013719704933464527,
          0.013695450499653816,
          0.013670871034264565,
          0.013646072708070278,
          0.01362051721662283,
          0.013594879768788815,
          0.013567867688834667,
          0.013544772751629353,
          0.013515724800527096,
          0.0134864067658782,
          0.013569704256951809,
          0.014556626789271832,
          0.017321493476629257,
          0.013594601303339005,
          0.01476284023374319,
          0.014113917015492916,
          0.01372272614389658,
          0.013671541586518288,
          0.013616996817290783,
          0.013904144987463951,
          0.01366604957729578,
          0.013724097982048988,
          0.013588497415184975,
          0.013546411879360676,
          0.01352680940181017,
          0.013513566926121712,
          0.013501448556780815,
          0.01347046997398138,
          0.01344781368970871,
          0.013426092453300953,
          0.01340643409639597,
          0.013384477235376835,
          0.013363740406930447,
          0.013343418948352337,
          0.013324161060154438,
          0.01330174133181572,
          0.013284626416862011,
          0.013262330554425716,
          0.013263080269098282,
          0.013263336382806301,
          0.013378677889704704,
          0.013478309847414494,
          0.013823078013956547,
          0.013567613437771797,
          0.01337595097720623,
          0.01320063415914774,
          0.013204263523221016,
          0.01318766362965107,
          0.013196464627981186,
          0.01319895964115858,
          0.013200628571212292,
          0.013234767131507397,
          0.013404956087470055,
          0.013623805716633797,
          0.013296481221914291,
          0.013182224705815315,
          0.013154303655028343,
          0.01313620712608099,
          0.013123585842549801,
          0.013105947524309158,
          0.01310562714934349,
          0.013078625313937664,
          0.013058517128229141,
          0.013034790754318237,
          0.013021199032664299,
          0.01304863765835762,
          0.01309854257851839,
          0.013377193361520767,
          0.013598442077636719,
          0.014035292901098728,
          0.01335383951663971,
          0.013057798147201538,
          0.013071444816887379,
          0.013070999644696712,
          0.013035057112574577,
          0.013062701560556889,
          0.013072381727397442,
          0.013052454218268394,
          0.012983369641005993,
          0.012966076843440533,
          0.012956115417182446,
          0.012929989956319332,
          0.012911824509501457,
          0.012891251593828201,
          0.012873281724750996,
          0.012862595729529858,
          0.01286917645484209,
          0.013123689219355583,
          0.013929801061749458,
          0.016673684120178223,
          0.014002837240695953,
          0.013084902428090572,
          0.013203966431319714,
          0.013109026476740837,
          0.013137329369783401,
          0.013114412315189838,
          0.013136486522853374,
          0.013078783638775349,
          0.013052179478108883,
          0.013050059787929058,
          0.013006873428821564,
          0.012983324006199837,
          0.012963896617293358,
          0.012943325564265251,
          0.012924655340611935,
          0.012904721312224865,
          0.012881443835794926,
          0.012863313779234886,
          0.012843696400523186,
          0.012835683301091194,
          0.012825231067836285,
          0.012865029275417328,
          0.012904005125164986,
          0.013201086781919003,
          0.013415821827948093,
          0.014116599224507809,
          0.013244177214801311,
          0.01288849301636219
         ]
        },
        {
         "name": "3 - Test Recording",
         "type": "scatter",
         "y": [
          0.021991580724716187,
          0.017092319205403328,
          0.016018133610486984,
          0.017062094062566757,
          0.016147801652550697,
          0.015281894244253635,
          0.01518356055021286,
          0.015409122221171856,
          0.015467713586986065,
          0.015176325105130672,
          0.014935337007045746,
          0.014863591641187668,
          0.014860161580145359,
          0.014775990508496761,
          0.014690078794956207,
          0.014653941616415977,
          0.014605177566409111,
          0.0145372673869133,
          0.014501377940177917,
          0.014464395120739937,
          0.014403438195586205,
          0.014356373809278011,
          0.01431522611528635,
          0.014263555407524109,
          0.014218988828361034,
          0.014172710478305817,
          0.01412750780582428,
          0.014090404845774174,
          0.01404162310063839,
          0.013998163864016533,
          0.01396091841161251,
          0.013916268944740295,
          0.013871610164642334,
          0.013829401694238186,
          0.013791077770292759,
          0.01374716218560934,
          0.013709654100239277,
          0.01366620883345604,
          0.013626462779939175,
          0.013582156971096992,
          0.013533728197216988,
          0.013519925065338612,
          0.013417353853583336,
          0.013624812476336956,
          0.013430044054985046,
          0.01904398947954178,
          0.013739065267145634,
          0.013828792609274387,
          0.013917560689151287,
          0.013910452835261822,
          0.014659307897090912,
          0.013906685635447502,
          0.013708376325666904,
          0.014021290466189384,
          0.013825012370944023,
          0.013745596632361412,
          0.013702924363315105,
          0.01359724160283804,
          0.013701965101063251,
          0.013567210175096989,
          0.0135221928358078,
          0.013545935042202473,
          0.013463779352605343,
          0.013456730172038078,
          0.013390185311436653,
          0.013419315218925476,
          0.013327253982424736,
          0.013352179899811745,
          0.013262572698295116,
          0.013328165747225285,
          0.013173302635550499,
          0.013345977291464806,
          0.013075452297925949,
          0.013522804714739323,
          0.013004976324737072,
          0.013966257683932781,
          0.013034466654062271,
          0.013568739406764507,
          0.01308371126651764,
          0.013272455893456936,
          0.013010079972445965,
          0.013777188956737518,
          0.012979399412870407,
          0.014274941757321358,
          0.013008241541683674,
          0.013198750093579292,
          0.01331420335918665,
          0.013052075169980526,
          0.013244145549833775,
          0.012990646064281464,
          0.013226652517914772,
          0.01295752264559269,
          0.013091299682855606,
          0.012956121936440468,
          0.013029797002673149,
          0.012903543189167976,
          0.013044610619544983,
          0.012829153798520565,
          0.013145826756954193,
          0.01277033518999815,
          0.013464086689054966,
          0.012792990542948246,
          0.013443664647638798,
          0.012961292639374733,
          0.012828942388296127,
          0.013643945567309856,
          0.012844668701291084,
          0.013088691979646683,
          0.013014914467930794,
          0.0129150515422225,
          0.012930084951221943,
          0.012950005941092968,
          0.012834619730710983,
          0.01291585061699152,
          0.012812037952244282,
          0.012841986492276192,
          0.01281291525810957,
          0.012766688130795956,
          0.012848149985074997,
          0.01269278209656477,
          0.013124586082994938,
          0.012671312317252159,
          0.0152899120002985,
          0.012963456101715565,
          0.012958770617842674,
          0.013426020741462708,
          0.013558011502027512,
          0.012993376702070236,
          0.013030576519668102,
          0.013247676193714142,
          0.013024432584643364,
          0.012997789308428764,
          0.01291072741150856,
          0.012947595678269863,
          0.012933977879583836,
          0.01282733678817749,
          0.012869304977357388,
          0.012809290550649166,
          0.012831082567572594,
          0.012751853093504906,
          0.012817002832889557,
          0.012722235172986984,
          0.012799560092389584,
          0.012672113254666328,
          0.012888090685009956,
          0.012599462643265724,
          0.01332747284322977,
          0.012591459788382053,
          0.014259721152484417,
          0.012693791650235653,
          0.013109631836414337
         ]
        },
        {
         "name": "3 - Train Recording",
         "type": "scatter",
         "y": [
          0.028620097786188126,
          0.017516225576400757,
          0.0150041114538908,
          0.015149741433560848,
          0.014779751189053059,
          0.014303122647106647,
          0.014282078482210636,
          0.014096325263381004,
          0.014008412137627602,
          0.013840477913618088,
          0.013751332648098469,
          0.013643985614180565,
          0.013571263290941715,
          0.013509309850633144,
          0.013455078937113285,
          0.013406806625425816,
          0.013363484293222427,
          0.013314294628798962,
          0.013271051459014416,
          0.013232077471911907,
          0.013187987729907036,
          0.013145700097084045,
          0.013104760088026524,
          0.013063659891486168,
          0.01302306354045868,
          0.012982113286852837,
          0.012942931614816189,
          0.012904520146548748,
          0.012865428812801838,
          0.012827110476791859,
          0.012788757681846619,
          0.012749833054840565,
          0.012710779905319214,
          0.012671221047639847,
          0.012632275000214577,
          0.012592747807502747,
          0.012552700005471706,
          0.012511932291090488,
          0.012471362948417664,
          0.01242786180227995,
          0.01239020749926567,
          0.01234506070613861,
          0.012310686521232128,
          0.012901483103632927,
          0.016173243522644043,
          0.01920977234840393,
          0.01267948653548956,
          0.013456091284751892,
          0.012749209068715572,
          0.012706205248832703,
          0.013008857145905495,
          0.012732225470244884,
          0.01289374753832817,
          0.012651314958930016,
          0.012611597776412964,
          0.012551392428576946,
          0.012510426342487335,
          0.012482873164117336,
          0.01245900709182024,
          0.01240807119756937,
          0.012373491190373898,
          0.012345673516392708,
          0.01230392325669527,
          0.012272579595446587,
          0.012238635681569576,
          0.012209468521177769,
          0.01217408012598753,
          0.012146899476647377,
          0.012111714109778404,
          0.012094018049538136,
          0.01206347718834877,
          0.012083523906767368,
          0.012101237662136555,
          0.012334341183304787,
          0.012479564175009727,
          0.012970076873898506,
          0.012468052096664906,
          0.012190178036689758,
          0.011966543272137642,
          0.011948306113481522,
          0.011965690180659294,
          0.012350273318588734,
          0.012535477057099342,
          0.01270565576851368,
          0.011989290826022625,
          0.01199426967650652,
          0.012115763500332832,
          0.01196032389998436,
          0.011928122490644455,
          0.011889807879924774,
          0.011881610378623009,
          0.01182926632463932,
          0.011799859814345837,
          0.01176382601261139,
          0.011742834001779556,
          0.011717804707586765,
          0.011726723983883858,
          0.011744066141545773,
          0.011908289976418018,
          0.012094203382730484,
          0.01265393104404211,
          0.012549074366688728,
          0.012415105476975441,
          0.01171764824539423,
          0.011840610764920712,
          0.012274795211851597,
          0.011890181340277195,
          0.01170342043042183,
          0.011733357794582844,
          0.011699761264026165,
          0.0116493608802557,
          0.01162171084433794,
          0.011603281833231449,
          0.011589144356548786,
          0.011541973799467087,
          0.011512053199112415,
          0.011484554968774319,
          0.011462689377367496,
          0.011501508764922619,
          0.011653424240648746,
          0.012472907081246376,
          0.013754433020949364,
          0.016097595915198326,
          0.01196378841996193,
          0.012115010991692543,
          0.011982240714132786,
          0.01208625640720129,
          0.01189400628209114,
          0.01187842059880495,
          0.011844329535961151,
          0.011751098558306694,
          0.011728089302778244,
          0.011685586534440517,
          0.011646470986306667,
          0.011621869169175625,
          0.011580808088183403,
          0.01154983788728714,
          0.011514720506966114,
          0.011490345932543278,
          0.011459162458777428,
          0.011437026783823967,
          0.011405447497963905,
          0.0114006157964468,
          0.01139683835208416,
          0.011518877930939198,
          0.01170794852077961,
          0.012454094365239143,
          0.012737780809402466,
          0.013546455651521683,
          0.011925678700208664,
          0.011515750549733639
         ]
        }
       ],
       "layout": {
        "template": {
         "data": {
          "bar": [
           {
            "error_x": {
             "color": "#2a3f5f"
            },
            "error_y": {
             "color": "#2a3f5f"
            },
            "marker": {
             "line": {
              "color": "#E5ECF6",
              "width": 0.5
             },
             "pattern": {
              "fillmode": "overlay",
              "size": 10,
              "solidity": 0.2
             }
            },
            "type": "bar"
           }
          ],
          "barpolar": [
           {
            "marker": {
             "line": {
              "color": "#E5ECF6",
              "width": 0.5
             },
             "pattern": {
              "fillmode": "overlay",
              "size": 10,
              "solidity": 0.2
             }
            },
            "type": "barpolar"
           }
          ],
          "carpet": [
           {
            "aaxis": {
             "endlinecolor": "#2a3f5f",
             "gridcolor": "white",
             "linecolor": "white",
             "minorgridcolor": "white",
             "startlinecolor": "#2a3f5f"
            },
            "baxis": {
             "endlinecolor": "#2a3f5f",
             "gridcolor": "white",
             "linecolor": "white",
             "minorgridcolor": "white",
             "startlinecolor": "#2a3f5f"
            },
            "type": "carpet"
           }
          ],
          "choropleth": [
           {
            "colorbar": {
             "outlinewidth": 0,
             "ticks": ""
            },
            "type": "choropleth"
           }
          ],
          "contour": [
           {
            "colorbar": {
             "outlinewidth": 0,
             "ticks": ""
            },
            "colorscale": [
             [
              0,
              "#0d0887"
             ],
             [
              0.1111111111111111,
              "#46039f"
             ],
             [
              0.2222222222222222,
              "#7201a8"
             ],
             [
              0.3333333333333333,
              "#9c179e"
             ],
             [
              0.4444444444444444,
              "#bd3786"
             ],
             [
              0.5555555555555556,
              "#d8576b"
             ],
             [
              0.6666666666666666,
              "#ed7953"
             ],
             [
              0.7777777777777778,
              "#fb9f3a"
             ],
             [
              0.8888888888888888,
              "#fdca26"
             ],
             [
              1,
              "#f0f921"
             ]
            ],
            "type": "contour"
           }
          ],
          "contourcarpet": [
           {
            "colorbar": {
             "outlinewidth": 0,
             "ticks": ""
            },
            "type": "contourcarpet"
           }
          ],
          "heatmap": [
           {
            "colorbar": {
             "outlinewidth": 0,
             "ticks": ""
            },
            "colorscale": [
             [
              0,
              "#0d0887"
             ],
             [
              0.1111111111111111,
              "#46039f"
             ],
             [
              0.2222222222222222,
              "#7201a8"
             ],
             [
              0.3333333333333333,
              "#9c179e"
             ],
             [
              0.4444444444444444,
              "#bd3786"
             ],
             [
              0.5555555555555556,
              "#d8576b"
             ],
             [
              0.6666666666666666,
              "#ed7953"
             ],
             [
              0.7777777777777778,
              "#fb9f3a"
             ],
             [
              0.8888888888888888,
              "#fdca26"
             ],
             [
              1,
              "#f0f921"
             ]
            ],
            "type": "heatmap"
           }
          ],
          "heatmapgl": [
           {
            "colorbar": {
             "outlinewidth": 0,
             "ticks": ""
            },
            "colorscale": [
             [
              0,
              "#0d0887"
             ],
             [
              0.1111111111111111,
              "#46039f"
             ],
             [
              0.2222222222222222,
              "#7201a8"
             ],
             [
              0.3333333333333333,
              "#9c179e"
             ],
             [
              0.4444444444444444,
              "#bd3786"
             ],
             [
              0.5555555555555556,
              "#d8576b"
             ],
             [
              0.6666666666666666,
              "#ed7953"
             ],
             [
              0.7777777777777778,
              "#fb9f3a"
             ],
             [
              0.8888888888888888,
              "#fdca26"
             ],
             [
              1,
              "#f0f921"
             ]
            ],
            "type": "heatmapgl"
           }
          ],
          "histogram": [
           {
            "marker": {
             "pattern": {
              "fillmode": "overlay",
              "size": 10,
              "solidity": 0.2
             }
            },
            "type": "histogram"
           }
          ],
          "histogram2d": [
           {
            "colorbar": {
             "outlinewidth": 0,
             "ticks": ""
            },
            "colorscale": [
             [
              0,
              "#0d0887"
             ],
             [
              0.1111111111111111,
              "#46039f"
             ],
             [
              0.2222222222222222,
              "#7201a8"
             ],
             [
              0.3333333333333333,
              "#9c179e"
             ],
             [
              0.4444444444444444,
              "#bd3786"
             ],
             [
              0.5555555555555556,
              "#d8576b"
             ],
             [
              0.6666666666666666,
              "#ed7953"
             ],
             [
              0.7777777777777778,
              "#fb9f3a"
             ],
             [
              0.8888888888888888,
              "#fdca26"
             ],
             [
              1,
              "#f0f921"
             ]
            ],
            "type": "histogram2d"
           }
          ],
          "histogram2dcontour": [
           {
            "colorbar": {
             "outlinewidth": 0,
             "ticks": ""
            },
            "colorscale": [
             [
              0,
              "#0d0887"
             ],
             [
              0.1111111111111111,
              "#46039f"
             ],
             [
              0.2222222222222222,
              "#7201a8"
             ],
             [
              0.3333333333333333,
              "#9c179e"
             ],
             [
              0.4444444444444444,
              "#bd3786"
             ],
             [
              0.5555555555555556,
              "#d8576b"
             ],
             [
              0.6666666666666666,
              "#ed7953"
             ],
             [
              0.7777777777777778,
              "#fb9f3a"
             ],
             [
              0.8888888888888888,
              "#fdca26"
             ],
             [
              1,
              "#f0f921"
             ]
            ],
            "type": "histogram2dcontour"
           }
          ],
          "mesh3d": [
           {
            "colorbar": {
             "outlinewidth": 0,
             "ticks": ""
            },
            "type": "mesh3d"
           }
          ],
          "parcoords": [
           {
            "line": {
             "colorbar": {
              "outlinewidth": 0,
              "ticks": ""
             }
            },
            "type": "parcoords"
           }
          ],
          "pie": [
           {
            "automargin": true,
            "type": "pie"
           }
          ],
          "scatter": [
           {
            "fillpattern": {
             "fillmode": "overlay",
             "size": 10,
             "solidity": 0.2
            },
            "type": "scatter"
           }
          ],
          "scatter3d": [
           {
            "line": {
             "colorbar": {
              "outlinewidth": 0,
              "ticks": ""
             }
            },
            "marker": {
             "colorbar": {
              "outlinewidth": 0,
              "ticks": ""
             }
            },
            "type": "scatter3d"
           }
          ],
          "scattercarpet": [
           {
            "marker": {
             "colorbar": {
              "outlinewidth": 0,
              "ticks": ""
             }
            },
            "type": "scattercarpet"
           }
          ],
          "scattergeo": [
           {
            "marker": {
             "colorbar": {
              "outlinewidth": 0,
              "ticks": ""
             }
            },
            "type": "scattergeo"
           }
          ],
          "scattergl": [
           {
            "marker": {
             "colorbar": {
              "outlinewidth": 0,
              "ticks": ""
             }
            },
            "type": "scattergl"
           }
          ],
          "scattermapbox": [
           {
            "marker": {
             "colorbar": {
              "outlinewidth": 0,
              "ticks": ""
             }
            },
            "type": "scattermapbox"
           }
          ],
          "scatterpolar": [
           {
            "marker": {
             "colorbar": {
              "outlinewidth": 0,
              "ticks": ""
             }
            },
            "type": "scatterpolar"
           }
          ],
          "scatterpolargl": [
           {
            "marker": {
             "colorbar": {
              "outlinewidth": 0,
              "ticks": ""
             }
            },
            "type": "scatterpolargl"
           }
          ],
          "scatterternary": [
           {
            "marker": {
             "colorbar": {
              "outlinewidth": 0,
              "ticks": ""
             }
            },
            "type": "scatterternary"
           }
          ],
          "surface": [
           {
            "colorbar": {
             "outlinewidth": 0,
             "ticks": ""
            },
            "colorscale": [
             [
              0,
              "#0d0887"
             ],
             [
              0.1111111111111111,
              "#46039f"
             ],
             [
              0.2222222222222222,
              "#7201a8"
             ],
             [
              0.3333333333333333,
              "#9c179e"
             ],
             [
              0.4444444444444444,
              "#bd3786"
             ],
             [
              0.5555555555555556,
              "#d8576b"
             ],
             [
              0.6666666666666666,
              "#ed7953"
             ],
             [
              0.7777777777777778,
              "#fb9f3a"
             ],
             [
              0.8888888888888888,
              "#fdca26"
             ],
             [
              1,
              "#f0f921"
             ]
            ],
            "type": "surface"
           }
          ],
          "table": [
           {
            "cells": {
             "fill": {
              "color": "#EBF0F8"
             },
             "line": {
              "color": "white"
             }
            },
            "header": {
             "fill": {
              "color": "#C8D4E3"
             },
             "line": {
              "color": "white"
             }
            },
            "type": "table"
           }
          ]
         },
         "layout": {
          "annotationdefaults": {
           "arrowcolor": "#2a3f5f",
           "arrowhead": 0,
           "arrowwidth": 1
          },
          "autotypenumbers": "strict",
          "coloraxis": {
           "colorbar": {
            "outlinewidth": 0,
            "ticks": ""
           }
          },
          "colorscale": {
           "diverging": [
            [
             0,
             "#8e0152"
            ],
            [
             0.1,
             "#c51b7d"
            ],
            [
             0.2,
             "#de77ae"
            ],
            [
             0.3,
             "#f1b6da"
            ],
            [
             0.4,
             "#fde0ef"
            ],
            [
             0.5,
             "#f7f7f7"
            ],
            [
             0.6,
             "#e6f5d0"
            ],
            [
             0.7,
             "#b8e186"
            ],
            [
             0.8,
             "#7fbc41"
            ],
            [
             0.9,
             "#4d9221"
            ],
            [
             1,
             "#276419"
            ]
           ],
           "sequential": [
            [
             0,
             "#0d0887"
            ],
            [
             0.1111111111111111,
             "#46039f"
            ],
            [
             0.2222222222222222,
             "#7201a8"
            ],
            [
             0.3333333333333333,
             "#9c179e"
            ],
            [
             0.4444444444444444,
             "#bd3786"
            ],
            [
             0.5555555555555556,
             "#d8576b"
            ],
            [
             0.6666666666666666,
             "#ed7953"
            ],
            [
             0.7777777777777778,
             "#fb9f3a"
            ],
            [
             0.8888888888888888,
             "#fdca26"
            ],
            [
             1,
             "#f0f921"
            ]
           ],
           "sequentialminus": [
            [
             0,
             "#0d0887"
            ],
            [
             0.1111111111111111,
             "#46039f"
            ],
            [
             0.2222222222222222,
             "#7201a8"
            ],
            [
             0.3333333333333333,
             "#9c179e"
            ],
            [
             0.4444444444444444,
             "#bd3786"
            ],
            [
             0.5555555555555556,
             "#d8576b"
            ],
            [
             0.6666666666666666,
             "#ed7953"
            ],
            [
             0.7777777777777778,
             "#fb9f3a"
            ],
            [
             0.8888888888888888,
             "#fdca26"
            ],
            [
             1,
             "#f0f921"
            ]
           ]
          },
          "colorway": [
           "#636efa",
           "#EF553B",
           "#00cc96",
           "#ab63fa",
           "#FFA15A",
           "#19d3f3",
           "#FF6692",
           "#B6E880",
           "#FF97FF",
           "#FECB52"
          ],
          "font": {
           "color": "#2a3f5f"
          },
          "geo": {
           "bgcolor": "white",
           "lakecolor": "white",
           "landcolor": "#E5ECF6",
           "showlakes": true,
           "showland": true,
           "subunitcolor": "white"
          },
          "hoverlabel": {
           "align": "left"
          },
          "hovermode": "closest",
          "mapbox": {
           "style": "light"
          },
          "paper_bgcolor": "white",
          "plot_bgcolor": "#E5ECF6",
          "polar": {
           "angularaxis": {
            "gridcolor": "white",
            "linecolor": "white",
            "ticks": ""
           },
           "bgcolor": "#E5ECF6",
           "radialaxis": {
            "gridcolor": "white",
            "linecolor": "white",
            "ticks": ""
           }
          },
          "scene": {
           "xaxis": {
            "backgroundcolor": "#E5ECF6",
            "gridcolor": "white",
            "gridwidth": 2,
            "linecolor": "white",
            "showbackground": true,
            "ticks": "",
            "zerolinecolor": "white"
           },
           "yaxis": {
            "backgroundcolor": "#E5ECF6",
            "gridcolor": "white",
            "gridwidth": 2,
            "linecolor": "white",
            "showbackground": true,
            "ticks": "",
            "zerolinecolor": "white"
           },
           "zaxis": {
            "backgroundcolor": "#E5ECF6",
            "gridcolor": "white",
            "gridwidth": 2,
            "linecolor": "white",
            "showbackground": true,
            "ticks": "",
            "zerolinecolor": "white"
           }
          },
          "shapedefaults": {
           "line": {
            "color": "#2a3f5f"
           }
          },
          "ternary": {
           "aaxis": {
            "gridcolor": "white",
            "linecolor": "white",
            "ticks": ""
           },
           "baxis": {
            "gridcolor": "white",
            "linecolor": "white",
            "ticks": ""
           },
           "bgcolor": "#E5ECF6",
           "caxis": {
            "gridcolor": "white",
            "linecolor": "white",
            "ticks": ""
           }
          },
          "title": {
           "x": 0.05
          },
          "xaxis": {
           "automargin": true,
           "gridcolor": "white",
           "linecolor": "white",
           "ticks": "",
           "title": {
            "standoff": 15
           },
           "zerolinecolor": "white",
           "zerolinewidth": 2
          },
          "yaxis": {
           "automargin": true,
           "gridcolor": "white",
           "linecolor": "white",
           "ticks": "",
           "title": {
            "standoff": 15
           },
           "zerolinecolor": "white",
           "zerolinewidth": 2
          }
         }
        },
        "title": {
         "text": "Loss Curve Rank 10"
        },
        "xaxis": {
         "title": {
          "text": "Iteration"
         }
        },
        "yaxis": {
         "range": [
          0,
          0.04
         ],
         "title": {
          "text": "Loss"
         }
        }
       }
      }
     },
     "metadata": {},
     "output_type": "display_data"
    }
   ],
   "source": [
    "train_loss = np.array(train_loss)\n",
    "test_loss = np.array(test_loss)\n",
    "\n",
    "fig = go.Figure()\n",
    "for recording in range(TOTAL_RECORDINGS):\n",
    "    fig.add_trace(go.Scatter(y=test_loss[:, recording], name=f'{recording} - Test Recording'))\n",
    "    fig.add_trace(go.Scatter(y=train_loss[:, recording], name=f'{recording} - Train Recording'))\n",
    "fig.update_layout(title=f'Loss Curve Rank {RANK}', xaxis_title='Iteration', yaxis_title='Loss')\n",
    "# Show the y axis from 0 to 0.1\n",
    "fig.update_yaxes(range=[0, 0.04])\n",
    "fig.show()\n",
    "\n",
    "test_loss_neural_network = test_loss[-1]"
   ]
  },
  {
   "cell_type": "markdown",
   "metadata": {},
   "source": [
    "## Continuous Decoder model"
   ]
  },
  {
   "cell_type": "code",
   "execution_count": 9,
   "metadata": {},
   "outputs": [
    {
     "name": "stdout",
     "output_type": "stream",
     "text": [
      "time-dependent:\n",
      "Chosen alpha: 10\n",
      "r2: 0.5514621486197606 corr: 0.7460602962810368 mse: 0.011435355949357679\n",
      "time-dependent:\n",
      "Chosen alpha: 10\n",
      "r2: 0.5347374102375595 corr: 0.7316881544919058 mse: 0.011373395842066729\n",
      "time-dependent:\n",
      "Chosen alpha: 10\n",
      "r2: 0.5719607446430899 corr: 0.7579690478073614 mse: 0.01052688932962336\n",
      "time-dependent:\n",
      "Chosen alpha: 10\n",
      "r2: 0.6376397243344992 corr: 0.8051757804612079 mse: 0.011428955669119755\n"
     ]
    }
   ],
   "source": [
    "Y_pred_continuous_decoder = []\n",
    "test_loss_continuous_decoder = []\n",
    "\n",
    "for recording_session in range(TOTAL_RECORDINGS):\n",
    "    y_pred, evaluation = continuous_decoder(X_train[recording_session], Y_train[recording_session], X_test[recording_session], Y_test[recording_session], time_independent=False)\n",
    "    Y_pred_continuous_decoder.append(y_pred)\n",
    "    test_loss_continuous_decoder.append(evaluation[2])\n",
    "\n",
    "test_loss_continuous_decoder = np.array(test_loss_continuous_decoder)"
   ]
  },
  {
   "cell_type": "markdown",
   "metadata": {},
   "source": [
    "## ARD Regression Model"
   ]
  },
  {
   "cell_type": "code",
   "execution_count": 15,
   "metadata": {},
   "outputs": [
    {
     "name": "stdout",
     "output_type": "stream",
     "text": [
      "Performance of ARD model on test data: 0, Loss 0.030607482200984658\n",
      "Performance of ARD model on test data: 1, Loss 0.03861754108817529\n"
     ]
    },
    {
     "ename": "",
     "evalue": "",
     "output_type": "error",
     "traceback": [
      "\u001b[1;31mThe Kernel crashed while executing code in the the current cell or a previous cell. Please review the code in the cell(s) to identify a possible cause of the failure. Click <a href='https://aka.ms/vscodeJupyterKernelCrash'>here</a> for more info. View Jupyter <a href='command:jupyter.viewOutput'>log</a> for further details."
     ]
    }
   ],
   "source": [
    "Y_pred_ARD = []\n",
    "test_loss_ARD = []\n",
    "ARD_model = RegressorChain(ARDRegression(alpha_1=1e-4, alpha_2=1e-4, lambda_1=1, lambda_2=0.5))\n",
    "\n",
    "for recording in range(TOTAL_RECORDINGS):\n",
    "    X_train_new = X_train[recording].reshape(X_train[recording].shape[0], -1)\n",
    "    X_test_new = X_test[recording].reshape(X_test[recording].shape[0], -1)\n",
    "\n",
    "    ARD_model.fit(X_train_new, Y_train[recording])\n",
    "    Y_pred = ARD_model.predict(X_test_new)\n",
    "    Y_pred_ARD.append(Y_pred)\n",
    "    \n",
    "    test_loss = mean_squared_error(Y_test[recording], Y_pred)\n",
    "    print(f'Performance of ARD model on test data: {recording}, Loss {test_loss}')\n",
    "    test_loss_ARD.append(test_loss)\n",
    "\n",
    "test_loss_ARD = np.array(test_loss_ARD)"
   ]
  },
  {
   "cell_type": "code",
   "execution_count": 118,
   "metadata": {},
   "outputs": [],
   "source": [
    "# ARD Performance:\n",
    "test_loss_ARD = np.array([\n",
    "    0.047269990033470675, \n",
    "    0.018843322495421387, \n",
    "    0.022582635558847583,\n",
    "    0.0468420420424728,\n",
    "    0.057981851816811925,\n",
    "    0.03037443153550907,\n",
    "    0.023371255594955443,\n",
    "    0.022045891482480172,\n",
    "    0.05732039933265805,\n",
    "    0.035073908627002826\n",
    "])"
   ]
  },
  {
   "cell_type": "markdown",
   "metadata": {},
   "source": [
    "## Zero Predictor"
   ]
  },
  {
   "cell_type": "code",
   "execution_count": 119,
   "metadata": {},
   "outputs": [
    {
     "name": "stdout",
     "output_type": "stream",
     "text": [
      "Performance of zero predictor on training data: 0, Loss 0.06247894465923309\n",
      "Performance of zero predictor on training data: 1, Loss 0.05807190015912056\n",
      "Performance of zero predictor on training data: 2, Loss 0.054529912769794464\n",
      "Performance of zero predictor on training data: 3, Loss 0.06047986075282097\n"
     ]
    }
   ],
   "source": [
    "zero_predictor = ZeroPredictor()\n",
    "test_loss_zero_predictor = []\n",
    "\n",
    "for recording in range(TOTAL_RECORDINGS):\n",
    "    loss_item = evaluate_recording(recording, X_train[recording], Y_train[recording], zero_predictor, loss_fn, plot_num=0)\n",
    "    print(f'Performance of zero predictor on training data: {recording}, Loss {loss_item}')\n",
    "    test_loss_zero_predictor.append(loss_item)\n",
    "\n",
    "test_loss_zero_predictor = np.array(test_loss_zero_predictor)"
   ]
  },
  {
   "cell_type": "markdown",
   "metadata": {},
   "source": [
    "## Mean Predictor"
   ]
  },
  {
   "cell_type": "code",
   "execution_count": 13,
   "metadata": {},
   "outputs": [
    {
     "name": "stdout",
     "output_type": "stream",
     "text": [
      "Performance of zero predictor on training data: 0, Loss 0.014219517880003755\n",
      "Performance of zero predictor on training data: 1, Loss 0.017322901560449005\n",
      "Performance of zero predictor on training data: 2, Loss 0.014173219471063727\n",
      "Performance of zero predictor on training data: 3, Loss 0.015911425953747955\n"
     ]
    }
   ],
   "source": [
    "mean_predictor = MeanPredictor(Y_train)\n",
    "test_loss_mean_predictor = []\n",
    "\n",
    "for recording in range(TOTAL_RECORDINGS):\n",
    "    loss_item = evaluate_recording(recording, X_test[recording], Y_test[recording], mean_predictor, loss_fn, plot_num=0)\n",
    "    print(f'Performance of zero predictor on training data: {recording}, Loss {loss_item}')\n",
    "    test_loss_mean_predictor.append(loss_item)\n",
    "\n",
    "test_loss_mean_predictor = np.array(test_loss_mean_predictor)"
   ]
  },
  {
   "cell_type": "code",
   "execution_count": 14,
   "metadata": {},
   "outputs": [
    {
     "data": {
      "application/vnd.plotly.v1+json": {
       "config": {
        "plotlyServerURL": "https://plot.ly"
       },
       "data": [
        {
         "name": "Mean Predictor",
         "type": "bar",
         "x": [
          0,
          1,
          2,
          3
         ],
         "y": [
          0.014219517880003755,
          0.017322901560449005,
          0.014173219471063727,
          0.015911425953747955
         ]
        },
        {
         "name": "Neural Network",
         "type": "bar",
         "x": [
          0,
          1,
          2,
          3
         ],
         "y": [
          0.01304731797426939,
          0.013578970916569233,
          0.013543862849473953,
          0.013109631836414337
         ]
        },
        {
         "name": "Continuous Decoder",
         "type": "bar",
         "x": [
          0,
          1,
          2,
          3
         ],
         "y": [
          0.011435355949357679,
          0.011373395842066729,
          0.01052688932962336,
          0.011428955669119755
         ]
        }
       ],
       "layout": {
        "template": {
         "data": {
          "bar": [
           {
            "error_x": {
             "color": "#2a3f5f"
            },
            "error_y": {
             "color": "#2a3f5f"
            },
            "marker": {
             "line": {
              "color": "#E5ECF6",
              "width": 0.5
             },
             "pattern": {
              "fillmode": "overlay",
              "size": 10,
              "solidity": 0.2
             }
            },
            "type": "bar"
           }
          ],
          "barpolar": [
           {
            "marker": {
             "line": {
              "color": "#E5ECF6",
              "width": 0.5
             },
             "pattern": {
              "fillmode": "overlay",
              "size": 10,
              "solidity": 0.2
             }
            },
            "type": "barpolar"
           }
          ],
          "carpet": [
           {
            "aaxis": {
             "endlinecolor": "#2a3f5f",
             "gridcolor": "white",
             "linecolor": "white",
             "minorgridcolor": "white",
             "startlinecolor": "#2a3f5f"
            },
            "baxis": {
             "endlinecolor": "#2a3f5f",
             "gridcolor": "white",
             "linecolor": "white",
             "minorgridcolor": "white",
             "startlinecolor": "#2a3f5f"
            },
            "type": "carpet"
           }
          ],
          "choropleth": [
           {
            "colorbar": {
             "outlinewidth": 0,
             "ticks": ""
            },
            "type": "choropleth"
           }
          ],
          "contour": [
           {
            "colorbar": {
             "outlinewidth": 0,
             "ticks": ""
            },
            "colorscale": [
             [
              0,
              "#0d0887"
             ],
             [
              0.1111111111111111,
              "#46039f"
             ],
             [
              0.2222222222222222,
              "#7201a8"
             ],
             [
              0.3333333333333333,
              "#9c179e"
             ],
             [
              0.4444444444444444,
              "#bd3786"
             ],
             [
              0.5555555555555556,
              "#d8576b"
             ],
             [
              0.6666666666666666,
              "#ed7953"
             ],
             [
              0.7777777777777778,
              "#fb9f3a"
             ],
             [
              0.8888888888888888,
              "#fdca26"
             ],
             [
              1,
              "#f0f921"
             ]
            ],
            "type": "contour"
           }
          ],
          "contourcarpet": [
           {
            "colorbar": {
             "outlinewidth": 0,
             "ticks": ""
            },
            "type": "contourcarpet"
           }
          ],
          "heatmap": [
           {
            "colorbar": {
             "outlinewidth": 0,
             "ticks": ""
            },
            "colorscale": [
             [
              0,
              "#0d0887"
             ],
             [
              0.1111111111111111,
              "#46039f"
             ],
             [
              0.2222222222222222,
              "#7201a8"
             ],
             [
              0.3333333333333333,
              "#9c179e"
             ],
             [
              0.4444444444444444,
              "#bd3786"
             ],
             [
              0.5555555555555556,
              "#d8576b"
             ],
             [
              0.6666666666666666,
              "#ed7953"
             ],
             [
              0.7777777777777778,
              "#fb9f3a"
             ],
             [
              0.8888888888888888,
              "#fdca26"
             ],
             [
              1,
              "#f0f921"
             ]
            ],
            "type": "heatmap"
           }
          ],
          "heatmapgl": [
           {
            "colorbar": {
             "outlinewidth": 0,
             "ticks": ""
            },
            "colorscale": [
             [
              0,
              "#0d0887"
             ],
             [
              0.1111111111111111,
              "#46039f"
             ],
             [
              0.2222222222222222,
              "#7201a8"
             ],
             [
              0.3333333333333333,
              "#9c179e"
             ],
             [
              0.4444444444444444,
              "#bd3786"
             ],
             [
              0.5555555555555556,
              "#d8576b"
             ],
             [
              0.6666666666666666,
              "#ed7953"
             ],
             [
              0.7777777777777778,
              "#fb9f3a"
             ],
             [
              0.8888888888888888,
              "#fdca26"
             ],
             [
              1,
              "#f0f921"
             ]
            ],
            "type": "heatmapgl"
           }
          ],
          "histogram": [
           {
            "marker": {
             "pattern": {
              "fillmode": "overlay",
              "size": 10,
              "solidity": 0.2
             }
            },
            "type": "histogram"
           }
          ],
          "histogram2d": [
           {
            "colorbar": {
             "outlinewidth": 0,
             "ticks": ""
            },
            "colorscale": [
             [
              0,
              "#0d0887"
             ],
             [
              0.1111111111111111,
              "#46039f"
             ],
             [
              0.2222222222222222,
              "#7201a8"
             ],
             [
              0.3333333333333333,
              "#9c179e"
             ],
             [
              0.4444444444444444,
              "#bd3786"
             ],
             [
              0.5555555555555556,
              "#d8576b"
             ],
             [
              0.6666666666666666,
              "#ed7953"
             ],
             [
              0.7777777777777778,
              "#fb9f3a"
             ],
             [
              0.8888888888888888,
              "#fdca26"
             ],
             [
              1,
              "#f0f921"
             ]
            ],
            "type": "histogram2d"
           }
          ],
          "histogram2dcontour": [
           {
            "colorbar": {
             "outlinewidth": 0,
             "ticks": ""
            },
            "colorscale": [
             [
              0,
              "#0d0887"
             ],
             [
              0.1111111111111111,
              "#46039f"
             ],
             [
              0.2222222222222222,
              "#7201a8"
             ],
             [
              0.3333333333333333,
              "#9c179e"
             ],
             [
              0.4444444444444444,
              "#bd3786"
             ],
             [
              0.5555555555555556,
              "#d8576b"
             ],
             [
              0.6666666666666666,
              "#ed7953"
             ],
             [
              0.7777777777777778,
              "#fb9f3a"
             ],
             [
              0.8888888888888888,
              "#fdca26"
             ],
             [
              1,
              "#f0f921"
             ]
            ],
            "type": "histogram2dcontour"
           }
          ],
          "mesh3d": [
           {
            "colorbar": {
             "outlinewidth": 0,
             "ticks": ""
            },
            "type": "mesh3d"
           }
          ],
          "parcoords": [
           {
            "line": {
             "colorbar": {
              "outlinewidth": 0,
              "ticks": ""
             }
            },
            "type": "parcoords"
           }
          ],
          "pie": [
           {
            "automargin": true,
            "type": "pie"
           }
          ],
          "scatter": [
           {
            "fillpattern": {
             "fillmode": "overlay",
             "size": 10,
             "solidity": 0.2
            },
            "type": "scatter"
           }
          ],
          "scatter3d": [
           {
            "line": {
             "colorbar": {
              "outlinewidth": 0,
              "ticks": ""
             }
            },
            "marker": {
             "colorbar": {
              "outlinewidth": 0,
              "ticks": ""
             }
            },
            "type": "scatter3d"
           }
          ],
          "scattercarpet": [
           {
            "marker": {
             "colorbar": {
              "outlinewidth": 0,
              "ticks": ""
             }
            },
            "type": "scattercarpet"
           }
          ],
          "scattergeo": [
           {
            "marker": {
             "colorbar": {
              "outlinewidth": 0,
              "ticks": ""
             }
            },
            "type": "scattergeo"
           }
          ],
          "scattergl": [
           {
            "marker": {
             "colorbar": {
              "outlinewidth": 0,
              "ticks": ""
             }
            },
            "type": "scattergl"
           }
          ],
          "scattermapbox": [
           {
            "marker": {
             "colorbar": {
              "outlinewidth": 0,
              "ticks": ""
             }
            },
            "type": "scattermapbox"
           }
          ],
          "scatterpolar": [
           {
            "marker": {
             "colorbar": {
              "outlinewidth": 0,
              "ticks": ""
             }
            },
            "type": "scatterpolar"
           }
          ],
          "scatterpolargl": [
           {
            "marker": {
             "colorbar": {
              "outlinewidth": 0,
              "ticks": ""
             }
            },
            "type": "scatterpolargl"
           }
          ],
          "scatterternary": [
           {
            "marker": {
             "colorbar": {
              "outlinewidth": 0,
              "ticks": ""
             }
            },
            "type": "scatterternary"
           }
          ],
          "surface": [
           {
            "colorbar": {
             "outlinewidth": 0,
             "ticks": ""
            },
            "colorscale": [
             [
              0,
              "#0d0887"
             ],
             [
              0.1111111111111111,
              "#46039f"
             ],
             [
              0.2222222222222222,
              "#7201a8"
             ],
             [
              0.3333333333333333,
              "#9c179e"
             ],
             [
              0.4444444444444444,
              "#bd3786"
             ],
             [
              0.5555555555555556,
              "#d8576b"
             ],
             [
              0.6666666666666666,
              "#ed7953"
             ],
             [
              0.7777777777777778,
              "#fb9f3a"
             ],
             [
              0.8888888888888888,
              "#fdca26"
             ],
             [
              1,
              "#f0f921"
             ]
            ],
            "type": "surface"
           }
          ],
          "table": [
           {
            "cells": {
             "fill": {
              "color": "#EBF0F8"
             },
             "line": {
              "color": "white"
             }
            },
            "header": {
             "fill": {
              "color": "#C8D4E3"
             },
             "line": {
              "color": "white"
             }
            },
            "type": "table"
           }
          ]
         },
         "layout": {
          "annotationdefaults": {
           "arrowcolor": "#2a3f5f",
           "arrowhead": 0,
           "arrowwidth": 1
          },
          "autotypenumbers": "strict",
          "coloraxis": {
           "colorbar": {
            "outlinewidth": 0,
            "ticks": ""
           }
          },
          "colorscale": {
           "diverging": [
            [
             0,
             "#8e0152"
            ],
            [
             0.1,
             "#c51b7d"
            ],
            [
             0.2,
             "#de77ae"
            ],
            [
             0.3,
             "#f1b6da"
            ],
            [
             0.4,
             "#fde0ef"
            ],
            [
             0.5,
             "#f7f7f7"
            ],
            [
             0.6,
             "#e6f5d0"
            ],
            [
             0.7,
             "#b8e186"
            ],
            [
             0.8,
             "#7fbc41"
            ],
            [
             0.9,
             "#4d9221"
            ],
            [
             1,
             "#276419"
            ]
           ],
           "sequential": [
            [
             0,
             "#0d0887"
            ],
            [
             0.1111111111111111,
             "#46039f"
            ],
            [
             0.2222222222222222,
             "#7201a8"
            ],
            [
             0.3333333333333333,
             "#9c179e"
            ],
            [
             0.4444444444444444,
             "#bd3786"
            ],
            [
             0.5555555555555556,
             "#d8576b"
            ],
            [
             0.6666666666666666,
             "#ed7953"
            ],
            [
             0.7777777777777778,
             "#fb9f3a"
            ],
            [
             0.8888888888888888,
             "#fdca26"
            ],
            [
             1,
             "#f0f921"
            ]
           ],
           "sequentialminus": [
            [
             0,
             "#0d0887"
            ],
            [
             0.1111111111111111,
             "#46039f"
            ],
            [
             0.2222222222222222,
             "#7201a8"
            ],
            [
             0.3333333333333333,
             "#9c179e"
            ],
            [
             0.4444444444444444,
             "#bd3786"
            ],
            [
             0.5555555555555556,
             "#d8576b"
            ],
            [
             0.6666666666666666,
             "#ed7953"
            ],
            [
             0.7777777777777778,
             "#fb9f3a"
            ],
            [
             0.8888888888888888,
             "#fdca26"
            ],
            [
             1,
             "#f0f921"
            ]
           ]
          },
          "colorway": [
           "#636efa",
           "#EF553B",
           "#00cc96",
           "#ab63fa",
           "#FFA15A",
           "#19d3f3",
           "#FF6692",
           "#B6E880",
           "#FF97FF",
           "#FECB52"
          ],
          "font": {
           "color": "#2a3f5f"
          },
          "geo": {
           "bgcolor": "white",
           "lakecolor": "white",
           "landcolor": "#E5ECF6",
           "showlakes": true,
           "showland": true,
           "subunitcolor": "white"
          },
          "hoverlabel": {
           "align": "left"
          },
          "hovermode": "closest",
          "mapbox": {
           "style": "light"
          },
          "paper_bgcolor": "white",
          "plot_bgcolor": "#E5ECF6",
          "polar": {
           "angularaxis": {
            "gridcolor": "white",
            "linecolor": "white",
            "ticks": ""
           },
           "bgcolor": "#E5ECF6",
           "radialaxis": {
            "gridcolor": "white",
            "linecolor": "white",
            "ticks": ""
           }
          },
          "scene": {
           "xaxis": {
            "backgroundcolor": "#E5ECF6",
            "gridcolor": "white",
            "gridwidth": 2,
            "linecolor": "white",
            "showbackground": true,
            "ticks": "",
            "zerolinecolor": "white"
           },
           "yaxis": {
            "backgroundcolor": "#E5ECF6",
            "gridcolor": "white",
            "gridwidth": 2,
            "linecolor": "white",
            "showbackground": true,
            "ticks": "",
            "zerolinecolor": "white"
           },
           "zaxis": {
            "backgroundcolor": "#E5ECF6",
            "gridcolor": "white",
            "gridwidth": 2,
            "linecolor": "white",
            "showbackground": true,
            "ticks": "",
            "zerolinecolor": "white"
           }
          },
          "shapedefaults": {
           "line": {
            "color": "#2a3f5f"
           }
          },
          "ternary": {
           "aaxis": {
            "gridcolor": "white",
            "linecolor": "white",
            "ticks": ""
           },
           "baxis": {
            "gridcolor": "white",
            "linecolor": "white",
            "ticks": ""
           },
           "bgcolor": "#E5ECF6",
           "caxis": {
            "gridcolor": "white",
            "linecolor": "white",
            "ticks": ""
           }
          },
          "title": {
           "x": 0.05
          },
          "xaxis": {
           "automargin": true,
           "gridcolor": "white",
           "linecolor": "white",
           "ticks": "",
           "title": {
            "standoff": 15
           },
           "zerolinecolor": "white",
           "zerolinewidth": 2
          },
          "yaxis": {
           "automargin": true,
           "gridcolor": "white",
           "linecolor": "white",
           "ticks": "",
           "title": {
            "standoff": 15
           },
           "zerolinecolor": "white",
           "zerolinewidth": 2
          }
         }
        },
        "title": {
         "text": "Loss Curve Rank 10"
        },
        "xaxis": {
         "title": {
          "text": "Recording Session"
         }
        },
        "yaxis": {
         "title": {
          "text": "Test MSE"
         }
        }
       }
      }
     },
     "metadata": {},
     "output_type": "display_data"
    }
   ],
   "source": [
    "fig = go.Figure()\n",
    "# fig.add_trace(go.Bar(x=np.arange(TOTAL_RECORDINGS), y=test_loss_zero_predictor, name='Zero Predictor'))\n",
    "fig.add_trace(go.Bar(x=np.arange(TOTAL_RECORDINGS), y=test_loss_mean_predictor, name='Mean Predictor'))\n",
    "# fig.add_trace(go.Bar(x=np.arange(TOTAL_RECORDINGS), y=test_loss_reduced_rank, name='Reduced Rank'))\n",
    "# fig.add_trace(go.Bar(x=np.arange(TOTAL_RECORDINGS), y=test_loss_ARD, name='ARD Model'))\n",
    "fig.add_trace(go.Bar(x=np.arange(TOTAL_RECORDINGS), y=test_loss_neural_network, name='Neural Network'))\n",
    "fig.add_trace(go.Bar(x=np.arange(TOTAL_RECORDINGS), y=test_loss_continuous_decoder, name='Continuous Decoder'))\n",
    "fig.update_layout(title=f'Loss Curve Rank {RANK}', xaxis_title='Recording Session', yaxis_title='Test MSE')\n",
    "fig.show()"
   ]
  },
  {
   "cell_type": "markdown",
   "metadata": {},
   "source": [
    "# Evaluation"
   ]
  },
  {
   "cell_type": "code",
   "execution_count": null,
   "metadata": {},
   "outputs": [],
   "source": [
    "# Print all of the model parameters\n",
    "# for param in reduced_rank_model.parameters():\n",
    "#     print(param.data.shape)\n",
    "#     print(param.data)\n",
    "\n",
    "# print(f\"=== U matrices, length: {len(reduced_rank_model.Us)} ===\")\n",
    "# print(reduced_rank_model.Us)\n",
    "# print(f\"=== V matrices, shape: {reduced_rank_model.V.shape} ===\")\n",
    "# print(reduced_rank_model.V)\n",
    "# print(f\"=== bias, shape: {reduced_rank_model.bias.shape} ===\")\n",
    "# print(reduced_rank_model.bias)\n",
    "\n",
    "# print(reduced_rank_model.parameters())"
   ]
  },
  {
   "cell_type": "code",
   "execution_count": 40,
   "metadata": {},
   "outputs": [
    {
     "data": {
      "application/vnd.plotly.v1+json": {
       "config": {
        "plotlyServerURL": "https://plot.ly"
       },
       "data": [
        {
         "name": "Original",
         "type": "scatter",
         "y": [
          0.0025520771282861914,
          0.0037902238310532784,
          0.0065831602083981635,
          0.011537825917401016,
          0.019474329255325655,
          0.03127856200962339,
          0.047657460203339004,
          0.06882918002096707,
          0.09420082869290212,
          0.12216420797472681,
          0.15013189899955706,
          0.1748968918316698,
          0.1932546637542706,
          0.2027662136597182,
          0.2024090947940023,
          0.19289585217275587,
          0.1765361250165151,
          0.156660342552314,
          0.13679494062601152,
          0.1198328085616495,
          0.10743972093805415,
          0.09984468990960257,
          0.09603464733617832,
          0.09425522787565424,
          0.09262630862770467,
          0.089703239472313,
          0.08482487359419562,
          0.07816413400295127,
          0.07053863289485705,
          0.06308261419844466,
          0.05691092705302643,
          0.05287076606443294,
          0.051421391828263906,
          0.05262089210029403,
          0.056159732208140495,
          0.061417464658448793,
          0.06751991440076903,
          0.07343231196118052,
          0.0781137624326566,
          0.08070149656514829
         ]
        },
        {
         "name": "Prediction",
         "type": "scatter",
         "y": [
          0.010025708130617116,
          0.012248045581754718,
          0.017177998544995847,
          0.02571516123302999,
          0.03901172794515153,
          0.05820990878632719,
          0.08408382461672959,
          0.11665008825880525,
          0.15485833408874294,
          0.19648235534352052,
          0.23829572969853474,
          0.2765510119990083,
          0.30764749863114293,
          0.32880896701420725,
          0.33857579174657126,
          0.33697141884614024,
          0.32533097511674,
          0.3058738161125977,
          0.2811777226986855,
          0.2537025728884889,
          0.22546994880625643,
          0.19792593726997545,
          0.17197245517205748,
          0.14810030189174206,
          0.12655791790078064,
          0.10749137621615153,
          0.09101739871723641,
          0.07722167271054749,
          0.06610667396521888,
          0.05752974563776991,
          0.05116221190408307,
          0.04651643727028354,
          0.043029269460680544,
          0.040176373037200425,
          0.03757567806649817,
          0.035047791186669106,
          0.03261682372950514,
          0.030460885296795484,
          0.028827901630924718,
          0.027944659256399426
         ]
        }
       ],
       "layout": {
        "template": {
         "data": {
          "bar": [
           {
            "error_x": {
             "color": "#2a3f5f"
            },
            "error_y": {
             "color": "#2a3f5f"
            },
            "marker": {
             "line": {
              "color": "#E5ECF6",
              "width": 0.5
             },
             "pattern": {
              "fillmode": "overlay",
              "size": 10,
              "solidity": 0.2
             }
            },
            "type": "bar"
           }
          ],
          "barpolar": [
           {
            "marker": {
             "line": {
              "color": "#E5ECF6",
              "width": 0.5
             },
             "pattern": {
              "fillmode": "overlay",
              "size": 10,
              "solidity": 0.2
             }
            },
            "type": "barpolar"
           }
          ],
          "carpet": [
           {
            "aaxis": {
             "endlinecolor": "#2a3f5f",
             "gridcolor": "white",
             "linecolor": "white",
             "minorgridcolor": "white",
             "startlinecolor": "#2a3f5f"
            },
            "baxis": {
             "endlinecolor": "#2a3f5f",
             "gridcolor": "white",
             "linecolor": "white",
             "minorgridcolor": "white",
             "startlinecolor": "#2a3f5f"
            },
            "type": "carpet"
           }
          ],
          "choropleth": [
           {
            "colorbar": {
             "outlinewidth": 0,
             "ticks": ""
            },
            "type": "choropleth"
           }
          ],
          "contour": [
           {
            "colorbar": {
             "outlinewidth": 0,
             "ticks": ""
            },
            "colorscale": [
             [
              0,
              "#0d0887"
             ],
             [
              0.1111111111111111,
              "#46039f"
             ],
             [
              0.2222222222222222,
              "#7201a8"
             ],
             [
              0.3333333333333333,
              "#9c179e"
             ],
             [
              0.4444444444444444,
              "#bd3786"
             ],
             [
              0.5555555555555556,
              "#d8576b"
             ],
             [
              0.6666666666666666,
              "#ed7953"
             ],
             [
              0.7777777777777778,
              "#fb9f3a"
             ],
             [
              0.8888888888888888,
              "#fdca26"
             ],
             [
              1,
              "#f0f921"
             ]
            ],
            "type": "contour"
           }
          ],
          "contourcarpet": [
           {
            "colorbar": {
             "outlinewidth": 0,
             "ticks": ""
            },
            "type": "contourcarpet"
           }
          ],
          "heatmap": [
           {
            "colorbar": {
             "outlinewidth": 0,
             "ticks": ""
            },
            "colorscale": [
             [
              0,
              "#0d0887"
             ],
             [
              0.1111111111111111,
              "#46039f"
             ],
             [
              0.2222222222222222,
              "#7201a8"
             ],
             [
              0.3333333333333333,
              "#9c179e"
             ],
             [
              0.4444444444444444,
              "#bd3786"
             ],
             [
              0.5555555555555556,
              "#d8576b"
             ],
             [
              0.6666666666666666,
              "#ed7953"
             ],
             [
              0.7777777777777778,
              "#fb9f3a"
             ],
             [
              0.8888888888888888,
              "#fdca26"
             ],
             [
              1,
              "#f0f921"
             ]
            ],
            "type": "heatmap"
           }
          ],
          "heatmapgl": [
           {
            "colorbar": {
             "outlinewidth": 0,
             "ticks": ""
            },
            "colorscale": [
             [
              0,
              "#0d0887"
             ],
             [
              0.1111111111111111,
              "#46039f"
             ],
             [
              0.2222222222222222,
              "#7201a8"
             ],
             [
              0.3333333333333333,
              "#9c179e"
             ],
             [
              0.4444444444444444,
              "#bd3786"
             ],
             [
              0.5555555555555556,
              "#d8576b"
             ],
             [
              0.6666666666666666,
              "#ed7953"
             ],
             [
              0.7777777777777778,
              "#fb9f3a"
             ],
             [
              0.8888888888888888,
              "#fdca26"
             ],
             [
              1,
              "#f0f921"
             ]
            ],
            "type": "heatmapgl"
           }
          ],
          "histogram": [
           {
            "marker": {
             "pattern": {
              "fillmode": "overlay",
              "size": 10,
              "solidity": 0.2
             }
            },
            "type": "histogram"
           }
          ],
          "histogram2d": [
           {
            "colorbar": {
             "outlinewidth": 0,
             "ticks": ""
            },
            "colorscale": [
             [
              0,
              "#0d0887"
             ],
             [
              0.1111111111111111,
              "#46039f"
             ],
             [
              0.2222222222222222,
              "#7201a8"
             ],
             [
              0.3333333333333333,
              "#9c179e"
             ],
             [
              0.4444444444444444,
              "#bd3786"
             ],
             [
              0.5555555555555556,
              "#d8576b"
             ],
             [
              0.6666666666666666,
              "#ed7953"
             ],
             [
              0.7777777777777778,
              "#fb9f3a"
             ],
             [
              0.8888888888888888,
              "#fdca26"
             ],
             [
              1,
              "#f0f921"
             ]
            ],
            "type": "histogram2d"
           }
          ],
          "histogram2dcontour": [
           {
            "colorbar": {
             "outlinewidth": 0,
             "ticks": ""
            },
            "colorscale": [
             [
              0,
              "#0d0887"
             ],
             [
              0.1111111111111111,
              "#46039f"
             ],
             [
              0.2222222222222222,
              "#7201a8"
             ],
             [
              0.3333333333333333,
              "#9c179e"
             ],
             [
              0.4444444444444444,
              "#bd3786"
             ],
             [
              0.5555555555555556,
              "#d8576b"
             ],
             [
              0.6666666666666666,
              "#ed7953"
             ],
             [
              0.7777777777777778,
              "#fb9f3a"
             ],
             [
              0.8888888888888888,
              "#fdca26"
             ],
             [
              1,
              "#f0f921"
             ]
            ],
            "type": "histogram2dcontour"
           }
          ],
          "mesh3d": [
           {
            "colorbar": {
             "outlinewidth": 0,
             "ticks": ""
            },
            "type": "mesh3d"
           }
          ],
          "parcoords": [
           {
            "line": {
             "colorbar": {
              "outlinewidth": 0,
              "ticks": ""
             }
            },
            "type": "parcoords"
           }
          ],
          "pie": [
           {
            "automargin": true,
            "type": "pie"
           }
          ],
          "scatter": [
           {
            "fillpattern": {
             "fillmode": "overlay",
             "size": 10,
             "solidity": 0.2
            },
            "type": "scatter"
           }
          ],
          "scatter3d": [
           {
            "line": {
             "colorbar": {
              "outlinewidth": 0,
              "ticks": ""
             }
            },
            "marker": {
             "colorbar": {
              "outlinewidth": 0,
              "ticks": ""
             }
            },
            "type": "scatter3d"
           }
          ],
          "scattercarpet": [
           {
            "marker": {
             "colorbar": {
              "outlinewidth": 0,
              "ticks": ""
             }
            },
            "type": "scattercarpet"
           }
          ],
          "scattergeo": [
           {
            "marker": {
             "colorbar": {
              "outlinewidth": 0,
              "ticks": ""
             }
            },
            "type": "scattergeo"
           }
          ],
          "scattergl": [
           {
            "marker": {
             "colorbar": {
              "outlinewidth": 0,
              "ticks": ""
             }
            },
            "type": "scattergl"
           }
          ],
          "scattermapbox": [
           {
            "marker": {
             "colorbar": {
              "outlinewidth": 0,
              "ticks": ""
             }
            },
            "type": "scattermapbox"
           }
          ],
          "scatterpolar": [
           {
            "marker": {
             "colorbar": {
              "outlinewidth": 0,
              "ticks": ""
             }
            },
            "type": "scatterpolar"
           }
          ],
          "scatterpolargl": [
           {
            "marker": {
             "colorbar": {
              "outlinewidth": 0,
              "ticks": ""
             }
            },
            "type": "scatterpolargl"
           }
          ],
          "scatterternary": [
           {
            "marker": {
             "colorbar": {
              "outlinewidth": 0,
              "ticks": ""
             }
            },
            "type": "scatterternary"
           }
          ],
          "surface": [
           {
            "colorbar": {
             "outlinewidth": 0,
             "ticks": ""
            },
            "colorscale": [
             [
              0,
              "#0d0887"
             ],
             [
              0.1111111111111111,
              "#46039f"
             ],
             [
              0.2222222222222222,
              "#7201a8"
             ],
             [
              0.3333333333333333,
              "#9c179e"
             ],
             [
              0.4444444444444444,
              "#bd3786"
             ],
             [
              0.5555555555555556,
              "#d8576b"
             ],
             [
              0.6666666666666666,
              "#ed7953"
             ],
             [
              0.7777777777777778,
              "#fb9f3a"
             ],
             [
              0.8888888888888888,
              "#fdca26"
             ],
             [
              1,
              "#f0f921"
             ]
            ],
            "type": "surface"
           }
          ],
          "table": [
           {
            "cells": {
             "fill": {
              "color": "#EBF0F8"
             },
             "line": {
              "color": "white"
             }
            },
            "header": {
             "fill": {
              "color": "#C8D4E3"
             },
             "line": {
              "color": "white"
             }
            },
            "type": "table"
           }
          ]
         },
         "layout": {
          "annotationdefaults": {
           "arrowcolor": "#2a3f5f",
           "arrowhead": 0,
           "arrowwidth": 1
          },
          "autotypenumbers": "strict",
          "coloraxis": {
           "colorbar": {
            "outlinewidth": 0,
            "ticks": ""
           }
          },
          "colorscale": {
           "diverging": [
            [
             0,
             "#8e0152"
            ],
            [
             0.1,
             "#c51b7d"
            ],
            [
             0.2,
             "#de77ae"
            ],
            [
             0.3,
             "#f1b6da"
            ],
            [
             0.4,
             "#fde0ef"
            ],
            [
             0.5,
             "#f7f7f7"
            ],
            [
             0.6,
             "#e6f5d0"
            ],
            [
             0.7,
             "#b8e186"
            ],
            [
             0.8,
             "#7fbc41"
            ],
            [
             0.9,
             "#4d9221"
            ],
            [
             1,
             "#276419"
            ]
           ],
           "sequential": [
            [
             0,
             "#0d0887"
            ],
            [
             0.1111111111111111,
             "#46039f"
            ],
            [
             0.2222222222222222,
             "#7201a8"
            ],
            [
             0.3333333333333333,
             "#9c179e"
            ],
            [
             0.4444444444444444,
             "#bd3786"
            ],
            [
             0.5555555555555556,
             "#d8576b"
            ],
            [
             0.6666666666666666,
             "#ed7953"
            ],
            [
             0.7777777777777778,
             "#fb9f3a"
            ],
            [
             0.8888888888888888,
             "#fdca26"
            ],
            [
             1,
             "#f0f921"
            ]
           ],
           "sequentialminus": [
            [
             0,
             "#0d0887"
            ],
            [
             0.1111111111111111,
             "#46039f"
            ],
            [
             0.2222222222222222,
             "#7201a8"
            ],
            [
             0.3333333333333333,
             "#9c179e"
            ],
            [
             0.4444444444444444,
             "#bd3786"
            ],
            [
             0.5555555555555556,
             "#d8576b"
            ],
            [
             0.6666666666666666,
             "#ed7953"
            ],
            [
             0.7777777777777778,
             "#fb9f3a"
            ],
            [
             0.8888888888888888,
             "#fdca26"
            ],
            [
             1,
             "#f0f921"
            ]
           ]
          },
          "colorway": [
           "#636efa",
           "#EF553B",
           "#00cc96",
           "#ab63fa",
           "#FFA15A",
           "#19d3f3",
           "#FF6692",
           "#B6E880",
           "#FF97FF",
           "#FECB52"
          ],
          "font": {
           "color": "#2a3f5f"
          },
          "geo": {
           "bgcolor": "white",
           "lakecolor": "white",
           "landcolor": "#E5ECF6",
           "showlakes": true,
           "showland": true,
           "subunitcolor": "white"
          },
          "hoverlabel": {
           "align": "left"
          },
          "hovermode": "closest",
          "mapbox": {
           "style": "light"
          },
          "paper_bgcolor": "white",
          "plot_bgcolor": "#E5ECF6",
          "polar": {
           "angularaxis": {
            "gridcolor": "white",
            "linecolor": "white",
            "ticks": ""
           },
           "bgcolor": "#E5ECF6",
           "radialaxis": {
            "gridcolor": "white",
            "linecolor": "white",
            "ticks": ""
           }
          },
          "scene": {
           "xaxis": {
            "backgroundcolor": "#E5ECF6",
            "gridcolor": "white",
            "gridwidth": 2,
            "linecolor": "white",
            "showbackground": true,
            "ticks": "",
            "zerolinecolor": "white"
           },
           "yaxis": {
            "backgroundcolor": "#E5ECF6",
            "gridcolor": "white",
            "gridwidth": 2,
            "linecolor": "white",
            "showbackground": true,
            "ticks": "",
            "zerolinecolor": "white"
           },
           "zaxis": {
            "backgroundcolor": "#E5ECF6",
            "gridcolor": "white",
            "gridwidth": 2,
            "linecolor": "white",
            "showbackground": true,
            "ticks": "",
            "zerolinecolor": "white"
           }
          },
          "shapedefaults": {
           "line": {
            "color": "#2a3f5f"
           }
          },
          "ternary": {
           "aaxis": {
            "gridcolor": "white",
            "linecolor": "white",
            "ticks": ""
           },
           "baxis": {
            "gridcolor": "white",
            "linecolor": "white",
            "ticks": ""
           },
           "bgcolor": "#E5ECF6",
           "caxis": {
            "gridcolor": "white",
            "linecolor": "white",
            "ticks": ""
           }
          },
          "title": {
           "x": 0.05
          },
          "xaxis": {
           "automargin": true,
           "gridcolor": "white",
           "linecolor": "white",
           "ticks": "",
           "title": {
            "standoff": 15
           },
           "zerolinecolor": "white",
           "zerolinewidth": 2
          },
          "yaxis": {
           "automargin": true,
           "gridcolor": "white",
           "linecolor": "white",
           "ticks": "",
           "title": {
            "standoff": 15
           },
           "zerolinecolor": "white",
           "zerolinewidth": 2
          }
         }
        },
        "title": {
         "text": "Original, Smoothed, and Mean Subtracted Wheel Speeds, Recording 0, Trial 0"
        },
        "xaxis": {
         "title": {
          "text": "Time"
         }
        },
        "yaxis": {
         "title": {
          "text": "Value"
         }
        }
       }
      }
     },
     "metadata": {},
     "output_type": "display_data"
    },
    {
     "data": {
      "application/vnd.plotly.v1+json": {
       "config": {
        "plotlyServerURL": "https://plot.ly"
       },
       "data": [
        {
         "name": "Original",
         "type": "scatter",
         "y": [
          0.018974309513222105,
          0.02001038812406428,
          0.022271598122177598,
          0.026083047869564266,
          0.031809229306190755,
          0.039716635641493574,
          0.04980307159786369,
          0.06165886183934505,
          0.0744084645654367,
          0.08677451451164307,
          0.09728768135032408,
          0.10460602003587383,
          0.10784519430406254,
          0.1068146690822967,
          0.1020651020751234,
          0.09472721168536556,
          0.0861989266962979,
          0.07778406384936967,
          0.07040319431463066,
          0.06444994817179817,
          0.05981150382142007,
          0.05602304186305571,
          0.05248197830428834,
          0.04865485636308396,
          0.044220926563704466,
          0.039127881279877263,
          0.03356410033416599,
          0.027869855770146112,
          0.022427165921977098,
          0.017565150803644635,
          0.013493605020165387,
          0.010278403259496546,
          0.007865557330192717,
          0.006124030097478413,
          0.004890010342507525,
          0.004011662496205253,
          0.003376512296154987,
          0.002918552042131041,
          0.00261240737532576,
          0.0024570503237331346
         ]
        },
        {
         "name": "Prediction",
         "type": "scatter",
         "y": [
          0.01765294027176229,
          0.018476514127910827,
          0.020392970274755895,
          0.02390966217549197,
          0.029700182742708515,
          0.03848932091696999,
          0.05088610062752573,
          0.06719621553700335,
          0.0872580709753885,
          0.11033815301387782,
          0.1351460378880257,
          0.15999332606434313,
          0.1830538266986293,
          0.2026644542063773,
          0.2175936007113606,
          0.2272054029312646,
          0.23148688481003704,
          0.23095260009874302,
          0.22646859546059028,
          0.21904783022175295,
          0.2096619252650765,
          0.19909920740854917,
          0.18789133392453417,
          0.17631192345863755,
          0.16443968586676153,
          0.15226151780441788,
          0.13978039537497833,
          0.12709275817422377,
          0.1144130988004506,
          0.10204450924362403,
          0.09030974343409484,
          0.07948028761393514,
          0.06974177091210687,
          0.06118468839082469,
          0.05383368523138289,
          0.04768263942659051,
          0.04272581564005842,
          0.038972733089030015,
          0.03644946227272132,
          0.03518013976462217
         ]
        }
       ],
       "layout": {
        "template": {
         "data": {
          "bar": [
           {
            "error_x": {
             "color": "#2a3f5f"
            },
            "error_y": {
             "color": "#2a3f5f"
            },
            "marker": {
             "line": {
              "color": "#E5ECF6",
              "width": 0.5
             },
             "pattern": {
              "fillmode": "overlay",
              "size": 10,
              "solidity": 0.2
             }
            },
            "type": "bar"
           }
          ],
          "barpolar": [
           {
            "marker": {
             "line": {
              "color": "#E5ECF6",
              "width": 0.5
             },
             "pattern": {
              "fillmode": "overlay",
              "size": 10,
              "solidity": 0.2
             }
            },
            "type": "barpolar"
           }
          ],
          "carpet": [
           {
            "aaxis": {
             "endlinecolor": "#2a3f5f",
             "gridcolor": "white",
             "linecolor": "white",
             "minorgridcolor": "white",
             "startlinecolor": "#2a3f5f"
            },
            "baxis": {
             "endlinecolor": "#2a3f5f",
             "gridcolor": "white",
             "linecolor": "white",
             "minorgridcolor": "white",
             "startlinecolor": "#2a3f5f"
            },
            "type": "carpet"
           }
          ],
          "choropleth": [
           {
            "colorbar": {
             "outlinewidth": 0,
             "ticks": ""
            },
            "type": "choropleth"
           }
          ],
          "contour": [
           {
            "colorbar": {
             "outlinewidth": 0,
             "ticks": ""
            },
            "colorscale": [
             [
              0,
              "#0d0887"
             ],
             [
              0.1111111111111111,
              "#46039f"
             ],
             [
              0.2222222222222222,
              "#7201a8"
             ],
             [
              0.3333333333333333,
              "#9c179e"
             ],
             [
              0.4444444444444444,
              "#bd3786"
             ],
             [
              0.5555555555555556,
              "#d8576b"
             ],
             [
              0.6666666666666666,
              "#ed7953"
             ],
             [
              0.7777777777777778,
              "#fb9f3a"
             ],
             [
              0.8888888888888888,
              "#fdca26"
             ],
             [
              1,
              "#f0f921"
             ]
            ],
            "type": "contour"
           }
          ],
          "contourcarpet": [
           {
            "colorbar": {
             "outlinewidth": 0,
             "ticks": ""
            },
            "type": "contourcarpet"
           }
          ],
          "heatmap": [
           {
            "colorbar": {
             "outlinewidth": 0,
             "ticks": ""
            },
            "colorscale": [
             [
              0,
              "#0d0887"
             ],
             [
              0.1111111111111111,
              "#46039f"
             ],
             [
              0.2222222222222222,
              "#7201a8"
             ],
             [
              0.3333333333333333,
              "#9c179e"
             ],
             [
              0.4444444444444444,
              "#bd3786"
             ],
             [
              0.5555555555555556,
              "#d8576b"
             ],
             [
              0.6666666666666666,
              "#ed7953"
             ],
             [
              0.7777777777777778,
              "#fb9f3a"
             ],
             [
              0.8888888888888888,
              "#fdca26"
             ],
             [
              1,
              "#f0f921"
             ]
            ],
            "type": "heatmap"
           }
          ],
          "heatmapgl": [
           {
            "colorbar": {
             "outlinewidth": 0,
             "ticks": ""
            },
            "colorscale": [
             [
              0,
              "#0d0887"
             ],
             [
              0.1111111111111111,
              "#46039f"
             ],
             [
              0.2222222222222222,
              "#7201a8"
             ],
             [
              0.3333333333333333,
              "#9c179e"
             ],
             [
              0.4444444444444444,
              "#bd3786"
             ],
             [
              0.5555555555555556,
              "#d8576b"
             ],
             [
              0.6666666666666666,
              "#ed7953"
             ],
             [
              0.7777777777777778,
              "#fb9f3a"
             ],
             [
              0.8888888888888888,
              "#fdca26"
             ],
             [
              1,
              "#f0f921"
             ]
            ],
            "type": "heatmapgl"
           }
          ],
          "histogram": [
           {
            "marker": {
             "pattern": {
              "fillmode": "overlay",
              "size": 10,
              "solidity": 0.2
             }
            },
            "type": "histogram"
           }
          ],
          "histogram2d": [
           {
            "colorbar": {
             "outlinewidth": 0,
             "ticks": ""
            },
            "colorscale": [
             [
              0,
              "#0d0887"
             ],
             [
              0.1111111111111111,
              "#46039f"
             ],
             [
              0.2222222222222222,
              "#7201a8"
             ],
             [
              0.3333333333333333,
              "#9c179e"
             ],
             [
              0.4444444444444444,
              "#bd3786"
             ],
             [
              0.5555555555555556,
              "#d8576b"
             ],
             [
              0.6666666666666666,
              "#ed7953"
             ],
             [
              0.7777777777777778,
              "#fb9f3a"
             ],
             [
              0.8888888888888888,
              "#fdca26"
             ],
             [
              1,
              "#f0f921"
             ]
            ],
            "type": "histogram2d"
           }
          ],
          "histogram2dcontour": [
           {
            "colorbar": {
             "outlinewidth": 0,
             "ticks": ""
            },
            "colorscale": [
             [
              0,
              "#0d0887"
             ],
             [
              0.1111111111111111,
              "#46039f"
             ],
             [
              0.2222222222222222,
              "#7201a8"
             ],
             [
              0.3333333333333333,
              "#9c179e"
             ],
             [
              0.4444444444444444,
              "#bd3786"
             ],
             [
              0.5555555555555556,
              "#d8576b"
             ],
             [
              0.6666666666666666,
              "#ed7953"
             ],
             [
              0.7777777777777778,
              "#fb9f3a"
             ],
             [
              0.8888888888888888,
              "#fdca26"
             ],
             [
              1,
              "#f0f921"
             ]
            ],
            "type": "histogram2dcontour"
           }
          ],
          "mesh3d": [
           {
            "colorbar": {
             "outlinewidth": 0,
             "ticks": ""
            },
            "type": "mesh3d"
           }
          ],
          "parcoords": [
           {
            "line": {
             "colorbar": {
              "outlinewidth": 0,
              "ticks": ""
             }
            },
            "type": "parcoords"
           }
          ],
          "pie": [
           {
            "automargin": true,
            "type": "pie"
           }
          ],
          "scatter": [
           {
            "fillpattern": {
             "fillmode": "overlay",
             "size": 10,
             "solidity": 0.2
            },
            "type": "scatter"
           }
          ],
          "scatter3d": [
           {
            "line": {
             "colorbar": {
              "outlinewidth": 0,
              "ticks": ""
             }
            },
            "marker": {
             "colorbar": {
              "outlinewidth": 0,
              "ticks": ""
             }
            },
            "type": "scatter3d"
           }
          ],
          "scattercarpet": [
           {
            "marker": {
             "colorbar": {
              "outlinewidth": 0,
              "ticks": ""
             }
            },
            "type": "scattercarpet"
           }
          ],
          "scattergeo": [
           {
            "marker": {
             "colorbar": {
              "outlinewidth": 0,
              "ticks": ""
             }
            },
            "type": "scattergeo"
           }
          ],
          "scattergl": [
           {
            "marker": {
             "colorbar": {
              "outlinewidth": 0,
              "ticks": ""
             }
            },
            "type": "scattergl"
           }
          ],
          "scattermapbox": [
           {
            "marker": {
             "colorbar": {
              "outlinewidth": 0,
              "ticks": ""
             }
            },
            "type": "scattermapbox"
           }
          ],
          "scatterpolar": [
           {
            "marker": {
             "colorbar": {
              "outlinewidth": 0,
              "ticks": ""
             }
            },
            "type": "scatterpolar"
           }
          ],
          "scatterpolargl": [
           {
            "marker": {
             "colorbar": {
              "outlinewidth": 0,
              "ticks": ""
             }
            },
            "type": "scatterpolargl"
           }
          ],
          "scatterternary": [
           {
            "marker": {
             "colorbar": {
              "outlinewidth": 0,
              "ticks": ""
             }
            },
            "type": "scatterternary"
           }
          ],
          "surface": [
           {
            "colorbar": {
             "outlinewidth": 0,
             "ticks": ""
            },
            "colorscale": [
             [
              0,
              "#0d0887"
             ],
             [
              0.1111111111111111,
              "#46039f"
             ],
             [
              0.2222222222222222,
              "#7201a8"
             ],
             [
              0.3333333333333333,
              "#9c179e"
             ],
             [
              0.4444444444444444,
              "#bd3786"
             ],
             [
              0.5555555555555556,
              "#d8576b"
             ],
             [
              0.6666666666666666,
              "#ed7953"
             ],
             [
              0.7777777777777778,
              "#fb9f3a"
             ],
             [
              0.8888888888888888,
              "#fdca26"
             ],
             [
              1,
              "#f0f921"
             ]
            ],
            "type": "surface"
           }
          ],
          "table": [
           {
            "cells": {
             "fill": {
              "color": "#EBF0F8"
             },
             "line": {
              "color": "white"
             }
            },
            "header": {
             "fill": {
              "color": "#C8D4E3"
             },
             "line": {
              "color": "white"
             }
            },
            "type": "table"
           }
          ]
         },
         "layout": {
          "annotationdefaults": {
           "arrowcolor": "#2a3f5f",
           "arrowhead": 0,
           "arrowwidth": 1
          },
          "autotypenumbers": "strict",
          "coloraxis": {
           "colorbar": {
            "outlinewidth": 0,
            "ticks": ""
           }
          },
          "colorscale": {
           "diverging": [
            [
             0,
             "#8e0152"
            ],
            [
             0.1,
             "#c51b7d"
            ],
            [
             0.2,
             "#de77ae"
            ],
            [
             0.3,
             "#f1b6da"
            ],
            [
             0.4,
             "#fde0ef"
            ],
            [
             0.5,
             "#f7f7f7"
            ],
            [
             0.6,
             "#e6f5d0"
            ],
            [
             0.7,
             "#b8e186"
            ],
            [
             0.8,
             "#7fbc41"
            ],
            [
             0.9,
             "#4d9221"
            ],
            [
             1,
             "#276419"
            ]
           ],
           "sequential": [
            [
             0,
             "#0d0887"
            ],
            [
             0.1111111111111111,
             "#46039f"
            ],
            [
             0.2222222222222222,
             "#7201a8"
            ],
            [
             0.3333333333333333,
             "#9c179e"
            ],
            [
             0.4444444444444444,
             "#bd3786"
            ],
            [
             0.5555555555555556,
             "#d8576b"
            ],
            [
             0.6666666666666666,
             "#ed7953"
            ],
            [
             0.7777777777777778,
             "#fb9f3a"
            ],
            [
             0.8888888888888888,
             "#fdca26"
            ],
            [
             1,
             "#f0f921"
            ]
           ],
           "sequentialminus": [
            [
             0,
             "#0d0887"
            ],
            [
             0.1111111111111111,
             "#46039f"
            ],
            [
             0.2222222222222222,
             "#7201a8"
            ],
            [
             0.3333333333333333,
             "#9c179e"
            ],
            [
             0.4444444444444444,
             "#bd3786"
            ],
            [
             0.5555555555555556,
             "#d8576b"
            ],
            [
             0.6666666666666666,
             "#ed7953"
            ],
            [
             0.7777777777777778,
             "#fb9f3a"
            ],
            [
             0.8888888888888888,
             "#fdca26"
            ],
            [
             1,
             "#f0f921"
            ]
           ]
          },
          "colorway": [
           "#636efa",
           "#EF553B",
           "#00cc96",
           "#ab63fa",
           "#FFA15A",
           "#19d3f3",
           "#FF6692",
           "#B6E880",
           "#FF97FF",
           "#FECB52"
          ],
          "font": {
           "color": "#2a3f5f"
          },
          "geo": {
           "bgcolor": "white",
           "lakecolor": "white",
           "landcolor": "#E5ECF6",
           "showlakes": true,
           "showland": true,
           "subunitcolor": "white"
          },
          "hoverlabel": {
           "align": "left"
          },
          "hovermode": "closest",
          "mapbox": {
           "style": "light"
          },
          "paper_bgcolor": "white",
          "plot_bgcolor": "#E5ECF6",
          "polar": {
           "angularaxis": {
            "gridcolor": "white",
            "linecolor": "white",
            "ticks": ""
           },
           "bgcolor": "#E5ECF6",
           "radialaxis": {
            "gridcolor": "white",
            "linecolor": "white",
            "ticks": ""
           }
          },
          "scene": {
           "xaxis": {
            "backgroundcolor": "#E5ECF6",
            "gridcolor": "white",
            "gridwidth": 2,
            "linecolor": "white",
            "showbackground": true,
            "ticks": "",
            "zerolinecolor": "white"
           },
           "yaxis": {
            "backgroundcolor": "#E5ECF6",
            "gridcolor": "white",
            "gridwidth": 2,
            "linecolor": "white",
            "showbackground": true,
            "ticks": "",
            "zerolinecolor": "white"
           },
           "zaxis": {
            "backgroundcolor": "#E5ECF6",
            "gridcolor": "white",
            "gridwidth": 2,
            "linecolor": "white",
            "showbackground": true,
            "ticks": "",
            "zerolinecolor": "white"
           }
          },
          "shapedefaults": {
           "line": {
            "color": "#2a3f5f"
           }
          },
          "ternary": {
           "aaxis": {
            "gridcolor": "white",
            "linecolor": "white",
            "ticks": ""
           },
           "baxis": {
            "gridcolor": "white",
            "linecolor": "white",
            "ticks": ""
           },
           "bgcolor": "#E5ECF6",
           "caxis": {
            "gridcolor": "white",
            "linecolor": "white",
            "ticks": ""
           }
          },
          "title": {
           "x": 0.05
          },
          "xaxis": {
           "automargin": true,
           "gridcolor": "white",
           "linecolor": "white",
           "ticks": "",
           "title": {
            "standoff": 15
           },
           "zerolinecolor": "white",
           "zerolinewidth": 2
          },
          "yaxis": {
           "automargin": true,
           "gridcolor": "white",
           "linecolor": "white",
           "ticks": "",
           "title": {
            "standoff": 15
           },
           "zerolinecolor": "white",
           "zerolinewidth": 2
          }
         }
        },
        "title": {
         "text": "Original, Smoothed, and Mean Subtracted Wheel Speeds, Recording 0, Trial 1"
        },
        "xaxis": {
         "title": {
          "text": "Time"
         }
        },
        "yaxis": {
         "title": {
          "text": "Value"
         }
        }
       }
      }
     },
     "metadata": {},
     "output_type": "display_data"
    },
    {
     "data": {
      "application/vnd.plotly.v1+json": {
       "config": {
        "plotlyServerURL": "https://plot.ly"
       },
       "data": [
        {
         "name": "Original",
         "type": "scatter",
         "y": [
          0.0030839236473514525,
          0.004479593112706075,
          0.007571690862433801,
          0.012918410858882784,
          0.021239892766280983,
          0.03325149243721368,
          0.0494239032508294,
          0.06971298258336059,
          0.09333918154999092,
          0.11870261141969055,
          0.1434994649568632,
          0.16509061460355529,
          0.1810609456392831,
          0.18980636832747294,
          0.1909775776321523,
          0.18564705980339938,
          0.17613025928709986,
          0.1654868627887687,
          0.15686031863633976,
          0.1528179595931413,
          0.15484486967808175,
          0.16309505633840105,
          0.1764189985529695,
          0.19263308840132834,
          0.2089519451626632,
          0.22250763505555277,
          0.23086522653074748,
          0.23244570738196677,
          0.22679305178801526,
          0.21463073403919092,
          0.1976944834885569,
          0.17835627296792342,
          0.1591372325653645,
          0.14221568313166835,
          0.12903147612170585,
          0.12009940886807227,
          0.11506255702851198,
          0.11293506111298551,
          0.1124680838818939,
          0.11255261686904659
         ]
        },
        {
         "name": "Prediction",
         "type": "scatter",
         "y": [
          0.006864353880607097,
          0.008285841053599922,
          0.011490320465501459,
          0.017164958817599992,
          0.02623280730130694,
          0.03969400183925673,
          0.05839188318711518,
          0.08273645230130276,
          0.11244801990803276,
          0.1464080886743244,
          0.18269734102981547,
          0.2188501426988191,
          0.2522827658423127,
          0.28078751730966445,
          0.30294502499779885,
          0.3183470471953547,
          0.3275744650091346,
          0.3319663892891877,
          0.3332545008525808,
          0.3331754859471773,
          0.33314848653120355,
          0.33407206042406495,
          0.33625887841977553,
          0.33949388944898773,
          0.3431807820192955,
          0.34653375535070063,
          0.34876573978839714,
          0.34923343296489073,
          0.34752450239066324,
          0.3434876069384748,
          0.3372171155740672,
          0.32901557997805014,
          0.3193479738111753,
          0.30879379409467667,
          0.29800506115461156,
          0.28766097845508387,
          0.27842506701271685,
          0.27089936050767177,
          0.26558168337389126,
          0.26282975579679907
         ]
        }
       ],
       "layout": {
        "template": {
         "data": {
          "bar": [
           {
            "error_x": {
             "color": "#2a3f5f"
            },
            "error_y": {
             "color": "#2a3f5f"
            },
            "marker": {
             "line": {
              "color": "#E5ECF6",
              "width": 0.5
             },
             "pattern": {
              "fillmode": "overlay",
              "size": 10,
              "solidity": 0.2
             }
            },
            "type": "bar"
           }
          ],
          "barpolar": [
           {
            "marker": {
             "line": {
              "color": "#E5ECF6",
              "width": 0.5
             },
             "pattern": {
              "fillmode": "overlay",
              "size": 10,
              "solidity": 0.2
             }
            },
            "type": "barpolar"
           }
          ],
          "carpet": [
           {
            "aaxis": {
             "endlinecolor": "#2a3f5f",
             "gridcolor": "white",
             "linecolor": "white",
             "minorgridcolor": "white",
             "startlinecolor": "#2a3f5f"
            },
            "baxis": {
             "endlinecolor": "#2a3f5f",
             "gridcolor": "white",
             "linecolor": "white",
             "minorgridcolor": "white",
             "startlinecolor": "#2a3f5f"
            },
            "type": "carpet"
           }
          ],
          "choropleth": [
           {
            "colorbar": {
             "outlinewidth": 0,
             "ticks": ""
            },
            "type": "choropleth"
           }
          ],
          "contour": [
           {
            "colorbar": {
             "outlinewidth": 0,
             "ticks": ""
            },
            "colorscale": [
             [
              0,
              "#0d0887"
             ],
             [
              0.1111111111111111,
              "#46039f"
             ],
             [
              0.2222222222222222,
              "#7201a8"
             ],
             [
              0.3333333333333333,
              "#9c179e"
             ],
             [
              0.4444444444444444,
              "#bd3786"
             ],
             [
              0.5555555555555556,
              "#d8576b"
             ],
             [
              0.6666666666666666,
              "#ed7953"
             ],
             [
              0.7777777777777778,
              "#fb9f3a"
             ],
             [
              0.8888888888888888,
              "#fdca26"
             ],
             [
              1,
              "#f0f921"
             ]
            ],
            "type": "contour"
           }
          ],
          "contourcarpet": [
           {
            "colorbar": {
             "outlinewidth": 0,
             "ticks": ""
            },
            "type": "contourcarpet"
           }
          ],
          "heatmap": [
           {
            "colorbar": {
             "outlinewidth": 0,
             "ticks": ""
            },
            "colorscale": [
             [
              0,
              "#0d0887"
             ],
             [
              0.1111111111111111,
              "#46039f"
             ],
             [
              0.2222222222222222,
              "#7201a8"
             ],
             [
              0.3333333333333333,
              "#9c179e"
             ],
             [
              0.4444444444444444,
              "#bd3786"
             ],
             [
              0.5555555555555556,
              "#d8576b"
             ],
             [
              0.6666666666666666,
              "#ed7953"
             ],
             [
              0.7777777777777778,
              "#fb9f3a"
             ],
             [
              0.8888888888888888,
              "#fdca26"
             ],
             [
              1,
              "#f0f921"
             ]
            ],
            "type": "heatmap"
           }
          ],
          "heatmapgl": [
           {
            "colorbar": {
             "outlinewidth": 0,
             "ticks": ""
            },
            "colorscale": [
             [
              0,
              "#0d0887"
             ],
             [
              0.1111111111111111,
              "#46039f"
             ],
             [
              0.2222222222222222,
              "#7201a8"
             ],
             [
              0.3333333333333333,
              "#9c179e"
             ],
             [
              0.4444444444444444,
              "#bd3786"
             ],
             [
              0.5555555555555556,
              "#d8576b"
             ],
             [
              0.6666666666666666,
              "#ed7953"
             ],
             [
              0.7777777777777778,
              "#fb9f3a"
             ],
             [
              0.8888888888888888,
              "#fdca26"
             ],
             [
              1,
              "#f0f921"
             ]
            ],
            "type": "heatmapgl"
           }
          ],
          "histogram": [
           {
            "marker": {
             "pattern": {
              "fillmode": "overlay",
              "size": 10,
              "solidity": 0.2
             }
            },
            "type": "histogram"
           }
          ],
          "histogram2d": [
           {
            "colorbar": {
             "outlinewidth": 0,
             "ticks": ""
            },
            "colorscale": [
             [
              0,
              "#0d0887"
             ],
             [
              0.1111111111111111,
              "#46039f"
             ],
             [
              0.2222222222222222,
              "#7201a8"
             ],
             [
              0.3333333333333333,
              "#9c179e"
             ],
             [
              0.4444444444444444,
              "#bd3786"
             ],
             [
              0.5555555555555556,
              "#d8576b"
             ],
             [
              0.6666666666666666,
              "#ed7953"
             ],
             [
              0.7777777777777778,
              "#fb9f3a"
             ],
             [
              0.8888888888888888,
              "#fdca26"
             ],
             [
              1,
              "#f0f921"
             ]
            ],
            "type": "histogram2d"
           }
          ],
          "histogram2dcontour": [
           {
            "colorbar": {
             "outlinewidth": 0,
             "ticks": ""
            },
            "colorscale": [
             [
              0,
              "#0d0887"
             ],
             [
              0.1111111111111111,
              "#46039f"
             ],
             [
              0.2222222222222222,
              "#7201a8"
             ],
             [
              0.3333333333333333,
              "#9c179e"
             ],
             [
              0.4444444444444444,
              "#bd3786"
             ],
             [
              0.5555555555555556,
              "#d8576b"
             ],
             [
              0.6666666666666666,
              "#ed7953"
             ],
             [
              0.7777777777777778,
              "#fb9f3a"
             ],
             [
              0.8888888888888888,
              "#fdca26"
             ],
             [
              1,
              "#f0f921"
             ]
            ],
            "type": "histogram2dcontour"
           }
          ],
          "mesh3d": [
           {
            "colorbar": {
             "outlinewidth": 0,
             "ticks": ""
            },
            "type": "mesh3d"
           }
          ],
          "parcoords": [
           {
            "line": {
             "colorbar": {
              "outlinewidth": 0,
              "ticks": ""
             }
            },
            "type": "parcoords"
           }
          ],
          "pie": [
           {
            "automargin": true,
            "type": "pie"
           }
          ],
          "scatter": [
           {
            "fillpattern": {
             "fillmode": "overlay",
             "size": 10,
             "solidity": 0.2
            },
            "type": "scatter"
           }
          ],
          "scatter3d": [
           {
            "line": {
             "colorbar": {
              "outlinewidth": 0,
              "ticks": ""
             }
            },
            "marker": {
             "colorbar": {
              "outlinewidth": 0,
              "ticks": ""
             }
            },
            "type": "scatter3d"
           }
          ],
          "scattercarpet": [
           {
            "marker": {
             "colorbar": {
              "outlinewidth": 0,
              "ticks": ""
             }
            },
            "type": "scattercarpet"
           }
          ],
          "scattergeo": [
           {
            "marker": {
             "colorbar": {
              "outlinewidth": 0,
              "ticks": ""
             }
            },
            "type": "scattergeo"
           }
          ],
          "scattergl": [
           {
            "marker": {
             "colorbar": {
              "outlinewidth": 0,
              "ticks": ""
             }
            },
            "type": "scattergl"
           }
          ],
          "scattermapbox": [
           {
            "marker": {
             "colorbar": {
              "outlinewidth": 0,
              "ticks": ""
             }
            },
            "type": "scattermapbox"
           }
          ],
          "scatterpolar": [
           {
            "marker": {
             "colorbar": {
              "outlinewidth": 0,
              "ticks": ""
             }
            },
            "type": "scatterpolar"
           }
          ],
          "scatterpolargl": [
           {
            "marker": {
             "colorbar": {
              "outlinewidth": 0,
              "ticks": ""
             }
            },
            "type": "scatterpolargl"
           }
          ],
          "scatterternary": [
           {
            "marker": {
             "colorbar": {
              "outlinewidth": 0,
              "ticks": ""
             }
            },
            "type": "scatterternary"
           }
          ],
          "surface": [
           {
            "colorbar": {
             "outlinewidth": 0,
             "ticks": ""
            },
            "colorscale": [
             [
              0,
              "#0d0887"
             ],
             [
              0.1111111111111111,
              "#46039f"
             ],
             [
              0.2222222222222222,
              "#7201a8"
             ],
             [
              0.3333333333333333,
              "#9c179e"
             ],
             [
              0.4444444444444444,
              "#bd3786"
             ],
             [
              0.5555555555555556,
              "#d8576b"
             ],
             [
              0.6666666666666666,
              "#ed7953"
             ],
             [
              0.7777777777777778,
              "#fb9f3a"
             ],
             [
              0.8888888888888888,
              "#fdca26"
             ],
             [
              1,
              "#f0f921"
             ]
            ],
            "type": "surface"
           }
          ],
          "table": [
           {
            "cells": {
             "fill": {
              "color": "#EBF0F8"
             },
             "line": {
              "color": "white"
             }
            },
            "header": {
             "fill": {
              "color": "#C8D4E3"
             },
             "line": {
              "color": "white"
             }
            },
            "type": "table"
           }
          ]
         },
         "layout": {
          "annotationdefaults": {
           "arrowcolor": "#2a3f5f",
           "arrowhead": 0,
           "arrowwidth": 1
          },
          "autotypenumbers": "strict",
          "coloraxis": {
           "colorbar": {
            "outlinewidth": 0,
            "ticks": ""
           }
          },
          "colorscale": {
           "diverging": [
            [
             0,
             "#8e0152"
            ],
            [
             0.1,
             "#c51b7d"
            ],
            [
             0.2,
             "#de77ae"
            ],
            [
             0.3,
             "#f1b6da"
            ],
            [
             0.4,
             "#fde0ef"
            ],
            [
             0.5,
             "#f7f7f7"
            ],
            [
             0.6,
             "#e6f5d0"
            ],
            [
             0.7,
             "#b8e186"
            ],
            [
             0.8,
             "#7fbc41"
            ],
            [
             0.9,
             "#4d9221"
            ],
            [
             1,
             "#276419"
            ]
           ],
           "sequential": [
            [
             0,
             "#0d0887"
            ],
            [
             0.1111111111111111,
             "#46039f"
            ],
            [
             0.2222222222222222,
             "#7201a8"
            ],
            [
             0.3333333333333333,
             "#9c179e"
            ],
            [
             0.4444444444444444,
             "#bd3786"
            ],
            [
             0.5555555555555556,
             "#d8576b"
            ],
            [
             0.6666666666666666,
             "#ed7953"
            ],
            [
             0.7777777777777778,
             "#fb9f3a"
            ],
            [
             0.8888888888888888,
             "#fdca26"
            ],
            [
             1,
             "#f0f921"
            ]
           ],
           "sequentialminus": [
            [
             0,
             "#0d0887"
            ],
            [
             0.1111111111111111,
             "#46039f"
            ],
            [
             0.2222222222222222,
             "#7201a8"
            ],
            [
             0.3333333333333333,
             "#9c179e"
            ],
            [
             0.4444444444444444,
             "#bd3786"
            ],
            [
             0.5555555555555556,
             "#d8576b"
            ],
            [
             0.6666666666666666,
             "#ed7953"
            ],
            [
             0.7777777777777778,
             "#fb9f3a"
            ],
            [
             0.8888888888888888,
             "#fdca26"
            ],
            [
             1,
             "#f0f921"
            ]
           ]
          },
          "colorway": [
           "#636efa",
           "#EF553B",
           "#00cc96",
           "#ab63fa",
           "#FFA15A",
           "#19d3f3",
           "#FF6692",
           "#B6E880",
           "#FF97FF",
           "#FECB52"
          ],
          "font": {
           "color": "#2a3f5f"
          },
          "geo": {
           "bgcolor": "white",
           "lakecolor": "white",
           "landcolor": "#E5ECF6",
           "showlakes": true,
           "showland": true,
           "subunitcolor": "white"
          },
          "hoverlabel": {
           "align": "left"
          },
          "hovermode": "closest",
          "mapbox": {
           "style": "light"
          },
          "paper_bgcolor": "white",
          "plot_bgcolor": "#E5ECF6",
          "polar": {
           "angularaxis": {
            "gridcolor": "white",
            "linecolor": "white",
            "ticks": ""
           },
           "bgcolor": "#E5ECF6",
           "radialaxis": {
            "gridcolor": "white",
            "linecolor": "white",
            "ticks": ""
           }
          },
          "scene": {
           "xaxis": {
            "backgroundcolor": "#E5ECF6",
            "gridcolor": "white",
            "gridwidth": 2,
            "linecolor": "white",
            "showbackground": true,
            "ticks": "",
            "zerolinecolor": "white"
           },
           "yaxis": {
            "backgroundcolor": "#E5ECF6",
            "gridcolor": "white",
            "gridwidth": 2,
            "linecolor": "white",
            "showbackground": true,
            "ticks": "",
            "zerolinecolor": "white"
           },
           "zaxis": {
            "backgroundcolor": "#E5ECF6",
            "gridcolor": "white",
            "gridwidth": 2,
            "linecolor": "white",
            "showbackground": true,
            "ticks": "",
            "zerolinecolor": "white"
           }
          },
          "shapedefaults": {
           "line": {
            "color": "#2a3f5f"
           }
          },
          "ternary": {
           "aaxis": {
            "gridcolor": "white",
            "linecolor": "white",
            "ticks": ""
           },
           "baxis": {
            "gridcolor": "white",
            "linecolor": "white",
            "ticks": ""
           },
           "bgcolor": "#E5ECF6",
           "caxis": {
            "gridcolor": "white",
            "linecolor": "white",
            "ticks": ""
           }
          },
          "title": {
           "x": 0.05
          },
          "xaxis": {
           "automargin": true,
           "gridcolor": "white",
           "linecolor": "white",
           "ticks": "",
           "title": {
            "standoff": 15
           },
           "zerolinecolor": "white",
           "zerolinewidth": 2
          },
          "yaxis": {
           "automargin": true,
           "gridcolor": "white",
           "linecolor": "white",
           "ticks": "",
           "title": {
            "standoff": 15
           },
           "zerolinecolor": "white",
           "zerolinewidth": 2
          }
         }
        },
        "title": {
         "text": "Original, Smoothed, and Mean Subtracted Wheel Speeds, Recording 0, Trial 0"
        },
        "xaxis": {
         "title": {
          "text": "Time"
         }
        },
        "yaxis": {
         "title": {
          "text": "Value"
         }
        }
       }
      }
     },
     "metadata": {},
     "output_type": "display_data"
    },
    {
     "data": {
      "application/vnd.plotly.v1+json": {
       "config": {
        "plotlyServerURL": "https://plot.ly"
       },
       "data": [
        {
         "name": "Original",
         "type": "scatter",
         "y": [
          0.004980827335581256,
          0.0053466506910062935,
          0.006121280280902788,
          0.007412976443313193,
          0.009439682653833612,
          0.012575330470720462,
          0.01738146144810946,
          0.024605665771182013,
          0.035138206967973484,
          0.04987081086510368,
          0.06951179676179192,
          0.0943577390289655,
          0.12406253142027134,
          0.15749484571988168,
          0.19272454987816381,
          0.22718903292853454,
          0.2580404001276601,
          0.282598132699278,
          0.29881049101500795,
          0.30560900658460144,
          0.3030756246801379,
          0.2923770729222392,
          0.2754812744391028,
          0.25476337175392655,
          0.23260049687293763,
          0.21104327569174525,
          0.19161593973539154,
          0.175253874244004,
          0.1623396753645246,
          0.15277802157201834,
          0.14610116147828092,
          0.14158907077592015,
          0.13840480802169486,
          0.13574920927378173,
          0.13301474520589787,
          0.1299125091785066,
          0.12652163528021088,
          0.12322709103777173,
          0.12058090028686494,
          0.1191024370089051
         ]
        },
        {
         "name": "Prediction",
         "type": "scatter",
         "y": [
          0.00814243533123977,
          0.008840863147238923,
          0.01044670165107716,
          0.013356311435937488,
          0.018101577271521035,
          0.025266967436006198,
          0.03537917680110196,
          0.0487815238920144,
          0.06551729417942029,
          0.08525200520774312,
          0.10725886677374079,
          0.13047387143992661,
          0.15362143100484857,
          0.17538868039157468,
          0.19461050872606298,
          0.21044228263364553,
          0.22246927503955108,
          0.23075277439986425,
          0.23578696654959141,
          0.23836683202964618,
          0.2394056693224798,
          0.2397444066634018,
          0.24000691789172987,
          0.24052747037403777,
          0.24136879115161097,
          0.24240779845845173,
          0.24344828693029633,
          0.2443197467813134,
          0.24492852695268824,
          0.24526820473043062,
          0.24539696586841833,
          0.2454058425609797,
          0.245386262470148,
          0.24541186210076765,
          0.245534374251572,
          0.24576744148275248,
          0.2460863035725434,
          0.24643120133049742,
          0.24672403938650897,
          0.24689250802294438
         ]
        }
       ],
       "layout": {
        "template": {
         "data": {
          "bar": [
           {
            "error_x": {
             "color": "#2a3f5f"
            },
            "error_y": {
             "color": "#2a3f5f"
            },
            "marker": {
             "line": {
              "color": "#E5ECF6",
              "width": 0.5
             },
             "pattern": {
              "fillmode": "overlay",
              "size": 10,
              "solidity": 0.2
             }
            },
            "type": "bar"
           }
          ],
          "barpolar": [
           {
            "marker": {
             "line": {
              "color": "#E5ECF6",
              "width": 0.5
             },
             "pattern": {
              "fillmode": "overlay",
              "size": 10,
              "solidity": 0.2
             }
            },
            "type": "barpolar"
           }
          ],
          "carpet": [
           {
            "aaxis": {
             "endlinecolor": "#2a3f5f",
             "gridcolor": "white",
             "linecolor": "white",
             "minorgridcolor": "white",
             "startlinecolor": "#2a3f5f"
            },
            "baxis": {
             "endlinecolor": "#2a3f5f",
             "gridcolor": "white",
             "linecolor": "white",
             "minorgridcolor": "white",
             "startlinecolor": "#2a3f5f"
            },
            "type": "carpet"
           }
          ],
          "choropleth": [
           {
            "colorbar": {
             "outlinewidth": 0,
             "ticks": ""
            },
            "type": "choropleth"
           }
          ],
          "contour": [
           {
            "colorbar": {
             "outlinewidth": 0,
             "ticks": ""
            },
            "colorscale": [
             [
              0,
              "#0d0887"
             ],
             [
              0.1111111111111111,
              "#46039f"
             ],
             [
              0.2222222222222222,
              "#7201a8"
             ],
             [
              0.3333333333333333,
              "#9c179e"
             ],
             [
              0.4444444444444444,
              "#bd3786"
             ],
             [
              0.5555555555555556,
              "#d8576b"
             ],
             [
              0.6666666666666666,
              "#ed7953"
             ],
             [
              0.7777777777777778,
              "#fb9f3a"
             ],
             [
              0.8888888888888888,
              "#fdca26"
             ],
             [
              1,
              "#f0f921"
             ]
            ],
            "type": "contour"
           }
          ],
          "contourcarpet": [
           {
            "colorbar": {
             "outlinewidth": 0,
             "ticks": ""
            },
            "type": "contourcarpet"
           }
          ],
          "heatmap": [
           {
            "colorbar": {
             "outlinewidth": 0,
             "ticks": ""
            },
            "colorscale": [
             [
              0,
              "#0d0887"
             ],
             [
              0.1111111111111111,
              "#46039f"
             ],
             [
              0.2222222222222222,
              "#7201a8"
             ],
             [
              0.3333333333333333,
              "#9c179e"
             ],
             [
              0.4444444444444444,
              "#bd3786"
             ],
             [
              0.5555555555555556,
              "#d8576b"
             ],
             [
              0.6666666666666666,
              "#ed7953"
             ],
             [
              0.7777777777777778,
              "#fb9f3a"
             ],
             [
              0.8888888888888888,
              "#fdca26"
             ],
             [
              1,
              "#f0f921"
             ]
            ],
            "type": "heatmap"
           }
          ],
          "heatmapgl": [
           {
            "colorbar": {
             "outlinewidth": 0,
             "ticks": ""
            },
            "colorscale": [
             [
              0,
              "#0d0887"
             ],
             [
              0.1111111111111111,
              "#46039f"
             ],
             [
              0.2222222222222222,
              "#7201a8"
             ],
             [
              0.3333333333333333,
              "#9c179e"
             ],
             [
              0.4444444444444444,
              "#bd3786"
             ],
             [
              0.5555555555555556,
              "#d8576b"
             ],
             [
              0.6666666666666666,
              "#ed7953"
             ],
             [
              0.7777777777777778,
              "#fb9f3a"
             ],
             [
              0.8888888888888888,
              "#fdca26"
             ],
             [
              1,
              "#f0f921"
             ]
            ],
            "type": "heatmapgl"
           }
          ],
          "histogram": [
           {
            "marker": {
             "pattern": {
              "fillmode": "overlay",
              "size": 10,
              "solidity": 0.2
             }
            },
            "type": "histogram"
           }
          ],
          "histogram2d": [
           {
            "colorbar": {
             "outlinewidth": 0,
             "ticks": ""
            },
            "colorscale": [
             [
              0,
              "#0d0887"
             ],
             [
              0.1111111111111111,
              "#46039f"
             ],
             [
              0.2222222222222222,
              "#7201a8"
             ],
             [
              0.3333333333333333,
              "#9c179e"
             ],
             [
              0.4444444444444444,
              "#bd3786"
             ],
             [
              0.5555555555555556,
              "#d8576b"
             ],
             [
              0.6666666666666666,
              "#ed7953"
             ],
             [
              0.7777777777777778,
              "#fb9f3a"
             ],
             [
              0.8888888888888888,
              "#fdca26"
             ],
             [
              1,
              "#f0f921"
             ]
            ],
            "type": "histogram2d"
           }
          ],
          "histogram2dcontour": [
           {
            "colorbar": {
             "outlinewidth": 0,
             "ticks": ""
            },
            "colorscale": [
             [
              0,
              "#0d0887"
             ],
             [
              0.1111111111111111,
              "#46039f"
             ],
             [
              0.2222222222222222,
              "#7201a8"
             ],
             [
              0.3333333333333333,
              "#9c179e"
             ],
             [
              0.4444444444444444,
              "#bd3786"
             ],
             [
              0.5555555555555556,
              "#d8576b"
             ],
             [
              0.6666666666666666,
              "#ed7953"
             ],
             [
              0.7777777777777778,
              "#fb9f3a"
             ],
             [
              0.8888888888888888,
              "#fdca26"
             ],
             [
              1,
              "#f0f921"
             ]
            ],
            "type": "histogram2dcontour"
           }
          ],
          "mesh3d": [
           {
            "colorbar": {
             "outlinewidth": 0,
             "ticks": ""
            },
            "type": "mesh3d"
           }
          ],
          "parcoords": [
           {
            "line": {
             "colorbar": {
              "outlinewidth": 0,
              "ticks": ""
             }
            },
            "type": "parcoords"
           }
          ],
          "pie": [
           {
            "automargin": true,
            "type": "pie"
           }
          ],
          "scatter": [
           {
            "fillpattern": {
             "fillmode": "overlay",
             "size": 10,
             "solidity": 0.2
            },
            "type": "scatter"
           }
          ],
          "scatter3d": [
           {
            "line": {
             "colorbar": {
              "outlinewidth": 0,
              "ticks": ""
             }
            },
            "marker": {
             "colorbar": {
              "outlinewidth": 0,
              "ticks": ""
             }
            },
            "type": "scatter3d"
           }
          ],
          "scattercarpet": [
           {
            "marker": {
             "colorbar": {
              "outlinewidth": 0,
              "ticks": ""
             }
            },
            "type": "scattercarpet"
           }
          ],
          "scattergeo": [
           {
            "marker": {
             "colorbar": {
              "outlinewidth": 0,
              "ticks": ""
             }
            },
            "type": "scattergeo"
           }
          ],
          "scattergl": [
           {
            "marker": {
             "colorbar": {
              "outlinewidth": 0,
              "ticks": ""
             }
            },
            "type": "scattergl"
           }
          ],
          "scattermapbox": [
           {
            "marker": {
             "colorbar": {
              "outlinewidth": 0,
              "ticks": ""
             }
            },
            "type": "scattermapbox"
           }
          ],
          "scatterpolar": [
           {
            "marker": {
             "colorbar": {
              "outlinewidth": 0,
              "ticks": ""
             }
            },
            "type": "scatterpolar"
           }
          ],
          "scatterpolargl": [
           {
            "marker": {
             "colorbar": {
              "outlinewidth": 0,
              "ticks": ""
             }
            },
            "type": "scatterpolargl"
           }
          ],
          "scatterternary": [
           {
            "marker": {
             "colorbar": {
              "outlinewidth": 0,
              "ticks": ""
             }
            },
            "type": "scatterternary"
           }
          ],
          "surface": [
           {
            "colorbar": {
             "outlinewidth": 0,
             "ticks": ""
            },
            "colorscale": [
             [
              0,
              "#0d0887"
             ],
             [
              0.1111111111111111,
              "#46039f"
             ],
             [
              0.2222222222222222,
              "#7201a8"
             ],
             [
              0.3333333333333333,
              "#9c179e"
             ],
             [
              0.4444444444444444,
              "#bd3786"
             ],
             [
              0.5555555555555556,
              "#d8576b"
             ],
             [
              0.6666666666666666,
              "#ed7953"
             ],
             [
              0.7777777777777778,
              "#fb9f3a"
             ],
             [
              0.8888888888888888,
              "#fdca26"
             ],
             [
              1,
              "#f0f921"
             ]
            ],
            "type": "surface"
           }
          ],
          "table": [
           {
            "cells": {
             "fill": {
              "color": "#EBF0F8"
             },
             "line": {
              "color": "white"
             }
            },
            "header": {
             "fill": {
              "color": "#C8D4E3"
             },
             "line": {
              "color": "white"
             }
            },
            "type": "table"
           }
          ]
         },
         "layout": {
          "annotationdefaults": {
           "arrowcolor": "#2a3f5f",
           "arrowhead": 0,
           "arrowwidth": 1
          },
          "autotypenumbers": "strict",
          "coloraxis": {
           "colorbar": {
            "outlinewidth": 0,
            "ticks": ""
           }
          },
          "colorscale": {
           "diverging": [
            [
             0,
             "#8e0152"
            ],
            [
             0.1,
             "#c51b7d"
            ],
            [
             0.2,
             "#de77ae"
            ],
            [
             0.3,
             "#f1b6da"
            ],
            [
             0.4,
             "#fde0ef"
            ],
            [
             0.5,
             "#f7f7f7"
            ],
            [
             0.6,
             "#e6f5d0"
            ],
            [
             0.7,
             "#b8e186"
            ],
            [
             0.8,
             "#7fbc41"
            ],
            [
             0.9,
             "#4d9221"
            ],
            [
             1,
             "#276419"
            ]
           ],
           "sequential": [
            [
             0,
             "#0d0887"
            ],
            [
             0.1111111111111111,
             "#46039f"
            ],
            [
             0.2222222222222222,
             "#7201a8"
            ],
            [
             0.3333333333333333,
             "#9c179e"
            ],
            [
             0.4444444444444444,
             "#bd3786"
            ],
            [
             0.5555555555555556,
             "#d8576b"
            ],
            [
             0.6666666666666666,
             "#ed7953"
            ],
            [
             0.7777777777777778,
             "#fb9f3a"
            ],
            [
             0.8888888888888888,
             "#fdca26"
            ],
            [
             1,
             "#f0f921"
            ]
           ],
           "sequentialminus": [
            [
             0,
             "#0d0887"
            ],
            [
             0.1111111111111111,
             "#46039f"
            ],
            [
             0.2222222222222222,
             "#7201a8"
            ],
            [
             0.3333333333333333,
             "#9c179e"
            ],
            [
             0.4444444444444444,
             "#bd3786"
            ],
            [
             0.5555555555555556,
             "#d8576b"
            ],
            [
             0.6666666666666666,
             "#ed7953"
            ],
            [
             0.7777777777777778,
             "#fb9f3a"
            ],
            [
             0.8888888888888888,
             "#fdca26"
            ],
            [
             1,
             "#f0f921"
            ]
           ]
          },
          "colorway": [
           "#636efa",
           "#EF553B",
           "#00cc96",
           "#ab63fa",
           "#FFA15A",
           "#19d3f3",
           "#FF6692",
           "#B6E880",
           "#FF97FF",
           "#FECB52"
          ],
          "font": {
           "color": "#2a3f5f"
          },
          "geo": {
           "bgcolor": "white",
           "lakecolor": "white",
           "landcolor": "#E5ECF6",
           "showlakes": true,
           "showland": true,
           "subunitcolor": "white"
          },
          "hoverlabel": {
           "align": "left"
          },
          "hovermode": "closest",
          "mapbox": {
           "style": "light"
          },
          "paper_bgcolor": "white",
          "plot_bgcolor": "#E5ECF6",
          "polar": {
           "angularaxis": {
            "gridcolor": "white",
            "linecolor": "white",
            "ticks": ""
           },
           "bgcolor": "#E5ECF6",
           "radialaxis": {
            "gridcolor": "white",
            "linecolor": "white",
            "ticks": ""
           }
          },
          "scene": {
           "xaxis": {
            "backgroundcolor": "#E5ECF6",
            "gridcolor": "white",
            "gridwidth": 2,
            "linecolor": "white",
            "showbackground": true,
            "ticks": "",
            "zerolinecolor": "white"
           },
           "yaxis": {
            "backgroundcolor": "#E5ECF6",
            "gridcolor": "white",
            "gridwidth": 2,
            "linecolor": "white",
            "showbackground": true,
            "ticks": "",
            "zerolinecolor": "white"
           },
           "zaxis": {
            "backgroundcolor": "#E5ECF6",
            "gridcolor": "white",
            "gridwidth": 2,
            "linecolor": "white",
            "showbackground": true,
            "ticks": "",
            "zerolinecolor": "white"
           }
          },
          "shapedefaults": {
           "line": {
            "color": "#2a3f5f"
           }
          },
          "ternary": {
           "aaxis": {
            "gridcolor": "white",
            "linecolor": "white",
            "ticks": ""
           },
           "baxis": {
            "gridcolor": "white",
            "linecolor": "white",
            "ticks": ""
           },
           "bgcolor": "#E5ECF6",
           "caxis": {
            "gridcolor": "white",
            "linecolor": "white",
            "ticks": ""
           }
          },
          "title": {
           "x": 0.05
          },
          "xaxis": {
           "automargin": true,
           "gridcolor": "white",
           "linecolor": "white",
           "ticks": "",
           "title": {
            "standoff": 15
           },
           "zerolinecolor": "white",
           "zerolinewidth": 2
          },
          "yaxis": {
           "automargin": true,
           "gridcolor": "white",
           "linecolor": "white",
           "ticks": "",
           "title": {
            "standoff": 15
           },
           "zerolinecolor": "white",
           "zerolinewidth": 2
          }
         }
        },
        "title": {
         "text": "Original, Smoothed, and Mean Subtracted Wheel Speeds, Recording 0, Trial 1"
        },
        "xaxis": {
         "title": {
          "text": "Time"
         }
        },
        "yaxis": {
         "title": {
          "text": "Value"
         }
        }
       }
      }
     },
     "metadata": {},
     "output_type": "display_data"
    },
    {
     "data": {
      "application/vnd.plotly.v1+json": {
       "config": {
        "plotlyServerURL": "https://plot.ly"
       },
       "data": [
        {
         "name": "Original",
         "type": "scatter",
         "y": [
          0.017703734211660056,
          0.018452044225072132,
          0.020499721199868426,
          0.02492045187674922,
          0.033231384425196846,
          0.04721159288714863,
          0.06860408162705443,
          0.09869167076716313,
          0.13778403529492922,
          0.18477745057205675,
          0.2369483112777868,
          0.29012140108102547,
          0.33927406047211817,
          0.3794543343609657,
          0.4067923590419376,
          0.41927486366504985,
          0.4170546449132904,
          0.40222456304098136,
          0.3781504420739695,
          0.34861112023931434,
          0.3170070608952548,
          0.285861798707166,
          0.2566524435460045,
          0.22995478570349379,
          0.20574101582081802,
          0.18370606297746025,
          0.16352275172434075,
          0.1449848916245857,
          0.12806508405522507,
          0.11288582763573524,
          0.09966834983140792,
          0.08862967935182108,
          0.0798846933790008,
          0.07338152535527995,
          0.0688896887386653,
          0.06603624036277547,
          0.06438028465490701,
          0.06350918235474613,
          0.06309940056389236,
          0.06294315422722752
         ]
        },
        {
         "name": "Prediction",
         "type": "scatter",
         "y": [
          0.0069824080255502935,
          0.009030711018782674,
          0.013615189084285832,
          0.02166679147860151,
          0.034451456797239786,
          0.053361538340156306,
          0.07959712660320614,
          0.11377633899480186,
          0.15555424679324648,
          0.20336744234419313,
          0.2544196916097244,
          0.3049718825263986,
          0.3509010597994254,
          0.3883867610910011,
          0.41455067290949893,
          0.427875128247482,
          0.42831584561645075,
          0.41712135355303054,
          0.3964538671572612,
          0.36893412825633853,
          0.3372275223089775,
          0.30373529207996375,
          0.2704112182462157,
          0.2386920067617498,
          0.20951038565867156,
          0.18336608430414625,
          0.16042584587818168,
          0.1406260860875403,
          0.12376350765384025,
          0.10956127326105372,
          0.09770667540871489,
          0.08787367838094513,
          0.07974104766767011,
          0.07301837494193894,
          0.06746943996938502,
          0.06292941968324571,
          0.05930580738733969,
          0.05656752855725511,
          0.05472104835720176,
          0.05378898306941486
         ]
        }
       ],
       "layout": {
        "template": {
         "data": {
          "bar": [
           {
            "error_x": {
             "color": "#2a3f5f"
            },
            "error_y": {
             "color": "#2a3f5f"
            },
            "marker": {
             "line": {
              "color": "#E5ECF6",
              "width": 0.5
             },
             "pattern": {
              "fillmode": "overlay",
              "size": 10,
              "solidity": 0.2
             }
            },
            "type": "bar"
           }
          ],
          "barpolar": [
           {
            "marker": {
             "line": {
              "color": "#E5ECF6",
              "width": 0.5
             },
             "pattern": {
              "fillmode": "overlay",
              "size": 10,
              "solidity": 0.2
             }
            },
            "type": "barpolar"
           }
          ],
          "carpet": [
           {
            "aaxis": {
             "endlinecolor": "#2a3f5f",
             "gridcolor": "white",
             "linecolor": "white",
             "minorgridcolor": "white",
             "startlinecolor": "#2a3f5f"
            },
            "baxis": {
             "endlinecolor": "#2a3f5f",
             "gridcolor": "white",
             "linecolor": "white",
             "minorgridcolor": "white",
             "startlinecolor": "#2a3f5f"
            },
            "type": "carpet"
           }
          ],
          "choropleth": [
           {
            "colorbar": {
             "outlinewidth": 0,
             "ticks": ""
            },
            "type": "choropleth"
           }
          ],
          "contour": [
           {
            "colorbar": {
             "outlinewidth": 0,
             "ticks": ""
            },
            "colorscale": [
             [
              0,
              "#0d0887"
             ],
             [
              0.1111111111111111,
              "#46039f"
             ],
             [
              0.2222222222222222,
              "#7201a8"
             ],
             [
              0.3333333333333333,
              "#9c179e"
             ],
             [
              0.4444444444444444,
              "#bd3786"
             ],
             [
              0.5555555555555556,
              "#d8576b"
             ],
             [
              0.6666666666666666,
              "#ed7953"
             ],
             [
              0.7777777777777778,
              "#fb9f3a"
             ],
             [
              0.8888888888888888,
              "#fdca26"
             ],
             [
              1,
              "#f0f921"
             ]
            ],
            "type": "contour"
           }
          ],
          "contourcarpet": [
           {
            "colorbar": {
             "outlinewidth": 0,
             "ticks": ""
            },
            "type": "contourcarpet"
           }
          ],
          "heatmap": [
           {
            "colorbar": {
             "outlinewidth": 0,
             "ticks": ""
            },
            "colorscale": [
             [
              0,
              "#0d0887"
             ],
             [
              0.1111111111111111,
              "#46039f"
             ],
             [
              0.2222222222222222,
              "#7201a8"
             ],
             [
              0.3333333333333333,
              "#9c179e"
             ],
             [
              0.4444444444444444,
              "#bd3786"
             ],
             [
              0.5555555555555556,
              "#d8576b"
             ],
             [
              0.6666666666666666,
              "#ed7953"
             ],
             [
              0.7777777777777778,
              "#fb9f3a"
             ],
             [
              0.8888888888888888,
              "#fdca26"
             ],
             [
              1,
              "#f0f921"
             ]
            ],
            "type": "heatmap"
           }
          ],
          "heatmapgl": [
           {
            "colorbar": {
             "outlinewidth": 0,
             "ticks": ""
            },
            "colorscale": [
             [
              0,
              "#0d0887"
             ],
             [
              0.1111111111111111,
              "#46039f"
             ],
             [
              0.2222222222222222,
              "#7201a8"
             ],
             [
              0.3333333333333333,
              "#9c179e"
             ],
             [
              0.4444444444444444,
              "#bd3786"
             ],
             [
              0.5555555555555556,
              "#d8576b"
             ],
             [
              0.6666666666666666,
              "#ed7953"
             ],
             [
              0.7777777777777778,
              "#fb9f3a"
             ],
             [
              0.8888888888888888,
              "#fdca26"
             ],
             [
              1,
              "#f0f921"
             ]
            ],
            "type": "heatmapgl"
           }
          ],
          "histogram": [
           {
            "marker": {
             "pattern": {
              "fillmode": "overlay",
              "size": 10,
              "solidity": 0.2
             }
            },
            "type": "histogram"
           }
          ],
          "histogram2d": [
           {
            "colorbar": {
             "outlinewidth": 0,
             "ticks": ""
            },
            "colorscale": [
             [
              0,
              "#0d0887"
             ],
             [
              0.1111111111111111,
              "#46039f"
             ],
             [
              0.2222222222222222,
              "#7201a8"
             ],
             [
              0.3333333333333333,
              "#9c179e"
             ],
             [
              0.4444444444444444,
              "#bd3786"
             ],
             [
              0.5555555555555556,
              "#d8576b"
             ],
             [
              0.6666666666666666,
              "#ed7953"
             ],
             [
              0.7777777777777778,
              "#fb9f3a"
             ],
             [
              0.8888888888888888,
              "#fdca26"
             ],
             [
              1,
              "#f0f921"
             ]
            ],
            "type": "histogram2d"
           }
          ],
          "histogram2dcontour": [
           {
            "colorbar": {
             "outlinewidth": 0,
             "ticks": ""
            },
            "colorscale": [
             [
              0,
              "#0d0887"
             ],
             [
              0.1111111111111111,
              "#46039f"
             ],
             [
              0.2222222222222222,
              "#7201a8"
             ],
             [
              0.3333333333333333,
              "#9c179e"
             ],
             [
              0.4444444444444444,
              "#bd3786"
             ],
             [
              0.5555555555555556,
              "#d8576b"
             ],
             [
              0.6666666666666666,
              "#ed7953"
             ],
             [
              0.7777777777777778,
              "#fb9f3a"
             ],
             [
              0.8888888888888888,
              "#fdca26"
             ],
             [
              1,
              "#f0f921"
             ]
            ],
            "type": "histogram2dcontour"
           }
          ],
          "mesh3d": [
           {
            "colorbar": {
             "outlinewidth": 0,
             "ticks": ""
            },
            "type": "mesh3d"
           }
          ],
          "parcoords": [
           {
            "line": {
             "colorbar": {
              "outlinewidth": 0,
              "ticks": ""
             }
            },
            "type": "parcoords"
           }
          ],
          "pie": [
           {
            "automargin": true,
            "type": "pie"
           }
          ],
          "scatter": [
           {
            "fillpattern": {
             "fillmode": "overlay",
             "size": 10,
             "solidity": 0.2
            },
            "type": "scatter"
           }
          ],
          "scatter3d": [
           {
            "line": {
             "colorbar": {
              "outlinewidth": 0,
              "ticks": ""
             }
            },
            "marker": {
             "colorbar": {
              "outlinewidth": 0,
              "ticks": ""
             }
            },
            "type": "scatter3d"
           }
          ],
          "scattercarpet": [
           {
            "marker": {
             "colorbar": {
              "outlinewidth": 0,
              "ticks": ""
             }
            },
            "type": "scattercarpet"
           }
          ],
          "scattergeo": [
           {
            "marker": {
             "colorbar": {
              "outlinewidth": 0,
              "ticks": ""
             }
            },
            "type": "scattergeo"
           }
          ],
          "scattergl": [
           {
            "marker": {
             "colorbar": {
              "outlinewidth": 0,
              "ticks": ""
             }
            },
            "type": "scattergl"
           }
          ],
          "scattermapbox": [
           {
            "marker": {
             "colorbar": {
              "outlinewidth": 0,
              "ticks": ""
             }
            },
            "type": "scattermapbox"
           }
          ],
          "scatterpolar": [
           {
            "marker": {
             "colorbar": {
              "outlinewidth": 0,
              "ticks": ""
             }
            },
            "type": "scatterpolar"
           }
          ],
          "scatterpolargl": [
           {
            "marker": {
             "colorbar": {
              "outlinewidth": 0,
              "ticks": ""
             }
            },
            "type": "scatterpolargl"
           }
          ],
          "scatterternary": [
           {
            "marker": {
             "colorbar": {
              "outlinewidth": 0,
              "ticks": ""
             }
            },
            "type": "scatterternary"
           }
          ],
          "surface": [
           {
            "colorbar": {
             "outlinewidth": 0,
             "ticks": ""
            },
            "colorscale": [
             [
              0,
              "#0d0887"
             ],
             [
              0.1111111111111111,
              "#46039f"
             ],
             [
              0.2222222222222222,
              "#7201a8"
             ],
             [
              0.3333333333333333,
              "#9c179e"
             ],
             [
              0.4444444444444444,
              "#bd3786"
             ],
             [
              0.5555555555555556,
              "#d8576b"
             ],
             [
              0.6666666666666666,
              "#ed7953"
             ],
             [
              0.7777777777777778,
              "#fb9f3a"
             ],
             [
              0.8888888888888888,
              "#fdca26"
             ],
             [
              1,
              "#f0f921"
             ]
            ],
            "type": "surface"
           }
          ],
          "table": [
           {
            "cells": {
             "fill": {
              "color": "#EBF0F8"
             },
             "line": {
              "color": "white"
             }
            },
            "header": {
             "fill": {
              "color": "#C8D4E3"
             },
             "line": {
              "color": "white"
             }
            },
            "type": "table"
           }
          ]
         },
         "layout": {
          "annotationdefaults": {
           "arrowcolor": "#2a3f5f",
           "arrowhead": 0,
           "arrowwidth": 1
          },
          "autotypenumbers": "strict",
          "coloraxis": {
           "colorbar": {
            "outlinewidth": 0,
            "ticks": ""
           }
          },
          "colorscale": {
           "diverging": [
            [
             0,
             "#8e0152"
            ],
            [
             0.1,
             "#c51b7d"
            ],
            [
             0.2,
             "#de77ae"
            ],
            [
             0.3,
             "#f1b6da"
            ],
            [
             0.4,
             "#fde0ef"
            ],
            [
             0.5,
             "#f7f7f7"
            ],
            [
             0.6,
             "#e6f5d0"
            ],
            [
             0.7,
             "#b8e186"
            ],
            [
             0.8,
             "#7fbc41"
            ],
            [
             0.9,
             "#4d9221"
            ],
            [
             1,
             "#276419"
            ]
           ],
           "sequential": [
            [
             0,
             "#0d0887"
            ],
            [
             0.1111111111111111,
             "#46039f"
            ],
            [
             0.2222222222222222,
             "#7201a8"
            ],
            [
             0.3333333333333333,
             "#9c179e"
            ],
            [
             0.4444444444444444,
             "#bd3786"
            ],
            [
             0.5555555555555556,
             "#d8576b"
            ],
            [
             0.6666666666666666,
             "#ed7953"
            ],
            [
             0.7777777777777778,
             "#fb9f3a"
            ],
            [
             0.8888888888888888,
             "#fdca26"
            ],
            [
             1,
             "#f0f921"
            ]
           ],
           "sequentialminus": [
            [
             0,
             "#0d0887"
            ],
            [
             0.1111111111111111,
             "#46039f"
            ],
            [
             0.2222222222222222,
             "#7201a8"
            ],
            [
             0.3333333333333333,
             "#9c179e"
            ],
            [
             0.4444444444444444,
             "#bd3786"
            ],
            [
             0.5555555555555556,
             "#d8576b"
            ],
            [
             0.6666666666666666,
             "#ed7953"
            ],
            [
             0.7777777777777778,
             "#fb9f3a"
            ],
            [
             0.8888888888888888,
             "#fdca26"
            ],
            [
             1,
             "#f0f921"
            ]
           ]
          },
          "colorway": [
           "#636efa",
           "#EF553B",
           "#00cc96",
           "#ab63fa",
           "#FFA15A",
           "#19d3f3",
           "#FF6692",
           "#B6E880",
           "#FF97FF",
           "#FECB52"
          ],
          "font": {
           "color": "#2a3f5f"
          },
          "geo": {
           "bgcolor": "white",
           "lakecolor": "white",
           "landcolor": "#E5ECF6",
           "showlakes": true,
           "showland": true,
           "subunitcolor": "white"
          },
          "hoverlabel": {
           "align": "left"
          },
          "hovermode": "closest",
          "mapbox": {
           "style": "light"
          },
          "paper_bgcolor": "white",
          "plot_bgcolor": "#E5ECF6",
          "polar": {
           "angularaxis": {
            "gridcolor": "white",
            "linecolor": "white",
            "ticks": ""
           },
           "bgcolor": "#E5ECF6",
           "radialaxis": {
            "gridcolor": "white",
            "linecolor": "white",
            "ticks": ""
           }
          },
          "scene": {
           "xaxis": {
            "backgroundcolor": "#E5ECF6",
            "gridcolor": "white",
            "gridwidth": 2,
            "linecolor": "white",
            "showbackground": true,
            "ticks": "",
            "zerolinecolor": "white"
           },
           "yaxis": {
            "backgroundcolor": "#E5ECF6",
            "gridcolor": "white",
            "gridwidth": 2,
            "linecolor": "white",
            "showbackground": true,
            "ticks": "",
            "zerolinecolor": "white"
           },
           "zaxis": {
            "backgroundcolor": "#E5ECF6",
            "gridcolor": "white",
            "gridwidth": 2,
            "linecolor": "white",
            "showbackground": true,
            "ticks": "",
            "zerolinecolor": "white"
           }
          },
          "shapedefaults": {
           "line": {
            "color": "#2a3f5f"
           }
          },
          "ternary": {
           "aaxis": {
            "gridcolor": "white",
            "linecolor": "white",
            "ticks": ""
           },
           "baxis": {
            "gridcolor": "white",
            "linecolor": "white",
            "ticks": ""
           },
           "bgcolor": "#E5ECF6",
           "caxis": {
            "gridcolor": "white",
            "linecolor": "white",
            "ticks": ""
           }
          },
          "title": {
           "x": 0.05
          },
          "xaxis": {
           "automargin": true,
           "gridcolor": "white",
           "linecolor": "white",
           "ticks": "",
           "title": {
            "standoff": 15
           },
           "zerolinecolor": "white",
           "zerolinewidth": 2
          },
          "yaxis": {
           "automargin": true,
           "gridcolor": "white",
           "linecolor": "white",
           "ticks": "",
           "title": {
            "standoff": 15
           },
           "zerolinecolor": "white",
           "zerolinewidth": 2
          }
         }
        },
        "title": {
         "text": "Original, Smoothed, and Mean Subtracted Wheel Speeds, Recording 0, Trial 0"
        },
        "xaxis": {
         "title": {
          "text": "Time"
         }
        },
        "yaxis": {
         "title": {
          "text": "Value"
         }
        }
       }
      }
     },
     "metadata": {},
     "output_type": "display_data"
    },
    {
     "data": {
      "application/vnd.plotly.v1+json": {
       "config": {
        "plotlyServerURL": "https://plot.ly"
       },
       "data": [
        {
         "name": "Original",
         "type": "scatter",
         "y": [
          0.008566757533901377,
          0.012502594890528978,
          0.021257337622007422,
          0.0364815604992898,
          0.06033093750991899,
          0.0950208624671999,
          0.14217960589570056,
          0.20210692595508406,
          0.2731353760604397,
          0.3513036145067719,
          0.4305422981480298,
          0.5034393571138217,
          0.5624485058486857,
          0.601241529487148,
          0.6158454990702462,
          0.6052723697505323,
          0.5715178263125125,
          0.5189967988616375,
          0.45362313346452926,
          0.3817883719931372,
          0.3094564337636504,
          0.24150898663917342,
          0.18138753291243778,
          0.13101434376396764,
          0.09093538241445202,
          0.06061214501613178,
          0.03878448600456118,
          0.02383207185172065,
          0.01408379105274751,
          0.008039960984603836,
          0.004476266722274271,
          0.002473311124900367,
          0.0013991545486258027,
          0.0008479484610235699,
          0.0005763180037491679,
          0.0004451700869299813,
          0.00038232381769035727,
          0.0003522682000271267,
          0.000338370212296381,
          0.0003330432039206991
         ]
        },
        {
         "name": "Prediction",
         "type": "scatter",
         "y": [
          0.006591499544654832,
          0.00875947444685647,
          0.013586420236598087,
          0.021991362151180593,
          0.03517298615201557,
          0.05435634835316007,
          0.08042916078229491,
          0.11353122555145022,
          0.1527091738673913,
          0.19575754840533316,
          0.23936496283397996,
          0.27958972997375425,
          0.31256982171984427,
          0.33527973564051106,
          0.3461066024695381,
          0.3450762217558005,
          0.33368604887770265,
          0.3144294587185614,
          0.2901810748787337,
          0.2636356466246608,
          0.23693187071720628,
          0.2115048312853665,
          0.18813439084399783,
          0.1671066088620437,
          0.148399444316098,
          0.13183248957549465,
          0.11715707736440736,
          0.10409642102312122,
          0.09236385508341731,
          0.0816834562109304,
          0.0718147902030954,
          0.06259010770107443,
          0.05395243644155414,
          0.045962529703678714,
          0.03877382211121649,
          0.03257826509657051,
          0.02754278219485181,
          0.023765530888880414,
          0.021270835721939566,
          0.020036633876824788
         ]
        }
       ],
       "layout": {
        "template": {
         "data": {
          "bar": [
           {
            "error_x": {
             "color": "#2a3f5f"
            },
            "error_y": {
             "color": "#2a3f5f"
            },
            "marker": {
             "line": {
              "color": "#E5ECF6",
              "width": 0.5
             },
             "pattern": {
              "fillmode": "overlay",
              "size": 10,
              "solidity": 0.2
             }
            },
            "type": "bar"
           }
          ],
          "barpolar": [
           {
            "marker": {
             "line": {
              "color": "#E5ECF6",
              "width": 0.5
             },
             "pattern": {
              "fillmode": "overlay",
              "size": 10,
              "solidity": 0.2
             }
            },
            "type": "barpolar"
           }
          ],
          "carpet": [
           {
            "aaxis": {
             "endlinecolor": "#2a3f5f",
             "gridcolor": "white",
             "linecolor": "white",
             "minorgridcolor": "white",
             "startlinecolor": "#2a3f5f"
            },
            "baxis": {
             "endlinecolor": "#2a3f5f",
             "gridcolor": "white",
             "linecolor": "white",
             "minorgridcolor": "white",
             "startlinecolor": "#2a3f5f"
            },
            "type": "carpet"
           }
          ],
          "choropleth": [
           {
            "colorbar": {
             "outlinewidth": 0,
             "ticks": ""
            },
            "type": "choropleth"
           }
          ],
          "contour": [
           {
            "colorbar": {
             "outlinewidth": 0,
             "ticks": ""
            },
            "colorscale": [
             [
              0,
              "#0d0887"
             ],
             [
              0.1111111111111111,
              "#46039f"
             ],
             [
              0.2222222222222222,
              "#7201a8"
             ],
             [
              0.3333333333333333,
              "#9c179e"
             ],
             [
              0.4444444444444444,
              "#bd3786"
             ],
             [
              0.5555555555555556,
              "#d8576b"
             ],
             [
              0.6666666666666666,
              "#ed7953"
             ],
             [
              0.7777777777777778,
              "#fb9f3a"
             ],
             [
              0.8888888888888888,
              "#fdca26"
             ],
             [
              1,
              "#f0f921"
             ]
            ],
            "type": "contour"
           }
          ],
          "contourcarpet": [
           {
            "colorbar": {
             "outlinewidth": 0,
             "ticks": ""
            },
            "type": "contourcarpet"
           }
          ],
          "heatmap": [
           {
            "colorbar": {
             "outlinewidth": 0,
             "ticks": ""
            },
            "colorscale": [
             [
              0,
              "#0d0887"
             ],
             [
              0.1111111111111111,
              "#46039f"
             ],
             [
              0.2222222222222222,
              "#7201a8"
             ],
             [
              0.3333333333333333,
              "#9c179e"
             ],
             [
              0.4444444444444444,
              "#bd3786"
             ],
             [
              0.5555555555555556,
              "#d8576b"
             ],
             [
              0.6666666666666666,
              "#ed7953"
             ],
             [
              0.7777777777777778,
              "#fb9f3a"
             ],
             [
              0.8888888888888888,
              "#fdca26"
             ],
             [
              1,
              "#f0f921"
             ]
            ],
            "type": "heatmap"
           }
          ],
          "heatmapgl": [
           {
            "colorbar": {
             "outlinewidth": 0,
             "ticks": ""
            },
            "colorscale": [
             [
              0,
              "#0d0887"
             ],
             [
              0.1111111111111111,
              "#46039f"
             ],
             [
              0.2222222222222222,
              "#7201a8"
             ],
             [
              0.3333333333333333,
              "#9c179e"
             ],
             [
              0.4444444444444444,
              "#bd3786"
             ],
             [
              0.5555555555555556,
              "#d8576b"
             ],
             [
              0.6666666666666666,
              "#ed7953"
             ],
             [
              0.7777777777777778,
              "#fb9f3a"
             ],
             [
              0.8888888888888888,
              "#fdca26"
             ],
             [
              1,
              "#f0f921"
             ]
            ],
            "type": "heatmapgl"
           }
          ],
          "histogram": [
           {
            "marker": {
             "pattern": {
              "fillmode": "overlay",
              "size": 10,
              "solidity": 0.2
             }
            },
            "type": "histogram"
           }
          ],
          "histogram2d": [
           {
            "colorbar": {
             "outlinewidth": 0,
             "ticks": ""
            },
            "colorscale": [
             [
              0,
              "#0d0887"
             ],
             [
              0.1111111111111111,
              "#46039f"
             ],
             [
              0.2222222222222222,
              "#7201a8"
             ],
             [
              0.3333333333333333,
              "#9c179e"
             ],
             [
              0.4444444444444444,
              "#bd3786"
             ],
             [
              0.5555555555555556,
              "#d8576b"
             ],
             [
              0.6666666666666666,
              "#ed7953"
             ],
             [
              0.7777777777777778,
              "#fb9f3a"
             ],
             [
              0.8888888888888888,
              "#fdca26"
             ],
             [
              1,
              "#f0f921"
             ]
            ],
            "type": "histogram2d"
           }
          ],
          "histogram2dcontour": [
           {
            "colorbar": {
             "outlinewidth": 0,
             "ticks": ""
            },
            "colorscale": [
             [
              0,
              "#0d0887"
             ],
             [
              0.1111111111111111,
              "#46039f"
             ],
             [
              0.2222222222222222,
              "#7201a8"
             ],
             [
              0.3333333333333333,
              "#9c179e"
             ],
             [
              0.4444444444444444,
              "#bd3786"
             ],
             [
              0.5555555555555556,
              "#d8576b"
             ],
             [
              0.6666666666666666,
              "#ed7953"
             ],
             [
              0.7777777777777778,
              "#fb9f3a"
             ],
             [
              0.8888888888888888,
              "#fdca26"
             ],
             [
              1,
              "#f0f921"
             ]
            ],
            "type": "histogram2dcontour"
           }
          ],
          "mesh3d": [
           {
            "colorbar": {
             "outlinewidth": 0,
             "ticks": ""
            },
            "type": "mesh3d"
           }
          ],
          "parcoords": [
           {
            "line": {
             "colorbar": {
              "outlinewidth": 0,
              "ticks": ""
             }
            },
            "type": "parcoords"
           }
          ],
          "pie": [
           {
            "automargin": true,
            "type": "pie"
           }
          ],
          "scatter": [
           {
            "fillpattern": {
             "fillmode": "overlay",
             "size": 10,
             "solidity": 0.2
            },
            "type": "scatter"
           }
          ],
          "scatter3d": [
           {
            "line": {
             "colorbar": {
              "outlinewidth": 0,
              "ticks": ""
             }
            },
            "marker": {
             "colorbar": {
              "outlinewidth": 0,
              "ticks": ""
             }
            },
            "type": "scatter3d"
           }
          ],
          "scattercarpet": [
           {
            "marker": {
             "colorbar": {
              "outlinewidth": 0,
              "ticks": ""
             }
            },
            "type": "scattercarpet"
           }
          ],
          "scattergeo": [
           {
            "marker": {
             "colorbar": {
              "outlinewidth": 0,
              "ticks": ""
             }
            },
            "type": "scattergeo"
           }
          ],
          "scattergl": [
           {
            "marker": {
             "colorbar": {
              "outlinewidth": 0,
              "ticks": ""
             }
            },
            "type": "scattergl"
           }
          ],
          "scattermapbox": [
           {
            "marker": {
             "colorbar": {
              "outlinewidth": 0,
              "ticks": ""
             }
            },
            "type": "scattermapbox"
           }
          ],
          "scatterpolar": [
           {
            "marker": {
             "colorbar": {
              "outlinewidth": 0,
              "ticks": ""
             }
            },
            "type": "scatterpolar"
           }
          ],
          "scatterpolargl": [
           {
            "marker": {
             "colorbar": {
              "outlinewidth": 0,
              "ticks": ""
             }
            },
            "type": "scatterpolargl"
           }
          ],
          "scatterternary": [
           {
            "marker": {
             "colorbar": {
              "outlinewidth": 0,
              "ticks": ""
             }
            },
            "type": "scatterternary"
           }
          ],
          "surface": [
           {
            "colorbar": {
             "outlinewidth": 0,
             "ticks": ""
            },
            "colorscale": [
             [
              0,
              "#0d0887"
             ],
             [
              0.1111111111111111,
              "#46039f"
             ],
             [
              0.2222222222222222,
              "#7201a8"
             ],
             [
              0.3333333333333333,
              "#9c179e"
             ],
             [
              0.4444444444444444,
              "#bd3786"
             ],
             [
              0.5555555555555556,
              "#d8576b"
             ],
             [
              0.6666666666666666,
              "#ed7953"
             ],
             [
              0.7777777777777778,
              "#fb9f3a"
             ],
             [
              0.8888888888888888,
              "#fdca26"
             ],
             [
              1,
              "#f0f921"
             ]
            ],
            "type": "surface"
           }
          ],
          "table": [
           {
            "cells": {
             "fill": {
              "color": "#EBF0F8"
             },
             "line": {
              "color": "white"
             }
            },
            "header": {
             "fill": {
              "color": "#C8D4E3"
             },
             "line": {
              "color": "white"
             }
            },
            "type": "table"
           }
          ]
         },
         "layout": {
          "annotationdefaults": {
           "arrowcolor": "#2a3f5f",
           "arrowhead": 0,
           "arrowwidth": 1
          },
          "autotypenumbers": "strict",
          "coloraxis": {
           "colorbar": {
            "outlinewidth": 0,
            "ticks": ""
           }
          },
          "colorscale": {
           "diverging": [
            [
             0,
             "#8e0152"
            ],
            [
             0.1,
             "#c51b7d"
            ],
            [
             0.2,
             "#de77ae"
            ],
            [
             0.3,
             "#f1b6da"
            ],
            [
             0.4,
             "#fde0ef"
            ],
            [
             0.5,
             "#f7f7f7"
            ],
            [
             0.6,
             "#e6f5d0"
            ],
            [
             0.7,
             "#b8e186"
            ],
            [
             0.8,
             "#7fbc41"
            ],
            [
             0.9,
             "#4d9221"
            ],
            [
             1,
             "#276419"
            ]
           ],
           "sequential": [
            [
             0,
             "#0d0887"
            ],
            [
             0.1111111111111111,
             "#46039f"
            ],
            [
             0.2222222222222222,
             "#7201a8"
            ],
            [
             0.3333333333333333,
             "#9c179e"
            ],
            [
             0.4444444444444444,
             "#bd3786"
            ],
            [
             0.5555555555555556,
             "#d8576b"
            ],
            [
             0.6666666666666666,
             "#ed7953"
            ],
            [
             0.7777777777777778,
             "#fb9f3a"
            ],
            [
             0.8888888888888888,
             "#fdca26"
            ],
            [
             1,
             "#f0f921"
            ]
           ],
           "sequentialminus": [
            [
             0,
             "#0d0887"
            ],
            [
             0.1111111111111111,
             "#46039f"
            ],
            [
             0.2222222222222222,
             "#7201a8"
            ],
            [
             0.3333333333333333,
             "#9c179e"
            ],
            [
             0.4444444444444444,
             "#bd3786"
            ],
            [
             0.5555555555555556,
             "#d8576b"
            ],
            [
             0.6666666666666666,
             "#ed7953"
            ],
            [
             0.7777777777777778,
             "#fb9f3a"
            ],
            [
             0.8888888888888888,
             "#fdca26"
            ],
            [
             1,
             "#f0f921"
            ]
           ]
          },
          "colorway": [
           "#636efa",
           "#EF553B",
           "#00cc96",
           "#ab63fa",
           "#FFA15A",
           "#19d3f3",
           "#FF6692",
           "#B6E880",
           "#FF97FF",
           "#FECB52"
          ],
          "font": {
           "color": "#2a3f5f"
          },
          "geo": {
           "bgcolor": "white",
           "lakecolor": "white",
           "landcolor": "#E5ECF6",
           "showlakes": true,
           "showland": true,
           "subunitcolor": "white"
          },
          "hoverlabel": {
           "align": "left"
          },
          "hovermode": "closest",
          "mapbox": {
           "style": "light"
          },
          "paper_bgcolor": "white",
          "plot_bgcolor": "#E5ECF6",
          "polar": {
           "angularaxis": {
            "gridcolor": "white",
            "linecolor": "white",
            "ticks": ""
           },
           "bgcolor": "#E5ECF6",
           "radialaxis": {
            "gridcolor": "white",
            "linecolor": "white",
            "ticks": ""
           }
          },
          "scene": {
           "xaxis": {
            "backgroundcolor": "#E5ECF6",
            "gridcolor": "white",
            "gridwidth": 2,
            "linecolor": "white",
            "showbackground": true,
            "ticks": "",
            "zerolinecolor": "white"
           },
           "yaxis": {
            "backgroundcolor": "#E5ECF6",
            "gridcolor": "white",
            "gridwidth": 2,
            "linecolor": "white",
            "showbackground": true,
            "ticks": "",
            "zerolinecolor": "white"
           },
           "zaxis": {
            "backgroundcolor": "#E5ECF6",
            "gridcolor": "white",
            "gridwidth": 2,
            "linecolor": "white",
            "showbackground": true,
            "ticks": "",
            "zerolinecolor": "white"
           }
          },
          "shapedefaults": {
           "line": {
            "color": "#2a3f5f"
           }
          },
          "ternary": {
           "aaxis": {
            "gridcolor": "white",
            "linecolor": "white",
            "ticks": ""
           },
           "baxis": {
            "gridcolor": "white",
            "linecolor": "white",
            "ticks": ""
           },
           "bgcolor": "#E5ECF6",
           "caxis": {
            "gridcolor": "white",
            "linecolor": "white",
            "ticks": ""
           }
          },
          "title": {
           "x": 0.05
          },
          "xaxis": {
           "automargin": true,
           "gridcolor": "white",
           "linecolor": "white",
           "ticks": "",
           "title": {
            "standoff": 15
           },
           "zerolinecolor": "white",
           "zerolinewidth": 2
          },
          "yaxis": {
           "automargin": true,
           "gridcolor": "white",
           "linecolor": "white",
           "ticks": "",
           "title": {
            "standoff": 15
           },
           "zerolinecolor": "white",
           "zerolinewidth": 2
          }
         }
        },
        "title": {
         "text": "Original, Smoothed, and Mean Subtracted Wheel Speeds, Recording 0, Trial 1"
        },
        "xaxis": {
         "title": {
          "text": "Time"
         }
        },
        "yaxis": {
         "title": {
          "text": "Value"
         }
        }
       }
      }
     },
     "metadata": {},
     "output_type": "display_data"
    }
   ],
   "source": [
    "for recording_session in range(PLOT_RECORDINGS):\n",
    "    for t in range(2):\n",
    "        fig = go.Figure()\n",
    "        fig.add_trace(go.Scatter(y=Y_test[recording_session][t], name='Original'))\n",
    "        fig.add_trace(go.Scatter(y=Y_pred_continuous_decoder[recording_session][t], name='Prediction'))\n",
    "        fig.update_layout(title=f'Original, Smoothed, and Mean Subtracted Wheel Speeds, Recording 0, Trial {t}', xaxis_title='Time', yaxis_title='Value')\n",
    "        fig.show()\n"
   ]
  },
  {
   "cell_type": "code",
   "execution_count": null,
   "metadata": {},
   "outputs": [
    {
     "name": "stdout",
     "output_type": "stream",
     "text": [
      "Performance of zero predictor on training data: 0, Loss 0.06247894465923309\n",
      "Performance of zero predictor on test data: 0, Loss 0.07374325394630432\n",
      "Performance of zero predictor on training data: 1, Loss 0.05807190015912056\n",
      "Performance of zero predictor on test data: 1, Loss 0.0756937637925148\n",
      "Performance of zero predictor on training data: 2, Loss 0.054529912769794464\n",
      "Performance of zero predictor on test data: 2, Loss 0.06270706653594971\n"
     ]
    }
   ],
   "source": [
    "zero_predictor = ZeroPredictor()\n",
    "\n",
    "for recording in range(PLOT_RECORDINGS):\n",
    "    loss_item = evaluate_recording(recording, X_train[recording], Y_train[recording], zero_predictor, loss_fn, plot_num=0)\n",
    "    print(f'Performance of zero predictor on training data: {recording}, Loss {loss_item}')\n",
    "\n",
    "    loss_item = evaluate_recording(recording, X_test[recording], Y_test[recording], zero_predictor, loss_fn, plot_num=0)\n",
    "    print(f'Performance of zero predictor on test data: {recording}, Loss {loss_item}')"
   ]
  },
  {
   "cell_type": "code",
   "execution_count": 88,
   "metadata": {},
   "outputs": [
    {
     "name": "stdout",
     "output_type": "stream",
     "text": [
      "Performance of mean predictor on training data: 0, Loss 0.01631386089600843\n"
     ]
    },
    {
     "data": {
      "application/vnd.plotly.v1+json": {
       "config": {
        "plotlyServerURL": "https://plot.ly"
       },
       "data": [
        {
         "name": "Actual",
         "type": "scatter",
         "y": [
          0.010206673294305801,
          0.01375256571918726,
          0.021404631435871124,
          0.03417513519525528,
          0.05327616259455681,
          0.0797441154718399,
          0.11401934176683426,
          0.1555785834789276,
          0.20276834070682526,
          0.25295040011405945,
          0.30286872386932373,
          0.34916815161705017,
          0.38886186480522156,
          0.41956910490989685,
          0.4396032392978668,
          0.44798314571380615,
          0.4445313811302185,
          0.43013522028923035,
          0.40705204010009766,
          0.3790448009967804,
          0.3511321246623993,
          0.3289782404899597,
          0.3178739845752716,
          0.3217449188232422,
          0.34233763813972473,
          0.3787948787212372,
          0.4276919960975647,
          0.4835081696510315,
          0.5395236015319824,
          0.5887993574142456,
          0.6252738237380981,
          0.6446930170059204,
          0.6452412605285645,
          0.6277722716331482,
          0.5956381559371948,
          0.5541350245475769,
          0.509700357913971,
          0.46902036666870117,
          0.43809545040130615,
          0.4214273691177368
         ]
        },
        {
         "name": "Predicted",
         "type": "scatter",
         "y": [
          0.011116045769526328,
          0.012973159127307402,
          0.01710286334048405,
          0.02427868304443064,
          0.03550317918093717,
          0.05180110490444594,
          0.07394172107486235,
          0.10213779620598105,
          0.13581125131697502,
          0.17350406695592696,
          0.21298943066504453,
          0.25158678878620033,
          0.28660180947370106,
          0.31576797785171906,
          0.33756914821381157,
          0.3513701741487238,
          0.3573535625867738,
          0.3563186920819792,
          0.3494278061792867,
          0.33797189679516376,
          0.3231994061709905,
          0.3062159578681121,
          0.2879443295790333,
          0.26912171279898794,
          0.2503171908823639,
          0.23195724849396324,
          0.2143524957674527,
          0.19772124237035812,
          0.1822131253293062,
          0.16792614158275768,
          0.15491305856698476,
          0.1431918573890303,
          0.13275696095988543,
          0.12358903812590577,
          0.1156679421040736,
          0.10898504694325531,
          0.10355326013243253,
          0.09940897327693606,
          0.0966032689048506,
          0.09518533179959701
         ]
        }
       ],
       "layout": {
        "template": {
         "data": {
          "bar": [
           {
            "error_x": {
             "color": "#2a3f5f"
            },
            "error_y": {
             "color": "#2a3f5f"
            },
            "marker": {
             "line": {
              "color": "#E5ECF6",
              "width": 0.5
             },
             "pattern": {
              "fillmode": "overlay",
              "size": 10,
              "solidity": 0.2
             }
            },
            "type": "bar"
           }
          ],
          "barpolar": [
           {
            "marker": {
             "line": {
              "color": "#E5ECF6",
              "width": 0.5
             },
             "pattern": {
              "fillmode": "overlay",
              "size": 10,
              "solidity": 0.2
             }
            },
            "type": "barpolar"
           }
          ],
          "carpet": [
           {
            "aaxis": {
             "endlinecolor": "#2a3f5f",
             "gridcolor": "white",
             "linecolor": "white",
             "minorgridcolor": "white",
             "startlinecolor": "#2a3f5f"
            },
            "baxis": {
             "endlinecolor": "#2a3f5f",
             "gridcolor": "white",
             "linecolor": "white",
             "minorgridcolor": "white",
             "startlinecolor": "#2a3f5f"
            },
            "type": "carpet"
           }
          ],
          "choropleth": [
           {
            "colorbar": {
             "outlinewidth": 0,
             "ticks": ""
            },
            "type": "choropleth"
           }
          ],
          "contour": [
           {
            "colorbar": {
             "outlinewidth": 0,
             "ticks": ""
            },
            "colorscale": [
             [
              0,
              "#0d0887"
             ],
             [
              0.1111111111111111,
              "#46039f"
             ],
             [
              0.2222222222222222,
              "#7201a8"
             ],
             [
              0.3333333333333333,
              "#9c179e"
             ],
             [
              0.4444444444444444,
              "#bd3786"
             ],
             [
              0.5555555555555556,
              "#d8576b"
             ],
             [
              0.6666666666666666,
              "#ed7953"
             ],
             [
              0.7777777777777778,
              "#fb9f3a"
             ],
             [
              0.8888888888888888,
              "#fdca26"
             ],
             [
              1,
              "#f0f921"
             ]
            ],
            "type": "contour"
           }
          ],
          "contourcarpet": [
           {
            "colorbar": {
             "outlinewidth": 0,
             "ticks": ""
            },
            "type": "contourcarpet"
           }
          ],
          "heatmap": [
           {
            "colorbar": {
             "outlinewidth": 0,
             "ticks": ""
            },
            "colorscale": [
             [
              0,
              "#0d0887"
             ],
             [
              0.1111111111111111,
              "#46039f"
             ],
             [
              0.2222222222222222,
              "#7201a8"
             ],
             [
              0.3333333333333333,
              "#9c179e"
             ],
             [
              0.4444444444444444,
              "#bd3786"
             ],
             [
              0.5555555555555556,
              "#d8576b"
             ],
             [
              0.6666666666666666,
              "#ed7953"
             ],
             [
              0.7777777777777778,
              "#fb9f3a"
             ],
             [
              0.8888888888888888,
              "#fdca26"
             ],
             [
              1,
              "#f0f921"
             ]
            ],
            "type": "heatmap"
           }
          ],
          "heatmapgl": [
           {
            "colorbar": {
             "outlinewidth": 0,
             "ticks": ""
            },
            "colorscale": [
             [
              0,
              "#0d0887"
             ],
             [
              0.1111111111111111,
              "#46039f"
             ],
             [
              0.2222222222222222,
              "#7201a8"
             ],
             [
              0.3333333333333333,
              "#9c179e"
             ],
             [
              0.4444444444444444,
              "#bd3786"
             ],
             [
              0.5555555555555556,
              "#d8576b"
             ],
             [
              0.6666666666666666,
              "#ed7953"
             ],
             [
              0.7777777777777778,
              "#fb9f3a"
             ],
             [
              0.8888888888888888,
              "#fdca26"
             ],
             [
              1,
              "#f0f921"
             ]
            ],
            "type": "heatmapgl"
           }
          ],
          "histogram": [
           {
            "marker": {
             "pattern": {
              "fillmode": "overlay",
              "size": 10,
              "solidity": 0.2
             }
            },
            "type": "histogram"
           }
          ],
          "histogram2d": [
           {
            "colorbar": {
             "outlinewidth": 0,
             "ticks": ""
            },
            "colorscale": [
             [
              0,
              "#0d0887"
             ],
             [
              0.1111111111111111,
              "#46039f"
             ],
             [
              0.2222222222222222,
              "#7201a8"
             ],
             [
              0.3333333333333333,
              "#9c179e"
             ],
             [
              0.4444444444444444,
              "#bd3786"
             ],
             [
              0.5555555555555556,
              "#d8576b"
             ],
             [
              0.6666666666666666,
              "#ed7953"
             ],
             [
              0.7777777777777778,
              "#fb9f3a"
             ],
             [
              0.8888888888888888,
              "#fdca26"
             ],
             [
              1,
              "#f0f921"
             ]
            ],
            "type": "histogram2d"
           }
          ],
          "histogram2dcontour": [
           {
            "colorbar": {
             "outlinewidth": 0,
             "ticks": ""
            },
            "colorscale": [
             [
              0,
              "#0d0887"
             ],
             [
              0.1111111111111111,
              "#46039f"
             ],
             [
              0.2222222222222222,
              "#7201a8"
             ],
             [
              0.3333333333333333,
              "#9c179e"
             ],
             [
              0.4444444444444444,
              "#bd3786"
             ],
             [
              0.5555555555555556,
              "#d8576b"
             ],
             [
              0.6666666666666666,
              "#ed7953"
             ],
             [
              0.7777777777777778,
              "#fb9f3a"
             ],
             [
              0.8888888888888888,
              "#fdca26"
             ],
             [
              1,
              "#f0f921"
             ]
            ],
            "type": "histogram2dcontour"
           }
          ],
          "mesh3d": [
           {
            "colorbar": {
             "outlinewidth": 0,
             "ticks": ""
            },
            "type": "mesh3d"
           }
          ],
          "parcoords": [
           {
            "line": {
             "colorbar": {
              "outlinewidth": 0,
              "ticks": ""
             }
            },
            "type": "parcoords"
           }
          ],
          "pie": [
           {
            "automargin": true,
            "type": "pie"
           }
          ],
          "scatter": [
           {
            "fillpattern": {
             "fillmode": "overlay",
             "size": 10,
             "solidity": 0.2
            },
            "type": "scatter"
           }
          ],
          "scatter3d": [
           {
            "line": {
             "colorbar": {
              "outlinewidth": 0,
              "ticks": ""
             }
            },
            "marker": {
             "colorbar": {
              "outlinewidth": 0,
              "ticks": ""
             }
            },
            "type": "scatter3d"
           }
          ],
          "scattercarpet": [
           {
            "marker": {
             "colorbar": {
              "outlinewidth": 0,
              "ticks": ""
             }
            },
            "type": "scattercarpet"
           }
          ],
          "scattergeo": [
           {
            "marker": {
             "colorbar": {
              "outlinewidth": 0,
              "ticks": ""
             }
            },
            "type": "scattergeo"
           }
          ],
          "scattergl": [
           {
            "marker": {
             "colorbar": {
              "outlinewidth": 0,
              "ticks": ""
             }
            },
            "type": "scattergl"
           }
          ],
          "scattermapbox": [
           {
            "marker": {
             "colorbar": {
              "outlinewidth": 0,
              "ticks": ""
             }
            },
            "type": "scattermapbox"
           }
          ],
          "scatterpolar": [
           {
            "marker": {
             "colorbar": {
              "outlinewidth": 0,
              "ticks": ""
             }
            },
            "type": "scatterpolar"
           }
          ],
          "scatterpolargl": [
           {
            "marker": {
             "colorbar": {
              "outlinewidth": 0,
              "ticks": ""
             }
            },
            "type": "scatterpolargl"
           }
          ],
          "scatterternary": [
           {
            "marker": {
             "colorbar": {
              "outlinewidth": 0,
              "ticks": ""
             }
            },
            "type": "scatterternary"
           }
          ],
          "surface": [
           {
            "colorbar": {
             "outlinewidth": 0,
             "ticks": ""
            },
            "colorscale": [
             [
              0,
              "#0d0887"
             ],
             [
              0.1111111111111111,
              "#46039f"
             ],
             [
              0.2222222222222222,
              "#7201a8"
             ],
             [
              0.3333333333333333,
              "#9c179e"
             ],
             [
              0.4444444444444444,
              "#bd3786"
             ],
             [
              0.5555555555555556,
              "#d8576b"
             ],
             [
              0.6666666666666666,
              "#ed7953"
             ],
             [
              0.7777777777777778,
              "#fb9f3a"
             ],
             [
              0.8888888888888888,
              "#fdca26"
             ],
             [
              1,
              "#f0f921"
             ]
            ],
            "type": "surface"
           }
          ],
          "table": [
           {
            "cells": {
             "fill": {
              "color": "#EBF0F8"
             },
             "line": {
              "color": "white"
             }
            },
            "header": {
             "fill": {
              "color": "#C8D4E3"
             },
             "line": {
              "color": "white"
             }
            },
            "type": "table"
           }
          ]
         },
         "layout": {
          "annotationdefaults": {
           "arrowcolor": "#2a3f5f",
           "arrowhead": 0,
           "arrowwidth": 1
          },
          "autotypenumbers": "strict",
          "coloraxis": {
           "colorbar": {
            "outlinewidth": 0,
            "ticks": ""
           }
          },
          "colorscale": {
           "diverging": [
            [
             0,
             "#8e0152"
            ],
            [
             0.1,
             "#c51b7d"
            ],
            [
             0.2,
             "#de77ae"
            ],
            [
             0.3,
             "#f1b6da"
            ],
            [
             0.4,
             "#fde0ef"
            ],
            [
             0.5,
             "#f7f7f7"
            ],
            [
             0.6,
             "#e6f5d0"
            ],
            [
             0.7,
             "#b8e186"
            ],
            [
             0.8,
             "#7fbc41"
            ],
            [
             0.9,
             "#4d9221"
            ],
            [
             1,
             "#276419"
            ]
           ],
           "sequential": [
            [
             0,
             "#0d0887"
            ],
            [
             0.1111111111111111,
             "#46039f"
            ],
            [
             0.2222222222222222,
             "#7201a8"
            ],
            [
             0.3333333333333333,
             "#9c179e"
            ],
            [
             0.4444444444444444,
             "#bd3786"
            ],
            [
             0.5555555555555556,
             "#d8576b"
            ],
            [
             0.6666666666666666,
             "#ed7953"
            ],
            [
             0.7777777777777778,
             "#fb9f3a"
            ],
            [
             0.8888888888888888,
             "#fdca26"
            ],
            [
             1,
             "#f0f921"
            ]
           ],
           "sequentialminus": [
            [
             0,
             "#0d0887"
            ],
            [
             0.1111111111111111,
             "#46039f"
            ],
            [
             0.2222222222222222,
             "#7201a8"
            ],
            [
             0.3333333333333333,
             "#9c179e"
            ],
            [
             0.4444444444444444,
             "#bd3786"
            ],
            [
             0.5555555555555556,
             "#d8576b"
            ],
            [
             0.6666666666666666,
             "#ed7953"
            ],
            [
             0.7777777777777778,
             "#fb9f3a"
            ],
            [
             0.8888888888888888,
             "#fdca26"
            ],
            [
             1,
             "#f0f921"
            ]
           ]
          },
          "colorway": [
           "#636efa",
           "#EF553B",
           "#00cc96",
           "#ab63fa",
           "#FFA15A",
           "#19d3f3",
           "#FF6692",
           "#B6E880",
           "#FF97FF",
           "#FECB52"
          ],
          "font": {
           "color": "#2a3f5f"
          },
          "geo": {
           "bgcolor": "white",
           "lakecolor": "white",
           "landcolor": "#E5ECF6",
           "showlakes": true,
           "showland": true,
           "subunitcolor": "white"
          },
          "hoverlabel": {
           "align": "left"
          },
          "hovermode": "closest",
          "mapbox": {
           "style": "light"
          },
          "paper_bgcolor": "white",
          "plot_bgcolor": "#E5ECF6",
          "polar": {
           "angularaxis": {
            "gridcolor": "white",
            "linecolor": "white",
            "ticks": ""
           },
           "bgcolor": "#E5ECF6",
           "radialaxis": {
            "gridcolor": "white",
            "linecolor": "white",
            "ticks": ""
           }
          },
          "scene": {
           "xaxis": {
            "backgroundcolor": "#E5ECF6",
            "gridcolor": "white",
            "gridwidth": 2,
            "linecolor": "white",
            "showbackground": true,
            "ticks": "",
            "zerolinecolor": "white"
           },
           "yaxis": {
            "backgroundcolor": "#E5ECF6",
            "gridcolor": "white",
            "gridwidth": 2,
            "linecolor": "white",
            "showbackground": true,
            "ticks": "",
            "zerolinecolor": "white"
           },
           "zaxis": {
            "backgroundcolor": "#E5ECF6",
            "gridcolor": "white",
            "gridwidth": 2,
            "linecolor": "white",
            "showbackground": true,
            "ticks": "",
            "zerolinecolor": "white"
           }
          },
          "shapedefaults": {
           "line": {
            "color": "#2a3f5f"
           }
          },
          "ternary": {
           "aaxis": {
            "gridcolor": "white",
            "linecolor": "white",
            "ticks": ""
           },
           "baxis": {
            "gridcolor": "white",
            "linecolor": "white",
            "ticks": ""
           },
           "bgcolor": "#E5ECF6",
           "caxis": {
            "gridcolor": "white",
            "linecolor": "white",
            "ticks": ""
           }
          },
          "title": {
           "x": 0.05
          },
          "xaxis": {
           "automargin": true,
           "gridcolor": "white",
           "linecolor": "white",
           "ticks": "",
           "title": {
            "standoff": 15
           },
           "zerolinecolor": "white",
           "zerolinewidth": 2
          },
          "yaxis": {
           "automargin": true,
           "gridcolor": "white",
           "linecolor": "white",
           "ticks": "",
           "title": {
            "standoff": 15
           },
           "zerolinecolor": "white",
           "zerolinewidth": 2
          }
         }
        },
        "title": {
         "text": "Actual and Predicted Wheel Speeds, Recording 0, Trial 0"
        },
        "xaxis": {
         "title": {
          "text": "Time"
         }
        },
        "yaxis": {
         "title": {
          "text": "Value"
         }
        }
       }
      }
     },
     "metadata": {},
     "output_type": "display_data"
    },
    {
     "data": {
      "application/vnd.plotly.v1+json": {
       "config": {
        "plotlyServerURL": "https://plot.ly"
       },
       "data": [
        {
         "name": "Actual",
         "type": "scatter",
         "y": [
          0.00271339132450521,
          0.00419591972604394,
          0.007634743116796017,
          0.014003301970660686,
          0.024760494008660316,
          0.041753243654966354,
          0.06702794134616852,
          0.10244004428386688,
          0.14904965460300446,
          0.20654362440109253,
          0.2727942168712616,
          0.3437584638595581,
          0.4138796329498291,
          0.4769868552684784,
          0.5274810194969177,
          0.5614593029022217,
          0.5774493217468262,
          0.5765090584754944,
          0.5616909265518188,
          0.5370702743530273,
          0.5066611766815186,
          0.47356027364730835,
          0.4395410716533661,
          0.4051428437232971,
          0.3701360821723938,
          0.334126353263855,
          0.297054648399353,
          0.25943735241889954,
          0.22230954468250275,
          0.18695758283138275,
          0.15457642078399658,
          0.12603871524333954,
          0.1017453670501709,
          0.08166146278381348,
          0.06546206772327423,
          0.05270012468099594,
          0.042940497398376465,
          0.03584425151348114,
          0.031200719997286797,
          0.02890901453793049
         ]
        },
        {
         "name": "Predicted",
         "type": "scatter",
         "y": [
          0.011116045769526328,
          0.012973159127307402,
          0.01710286334048405,
          0.02427868304443064,
          0.03550317918093717,
          0.05180110490444594,
          0.07394172107486235,
          0.10213779620598105,
          0.13581125131697502,
          0.17350406695592696,
          0.21298943066504453,
          0.25158678878620033,
          0.28660180947370106,
          0.31576797785171906,
          0.33756914821381157,
          0.3513701741487238,
          0.3573535625867738,
          0.3563186920819792,
          0.3494278061792867,
          0.33797189679516376,
          0.3231994061709905,
          0.3062159578681121,
          0.2879443295790333,
          0.26912171279898794,
          0.2503171908823639,
          0.23195724849396324,
          0.2143524957674527,
          0.19772124237035812,
          0.1822131253293062,
          0.16792614158275768,
          0.15491305856698476,
          0.1431918573890303,
          0.13275696095988543,
          0.12358903812590577,
          0.1156679421040736,
          0.10898504694325531,
          0.10355326013243253,
          0.09940897327693606,
          0.0966032689048506,
          0.09518533179959701
         ]
        }
       ],
       "layout": {
        "template": {
         "data": {
          "bar": [
           {
            "error_x": {
             "color": "#2a3f5f"
            },
            "error_y": {
             "color": "#2a3f5f"
            },
            "marker": {
             "line": {
              "color": "#E5ECF6",
              "width": 0.5
             },
             "pattern": {
              "fillmode": "overlay",
              "size": 10,
              "solidity": 0.2
             }
            },
            "type": "bar"
           }
          ],
          "barpolar": [
           {
            "marker": {
             "line": {
              "color": "#E5ECF6",
              "width": 0.5
             },
             "pattern": {
              "fillmode": "overlay",
              "size": 10,
              "solidity": 0.2
             }
            },
            "type": "barpolar"
           }
          ],
          "carpet": [
           {
            "aaxis": {
             "endlinecolor": "#2a3f5f",
             "gridcolor": "white",
             "linecolor": "white",
             "minorgridcolor": "white",
             "startlinecolor": "#2a3f5f"
            },
            "baxis": {
             "endlinecolor": "#2a3f5f",
             "gridcolor": "white",
             "linecolor": "white",
             "minorgridcolor": "white",
             "startlinecolor": "#2a3f5f"
            },
            "type": "carpet"
           }
          ],
          "choropleth": [
           {
            "colorbar": {
             "outlinewidth": 0,
             "ticks": ""
            },
            "type": "choropleth"
           }
          ],
          "contour": [
           {
            "colorbar": {
             "outlinewidth": 0,
             "ticks": ""
            },
            "colorscale": [
             [
              0,
              "#0d0887"
             ],
             [
              0.1111111111111111,
              "#46039f"
             ],
             [
              0.2222222222222222,
              "#7201a8"
             ],
             [
              0.3333333333333333,
              "#9c179e"
             ],
             [
              0.4444444444444444,
              "#bd3786"
             ],
             [
              0.5555555555555556,
              "#d8576b"
             ],
             [
              0.6666666666666666,
              "#ed7953"
             ],
             [
              0.7777777777777778,
              "#fb9f3a"
             ],
             [
              0.8888888888888888,
              "#fdca26"
             ],
             [
              1,
              "#f0f921"
             ]
            ],
            "type": "contour"
           }
          ],
          "contourcarpet": [
           {
            "colorbar": {
             "outlinewidth": 0,
             "ticks": ""
            },
            "type": "contourcarpet"
           }
          ],
          "heatmap": [
           {
            "colorbar": {
             "outlinewidth": 0,
             "ticks": ""
            },
            "colorscale": [
             [
              0,
              "#0d0887"
             ],
             [
              0.1111111111111111,
              "#46039f"
             ],
             [
              0.2222222222222222,
              "#7201a8"
             ],
             [
              0.3333333333333333,
              "#9c179e"
             ],
             [
              0.4444444444444444,
              "#bd3786"
             ],
             [
              0.5555555555555556,
              "#d8576b"
             ],
             [
              0.6666666666666666,
              "#ed7953"
             ],
             [
              0.7777777777777778,
              "#fb9f3a"
             ],
             [
              0.8888888888888888,
              "#fdca26"
             ],
             [
              1,
              "#f0f921"
             ]
            ],
            "type": "heatmap"
           }
          ],
          "heatmapgl": [
           {
            "colorbar": {
             "outlinewidth": 0,
             "ticks": ""
            },
            "colorscale": [
             [
              0,
              "#0d0887"
             ],
             [
              0.1111111111111111,
              "#46039f"
             ],
             [
              0.2222222222222222,
              "#7201a8"
             ],
             [
              0.3333333333333333,
              "#9c179e"
             ],
             [
              0.4444444444444444,
              "#bd3786"
             ],
             [
              0.5555555555555556,
              "#d8576b"
             ],
             [
              0.6666666666666666,
              "#ed7953"
             ],
             [
              0.7777777777777778,
              "#fb9f3a"
             ],
             [
              0.8888888888888888,
              "#fdca26"
             ],
             [
              1,
              "#f0f921"
             ]
            ],
            "type": "heatmapgl"
           }
          ],
          "histogram": [
           {
            "marker": {
             "pattern": {
              "fillmode": "overlay",
              "size": 10,
              "solidity": 0.2
             }
            },
            "type": "histogram"
           }
          ],
          "histogram2d": [
           {
            "colorbar": {
             "outlinewidth": 0,
             "ticks": ""
            },
            "colorscale": [
             [
              0,
              "#0d0887"
             ],
             [
              0.1111111111111111,
              "#46039f"
             ],
             [
              0.2222222222222222,
              "#7201a8"
             ],
             [
              0.3333333333333333,
              "#9c179e"
             ],
             [
              0.4444444444444444,
              "#bd3786"
             ],
             [
              0.5555555555555556,
              "#d8576b"
             ],
             [
              0.6666666666666666,
              "#ed7953"
             ],
             [
              0.7777777777777778,
              "#fb9f3a"
             ],
             [
              0.8888888888888888,
              "#fdca26"
             ],
             [
              1,
              "#f0f921"
             ]
            ],
            "type": "histogram2d"
           }
          ],
          "histogram2dcontour": [
           {
            "colorbar": {
             "outlinewidth": 0,
             "ticks": ""
            },
            "colorscale": [
             [
              0,
              "#0d0887"
             ],
             [
              0.1111111111111111,
              "#46039f"
             ],
             [
              0.2222222222222222,
              "#7201a8"
             ],
             [
              0.3333333333333333,
              "#9c179e"
             ],
             [
              0.4444444444444444,
              "#bd3786"
             ],
             [
              0.5555555555555556,
              "#d8576b"
             ],
             [
              0.6666666666666666,
              "#ed7953"
             ],
             [
              0.7777777777777778,
              "#fb9f3a"
             ],
             [
              0.8888888888888888,
              "#fdca26"
             ],
             [
              1,
              "#f0f921"
             ]
            ],
            "type": "histogram2dcontour"
           }
          ],
          "mesh3d": [
           {
            "colorbar": {
             "outlinewidth": 0,
             "ticks": ""
            },
            "type": "mesh3d"
           }
          ],
          "parcoords": [
           {
            "line": {
             "colorbar": {
              "outlinewidth": 0,
              "ticks": ""
             }
            },
            "type": "parcoords"
           }
          ],
          "pie": [
           {
            "automargin": true,
            "type": "pie"
           }
          ],
          "scatter": [
           {
            "fillpattern": {
             "fillmode": "overlay",
             "size": 10,
             "solidity": 0.2
            },
            "type": "scatter"
           }
          ],
          "scatter3d": [
           {
            "line": {
             "colorbar": {
              "outlinewidth": 0,
              "ticks": ""
             }
            },
            "marker": {
             "colorbar": {
              "outlinewidth": 0,
              "ticks": ""
             }
            },
            "type": "scatter3d"
           }
          ],
          "scattercarpet": [
           {
            "marker": {
             "colorbar": {
              "outlinewidth": 0,
              "ticks": ""
             }
            },
            "type": "scattercarpet"
           }
          ],
          "scattergeo": [
           {
            "marker": {
             "colorbar": {
              "outlinewidth": 0,
              "ticks": ""
             }
            },
            "type": "scattergeo"
           }
          ],
          "scattergl": [
           {
            "marker": {
             "colorbar": {
              "outlinewidth": 0,
              "ticks": ""
             }
            },
            "type": "scattergl"
           }
          ],
          "scattermapbox": [
           {
            "marker": {
             "colorbar": {
              "outlinewidth": 0,
              "ticks": ""
             }
            },
            "type": "scattermapbox"
           }
          ],
          "scatterpolar": [
           {
            "marker": {
             "colorbar": {
              "outlinewidth": 0,
              "ticks": ""
             }
            },
            "type": "scatterpolar"
           }
          ],
          "scatterpolargl": [
           {
            "marker": {
             "colorbar": {
              "outlinewidth": 0,
              "ticks": ""
             }
            },
            "type": "scatterpolargl"
           }
          ],
          "scatterternary": [
           {
            "marker": {
             "colorbar": {
              "outlinewidth": 0,
              "ticks": ""
             }
            },
            "type": "scatterternary"
           }
          ],
          "surface": [
           {
            "colorbar": {
             "outlinewidth": 0,
             "ticks": ""
            },
            "colorscale": [
             [
              0,
              "#0d0887"
             ],
             [
              0.1111111111111111,
              "#46039f"
             ],
             [
              0.2222222222222222,
              "#7201a8"
             ],
             [
              0.3333333333333333,
              "#9c179e"
             ],
             [
              0.4444444444444444,
              "#bd3786"
             ],
             [
              0.5555555555555556,
              "#d8576b"
             ],
             [
              0.6666666666666666,
              "#ed7953"
             ],
             [
              0.7777777777777778,
              "#fb9f3a"
             ],
             [
              0.8888888888888888,
              "#fdca26"
             ],
             [
              1,
              "#f0f921"
             ]
            ],
            "type": "surface"
           }
          ],
          "table": [
           {
            "cells": {
             "fill": {
              "color": "#EBF0F8"
             },
             "line": {
              "color": "white"
             }
            },
            "header": {
             "fill": {
              "color": "#C8D4E3"
             },
             "line": {
              "color": "white"
             }
            },
            "type": "table"
           }
          ]
         },
         "layout": {
          "annotationdefaults": {
           "arrowcolor": "#2a3f5f",
           "arrowhead": 0,
           "arrowwidth": 1
          },
          "autotypenumbers": "strict",
          "coloraxis": {
           "colorbar": {
            "outlinewidth": 0,
            "ticks": ""
           }
          },
          "colorscale": {
           "diverging": [
            [
             0,
             "#8e0152"
            ],
            [
             0.1,
             "#c51b7d"
            ],
            [
             0.2,
             "#de77ae"
            ],
            [
             0.3,
             "#f1b6da"
            ],
            [
             0.4,
             "#fde0ef"
            ],
            [
             0.5,
             "#f7f7f7"
            ],
            [
             0.6,
             "#e6f5d0"
            ],
            [
             0.7,
             "#b8e186"
            ],
            [
             0.8,
             "#7fbc41"
            ],
            [
             0.9,
             "#4d9221"
            ],
            [
             1,
             "#276419"
            ]
           ],
           "sequential": [
            [
             0,
             "#0d0887"
            ],
            [
             0.1111111111111111,
             "#46039f"
            ],
            [
             0.2222222222222222,
             "#7201a8"
            ],
            [
             0.3333333333333333,
             "#9c179e"
            ],
            [
             0.4444444444444444,
             "#bd3786"
            ],
            [
             0.5555555555555556,
             "#d8576b"
            ],
            [
             0.6666666666666666,
             "#ed7953"
            ],
            [
             0.7777777777777778,
             "#fb9f3a"
            ],
            [
             0.8888888888888888,
             "#fdca26"
            ],
            [
             1,
             "#f0f921"
            ]
           ],
           "sequentialminus": [
            [
             0,
             "#0d0887"
            ],
            [
             0.1111111111111111,
             "#46039f"
            ],
            [
             0.2222222222222222,
             "#7201a8"
            ],
            [
             0.3333333333333333,
             "#9c179e"
            ],
            [
             0.4444444444444444,
             "#bd3786"
            ],
            [
             0.5555555555555556,
             "#d8576b"
            ],
            [
             0.6666666666666666,
             "#ed7953"
            ],
            [
             0.7777777777777778,
             "#fb9f3a"
            ],
            [
             0.8888888888888888,
             "#fdca26"
            ],
            [
             1,
             "#f0f921"
            ]
           ]
          },
          "colorway": [
           "#636efa",
           "#EF553B",
           "#00cc96",
           "#ab63fa",
           "#FFA15A",
           "#19d3f3",
           "#FF6692",
           "#B6E880",
           "#FF97FF",
           "#FECB52"
          ],
          "font": {
           "color": "#2a3f5f"
          },
          "geo": {
           "bgcolor": "white",
           "lakecolor": "white",
           "landcolor": "#E5ECF6",
           "showlakes": true,
           "showland": true,
           "subunitcolor": "white"
          },
          "hoverlabel": {
           "align": "left"
          },
          "hovermode": "closest",
          "mapbox": {
           "style": "light"
          },
          "paper_bgcolor": "white",
          "plot_bgcolor": "#E5ECF6",
          "polar": {
           "angularaxis": {
            "gridcolor": "white",
            "linecolor": "white",
            "ticks": ""
           },
           "bgcolor": "#E5ECF6",
           "radialaxis": {
            "gridcolor": "white",
            "linecolor": "white",
            "ticks": ""
           }
          },
          "scene": {
           "xaxis": {
            "backgroundcolor": "#E5ECF6",
            "gridcolor": "white",
            "gridwidth": 2,
            "linecolor": "white",
            "showbackground": true,
            "ticks": "",
            "zerolinecolor": "white"
           },
           "yaxis": {
            "backgroundcolor": "#E5ECF6",
            "gridcolor": "white",
            "gridwidth": 2,
            "linecolor": "white",
            "showbackground": true,
            "ticks": "",
            "zerolinecolor": "white"
           },
           "zaxis": {
            "backgroundcolor": "#E5ECF6",
            "gridcolor": "white",
            "gridwidth": 2,
            "linecolor": "white",
            "showbackground": true,
            "ticks": "",
            "zerolinecolor": "white"
           }
          },
          "shapedefaults": {
           "line": {
            "color": "#2a3f5f"
           }
          },
          "ternary": {
           "aaxis": {
            "gridcolor": "white",
            "linecolor": "white",
            "ticks": ""
           },
           "baxis": {
            "gridcolor": "white",
            "linecolor": "white",
            "ticks": ""
           },
           "bgcolor": "#E5ECF6",
           "caxis": {
            "gridcolor": "white",
            "linecolor": "white",
            "ticks": ""
           }
          },
          "title": {
           "x": 0.05
          },
          "xaxis": {
           "automargin": true,
           "gridcolor": "white",
           "linecolor": "white",
           "ticks": "",
           "title": {
            "standoff": 15
           },
           "zerolinecolor": "white",
           "zerolinewidth": 2
          },
          "yaxis": {
           "automargin": true,
           "gridcolor": "white",
           "linecolor": "white",
           "ticks": "",
           "title": {
            "standoff": 15
           },
           "zerolinecolor": "white",
           "zerolinewidth": 2
          }
         }
        },
        "title": {
         "text": "Actual and Predicted Wheel Speeds, Recording 0, Trial 1"
        },
        "xaxis": {
         "title": {
          "text": "Time"
         }
        },
        "yaxis": {
         "title": {
          "text": "Value"
         }
        }
       }
      }
     },
     "metadata": {},
     "output_type": "display_data"
    },
    {
     "name": "stdout",
     "output_type": "stream",
     "text": [
      "Performance of mean predictor on test data: 0, Loss 0.015349475338455812\n",
      "Performance of mean predictor on training data: 1, Loss 0.016039364283480385\n"
     ]
    },
    {
     "data": {
      "application/vnd.plotly.v1+json": {
       "config": {
        "plotlyServerURL": "https://plot.ly"
       },
       "data": [
        {
         "name": "Actual",
         "type": "scatter",
         "y": [
          0.003465794725343585,
          0.004064940381795168,
          0.005328592378646135,
          0.0073995087295770645,
          0.010506581515073776,
          0.014960781671106815,
          0.021126743406057358,
          0.029350247234106064,
          0.039853017777204514,
          0.05262589827179909,
          0.06735900044441223,
          0.08344230055809021,
          0.10003943741321564,
          0.1162344291806221,
          0.1311907023191452,
          0.1442454755306244,
          0.15496514737606049,
          0.1631416529417038,
          0.16874955594539642,
          0.17196619510650635,
          0.17318527400493622,
          0.1730452924966812,
          0.1723925918340683,
          0.1721487194299698,
          0.17308729887008667,
          0.17559675872325897,
          0.17952436208724976,
          0.18417611718177795,
          0.18849582970142365,
          0.1913658082485199,
          0.1919364184141159,
          0.18983162939548492,
          0.18522755801677704,
          0.17873847484588623,
          0.17121772468090057,
          0.1635657548904419,
          0.15656982362270355,
          0.1508365273475647,
          0.14679394662380219,
          0.14470885694026947
         ]
        },
        {
         "name": "Predicted",
         "type": "scatter",
         "y": [
          0.006183567631294872,
          0.007492900198983568,
          0.010422065148433628,
          0.015559979332802513,
          0.023698311164575367,
          0.035697998952990986,
          0.05229341860514047,
          0.07385890657661498,
          0.10018928910868258,
          0.13036333466845032,
          0.1627529875532824,
          0.19520717850580552,
          0.22538429557316264,
          0.25115493462594535,
          0.2709657522052026,
          0.28407133435074927,
          0.2905816200551965,
          0.2913323391922363,
          0.28763366730328216,
          0.28097574206527687,
          0.27276518832132834,
          0.2641425624425056,
          0.25589662328071044,
          0.24846446204785377,
          0.24199107142000126,
          0.23641633381836538,
          0.23156305156268608,
          0.22720991567053114,
          0.2231433420125147,
          0.2191866663393917,
          0.21521184372816554,
          0.21114193330509332,
          0.20695154229113438,
          0.2026695498228534,
          0.1983845480068513,
          0.19424912306834288,
          0.1904763585877111,
          0.18731931113806483,
          0.18503406440056736,
          0.1838318123399746
         ]
        }
       ],
       "layout": {
        "template": {
         "data": {
          "bar": [
           {
            "error_x": {
             "color": "#2a3f5f"
            },
            "error_y": {
             "color": "#2a3f5f"
            },
            "marker": {
             "line": {
              "color": "#E5ECF6",
              "width": 0.5
             },
             "pattern": {
              "fillmode": "overlay",
              "size": 10,
              "solidity": 0.2
             }
            },
            "type": "bar"
           }
          ],
          "barpolar": [
           {
            "marker": {
             "line": {
              "color": "#E5ECF6",
              "width": 0.5
             },
             "pattern": {
              "fillmode": "overlay",
              "size": 10,
              "solidity": 0.2
             }
            },
            "type": "barpolar"
           }
          ],
          "carpet": [
           {
            "aaxis": {
             "endlinecolor": "#2a3f5f",
             "gridcolor": "white",
             "linecolor": "white",
             "minorgridcolor": "white",
             "startlinecolor": "#2a3f5f"
            },
            "baxis": {
             "endlinecolor": "#2a3f5f",
             "gridcolor": "white",
             "linecolor": "white",
             "minorgridcolor": "white",
             "startlinecolor": "#2a3f5f"
            },
            "type": "carpet"
           }
          ],
          "choropleth": [
           {
            "colorbar": {
             "outlinewidth": 0,
             "ticks": ""
            },
            "type": "choropleth"
           }
          ],
          "contour": [
           {
            "colorbar": {
             "outlinewidth": 0,
             "ticks": ""
            },
            "colorscale": [
             [
              0,
              "#0d0887"
             ],
             [
              0.1111111111111111,
              "#46039f"
             ],
             [
              0.2222222222222222,
              "#7201a8"
             ],
             [
              0.3333333333333333,
              "#9c179e"
             ],
             [
              0.4444444444444444,
              "#bd3786"
             ],
             [
              0.5555555555555556,
              "#d8576b"
             ],
             [
              0.6666666666666666,
              "#ed7953"
             ],
             [
              0.7777777777777778,
              "#fb9f3a"
             ],
             [
              0.8888888888888888,
              "#fdca26"
             ],
             [
              1,
              "#f0f921"
             ]
            ],
            "type": "contour"
           }
          ],
          "contourcarpet": [
           {
            "colorbar": {
             "outlinewidth": 0,
             "ticks": ""
            },
            "type": "contourcarpet"
           }
          ],
          "heatmap": [
           {
            "colorbar": {
             "outlinewidth": 0,
             "ticks": ""
            },
            "colorscale": [
             [
              0,
              "#0d0887"
             ],
             [
              0.1111111111111111,
              "#46039f"
             ],
             [
              0.2222222222222222,
              "#7201a8"
             ],
             [
              0.3333333333333333,
              "#9c179e"
             ],
             [
              0.4444444444444444,
              "#bd3786"
             ],
             [
              0.5555555555555556,
              "#d8576b"
             ],
             [
              0.6666666666666666,
              "#ed7953"
             ],
             [
              0.7777777777777778,
              "#fb9f3a"
             ],
             [
              0.8888888888888888,
              "#fdca26"
             ],
             [
              1,
              "#f0f921"
             ]
            ],
            "type": "heatmap"
           }
          ],
          "heatmapgl": [
           {
            "colorbar": {
             "outlinewidth": 0,
             "ticks": ""
            },
            "colorscale": [
             [
              0,
              "#0d0887"
             ],
             [
              0.1111111111111111,
              "#46039f"
             ],
             [
              0.2222222222222222,
              "#7201a8"
             ],
             [
              0.3333333333333333,
              "#9c179e"
             ],
             [
              0.4444444444444444,
              "#bd3786"
             ],
             [
              0.5555555555555556,
              "#d8576b"
             ],
             [
              0.6666666666666666,
              "#ed7953"
             ],
             [
              0.7777777777777778,
              "#fb9f3a"
             ],
             [
              0.8888888888888888,
              "#fdca26"
             ],
             [
              1,
              "#f0f921"
             ]
            ],
            "type": "heatmapgl"
           }
          ],
          "histogram": [
           {
            "marker": {
             "pattern": {
              "fillmode": "overlay",
              "size": 10,
              "solidity": 0.2
             }
            },
            "type": "histogram"
           }
          ],
          "histogram2d": [
           {
            "colorbar": {
             "outlinewidth": 0,
             "ticks": ""
            },
            "colorscale": [
             [
              0,
              "#0d0887"
             ],
             [
              0.1111111111111111,
              "#46039f"
             ],
             [
              0.2222222222222222,
              "#7201a8"
             ],
             [
              0.3333333333333333,
              "#9c179e"
             ],
             [
              0.4444444444444444,
              "#bd3786"
             ],
             [
              0.5555555555555556,
              "#d8576b"
             ],
             [
              0.6666666666666666,
              "#ed7953"
             ],
             [
              0.7777777777777778,
              "#fb9f3a"
             ],
             [
              0.8888888888888888,
              "#fdca26"
             ],
             [
              1,
              "#f0f921"
             ]
            ],
            "type": "histogram2d"
           }
          ],
          "histogram2dcontour": [
           {
            "colorbar": {
             "outlinewidth": 0,
             "ticks": ""
            },
            "colorscale": [
             [
              0,
              "#0d0887"
             ],
             [
              0.1111111111111111,
              "#46039f"
             ],
             [
              0.2222222222222222,
              "#7201a8"
             ],
             [
              0.3333333333333333,
              "#9c179e"
             ],
             [
              0.4444444444444444,
              "#bd3786"
             ],
             [
              0.5555555555555556,
              "#d8576b"
             ],
             [
              0.6666666666666666,
              "#ed7953"
             ],
             [
              0.7777777777777778,
              "#fb9f3a"
             ],
             [
              0.8888888888888888,
              "#fdca26"
             ],
             [
              1,
              "#f0f921"
             ]
            ],
            "type": "histogram2dcontour"
           }
          ],
          "mesh3d": [
           {
            "colorbar": {
             "outlinewidth": 0,
             "ticks": ""
            },
            "type": "mesh3d"
           }
          ],
          "parcoords": [
           {
            "line": {
             "colorbar": {
              "outlinewidth": 0,
              "ticks": ""
             }
            },
            "type": "parcoords"
           }
          ],
          "pie": [
           {
            "automargin": true,
            "type": "pie"
           }
          ],
          "scatter": [
           {
            "fillpattern": {
             "fillmode": "overlay",
             "size": 10,
             "solidity": 0.2
            },
            "type": "scatter"
           }
          ],
          "scatter3d": [
           {
            "line": {
             "colorbar": {
              "outlinewidth": 0,
              "ticks": ""
             }
            },
            "marker": {
             "colorbar": {
              "outlinewidth": 0,
              "ticks": ""
             }
            },
            "type": "scatter3d"
           }
          ],
          "scattercarpet": [
           {
            "marker": {
             "colorbar": {
              "outlinewidth": 0,
              "ticks": ""
             }
            },
            "type": "scattercarpet"
           }
          ],
          "scattergeo": [
           {
            "marker": {
             "colorbar": {
              "outlinewidth": 0,
              "ticks": ""
             }
            },
            "type": "scattergeo"
           }
          ],
          "scattergl": [
           {
            "marker": {
             "colorbar": {
              "outlinewidth": 0,
              "ticks": ""
             }
            },
            "type": "scattergl"
           }
          ],
          "scattermapbox": [
           {
            "marker": {
             "colorbar": {
              "outlinewidth": 0,
              "ticks": ""
             }
            },
            "type": "scattermapbox"
           }
          ],
          "scatterpolar": [
           {
            "marker": {
             "colorbar": {
              "outlinewidth": 0,
              "ticks": ""
             }
            },
            "type": "scatterpolar"
           }
          ],
          "scatterpolargl": [
           {
            "marker": {
             "colorbar": {
              "outlinewidth": 0,
              "ticks": ""
             }
            },
            "type": "scatterpolargl"
           }
          ],
          "scatterternary": [
           {
            "marker": {
             "colorbar": {
              "outlinewidth": 0,
              "ticks": ""
             }
            },
            "type": "scatterternary"
           }
          ],
          "surface": [
           {
            "colorbar": {
             "outlinewidth": 0,
             "ticks": ""
            },
            "colorscale": [
             [
              0,
              "#0d0887"
             ],
             [
              0.1111111111111111,
              "#46039f"
             ],
             [
              0.2222222222222222,
              "#7201a8"
             ],
             [
              0.3333333333333333,
              "#9c179e"
             ],
             [
              0.4444444444444444,
              "#bd3786"
             ],
             [
              0.5555555555555556,
              "#d8576b"
             ],
             [
              0.6666666666666666,
              "#ed7953"
             ],
             [
              0.7777777777777778,
              "#fb9f3a"
             ],
             [
              0.8888888888888888,
              "#fdca26"
             ],
             [
              1,
              "#f0f921"
             ]
            ],
            "type": "surface"
           }
          ],
          "table": [
           {
            "cells": {
             "fill": {
              "color": "#EBF0F8"
             },
             "line": {
              "color": "white"
             }
            },
            "header": {
             "fill": {
              "color": "#C8D4E3"
             },
             "line": {
              "color": "white"
             }
            },
            "type": "table"
           }
          ]
         },
         "layout": {
          "annotationdefaults": {
           "arrowcolor": "#2a3f5f",
           "arrowhead": 0,
           "arrowwidth": 1
          },
          "autotypenumbers": "strict",
          "coloraxis": {
           "colorbar": {
            "outlinewidth": 0,
            "ticks": ""
           }
          },
          "colorscale": {
           "diverging": [
            [
             0,
             "#8e0152"
            ],
            [
             0.1,
             "#c51b7d"
            ],
            [
             0.2,
             "#de77ae"
            ],
            [
             0.3,
             "#f1b6da"
            ],
            [
             0.4,
             "#fde0ef"
            ],
            [
             0.5,
             "#f7f7f7"
            ],
            [
             0.6,
             "#e6f5d0"
            ],
            [
             0.7,
             "#b8e186"
            ],
            [
             0.8,
             "#7fbc41"
            ],
            [
             0.9,
             "#4d9221"
            ],
            [
             1,
             "#276419"
            ]
           ],
           "sequential": [
            [
             0,
             "#0d0887"
            ],
            [
             0.1111111111111111,
             "#46039f"
            ],
            [
             0.2222222222222222,
             "#7201a8"
            ],
            [
             0.3333333333333333,
             "#9c179e"
            ],
            [
             0.4444444444444444,
             "#bd3786"
            ],
            [
             0.5555555555555556,
             "#d8576b"
            ],
            [
             0.6666666666666666,
             "#ed7953"
            ],
            [
             0.7777777777777778,
             "#fb9f3a"
            ],
            [
             0.8888888888888888,
             "#fdca26"
            ],
            [
             1,
             "#f0f921"
            ]
           ],
           "sequentialminus": [
            [
             0,
             "#0d0887"
            ],
            [
             0.1111111111111111,
             "#46039f"
            ],
            [
             0.2222222222222222,
             "#7201a8"
            ],
            [
             0.3333333333333333,
             "#9c179e"
            ],
            [
             0.4444444444444444,
             "#bd3786"
            ],
            [
             0.5555555555555556,
             "#d8576b"
            ],
            [
             0.6666666666666666,
             "#ed7953"
            ],
            [
             0.7777777777777778,
             "#fb9f3a"
            ],
            [
             0.8888888888888888,
             "#fdca26"
            ],
            [
             1,
             "#f0f921"
            ]
           ]
          },
          "colorway": [
           "#636efa",
           "#EF553B",
           "#00cc96",
           "#ab63fa",
           "#FFA15A",
           "#19d3f3",
           "#FF6692",
           "#B6E880",
           "#FF97FF",
           "#FECB52"
          ],
          "font": {
           "color": "#2a3f5f"
          },
          "geo": {
           "bgcolor": "white",
           "lakecolor": "white",
           "landcolor": "#E5ECF6",
           "showlakes": true,
           "showland": true,
           "subunitcolor": "white"
          },
          "hoverlabel": {
           "align": "left"
          },
          "hovermode": "closest",
          "mapbox": {
           "style": "light"
          },
          "paper_bgcolor": "white",
          "plot_bgcolor": "#E5ECF6",
          "polar": {
           "angularaxis": {
            "gridcolor": "white",
            "linecolor": "white",
            "ticks": ""
           },
           "bgcolor": "#E5ECF6",
           "radialaxis": {
            "gridcolor": "white",
            "linecolor": "white",
            "ticks": ""
           }
          },
          "scene": {
           "xaxis": {
            "backgroundcolor": "#E5ECF6",
            "gridcolor": "white",
            "gridwidth": 2,
            "linecolor": "white",
            "showbackground": true,
            "ticks": "",
            "zerolinecolor": "white"
           },
           "yaxis": {
            "backgroundcolor": "#E5ECF6",
            "gridcolor": "white",
            "gridwidth": 2,
            "linecolor": "white",
            "showbackground": true,
            "ticks": "",
            "zerolinecolor": "white"
           },
           "zaxis": {
            "backgroundcolor": "#E5ECF6",
            "gridcolor": "white",
            "gridwidth": 2,
            "linecolor": "white",
            "showbackground": true,
            "ticks": "",
            "zerolinecolor": "white"
           }
          },
          "shapedefaults": {
           "line": {
            "color": "#2a3f5f"
           }
          },
          "ternary": {
           "aaxis": {
            "gridcolor": "white",
            "linecolor": "white",
            "ticks": ""
           },
           "baxis": {
            "gridcolor": "white",
            "linecolor": "white",
            "ticks": ""
           },
           "bgcolor": "#E5ECF6",
           "caxis": {
            "gridcolor": "white",
            "linecolor": "white",
            "ticks": ""
           }
          },
          "title": {
           "x": 0.05
          },
          "xaxis": {
           "automargin": true,
           "gridcolor": "white",
           "linecolor": "white",
           "ticks": "",
           "title": {
            "standoff": 15
           },
           "zerolinecolor": "white",
           "zerolinewidth": 2
          },
          "yaxis": {
           "automargin": true,
           "gridcolor": "white",
           "linecolor": "white",
           "ticks": "",
           "title": {
            "standoff": 15
           },
           "zerolinecolor": "white",
           "zerolinewidth": 2
          }
         }
        },
        "title": {
         "text": "Actual and Predicted Wheel Speeds, Recording 1, Trial 0"
        },
        "xaxis": {
         "title": {
          "text": "Time"
         }
        },
        "yaxis": {
         "title": {
          "text": "Value"
         }
        }
       }
      }
     },
     "metadata": {},
     "output_type": "display_data"
    },
    {
     "data": {
      "application/vnd.plotly.v1+json": {
       "config": {
        "plotlyServerURL": "https://plot.ly"
       },
       "data": [
        {
         "name": "Actual",
         "type": "scatter",
         "y": [
          0.010775973089039326,
          0.014313721098005772,
          0.021977949887514114,
          0.03479371964931488,
          0.053939688950777054,
          0.08040271699428558,
          0.11448334157466888,
          0.15539921820163727,
          0.2010987251996994,
          0.24840089678764343,
          0.29344168305397034,
          0.332353413105011,
          0.36195051670074463,
          0.38021934032440186,
          0.38649678230285645,
          0.38132786750793457,
          0.36612293124198914,
          0.34280267357826233,
          0.3135075867176056,
          0.28044748306274414,
          0.24583376944065094,
          0.21182915568351746,
          0.1804502159357071,
          0.15339460968971252,
          0.13182969391345978,
          0.11621162295341492,
          0.1062064841389656,
          0.10075033456087112,
          0.09827620536088943,
          0.09702873229980469,
          0.09541121870279312,
          0.09226647764444351,
          0.0871049240231514,
          0.08006126433610916,
          0.07176557928323746,
          0.06312724947929382,
          0.05508705973625183,
          0.04843614995479584,
          0.043735604733228683,
          0.041314058005809784
         ]
        },
        {
         "name": "Predicted",
         "type": "scatter",
         "y": [
          0.006183567631294872,
          0.007492900198983568,
          0.010422065148433628,
          0.015559979332802513,
          0.023698311164575367,
          0.035697998952990986,
          0.05229341860514047,
          0.07385890657661498,
          0.10018928910868258,
          0.13036333466845032,
          0.1627529875532824,
          0.19520717850580552,
          0.22538429557316264,
          0.25115493462594535,
          0.2709657522052026,
          0.28407133435074927,
          0.2905816200551965,
          0.2913323391922363,
          0.28763366730328216,
          0.28097574206527687,
          0.27276518832132834,
          0.2641425624425056,
          0.25589662328071044,
          0.24846446204785377,
          0.24199107142000126,
          0.23641633381836538,
          0.23156305156268608,
          0.22720991567053114,
          0.2231433420125147,
          0.2191866663393917,
          0.21521184372816554,
          0.21114193330509332,
          0.20695154229113438,
          0.2026695498228534,
          0.1983845480068513,
          0.19424912306834288,
          0.1904763585877111,
          0.18731931113806483,
          0.18503406440056736,
          0.1838318123399746
         ]
        }
       ],
       "layout": {
        "template": {
         "data": {
          "bar": [
           {
            "error_x": {
             "color": "#2a3f5f"
            },
            "error_y": {
             "color": "#2a3f5f"
            },
            "marker": {
             "line": {
              "color": "#E5ECF6",
              "width": 0.5
             },
             "pattern": {
              "fillmode": "overlay",
              "size": 10,
              "solidity": 0.2
             }
            },
            "type": "bar"
           }
          ],
          "barpolar": [
           {
            "marker": {
             "line": {
              "color": "#E5ECF6",
              "width": 0.5
             },
             "pattern": {
              "fillmode": "overlay",
              "size": 10,
              "solidity": 0.2
             }
            },
            "type": "barpolar"
           }
          ],
          "carpet": [
           {
            "aaxis": {
             "endlinecolor": "#2a3f5f",
             "gridcolor": "white",
             "linecolor": "white",
             "minorgridcolor": "white",
             "startlinecolor": "#2a3f5f"
            },
            "baxis": {
             "endlinecolor": "#2a3f5f",
             "gridcolor": "white",
             "linecolor": "white",
             "minorgridcolor": "white",
             "startlinecolor": "#2a3f5f"
            },
            "type": "carpet"
           }
          ],
          "choropleth": [
           {
            "colorbar": {
             "outlinewidth": 0,
             "ticks": ""
            },
            "type": "choropleth"
           }
          ],
          "contour": [
           {
            "colorbar": {
             "outlinewidth": 0,
             "ticks": ""
            },
            "colorscale": [
             [
              0,
              "#0d0887"
             ],
             [
              0.1111111111111111,
              "#46039f"
             ],
             [
              0.2222222222222222,
              "#7201a8"
             ],
             [
              0.3333333333333333,
              "#9c179e"
             ],
             [
              0.4444444444444444,
              "#bd3786"
             ],
             [
              0.5555555555555556,
              "#d8576b"
             ],
             [
              0.6666666666666666,
              "#ed7953"
             ],
             [
              0.7777777777777778,
              "#fb9f3a"
             ],
             [
              0.8888888888888888,
              "#fdca26"
             ],
             [
              1,
              "#f0f921"
             ]
            ],
            "type": "contour"
           }
          ],
          "contourcarpet": [
           {
            "colorbar": {
             "outlinewidth": 0,
             "ticks": ""
            },
            "type": "contourcarpet"
           }
          ],
          "heatmap": [
           {
            "colorbar": {
             "outlinewidth": 0,
             "ticks": ""
            },
            "colorscale": [
             [
              0,
              "#0d0887"
             ],
             [
              0.1111111111111111,
              "#46039f"
             ],
             [
              0.2222222222222222,
              "#7201a8"
             ],
             [
              0.3333333333333333,
              "#9c179e"
             ],
             [
              0.4444444444444444,
              "#bd3786"
             ],
             [
              0.5555555555555556,
              "#d8576b"
             ],
             [
              0.6666666666666666,
              "#ed7953"
             ],
             [
              0.7777777777777778,
              "#fb9f3a"
             ],
             [
              0.8888888888888888,
              "#fdca26"
             ],
             [
              1,
              "#f0f921"
             ]
            ],
            "type": "heatmap"
           }
          ],
          "heatmapgl": [
           {
            "colorbar": {
             "outlinewidth": 0,
             "ticks": ""
            },
            "colorscale": [
             [
              0,
              "#0d0887"
             ],
             [
              0.1111111111111111,
              "#46039f"
             ],
             [
              0.2222222222222222,
              "#7201a8"
             ],
             [
              0.3333333333333333,
              "#9c179e"
             ],
             [
              0.4444444444444444,
              "#bd3786"
             ],
             [
              0.5555555555555556,
              "#d8576b"
             ],
             [
              0.6666666666666666,
              "#ed7953"
             ],
             [
              0.7777777777777778,
              "#fb9f3a"
             ],
             [
              0.8888888888888888,
              "#fdca26"
             ],
             [
              1,
              "#f0f921"
             ]
            ],
            "type": "heatmapgl"
           }
          ],
          "histogram": [
           {
            "marker": {
             "pattern": {
              "fillmode": "overlay",
              "size": 10,
              "solidity": 0.2
             }
            },
            "type": "histogram"
           }
          ],
          "histogram2d": [
           {
            "colorbar": {
             "outlinewidth": 0,
             "ticks": ""
            },
            "colorscale": [
             [
              0,
              "#0d0887"
             ],
             [
              0.1111111111111111,
              "#46039f"
             ],
             [
              0.2222222222222222,
              "#7201a8"
             ],
             [
              0.3333333333333333,
              "#9c179e"
             ],
             [
              0.4444444444444444,
              "#bd3786"
             ],
             [
              0.5555555555555556,
              "#d8576b"
             ],
             [
              0.6666666666666666,
              "#ed7953"
             ],
             [
              0.7777777777777778,
              "#fb9f3a"
             ],
             [
              0.8888888888888888,
              "#fdca26"
             ],
             [
              1,
              "#f0f921"
             ]
            ],
            "type": "histogram2d"
           }
          ],
          "histogram2dcontour": [
           {
            "colorbar": {
             "outlinewidth": 0,
             "ticks": ""
            },
            "colorscale": [
             [
              0,
              "#0d0887"
             ],
             [
              0.1111111111111111,
              "#46039f"
             ],
             [
              0.2222222222222222,
              "#7201a8"
             ],
             [
              0.3333333333333333,
              "#9c179e"
             ],
             [
              0.4444444444444444,
              "#bd3786"
             ],
             [
              0.5555555555555556,
              "#d8576b"
             ],
             [
              0.6666666666666666,
              "#ed7953"
             ],
             [
              0.7777777777777778,
              "#fb9f3a"
             ],
             [
              0.8888888888888888,
              "#fdca26"
             ],
             [
              1,
              "#f0f921"
             ]
            ],
            "type": "histogram2dcontour"
           }
          ],
          "mesh3d": [
           {
            "colorbar": {
             "outlinewidth": 0,
             "ticks": ""
            },
            "type": "mesh3d"
           }
          ],
          "parcoords": [
           {
            "line": {
             "colorbar": {
              "outlinewidth": 0,
              "ticks": ""
             }
            },
            "type": "parcoords"
           }
          ],
          "pie": [
           {
            "automargin": true,
            "type": "pie"
           }
          ],
          "scatter": [
           {
            "fillpattern": {
             "fillmode": "overlay",
             "size": 10,
             "solidity": 0.2
            },
            "type": "scatter"
           }
          ],
          "scatter3d": [
           {
            "line": {
             "colorbar": {
              "outlinewidth": 0,
              "ticks": ""
             }
            },
            "marker": {
             "colorbar": {
              "outlinewidth": 0,
              "ticks": ""
             }
            },
            "type": "scatter3d"
           }
          ],
          "scattercarpet": [
           {
            "marker": {
             "colorbar": {
              "outlinewidth": 0,
              "ticks": ""
             }
            },
            "type": "scattercarpet"
           }
          ],
          "scattergeo": [
           {
            "marker": {
             "colorbar": {
              "outlinewidth": 0,
              "ticks": ""
             }
            },
            "type": "scattergeo"
           }
          ],
          "scattergl": [
           {
            "marker": {
             "colorbar": {
              "outlinewidth": 0,
              "ticks": ""
             }
            },
            "type": "scattergl"
           }
          ],
          "scattermapbox": [
           {
            "marker": {
             "colorbar": {
              "outlinewidth": 0,
              "ticks": ""
             }
            },
            "type": "scattermapbox"
           }
          ],
          "scatterpolar": [
           {
            "marker": {
             "colorbar": {
              "outlinewidth": 0,
              "ticks": ""
             }
            },
            "type": "scatterpolar"
           }
          ],
          "scatterpolargl": [
           {
            "marker": {
             "colorbar": {
              "outlinewidth": 0,
              "ticks": ""
             }
            },
            "type": "scatterpolargl"
           }
          ],
          "scatterternary": [
           {
            "marker": {
             "colorbar": {
              "outlinewidth": 0,
              "ticks": ""
             }
            },
            "type": "scatterternary"
           }
          ],
          "surface": [
           {
            "colorbar": {
             "outlinewidth": 0,
             "ticks": ""
            },
            "colorscale": [
             [
              0,
              "#0d0887"
             ],
             [
              0.1111111111111111,
              "#46039f"
             ],
             [
              0.2222222222222222,
              "#7201a8"
             ],
             [
              0.3333333333333333,
              "#9c179e"
             ],
             [
              0.4444444444444444,
              "#bd3786"
             ],
             [
              0.5555555555555556,
              "#d8576b"
             ],
             [
              0.6666666666666666,
              "#ed7953"
             ],
             [
              0.7777777777777778,
              "#fb9f3a"
             ],
             [
              0.8888888888888888,
              "#fdca26"
             ],
             [
              1,
              "#f0f921"
             ]
            ],
            "type": "surface"
           }
          ],
          "table": [
           {
            "cells": {
             "fill": {
              "color": "#EBF0F8"
             },
             "line": {
              "color": "white"
             }
            },
            "header": {
             "fill": {
              "color": "#C8D4E3"
             },
             "line": {
              "color": "white"
             }
            },
            "type": "table"
           }
          ]
         },
         "layout": {
          "annotationdefaults": {
           "arrowcolor": "#2a3f5f",
           "arrowhead": 0,
           "arrowwidth": 1
          },
          "autotypenumbers": "strict",
          "coloraxis": {
           "colorbar": {
            "outlinewidth": 0,
            "ticks": ""
           }
          },
          "colorscale": {
           "diverging": [
            [
             0,
             "#8e0152"
            ],
            [
             0.1,
             "#c51b7d"
            ],
            [
             0.2,
             "#de77ae"
            ],
            [
             0.3,
             "#f1b6da"
            ],
            [
             0.4,
             "#fde0ef"
            ],
            [
             0.5,
             "#f7f7f7"
            ],
            [
             0.6,
             "#e6f5d0"
            ],
            [
             0.7,
             "#b8e186"
            ],
            [
             0.8,
             "#7fbc41"
            ],
            [
             0.9,
             "#4d9221"
            ],
            [
             1,
             "#276419"
            ]
           ],
           "sequential": [
            [
             0,
             "#0d0887"
            ],
            [
             0.1111111111111111,
             "#46039f"
            ],
            [
             0.2222222222222222,
             "#7201a8"
            ],
            [
             0.3333333333333333,
             "#9c179e"
            ],
            [
             0.4444444444444444,
             "#bd3786"
            ],
            [
             0.5555555555555556,
             "#d8576b"
            ],
            [
             0.6666666666666666,
             "#ed7953"
            ],
            [
             0.7777777777777778,
             "#fb9f3a"
            ],
            [
             0.8888888888888888,
             "#fdca26"
            ],
            [
             1,
             "#f0f921"
            ]
           ],
           "sequentialminus": [
            [
             0,
             "#0d0887"
            ],
            [
             0.1111111111111111,
             "#46039f"
            ],
            [
             0.2222222222222222,
             "#7201a8"
            ],
            [
             0.3333333333333333,
             "#9c179e"
            ],
            [
             0.4444444444444444,
             "#bd3786"
            ],
            [
             0.5555555555555556,
             "#d8576b"
            ],
            [
             0.6666666666666666,
             "#ed7953"
            ],
            [
             0.7777777777777778,
             "#fb9f3a"
            ],
            [
             0.8888888888888888,
             "#fdca26"
            ],
            [
             1,
             "#f0f921"
            ]
           ]
          },
          "colorway": [
           "#636efa",
           "#EF553B",
           "#00cc96",
           "#ab63fa",
           "#FFA15A",
           "#19d3f3",
           "#FF6692",
           "#B6E880",
           "#FF97FF",
           "#FECB52"
          ],
          "font": {
           "color": "#2a3f5f"
          },
          "geo": {
           "bgcolor": "white",
           "lakecolor": "white",
           "landcolor": "#E5ECF6",
           "showlakes": true,
           "showland": true,
           "subunitcolor": "white"
          },
          "hoverlabel": {
           "align": "left"
          },
          "hovermode": "closest",
          "mapbox": {
           "style": "light"
          },
          "paper_bgcolor": "white",
          "plot_bgcolor": "#E5ECF6",
          "polar": {
           "angularaxis": {
            "gridcolor": "white",
            "linecolor": "white",
            "ticks": ""
           },
           "bgcolor": "#E5ECF6",
           "radialaxis": {
            "gridcolor": "white",
            "linecolor": "white",
            "ticks": ""
           }
          },
          "scene": {
           "xaxis": {
            "backgroundcolor": "#E5ECF6",
            "gridcolor": "white",
            "gridwidth": 2,
            "linecolor": "white",
            "showbackground": true,
            "ticks": "",
            "zerolinecolor": "white"
           },
           "yaxis": {
            "backgroundcolor": "#E5ECF6",
            "gridcolor": "white",
            "gridwidth": 2,
            "linecolor": "white",
            "showbackground": true,
            "ticks": "",
            "zerolinecolor": "white"
           },
           "zaxis": {
            "backgroundcolor": "#E5ECF6",
            "gridcolor": "white",
            "gridwidth": 2,
            "linecolor": "white",
            "showbackground": true,
            "ticks": "",
            "zerolinecolor": "white"
           }
          },
          "shapedefaults": {
           "line": {
            "color": "#2a3f5f"
           }
          },
          "ternary": {
           "aaxis": {
            "gridcolor": "white",
            "linecolor": "white",
            "ticks": ""
           },
           "baxis": {
            "gridcolor": "white",
            "linecolor": "white",
            "ticks": ""
           },
           "bgcolor": "#E5ECF6",
           "caxis": {
            "gridcolor": "white",
            "linecolor": "white",
            "ticks": ""
           }
          },
          "title": {
           "x": 0.05
          },
          "xaxis": {
           "automargin": true,
           "gridcolor": "white",
           "linecolor": "white",
           "ticks": "",
           "title": {
            "standoff": 15
           },
           "zerolinecolor": "white",
           "zerolinewidth": 2
          },
          "yaxis": {
           "automargin": true,
           "gridcolor": "white",
           "linecolor": "white",
           "ticks": "",
           "title": {
            "standoff": 15
           },
           "zerolinecolor": "white",
           "zerolinewidth": 2
          }
         }
        },
        "title": {
         "text": "Actual and Predicted Wheel Speeds, Recording 1, Trial 1"
        },
        "xaxis": {
         "title": {
          "text": "Time"
         }
        },
        "yaxis": {
         "title": {
          "text": "Value"
         }
        }
       }
      }
     },
     "metadata": {},
     "output_type": "display_data"
    },
    {
     "name": "stdout",
     "output_type": "stream",
     "text": [
      "Performance of mean predictor on test data: 1, Loss 0.020524314189927523\n",
      "Performance of mean predictor on training data: 2, Loss 0.014791066972857309\n"
     ]
    },
    {
     "data": {
      "application/vnd.plotly.v1+json": {
       "config": {
        "plotlyServerURL": "https://plot.ly"
       },
       "data": [
        {
         "name": "Actual",
         "type": "scatter",
         "y": [
          0.0066783796064555645,
          0.009764580056071281,
          0.016606485471129417,
          0.02845376543700695,
          0.04691876098513603,
          0.073603555560112,
          0.10958189517259598,
          0.15481753647327423,
          0.20768412947654724,
          0.2647603750228882,
          0.3210620582103729,
          0.3707401156425476,
          0.4081195294857025,
          0.42880842089653015,
          0.43056783080101013,
          0.4137047231197357,
          0.38089874386787415,
          0.33654898405075073,
          0.28585147857666016,
          0.2338591068983078,
          0.18473821878433228,
          0.14134497940540314,
          0.10514073818922043,
          0.0763799324631691,
          0.05445719510316849,
          0.0382930189371109,
          0.026664093136787415,
          0.01842898689210415,
          0.012644563801586628,
          0.008601268753409386,
          0.005786821711808443,
          0.0038391361013054848,
          0.0025066479574888945,
          0.0016122889937832952,
          0.0010295372921973467,
          0.0006648074486292899,
          0.00044672872172668576,
          0.0003230608708690852,
          0.00025930223637260497,
          0.00023374779266305268
         ]
        },
        {
         "name": "Predicted",
         "type": "scatter",
         "y": [
          0.009490861336555937,
          0.011103992627312868,
          0.014738340627524823,
          0.021158360290632356,
          0.031369106830461964,
          0.04642313533032155,
          0.06715439817504347,
          0.09387799889511686,
          0.1261313759328904,
          0.16254251220081778,
          0.20089580809974297,
          0.23841914882403467,
          0.2722354437943365,
          0.2998622052163156,
          0.31962213328461714,
          0.330856332046534,
          0.333902880807326,
          0.32987682250150546,
          0.3203409006527809,
          0.30696937094112586,
          0.291284593445035,
          0.274505143956544,
          0.2575030055318841,
          0.24084037186401522,
          0.2248465302816418,
          0.20969941188913796,
          0.19548903475340834,
          0.18225476038955732,
          0.17000239575761955,
          0.15870736007850622,
          0.1483143725959344,
          0.13874780115875737,
          0.12993353736220586,
          0.12182744756414454,
          0.11444123263833997,
          0.10785754591508898,
          0.10222638918578376,
          0.09774302898481857,
          0.09461069503950993,
          0.09299722089929348
         ]
        }
       ],
       "layout": {
        "template": {
         "data": {
          "bar": [
           {
            "error_x": {
             "color": "#2a3f5f"
            },
            "error_y": {
             "color": "#2a3f5f"
            },
            "marker": {
             "line": {
              "color": "#E5ECF6",
              "width": 0.5
             },
             "pattern": {
              "fillmode": "overlay",
              "size": 10,
              "solidity": 0.2
             }
            },
            "type": "bar"
           }
          ],
          "barpolar": [
           {
            "marker": {
             "line": {
              "color": "#E5ECF6",
              "width": 0.5
             },
             "pattern": {
              "fillmode": "overlay",
              "size": 10,
              "solidity": 0.2
             }
            },
            "type": "barpolar"
           }
          ],
          "carpet": [
           {
            "aaxis": {
             "endlinecolor": "#2a3f5f",
             "gridcolor": "white",
             "linecolor": "white",
             "minorgridcolor": "white",
             "startlinecolor": "#2a3f5f"
            },
            "baxis": {
             "endlinecolor": "#2a3f5f",
             "gridcolor": "white",
             "linecolor": "white",
             "minorgridcolor": "white",
             "startlinecolor": "#2a3f5f"
            },
            "type": "carpet"
           }
          ],
          "choropleth": [
           {
            "colorbar": {
             "outlinewidth": 0,
             "ticks": ""
            },
            "type": "choropleth"
           }
          ],
          "contour": [
           {
            "colorbar": {
             "outlinewidth": 0,
             "ticks": ""
            },
            "colorscale": [
             [
              0,
              "#0d0887"
             ],
             [
              0.1111111111111111,
              "#46039f"
             ],
             [
              0.2222222222222222,
              "#7201a8"
             ],
             [
              0.3333333333333333,
              "#9c179e"
             ],
             [
              0.4444444444444444,
              "#bd3786"
             ],
             [
              0.5555555555555556,
              "#d8576b"
             ],
             [
              0.6666666666666666,
              "#ed7953"
             ],
             [
              0.7777777777777778,
              "#fb9f3a"
             ],
             [
              0.8888888888888888,
              "#fdca26"
             ],
             [
              1,
              "#f0f921"
             ]
            ],
            "type": "contour"
           }
          ],
          "contourcarpet": [
           {
            "colorbar": {
             "outlinewidth": 0,
             "ticks": ""
            },
            "type": "contourcarpet"
           }
          ],
          "heatmap": [
           {
            "colorbar": {
             "outlinewidth": 0,
             "ticks": ""
            },
            "colorscale": [
             [
              0,
              "#0d0887"
             ],
             [
              0.1111111111111111,
              "#46039f"
             ],
             [
              0.2222222222222222,
              "#7201a8"
             ],
             [
              0.3333333333333333,
              "#9c179e"
             ],
             [
              0.4444444444444444,
              "#bd3786"
             ],
             [
              0.5555555555555556,
              "#d8576b"
             ],
             [
              0.6666666666666666,
              "#ed7953"
             ],
             [
              0.7777777777777778,
              "#fb9f3a"
             ],
             [
              0.8888888888888888,
              "#fdca26"
             ],
             [
              1,
              "#f0f921"
             ]
            ],
            "type": "heatmap"
           }
          ],
          "heatmapgl": [
           {
            "colorbar": {
             "outlinewidth": 0,
             "ticks": ""
            },
            "colorscale": [
             [
              0,
              "#0d0887"
             ],
             [
              0.1111111111111111,
              "#46039f"
             ],
             [
              0.2222222222222222,
              "#7201a8"
             ],
             [
              0.3333333333333333,
              "#9c179e"
             ],
             [
              0.4444444444444444,
              "#bd3786"
             ],
             [
              0.5555555555555556,
              "#d8576b"
             ],
             [
              0.6666666666666666,
              "#ed7953"
             ],
             [
              0.7777777777777778,
              "#fb9f3a"
             ],
             [
              0.8888888888888888,
              "#fdca26"
             ],
             [
              1,
              "#f0f921"
             ]
            ],
            "type": "heatmapgl"
           }
          ],
          "histogram": [
           {
            "marker": {
             "pattern": {
              "fillmode": "overlay",
              "size": 10,
              "solidity": 0.2
             }
            },
            "type": "histogram"
           }
          ],
          "histogram2d": [
           {
            "colorbar": {
             "outlinewidth": 0,
             "ticks": ""
            },
            "colorscale": [
             [
              0,
              "#0d0887"
             ],
             [
              0.1111111111111111,
              "#46039f"
             ],
             [
              0.2222222222222222,
              "#7201a8"
             ],
             [
              0.3333333333333333,
              "#9c179e"
             ],
             [
              0.4444444444444444,
              "#bd3786"
             ],
             [
              0.5555555555555556,
              "#d8576b"
             ],
             [
              0.6666666666666666,
              "#ed7953"
             ],
             [
              0.7777777777777778,
              "#fb9f3a"
             ],
             [
              0.8888888888888888,
              "#fdca26"
             ],
             [
              1,
              "#f0f921"
             ]
            ],
            "type": "histogram2d"
           }
          ],
          "histogram2dcontour": [
           {
            "colorbar": {
             "outlinewidth": 0,
             "ticks": ""
            },
            "colorscale": [
             [
              0,
              "#0d0887"
             ],
             [
              0.1111111111111111,
              "#46039f"
             ],
             [
              0.2222222222222222,
              "#7201a8"
             ],
             [
              0.3333333333333333,
              "#9c179e"
             ],
             [
              0.4444444444444444,
              "#bd3786"
             ],
             [
              0.5555555555555556,
              "#d8576b"
             ],
             [
              0.6666666666666666,
              "#ed7953"
             ],
             [
              0.7777777777777778,
              "#fb9f3a"
             ],
             [
              0.8888888888888888,
              "#fdca26"
             ],
             [
              1,
              "#f0f921"
             ]
            ],
            "type": "histogram2dcontour"
           }
          ],
          "mesh3d": [
           {
            "colorbar": {
             "outlinewidth": 0,
             "ticks": ""
            },
            "type": "mesh3d"
           }
          ],
          "parcoords": [
           {
            "line": {
             "colorbar": {
              "outlinewidth": 0,
              "ticks": ""
             }
            },
            "type": "parcoords"
           }
          ],
          "pie": [
           {
            "automargin": true,
            "type": "pie"
           }
          ],
          "scatter": [
           {
            "fillpattern": {
             "fillmode": "overlay",
             "size": 10,
             "solidity": 0.2
            },
            "type": "scatter"
           }
          ],
          "scatter3d": [
           {
            "line": {
             "colorbar": {
              "outlinewidth": 0,
              "ticks": ""
             }
            },
            "marker": {
             "colorbar": {
              "outlinewidth": 0,
              "ticks": ""
             }
            },
            "type": "scatter3d"
           }
          ],
          "scattercarpet": [
           {
            "marker": {
             "colorbar": {
              "outlinewidth": 0,
              "ticks": ""
             }
            },
            "type": "scattercarpet"
           }
          ],
          "scattergeo": [
           {
            "marker": {
             "colorbar": {
              "outlinewidth": 0,
              "ticks": ""
             }
            },
            "type": "scattergeo"
           }
          ],
          "scattergl": [
           {
            "marker": {
             "colorbar": {
              "outlinewidth": 0,
              "ticks": ""
             }
            },
            "type": "scattergl"
           }
          ],
          "scattermapbox": [
           {
            "marker": {
             "colorbar": {
              "outlinewidth": 0,
              "ticks": ""
             }
            },
            "type": "scattermapbox"
           }
          ],
          "scatterpolar": [
           {
            "marker": {
             "colorbar": {
              "outlinewidth": 0,
              "ticks": ""
             }
            },
            "type": "scatterpolar"
           }
          ],
          "scatterpolargl": [
           {
            "marker": {
             "colorbar": {
              "outlinewidth": 0,
              "ticks": ""
             }
            },
            "type": "scatterpolargl"
           }
          ],
          "scatterternary": [
           {
            "marker": {
             "colorbar": {
              "outlinewidth": 0,
              "ticks": ""
             }
            },
            "type": "scatterternary"
           }
          ],
          "surface": [
           {
            "colorbar": {
             "outlinewidth": 0,
             "ticks": ""
            },
            "colorscale": [
             [
              0,
              "#0d0887"
             ],
             [
              0.1111111111111111,
              "#46039f"
             ],
             [
              0.2222222222222222,
              "#7201a8"
             ],
             [
              0.3333333333333333,
              "#9c179e"
             ],
             [
              0.4444444444444444,
              "#bd3786"
             ],
             [
              0.5555555555555556,
              "#d8576b"
             ],
             [
              0.6666666666666666,
              "#ed7953"
             ],
             [
              0.7777777777777778,
              "#fb9f3a"
             ],
             [
              0.8888888888888888,
              "#fdca26"
             ],
             [
              1,
              "#f0f921"
             ]
            ],
            "type": "surface"
           }
          ],
          "table": [
           {
            "cells": {
             "fill": {
              "color": "#EBF0F8"
             },
             "line": {
              "color": "white"
             }
            },
            "header": {
             "fill": {
              "color": "#C8D4E3"
             },
             "line": {
              "color": "white"
             }
            },
            "type": "table"
           }
          ]
         },
         "layout": {
          "annotationdefaults": {
           "arrowcolor": "#2a3f5f",
           "arrowhead": 0,
           "arrowwidth": 1
          },
          "autotypenumbers": "strict",
          "coloraxis": {
           "colorbar": {
            "outlinewidth": 0,
            "ticks": ""
           }
          },
          "colorscale": {
           "diverging": [
            [
             0,
             "#8e0152"
            ],
            [
             0.1,
             "#c51b7d"
            ],
            [
             0.2,
             "#de77ae"
            ],
            [
             0.3,
             "#f1b6da"
            ],
            [
             0.4,
             "#fde0ef"
            ],
            [
             0.5,
             "#f7f7f7"
            ],
            [
             0.6,
             "#e6f5d0"
            ],
            [
             0.7,
             "#b8e186"
            ],
            [
             0.8,
             "#7fbc41"
            ],
            [
             0.9,
             "#4d9221"
            ],
            [
             1,
             "#276419"
            ]
           ],
           "sequential": [
            [
             0,
             "#0d0887"
            ],
            [
             0.1111111111111111,
             "#46039f"
            ],
            [
             0.2222222222222222,
             "#7201a8"
            ],
            [
             0.3333333333333333,
             "#9c179e"
            ],
            [
             0.4444444444444444,
             "#bd3786"
            ],
            [
             0.5555555555555556,
             "#d8576b"
            ],
            [
             0.6666666666666666,
             "#ed7953"
            ],
            [
             0.7777777777777778,
             "#fb9f3a"
            ],
            [
             0.8888888888888888,
             "#fdca26"
            ],
            [
             1,
             "#f0f921"
            ]
           ],
           "sequentialminus": [
            [
             0,
             "#0d0887"
            ],
            [
             0.1111111111111111,
             "#46039f"
            ],
            [
             0.2222222222222222,
             "#7201a8"
            ],
            [
             0.3333333333333333,
             "#9c179e"
            ],
            [
             0.4444444444444444,
             "#bd3786"
            ],
            [
             0.5555555555555556,
             "#d8576b"
            ],
            [
             0.6666666666666666,
             "#ed7953"
            ],
            [
             0.7777777777777778,
             "#fb9f3a"
            ],
            [
             0.8888888888888888,
             "#fdca26"
            ],
            [
             1,
             "#f0f921"
            ]
           ]
          },
          "colorway": [
           "#636efa",
           "#EF553B",
           "#00cc96",
           "#ab63fa",
           "#FFA15A",
           "#19d3f3",
           "#FF6692",
           "#B6E880",
           "#FF97FF",
           "#FECB52"
          ],
          "font": {
           "color": "#2a3f5f"
          },
          "geo": {
           "bgcolor": "white",
           "lakecolor": "white",
           "landcolor": "#E5ECF6",
           "showlakes": true,
           "showland": true,
           "subunitcolor": "white"
          },
          "hoverlabel": {
           "align": "left"
          },
          "hovermode": "closest",
          "mapbox": {
           "style": "light"
          },
          "paper_bgcolor": "white",
          "plot_bgcolor": "#E5ECF6",
          "polar": {
           "angularaxis": {
            "gridcolor": "white",
            "linecolor": "white",
            "ticks": ""
           },
           "bgcolor": "#E5ECF6",
           "radialaxis": {
            "gridcolor": "white",
            "linecolor": "white",
            "ticks": ""
           }
          },
          "scene": {
           "xaxis": {
            "backgroundcolor": "#E5ECF6",
            "gridcolor": "white",
            "gridwidth": 2,
            "linecolor": "white",
            "showbackground": true,
            "ticks": "",
            "zerolinecolor": "white"
           },
           "yaxis": {
            "backgroundcolor": "#E5ECF6",
            "gridcolor": "white",
            "gridwidth": 2,
            "linecolor": "white",
            "showbackground": true,
            "ticks": "",
            "zerolinecolor": "white"
           },
           "zaxis": {
            "backgroundcolor": "#E5ECF6",
            "gridcolor": "white",
            "gridwidth": 2,
            "linecolor": "white",
            "showbackground": true,
            "ticks": "",
            "zerolinecolor": "white"
           }
          },
          "shapedefaults": {
           "line": {
            "color": "#2a3f5f"
           }
          },
          "ternary": {
           "aaxis": {
            "gridcolor": "white",
            "linecolor": "white",
            "ticks": ""
           },
           "baxis": {
            "gridcolor": "white",
            "linecolor": "white",
            "ticks": ""
           },
           "bgcolor": "#E5ECF6",
           "caxis": {
            "gridcolor": "white",
            "linecolor": "white",
            "ticks": ""
           }
          },
          "title": {
           "x": 0.05
          },
          "xaxis": {
           "automargin": true,
           "gridcolor": "white",
           "linecolor": "white",
           "ticks": "",
           "title": {
            "standoff": 15
           },
           "zerolinecolor": "white",
           "zerolinewidth": 2
          },
          "yaxis": {
           "automargin": true,
           "gridcolor": "white",
           "linecolor": "white",
           "ticks": "",
           "title": {
            "standoff": 15
           },
           "zerolinecolor": "white",
           "zerolinewidth": 2
          }
         }
        },
        "title": {
         "text": "Actual and Predicted Wheel Speeds, Recording 2, Trial 0"
        },
        "xaxis": {
         "title": {
          "text": "Time"
         }
        },
        "yaxis": {
         "title": {
          "text": "Value"
         }
        }
       }
      }
     },
     "metadata": {},
     "output_type": "display_data"
    },
    {
     "data": {
      "application/vnd.plotly.v1+json": {
       "config": {
        "plotlyServerURL": "https://plot.ly"
       },
       "data": [
        {
         "name": "Actual",
         "type": "scatter",
         "y": [
          0.0073158880695700645,
          0.010590219870209694,
          0.017777949571609497,
          0.03004128485918045,
          0.048813000321388245,
          0.0754123404622078,
          0.110530786216259,
          0.1537323147058487,
          0.20312635600566864,
          0.2553626596927643,
          0.3060421645641327,
          0.35049957036972046,
          0.3847397267818451,
          0.40624961256980896,
          0.4144192934036255,
          0.4104784429073334,
          0.39700010418891907,
          0.3771737515926361,
          0.35407817363739014,
          0.33013179898262024,
          0.30680420994758606,
          0.28458741307258606,
          0.26317572593688965,
          0.24178634583950043,
          0.21954336762428284,
          0.1958392858505249,
          0.1705886423587799,
          0.14430810511112213,
          0.11801325529813766,
          0.09297218918800354,
          0.07039158046245575,
          0.051149386912584305,
          0.03566664829850197,
          0.023899482563138008,
          0.015442957170307636,
          0.009686012752354145,
          0.005973164923489094,
          0.0037170867435634136,
          0.0024634376168251038,
          0.0019107216503471136
         ]
        },
        {
         "name": "Predicted",
         "type": "scatter",
         "y": [
          0.009490861336555937,
          0.011103992627312868,
          0.014738340627524823,
          0.021158360290632356,
          0.031369106830461964,
          0.04642313533032155,
          0.06715439817504347,
          0.09387799889511686,
          0.1261313759328904,
          0.16254251220081778,
          0.20089580809974297,
          0.23841914882403467,
          0.2722354437943365,
          0.2998622052163156,
          0.31962213328461714,
          0.330856332046534,
          0.333902880807326,
          0.32987682250150546,
          0.3203409006527809,
          0.30696937094112586,
          0.291284593445035,
          0.274505143956544,
          0.2575030055318841,
          0.24084037186401522,
          0.2248465302816418,
          0.20969941188913796,
          0.19548903475340834,
          0.18225476038955732,
          0.17000239575761955,
          0.15870736007850622,
          0.1483143725959344,
          0.13874780115875737,
          0.12993353736220586,
          0.12182744756414454,
          0.11444123263833997,
          0.10785754591508898,
          0.10222638918578376,
          0.09774302898481857,
          0.09461069503950993,
          0.09299722089929348
         ]
        }
       ],
       "layout": {
        "template": {
         "data": {
          "bar": [
           {
            "error_x": {
             "color": "#2a3f5f"
            },
            "error_y": {
             "color": "#2a3f5f"
            },
            "marker": {
             "line": {
              "color": "#E5ECF6",
              "width": 0.5
             },
             "pattern": {
              "fillmode": "overlay",
              "size": 10,
              "solidity": 0.2
             }
            },
            "type": "bar"
           }
          ],
          "barpolar": [
           {
            "marker": {
             "line": {
              "color": "#E5ECF6",
              "width": 0.5
             },
             "pattern": {
              "fillmode": "overlay",
              "size": 10,
              "solidity": 0.2
             }
            },
            "type": "barpolar"
           }
          ],
          "carpet": [
           {
            "aaxis": {
             "endlinecolor": "#2a3f5f",
             "gridcolor": "white",
             "linecolor": "white",
             "minorgridcolor": "white",
             "startlinecolor": "#2a3f5f"
            },
            "baxis": {
             "endlinecolor": "#2a3f5f",
             "gridcolor": "white",
             "linecolor": "white",
             "minorgridcolor": "white",
             "startlinecolor": "#2a3f5f"
            },
            "type": "carpet"
           }
          ],
          "choropleth": [
           {
            "colorbar": {
             "outlinewidth": 0,
             "ticks": ""
            },
            "type": "choropleth"
           }
          ],
          "contour": [
           {
            "colorbar": {
             "outlinewidth": 0,
             "ticks": ""
            },
            "colorscale": [
             [
              0,
              "#0d0887"
             ],
             [
              0.1111111111111111,
              "#46039f"
             ],
             [
              0.2222222222222222,
              "#7201a8"
             ],
             [
              0.3333333333333333,
              "#9c179e"
             ],
             [
              0.4444444444444444,
              "#bd3786"
             ],
             [
              0.5555555555555556,
              "#d8576b"
             ],
             [
              0.6666666666666666,
              "#ed7953"
             ],
             [
              0.7777777777777778,
              "#fb9f3a"
             ],
             [
              0.8888888888888888,
              "#fdca26"
             ],
             [
              1,
              "#f0f921"
             ]
            ],
            "type": "contour"
           }
          ],
          "contourcarpet": [
           {
            "colorbar": {
             "outlinewidth": 0,
             "ticks": ""
            },
            "type": "contourcarpet"
           }
          ],
          "heatmap": [
           {
            "colorbar": {
             "outlinewidth": 0,
             "ticks": ""
            },
            "colorscale": [
             [
              0,
              "#0d0887"
             ],
             [
              0.1111111111111111,
              "#46039f"
             ],
             [
              0.2222222222222222,
              "#7201a8"
             ],
             [
              0.3333333333333333,
              "#9c179e"
             ],
             [
              0.4444444444444444,
              "#bd3786"
             ],
             [
              0.5555555555555556,
              "#d8576b"
             ],
             [
              0.6666666666666666,
              "#ed7953"
             ],
             [
              0.7777777777777778,
              "#fb9f3a"
             ],
             [
              0.8888888888888888,
              "#fdca26"
             ],
             [
              1,
              "#f0f921"
             ]
            ],
            "type": "heatmap"
           }
          ],
          "heatmapgl": [
           {
            "colorbar": {
             "outlinewidth": 0,
             "ticks": ""
            },
            "colorscale": [
             [
              0,
              "#0d0887"
             ],
             [
              0.1111111111111111,
              "#46039f"
             ],
             [
              0.2222222222222222,
              "#7201a8"
             ],
             [
              0.3333333333333333,
              "#9c179e"
             ],
             [
              0.4444444444444444,
              "#bd3786"
             ],
             [
              0.5555555555555556,
              "#d8576b"
             ],
             [
              0.6666666666666666,
              "#ed7953"
             ],
             [
              0.7777777777777778,
              "#fb9f3a"
             ],
             [
              0.8888888888888888,
              "#fdca26"
             ],
             [
              1,
              "#f0f921"
             ]
            ],
            "type": "heatmapgl"
           }
          ],
          "histogram": [
           {
            "marker": {
             "pattern": {
              "fillmode": "overlay",
              "size": 10,
              "solidity": 0.2
             }
            },
            "type": "histogram"
           }
          ],
          "histogram2d": [
           {
            "colorbar": {
             "outlinewidth": 0,
             "ticks": ""
            },
            "colorscale": [
             [
              0,
              "#0d0887"
             ],
             [
              0.1111111111111111,
              "#46039f"
             ],
             [
              0.2222222222222222,
              "#7201a8"
             ],
             [
              0.3333333333333333,
              "#9c179e"
             ],
             [
              0.4444444444444444,
              "#bd3786"
             ],
             [
              0.5555555555555556,
              "#d8576b"
             ],
             [
              0.6666666666666666,
              "#ed7953"
             ],
             [
              0.7777777777777778,
              "#fb9f3a"
             ],
             [
              0.8888888888888888,
              "#fdca26"
             ],
             [
              1,
              "#f0f921"
             ]
            ],
            "type": "histogram2d"
           }
          ],
          "histogram2dcontour": [
           {
            "colorbar": {
             "outlinewidth": 0,
             "ticks": ""
            },
            "colorscale": [
             [
              0,
              "#0d0887"
             ],
             [
              0.1111111111111111,
              "#46039f"
             ],
             [
              0.2222222222222222,
              "#7201a8"
             ],
             [
              0.3333333333333333,
              "#9c179e"
             ],
             [
              0.4444444444444444,
              "#bd3786"
             ],
             [
              0.5555555555555556,
              "#d8576b"
             ],
             [
              0.6666666666666666,
              "#ed7953"
             ],
             [
              0.7777777777777778,
              "#fb9f3a"
             ],
             [
              0.8888888888888888,
              "#fdca26"
             ],
             [
              1,
              "#f0f921"
             ]
            ],
            "type": "histogram2dcontour"
           }
          ],
          "mesh3d": [
           {
            "colorbar": {
             "outlinewidth": 0,
             "ticks": ""
            },
            "type": "mesh3d"
           }
          ],
          "parcoords": [
           {
            "line": {
             "colorbar": {
              "outlinewidth": 0,
              "ticks": ""
             }
            },
            "type": "parcoords"
           }
          ],
          "pie": [
           {
            "automargin": true,
            "type": "pie"
           }
          ],
          "scatter": [
           {
            "fillpattern": {
             "fillmode": "overlay",
             "size": 10,
             "solidity": 0.2
            },
            "type": "scatter"
           }
          ],
          "scatter3d": [
           {
            "line": {
             "colorbar": {
              "outlinewidth": 0,
              "ticks": ""
             }
            },
            "marker": {
             "colorbar": {
              "outlinewidth": 0,
              "ticks": ""
             }
            },
            "type": "scatter3d"
           }
          ],
          "scattercarpet": [
           {
            "marker": {
             "colorbar": {
              "outlinewidth": 0,
              "ticks": ""
             }
            },
            "type": "scattercarpet"
           }
          ],
          "scattergeo": [
           {
            "marker": {
             "colorbar": {
              "outlinewidth": 0,
              "ticks": ""
             }
            },
            "type": "scattergeo"
           }
          ],
          "scattergl": [
           {
            "marker": {
             "colorbar": {
              "outlinewidth": 0,
              "ticks": ""
             }
            },
            "type": "scattergl"
           }
          ],
          "scattermapbox": [
           {
            "marker": {
             "colorbar": {
              "outlinewidth": 0,
              "ticks": ""
             }
            },
            "type": "scattermapbox"
           }
          ],
          "scatterpolar": [
           {
            "marker": {
             "colorbar": {
              "outlinewidth": 0,
              "ticks": ""
             }
            },
            "type": "scatterpolar"
           }
          ],
          "scatterpolargl": [
           {
            "marker": {
             "colorbar": {
              "outlinewidth": 0,
              "ticks": ""
             }
            },
            "type": "scatterpolargl"
           }
          ],
          "scatterternary": [
           {
            "marker": {
             "colorbar": {
              "outlinewidth": 0,
              "ticks": ""
             }
            },
            "type": "scatterternary"
           }
          ],
          "surface": [
           {
            "colorbar": {
             "outlinewidth": 0,
             "ticks": ""
            },
            "colorscale": [
             [
              0,
              "#0d0887"
             ],
             [
              0.1111111111111111,
              "#46039f"
             ],
             [
              0.2222222222222222,
              "#7201a8"
             ],
             [
              0.3333333333333333,
              "#9c179e"
             ],
             [
              0.4444444444444444,
              "#bd3786"
             ],
             [
              0.5555555555555556,
              "#d8576b"
             ],
             [
              0.6666666666666666,
              "#ed7953"
             ],
             [
              0.7777777777777778,
              "#fb9f3a"
             ],
             [
              0.8888888888888888,
              "#fdca26"
             ],
             [
              1,
              "#f0f921"
             ]
            ],
            "type": "surface"
           }
          ],
          "table": [
           {
            "cells": {
             "fill": {
              "color": "#EBF0F8"
             },
             "line": {
              "color": "white"
             }
            },
            "header": {
             "fill": {
              "color": "#C8D4E3"
             },
             "line": {
              "color": "white"
             }
            },
            "type": "table"
           }
          ]
         },
         "layout": {
          "annotationdefaults": {
           "arrowcolor": "#2a3f5f",
           "arrowhead": 0,
           "arrowwidth": 1
          },
          "autotypenumbers": "strict",
          "coloraxis": {
           "colorbar": {
            "outlinewidth": 0,
            "ticks": ""
           }
          },
          "colorscale": {
           "diverging": [
            [
             0,
             "#8e0152"
            ],
            [
             0.1,
             "#c51b7d"
            ],
            [
             0.2,
             "#de77ae"
            ],
            [
             0.3,
             "#f1b6da"
            ],
            [
             0.4,
             "#fde0ef"
            ],
            [
             0.5,
             "#f7f7f7"
            ],
            [
             0.6,
             "#e6f5d0"
            ],
            [
             0.7,
             "#b8e186"
            ],
            [
             0.8,
             "#7fbc41"
            ],
            [
             0.9,
             "#4d9221"
            ],
            [
             1,
             "#276419"
            ]
           ],
           "sequential": [
            [
             0,
             "#0d0887"
            ],
            [
             0.1111111111111111,
             "#46039f"
            ],
            [
             0.2222222222222222,
             "#7201a8"
            ],
            [
             0.3333333333333333,
             "#9c179e"
            ],
            [
             0.4444444444444444,
             "#bd3786"
            ],
            [
             0.5555555555555556,
             "#d8576b"
            ],
            [
             0.6666666666666666,
             "#ed7953"
            ],
            [
             0.7777777777777778,
             "#fb9f3a"
            ],
            [
             0.8888888888888888,
             "#fdca26"
            ],
            [
             1,
             "#f0f921"
            ]
           ],
           "sequentialminus": [
            [
             0,
             "#0d0887"
            ],
            [
             0.1111111111111111,
             "#46039f"
            ],
            [
             0.2222222222222222,
             "#7201a8"
            ],
            [
             0.3333333333333333,
             "#9c179e"
            ],
            [
             0.4444444444444444,
             "#bd3786"
            ],
            [
             0.5555555555555556,
             "#d8576b"
            ],
            [
             0.6666666666666666,
             "#ed7953"
            ],
            [
             0.7777777777777778,
             "#fb9f3a"
            ],
            [
             0.8888888888888888,
             "#fdca26"
            ],
            [
             1,
             "#f0f921"
            ]
           ]
          },
          "colorway": [
           "#636efa",
           "#EF553B",
           "#00cc96",
           "#ab63fa",
           "#FFA15A",
           "#19d3f3",
           "#FF6692",
           "#B6E880",
           "#FF97FF",
           "#FECB52"
          ],
          "font": {
           "color": "#2a3f5f"
          },
          "geo": {
           "bgcolor": "white",
           "lakecolor": "white",
           "landcolor": "#E5ECF6",
           "showlakes": true,
           "showland": true,
           "subunitcolor": "white"
          },
          "hoverlabel": {
           "align": "left"
          },
          "hovermode": "closest",
          "mapbox": {
           "style": "light"
          },
          "paper_bgcolor": "white",
          "plot_bgcolor": "#E5ECF6",
          "polar": {
           "angularaxis": {
            "gridcolor": "white",
            "linecolor": "white",
            "ticks": ""
           },
           "bgcolor": "#E5ECF6",
           "radialaxis": {
            "gridcolor": "white",
            "linecolor": "white",
            "ticks": ""
           }
          },
          "scene": {
           "xaxis": {
            "backgroundcolor": "#E5ECF6",
            "gridcolor": "white",
            "gridwidth": 2,
            "linecolor": "white",
            "showbackground": true,
            "ticks": "",
            "zerolinecolor": "white"
           },
           "yaxis": {
            "backgroundcolor": "#E5ECF6",
            "gridcolor": "white",
            "gridwidth": 2,
            "linecolor": "white",
            "showbackground": true,
            "ticks": "",
            "zerolinecolor": "white"
           },
           "zaxis": {
            "backgroundcolor": "#E5ECF6",
            "gridcolor": "white",
            "gridwidth": 2,
            "linecolor": "white",
            "showbackground": true,
            "ticks": "",
            "zerolinecolor": "white"
           }
          },
          "shapedefaults": {
           "line": {
            "color": "#2a3f5f"
           }
          },
          "ternary": {
           "aaxis": {
            "gridcolor": "white",
            "linecolor": "white",
            "ticks": ""
           },
           "baxis": {
            "gridcolor": "white",
            "linecolor": "white",
            "ticks": ""
           },
           "bgcolor": "#E5ECF6",
           "caxis": {
            "gridcolor": "white",
            "linecolor": "white",
            "ticks": ""
           }
          },
          "title": {
           "x": 0.05
          },
          "xaxis": {
           "automargin": true,
           "gridcolor": "white",
           "linecolor": "white",
           "ticks": "",
           "title": {
            "standoff": 15
           },
           "zerolinecolor": "white",
           "zerolinewidth": 2
          },
          "yaxis": {
           "automargin": true,
           "gridcolor": "white",
           "linecolor": "white",
           "ticks": "",
           "title": {
            "standoff": 15
           },
           "zerolinecolor": "white",
           "zerolinewidth": 2
          }
         }
        },
        "title": {
         "text": "Actual and Predicted Wheel Speeds, Recording 2, Trial 1"
        },
        "xaxis": {
         "title": {
          "text": "Time"
         }
        },
        "yaxis": {
         "title": {
          "text": "Value"
         }
        }
       }
      }
     },
     "metadata": {},
     "output_type": "display_data"
    },
    {
     "name": "stdout",
     "output_type": "stream",
     "text": [
      "Performance of mean predictor on test data: 2, Loss 0.016578440945140993\n"
     ]
    }
   ],
   "source": [
    "for recording in range(PLOT_RECORDINGS):\n",
    "    loss_item = evaluate_recording(recording, X_train[recording], Y_train[recording], mean_predictor, loss_fn, plot_num=0)\n",
    "    print(f'Performance of mean predictor on training data: {recording}, Loss {loss_item}')\n",
    "\n",
    "    loss_item = evaluate_recording(recording, X_test[recording], Y_test[recording], mean_predictor, loss_fn, plot_num=2)\n",
    "    print(f'Performance of mean predictor on test data: {recording}, Loss {loss_item}')"
   ]
  },
  {
   "cell_type": "code",
   "execution_count": 95,
   "metadata": {},
   "outputs": [
    {
     "data": {
      "application/vnd.plotly.v1+json": {
       "config": {
        "plotlyServerURL": "https://plot.ly"
       },
       "data": [
        {
         "name": "Actual",
         "type": "scatter",
         "y": [
          0.015524777583777905,
          0.01644320785999298,
          0.018471328541636467,
          0.02196231111884117,
          0.027396289631724358,
          0.035272467881441116,
          0.045947782695293427,
          0.059460464864969254,
          0.07538607716560364,
          0.09278393536806107,
          0.11029112339019775,
          0.12635186314582825,
          0.13951684534549713,
          0.1487034410238266,
          0.15334194898605347,
          0.15337178111076355,
          0.14912116527557373,
          0.14117085933685303,
          0.1302601546049118,
          0.11725419014692307,
          0.10316013544797897,
          0.08911319077014923,
          0.07631552219390869,
          0.06597214192152023,
          0.05912918224930763,
          0.05659192427992821,
          0.05892275646328926,
          0.0664348378777504,
          0.0793018713593483,
          0.09765683859586716,
          0.12162871658802032,
          0.15127438306808472,
          0.1864001750946045,
          0.22630614042282104,
          0.2695195972919464,
          0.3136586844921112,
          0.3555211126804352,
          0.39143306016921997,
          0.4178098738193512,
          0.43179064989089966
         ]
        },
        {
         "name": "Predicted",
         "type": "scatter",
         "y": [
          0.004767205566167831,
          0.01363891176879406,
          0.0055143581703305244,
          0.019265728071331978,
          0.02191183716058731,
          0.025674235075712204,
          0.049607645720243454,
          0.06393872201442719,
          0.07910998165607452,
          0.10541778057813644,
          0.11773592978715897,
          0.12230315059423447,
          0.131109356880188,
          0.13309326767921448,
          0.16132143139839172,
          0.14259663224220276,
          0.11573246121406555,
          0.1175074651837349,
          0.10439620912075043,
          0.09602758288383484,
          0.08064621686935425,
          0.07848474383354187,
          0.06366092711687088,
          0.06937263906002045,
          0.05043129622936249,
          0.06572499871253967,
          0.07929904013872147,
          0.10373805463314056,
          0.10846671462059021,
          0.14477460086345673,
          0.16859646141529083,
          0.19339632987976074,
          0.21870820224285126,
          0.24502208828926086,
          0.2852913737297058,
          0.29698631167411804,
          0.3364502191543579,
          0.34905382990837097,
          0.3748111426830292,
          0.3582945466041565
         ]
        }
       ],
       "layout": {
        "template": {
         "data": {
          "bar": [
           {
            "error_x": {
             "color": "#2a3f5f"
            },
            "error_y": {
             "color": "#2a3f5f"
            },
            "marker": {
             "line": {
              "color": "#E5ECF6",
              "width": 0.5
             },
             "pattern": {
              "fillmode": "overlay",
              "size": 10,
              "solidity": 0.2
             }
            },
            "type": "bar"
           }
          ],
          "barpolar": [
           {
            "marker": {
             "line": {
              "color": "#E5ECF6",
              "width": 0.5
             },
             "pattern": {
              "fillmode": "overlay",
              "size": 10,
              "solidity": 0.2
             }
            },
            "type": "barpolar"
           }
          ],
          "carpet": [
           {
            "aaxis": {
             "endlinecolor": "#2a3f5f",
             "gridcolor": "white",
             "linecolor": "white",
             "minorgridcolor": "white",
             "startlinecolor": "#2a3f5f"
            },
            "baxis": {
             "endlinecolor": "#2a3f5f",
             "gridcolor": "white",
             "linecolor": "white",
             "minorgridcolor": "white",
             "startlinecolor": "#2a3f5f"
            },
            "type": "carpet"
           }
          ],
          "choropleth": [
           {
            "colorbar": {
             "outlinewidth": 0,
             "ticks": ""
            },
            "type": "choropleth"
           }
          ],
          "contour": [
           {
            "colorbar": {
             "outlinewidth": 0,
             "ticks": ""
            },
            "colorscale": [
             [
              0,
              "#0d0887"
             ],
             [
              0.1111111111111111,
              "#46039f"
             ],
             [
              0.2222222222222222,
              "#7201a8"
             ],
             [
              0.3333333333333333,
              "#9c179e"
             ],
             [
              0.4444444444444444,
              "#bd3786"
             ],
             [
              0.5555555555555556,
              "#d8576b"
             ],
             [
              0.6666666666666666,
              "#ed7953"
             ],
             [
              0.7777777777777778,
              "#fb9f3a"
             ],
             [
              0.8888888888888888,
              "#fdca26"
             ],
             [
              1,
              "#f0f921"
             ]
            ],
            "type": "contour"
           }
          ],
          "contourcarpet": [
           {
            "colorbar": {
             "outlinewidth": 0,
             "ticks": ""
            },
            "type": "contourcarpet"
           }
          ],
          "heatmap": [
           {
            "colorbar": {
             "outlinewidth": 0,
             "ticks": ""
            },
            "colorscale": [
             [
              0,
              "#0d0887"
             ],
             [
              0.1111111111111111,
              "#46039f"
             ],
             [
              0.2222222222222222,
              "#7201a8"
             ],
             [
              0.3333333333333333,
              "#9c179e"
             ],
             [
              0.4444444444444444,
              "#bd3786"
             ],
             [
              0.5555555555555556,
              "#d8576b"
             ],
             [
              0.6666666666666666,
              "#ed7953"
             ],
             [
              0.7777777777777778,
              "#fb9f3a"
             ],
             [
              0.8888888888888888,
              "#fdca26"
             ],
             [
              1,
              "#f0f921"
             ]
            ],
            "type": "heatmap"
           }
          ],
          "heatmapgl": [
           {
            "colorbar": {
             "outlinewidth": 0,
             "ticks": ""
            },
            "colorscale": [
             [
              0,
              "#0d0887"
             ],
             [
              0.1111111111111111,
              "#46039f"
             ],
             [
              0.2222222222222222,
              "#7201a8"
             ],
             [
              0.3333333333333333,
              "#9c179e"
             ],
             [
              0.4444444444444444,
              "#bd3786"
             ],
             [
              0.5555555555555556,
              "#d8576b"
             ],
             [
              0.6666666666666666,
              "#ed7953"
             ],
             [
              0.7777777777777778,
              "#fb9f3a"
             ],
             [
              0.8888888888888888,
              "#fdca26"
             ],
             [
              1,
              "#f0f921"
             ]
            ],
            "type": "heatmapgl"
           }
          ],
          "histogram": [
           {
            "marker": {
             "pattern": {
              "fillmode": "overlay",
              "size": 10,
              "solidity": 0.2
             }
            },
            "type": "histogram"
           }
          ],
          "histogram2d": [
           {
            "colorbar": {
             "outlinewidth": 0,
             "ticks": ""
            },
            "colorscale": [
             [
              0,
              "#0d0887"
             ],
             [
              0.1111111111111111,
              "#46039f"
             ],
             [
              0.2222222222222222,
              "#7201a8"
             ],
             [
              0.3333333333333333,
              "#9c179e"
             ],
             [
              0.4444444444444444,
              "#bd3786"
             ],
             [
              0.5555555555555556,
              "#d8576b"
             ],
             [
              0.6666666666666666,
              "#ed7953"
             ],
             [
              0.7777777777777778,
              "#fb9f3a"
             ],
             [
              0.8888888888888888,
              "#fdca26"
             ],
             [
              1,
              "#f0f921"
             ]
            ],
            "type": "histogram2d"
           }
          ],
          "histogram2dcontour": [
           {
            "colorbar": {
             "outlinewidth": 0,
             "ticks": ""
            },
            "colorscale": [
             [
              0,
              "#0d0887"
             ],
             [
              0.1111111111111111,
              "#46039f"
             ],
             [
              0.2222222222222222,
              "#7201a8"
             ],
             [
              0.3333333333333333,
              "#9c179e"
             ],
             [
              0.4444444444444444,
              "#bd3786"
             ],
             [
              0.5555555555555556,
              "#d8576b"
             ],
             [
              0.6666666666666666,
              "#ed7953"
             ],
             [
              0.7777777777777778,
              "#fb9f3a"
             ],
             [
              0.8888888888888888,
              "#fdca26"
             ],
             [
              1,
              "#f0f921"
             ]
            ],
            "type": "histogram2dcontour"
           }
          ],
          "mesh3d": [
           {
            "colorbar": {
             "outlinewidth": 0,
             "ticks": ""
            },
            "type": "mesh3d"
           }
          ],
          "parcoords": [
           {
            "line": {
             "colorbar": {
              "outlinewidth": 0,
              "ticks": ""
             }
            },
            "type": "parcoords"
           }
          ],
          "pie": [
           {
            "automargin": true,
            "type": "pie"
           }
          ],
          "scatter": [
           {
            "fillpattern": {
             "fillmode": "overlay",
             "size": 10,
             "solidity": 0.2
            },
            "type": "scatter"
           }
          ],
          "scatter3d": [
           {
            "line": {
             "colorbar": {
              "outlinewidth": 0,
              "ticks": ""
             }
            },
            "marker": {
             "colorbar": {
              "outlinewidth": 0,
              "ticks": ""
             }
            },
            "type": "scatter3d"
           }
          ],
          "scattercarpet": [
           {
            "marker": {
             "colorbar": {
              "outlinewidth": 0,
              "ticks": ""
             }
            },
            "type": "scattercarpet"
           }
          ],
          "scattergeo": [
           {
            "marker": {
             "colorbar": {
              "outlinewidth": 0,
              "ticks": ""
             }
            },
            "type": "scattergeo"
           }
          ],
          "scattergl": [
           {
            "marker": {
             "colorbar": {
              "outlinewidth": 0,
              "ticks": ""
             }
            },
            "type": "scattergl"
           }
          ],
          "scattermapbox": [
           {
            "marker": {
             "colorbar": {
              "outlinewidth": 0,
              "ticks": ""
             }
            },
            "type": "scattermapbox"
           }
          ],
          "scatterpolar": [
           {
            "marker": {
             "colorbar": {
              "outlinewidth": 0,
              "ticks": ""
             }
            },
            "type": "scatterpolar"
           }
          ],
          "scatterpolargl": [
           {
            "marker": {
             "colorbar": {
              "outlinewidth": 0,
              "ticks": ""
             }
            },
            "type": "scatterpolargl"
           }
          ],
          "scatterternary": [
           {
            "marker": {
             "colorbar": {
              "outlinewidth": 0,
              "ticks": ""
             }
            },
            "type": "scatterternary"
           }
          ],
          "surface": [
           {
            "colorbar": {
             "outlinewidth": 0,
             "ticks": ""
            },
            "colorscale": [
             [
              0,
              "#0d0887"
             ],
             [
              0.1111111111111111,
              "#46039f"
             ],
             [
              0.2222222222222222,
              "#7201a8"
             ],
             [
              0.3333333333333333,
              "#9c179e"
             ],
             [
              0.4444444444444444,
              "#bd3786"
             ],
             [
              0.5555555555555556,
              "#d8576b"
             ],
             [
              0.6666666666666666,
              "#ed7953"
             ],
             [
              0.7777777777777778,
              "#fb9f3a"
             ],
             [
              0.8888888888888888,
              "#fdca26"
             ],
             [
              1,
              "#f0f921"
             ]
            ],
            "type": "surface"
           }
          ],
          "table": [
           {
            "cells": {
             "fill": {
              "color": "#EBF0F8"
             },
             "line": {
              "color": "white"
             }
            },
            "header": {
             "fill": {
              "color": "#C8D4E3"
             },
             "line": {
              "color": "white"
             }
            },
            "type": "table"
           }
          ]
         },
         "layout": {
          "annotationdefaults": {
           "arrowcolor": "#2a3f5f",
           "arrowhead": 0,
           "arrowwidth": 1
          },
          "autotypenumbers": "strict",
          "coloraxis": {
           "colorbar": {
            "outlinewidth": 0,
            "ticks": ""
           }
          },
          "colorscale": {
           "diverging": [
            [
             0,
             "#8e0152"
            ],
            [
             0.1,
             "#c51b7d"
            ],
            [
             0.2,
             "#de77ae"
            ],
            [
             0.3,
             "#f1b6da"
            ],
            [
             0.4,
             "#fde0ef"
            ],
            [
             0.5,
             "#f7f7f7"
            ],
            [
             0.6,
             "#e6f5d0"
            ],
            [
             0.7,
             "#b8e186"
            ],
            [
             0.8,
             "#7fbc41"
            ],
            [
             0.9,
             "#4d9221"
            ],
            [
             1,
             "#276419"
            ]
           ],
           "sequential": [
            [
             0,
             "#0d0887"
            ],
            [
             0.1111111111111111,
             "#46039f"
            ],
            [
             0.2222222222222222,
             "#7201a8"
            ],
            [
             0.3333333333333333,
             "#9c179e"
            ],
            [
             0.4444444444444444,
             "#bd3786"
            ],
            [
             0.5555555555555556,
             "#d8576b"
            ],
            [
             0.6666666666666666,
             "#ed7953"
            ],
            [
             0.7777777777777778,
             "#fb9f3a"
            ],
            [
             0.8888888888888888,
             "#fdca26"
            ],
            [
             1,
             "#f0f921"
            ]
           ],
           "sequentialminus": [
            [
             0,
             "#0d0887"
            ],
            [
             0.1111111111111111,
             "#46039f"
            ],
            [
             0.2222222222222222,
             "#7201a8"
            ],
            [
             0.3333333333333333,
             "#9c179e"
            ],
            [
             0.4444444444444444,
             "#bd3786"
            ],
            [
             0.5555555555555556,
             "#d8576b"
            ],
            [
             0.6666666666666666,
             "#ed7953"
            ],
            [
             0.7777777777777778,
             "#fb9f3a"
            ],
            [
             0.8888888888888888,
             "#fdca26"
            ],
            [
             1,
             "#f0f921"
            ]
           ]
          },
          "colorway": [
           "#636efa",
           "#EF553B",
           "#00cc96",
           "#ab63fa",
           "#FFA15A",
           "#19d3f3",
           "#FF6692",
           "#B6E880",
           "#FF97FF",
           "#FECB52"
          ],
          "font": {
           "color": "#2a3f5f"
          },
          "geo": {
           "bgcolor": "white",
           "lakecolor": "white",
           "landcolor": "#E5ECF6",
           "showlakes": true,
           "showland": true,
           "subunitcolor": "white"
          },
          "hoverlabel": {
           "align": "left"
          },
          "hovermode": "closest",
          "mapbox": {
           "style": "light"
          },
          "paper_bgcolor": "white",
          "plot_bgcolor": "#E5ECF6",
          "polar": {
           "angularaxis": {
            "gridcolor": "white",
            "linecolor": "white",
            "ticks": ""
           },
           "bgcolor": "#E5ECF6",
           "radialaxis": {
            "gridcolor": "white",
            "linecolor": "white",
            "ticks": ""
           }
          },
          "scene": {
           "xaxis": {
            "backgroundcolor": "#E5ECF6",
            "gridcolor": "white",
            "gridwidth": 2,
            "linecolor": "white",
            "showbackground": true,
            "ticks": "",
            "zerolinecolor": "white"
           },
           "yaxis": {
            "backgroundcolor": "#E5ECF6",
            "gridcolor": "white",
            "gridwidth": 2,
            "linecolor": "white",
            "showbackground": true,
            "ticks": "",
            "zerolinecolor": "white"
           },
           "zaxis": {
            "backgroundcolor": "#E5ECF6",
            "gridcolor": "white",
            "gridwidth": 2,
            "linecolor": "white",
            "showbackground": true,
            "ticks": "",
            "zerolinecolor": "white"
           }
          },
          "shapedefaults": {
           "line": {
            "color": "#2a3f5f"
           }
          },
          "ternary": {
           "aaxis": {
            "gridcolor": "white",
            "linecolor": "white",
            "ticks": ""
           },
           "baxis": {
            "gridcolor": "white",
            "linecolor": "white",
            "ticks": ""
           },
           "bgcolor": "#E5ECF6",
           "caxis": {
            "gridcolor": "white",
            "linecolor": "white",
            "ticks": ""
           }
          },
          "title": {
           "x": 0.05
          },
          "xaxis": {
           "automargin": true,
           "gridcolor": "white",
           "linecolor": "white",
           "ticks": "",
           "title": {
            "standoff": 15
           },
           "zerolinecolor": "white",
           "zerolinewidth": 2
          },
          "yaxis": {
           "automargin": true,
           "gridcolor": "white",
           "linecolor": "white",
           "ticks": "",
           "title": {
            "standoff": 15
           },
           "zerolinecolor": "white",
           "zerolinewidth": 2
          }
         }
        },
        "title": {
         "text": "Actual and Predicted Wheel Speeds, Recording 0, Trial 0"
        },
        "xaxis": {
         "title": {
          "text": "Time"
         }
        },
        "yaxis": {
         "title": {
          "text": "Value"
         }
        }
       }
      }
     },
     "metadata": {},
     "output_type": "display_data"
    },
    {
     "name": "stdout",
     "output_type": "stream",
     "text": [
      "Training Evaluation, Recording 0, Loss 0.000462967756902799\n"
     ]
    },
    {
     "data": {
      "application/vnd.plotly.v1+json": {
       "config": {
        "plotlyServerURL": "https://plot.ly"
       },
       "data": [
        {
         "name": "Actual",
         "type": "scatter",
         "y": [
          0.004643218591809273,
          0.00670077046379447,
          0.011235586367547512,
          0.01902271993458271,
          0.03105335682630539,
          0.04830514267086983,
          0.07143069058656693,
          0.10042586922645569,
          0.1343800127506256,
          0.17140373587608337,
          0.20882247388362885,
          0.24361705780029297,
          0.273007869720459,
          0.2950063645839691,
          0.3088018298149109,
          0.3148214519023895,
          0.31450361013412476,
          0.30986422300338745,
          0.30298686027526855,
          0.2955617308616638,
          0.28859949111938477,
          0.28235703706741333,
          0.27646705508232117,
          0.2702215909957886,
          0.262885719537735,
          0.253949373960495,
          0.2432367503643036,
          0.2308598756790161,
          0.21710389852523804,
          0.20232287049293518,
          0.18690556287765503,
          0.17133283615112305,
          0.1562337875366211,
          0.14236916601657867,
          0.13050393760204315,
          0.12120873481035233,
          0.11466022580862045,
          0.11060091853141785,
          0.1084567978978157,
          0.10759221762418747
         ]
        },
        {
         "name": "Predicted",
         "type": "scatter",
         "y": [
          0.0005340874195098877,
          0.020394276827573776,
          0.027210000902414322,
          0.02060140296816826,
          0.033787406980991364,
          0.0499228872358799,
          0.07565934211015701,
          0.10206650197505951,
          0.1480119377374649,
          0.18899700045585632,
          0.2153986543416977,
          0.26803454756736755,
          0.28428351879119873,
          0.29191434383392334,
          0.31263166666030884,
          0.31883299350738525,
          0.3148980140686035,
          0.31125113368034363,
          0.2986706495285034,
          0.28975680470466614,
          0.28564709424972534,
          0.26708248257637024,
          0.2644944190979004,
          0.25455424189567566,
          0.25013619661331177,
          0.23878230154514313,
          0.24227562546730042,
          0.22157908976078033,
          0.21956869959831238,
          0.20602893829345703,
          0.19989155232906342,
          0.1799890398979187,
          0.16482077538967133,
          0.15732429921627045,
          0.13846541941165924,
          0.13512872159481049,
          0.11670480668544769,
          0.09991130977869034,
          0.08974723517894745,
          0.08979255706071854
         ]
        }
       ],
       "layout": {
        "template": {
         "data": {
          "bar": [
           {
            "error_x": {
             "color": "#2a3f5f"
            },
            "error_y": {
             "color": "#2a3f5f"
            },
            "marker": {
             "line": {
              "color": "#E5ECF6",
              "width": 0.5
             },
             "pattern": {
              "fillmode": "overlay",
              "size": 10,
              "solidity": 0.2
             }
            },
            "type": "bar"
           }
          ],
          "barpolar": [
           {
            "marker": {
             "line": {
              "color": "#E5ECF6",
              "width": 0.5
             },
             "pattern": {
              "fillmode": "overlay",
              "size": 10,
              "solidity": 0.2
             }
            },
            "type": "barpolar"
           }
          ],
          "carpet": [
           {
            "aaxis": {
             "endlinecolor": "#2a3f5f",
             "gridcolor": "white",
             "linecolor": "white",
             "minorgridcolor": "white",
             "startlinecolor": "#2a3f5f"
            },
            "baxis": {
             "endlinecolor": "#2a3f5f",
             "gridcolor": "white",
             "linecolor": "white",
             "minorgridcolor": "white",
             "startlinecolor": "#2a3f5f"
            },
            "type": "carpet"
           }
          ],
          "choropleth": [
           {
            "colorbar": {
             "outlinewidth": 0,
             "ticks": ""
            },
            "type": "choropleth"
           }
          ],
          "contour": [
           {
            "colorbar": {
             "outlinewidth": 0,
             "ticks": ""
            },
            "colorscale": [
             [
              0,
              "#0d0887"
             ],
             [
              0.1111111111111111,
              "#46039f"
             ],
             [
              0.2222222222222222,
              "#7201a8"
             ],
             [
              0.3333333333333333,
              "#9c179e"
             ],
             [
              0.4444444444444444,
              "#bd3786"
             ],
             [
              0.5555555555555556,
              "#d8576b"
             ],
             [
              0.6666666666666666,
              "#ed7953"
             ],
             [
              0.7777777777777778,
              "#fb9f3a"
             ],
             [
              0.8888888888888888,
              "#fdca26"
             ],
             [
              1,
              "#f0f921"
             ]
            ],
            "type": "contour"
           }
          ],
          "contourcarpet": [
           {
            "colorbar": {
             "outlinewidth": 0,
             "ticks": ""
            },
            "type": "contourcarpet"
           }
          ],
          "heatmap": [
           {
            "colorbar": {
             "outlinewidth": 0,
             "ticks": ""
            },
            "colorscale": [
             [
              0,
              "#0d0887"
             ],
             [
              0.1111111111111111,
              "#46039f"
             ],
             [
              0.2222222222222222,
              "#7201a8"
             ],
             [
              0.3333333333333333,
              "#9c179e"
             ],
             [
              0.4444444444444444,
              "#bd3786"
             ],
             [
              0.5555555555555556,
              "#d8576b"
             ],
             [
              0.6666666666666666,
              "#ed7953"
             ],
             [
              0.7777777777777778,
              "#fb9f3a"
             ],
             [
              0.8888888888888888,
              "#fdca26"
             ],
             [
              1,
              "#f0f921"
             ]
            ],
            "type": "heatmap"
           }
          ],
          "heatmapgl": [
           {
            "colorbar": {
             "outlinewidth": 0,
             "ticks": ""
            },
            "colorscale": [
             [
              0,
              "#0d0887"
             ],
             [
              0.1111111111111111,
              "#46039f"
             ],
             [
              0.2222222222222222,
              "#7201a8"
             ],
             [
              0.3333333333333333,
              "#9c179e"
             ],
             [
              0.4444444444444444,
              "#bd3786"
             ],
             [
              0.5555555555555556,
              "#d8576b"
             ],
             [
              0.6666666666666666,
              "#ed7953"
             ],
             [
              0.7777777777777778,
              "#fb9f3a"
             ],
             [
              0.8888888888888888,
              "#fdca26"
             ],
             [
              1,
              "#f0f921"
             ]
            ],
            "type": "heatmapgl"
           }
          ],
          "histogram": [
           {
            "marker": {
             "pattern": {
              "fillmode": "overlay",
              "size": 10,
              "solidity": 0.2
             }
            },
            "type": "histogram"
           }
          ],
          "histogram2d": [
           {
            "colorbar": {
             "outlinewidth": 0,
             "ticks": ""
            },
            "colorscale": [
             [
              0,
              "#0d0887"
             ],
             [
              0.1111111111111111,
              "#46039f"
             ],
             [
              0.2222222222222222,
              "#7201a8"
             ],
             [
              0.3333333333333333,
              "#9c179e"
             ],
             [
              0.4444444444444444,
              "#bd3786"
             ],
             [
              0.5555555555555556,
              "#d8576b"
             ],
             [
              0.6666666666666666,
              "#ed7953"
             ],
             [
              0.7777777777777778,
              "#fb9f3a"
             ],
             [
              0.8888888888888888,
              "#fdca26"
             ],
             [
              1,
              "#f0f921"
             ]
            ],
            "type": "histogram2d"
           }
          ],
          "histogram2dcontour": [
           {
            "colorbar": {
             "outlinewidth": 0,
             "ticks": ""
            },
            "colorscale": [
             [
              0,
              "#0d0887"
             ],
             [
              0.1111111111111111,
              "#46039f"
             ],
             [
              0.2222222222222222,
              "#7201a8"
             ],
             [
              0.3333333333333333,
              "#9c179e"
             ],
             [
              0.4444444444444444,
              "#bd3786"
             ],
             [
              0.5555555555555556,
              "#d8576b"
             ],
             [
              0.6666666666666666,
              "#ed7953"
             ],
             [
              0.7777777777777778,
              "#fb9f3a"
             ],
             [
              0.8888888888888888,
              "#fdca26"
             ],
             [
              1,
              "#f0f921"
             ]
            ],
            "type": "histogram2dcontour"
           }
          ],
          "mesh3d": [
           {
            "colorbar": {
             "outlinewidth": 0,
             "ticks": ""
            },
            "type": "mesh3d"
           }
          ],
          "parcoords": [
           {
            "line": {
             "colorbar": {
              "outlinewidth": 0,
              "ticks": ""
             }
            },
            "type": "parcoords"
           }
          ],
          "pie": [
           {
            "automargin": true,
            "type": "pie"
           }
          ],
          "scatter": [
           {
            "fillpattern": {
             "fillmode": "overlay",
             "size": 10,
             "solidity": 0.2
            },
            "type": "scatter"
           }
          ],
          "scatter3d": [
           {
            "line": {
             "colorbar": {
              "outlinewidth": 0,
              "ticks": ""
             }
            },
            "marker": {
             "colorbar": {
              "outlinewidth": 0,
              "ticks": ""
             }
            },
            "type": "scatter3d"
           }
          ],
          "scattercarpet": [
           {
            "marker": {
             "colorbar": {
              "outlinewidth": 0,
              "ticks": ""
             }
            },
            "type": "scattercarpet"
           }
          ],
          "scattergeo": [
           {
            "marker": {
             "colorbar": {
              "outlinewidth": 0,
              "ticks": ""
             }
            },
            "type": "scattergeo"
           }
          ],
          "scattergl": [
           {
            "marker": {
             "colorbar": {
              "outlinewidth": 0,
              "ticks": ""
             }
            },
            "type": "scattergl"
           }
          ],
          "scattermapbox": [
           {
            "marker": {
             "colorbar": {
              "outlinewidth": 0,
              "ticks": ""
             }
            },
            "type": "scattermapbox"
           }
          ],
          "scatterpolar": [
           {
            "marker": {
             "colorbar": {
              "outlinewidth": 0,
              "ticks": ""
             }
            },
            "type": "scatterpolar"
           }
          ],
          "scatterpolargl": [
           {
            "marker": {
             "colorbar": {
              "outlinewidth": 0,
              "ticks": ""
             }
            },
            "type": "scatterpolargl"
           }
          ],
          "scatterternary": [
           {
            "marker": {
             "colorbar": {
              "outlinewidth": 0,
              "ticks": ""
             }
            },
            "type": "scatterternary"
           }
          ],
          "surface": [
           {
            "colorbar": {
             "outlinewidth": 0,
             "ticks": ""
            },
            "colorscale": [
             [
              0,
              "#0d0887"
             ],
             [
              0.1111111111111111,
              "#46039f"
             ],
             [
              0.2222222222222222,
              "#7201a8"
             ],
             [
              0.3333333333333333,
              "#9c179e"
             ],
             [
              0.4444444444444444,
              "#bd3786"
             ],
             [
              0.5555555555555556,
              "#d8576b"
             ],
             [
              0.6666666666666666,
              "#ed7953"
             ],
             [
              0.7777777777777778,
              "#fb9f3a"
             ],
             [
              0.8888888888888888,
              "#fdca26"
             ],
             [
              1,
              "#f0f921"
             ]
            ],
            "type": "surface"
           }
          ],
          "table": [
           {
            "cells": {
             "fill": {
              "color": "#EBF0F8"
             },
             "line": {
              "color": "white"
             }
            },
            "header": {
             "fill": {
              "color": "#C8D4E3"
             },
             "line": {
              "color": "white"
             }
            },
            "type": "table"
           }
          ]
         },
         "layout": {
          "annotationdefaults": {
           "arrowcolor": "#2a3f5f",
           "arrowhead": 0,
           "arrowwidth": 1
          },
          "autotypenumbers": "strict",
          "coloraxis": {
           "colorbar": {
            "outlinewidth": 0,
            "ticks": ""
           }
          },
          "colorscale": {
           "diverging": [
            [
             0,
             "#8e0152"
            ],
            [
             0.1,
             "#c51b7d"
            ],
            [
             0.2,
             "#de77ae"
            ],
            [
             0.3,
             "#f1b6da"
            ],
            [
             0.4,
             "#fde0ef"
            ],
            [
             0.5,
             "#f7f7f7"
            ],
            [
             0.6,
             "#e6f5d0"
            ],
            [
             0.7,
             "#b8e186"
            ],
            [
             0.8,
             "#7fbc41"
            ],
            [
             0.9,
             "#4d9221"
            ],
            [
             1,
             "#276419"
            ]
           ],
           "sequential": [
            [
             0,
             "#0d0887"
            ],
            [
             0.1111111111111111,
             "#46039f"
            ],
            [
             0.2222222222222222,
             "#7201a8"
            ],
            [
             0.3333333333333333,
             "#9c179e"
            ],
            [
             0.4444444444444444,
             "#bd3786"
            ],
            [
             0.5555555555555556,
             "#d8576b"
            ],
            [
             0.6666666666666666,
             "#ed7953"
            ],
            [
             0.7777777777777778,
             "#fb9f3a"
            ],
            [
             0.8888888888888888,
             "#fdca26"
            ],
            [
             1,
             "#f0f921"
            ]
           ],
           "sequentialminus": [
            [
             0,
             "#0d0887"
            ],
            [
             0.1111111111111111,
             "#46039f"
            ],
            [
             0.2222222222222222,
             "#7201a8"
            ],
            [
             0.3333333333333333,
             "#9c179e"
            ],
            [
             0.4444444444444444,
             "#bd3786"
            ],
            [
             0.5555555555555556,
             "#d8576b"
            ],
            [
             0.6666666666666666,
             "#ed7953"
            ],
            [
             0.7777777777777778,
             "#fb9f3a"
            ],
            [
             0.8888888888888888,
             "#fdca26"
            ],
            [
             1,
             "#f0f921"
            ]
           ]
          },
          "colorway": [
           "#636efa",
           "#EF553B",
           "#00cc96",
           "#ab63fa",
           "#FFA15A",
           "#19d3f3",
           "#FF6692",
           "#B6E880",
           "#FF97FF",
           "#FECB52"
          ],
          "font": {
           "color": "#2a3f5f"
          },
          "geo": {
           "bgcolor": "white",
           "lakecolor": "white",
           "landcolor": "#E5ECF6",
           "showlakes": true,
           "showland": true,
           "subunitcolor": "white"
          },
          "hoverlabel": {
           "align": "left"
          },
          "hovermode": "closest",
          "mapbox": {
           "style": "light"
          },
          "paper_bgcolor": "white",
          "plot_bgcolor": "#E5ECF6",
          "polar": {
           "angularaxis": {
            "gridcolor": "white",
            "linecolor": "white",
            "ticks": ""
           },
           "bgcolor": "#E5ECF6",
           "radialaxis": {
            "gridcolor": "white",
            "linecolor": "white",
            "ticks": ""
           }
          },
          "scene": {
           "xaxis": {
            "backgroundcolor": "#E5ECF6",
            "gridcolor": "white",
            "gridwidth": 2,
            "linecolor": "white",
            "showbackground": true,
            "ticks": "",
            "zerolinecolor": "white"
           },
           "yaxis": {
            "backgroundcolor": "#E5ECF6",
            "gridcolor": "white",
            "gridwidth": 2,
            "linecolor": "white",
            "showbackground": true,
            "ticks": "",
            "zerolinecolor": "white"
           },
           "zaxis": {
            "backgroundcolor": "#E5ECF6",
            "gridcolor": "white",
            "gridwidth": 2,
            "linecolor": "white",
            "showbackground": true,
            "ticks": "",
            "zerolinecolor": "white"
           }
          },
          "shapedefaults": {
           "line": {
            "color": "#2a3f5f"
           }
          },
          "ternary": {
           "aaxis": {
            "gridcolor": "white",
            "linecolor": "white",
            "ticks": ""
           },
           "baxis": {
            "gridcolor": "white",
            "linecolor": "white",
            "ticks": ""
           },
           "bgcolor": "#E5ECF6",
           "caxis": {
            "gridcolor": "white",
            "linecolor": "white",
            "ticks": ""
           }
          },
          "title": {
           "x": 0.05
          },
          "xaxis": {
           "automargin": true,
           "gridcolor": "white",
           "linecolor": "white",
           "ticks": "",
           "title": {
            "standoff": 15
           },
           "zerolinecolor": "white",
           "zerolinewidth": 2
          },
          "yaxis": {
           "automargin": true,
           "gridcolor": "white",
           "linecolor": "white",
           "ticks": "",
           "title": {
            "standoff": 15
           },
           "zerolinecolor": "white",
           "zerolinewidth": 2
          }
         }
        },
        "title": {
         "text": "Actual and Predicted Wheel Speeds, Recording 1, Trial 0"
        },
        "xaxis": {
         "title": {
          "text": "Time"
         }
        },
        "yaxis": {
         "title": {
          "text": "Value"
         }
        }
       }
      }
     },
     "metadata": {},
     "output_type": "display_data"
    },
    {
     "name": "stdout",
     "output_type": "stream",
     "text": [
      "Training Evaluation, Recording 1, Loss 0.0006469715153798461\n"
     ]
    },
    {
     "data": {
      "application/vnd.plotly.v1+json": {
       "config": {
        "plotlyServerURL": "https://plot.ly"
       },
       "data": [
        {
         "name": "Actual",
         "type": "scatter",
         "y": [
          0.0059122019447386265,
          0.008534848690032959,
          0.014308259822428226,
          0.024197347462177277,
          0.039400503039360046,
          0.061032988131046295,
          0.08971551805734634,
          0.12516522407531738,
          0.16594767570495605,
          0.2094944268465042,
          0.25246289372444153,
          0.29139670729637146,
          0.32350003719329834,
          0.34726786613464355,
          0.3627583384513855,
          0.3713991940021515,
          0.37541383504867554,
          0.377064973115921,
          0.37796592712402344,
          0.3786737620830536,
          0.37865087389945984,
          0.37656140327453613,
          0.37077367305755615,
          0.35989701747894287,
          0.34320345520973206,
          0.3208394944667816,
          0.2938094437122345,
          0.26377078890800476,
          0.23272357881069183,
          0.20267409086227417,
          0.17532265186309814,
          0.15185727179050446,
          0.13287879526615143,
          0.11841859668493271,
          0.10805536806583405,
          0.10108642280101776,
          0.09670091420412064,
          0.09413380920886993,
          0.09277032315731049,
          0.09219229221343994
         ]
        },
        {
         "name": "Predicted",
         "type": "scatter",
         "y": [
          0.005782518535852432,
          0.01225660927593708,
          0.014071520417928696,
          0.010326551273465157,
          0.022150341421365738,
          0.056867729872465134,
          0.07526000589132309,
          0.11976296454668045,
          0.14299485087394714,
          0.20370227098464966,
          0.24221467971801758,
          0.289908230304718,
          0.3343546390533447,
          0.35854530334472656,
          0.3913612365722656,
          0.3942394256591797,
          0.4117441773414612,
          0.3978620171546936,
          0.3924271762371063,
          0.38260793685913086,
          0.37347519397735596,
          0.37668344378471375,
          0.35702741146087646,
          0.32910704612731934,
          0.32123875617980957,
          0.2849113345146179,
          0.27882900834083557,
          0.2632935047149658,
          0.21863733232021332,
          0.21616658568382263,
          0.16912445425987244,
          0.16367000341415405,
          0.13929328322410583,
          0.12035294622182846,
          0.09698332101106644,
          0.1020411029458046,
          0.09683775901794434,
          0.08160830289125443,
          0.08659195899963379,
          0.08010366559028625
         ]
        }
       ],
       "layout": {
        "template": {
         "data": {
          "bar": [
           {
            "error_x": {
             "color": "#2a3f5f"
            },
            "error_y": {
             "color": "#2a3f5f"
            },
            "marker": {
             "line": {
              "color": "#E5ECF6",
              "width": 0.5
             },
             "pattern": {
              "fillmode": "overlay",
              "size": 10,
              "solidity": 0.2
             }
            },
            "type": "bar"
           }
          ],
          "barpolar": [
           {
            "marker": {
             "line": {
              "color": "#E5ECF6",
              "width": 0.5
             },
             "pattern": {
              "fillmode": "overlay",
              "size": 10,
              "solidity": 0.2
             }
            },
            "type": "barpolar"
           }
          ],
          "carpet": [
           {
            "aaxis": {
             "endlinecolor": "#2a3f5f",
             "gridcolor": "white",
             "linecolor": "white",
             "minorgridcolor": "white",
             "startlinecolor": "#2a3f5f"
            },
            "baxis": {
             "endlinecolor": "#2a3f5f",
             "gridcolor": "white",
             "linecolor": "white",
             "minorgridcolor": "white",
             "startlinecolor": "#2a3f5f"
            },
            "type": "carpet"
           }
          ],
          "choropleth": [
           {
            "colorbar": {
             "outlinewidth": 0,
             "ticks": ""
            },
            "type": "choropleth"
           }
          ],
          "contour": [
           {
            "colorbar": {
             "outlinewidth": 0,
             "ticks": ""
            },
            "colorscale": [
             [
              0,
              "#0d0887"
             ],
             [
              0.1111111111111111,
              "#46039f"
             ],
             [
              0.2222222222222222,
              "#7201a8"
             ],
             [
              0.3333333333333333,
              "#9c179e"
             ],
             [
              0.4444444444444444,
              "#bd3786"
             ],
             [
              0.5555555555555556,
              "#d8576b"
             ],
             [
              0.6666666666666666,
              "#ed7953"
             ],
             [
              0.7777777777777778,
              "#fb9f3a"
             ],
             [
              0.8888888888888888,
              "#fdca26"
             ],
             [
              1,
              "#f0f921"
             ]
            ],
            "type": "contour"
           }
          ],
          "contourcarpet": [
           {
            "colorbar": {
             "outlinewidth": 0,
             "ticks": ""
            },
            "type": "contourcarpet"
           }
          ],
          "heatmap": [
           {
            "colorbar": {
             "outlinewidth": 0,
             "ticks": ""
            },
            "colorscale": [
             [
              0,
              "#0d0887"
             ],
             [
              0.1111111111111111,
              "#46039f"
             ],
             [
              0.2222222222222222,
              "#7201a8"
             ],
             [
              0.3333333333333333,
              "#9c179e"
             ],
             [
              0.4444444444444444,
              "#bd3786"
             ],
             [
              0.5555555555555556,
              "#d8576b"
             ],
             [
              0.6666666666666666,
              "#ed7953"
             ],
             [
              0.7777777777777778,
              "#fb9f3a"
             ],
             [
              0.8888888888888888,
              "#fdca26"
             ],
             [
              1,
              "#f0f921"
             ]
            ],
            "type": "heatmap"
           }
          ],
          "heatmapgl": [
           {
            "colorbar": {
             "outlinewidth": 0,
             "ticks": ""
            },
            "colorscale": [
             [
              0,
              "#0d0887"
             ],
             [
              0.1111111111111111,
              "#46039f"
             ],
             [
              0.2222222222222222,
              "#7201a8"
             ],
             [
              0.3333333333333333,
              "#9c179e"
             ],
             [
              0.4444444444444444,
              "#bd3786"
             ],
             [
              0.5555555555555556,
              "#d8576b"
             ],
             [
              0.6666666666666666,
              "#ed7953"
             ],
             [
              0.7777777777777778,
              "#fb9f3a"
             ],
             [
              0.8888888888888888,
              "#fdca26"
             ],
             [
              1,
              "#f0f921"
             ]
            ],
            "type": "heatmapgl"
           }
          ],
          "histogram": [
           {
            "marker": {
             "pattern": {
              "fillmode": "overlay",
              "size": 10,
              "solidity": 0.2
             }
            },
            "type": "histogram"
           }
          ],
          "histogram2d": [
           {
            "colorbar": {
             "outlinewidth": 0,
             "ticks": ""
            },
            "colorscale": [
             [
              0,
              "#0d0887"
             ],
             [
              0.1111111111111111,
              "#46039f"
             ],
             [
              0.2222222222222222,
              "#7201a8"
             ],
             [
              0.3333333333333333,
              "#9c179e"
             ],
             [
              0.4444444444444444,
              "#bd3786"
             ],
             [
              0.5555555555555556,
              "#d8576b"
             ],
             [
              0.6666666666666666,
              "#ed7953"
             ],
             [
              0.7777777777777778,
              "#fb9f3a"
             ],
             [
              0.8888888888888888,
              "#fdca26"
             ],
             [
              1,
              "#f0f921"
             ]
            ],
            "type": "histogram2d"
           }
          ],
          "histogram2dcontour": [
           {
            "colorbar": {
             "outlinewidth": 0,
             "ticks": ""
            },
            "colorscale": [
             [
              0,
              "#0d0887"
             ],
             [
              0.1111111111111111,
              "#46039f"
             ],
             [
              0.2222222222222222,
              "#7201a8"
             ],
             [
              0.3333333333333333,
              "#9c179e"
             ],
             [
              0.4444444444444444,
              "#bd3786"
             ],
             [
              0.5555555555555556,
              "#d8576b"
             ],
             [
              0.6666666666666666,
              "#ed7953"
             ],
             [
              0.7777777777777778,
              "#fb9f3a"
             ],
             [
              0.8888888888888888,
              "#fdca26"
             ],
             [
              1,
              "#f0f921"
             ]
            ],
            "type": "histogram2dcontour"
           }
          ],
          "mesh3d": [
           {
            "colorbar": {
             "outlinewidth": 0,
             "ticks": ""
            },
            "type": "mesh3d"
           }
          ],
          "parcoords": [
           {
            "line": {
             "colorbar": {
              "outlinewidth": 0,
              "ticks": ""
             }
            },
            "type": "parcoords"
           }
          ],
          "pie": [
           {
            "automargin": true,
            "type": "pie"
           }
          ],
          "scatter": [
           {
            "fillpattern": {
             "fillmode": "overlay",
             "size": 10,
             "solidity": 0.2
            },
            "type": "scatter"
           }
          ],
          "scatter3d": [
           {
            "line": {
             "colorbar": {
              "outlinewidth": 0,
              "ticks": ""
             }
            },
            "marker": {
             "colorbar": {
              "outlinewidth": 0,
              "ticks": ""
             }
            },
            "type": "scatter3d"
           }
          ],
          "scattercarpet": [
           {
            "marker": {
             "colorbar": {
              "outlinewidth": 0,
              "ticks": ""
             }
            },
            "type": "scattercarpet"
           }
          ],
          "scattergeo": [
           {
            "marker": {
             "colorbar": {
              "outlinewidth": 0,
              "ticks": ""
             }
            },
            "type": "scattergeo"
           }
          ],
          "scattergl": [
           {
            "marker": {
             "colorbar": {
              "outlinewidth": 0,
              "ticks": ""
             }
            },
            "type": "scattergl"
           }
          ],
          "scattermapbox": [
           {
            "marker": {
             "colorbar": {
              "outlinewidth": 0,
              "ticks": ""
             }
            },
            "type": "scattermapbox"
           }
          ],
          "scatterpolar": [
           {
            "marker": {
             "colorbar": {
              "outlinewidth": 0,
              "ticks": ""
             }
            },
            "type": "scatterpolar"
           }
          ],
          "scatterpolargl": [
           {
            "marker": {
             "colorbar": {
              "outlinewidth": 0,
              "ticks": ""
             }
            },
            "type": "scatterpolargl"
           }
          ],
          "scatterternary": [
           {
            "marker": {
             "colorbar": {
              "outlinewidth": 0,
              "ticks": ""
             }
            },
            "type": "scatterternary"
           }
          ],
          "surface": [
           {
            "colorbar": {
             "outlinewidth": 0,
             "ticks": ""
            },
            "colorscale": [
             [
              0,
              "#0d0887"
             ],
             [
              0.1111111111111111,
              "#46039f"
             ],
             [
              0.2222222222222222,
              "#7201a8"
             ],
             [
              0.3333333333333333,
              "#9c179e"
             ],
             [
              0.4444444444444444,
              "#bd3786"
             ],
             [
              0.5555555555555556,
              "#d8576b"
             ],
             [
              0.6666666666666666,
              "#ed7953"
             ],
             [
              0.7777777777777778,
              "#fb9f3a"
             ],
             [
              0.8888888888888888,
              "#fdca26"
             ],
             [
              1,
              "#f0f921"
             ]
            ],
            "type": "surface"
           }
          ],
          "table": [
           {
            "cells": {
             "fill": {
              "color": "#EBF0F8"
             },
             "line": {
              "color": "white"
             }
            },
            "header": {
             "fill": {
              "color": "#C8D4E3"
             },
             "line": {
              "color": "white"
             }
            },
            "type": "table"
           }
          ]
         },
         "layout": {
          "annotationdefaults": {
           "arrowcolor": "#2a3f5f",
           "arrowhead": 0,
           "arrowwidth": 1
          },
          "autotypenumbers": "strict",
          "coloraxis": {
           "colorbar": {
            "outlinewidth": 0,
            "ticks": ""
           }
          },
          "colorscale": {
           "diverging": [
            [
             0,
             "#8e0152"
            ],
            [
             0.1,
             "#c51b7d"
            ],
            [
             0.2,
             "#de77ae"
            ],
            [
             0.3,
             "#f1b6da"
            ],
            [
             0.4,
             "#fde0ef"
            ],
            [
             0.5,
             "#f7f7f7"
            ],
            [
             0.6,
             "#e6f5d0"
            ],
            [
             0.7,
             "#b8e186"
            ],
            [
             0.8,
             "#7fbc41"
            ],
            [
             0.9,
             "#4d9221"
            ],
            [
             1,
             "#276419"
            ]
           ],
           "sequential": [
            [
             0,
             "#0d0887"
            ],
            [
             0.1111111111111111,
             "#46039f"
            ],
            [
             0.2222222222222222,
             "#7201a8"
            ],
            [
             0.3333333333333333,
             "#9c179e"
            ],
            [
             0.4444444444444444,
             "#bd3786"
            ],
            [
             0.5555555555555556,
             "#d8576b"
            ],
            [
             0.6666666666666666,
             "#ed7953"
            ],
            [
             0.7777777777777778,
             "#fb9f3a"
            ],
            [
             0.8888888888888888,
             "#fdca26"
            ],
            [
             1,
             "#f0f921"
            ]
           ],
           "sequentialminus": [
            [
             0,
             "#0d0887"
            ],
            [
             0.1111111111111111,
             "#46039f"
            ],
            [
             0.2222222222222222,
             "#7201a8"
            ],
            [
             0.3333333333333333,
             "#9c179e"
            ],
            [
             0.4444444444444444,
             "#bd3786"
            ],
            [
             0.5555555555555556,
             "#d8576b"
            ],
            [
             0.6666666666666666,
             "#ed7953"
            ],
            [
             0.7777777777777778,
             "#fb9f3a"
            ],
            [
             0.8888888888888888,
             "#fdca26"
            ],
            [
             1,
             "#f0f921"
            ]
           ]
          },
          "colorway": [
           "#636efa",
           "#EF553B",
           "#00cc96",
           "#ab63fa",
           "#FFA15A",
           "#19d3f3",
           "#FF6692",
           "#B6E880",
           "#FF97FF",
           "#FECB52"
          ],
          "font": {
           "color": "#2a3f5f"
          },
          "geo": {
           "bgcolor": "white",
           "lakecolor": "white",
           "landcolor": "#E5ECF6",
           "showlakes": true,
           "showland": true,
           "subunitcolor": "white"
          },
          "hoverlabel": {
           "align": "left"
          },
          "hovermode": "closest",
          "mapbox": {
           "style": "light"
          },
          "paper_bgcolor": "white",
          "plot_bgcolor": "#E5ECF6",
          "polar": {
           "angularaxis": {
            "gridcolor": "white",
            "linecolor": "white",
            "ticks": ""
           },
           "bgcolor": "#E5ECF6",
           "radialaxis": {
            "gridcolor": "white",
            "linecolor": "white",
            "ticks": ""
           }
          },
          "scene": {
           "xaxis": {
            "backgroundcolor": "#E5ECF6",
            "gridcolor": "white",
            "gridwidth": 2,
            "linecolor": "white",
            "showbackground": true,
            "ticks": "",
            "zerolinecolor": "white"
           },
           "yaxis": {
            "backgroundcolor": "#E5ECF6",
            "gridcolor": "white",
            "gridwidth": 2,
            "linecolor": "white",
            "showbackground": true,
            "ticks": "",
            "zerolinecolor": "white"
           },
           "zaxis": {
            "backgroundcolor": "#E5ECF6",
            "gridcolor": "white",
            "gridwidth": 2,
            "linecolor": "white",
            "showbackground": true,
            "ticks": "",
            "zerolinecolor": "white"
           }
          },
          "shapedefaults": {
           "line": {
            "color": "#2a3f5f"
           }
          },
          "ternary": {
           "aaxis": {
            "gridcolor": "white",
            "linecolor": "white",
            "ticks": ""
           },
           "baxis": {
            "gridcolor": "white",
            "linecolor": "white",
            "ticks": ""
           },
           "bgcolor": "#E5ECF6",
           "caxis": {
            "gridcolor": "white",
            "linecolor": "white",
            "ticks": ""
           }
          },
          "title": {
           "x": 0.05
          },
          "xaxis": {
           "automargin": true,
           "gridcolor": "white",
           "linecolor": "white",
           "ticks": "",
           "title": {
            "standoff": 15
           },
           "zerolinecolor": "white",
           "zerolinewidth": 2
          },
          "yaxis": {
           "automargin": true,
           "gridcolor": "white",
           "linecolor": "white",
           "ticks": "",
           "title": {
            "standoff": 15
           },
           "zerolinecolor": "white",
           "zerolinewidth": 2
          }
         }
        },
        "title": {
         "text": "Actual and Predicted Wheel Speeds, Recording 2, Trial 0"
        },
        "xaxis": {
         "title": {
          "text": "Time"
         }
        },
        "yaxis": {
         "title": {
          "text": "Value"
         }
        }
       }
      }
     },
     "metadata": {},
     "output_type": "display_data"
    },
    {
     "name": "stdout",
     "output_type": "stream",
     "text": [
      "Training Evaluation, Recording 2, Loss 0.00063310656696558\n"
     ]
    }
   ],
   "source": [
    "for recording in range(PLOT_RECORDINGS):\n",
    "    loss_item = evaluate_recording(recording, X_train[recording], Y_train[recording], neural_network_model, loss_fn, plot_num=1)\n",
    "    print(f'Training Evaluation, Recording {recording}, Loss {loss_item}')"
   ]
  },
  {
   "cell_type": "code",
   "execution_count": 96,
   "metadata": {},
   "outputs": [
    {
     "data": {
      "application/vnd.plotly.v1+json": {
       "config": {
        "plotlyServerURL": "https://plot.ly"
       },
       "data": [
        {
         "name": "Actual",
         "type": "scatter",
         "y": [
          0.010206673294305801,
          0.01375256571918726,
          0.021404631435871124,
          0.03417513519525528,
          0.05327616259455681,
          0.0797441154718399,
          0.11401934176683426,
          0.1555785834789276,
          0.20276834070682526,
          0.25295040011405945,
          0.30286872386932373,
          0.34916815161705017,
          0.38886186480522156,
          0.41956910490989685,
          0.4396032392978668,
          0.44798314571380615,
          0.4445313811302185,
          0.43013522028923035,
          0.40705204010009766,
          0.3790448009967804,
          0.3511321246623993,
          0.3289782404899597,
          0.3178739845752716,
          0.3217449188232422,
          0.34233763813972473,
          0.3787948787212372,
          0.4276919960975647,
          0.4835081696510315,
          0.5395236015319824,
          0.5887993574142456,
          0.6252738237380981,
          0.6446930170059204,
          0.6452412605285645,
          0.6277722716331482,
          0.5956381559371948,
          0.5541350245475769,
          0.509700357913971,
          0.46902036666870117,
          0.43809545040130615,
          0.4214273691177368
         ]
        },
        {
         "name": "Predicted",
         "type": "scatter",
         "y": [
          0.01259605586528778,
          0.006078056991100311,
          0.01253359206020832,
          0.016286440193653107,
          0.04214619845151901,
          0.048128675669431686,
          0.08012796193361282,
          0.11878153681755066,
          0.16767118871212006,
          0.20961560308933258,
          0.25301408767700195,
          0.2893575429916382,
          0.33990463614463806,
          0.35391056537628174,
          0.38450583815574646,
          0.3740815222263336,
          0.3951246440410614,
          0.3629557490348816,
          0.34474849700927734,
          0.3482356667518616,
          0.32264089584350586,
          0.28351980447769165,
          0.2826506495475769,
          0.26079028844833374,
          0.24856318533420563,
          0.23230355978012085,
          0.20317336916923523,
          0.1872773915529251,
          0.18521901965141296,
          0.16326501965522766,
          0.14933554828166962,
          0.11944809556007385,
          0.11334609985351562,
          0.08747569471597672,
          0.0651141032576561,
          0.059244148433208466,
          0.05136910825967789,
          0.0372246690094471,
          0.03174534812569618,
          0.026298783719539642
         ]
        }
       ],
       "layout": {
        "template": {
         "data": {
          "bar": [
           {
            "error_x": {
             "color": "#2a3f5f"
            },
            "error_y": {
             "color": "#2a3f5f"
            },
            "marker": {
             "line": {
              "color": "#E5ECF6",
              "width": 0.5
             },
             "pattern": {
              "fillmode": "overlay",
              "size": 10,
              "solidity": 0.2
             }
            },
            "type": "bar"
           }
          ],
          "barpolar": [
           {
            "marker": {
             "line": {
              "color": "#E5ECF6",
              "width": 0.5
             },
             "pattern": {
              "fillmode": "overlay",
              "size": 10,
              "solidity": 0.2
             }
            },
            "type": "barpolar"
           }
          ],
          "carpet": [
           {
            "aaxis": {
             "endlinecolor": "#2a3f5f",
             "gridcolor": "white",
             "linecolor": "white",
             "minorgridcolor": "white",
             "startlinecolor": "#2a3f5f"
            },
            "baxis": {
             "endlinecolor": "#2a3f5f",
             "gridcolor": "white",
             "linecolor": "white",
             "minorgridcolor": "white",
             "startlinecolor": "#2a3f5f"
            },
            "type": "carpet"
           }
          ],
          "choropleth": [
           {
            "colorbar": {
             "outlinewidth": 0,
             "ticks": ""
            },
            "type": "choropleth"
           }
          ],
          "contour": [
           {
            "colorbar": {
             "outlinewidth": 0,
             "ticks": ""
            },
            "colorscale": [
             [
              0,
              "#0d0887"
             ],
             [
              0.1111111111111111,
              "#46039f"
             ],
             [
              0.2222222222222222,
              "#7201a8"
             ],
             [
              0.3333333333333333,
              "#9c179e"
             ],
             [
              0.4444444444444444,
              "#bd3786"
             ],
             [
              0.5555555555555556,
              "#d8576b"
             ],
             [
              0.6666666666666666,
              "#ed7953"
             ],
             [
              0.7777777777777778,
              "#fb9f3a"
             ],
             [
              0.8888888888888888,
              "#fdca26"
             ],
             [
              1,
              "#f0f921"
             ]
            ],
            "type": "contour"
           }
          ],
          "contourcarpet": [
           {
            "colorbar": {
             "outlinewidth": 0,
             "ticks": ""
            },
            "type": "contourcarpet"
           }
          ],
          "heatmap": [
           {
            "colorbar": {
             "outlinewidth": 0,
             "ticks": ""
            },
            "colorscale": [
             [
              0,
              "#0d0887"
             ],
             [
              0.1111111111111111,
              "#46039f"
             ],
             [
              0.2222222222222222,
              "#7201a8"
             ],
             [
              0.3333333333333333,
              "#9c179e"
             ],
             [
              0.4444444444444444,
              "#bd3786"
             ],
             [
              0.5555555555555556,
              "#d8576b"
             ],
             [
              0.6666666666666666,
              "#ed7953"
             ],
             [
              0.7777777777777778,
              "#fb9f3a"
             ],
             [
              0.8888888888888888,
              "#fdca26"
             ],
             [
              1,
              "#f0f921"
             ]
            ],
            "type": "heatmap"
           }
          ],
          "heatmapgl": [
           {
            "colorbar": {
             "outlinewidth": 0,
             "ticks": ""
            },
            "colorscale": [
             [
              0,
              "#0d0887"
             ],
             [
              0.1111111111111111,
              "#46039f"
             ],
             [
              0.2222222222222222,
              "#7201a8"
             ],
             [
              0.3333333333333333,
              "#9c179e"
             ],
             [
              0.4444444444444444,
              "#bd3786"
             ],
             [
              0.5555555555555556,
              "#d8576b"
             ],
             [
              0.6666666666666666,
              "#ed7953"
             ],
             [
              0.7777777777777778,
              "#fb9f3a"
             ],
             [
              0.8888888888888888,
              "#fdca26"
             ],
             [
              1,
              "#f0f921"
             ]
            ],
            "type": "heatmapgl"
           }
          ],
          "histogram": [
           {
            "marker": {
             "pattern": {
              "fillmode": "overlay",
              "size": 10,
              "solidity": 0.2
             }
            },
            "type": "histogram"
           }
          ],
          "histogram2d": [
           {
            "colorbar": {
             "outlinewidth": 0,
             "ticks": ""
            },
            "colorscale": [
             [
              0,
              "#0d0887"
             ],
             [
              0.1111111111111111,
              "#46039f"
             ],
             [
              0.2222222222222222,
              "#7201a8"
             ],
             [
              0.3333333333333333,
              "#9c179e"
             ],
             [
              0.4444444444444444,
              "#bd3786"
             ],
             [
              0.5555555555555556,
              "#d8576b"
             ],
             [
              0.6666666666666666,
              "#ed7953"
             ],
             [
              0.7777777777777778,
              "#fb9f3a"
             ],
             [
              0.8888888888888888,
              "#fdca26"
             ],
             [
              1,
              "#f0f921"
             ]
            ],
            "type": "histogram2d"
           }
          ],
          "histogram2dcontour": [
           {
            "colorbar": {
             "outlinewidth": 0,
             "ticks": ""
            },
            "colorscale": [
             [
              0,
              "#0d0887"
             ],
             [
              0.1111111111111111,
              "#46039f"
             ],
             [
              0.2222222222222222,
              "#7201a8"
             ],
             [
              0.3333333333333333,
              "#9c179e"
             ],
             [
              0.4444444444444444,
              "#bd3786"
             ],
             [
              0.5555555555555556,
              "#d8576b"
             ],
             [
              0.6666666666666666,
              "#ed7953"
             ],
             [
              0.7777777777777778,
              "#fb9f3a"
             ],
             [
              0.8888888888888888,
              "#fdca26"
             ],
             [
              1,
              "#f0f921"
             ]
            ],
            "type": "histogram2dcontour"
           }
          ],
          "mesh3d": [
           {
            "colorbar": {
             "outlinewidth": 0,
             "ticks": ""
            },
            "type": "mesh3d"
           }
          ],
          "parcoords": [
           {
            "line": {
             "colorbar": {
              "outlinewidth": 0,
              "ticks": ""
             }
            },
            "type": "parcoords"
           }
          ],
          "pie": [
           {
            "automargin": true,
            "type": "pie"
           }
          ],
          "scatter": [
           {
            "fillpattern": {
             "fillmode": "overlay",
             "size": 10,
             "solidity": 0.2
            },
            "type": "scatter"
           }
          ],
          "scatter3d": [
           {
            "line": {
             "colorbar": {
              "outlinewidth": 0,
              "ticks": ""
             }
            },
            "marker": {
             "colorbar": {
              "outlinewidth": 0,
              "ticks": ""
             }
            },
            "type": "scatter3d"
           }
          ],
          "scattercarpet": [
           {
            "marker": {
             "colorbar": {
              "outlinewidth": 0,
              "ticks": ""
             }
            },
            "type": "scattercarpet"
           }
          ],
          "scattergeo": [
           {
            "marker": {
             "colorbar": {
              "outlinewidth": 0,
              "ticks": ""
             }
            },
            "type": "scattergeo"
           }
          ],
          "scattergl": [
           {
            "marker": {
             "colorbar": {
              "outlinewidth": 0,
              "ticks": ""
             }
            },
            "type": "scattergl"
           }
          ],
          "scattermapbox": [
           {
            "marker": {
             "colorbar": {
              "outlinewidth": 0,
              "ticks": ""
             }
            },
            "type": "scattermapbox"
           }
          ],
          "scatterpolar": [
           {
            "marker": {
             "colorbar": {
              "outlinewidth": 0,
              "ticks": ""
             }
            },
            "type": "scatterpolar"
           }
          ],
          "scatterpolargl": [
           {
            "marker": {
             "colorbar": {
              "outlinewidth": 0,
              "ticks": ""
             }
            },
            "type": "scatterpolargl"
           }
          ],
          "scatterternary": [
           {
            "marker": {
             "colorbar": {
              "outlinewidth": 0,
              "ticks": ""
             }
            },
            "type": "scatterternary"
           }
          ],
          "surface": [
           {
            "colorbar": {
             "outlinewidth": 0,
             "ticks": ""
            },
            "colorscale": [
             [
              0,
              "#0d0887"
             ],
             [
              0.1111111111111111,
              "#46039f"
             ],
             [
              0.2222222222222222,
              "#7201a8"
             ],
             [
              0.3333333333333333,
              "#9c179e"
             ],
             [
              0.4444444444444444,
              "#bd3786"
             ],
             [
              0.5555555555555556,
              "#d8576b"
             ],
             [
              0.6666666666666666,
              "#ed7953"
             ],
             [
              0.7777777777777778,
              "#fb9f3a"
             ],
             [
              0.8888888888888888,
              "#fdca26"
             ],
             [
              1,
              "#f0f921"
             ]
            ],
            "type": "surface"
           }
          ],
          "table": [
           {
            "cells": {
             "fill": {
              "color": "#EBF0F8"
             },
             "line": {
              "color": "white"
             }
            },
            "header": {
             "fill": {
              "color": "#C8D4E3"
             },
             "line": {
              "color": "white"
             }
            },
            "type": "table"
           }
          ]
         },
         "layout": {
          "annotationdefaults": {
           "arrowcolor": "#2a3f5f",
           "arrowhead": 0,
           "arrowwidth": 1
          },
          "autotypenumbers": "strict",
          "coloraxis": {
           "colorbar": {
            "outlinewidth": 0,
            "ticks": ""
           }
          },
          "colorscale": {
           "diverging": [
            [
             0,
             "#8e0152"
            ],
            [
             0.1,
             "#c51b7d"
            ],
            [
             0.2,
             "#de77ae"
            ],
            [
             0.3,
             "#f1b6da"
            ],
            [
             0.4,
             "#fde0ef"
            ],
            [
             0.5,
             "#f7f7f7"
            ],
            [
             0.6,
             "#e6f5d0"
            ],
            [
             0.7,
             "#b8e186"
            ],
            [
             0.8,
             "#7fbc41"
            ],
            [
             0.9,
             "#4d9221"
            ],
            [
             1,
             "#276419"
            ]
           ],
           "sequential": [
            [
             0,
             "#0d0887"
            ],
            [
             0.1111111111111111,
             "#46039f"
            ],
            [
             0.2222222222222222,
             "#7201a8"
            ],
            [
             0.3333333333333333,
             "#9c179e"
            ],
            [
             0.4444444444444444,
             "#bd3786"
            ],
            [
             0.5555555555555556,
             "#d8576b"
            ],
            [
             0.6666666666666666,
             "#ed7953"
            ],
            [
             0.7777777777777778,
             "#fb9f3a"
            ],
            [
             0.8888888888888888,
             "#fdca26"
            ],
            [
             1,
             "#f0f921"
            ]
           ],
           "sequentialminus": [
            [
             0,
             "#0d0887"
            ],
            [
             0.1111111111111111,
             "#46039f"
            ],
            [
             0.2222222222222222,
             "#7201a8"
            ],
            [
             0.3333333333333333,
             "#9c179e"
            ],
            [
             0.4444444444444444,
             "#bd3786"
            ],
            [
             0.5555555555555556,
             "#d8576b"
            ],
            [
             0.6666666666666666,
             "#ed7953"
            ],
            [
             0.7777777777777778,
             "#fb9f3a"
            ],
            [
             0.8888888888888888,
             "#fdca26"
            ],
            [
             1,
             "#f0f921"
            ]
           ]
          },
          "colorway": [
           "#636efa",
           "#EF553B",
           "#00cc96",
           "#ab63fa",
           "#FFA15A",
           "#19d3f3",
           "#FF6692",
           "#B6E880",
           "#FF97FF",
           "#FECB52"
          ],
          "font": {
           "color": "#2a3f5f"
          },
          "geo": {
           "bgcolor": "white",
           "lakecolor": "white",
           "landcolor": "#E5ECF6",
           "showlakes": true,
           "showland": true,
           "subunitcolor": "white"
          },
          "hoverlabel": {
           "align": "left"
          },
          "hovermode": "closest",
          "mapbox": {
           "style": "light"
          },
          "paper_bgcolor": "white",
          "plot_bgcolor": "#E5ECF6",
          "polar": {
           "angularaxis": {
            "gridcolor": "white",
            "linecolor": "white",
            "ticks": ""
           },
           "bgcolor": "#E5ECF6",
           "radialaxis": {
            "gridcolor": "white",
            "linecolor": "white",
            "ticks": ""
           }
          },
          "scene": {
           "xaxis": {
            "backgroundcolor": "#E5ECF6",
            "gridcolor": "white",
            "gridwidth": 2,
            "linecolor": "white",
            "showbackground": true,
            "ticks": "",
            "zerolinecolor": "white"
           },
           "yaxis": {
            "backgroundcolor": "#E5ECF6",
            "gridcolor": "white",
            "gridwidth": 2,
            "linecolor": "white",
            "showbackground": true,
            "ticks": "",
            "zerolinecolor": "white"
           },
           "zaxis": {
            "backgroundcolor": "#E5ECF6",
            "gridcolor": "white",
            "gridwidth": 2,
            "linecolor": "white",
            "showbackground": true,
            "ticks": "",
            "zerolinecolor": "white"
           }
          },
          "shapedefaults": {
           "line": {
            "color": "#2a3f5f"
           }
          },
          "ternary": {
           "aaxis": {
            "gridcolor": "white",
            "linecolor": "white",
            "ticks": ""
           },
           "baxis": {
            "gridcolor": "white",
            "linecolor": "white",
            "ticks": ""
           },
           "bgcolor": "#E5ECF6",
           "caxis": {
            "gridcolor": "white",
            "linecolor": "white",
            "ticks": ""
           }
          },
          "title": {
           "x": 0.05
          },
          "xaxis": {
           "automargin": true,
           "gridcolor": "white",
           "linecolor": "white",
           "ticks": "",
           "title": {
            "standoff": 15
           },
           "zerolinecolor": "white",
           "zerolinewidth": 2
          },
          "yaxis": {
           "automargin": true,
           "gridcolor": "white",
           "linecolor": "white",
           "ticks": "",
           "title": {
            "standoff": 15
           },
           "zerolinecolor": "white",
           "zerolinewidth": 2
          }
         }
        },
        "title": {
         "text": "Actual and Predicted Wheel Speeds, Recording 0, Trial 0"
        },
        "xaxis": {
         "title": {
          "text": "Time"
         }
        },
        "yaxis": {
         "title": {
          "text": "Value"
         }
        }
       }
      }
     },
     "metadata": {},
     "output_type": "display_data"
    },
    {
     "data": {
      "application/vnd.plotly.v1+json": {
       "config": {
        "plotlyServerURL": "https://plot.ly"
       },
       "data": [
        {
         "name": "Actual",
         "type": "scatter",
         "y": [
          0.00271339132450521,
          0.00419591972604394,
          0.007634743116796017,
          0.014003301970660686,
          0.024760494008660316,
          0.041753243654966354,
          0.06702794134616852,
          0.10244004428386688,
          0.14904965460300446,
          0.20654362440109253,
          0.2727942168712616,
          0.3437584638595581,
          0.4138796329498291,
          0.4769868552684784,
          0.5274810194969177,
          0.5614593029022217,
          0.5774493217468262,
          0.5765090584754944,
          0.5616909265518188,
          0.5370702743530273,
          0.5066611766815186,
          0.47356027364730835,
          0.4395410716533661,
          0.4051428437232971,
          0.3701360821723938,
          0.334126353263855,
          0.297054648399353,
          0.25943735241889954,
          0.22230954468250275,
          0.18695758283138275,
          0.15457642078399658,
          0.12603871524333954,
          0.1017453670501709,
          0.08166146278381348,
          0.06546206772327423,
          0.05270012468099594,
          0.042940497398376465,
          0.03584425151348114,
          0.031200719997286797,
          0.02890901453793049
         ]
        },
        {
         "name": "Predicted",
         "type": "scatter",
         "y": [
          0.005346989259123802,
          0.010950598865747452,
          0.004776261746883392,
          0.013755963183939457,
          0.026419686153531075,
          0.033106621354818344,
          0.05218883603811264,
          0.06206927075982094,
          0.0728638619184494,
          0.0954958125948906,
          0.1143839955329895,
          0.13025495409965515,
          0.1600537896156311,
          0.18238763511180878,
          0.1862996220588684,
          0.20881599187850952,
          0.22174590826034546,
          0.22166013717651367,
          0.23154328763484955,
          0.2488146424293518,
          0.25563764572143555,
          0.24821209907531738,
          0.27123385667800903,
          0.2444392591714859,
          0.24504072964191437,
          0.23611336946487427,
          0.22343948483467102,
          0.20627689361572266,
          0.1943942904472351,
          0.1777024269104004,
          0.14837633073329926,
          0.1320481151342392,
          0.11774095147848129,
          0.1023644506931305,
          0.08279018104076385,
          0.07907968759536743,
          0.06301246583461761,
          0.054996389895677567,
          0.06322002410888672,
          0.04392797872424126
         ]
        }
       ],
       "layout": {
        "template": {
         "data": {
          "bar": [
           {
            "error_x": {
             "color": "#2a3f5f"
            },
            "error_y": {
             "color": "#2a3f5f"
            },
            "marker": {
             "line": {
              "color": "#E5ECF6",
              "width": 0.5
             },
             "pattern": {
              "fillmode": "overlay",
              "size": 10,
              "solidity": 0.2
             }
            },
            "type": "bar"
           }
          ],
          "barpolar": [
           {
            "marker": {
             "line": {
              "color": "#E5ECF6",
              "width": 0.5
             },
             "pattern": {
              "fillmode": "overlay",
              "size": 10,
              "solidity": 0.2
             }
            },
            "type": "barpolar"
           }
          ],
          "carpet": [
           {
            "aaxis": {
             "endlinecolor": "#2a3f5f",
             "gridcolor": "white",
             "linecolor": "white",
             "minorgridcolor": "white",
             "startlinecolor": "#2a3f5f"
            },
            "baxis": {
             "endlinecolor": "#2a3f5f",
             "gridcolor": "white",
             "linecolor": "white",
             "minorgridcolor": "white",
             "startlinecolor": "#2a3f5f"
            },
            "type": "carpet"
           }
          ],
          "choropleth": [
           {
            "colorbar": {
             "outlinewidth": 0,
             "ticks": ""
            },
            "type": "choropleth"
           }
          ],
          "contour": [
           {
            "colorbar": {
             "outlinewidth": 0,
             "ticks": ""
            },
            "colorscale": [
             [
              0,
              "#0d0887"
             ],
             [
              0.1111111111111111,
              "#46039f"
             ],
             [
              0.2222222222222222,
              "#7201a8"
             ],
             [
              0.3333333333333333,
              "#9c179e"
             ],
             [
              0.4444444444444444,
              "#bd3786"
             ],
             [
              0.5555555555555556,
              "#d8576b"
             ],
             [
              0.6666666666666666,
              "#ed7953"
             ],
             [
              0.7777777777777778,
              "#fb9f3a"
             ],
             [
              0.8888888888888888,
              "#fdca26"
             ],
             [
              1,
              "#f0f921"
             ]
            ],
            "type": "contour"
           }
          ],
          "contourcarpet": [
           {
            "colorbar": {
             "outlinewidth": 0,
             "ticks": ""
            },
            "type": "contourcarpet"
           }
          ],
          "heatmap": [
           {
            "colorbar": {
             "outlinewidth": 0,
             "ticks": ""
            },
            "colorscale": [
             [
              0,
              "#0d0887"
             ],
             [
              0.1111111111111111,
              "#46039f"
             ],
             [
              0.2222222222222222,
              "#7201a8"
             ],
             [
              0.3333333333333333,
              "#9c179e"
             ],
             [
              0.4444444444444444,
              "#bd3786"
             ],
             [
              0.5555555555555556,
              "#d8576b"
             ],
             [
              0.6666666666666666,
              "#ed7953"
             ],
             [
              0.7777777777777778,
              "#fb9f3a"
             ],
             [
              0.8888888888888888,
              "#fdca26"
             ],
             [
              1,
              "#f0f921"
             ]
            ],
            "type": "heatmap"
           }
          ],
          "heatmapgl": [
           {
            "colorbar": {
             "outlinewidth": 0,
             "ticks": ""
            },
            "colorscale": [
             [
              0,
              "#0d0887"
             ],
             [
              0.1111111111111111,
              "#46039f"
             ],
             [
              0.2222222222222222,
              "#7201a8"
             ],
             [
              0.3333333333333333,
              "#9c179e"
             ],
             [
              0.4444444444444444,
              "#bd3786"
             ],
             [
              0.5555555555555556,
              "#d8576b"
             ],
             [
              0.6666666666666666,
              "#ed7953"
             ],
             [
              0.7777777777777778,
              "#fb9f3a"
             ],
             [
              0.8888888888888888,
              "#fdca26"
             ],
             [
              1,
              "#f0f921"
             ]
            ],
            "type": "heatmapgl"
           }
          ],
          "histogram": [
           {
            "marker": {
             "pattern": {
              "fillmode": "overlay",
              "size": 10,
              "solidity": 0.2
             }
            },
            "type": "histogram"
           }
          ],
          "histogram2d": [
           {
            "colorbar": {
             "outlinewidth": 0,
             "ticks": ""
            },
            "colorscale": [
             [
              0,
              "#0d0887"
             ],
             [
              0.1111111111111111,
              "#46039f"
             ],
             [
              0.2222222222222222,
              "#7201a8"
             ],
             [
              0.3333333333333333,
              "#9c179e"
             ],
             [
              0.4444444444444444,
              "#bd3786"
             ],
             [
              0.5555555555555556,
              "#d8576b"
             ],
             [
              0.6666666666666666,
              "#ed7953"
             ],
             [
              0.7777777777777778,
              "#fb9f3a"
             ],
             [
              0.8888888888888888,
              "#fdca26"
             ],
             [
              1,
              "#f0f921"
             ]
            ],
            "type": "histogram2d"
           }
          ],
          "histogram2dcontour": [
           {
            "colorbar": {
             "outlinewidth": 0,
             "ticks": ""
            },
            "colorscale": [
             [
              0,
              "#0d0887"
             ],
             [
              0.1111111111111111,
              "#46039f"
             ],
             [
              0.2222222222222222,
              "#7201a8"
             ],
             [
              0.3333333333333333,
              "#9c179e"
             ],
             [
              0.4444444444444444,
              "#bd3786"
             ],
             [
              0.5555555555555556,
              "#d8576b"
             ],
             [
              0.6666666666666666,
              "#ed7953"
             ],
             [
              0.7777777777777778,
              "#fb9f3a"
             ],
             [
              0.8888888888888888,
              "#fdca26"
             ],
             [
              1,
              "#f0f921"
             ]
            ],
            "type": "histogram2dcontour"
           }
          ],
          "mesh3d": [
           {
            "colorbar": {
             "outlinewidth": 0,
             "ticks": ""
            },
            "type": "mesh3d"
           }
          ],
          "parcoords": [
           {
            "line": {
             "colorbar": {
              "outlinewidth": 0,
              "ticks": ""
             }
            },
            "type": "parcoords"
           }
          ],
          "pie": [
           {
            "automargin": true,
            "type": "pie"
           }
          ],
          "scatter": [
           {
            "fillpattern": {
             "fillmode": "overlay",
             "size": 10,
             "solidity": 0.2
            },
            "type": "scatter"
           }
          ],
          "scatter3d": [
           {
            "line": {
             "colorbar": {
              "outlinewidth": 0,
              "ticks": ""
             }
            },
            "marker": {
             "colorbar": {
              "outlinewidth": 0,
              "ticks": ""
             }
            },
            "type": "scatter3d"
           }
          ],
          "scattercarpet": [
           {
            "marker": {
             "colorbar": {
              "outlinewidth": 0,
              "ticks": ""
             }
            },
            "type": "scattercarpet"
           }
          ],
          "scattergeo": [
           {
            "marker": {
             "colorbar": {
              "outlinewidth": 0,
              "ticks": ""
             }
            },
            "type": "scattergeo"
           }
          ],
          "scattergl": [
           {
            "marker": {
             "colorbar": {
              "outlinewidth": 0,
              "ticks": ""
             }
            },
            "type": "scattergl"
           }
          ],
          "scattermapbox": [
           {
            "marker": {
             "colorbar": {
              "outlinewidth": 0,
              "ticks": ""
             }
            },
            "type": "scattermapbox"
           }
          ],
          "scatterpolar": [
           {
            "marker": {
             "colorbar": {
              "outlinewidth": 0,
              "ticks": ""
             }
            },
            "type": "scatterpolar"
           }
          ],
          "scatterpolargl": [
           {
            "marker": {
             "colorbar": {
              "outlinewidth": 0,
              "ticks": ""
             }
            },
            "type": "scatterpolargl"
           }
          ],
          "scatterternary": [
           {
            "marker": {
             "colorbar": {
              "outlinewidth": 0,
              "ticks": ""
             }
            },
            "type": "scatterternary"
           }
          ],
          "surface": [
           {
            "colorbar": {
             "outlinewidth": 0,
             "ticks": ""
            },
            "colorscale": [
             [
              0,
              "#0d0887"
             ],
             [
              0.1111111111111111,
              "#46039f"
             ],
             [
              0.2222222222222222,
              "#7201a8"
             ],
             [
              0.3333333333333333,
              "#9c179e"
             ],
             [
              0.4444444444444444,
              "#bd3786"
             ],
             [
              0.5555555555555556,
              "#d8576b"
             ],
             [
              0.6666666666666666,
              "#ed7953"
             ],
             [
              0.7777777777777778,
              "#fb9f3a"
             ],
             [
              0.8888888888888888,
              "#fdca26"
             ],
             [
              1,
              "#f0f921"
             ]
            ],
            "type": "surface"
           }
          ],
          "table": [
           {
            "cells": {
             "fill": {
              "color": "#EBF0F8"
             },
             "line": {
              "color": "white"
             }
            },
            "header": {
             "fill": {
              "color": "#C8D4E3"
             },
             "line": {
              "color": "white"
             }
            },
            "type": "table"
           }
          ]
         },
         "layout": {
          "annotationdefaults": {
           "arrowcolor": "#2a3f5f",
           "arrowhead": 0,
           "arrowwidth": 1
          },
          "autotypenumbers": "strict",
          "coloraxis": {
           "colorbar": {
            "outlinewidth": 0,
            "ticks": ""
           }
          },
          "colorscale": {
           "diverging": [
            [
             0,
             "#8e0152"
            ],
            [
             0.1,
             "#c51b7d"
            ],
            [
             0.2,
             "#de77ae"
            ],
            [
             0.3,
             "#f1b6da"
            ],
            [
             0.4,
             "#fde0ef"
            ],
            [
             0.5,
             "#f7f7f7"
            ],
            [
             0.6,
             "#e6f5d0"
            ],
            [
             0.7,
             "#b8e186"
            ],
            [
             0.8,
             "#7fbc41"
            ],
            [
             0.9,
             "#4d9221"
            ],
            [
             1,
             "#276419"
            ]
           ],
           "sequential": [
            [
             0,
             "#0d0887"
            ],
            [
             0.1111111111111111,
             "#46039f"
            ],
            [
             0.2222222222222222,
             "#7201a8"
            ],
            [
             0.3333333333333333,
             "#9c179e"
            ],
            [
             0.4444444444444444,
             "#bd3786"
            ],
            [
             0.5555555555555556,
             "#d8576b"
            ],
            [
             0.6666666666666666,
             "#ed7953"
            ],
            [
             0.7777777777777778,
             "#fb9f3a"
            ],
            [
             0.8888888888888888,
             "#fdca26"
            ],
            [
             1,
             "#f0f921"
            ]
           ],
           "sequentialminus": [
            [
             0,
             "#0d0887"
            ],
            [
             0.1111111111111111,
             "#46039f"
            ],
            [
             0.2222222222222222,
             "#7201a8"
            ],
            [
             0.3333333333333333,
             "#9c179e"
            ],
            [
             0.4444444444444444,
             "#bd3786"
            ],
            [
             0.5555555555555556,
             "#d8576b"
            ],
            [
             0.6666666666666666,
             "#ed7953"
            ],
            [
             0.7777777777777778,
             "#fb9f3a"
            ],
            [
             0.8888888888888888,
             "#fdca26"
            ],
            [
             1,
             "#f0f921"
            ]
           ]
          },
          "colorway": [
           "#636efa",
           "#EF553B",
           "#00cc96",
           "#ab63fa",
           "#FFA15A",
           "#19d3f3",
           "#FF6692",
           "#B6E880",
           "#FF97FF",
           "#FECB52"
          ],
          "font": {
           "color": "#2a3f5f"
          },
          "geo": {
           "bgcolor": "white",
           "lakecolor": "white",
           "landcolor": "#E5ECF6",
           "showlakes": true,
           "showland": true,
           "subunitcolor": "white"
          },
          "hoverlabel": {
           "align": "left"
          },
          "hovermode": "closest",
          "mapbox": {
           "style": "light"
          },
          "paper_bgcolor": "white",
          "plot_bgcolor": "#E5ECF6",
          "polar": {
           "angularaxis": {
            "gridcolor": "white",
            "linecolor": "white",
            "ticks": ""
           },
           "bgcolor": "#E5ECF6",
           "radialaxis": {
            "gridcolor": "white",
            "linecolor": "white",
            "ticks": ""
           }
          },
          "scene": {
           "xaxis": {
            "backgroundcolor": "#E5ECF6",
            "gridcolor": "white",
            "gridwidth": 2,
            "linecolor": "white",
            "showbackground": true,
            "ticks": "",
            "zerolinecolor": "white"
           },
           "yaxis": {
            "backgroundcolor": "#E5ECF6",
            "gridcolor": "white",
            "gridwidth": 2,
            "linecolor": "white",
            "showbackground": true,
            "ticks": "",
            "zerolinecolor": "white"
           },
           "zaxis": {
            "backgroundcolor": "#E5ECF6",
            "gridcolor": "white",
            "gridwidth": 2,
            "linecolor": "white",
            "showbackground": true,
            "ticks": "",
            "zerolinecolor": "white"
           }
          },
          "shapedefaults": {
           "line": {
            "color": "#2a3f5f"
           }
          },
          "ternary": {
           "aaxis": {
            "gridcolor": "white",
            "linecolor": "white",
            "ticks": ""
           },
           "baxis": {
            "gridcolor": "white",
            "linecolor": "white",
            "ticks": ""
           },
           "bgcolor": "#E5ECF6",
           "caxis": {
            "gridcolor": "white",
            "linecolor": "white",
            "ticks": ""
           }
          },
          "title": {
           "x": 0.05
          },
          "xaxis": {
           "automargin": true,
           "gridcolor": "white",
           "linecolor": "white",
           "ticks": "",
           "title": {
            "standoff": 15
           },
           "zerolinecolor": "white",
           "zerolinewidth": 2
          },
          "yaxis": {
           "automargin": true,
           "gridcolor": "white",
           "linecolor": "white",
           "ticks": "",
           "title": {
            "standoff": 15
           },
           "zerolinecolor": "white",
           "zerolinewidth": 2
          }
         }
        },
        "title": {
         "text": "Actual and Predicted Wheel Speeds, Recording 0, Trial 1"
        },
        "xaxis": {
         "title": {
          "text": "Time"
         }
        },
        "yaxis": {
         "title": {
          "text": "Value"
         }
        }
       }
      }
     },
     "metadata": {},
     "output_type": "display_data"
    },
    {
     "name": "stdout",
     "output_type": "stream",
     "text": [
      "Testing Evaluation, Recording 0, Loss 0.02064559981226921\n"
     ]
    },
    {
     "data": {
      "application/vnd.plotly.v1+json": {
       "config": {
        "plotlyServerURL": "https://plot.ly"
       },
       "data": [
        {
         "name": "Actual",
         "type": "scatter",
         "y": [
          0.003465794725343585,
          0.004064940381795168,
          0.005328592378646135,
          0.0073995087295770645,
          0.010506581515073776,
          0.014960781671106815,
          0.021126743406057358,
          0.029350247234106064,
          0.039853017777204514,
          0.05262589827179909,
          0.06735900044441223,
          0.08344230055809021,
          0.10003943741321564,
          0.1162344291806221,
          0.1311907023191452,
          0.1442454755306244,
          0.15496514737606049,
          0.1631416529417038,
          0.16874955594539642,
          0.17196619510650635,
          0.17318527400493622,
          0.1730452924966812,
          0.1723925918340683,
          0.1721487194299698,
          0.17308729887008667,
          0.17559675872325897,
          0.17952436208724976,
          0.18417611718177795,
          0.18849582970142365,
          0.1913658082485199,
          0.1919364184141159,
          0.18983162939548492,
          0.18522755801677704,
          0.17873847484588623,
          0.17121772468090057,
          0.1635657548904419,
          0.15656982362270355,
          0.1508365273475647,
          0.14679394662380219,
          0.14470885694026947
         ]
        },
        {
         "name": "Predicted",
         "type": "scatter",
         "y": [
          0.011016295291483402,
          -0.0009652860462665558,
          0.025516696274280548,
          0.0019685556180775166,
          0.009604241698980331,
          0.03181222453713417,
          0.0338900052011013,
          0.057881809771060944,
          0.0767342671751976,
          0.07844556868076324,
          0.0872403085231781,
          0.14111626148223877,
          0.1345168650150299,
          0.16783124208450317,
          0.18589957058429718,
          0.21096549928188324,
          0.2116519808769226,
          0.2132568061351776,
          0.23444423079490662,
          0.2299121618270874,
          0.26037800312042236,
          0.263074666261673,
          0.26641005277633667,
          0.27810412645339966,
          0.2548680603504181,
          0.2609323263168335,
          0.26219236850738525,
          0.27039265632629395,
          0.2648426592350006,
          0.23133355379104614,
          0.2466917783021927,
          0.2046312391757965,
          0.20549213886260986,
          0.20520620048046112,
          0.17371231317520142,
          0.17104163765907288,
          0.1704106628894806,
          0.1289481371641159,
          0.16110897064208984,
          0.15466240048408508
         ]
        }
       ],
       "layout": {
        "template": {
         "data": {
          "bar": [
           {
            "error_x": {
             "color": "#2a3f5f"
            },
            "error_y": {
             "color": "#2a3f5f"
            },
            "marker": {
             "line": {
              "color": "#E5ECF6",
              "width": 0.5
             },
             "pattern": {
              "fillmode": "overlay",
              "size": 10,
              "solidity": 0.2
             }
            },
            "type": "bar"
           }
          ],
          "barpolar": [
           {
            "marker": {
             "line": {
              "color": "#E5ECF6",
              "width": 0.5
             },
             "pattern": {
              "fillmode": "overlay",
              "size": 10,
              "solidity": 0.2
             }
            },
            "type": "barpolar"
           }
          ],
          "carpet": [
           {
            "aaxis": {
             "endlinecolor": "#2a3f5f",
             "gridcolor": "white",
             "linecolor": "white",
             "minorgridcolor": "white",
             "startlinecolor": "#2a3f5f"
            },
            "baxis": {
             "endlinecolor": "#2a3f5f",
             "gridcolor": "white",
             "linecolor": "white",
             "minorgridcolor": "white",
             "startlinecolor": "#2a3f5f"
            },
            "type": "carpet"
           }
          ],
          "choropleth": [
           {
            "colorbar": {
             "outlinewidth": 0,
             "ticks": ""
            },
            "type": "choropleth"
           }
          ],
          "contour": [
           {
            "colorbar": {
             "outlinewidth": 0,
             "ticks": ""
            },
            "colorscale": [
             [
              0,
              "#0d0887"
             ],
             [
              0.1111111111111111,
              "#46039f"
             ],
             [
              0.2222222222222222,
              "#7201a8"
             ],
             [
              0.3333333333333333,
              "#9c179e"
             ],
             [
              0.4444444444444444,
              "#bd3786"
             ],
             [
              0.5555555555555556,
              "#d8576b"
             ],
             [
              0.6666666666666666,
              "#ed7953"
             ],
             [
              0.7777777777777778,
              "#fb9f3a"
             ],
             [
              0.8888888888888888,
              "#fdca26"
             ],
             [
              1,
              "#f0f921"
             ]
            ],
            "type": "contour"
           }
          ],
          "contourcarpet": [
           {
            "colorbar": {
             "outlinewidth": 0,
             "ticks": ""
            },
            "type": "contourcarpet"
           }
          ],
          "heatmap": [
           {
            "colorbar": {
             "outlinewidth": 0,
             "ticks": ""
            },
            "colorscale": [
             [
              0,
              "#0d0887"
             ],
             [
              0.1111111111111111,
              "#46039f"
             ],
             [
              0.2222222222222222,
              "#7201a8"
             ],
             [
              0.3333333333333333,
              "#9c179e"
             ],
             [
              0.4444444444444444,
              "#bd3786"
             ],
             [
              0.5555555555555556,
              "#d8576b"
             ],
             [
              0.6666666666666666,
              "#ed7953"
             ],
             [
              0.7777777777777778,
              "#fb9f3a"
             ],
             [
              0.8888888888888888,
              "#fdca26"
             ],
             [
              1,
              "#f0f921"
             ]
            ],
            "type": "heatmap"
           }
          ],
          "heatmapgl": [
           {
            "colorbar": {
             "outlinewidth": 0,
             "ticks": ""
            },
            "colorscale": [
             [
              0,
              "#0d0887"
             ],
             [
              0.1111111111111111,
              "#46039f"
             ],
             [
              0.2222222222222222,
              "#7201a8"
             ],
             [
              0.3333333333333333,
              "#9c179e"
             ],
             [
              0.4444444444444444,
              "#bd3786"
             ],
             [
              0.5555555555555556,
              "#d8576b"
             ],
             [
              0.6666666666666666,
              "#ed7953"
             ],
             [
              0.7777777777777778,
              "#fb9f3a"
             ],
             [
              0.8888888888888888,
              "#fdca26"
             ],
             [
              1,
              "#f0f921"
             ]
            ],
            "type": "heatmapgl"
           }
          ],
          "histogram": [
           {
            "marker": {
             "pattern": {
              "fillmode": "overlay",
              "size": 10,
              "solidity": 0.2
             }
            },
            "type": "histogram"
           }
          ],
          "histogram2d": [
           {
            "colorbar": {
             "outlinewidth": 0,
             "ticks": ""
            },
            "colorscale": [
             [
              0,
              "#0d0887"
             ],
             [
              0.1111111111111111,
              "#46039f"
             ],
             [
              0.2222222222222222,
              "#7201a8"
             ],
             [
              0.3333333333333333,
              "#9c179e"
             ],
             [
              0.4444444444444444,
              "#bd3786"
             ],
             [
              0.5555555555555556,
              "#d8576b"
             ],
             [
              0.6666666666666666,
              "#ed7953"
             ],
             [
              0.7777777777777778,
              "#fb9f3a"
             ],
             [
              0.8888888888888888,
              "#fdca26"
             ],
             [
              1,
              "#f0f921"
             ]
            ],
            "type": "histogram2d"
           }
          ],
          "histogram2dcontour": [
           {
            "colorbar": {
             "outlinewidth": 0,
             "ticks": ""
            },
            "colorscale": [
             [
              0,
              "#0d0887"
             ],
             [
              0.1111111111111111,
              "#46039f"
             ],
             [
              0.2222222222222222,
              "#7201a8"
             ],
             [
              0.3333333333333333,
              "#9c179e"
             ],
             [
              0.4444444444444444,
              "#bd3786"
             ],
             [
              0.5555555555555556,
              "#d8576b"
             ],
             [
              0.6666666666666666,
              "#ed7953"
             ],
             [
              0.7777777777777778,
              "#fb9f3a"
             ],
             [
              0.8888888888888888,
              "#fdca26"
             ],
             [
              1,
              "#f0f921"
             ]
            ],
            "type": "histogram2dcontour"
           }
          ],
          "mesh3d": [
           {
            "colorbar": {
             "outlinewidth": 0,
             "ticks": ""
            },
            "type": "mesh3d"
           }
          ],
          "parcoords": [
           {
            "line": {
             "colorbar": {
              "outlinewidth": 0,
              "ticks": ""
             }
            },
            "type": "parcoords"
           }
          ],
          "pie": [
           {
            "automargin": true,
            "type": "pie"
           }
          ],
          "scatter": [
           {
            "fillpattern": {
             "fillmode": "overlay",
             "size": 10,
             "solidity": 0.2
            },
            "type": "scatter"
           }
          ],
          "scatter3d": [
           {
            "line": {
             "colorbar": {
              "outlinewidth": 0,
              "ticks": ""
             }
            },
            "marker": {
             "colorbar": {
              "outlinewidth": 0,
              "ticks": ""
             }
            },
            "type": "scatter3d"
           }
          ],
          "scattercarpet": [
           {
            "marker": {
             "colorbar": {
              "outlinewidth": 0,
              "ticks": ""
             }
            },
            "type": "scattercarpet"
           }
          ],
          "scattergeo": [
           {
            "marker": {
             "colorbar": {
              "outlinewidth": 0,
              "ticks": ""
             }
            },
            "type": "scattergeo"
           }
          ],
          "scattergl": [
           {
            "marker": {
             "colorbar": {
              "outlinewidth": 0,
              "ticks": ""
             }
            },
            "type": "scattergl"
           }
          ],
          "scattermapbox": [
           {
            "marker": {
             "colorbar": {
              "outlinewidth": 0,
              "ticks": ""
             }
            },
            "type": "scattermapbox"
           }
          ],
          "scatterpolar": [
           {
            "marker": {
             "colorbar": {
              "outlinewidth": 0,
              "ticks": ""
             }
            },
            "type": "scatterpolar"
           }
          ],
          "scatterpolargl": [
           {
            "marker": {
             "colorbar": {
              "outlinewidth": 0,
              "ticks": ""
             }
            },
            "type": "scatterpolargl"
           }
          ],
          "scatterternary": [
           {
            "marker": {
             "colorbar": {
              "outlinewidth": 0,
              "ticks": ""
             }
            },
            "type": "scatterternary"
           }
          ],
          "surface": [
           {
            "colorbar": {
             "outlinewidth": 0,
             "ticks": ""
            },
            "colorscale": [
             [
              0,
              "#0d0887"
             ],
             [
              0.1111111111111111,
              "#46039f"
             ],
             [
              0.2222222222222222,
              "#7201a8"
             ],
             [
              0.3333333333333333,
              "#9c179e"
             ],
             [
              0.4444444444444444,
              "#bd3786"
             ],
             [
              0.5555555555555556,
              "#d8576b"
             ],
             [
              0.6666666666666666,
              "#ed7953"
             ],
             [
              0.7777777777777778,
              "#fb9f3a"
             ],
             [
              0.8888888888888888,
              "#fdca26"
             ],
             [
              1,
              "#f0f921"
             ]
            ],
            "type": "surface"
           }
          ],
          "table": [
           {
            "cells": {
             "fill": {
              "color": "#EBF0F8"
             },
             "line": {
              "color": "white"
             }
            },
            "header": {
             "fill": {
              "color": "#C8D4E3"
             },
             "line": {
              "color": "white"
             }
            },
            "type": "table"
           }
          ]
         },
         "layout": {
          "annotationdefaults": {
           "arrowcolor": "#2a3f5f",
           "arrowhead": 0,
           "arrowwidth": 1
          },
          "autotypenumbers": "strict",
          "coloraxis": {
           "colorbar": {
            "outlinewidth": 0,
            "ticks": ""
           }
          },
          "colorscale": {
           "diverging": [
            [
             0,
             "#8e0152"
            ],
            [
             0.1,
             "#c51b7d"
            ],
            [
             0.2,
             "#de77ae"
            ],
            [
             0.3,
             "#f1b6da"
            ],
            [
             0.4,
             "#fde0ef"
            ],
            [
             0.5,
             "#f7f7f7"
            ],
            [
             0.6,
             "#e6f5d0"
            ],
            [
             0.7,
             "#b8e186"
            ],
            [
             0.8,
             "#7fbc41"
            ],
            [
             0.9,
             "#4d9221"
            ],
            [
             1,
             "#276419"
            ]
           ],
           "sequential": [
            [
             0,
             "#0d0887"
            ],
            [
             0.1111111111111111,
             "#46039f"
            ],
            [
             0.2222222222222222,
             "#7201a8"
            ],
            [
             0.3333333333333333,
             "#9c179e"
            ],
            [
             0.4444444444444444,
             "#bd3786"
            ],
            [
             0.5555555555555556,
             "#d8576b"
            ],
            [
             0.6666666666666666,
             "#ed7953"
            ],
            [
             0.7777777777777778,
             "#fb9f3a"
            ],
            [
             0.8888888888888888,
             "#fdca26"
            ],
            [
             1,
             "#f0f921"
            ]
           ],
           "sequentialminus": [
            [
             0,
             "#0d0887"
            ],
            [
             0.1111111111111111,
             "#46039f"
            ],
            [
             0.2222222222222222,
             "#7201a8"
            ],
            [
             0.3333333333333333,
             "#9c179e"
            ],
            [
             0.4444444444444444,
             "#bd3786"
            ],
            [
             0.5555555555555556,
             "#d8576b"
            ],
            [
             0.6666666666666666,
             "#ed7953"
            ],
            [
             0.7777777777777778,
             "#fb9f3a"
            ],
            [
             0.8888888888888888,
             "#fdca26"
            ],
            [
             1,
             "#f0f921"
            ]
           ]
          },
          "colorway": [
           "#636efa",
           "#EF553B",
           "#00cc96",
           "#ab63fa",
           "#FFA15A",
           "#19d3f3",
           "#FF6692",
           "#B6E880",
           "#FF97FF",
           "#FECB52"
          ],
          "font": {
           "color": "#2a3f5f"
          },
          "geo": {
           "bgcolor": "white",
           "lakecolor": "white",
           "landcolor": "#E5ECF6",
           "showlakes": true,
           "showland": true,
           "subunitcolor": "white"
          },
          "hoverlabel": {
           "align": "left"
          },
          "hovermode": "closest",
          "mapbox": {
           "style": "light"
          },
          "paper_bgcolor": "white",
          "plot_bgcolor": "#E5ECF6",
          "polar": {
           "angularaxis": {
            "gridcolor": "white",
            "linecolor": "white",
            "ticks": ""
           },
           "bgcolor": "#E5ECF6",
           "radialaxis": {
            "gridcolor": "white",
            "linecolor": "white",
            "ticks": ""
           }
          },
          "scene": {
           "xaxis": {
            "backgroundcolor": "#E5ECF6",
            "gridcolor": "white",
            "gridwidth": 2,
            "linecolor": "white",
            "showbackground": true,
            "ticks": "",
            "zerolinecolor": "white"
           },
           "yaxis": {
            "backgroundcolor": "#E5ECF6",
            "gridcolor": "white",
            "gridwidth": 2,
            "linecolor": "white",
            "showbackground": true,
            "ticks": "",
            "zerolinecolor": "white"
           },
           "zaxis": {
            "backgroundcolor": "#E5ECF6",
            "gridcolor": "white",
            "gridwidth": 2,
            "linecolor": "white",
            "showbackground": true,
            "ticks": "",
            "zerolinecolor": "white"
           }
          },
          "shapedefaults": {
           "line": {
            "color": "#2a3f5f"
           }
          },
          "ternary": {
           "aaxis": {
            "gridcolor": "white",
            "linecolor": "white",
            "ticks": ""
           },
           "baxis": {
            "gridcolor": "white",
            "linecolor": "white",
            "ticks": ""
           },
           "bgcolor": "#E5ECF6",
           "caxis": {
            "gridcolor": "white",
            "linecolor": "white",
            "ticks": ""
           }
          },
          "title": {
           "x": 0.05
          },
          "xaxis": {
           "automargin": true,
           "gridcolor": "white",
           "linecolor": "white",
           "ticks": "",
           "title": {
            "standoff": 15
           },
           "zerolinecolor": "white",
           "zerolinewidth": 2
          },
          "yaxis": {
           "automargin": true,
           "gridcolor": "white",
           "linecolor": "white",
           "ticks": "",
           "title": {
            "standoff": 15
           },
           "zerolinecolor": "white",
           "zerolinewidth": 2
          }
         }
        },
        "title": {
         "text": "Actual and Predicted Wheel Speeds, Recording 1, Trial 0"
        },
        "xaxis": {
         "title": {
          "text": "Time"
         }
        },
        "yaxis": {
         "title": {
          "text": "Value"
         }
        }
       }
      }
     },
     "metadata": {},
     "output_type": "display_data"
    },
    {
     "data": {
      "application/vnd.plotly.v1+json": {
       "config": {
        "plotlyServerURL": "https://plot.ly"
       },
       "data": [
        {
         "name": "Actual",
         "type": "scatter",
         "y": [
          0.010775973089039326,
          0.014313721098005772,
          0.021977949887514114,
          0.03479371964931488,
          0.053939688950777054,
          0.08040271699428558,
          0.11448334157466888,
          0.15539921820163727,
          0.2010987251996994,
          0.24840089678764343,
          0.29344168305397034,
          0.332353413105011,
          0.36195051670074463,
          0.38021934032440186,
          0.38649678230285645,
          0.38132786750793457,
          0.36612293124198914,
          0.34280267357826233,
          0.3135075867176056,
          0.28044748306274414,
          0.24583376944065094,
          0.21182915568351746,
          0.1804502159357071,
          0.15339460968971252,
          0.13182969391345978,
          0.11621162295341492,
          0.1062064841389656,
          0.10075033456087112,
          0.09827620536088943,
          0.09702873229980469,
          0.09541121870279312,
          0.09226647764444351,
          0.0871049240231514,
          0.08006126433610916,
          0.07176557928323746,
          0.06312724947929382,
          0.05508705973625183,
          0.04843614995479584,
          0.043735604733228683,
          0.041314058005809784
         ]
        },
        {
         "name": "Predicted",
         "type": "scatter",
         "y": [
          0.01509028673171997,
          0.0074415127746760845,
          0.007485914975404739,
          -0.00027215760201215744,
          0.01758231408894062,
          0.03467966988682747,
          0.03430918604135513,
          0.06398794800043106,
          0.07872217148542404,
          0.09473065286874771,
          0.12869805097579956,
          0.16683131456375122,
          0.17713913321495056,
          0.21759295463562012,
          0.23049786686897278,
          0.23634526133537292,
          0.2475191056728363,
          0.27247387170791626,
          0.2774357795715332,
          0.26250791549682617,
          0.2897375226020813,
          0.29608967900276184,
          0.28034138679504395,
          0.2931492030620575,
          0.29075300693511963,
          0.2838456630706787,
          0.2892686128616333,
          0.2605229616165161,
          0.23980605602264404,
          0.22263005375862122,
          0.2223183512687683,
          0.1890943944454193,
          0.17144916951656342,
          0.15504898130893707,
          0.1430843472480774,
          0.12637846171855927,
          0.12779757380485535,
          0.14037427306175232,
          0.1173228770494461,
          0.13993331789970398
         ]
        }
       ],
       "layout": {
        "template": {
         "data": {
          "bar": [
           {
            "error_x": {
             "color": "#2a3f5f"
            },
            "error_y": {
             "color": "#2a3f5f"
            },
            "marker": {
             "line": {
              "color": "#E5ECF6",
              "width": 0.5
             },
             "pattern": {
              "fillmode": "overlay",
              "size": 10,
              "solidity": 0.2
             }
            },
            "type": "bar"
           }
          ],
          "barpolar": [
           {
            "marker": {
             "line": {
              "color": "#E5ECF6",
              "width": 0.5
             },
             "pattern": {
              "fillmode": "overlay",
              "size": 10,
              "solidity": 0.2
             }
            },
            "type": "barpolar"
           }
          ],
          "carpet": [
           {
            "aaxis": {
             "endlinecolor": "#2a3f5f",
             "gridcolor": "white",
             "linecolor": "white",
             "minorgridcolor": "white",
             "startlinecolor": "#2a3f5f"
            },
            "baxis": {
             "endlinecolor": "#2a3f5f",
             "gridcolor": "white",
             "linecolor": "white",
             "minorgridcolor": "white",
             "startlinecolor": "#2a3f5f"
            },
            "type": "carpet"
           }
          ],
          "choropleth": [
           {
            "colorbar": {
             "outlinewidth": 0,
             "ticks": ""
            },
            "type": "choropleth"
           }
          ],
          "contour": [
           {
            "colorbar": {
             "outlinewidth": 0,
             "ticks": ""
            },
            "colorscale": [
             [
              0,
              "#0d0887"
             ],
             [
              0.1111111111111111,
              "#46039f"
             ],
             [
              0.2222222222222222,
              "#7201a8"
             ],
             [
              0.3333333333333333,
              "#9c179e"
             ],
             [
              0.4444444444444444,
              "#bd3786"
             ],
             [
              0.5555555555555556,
              "#d8576b"
             ],
             [
              0.6666666666666666,
              "#ed7953"
             ],
             [
              0.7777777777777778,
              "#fb9f3a"
             ],
             [
              0.8888888888888888,
              "#fdca26"
             ],
             [
              1,
              "#f0f921"
             ]
            ],
            "type": "contour"
           }
          ],
          "contourcarpet": [
           {
            "colorbar": {
             "outlinewidth": 0,
             "ticks": ""
            },
            "type": "contourcarpet"
           }
          ],
          "heatmap": [
           {
            "colorbar": {
             "outlinewidth": 0,
             "ticks": ""
            },
            "colorscale": [
             [
              0,
              "#0d0887"
             ],
             [
              0.1111111111111111,
              "#46039f"
             ],
             [
              0.2222222222222222,
              "#7201a8"
             ],
             [
              0.3333333333333333,
              "#9c179e"
             ],
             [
              0.4444444444444444,
              "#bd3786"
             ],
             [
              0.5555555555555556,
              "#d8576b"
             ],
             [
              0.6666666666666666,
              "#ed7953"
             ],
             [
              0.7777777777777778,
              "#fb9f3a"
             ],
             [
              0.8888888888888888,
              "#fdca26"
             ],
             [
              1,
              "#f0f921"
             ]
            ],
            "type": "heatmap"
           }
          ],
          "heatmapgl": [
           {
            "colorbar": {
             "outlinewidth": 0,
             "ticks": ""
            },
            "colorscale": [
             [
              0,
              "#0d0887"
             ],
             [
              0.1111111111111111,
              "#46039f"
             ],
             [
              0.2222222222222222,
              "#7201a8"
             ],
             [
              0.3333333333333333,
              "#9c179e"
             ],
             [
              0.4444444444444444,
              "#bd3786"
             ],
             [
              0.5555555555555556,
              "#d8576b"
             ],
             [
              0.6666666666666666,
              "#ed7953"
             ],
             [
              0.7777777777777778,
              "#fb9f3a"
             ],
             [
              0.8888888888888888,
              "#fdca26"
             ],
             [
              1,
              "#f0f921"
             ]
            ],
            "type": "heatmapgl"
           }
          ],
          "histogram": [
           {
            "marker": {
             "pattern": {
              "fillmode": "overlay",
              "size": 10,
              "solidity": 0.2
             }
            },
            "type": "histogram"
           }
          ],
          "histogram2d": [
           {
            "colorbar": {
             "outlinewidth": 0,
             "ticks": ""
            },
            "colorscale": [
             [
              0,
              "#0d0887"
             ],
             [
              0.1111111111111111,
              "#46039f"
             ],
             [
              0.2222222222222222,
              "#7201a8"
             ],
             [
              0.3333333333333333,
              "#9c179e"
             ],
             [
              0.4444444444444444,
              "#bd3786"
             ],
             [
              0.5555555555555556,
              "#d8576b"
             ],
             [
              0.6666666666666666,
              "#ed7953"
             ],
             [
              0.7777777777777778,
              "#fb9f3a"
             ],
             [
              0.8888888888888888,
              "#fdca26"
             ],
             [
              1,
              "#f0f921"
             ]
            ],
            "type": "histogram2d"
           }
          ],
          "histogram2dcontour": [
           {
            "colorbar": {
             "outlinewidth": 0,
             "ticks": ""
            },
            "colorscale": [
             [
              0,
              "#0d0887"
             ],
             [
              0.1111111111111111,
              "#46039f"
             ],
             [
              0.2222222222222222,
              "#7201a8"
             ],
             [
              0.3333333333333333,
              "#9c179e"
             ],
             [
              0.4444444444444444,
              "#bd3786"
             ],
             [
              0.5555555555555556,
              "#d8576b"
             ],
             [
              0.6666666666666666,
              "#ed7953"
             ],
             [
              0.7777777777777778,
              "#fb9f3a"
             ],
             [
              0.8888888888888888,
              "#fdca26"
             ],
             [
              1,
              "#f0f921"
             ]
            ],
            "type": "histogram2dcontour"
           }
          ],
          "mesh3d": [
           {
            "colorbar": {
             "outlinewidth": 0,
             "ticks": ""
            },
            "type": "mesh3d"
           }
          ],
          "parcoords": [
           {
            "line": {
             "colorbar": {
              "outlinewidth": 0,
              "ticks": ""
             }
            },
            "type": "parcoords"
           }
          ],
          "pie": [
           {
            "automargin": true,
            "type": "pie"
           }
          ],
          "scatter": [
           {
            "fillpattern": {
             "fillmode": "overlay",
             "size": 10,
             "solidity": 0.2
            },
            "type": "scatter"
           }
          ],
          "scatter3d": [
           {
            "line": {
             "colorbar": {
              "outlinewidth": 0,
              "ticks": ""
             }
            },
            "marker": {
             "colorbar": {
              "outlinewidth": 0,
              "ticks": ""
             }
            },
            "type": "scatter3d"
           }
          ],
          "scattercarpet": [
           {
            "marker": {
             "colorbar": {
              "outlinewidth": 0,
              "ticks": ""
             }
            },
            "type": "scattercarpet"
           }
          ],
          "scattergeo": [
           {
            "marker": {
             "colorbar": {
              "outlinewidth": 0,
              "ticks": ""
             }
            },
            "type": "scattergeo"
           }
          ],
          "scattergl": [
           {
            "marker": {
             "colorbar": {
              "outlinewidth": 0,
              "ticks": ""
             }
            },
            "type": "scattergl"
           }
          ],
          "scattermapbox": [
           {
            "marker": {
             "colorbar": {
              "outlinewidth": 0,
              "ticks": ""
             }
            },
            "type": "scattermapbox"
           }
          ],
          "scatterpolar": [
           {
            "marker": {
             "colorbar": {
              "outlinewidth": 0,
              "ticks": ""
             }
            },
            "type": "scatterpolar"
           }
          ],
          "scatterpolargl": [
           {
            "marker": {
             "colorbar": {
              "outlinewidth": 0,
              "ticks": ""
             }
            },
            "type": "scatterpolargl"
           }
          ],
          "scatterternary": [
           {
            "marker": {
             "colorbar": {
              "outlinewidth": 0,
              "ticks": ""
             }
            },
            "type": "scatterternary"
           }
          ],
          "surface": [
           {
            "colorbar": {
             "outlinewidth": 0,
             "ticks": ""
            },
            "colorscale": [
             [
              0,
              "#0d0887"
             ],
             [
              0.1111111111111111,
              "#46039f"
             ],
             [
              0.2222222222222222,
              "#7201a8"
             ],
             [
              0.3333333333333333,
              "#9c179e"
             ],
             [
              0.4444444444444444,
              "#bd3786"
             ],
             [
              0.5555555555555556,
              "#d8576b"
             ],
             [
              0.6666666666666666,
              "#ed7953"
             ],
             [
              0.7777777777777778,
              "#fb9f3a"
             ],
             [
              0.8888888888888888,
              "#fdca26"
             ],
             [
              1,
              "#f0f921"
             ]
            ],
            "type": "surface"
           }
          ],
          "table": [
           {
            "cells": {
             "fill": {
              "color": "#EBF0F8"
             },
             "line": {
              "color": "white"
             }
            },
            "header": {
             "fill": {
              "color": "#C8D4E3"
             },
             "line": {
              "color": "white"
             }
            },
            "type": "table"
           }
          ]
         },
         "layout": {
          "annotationdefaults": {
           "arrowcolor": "#2a3f5f",
           "arrowhead": 0,
           "arrowwidth": 1
          },
          "autotypenumbers": "strict",
          "coloraxis": {
           "colorbar": {
            "outlinewidth": 0,
            "ticks": ""
           }
          },
          "colorscale": {
           "diverging": [
            [
             0,
             "#8e0152"
            ],
            [
             0.1,
             "#c51b7d"
            ],
            [
             0.2,
             "#de77ae"
            ],
            [
             0.3,
             "#f1b6da"
            ],
            [
             0.4,
             "#fde0ef"
            ],
            [
             0.5,
             "#f7f7f7"
            ],
            [
             0.6,
             "#e6f5d0"
            ],
            [
             0.7,
             "#b8e186"
            ],
            [
             0.8,
             "#7fbc41"
            ],
            [
             0.9,
             "#4d9221"
            ],
            [
             1,
             "#276419"
            ]
           ],
           "sequential": [
            [
             0,
             "#0d0887"
            ],
            [
             0.1111111111111111,
             "#46039f"
            ],
            [
             0.2222222222222222,
             "#7201a8"
            ],
            [
             0.3333333333333333,
             "#9c179e"
            ],
            [
             0.4444444444444444,
             "#bd3786"
            ],
            [
             0.5555555555555556,
             "#d8576b"
            ],
            [
             0.6666666666666666,
             "#ed7953"
            ],
            [
             0.7777777777777778,
             "#fb9f3a"
            ],
            [
             0.8888888888888888,
             "#fdca26"
            ],
            [
             1,
             "#f0f921"
            ]
           ],
           "sequentialminus": [
            [
             0,
             "#0d0887"
            ],
            [
             0.1111111111111111,
             "#46039f"
            ],
            [
             0.2222222222222222,
             "#7201a8"
            ],
            [
             0.3333333333333333,
             "#9c179e"
            ],
            [
             0.4444444444444444,
             "#bd3786"
            ],
            [
             0.5555555555555556,
             "#d8576b"
            ],
            [
             0.6666666666666666,
             "#ed7953"
            ],
            [
             0.7777777777777778,
             "#fb9f3a"
            ],
            [
             0.8888888888888888,
             "#fdca26"
            ],
            [
             1,
             "#f0f921"
            ]
           ]
          },
          "colorway": [
           "#636efa",
           "#EF553B",
           "#00cc96",
           "#ab63fa",
           "#FFA15A",
           "#19d3f3",
           "#FF6692",
           "#B6E880",
           "#FF97FF",
           "#FECB52"
          ],
          "font": {
           "color": "#2a3f5f"
          },
          "geo": {
           "bgcolor": "white",
           "lakecolor": "white",
           "landcolor": "#E5ECF6",
           "showlakes": true,
           "showland": true,
           "subunitcolor": "white"
          },
          "hoverlabel": {
           "align": "left"
          },
          "hovermode": "closest",
          "mapbox": {
           "style": "light"
          },
          "paper_bgcolor": "white",
          "plot_bgcolor": "#E5ECF6",
          "polar": {
           "angularaxis": {
            "gridcolor": "white",
            "linecolor": "white",
            "ticks": ""
           },
           "bgcolor": "#E5ECF6",
           "radialaxis": {
            "gridcolor": "white",
            "linecolor": "white",
            "ticks": ""
           }
          },
          "scene": {
           "xaxis": {
            "backgroundcolor": "#E5ECF6",
            "gridcolor": "white",
            "gridwidth": 2,
            "linecolor": "white",
            "showbackground": true,
            "ticks": "",
            "zerolinecolor": "white"
           },
           "yaxis": {
            "backgroundcolor": "#E5ECF6",
            "gridcolor": "white",
            "gridwidth": 2,
            "linecolor": "white",
            "showbackground": true,
            "ticks": "",
            "zerolinecolor": "white"
           },
           "zaxis": {
            "backgroundcolor": "#E5ECF6",
            "gridcolor": "white",
            "gridwidth": 2,
            "linecolor": "white",
            "showbackground": true,
            "ticks": "",
            "zerolinecolor": "white"
           }
          },
          "shapedefaults": {
           "line": {
            "color": "#2a3f5f"
           }
          },
          "ternary": {
           "aaxis": {
            "gridcolor": "white",
            "linecolor": "white",
            "ticks": ""
           },
           "baxis": {
            "gridcolor": "white",
            "linecolor": "white",
            "ticks": ""
           },
           "bgcolor": "#E5ECF6",
           "caxis": {
            "gridcolor": "white",
            "linecolor": "white",
            "ticks": ""
           }
          },
          "title": {
           "x": 0.05
          },
          "xaxis": {
           "automargin": true,
           "gridcolor": "white",
           "linecolor": "white",
           "ticks": "",
           "title": {
            "standoff": 15
           },
           "zerolinecolor": "white",
           "zerolinewidth": 2
          },
          "yaxis": {
           "automargin": true,
           "gridcolor": "white",
           "linecolor": "white",
           "ticks": "",
           "title": {
            "standoff": 15
           },
           "zerolinecolor": "white",
           "zerolinewidth": 2
          }
         }
        },
        "title": {
         "text": "Actual and Predicted Wheel Speeds, Recording 1, Trial 1"
        },
        "xaxis": {
         "title": {
          "text": "Time"
         }
        },
        "yaxis": {
         "title": {
          "text": "Value"
         }
        }
       }
      }
     },
     "metadata": {},
     "output_type": "display_data"
    },
    {
     "name": "stdout",
     "output_type": "stream",
     "text": [
      "Testing Evaluation, Recording 1, Loss 0.023233434185385704\n"
     ]
    },
    {
     "data": {
      "application/vnd.plotly.v1+json": {
       "config": {
        "plotlyServerURL": "https://plot.ly"
       },
       "data": [
        {
         "name": "Actual",
         "type": "scatter",
         "y": [
          0.0066783796064555645,
          0.009764580056071281,
          0.016606485471129417,
          0.02845376543700695,
          0.04691876098513603,
          0.073603555560112,
          0.10958189517259598,
          0.15481753647327423,
          0.20768412947654724,
          0.2647603750228882,
          0.3210620582103729,
          0.3707401156425476,
          0.4081195294857025,
          0.42880842089653015,
          0.43056783080101013,
          0.4137047231197357,
          0.38089874386787415,
          0.33654898405075073,
          0.28585147857666016,
          0.2338591068983078,
          0.18473821878433228,
          0.14134497940540314,
          0.10514073818922043,
          0.0763799324631691,
          0.05445719510316849,
          0.0382930189371109,
          0.026664093136787415,
          0.01842898689210415,
          0.012644563801586628,
          0.008601268753409386,
          0.005786821711808443,
          0.0038391361013054848,
          0.0025066479574888945,
          0.0016122889937832952,
          0.0010295372921973467,
          0.0006648074486292899,
          0.00044672872172668576,
          0.0003230608708690852,
          0.00025930223637260497,
          0.00023374779266305268
         ]
        },
        {
         "name": "Predicted",
         "type": "scatter",
         "y": [
          0.011066705919802189,
          -0.00808805413544178,
          0.027387764304876328,
          0.019805971533060074,
          0.023109611123800278,
          0.02807503007352352,
          0.0547957643866539,
          0.08502359688282013,
          0.07432636618614197,
          0.10156465321779251,
          0.14586412906646729,
          0.16202953457832336,
          0.18022897839546204,
          0.19691118597984314,
          0.2225540578365326,
          0.20609711110591888,
          0.21750862896442413,
          0.21589234471321106,
          0.20910558104515076,
          0.2284643054008484,
          0.22458378970623016,
          0.2035789042711258,
          0.20069347321987152,
          0.2060980349779129,
          0.1929205358028412,
          0.20577262341976166,
          0.17534713447093964,
          0.18195420503616333,
          0.1543062925338745,
          0.14872246980667114,
          0.14619708061218262,
          0.12189404666423798,
          0.11552218347787857,
          0.11967316269874573,
          0.10607386380434036,
          0.10469295084476471,
          0.08653497695922852,
          0.09167368710041046,
          0.08023981004953384,
          0.06204579398036003
         ]
        }
       ],
       "layout": {
        "template": {
         "data": {
          "bar": [
           {
            "error_x": {
             "color": "#2a3f5f"
            },
            "error_y": {
             "color": "#2a3f5f"
            },
            "marker": {
             "line": {
              "color": "#E5ECF6",
              "width": 0.5
             },
             "pattern": {
              "fillmode": "overlay",
              "size": 10,
              "solidity": 0.2
             }
            },
            "type": "bar"
           }
          ],
          "barpolar": [
           {
            "marker": {
             "line": {
              "color": "#E5ECF6",
              "width": 0.5
             },
             "pattern": {
              "fillmode": "overlay",
              "size": 10,
              "solidity": 0.2
             }
            },
            "type": "barpolar"
           }
          ],
          "carpet": [
           {
            "aaxis": {
             "endlinecolor": "#2a3f5f",
             "gridcolor": "white",
             "linecolor": "white",
             "minorgridcolor": "white",
             "startlinecolor": "#2a3f5f"
            },
            "baxis": {
             "endlinecolor": "#2a3f5f",
             "gridcolor": "white",
             "linecolor": "white",
             "minorgridcolor": "white",
             "startlinecolor": "#2a3f5f"
            },
            "type": "carpet"
           }
          ],
          "choropleth": [
           {
            "colorbar": {
             "outlinewidth": 0,
             "ticks": ""
            },
            "type": "choropleth"
           }
          ],
          "contour": [
           {
            "colorbar": {
             "outlinewidth": 0,
             "ticks": ""
            },
            "colorscale": [
             [
              0,
              "#0d0887"
             ],
             [
              0.1111111111111111,
              "#46039f"
             ],
             [
              0.2222222222222222,
              "#7201a8"
             ],
             [
              0.3333333333333333,
              "#9c179e"
             ],
             [
              0.4444444444444444,
              "#bd3786"
             ],
             [
              0.5555555555555556,
              "#d8576b"
             ],
             [
              0.6666666666666666,
              "#ed7953"
             ],
             [
              0.7777777777777778,
              "#fb9f3a"
             ],
             [
              0.8888888888888888,
              "#fdca26"
             ],
             [
              1,
              "#f0f921"
             ]
            ],
            "type": "contour"
           }
          ],
          "contourcarpet": [
           {
            "colorbar": {
             "outlinewidth": 0,
             "ticks": ""
            },
            "type": "contourcarpet"
           }
          ],
          "heatmap": [
           {
            "colorbar": {
             "outlinewidth": 0,
             "ticks": ""
            },
            "colorscale": [
             [
              0,
              "#0d0887"
             ],
             [
              0.1111111111111111,
              "#46039f"
             ],
             [
              0.2222222222222222,
              "#7201a8"
             ],
             [
              0.3333333333333333,
              "#9c179e"
             ],
             [
              0.4444444444444444,
              "#bd3786"
             ],
             [
              0.5555555555555556,
              "#d8576b"
             ],
             [
              0.6666666666666666,
              "#ed7953"
             ],
             [
              0.7777777777777778,
              "#fb9f3a"
             ],
             [
              0.8888888888888888,
              "#fdca26"
             ],
             [
              1,
              "#f0f921"
             ]
            ],
            "type": "heatmap"
           }
          ],
          "heatmapgl": [
           {
            "colorbar": {
             "outlinewidth": 0,
             "ticks": ""
            },
            "colorscale": [
             [
              0,
              "#0d0887"
             ],
             [
              0.1111111111111111,
              "#46039f"
             ],
             [
              0.2222222222222222,
              "#7201a8"
             ],
             [
              0.3333333333333333,
              "#9c179e"
             ],
             [
              0.4444444444444444,
              "#bd3786"
             ],
             [
              0.5555555555555556,
              "#d8576b"
             ],
             [
              0.6666666666666666,
              "#ed7953"
             ],
             [
              0.7777777777777778,
              "#fb9f3a"
             ],
             [
              0.8888888888888888,
              "#fdca26"
             ],
             [
              1,
              "#f0f921"
             ]
            ],
            "type": "heatmapgl"
           }
          ],
          "histogram": [
           {
            "marker": {
             "pattern": {
              "fillmode": "overlay",
              "size": 10,
              "solidity": 0.2
             }
            },
            "type": "histogram"
           }
          ],
          "histogram2d": [
           {
            "colorbar": {
             "outlinewidth": 0,
             "ticks": ""
            },
            "colorscale": [
             [
              0,
              "#0d0887"
             ],
             [
              0.1111111111111111,
              "#46039f"
             ],
             [
              0.2222222222222222,
              "#7201a8"
             ],
             [
              0.3333333333333333,
              "#9c179e"
             ],
             [
              0.4444444444444444,
              "#bd3786"
             ],
             [
              0.5555555555555556,
              "#d8576b"
             ],
             [
              0.6666666666666666,
              "#ed7953"
             ],
             [
              0.7777777777777778,
              "#fb9f3a"
             ],
             [
              0.8888888888888888,
              "#fdca26"
             ],
             [
              1,
              "#f0f921"
             ]
            ],
            "type": "histogram2d"
           }
          ],
          "histogram2dcontour": [
           {
            "colorbar": {
             "outlinewidth": 0,
             "ticks": ""
            },
            "colorscale": [
             [
              0,
              "#0d0887"
             ],
             [
              0.1111111111111111,
              "#46039f"
             ],
             [
              0.2222222222222222,
              "#7201a8"
             ],
             [
              0.3333333333333333,
              "#9c179e"
             ],
             [
              0.4444444444444444,
              "#bd3786"
             ],
             [
              0.5555555555555556,
              "#d8576b"
             ],
             [
              0.6666666666666666,
              "#ed7953"
             ],
             [
              0.7777777777777778,
              "#fb9f3a"
             ],
             [
              0.8888888888888888,
              "#fdca26"
             ],
             [
              1,
              "#f0f921"
             ]
            ],
            "type": "histogram2dcontour"
           }
          ],
          "mesh3d": [
           {
            "colorbar": {
             "outlinewidth": 0,
             "ticks": ""
            },
            "type": "mesh3d"
           }
          ],
          "parcoords": [
           {
            "line": {
             "colorbar": {
              "outlinewidth": 0,
              "ticks": ""
             }
            },
            "type": "parcoords"
           }
          ],
          "pie": [
           {
            "automargin": true,
            "type": "pie"
           }
          ],
          "scatter": [
           {
            "fillpattern": {
             "fillmode": "overlay",
             "size": 10,
             "solidity": 0.2
            },
            "type": "scatter"
           }
          ],
          "scatter3d": [
           {
            "line": {
             "colorbar": {
              "outlinewidth": 0,
              "ticks": ""
             }
            },
            "marker": {
             "colorbar": {
              "outlinewidth": 0,
              "ticks": ""
             }
            },
            "type": "scatter3d"
           }
          ],
          "scattercarpet": [
           {
            "marker": {
             "colorbar": {
              "outlinewidth": 0,
              "ticks": ""
             }
            },
            "type": "scattercarpet"
           }
          ],
          "scattergeo": [
           {
            "marker": {
             "colorbar": {
              "outlinewidth": 0,
              "ticks": ""
             }
            },
            "type": "scattergeo"
           }
          ],
          "scattergl": [
           {
            "marker": {
             "colorbar": {
              "outlinewidth": 0,
              "ticks": ""
             }
            },
            "type": "scattergl"
           }
          ],
          "scattermapbox": [
           {
            "marker": {
             "colorbar": {
              "outlinewidth": 0,
              "ticks": ""
             }
            },
            "type": "scattermapbox"
           }
          ],
          "scatterpolar": [
           {
            "marker": {
             "colorbar": {
              "outlinewidth": 0,
              "ticks": ""
             }
            },
            "type": "scatterpolar"
           }
          ],
          "scatterpolargl": [
           {
            "marker": {
             "colorbar": {
              "outlinewidth": 0,
              "ticks": ""
             }
            },
            "type": "scatterpolargl"
           }
          ],
          "scatterternary": [
           {
            "marker": {
             "colorbar": {
              "outlinewidth": 0,
              "ticks": ""
             }
            },
            "type": "scatterternary"
           }
          ],
          "surface": [
           {
            "colorbar": {
             "outlinewidth": 0,
             "ticks": ""
            },
            "colorscale": [
             [
              0,
              "#0d0887"
             ],
             [
              0.1111111111111111,
              "#46039f"
             ],
             [
              0.2222222222222222,
              "#7201a8"
             ],
             [
              0.3333333333333333,
              "#9c179e"
             ],
             [
              0.4444444444444444,
              "#bd3786"
             ],
             [
              0.5555555555555556,
              "#d8576b"
             ],
             [
              0.6666666666666666,
              "#ed7953"
             ],
             [
              0.7777777777777778,
              "#fb9f3a"
             ],
             [
              0.8888888888888888,
              "#fdca26"
             ],
             [
              1,
              "#f0f921"
             ]
            ],
            "type": "surface"
           }
          ],
          "table": [
           {
            "cells": {
             "fill": {
              "color": "#EBF0F8"
             },
             "line": {
              "color": "white"
             }
            },
            "header": {
             "fill": {
              "color": "#C8D4E3"
             },
             "line": {
              "color": "white"
             }
            },
            "type": "table"
           }
          ]
         },
         "layout": {
          "annotationdefaults": {
           "arrowcolor": "#2a3f5f",
           "arrowhead": 0,
           "arrowwidth": 1
          },
          "autotypenumbers": "strict",
          "coloraxis": {
           "colorbar": {
            "outlinewidth": 0,
            "ticks": ""
           }
          },
          "colorscale": {
           "diverging": [
            [
             0,
             "#8e0152"
            ],
            [
             0.1,
             "#c51b7d"
            ],
            [
             0.2,
             "#de77ae"
            ],
            [
             0.3,
             "#f1b6da"
            ],
            [
             0.4,
             "#fde0ef"
            ],
            [
             0.5,
             "#f7f7f7"
            ],
            [
             0.6,
             "#e6f5d0"
            ],
            [
             0.7,
             "#b8e186"
            ],
            [
             0.8,
             "#7fbc41"
            ],
            [
             0.9,
             "#4d9221"
            ],
            [
             1,
             "#276419"
            ]
           ],
           "sequential": [
            [
             0,
             "#0d0887"
            ],
            [
             0.1111111111111111,
             "#46039f"
            ],
            [
             0.2222222222222222,
             "#7201a8"
            ],
            [
             0.3333333333333333,
             "#9c179e"
            ],
            [
             0.4444444444444444,
             "#bd3786"
            ],
            [
             0.5555555555555556,
             "#d8576b"
            ],
            [
             0.6666666666666666,
             "#ed7953"
            ],
            [
             0.7777777777777778,
             "#fb9f3a"
            ],
            [
             0.8888888888888888,
             "#fdca26"
            ],
            [
             1,
             "#f0f921"
            ]
           ],
           "sequentialminus": [
            [
             0,
             "#0d0887"
            ],
            [
             0.1111111111111111,
             "#46039f"
            ],
            [
             0.2222222222222222,
             "#7201a8"
            ],
            [
             0.3333333333333333,
             "#9c179e"
            ],
            [
             0.4444444444444444,
             "#bd3786"
            ],
            [
             0.5555555555555556,
             "#d8576b"
            ],
            [
             0.6666666666666666,
             "#ed7953"
            ],
            [
             0.7777777777777778,
             "#fb9f3a"
            ],
            [
             0.8888888888888888,
             "#fdca26"
            ],
            [
             1,
             "#f0f921"
            ]
           ]
          },
          "colorway": [
           "#636efa",
           "#EF553B",
           "#00cc96",
           "#ab63fa",
           "#FFA15A",
           "#19d3f3",
           "#FF6692",
           "#B6E880",
           "#FF97FF",
           "#FECB52"
          ],
          "font": {
           "color": "#2a3f5f"
          },
          "geo": {
           "bgcolor": "white",
           "lakecolor": "white",
           "landcolor": "#E5ECF6",
           "showlakes": true,
           "showland": true,
           "subunitcolor": "white"
          },
          "hoverlabel": {
           "align": "left"
          },
          "hovermode": "closest",
          "mapbox": {
           "style": "light"
          },
          "paper_bgcolor": "white",
          "plot_bgcolor": "#E5ECF6",
          "polar": {
           "angularaxis": {
            "gridcolor": "white",
            "linecolor": "white",
            "ticks": ""
           },
           "bgcolor": "#E5ECF6",
           "radialaxis": {
            "gridcolor": "white",
            "linecolor": "white",
            "ticks": ""
           }
          },
          "scene": {
           "xaxis": {
            "backgroundcolor": "#E5ECF6",
            "gridcolor": "white",
            "gridwidth": 2,
            "linecolor": "white",
            "showbackground": true,
            "ticks": "",
            "zerolinecolor": "white"
           },
           "yaxis": {
            "backgroundcolor": "#E5ECF6",
            "gridcolor": "white",
            "gridwidth": 2,
            "linecolor": "white",
            "showbackground": true,
            "ticks": "",
            "zerolinecolor": "white"
           },
           "zaxis": {
            "backgroundcolor": "#E5ECF6",
            "gridcolor": "white",
            "gridwidth": 2,
            "linecolor": "white",
            "showbackground": true,
            "ticks": "",
            "zerolinecolor": "white"
           }
          },
          "shapedefaults": {
           "line": {
            "color": "#2a3f5f"
           }
          },
          "ternary": {
           "aaxis": {
            "gridcolor": "white",
            "linecolor": "white",
            "ticks": ""
           },
           "baxis": {
            "gridcolor": "white",
            "linecolor": "white",
            "ticks": ""
           },
           "bgcolor": "#E5ECF6",
           "caxis": {
            "gridcolor": "white",
            "linecolor": "white",
            "ticks": ""
           }
          },
          "title": {
           "x": 0.05
          },
          "xaxis": {
           "automargin": true,
           "gridcolor": "white",
           "linecolor": "white",
           "ticks": "",
           "title": {
            "standoff": 15
           },
           "zerolinecolor": "white",
           "zerolinewidth": 2
          },
          "yaxis": {
           "automargin": true,
           "gridcolor": "white",
           "linecolor": "white",
           "ticks": "",
           "title": {
            "standoff": 15
           },
           "zerolinecolor": "white",
           "zerolinewidth": 2
          }
         }
        },
        "title": {
         "text": "Actual and Predicted Wheel Speeds, Recording 2, Trial 0"
        },
        "xaxis": {
         "title": {
          "text": "Time"
         }
        },
        "yaxis": {
         "title": {
          "text": "Value"
         }
        }
       }
      }
     },
     "metadata": {},
     "output_type": "display_data"
    },
    {
     "data": {
      "application/vnd.plotly.v1+json": {
       "config": {
        "plotlyServerURL": "https://plot.ly"
       },
       "data": [
        {
         "name": "Actual",
         "type": "scatter",
         "y": [
          0.0073158880695700645,
          0.010590219870209694,
          0.017777949571609497,
          0.03004128485918045,
          0.048813000321388245,
          0.0754123404622078,
          0.110530786216259,
          0.1537323147058487,
          0.20312635600566864,
          0.2553626596927643,
          0.3060421645641327,
          0.35049957036972046,
          0.3847397267818451,
          0.40624961256980896,
          0.4144192934036255,
          0.4104784429073334,
          0.39700010418891907,
          0.3771737515926361,
          0.35407817363739014,
          0.33013179898262024,
          0.30680420994758606,
          0.28458741307258606,
          0.26317572593688965,
          0.24178634583950043,
          0.21954336762428284,
          0.1958392858505249,
          0.1705886423587799,
          0.14430810511112213,
          0.11801325529813766,
          0.09297218918800354,
          0.07039158046245575,
          0.051149386912584305,
          0.03566664829850197,
          0.023899482563138008,
          0.015442957170307636,
          0.009686012752354145,
          0.005973164923489094,
          0.0037170867435634136,
          0.0024634376168251038,
          0.0019107216503471136
         ]
        },
        {
         "name": "Predicted",
         "type": "scatter",
         "y": [
          0.0058879004791378975,
          0.014571883715689182,
          0.008952013216912746,
          0.03864872083067894,
          0.04395659640431404,
          0.055830761790275574,
          0.09306773543357849,
          0.12796403467655182,
          0.16698813438415527,
          0.2313046157360077,
          0.28458648920059204,
          0.3181607127189636,
          0.37463417649269104,
          0.40060675144195557,
          0.4279414415359497,
          0.44532105326652527,
          0.4221941828727722,
          0.41984713077545166,
          0.3808615207672119,
          0.3517201840877533,
          0.31388628482818604,
          0.2844603955745697,
          0.2563628554344177,
          0.22318196296691895,
          0.19955380260944366,
          0.17104235291481018,
          0.14811883866786957,
          0.1085188090801239,
          0.10802910476922989,
          0.10235079377889633,
          0.09066683799028397,
          0.06109374761581421,
          0.0844338908791542,
          0.07346075773239136,
          0.07343988120555878,
          0.10335297882556915,
          0.07189422100782394,
          0.08299808949232101,
          0.10402724891901016,
          0.08583964407444
         ]
        }
       ],
       "layout": {
        "template": {
         "data": {
          "bar": [
           {
            "error_x": {
             "color": "#2a3f5f"
            },
            "error_y": {
             "color": "#2a3f5f"
            },
            "marker": {
             "line": {
              "color": "#E5ECF6",
              "width": 0.5
             },
             "pattern": {
              "fillmode": "overlay",
              "size": 10,
              "solidity": 0.2
             }
            },
            "type": "bar"
           }
          ],
          "barpolar": [
           {
            "marker": {
             "line": {
              "color": "#E5ECF6",
              "width": 0.5
             },
             "pattern": {
              "fillmode": "overlay",
              "size": 10,
              "solidity": 0.2
             }
            },
            "type": "barpolar"
           }
          ],
          "carpet": [
           {
            "aaxis": {
             "endlinecolor": "#2a3f5f",
             "gridcolor": "white",
             "linecolor": "white",
             "minorgridcolor": "white",
             "startlinecolor": "#2a3f5f"
            },
            "baxis": {
             "endlinecolor": "#2a3f5f",
             "gridcolor": "white",
             "linecolor": "white",
             "minorgridcolor": "white",
             "startlinecolor": "#2a3f5f"
            },
            "type": "carpet"
           }
          ],
          "choropleth": [
           {
            "colorbar": {
             "outlinewidth": 0,
             "ticks": ""
            },
            "type": "choropleth"
           }
          ],
          "contour": [
           {
            "colorbar": {
             "outlinewidth": 0,
             "ticks": ""
            },
            "colorscale": [
             [
              0,
              "#0d0887"
             ],
             [
              0.1111111111111111,
              "#46039f"
             ],
             [
              0.2222222222222222,
              "#7201a8"
             ],
             [
              0.3333333333333333,
              "#9c179e"
             ],
             [
              0.4444444444444444,
              "#bd3786"
             ],
             [
              0.5555555555555556,
              "#d8576b"
             ],
             [
              0.6666666666666666,
              "#ed7953"
             ],
             [
              0.7777777777777778,
              "#fb9f3a"
             ],
             [
              0.8888888888888888,
              "#fdca26"
             ],
             [
              1,
              "#f0f921"
             ]
            ],
            "type": "contour"
           }
          ],
          "contourcarpet": [
           {
            "colorbar": {
             "outlinewidth": 0,
             "ticks": ""
            },
            "type": "contourcarpet"
           }
          ],
          "heatmap": [
           {
            "colorbar": {
             "outlinewidth": 0,
             "ticks": ""
            },
            "colorscale": [
             [
              0,
              "#0d0887"
             ],
             [
              0.1111111111111111,
              "#46039f"
             ],
             [
              0.2222222222222222,
              "#7201a8"
             ],
             [
              0.3333333333333333,
              "#9c179e"
             ],
             [
              0.4444444444444444,
              "#bd3786"
             ],
             [
              0.5555555555555556,
              "#d8576b"
             ],
             [
              0.6666666666666666,
              "#ed7953"
             ],
             [
              0.7777777777777778,
              "#fb9f3a"
             ],
             [
              0.8888888888888888,
              "#fdca26"
             ],
             [
              1,
              "#f0f921"
             ]
            ],
            "type": "heatmap"
           }
          ],
          "heatmapgl": [
           {
            "colorbar": {
             "outlinewidth": 0,
             "ticks": ""
            },
            "colorscale": [
             [
              0,
              "#0d0887"
             ],
             [
              0.1111111111111111,
              "#46039f"
             ],
             [
              0.2222222222222222,
              "#7201a8"
             ],
             [
              0.3333333333333333,
              "#9c179e"
             ],
             [
              0.4444444444444444,
              "#bd3786"
             ],
             [
              0.5555555555555556,
              "#d8576b"
             ],
             [
              0.6666666666666666,
              "#ed7953"
             ],
             [
              0.7777777777777778,
              "#fb9f3a"
             ],
             [
              0.8888888888888888,
              "#fdca26"
             ],
             [
              1,
              "#f0f921"
             ]
            ],
            "type": "heatmapgl"
           }
          ],
          "histogram": [
           {
            "marker": {
             "pattern": {
              "fillmode": "overlay",
              "size": 10,
              "solidity": 0.2
             }
            },
            "type": "histogram"
           }
          ],
          "histogram2d": [
           {
            "colorbar": {
             "outlinewidth": 0,
             "ticks": ""
            },
            "colorscale": [
             [
              0,
              "#0d0887"
             ],
             [
              0.1111111111111111,
              "#46039f"
             ],
             [
              0.2222222222222222,
              "#7201a8"
             ],
             [
              0.3333333333333333,
              "#9c179e"
             ],
             [
              0.4444444444444444,
              "#bd3786"
             ],
             [
              0.5555555555555556,
              "#d8576b"
             ],
             [
              0.6666666666666666,
              "#ed7953"
             ],
             [
              0.7777777777777778,
              "#fb9f3a"
             ],
             [
              0.8888888888888888,
              "#fdca26"
             ],
             [
              1,
              "#f0f921"
             ]
            ],
            "type": "histogram2d"
           }
          ],
          "histogram2dcontour": [
           {
            "colorbar": {
             "outlinewidth": 0,
             "ticks": ""
            },
            "colorscale": [
             [
              0,
              "#0d0887"
             ],
             [
              0.1111111111111111,
              "#46039f"
             ],
             [
              0.2222222222222222,
              "#7201a8"
             ],
             [
              0.3333333333333333,
              "#9c179e"
             ],
             [
              0.4444444444444444,
              "#bd3786"
             ],
             [
              0.5555555555555556,
              "#d8576b"
             ],
             [
              0.6666666666666666,
              "#ed7953"
             ],
             [
              0.7777777777777778,
              "#fb9f3a"
             ],
             [
              0.8888888888888888,
              "#fdca26"
             ],
             [
              1,
              "#f0f921"
             ]
            ],
            "type": "histogram2dcontour"
           }
          ],
          "mesh3d": [
           {
            "colorbar": {
             "outlinewidth": 0,
             "ticks": ""
            },
            "type": "mesh3d"
           }
          ],
          "parcoords": [
           {
            "line": {
             "colorbar": {
              "outlinewidth": 0,
              "ticks": ""
             }
            },
            "type": "parcoords"
           }
          ],
          "pie": [
           {
            "automargin": true,
            "type": "pie"
           }
          ],
          "scatter": [
           {
            "fillpattern": {
             "fillmode": "overlay",
             "size": 10,
             "solidity": 0.2
            },
            "type": "scatter"
           }
          ],
          "scatter3d": [
           {
            "line": {
             "colorbar": {
              "outlinewidth": 0,
              "ticks": ""
             }
            },
            "marker": {
             "colorbar": {
              "outlinewidth": 0,
              "ticks": ""
             }
            },
            "type": "scatter3d"
           }
          ],
          "scattercarpet": [
           {
            "marker": {
             "colorbar": {
              "outlinewidth": 0,
              "ticks": ""
             }
            },
            "type": "scattercarpet"
           }
          ],
          "scattergeo": [
           {
            "marker": {
             "colorbar": {
              "outlinewidth": 0,
              "ticks": ""
             }
            },
            "type": "scattergeo"
           }
          ],
          "scattergl": [
           {
            "marker": {
             "colorbar": {
              "outlinewidth": 0,
              "ticks": ""
             }
            },
            "type": "scattergl"
           }
          ],
          "scattermapbox": [
           {
            "marker": {
             "colorbar": {
              "outlinewidth": 0,
              "ticks": ""
             }
            },
            "type": "scattermapbox"
           }
          ],
          "scatterpolar": [
           {
            "marker": {
             "colorbar": {
              "outlinewidth": 0,
              "ticks": ""
             }
            },
            "type": "scatterpolar"
           }
          ],
          "scatterpolargl": [
           {
            "marker": {
             "colorbar": {
              "outlinewidth": 0,
              "ticks": ""
             }
            },
            "type": "scatterpolargl"
           }
          ],
          "scatterternary": [
           {
            "marker": {
             "colorbar": {
              "outlinewidth": 0,
              "ticks": ""
             }
            },
            "type": "scatterternary"
           }
          ],
          "surface": [
           {
            "colorbar": {
             "outlinewidth": 0,
             "ticks": ""
            },
            "colorscale": [
             [
              0,
              "#0d0887"
             ],
             [
              0.1111111111111111,
              "#46039f"
             ],
             [
              0.2222222222222222,
              "#7201a8"
             ],
             [
              0.3333333333333333,
              "#9c179e"
             ],
             [
              0.4444444444444444,
              "#bd3786"
             ],
             [
              0.5555555555555556,
              "#d8576b"
             ],
             [
              0.6666666666666666,
              "#ed7953"
             ],
             [
              0.7777777777777778,
              "#fb9f3a"
             ],
             [
              0.8888888888888888,
              "#fdca26"
             ],
             [
              1,
              "#f0f921"
             ]
            ],
            "type": "surface"
           }
          ],
          "table": [
           {
            "cells": {
             "fill": {
              "color": "#EBF0F8"
             },
             "line": {
              "color": "white"
             }
            },
            "header": {
             "fill": {
              "color": "#C8D4E3"
             },
             "line": {
              "color": "white"
             }
            },
            "type": "table"
           }
          ]
         },
         "layout": {
          "annotationdefaults": {
           "arrowcolor": "#2a3f5f",
           "arrowhead": 0,
           "arrowwidth": 1
          },
          "autotypenumbers": "strict",
          "coloraxis": {
           "colorbar": {
            "outlinewidth": 0,
            "ticks": ""
           }
          },
          "colorscale": {
           "diverging": [
            [
             0,
             "#8e0152"
            ],
            [
             0.1,
             "#c51b7d"
            ],
            [
             0.2,
             "#de77ae"
            ],
            [
             0.3,
             "#f1b6da"
            ],
            [
             0.4,
             "#fde0ef"
            ],
            [
             0.5,
             "#f7f7f7"
            ],
            [
             0.6,
             "#e6f5d0"
            ],
            [
             0.7,
             "#b8e186"
            ],
            [
             0.8,
             "#7fbc41"
            ],
            [
             0.9,
             "#4d9221"
            ],
            [
             1,
             "#276419"
            ]
           ],
           "sequential": [
            [
             0,
             "#0d0887"
            ],
            [
             0.1111111111111111,
             "#46039f"
            ],
            [
             0.2222222222222222,
             "#7201a8"
            ],
            [
             0.3333333333333333,
             "#9c179e"
            ],
            [
             0.4444444444444444,
             "#bd3786"
            ],
            [
             0.5555555555555556,
             "#d8576b"
            ],
            [
             0.6666666666666666,
             "#ed7953"
            ],
            [
             0.7777777777777778,
             "#fb9f3a"
            ],
            [
             0.8888888888888888,
             "#fdca26"
            ],
            [
             1,
             "#f0f921"
            ]
           ],
           "sequentialminus": [
            [
             0,
             "#0d0887"
            ],
            [
             0.1111111111111111,
             "#46039f"
            ],
            [
             0.2222222222222222,
             "#7201a8"
            ],
            [
             0.3333333333333333,
             "#9c179e"
            ],
            [
             0.4444444444444444,
             "#bd3786"
            ],
            [
             0.5555555555555556,
             "#d8576b"
            ],
            [
             0.6666666666666666,
             "#ed7953"
            ],
            [
             0.7777777777777778,
             "#fb9f3a"
            ],
            [
             0.8888888888888888,
             "#fdca26"
            ],
            [
             1,
             "#f0f921"
            ]
           ]
          },
          "colorway": [
           "#636efa",
           "#EF553B",
           "#00cc96",
           "#ab63fa",
           "#FFA15A",
           "#19d3f3",
           "#FF6692",
           "#B6E880",
           "#FF97FF",
           "#FECB52"
          ],
          "font": {
           "color": "#2a3f5f"
          },
          "geo": {
           "bgcolor": "white",
           "lakecolor": "white",
           "landcolor": "#E5ECF6",
           "showlakes": true,
           "showland": true,
           "subunitcolor": "white"
          },
          "hoverlabel": {
           "align": "left"
          },
          "hovermode": "closest",
          "mapbox": {
           "style": "light"
          },
          "paper_bgcolor": "white",
          "plot_bgcolor": "#E5ECF6",
          "polar": {
           "angularaxis": {
            "gridcolor": "white",
            "linecolor": "white",
            "ticks": ""
           },
           "bgcolor": "#E5ECF6",
           "radialaxis": {
            "gridcolor": "white",
            "linecolor": "white",
            "ticks": ""
           }
          },
          "scene": {
           "xaxis": {
            "backgroundcolor": "#E5ECF6",
            "gridcolor": "white",
            "gridwidth": 2,
            "linecolor": "white",
            "showbackground": true,
            "ticks": "",
            "zerolinecolor": "white"
           },
           "yaxis": {
            "backgroundcolor": "#E5ECF6",
            "gridcolor": "white",
            "gridwidth": 2,
            "linecolor": "white",
            "showbackground": true,
            "ticks": "",
            "zerolinecolor": "white"
           },
           "zaxis": {
            "backgroundcolor": "#E5ECF6",
            "gridcolor": "white",
            "gridwidth": 2,
            "linecolor": "white",
            "showbackground": true,
            "ticks": "",
            "zerolinecolor": "white"
           }
          },
          "shapedefaults": {
           "line": {
            "color": "#2a3f5f"
           }
          },
          "ternary": {
           "aaxis": {
            "gridcolor": "white",
            "linecolor": "white",
            "ticks": ""
           },
           "baxis": {
            "gridcolor": "white",
            "linecolor": "white",
            "ticks": ""
           },
           "bgcolor": "#E5ECF6",
           "caxis": {
            "gridcolor": "white",
            "linecolor": "white",
            "ticks": ""
           }
          },
          "title": {
           "x": 0.05
          },
          "xaxis": {
           "automargin": true,
           "gridcolor": "white",
           "linecolor": "white",
           "ticks": "",
           "title": {
            "standoff": 15
           },
           "zerolinecolor": "white",
           "zerolinewidth": 2
          },
          "yaxis": {
           "automargin": true,
           "gridcolor": "white",
           "linecolor": "white",
           "ticks": "",
           "title": {
            "standoff": 15
           },
           "zerolinecolor": "white",
           "zerolinewidth": 2
          }
         }
        },
        "title": {
         "text": "Actual and Predicted Wheel Speeds, Recording 2, Trial 1"
        },
        "xaxis": {
         "title": {
          "text": "Time"
         }
        },
        "yaxis": {
         "title": {
          "text": "Value"
         }
        }
       }
      }
     },
     "metadata": {},
     "output_type": "display_data"
    },
    {
     "name": "stdout",
     "output_type": "stream",
     "text": [
      "Testing Evaluation, Recording 2, Loss 0.01827158033847809\n"
     ]
    }
   ],
   "source": [
    "for recording in range(PLOT_RECORDINGS):\n",
    "    loss_item = evaluate_recording(recording, X_test[recording], Y_test[recording], neural_network_model, loss_fn, plot_num=2)\n",
    "    print(f'Testing Evaluation, Recording {recording}, Loss {loss_item}')"
   ]
  }
 ],
 "metadata": {
  "kernelspec": {
   "display_name": "base",
   "language": "python",
   "name": "python3"
  },
  "language_info": {
   "codemirror_mode": {
    "name": "ipython",
    "version": 3
   },
   "file_extension": ".py",
   "mimetype": "text/x-python",
   "name": "python",
   "nbconvert_exporter": "python",
   "pygments_lexer": "ipython3",
   "version": "3.10.9"
  }
 },
 "nbformat": 4,
 "nbformat_minor": 2
}
